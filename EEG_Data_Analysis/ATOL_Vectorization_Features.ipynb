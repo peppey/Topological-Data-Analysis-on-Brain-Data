{
 "cells": [
  {
   "cell_type": "code",
   "execution_count": 87,
   "id": "316cdf4f-956c-4550-807c-ec0f392a4676",
   "metadata": {},
   "outputs": [
    {
     "data": {
      "text/plain": [
       "' This file vectorizes persistence diagrams (ATOL)'"
      ]
     },
     "execution_count": 87,
     "metadata": {},
     "output_type": "execute_result"
    }
   ],
   "source": [
    "\"\"\" This file vectorizes persistence diagrams (ATOL)\"\"\""
   ]
  },
  {
   "cell_type": "code",
   "execution_count": 2,
   "id": "8d0019db-93cd-426a-9d0a-35871e57457a",
   "metadata": {},
   "outputs": [],
   "source": [
    "import numpy as np\n",
    "import pyedflib\n",
    "import statistics\n",
    "import plotly.graph_objects as go\n",
    "import pandas as pd\n",
    "from gtda.time_series import SingleTakensEmbedding\n",
    "from gtda.homology import VietorisRipsPersistence\n",
    "from gtda.diagrams import PersistenceEntropy, Amplitude, NumberOfPoints, ComplexPolynomial, PersistenceLandscape, HeatKernel, Silhouette, BettiCurve, PairwiseDistance, ForgetDimension\n",
    "from gtda.plotting import plot_point_cloud, plot_heatmap, plot_diagram\n",
    "import matplotlib.pyplot as plt\n",
    "from mpl_toolkits.mplot3d import Axes3D\n",
    "from sklearn.ensemble import RandomForestClassifier\n",
    "from sklearn.decomposition import PCA, FastICA\n",
    "from gtda.pipeline import Pipeline \n",
    "from sklearn.cluster import KMeans\n",
    "from gudhi.representations.vector_methods import Atol"
   ]
  },
  {
   "cell_type": "code",
   "execution_count": 3,
   "id": "2edc700a-6aa2-496c-bc1c-24cbf396294f",
   "metadata": {},
   "outputs": [],
   "source": [
    "label_list = [1, 3, 5, 7]"
   ]
  },
  {
   "cell_type": "code",
   "execution_count": 7,
   "id": "1869db59-4091-4074-8c94-15c64649d445",
   "metadata": {},
   "outputs": [],
   "source": [
    "# Load persistence diagrams\n",
    "\n",
    "train_persistence_diagrams = {} # dictionary with labels as keys, persistence diagrams of the respective classes as values\n",
    "test_persistence_diagrams = {} # dictionary with labels as keys, persistence diagrams of the respective classes as values\n",
    "\n",
    "\n",
    "for label in label_list:\n",
    "    train_persistence_diagrams[label] = np.load(\"Embeddings_and_Persistence_Diagrams/Train_PD\"+str(label)+\".npy\", allow_pickle=True)\n",
    "    test_persistence_diagrams[label] = np.load(\"Embeddings_and_Persistence_Diagrams/Test_PD\"+str(label)+\".npy\", allow_pickle=True)\n"
   ]
  },
  {
   "cell_type": "code",
   "execution_count": 8,
   "id": "25d1d151-85ec-48a3-ad2f-e306fe68b327",
   "metadata": {},
   "outputs": [],
   "source": [
    "# Choose dimensionality of the vectorization\n",
    "\n",
    "vector_dim = 4  # Later in the classification, a dimension of works already works approx. optimally"
   ]
  },
  {
   "cell_type": "code",
   "execution_count": 10,
   "id": "d7fbadbb-2f9b-4e09-b2b0-803cbb029966",
   "metadata": {},
   "outputs": [],
   "source": [
    "# Concatenate all training data\n",
    "all_train_persistence_diagrams = []\n",
    "\n",
    "for label in label_list:\n",
    "    all_train_persistence_diagrams.extend(train_persistence_diagrams[label])\n",
    "    \n",
    "# Train Atol vectorizer with all training data\n",
    "atol_vectoriser = Atol(quantiser=KMeans(n_clusters=vector_dim, random_state=202006))\n",
    "atol_vectoriser.fit(X=all_train_persistence_diagrams).centers\n",
    "\n",
    "\n",
    "# Apply trained model to the entire data\n",
    "\n",
    "# Train Data\n",
    "train_atol_vectorizations = {}\n",
    "\n",
    "for label in label_list:\n",
    "    train_atol_vectorizations[label] = []\n",
    "    for diagram in train_persistence_diagrams[label]:\n",
    "        vectorization = atol_vectoriser(diagram)\n",
    "        train_atol_vectorizations[label].append(vectorization)\n",
    "\n",
    "# Test data\n",
    "test_atol_vectorizations = {}\n",
    "\n",
    "for label in label_list:\n",
    "    test_atol_vectorizations[label] = []\n",
    "    for diagram in test_persistence_diagrams[label]:\n",
    "        vectorization = atol_vectoriser(diagram)\n",
    "        test_atol_vectorizations[label].append(vectorization)\n"
   ]
  },
  {
   "cell_type": "code",
   "execution_count": 23,
   "id": "2e02f243-d1ff-4aa0-bd59-5d8a619de4e1",
   "metadata": {},
   "outputs": [],
   "source": [
    "def create_feature_df(atol_vectorization, vector_dim, num_diagrams, label):\n",
    "    \"\"\"\n",
    "    Create DataFrame for each label from features\n",
    "\n",
    "    Parameters:\n",
    "    - atol_vectorization (list): vectorization\n",
    "    - vector_dim (int): dimension of the vectorization (e.g. 5)\n",
    "    - removed_indices (list): list of diagrams that were removed from the list of shortened diagrams\n",
    "    - num_all_diagrams (int): How many diagrams are there in total?\n",
    "    - label (int): Label for which we want to create a dataframe. 1, 3, 5 or 7.\n",
    "\n",
    "    Returns:\n",
    "    - Feature DataFrame (DataFrame)\n",
    "    \"\"\"\n",
    "    \n",
    "    feature_df = pd.DataFrame(index=np.arange(0, num_diagrams))\n",
    "\n",
    "    \n",
    "    for dim in range(vector_dim):\n",
    "        feature_df[\"Vectorization_Dim_\"+str(dim)] = [arr[dim] for arr in atol_vectorization]\n",
    "    \n",
    "    # Label\n",
    "    feature_df[\"Label\"] = label\n",
    "\n",
    "    return feature_df"
   ]
  },
  {
   "cell_type": "code",
   "execution_count": 26,
   "id": "2b9af6d7-c359-4710-aa0c-f5e48c4e3fc2",
   "metadata": {},
   "outputs": [],
   "source": [
    "# Create train dataframes\n",
    "train_dataframes = {}\n",
    "\n",
    "for label in label_list:\n",
    "    train_dataframes[label] = create_feature_df(train_atol_vectorizations[label], vector_dim, len(train_persistence_diagrams[label]), label)\n",
    "\n",
    "# Create test dataframes\n",
    "test_dataframes = {}\n",
    "\n",
    "for label in label_list:\n",
    "    test_dataframes[label] = create_feature_df(test_atol_vectorizations[label], vector_dim, len(test_persistence_diagrams[label]), label)\n"
   ]
  },
  {
   "cell_type": "code",
   "execution_count": 94,
   "id": "2907d3b6-2b18-4e06-b240-954f3a6233f2",
   "metadata": {},
   "outputs": [],
   "source": [
    "# Concatenate and save features of training persistence diagrams\n",
    "train_feature_df = pd.concat([train_dataframes[1], train_dataframes[3], train_dataframes[5], train_dataframe[7], ignore_index=True)\n",
    "train_feature_df.to_csv(\"Features/Train_Vectorization_Features.csv\")\n",
    "\n",
    "# Concatenate and save features of training persistence diagrams\n",
    "test_feature_df = pd.concat([test_dataframes[1], test_dataframes[3], test_dataframes[5], test_dataframes[7], ignore_index=True)\n",
    "test_feature_df.to_csv(\"Features/Test_Vectorization_Features.csv\")"
   ]
  }
 ],
 "metadata": {
  "kernelspec": {
   "display_name": "Python 3 (ipykernel)",
   "language": "python",
   "name": "python3"
  },
  "language_info": {
   "codemirror_mode": {
    "name": "ipython",
    "version": 3
   },
   "file_extension": ".py",
   "mimetype": "text/x-python",
   "name": "python",
   "nbconvert_exporter": "python",
   "pygments_lexer": "ipython3",
   "version": "3.10.12"
  }
 },
 "nbformat": 4,
 "nbformat_minor": 5
}
