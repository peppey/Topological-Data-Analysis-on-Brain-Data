{
 "cells": [
  {
   "cell_type": "code",
   "execution_count": 87,
   "id": "316cdf4f-956c-4550-807c-ec0f392a4676",
   "metadata": {},
   "outputs": [
    {
     "data": {
      "text/plain": [
       "' This file vectorizes persistence diagrams (ATOL)'"
      ]
     },
     "execution_count": 87,
     "metadata": {},
     "output_type": "execute_result"
    }
   ],
   "source": [
    "\"\"\" This file vectorizes persistence diagrams (ATOL)\"\"\""
   ]
  },
  {
   "cell_type": "code",
   "execution_count": 88,
   "id": "8d0019db-93cd-426a-9d0a-35871e57457a",
   "metadata": {},
   "outputs": [],
   "source": [
    "import numpy as np\n",
    "import pyedflib\n",
    "import statistics\n",
    "import plotly.graph_objects as go\n",
    "import pandas as pd\n",
    "from gtda.time_series import SingleTakensEmbedding\n",
    "from gtda.homology import VietorisRipsPersistence\n",
    "from gtda.diagrams import PersistenceEntropy, Amplitude, NumberOfPoints, ComplexPolynomial, PersistenceLandscape, HeatKernel, Silhouette, BettiCurve, PairwiseDistance, ForgetDimension\n",
    "from gtda.plotting import plot_point_cloud, plot_heatmap, plot_diagram\n",
    "import matplotlib.pyplot as plt\n",
    "from mpl_toolkits.mplot3d import Axes3D\n",
    "from sklearn.ensemble import RandomForestClassifier\n",
    "from sklearn.decomposition import PCA, FastICA\n",
    "from gtda.pipeline import Pipeline \n",
    "from sklearn.cluster import KMeans\n",
    "from gudhi.representations.vector_methods import Atol"
   ]
  },
  {
   "cell_type": "code",
   "execution_count": 89,
   "id": "1869db59-4091-4074-8c94-15c64649d445",
   "metadata": {},
   "outputs": [],
   "source": [
    "# Load persistence diagrams\n",
    "train_persistence_diagrams_label_1 = np.load(\"Embeddings_and_Persistence_Diagrams/Train_PD1.npy\", allow_pickle=True)\n",
    "test_persistence_diagrams_label_1 = np.load(\"Embeddings_and_Persistence_Diagrams/Test_PD1.npy\", allow_pickle=True)\n",
    "\n",
    "train_persistence_diagrams_label_3 = np.load(\"Embeddings_and_Persistence_Diagrams/Train_PD3.npy\", allow_pickle=True)\n",
    "test_persistence_diagrams_label_3 = np.load(\"Embeddings_and_Persistence_Diagrams/Test_PD3.npy\", allow_pickle=True)\n",
    "\n",
    "train_persistence_diagrams_label_5 = np.load(\"Embeddings_and_Persistence_Diagrams/Train_PD5.npy\", allow_pickle=True)\n",
    "test_persistence_diagrams_label_5 = np.load(\"Embeddings_and_Persistence_Diagrams/Test_PD5.npy\", allow_pickle=True)\n",
    "\n",
    "train_persistence_diagrams_label_7 = np.load(\"Embeddings_and_Persistence_Diagrams/Train_PD7.npy\", allow_pickle=True)\n",
    "test_persistence_diagrams_label_7 = np.load(\"Embeddings_and_Persistence_Diagrams/Test_PD7.npy\", allow_pickle=True)\n"
   ]
  },
  {
   "cell_type": "code",
   "execution_count": 90,
   "id": "25d1d151-85ec-48a3-ad2f-e306fe68b327",
   "metadata": {},
   "outputs": [],
   "source": [
    "# Choose dimensionality of the vectorization\n",
    "\n",
    "vector_dim = 4  # Later in the classification, a dimension of works already works approx. optimally"
   ]
  },
  {
   "cell_type": "code",
   "execution_count": 91,
   "id": "d7fbadbb-2f9b-4e09-b2b0-803cbb029966",
   "metadata": {},
   "outputs": [],
   "source": [
    "all_persistence_diagrams = [] # all training data\n",
    "\n",
    "all_persistence_diagrams.extend(train_persistence_diagrams_label_1)\n",
    "all_persistence_diagrams.extend(train_persistence_diagrams_label_3)\n",
    "all_persistence_diagrams.extend(train_persistence_diagrams_label_5)\n",
    "all_persistence_diagrams.extend(train_persistence_diagrams_label_7)\n",
    "\n",
    "\n",
    "atol_vectoriser = Atol(quantiser=KMeans(n_clusters=vector_dim, random_state=202006))\n",
    "atol_vectoriser.fit(X=all_persistence_diagrams).centers\n",
    "\n",
    "\n",
    "# Apply trained model to the entire data\n",
    "# Label 1\n",
    "train_atol_vectorization_label_1 = []\n",
    "for diagram in train_persistence_diagrams_label_1:\n",
    "    vectorization = atol_vectoriser(diagram)\n",
    "    train_atol_vectorization_label_1.append(vectorization)\n",
    "\n",
    "test_atol_vectorization_label_1 = []\n",
    "for diagram in test_persistence_diagrams_label_1:\n",
    "    vectorization = atol_vectoriser(diagram)\n",
    "    test_atol_vectorization_label_1.append(vectorization)\n",
    "\n",
    "# Label 3\n",
    "train_atol_vectorization_label_3 = []\n",
    "for diagram in train_persistence_diagrams_label_3:\n",
    "    vectorization = atol_vectoriser(diagram)\n",
    "    train_atol_vectorization_label_3.append(vectorization)\n",
    "\n",
    "test_atol_vectorization_label_3 = []\n",
    "for diagram in test_persistence_diagrams_label_3:\n",
    "    vectorization = atol_vectoriser(diagram)\n",
    "    test_atol_vectorization_label_3.append(vectorization)\n",
    "\n",
    "# Label 5\n",
    "train_atol_vectorization_label_5 = []\n",
    "for diagram in train_persistence_diagrams_label_5:\n",
    "    vectorization = atol_vectoriser(diagram)\n",
    "    train_atol_vectorization_label_5.append(vectorization)\n",
    "\n",
    "test_atol_vectorization_label_5 = []\n",
    "for diagram in test_persistence_diagrams_label_5:\n",
    "    vectorization = atol_vectoriser(diagram)\n",
    "    test_atol_vectorization_label_5.append(vectorization)\n",
    "\n",
    "\n",
    "# Label 7\n",
    "train_atol_vectorization_label_7 = []\n",
    "for diagram in train_persistence_diagrams_label_7:\n",
    "    vectorization = atol_vectoriser(diagram)\n",
    "    train_atol_vectorization_label_7.append(vectorization)\n",
    "\n",
    "test_atol_vectorization_label_7 = []\n",
    "for diagram in test_persistence_diagrams_label_7:\n",
    "    vectorization = atol_vectoriser(diagram)\n",
    "    test_atol_vectorization_label_7.append(vectorization)\n"
   ]
  },
  {
   "cell_type": "code",
   "execution_count": 92,
   "id": "2e02f243-d1ff-4aa0-bd59-5d8a619de4e1",
   "metadata": {},
   "outputs": [],
   "source": [
    "def create_feature_df(atol_vectorization, vector_dim, removed_indices, num_diagrams, label):\n",
    "    \"\"\"\n",
    "    Create DataFrame for each label from features\n",
    "\n",
    "    Parameters:\n",
    "    - atol_vectorization (list): vectorization\n",
    "    - vector_dim (int): dimension of the vectorization (e.g. 5)\n",
    "    - removed_indices (list): list of diagrams that were removed from the list of shortened diagrams\n",
    "    - num_all_diagrams (int): How many diagrams are there in total?\n",
    "    - label (int): Label for which we want to create a dataframe. 1, 3, 5 or 7.\n",
    "\n",
    "    Returns:\n",
    "    - Feature DataFrame (DataFrame)\n",
    "    \"\"\"\n",
    "    \n",
    "    feature_df = pd.DataFrame(index=np.arange(0, num_diagrams))\n",
    "\n",
    "    # Preliminary replace removed persistence diagrams with 0s TODO\n",
    "    for idx in removed_indices:\n",
    "        np.insert(atol_vectorization, idx, np.zeros(vector_dim), axis = 0)\n",
    "    \n",
    "    for dim in range(vector_dim):\n",
    "        feature_df[\"Vectorization_Dim_\"+str(dim)] = [arr[dim] for arr in atol_vectorization]\n",
    "    \n",
    "    # Label\n",
    "    feature_df[\"Label\"] = label\n",
    "\n",
    "    return feature_df"
   ]
  },
  {
   "cell_type": "code",
   "execution_count": 93,
   "id": "2b9af6d7-c359-4710-aa0c-f5e48c4e3fc2",
   "metadata": {},
   "outputs": [],
   "source": [
    "# Label 1\n",
    "train_df_label_1 = create_feature_df(train_atol_vectorization_label_1, vector_dim, removed_train_indices_label_1, len(train_persistence_diagrams_label_1), 1)\n",
    "test_df_label_1 = create_feature_df(test_atol_vectorization_label_1, vector_dim,removed_test_indices_label_1, len(test_persistence_diagrams_label_1), 1)\n",
    "\n",
    "# Label 3\n",
    "train_df_label_3 = create_feature_df(train_atol_vectorization_label_3, vector_dim, removed_train_indices_label_3, len(train_persistence_diagrams_label_3), 3)\n",
    "test_df_label_3 = create_feature_df(test_atol_vectorization_label_3, vector_dim,removed_test_indices_label_3, len(test_persistence_diagrams_label_3), 3)\n",
    "\n",
    "# Label 5\n",
    "train_df_label_5 = create_feature_df(train_atol_vectorization_label_5, vector_dim, removed_train_indices_label_5, len(train_persistence_diagrams_label_5), 5)\n",
    "test_df_label_5 = create_feature_df(test_atol_vectorization_label_5, vector_dim, removed_test_indices_label_5, len(test_persistence_diagrams_label_5), 5)\n",
    "\n",
    "# Label 7\n",
    "train_df_label_7 = create_feature_df(train_atol_vectorization_label_7, vector_dim, removed_train_indices_label_7, len(train_persistence_diagrams_label_7), 7)\n",
    "test_df_label_7 = create_feature_df(test_atol_vectorization_label_7, vector_dim, removed_test_indices_label_7, len(test_persistence_diagrams_label_7), 7)\n"
   ]
  },
  {
   "cell_type": "code",
   "execution_count": 94,
   "id": "2907d3b6-2b18-4e06-b240-954f3a6233f2",
   "metadata": {},
   "outputs": [],
   "source": [
    "# Concatenate and save features of training persistence diagrams\n",
    "train_feature_df = pd.concat([train_df_label_1, train_df_label_3, train_df_label_5, train_df_label_7], ignore_index=True)\n",
    "train_feature_df.to_csv(\"Features/Train_Vectorization_Features.csv\")\n",
    "\n",
    "# Concatenate and save features of training persistence diagrams\n",
    "test_feature_df = pd.concat([test_df_label_1, test_df_label_3, test_df_label_5, test_df_label_7], ignore_index=True)\n",
    "test_feature_df.to_csv(\"Features/Test_Vectorization_Features.csv\")"
   ]
  }
 ],
 "metadata": {
  "kernelspec": {
   "display_name": "Python 3 (ipykernel)",
   "language": "python",
   "name": "python3"
  },
  "language_info": {
   "codemirror_mode": {
    "name": "ipython",
    "version": 3
   },
   "file_extension": ".py",
   "mimetype": "text/x-python",
   "name": "python",
   "nbconvert_exporter": "python",
   "pygments_lexer": "ipython3",
   "version": "3.10.12"
  }
 },
 "nbformat": 4,
 "nbformat_minor": 5
}
