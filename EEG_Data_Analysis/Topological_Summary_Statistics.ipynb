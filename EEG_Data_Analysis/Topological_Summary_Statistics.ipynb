{
 "cells": [
  {
   "cell_type": "code",
   "execution_count": 56,
   "id": "0a81b9c9-a2e9-46c2-8ae8-4a5f02dd0571",
   "metadata": {},
   "outputs": [],
   "source": [
    "import numpy as np\n",
    "import pyedflib\n",
    "import statistics\n",
    "import plotly.graph_objects as go\n",
    "import pandas as pd\n",
    "from gtda.time_series import SingleTakensEmbedding\n",
    "from gtda.homology import VietorisRipsPersistence\n",
    "from gtda.diagrams import PersistenceEntropy, Amplitude, NumberOfPoints, ComplexPolynomial, PersistenceLandscape, HeatKernel, Silhouette, BettiCurve, PairwiseDistance, ForgetDimension\n",
    "from gtda.plotting import plot_point_cloud, plot_heatmap, plot_diagram\n",
    "import matplotlib.pyplot as plt\n",
    "from mpl_toolkits.mplot3d import Axes3D\n",
    "from sklearn.ensemble import RandomForestClassifier\n",
    "from sklearn.decomposition import PCA, FastICA\n",
    "from gtda.pipeline import Pipeline "
   ]
  },
  {
   "cell_type": "code",
   "execution_count": 57,
   "id": "7c8e5867-60e2-4525-a9c4-381f9abdecf9",
   "metadata": {},
   "outputs": [],
   "source": [
    "persistence_diagrams1 = np.load(\"PD1.npy\", allow_pickle=True)\n",
    "persistence_diagrams3 = np.load(\"PD3.npy\", allow_pickle=True)\n",
    "persistence_diagrams5 = np.load(\"PD5.npy\", allow_pickle=True)"
   ]
  },
  {
   "cell_type": "markdown",
   "id": "2bd32ce7-5e67-46a6-afb6-edc7a7d4190a",
   "metadata": {},
   "source": [
    "# Summary Statistics"
   ]
  },
  {
   "cell_type": "code",
   "execution_count": 58,
   "id": "b92bb533-d9f1-4db0-bdbc-46cae4b7d8e5",
   "metadata": {},
   "outputs": [],
   "source": [
    "# These are the features that we will examine for the persistence diagrams of each label\n",
    "PE = PersistenceEntropy()\n",
    "AM = Amplitude()\n",
    "NP = NumberOfPoints()\n",
    "CP = ComplexPolynomial()"
   ]
  },
  {
   "cell_type": "code",
   "execution_count": 59,
   "id": "22140f1c-972a-45ad-a246-326a4b302ba1",
   "metadata": {},
   "outputs": [],
   "source": [
    "persistence_entropy1 = []\n",
    "amplitude1 = []\n",
    "no_points1 = []\n",
    "complex_polynomial1 = []\n",
    "\n",
    "for diagram in persistence_diagrams1:\n",
    "    persistence_entropy1.append(PE.fit_transform([diagram]))\n",
    "    amplitude1.append(AM.fit_transform([diagram]))\n",
    "    no_points1.append(NP.fit_transform([diagram]))\n",
    "    complex_polynomial1.append(CP.fit_transform([diagram]))"
   ]
  },
  {
   "cell_type": "code",
   "execution_count": 60,
   "id": "3a84dba6-2490-41d7-aa72-7132c852b7ed",
   "metadata": {},
   "outputs": [],
   "source": [
    "persistence_entropy3 = []\n",
    "amplitude3 = []\n",
    "no_points3 = []\n",
    "complex_polynomial3 = []\n",
    "\n",
    "for diagram in persistence_diagrams3:\n",
    "    persistence_entropy3.append(PE.fit_transform([diagram]))\n",
    "    amplitude3.append(AM.fit_transform([diagram]))\n",
    "    no_points3.append(NP.fit_transform([diagram]))\n",
    "    complex_polynomial3.append(CP.fit_transform([diagram]))"
   ]
  },
  {
   "cell_type": "code",
   "execution_count": 61,
   "id": "328a2928-98ea-477e-b2a3-1796f27187f0",
   "metadata": {},
   "outputs": [],
   "source": [
    "persistence_entropy5 = []\n",
    "amplitude5 = []\n",
    "no_points5 = []\n",
    "complex_polynomial5 = []\n",
    "\n",
    "for diagram in persistence_diagrams5:\n",
    "    persistence_entropy5.append(PE.fit_transform([diagram]))\n",
    "    amplitude5.append(AM.fit_transform([diagram]))\n",
    "    no_points5.append(NP.fit_transform([diagram]))\n",
    "    complex_polynomial5.append(CP.fit_transform([diagram]))"
   ]
  },
  {
   "cell_type": "markdown",
   "id": "00c925f5-d589-47b5-a701-287ecb8c3c05",
   "metadata": {},
   "source": [
    "# Concatenate Features to one DataFrame"
   ]
  },
  {
   "cell_type": "code",
   "execution_count": 62,
   "id": "2faa621b-b1b3-4428-87e6-10f15d0364ff",
   "metadata": {},
   "outputs": [],
   "source": [
    "def column(matrix, i):\n",
    "    return [row[0][i] for row in matrix]"
   ]
  },
  {
   "cell_type": "code",
   "execution_count": 63,
   "id": "f73d5768-ed6d-4187-b9e6-72f43fae88fb",
   "metadata": {},
   "outputs": [],
   "source": [
    "feature_df1 = pd.DataFrame()\n",
    "\n",
    "feature_df1[\"Persistence Entropy_Dim_0\"] = column(list(persistence_entropy1), 0)\n",
    "feature_df1[\"Persistence Entropy_Dim_1\"] = column(list(persistence_entropy1), 1)\n",
    "feature_df1[\"Persistence Entropy_Dim_2\"] = column(list(persistence_entropy1), 2)\n",
    "feature_df1[\"Amplitude_Dim_0\"] = column(list(amplitude1), 0)\n",
    "feature_df1[\"Amplitude_Dim_1\"] = column(list(amplitude1), 1)\n",
    "feature_df1[\"Amplitude_Dim_2\"] = column(list(amplitude1), 2)\n",
    "feature_df1[\"No_Points_Dim_0\"] = column(list(no_points1), 0)\n",
    "feature_df1[\"No_Points_Dim_1\"] = column(list(no_points1), 1)\n",
    "feature_df1[\"No_Points_Dim_2\"] = column(list(no_points1), 2)\n",
    "feature_df1[\"Label\"] = 1"
   ]
  },
  {
   "cell_type": "code",
   "execution_count": 64,
   "id": "a7716f67-2a11-4f05-979a-862c1f751edd",
   "metadata": {},
   "outputs": [],
   "source": [
    "feature_df3 = pd.DataFrame()\n",
    "\n",
    "feature_df3[\"Persistence Entropy_Dim_0\"] = column(list(persistence_entropy3), 0)\n",
    "feature_df3[\"Persistence Entropy_Dim_1\"] = column(list(persistence_entropy3), 1)\n",
    "feature_df3[\"Persistence Entropy_Dim_2\"] = column(list(persistence_entropy3), 2)\n",
    "feature_df3[\"Amplitude_Dim_0\"] = column(list(amplitude3), 0)\n",
    "feature_df3[\"Amplitude_Dim_1\"] = column(list(amplitude3), 1)\n",
    "feature_df3[\"Amplitude_Dim_2\"] = column(list(amplitude3), 2)\n",
    "feature_df3[\"No_Points_Dim_0\"] = column(list(no_points3), 0)\n",
    "feature_df3[\"No_Points_Dim_1\"] = column(list(no_points3), 1)\n",
    "feature_df3[\"No_Points_Dim_2\"] = column(list(no_points3), 2)\n",
    "feature_df3[\"Label\"] = 3"
   ]
  },
  {
   "cell_type": "code",
   "execution_count": 65,
   "id": "e018e3be-d4f4-4164-8487-77b59e7ab434",
   "metadata": {},
   "outputs": [],
   "source": [
    "feature_df5 = pd.DataFrame()\n",
    "\n",
    "feature_df5[\"Persistence Entropy_Dim_0\"] = column(list(persistence_entropy5), 0)\n",
    "feature_df5[\"Persistence Entropy_Dim_1\"] = column(list(persistence_entropy5), 1)\n",
    "feature_df5[\"Persistence Entropy_Dim_2\"] = column(list(persistence_entropy5), 2)\n",
    "feature_df5[\"Amplitude_Dim_0\"] = column(list(amplitude5), 0)\n",
    "feature_df5[\"Amplitude_Dim_1\"] = column(list(amplitude5), 1)\n",
    "feature_df5[\"Amplitude_Dim_2\"] = column(list(amplitude5), 2)\n",
    "feature_df5[\"No_Points_Dim_0\"] = column(list(no_points5), 0)\n",
    "feature_df5[\"No_Points_Dim_1\"] = column(list(no_points5), 1)\n",
    "feature_df5[\"No_Points_Dim_2\"] = column(list(no_points5), 2)\n",
    "feature_df5[\"Label\"] = 5"
   ]
  },
  {
   "cell_type": "code",
   "execution_count": 70,
   "id": "273e5219-0ca4-4fde-8ef2-bded94a33143",
   "metadata": {},
   "outputs": [],
   "source": [
    "feature_df = pd.concat([feature_df1, feature_df3, feature_df5])"
   ]
  },
  {
   "cell_type": "code",
   "execution_count": 71,
   "id": "c6d07977-f67a-415c-8b49-d6e583bec423",
   "metadata": {},
   "outputs": [],
   "source": [
    "feature_df.to_csv(\"Features.csv\")"
   ]
  },
  {
   "cell_type": "code",
   "execution_count": null,
   "id": "cb59ae47-ddcc-4f8a-9a82-57100cc91ed6",
   "metadata": {},
   "outputs": [],
   "source": []
  },
  {
   "cell_type": "code",
   "execution_count": null,
   "id": "8920b05c-d0c1-4ae7-b380-f15eb4ebd0df",
   "metadata": {},
   "outputs": [],
   "source": []
  }
 ],
 "metadata": {
  "kernelspec": {
   "display_name": "Python 3 (ipykernel)",
   "language": "python",
   "name": "python3"
  },
  "language_info": {
   "codemirror_mode": {
    "name": "ipython",
    "version": 3
   },
   "file_extension": ".py",
   "mimetype": "text/x-python",
   "name": "python",
   "nbconvert_exporter": "python",
   "pygments_lexer": "ipython3",
   "version": "3.10.12"
  }
 },
 "nbformat": 4,
 "nbformat_minor": 5
}
