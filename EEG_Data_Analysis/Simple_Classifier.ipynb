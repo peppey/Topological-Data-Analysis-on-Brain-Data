{
 "cells": [
  {
   "cell_type": "code",
   "execution_count": 220,
   "id": "e9f3ffa4-2d95-4158-8ac6-92b145e05e0b",
   "metadata": {},
   "outputs": [],
   "source": [
    "import pandas as pd\n",
    "import numpy as np\n",
    "# Modelling\n",
    "from sklearn.ensemble import RandomForestClassifier\n",
    "from sklearn.metrics import accuracy_score, confusion_matrix, precision_score, recall_score, ConfusionMatrixDisplay\n",
    "from sklearn.model_selection import RandomizedSearchCV, train_test_split\n",
    "from scipy.stats import randint\n",
    "\n",
    "# Tree Visualisation\n",
    "from sklearn.tree import export_graphviz\n",
    "from IPython.display import Image"
   ]
  },
  {
   "cell_type": "code",
   "execution_count": 221,
   "id": "91636719-564d-448e-aa0c-2041c5810715",
   "metadata": {},
   "outputs": [],
   "source": [
    "feature_df = pd.read_csv(\"Features.csv\")\n",
    "advanced_feature_df = pd.read_csv(\"Advanced_Features.csv\")\n",
    "statistical_feature_df = pd.read_csv(\"Statistical_Features.csv\")\n",
    "\n",
    "feature_df = pd.merge(feature_df, advanced_feature_df, left_index=True, right_index=True)\n",
    "feature_df = pd.merge(feature_df, statistical_feature_df, left_index=True, right_index=True)\n",
    "feature_df.drop(feature_df.columns[feature_df.columns.str.contains('unnamed',case = False)],axis = 1, inplace = True)\n",
    "\n",
    "\n",
    "labels = feature_df[\"Label_y\"]\n",
    "feature_df[\"Label\"] = labels\n",
    "feature_df = feature_df.drop(columns = [\"Label_y\", \"Label_x\"])"
   ]
  },
  {
   "cell_type": "code",
   "execution_count": 222,
   "id": "6f96e65d-ae1d-436a-a2b6-5326de5347bb",
   "metadata": {},
   "outputs": [],
   "source": [
    "feature_df.drop(feature_df.columns[feature_df.columns.str.contains('unnamed',case = False)],axis = 1, inplace = True)\n"
   ]
  },
  {
   "cell_type": "code",
   "execution_count": 223,
   "id": "e0b70ae8-9494-4114-9f9c-cd786af04d65",
   "metadata": {},
   "outputs": [],
   "source": [
    "# Labels are the values we want to predict\n",
    "labels = np.array(feature_df['Label'])\n",
    "# Remove the labels from the features\n",
    "# axis 1 refers to the columns\n",
    "features = feature_df.drop('Label', axis = 1)"
   ]
  },
  {
   "cell_type": "code",
   "execution_count": 224,
   "id": "f8463834-1107-454c-afc4-ebdbfe1cdea4",
   "metadata": {},
   "outputs": [],
   "source": [
    "# Saving feature names for later use\n",
    "feature_list = list(features.columns)\n",
    "# Convert to numpy array\n",
    "features = np.array(features)"
   ]
  },
  {
   "cell_type": "code",
   "execution_count": 225,
   "id": "22b490dc-92e2-48e2-89bf-7d324a4ebec4",
   "metadata": {},
   "outputs": [],
   "source": [
    "# Using Skicit-learn to split data into training and testing sets\n",
    "from sklearn.model_selection import train_test_split\n",
    "# Split the data into training and testing sets\n",
    "X_train, X_test, y_train, y_test = train_test_split(features, labels, test_size=0.9)"
   ]
  },
  {
   "cell_type": "code",
   "execution_count": 226,
   "id": "2ca125b1-38e9-40f1-9f6f-9cd3b009f97d",
   "metadata": {},
   "outputs": [
    {
     "data": {
      "text/plain": [
       "RandomForestClassifier()"
      ]
     },
     "execution_count": 226,
     "metadata": {},
     "output_type": "execute_result"
    }
   ],
   "source": [
    "rf = RandomForestClassifier()\n",
    "rf.fit(X_train, y_train)"
   ]
  },
  {
   "cell_type": "code",
   "execution_count": 227,
   "id": "51a5995c-42e5-41c8-ad7a-a787e5e4029b",
   "metadata": {},
   "outputs": [],
   "source": [
    "y_pred = rf.predict(X_test)"
   ]
  },
  {
   "cell_type": "code",
   "execution_count": 228,
   "id": "6dcb5c4f-3d17-43c9-ad35-2065fc492f54",
   "metadata": {},
   "outputs": [
    {
     "name": "stdout",
     "output_type": "stream",
     "text": [
      "Accuracy: 0.9666666666666667\n"
     ]
    }
   ],
   "source": [
    "accuracy = accuracy_score(y_test, y_pred)\n",
    "print(\"Accuracy:\", accuracy)"
   ]
  },
  {
   "cell_type": "markdown",
   "id": "ab9bc368-badd-4738-ae85-975247b08373",
   "metadata": {},
   "source": [
    "This is the accuracy for classifying NREM sleep and Awake get with a simple classifier, using 3 basic topological summary statistics and Adcock Carlson coordinates, as well as statistical features."
   ]
  },
  {
   "cell_type": "code",
   "execution_count": null,
   "id": "2144c7bf-3174-4f80-87f6-3d8c0d1dc0e9",
   "metadata": {},
   "outputs": [],
   "source": []
  },
  {
   "cell_type": "code",
   "execution_count": null,
   "id": "f2dbe48b-9ee4-4a3a-a0cf-442bea0e9e9e",
   "metadata": {},
   "outputs": [],
   "source": []
  }
 ],
 "metadata": {
  "kernelspec": {
   "display_name": "Python 3 (ipykernel)",
   "language": "python",
   "name": "python3"
  },
  "language_info": {
   "codemirror_mode": {
    "name": "ipython",
    "version": 3
   },
   "file_extension": ".py",
   "mimetype": "text/x-python",
   "name": "python",
   "nbconvert_exporter": "python",
   "pygments_lexer": "ipython3",
   "version": "3.10.12"
  }
 },
 "nbformat": 4,
 "nbformat_minor": 5
}
