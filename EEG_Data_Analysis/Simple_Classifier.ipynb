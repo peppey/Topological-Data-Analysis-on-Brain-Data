{
 "cells": [
  {
   "cell_type": "code",
   "execution_count": 169,
   "id": "e9f3ffa4-2d95-4158-8ac6-92b145e05e0b",
   "metadata": {},
   "outputs": [],
   "source": [
    "import pandas as pd\n",
    "import numpy as np\n",
    "from sklearn.ensemble import RandomForestClassifier\n",
    "from sklearn.metrics import accuracy_score, confusion_matrix, precision_score, recall_score, ConfusionMatrixDisplay\n",
    "from sklearn.model_selection import RandomizedSearchCV\n",
    "from scipy.stats import randint\n",
    "from sklearn.utils import shuffle"
   ]
  },
  {
   "cell_type": "markdown",
   "id": "d96ef8fb-0483-47c0-a098-4765de47b4f5",
   "metadata": {},
   "source": [
    "# Import and Concatenate Data"
   ]
  },
  {
   "cell_type": "code",
   "execution_count": 170,
   "id": "5d8e6a03-ae8f-4d2b-8e94-32a95b8398c8",
   "metadata": {},
   "outputs": [],
   "source": [
    "train_feature_df = pd.read_csv(\"Features/Train_Topological_Summary_Statistics.csv\")\n",
    "train_advanced_feature_df = pd.read_csv(\"Features/Train_Advanced_Features.csv\")\n",
    "train_statistical_features = pd.read_csv(\"Features/Train_Statistical_Features.csv\")\n",
    "train_wasserstein_features = pd.read_csv(\"Features/Train_Wasserstein_Features.csv\")\n",
    "train_landscape_features = pd.read_csv(\"Features/Train_Landscape_Features.csv\")\n",
    "train_bottleneck_features = pd.read_csv(\"Features/Train_bottleneck_Features.csv\")\n",
    "train_signature_features = pd.read_csv(\"Features/Train_Signature_Statistics.csv\")\n",
    "train_direct_features = pd.read_csv(\"Features/Train_Direct_Persistence_Diagrams.csv\")\n",
    "\n",
    "\n",
    "test_feature_df = pd.read_csv(\"Features/Test_Topological_Summary_Statistics.csv\")\n",
    "test_advanced_feature_df = pd.read_csv(\"Features/Test_Advanced_Features.csv\")\n",
    "test_statistical_features = pd.read_csv(\"Features/Test_Statistical_Features.csv\")\n",
    "test_wasserstein_features = pd.read_csv(\"Features/Test_Wasserstein_Features.csv\")\n",
    "test_landscape_features = pd.read_csv(\"Features/Test_Landscape_Features.csv\")\n",
    "test_bottleneck_features = pd.read_csv(\"Features/Test_bottleneck_Features.csv\")\n",
    "test_signature_features = pd.read_csv(\"Features/Test_Signature_Statistics.csv\")\n",
    "test_direct_features = pd.read_csv(\"Features/Test_Direct_Persistence_Diagrams.csv\")\n",
    "\n",
    "\n",
    "# Concatenate train and test sets (and split again later) to not get a problem with indices\n",
    "summary_statistics = pd.concat([train_feature_df, test_feature_df], ignore_index=True)\n",
    "advanced_features = pd.concat([train_advanced_feature_df, test_advanced_feature_df], ignore_index=True)\n",
    "statistical_features = pd.concat([train_statistical_features, test_statistical_features], ignore_index=True)\n",
    "wasserstein_features =  pd.concat([train_wasserstein_features, test_wasserstein_features], ignore_index=True)\n",
    "landscape_features =  pd.concat([train_landscape_features, test_landscape_features], ignore_index=True)\n",
    "bottleneck_features =  pd.concat([train_bottleneck_features, test_bottleneck_features], ignore_index=True)\n",
    "signature_features =  pd.concat([train_signature_features, test_signature_features], ignore_index=True)\n",
    "direct_features =  pd.concat([train_direct_features, test_direct_features], ignore_index=True)\n",
    "\n",
    "\n",
    "# Save labels for later\n",
    "labels = summary_statistics[\"Label\"]\n",
    "\n",
    "list_of_dataframes =  [summary_statistics, advanced_features, statistical_features, wasserstein_features, landscape_features, bottleneck_features, signature_features, direct_features]\n",
    "\n",
    "for df in list_of_dataframes:\n",
    "    # We do not want the labels in the training dat\n",
    "    df.drop(columns = [\"Label\"], inplace = True)\n",
    "    # All dataframes come with unnamed columns TODO\n",
    "    df.drop(df.columns[df.columns.str.contains('unnamed',case = False)], axis = 1, inplace = True)\n",
    "\n",
    "\n",
    "feature_df = pd.DataFrame(index=summary_statistics.index)\n",
    "\n",
    "# Choose one, several or all of the following dataframes\n",
    "feature_df = feature_df.join(summary_statistics) # improves result slightly\n",
    "feature_df = feature_df.join(statistical_features) # improves result slightly, but not with all random_states\n",
    "#feature_df = feature_df.join(wasserstein_features) # only improves result if advanced_features is not used\n",
    "feature_df = feature_df.join(advanced_features) # improves result by a lot, also works well alone\n",
    "feature_df = feature_df.join(bottleneck_features) # good standalone accuracy\n",
    "feature_df = feature_df.join(signature_features) # improves result compared to only using statistical features\n",
    "\n",
    "# Very bad accuracies\n",
    "#feature_df = feature_df.join(landscape_features) # makes result worse, bad standalone accuracy\n",
    "#feature_df = feature_df.join(direct_features)"
   ]
  },
  {
   "cell_type": "markdown",
   "id": "6f333182-30ea-498e-9fe7-030de10a57e8",
   "metadata": {},
   "source": [
    "# Preprocess Data"
   ]
  },
  {
   "cell_type": "code",
   "execution_count": 171,
   "id": "e0b70ae8-9494-4114-9f9c-cd786af04d65",
   "metadata": {},
   "outputs": [],
   "source": [
    "# Split dataframe\n",
    "\n",
    "X_train = feature_df[int(len(train_advanced_feature_df)):]\n",
    "y_train = labels[int(len(train_advanced_feature_df)):]\n",
    "\n",
    "X_test = feature_df[int(len(test_advanced_feature_df)):]\n",
    "y_test = labels[int(len(test_advanced_feature_df)):]"
   ]
  },
  {
   "cell_type": "code",
   "execution_count": 172,
   "id": "162ffa1c-43a9-45d1-943c-6402a541407d",
   "metadata": {},
   "outputs": [
    {
     "name": "stderr",
     "output_type": "stream",
     "text": [
      "/Users/piabaronetzky/anaconda3/envs/time-delay-embeddings/lib/python3.10/site-packages/sklearn/utils/validation.py:623: FutureWarning: is_sparse is deprecated and will be removed in a future version. Check `isinstance(dtype, pd.SparseDtype)` instead.\n",
      "  if not hasattr(array, \"sparse\") and array.dtypes.apply(is_sparse).any():\n"
     ]
    },
    {
     "data": {
      "text/plain": [
       "RandomForestClassifier(random_state=8)"
      ]
     },
     "execution_count": 172,
     "metadata": {},
     "output_type": "execute_result"
    }
   ],
   "source": [
    "rf = RandomForestClassifier(random_state=8)\n",
    "rf.fit(X_train, y_train)"
   ]
  },
  {
   "cell_type": "code",
   "execution_count": 173,
   "id": "2ca125b1-38e9-40f1-9f6f-9cd3b009f97d",
   "metadata": {},
   "outputs": [
    {
     "name": "stderr",
     "output_type": "stream",
     "text": [
      "/Users/piabaronetzky/anaconda3/envs/time-delay-embeddings/lib/python3.10/site-packages/sklearn/utils/validation.py:623: FutureWarning: is_sparse is deprecated and will be removed in a future version. Check `isinstance(dtype, pd.SparseDtype)` instead.\n",
      "  if not hasattr(array, \"sparse\") and array.dtypes.apply(is_sparse).any():\n"
     ]
    }
   ],
   "source": [
    "y_pred = rf.predict(X_test)"
   ]
  },
  {
   "cell_type": "code",
   "execution_count": 174,
   "id": "51a5995c-42e5-41c8-ad7a-a787e5e4029b",
   "metadata": {},
   "outputs": [
    {
     "name": "stdout",
     "output_type": "stream",
     "text": [
      "Accuracy: 0.9800148038490007\n"
     ]
    }
   ],
   "source": [
    "accuracy = accuracy_score(y_pred, y_test)\n",
    "print(\"Accuracy:\", accuracy)"
   ]
  },
  {
   "cell_type": "code",
   "execution_count": 175,
   "id": "6dcb5c4f-3d17-43c9-ad35-2065fc492f54",
   "metadata": {},
   "outputs": [
    {
     "data": {
      "text/plain": [
       "(array([1, 3, 5, 7]), array([ 271, 1052,   23,    5]))"
      ]
     },
     "execution_count": 175,
     "metadata": {},
     "output_type": "execute_result"
    }
   ],
   "source": [
    "np.unique(y_pred, return_counts=True)"
   ]
  },
  {
   "cell_type": "code",
   "execution_count": 176,
   "id": "5b8f7f69-c4c4-4be1-8a77-85b625be0029",
   "metadata": {},
   "outputs": [
    {
     "data": {
      "text/plain": [
       "(array([1, 3, 5, 7]), array([ 250, 1050,   45,    6]))"
      ]
     },
     "execution_count": 176,
     "metadata": {},
     "output_type": "execute_result"
    }
   ],
   "source": [
    "np.unique(y_test, return_counts=True)"
   ]
  },
  {
   "cell_type": "code",
   "execution_count": null,
   "id": "cb9189e8-63d1-416b-8fe1-bb559ca66d03",
   "metadata": {},
   "outputs": [],
   "source": []
  },
  {
   "cell_type": "code",
   "execution_count": null,
   "id": "687d453e-c4f2-4d7f-b8ee-ee8339d656a8",
   "metadata": {},
   "outputs": [],
   "source": []
  },
  {
   "cell_type": "code",
   "execution_count": null,
   "id": "60c6b905-b675-47f3-8640-6f203068e61f",
   "metadata": {},
   "outputs": [],
   "source": []
  }
 ],
 "metadata": {
  "kernelspec": {
   "display_name": "Python 3 (ipykernel)",
   "language": "python",
   "name": "python3"
  },
  "language_info": {
   "codemirror_mode": {
    "name": "ipython",
    "version": 3
   },
   "file_extension": ".py",
   "mimetype": "text/x-python",
   "name": "python",
   "nbconvert_exporter": "python",
   "pygments_lexer": "ipython3",
   "version": "3.10.12"
  }
 },
 "nbformat": 4,
 "nbformat_minor": 5
}
