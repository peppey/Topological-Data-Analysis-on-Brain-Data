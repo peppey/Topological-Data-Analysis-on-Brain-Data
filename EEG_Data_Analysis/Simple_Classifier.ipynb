{
 "cells": [
  {
   "cell_type": "code",
   "execution_count": 21,
   "id": "e9f3ffa4-2d95-4158-8ac6-92b145e05e0b",
   "metadata": {},
   "outputs": [],
   "source": [
    "import pandas as pd\n",
    "import numpy as np\n",
    "from sklearn.ensemble import RandomForestClassifier\n",
    "from sklearn.metrics import accuracy_score, confusion_matrix, precision_score, recall_score, ConfusionMatrixDisplay\n",
    "from sklearn.model_selection import RandomizedSearchCV\n",
    "from scipy.stats import randint\n",
    "from sklearn.utils import shuffle"
   ]
  },
  {
   "cell_type": "markdown",
   "id": "d96ef8fb-0483-47c0-a098-4765de47b4f5",
   "metadata": {},
   "source": [
    "# Import and Concatenate Data"
   ]
  },
  {
   "cell_type": "code",
   "execution_count": 22,
   "id": "5d8e6a03-ae8f-4d2b-8e94-32a95b8398c8",
   "metadata": {},
   "outputs": [],
   "source": [
    "train_feature_df = pd.read_csv(\"Features/Train_Topological_Summary_Statistics.csv\")\n",
    "train_advanced_feature_df = pd.read_csv(\"Features/Train_Advanced_Features.csv\")\n",
    "train_statistical_features = pd.read_csv(\"Features/Train_Statistical_Features.csv\")\n",
    "train_wasserstein_features = pd.read_csv(\"Features/Train_Wasserstein_Features.csv\")\n",
    "train_landscape_features = pd.read_csv(\"Features/Train_landscape_Features.csv\")\n",
    "\n",
    "test_feature_df = pd.read_csv(\"Features/Test_Topological_Summary_Statistics.csv\")\n",
    "test_advanced_feature_df = pd.read_csv(\"Features/Test_Advanced_Features.csv\")\n",
    "test_statistical_features = pd.read_csv(\"Features/Test_Statistical_Features.csv\")\n",
    "test_wasserstein_features = pd.read_csv(\"Features/Test_Wasserstein_Features.csv\")\n",
    "test_landscape_features = pd.read_csv(\"Features/Test_landscape_Features.csv\")\n",
    "\n",
    "\n",
    "summary_statistics = pd.concat([train_feature_df, test_feature_df], ignore_index=True)\n",
    "advanced_features = pd.concat([train_advanced_feature_df, test_advanced_feature_df], ignore_index=True)\n",
    "statistical_features = pd.concat([train_statistical_features, test_statistical_features], ignore_index=True)\n",
    "wasserstein_features =  pd.concat([train_wasserstein_features, test_wasserstein_features], ignore_index=True)\n",
    "landscape_features =  pd.concat([train_landscape_features, test_landscape_features], ignore_index=True)\n",
    "\n",
    "\n",
    "\n",
    "statistical_features = statistical_features.drop(columns = [\"Label\"])\n",
    "wasserstein_features = wasserstein_features.drop(columns = [\"Label\"])\n",
    "advanced_features = advanced_features.drop(columns = [\"Label\"])\n",
    "landscape_features = landscape_features.drop(columns = [\"Label\"])\n",
    "\n",
    "\n",
    "summary_statistics.drop(summary_statistics.columns[summary_statistics.columns.str.contains('unnamed',case = False)],axis = 1, inplace = True)\n",
    "statistical_features.drop(statistical_features.columns[statistical_features.columns.str.contains('unnamed',case = False)],axis = 1, inplace = True)\n",
    "wasserstein_features.drop(wasserstein_features.columns[wasserstein_features.columns.str.contains('unnamed',case = False)],axis = 1, inplace = True)\n",
    "advanced_features.drop(advanced_features.columns[advanced_features.columns.str.contains('unnamed',case = False)],axis = 1, inplace = True)\n",
    "landscape_features.drop(advanced_features.columns[advanced_features.columns.str.contains('unnamed',case = False)],axis = 1, inplace = True)\n",
    "\n",
    "\n",
    "feature_df = summary_statistics.join(statistical_features)\n",
    "feature_df = feature_df.join(wasserstein_features)\n",
    "feature_df = feature_df.join(advanced_features)\n",
    "#feature_df = feature_df.join(landscape_features) # makes result worse\n",
    "\n",
    "labels = feature_df[\"Label\"]\n"
   ]
  },
  {
   "cell_type": "markdown",
   "id": "6f333182-30ea-498e-9fe7-030de10a57e8",
   "metadata": {},
   "source": [
    "# Preprocess Data"
   ]
  },
  {
   "cell_type": "code",
   "execution_count": 23,
   "id": "e0b70ae8-9494-4114-9f9c-cd786af04d65",
   "metadata": {},
   "outputs": [],
   "source": [
    "# Split dataframe\n",
    "\n",
    "X_train = feature_df[int(len(train_advanced_feature_df)):]\n",
    "y_train = labels[int(len(train_advanced_feature_df)):]\n",
    "\n",
    "X_test = feature_df[int(len(test_advanced_feature_df)):]\n",
    "y_test = labels[int(len(test_advanced_feature_df)):]"
   ]
  },
  {
   "cell_type": "code",
   "execution_count": 24,
   "id": "162ffa1c-43a9-45d1-943c-6402a541407d",
   "metadata": {},
   "outputs": [
    {
     "name": "stderr",
     "output_type": "stream",
     "text": [
      "/Users/piabaronetzky/anaconda3/envs/time-delay-embeddings/lib/python3.10/site-packages/sklearn/utils/validation.py:623: FutureWarning: is_sparse is deprecated and will be removed in a future version. Check `isinstance(dtype, pd.SparseDtype)` instead.\n",
      "  if not hasattr(array, \"sparse\") and array.dtypes.apply(is_sparse).any():\n"
     ]
    },
    {
     "data": {
      "text/plain": [
       "RandomForestClassifier(random_state=4)"
      ]
     },
     "execution_count": 24,
     "metadata": {},
     "output_type": "execute_result"
    }
   ],
   "source": [
    "rf = RandomForestClassifier(random_state=4)\n",
    "rf.fit(X_train, y_train)"
   ]
  },
  {
   "cell_type": "code",
   "execution_count": 25,
   "id": "2ca125b1-38e9-40f1-9f6f-9cd3b009f97d",
   "metadata": {},
   "outputs": [
    {
     "name": "stderr",
     "output_type": "stream",
     "text": [
      "/Users/piabaronetzky/anaconda3/envs/time-delay-embeddings/lib/python3.10/site-packages/sklearn/utils/validation.py:623: FutureWarning: is_sparse is deprecated and will be removed in a future version. Check `isinstance(dtype, pd.SparseDtype)` instead.\n",
      "  if not hasattr(array, \"sparse\") and array.dtypes.apply(is_sparse).any():\n"
     ]
    }
   ],
   "source": [
    "y_pred = rf.predict(X_test)"
   ]
  },
  {
   "cell_type": "code",
   "execution_count": 26,
   "id": "51a5995c-42e5-41c8-ad7a-a787e5e4029b",
   "metadata": {},
   "outputs": [
    {
     "name": "stdout",
     "output_type": "stream",
     "text": [
      "Accuracy: 0.997779422649889\n"
     ]
    }
   ],
   "source": [
    "accuracy = accuracy_score(y_pred, y_test)\n",
    "print(\"Accuracy:\", accuracy)"
   ]
  },
  {
   "cell_type": "code",
   "execution_count": 27,
   "id": "6dcb5c4f-3d17-43c9-ad35-2065fc492f54",
   "metadata": {},
   "outputs": [
    {
     "data": {
      "text/plain": [
       "(array([1, 3, 5, 7]), array([ 253, 1050,   42,    6]))"
      ]
     },
     "execution_count": 27,
     "metadata": {},
     "output_type": "execute_result"
    }
   ],
   "source": [
    "np.unique(y_pred, return_counts=True)"
   ]
  },
  {
   "cell_type": "code",
   "execution_count": 28,
   "id": "5b8f7f69-c4c4-4be1-8a77-85b625be0029",
   "metadata": {},
   "outputs": [
    {
     "data": {
      "text/plain": [
       "(array([1, 3, 5, 7]), array([ 250, 1050,   45,    6]))"
      ]
     },
     "execution_count": 28,
     "metadata": {},
     "output_type": "execute_result"
    }
   ],
   "source": [
    "np.unique(y_test, return_counts=True)"
   ]
  },
  {
   "cell_type": "code",
   "execution_count": null,
   "id": "cb9189e8-63d1-416b-8fe1-bb559ca66d03",
   "metadata": {},
   "outputs": [],
   "source": []
  },
  {
   "cell_type": "code",
   "execution_count": null,
   "id": "687d453e-c4f2-4d7f-b8ee-ee8339d656a8",
   "metadata": {},
   "outputs": [],
   "source": []
  },
  {
   "cell_type": "code",
   "execution_count": null,
   "id": "60c6b905-b675-47f3-8640-6f203068e61f",
   "metadata": {},
   "outputs": [],
   "source": []
  }
 ],
 "metadata": {
  "kernelspec": {
   "display_name": "Python 3 (ipykernel)",
   "language": "python",
   "name": "python3"
  },
  "language_info": {
   "codemirror_mode": {
    "name": "ipython",
    "version": 3
   },
   "file_extension": ".py",
   "mimetype": "text/x-python",
   "name": "python",
   "nbconvert_exporter": "python",
   "pygments_lexer": "ipython3",
   "version": "3.10.12"
  }
 },
 "nbformat": 4,
 "nbformat_minor": 5
}
