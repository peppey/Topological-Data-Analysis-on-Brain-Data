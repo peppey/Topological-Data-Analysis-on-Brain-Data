{
 "cells": [
  {
   "cell_type": "code",
   "execution_count": 36,
   "id": "e9f3ffa4-2d95-4158-8ac6-92b145e05e0b",
   "metadata": {},
   "outputs": [],
   "source": [
    "import pandas as pd\n",
    "import numpy as np\n",
    "from sklearn.ensemble import RandomForestClassifier\n",
    "from sklearn.metrics import accuracy_score, confusion_matrix, precision_score, recall_score, ConfusionMatrixDisplay\n",
    "from sklearn.model_selection import RandomizedSearchCV\n",
    "from scipy.stats import randint"
   ]
  },
  {
   "cell_type": "markdown",
   "id": "d96ef8fb-0483-47c0-a098-4765de47b4f5",
   "metadata": {},
   "source": [
    "# Import and Concatenate Data"
   ]
  },
  {
   "cell_type": "code",
   "execution_count": 48,
   "id": "91636719-564d-448e-aa0c-2041c5810715",
   "metadata": {},
   "outputs": [],
   "source": [
    "# Training data\n",
    "train_summary_statistics = topological_summary_statistics = pd.read_csv(\"Features/Train_Topological_Summary_Statistics.csv\")\n",
    "train_statistical_features = pd.read_csv(\"Features/Train_Statistical_Features.csv\")\n",
    "train_wasserstein_features = pd.read_csv(\"Features/Train_Wasserstein_Features.csv\")\n",
    "\n",
    "train_features_df = pd.merge(train_summary_statistics, train_statistical_features, left_index=True, right_index=True)\n",
    "labels = train_features_df[\"Label_y\"]\n",
    "\n",
    "train_features_df.drop(train_features_df.columns[train_features_df.columns.str.contains('unnamed',case = False)],axis = 1, inplace = True)\n",
    "train_features_df.drop(train_features_df.columns[train_features_df.columns.str.contains('Label_',case = False)],axis = 1, inplace = True)\n",
    "\n",
    "train_features_df = pd.merge(train_features_df, train_wasserstein_features, left_index=True, right_index=True)\n",
    "train_features_df.drop(train_features_df.columns[train_features_df.columns.str.contains('unnamed',case = False)],axis = 1, inplace = True)\n",
    "train_features_df.drop(train_features_df.columns[train_features_df.columns.str.contains('Label_',case = False)],axis = 1, inplace = True)\n",
    "\n",
    "train_features_df[\"Label\"] = labels"
   ]
  },
  {
   "cell_type": "code",
   "execution_count": 51,
   "id": "8be397d8-7bdd-4989-a48c-089db25992e6",
   "metadata": {},
   "outputs": [],
   "source": [
    "# Test data\n",
    "test_summary_statistics = topological_summary_statistics = pd.read_csv(\"Features/Test_Topological_Summary_Statistics.csv\")\n",
    "test_statistical_features = pd.read_csv(\"Features/Test_Statistical_Features.csv\")\n",
    "test_wasserstein_features = pd.read_csv(\"Features/Test_Wasserstein_Features.csv\")\n",
    "\n",
    "test_features_df = pd.merge(test_summary_statistics, test_statistical_features, left_index=True, right_index=True)\n",
    "\n",
    "labels = test_features_df[\"Label_y\"]\n",
    "test_features_df.drop(test_features_df.columns[test_features_df.columns.str.contains('unnamed',case = False)],axis = 1, inplace = True)\n",
    "test_features_df.drop(test_features_df.columns[test_features_df.columns.str.contains('Label_',case = False)],axis = 1, inplace = True)\n",
    "\n",
    "test_features_df = pd.merge(test_features_df, test_wasserstein_features, left_index=True, right_index=True)\n",
    "test_features_df.drop(test_features_df.columns[test_features_df.columns.str.contains('unnamed',case = False)],axis = 1, inplace = True)\n",
    "test_features_df.drop(test_features_df.columns[test_features_df.columns.str.contains('Label_',case = False)],axis = 1, inplace = True)\n",
    "\n",
    "test_features_df[\"Label\"] = labels"
   ]
  },
  {
   "cell_type": "markdown",
   "id": "6f333182-30ea-498e-9fe7-030de10a57e8",
   "metadata": {},
   "source": [
    "# Preprocess Data"
   ]
  },
  {
   "cell_type": "code",
   "execution_count": 52,
   "id": "e0b70ae8-9494-4114-9f9c-cd786af04d65",
   "metadata": {},
   "outputs": [],
   "source": [
    "# Training Data\n",
    "# Labels are the values we want to predict\n",
    "train_labels = np.array(train_features_df['Label'])\n",
    "\n",
    "# Remove the labels from the features\n",
    "# axis 1 refers to the columns\n",
    "train_features = train_features_df.drop('Label', axis = 1)\n",
    "\n",
    "# Saving feature names for later use\n",
    "train_feature_list = list(train_features.columns)\n",
    "\n",
    "# Convert to numpy array\n",
    "train_features = np.array(train_features)"
   ]
  },
  {
   "cell_type": "code",
   "execution_count": 53,
   "id": "162ffa1c-43a9-45d1-943c-6402a541407d",
   "metadata": {},
   "outputs": [],
   "source": [
    "# Test Data\n",
    "\n",
    "# Labels are the values we want to predict\n",
    "test_labels = np.array(test_features_df['Label'])\n",
    "\n",
    "# Remove the labels from the features\n",
    "# axis 1 refers to the columns\n",
    "test_features = test_features_df.drop('Label', axis = 1)\n",
    "\n",
    "# Saving feature names for later use\n",
    "test_feature_list = list(test_features.columns)\n",
    "\n",
    "# Convert to numpy array\n",
    "test_features = np.array(test_features)"
   ]
  },
  {
   "cell_type": "code",
   "execution_count": 54,
   "id": "2ca125b1-38e9-40f1-9f6f-9cd3b009f97d",
   "metadata": {},
   "outputs": [
    {
     "data": {
      "text/plain": [
       "RandomForestClassifier(random_state=4)"
      ]
     },
     "execution_count": 54,
     "metadata": {},
     "output_type": "execute_result"
    }
   ],
   "source": [
    "# Define Classifier\n",
    "rf = RandomForestClassifier(random_state=4)\n",
    "\n",
    "# Train classifier\n",
    "rf.fit(train_features, train_labels)"
   ]
  },
  {
   "cell_type": "code",
   "execution_count": 55,
   "id": "51a5995c-42e5-41c8-ad7a-a787e5e4029b",
   "metadata": {},
   "outputs": [],
   "source": [
    "predictions = rf.predict(test_features)"
   ]
  },
  {
   "cell_type": "code",
   "execution_count": 56,
   "id": "6dcb5c4f-3d17-43c9-ad35-2065fc492f54",
   "metadata": {},
   "outputs": [
    {
     "name": "stdout",
     "output_type": "stream",
     "text": [
      "Accuracy: 0.9501718213058419\n"
     ]
    }
   ],
   "source": [
    "accuracy = accuracy_score(test_labels, predictions)\n",
    "print(\"Accuracy:\", accuracy)"
   ]
  },
  {
   "cell_type": "code",
   "execution_count": 57,
   "id": "5b8f7f69-c4c4-4be1-8a77-85b625be0029",
   "metadata": {},
   "outputs": [
    {
     "data": {
      "text/plain": [
       "(array([1, 3, 7]), array([260, 321,   1]))"
      ]
     },
     "execution_count": 57,
     "metadata": {},
     "output_type": "execute_result"
    }
   ],
   "source": [
    "np.unique(predictions, return_counts=True)"
   ]
  },
  {
   "cell_type": "code",
   "execution_count": 58,
   "id": "57832ec2-2ec5-45ea-97da-58672fcce061",
   "metadata": {},
   "outputs": [
    {
     "data": {
      "text/plain": [
       "(array([1, 3, 7]), array([260, 321,   1]))"
      ]
     },
     "execution_count": 58,
     "metadata": {},
     "output_type": "execute_result"
    }
   ],
   "source": [
    "np.unique(predictions, return_counts=True)"
   ]
  },
  {
   "cell_type": "code",
   "execution_count": null,
   "id": "cb9189e8-63d1-416b-8fe1-bb559ca66d03",
   "metadata": {},
   "outputs": [],
   "source": []
  }
 ],
 "metadata": {
  "kernelspec": {
   "display_name": "Python 3 (ipykernel)",
   "language": "python",
   "name": "python3"
  },
  "language_info": {
   "codemirror_mode": {
    "name": "ipython",
    "version": 3
   },
   "file_extension": ".py",
   "mimetype": "text/x-python",
   "name": "python",
   "nbconvert_exporter": "python",
   "pygments_lexer": "ipython3",
   "version": "3.10.12"
  }
 },
 "nbformat": 4,
 "nbformat_minor": 5
}
