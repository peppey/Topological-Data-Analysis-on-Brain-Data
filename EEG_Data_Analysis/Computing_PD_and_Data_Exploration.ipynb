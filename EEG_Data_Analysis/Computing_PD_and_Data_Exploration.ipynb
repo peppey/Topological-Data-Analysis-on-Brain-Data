{
 "cells": [
  {
   "cell_type": "code",
   "execution_count": 1,
   "id": "0a81b9c9-a2e9-46c2-8ae8-4a5f02dd0571",
   "metadata": {},
   "outputs": [],
   "source": [
    "import numpy as np\n",
    "import pyedflib\n",
    "import statistics\n",
    "import plotly.graph_objects as go\n",
    "import pandas as pd\n",
    "from gtda.time_series import SingleTakensEmbedding\n",
    "from gtda.homology import VietorisRipsPersistence\n",
    "from gtda.diagrams import PersistenceEntropy, Amplitude, NumberOfPoints, ComplexPolynomial, PersistenceLandscape, HeatKernel, Silhouette, BettiCurve, PairwiseDistance, ForgetDimension\n",
    "from gtda.plotting import plot_point_cloud, plot_heatmap\n",
    "import matplotlib.pyplot as plt\n",
    "from mpl_toolkits.mplot3d import Axes3D\n",
    "from sklearn.ensemble import RandomForestClassifier\n",
    "from sklearn.decomposition import PCA, FastICA\n",
    "from gtda.pipeline import Pipeline \n",
    "\n",
    "\n",
    "def read_edf_file(file_path):\n",
    "    \"\"\"\n",
    "    Reads an .edf file and returns the EEG and EMG streams as pandas DataFrames.\n",
    "    \"\"\"\n",
    "    f = pyedflib.EdfReader(file_path)\n",
    "\n",
    "    # Assuming the EEG channel is the first channel and EMG is the second channel\n",
    "    eeg_signal = f.readSignal(0)\n",
    "    emg_signal = f.readSignal(1)\n",
    "\n",
    "    # Extract the channel names for the DataFrame\n",
    "    eeg_channel_name = f.getSignalLabels()[0]\n",
    "    emg_channel_name = f.getSignalLabels()[1]\n",
    "\n",
    "    # Get the sample frequency\n",
    "    sample_frequency = f.getSampleFrequency(0)  # Assuming both streams have the same frequency\n",
    "\n",
    "    # Calculate the timestamps for the samples\n",
    "    n_samples = min(len(eeg_signal), len(emg_signal))\n",
    "    time = [i / sample_frequency for i in range(n_samples)]\n",
    "\n",
    "    # Create pandas DataFrame\n",
    "    df = pd.DataFrame({\n",
    "        'Time': time,\n",
    "        eeg_channel_name: eeg_signal[:n_samples],\n",
    "        emg_channel_name: emg_signal[:n_samples],\n",
    "    })\n",
    "\n",
    "    # Close the EdfReader\n",
    "    f.close()\n",
    "\n",
    "    return df\n",
    "\n",
    "file = 'edf_293.edf'\n",
    "\n",
    "data = read_edf_file(file)\n",
    "\n",
    "\n",
    "x = data.Time\n",
    "y = data.EEG"
   ]
  },
  {
   "cell_type": "code",
   "execution_count": 2,
   "id": "85fd9907-0ecf-4827-bd57-da10d9c03cfa",
   "metadata": {},
   "outputs": [],
   "source": [
    "# Labels\n",
    "label_df = pd.read_csv(\"Data_293.csv\")\n",
    "labels = label_df[\"NAPS_Numeric\"].iloc[1:]\n",
    "labels = [int(label) for label in labels]"
   ]
  },
  {
   "cell_type": "markdown",
   "id": "81daa1b7-6b26-4d6a-a46c-e28be37d6779",
   "metadata": {},
   "source": [
    "# Label List"
   ]
  },
  {
   "cell_type": "markdown",
   "id": "b7cd9110-16dd-42ae-a665-f592c2bafd0c",
   "metadata": {},
   "source": [
    "Label 1: W (Awake)\n",
    "\n",
    "Label 2: WA (Awake Artifact)?\n",
    "\n",
    "Label 3: NR (NREM)\n",
    "\n",
    "Label 4: Not defined\n",
    "\n",
    "Label 5: R (REM)\n",
    "\n",
    "Label 7: U (Artifacts?)\n"
   ]
  },
  {
   "cell_type": "markdown",
   "id": "f1ea3b4c-8747-430b-9966-2e7eaaca0b74",
   "metadata": {},
   "source": [
    "# Local Approach"
   ]
  },
  {
   "cell_type": "code",
   "execution_count": 3,
   "id": "dac52537-afd8-45ba-86a1-2f1e0dafdb44",
   "metadata": {},
   "outputs": [],
   "source": [
    "# How many segments per label do you want to analyze?\n",
    "no_segments = 100"
   ]
  },
  {
   "cell_type": "code",
   "execution_count": 4,
   "id": "c2efd17e-f338-4a6f-a614-bbe3e9d83c71",
   "metadata": {},
   "outputs": [],
   "source": [
    "indices_dict = {}\n",
    "\n",
    "for label in list(set(labels)): \n",
    "    indices = [index for index, value in enumerate(labels) if value == label][:no_segments]\n",
    "    indices_dict[label] = indices"
   ]
  },
  {
   "cell_type": "code",
   "execution_count": 5,
   "id": "4d599237-77e5-4221-9b79-f8a638334fdc",
   "metadata": {},
   "outputs": [],
   "source": [
    "def segment_data(df, segment_size, step_size = 2):\n",
    "    n_segments = int(df[\"Time\"].iloc[-1]) // segment_size\n",
    "    eeg_segments = []\n",
    "    emg_segments = []\n",
    "\n",
    "    for i in range(n_segments):\n",
    "        start_idx = int(i* segment_size*1000/step_size)\n",
    "        end_idx = start_idx + int(segment_size*1000/step_size)\n",
    "        segment = df.iloc[start_idx:end_idx]\n",
    "        eeg_segments.append(list(segment[\"EEG\"]))\n",
    "        emg_segments.append(list(segment[\"EMG\"]))\n",
    "\n",
    "    return eeg_segments, emg_segments"
   ]
  },
  {
   "cell_type": "code",
   "execution_count": 6,
   "id": "7696563c-9996-40dd-99bc-8ec2b960bd32",
   "metadata": {},
   "outputs": [],
   "source": [
    "# Segment the data\n",
    "segment_length = 4  # seconds\n",
    "eeg_segments, emg_segments = segment_data(data, segment_length, step_size = 2)"
   ]
  },
  {
   "cell_type": "markdown",
   "id": "ec79840c-3793-4a66-9d7f-d69e0cc90b0a",
   "metadata": {},
   "source": [
    "## Finding the optimal embedding dimension and time delay"
   ]
  },
  {
   "cell_type": "markdown",
   "id": "253351f2-ad56-4641-9228-1ea72b78eb35",
   "metadata": {},
   "source": [
    "There are two techniques that can be used to determine these parameters automatically:\n",
    "- Mutual information to determine the time delay\n",
    "- False nearest neighbours to determine the embedding dimension"
   ]
  },
  {
   "cell_type": "code",
   "execution_count": 7,
   "id": "5411caea-3b14-45e6-adc5-e86f77235716",
   "metadata": {},
   "outputs": [],
   "source": [
    "# Initialise the embedding\n",
    "\n",
    "max_embedding_dimension = 30\n",
    "max_time_delay = 30\n",
    "stride = 5\n",
    "\n",
    "embedder = SingleTakensEmbedding(\n",
    "    parameters_type=\"search\",\n",
    "    time_delay=max_time_delay,\n",
    "    dimension=max_embedding_dimension,\n",
    "    stride=stride,\n",
    ")"
   ]
  },
  {
   "cell_type": "code",
   "execution_count": 8,
   "id": "1cd3f263-71a8-41e8-8874-4985172c13d5",
   "metadata": {},
   "outputs": [],
   "source": [
    "def fit_embedder(embedder: SingleTakensEmbedding, y: np.ndarray, verbose: bool=True) -> np.ndarray:\n",
    "    \"\"\"Fits a Takens embedder and displays optimal search parameters.\"\"\"\n",
    "    y_embedded = embedder.fit_transform(y)\n",
    "\n",
    "    if verbose:\n",
    "        print(f\"Shape of embedded time series: {y_embedded.shape}\")\n",
    "        print(\n",
    "            f\"Optimal embedding dimension is {embedder.dimension_} and time delay is {embedder.time_delay_}\"\n",
    "        )\n",
    "\n",
    "    return y_embedded"
   ]
  },
  {
   "cell_type": "code",
   "execution_count": 9,
   "id": "695b8367-ca0f-44da-8bdd-735a8c8794eb",
   "metadata": {},
   "outputs": [
    {
     "name": "stdout",
     "output_type": "stream",
     "text": [
      "Shape of embedded time series: (380, 5)\n",
      "Optimal embedding dimension is 5 and time delay is 26\n",
      "Shape of embedded time series: (383, 4)\n",
      "Optimal embedding dimension is 4 and time delay is 29\n",
      "Shape of embedded time series: (383, 5)\n",
      "Optimal embedding dimension is 5 and time delay is 22\n",
      "Shape of embedded time series: (373, 6)\n",
      "Optimal embedding dimension is 6 and time delay is 27\n"
     ]
    }
   ],
   "source": [
    "# Look at some random segments\n",
    "y_embedded = fit_embedder(embedder, eeg_segments[0])\n",
    "y_embedded = fit_embedder(embedder, eeg_segments[100])\n",
    "y_embedded = fit_embedder(embedder, eeg_segments[177])\n",
    "y_embedded = fit_embedder(embedder, eeg_segments[1000])\n",
    "# The optimal values are all similar (=> Just use embedding dimension 5 and time delay 25)"
   ]
  },
  {
   "cell_type": "markdown",
   "id": "c8ae774c-2bca-448a-b292-676e26190097",
   "metadata": {},
   "source": [
    "## Creating Persistence Diagrams"
   ]
  },
  {
   "cell_type": "code",
   "execution_count": 10,
   "id": "c1d6e233-e614-42cf-b4bc-e1cf83874dff",
   "metadata": {},
   "outputs": [],
   "source": [
    "# Setting parameters for point cloud embeddings\n",
    "\n",
    "embedding_dimension= 5\n",
    "embedding_time_delay = 25\n",
    "stride = 10\n",
    "\n",
    "embedder_periodic = SingleTakensEmbedding(\n",
    "    parameters_type=\"fixed\",\n",
    "    n_jobs=2,\n",
    "    time_delay=embedding_time_delay,\n",
    "    dimension=embedding_dimension,\n",
    "    stride=stride,\n",
    ")"
   ]
  },
  {
   "cell_type": "code",
   "execution_count": 11,
   "id": "1aeaf116-7c67-4b3f-849e-d827a751a0cf",
   "metadata": {},
   "outputs": [],
   "source": [
    "# We will look at 0, 1 and 2 dimensional holes TODO try more?\n",
    "homology_dimensions = [0, 1, 2]\n",
    "\n",
    "# We will use a Vietoris Rips filtrations\n",
    "persistence = VietorisRipsPersistence(\n",
    "    homology_dimensions=homology_dimensions, n_jobs=10\n",
    ")"
   ]
  },
  {
   "cell_type": "markdown",
   "id": "03b27aa0-db64-4d55-b188-53f3b5445523",
   "metadata": {},
   "source": [
    "### Computing Points Clouds and Persistence Diagrams"
   ]
  },
  {
   "cell_type": "code",
   "execution_count": 12,
   "id": "2401965c-b159-4b12-9c08-02e89fd39713",
   "metadata": {},
   "outputs": [],
   "source": [
    "# Label 1\n",
    "\n",
    "# Point cloud embeddings\n",
    "y_embedded1 = {} \n",
    "\n",
    "# Persistence diagrams\n",
    "diagrams1 = {}\n",
    "\n",
    "# Loop through the first segments with label '1'\n",
    "for label_idx in indices_dict[1]:\n",
    "    y_embedded1[label_idx] = embedder_periodic.fit_transform(eeg_segments[label_idx])[None, :, :]\n",
    "    diagrams1[label_idx] = persistence.fit_transform(y_embedded1[label_idx])"
   ]
  },
  {
   "cell_type": "code",
   "execution_count": 13,
   "id": "0a057735-d761-43fd-8fb4-c1c729b0d984",
   "metadata": {},
   "outputs": [],
   "source": [
    "# Label 3\n",
    "\n",
    "# Point cloud embeddings\n",
    "y_embedded3 = {} \n",
    "\n",
    "# Persistence diagrams\n",
    "diagrams3 = {}\n",
    "\n",
    "# Loop through the first segments with label '3'\n",
    "for label_idx in indices_dict[3]:\n",
    "    y_embedded3[label_idx] = embedder_periodic.fit_transform(eeg_segments[label_idx])[None, :, :]\n",
    "    diagrams3[label_idx] = persistence.fit_transform(y_embedded3[label_idx])"
   ]
  },
  {
   "cell_type": "code",
   "execution_count": 14,
   "id": "2d771ce2-3ca8-4bff-a1b6-34cd36abfdb3",
   "metadata": {},
   "outputs": [],
   "source": [
    "# Label 5\n",
    "\n",
    "# Point cloud embeddings\n",
    "y_embedded5 = {} \n",
    "\n",
    "# Persistence diagrams\n",
    "diagrams5 = {}\n",
    "\n",
    "# Loop through the first segments with label '5'\n",
    "for label_idx in indices_dict[5]:\n",
    "    y_embedded5[label_idx] = embedder_periodic.fit_transform(eeg_segments[label_idx])[None, :, :]\n",
    "    diagrams5[label_idx] = persistence.fit_transform(y_embedded5[label_idx])"
   ]
  },
  {
   "cell_type": "code",
   "execution_count": 15,
   "id": "e952cace-b2fb-4586-97fb-0899d99fb509",
   "metadata": {},
   "outputs": [],
   "source": [
    "# Label 7\n",
    "\n",
    "# Point cloud embeddings\n",
    "y_embedded7 = {} \n",
    "\n",
    "# Persistence diagrams\n",
    "diagrams7 = {}\n",
    "\n",
    "# Loop through the first segments with label '1'\n",
    "for label_idx in indices_dict[7]:\n",
    "    y_embedded7[label_idx] = embedder_periodic.fit_transform(eeg_segments[label_idx])[None, :, :]\n",
    "    diagrams7[label_idx] = persistence.fit_transform(y_embedded7[label_idx])"
   ]
  },
  {
   "cell_type": "markdown",
   "id": "2bd32ce7-5e67-46a6-afb6-edc7a7d4190a",
   "metadata": {},
   "source": [
    "## Computing And Plotting Features"
   ]
  },
  {
   "cell_type": "markdown",
   "id": "3bf8c8ad-3b54-400c-9175-4d0abf337a86",
   "metadata": {},
   "source": [
    "### Get Features from Persistence Diagrams"
   ]
  },
  {
   "cell_type": "code",
   "execution_count": 16,
   "id": "b92bb533-d9f1-4db0-bdbc-46cae4b7d8e5",
   "metadata": {},
   "outputs": [],
   "source": [
    "# These are the features that we will examine for the persistence diagrams of each label\n",
    "PE = PersistenceEntropy()\n",
    "AM = Amplitude()\n",
    "NP = NumberOfPoints()\n",
    "CP = ComplexPolynomial()"
   ]
  },
  {
   "cell_type": "code",
   "execution_count": 17,
   "id": "22140f1c-972a-45ad-a246-326a4b302ba1",
   "metadata": {},
   "outputs": [],
   "source": [
    "persistence_entropy1 = {}\n",
    "amplitude1 = {}\n",
    "no_points1 = {}\n",
    "complex_polynomial1 = {}\n",
    "\n",
    "for label_idx in indices_dict[1]:\n",
    "    persistence_entropy1[label_idx] = PE.fit_transform(diagrams1[label_idx])\n",
    "    amplitude1[label_idx] = AM.fit_transform(diagrams1[label_idx])\n",
    "    no_points1[label_idx] = NP.fit_transform(diagrams1[label_idx])\n",
    "    complex_polynomial1[label_idx] = CP.fit_transform(diagrams1[label_idx])"
   ]
  },
  {
   "cell_type": "code",
   "execution_count": 18,
   "id": "328a2928-98ea-477e-b2a3-1796f27187f0",
   "metadata": {},
   "outputs": [],
   "source": [
    "persistence_entropy3 = {}\n",
    "amplitude3 = {}\n",
    "no_points3 = {}\n",
    "complex_polynomial3 = {}\n",
    "\n",
    "\n",
    "for label_idx in indices_dict[3]:\n",
    "    persistence_entropy3[label_idx] = PE.fit_transform(diagrams3[label_idx])\n",
    "    amplitude3[label_idx] = AM.fit_transform(diagrams3[label_idx])\n",
    "    no_points3[label_idx] = NP.fit_transform(diagrams3[label_idx])\n",
    "    complex_polynomial3[label_idx] = CP.fit_transform(diagrams3[label_idx])"
   ]
  },
  {
   "cell_type": "code",
   "execution_count": 19,
   "id": "2753354d-6938-44d7-8f97-874298212fa6",
   "metadata": {},
   "outputs": [],
   "source": [
    "persistence_entropy5 = {}\n",
    "amplitude5 = {}\n",
    "no_points5 = {}\n",
    "complex_polynomial5 = {}\n",
    "\n",
    "\n",
    "for label_idx in indices_dict[5]:\n",
    "    persistence_entropy5[label_idx] = PE.fit_transform(diagrams5[label_idx])\n",
    "    amplitude5[label_idx] = AM.fit_transform(diagrams5[label_idx])\n",
    "    no_points5[label_idx] = NP.fit_transform(diagrams5[label_idx])\n",
    "    complex_polynomial5[label_idx] = CP.fit_transform(diagrams5[label_idx])"
   ]
  },
  {
   "cell_type": "code",
   "execution_count": 20,
   "id": "d34266f4-acd8-43f0-94e1-f6a3be3535cc",
   "metadata": {},
   "outputs": [],
   "source": [
    "persistence_entropy7 = {}\n",
    "amplitude7 = {}\n",
    "no_points7 = {}\n",
    "complex_polynomial7 = {}\n",
    "\n",
    "\n",
    "for label_idx in indices_dict[7]:\n",
    "    persistence_entropy7[label_idx] = PE.fit_transform(diagrams7[label_idx])\n",
    "    amplitude7[label_idx] = AM.fit_transform(diagrams7[label_idx])\n",
    "    no_points7[label_idx] = NP.fit_transform(diagrams7[label_idx])\n",
    "    complex_polynomial7[label_idx] = CP.fit_transform(diagrams7[label_idx])"
   ]
  },
  {
   "cell_type": "code",
   "execution_count": 21,
   "id": "a763d400-87cb-4901-bd83-dfd43c6396bc",
   "metadata": {},
   "outputs": [],
   "source": [
    "def extract_coordinates(dictionary):\n",
    "    coordinates = [tuple(arr[0]) for arr in dictionary.values()]\n",
    "    return zip(*coordinates)"
   ]
  },
  {
   "cell_type": "markdown",
   "id": "10763c11-aadc-4959-9de3-7fe97381c8a0",
   "metadata": {},
   "source": [
    "### Plotting Persistence Entropy"
   ]
  },
  {
   "cell_type": "code",
   "execution_count": 22,
   "id": "8a21a229-6717-4a0a-a5d8-6922a2b085ac",
   "metadata": {},
   "outputs": [
    {
     "data": {
      "image/png": "[encoded data removed]",
      "text/plain": [
       "<Figure size 640x480 with 1 Axes>"
      ]
     },
     "metadata": {},
     "output_type": "display_data"
    }
   ],
   "source": [
    "# Create a 3D plot, where the dimensions are the dimensions of the holes\n",
    "\n",
    "x1, y1, z1 = extract_coordinates(persistence_entropy1)\n",
    "x3, y3, z3 = extract_coordinates(persistence_entropy3)\n",
    "x5, y5, z5 = extract_coordinates(persistence_entropy5)\n",
    "x7, y7, z7 = extract_coordinates(persistence_entropy7)\n",
    "\n",
    "\n",
    "\n",
    "fig = plt.figure()\n",
    "ax = fig.add_subplot(111, projection='3d')\n",
    "\n",
    "# Plot keys from each dictionary with different colors\n",
    "ax.scatter(x1, y1, z1, c='r', marker='o', label='Label 1')\n",
    "ax.scatter(x3, y3, z3, c='g', marker='s', label='Label 3')\n",
    "ax.scatter(x5, y5, z5, c='b', marker='^', label='Label 5')\n",
    "#ax.scatter(x7, y7, z7, c='y', marker='^', label='Label 7')\n",
    "\n",
    "\n",
    "ax.set_xlabel('dimension 0')\n",
    "ax.set_ylabel('dimension 1')\n",
    "ax.set_zlabel('dimension 2')\n",
    "\n",
    "ax.legend()\n",
    "\n",
    "plt.show()"
   ]
  },
  {
   "cell_type": "markdown",
   "id": "aa553348-145e-40ce-9e1e-a4fcaa74f9a5",
   "metadata": {},
   "source": [
    "### Plotting Amplitude"
   ]
  },
  {
   "cell_type": "code",
   "execution_count": 23,
   "id": "2e1114b6-ce8a-4c1e-bcbd-8eb76c6c9ae6",
   "metadata": {},
   "outputs": [
    {
     "data": {
      "image/png": "[encoded data removed]",
      "text/plain": [
       "<Figure size 640x480 with 1 Axes>"
      ]
     },
     "metadata": {},
     "output_type": "display_data"
    }
   ],
   "source": [
    "# Create a 3D plot, where the dimensions are the dimensions of the holes\n",
    "\n",
    "x1, y1, z1 = extract_coordinates(amplitude1)\n",
    "x3, y3, z3 = extract_coordinates(amplitude3)\n",
    "x5, y5, z5 = extract_coordinates(amplitude5)\n",
    "\n",
    "\n",
    "fig = plt.figure()\n",
    "ax = fig.add_subplot(111, projection='3d')\n",
    "\n",
    "# Plot keys from each dictionary with different colors\n",
    "ax.scatter(x1, y1, z1, c='r', marker='o', label='Label 1')\n",
    "ax.scatter(x3, y3, z3, c='g', marker='s', label='Label 3')\n",
    "ax.scatter(x5, y5, z5, c='b', marker='^', label='Label 5')\n",
    "\n",
    "ax.set_xlabel('dimension 0')\n",
    "ax.set_ylabel('dimension 1')\n",
    "ax.set_zlabel('dimension 2')\n",
    "\n",
    "ax.legend()\n",
    "\n",
    "plt.show()"
   ]
  },
  {
   "cell_type": "markdown",
   "id": "92a8974e-9831-4dc5-bad9-4200d6071445",
   "metadata": {},
   "source": [
    "### Plotting the Number of Points"
   ]
  },
  {
   "cell_type": "code",
   "execution_count": 24,
   "id": "a8637f73-8682-4f47-b2e9-88aa6981cbc2",
   "metadata": {},
   "outputs": [
    {
     "data": {
      "image/png": "[encoded data removed]",
      "text/plain": [
       "<Figure size 640x480 with 1 Axes>"
      ]
     },
     "metadata": {},
     "output_type": "display_data"
    }
   ],
   "source": [
    "# Create a 3D plot, where the dimensions are the dimensions of the holes\n",
    "\n",
    "x1, y1, z1 = extract_coordinates(no_points1)\n",
    "x3, y3, z3 = extract_coordinates(no_points3)\n",
    "x5, y5, z5 = extract_coordinates(no_points5)\n",
    "\n",
    "\n",
    "fig = plt.figure()\n",
    "ax = fig.add_subplot(111, projection='3d')\n",
    "\n",
    "# Plot keys from each dictionary with different colors\n",
    "ax.scatter(x1, y1, z1, c='r', marker='o', label='Label 1')\n",
    "ax.scatter(x3, y3, z3, c='g', marker='s', label='Label 3')\n",
    "ax.scatter(x5, y5, z5, c='b', marker='^', label='Label 5')\n",
    "\n",
    "ax.set_xlabel('dimension 0')\n",
    "ax.set_ylabel('dimension 1')\n",
    "ax.set_zlabel('dimension 2')\n",
    "\n",
    "ax.legend()\n",
    "\n",
    "plt.show()"
   ]
  },
  {
   "cell_type": "markdown",
   "id": "7313b475-b4eb-4179-b040-73f9fbcecf33",
   "metadata": {},
   "source": [
    "### Complex Polynomials"
   ]
  },
  {
   "cell_type": "markdown",
   "id": "cfb824a7-a2ba-44a2-b860-891bb2a702e2",
   "metadata": {},
   "source": [
    "## Analyzing the Distribution of Persistence Diagrams"
   ]
  },
  {
   "cell_type": "markdown",
   "id": "9934b636-ee39-4783-b83f-f1b77e5b807d",
   "metadata": {},
   "source": [
    "For the next analyses, we will need to compare persistence diagrams (pairwise). Giotto TDA needs all diagrams to have the same length for this (to have the same amount of holes). We will therefore cut off some \"noise\" (holes with low persistence) such that all persistence diagrams have the same length."
   ]
  },
  {
   "cell_type": "code",
   "execution_count": 25,
   "id": "7a64359c-396d-4af2-ac4a-caeeee33e31c",
   "metadata": {},
   "outputs": [],
   "source": [
    "def cut_diagrams(flattened_diagrams, no_holes_per_dimension):\n",
    "    # no_holes_per_dimension is a list indicating how many holes for each dimension there should be left\n",
    "    shortened_diagrams = []\n",
    "\n",
    "    for diagram in flattened_diagrams: # There are no_segments many diagrams per label at max (as chosen in the beginning)\n",
    "        most_significant_holes_per_diagram = []\n",
    "        holes = {}\n",
    "        for hole_dimension, number_of_holes in zip(range(3), no_holes_per_dimension):\n",
    "            # the third entry of each point (hole) in a diagram indicates its dimensionality\n",
    "            holes[hole_dimension] = diagram[np.where(diagram[:, 2] == hole_dimension)[0]]\n",
    "\n",
    "            if number_of_holes > len(holes[hole_dimension]):\n",
    "                print(\"Watch out! There is a diagram shorter than the shortened diagrams\")\n",
    "                print(\"It has \" + str(len(holes[hole_dimension])) + \" holes of dimension \" + str(hole_dimension))\n",
    "\n",
    "            # The first and second entries of each hole indicate its birth and death, the difference is the persistence\n",
    "            large_persistence_indices = np.argsort(holes[hole_dimension][:, 0] - holes[hole_dimension][:, 1])[-number_of_holes:]\n",
    "            \n",
    "            # For each dimension, getting the holes with the above indices (the holes with the largest persistence)\n",
    "            significant_holes_with_hole_dimension = holes[hole_dimension][large_persistence_indices, :]\n",
    "            most_significant_holes_per_diagram.extend(significant_holes_with_hole_dimension)\n",
    "\n",
    "        shortened_diagrams.append(most_significant_holes_per_diagram)\n",
    "\n",
    "    return shortened_diagrams"
   ]
  },
  {
   "cell_type": "code",
   "execution_count": 26,
   "id": "e53cf49d-b3a5-4f63-986f-b7ab0f544628",
   "metadata": {},
   "outputs": [],
   "source": [
    "# Label 1\n",
    "\n",
    "no_holes_per_dimension1 = [110, 80, 15]\n",
    "\n",
    "flattened_diagrams = []\n",
    "for key, value in diagrams1.items():\n",
    "    flattened_diagrams.append(value[0])\n",
    "\n",
    "shortened_diagrams1 = cut_diagrams(flattened_diagrams, no_holes_per_dimension1)"
   ]
  },
  {
   "cell_type": "code",
   "execution_count": 27,
   "id": "28d9b44d-ae9d-4a0a-a466-34609e850608",
   "metadata": {},
   "outputs": [],
   "source": [
    "# Label 3\n",
    "\n",
    "no_holes_per_dimension3 = [100, 68, 7]\n",
    "\n",
    "flattened_diagrams = []\n",
    "for key, value in diagrams3.items():\n",
    "    flattened_diagrams.append(value[0])\n",
    "\n",
    "shortened_diagrams3 = cut_diagrams(flattened_diagrams, no_holes_per_dimension3)"
   ]
  },
  {
   "cell_type": "code",
   "execution_count": 28,
   "id": "e34c97d8-9dbc-45c4-927e-4fbcaa9e2dcf",
   "metadata": {},
   "outputs": [],
   "source": [
    "# Label 5\n",
    "\n",
    "no_holes_per_dimension5 = [120, 60, 12] \n",
    "\n",
    "flattened_diagrams = []\n",
    "for key, value in diagrams5.items():\n",
    "    flattened_diagrams.append(value[0])\n",
    "\n",
    "shortened_diagrams5 = cut_diagrams(flattened_diagrams, no_holes_per_dimension5)"
   ]
  },
  {
   "cell_type": "code",
   "execution_count": 29,
   "id": "472ef81e-3ff4-4353-9439-c1e3b1c7a9a0",
   "metadata": {},
   "outputs": [],
   "source": [
    "# Label 7\n",
    "\n",
    "# One \"outlier\" diagram only has one 2-dimensional hole\n",
    "# Later, such outliers should be deleted before computing the pairwise distances\n",
    "# between all diagrams, because eventually all diagrams should be shortened to the\n",
    "# length of the shortest diagram\n",
    "\n",
    "no_holes_per_dimension7 = [50, 9, 1] \n",
    "\n",
    "\n",
    "flattened_diagrams = []\n",
    "for key, value in diagrams7.items():\n",
    "    flattened_diagrams.append(value[0])\n",
    "\n",
    "shortened_diagrams7 = cut_diagrams(flattened_diagrams, no_holes_per_dimension7)"
   ]
  },
  {
   "cell_type": "markdown",
   "id": "42d656de-ce09-4239-83ec-345675529e21",
   "metadata": {},
   "source": [
    "### Wasserstein Distances and Wasserstein Barycenter"
   ]
  },
  {
   "cell_type": "markdown",
   "id": "93fd3f18-ecdd-4d6d-a6fe-38be70222f6a",
   "metadata": {},
   "source": [
    "The Wasserstein Barycenter is the most representative persistence diagram in a set of diagrams, so the one with the lowest overall (Wasserstein) distance to all other diagrams."
   ]
  },
  {
   "cell_type": "markdown",
   "id": "866a088b-5e7a-49f3-b02d-ba2939f6e89a",
   "metadata": {},
   "source": [
    "Label 1"
   ]
  },
  {
   "cell_type": "code",
   "execution_count": null,
   "id": "b76269d7-848d-49eb-9d9f-a16c7eb7586c",
   "metadata": {},
   "outputs": [],
   "source": [
    "# Finding the most representative diagram for label 1\n",
    "\n",
    "# First, compute the pairwise Wasserstein distances\n",
    "wasserstein_distance1 = PairwiseDistance(metric=\"wasserstein\").fit_transform(shortened_diagrams1)\n",
    "\n",
    "# For each hole, calculate the sum of distances to all other holes\n",
    "sum_distances = [sum(dist) for dist in wasserstein_distance1]\n",
    "most_representative_index = np.argmin(sum_distances)\n",
    "\n",
    "# Find the index of the point with the smallest Wasserstein distances (sum)\n",
    "keys_of_diagrams1 = list(y_embedded1.keys())\n",
    "\n",
    "most_representative_key = keys_of_diagrams1[most_representative_index]\n",
    "\n",
    "# Wasserstein Barycenter for label 1\n",
    "representative_diagram1 = persistence.fit_transform_plot(y_embedded1[most_representative_key])"
   ]
  },
  {
   "cell_type": "code",
   "execution_count": null,
   "id": "607ce87c-2c8e-4157-8e65-2814699e091d",
   "metadata": {},
   "outputs": [],
   "source": [
    "# Create an histogram of the Wasserstein distance of all diagrams to the Wasserstein barycenter\n",
    "all_distances_to_barycenter1 = []\n",
    "\n",
    "shortened_barycenter1 = cut_diagrams([representative_diagram1[0]], no_holes_per_dimension1)\n",
    "\n",
    "for diagram in shortened_diagrams1:\n",
    "    dist = PairwiseDistance(metric=\"wasserstein\").fit_transform([diagram, shortened_barycenter1[0]])\n",
    "    all_distances_to_barycenter1.append(max(dist[0]))\n",
    "\n",
    "\n",
    "mean1 = statistics.mean(all_distances_to_barycenter1)\n",
    "mean = \"{:.9f}\".format(mean1)\n",
    "\n",
    "plt.hist(all_distances_to_barycenter1, bins=20, edgecolor='black', alpha=0.7)\n",
    "\n",
    "plt.xlabel('Wasserstein Distance')\n",
    "plt.ylabel('Frequency')\n",
    "plt.title('Distribution of Wasserstein Distances')\n",
    "\n",
    "plt.show()\n",
    "\n",
    "print(\"\")\n",
    "print(\"The mean Distance to Wasserstein barycenter for label 1: \" + str(mean))"
   ]
  },
  {
   "cell_type": "markdown",
   "id": "f688ee8c-d4f3-46a9-8e47-6ee28292c0ad",
   "metadata": {},
   "source": [
    "\n"
   ]
  },
  {
   "cell_type": "markdown",
   "id": "5e803dff-71ee-4d5b-b8ed-6cce3d6b5778",
   "metadata": {},
   "source": [
    "Label 3"
   ]
  },
  {
   "cell_type": "code",
   "execution_count": null,
   "id": "4b2aa809-bf64-48f9-a63b-80b83d31627b",
   "metadata": {},
   "outputs": [],
   "source": [
    "# Compute the pairwise Wasserstein distances also for label 3\n",
    "wasserstein_distance3 = PairwiseDistance(metric=\"wasserstein\").fit_transform(shortened_diagrams3)\n",
    "\n",
    "# For each hole, calculate the sum of distances to all other holes\n",
    "sum_distances = [sum(dist) for dist in wasserstein_distance3]\n",
    "\n",
    "# Find the index of the point with the smallest Wasserstein distances (sum)\n",
    "most_representative_index = np.argmin(sum_distances)\n",
    "\n",
    "keys_of_diagrams3 = list(y_embedded3.keys())\n",
    "\n",
    "most_representative_key = keys_of_diagrams3[most_representative_index]\n",
    "\n",
    "# Wasserstein Barycenter for label 3\n",
    "representative_diagram3 = persistence.fit_transform_plot(y_embedded3[most_representative_key])"
   ]
  },
  {
   "cell_type": "code",
   "execution_count": null,
   "id": "18d101ac-08e1-4315-afa1-3a43d99acc5e",
   "metadata": {},
   "outputs": [],
   "source": [
    "# Create an histogram of the Wasserstein distance of all diagrams to the Wasserstein barycenter\n",
    "all_distances_to_barycenter3 = []\n",
    "\n",
    "shortened_barycenter3 = cut_diagrams([representative_diagram3[0]], no_holes_per_dimension3)\n",
    "\n",
    "for diagram in shortened_diagrams3:\n",
    "    dist = PairwiseDistance(metric=\"wasserstein\").fit_transform([diagram, shortened_barycenter3[0]])\n",
    "    all_distances_to_barycenter3.append(max(dist[0]))\n",
    "\n",
    "\n",
    "mean3 = statistics.mean(all_distances_to_barycenter3)\n",
    "mean = \"{:.9f}\".format(mean3)\n",
    "\n",
    "plt.hist(all_distances_to_barycenter3, bins=20, edgecolor='black', alpha=0.7)\n",
    "\n",
    "plt.xlabel('Wasserstein Distance')\n",
    "plt.ylabel('Frequency')\n",
    "plt.title('Distribution of Wasserstein Distances')\n",
    "\n",
    "plt.show()\n",
    "\n",
    "print(\"\")\n",
    "print(\"The mean Distance to Wasserstein barycenter for label 3: \" + str(mean))"
   ]
  },
  {
   "cell_type": "markdown",
   "id": "dd712913-fecc-4f6b-890d-4be237bc0c3d",
   "metadata": {},
   "source": [
    "\n"
   ]
  },
  {
   "cell_type": "markdown",
   "id": "3d5d3434-a6b2-49c5-b675-da42256bf36e",
   "metadata": {},
   "source": [
    "Label 5"
   ]
  },
  {
   "cell_type": "code",
   "execution_count": null,
   "id": "ed3c956f-6071-424a-a1b5-4f0e2debfc48",
   "metadata": {},
   "outputs": [],
   "source": [
    "# Compute the pairwise Wasserstein distances for label 4\n",
    "wasserstein_distance5 = PairwiseDistance(metric=\"wasserstein\").fit_transform(shortened_diagrams5)\n",
    "\n",
    "# For each hole, calculate the sum of distances to all other holes\n",
    "sum_distances = [sum(dist) for dist in wasserstein_distance5]\n",
    "\n",
    "most_representative_index = np.argmin(sum_distances)\n",
    "\n",
    "\n",
    "keys_of_diagrams5 = list(y_embedded5.keys())\n",
    "\n",
    "most_representative_key = keys_of_diagrams5[most_representative_index]\n",
    "\n",
    "# Wasserstein Barycenter for label 5\n",
    "representative_diagram5 = persistence.fit_transform_plot(y_embedded5[most_representative_key])"
   ]
  },
  {
   "cell_type": "code",
   "execution_count": null,
   "id": "3792da84-9706-429e-9bea-de5ffe153634",
   "metadata": {},
   "outputs": [],
   "source": [
    "# Create an histogram of the Wasserstein distance of all diagrams to the Wasserstein barycenter\n",
    "all_distances_to_barycenter5 = []\n",
    "\n",
    "shortened_barycenter5 = cut_diagrams([representative_diagram5[0]], no_holes_per_dimension5)\n",
    "\n",
    "for diagram in shortened_diagrams5:\n",
    "    dist = PairwiseDistance(metric=\"wasserstein\").fit_transform([diagram, shortened_barycenter5[0]])\n",
    "    all_distances_to_barycenter5.append(max(dist[0]))\n",
    "\n",
    "\n",
    "mean5 = statistics.mean(all_distances_to_barycenter1)\n",
    "mean = \"{:.9f}\".format(mean5)\n",
    "\n",
    "plt.hist(all_distances_to_barycenter5, bins=20, edgecolor='black', alpha=0.7)\n",
    "\n",
    "plt.xlabel('Wasserstein Distance')\n",
    "plt.ylabel('Frequency')\n",
    "plt.title('Distribution of Wasserstein Distances')\n",
    "\n",
    "plt.show()\n",
    "\n",
    "print(\"\")\n",
    "print(\"The mean Distance to Wasserstein barycenter for label 5: \" + str(mean))"
   ]
  },
  {
   "cell_type": "markdown",
   "id": "6e024f52-a94c-40fe-ad94-ac35187e243f",
   "metadata": {},
   "source": [
    "#### Results\n",
    "\n",
    "The Wasserstein Distance distributions of label 3 and 5 are broader than the one of label 5, and the average distances are twice as large, so the diagrams are more diverse (there is more variability)."
   ]
  },
  {
   "cell_type": "markdown",
   "id": "84ae4e1b-65ae-4dfb-929f-71af3f8f4d7f",
   "metadata": {},
   "source": [
    "#### Computing Average Across-Label Distance for new Data"
   ]
  },
  {
   "cell_type": "markdown",
   "id": "31857dae-e6fb-42cb-bf3f-d2fcb4c25882",
   "metadata": {},
   "source": [
    "Trying to assign new label 1 segments."
   ]
  },
  {
   "cell_type": "code",
   "execution_count": null,
   "id": "705b71d7-2b69-448d-848c-9d54e2f55bce",
   "metadata": {},
   "outputs": [],
   "source": [
    "# Taking the next segments in data\n",
    "\n",
    "for label in list(set(labels)): \n",
    "    indices = [index for index, value in enumerate(labels) if value == label][no_segments:no_segments+80]\n",
    "    indices_dict[label] = indices\n",
    "\n",
    "# Point cloud embeddings\n",
    "new_y_embedded1 = {} \n",
    "\n",
    "# Persistence diagrams\n",
    "new_diagrams1 = {}\n",
    "\n",
    "# Loop through the first segments with label '1'\n",
    "for label_idx in indices_dict[1]:\n",
    "    new_y_embedded1[label_idx] = embedder_periodic.fit_transform(eeg_segments[label_idx])[None, :, :]\n",
    "    new_diagrams1[label_idx] = persistence.fit_transform(new_y_embedded1[label_idx])\n",
    "\n",
    "no_holes_per_dimension1 = [120, 60, 11] \n",
    "\n",
    "flattened_diagrams = []\n",
    "for key, value in new_diagrams1.items():\n",
    "    flattened_diagrams.append(value[0])\n",
    "\n",
    "new_shortened_diagrams1 = cut_diagrams(flattened_diagrams, no_holes_per_dimension1)"
   ]
  },
  {
   "cell_type": "code",
   "execution_count": null,
   "id": "e735dc44-2817-4aad-9fa5-62d28e9d2753",
   "metadata": {},
   "outputs": [],
   "source": [
    "all_distances_to_barycenter1 = []\n",
    "all_distances_to_barycenter3 = []\n",
    "all_distances_to_barycenter5 = []\n",
    "\n",
    "shortened_barycenter1 = cut_diagrams([representative_diagram1[0]], no_holes_per_dimension1)\n",
    "shortened_barycenter3 = cut_diagrams([representative_diagram3[0]], no_holes_per_dimension1)\n",
    "shortened_barycenter5 = cut_diagrams([representative_diagram5[0]], no_holes_per_dimension1)\n",
    "\n",
    "accurately_assigned = 0\n",
    "\n",
    "for diagram in new_shortened_diagrams1:\n",
    "    dist_to_1 = PairwiseDistance(metric=\"wasserstein\").fit_transform([diagram, shortened_barycenter1[0]])\n",
    "    dist_to_3 = PairwiseDistance(metric=\"wasserstein\").fit_transform([diagram, shortened_barycenter3[0]])\n",
    "    dist_to_5 = PairwiseDistance(metric=\"wasserstein\").fit_transform([diagram, shortened_barycenter5[0]])\n",
    "\n",
    "    scaled_dist_to_1 = max(dist_to_1[0])/mean1\n",
    "    scaled_dist_to_3 = max(dist_to_3[0])/mean3\n",
    "    scaled_dist_to_5 = max(dist_to_5[0])/mean5\n",
    "\n",
    "    if scaled_dist_to_1 == min(scaled_dist_to_1, scaled_dist_to_3, scaled_dist_to_5):\n",
    "        accurately_assigned += 1\n",
    "\n",
    "    all_distances_to_barycenter1.append(scaled_dist_to_1)\n",
    "    all_distances_to_barycenter3.append(scaled_dist_to_3)\n",
    "    all_distances_to_barycenter5.append(scaled_dist_to_5)\n",
    "\n",
    "\n",
    "mean = statistics.mean(all_distances_to_barycenter1)\n",
    "absolute_mean = mean*mean1\n",
    "mean = \"{:.9f}\".format(mean)\n",
    "print(\"Mean scaled distance of new label 1 diagrams to label 1 Wasserstein barycenter: \" + str(mean))\n",
    "\n",
    "\n",
    "print(\"\")\n",
    "mean = statistics.mean(all_distances_to_barycenter3)\n",
    "absolute_mean = mean*mean3\n",
    "mean = \"{:.9f}\".format(mean)\n",
    "print(\"Mean scaled distance of new label 1 diagrams to label 3 Wasserstein barycenter: \" + str(mean))\n",
    "\n",
    "\n",
    "print(\"\")\n",
    "mean = statistics.mean(all_distances_to_barycenter5)\n",
    "absolute_mean = mean*mean5\n",
    "mean = \"{:.9f}\".format(mean)\n",
    "print(\"Mean scaled distance of new label 1 diagrams to label 5 Wasserstein barycenter: \" + str(mean))\n",
    "\n",
    "print(\"\")\n",
    "print(\"Overall accuracy: \" + str(accurately_assigned/len(new_shortened_diagrams1)))"
   ]
  },
  {
   "cell_type": "markdown",
   "id": "d7d14e58-5bab-4626-ab72-086d296cdba3",
   "metadata": {},
   "source": [
    "Doing the same for label 3."
   ]
  },
  {
   "cell_type": "code",
   "execution_count": null,
   "id": "a049ff7e-46c5-4536-a2f8-190da182aa80",
   "metadata": {},
   "outputs": [],
   "source": [
    "# Taking the next segments in data\n",
    "for label in list(set(labels)): \n",
    "    indices = [index for index, value in enumerate(labels) if value == label][no_segments:no_segments+80]\n",
    "    indices_dict[label] = indices\n",
    "\n",
    "# Point cloud embeddings\n",
    "new_y_embedded3 = {} \n",
    "\n",
    "# Persistence diagrams\n",
    "new_diagrams3 = {}\n",
    "\n",
    "# Loop through the first segments with label '3'\n",
    "for label_idx in indices_dict[3]:\n",
    "    new_y_embedded3[label_idx] = embedder_periodic.fit_transform(eeg_segments[label_idx])[None, :, :]\n",
    "    new_diagrams3[label_idx] = persistence.fit_transform(new_y_embedded3[label_idx])\n",
    "\n",
    "\n",
    "no_holes_per_dimension3 = [120, 50, 9] \n",
    "\n",
    "flattened_diagrams = []\n",
    "for key, value in new_diagrams3.items():\n",
    "    flattened_diagrams.append(value[0])\n",
    "\n",
    "new_shortened_diagrams3 = cut_diagrams(flattened_diagrams, no_holes_per_dimension3)"
   ]
  },
  {
   "cell_type": "code",
   "execution_count": null,
   "id": "9ede76b5-832c-4e87-b599-237a92b515db",
   "metadata": {},
   "outputs": [],
   "source": [
    "all_distances_to_barycenter1 = []\n",
    "all_distances_to_barycenter3 = []\n",
    "all_distances_to_barycenter5 = []\n",
    "\n",
    "shortened_barycenter1 = cut_diagrams([representative_diagram1[0]], no_holes_per_dimension3)\n",
    "shortened_barycenter3 = cut_diagrams([representative_diagram3[0]], no_holes_per_dimension3)\n",
    "shortened_barycenter5 = cut_diagrams([representative_diagram5[0]], no_holes_per_dimension3)\n",
    "\n",
    "\n",
    "accurately_assigned = 0\n",
    "\n",
    "for diagram in new_shortened_diagrams3:\n",
    "    dist_to_1 = PairwiseDistance(metric=\"wasserstein\").fit_transform([diagram, shortened_barycenter1[0]])\n",
    "    dist_to_3 = PairwiseDistance(metric=\"wasserstein\").fit_transform([diagram, shortened_barycenter3[0]])\n",
    "    dist_to_5 = PairwiseDistance(metric=\"wasserstein\").fit_transform([diagram, shortened_barycenter5[0]])\n",
    "\n",
    "    scaled_dist_to_1 = max(dist_to_1[0])/mean1\n",
    "    scaled_dist_to_3 = max(dist_to_3[0])/mean3\n",
    "    scaled_dist_to_5 = max(dist_to_5[0])/mean5\n",
    "\n",
    "    if scaled_dist_to_3 == min(scaled_dist_to_1, scaled_dist_to_3, scaled_dist_to_5):\n",
    "        accurately_assigned += 1\n",
    "\n",
    "    all_distances_to_barycenter1.append(scaled_dist_to_1)\n",
    "    all_distances_to_barycenter3.append(scaled_dist_to_3)\n",
    "    all_distances_to_barycenter5.append(scaled_dist_to_5)\n",
    "\n",
    "\n",
    "mean = statistics.mean(all_distances_to_barycenter1)\n",
    "absolute_mean = mean*mean1\n",
    "mean = \"{:.9f}\".format(mean)\n",
    "print(\"Mean scaled distance of new label 3 diagrams to label 1 Wasserstein barycenter: \" + str(mean))\n",
    "\n",
    "\n",
    "print(\"\")\n",
    "mean = statistics.mean(all_distances_to_barycenter3)\n",
    "absolute_mean = mean*mean3\n",
    "mean = \"{:.9f}\".format(mean)\n",
    "print(\"Mean scaled distance of new label 3 diagrams to label 3 Wasserstein barycenter: \" + str(mean))\n",
    "\n",
    "\n",
    "print(\"\")\n",
    "mean = statistics.mean(all_distances_to_barycenter5)\n",
    "absolute_mean = mean*mean5\n",
    "mean = \"{:.9f}\".format(mean)\n",
    "print(\"Mean scaled distance of new label 3 diagrams to label 5 Wasserstein barycenter: \" + str(mean))\n",
    "\n",
    "print(\"\")\n",
    "print(\"Overall accuracy: \" + str(accurately_assigned/len(new_shortened_diagrams3)))"
   ]
  },
  {
   "cell_type": "markdown",
   "id": "ca919e80-4d3c-4400-9a81-0f035702059c",
   "metadata": {},
   "source": [
    "\n"
   ]
  },
  {
   "cell_type": "markdown",
   "id": "9e262908-2b56-4f7e-8c64-8b500488b882",
   "metadata": {},
   "source": [
    "\n"
   ]
  },
  {
   "cell_type": "markdown",
   "id": "bc6175e4-00bd-443d-83af-184ea70adc10",
   "metadata": {},
   "source": [
    "### HeatKernel"
   ]
  },
  {
   "cell_type": "markdown",
   "id": "9f076503-7c93-4873-9195-36793cf4d45a",
   "metadata": {},
   "source": [
    "In a way, the Heat Kernel shows an \"average distribution\" of the persistence diagrams for each label, seperated per hole dimensionality."
   ]
  },
  {
   "cell_type": "markdown",
   "id": "db92b1fe-da54-4ca4-b40b-b5eb09c94ca2",
   "metadata": {},
   "source": [
    "Label 1"
   ]
  },
  {
   "cell_type": "code",
   "execution_count": null,
   "id": "f21ee4c1-5f1c-46e5-bed3-3cee654757c1",
   "metadata": {},
   "outputs": [],
   "source": [
    "HK = HeatKernel(sigma=0.00003, n_bins=100)\n",
    "\n",
    "heatkernel = HK.fit_transform(shortened_diagrams1)\n",
    "\n",
    "HK.plot(heatkernel, homology_dimension_idx=0)"
   ]
  },
  {
   "cell_type": "code",
   "execution_count": null,
   "id": "9e13468b-5515-4788-bcd8-62a55ac2e98d",
   "metadata": {},
   "outputs": [],
   "source": [
    "np.mean(heatkernel)"
   ]
  },
  {
   "cell_type": "code",
   "execution_count": null,
   "id": "21d6e913-8895-45e8-9ddc-9677b8a2f6ce",
   "metadata": {},
   "outputs": [],
   "source": [
    "HK.plot(heatkernel, homology_dimension_idx=1)"
   ]
  },
  {
   "cell_type": "code",
   "execution_count": null,
   "id": "a35b96c5-e35c-4bf3-9693-ab5d01f4375f",
   "metadata": {
    "scrolled": true
   },
   "outputs": [],
   "source": [
    "HK.plot(heatkernel, homology_dimension_idx=2)"
   ]
  },
  {
   "cell_type": "markdown",
   "id": "eaef0d71-1e47-4c6a-9cf4-b5b6b981f8c7",
   "metadata": {},
   "source": [
    "Label 3"
   ]
  },
  {
   "cell_type": "code",
   "execution_count": null,
   "id": "a6545896-3526-4323-b593-e6908952e45f",
   "metadata": {},
   "outputs": [],
   "source": [
    "heatkernel = HK.fit_transform(shortened_diagrams3)\n",
    "\n",
    "HK.plot(heatkernel, homology_dimension_idx=0)"
   ]
  },
  {
   "cell_type": "code",
   "execution_count": null,
   "id": "3f4f9812-5e6d-48d0-b4db-5744a2cec891",
   "metadata": {},
   "outputs": [],
   "source": []
  },
  {
   "cell_type": "code",
   "execution_count": null,
   "id": "063d0fcc-5f23-404d-b53d-683517a36944",
   "metadata": {},
   "outputs": [],
   "source": [
    "np.mean(heatkernel)"
   ]
  },
  {
   "cell_type": "markdown",
   "id": "a9fa7e7f-339f-4604-a2ed-d6afbfbbccfb",
   "metadata": {},
   "source": [
    "Higher \"intensity\" than above"
   ]
  },
  {
   "cell_type": "code",
   "execution_count": null,
   "id": "64736524-bfea-48ce-9f76-59e73aff7013",
   "metadata": {},
   "outputs": [],
   "source": [
    "heatkernel = HK.fit_transform([shortened_diagrams3[0]])"
   ]
  },
  {
   "cell_type": "code",
   "execution_count": null,
   "id": "23dc6faa-c56c-4e85-88f0-9fcf4e45646c",
   "metadata": {},
   "outputs": [],
   "source": [
    "len(heatkernel[0][0]) # 100 bins"
   ]
  },
  {
   "cell_type": "markdown",
   "id": "a81d540c-2036-4552-8af5-a8c027189fc8",
   "metadata": {},
   "source": [
    "Return dimensions: (n_samples, n_homology_dimensions, n_bins, n_bins)"
   ]
  },
  {
   "cell_type": "code",
   "execution_count": null,
   "id": "92cf4099-72c1-427a-8455-29ba79607981",
   "metadata": {},
   "outputs": [],
   "source": [
    "HK.plot(heatkernel, homology_dimension_idx=1)"
   ]
  },
  {
   "cell_type": "code",
   "execution_count": null,
   "id": "a2653cd0-9ba0-4d0e-a8a3-c7a5f07af94a",
   "metadata": {},
   "outputs": [],
   "source": [
    "np.mean(heatkernel)"
   ]
  },
  {
   "cell_type": "code",
   "execution_count": null,
   "id": "48c9200c-acb7-4fc2-8a2c-a732d149fdee",
   "metadata": {},
   "outputs": [],
   "source": [
    "HK.plot(heatkernel, homology_dimension_idx=2)"
   ]
  },
  {
   "cell_type": "markdown",
   "id": "4279b179-a990-4e34-b62b-50215a00aed8",
   "metadata": {},
   "source": [
    "Label 5"
   ]
  },
  {
   "cell_type": "code",
   "execution_count": null,
   "id": "799d15c0-4177-48cc-b0d9-67e705a6fd0a",
   "metadata": {},
   "outputs": [],
   "source": [
    "heatkernel = HK.fit_transform(shortened_diagrams5)\n",
    "\n",
    "HK.plot(heatkernel, homology_dimension_idx=0)"
   ]
  },
  {
   "cell_type": "code",
   "execution_count": null,
   "id": "58c9ce0b-e6da-4805-b5da-66355c8041c2",
   "metadata": {},
   "outputs": [],
   "source": [
    "HK.plot(heatkernel, homology_dimension_idx=1)"
   ]
  },
  {
   "cell_type": "code",
   "execution_count": null,
   "id": "2009417f-7ee3-42e8-aa26-48002a3f4501",
   "metadata": {},
   "outputs": [],
   "source": [
    "HK.plot(heatkernel, homology_dimension_idx=2)"
   ]
  },
  {
   "cell_type": "markdown",
   "id": "9f6d0081-5506-4009-ac47-12bcf75a438c",
   "metadata": {},
   "source": [
    "### Persistance Landscape"
   ]
  },
  {
   "cell_type": "code",
   "execution_count": null,
   "id": "6fa80416-5021-4a80-ab17-6b8dab9ae2d8",
   "metadata": {},
   "outputs": [],
   "source": [
    "PL = PersistenceLandscape()"
   ]
  },
  {
   "cell_type": "markdown",
   "id": "61c6ce3f-c0b1-476b-b23f-bc152e3a6544",
   "metadata": {},
   "source": [
    "Label 1"
   ]
  },
  {
   "cell_type": "markdown",
   "id": "7ebab244-b14d-424b-8860-e0dff53bbea5",
   "metadata": {},
   "source": [
    "Persistence landscapes map persistence diagrams into a function space, which may often be taken to be a Banach space or even a Hilbert space"
   ]
  },
  {
   "cell_type": "code",
   "execution_count": null,
   "id": "b098d888-1c0f-43fe-ad20-81f427f0b893",
   "metadata": {},
   "outputs": [],
   "source": [
    "persistence_landscape = PL.fit_transform(shortened_diagrams1)\n",
    "\n",
    "PL.plot(persistence_landscape)"
   ]
  },
  {
   "cell_type": "markdown",
   "id": "2a68936f-995e-429e-8e45-bfa0b99c390b",
   "metadata": {},
   "source": [
    "Label 3"
   ]
  },
  {
   "cell_type": "code",
   "execution_count": null,
   "id": "ff49cb20-df84-438b-a158-f47dc592bf42",
   "metadata": {},
   "outputs": [],
   "source": [
    "persistence_landscape = PL.fit_transform(shortened_diagrams3)\n",
    "\n",
    "PL.plot(persistence_landscape)"
   ]
  },
  {
   "cell_type": "markdown",
   "id": "89a52d44-cc75-46c3-a60a-b9649e6de01b",
   "metadata": {},
   "source": [
    "Label 5"
   ]
  },
  {
   "cell_type": "code",
   "execution_count": null,
   "id": "8cae529e-4b85-4e95-84c7-120f72337f45",
   "metadata": {},
   "outputs": [],
   "source": [
    "persistence_landscape = PL.fit_transform(shortened_diagrams5)\n",
    "\n",
    "PL.plot(persistence_landscape)"
   ]
  },
  {
   "cell_type": "markdown",
   "id": "6fa148ff-b44d-4c40-a7a6-33ba74fb0922",
   "metadata": {},
   "source": [
    "## Silhouette"
   ]
  },
  {
   "cell_type": "markdown",
   "id": "c9bf408c-98df-4020-a3d0-42dd26a07e22",
   "metadata": {},
   "source": [
    "I calculated an overall silhouette for all labels together."
   ]
  },
  {
   "cell_type": "code",
   "execution_count": null,
   "id": "a42d0fac-2a71-4e2b-9a5c-b91a197b1213",
   "metadata": {},
   "outputs": [],
   "source": [
    "diagrams_with_significant_points_only = []\n",
    "\n",
    "diagrams_with_significant_points_only.extend(shortened_diagrams1)\n",
    "diagrams_with_significant_points_only.extend(shortened_diagrams3)"
   ]
  },
  {
   "cell_type": "code",
   "execution_count": null,
   "id": "c5e33f0e-0d1a-4f87-a94e-f6395289cb5a",
   "metadata": {},
   "outputs": [],
   "source": [
    "SH = Silhouette()\n",
    "\n",
    "silhouette = SH.fit_transform(diagrams_with_significant_points_only)\n",
    "\n",
    "SH.plot(silhouette, homology_dimensions = [0])"
   ]
  },
  {
   "cell_type": "code",
   "execution_count": null,
   "id": "45ac7b7d-2e9e-4f46-9011-a7bfaa5450b0",
   "metadata": {},
   "outputs": [],
   "source": [
    "SH.plot(silhouette, homology_dimensions = [1])"
   ]
  },
  {
   "cell_type": "code",
   "execution_count": null,
   "id": "d39713f3-dd82-4d96-b963-666c51a3acfa",
   "metadata": {},
   "outputs": [],
   "source": [
    "SH.plot(silhouette, homology_dimensions = [2])"
   ]
  },
  {
   "cell_type": "markdown",
   "id": "978df457-553b-42eb-af15-b7cff3d3a2fe",
   "metadata": {},
   "source": [
    "## Scatter plots"
   ]
  },
  {
   "cell_type": "markdown",
   "id": "02f6c9d6-ca81-4245-976e-7587b55ad1db",
   "metadata": {},
   "source": [
    "This is mainly for fun. It'is an example scatter plot for showing dependencies between the number of holes of different dimensions in a persistence diagram. "
   ]
  },
  {
   "cell_type": "code",
   "execution_count": null,
   "id": "89986dbc-40fa-4ea3-aa03-3710f5183234",
   "metadata": {},
   "outputs": [],
   "source": [
    "plt.scatter(z1, y1)\n",
    "plt.show()"
   ]
  },
  {
   "cell_type": "code",
   "execution_count": null,
   "id": "93ca2644-5fc2-4680-b5d6-c6b38a01efbc",
   "metadata": {},
   "outputs": [],
   "source": [
    "plt.scatter(z3, y3)\n",
    "plt.show()"
   ]
  },
  {
   "cell_type": "markdown",
   "id": "79d155f8-d946-487e-8c8f-91e99c279a21",
   "metadata": {},
   "source": [
    "The numbers of tunnels and voids are positively correlated."
   ]
  },
  {
   "cell_type": "markdown",
   "id": "5a73cce8-c927-4fae-ab65-abb231cc767d",
   "metadata": {},
   "source": [
    "\n"
   ]
  },
  {
   "cell_type": "markdown",
   "id": "eda797d7-4017-4568-a68f-0ffc6a3b7df4",
   "metadata": {},
   "source": [
    "# Global Approach"
   ]
  },
  {
   "cell_type": "code",
   "execution_count": null,
   "id": "92fbbfca-1887-4aa4-9e54-7d2b09d5b680",
   "metadata": {},
   "outputs": [],
   "source": [
    "# Merge Together all segments with the same label\n",
    "grouped_segments = {label: [] for label in {1, 2, 3, 4, 5, 7}}\n",
    "\n",
    "# Group segments based on labels\n",
    "for segment, label in zip(eeg_segments, labels):\n",
    "    grouped_segments[label].extend(segment)\n",
    "\n",
    "# Create merged lists for each label\n",
    "merged_lists = {label: merged_segment for label, merged_segment in grouped_segments.items()}"
   ]
  },
  {
   "cell_type": "markdown",
   "id": "22792d00-98f5-496a-a04d-36dea01b4210",
   "metadata": {},
   "source": [
    "## PCA Point Cloud"
   ]
  },
  {
   "cell_type": "code",
   "execution_count": null,
   "id": "5d82b7df-2e08-4f07-a410-62e538a7140e",
   "metadata": {},
   "outputs": [],
   "source": [
    "data = []\n",
    "data.extend(merged_lists[1])\n",
    "data.extend(merged_lists[3])\n",
    "data.extend(merged_lists[4])\n",
    "\n",
    "global_y_embedded = embedder_periodic.fit_transform(data[:10000])\n",
    "\n",
    "# Apply dimensionality PCA to project down to 3-dimensions for visualisation:\n",
    "pca = PCA(n_components=3)\n",
    "y_embedded_pca = pca.fit_transform(global_y_embedded)\n",
    "plot_point_cloud(y_embedded_pca)"
   ]
  },
  {
   "cell_type": "markdown",
   "id": "ce3ebfbc-ea44-4de1-b601-ec014be10e13",
   "metadata": {},
   "source": [
    "There are no clusters or similar visible here"
   ]
  },
  {
   "cell_type": "code",
   "execution_count": null,
   "id": "2d16537c-ec54-4706-aa36-e042da68a347",
   "metadata": {},
   "outputs": [],
   "source": [
    "global_y_embedded1 = embedder_periodic.fit_transform(merged_lists[1][:10000])\n",
    "global_y_embedded3 = embedder_periodic.fit_transform(merged_lists[3][:10000])\n",
    "global_y_embedded5 = embedder_periodic.fit_transform(merged_lists[5][:10000])\n"
   ]
  },
  {
   "cell_type": "markdown",
   "id": "c7bc4734-0982-4e31-ade7-4c1eee45dc05",
   "metadata": {},
   "source": [
    "## Persistence Diagrams"
   ]
  },
  {
   "cell_type": "markdown",
   "id": "e794f7e4-58d9-4e96-8076-ec0d4e7fc181",
   "metadata": {},
   "source": [
    "Label 1"
   ]
  },
  {
   "cell_type": "code",
   "execution_count": null,
   "id": "be48bd42-c2c2-4683-ab46-b805a6b5af43",
   "metadata": {},
   "outputs": [],
   "source": [
    "# Persistance Diagram for the whole data labelled with 1 (or rather first 10,000 entries)\n",
    "global_diagram1 = persistence.fit_transform_plot(global_y_embedded1[None, :, :])\n",
    "global_persistence_entropy1 = PE.fit_transform(global_diagram1)\n",
    "global_amplitude1  = AM.fit_transform(global_diagram1)\n",
    "global_no_points1  = NP.fit_transform(global_diagram1)\n",
    "global_complex_polynomial1  = CP.fit_transform(global_diagram1)\n",
    "\n",
    "print(\"Features for dimensions 0, 1, 2:\")\n",
    "print(\"\")\n",
    "print(\"Persistence Entropies: \" + str(global_persistence_entropy1))\n",
    "print(\"Amplitudes: \" + str(global_amplitude1))\n",
    "print(\"Numbers of Points: \" + str(global_no_points1))\n",
    "#print(\"Complex Polynomials: \" + str(global_complex_polynomial1))"
   ]
  },
  {
   "cell_type": "markdown",
   "id": "18e8d75b-19ca-4347-ab87-dadc16883977",
   "metadata": {},
   "source": [
    "Label 3"
   ]
  },
  {
   "cell_type": "code",
   "execution_count": null,
   "id": "ff232411-a48c-4b5a-ba9b-79821dbee4a5",
   "metadata": {
    "scrolled": true
   },
   "outputs": [],
   "source": [
    "# Persistance Diagram for the whole data labelled with 3 (or rather first 10,000 entries)\n",
    "y_embedded = global_y_embedded3[None, :, :]\n",
    "\n",
    "global_diagram3 = persistence.fit_transform_plot(y_embedded)\n",
    "\n",
    "global_persistence_entropy3 = PE.fit_transform(global_diagram3)\n",
    "global_amplitude3  = AM.fit_transform(global_diagram3)\n",
    "global_no_points3  = NP.fit_transform(global_diagram3)\n",
    "global_complex_polynomial3  = CP.fit_transform(global_diagram3)\n",
    "\n",
    "print(\"Features for dimensions 0, 1, 2:\")\n",
    "print(\"\")\n",
    "print(\"Persistence Entropies: \" + str(global_persistence_entropy3))\n",
    "print(\"Amplitudes: \" + str(global_amplitude3))\n",
    "print(\"Numbers of Points: \" + str(global_no_points3))\n",
    "#print(\"Complex Polynomials: \" + str(global_complex_polynomial3))"
   ]
  },
  {
   "cell_type": "code",
   "execution_count": null,
   "id": "187bfa99-4127-4a13-98fa-ad92f1f7137d",
   "metadata": {},
   "outputs": [],
   "source": [
    "# Persistance Diagram for the whole data labelled with 4 (or rather first 10,000 entries)\n",
    "y_embedded = global_y_embedded5[None, :, :]\n",
    "\n",
    "global_diagram4 = persistence.fit_transform_plot(y_embedded)\n",
    "\n",
    "global_persistence_entropy4 = PE.fit_transform(global_diagram4)\n",
    "global_amplitude4  = AM.fit_transform(global_diagram4)\n",
    "global_no_points4  = NP.fit_transform(global_diagram4)\n",
    "global_complex_polynomial4  = CP.fit_transform(global_diagram4)\n",
    "\n",
    "print(\"Features for dimensions 0, 1, 2:\")\n",
    "print(\"\")\n",
    "print(\"Persistence Entropies: \" + str(global_persistence_entropy4))\n",
    "print(\"Amplitudes: \" + str(global_amplitude4))\n",
    "print(\"Numbers of Points: \" + str(global_no_points4))\n",
    "#print(\"Complex Polynomials: \" + str(global_complex_polynomial3))"
   ]
  },
  {
   "cell_type": "markdown",
   "id": "8c418f61-eab2-4c9b-8ce2-6be42b1ea093",
   "metadata": {},
   "source": [
    "#### Analysis \n",
    "- They visually look different, but also have different scales\n",
    "- The amplitude (especially of connectivities) for label 1 is much lower than for the other two labels\n",
    "-  Label 3 also has relatively few voids, label 1 has the most voids (which is also visible in the \"Number of Points\" plot in the Local Analyis)"
   ]
  },
  {
   "cell_type": "markdown",
   "id": "0c974784-23a2-47f6-ae48-1dc51c09e5eb",
   "metadata": {},
   "source": [
    "## Persistence Landscape"
   ]
  },
  {
   "cell_type": "code",
   "execution_count": null,
   "id": "957e56e4-c0cd-4357-9e3d-39454021cfd6",
   "metadata": {},
   "outputs": [],
   "source": [
    "PL = PersistenceLandscape()\n"
   ]
  },
  {
   "cell_type": "code",
   "execution_count": null,
   "id": "931feb4c-1efd-42e0-8ae7-f38d29443342",
   "metadata": {},
   "outputs": [],
   "source": [
    "# Persistence landscape for label 1\n",
    "\n",
    "persistence_landscape = PL.fit_transform(global_diagram1)\n",
    "\n",
    "PL.plot(persistence_landscape)"
   ]
  },
  {
   "cell_type": "code",
   "execution_count": null,
   "id": "11242d5e-9651-4753-91e4-81323037ed27",
   "metadata": {},
   "outputs": [],
   "source": [
    "# Persistence landscape for label 3\n",
    "\n",
    "persistence_landscape = PL.fit_transform(global_diagram3)\n",
    "\n",
    "PL.plot(persistence_landscape)"
   ]
  },
  {
   "cell_type": "code",
   "execution_count": null,
   "id": "cd50a88a-dcd6-4dcc-bb92-f91613c4069e",
   "metadata": {},
   "outputs": [],
   "source": [
    "# Persistence landscape for label 4\n",
    "\n",
    "persistence_landscape = PL.fit_transform(global_diagram4)\n",
    "\n",
    "PL.plot(persistence_landscape)"
   ]
  },
  {
   "cell_type": "markdown",
   "id": "6608208a-2157-465d-ab14-3c6f67826949",
   "metadata": {},
   "source": [
    "# Experiments"
   ]
  },
  {
   "cell_type": "markdown",
   "id": "f1e1cc08-1682-40a4-b438-df7e97656ebf",
   "metadata": {},
   "source": [
    "## Experiments with PCA & ICA"
   ]
  },
  {
   "cell_type": "markdown",
   "id": "dffdb2ab-f411-444f-ac2e-a777eb6b1814",
   "metadata": {},
   "source": [
    "Comparing the three approaches for the noisy level 4\n",
    "\n",
    "- Using an Embedding dimension of 5 and reducing the space to 3D with PCA\n",
    "- Using an Embedding dimension of 5 and reducing the space to 3D with ICA\n",
    "- Using an Embedding dimension of 3 directly"
   ]
  },
  {
   "cell_type": "markdown",
   "id": "34564902-94d4-4bc6-a9f6-f0e5f0db3971",
   "metadata": {},
   "source": []
  },
  {
   "cell_type": "code",
   "execution_count": null,
   "id": "a63acc44-dcfd-4fed-8544-0fd67c4c745e",
   "metadata": {},
   "outputs": [],
   "source": [
    "# Without PCA\n",
    "embedding_dimension= 3\n",
    "embedding_time_delay = 25\n",
    "stride = 10\n",
    "\n",
    "embedder_periodic = SingleTakensEmbedding(\n",
    "    parameters_type=\"fixed\",\n",
    "    n_jobs=2,\n",
    "    time_delay=embedding_time_delay,\n",
    "    dimension=embedding_dimension,\n",
    "    stride=stride,\n",
    ")\n",
    "\n",
    "y_embedded_without_pca = embedder_periodic.fit_transform(merged_lists[4][:10000])\n",
    "\n",
    "plot_point_cloud(y_embedded_without_pca)"
   ]
  },
  {
   "cell_type": "code",
   "execution_count": null,
   "id": "756d88cd-25ea-46f7-a562-3616091354c3",
   "metadata": {},
   "outputs": [],
   "source": [
    "# PCA\n",
    "\n",
    "embedding_dimension= 5 # dimension 7 instead of 5\n",
    "embedding_time_delay = 25\n",
    "stride = 10\n",
    "\n",
    "embedder_periodic = SingleTakensEmbedding(\n",
    "    parameters_type=\"fixed\",\n",
    "    n_jobs=2,\n",
    "    time_delay=embedding_time_delay,\n",
    "    dimension=embedding_dimension,\n",
    "    stride=stride,\n",
    ")\n",
    "\n",
    "y_embedded = embedder_periodic.fit_transform(merged_lists[4][:10000])\n",
    "\n",
    "pca = PCA(n_components=3)\n",
    "y_embedded_pca = pca.fit_transform(y_embedded)\n",
    "plot_point_cloud(y_embedded_pca)"
   ]
  },
  {
   "cell_type": "code",
   "execution_count": null,
   "id": "f6cb7f33-e69d-40ad-a675-6a3f3420ec73",
   "metadata": {},
   "outputs": [],
   "source": [
    "# ICA\n",
    "\n",
    "embedding_dimension= 5 # dimension 7 instead of 5\n",
    "embedding_time_delay = 25\n",
    "stride = 10\n",
    "\n",
    "embedder_periodic = SingleTakensEmbedding(\n",
    "    parameters_type=\"fixed\",\n",
    "    n_jobs=2,\n",
    "    time_delay=embedding_time_delay,\n",
    "    dimension=embedding_dimension,\n",
    "    stride=stride,\n",
    ")\n",
    "\n",
    "y_embedded = embedder_periodic.fit_transform(merged_lists[4][:10000])\n",
    "\n",
    "pca = FastICA(n_components=3)\n",
    "y_embedded_ica = pca.fit_transform(y_embedded)\n",
    "plot_point_cloud(y_embedded_ica)"
   ]
  },
  {
   "cell_type": "code",
   "execution_count": null,
   "id": "9e1b17b4-08dd-4288-a47e-4c38d3a6e487",
   "metadata": {},
   "outputs": [],
   "source": [
    "def max_distance(points):\n",
    "  n_points = points.shape[0]\n",
    "  max_distance = 0\n",
    "  for i in range(n_points):\n",
    "    for j in range(i + 1, n_points):\n",
    "      distance = np.linalg.norm(points[i] - points[j])\n",
    "      if distance > max_distance:\n",
    "        max_distance = distance\n",
    "\n",
    "  return max_distance\n",
    "\n",
    "print(max_distance(y_embedded_without_pca))\n",
    "print(max_distance(y_embedded_pca))\n",
    "print(max_distance(y_embedded_ica))"
   ]
  },
  {
   "cell_type": "markdown",
   "id": "8674f21b-0c71-48ce-b3ac-5f4e01ab58e4",
   "metadata": {},
   "source": [
    "In the PCA approach, the point cloud looks \"rounder\", so there is not one primary component. They have a similar amount of outliers, but the outliers in the PCA approach are more equally distributed. What happens if I plot the persistence diagram?"
   ]
  },
  {
   "cell_type": "code",
   "execution_count": null,
   "id": "62567603-5f22-46e7-ab38-4b16b77574f5",
   "metadata": {},
   "outputs": [],
   "source": [
    "# Persistance Diagram for approach without PCA\n",
    "y_embedded = y_embedded_without_pca[None, :, :]\n",
    "\n",
    "diagram_without_pca = persistence.fit_transform_plot(y_embedded)"
   ]
  },
  {
   "cell_type": "code",
   "execution_count": null,
   "id": "31d03f2c-2139-4d4f-8d57-3cca76e06af0",
   "metadata": {},
   "outputs": [],
   "source": [
    "# Persistance Diagram for approach with PCA\n",
    "y_embedded = y_embedded_pca[None, :, :]\n",
    "\n",
    "diagram_with_pca = persistence.fit_transform_plot(y_embedded)"
   ]
  },
  {
   "cell_type": "code",
   "execution_count": null,
   "id": "ebdf94d8-f762-4385-8773-842d53d62381",
   "metadata": {},
   "outputs": [],
   "source": [
    "# Persistance Diagram for approach with PCA\n",
    "y_embedded = y_embedded_ica[None, :, :]\n",
    "\n",
    "diagram_with_ica = persistence.fit_transform_plot(y_embedded)"
   ]
  },
  {
   "cell_type": "markdown",
   "id": "ef9f7259-6651-4b3a-b8a8-43d7b62f54be",
   "metadata": {},
   "source": [
    "Overall, PCA and ICA probably do not add much value here."
   ]
  },
  {
   "cell_type": "markdown",
   "id": "67822df0-ec61-4b2d-abd4-d6ddf3cd7958",
   "metadata": {},
   "source": [
    "## Visualizing Vietoris-Rips complexes"
   ]
  },
  {
   "cell_type": "code",
   "execution_count": null,
   "id": "7c86c665-6de5-4538-a648-0b8542df1ef3",
   "metadata": {},
   "outputs": [],
   "source": []
  },
  {
   "cell_type": "code",
   "execution_count": null,
   "id": "29594a70-2a41-46f6-adaf-3407b901791f",
   "metadata": {},
   "outputs": [],
   "source": [
    "import numpy as np\n",
    "import networkx as nx\n",
    "import matplotlib.pyplot as plt\n",
    "from sklearn.metrics.pairwise import euclidean_distances\n",
    "\n",
    "# Generate example point embedding\n",
    "# Define the radius for Vietoris-Rips complex\n",
    "radius = 0.38e-4 # ideal value for 0 dimensional holes\n",
    "radius = 0.65e-4 # ideal value for 1 dimensional holes\n",
    "radius = 1.1e-4 # ideal value for 2 dimensional holes\n",
    "\n",
    "points = global_y_embedded\n",
    "num_points = len(points)\n",
    "# Calculate pairwise distances between points\n",
    "distances = euclidean_distances(points)\n",
    "\n",
    "# Create a NetworkX graph for the Vietoris-Rips complex\n",
    "G = nx.Graph()\n",
    "\n",
    "# Add vertices (nodes) to the graph\n",
    "for i in range(num_points):\n",
    "    G.add_node(i, pos=(points[i, 0], points[i, 1]))\n",
    "\n",
    "# Add edges based on the distance matrix and radius\n",
    "for i in range(num_points):\n",
    "    for j in range(i + 1, num_points):\n",
    "        if distances[i, j] <= radius:\n",
    "            G.add_edge(i, j)\n",
    "\n",
    "# Draw the graph\n",
    "pos = nx.get_node_attributes(G, 'pos')\n",
    "nx.draw(G, pos, with_labels=True, node_size=100, node_color='skyblue', font_size=8)\n",
    "plt.title(\"Vietoris-Rips Complex Visualization\")\n",
    "plt.show()\n"
   ]
  },
  {
   "cell_type": "markdown",
   "id": "3a5a7f6a-9af3-482e-82bf-eabf87fe1451",
   "metadata": {},
   "source": [
    "## Experimental Code"
   ]
  },
  {
   "cell_type": "code",
   "execution_count": null,
   "id": "f2cfb8fc-115e-4778-a22d-3f0d57944772",
   "metadata": {},
   "outputs": [],
   "source": [
    "# If I add the labels to the DataFrame data as a column target, this is a fancy way of\n",
    "# Retrieving different datasets for each label\n",
    "\n",
    "data = {\n",
    "    \"x\": [1, 2, 3, 4, 5, 6],\n",
    "    \"y\": [10, 20, 30, 40, 50, 60],\n",
    "    \"z\": [100, 200, 300, 400, 500, 600],\n",
    "    \"target\": [\"A\", \"B\", \"A\", \"C\", \"B\", \"C\"]\n",
    "}\n",
    "df = pd.DataFrame(data)\n",
    "\n",
    "# Calculate point_clouds\n",
    "point_clouds = np.asarray(\n",
    "    [\n",
    "        df.query(\"target == @shape\")[[\"x\", \"y\", \"z\"]].values\n",
    "        for shape in df[\"target\"].unique()\n",
    "    ]\n",
    ")"
   ]
  },
  {
   "cell_type": "code",
   "execution_count": null,
   "id": "f4a29ae9-d4f1-41b7-961e-c375830418c5",
   "metadata": {},
   "outputs": [],
   "source": []
  },
  {
   "cell_type": "code",
   "execution_count": null,
   "id": "e9d8836c-407b-4c59-8102-735c181261e0",
   "metadata": {},
   "outputs": [],
   "source": []
  },
  {
   "cell_type": "code",
   "execution_count": null,
   "id": "d0576257-41c4-4361-bf3c-6c557d8e3de5",
   "metadata": {},
   "outputs": [],
   "source": []
  },
  {
   "cell_type": "markdown",
   "id": "5c3ed323-7f2c-4ed8-9ee1-76fbf4ab1575",
   "metadata": {},
   "source": [
    "# Next steps\n",
    "\n",
    "- Upload code on Google Colab\n",
    "- Remove outliers before (Artifacts Removal)\n",
    "- Remove noise from persistance diagrams (holes with very low persistence)\n",
    "- Other preprocessing (PCA? Wavelet Decomposition? \"Downsampling\")?\n",
    "- Bandpass filtering\n",
    "- Later use filtering on persistence diagrams (gtda.diagrams.Filtering() )\n",
    "- Scaling (Did not immediately work on Timeseries data)?\n",
    "- What can I do with the CWTs?\n",
    "- Look dissimilarity matrix again (Wasserstein distances)"
   ]
  },
  {
   "cell_type": "code",
   "execution_count": null,
   "id": "01dfe8b9-9d8c-4c57-85b3-5453f80f3dfe",
   "metadata": {},
   "outputs": [],
   "source": []
  }
 ],
 "metadata": {
  "kernelspec": {
   "display_name": "Python 3 (ipykernel)",
   "language": "python",
   "name": "python3"
  },
  "language_info": {
   "codemirror_mode": {
    "name": "ipython",
    "version": 3
   },
   "file_extension": ".py",
   "mimetype": "text/x-python",
   "name": "python",
   "nbconvert_exporter": "python",
   "pygments_lexer": "ipython3",
   "version": "3.10.12"
  }
 },
 "nbformat": 4,
 "nbformat_minor": 5
}
