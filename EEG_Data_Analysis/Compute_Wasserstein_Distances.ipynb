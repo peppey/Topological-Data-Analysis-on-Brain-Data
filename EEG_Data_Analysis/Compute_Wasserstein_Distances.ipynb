{
 "cells": [
  {
   "cell_type": "code",
   "execution_count": 168,
   "id": "0a81b9c9-a2e9-46c2-8ae8-4a5f02dd0571",
   "metadata": {},
   "outputs": [],
   "source": [
    "import numpy as np\n",
    "import pyedflib\n",
    "import statistics\n",
    "import plotly.graph_objects as go\n",
    "import pandas as pd\n",
    "from gtda.time_series import SingleTakensEmbedding\n",
    "from gtda.diagrams import PersistenceEntropy, Amplitude, NumberOfPoints, ComplexPolynomial, PersistenceLandscape, HeatKernel, Silhouette, BettiCurve, PairwiseDistance, ForgetDimension\n",
    "import random\n",
    "from sklearn import preprocessing"
   ]
  },
  {
   "cell_type": "code",
   "execution_count": 169,
   "id": "85fd9907-0ecf-4827-bd57-da10d9c03cfa",
   "metadata": {},
   "outputs": [],
   "source": [
    "# Load persistence diagrams\n",
    "\n",
    "train_persistence_diagrams_label_1 = np.load(\"Embeddings_and_Persistence_Diagrams/Train_PD1.npy\", allow_pickle=True)\n",
    "test_persistence_diagrams_label_1 = np.load(\"Embeddings_and_Persistence_Diagrams/Test_PD1.npy\", allow_pickle=True)\n",
    "\n",
    "train_persistence_diagrams_label_3 = np.load(\"Embeddings_and_Persistence_Diagrams/Train_PD3.npy\", allow_pickle=True)\n",
    "test_persistence_diagrams_label_3 = np.load(\"Embeddings_and_Persistence_Diagrams/Test_PD3.npy\", allow_pickle=True)\n",
    "\n",
    "train_persistence_diagrams_label_5 = np.load(\"Embeddings_and_Persistence_Diagrams/Train_PD5.npy\", allow_pickle=True)\n",
    "test_persistence_diagrams_label_5 = np.load(\"Embeddings_and_Persistence_Diagrams/Test_PD5.npy\", allow_pickle=True)\n",
    "\n",
    "train_persistence_diagrams_label_7 = np.load(\"Embeddings_and_Persistence_Diagrams/Train_PD7.npy\", allow_pickle=True)\n",
    "test_persistence_diagrams_label_7 = np.load(\"Embeddings_and_Persistence_Diagrams/Test_PD7.npy\", allow_pickle=True)"
   ]
  },
  {
   "cell_type": "code",
   "execution_count": 170,
   "id": "ce5a4148-cfb1-45cd-afb0-b62a6d335990",
   "metadata": {},
   "outputs": [],
   "source": [
    "# Load embeddings\n",
    "\n",
    "train_embeddings_label_1 = np.load(\"Embeddings_and_Persistence_Diagrams/Train_Embeddings_PD1.npy\", allow_pickle=True)\n",
    "test_embeddings_label_1 = np.load(\"Embeddings_and_Persistence_Diagrams/Test_Embeddings_PD1.npy\", allow_pickle=True)\n",
    "\n",
    "train_embeddings_label_3 = np.load(\"Embeddings_and_Persistence_Diagrams/Train_Embeddings_PD3.npy\", allow_pickle=True)\n",
    "test_embeddings_label_3 = np.load(\"Embeddings_and_Persistence_Diagrams/Test_Embeddings_PD3.npy\", allow_pickle=True)\n",
    "\n",
    "train_embeddings_label_5 = np.load(\"Embeddings_and_Persistence_Diagrams/Train_Embeddings_PD5.npy\", allow_pickle=True)\n",
    "test_embeddings_label_5 = np.load(\"Embeddings_and_Persistence_Diagrams/Test_Embeddings_PD5.npy\", allow_pickle=True)\n",
    "\n",
    "train_embeddings_label_7 = np.load(\"Embeddings_and_Persistence_Diagrams/Train_Embeddings_PD7.npy\", allow_pickle=True)\n",
    "test_embeddings_label_7 = np.load(\"Embeddings_and_Persistence_Diagrams/Test_Embeddings_PD7.npy\", allow_pickle=True)"
   ]
  },
  {
   "cell_type": "markdown",
   "id": "cfb824a7-a2ba-44a2-b860-891bb2a702e2",
   "metadata": {},
   "source": [
    "# Computing the distance to the Wasserstein Barycenter"
   ]
  },
  {
   "cell_type": "markdown",
   "id": "6ccb05e8-6ed6-470d-a9ef-4492cfbdc41b",
   "metadata": {},
   "source": [
    "## Cutting of noise"
   ]
  },
  {
   "cell_type": "markdown",
   "id": "9934b636-ee39-4783-b83f-f1b77e5b807d",
   "metadata": {},
   "source": [
    "For the next analyses, we will need to compare persistence diagrams (pairwise). Giotto TDA needs all diagrams to have the same length for this (to have the same amount of holes). We will therefore cut off some \"noise\" (holes with low persistence) such that all persistence diagrams have the same length."
   ]
  },
  {
   "cell_type": "code",
   "execution_count": 171,
   "id": "aa029647-3f7c-4413-96ce-f2cb0fd36808",
   "metadata": {},
   "outputs": [],
   "source": [
    "# Set number of holes of each dimension that are supposed to be kept\n",
    "no_holes_per_dimension = [120, 70, 10] "
   ]
  },
  {
   "cell_type": "code",
   "execution_count": 172,
   "id": "7a64359c-396d-4af2-ac4a-caeeee33e31c",
   "metadata": {},
   "outputs": [],
   "source": [
    "def cut_diagrams(persistence_diagrams, no_holes_per_dimension):\n",
    "    # no_holes_per_dimension is a list indicating how many holes for each dimension there should be left\n",
    "    \n",
    "    shortened_diagrams = [] # list of diagrams in which non-signicant holes were cut off\n",
    "    removed_indices = [] # List of indices of the diagrams that are smaller than no_holes_per_dimension and will not be considered\n",
    "\n",
    "    for diagram_idx, diagram in enumerate(persistence_diagrams): \n",
    "        \n",
    "        most_significant_holes_per_diagram = [] # Holes that are not noise\n",
    "        should_be_appended = True # Boolean if the diagram index will be added to removed index (False) or not (True)\n",
    "        holes = {} # Dictionary which will save all holes (values) of each dimension (keys) for each diagram\n",
    "        \n",
    "        for hole_dimension, number_of_holes in zip(range(3), no_holes_per_dimension):\n",
    "            \n",
    "            # the third entry of each point (hole) in a diagram indicates its dimensionality\n",
    "            holes[hole_dimension] = diagram[np.where(diagram[:, 2] == hole_dimension)[0]]\n",
    "\n",
    "            # If the number of holes of this dimension that are supposed to be kept is larger than the number of holes of the diagram\n",
    "            if number_of_holes > len(holes[hole_dimension]):\n",
    "                print(\"Diagram \" + str(diagram_idx) + \" is shorter than the shortened diagrams, and will be removed\")\n",
    "                print(\"It has \" + str(len(holes[hole_dimension])) + \" holes of dimension \" + str(hole_dimension))\n",
    "                should_be_appended = False \n",
    "                removed_indices.append(diagram_idx) # Should be sepa rated according to dimension? or not?\n",
    "                \n",
    "            # The first and second entries of each hole indicate its birth and death, the difference is the persistence\n",
    "            # We only want to keep as the as many holes for each dimension as we set no_holes_per_dimension to be\n",
    "            large_persistence_indices = np.argsort(holes[hole_dimension][:, 0] - holes[hole_dimension][:, 1])[-number_of_holes:]\n",
    "            \n",
    "            # For each dimension, getting the holes with the above indices (the holes with the largest persistence)\n",
    "            significant_holes_with_hole_dimension = holes[hole_dimension][large_persistence_indices, :]\n",
    "            most_significant_holes_per_diagram.extend(significant_holes_with_hole_dimension)\n",
    "\n",
    "        if should_be_appended:\n",
    "            shortened_diagrams.append(most_significant_holes_per_diagram)\n",
    "\n",
    "    return shortened_diagrams, list(set(removed_indices))"
   ]
  },
  {
   "cell_type": "code",
   "execution_count": 173,
   "id": "e53cf49d-b3a5-4f63-986f-b7ab0f544628",
   "metadata": {},
   "outputs": [],
   "source": [
    "# Label 1\n",
    "\n",
    "train_shortened_diagrams_label_1, removed_train_indices_label_1 = cut_diagrams(train_persistence_diagrams_label_1, no_holes_per_dimension)\n",
    "test_shortened_diagrams_label_1, removed_test_indices_label_1 = cut_diagrams(test_persistence_diagrams_label_1, no_holes_per_dimension)\n",
    "\n",
    "# Remove embeddings of diagrams that were removed \n",
    "train_embeddings_label_1 =  np.delete(train_embeddings_label_1, removed_train_indices_label_1, 0)\n",
    "test_embeddings_label_1 =  np.delete(test_embeddings_label_1, removed_test_indices_label_1, 0)"
   ]
  },
  {
   "cell_type": "code",
   "execution_count": 174,
   "id": "28d9b44d-ae9d-4a0a-a466-34609e850608",
   "metadata": {},
   "outputs": [
    {
     "name": "stdout",
     "output_type": "stream",
     "text": [
      "Diagram 97 is shorter than the shortened diagrams, and will be removed\n",
      "It has 9 holes of dimension 2\n",
      "Diagram 119 is shorter than the shortened diagrams, and will be removed\n",
      "It has 8 holes of dimension 2\n",
      "Diagram 208 is shorter than the shortened diagrams, and will be removed\n",
      "It has 9 holes of dimension 2\n",
      "Diagram 316 is shorter than the shortened diagrams, and will be removed\n",
      "It has 8 holes of dimension 2\n",
      "Diagram 386 is shorter than the shortened diagrams, and will be removed\n",
      "It has 9 holes of dimension 2\n",
      "Diagram 562 is shorter than the shortened diagrams, and will be removed\n",
      "It has 7 holes of dimension 2\n",
      "Diagram 676 is shorter than the shortened diagrams, and will be removed\n",
      "It has 8 holes of dimension 2\n",
      "Diagram 164 is shorter than the shortened diagrams, and will be removed\n",
      "It has 9 holes of dimension 2\n",
      "Diagram 324 is shorter than the shortened diagrams, and will be removed\n",
      "It has 9 holes of dimension 2\n"
     ]
    }
   ],
   "source": [
    "# Label 3\n",
    "\n",
    "train_shortened_diagrams_label_3, removed_train_indices_label_3 = cut_diagrams(train_persistence_diagrams_label_3, no_holes_per_dimension)\n",
    "test_shortened_diagrams_label_3, removed_test_indices_label_3 = cut_diagrams(test_persistence_diagrams_label_3, no_holes_per_dimension)\n",
    "\n",
    "# Remove embeddings of diagrams that were removed \n",
    "train_embeddings_label_3 =  np.delete(train_embeddings_label_3, removed_train_indices_label_3, 0)\n",
    "test_embeddings_label_3 =  np.delete(test_embeddings_label_3, removed_test_indices_label_3, 0)"
   ]
  },
  {
   "cell_type": "code",
   "execution_count": 175,
   "id": "e34c97d8-9dbc-45c4-927e-4fbcaa9e2dcf",
   "metadata": {},
   "outputs": [],
   "source": [
    "# Label 5\n",
    "\n",
    "train_shortened_diagrams_label_5, removed_train_indices_label_5 = cut_diagrams(train_persistence_diagrams_label_5, no_holes_per_dimension)\n",
    "test_shortened_diagrams_label_5, removed_test_indices_label_5 = cut_diagrams(test_persistence_diagrams_label_5, no_holes_per_dimension)\n",
    "\n",
    "# Remove embeddings of diagrams that were removed \n",
    "train_embeddings_label_5 =  np.delete(train_embeddings_label_5, removed_train_indices_label_5, 0)\n",
    "test_embeddings_label_5 =  np.delete(test_embeddings_label_5, removed_test_indices_label_5, 0)"
   ]
  },
  {
   "cell_type": "code",
   "execution_count": 176,
   "id": "472ef81e-3ff4-4353-9439-c1e3b1c7a9a0",
   "metadata": {},
   "outputs": [
    {
     "name": "stdout",
     "output_type": "stream",
     "text": [
      "Diagram 0 is shorter than the shortened diagrams, and will be removed\n",
      "It has 65 holes of dimension 0\n",
      "Diagram 0 is shorter than the shortened diagrams, and will be removed\n",
      "It has 27 holes of dimension 1\n",
      "Diagram 0 is shorter than the shortened diagrams, and will be removed\n",
      "It has 6 holes of dimension 2\n",
      "Diagram 2 is shorter than the shortened diagrams, and will be removed\n",
      "It has 59 holes of dimension 0\n",
      "Diagram 2 is shorter than the shortened diagrams, and will be removed\n",
      "It has 15 holes of dimension 1\n",
      "Diagram 2 is shorter than the shortened diagrams, and will be removed\n",
      "It has 1 holes of dimension 2\n"
     ]
    }
   ],
   "source": [
    "# Label 7\n",
    "\n",
    "train_shortened_diagrams_label_7, removed_train_indices_label_7 = cut_diagrams(train_persistence_diagrams_label_7, no_holes_per_dimension)\n",
    "test_shortened_diagrams_label_7, removed_test_indices_label_7 = cut_diagrams(test_persistence_diagrams_label_7, no_holes_per_dimension)\n",
    "\n",
    "# Remove embeddings of diagrams that were removed \n",
    "train_embeddings_label_7 =  np.delete(train_embeddings_label_7, removed_train_indices_label_7, 0)\n",
    "test_embeddings_label_7 =  np.delete(test_embeddings_label_7, removed_test_indices_label_7, 0)"
   ]
  },
  {
   "cell_type": "markdown",
   "id": "42d656de-ce09-4239-83ec-345675529e21",
   "metadata": {},
   "source": [
    "## Wasserstein Barycenter"
   ]
  },
  {
   "cell_type": "markdown",
   "id": "93fd3f18-ecdd-4d6d-a6fe-38be70222f6a",
   "metadata": {},
   "source": [
    "The Wasserstein Barycenter is the most representative persistence diagram in a set of diagrams (of one class), so the one with the lowest overall (Wasserstein) distance to all other diagrams. Because it takes long to compute, we will for now only use a part of the data as training data. For now, these training samples can also be in the test set of the simple classifier in the end."
   ]
  },
  {
   "cell_type": "code",
   "execution_count": 177,
   "id": "a9da68b4-a267-4535-8ef9-111883c012ff",
   "metadata": {},
   "outputs": [],
   "source": [
    "# We will look at 0, 1 and 2 dimensional holes\n",
    "homology_dimensions = [0, 1, 2]\n",
    "\n",
    "# We will use a Vietoris Rips filtrations\n",
    "persistence = VietorisRipsPersistence(\n",
    "    homology_dimensions=homology_dimensions, n_jobs=10\n",
    ")"
   ]
  },
  {
   "cell_type": "markdown",
   "id": "866a088b-5e7a-49f3-b02d-ba2939f6e89a",
   "metadata": {},
   "source": [
    "### Computing the Wasserstein Barycenter for all labels"
   ]
  },
  {
   "cell_type": "code",
   "execution_count": 178,
   "id": "b76269d7-848d-49eb-9d9f-a16c7eb7586c",
   "metadata": {},
   "outputs": [
    {
     "data": {
      "application/vnd.plotly.v1+json": {
       "config": {
        "plotlyServerURL": "https://plot.ly"
       },
       "data": [
        {
         "hoverinfo": "none",
         "line": {
          "color": "black",
          "dash": "dash",
          "width": 1
         },
         "mode": "lines",
         "showlegend": false,
         "type": "scatter",
         "x": [
          -6.846369942650199e-06,
          0.00034916486707516016
         ],
         "y": [
          -6.846369942650199e-06,
          0.00034916486707516016
         ]
        },
        {
         "hoverinfo": "text",
         "hovertext": [
          "(0.0, 1.5134950444917195e-05)",
          "(0.0, 2.641864375618752e-05)",
          "(0.0, 2.707369094423484e-05)",
          "(0.0, 2.830282573995646e-05)",
          "(0.0, 2.8899041353724897e-05)",
          "(0.0, 3.060165181523189e-05)",
          "(0.0, 3.3110591175500304e-05)",
          "(0.0, 3.483043110463768e-05)",
          "(0.0, 3.55481133738067e-05)",
          "(0.0, 3.562191341188736e-05)",
          "(0.0, 3.613761509768665e-05)",
          "(0.0, 3.871747321682051e-05)",
          "(0.0, 3.879389987559989e-05)",
          "(0.0, 3.899768853443675e-05)",
          "(0.0, 3.954306885134429e-05)",
          "(0.0, 4.253861334291287e-05)",
          "(0.0, 4.289625212550163e-05)",
          "(0.0, 4.3195450416533276e-05)",
          "(0.0, 4.370053648017347e-05)",
          "(0.0, 4.417705349624157e-05)",
          "(0.0, 4.430228364071809e-05)",
          "(0.0, 4.452584471437149e-05)",
          "(0.0, 4.458129114937037e-05)",
          "(0.0, 4.5498774852603674e-05)",
          "(0.0, 4.589293894241564e-05)",
          "(0.0, 4.6071061660768464e-05)",
          "(0.0, 4.611268741427921e-05)",
          "(0.0, 4.6160774218151346e-05)",
          "(0.0, 4.640561746782623e-05)",
          "(0.0, 4.82720643049106e-05)",
          "(0.0, 4.851910489378497e-05)",
          "(0.0, 4.939163045492023e-05)",
          "(0.0, 4.965049083693884e-05)",
          "(0.0, 5.0052691221935675e-05)",
          "(0.0, 5.089563273941167e-05)",
          "(0.0, 5.148875425220467e-05)",
          "(0.0, 5.149294520379044e-05)",
          "(0.0, 5.154508471605368e-05)",
          "(0.0, 5.161088120075874e-05)",
          "(0.0, 5.16406144015491e-05)",
          "(0.0, 5.1741295465035364e-05)",
          "(0.0, 5.222642357693985e-05)",
          "(0.0, 5.263604907668196e-05)",
          "(0.0, 5.28881028003525e-05)",
          "(0.0, 5.290578701533377e-05)",
          "(0.0, 5.300361226545647e-05)",
          "(0.0, 5.312632129061967e-05)",
          "(0.0, 5.314302325132303e-05)",
          "(0.0, 5.359466013032943e-05)",
          "(0.0, 5.368118218029849e-05)",
          "(0.0, 5.368900019675493e-05)",
          "(0.0, 5.4040086979512125e-05)",
          "(0.0, 5.51756274944637e-05)",
          "(0.0, 5.53492245671805e-05)",
          "(0.0, 5.62371096748393e-05)",
          "(0.0, 5.651788160321303e-05)",
          "(0.0, 5.6531458540121093e-05)",
          "(0.0, 5.717540989280678e-05)",
          "(0.0, 5.755586244049482e-05)",
          "(0.0, 5.768884511780925e-05)",
          "(0.0, 5.8164569054497406e-05)",
          "(0.0, 5.8487563364906237e-05)",
          "(0.0, 5.859592420165427e-05)",
          "(0.0, 5.9127451095264405e-05)",
          "(0.0, 5.915300062042661e-05)",
          "(0.0, 5.926075027673505e-05)",
          "(0.0, 5.937780224485323e-05)",
          "(0.0, 5.939496259088628e-05)",
          "(0.0, 5.954639709671028e-05)",
          "(0.0, 5.963353396509774e-05)",
          "(0.0, 5.998061169520952e-05)",
          "(0.0, 6.004355600452982e-05)",
          "(0.0, 6.013715028529987e-05)",
          "(0.0, 6.0459722590167075e-05)",
          "(0.0, 6.0717615269823e-05)",
          "(0.0, 6.082633990445174e-05)",
          "(0.0, 6.116351141827181e-05)",
          "(0.0, 6.120330363046378e-05)",
          "(0.0, 6.152808055048808e-05)",
          "(0.0, 6.276284693740308e-05)",
          "(0.0, 6.306248542387038e-05)",
          "(0.0, 6.33419695077464e-05)",
          "(0.0, 6.35109972790815e-05)",
          "(0.0, 6.377629324560985e-05)",
          "(0.0, 6.391809438355267e-05)",
          "(0.0, 6.392635259544477e-05)",
          "(0.0, 6.412544462364167e-05)",
          "(0.0, 6.440850847866386e-05)",
          "(0.0, 6.534563726745546e-05)",
          "(0.0, 6.565248622791842e-05)",
          "(0.0, 6.577146996278316e-05)",
          "(0.0, 6.577547901542857e-05)",
          "(0.0, 6.580664921784773e-05)",
          "(0.0, 6.594172009499744e-05)",
          "(0.0, 6.594608566956595e-05)",
          "(0.0, 6.654435856034979e-05)",
          "(0.0, 6.670526636298746e-05)",
          "(0.0, 6.673690222669393e-05)",
          "(0.0, 6.67607964714989e-05)",
          "(0.0, 6.706670683342963e-05)",
          "(0.0, 6.740220123901963e-05)",
          "(0.0, 6.743688572896644e-05)",
          "(0.0, 6.753408524673432e-05)",
          "(0.0, 6.80118246236816e-05)",
          "(0.0, 6.828035839134827e-05)",
          "(0.0, 6.852159276604652e-05)",
          "(0.0, 6.880747969262302e-05)",
          "(0.0, 6.902655150042847e-05)",
          "(0.0, 6.914631376275793e-05)",
          "(0.0, 6.927020876901224e-05)",
          "(0.0, 6.961299368413165e-05)",
          "(0.0, 6.984962237766013e-05)",
          "(0.0, 7.048112456686795e-05)",
          "(0.0, 7.092126907082275e-05)",
          "(0.0, 7.139616354834288e-05)",
          "(0.0, 7.167175499489531e-05)",
          "(0.0, 7.203741552075371e-05)",
          "(0.0, 7.264428859343752e-05)",
          "(0.0, 7.269263733178377e-05)",
          "(0.0, 7.407574594253674e-05)",
          "(0.0, 7.459037442458794e-05)",
          "(0.0, 7.462573557859287e-05)",
          "(0.0, 7.467167597496882e-05)",
          "(0.0, 7.510913565056399e-05)",
          "(0.0, 7.615039066877216e-05)",
          "(0.0, 7.68017562222667e-05)",
          "(0.0, 7.904458470875397e-05)",
          "(0.0, 7.93614744907245e-05)",
          "(0.0, 7.94790976215154e-05)",
          "(0.0, 7.973412721185014e-05)",
          "(0.0, 7.98252149252221e-05)",
          "(0.0, 7.988483412191272e-05)",
          "(0.0, 8.217894355766475e-05)",
          "(0.0, 8.275666186818853e-05)",
          "(0.0, 8.284384966827929e-05)",
          "(0.0, 8.285210060421377e-05)",
          "(0.0, 8.320984488818794e-05)",
          "(0.0, 8.345160313183442e-05)",
          "(0.0, 8.348421397386119e-05)",
          "(0.0, 8.366429392481223e-05)",
          "(0.0, 8.557361434213817e-05)",
          "(0.0, 8.559253183193505e-05)",
          "(0.0, 8.570720092393458e-05)",
          "(0.0, 8.601906301919371e-05)",
          "(0.0, 8.602910384070128e-05)",
          "(0.0, 8.658043952891603e-05)",
          "(0.0, 8.67102644406259e-05)",
          "(0.0, 8.742082718526945e-05)",
          "(0.0, 8.743673242861405e-05)",
          "(0.0, 8.744098886381835e-05)",
          "(0.0, 8.834474283503368e-05)",
          "(0.0, 9.011109068524092e-05)",
          "(0.0, 9.536839934298769e-05)",
          "(0.0, 9.611813584342599e-05)",
          "(0.0, 9.741488611325622e-05)",
          "(0.0, 9.789820614969358e-05)",
          "(0.0, 9.822472202358767e-05)",
          "(0.0, 9.921907621901482e-05)",
          "(0.0, 9.931402746587992e-05)",
          "(0.0, 0.00010011867561843246)",
          "(0.0, 0.00010020679474109784)",
          "(0.0, 0.00010088185081258416)",
          "(0.0, 0.00010267113248119131)",
          "(0.0, 0.00010285760799888521)",
          "(0.0, 0.00010357907740399241)",
          "(0.0, 0.00010418592864880338)",
          "(0.0, 0.00010471943096490577)",
          "(0.0, 0.00010973686585202813)",
          "(0.0, 0.00011042664118576795)",
          "(0.0, 0.00011066063598264009)",
          "(0.0, 0.00011504399299155921)",
          "(0.0, 0.00011520690168254077)",
          "(0.0, 0.00011929270112887025)",
          "(0.0, 0.000123890713439323)",
          "(0.0, 0.00013284647138789296)",
          "(0.0, 0.00014854637265671045)",
          "(0.0, 0.0001497332559665665)",
          "(0.0, 0.00015558541053906083)",
          "(0.0, 0.00016575174231547862)",
          "(0.0, 0.00016965453687589616)",
          "(0.0, 0.00018488771456759423)",
          "(0.0, 0.00018574253772385418)",
          "(0.0, 0.0001929464197019115)",
          "(0.0, 0.00019753683591261506)",
          "(0.0, 0.0002054626529570669)",
          "(0.0, 0.0002062072599073872)",
          "(0.0, 0.00023913865152280778)",
          "(0.0, 0.00025119914789684117)",
          "(0.0, 0.00029010753496550024)"
         ],
         "mode": "markers",
         "name": "H0",
         "type": "scatter",
         "x": [
          0,
          0,
          0,
          0,
          0,
          0,
          0,
          0,
          0,
          0,
          0,
          0,
          0,
          0,
          0,
          0,
          0,
          0,
          0,
          0,
          0,
          0,
          0,
          0,
          0,
          0,
          0,
          0,
          0,
          0,
          0,
          0,
          0,
          0,
          0,
          0,
          0,
          0,
          0,
          0,
          0,
          0,
          0,
          0,
          0,
          0,
          0,
          0,
          0,
          0,
          0,
          0,
          0,
          0,
          0,
          0,
          0,
          0,
          0,
          0,
          0,
          0,
          0,
          0,
          0,
          0,
          0,
          0,
          0,
          0,
          0,
          0,
          0,
          0,
          0,
          0,
          0,
          0,
          0,
          0,
          0,
          0,
          0,
          0,
          0,
          0,
          0,
          0,
          0,
          0,
          0,
          0,
          0,
          0,
          0,
          0,
          0,
          0,
          0,
          0,
          0,
          0,
          0,
          0,
          0,
          0,
          0,
          0,
          0,
          0,
          0,
          0,
          0,
          0,
          0,
          0,
          0,
          0,
          0,
          0,
          0,
          0,
          0,
          0,
          0,
          0,
          0,
          0,
          0,
          0,
          0,
          0,
          0,
          0,
          0,
          0,
          0,
          0,
          0,
          0,
          0,
          0,
          0,
          0,
          0,
          0,
          0,
          0,
          0,
          0,
          0,
          0,
          0,
          0,
          0,
          0,
          0,
          0,
          0,
          0,
          0,
          0,
          0,
          0,
          0,
          0,
          0,
          0,
          0,
          0,
          0,
          0,
          0,
          0,
          0,
          0,
          0,
          0,
          0,
          0,
          0,
          0,
          0,
          0,
          0,
          0,
          0,
          0,
          0
         ],
         "y": [
          1.5134950444917195e-05,
          2.641864375618752e-05,
          2.707369094423484e-05,
          2.830282573995646e-05,
          2.8899041353724897e-05,
          3.060165181523189e-05,
          3.3110591175500304e-05,
          3.483043110463768e-05,
          3.55481133738067e-05,
          3.562191341188736e-05,
          3.613761509768665e-05,
          3.871747321682051e-05,
          3.879389987559989e-05,
          3.899768853443675e-05,
          3.954306885134429e-05,
          4.253861334291287e-05,
          4.289625212550163e-05,
          4.3195450416533276e-05,
          4.370053648017347e-05,
          4.417705349624157e-05,
          4.430228364071809e-05,
          4.452584471437149e-05,
          4.458129114937037e-05,
          4.5498774852603674e-05,
          4.589293894241564e-05,
          4.6071061660768464e-05,
          4.611268741427921e-05,
          4.6160774218151346e-05,
          4.640561746782623e-05,
          4.82720643049106e-05,
          4.851910489378497e-05,
          4.939163045492023e-05,
          4.965049083693884e-05,
          5.0052691221935675e-05,
          5.089563273941167e-05,
          5.148875425220467e-05,
          5.149294520379044e-05,
          5.154508471605368e-05,
          5.161088120075874e-05,
          5.16406144015491e-05,
          5.1741295465035364e-05,
          5.222642357693985e-05,
          5.263604907668196e-05,
          5.28881028003525e-05,
          5.290578701533377e-05,
          5.300361226545647e-05,
          5.312632129061967e-05,
          5.314302325132303e-05,
          5.359466013032943e-05,
          5.368118218029849e-05,
          5.368900019675493e-05,
          5.4040086979512125e-05,
          5.51756274944637e-05,
          5.53492245671805e-05,
          5.62371096748393e-05,
          5.651788160321303e-05,
          5.6531458540121093e-05,
          5.717540989280678e-05,
          5.755586244049482e-05,
          5.768884511780925e-05,
          5.8164569054497406e-05,
          5.8487563364906237e-05,
          5.859592420165427e-05,
          5.9127451095264405e-05,
          5.915300062042661e-05,
          5.926075027673505e-05,
          5.937780224485323e-05,
          5.939496259088628e-05,
          5.954639709671028e-05,
          5.963353396509774e-05,
          5.998061169520952e-05,
          6.004355600452982e-05,
          6.013715028529987e-05,
          6.0459722590167075e-05,
          6.0717615269823e-05,
          6.082633990445174e-05,
          6.116351141827181e-05,
          6.120330363046378e-05,
          6.152808055048808e-05,
          6.276284693740308e-05,
          6.306248542387038e-05,
          6.33419695077464e-05,
          6.35109972790815e-05,
          6.377629324560985e-05,
          6.391809438355267e-05,
          6.392635259544477e-05,
          6.412544462364167e-05,
          6.440850847866386e-05,
          6.534563726745546e-05,
          6.565248622791842e-05,
          6.577146996278316e-05,
          6.577547901542857e-05,
          6.580664921784773e-05,
          6.594172009499744e-05,
          6.594608566956595e-05,
          6.654435856034979e-05,
          6.670526636298746e-05,
          6.673690222669393e-05,
          6.67607964714989e-05,
          6.706670683342963e-05,
          6.740220123901963e-05,
          6.743688572896644e-05,
          6.753408524673432e-05,
          6.80118246236816e-05,
          6.828035839134827e-05,
          6.852159276604652e-05,
          6.880747969262302e-05,
          6.902655150042847e-05,
          6.914631376275793e-05,
          6.927020876901224e-05,
          6.961299368413165e-05,
          6.984962237766013e-05,
          7.048112456686795e-05,
          7.092126907082275e-05,
          7.139616354834288e-05,
          7.167175499489531e-05,
          7.203741552075371e-05,
          7.264428859343752e-05,
          7.269263733178377e-05,
          7.407574594253674e-05,
          7.459037442458794e-05,
          7.462573557859287e-05,
          7.467167597496882e-05,
          7.510913565056399e-05,
          7.615039066877216e-05,
          7.68017562222667e-05,
          7.904458470875397e-05,
          7.93614744907245e-05,
          7.94790976215154e-05,
          7.973412721185014e-05,
          7.98252149252221e-05,
          7.988483412191272e-05,
          8.217894355766475e-05,
          8.275666186818853e-05,
          8.284384966827929e-05,
          8.285210060421377e-05,
          8.320984488818794e-05,
          8.345160313183442e-05,
          8.348421397386119e-05,
          8.366429392481223e-05,
          8.557361434213817e-05,
          8.559253183193505e-05,
          8.570720092393458e-05,
          8.601906301919371e-05,
          8.602910384070128e-05,
          8.658043952891603e-05,
          8.67102644406259e-05,
          8.742082718526945e-05,
          8.743673242861405e-05,
          8.744098886381835e-05,
          8.834474283503368e-05,
          9.011109068524092e-05,
          9.536839934298769e-05,
          9.611813584342599e-05,
          9.741488611325622e-05,
          9.789820614969358e-05,
          9.822472202358767e-05,
          9.921907621901482e-05,
          9.931402746587992e-05,
          0.00010011867561843246,
          0.00010020679474109784,
          0.00010088185081258416,
          0.00010267113248119131,
          0.00010285760799888521,
          0.00010357907740399241,
          0.00010418592864880338,
          0.00010471943096490577,
          0.00010973686585202813,
          0.00011042664118576795,
          0.00011066063598264009,
          0.00011504399299155921,
          0.00011520690168254077,
          0.00011929270112887025,
          0.000123890713439323,
          0.00013284647138789296,
          0.00014854637265671045,
          0.0001497332559665665,
          0.00015558541053906083,
          0.00016575174231547862,
          0.00016965453687589616,
          0.00018488771456759423,
          0.00018574253772385418,
          0.0001929464197019115,
          0.00019753683591261506,
          0.0002054626529570669,
          0.0002062072599073872,
          0.00023913865152280778,
          0.00025119914789684117,
          0.00029010753496550024
         ]
        },
        {
         "hoverinfo": "text",
         "hovertext": [
          "(0.000340226455591619, 0.00034231849713250995)",
          "(0.00024707941338419914, 0.00027044827584177256)",
          "(0.00023274531122297049, 0.000268418196355924)",
          "(0.00022658095986116678, 0.0002661564794834703)",
          "(0.00021657701290678233, 0.0002521931892260909)",
          "(0.00020665451302193105, 0.00020782469073310494)",
          "(0.00020280806347727776, 0.0002182174357585609)",
          "(0.00018227715918328613, 0.0001926335971802473)",
          "(0.00015556775906588882, 0.0001618643436813727)",
          "(0.00014774217561352998, 0.00014971995551604778)",
          "(0.00013247595052234828, 0.00013978351489640772)",
          "(0.00013195852807257324, 0.00014251879474613816)",
          "(0.00012419755512382835, 0.00013216500519774854)",
          "(0.00012142950436100364, 0.00012328193406574428)",
          "(0.0001204202781082131, 0.00014042963448446244)",
          "(0.00011449534213170409, 0.0001194528304040432)",
          "(0.00011387719860067591, 0.00011811792501248419)",
          "(0.00011313024879200384, 0.00012158582831034437)",
          "(0.00010733019007602707, 0.00010766329796751961)",
          "(0.00010711781214922667, 0.00011445480049587786)",
          "(0.0001054942185874097, 0.00011229987285332754)",
          "(0.00010425979417050257, 0.00010816667781909928)",
          "(0.00010182506957789883, 0.00010782379104057327)",
          "(0.00010121307423105463, 0.00010981584637193009)",
          "(0.00010047377872979268, 0.00010399445454822853)",
          "(9.880510333459824e-05, 0.00011685255594784394)",
          "(9.763314301380888e-05, 9.893997776089236e-05)",
          "(9.755512292031199e-05, 0.00010378518345532939)",
          "(9.741488611325622e-05, 0.00010183260746998712)",
          "(9.729405428515747e-05, 0.00010104136890731752)",
          "(9.645651880418882e-05, 9.764628339326009e-05)",
          "(9.478252468397841e-05, 0.00010786893108161166)",
          "(9.362899436382577e-05, 0.00010186686995439231)",
          "(9.09643349586986e-05, 0.00010487710824236274)",
          "(8.976094977697358e-05, 9.040126315085217e-05)",
          "(8.962122956290841e-05, 9.925834456225857e-05)",
          "(8.960878767538816e-05, 9.787530143512413e-05)",
          "(8.942888234741986e-05, 0.00011401506344554946)",
          "(8.936972881201655e-05, 9.37939403229393e-05)",
          "(8.90112787601538e-05, 0.00010626923176459968)",
          "(8.812552550807595e-05, 0.00010015232692239806)",
          "(8.756788884056732e-05, 9.312119800597429e-05)",
          "(8.754501322982833e-05, 9.783192217582837e-05)",
          "(8.751377754379064e-05, 0.00010625298455124721)",
          "(8.617965067969635e-05, 8.727021486265585e-05)",
          "(8.580341091146693e-05, 8.855380292516202e-05)",
          "(8.52762968861498e-05, 8.876074571162462e-05)",
          "(8.477759547531605e-05, 9.294628398492932e-05)",
          "(8.329468255396932e-05, 8.985641761682928e-05)",
          "(8.242358308052644e-05, 8.647220238344744e-05)",
          "(8.215136040234938e-05, 8.875683124642819e-05)",
          "(8.188174979295582e-05, 9.004918683785945e-05)",
          "(8.183530735550448e-05, 0.00010783079778775573)",
          "(8.16735191619955e-05, 8.786168473307043e-05)",
          "(8.15224411780946e-05, 8.834405889501795e-05)",
          "(8.140394493239e-05, 8.256937871919945e-05)",
          "(8.062372216954827e-05, 9.155904990620911e-05)",
          "(7.997694774530828e-05, 9.991701517719775e-05)",
          "(7.991184975253418e-05, 8.441215322818607e-05)",
          "(7.924110104795545e-05, 8.814239117782563e-05)",
          "(7.883722719270736e-05, 8.40358407003805e-05)",
          "(7.829890819266438e-05, 9.284766565542668e-05)",
          "(7.777597784297541e-05, 8.566255564801395e-05)",
          "(7.761792949168012e-05, 8.3433638792485e-05)",
          "(7.730149809503928e-05, 8.729700493859127e-05)",
          "(7.66226148698479e-05, 7.972028834046796e-05)",
          "(7.657094829482958e-05, 8.158890705090016e-05)",
          "(7.647222082596272e-05, 8.159419667208567e-05)",
          "(7.626636215718463e-05, 8.723627252038568e-05)",
          "(7.599417585879564e-05, 8.420306403422728e-05)",
          "(7.589738379465416e-05, 8.715416333870962e-05)",
          "(7.550961163360626e-05, 8.398260251851752e-05)",
          "(7.526416447944939e-05, 8.280432666651905e-05)",
          "(7.521045336034149e-05, 8.403712854487821e-05)",
          "(7.50923718442209e-05, 7.918282062746584e-05)",
          "(7.508103590225801e-05, 8.054544741753489e-05)",
          "(7.467954856110737e-05, 9.129607497015968e-05)",
          "(7.429638935718685e-05, 8.2160702731926e-05)",
          "(7.304940663743764e-05, 9.57867014221847e-05)",
          "(7.240469858516008e-05, 9.257992496713996e-05)",
          "(7.229215407278389e-05, 8.509385224897414e-05)",
          "(7.206371083157137e-05, 8.063785207923502e-05)",
          "(7.192295743152499e-05, 0.00010268900223309174)",
          "(7.110432488843799e-05, 7.749238284304738e-05)",
          "(7.096200715750456e-05, 9.379304538015276e-05)",
          "(7.039021147647873e-05, 7.609699241584167e-05)",
          "(7.031589484540746e-05, 8.296246232930571e-05)",
          "(7.000242476351559e-05, 7.170855678850785e-05)",
          "(6.976854638196528e-05, 7.06334103597328e-05)",
          "(6.890100485179573e-05, 9.173569560516626e-05)",
          "(6.887054041726515e-05, 8.130562491714954e-05)",
          "(6.793578359065577e-05, 7.758254650980234e-05)",
          "(6.742319237673655e-05, 6.824627780588344e-05)",
          "(6.734791531926021e-05, 8.184351463569328e-05)",
          "(6.686399865429848e-05, 8.063309360295534e-05)",
          "(6.640418723691255e-05, 9.115607826970518e-05)",
          "(6.60051591694355e-05, 6.67210842948407e-05)",
          "(6.523323099827394e-05, 6.858631240902469e-05)",
          "(6.498587754322216e-05, 6.945985660422593e-05)",
          "(6.377572572091594e-05, 7.52077394281514e-05)",
          "(6.24579333816655e-05, 9.129738464253023e-05)",
          "(6.105774809839204e-05, 7.444183574989438e-05)",
          "(6.100036989664659e-05, 6.729269807692617e-05)",
          "(6.074861448723823e-05, 6.860589201096445e-05)",
          "(5.742988287238404e-05, 6.421047146432102e-05)",
          "(5.704270370188169e-05, 7.685451419092715e-05)",
          "(5.234958007349633e-05, 5.546068859985098e-05)"
         ],
         "mode": "markers",
         "name": "H1",
         "type": "scatter",
         "x": [
          0.000340226455591619,
          0.00024707941338419914,
          0.00023274531122297049,
          0.00022658095986116678,
          0.00021657701290678233,
          0.00020665451302193105,
          0.00020280806347727776,
          0.00018227715918328613,
          0.00015556775906588882,
          0.00014774217561352998,
          0.00013247595052234828,
          0.00013195852807257324,
          0.00012419755512382835,
          0.00012142950436100364,
          0.0001204202781082131,
          0.00011449534213170409,
          0.00011387719860067591,
          0.00011313024879200384,
          0.00010733019007602707,
          0.00010711781214922667,
          0.0001054942185874097,
          0.00010425979417050257,
          0.00010182506957789883,
          0.00010121307423105463,
          0.00010047377872979268,
          9.880510333459824e-05,
          9.763314301380888e-05,
          9.755512292031199e-05,
          9.741488611325622e-05,
          9.729405428515747e-05,
          9.645651880418882e-05,
          9.478252468397841e-05,
          9.362899436382577e-05,
          9.09643349586986e-05,
          8.976094977697358e-05,
          8.962122956290841e-05,
          8.960878767538816e-05,
          8.942888234741986e-05,
          8.936972881201655e-05,
          8.90112787601538e-05,
          8.812552550807595e-05,
          8.756788884056732e-05,
          8.754501322982833e-05,
          8.751377754379064e-05,
          8.617965067969635e-05,
          8.580341091146693e-05,
          8.52762968861498e-05,
          8.477759547531605e-05,
          8.329468255396932e-05,
          8.242358308052644e-05,
          8.215136040234938e-05,
          8.188174979295582e-05,
          8.183530735550448e-05,
          8.16735191619955e-05,
          8.15224411780946e-05,
          8.140394493239e-05,
          8.062372216954827e-05,
          7.997694774530828e-05,
          7.991184975253418e-05,
          7.924110104795545e-05,
          7.883722719270736e-05,
          7.829890819266438e-05,
          7.777597784297541e-05,
          7.761792949168012e-05,
          7.730149809503928e-05,
          7.66226148698479e-05,
          7.657094829482958e-05,
          7.647222082596272e-05,
          7.626636215718463e-05,
          7.599417585879564e-05,
          7.589738379465416e-05,
          7.550961163360626e-05,
          7.526416447944939e-05,
          7.521045336034149e-05,
          7.50923718442209e-05,
          7.508103590225801e-05,
          7.467954856110737e-05,
          7.429638935718685e-05,
          7.304940663743764e-05,
          7.240469858516008e-05,
          7.229215407278389e-05,
          7.206371083157137e-05,
          7.192295743152499e-05,
          7.110432488843799e-05,
          7.096200715750456e-05,
          7.039021147647873e-05,
          7.031589484540746e-05,
          7.000242476351559e-05,
          6.976854638196528e-05,
          6.890100485179573e-05,
          6.887054041726515e-05,
          6.793578359065577e-05,
          6.742319237673655e-05,
          6.734791531926021e-05,
          6.686399865429848e-05,
          6.640418723691255e-05,
          6.60051591694355e-05,
          6.523323099827394e-05,
          6.498587754322216e-05,
          6.377572572091594e-05,
          6.24579333816655e-05,
          6.105774809839204e-05,
          6.100036989664659e-05,
          6.074861448723823e-05,
          5.742988287238404e-05,
          5.704270370188169e-05,
          5.234958007349633e-05
         ],
         "y": [
          0.00034231849713250995,
          0.00027044827584177256,
          0.000268418196355924,
          0.0002661564794834703,
          0.0002521931892260909,
          0.00020782469073310494,
          0.0002182174357585609,
          0.0001926335971802473,
          0.0001618643436813727,
          0.00014971995551604778,
          0.00013978351489640772,
          0.00014251879474613816,
          0.00013216500519774854,
          0.00012328193406574428,
          0.00014042963448446244,
          0.0001194528304040432,
          0.00011811792501248419,
          0.00012158582831034437,
          0.00010766329796751961,
          0.00011445480049587786,
          0.00011229987285332754,
          0.00010816667781909928,
          0.00010782379104057327,
          0.00010981584637193009,
          0.00010399445454822853,
          0.00011685255594784394,
          9.893997776089236e-05,
          0.00010378518345532939,
          0.00010183260746998712,
          0.00010104136890731752,
          9.764628339326009e-05,
          0.00010786893108161166,
          0.00010186686995439231,
          0.00010487710824236274,
          9.040126315085217e-05,
          9.925834456225857e-05,
          9.787530143512413e-05,
          0.00011401506344554946,
          9.37939403229393e-05,
          0.00010626923176459968,
          0.00010015232692239806,
          9.312119800597429e-05,
          9.783192217582837e-05,
          0.00010625298455124721,
          8.727021486265585e-05,
          8.855380292516202e-05,
          8.876074571162462e-05,
          9.294628398492932e-05,
          8.985641761682928e-05,
          8.647220238344744e-05,
          8.875683124642819e-05,
          9.004918683785945e-05,
          0.00010783079778775573,
          8.786168473307043e-05,
          8.834405889501795e-05,
          8.256937871919945e-05,
          9.155904990620911e-05,
          9.991701517719775e-05,
          8.441215322818607e-05,
          8.814239117782563e-05,
          8.40358407003805e-05,
          9.284766565542668e-05,
          8.566255564801395e-05,
          8.3433638792485e-05,
          8.729700493859127e-05,
          7.972028834046796e-05,
          8.158890705090016e-05,
          8.159419667208567e-05,
          8.723627252038568e-05,
          8.420306403422728e-05,
          8.715416333870962e-05,
          8.398260251851752e-05,
          8.280432666651905e-05,
          8.403712854487821e-05,
          7.918282062746584e-05,
          8.054544741753489e-05,
          9.129607497015968e-05,
          8.2160702731926e-05,
          9.57867014221847e-05,
          9.257992496713996e-05,
          8.509385224897414e-05,
          8.063785207923502e-05,
          0.00010268900223309174,
          7.749238284304738e-05,
          9.379304538015276e-05,
          7.609699241584167e-05,
          8.296246232930571e-05,
          7.170855678850785e-05,
          7.06334103597328e-05,
          9.173569560516626e-05,
          8.130562491714954e-05,
          7.758254650980234e-05,
          6.824627780588344e-05,
          8.184351463569328e-05,
          8.063309360295534e-05,
          9.115607826970518e-05,
          6.67210842948407e-05,
          6.858631240902469e-05,
          6.945985660422593e-05,
          7.52077394281514e-05,
          9.129738464253023e-05,
          7.444183574989438e-05,
          6.729269807692617e-05,
          6.860589201096445e-05,
          6.421047146432102e-05,
          7.685451419092715e-05,
          5.546068859985098e-05
         ]
        },
        {
         "hoverinfo": "text",
         "hovertext": [
          "(0.0001941417867783457, 0.00019486762175802141)",
          "(0.00014417758211493492, 0.000159226605319418)",
          "(0.00012924619659315795, 0.00013806925562676042)",
          "(0.0001269715721718967, 0.00013364196638576686)",
          "(0.0001239387202076614, 0.00012812440400011837)",
          "(0.0001231939677381888, 0.00012398611579556018)",
          "(0.00011588957568164915, 0.0001236884418176487)",
          "(0.0001152476979768835, 0.00011662719043670222)",
          "(0.00011375466419849545, 0.00012398611579556018)",
          "(0.00011214332334930077, 0.00011333992733852938)",
          "(0.00011099086987087503, 0.00012192237772978842)",
          "(0.00011054625065298751, 0.0001146381109720096)",
          "(0.00011054625065298751, 0.00011077187082264572)",
          "(0.00010874362487811595, 0.00011453387560322881)",
          "(0.00010787071369122714, 0.00011122863361379132)",
          "(0.00010651809861883521, 0.00010716258111642674)",
          "(0.00010552808817010373, 0.00010641346307238564)",
          "(0.00010524065146455541, 0.00010528849816182628)",
          "(0.00010483216465217993, 0.00010766329796751961)",
          "(0.00010433969873702154, 0.00010455577285028994)",
          "(0.00010428520909044892, 0.00010981584637193009)",
          "(0.00010361021850258112, 0.0001106820855056867)",
          "(0.00010124636173713952, 0.0001047314508468844)",
          "(0.00010089005809277296, 0.00010544862743699923)",
          "(9.979776223190129e-05, 0.00010401129111414775)",
          "(9.904924081638455e-05, 0.00010094780736835673)",
          "(9.740122186485678e-05, 0.00010235178342554718)",
          "(9.695933840703219e-05, 0.0001017427202896215)",
          "(9.6646421297919e-05, 9.860646969173104e-05)",
          "(9.657951886765659e-05, 9.905396291287616e-05)",
          "(9.549543756293133e-05, 9.813311044126749e-05)",
          "(9.515338751953095e-05, 0.00010064812522614375)",
          "(9.374598448630422e-05, 0.00010884018411161378)",
          "(9.357800445286557e-05, 9.97718088910915e-05)",
          "(9.206152753904462e-05, 9.249089634977281e-05)",
          "(8.757076284382492e-05, 8.840797090670094e-05)",
          "(8.742123463889584e-05, 8.927951421355829e-05)",
          "(8.628506475361064e-05, 8.657143916934729e-05)",
          "(8.559981506550685e-05, 8.751213317736983e-05)",
          "(8.035376231418923e-05, 8.082026761258021e-05)",
          "(7.938851922517642e-05, 8.65311230882071e-05)",
          "(7.938851922517642e-05, 8.318678010255098e-05)"
         ],
         "mode": "markers",
         "name": "H2",
         "type": "scatter",
         "x": [
          0.0001941417867783457,
          0.00014417758211493492,
          0.00012924619659315795,
          0.0001269715721718967,
          0.0001239387202076614,
          0.0001231939677381888,
          0.00011588957568164915,
          0.0001152476979768835,
          0.00011375466419849545,
          0.00011214332334930077,
          0.00011099086987087503,
          0.00011054625065298751,
          0.00011054625065298751,
          0.00010874362487811595,
          0.00010787071369122714,
          0.00010651809861883521,
          0.00010552808817010373,
          0.00010524065146455541,
          0.00010483216465217993,
          0.00010433969873702154,
          0.00010428520909044892,
          0.00010361021850258112,
          0.00010124636173713952,
          0.00010089005809277296,
          9.979776223190129e-05,
          9.904924081638455e-05,
          9.740122186485678e-05,
          9.695933840703219e-05,
          9.6646421297919e-05,
          9.657951886765659e-05,
          9.549543756293133e-05,
          9.515338751953095e-05,
          9.374598448630422e-05,
          9.357800445286557e-05,
          9.206152753904462e-05,
          8.757076284382492e-05,
          8.742123463889584e-05,
          8.628506475361064e-05,
          8.559981506550685e-05,
          8.035376231418923e-05,
          7.938851922517642e-05,
          7.938851922517642e-05
         ],
         "y": [
          0.00019486762175802141,
          0.000159226605319418,
          0.00013806925562676042,
          0.00013364196638576686,
          0.00012812440400011837,
          0.00012398611579556018,
          0.0001236884418176487,
          0.00011662719043670222,
          0.00012398611579556018,
          0.00011333992733852938,
          0.00012192237772978842,
          0.0001146381109720096,
          0.00011077187082264572,
          0.00011453387560322881,
          0.00011122863361379132,
          0.00010716258111642674,
          0.00010641346307238564,
          0.00010528849816182628,
          0.00010766329796751961,
          0.00010455577285028994,
          0.00010981584637193009,
          0.0001106820855056867,
          0.0001047314508468844,
          0.00010544862743699923,
          0.00010401129111414775,
          0.00010094780736835673,
          0.00010235178342554718,
          0.0001017427202896215,
          9.860646969173104e-05,
          9.905396291287616e-05,
          9.813311044126749e-05,
          0.00010064812522614375,
          0.00010884018411161378,
          9.97718088910915e-05,
          9.249089634977281e-05,
          8.840797090670094e-05,
          8.927951421355829e-05,
          8.657143916934729e-05,
          8.751213317736983e-05,
          8.082026761258021e-05,
          8.65311230882071e-05,
          8.318678010255098e-05
         ]
        }
       ],
       "layout": {
        "height": 500,
        "plot_bgcolor": "white",
        "template": {
         "data": {
          "bar": [
           {
            "error_x": {
             "color": "#2a3f5f"
            },
            "error_y": {
             "color": "#2a3f5f"
            },
            "marker": {
             "line": {
              "color": "#E5ECF6",
              "width": 0.5
             },
             "pattern": {
              "fillmode": "overlay",
              "size": 10,
              "solidity": 0.2
             }
            },
            "type": "bar"
           }
          ],
          "barpolar": [
           {
            "marker": {
             "line": {
              "color": "#E5ECF6",
              "width": 0.5
             },
             "pattern": {
              "fillmode": "overlay",
              "size": 10,
              "solidity": 0.2
             }
            },
            "type": "barpolar"
           }
          ],
          "carpet": [
           {
            "aaxis": {
             "endlinecolor": "#2a3f5f",
             "gridcolor": "white",
             "linecolor": "white",
             "minorgridcolor": "white",
             "startlinecolor": "#2a3f5f"
            },
            "baxis": {
             "endlinecolor": "#2a3f5f",
             "gridcolor": "white",
             "linecolor": "white",
             "minorgridcolor": "white",
             "startlinecolor": "#2a3f5f"
            },
            "type": "carpet"
           }
          ],
          "choropleth": [
           {
            "colorbar": {
             "outlinewidth": 0,
             "ticks": ""
            },
            "type": "choropleth"
           }
          ],
          "contour": [
           {
            "colorbar": {
             "outlinewidth": 0,
             "ticks": ""
            },
            "colorscale": [
             [
              0,
              "#0d0887"
             ],
             [
              0.1111111111111111,
              "#46039f"
             ],
             [
              0.2222222222222222,
              "#7201a8"
             ],
             [
              0.3333333333333333,
              "#9c179e"
             ],
             [
              0.4444444444444444,
              "#bd3786"
             ],
             [
              0.5555555555555556,
              "#d8576b"
             ],
             [
              0.6666666666666666,
              "#ed7953"
             ],
             [
              0.7777777777777778,
              "#fb9f3a"
             ],
             [
              0.8888888888888888,
              "#fdca26"
             ],
             [
              1,
              "#f0f921"
             ]
            ],
            "type": "contour"
           }
          ],
          "contourcarpet": [
           {
            "colorbar": {
             "outlinewidth": 0,
             "ticks": ""
            },
            "type": "contourcarpet"
           }
          ],
          "heatmap": [
           {
            "colorbar": {
             "outlinewidth": 0,
             "ticks": ""
            },
            "colorscale": [
             [
              0,
              "#0d0887"
             ],
             [
              0.1111111111111111,
              "#46039f"
             ],
             [
              0.2222222222222222,
              "#7201a8"
             ],
             [
              0.3333333333333333,
              "#9c179e"
             ],
             [
              0.4444444444444444,
              "#bd3786"
             ],
             [
              0.5555555555555556,
              "#d8576b"
             ],
             [
              0.6666666666666666,
              "#ed7953"
             ],
             [
              0.7777777777777778,
              "#fb9f3a"
             ],
             [
              0.8888888888888888,
              "#fdca26"
             ],
             [
              1,
              "#f0f921"
             ]
            ],
            "type": "heatmap"
           }
          ],
          "heatmapgl": [
           {
            "colorbar": {
             "outlinewidth": 0,
             "ticks": ""
            },
            "colorscale": [
             [
              0,
              "#0d0887"
             ],
             [
              0.1111111111111111,
              "#46039f"
             ],
             [
              0.2222222222222222,
              "#7201a8"
             ],
             [
              0.3333333333333333,
              "#9c179e"
             ],
             [
              0.4444444444444444,
              "#bd3786"
             ],
             [
              0.5555555555555556,
              "#d8576b"
             ],
             [
              0.6666666666666666,
              "#ed7953"
             ],
             [
              0.7777777777777778,
              "#fb9f3a"
             ],
             [
              0.8888888888888888,
              "#fdca26"
             ],
             [
              1,
              "#f0f921"
             ]
            ],
            "type": "heatmapgl"
           }
          ],
          "histogram": [
           {
            "marker": {
             "pattern": {
              "fillmode": "overlay",
              "size": 10,
              "solidity": 0.2
             }
            },
            "type": "histogram"
           }
          ],
          "histogram2d": [
           {
            "colorbar": {
             "outlinewidth": 0,
             "ticks": ""
            },
            "colorscale": [
             [
              0,
              "#0d0887"
             ],
             [
              0.1111111111111111,
              "#46039f"
             ],
             [
              0.2222222222222222,
              "#7201a8"
             ],
             [
              0.3333333333333333,
              "#9c179e"
             ],
             [
              0.4444444444444444,
              "#bd3786"
             ],
             [
              0.5555555555555556,
              "#d8576b"
             ],
             [
              0.6666666666666666,
              "#ed7953"
             ],
             [
              0.7777777777777778,
              "#fb9f3a"
             ],
             [
              0.8888888888888888,
              "#fdca26"
             ],
             [
              1,
              "#f0f921"
             ]
            ],
            "type": "histogram2d"
           }
          ],
          "histogram2dcontour": [
           {
            "colorbar": {
             "outlinewidth": 0,
             "ticks": ""
            },
            "colorscale": [
             [
              0,
              "#0d0887"
             ],
             [
              0.1111111111111111,
              "#46039f"
             ],
             [
              0.2222222222222222,
              "#7201a8"
             ],
             [
              0.3333333333333333,
              "#9c179e"
             ],
             [
              0.4444444444444444,
              "#bd3786"
             ],
             [
              0.5555555555555556,
              "#d8576b"
             ],
             [
              0.6666666666666666,
              "#ed7953"
             ],
             [
              0.7777777777777778,
              "#fb9f3a"
             ],
             [
              0.8888888888888888,
              "#fdca26"
             ],
             [
              1,
              "#f0f921"
             ]
            ],
            "type": "histogram2dcontour"
           }
          ],
          "mesh3d": [
           {
            "colorbar": {
             "outlinewidth": 0,
             "ticks": ""
            },
            "type": "mesh3d"
           }
          ],
          "parcoords": [
           {
            "line": {
             "colorbar": {
              "outlinewidth": 0,
              "ticks": ""
             }
            },
            "type": "parcoords"
           }
          ],
          "pie": [
           {
            "automargin": true,
            "type": "pie"
           }
          ],
          "scatter": [
           {
            "fillpattern": {
             "fillmode": "overlay",
             "size": 10,
             "solidity": 0.2
            },
            "type": "scatter"
           }
          ],
          "scatter3d": [
           {
            "line": {
             "colorbar": {
              "outlinewidth": 0,
              "ticks": ""
             }
            },
            "marker": {
             "colorbar": {
              "outlinewidth": 0,
              "ticks": ""
             }
            },
            "type": "scatter3d"
           }
          ],
          "scattercarpet": [
           {
            "marker": {
             "colorbar": {
              "outlinewidth": 0,
              "ticks": ""
             }
            },
            "type": "scattercarpet"
           }
          ],
          "scattergeo": [
           {
            "marker": {
             "colorbar": {
              "outlinewidth": 0,
              "ticks": ""
             }
            },
            "type": "scattergeo"
           }
          ],
          "scattergl": [
           {
            "marker": {
             "colorbar": {
              "outlinewidth": 0,
              "ticks": ""
             }
            },
            "type": "scattergl"
           }
          ],
          "scattermapbox": [
           {
            "marker": {
             "colorbar": {
              "outlinewidth": 0,
              "ticks": ""
             }
            },
            "type": "scattermapbox"
           }
          ],
          "scatterpolar": [
           {
            "marker": {
             "colorbar": {
              "outlinewidth": 0,
              "ticks": ""
             }
            },
            "type": "scatterpolar"
           }
          ],
          "scatterpolargl": [
           {
            "marker": {
             "colorbar": {
              "outlinewidth": 0,
              "ticks": ""
             }
            },
            "type": "scatterpolargl"
           }
          ],
          "scatterternary": [
           {
            "marker": {
             "colorbar": {
              "outlinewidth": 0,
              "ticks": ""
             }
            },
            "type": "scatterternary"
           }
          ],
          "surface": [
           {
            "colorbar": {
             "outlinewidth": 0,
             "ticks": ""
            },
            "colorscale": [
             [
              0,
              "#0d0887"
             ],
             [
              0.1111111111111111,
              "#46039f"
             ],
             [
              0.2222222222222222,
              "#7201a8"
             ],
             [
              0.3333333333333333,
              "#9c179e"
             ],
             [
              0.4444444444444444,
              "#bd3786"
             ],
             [
              0.5555555555555556,
              "#d8576b"
             ],
             [
              0.6666666666666666,
              "#ed7953"
             ],
             [
              0.7777777777777778,
              "#fb9f3a"
             ],
             [
              0.8888888888888888,
              "#fdca26"
             ],
             [
              1,
              "#f0f921"
             ]
            ],
            "type": "surface"
           }
          ],
          "table": [
           {
            "cells": {
             "fill": {
              "color": "#EBF0F8"
             },
             "line": {
              "color": "white"
             }
            },
            "header": {
             "fill": {
              "color": "#C8D4E3"
             },
             "line": {
              "color": "white"
             }
            },
            "type": "table"
           }
          ]
         },
         "layout": {
          "annotationdefaults": {
           "arrowcolor": "#2a3f5f",
           "arrowhead": 0,
           "arrowwidth": 1
          },
          "autotypenumbers": "strict",
          "coloraxis": {
           "colorbar": {
            "outlinewidth": 0,
            "ticks": ""
           }
          },
          "colorscale": {
           "diverging": [
            [
             0,
             "#8e0152"
            ],
            [
             0.1,
             "#c51b7d"
            ],
            [
             0.2,
             "#de77ae"
            ],
            [
             0.3,
             "#f1b6da"
            ],
            [
             0.4,
             "#fde0ef"
            ],
            [
             0.5,
             "#f7f7f7"
            ],
            [
             0.6,
             "#e6f5d0"
            ],
            [
             0.7,
             "#b8e186"
            ],
            [
             0.8,
             "#7fbc41"
            ],
            [
             0.9,
             "#4d9221"
            ],
            [
             1,
             "#276419"
            ]
           ],
           "sequential": [
            [
             0,
             "#0d0887"
            ],
            [
             0.1111111111111111,
             "#46039f"
            ],
            [
             0.2222222222222222,
             "#7201a8"
            ],
            [
             0.3333333333333333,
             "#9c179e"
            ],
            [
             0.4444444444444444,
             "#bd3786"
            ],
            [
             0.5555555555555556,
             "#d8576b"
            ],
            [
             0.6666666666666666,
             "#ed7953"
            ],
            [
             0.7777777777777778,
             "#fb9f3a"
            ],
            [
             0.8888888888888888,
             "#fdca26"
            ],
            [
             1,
             "#f0f921"
            ]
           ],
           "sequentialminus": [
            [
             0,
             "#0d0887"
            ],
            [
             0.1111111111111111,
             "#46039f"
            ],
            [
             0.2222222222222222,
             "#7201a8"
            ],
            [
             0.3333333333333333,
             "#9c179e"
            ],
            [
             0.4444444444444444,
             "#bd3786"
            ],
            [
             0.5555555555555556,
             "#d8576b"
            ],
            [
             0.6666666666666666,
             "#ed7953"
            ],
            [
             0.7777777777777778,
             "#fb9f3a"
            ],
            [
             0.8888888888888888,
             "#fdca26"
            ],
            [
             1,
             "#f0f921"
            ]
           ]
          },
          "colorway": [
           "#636efa",
           "#EF553B",
           "#00cc96",
           "#ab63fa",
           "#FFA15A",
           "#19d3f3",
           "#FF6692",
           "#B6E880",
           "#FF97FF",
           "#FECB52"
          ],
          "font": {
           "color": "#2a3f5f"
          },
          "geo": {
           "bgcolor": "white",
           "lakecolor": "white",
           "landcolor": "#E5ECF6",
           "showlakes": true,
           "showland": true,
           "subunitcolor": "white"
          },
          "hoverlabel": {
           "align": "left"
          },
          "hovermode": "closest",
          "mapbox": {
           "style": "light"
          },
          "paper_bgcolor": "white",
          "plot_bgcolor": "#E5ECF6",
          "polar": {
           "angularaxis": {
            "gridcolor": "white",
            "linecolor": "white",
            "ticks": ""
           },
           "bgcolor": "#E5ECF6",
           "radialaxis": {
            "gridcolor": "white",
            "linecolor": "white",
            "ticks": ""
           }
          },
          "scene": {
           "xaxis": {
            "backgroundcolor": "#E5ECF6",
            "gridcolor": "white",
            "gridwidth": 2,
            "linecolor": "white",
            "showbackground": true,
            "ticks": "",
            "zerolinecolor": "white"
           },
           "yaxis": {
            "backgroundcolor": "#E5ECF6",
            "gridcolor": "white",
            "gridwidth": 2,
            "linecolor": "white",
            "showbackground": true,
            "ticks": "",
            "zerolinecolor": "white"
           },
           "zaxis": {
            "backgroundcolor": "#E5ECF6",
            "gridcolor": "white",
            "gridwidth": 2,
            "linecolor": "white",
            "showbackground": true,
            "ticks": "",
            "zerolinecolor": "white"
           }
          },
          "shapedefaults": {
           "line": {
            "color": "#2a3f5f"
           }
          },
          "ternary": {
           "aaxis": {
            "gridcolor": "white",
            "linecolor": "white",
            "ticks": ""
           },
           "baxis": {
            "gridcolor": "white",
            "linecolor": "white",
            "ticks": ""
           },
           "bgcolor": "#E5ECF6",
           "caxis": {
            "gridcolor": "white",
            "linecolor": "white",
            "ticks": ""
           }
          },
          "title": {
           "x": 0.05
          },
          "xaxis": {
           "automargin": true,
           "gridcolor": "white",
           "linecolor": "white",
           "ticks": "",
           "title": {
            "standoff": 15
           },
           "zerolinecolor": "white",
           "zerolinewidth": 2
          },
          "yaxis": {
           "automargin": true,
           "gridcolor": "white",
           "linecolor": "white",
           "ticks": "",
           "title": {
            "standoff": 15
           },
           "zerolinecolor": "white",
           "zerolinewidth": 2
          }
         }
        },
        "width": 500,
        "xaxis": {
         "autorange": false,
         "domain": [
          0,
          1
         ],
         "exponentformat": "e",
         "linecolor": "black",
         "linewidth": 1,
         "mirror": false,
         "range": [
          -1.7415453541616462e-05,
          0.00035973395067412644
         ],
         "showexponent": "all",
         "showline": true,
         "side": "bottom",
         "ticks": "outside",
         "title": {
          "text": "Birth"
         },
         "type": "linear",
         "zeroline": true
        },
        "yaxis": {
         "autorange": false,
         "domain": [
          0,
          1
         ],
         "exponentformat": "e",
         "linecolor": "black",
         "linewidth": 1,
         "mirror": false,
         "range": [
          -1.1701068629256766e-05,
          0.0003540195657617667
         ],
         "scaleanchor": "x",
         "scaleratio": 1,
         "showexponent": "all",
         "showline": true,
         "side": "left",
         "ticks": "outside",
         "title": {
          "text": "Death"
         },
         "type": "linear",
         "zeroline": true
        }
       }
      },
      "image/png": "[encoded data removed]",
      "text/html": [
       "<div>                            <div id=\"2ea6b6f4-6f40-4121-97b6-0ed218e44e5e\" class=\"plotly-graph-div\" style=\"height:500px; width:500px;\"></div>            <script type=\"text/javascript\">                require([\"plotly\"], function(Plotly) {                    window.PLOTLYENV=window.PLOTLYENV || {};                                    if (document.getElementById(\"2ea6b6f4-6f40-4121-97b6-0ed218e44e5e\")) {                    Plotly.newPlot(                        \"2ea6b6f4-6f40-4121-97b6-0ed218e44e5e\",                        [{\"hoverinfo\":\"none\",\"line\":{\"color\":\"black\",\"dash\":\"dash\",\"width\":1},\"mode\":\"lines\",\"showlegend\":false,\"x\":[-6.846369942650199e-06,0.00034916486707516016],\"y\":[-6.846369942650199e-06,0.00034916486707516016],\"type\":\"scatter\"},{\"hoverinfo\":\"text\",\"hovertext\":[\"(0.0, 1.5134950444917195e-05)\",\"(0.0, 2.641864375618752e-05)\",\"(0.0, 2.707369094423484e-05)\",\"(0.0, 2.830282573995646e-05)\",\"(0.0, 2.8899041353724897e-05)\",\"(0.0, 3.060165181523189e-05)\",\"(0.0, 3.3110591175500304e-05)\",\"(0.0, 3.483043110463768e-05)\",\"(0.0, 3.55481133738067e-05)\",\"(0.0, 3.562191341188736e-05)\",\"(0.0, 3.613761509768665e-05)\",\"(0.0, 3.871747321682051e-05)\",\"(0.0, 3.879389987559989e-05)\",\"(0.0, 3.899768853443675e-05)\",\"(0.0, 3.954306885134429e-05)\",\"(0.0, 4.253861334291287e-05)\",\"(0.0, 4.289625212550163e-05)\",\"(0.0, 4.3195450416533276e-05)\",\"(0.0, 4.370053648017347e-05)\",\"(0.0, 4.417705349624157e-05)\",\"(0.0, 4.430228364071809e-05)\",\"(0.0, 4.452584471437149e-05)\",\"(0.0, 4.458129114937037e-05)\",\"(0.0, 4.5498774852603674e-05)\",\"(0.0, 4.589293894241564e-05)\",\"(0.0, 4.6071061660768464e-05)\",\"(0.0, 4.611268741427921e-05)\",\"(0.0, 4.6160774218151346e-05)\",\"(0.0, 4.640561746782623e-05)\",\"(0.0, 4.82720643049106e-05)\",\"(0.0, 4.851910489378497e-05)\",\"(0.0, 4.939163045492023e-05)\",\"(0.0, 4.965049083693884e-05)\",\"(0.0, 5.0052691221935675e-05)\",\"(0.0, 5.089563273941167e-05)\",\"(0.0, 5.148875425220467e-05)\",\"(0.0, 5.149294520379044e-05)\",\"(0.0, 5.154508471605368e-05)\",\"(0.0, 5.161088120075874e-05)\",\"(0.0, 5.16406144015491e-05)\",\"(0.0, 5.1741295465035364e-05)\",\"(0.0, 5.222642357693985e-05)\",\"(0.0, 5.263604907668196e-05)\",\"(0.0, 5.28881028003525e-05)\",\"(0.0, 5.290578701533377e-05)\",\"(0.0, 5.300361226545647e-05)\",\"(0.0, 5.312632129061967e-05)\",\"(0.0, 5.314302325132303e-05)\",\"(0.0, 5.359466013032943e-05)\",\"(0.0, 5.368118218029849e-05)\",\"(0.0, 5.368900019675493e-05)\",\"(0.0, 5.4040086979512125e-05)\",\"(0.0, 5.51756274944637e-05)\",\"(0.0, 5.53492245671805e-05)\",\"(0.0, 5.62371096748393e-05)\",\"(0.0, 5.651788160321303e-05)\",\"(0.0, 5.6531458540121093e-05)\",\"(0.0, 5.717540989280678e-05)\",\"(0.0, 5.755586244049482e-05)\",\"(0.0, 5.768884511780925e-05)\",\"(0.0, 5.8164569054497406e-05)\",\"(0.0, 5.8487563364906237e-05)\",\"(0.0, 5.859592420165427e-05)\",\"(0.0, 5.9127451095264405e-05)\",\"(0.0, 5.915300062042661e-05)\",\"(0.0, 5.926075027673505e-05)\",\"(0.0, 5.937780224485323e-05)\",\"(0.0, 5.939496259088628e-05)\",\"(0.0, 5.954639709671028e-05)\",\"(0.0, 5.963353396509774e-05)\",\"(0.0, 5.998061169520952e-05)\",\"(0.0, 6.004355600452982e-05)\",\"(0.0, 6.013715028529987e-05)\",\"(0.0, 6.0459722590167075e-05)\",\"(0.0, 6.0717615269823e-05)\",\"(0.0, 6.082633990445174e-05)\",\"(0.0, 6.116351141827181e-05)\",\"(0.0, 6.120330363046378e-05)\",\"(0.0, 6.152808055048808e-05)\",\"(0.0, 6.276284693740308e-05)\",\"(0.0, 6.306248542387038e-05)\",\"(0.0, 6.33419695077464e-05)\",\"(0.0, 6.35109972790815e-05)\",\"(0.0, 6.377629324560985e-05)\",\"(0.0, 6.391809438355267e-05)\",\"(0.0, 6.392635259544477e-05)\",\"(0.0, 6.412544462364167e-05)\",\"(0.0, 6.440850847866386e-05)\",\"(0.0, 6.534563726745546e-05)\",\"(0.0, 6.565248622791842e-05)\",\"(0.0, 6.577146996278316e-05)\",\"(0.0, 6.577547901542857e-05)\",\"(0.0, 6.580664921784773e-05)\",\"(0.0, 6.594172009499744e-05)\",\"(0.0, 6.594608566956595e-05)\",\"(0.0, 6.654435856034979e-05)\",\"(0.0, 6.670526636298746e-05)\",\"(0.0, 6.673690222669393e-05)\",\"(0.0, 6.67607964714989e-05)\",\"(0.0, 6.706670683342963e-05)\",\"(0.0, 6.740220123901963e-05)\",\"(0.0, 6.743688572896644e-05)\",\"(0.0, 6.753408524673432e-05)\",\"(0.0, 6.80118246236816e-05)\",\"(0.0, 6.828035839134827e-05)\",\"(0.0, 6.852159276604652e-05)\",\"(0.0, 6.880747969262302e-05)\",\"(0.0, 6.902655150042847e-05)\",\"(0.0, 6.914631376275793e-05)\",\"(0.0, 6.927020876901224e-05)\",\"(0.0, 6.961299368413165e-05)\",\"(0.0, 6.984962237766013e-05)\",\"(0.0, 7.048112456686795e-05)\",\"(0.0, 7.092126907082275e-05)\",\"(0.0, 7.139616354834288e-05)\",\"(0.0, 7.167175499489531e-05)\",\"(0.0, 7.203741552075371e-05)\",\"(0.0, 7.264428859343752e-05)\",\"(0.0, 7.269263733178377e-05)\",\"(0.0, 7.407574594253674e-05)\",\"(0.0, 7.459037442458794e-05)\",\"(0.0, 7.462573557859287e-05)\",\"(0.0, 7.467167597496882e-05)\",\"(0.0, 7.510913565056399e-05)\",\"(0.0, 7.615039066877216e-05)\",\"(0.0, 7.68017562222667e-05)\",\"(0.0, 7.904458470875397e-05)\",\"(0.0, 7.93614744907245e-05)\",\"(0.0, 7.94790976215154e-05)\",\"(0.0, 7.973412721185014e-05)\",\"(0.0, 7.98252149252221e-05)\",\"(0.0, 7.988483412191272e-05)\",\"(0.0, 8.217894355766475e-05)\",\"(0.0, 8.275666186818853e-05)\",\"(0.0, 8.284384966827929e-05)\",\"(0.0, 8.285210060421377e-05)\",\"(0.0, 8.320984488818794e-05)\",\"(0.0, 8.345160313183442e-05)\",\"(0.0, 8.348421397386119e-05)\",\"(0.0, 8.366429392481223e-05)\",\"(0.0, 8.557361434213817e-05)\",\"(0.0, 8.559253183193505e-05)\",\"(0.0, 8.570720092393458e-05)\",\"(0.0, 8.601906301919371e-05)\",\"(0.0, 8.602910384070128e-05)\",\"(0.0, 8.658043952891603e-05)\",\"(0.0, 8.67102644406259e-05)\",\"(0.0, 8.742082718526945e-05)\",\"(0.0, 8.743673242861405e-05)\",\"(0.0, 8.744098886381835e-05)\",\"(0.0, 8.834474283503368e-05)\",\"(0.0, 9.011109068524092e-05)\",\"(0.0, 9.536839934298769e-05)\",\"(0.0, 9.611813584342599e-05)\",\"(0.0, 9.741488611325622e-05)\",\"(0.0, 9.789820614969358e-05)\",\"(0.0, 9.822472202358767e-05)\",\"(0.0, 9.921907621901482e-05)\",\"(0.0, 9.931402746587992e-05)\",\"(0.0, 0.00010011867561843246)\",\"(0.0, 0.00010020679474109784)\",\"(0.0, 0.00010088185081258416)\",\"(0.0, 0.00010267113248119131)\",\"(0.0, 0.00010285760799888521)\",\"(0.0, 0.00010357907740399241)\",\"(0.0, 0.00010418592864880338)\",\"(0.0, 0.00010471943096490577)\",\"(0.0, 0.00010973686585202813)\",\"(0.0, 0.00011042664118576795)\",\"(0.0, 0.00011066063598264009)\",\"(0.0, 0.00011504399299155921)\",\"(0.0, 0.00011520690168254077)\",\"(0.0, 0.00011929270112887025)\",\"(0.0, 0.000123890713439323)\",\"(0.0, 0.00013284647138789296)\",\"(0.0, 0.00014854637265671045)\",\"(0.0, 0.0001497332559665665)\",\"(0.0, 0.00015558541053906083)\",\"(0.0, 0.00016575174231547862)\",\"(0.0, 0.00016965453687589616)\",\"(0.0, 0.00018488771456759423)\",\"(0.0, 0.00018574253772385418)\",\"(0.0, 0.0001929464197019115)\",\"(0.0, 0.00019753683591261506)\",\"(0.0, 0.0002054626529570669)\",\"(0.0, 0.0002062072599073872)\",\"(0.0, 0.00023913865152280778)\",\"(0.0, 0.00025119914789684117)\",\"(0.0, 0.00029010753496550024)\"],\"mode\":\"markers\",\"name\":\"H0\",\"x\":[0.0,0.0,0.0,0.0,0.0,0.0,0.0,0.0,0.0,0.0,0.0,0.0,0.0,0.0,0.0,0.0,0.0,0.0,0.0,0.0,0.0,0.0,0.0,0.0,0.0,0.0,0.0,0.0,0.0,0.0,0.0,0.0,0.0,0.0,0.0,0.0,0.0,0.0,0.0,0.0,0.0,0.0,0.0,0.0,0.0,0.0,0.0,0.0,0.0,0.0,0.0,0.0,0.0,0.0,0.0,0.0,0.0,0.0,0.0,0.0,0.0,0.0,0.0,0.0,0.0,0.0,0.0,0.0,0.0,0.0,0.0,0.0,0.0,0.0,0.0,0.0,0.0,0.0,0.0,0.0,0.0,0.0,0.0,0.0,0.0,0.0,0.0,0.0,0.0,0.0,0.0,0.0,0.0,0.0,0.0,0.0,0.0,0.0,0.0,0.0,0.0,0.0,0.0,0.0,0.0,0.0,0.0,0.0,0.0,0.0,0.0,0.0,0.0,0.0,0.0,0.0,0.0,0.0,0.0,0.0,0.0,0.0,0.0,0.0,0.0,0.0,0.0,0.0,0.0,0.0,0.0,0.0,0.0,0.0,0.0,0.0,0.0,0.0,0.0,0.0,0.0,0.0,0.0,0.0,0.0,0.0,0.0,0.0,0.0,0.0,0.0,0.0,0.0,0.0,0.0,0.0,0.0,0.0,0.0,0.0,0.0,0.0,0.0,0.0,0.0,0.0,0.0,0.0,0.0,0.0,0.0,0.0,0.0,0.0,0.0,0.0,0.0,0.0,0.0,0.0,0.0,0.0,0.0,0.0,0.0,0.0,0.0,0.0,0.0],\"y\":[1.5134950444917195e-05,2.641864375618752e-05,2.707369094423484e-05,2.830282573995646e-05,2.8899041353724897e-05,3.060165181523189e-05,3.3110591175500304e-05,3.483043110463768e-05,3.55481133738067e-05,3.562191341188736e-05,3.613761509768665e-05,3.871747321682051e-05,3.879389987559989e-05,3.899768853443675e-05,3.954306885134429e-05,4.253861334291287e-05,4.289625212550163e-05,4.3195450416533276e-05,4.370053648017347e-05,4.417705349624157e-05,4.430228364071809e-05,4.452584471437149e-05,4.458129114937037e-05,4.5498774852603674e-05,4.589293894241564e-05,4.6071061660768464e-05,4.611268741427921e-05,4.6160774218151346e-05,4.640561746782623e-05,4.82720643049106e-05,4.851910489378497e-05,4.939163045492023e-05,4.965049083693884e-05,5.0052691221935675e-05,5.089563273941167e-05,5.148875425220467e-05,5.149294520379044e-05,5.154508471605368e-05,5.161088120075874e-05,5.16406144015491e-05,5.1741295465035364e-05,5.222642357693985e-05,5.263604907668196e-05,5.28881028003525e-05,5.290578701533377e-05,5.300361226545647e-05,5.312632129061967e-05,5.314302325132303e-05,5.359466013032943e-05,5.368118218029849e-05,5.368900019675493e-05,5.4040086979512125e-05,5.51756274944637e-05,5.53492245671805e-05,5.62371096748393e-05,5.651788160321303e-05,5.6531458540121093e-05,5.717540989280678e-05,5.755586244049482e-05,5.768884511780925e-05,5.8164569054497406e-05,5.8487563364906237e-05,5.859592420165427e-05,5.9127451095264405e-05,5.915300062042661e-05,5.926075027673505e-05,5.937780224485323e-05,5.939496259088628e-05,5.954639709671028e-05,5.963353396509774e-05,5.998061169520952e-05,6.004355600452982e-05,6.013715028529987e-05,6.0459722590167075e-05,6.0717615269823e-05,6.082633990445174e-05,6.116351141827181e-05,6.120330363046378e-05,6.152808055048808e-05,6.276284693740308e-05,6.306248542387038e-05,6.33419695077464e-05,6.35109972790815e-05,6.377629324560985e-05,6.391809438355267e-05,6.392635259544477e-05,6.412544462364167e-05,6.440850847866386e-05,6.534563726745546e-05,6.565248622791842e-05,6.577146996278316e-05,6.577547901542857e-05,6.580664921784773e-05,6.594172009499744e-05,6.594608566956595e-05,6.654435856034979e-05,6.670526636298746e-05,6.673690222669393e-05,6.67607964714989e-05,6.706670683342963e-05,6.740220123901963e-05,6.743688572896644e-05,6.753408524673432e-05,6.80118246236816e-05,6.828035839134827e-05,6.852159276604652e-05,6.880747969262302e-05,6.902655150042847e-05,6.914631376275793e-05,6.927020876901224e-05,6.961299368413165e-05,6.984962237766013e-05,7.048112456686795e-05,7.092126907082275e-05,7.139616354834288e-05,7.167175499489531e-05,7.203741552075371e-05,7.264428859343752e-05,7.269263733178377e-05,7.407574594253674e-05,7.459037442458794e-05,7.462573557859287e-05,7.467167597496882e-05,7.510913565056399e-05,7.615039066877216e-05,7.68017562222667e-05,7.904458470875397e-05,7.93614744907245e-05,7.94790976215154e-05,7.973412721185014e-05,7.98252149252221e-05,7.988483412191272e-05,8.217894355766475e-05,8.275666186818853e-05,8.284384966827929e-05,8.285210060421377e-05,8.320984488818794e-05,8.345160313183442e-05,8.348421397386119e-05,8.366429392481223e-05,8.557361434213817e-05,8.559253183193505e-05,8.570720092393458e-05,8.601906301919371e-05,8.602910384070128e-05,8.658043952891603e-05,8.67102644406259e-05,8.742082718526945e-05,8.743673242861405e-05,8.744098886381835e-05,8.834474283503368e-05,9.011109068524092e-05,9.536839934298769e-05,9.611813584342599e-05,9.741488611325622e-05,9.789820614969358e-05,9.822472202358767e-05,9.921907621901482e-05,9.931402746587992e-05,0.00010011867561843246,0.00010020679474109784,0.00010088185081258416,0.00010267113248119131,0.00010285760799888521,0.00010357907740399241,0.00010418592864880338,0.00010471943096490577,0.00010973686585202813,0.00011042664118576795,0.00011066063598264009,0.00011504399299155921,0.00011520690168254077,0.00011929270112887025,0.000123890713439323,0.00013284647138789296,0.00014854637265671045,0.0001497332559665665,0.00015558541053906083,0.00016575174231547862,0.00016965453687589616,0.00018488771456759423,0.00018574253772385418,0.0001929464197019115,0.00019753683591261506,0.0002054626529570669,0.0002062072599073872,0.00023913865152280778,0.00025119914789684117,0.00029010753496550024],\"type\":\"scatter\"},{\"hoverinfo\":\"text\",\"hovertext\":[\"(0.000340226455591619, 0.00034231849713250995)\",\"(0.00024707941338419914, 0.00027044827584177256)\",\"(0.00023274531122297049, 0.000268418196355924)\",\"(0.00022658095986116678, 0.0002661564794834703)\",\"(0.00021657701290678233, 0.0002521931892260909)\",\"(0.00020665451302193105, 0.00020782469073310494)\",\"(0.00020280806347727776, 0.0002182174357585609)\",\"(0.00018227715918328613, 0.0001926335971802473)\",\"(0.00015556775906588882, 0.0001618643436813727)\",\"(0.00014774217561352998, 0.00014971995551604778)\",\"(0.00013247595052234828, 0.00013978351489640772)\",\"(0.00013195852807257324, 0.00014251879474613816)\",\"(0.00012419755512382835, 0.00013216500519774854)\",\"(0.00012142950436100364, 0.00012328193406574428)\",\"(0.0001204202781082131, 0.00014042963448446244)\",\"(0.00011449534213170409, 0.0001194528304040432)\",\"(0.00011387719860067591, 0.00011811792501248419)\",\"(0.00011313024879200384, 0.00012158582831034437)\",\"(0.00010733019007602707, 0.00010766329796751961)\",\"(0.00010711781214922667, 0.00011445480049587786)\",\"(0.0001054942185874097, 0.00011229987285332754)\",\"(0.00010425979417050257, 0.00010816667781909928)\",\"(0.00010182506957789883, 0.00010782379104057327)\",\"(0.00010121307423105463, 0.00010981584637193009)\",\"(0.00010047377872979268, 0.00010399445454822853)\",\"(9.880510333459824e-05, 0.00011685255594784394)\",\"(9.763314301380888e-05, 9.893997776089236e-05)\",\"(9.755512292031199e-05, 0.00010378518345532939)\",\"(9.741488611325622e-05, 0.00010183260746998712)\",\"(9.729405428515747e-05, 0.00010104136890731752)\",\"(9.645651880418882e-05, 9.764628339326009e-05)\",\"(9.478252468397841e-05, 0.00010786893108161166)\",\"(9.362899436382577e-05, 0.00010186686995439231)\",\"(9.09643349586986e-05, 0.00010487710824236274)\",\"(8.976094977697358e-05, 9.040126315085217e-05)\",\"(8.962122956290841e-05, 9.925834456225857e-05)\",\"(8.960878767538816e-05, 9.787530143512413e-05)\",\"(8.942888234741986e-05, 0.00011401506344554946)\",\"(8.936972881201655e-05, 9.37939403229393e-05)\",\"(8.90112787601538e-05, 0.00010626923176459968)\",\"(8.812552550807595e-05, 0.00010015232692239806)\",\"(8.756788884056732e-05, 9.312119800597429e-05)\",\"(8.754501322982833e-05, 9.783192217582837e-05)\",\"(8.751377754379064e-05, 0.00010625298455124721)\",\"(8.617965067969635e-05, 8.727021486265585e-05)\",\"(8.580341091146693e-05, 8.855380292516202e-05)\",\"(8.52762968861498e-05, 8.876074571162462e-05)\",\"(8.477759547531605e-05, 9.294628398492932e-05)\",\"(8.329468255396932e-05, 8.985641761682928e-05)\",\"(8.242358308052644e-05, 8.647220238344744e-05)\",\"(8.215136040234938e-05, 8.875683124642819e-05)\",\"(8.188174979295582e-05, 9.004918683785945e-05)\",\"(8.183530735550448e-05, 0.00010783079778775573)\",\"(8.16735191619955e-05, 8.786168473307043e-05)\",\"(8.15224411780946e-05, 8.834405889501795e-05)\",\"(8.140394493239e-05, 8.256937871919945e-05)\",\"(8.062372216954827e-05, 9.155904990620911e-05)\",\"(7.997694774530828e-05, 9.991701517719775e-05)\",\"(7.991184975253418e-05, 8.441215322818607e-05)\",\"(7.924110104795545e-05, 8.814239117782563e-05)\",\"(7.883722719270736e-05, 8.40358407003805e-05)\",\"(7.829890819266438e-05, 9.284766565542668e-05)\",\"(7.777597784297541e-05, 8.566255564801395e-05)\",\"(7.761792949168012e-05, 8.3433638792485e-05)\",\"(7.730149809503928e-05, 8.729700493859127e-05)\",\"(7.66226148698479e-05, 7.972028834046796e-05)\",\"(7.657094829482958e-05, 8.158890705090016e-05)\",\"(7.647222082596272e-05, 8.159419667208567e-05)\",\"(7.626636215718463e-05, 8.723627252038568e-05)\",\"(7.599417585879564e-05, 8.420306403422728e-05)\",\"(7.589738379465416e-05, 8.715416333870962e-05)\",\"(7.550961163360626e-05, 8.398260251851752e-05)\",\"(7.526416447944939e-05, 8.280432666651905e-05)\",\"(7.521045336034149e-05, 8.403712854487821e-05)\",\"(7.50923718442209e-05, 7.918282062746584e-05)\",\"(7.508103590225801e-05, 8.054544741753489e-05)\",\"(7.467954856110737e-05, 9.129607497015968e-05)\",\"(7.429638935718685e-05, 8.2160702731926e-05)\",\"(7.304940663743764e-05, 9.57867014221847e-05)\",\"(7.240469858516008e-05, 9.257992496713996e-05)\",\"(7.229215407278389e-05, 8.509385224897414e-05)\",\"(7.206371083157137e-05, 8.063785207923502e-05)\",\"(7.192295743152499e-05, 0.00010268900223309174)\",\"(7.110432488843799e-05, 7.749238284304738e-05)\",\"(7.096200715750456e-05, 9.379304538015276e-05)\",\"(7.039021147647873e-05, 7.609699241584167e-05)\",\"(7.031589484540746e-05, 8.296246232930571e-05)\",\"(7.000242476351559e-05, 7.170855678850785e-05)\",\"(6.976854638196528e-05, 7.06334103597328e-05)\",\"(6.890100485179573e-05, 9.173569560516626e-05)\",\"(6.887054041726515e-05, 8.130562491714954e-05)\",\"(6.793578359065577e-05, 7.758254650980234e-05)\",\"(6.742319237673655e-05, 6.824627780588344e-05)\",\"(6.734791531926021e-05, 8.184351463569328e-05)\",\"(6.686399865429848e-05, 8.063309360295534e-05)\",\"(6.640418723691255e-05, 9.115607826970518e-05)\",\"(6.60051591694355e-05, 6.67210842948407e-05)\",\"(6.523323099827394e-05, 6.858631240902469e-05)\",\"(6.498587754322216e-05, 6.945985660422593e-05)\",\"(6.377572572091594e-05, 7.52077394281514e-05)\",\"(6.24579333816655e-05, 9.129738464253023e-05)\",\"(6.105774809839204e-05, 7.444183574989438e-05)\",\"(6.100036989664659e-05, 6.729269807692617e-05)\",\"(6.074861448723823e-05, 6.860589201096445e-05)\",\"(5.742988287238404e-05, 6.421047146432102e-05)\",\"(5.704270370188169e-05, 7.685451419092715e-05)\",\"(5.234958007349633e-05, 5.546068859985098e-05)\"],\"mode\":\"markers\",\"name\":\"H1\",\"x\":[0.000340226455591619,0.00024707941338419914,0.00023274531122297049,0.00022658095986116678,0.00021657701290678233,0.00020665451302193105,0.00020280806347727776,0.00018227715918328613,0.00015556775906588882,0.00014774217561352998,0.00013247595052234828,0.00013195852807257324,0.00012419755512382835,0.00012142950436100364,0.0001204202781082131,0.00011449534213170409,0.00011387719860067591,0.00011313024879200384,0.00010733019007602707,0.00010711781214922667,0.0001054942185874097,0.00010425979417050257,0.00010182506957789883,0.00010121307423105463,0.00010047377872979268,9.880510333459824e-05,9.763314301380888e-05,9.755512292031199e-05,9.741488611325622e-05,9.729405428515747e-05,9.645651880418882e-05,9.478252468397841e-05,9.362899436382577e-05,9.09643349586986e-05,8.976094977697358e-05,8.962122956290841e-05,8.960878767538816e-05,8.942888234741986e-05,8.936972881201655e-05,8.90112787601538e-05,8.812552550807595e-05,8.756788884056732e-05,8.754501322982833e-05,8.751377754379064e-05,8.617965067969635e-05,8.580341091146693e-05,8.52762968861498e-05,8.477759547531605e-05,8.329468255396932e-05,8.242358308052644e-05,8.215136040234938e-05,8.188174979295582e-05,8.183530735550448e-05,8.16735191619955e-05,8.15224411780946e-05,8.140394493239e-05,8.062372216954827e-05,7.997694774530828e-05,7.991184975253418e-05,7.924110104795545e-05,7.883722719270736e-05,7.829890819266438e-05,7.777597784297541e-05,7.761792949168012e-05,7.730149809503928e-05,7.66226148698479e-05,7.657094829482958e-05,7.647222082596272e-05,7.626636215718463e-05,7.599417585879564e-05,7.589738379465416e-05,7.550961163360626e-05,7.526416447944939e-05,7.521045336034149e-05,7.50923718442209e-05,7.508103590225801e-05,7.467954856110737e-05,7.429638935718685e-05,7.304940663743764e-05,7.240469858516008e-05,7.229215407278389e-05,7.206371083157137e-05,7.192295743152499e-05,7.110432488843799e-05,7.096200715750456e-05,7.039021147647873e-05,7.031589484540746e-05,7.000242476351559e-05,6.976854638196528e-05,6.890100485179573e-05,6.887054041726515e-05,6.793578359065577e-05,6.742319237673655e-05,6.734791531926021e-05,6.686399865429848e-05,6.640418723691255e-05,6.60051591694355e-05,6.523323099827394e-05,6.498587754322216e-05,6.377572572091594e-05,6.24579333816655e-05,6.105774809839204e-05,6.100036989664659e-05,6.074861448723823e-05,5.742988287238404e-05,5.704270370188169e-05,5.234958007349633e-05],\"y\":[0.00034231849713250995,0.00027044827584177256,0.000268418196355924,0.0002661564794834703,0.0002521931892260909,0.00020782469073310494,0.0002182174357585609,0.0001926335971802473,0.0001618643436813727,0.00014971995551604778,0.00013978351489640772,0.00014251879474613816,0.00013216500519774854,0.00012328193406574428,0.00014042963448446244,0.0001194528304040432,0.00011811792501248419,0.00012158582831034437,0.00010766329796751961,0.00011445480049587786,0.00011229987285332754,0.00010816667781909928,0.00010782379104057327,0.00010981584637193009,0.00010399445454822853,0.00011685255594784394,9.893997776089236e-05,0.00010378518345532939,0.00010183260746998712,0.00010104136890731752,9.764628339326009e-05,0.00010786893108161166,0.00010186686995439231,0.00010487710824236274,9.040126315085217e-05,9.925834456225857e-05,9.787530143512413e-05,0.00011401506344554946,9.37939403229393e-05,0.00010626923176459968,0.00010015232692239806,9.312119800597429e-05,9.783192217582837e-05,0.00010625298455124721,8.727021486265585e-05,8.855380292516202e-05,8.876074571162462e-05,9.294628398492932e-05,8.985641761682928e-05,8.647220238344744e-05,8.875683124642819e-05,9.004918683785945e-05,0.00010783079778775573,8.786168473307043e-05,8.834405889501795e-05,8.256937871919945e-05,9.155904990620911e-05,9.991701517719775e-05,8.441215322818607e-05,8.814239117782563e-05,8.40358407003805e-05,9.284766565542668e-05,8.566255564801395e-05,8.3433638792485e-05,8.729700493859127e-05,7.972028834046796e-05,8.158890705090016e-05,8.159419667208567e-05,8.723627252038568e-05,8.420306403422728e-05,8.715416333870962e-05,8.398260251851752e-05,8.280432666651905e-05,8.403712854487821e-05,7.918282062746584e-05,8.054544741753489e-05,9.129607497015968e-05,8.2160702731926e-05,9.57867014221847e-05,9.257992496713996e-05,8.509385224897414e-05,8.063785207923502e-05,0.00010268900223309174,7.749238284304738e-05,9.379304538015276e-05,7.609699241584167e-05,8.296246232930571e-05,7.170855678850785e-05,7.06334103597328e-05,9.173569560516626e-05,8.130562491714954e-05,7.758254650980234e-05,6.824627780588344e-05,8.184351463569328e-05,8.063309360295534e-05,9.115607826970518e-05,6.67210842948407e-05,6.858631240902469e-05,6.945985660422593e-05,7.52077394281514e-05,9.129738464253023e-05,7.444183574989438e-05,6.729269807692617e-05,6.860589201096445e-05,6.421047146432102e-05,7.685451419092715e-05,5.546068859985098e-05],\"type\":\"scatter\"},{\"hoverinfo\":\"text\",\"hovertext\":[\"(0.0001941417867783457, 0.00019486762175802141)\",\"(0.00014417758211493492, 0.000159226605319418)\",\"(0.00012924619659315795, 0.00013806925562676042)\",\"(0.0001269715721718967, 0.00013364196638576686)\",\"(0.0001239387202076614, 0.00012812440400011837)\",\"(0.0001231939677381888, 0.00012398611579556018)\",\"(0.00011588957568164915, 0.0001236884418176487)\",\"(0.0001152476979768835, 0.00011662719043670222)\",\"(0.00011375466419849545, 0.00012398611579556018)\",\"(0.00011214332334930077, 0.00011333992733852938)\",\"(0.00011099086987087503, 0.00012192237772978842)\",\"(0.00011054625065298751, 0.0001146381109720096)\",\"(0.00011054625065298751, 0.00011077187082264572)\",\"(0.00010874362487811595, 0.00011453387560322881)\",\"(0.00010787071369122714, 0.00011122863361379132)\",\"(0.00010651809861883521, 0.00010716258111642674)\",\"(0.00010552808817010373, 0.00010641346307238564)\",\"(0.00010524065146455541, 0.00010528849816182628)\",\"(0.00010483216465217993, 0.00010766329796751961)\",\"(0.00010433969873702154, 0.00010455577285028994)\",\"(0.00010428520909044892, 0.00010981584637193009)\",\"(0.00010361021850258112, 0.0001106820855056867)\",\"(0.00010124636173713952, 0.0001047314508468844)\",\"(0.00010089005809277296, 0.00010544862743699923)\",\"(9.979776223190129e-05, 0.00010401129111414775)\",\"(9.904924081638455e-05, 0.00010094780736835673)\",\"(9.740122186485678e-05, 0.00010235178342554718)\",\"(9.695933840703219e-05, 0.0001017427202896215)\",\"(9.6646421297919e-05, 9.860646969173104e-05)\",\"(9.657951886765659e-05, 9.905396291287616e-05)\",\"(9.549543756293133e-05, 9.813311044126749e-05)\",\"(9.515338751953095e-05, 0.00010064812522614375)\",\"(9.374598448630422e-05, 0.00010884018411161378)\",\"(9.357800445286557e-05, 9.97718088910915e-05)\",\"(9.206152753904462e-05, 9.249089634977281e-05)\",\"(8.757076284382492e-05, 8.840797090670094e-05)\",\"(8.742123463889584e-05, 8.927951421355829e-05)\",\"(8.628506475361064e-05, 8.657143916934729e-05)\",\"(8.559981506550685e-05, 8.751213317736983e-05)\",\"(8.035376231418923e-05, 8.082026761258021e-05)\",\"(7.938851922517642e-05, 8.65311230882071e-05)\",\"(7.938851922517642e-05, 8.318678010255098e-05)\"],\"mode\":\"markers\",\"name\":\"H2\",\"x\":[0.0001941417867783457,0.00014417758211493492,0.00012924619659315795,0.0001269715721718967,0.0001239387202076614,0.0001231939677381888,0.00011588957568164915,0.0001152476979768835,0.00011375466419849545,0.00011214332334930077,0.00011099086987087503,0.00011054625065298751,0.00011054625065298751,0.00010874362487811595,0.00010787071369122714,0.00010651809861883521,0.00010552808817010373,0.00010524065146455541,0.00010483216465217993,0.00010433969873702154,0.00010428520909044892,0.00010361021850258112,0.00010124636173713952,0.00010089005809277296,9.979776223190129e-05,9.904924081638455e-05,9.740122186485678e-05,9.695933840703219e-05,9.6646421297919e-05,9.657951886765659e-05,9.549543756293133e-05,9.515338751953095e-05,9.374598448630422e-05,9.357800445286557e-05,9.206152753904462e-05,8.757076284382492e-05,8.742123463889584e-05,8.628506475361064e-05,8.559981506550685e-05,8.035376231418923e-05,7.938851922517642e-05,7.938851922517642e-05],\"y\":[0.00019486762175802141,0.000159226605319418,0.00013806925562676042,0.00013364196638576686,0.00012812440400011837,0.00012398611579556018,0.0001236884418176487,0.00011662719043670222,0.00012398611579556018,0.00011333992733852938,0.00012192237772978842,0.0001146381109720096,0.00011077187082264572,0.00011453387560322881,0.00011122863361379132,0.00010716258111642674,0.00010641346307238564,0.00010528849816182628,0.00010766329796751961,0.00010455577285028994,0.00010981584637193009,0.0001106820855056867,0.0001047314508468844,0.00010544862743699923,0.00010401129111414775,0.00010094780736835673,0.00010235178342554718,0.0001017427202896215,9.860646969173104e-05,9.905396291287616e-05,9.813311044126749e-05,0.00010064812522614375,0.00010884018411161378,9.97718088910915e-05,9.249089634977281e-05,8.840797090670094e-05,8.927951421355829e-05,8.657143916934729e-05,8.751213317736983e-05,8.082026761258021e-05,8.65311230882071e-05,8.318678010255098e-05],\"type\":\"scatter\"}],                        {\"template\":{\"data\":{\"histogram2dcontour\":[{\"type\":\"histogram2dcontour\",\"colorbar\":{\"outlinewidth\":0,\"ticks\":\"\"},\"colorscale\":[[0.0,\"#0d0887\"],[0.1111111111111111,\"#46039f\"],[0.2222222222222222,\"#7201a8\"],[0.3333333333333333,\"#9c179e\"],[0.4444444444444444,\"#bd3786\"],[0.5555555555555556,\"#d8576b\"],[0.6666666666666666,\"#ed7953\"],[0.7777777777777778,\"#fb9f3a\"],[0.8888888888888888,\"#fdca26\"],[1.0,\"#f0f921\"]]}],\"choropleth\":[{\"type\":\"choropleth\",\"colorbar\":{\"outlinewidth\":0,\"ticks\":\"\"}}],\"histogram2d\":[{\"type\":\"histogram2d\",\"colorbar\":{\"outlinewidth\":0,\"ticks\":\"\"},\"colorscale\":[[0.0,\"#0d0887\"],[0.1111111111111111,\"#46039f\"],[0.2222222222222222,\"#7201a8\"],[0.3333333333333333,\"#9c179e\"],[0.4444444444444444,\"#bd3786\"],[0.5555555555555556,\"#d8576b\"],[0.6666666666666666,\"#ed7953\"],[0.7777777777777778,\"#fb9f3a\"],[0.8888888888888888,\"#fdca26\"],[1.0,\"#f0f921\"]]}],\"heatmap\":[{\"type\":\"heatmap\",\"colorbar\":{\"outlinewidth\":0,\"ticks\":\"\"},\"colorscale\":[[0.0,\"#0d0887\"],[0.1111111111111111,\"#46039f\"],[0.2222222222222222,\"#7201a8\"],[0.3333333333333333,\"#9c179e\"],[0.4444444444444444,\"#bd3786\"],[0.5555555555555556,\"#d8576b\"],[0.6666666666666666,\"#ed7953\"],[0.7777777777777778,\"#fb9f3a\"],[0.8888888888888888,\"#fdca26\"],[1.0,\"#f0f921\"]]}],\"heatmapgl\":[{\"type\":\"heatmapgl\",\"colorbar\":{\"outlinewidth\":0,\"ticks\":\"\"},\"colorscale\":[[0.0,\"#0d0887\"],[0.1111111111111111,\"#46039f\"],[0.2222222222222222,\"#7201a8\"],[0.3333333333333333,\"#9c179e\"],[0.4444444444444444,\"#bd3786\"],[0.5555555555555556,\"#d8576b\"],[0.6666666666666666,\"#ed7953\"],[0.7777777777777778,\"#fb9f3a\"],[0.8888888888888888,\"#fdca26\"],[1.0,\"#f0f921\"]]}],\"contourcarpet\":[{\"type\":\"contourcarpet\",\"colorbar\":{\"outlinewidth\":0,\"ticks\":\"\"}}],\"contour\":[{\"type\":\"contour\",\"colorbar\":{\"outlinewidth\":0,\"ticks\":\"\"},\"colorscale\":[[0.0,\"#0d0887\"],[0.1111111111111111,\"#46039f\"],[0.2222222222222222,\"#7201a8\"],[0.3333333333333333,\"#9c179e\"],[0.4444444444444444,\"#bd3786\"],[0.5555555555555556,\"#d8576b\"],[0.6666666666666666,\"#ed7953\"],[0.7777777777777778,\"#fb9f3a\"],[0.8888888888888888,\"#fdca26\"],[1.0,\"#f0f921\"]]}],\"surface\":[{\"type\":\"surface\",\"colorbar\":{\"outlinewidth\":0,\"ticks\":\"\"},\"colorscale\":[[0.0,\"#0d0887\"],[0.1111111111111111,\"#46039f\"],[0.2222222222222222,\"#7201a8\"],[0.3333333333333333,\"#9c179e\"],[0.4444444444444444,\"#bd3786\"],[0.5555555555555556,\"#d8576b\"],[0.6666666666666666,\"#ed7953\"],[0.7777777777777778,\"#fb9f3a\"],[0.8888888888888888,\"#fdca26\"],[1.0,\"#f0f921\"]]}],\"mesh3d\":[{\"type\":\"mesh3d\",\"colorbar\":{\"outlinewidth\":0,\"ticks\":\"\"}}],\"scatter\":[{\"fillpattern\":{\"fillmode\":\"overlay\",\"size\":10,\"solidity\":0.2},\"type\":\"scatter\"}],\"parcoords\":[{\"type\":\"parcoords\",\"line\":{\"colorbar\":{\"outlinewidth\":0,\"ticks\":\"\"}}}],\"scatterpolargl\":[{\"type\":\"scatterpolargl\",\"marker\":{\"colorbar\":{\"outlinewidth\":0,\"ticks\":\"\"}}}],\"bar\":[{\"error_x\":{\"color\":\"#2a3f5f\"},\"error_y\":{\"color\":\"#2a3f5f\"},\"marker\":{\"line\":{\"color\":\"#E5ECF6\",\"width\":0.5},\"pattern\":{\"fillmode\":\"overlay\",\"size\":10,\"solidity\":0.2}},\"type\":\"bar\"}],\"scattergeo\":[{\"type\":\"scattergeo\",\"marker\":{\"colorbar\":{\"outlinewidth\":0,\"ticks\":\"\"}}}],\"scatterpolar\":[{\"type\":\"scatterpolar\",\"marker\":{\"colorbar\":{\"outlinewidth\":0,\"ticks\":\"\"}}}],\"histogram\":[{\"marker\":{\"pattern\":{\"fillmode\":\"overlay\",\"size\":10,\"solidity\":0.2}},\"type\":\"histogram\"}],\"scattergl\":[{\"type\":\"scattergl\",\"marker\":{\"colorbar\":{\"outlinewidth\":0,\"ticks\":\"\"}}}],\"scatter3d\":[{\"type\":\"scatter3d\",\"line\":{\"colorbar\":{\"outlinewidth\":0,\"ticks\":\"\"}},\"marker\":{\"colorbar\":{\"outlinewidth\":0,\"ticks\":\"\"}}}],\"scattermapbox\":[{\"type\":\"scattermapbox\",\"marker\":{\"colorbar\":{\"outlinewidth\":0,\"ticks\":\"\"}}}],\"scatterternary\":[{\"type\":\"scatterternary\",\"marker\":{\"colorbar\":{\"outlinewidth\":0,\"ticks\":\"\"}}}],\"scattercarpet\":[{\"type\":\"scattercarpet\",\"marker\":{\"colorbar\":{\"outlinewidth\":0,\"ticks\":\"\"}}}],\"carpet\":[{\"aaxis\":{\"endlinecolor\":\"#2a3f5f\",\"gridcolor\":\"white\",\"linecolor\":\"white\",\"minorgridcolor\":\"white\",\"startlinecolor\":\"#2a3f5f\"},\"baxis\":{\"endlinecolor\":\"#2a3f5f\",\"gridcolor\":\"white\",\"linecolor\":\"white\",\"minorgridcolor\":\"white\",\"startlinecolor\":\"#2a3f5f\"},\"type\":\"carpet\"}],\"table\":[{\"cells\":{\"fill\":{\"color\":\"#EBF0F8\"},\"line\":{\"color\":\"white\"}},\"header\":{\"fill\":{\"color\":\"#C8D4E3\"},\"line\":{\"color\":\"white\"}},\"type\":\"table\"}],\"barpolar\":[{\"marker\":{\"line\":{\"color\":\"#E5ECF6\",\"width\":0.5},\"pattern\":{\"fillmode\":\"overlay\",\"size\":10,\"solidity\":0.2}},\"type\":\"barpolar\"}],\"pie\":[{\"automargin\":true,\"type\":\"pie\"}]},\"layout\":{\"autotypenumbers\":\"strict\",\"colorway\":[\"#636efa\",\"#EF553B\",\"#00cc96\",\"#ab63fa\",\"#FFA15A\",\"#19d3f3\",\"#FF6692\",\"#B6E880\",\"#FF97FF\",\"#FECB52\"],\"font\":{\"color\":\"#2a3f5f\"},\"hovermode\":\"closest\",\"hoverlabel\":{\"align\":\"left\"},\"paper_bgcolor\":\"white\",\"plot_bgcolor\":\"#E5ECF6\",\"polar\":{\"bgcolor\":\"#E5ECF6\",\"angularaxis\":{\"gridcolor\":\"white\",\"linecolor\":\"white\",\"ticks\":\"\"},\"radialaxis\":{\"gridcolor\":\"white\",\"linecolor\":\"white\",\"ticks\":\"\"}},\"ternary\":{\"bgcolor\":\"#E5ECF6\",\"aaxis\":{\"gridcolor\":\"white\",\"linecolor\":\"white\",\"ticks\":\"\"},\"baxis\":{\"gridcolor\":\"white\",\"linecolor\":\"white\",\"ticks\":\"\"},\"caxis\":{\"gridcolor\":\"white\",\"linecolor\":\"white\",\"ticks\":\"\"}},\"coloraxis\":{\"colorbar\":{\"outlinewidth\":0,\"ticks\":\"\"}},\"colorscale\":{\"sequential\":[[0.0,\"#0d0887\"],[0.1111111111111111,\"#46039f\"],[0.2222222222222222,\"#7201a8\"],[0.3333333333333333,\"#9c179e\"],[0.4444444444444444,\"#bd3786\"],[0.5555555555555556,\"#d8576b\"],[0.6666666666666666,\"#ed7953\"],[0.7777777777777778,\"#fb9f3a\"],[0.8888888888888888,\"#fdca26\"],[1.0,\"#f0f921\"]],\"sequentialminus\":[[0.0,\"#0d0887\"],[0.1111111111111111,\"#46039f\"],[0.2222222222222222,\"#7201a8\"],[0.3333333333333333,\"#9c179e\"],[0.4444444444444444,\"#bd3786\"],[0.5555555555555556,\"#d8576b\"],[0.6666666666666666,\"#ed7953\"],[0.7777777777777778,\"#fb9f3a\"],[0.8888888888888888,\"#fdca26\"],[1.0,\"#f0f921\"]],\"diverging\":[[0,\"#8e0152\"],[0.1,\"#c51b7d\"],[0.2,\"#de77ae\"],[0.3,\"#f1b6da\"],[0.4,\"#fde0ef\"],[0.5,\"#f7f7f7\"],[0.6,\"#e6f5d0\"],[0.7,\"#b8e186\"],[0.8,\"#7fbc41\"],[0.9,\"#4d9221\"],[1,\"#276419\"]]},\"xaxis\":{\"gridcolor\":\"white\",\"linecolor\":\"white\",\"ticks\":\"\",\"title\":{\"standoff\":15},\"zerolinecolor\":\"white\",\"automargin\":true,\"zerolinewidth\":2},\"yaxis\":{\"gridcolor\":\"white\",\"linecolor\":\"white\",\"ticks\":\"\",\"title\":{\"standoff\":15},\"zerolinecolor\":\"white\",\"automargin\":true,\"zerolinewidth\":2},\"scene\":{\"xaxis\":{\"backgroundcolor\":\"#E5ECF6\",\"gridcolor\":\"white\",\"linecolor\":\"white\",\"showbackground\":true,\"ticks\":\"\",\"zerolinecolor\":\"white\",\"gridwidth\":2},\"yaxis\":{\"backgroundcolor\":\"#E5ECF6\",\"gridcolor\":\"white\",\"linecolor\":\"white\",\"showbackground\":true,\"ticks\":\"\",\"zerolinecolor\":\"white\",\"gridwidth\":2},\"zaxis\":{\"backgroundcolor\":\"#E5ECF6\",\"gridcolor\":\"white\",\"linecolor\":\"white\",\"showbackground\":true,\"ticks\":\"\",\"zerolinecolor\":\"white\",\"gridwidth\":2}},\"shapedefaults\":{\"line\":{\"color\":\"#2a3f5f\"}},\"annotationdefaults\":{\"arrowcolor\":\"#2a3f5f\",\"arrowhead\":0,\"arrowwidth\":1},\"geo\":{\"bgcolor\":\"white\",\"landcolor\":\"#E5ECF6\",\"subunitcolor\":\"white\",\"showland\":true,\"showlakes\":true,\"lakecolor\":\"white\"},\"title\":{\"x\":0.05},\"mapbox\":{\"style\":\"light\"}}},\"xaxis\":{\"title\":{\"text\":\"Birth\"},\"side\":\"bottom\",\"type\":\"linear\",\"range\":[-6.846369942650199e-06,0.00034916486707516016],\"autorange\":false,\"ticks\":\"outside\",\"showline\":true,\"zeroline\":true,\"linewidth\":1,\"linecolor\":\"black\",\"mirror\":false,\"showexponent\":\"all\",\"exponentformat\":\"e\"},\"yaxis\":{\"title\":{\"text\":\"Death\"},\"side\":\"left\",\"type\":\"linear\",\"range\":[-6.846369942650199e-06,0.00034916486707516016],\"autorange\":false,\"scaleanchor\":\"x\",\"scaleratio\":1,\"ticks\":\"outside\",\"showline\":true,\"zeroline\":true,\"linewidth\":1,\"linecolor\":\"black\",\"mirror\":false,\"showexponent\":\"all\",\"exponentformat\":\"e\"},\"width\":500,\"height\":500,\"plot_bgcolor\":\"white\"},                        {\"responsive\": true}                    ).then(function(){\n",
       "                            \n",
       "var gd = document.getElementById('2ea6b6f4-6f40-4121-97b6-0ed218e44e5e');\n",
       "var x = new MutationObserver(function (mutations, observer) {{\n",
       "        var display = window.getComputedStyle(gd).display;\n",
       "        if (!display || display === 'none') {{\n",
       "            console.log([gd, 'removed!']);\n",
       "            Plotly.purge(gd);\n",
       "            observer.disconnect();\n",
       "        }}\n",
       "}});\n",
       "\n",
       "// Listen for the removal of the full notebook cells\n",
       "var notebookContainer = gd.closest('#notebook-container');\n",
       "if (notebookContainer) {{\n",
       "    x.observe(notebookContainer, {childList: true});\n",
       "}}\n",
       "\n",
       "// Listen for the clearing of the current output cell\n",
       "var outputEl = gd.closest('.output');\n",
       "if (outputEl) {{\n",
       "    x.observe(outputEl, {childList: true});\n",
       "}}\n",
       "\n",
       "                        })                };                });            </script>        </div>"
      ]
     },
     "metadata": {},
     "output_type": "display_data"
    }
   ],
   "source": [
    "# Finding the most representative diagram for label 1\n",
    "\n",
    "# Only use parts of the training data to speed things up\n",
    "random_diagrams_label_1 = random.sample(train_shortened_diagrams_label_1, 100)\n",
    "\n",
    "# Compute the pairwise Wasserstein distances\n",
    "pairwise_wasserstein_distances_label_1 = PairwiseDistance(metric=\"wasserstein\").fit_transform(random_diagrams_label_1)\n",
    "\n",
    "# For each hole, calculate the sum of distances to all other holes\n",
    "sum_distances = [sum(dist) for dist in pairwise_wasserstein_distances_label_1]\n",
    "\n",
    "# Find the index of the Wasserstein barycenter\n",
    "most_representative_index = np.argmin(sum_distances)\n",
    "\n",
    "# Unshortened Wasserstein Barycenter for label 1\n",
    "representative_diagram_label_1 = persistence.fit_transform_plot([train_embeddings_label_1[most_representative_index]])"
   ]
  },
  {
   "cell_type": "code",
   "execution_count": 179,
   "id": "92e69563-5572-4512-9f3d-2e98d7bd42cb",
   "metadata": {},
   "outputs": [
    {
     "data": {
      "application/vnd.plotly.v1+json": {
       "config": {
        "plotlyServerURL": "https://plot.ly"
       },
       "data": [
        {
         "hoverinfo": "none",
         "line": {
          "color": "black",
          "dash": "dash",
          "width": 1
         },
         "mode": "lines",
         "showlegend": false,
         "type": "scatter",
         "x": [
          -1.3409130042418838e-05,
          0.0006838656321633607
         ],
         "y": [
          -1.3409130042418838e-05,
          0.0006838656321633607
         ]
        },
        {
         "hoverinfo": "text",
         "hovertext": [
          "(0.0, 2.2218304366106167e-05)",
          "(0.0, 3.939267116948031e-05)",
          "(0.0, 4.567423457046971e-05)",
          "(0.0, 5.800911458209157e-05)",
          "(0.0, 6.501466123154387e-05)",
          "(0.0, 6.697205390082672e-05)",
          "(0.0, 6.737212970620021e-05)",
          "(0.0, 6.783191201975569e-05)",
          "(0.0, 6.798395770601928e-05)",
          "(0.0, 6.852211663499475e-05)",
          "(0.0, 6.946140638319775e-05)",
          "(0.0, 6.949937960598618e-05)",
          "(0.0, 7.254815136548132e-05)",
          "(0.0, 7.327379717025906e-05)",
          "(0.0, 7.418962923111394e-05)",
          "(0.0, 7.489344716304913e-05)",
          "(0.0, 7.556327182101086e-05)",
          "(0.0, 7.810215902281925e-05)",
          "(0.0, 7.86614982644096e-05)",
          "(0.0, 7.991964957909659e-05)",
          "(0.0, 8.006641292013228e-05)",
          "(0.0, 8.050494216149673e-05)",
          "(0.0, 8.070444891927764e-05)",
          "(0.0, 8.107181201921776e-05)",
          "(0.0, 8.227169746533036e-05)",
          "(0.0, 8.42093286337331e-05)",
          "(0.0, 8.450756286038086e-05)",
          "(0.0, 8.459322998533025e-05)",
          "(0.0, 8.705531945452094e-05)",
          "(0.0, 8.71204465511255e-05)",
          "(0.0, 8.739379700273275e-05)",
          "(0.0, 8.778863411862403e-05)",
          "(0.0, 8.874142804415897e-05)",
          "(0.0, 8.885608258424327e-05)",
          "(0.0, 8.88595895958133e-05)",
          "(0.0, 8.945381705416366e-05)",
          "(0.0, 8.983693260233849e-05)",
          "(0.0, 9.14378251763992e-05)",
          "(0.0, 9.176549792755395e-05)",
          "(0.0, 9.278074139729142e-05)",
          "(0.0, 9.315467468695715e-05)",
          "(0.0, 9.386908641317859e-05)",
          "(0.0, 9.403553121956065e-05)",
          "(0.0, 9.637629409553483e-05)",
          "(0.0, 9.71310946624726e-05)",
          "(0.0, 9.754909842740744e-05)",
          "(0.0, 9.826219320530072e-05)",
          "(0.0, 9.86441591521725e-05)",
          "(0.0, 9.986827353714034e-05)",
          "(0.0, 0.00010105133696924895)",
          "(0.0, 0.00010157521319342777)",
          "(0.0, 0.00010254362859996036)",
          "(0.0, 0.00010306748299626634)",
          "(0.0, 0.00010381625907029957)",
          "(0.0, 0.00010419651516713202)",
          "(0.0, 0.00010618603846523911)",
          "(0.0, 0.00010672425560187548)",
          "(0.0, 0.00010677952377591282)",
          "(0.0, 0.00010707918409025297)",
          "(0.0, 0.0001072590021067299)",
          "(0.0, 0.00010852782725123689)",
          "(0.0, 0.00011037287185899913)",
          "(0.0, 0.0001107815041905269)",
          "(0.0, 0.00011089078179793432)",
          "(0.0, 0.00011147503391839564)",
          "(0.0, 0.00011208128853468224)",
          "(0.0, 0.00011366375838406384)",
          "(0.0, 0.00011436151544330642)",
          "(0.0, 0.00011634068505372852)",
          "(0.0, 0.0001169685710920021)",
          "(0.0, 0.00011815680045401677)",
          "(0.0, 0.00011964842997258529)",
          "(0.0, 0.00012025146861560643)",
          "(0.0, 0.00012151065311627463)",
          "(0.0, 0.00012250628788024187)",
          "(0.0, 0.00012635979510378093)",
          "(0.0, 0.00012674706522375345)",
          "(0.0, 0.00012724968837574124)",
          "(0.0, 0.00012852287909481674)",
          "(0.0, 0.00013137664063833654)",
          "(0.0, 0.0001332861720584333)",
          "(0.0, 0.00013398179726209491)",
          "(0.0, 0.00013399907038547099)",
          "(0.0, 0.00013460703485179693)",
          "(0.0, 0.00013551596202887595)",
          "(0.0, 0.00013575599587056786)",
          "(0.0, 0.00013679146650247276)",
          "(0.0, 0.00013741439033765346)",
          "(0.0, 0.00014163306332193315)",
          "(0.0, 0.00014192079834174365)",
          "(0.0, 0.00014242577890399843)",
          "(0.0, 0.0001429814874427393)",
          "(0.0, 0.00014300413022283465)",
          "(0.0, 0.00014399149222299457)",
          "(0.0, 0.00014497112715616822)",
          "(0.0, 0.00014535649097524583)",
          "(0.0, 0.00014737345918547362)",
          "(0.0, 0.00014928312157280743)",
          "(0.0, 0.00014990990166552365)",
          "(0.0, 0.00015086898929439485)",
          "(0.0, 0.0001513478346168995)",
          "(0.0, 0.0001522944075986743)",
          "(0.0, 0.00015245299437083304)",
          "(0.0, 0.00015285887639038265)",
          "(0.0, 0.00015487019845750183)",
          "(0.0, 0.00015524227637797594)",
          "(0.0, 0.00015538425941485912)",
          "(0.0, 0.00015583554340992123)",
          "(0.0, 0.0001564336271258071)",
          "(0.0, 0.0001608604216016829)",
          "(0.0, 0.00016106975090224296)",
          "(0.0, 0.00016209983732551336)",
          "(0.0, 0.0001621608535060659)",
          "(0.0, 0.00016310010687448084)",
          "(0.0, 0.00016327266348525882)",
          "(0.0, 0.00016392678662668914)",
          "(0.0, 0.0001665894378675148)",
          "(0.0, 0.00016834167763590813)",
          "(0.0, 0.00016878794122021645)",
          "(0.0, 0.00017029639275278896)",
          "(0.0, 0.00017327393288724124)",
          "(0.0, 0.00017390251741744578)",
          "(0.0, 0.00017710130487103015)",
          "(0.0, 0.00017718334856908768)",
          "(0.0, 0.0001782603212632239)",
          "(0.0, 0.00017963715072255582)",
          "(0.0, 0.0001805699139367789)",
          "(0.0, 0.00018089536752086133)",
          "(0.0, 0.00018121731409337372)",
          "(0.0, 0.00018165749497711658)",
          "(0.0, 0.0001846214581746608)",
          "(0.0, 0.0001847993553383276)",
          "(0.0, 0.00018613696738611907)",
          "(0.0, 0.00018683607049752027)",
          "(0.0, 0.00018721802916843444)",
          "(0.0, 0.0001880695199361071)",
          "(0.0, 0.00018851589993573725)",
          "(0.0, 0.00019506647367961705)",
          "(0.0, 0.00019507882825564593)",
          "(0.0, 0.00019695366790983826)",
          "(0.0, 0.00019700962002389133)",
          "(0.0, 0.0001977440988412127)",
          "(0.0, 0.00019966665422543883)",
          "(0.0, 0.00020005508849862963)",
          "(0.0, 0.00020853040041401982)",
          "(0.0, 0.0002124044840456918)",
          "(0.0, 0.0002157782146241516)",
          "(0.0, 0.00022107221593614668)",
          "(0.0, 0.00022288116451818496)",
          "(0.0, 0.0002251120313303545)",
          "(0.0, 0.00022705372248310596)",
          "(0.0, 0.00023043935652822256)",
          "(0.0, 0.00023063177650328726)",
          "(0.0, 0.00023172648798208684)",
          "(0.0, 0.0002318273182027042)",
          "(0.0, 0.0002331066207261756)",
          "(0.0, 0.0002342548395972699)",
          "(0.0, 0.00024241568462457508)",
          "(0.0, 0.00024299272627104074)",
          "(0.0, 0.00024316785857081413)",
          "(0.0, 0.0002511118073016405)",
          "(0.0, 0.0002525143790990114)",
          "(0.0, 0.00026182594592683017)",
          "(0.0, 0.0002638846926856786)",
          "(0.0, 0.000272315985057503)",
          "(0.0, 0.0002878009981941432)",
          "(0.0, 0.00029341765912249684)",
          "(0.0, 0.00029390249983407557)",
          "(0.0, 0.00033970523509196937)",
          "(0.0, 0.0003438960702624172)",
          "(0.0, 0.0003480649902485311)",
          "(0.0, 0.00034904401400126517)",
          "(0.0, 0.0003604309749789536)",
          "(0.0, 0.00036794619518332183)",
          "(0.0, 0.00036870845360681415)",
          "(0.0, 0.0003719812666531652)",
          "(0.0, 0.00038608285831287503)",
          "(0.0, 0.0003922727482859045)",
          "(0.0, 0.00040588757838122547)",
          "(0.0, 0.0004125300911255181)",
          "(0.0, 0.0004209108301438391)",
          "(0.0, 0.00044278474524617195)",
          "(0.0, 0.0004479337076190859)",
          "(0.0, 0.00047076825285330415)",
          "(0.0, 0.0004767775535583496)",
          "(0.0, 0.000480390852317214)",
          "(0.0, 0.0005218397709541023)",
          "(0.0, 0.0006013474776409566)",
          "(0.0, 0.0006704565021209419)"
         ],
         "mode": "markers",
         "name": "H0",
         "type": "scatter",
         "x": [
          0,
          0,
          0,
          0,
          0,
          0,
          0,
          0,
          0,
          0,
          0,
          0,
          0,
          0,
          0,
          0,
          0,
          0,
          0,
          0,
          0,
          0,
          0,
          0,
          0,
          0,
          0,
          0,
          0,
          0,
          0,
          0,
          0,
          0,
          0,
          0,
          0,
          0,
          0,
          0,
          0,
          0,
          0,
          0,
          0,
          0,
          0,
          0,
          0,
          0,
          0,
          0,
          0,
          0,
          0,
          0,
          0,
          0,
          0,
          0,
          0,
          0,
          0,
          0,
          0,
          0,
          0,
          0,
          0,
          0,
          0,
          0,
          0,
          0,
          0,
          0,
          0,
          0,
          0,
          0,
          0,
          0,
          0,
          0,
          0,
          0,
          0,
          0,
          0,
          0,
          0,
          0,
          0,
          0,
          0,
          0,
          0,
          0,
          0,
          0,
          0,
          0,
          0,
          0,
          0,
          0,
          0,
          0,
          0,
          0,
          0,
          0,
          0,
          0,
          0,
          0,
          0,
          0,
          0,
          0,
          0,
          0,
          0,
          0,
          0,
          0,
          0,
          0,
          0,
          0,
          0,
          0,
          0,
          0,
          0,
          0,
          0,
          0,
          0,
          0,
          0,
          0,
          0,
          0,
          0,
          0,
          0,
          0,
          0,
          0,
          0,
          0,
          0,
          0,
          0,
          0,
          0,
          0,
          0,
          0,
          0,
          0,
          0,
          0,
          0,
          0,
          0,
          0,
          0,
          0,
          0,
          0,
          0,
          0,
          0,
          0,
          0,
          0,
          0,
          0,
          0,
          0,
          0,
          0,
          0,
          0,
          0,
          0,
          0
         ],
         "y": [
          2.2218304366106167e-05,
          3.939267116948031e-05,
          4.567423457046971e-05,
          5.800911458209157e-05,
          6.501466123154387e-05,
          6.697205390082672e-05,
          6.737212970620021e-05,
          6.783191201975569e-05,
          6.798395770601928e-05,
          6.852211663499475e-05,
          6.946140638319775e-05,
          6.949937960598618e-05,
          7.254815136548132e-05,
          7.327379717025906e-05,
          7.418962923111394e-05,
          7.489344716304913e-05,
          7.556327182101086e-05,
          7.810215902281925e-05,
          7.86614982644096e-05,
          7.991964957909659e-05,
          8.006641292013228e-05,
          8.050494216149673e-05,
          8.070444891927764e-05,
          8.107181201921776e-05,
          8.227169746533036e-05,
          8.42093286337331e-05,
          8.450756286038086e-05,
          8.459322998533025e-05,
          8.705531945452094e-05,
          8.71204465511255e-05,
          8.739379700273275e-05,
          8.778863411862403e-05,
          8.874142804415897e-05,
          8.885608258424327e-05,
          8.88595895958133e-05,
          8.945381705416366e-05,
          8.983693260233849e-05,
          9.14378251763992e-05,
          9.176549792755395e-05,
          9.278074139729142e-05,
          9.315467468695715e-05,
          9.386908641317859e-05,
          9.403553121956065e-05,
          9.637629409553483e-05,
          9.71310946624726e-05,
          9.754909842740744e-05,
          9.826219320530072e-05,
          9.86441591521725e-05,
          9.986827353714034e-05,
          0.00010105133696924895,
          0.00010157521319342777,
          0.00010254362859996036,
          0.00010306748299626634,
          0.00010381625907029957,
          0.00010419651516713202,
          0.00010618603846523911,
          0.00010672425560187548,
          0.00010677952377591282,
          0.00010707918409025297,
          0.0001072590021067299,
          0.00010852782725123689,
          0.00011037287185899913,
          0.0001107815041905269,
          0.00011089078179793432,
          0.00011147503391839564,
          0.00011208128853468224,
          0.00011366375838406384,
          0.00011436151544330642,
          0.00011634068505372852,
          0.0001169685710920021,
          0.00011815680045401677,
          0.00011964842997258529,
          0.00012025146861560643,
          0.00012151065311627463,
          0.00012250628788024187,
          0.00012635979510378093,
          0.00012674706522375345,
          0.00012724968837574124,
          0.00012852287909481674,
          0.00013137664063833654,
          0.0001332861720584333,
          0.00013398179726209491,
          0.00013399907038547099,
          0.00013460703485179693,
          0.00013551596202887595,
          0.00013575599587056786,
          0.00013679146650247276,
          0.00013741439033765346,
          0.00014163306332193315,
          0.00014192079834174365,
          0.00014242577890399843,
          0.0001429814874427393,
          0.00014300413022283465,
          0.00014399149222299457,
          0.00014497112715616822,
          0.00014535649097524583,
          0.00014737345918547362,
          0.00014928312157280743,
          0.00014990990166552365,
          0.00015086898929439485,
          0.0001513478346168995,
          0.0001522944075986743,
          0.00015245299437083304,
          0.00015285887639038265,
          0.00015487019845750183,
          0.00015524227637797594,
          0.00015538425941485912,
          0.00015583554340992123,
          0.0001564336271258071,
          0.0001608604216016829,
          0.00016106975090224296,
          0.00016209983732551336,
          0.0001621608535060659,
          0.00016310010687448084,
          0.00016327266348525882,
          0.00016392678662668914,
          0.0001665894378675148,
          0.00016834167763590813,
          0.00016878794122021645,
          0.00017029639275278896,
          0.00017327393288724124,
          0.00017390251741744578,
          0.00017710130487103015,
          0.00017718334856908768,
          0.0001782603212632239,
          0.00017963715072255582,
          0.0001805699139367789,
          0.00018089536752086133,
          0.00018121731409337372,
          0.00018165749497711658,
          0.0001846214581746608,
          0.0001847993553383276,
          0.00018613696738611907,
          0.00018683607049752027,
          0.00018721802916843444,
          0.0001880695199361071,
          0.00018851589993573725,
          0.00019506647367961705,
          0.00019507882825564593,
          0.00019695366790983826,
          0.00019700962002389133,
          0.0001977440988412127,
          0.00019966665422543883,
          0.00020005508849862963,
          0.00020853040041401982,
          0.0002124044840456918,
          0.0002157782146241516,
          0.00022107221593614668,
          0.00022288116451818496,
          0.0002251120313303545,
          0.00022705372248310596,
          0.00023043935652822256,
          0.00023063177650328726,
          0.00023172648798208684,
          0.0002318273182027042,
          0.0002331066207261756,
          0.0002342548395972699,
          0.00024241568462457508,
          0.00024299272627104074,
          0.00024316785857081413,
          0.0002511118073016405,
          0.0002525143790990114,
          0.00026182594592683017,
          0.0002638846926856786,
          0.000272315985057503,
          0.0002878009981941432,
          0.00029341765912249684,
          0.00029390249983407557,
          0.00033970523509196937,
          0.0003438960702624172,
          0.0003480649902485311,
          0.00034904401400126517,
          0.0003604309749789536,
          0.00036794619518332183,
          0.00036870845360681415,
          0.0003719812666531652,
          0.00038608285831287503,
          0.0003922727482859045,
          0.00040588757838122547,
          0.0004125300911255181,
          0.0004209108301438391,
          0.00044278474524617195,
          0.0004479337076190859,
          0.00047076825285330415,
          0.0004767775535583496,
          0.000480390852317214,
          0.0005218397709541023,
          0.0006013474776409566,
          0.0006704565021209419
         ]
        },
        {
         "hoverinfo": "text",
         "hovertext": [
          "(0.0005910650361329317, 0.0005993858212605119)",
          "(0.0005594556569121778, 0.0006263880641199648)",
          "(0.000492107355967164, 0.0004929315182380378)",
          "(0.0004864571674261242, 0.0005294798174872994)",
          "(0.00048379742656834424, 0.0005215091514401138)",
          "(0.00047024321975186467, 0.00047662705765105784)",
          "(0.000462898489786312, 0.0004651145136449486)",
          "(0.00043114362051710486, 0.000456560286693275)",
          "(0.000418406241806224, 0.00044251407962292433)",
          "(0.00035105185816064477, 0.00042521211435087025)",
          "(0.0003509002272039652, 0.0003697094216477126)",
          "(0.00030094326939433813, 0.00030494332895614207)",
          "(0.0003008581406902522, 0.0003488141519483179)",
          "(0.0002858072693925351, 0.0003179525083396584)",
          "(0.0002840768429450691, 0.00030450717895291746)",
          "(0.00028356901020742953, 0.0003418358974158764)",
          "(0.00028242814005352557, 0.0002876689250115305)",
          "(0.00026826438261196017, 0.0003324377757962793)",
          "(0.0002640305319800973, 0.0003327859740238637)",
          "(0.0002527595206629485, 0.00025604647817090154)",
          "(0.0002505991142243147, 0.0002557824773248285)",
          "(0.0002492107742000371, 0.0002563980524428189)",
          "(0.00024814787320792675, 0.00031335142557509243)",
          "(0.00023888819850981236, 0.00024758907966315746)",
          "(0.00023885475820861757, 0.00025836093118414283)",
          "(0.00022151872690301389, 0.00022483512293547392)",
          "(0.00022012830595485866, 0.0002545001625549048)",
          "(0.00021659783669747412, 0.00022184703266248107)",
          "(0.00021161005133762956, 0.0002236092259408906)",
          "(0.00020821912039536983, 0.00024419729015789926)",
          "(0.00020594167290255427, 0.00021330166782718152)",
          "(0.00020445902191568166, 0.000208722660318017)",
          "(0.0002023353154072538, 0.00021417207608465105)",
          "(0.0002007864968618378, 0.00021797137742396444)",
          "(0.00020008704450447112, 0.00022102560615167022)",
          "(0.00019459365285001695, 0.00023168699408415705)",
          "(0.000191525075933896, 0.00019533450540620834)",
          "(0.00019132297893520445, 0.0002035703946603462)",
          "(0.0001881317439256236, 0.0001959312940016389)",
          "(0.00018580294272396713, 0.00022388287470676005)",
          "(0.0001751659729052335, 0.00018687099509406835)",
          "(0.0001743748434819281, 0.00021511268278118223)",
          "(0.0001737561251502484, 0.00017488210869487375)",
          "(0.00017000341904349625, 0.00018759261001832783)",
          "(0.00016737882106099278, 0.00018124173220712692)",
          "(0.00016424045315943658, 0.00017968441534321755)",
          "(0.00016254509682767093, 0.0001688380871200934)",
          "(0.00015779312525410205, 0.00016534414316993207)",
          "(0.00015725956473033875, 0.00015862991858739406)",
          "(0.00015551463002339005, 0.00016239688557107002)",
          "(0.0001520972728030756, 0.00015453642117790878)",
          "(0.00014850519073661417, 0.00014923885464668274)",
          "(0.00014269344683270901, 0.00018613129213918)",
          "(0.00014229488442651927, 0.00014923885464668274)",
          "(0.00014085936709307134, 0.00014290020044427365)",
          "(0.0001386408694088459, 0.00015921297017484903)",
          "(0.0001386130170430988, 0.00016573068569414318)",
          "(0.00013568150461651385, 0.00015212848666124046)",
          "(0.00012971149408258498, 0.00014680014282930642)",
          "(0.00012792152119800448, 0.00013231119373813272)",
          "(0.00012758641969412565, 0.00014018033107277006)",
          "(0.00012723318650387228, 0.00013682556163985282)",
          "(0.00012563675409182906, 0.0001353798870695755)",
          "(0.00012486151535995305, 0.0001307333877775818)",
          "(0.00012108782539144158, 0.00013749640493188053)",
          "(0.00012017495464533567, 0.00014290020044427365)",
          "(0.00011456245556473732, 0.00014413948520086706)",
          "(0.00011353127047186717, 0.00013332224625628442)",
          "(0.00011131226347060874, 0.00012529382365755737)",
          "(0.00011052227637264878, 0.00013438716996461153)",
          "(0.00010183284030063078, 0.00012162576604168862)",
          "(0.00010128757276106626, 0.00012162576604168862)",
          "(0.00010003228089772165, 0.00012245116522535682)",
          "(9.882488666335121e-05, 0.00010618005035212263)",
          "(9.75024959188886e-05, 0.0001189310714835301)",
          "(9.498574945610017e-05, 0.00013524047972168773)",
          "(9.260336810257286e-05, 9.895100083667785e-05)"
         ],
         "mode": "markers",
         "name": "H1",
         "type": "scatter",
         "x": [
          0.0005910650361329317,
          0.0005594556569121778,
          0.000492107355967164,
          0.0004864571674261242,
          0.00048379742656834424,
          0.00047024321975186467,
          0.000462898489786312,
          0.00043114362051710486,
          0.000418406241806224,
          0.00035105185816064477,
          0.0003509002272039652,
          0.00030094326939433813,
          0.0003008581406902522,
          0.0002858072693925351,
          0.0002840768429450691,
          0.00028356901020742953,
          0.00028242814005352557,
          0.00026826438261196017,
          0.0002640305319800973,
          0.0002527595206629485,
          0.0002505991142243147,
          0.0002492107742000371,
          0.00024814787320792675,
          0.00023888819850981236,
          0.00023885475820861757,
          0.00022151872690301389,
          0.00022012830595485866,
          0.00021659783669747412,
          0.00021161005133762956,
          0.00020821912039536983,
          0.00020594167290255427,
          0.00020445902191568166,
          0.0002023353154072538,
          0.0002007864968618378,
          0.00020008704450447112,
          0.00019459365285001695,
          0.000191525075933896,
          0.00019132297893520445,
          0.0001881317439256236,
          0.00018580294272396713,
          0.0001751659729052335,
          0.0001743748434819281,
          0.0001737561251502484,
          0.00017000341904349625,
          0.00016737882106099278,
          0.00016424045315943658,
          0.00016254509682767093,
          0.00015779312525410205,
          0.00015725956473033875,
          0.00015551463002339005,
          0.0001520972728030756,
          0.00014850519073661417,
          0.00014269344683270901,
          0.00014229488442651927,
          0.00014085936709307134,
          0.0001386408694088459,
          0.0001386130170430988,
          0.00013568150461651385,
          0.00012971149408258498,
          0.00012792152119800448,
          0.00012758641969412565,
          0.00012723318650387228,
          0.00012563675409182906,
          0.00012486151535995305,
          0.00012108782539144158,
          0.00012017495464533567,
          0.00011456245556473732,
          0.00011353127047186717,
          0.00011131226347060874,
          0.00011052227637264878,
          0.00010183284030063078,
          0.00010128757276106626,
          0.00010003228089772165,
          9.882488666335121e-05,
          9.75024959188886e-05,
          9.498574945610017e-05,
          9.260336810257286e-05
         ],
         "y": [
          0.0005993858212605119,
          0.0006263880641199648,
          0.0004929315182380378,
          0.0005294798174872994,
          0.0005215091514401138,
          0.00047662705765105784,
          0.0004651145136449486,
          0.000456560286693275,
          0.00044251407962292433,
          0.00042521211435087025,
          0.0003697094216477126,
          0.00030494332895614207,
          0.0003488141519483179,
          0.0003179525083396584,
          0.00030450717895291746,
          0.0003418358974158764,
          0.0002876689250115305,
          0.0003324377757962793,
          0.0003327859740238637,
          0.00025604647817090154,
          0.0002557824773248285,
          0.0002563980524428189,
          0.00031335142557509243,
          0.00024758907966315746,
          0.00025836093118414283,
          0.00022483512293547392,
          0.0002545001625549048,
          0.00022184703266248107,
          0.0002236092259408906,
          0.00024419729015789926,
          0.00021330166782718152,
          0.000208722660318017,
          0.00021417207608465105,
          0.00021797137742396444,
          0.00022102560615167022,
          0.00023168699408415705,
          0.00019533450540620834,
          0.0002035703946603462,
          0.0001959312940016389,
          0.00022388287470676005,
          0.00018687099509406835,
          0.00021511268278118223,
          0.00017488210869487375,
          0.00018759261001832783,
          0.00018124173220712692,
          0.00017968441534321755,
          0.0001688380871200934,
          0.00016534414316993207,
          0.00015862991858739406,
          0.00016239688557107002,
          0.00015453642117790878,
          0.00014923885464668274,
          0.00018613129213918,
          0.00014923885464668274,
          0.00014290020044427365,
          0.00015921297017484903,
          0.00016573068569414318,
          0.00015212848666124046,
          0.00014680014282930642,
          0.00013231119373813272,
          0.00014018033107277006,
          0.00013682556163985282,
          0.0001353798870695755,
          0.0001307333877775818,
          0.00013749640493188053,
          0.00014290020044427365,
          0.00014413948520086706,
          0.00013332224625628442,
          0.00012529382365755737,
          0.00013438716996461153,
          0.00012162576604168862,
          0.00012162576604168862,
          0.00012245116522535682,
          0.00010618005035212263,
          0.0001189310714835301,
          0.00013524047972168773,
          9.895100083667785e-05
         ]
        },
        {
         "hoverinfo": "text",
         "hovertext": [
          "(0.0005102262366563082, 0.0005205097259022295)",
          "(0.0003312370681669563, 0.00033201431506313384)",
          "(0.00031061118352226913, 0.00033240418997593224)",
          "(0.000280488224234432, 0.0002891340700443834)",
          "(0.0002601495070848614, 0.0002647243672981858)",
          "(0.0002437673247186467, 0.0002459215756971389)",
          "(0.00023094582138583064, 0.0002412635658401996)",
          "(0.0001869430998340249, 0.0001891961437650025)",
          "(0.00015448845806531608, 0.00015611817070748657)",
          "(0.00015174839063547552, 0.00015999707102309912)",
          "(0.00013749640493188053, 0.0001431632845196873)"
         ],
         "mode": "markers",
         "name": "H2",
         "type": "scatter",
         "x": [
          0.0005102262366563082,
          0.0003312370681669563,
          0.00031061118352226913,
          0.000280488224234432,
          0.0002601495070848614,
          0.0002437673247186467,
          0.00023094582138583064,
          0.0001869430998340249,
          0.00015448845806531608,
          0.00015174839063547552,
          0.00013749640493188053
         ],
         "y": [
          0.0005205097259022295,
          0.00033201431506313384,
          0.00033240418997593224,
          0.0002891340700443834,
          0.0002647243672981858,
          0.0002459215756971389,
          0.0002412635658401996,
          0.0001891961437650025,
          0.00015611817070748657,
          0.00015999707102309912,
          0.0001431632845196873
         ]
        }
       ],
       "layout": {
        "height": 500,
        "plot_bgcolor": "white",
        "template": {
         "data": {
          "bar": [
           {
            "error_x": {
             "color": "#2a3f5f"
            },
            "error_y": {
             "color": "#2a3f5f"
            },
            "marker": {
             "line": {
              "color": "#E5ECF6",
              "width": 0.5
             },
             "pattern": {
              "fillmode": "overlay",
              "size": 10,
              "solidity": 0.2
             }
            },
            "type": "bar"
           }
          ],
          "barpolar": [
           {
            "marker": {
             "line": {
              "color": "#E5ECF6",
              "width": 0.5
             },
             "pattern": {
              "fillmode": "overlay",
              "size": 10,
              "solidity": 0.2
             }
            },
            "type": "barpolar"
           }
          ],
          "carpet": [
           {
            "aaxis": {
             "endlinecolor": "#2a3f5f",
             "gridcolor": "white",
             "linecolor": "white",
             "minorgridcolor": "white",
             "startlinecolor": "#2a3f5f"
            },
            "baxis": {
             "endlinecolor": "#2a3f5f",
             "gridcolor": "white",
             "linecolor": "white",
             "minorgridcolor": "white",
             "startlinecolor": "#2a3f5f"
            },
            "type": "carpet"
           }
          ],
          "choropleth": [
           {
            "colorbar": {
             "outlinewidth": 0,
             "ticks": ""
            },
            "type": "choropleth"
           }
          ],
          "contour": [
           {
            "colorbar": {
             "outlinewidth": 0,
             "ticks": ""
            },
            "colorscale": [
             [
              0,
              "#0d0887"
             ],
             [
              0.1111111111111111,
              "#46039f"
             ],
             [
              0.2222222222222222,
              "#7201a8"
             ],
             [
              0.3333333333333333,
              "#9c179e"
             ],
             [
              0.4444444444444444,
              "#bd3786"
             ],
             [
              0.5555555555555556,
              "#d8576b"
             ],
             [
              0.6666666666666666,
              "#ed7953"
             ],
             [
              0.7777777777777778,
              "#fb9f3a"
             ],
             [
              0.8888888888888888,
              "#fdca26"
             ],
             [
              1,
              "#f0f921"
             ]
            ],
            "type": "contour"
           }
          ],
          "contourcarpet": [
           {
            "colorbar": {
             "outlinewidth": 0,
             "ticks": ""
            },
            "type": "contourcarpet"
           }
          ],
          "heatmap": [
           {
            "colorbar": {
             "outlinewidth": 0,
             "ticks": ""
            },
            "colorscale": [
             [
              0,
              "#0d0887"
             ],
             [
              0.1111111111111111,
              "#46039f"
             ],
             [
              0.2222222222222222,
              "#7201a8"
             ],
             [
              0.3333333333333333,
              "#9c179e"
             ],
             [
              0.4444444444444444,
              "#bd3786"
             ],
             [
              0.5555555555555556,
              "#d8576b"
             ],
             [
              0.6666666666666666,
              "#ed7953"
             ],
             [
              0.7777777777777778,
              "#fb9f3a"
             ],
             [
              0.8888888888888888,
              "#fdca26"
             ],
             [
              1,
              "#f0f921"
             ]
            ],
            "type": "heatmap"
           }
          ],
          "heatmapgl": [
           {
            "colorbar": {
             "outlinewidth": 0,
             "ticks": ""
            },
            "colorscale": [
             [
              0,
              "#0d0887"
             ],
             [
              0.1111111111111111,
              "#46039f"
             ],
             [
              0.2222222222222222,
              "#7201a8"
             ],
             [
              0.3333333333333333,
              "#9c179e"
             ],
             [
              0.4444444444444444,
              "#bd3786"
             ],
             [
              0.5555555555555556,
              "#d8576b"
             ],
             [
              0.6666666666666666,
              "#ed7953"
             ],
             [
              0.7777777777777778,
              "#fb9f3a"
             ],
             [
              0.8888888888888888,
              "#fdca26"
             ],
             [
              1,
              "#f0f921"
             ]
            ],
            "type": "heatmapgl"
           }
          ],
          "histogram": [
           {
            "marker": {
             "pattern": {
              "fillmode": "overlay",
              "size": 10,
              "solidity": 0.2
             }
            },
            "type": "histogram"
           }
          ],
          "histogram2d": [
           {
            "colorbar": {
             "outlinewidth": 0,
             "ticks": ""
            },
            "colorscale": [
             [
              0,
              "#0d0887"
             ],
             [
              0.1111111111111111,
              "#46039f"
             ],
             [
              0.2222222222222222,
              "#7201a8"
             ],
             [
              0.3333333333333333,
              "#9c179e"
             ],
             [
              0.4444444444444444,
              "#bd3786"
             ],
             [
              0.5555555555555556,
              "#d8576b"
             ],
             [
              0.6666666666666666,
              "#ed7953"
             ],
             [
              0.7777777777777778,
              "#fb9f3a"
             ],
             [
              0.8888888888888888,
              "#fdca26"
             ],
             [
              1,
              "#f0f921"
             ]
            ],
            "type": "histogram2d"
           }
          ],
          "histogram2dcontour": [
           {
            "colorbar": {
             "outlinewidth": 0,
             "ticks": ""
            },
            "colorscale": [
             [
              0,
              "#0d0887"
             ],
             [
              0.1111111111111111,
              "#46039f"
             ],
             [
              0.2222222222222222,
              "#7201a8"
             ],
             [
              0.3333333333333333,
              "#9c179e"
             ],
             [
              0.4444444444444444,
              "#bd3786"
             ],
             [
              0.5555555555555556,
              "#d8576b"
             ],
             [
              0.6666666666666666,
              "#ed7953"
             ],
             [
              0.7777777777777778,
              "#fb9f3a"
             ],
             [
              0.8888888888888888,
              "#fdca26"
             ],
             [
              1,
              "#f0f921"
             ]
            ],
            "type": "histogram2dcontour"
           }
          ],
          "mesh3d": [
           {
            "colorbar": {
             "outlinewidth": 0,
             "ticks": ""
            },
            "type": "mesh3d"
           }
          ],
          "parcoords": [
           {
            "line": {
             "colorbar": {
              "outlinewidth": 0,
              "ticks": ""
             }
            },
            "type": "parcoords"
           }
          ],
          "pie": [
           {
            "automargin": true,
            "type": "pie"
           }
          ],
          "scatter": [
           {
            "fillpattern": {
             "fillmode": "overlay",
             "size": 10,
             "solidity": 0.2
            },
            "type": "scatter"
           }
          ],
          "scatter3d": [
           {
            "line": {
             "colorbar": {
              "outlinewidth": 0,
              "ticks": ""
             }
            },
            "marker": {
             "colorbar": {
              "outlinewidth": 0,
              "ticks": ""
             }
            },
            "type": "scatter3d"
           }
          ],
          "scattercarpet": [
           {
            "marker": {
             "colorbar": {
              "outlinewidth": 0,
              "ticks": ""
             }
            },
            "type": "scattercarpet"
           }
          ],
          "scattergeo": [
           {
            "marker": {
             "colorbar": {
              "outlinewidth": 0,
              "ticks": ""
             }
            },
            "type": "scattergeo"
           }
          ],
          "scattergl": [
           {
            "marker": {
             "colorbar": {
              "outlinewidth": 0,
              "ticks": ""
             }
            },
            "type": "scattergl"
           }
          ],
          "scattermapbox": [
           {
            "marker": {
             "colorbar": {
              "outlinewidth": 0,
              "ticks": ""
             }
            },
            "type": "scattermapbox"
           }
          ],
          "scatterpolar": [
           {
            "marker": {
             "colorbar": {
              "outlinewidth": 0,
              "ticks": ""
             }
            },
            "type": "scatterpolar"
           }
          ],
          "scatterpolargl": [
           {
            "marker": {
             "colorbar": {
              "outlinewidth": 0,
              "ticks": ""
             }
            },
            "type": "scatterpolargl"
           }
          ],
          "scatterternary": [
           {
            "marker": {
             "colorbar": {
              "outlinewidth": 0,
              "ticks": ""
             }
            },
            "type": "scatterternary"
           }
          ],
          "surface": [
           {
            "colorbar": {
             "outlinewidth": 0,
             "ticks": ""
            },
            "colorscale": [
             [
              0,
              "#0d0887"
             ],
             [
              0.1111111111111111,
              "#46039f"
             ],
             [
              0.2222222222222222,
              "#7201a8"
             ],
             [
              0.3333333333333333,
              "#9c179e"
             ],
             [
              0.4444444444444444,
              "#bd3786"
             ],
             [
              0.5555555555555556,
              "#d8576b"
             ],
             [
              0.6666666666666666,
              "#ed7953"
             ],
             [
              0.7777777777777778,
              "#fb9f3a"
             ],
             [
              0.8888888888888888,
              "#fdca26"
             ],
             [
              1,
              "#f0f921"
             ]
            ],
            "type": "surface"
           }
          ],
          "table": [
           {
            "cells": {
             "fill": {
              "color": "#EBF0F8"
             },
             "line": {
              "color": "white"
             }
            },
            "header": {
             "fill": {
              "color": "#C8D4E3"
             },
             "line": {
              "color": "white"
             }
            },
            "type": "table"
           }
          ]
         },
         "layout": {
          "annotationdefaults": {
           "arrowcolor": "#2a3f5f",
           "arrowhead": 0,
           "arrowwidth": 1
          },
          "autotypenumbers": "strict",
          "coloraxis": {
           "colorbar": {
            "outlinewidth": 0,
            "ticks": ""
           }
          },
          "colorscale": {
           "diverging": [
            [
             0,
             "#8e0152"
            ],
            [
             0.1,
             "#c51b7d"
            ],
            [
             0.2,
             "#de77ae"
            ],
            [
             0.3,
             "#f1b6da"
            ],
            [
             0.4,
             "#fde0ef"
            ],
            [
             0.5,
             "#f7f7f7"
            ],
            [
             0.6,
             "#e6f5d0"
            ],
            [
             0.7,
             "#b8e186"
            ],
            [
             0.8,
             "#7fbc41"
            ],
            [
             0.9,
             "#4d9221"
            ],
            [
             1,
             "#276419"
            ]
           ],
           "sequential": [
            [
             0,
             "#0d0887"
            ],
            [
             0.1111111111111111,
             "#46039f"
            ],
            [
             0.2222222222222222,
             "#7201a8"
            ],
            [
             0.3333333333333333,
             "#9c179e"
            ],
            [
             0.4444444444444444,
             "#bd3786"
            ],
            [
             0.5555555555555556,
             "#d8576b"
            ],
            [
             0.6666666666666666,
             "#ed7953"
            ],
            [
             0.7777777777777778,
             "#fb9f3a"
            ],
            [
             0.8888888888888888,
             "#fdca26"
            ],
            [
             1,
             "#f0f921"
            ]
           ],
           "sequentialminus": [
            [
             0,
             "#0d0887"
            ],
            [
             0.1111111111111111,
             "#46039f"
            ],
            [
             0.2222222222222222,
             "#7201a8"
            ],
            [
             0.3333333333333333,
             "#9c179e"
            ],
            [
             0.4444444444444444,
             "#bd3786"
            ],
            [
             0.5555555555555556,
             "#d8576b"
            ],
            [
             0.6666666666666666,
             "#ed7953"
            ],
            [
             0.7777777777777778,
             "#fb9f3a"
            ],
            [
             0.8888888888888888,
             "#fdca26"
            ],
            [
             1,
             "#f0f921"
            ]
           ]
          },
          "colorway": [
           "#636efa",
           "#EF553B",
           "#00cc96",
           "#ab63fa",
           "#FFA15A",
           "#19d3f3",
           "#FF6692",
           "#B6E880",
           "#FF97FF",
           "#FECB52"
          ],
          "font": {
           "color": "#2a3f5f"
          },
          "geo": {
           "bgcolor": "white",
           "lakecolor": "white",
           "landcolor": "#E5ECF6",
           "showlakes": true,
           "showland": true,
           "subunitcolor": "white"
          },
          "hoverlabel": {
           "align": "left"
          },
          "hovermode": "closest",
          "mapbox": {
           "style": "light"
          },
          "paper_bgcolor": "white",
          "plot_bgcolor": "#E5ECF6",
          "polar": {
           "angularaxis": {
            "gridcolor": "white",
            "linecolor": "white",
            "ticks": ""
           },
           "bgcolor": "#E5ECF6",
           "radialaxis": {
            "gridcolor": "white",
            "linecolor": "white",
            "ticks": ""
           }
          },
          "scene": {
           "xaxis": {
            "backgroundcolor": "#E5ECF6",
            "gridcolor": "white",
            "gridwidth": 2,
            "linecolor": "white",
            "showbackground": true,
            "ticks": "",
            "zerolinecolor": "white"
           },
           "yaxis": {
            "backgroundcolor": "#E5ECF6",
            "gridcolor": "white",
            "gridwidth": 2,
            "linecolor": "white",
            "showbackground": true,
            "ticks": "",
            "zerolinecolor": "white"
           },
           "zaxis": {
            "backgroundcolor": "#E5ECF6",
            "gridcolor": "white",
            "gridwidth": 2,
            "linecolor": "white",
            "showbackground": true,
            "ticks": "",
            "zerolinecolor": "white"
           }
          },
          "shapedefaults": {
           "line": {
            "color": "#2a3f5f"
           }
          },
          "ternary": {
           "aaxis": {
            "gridcolor": "white",
            "linecolor": "white",
            "ticks": ""
           },
           "baxis": {
            "gridcolor": "white",
            "linecolor": "white",
            "ticks": ""
           },
           "bgcolor": "#E5ECF6",
           "caxis": {
            "gridcolor": "white",
            "linecolor": "white",
            "ticks": ""
           }
          },
          "title": {
           "x": 0.05
          },
          "xaxis": {
           "automargin": true,
           "gridcolor": "white",
           "linecolor": "white",
           "ticks": "",
           "title": {
            "standoff": 15
           },
           "zerolinecolor": "white",
           "zerolinewidth": 2
          },
          "yaxis": {
           "automargin": true,
           "gridcolor": "white",
           "linecolor": "white",
           "ticks": "",
           "title": {
            "standoff": 15
           },
           "zerolinecolor": "white",
           "zerolinewidth": 2
          }
         }
        },
        "width": 500,
        "xaxis": {
         "autorange": false,
         "domain": [
          0,
          1
         ],
         "exponentformat": "e",
         "linecolor": "black",
         "linewidth": 1,
         "mirror": false,
         "range": [
          -3.410947454540286e-05,
          0.0007045659766663447
         ],
         "showexponent": "all",
         "showline": true,
         "side": "bottom",
         "ticks": "outside",
         "title": {
          "text": "Birth"
         },
         "type": "linear",
         "zeroline": true
        },
        "yaxis": {
         "autorange": false,
         "domain": [
          0,
          1
         ],
         "exponentformat": "e",
         "linecolor": "black",
         "linewidth": 1,
         "mirror": false,
         "range": [
          -1.3409130042418838e-05,
          0.0006838656321633607
         ],
         "scaleanchor": "x",
         "scaleratio": 1,
         "showexponent": "all",
         "showline": true,
         "side": "left",
         "ticks": "outside",
         "title": {
          "text": "Death"
         },
         "type": "linear",
         "zeroline": true
        }
       }
      },
      "image/png": "[encoded data removed]",
      "text/html": [
       "<div>                            <div id=\"26c0a958-23ff-419e-af4e-33b67084bf60\" class=\"plotly-graph-div\" style=\"height:500px; width:500px;\"></div>            <script type=\"text/javascript\">                require([\"plotly\"], function(Plotly) {                    window.PLOTLYENV=window.PLOTLYENV || {};                                    if (document.getElementById(\"26c0a958-23ff-419e-af4e-33b67084bf60\")) {                    Plotly.newPlot(                        \"26c0a958-23ff-419e-af4e-33b67084bf60\",                        [{\"hoverinfo\":\"none\",\"line\":{\"color\":\"black\",\"dash\":\"dash\",\"width\":1},\"mode\":\"lines\",\"showlegend\":false,\"x\":[-1.3409130042418838e-05,0.0006838656321633607],\"y\":[-1.3409130042418838e-05,0.0006838656321633607],\"type\":\"scatter\"},{\"hoverinfo\":\"text\",\"hovertext\":[\"(0.0, 2.2218304366106167e-05)\",\"(0.0, 3.939267116948031e-05)\",\"(0.0, 4.567423457046971e-05)\",\"(0.0, 5.800911458209157e-05)\",\"(0.0, 6.501466123154387e-05)\",\"(0.0, 6.697205390082672e-05)\",\"(0.0, 6.737212970620021e-05)\",\"(0.0, 6.783191201975569e-05)\",\"(0.0, 6.798395770601928e-05)\",\"(0.0, 6.852211663499475e-05)\",\"(0.0, 6.946140638319775e-05)\",\"(0.0, 6.949937960598618e-05)\",\"(0.0, 7.254815136548132e-05)\",\"(0.0, 7.327379717025906e-05)\",\"(0.0, 7.418962923111394e-05)\",\"(0.0, 7.489344716304913e-05)\",\"(0.0, 7.556327182101086e-05)\",\"(0.0, 7.810215902281925e-05)\",\"(0.0, 7.86614982644096e-05)\",\"(0.0, 7.991964957909659e-05)\",\"(0.0, 8.006641292013228e-05)\",\"(0.0, 8.050494216149673e-05)\",\"(0.0, 8.070444891927764e-05)\",\"(0.0, 8.107181201921776e-05)\",\"(0.0, 8.227169746533036e-05)\",\"(0.0, 8.42093286337331e-05)\",\"(0.0, 8.450756286038086e-05)\",\"(0.0, 8.459322998533025e-05)\",\"(0.0, 8.705531945452094e-05)\",\"(0.0, 8.71204465511255e-05)\",\"(0.0, 8.739379700273275e-05)\",\"(0.0, 8.778863411862403e-05)\",\"(0.0, 8.874142804415897e-05)\",\"(0.0, 8.885608258424327e-05)\",\"(0.0, 8.88595895958133e-05)\",\"(0.0, 8.945381705416366e-05)\",\"(0.0, 8.983693260233849e-05)\",\"(0.0, 9.14378251763992e-05)\",\"(0.0, 9.176549792755395e-05)\",\"(0.0, 9.278074139729142e-05)\",\"(0.0, 9.315467468695715e-05)\",\"(0.0, 9.386908641317859e-05)\",\"(0.0, 9.403553121956065e-05)\",\"(0.0, 9.637629409553483e-05)\",\"(0.0, 9.71310946624726e-05)\",\"(0.0, 9.754909842740744e-05)\",\"(0.0, 9.826219320530072e-05)\",\"(0.0, 9.86441591521725e-05)\",\"(0.0, 9.986827353714034e-05)\",\"(0.0, 0.00010105133696924895)\",\"(0.0, 0.00010157521319342777)\",\"(0.0, 0.00010254362859996036)\",\"(0.0, 0.00010306748299626634)\",\"(0.0, 0.00010381625907029957)\",\"(0.0, 0.00010419651516713202)\",\"(0.0, 0.00010618603846523911)\",\"(0.0, 0.00010672425560187548)\",\"(0.0, 0.00010677952377591282)\",\"(0.0, 0.00010707918409025297)\",\"(0.0, 0.0001072590021067299)\",\"(0.0, 0.00010852782725123689)\",\"(0.0, 0.00011037287185899913)\",\"(0.0, 0.0001107815041905269)\",\"(0.0, 0.00011089078179793432)\",\"(0.0, 0.00011147503391839564)\",\"(0.0, 0.00011208128853468224)\",\"(0.0, 0.00011366375838406384)\",\"(0.0, 0.00011436151544330642)\",\"(0.0, 0.00011634068505372852)\",\"(0.0, 0.0001169685710920021)\",\"(0.0, 0.00011815680045401677)\",\"(0.0, 0.00011964842997258529)\",\"(0.0, 0.00012025146861560643)\",\"(0.0, 0.00012151065311627463)\",\"(0.0, 0.00012250628788024187)\",\"(0.0, 0.00012635979510378093)\",\"(0.0, 0.00012674706522375345)\",\"(0.0, 0.00012724968837574124)\",\"(0.0, 0.00012852287909481674)\",\"(0.0, 0.00013137664063833654)\",\"(0.0, 0.0001332861720584333)\",\"(0.0, 0.00013398179726209491)\",\"(0.0, 0.00013399907038547099)\",\"(0.0, 0.00013460703485179693)\",\"(0.0, 0.00013551596202887595)\",\"(0.0, 0.00013575599587056786)\",\"(0.0, 0.00013679146650247276)\",\"(0.0, 0.00013741439033765346)\",\"(0.0, 0.00014163306332193315)\",\"(0.0, 0.00014192079834174365)\",\"(0.0, 0.00014242577890399843)\",\"(0.0, 0.0001429814874427393)\",\"(0.0, 0.00014300413022283465)\",\"(0.0, 0.00014399149222299457)\",\"(0.0, 0.00014497112715616822)\",\"(0.0, 0.00014535649097524583)\",\"(0.0, 0.00014737345918547362)\",\"(0.0, 0.00014928312157280743)\",\"(0.0, 0.00014990990166552365)\",\"(0.0, 0.00015086898929439485)\",\"(0.0, 0.0001513478346168995)\",\"(0.0, 0.0001522944075986743)\",\"(0.0, 0.00015245299437083304)\",\"(0.0, 0.00015285887639038265)\",\"(0.0, 0.00015487019845750183)\",\"(0.0, 0.00015524227637797594)\",\"(0.0, 0.00015538425941485912)\",\"(0.0, 0.00015583554340992123)\",\"(0.0, 0.0001564336271258071)\",\"(0.0, 0.0001608604216016829)\",\"(0.0, 0.00016106975090224296)\",\"(0.0, 0.00016209983732551336)\",\"(0.0, 0.0001621608535060659)\",\"(0.0, 0.00016310010687448084)\",\"(0.0, 0.00016327266348525882)\",\"(0.0, 0.00016392678662668914)\",\"(0.0, 0.0001665894378675148)\",\"(0.0, 0.00016834167763590813)\",\"(0.0, 0.00016878794122021645)\",\"(0.0, 0.00017029639275278896)\",\"(0.0, 0.00017327393288724124)\",\"(0.0, 0.00017390251741744578)\",\"(0.0, 0.00017710130487103015)\",\"(0.0, 0.00017718334856908768)\",\"(0.0, 0.0001782603212632239)\",\"(0.0, 0.00017963715072255582)\",\"(0.0, 0.0001805699139367789)\",\"(0.0, 0.00018089536752086133)\",\"(0.0, 0.00018121731409337372)\",\"(0.0, 0.00018165749497711658)\",\"(0.0, 0.0001846214581746608)\",\"(0.0, 0.0001847993553383276)\",\"(0.0, 0.00018613696738611907)\",\"(0.0, 0.00018683607049752027)\",\"(0.0, 0.00018721802916843444)\",\"(0.0, 0.0001880695199361071)\",\"(0.0, 0.00018851589993573725)\",\"(0.0, 0.00019506647367961705)\",\"(0.0, 0.00019507882825564593)\",\"(0.0, 0.00019695366790983826)\",\"(0.0, 0.00019700962002389133)\",\"(0.0, 0.0001977440988412127)\",\"(0.0, 0.00019966665422543883)\",\"(0.0, 0.00020005508849862963)\",\"(0.0, 0.00020853040041401982)\",\"(0.0, 0.0002124044840456918)\",\"(0.0, 0.0002157782146241516)\",\"(0.0, 0.00022107221593614668)\",\"(0.0, 0.00022288116451818496)\",\"(0.0, 0.0002251120313303545)\",\"(0.0, 0.00022705372248310596)\",\"(0.0, 0.00023043935652822256)\",\"(0.0, 0.00023063177650328726)\",\"(0.0, 0.00023172648798208684)\",\"(0.0, 0.0002318273182027042)\",\"(0.0, 0.0002331066207261756)\",\"(0.0, 0.0002342548395972699)\",\"(0.0, 0.00024241568462457508)\",\"(0.0, 0.00024299272627104074)\",\"(0.0, 0.00024316785857081413)\",\"(0.0, 0.0002511118073016405)\",\"(0.0, 0.0002525143790990114)\",\"(0.0, 0.00026182594592683017)\",\"(0.0, 0.0002638846926856786)\",\"(0.0, 0.000272315985057503)\",\"(0.0, 0.0002878009981941432)\",\"(0.0, 0.00029341765912249684)\",\"(0.0, 0.00029390249983407557)\",\"(0.0, 0.00033970523509196937)\",\"(0.0, 0.0003438960702624172)\",\"(0.0, 0.0003480649902485311)\",\"(0.0, 0.00034904401400126517)\",\"(0.0, 0.0003604309749789536)\",\"(0.0, 0.00036794619518332183)\",\"(0.0, 0.00036870845360681415)\",\"(0.0, 0.0003719812666531652)\",\"(0.0, 0.00038608285831287503)\",\"(0.0, 0.0003922727482859045)\",\"(0.0, 0.00040588757838122547)\",\"(0.0, 0.0004125300911255181)\",\"(0.0, 0.0004209108301438391)\",\"(0.0, 0.00044278474524617195)\",\"(0.0, 0.0004479337076190859)\",\"(0.0, 0.00047076825285330415)\",\"(0.0, 0.0004767775535583496)\",\"(0.0, 0.000480390852317214)\",\"(0.0, 0.0005218397709541023)\",\"(0.0, 0.0006013474776409566)\",\"(0.0, 0.0006704565021209419)\"],\"mode\":\"markers\",\"name\":\"H0\",\"x\":[0.0,0.0,0.0,0.0,0.0,0.0,0.0,0.0,0.0,0.0,0.0,0.0,0.0,0.0,0.0,0.0,0.0,0.0,0.0,0.0,0.0,0.0,0.0,0.0,0.0,0.0,0.0,0.0,0.0,0.0,0.0,0.0,0.0,0.0,0.0,0.0,0.0,0.0,0.0,0.0,0.0,0.0,0.0,0.0,0.0,0.0,0.0,0.0,0.0,0.0,0.0,0.0,0.0,0.0,0.0,0.0,0.0,0.0,0.0,0.0,0.0,0.0,0.0,0.0,0.0,0.0,0.0,0.0,0.0,0.0,0.0,0.0,0.0,0.0,0.0,0.0,0.0,0.0,0.0,0.0,0.0,0.0,0.0,0.0,0.0,0.0,0.0,0.0,0.0,0.0,0.0,0.0,0.0,0.0,0.0,0.0,0.0,0.0,0.0,0.0,0.0,0.0,0.0,0.0,0.0,0.0,0.0,0.0,0.0,0.0,0.0,0.0,0.0,0.0,0.0,0.0,0.0,0.0,0.0,0.0,0.0,0.0,0.0,0.0,0.0,0.0,0.0,0.0,0.0,0.0,0.0,0.0,0.0,0.0,0.0,0.0,0.0,0.0,0.0,0.0,0.0,0.0,0.0,0.0,0.0,0.0,0.0,0.0,0.0,0.0,0.0,0.0,0.0,0.0,0.0,0.0,0.0,0.0,0.0,0.0,0.0,0.0,0.0,0.0,0.0,0.0,0.0,0.0,0.0,0.0,0.0,0.0,0.0,0.0,0.0,0.0,0.0,0.0,0.0,0.0,0.0,0.0,0.0,0.0,0.0,0.0,0.0,0.0,0.0],\"y\":[2.2218304366106167e-05,3.939267116948031e-05,4.567423457046971e-05,5.800911458209157e-05,6.501466123154387e-05,6.697205390082672e-05,6.737212970620021e-05,6.783191201975569e-05,6.798395770601928e-05,6.852211663499475e-05,6.946140638319775e-05,6.949937960598618e-05,7.254815136548132e-05,7.327379717025906e-05,7.418962923111394e-05,7.489344716304913e-05,7.556327182101086e-05,7.810215902281925e-05,7.86614982644096e-05,7.991964957909659e-05,8.006641292013228e-05,8.050494216149673e-05,8.070444891927764e-05,8.107181201921776e-05,8.227169746533036e-05,8.42093286337331e-05,8.450756286038086e-05,8.459322998533025e-05,8.705531945452094e-05,8.71204465511255e-05,8.739379700273275e-05,8.778863411862403e-05,8.874142804415897e-05,8.885608258424327e-05,8.88595895958133e-05,8.945381705416366e-05,8.983693260233849e-05,9.14378251763992e-05,9.176549792755395e-05,9.278074139729142e-05,9.315467468695715e-05,9.386908641317859e-05,9.403553121956065e-05,9.637629409553483e-05,9.71310946624726e-05,9.754909842740744e-05,9.826219320530072e-05,9.86441591521725e-05,9.986827353714034e-05,0.00010105133696924895,0.00010157521319342777,0.00010254362859996036,0.00010306748299626634,0.00010381625907029957,0.00010419651516713202,0.00010618603846523911,0.00010672425560187548,0.00010677952377591282,0.00010707918409025297,0.0001072590021067299,0.00010852782725123689,0.00011037287185899913,0.0001107815041905269,0.00011089078179793432,0.00011147503391839564,0.00011208128853468224,0.00011366375838406384,0.00011436151544330642,0.00011634068505372852,0.0001169685710920021,0.00011815680045401677,0.00011964842997258529,0.00012025146861560643,0.00012151065311627463,0.00012250628788024187,0.00012635979510378093,0.00012674706522375345,0.00012724968837574124,0.00012852287909481674,0.00013137664063833654,0.0001332861720584333,0.00013398179726209491,0.00013399907038547099,0.00013460703485179693,0.00013551596202887595,0.00013575599587056786,0.00013679146650247276,0.00013741439033765346,0.00014163306332193315,0.00014192079834174365,0.00014242577890399843,0.0001429814874427393,0.00014300413022283465,0.00014399149222299457,0.00014497112715616822,0.00014535649097524583,0.00014737345918547362,0.00014928312157280743,0.00014990990166552365,0.00015086898929439485,0.0001513478346168995,0.0001522944075986743,0.00015245299437083304,0.00015285887639038265,0.00015487019845750183,0.00015524227637797594,0.00015538425941485912,0.00015583554340992123,0.0001564336271258071,0.0001608604216016829,0.00016106975090224296,0.00016209983732551336,0.0001621608535060659,0.00016310010687448084,0.00016327266348525882,0.00016392678662668914,0.0001665894378675148,0.00016834167763590813,0.00016878794122021645,0.00017029639275278896,0.00017327393288724124,0.00017390251741744578,0.00017710130487103015,0.00017718334856908768,0.0001782603212632239,0.00017963715072255582,0.0001805699139367789,0.00018089536752086133,0.00018121731409337372,0.00018165749497711658,0.0001846214581746608,0.0001847993553383276,0.00018613696738611907,0.00018683607049752027,0.00018721802916843444,0.0001880695199361071,0.00018851589993573725,0.00019506647367961705,0.00019507882825564593,0.00019695366790983826,0.00019700962002389133,0.0001977440988412127,0.00019966665422543883,0.00020005508849862963,0.00020853040041401982,0.0002124044840456918,0.0002157782146241516,0.00022107221593614668,0.00022288116451818496,0.0002251120313303545,0.00022705372248310596,0.00023043935652822256,0.00023063177650328726,0.00023172648798208684,0.0002318273182027042,0.0002331066207261756,0.0002342548395972699,0.00024241568462457508,0.00024299272627104074,0.00024316785857081413,0.0002511118073016405,0.0002525143790990114,0.00026182594592683017,0.0002638846926856786,0.000272315985057503,0.0002878009981941432,0.00029341765912249684,0.00029390249983407557,0.00033970523509196937,0.0003438960702624172,0.0003480649902485311,0.00034904401400126517,0.0003604309749789536,0.00036794619518332183,0.00036870845360681415,0.0003719812666531652,0.00038608285831287503,0.0003922727482859045,0.00040588757838122547,0.0004125300911255181,0.0004209108301438391,0.00044278474524617195,0.0004479337076190859,0.00047076825285330415,0.0004767775535583496,0.000480390852317214,0.0005218397709541023,0.0006013474776409566,0.0006704565021209419],\"type\":\"scatter\"},{\"hoverinfo\":\"text\",\"hovertext\":[\"(0.0005910650361329317, 0.0005993858212605119)\",\"(0.0005594556569121778, 0.0006263880641199648)\",\"(0.000492107355967164, 0.0004929315182380378)\",\"(0.0004864571674261242, 0.0005294798174872994)\",\"(0.00048379742656834424, 0.0005215091514401138)\",\"(0.00047024321975186467, 0.00047662705765105784)\",\"(0.000462898489786312, 0.0004651145136449486)\",\"(0.00043114362051710486, 0.000456560286693275)\",\"(0.000418406241806224, 0.00044251407962292433)\",\"(0.00035105185816064477, 0.00042521211435087025)\",\"(0.0003509002272039652, 0.0003697094216477126)\",\"(0.00030094326939433813, 0.00030494332895614207)\",\"(0.0003008581406902522, 0.0003488141519483179)\",\"(0.0002858072693925351, 0.0003179525083396584)\",\"(0.0002840768429450691, 0.00030450717895291746)\",\"(0.00028356901020742953, 0.0003418358974158764)\",\"(0.00028242814005352557, 0.0002876689250115305)\",\"(0.00026826438261196017, 0.0003324377757962793)\",\"(0.0002640305319800973, 0.0003327859740238637)\",\"(0.0002527595206629485, 0.00025604647817090154)\",\"(0.0002505991142243147, 0.0002557824773248285)\",\"(0.0002492107742000371, 0.0002563980524428189)\",\"(0.00024814787320792675, 0.00031335142557509243)\",\"(0.00023888819850981236, 0.00024758907966315746)\",\"(0.00023885475820861757, 0.00025836093118414283)\",\"(0.00022151872690301389, 0.00022483512293547392)\",\"(0.00022012830595485866, 0.0002545001625549048)\",\"(0.00021659783669747412, 0.00022184703266248107)\",\"(0.00021161005133762956, 0.0002236092259408906)\",\"(0.00020821912039536983, 0.00024419729015789926)\",\"(0.00020594167290255427, 0.00021330166782718152)\",\"(0.00020445902191568166, 0.000208722660318017)\",\"(0.0002023353154072538, 0.00021417207608465105)\",\"(0.0002007864968618378, 0.00021797137742396444)\",\"(0.00020008704450447112, 0.00022102560615167022)\",\"(0.00019459365285001695, 0.00023168699408415705)\",\"(0.000191525075933896, 0.00019533450540620834)\",\"(0.00019132297893520445, 0.0002035703946603462)\",\"(0.0001881317439256236, 0.0001959312940016389)\",\"(0.00018580294272396713, 0.00022388287470676005)\",\"(0.0001751659729052335, 0.00018687099509406835)\",\"(0.0001743748434819281, 0.00021511268278118223)\",\"(0.0001737561251502484, 0.00017488210869487375)\",\"(0.00017000341904349625, 0.00018759261001832783)\",\"(0.00016737882106099278, 0.00018124173220712692)\",\"(0.00016424045315943658, 0.00017968441534321755)\",\"(0.00016254509682767093, 0.0001688380871200934)\",\"(0.00015779312525410205, 0.00016534414316993207)\",\"(0.00015725956473033875, 0.00015862991858739406)\",\"(0.00015551463002339005, 0.00016239688557107002)\",\"(0.0001520972728030756, 0.00015453642117790878)\",\"(0.00014850519073661417, 0.00014923885464668274)\",\"(0.00014269344683270901, 0.00018613129213918)\",\"(0.00014229488442651927, 0.00014923885464668274)\",\"(0.00014085936709307134, 0.00014290020044427365)\",\"(0.0001386408694088459, 0.00015921297017484903)\",\"(0.0001386130170430988, 0.00016573068569414318)\",\"(0.00013568150461651385, 0.00015212848666124046)\",\"(0.00012971149408258498, 0.00014680014282930642)\",\"(0.00012792152119800448, 0.00013231119373813272)\",\"(0.00012758641969412565, 0.00014018033107277006)\",\"(0.00012723318650387228, 0.00013682556163985282)\",\"(0.00012563675409182906, 0.0001353798870695755)\",\"(0.00012486151535995305, 0.0001307333877775818)\",\"(0.00012108782539144158, 0.00013749640493188053)\",\"(0.00012017495464533567, 0.00014290020044427365)\",\"(0.00011456245556473732, 0.00014413948520086706)\",\"(0.00011353127047186717, 0.00013332224625628442)\",\"(0.00011131226347060874, 0.00012529382365755737)\",\"(0.00011052227637264878, 0.00013438716996461153)\",\"(0.00010183284030063078, 0.00012162576604168862)\",\"(0.00010128757276106626, 0.00012162576604168862)\",\"(0.00010003228089772165, 0.00012245116522535682)\",\"(9.882488666335121e-05, 0.00010618005035212263)\",\"(9.75024959188886e-05, 0.0001189310714835301)\",\"(9.498574945610017e-05, 0.00013524047972168773)\",\"(9.260336810257286e-05, 9.895100083667785e-05)\"],\"mode\":\"markers\",\"name\":\"H1\",\"x\":[0.0005910650361329317,0.0005594556569121778,0.000492107355967164,0.0004864571674261242,0.00048379742656834424,0.00047024321975186467,0.000462898489786312,0.00043114362051710486,0.000418406241806224,0.00035105185816064477,0.0003509002272039652,0.00030094326939433813,0.0003008581406902522,0.0002858072693925351,0.0002840768429450691,0.00028356901020742953,0.00028242814005352557,0.00026826438261196017,0.0002640305319800973,0.0002527595206629485,0.0002505991142243147,0.0002492107742000371,0.00024814787320792675,0.00023888819850981236,0.00023885475820861757,0.00022151872690301389,0.00022012830595485866,0.00021659783669747412,0.00021161005133762956,0.00020821912039536983,0.00020594167290255427,0.00020445902191568166,0.0002023353154072538,0.0002007864968618378,0.00020008704450447112,0.00019459365285001695,0.000191525075933896,0.00019132297893520445,0.0001881317439256236,0.00018580294272396713,0.0001751659729052335,0.0001743748434819281,0.0001737561251502484,0.00017000341904349625,0.00016737882106099278,0.00016424045315943658,0.00016254509682767093,0.00015779312525410205,0.00015725956473033875,0.00015551463002339005,0.0001520972728030756,0.00014850519073661417,0.00014269344683270901,0.00014229488442651927,0.00014085936709307134,0.0001386408694088459,0.0001386130170430988,0.00013568150461651385,0.00012971149408258498,0.00012792152119800448,0.00012758641969412565,0.00012723318650387228,0.00012563675409182906,0.00012486151535995305,0.00012108782539144158,0.00012017495464533567,0.00011456245556473732,0.00011353127047186717,0.00011131226347060874,0.00011052227637264878,0.00010183284030063078,0.00010128757276106626,0.00010003228089772165,9.882488666335121e-05,9.75024959188886e-05,9.498574945610017e-05,9.260336810257286e-05],\"y\":[0.0005993858212605119,0.0006263880641199648,0.0004929315182380378,0.0005294798174872994,0.0005215091514401138,0.00047662705765105784,0.0004651145136449486,0.000456560286693275,0.00044251407962292433,0.00042521211435087025,0.0003697094216477126,0.00030494332895614207,0.0003488141519483179,0.0003179525083396584,0.00030450717895291746,0.0003418358974158764,0.0002876689250115305,0.0003324377757962793,0.0003327859740238637,0.00025604647817090154,0.0002557824773248285,0.0002563980524428189,0.00031335142557509243,0.00024758907966315746,0.00025836093118414283,0.00022483512293547392,0.0002545001625549048,0.00022184703266248107,0.0002236092259408906,0.00024419729015789926,0.00021330166782718152,0.000208722660318017,0.00021417207608465105,0.00021797137742396444,0.00022102560615167022,0.00023168699408415705,0.00019533450540620834,0.0002035703946603462,0.0001959312940016389,0.00022388287470676005,0.00018687099509406835,0.00021511268278118223,0.00017488210869487375,0.00018759261001832783,0.00018124173220712692,0.00017968441534321755,0.0001688380871200934,0.00016534414316993207,0.00015862991858739406,0.00016239688557107002,0.00015453642117790878,0.00014923885464668274,0.00018613129213918,0.00014923885464668274,0.00014290020044427365,0.00015921297017484903,0.00016573068569414318,0.00015212848666124046,0.00014680014282930642,0.00013231119373813272,0.00014018033107277006,0.00013682556163985282,0.0001353798870695755,0.0001307333877775818,0.00013749640493188053,0.00014290020044427365,0.00014413948520086706,0.00013332224625628442,0.00012529382365755737,0.00013438716996461153,0.00012162576604168862,0.00012162576604168862,0.00012245116522535682,0.00010618005035212263,0.0001189310714835301,0.00013524047972168773,9.895100083667785e-05],\"type\":\"scatter\"},{\"hoverinfo\":\"text\",\"hovertext\":[\"(0.0005102262366563082, 0.0005205097259022295)\",\"(0.0003312370681669563, 0.00033201431506313384)\",\"(0.00031061118352226913, 0.00033240418997593224)\",\"(0.000280488224234432, 0.0002891340700443834)\",\"(0.0002601495070848614, 0.0002647243672981858)\",\"(0.0002437673247186467, 0.0002459215756971389)\",\"(0.00023094582138583064, 0.0002412635658401996)\",\"(0.0001869430998340249, 0.0001891961437650025)\",\"(0.00015448845806531608, 0.00015611817070748657)\",\"(0.00015174839063547552, 0.00015999707102309912)\",\"(0.00013749640493188053, 0.0001431632845196873)\"],\"mode\":\"markers\",\"name\":\"H2\",\"x\":[0.0005102262366563082,0.0003312370681669563,0.00031061118352226913,0.000280488224234432,0.0002601495070848614,0.0002437673247186467,0.00023094582138583064,0.0001869430998340249,0.00015448845806531608,0.00015174839063547552,0.00013749640493188053],\"y\":[0.0005205097259022295,0.00033201431506313384,0.00033240418997593224,0.0002891340700443834,0.0002647243672981858,0.0002459215756971389,0.0002412635658401996,0.0001891961437650025,0.00015611817070748657,0.00015999707102309912,0.0001431632845196873],\"type\":\"scatter\"}],                        {\"template\":{\"data\":{\"histogram2dcontour\":[{\"type\":\"histogram2dcontour\",\"colorbar\":{\"outlinewidth\":0,\"ticks\":\"\"},\"colorscale\":[[0.0,\"#0d0887\"],[0.1111111111111111,\"#46039f\"],[0.2222222222222222,\"#7201a8\"],[0.3333333333333333,\"#9c179e\"],[0.4444444444444444,\"#bd3786\"],[0.5555555555555556,\"#d8576b\"],[0.6666666666666666,\"#ed7953\"],[0.7777777777777778,\"#fb9f3a\"],[0.8888888888888888,\"#fdca26\"],[1.0,\"#f0f921\"]]}],\"choropleth\":[{\"type\":\"choropleth\",\"colorbar\":{\"outlinewidth\":0,\"ticks\":\"\"}}],\"histogram2d\":[{\"type\":\"histogram2d\",\"colorbar\":{\"outlinewidth\":0,\"ticks\":\"\"},\"colorscale\":[[0.0,\"#0d0887\"],[0.1111111111111111,\"#46039f\"],[0.2222222222222222,\"#7201a8\"],[0.3333333333333333,\"#9c179e\"],[0.4444444444444444,\"#bd3786\"],[0.5555555555555556,\"#d8576b\"],[0.6666666666666666,\"#ed7953\"],[0.7777777777777778,\"#fb9f3a\"],[0.8888888888888888,\"#fdca26\"],[1.0,\"#f0f921\"]]}],\"heatmap\":[{\"type\":\"heatmap\",\"colorbar\":{\"outlinewidth\":0,\"ticks\":\"\"},\"colorscale\":[[0.0,\"#0d0887\"],[0.1111111111111111,\"#46039f\"],[0.2222222222222222,\"#7201a8\"],[0.3333333333333333,\"#9c179e\"],[0.4444444444444444,\"#bd3786\"],[0.5555555555555556,\"#d8576b\"],[0.6666666666666666,\"#ed7953\"],[0.7777777777777778,\"#fb9f3a\"],[0.8888888888888888,\"#fdca26\"],[1.0,\"#f0f921\"]]}],\"heatmapgl\":[{\"type\":\"heatmapgl\",\"colorbar\":{\"outlinewidth\":0,\"ticks\":\"\"},\"colorscale\":[[0.0,\"#0d0887\"],[0.1111111111111111,\"#46039f\"],[0.2222222222222222,\"#7201a8\"],[0.3333333333333333,\"#9c179e\"],[0.4444444444444444,\"#bd3786\"],[0.5555555555555556,\"#d8576b\"],[0.6666666666666666,\"#ed7953\"],[0.7777777777777778,\"#fb9f3a\"],[0.8888888888888888,\"#fdca26\"],[1.0,\"#f0f921\"]]}],\"contourcarpet\":[{\"type\":\"contourcarpet\",\"colorbar\":{\"outlinewidth\":0,\"ticks\":\"\"}}],\"contour\":[{\"type\":\"contour\",\"colorbar\":{\"outlinewidth\":0,\"ticks\":\"\"},\"colorscale\":[[0.0,\"#0d0887\"],[0.1111111111111111,\"#46039f\"],[0.2222222222222222,\"#7201a8\"],[0.3333333333333333,\"#9c179e\"],[0.4444444444444444,\"#bd3786\"],[0.5555555555555556,\"#d8576b\"],[0.6666666666666666,\"#ed7953\"],[0.7777777777777778,\"#fb9f3a\"],[0.8888888888888888,\"#fdca26\"],[1.0,\"#f0f921\"]]}],\"surface\":[{\"type\":\"surface\",\"colorbar\":{\"outlinewidth\":0,\"ticks\":\"\"},\"colorscale\":[[0.0,\"#0d0887\"],[0.1111111111111111,\"#46039f\"],[0.2222222222222222,\"#7201a8\"],[0.3333333333333333,\"#9c179e\"],[0.4444444444444444,\"#bd3786\"],[0.5555555555555556,\"#d8576b\"],[0.6666666666666666,\"#ed7953\"],[0.7777777777777778,\"#fb9f3a\"],[0.8888888888888888,\"#fdca26\"],[1.0,\"#f0f921\"]]}],\"mesh3d\":[{\"type\":\"mesh3d\",\"colorbar\":{\"outlinewidth\":0,\"ticks\":\"\"}}],\"scatter\":[{\"fillpattern\":{\"fillmode\":\"overlay\",\"size\":10,\"solidity\":0.2},\"type\":\"scatter\"}],\"parcoords\":[{\"type\":\"parcoords\",\"line\":{\"colorbar\":{\"outlinewidth\":0,\"ticks\":\"\"}}}],\"scatterpolargl\":[{\"type\":\"scatterpolargl\",\"marker\":{\"colorbar\":{\"outlinewidth\":0,\"ticks\":\"\"}}}],\"bar\":[{\"error_x\":{\"color\":\"#2a3f5f\"},\"error_y\":{\"color\":\"#2a3f5f\"},\"marker\":{\"line\":{\"color\":\"#E5ECF6\",\"width\":0.5},\"pattern\":{\"fillmode\":\"overlay\",\"size\":10,\"solidity\":0.2}},\"type\":\"bar\"}],\"scattergeo\":[{\"type\":\"scattergeo\",\"marker\":{\"colorbar\":{\"outlinewidth\":0,\"ticks\":\"\"}}}],\"scatterpolar\":[{\"type\":\"scatterpolar\",\"marker\":{\"colorbar\":{\"outlinewidth\":0,\"ticks\":\"\"}}}],\"histogram\":[{\"marker\":{\"pattern\":{\"fillmode\":\"overlay\",\"size\":10,\"solidity\":0.2}},\"type\":\"histogram\"}],\"scattergl\":[{\"type\":\"scattergl\",\"marker\":{\"colorbar\":{\"outlinewidth\":0,\"ticks\":\"\"}}}],\"scatter3d\":[{\"type\":\"scatter3d\",\"line\":{\"colorbar\":{\"outlinewidth\":0,\"ticks\":\"\"}},\"marker\":{\"colorbar\":{\"outlinewidth\":0,\"ticks\":\"\"}}}],\"scattermapbox\":[{\"type\":\"scattermapbox\",\"marker\":{\"colorbar\":{\"outlinewidth\":0,\"ticks\":\"\"}}}],\"scatterternary\":[{\"type\":\"scatterternary\",\"marker\":{\"colorbar\":{\"outlinewidth\":0,\"ticks\":\"\"}}}],\"scattercarpet\":[{\"type\":\"scattercarpet\",\"marker\":{\"colorbar\":{\"outlinewidth\":0,\"ticks\":\"\"}}}],\"carpet\":[{\"aaxis\":{\"endlinecolor\":\"#2a3f5f\",\"gridcolor\":\"white\",\"linecolor\":\"white\",\"minorgridcolor\":\"white\",\"startlinecolor\":\"#2a3f5f\"},\"baxis\":{\"endlinecolor\":\"#2a3f5f\",\"gridcolor\":\"white\",\"linecolor\":\"white\",\"minorgridcolor\":\"white\",\"startlinecolor\":\"#2a3f5f\"},\"type\":\"carpet\"}],\"table\":[{\"cells\":{\"fill\":{\"color\":\"#EBF0F8\"},\"line\":{\"color\":\"white\"}},\"header\":{\"fill\":{\"color\":\"#C8D4E3\"},\"line\":{\"color\":\"white\"}},\"type\":\"table\"}],\"barpolar\":[{\"marker\":{\"line\":{\"color\":\"#E5ECF6\",\"width\":0.5},\"pattern\":{\"fillmode\":\"overlay\",\"size\":10,\"solidity\":0.2}},\"type\":\"barpolar\"}],\"pie\":[{\"automargin\":true,\"type\":\"pie\"}]},\"layout\":{\"autotypenumbers\":\"strict\",\"colorway\":[\"#636efa\",\"#EF553B\",\"#00cc96\",\"#ab63fa\",\"#FFA15A\",\"#19d3f3\",\"#FF6692\",\"#B6E880\",\"#FF97FF\",\"#FECB52\"],\"font\":{\"color\":\"#2a3f5f\"},\"hovermode\":\"closest\",\"hoverlabel\":{\"align\":\"left\"},\"paper_bgcolor\":\"white\",\"plot_bgcolor\":\"#E5ECF6\",\"polar\":{\"bgcolor\":\"#E5ECF6\",\"angularaxis\":{\"gridcolor\":\"white\",\"linecolor\":\"white\",\"ticks\":\"\"},\"radialaxis\":{\"gridcolor\":\"white\",\"linecolor\":\"white\",\"ticks\":\"\"}},\"ternary\":{\"bgcolor\":\"#E5ECF6\",\"aaxis\":{\"gridcolor\":\"white\",\"linecolor\":\"white\",\"ticks\":\"\"},\"baxis\":{\"gridcolor\":\"white\",\"linecolor\":\"white\",\"ticks\":\"\"},\"caxis\":{\"gridcolor\":\"white\",\"linecolor\":\"white\",\"ticks\":\"\"}},\"coloraxis\":{\"colorbar\":{\"outlinewidth\":0,\"ticks\":\"\"}},\"colorscale\":{\"sequential\":[[0.0,\"#0d0887\"],[0.1111111111111111,\"#46039f\"],[0.2222222222222222,\"#7201a8\"],[0.3333333333333333,\"#9c179e\"],[0.4444444444444444,\"#bd3786\"],[0.5555555555555556,\"#d8576b\"],[0.6666666666666666,\"#ed7953\"],[0.7777777777777778,\"#fb9f3a\"],[0.8888888888888888,\"#fdca26\"],[1.0,\"#f0f921\"]],\"sequentialminus\":[[0.0,\"#0d0887\"],[0.1111111111111111,\"#46039f\"],[0.2222222222222222,\"#7201a8\"],[0.3333333333333333,\"#9c179e\"],[0.4444444444444444,\"#bd3786\"],[0.5555555555555556,\"#d8576b\"],[0.6666666666666666,\"#ed7953\"],[0.7777777777777778,\"#fb9f3a\"],[0.8888888888888888,\"#fdca26\"],[1.0,\"#f0f921\"]],\"diverging\":[[0,\"#8e0152\"],[0.1,\"#c51b7d\"],[0.2,\"#de77ae\"],[0.3,\"#f1b6da\"],[0.4,\"#fde0ef\"],[0.5,\"#f7f7f7\"],[0.6,\"#e6f5d0\"],[0.7,\"#b8e186\"],[0.8,\"#7fbc41\"],[0.9,\"#4d9221\"],[1,\"#276419\"]]},\"xaxis\":{\"gridcolor\":\"white\",\"linecolor\":\"white\",\"ticks\":\"\",\"title\":{\"standoff\":15},\"zerolinecolor\":\"white\",\"automargin\":true,\"zerolinewidth\":2},\"yaxis\":{\"gridcolor\":\"white\",\"linecolor\":\"white\",\"ticks\":\"\",\"title\":{\"standoff\":15},\"zerolinecolor\":\"white\",\"automargin\":true,\"zerolinewidth\":2},\"scene\":{\"xaxis\":{\"backgroundcolor\":\"#E5ECF6\",\"gridcolor\":\"white\",\"linecolor\":\"white\",\"showbackground\":true,\"ticks\":\"\",\"zerolinecolor\":\"white\",\"gridwidth\":2},\"yaxis\":{\"backgroundcolor\":\"#E5ECF6\",\"gridcolor\":\"white\",\"linecolor\":\"white\",\"showbackground\":true,\"ticks\":\"\",\"zerolinecolor\":\"white\",\"gridwidth\":2},\"zaxis\":{\"backgroundcolor\":\"#E5ECF6\",\"gridcolor\":\"white\",\"linecolor\":\"white\",\"showbackground\":true,\"ticks\":\"\",\"zerolinecolor\":\"white\",\"gridwidth\":2}},\"shapedefaults\":{\"line\":{\"color\":\"#2a3f5f\"}},\"annotationdefaults\":{\"arrowcolor\":\"#2a3f5f\",\"arrowhead\":0,\"arrowwidth\":1},\"geo\":{\"bgcolor\":\"white\",\"landcolor\":\"#E5ECF6\",\"subunitcolor\":\"white\",\"showland\":true,\"showlakes\":true,\"lakecolor\":\"white\"},\"title\":{\"x\":0.05},\"mapbox\":{\"style\":\"light\"}}},\"xaxis\":{\"title\":{\"text\":\"Birth\"},\"side\":\"bottom\",\"type\":\"linear\",\"range\":[-1.3409130042418838e-05,0.0006838656321633607],\"autorange\":false,\"ticks\":\"outside\",\"showline\":true,\"zeroline\":true,\"linewidth\":1,\"linecolor\":\"black\",\"mirror\":false,\"showexponent\":\"all\",\"exponentformat\":\"e\"},\"yaxis\":{\"title\":{\"text\":\"Death\"},\"side\":\"left\",\"type\":\"linear\",\"range\":[-1.3409130042418838e-05,0.0006838656321633607],\"autorange\":false,\"scaleanchor\":\"x\",\"scaleratio\":1,\"ticks\":\"outside\",\"showline\":true,\"zeroline\":true,\"linewidth\":1,\"linecolor\":\"black\",\"mirror\":false,\"showexponent\":\"all\",\"exponentformat\":\"e\"},\"width\":500,\"height\":500,\"plot_bgcolor\":\"white\"},                        {\"responsive\": true}                    ).then(function(){\n",
       "                            \n",
       "var gd = document.getElementById('26c0a958-23ff-419e-af4e-33b67084bf60');\n",
       "var x = new MutationObserver(function (mutations, observer) {{\n",
       "        var display = window.getComputedStyle(gd).display;\n",
       "        if (!display || display === 'none') {{\n",
       "            console.log([gd, 'removed!']);\n",
       "            Plotly.purge(gd);\n",
       "            observer.disconnect();\n",
       "        }}\n",
       "}});\n",
       "\n",
       "// Listen for the removal of the full notebook cells\n",
       "var notebookContainer = gd.closest('#notebook-container');\n",
       "if (notebookContainer) {{\n",
       "    x.observe(notebookContainer, {childList: true});\n",
       "}}\n",
       "\n",
       "// Listen for the clearing of the current output cell\n",
       "var outputEl = gd.closest('.output');\n",
       "if (outputEl) {{\n",
       "    x.observe(outputEl, {childList: true});\n",
       "}}\n",
       "\n",
       "                        })                };                });            </script>        </div>"
      ]
     },
     "metadata": {},
     "output_type": "display_data"
    }
   ],
   "source": [
    "# Finding the most representative diagram for label 3\n",
    "\n",
    "# Only use parts of the training data to speed things up\n",
    "random_diagrams_label_3 = random.sample(train_shortened_diagrams_label_3, 100)\n",
    "\n",
    "# Compute the pairwise Wasserstein distances\n",
    "pairwise_wasserstein_distances_label_3 = PairwiseDistance(metric=\"wasserstein\").fit_transform(random_diagrams_label_3)\n",
    "\n",
    "# For each hole, calculate the sum of distances to all other holes\n",
    "sum_distances = [sum(dist) for dist in pairwise_wasserstein_distances_label_3]\n",
    "\n",
    "# Find the index of the Wasserstein barycenter\n",
    "most_representative_index = np.argmin(sum_distances)\n",
    "\n",
    "# Unshortened Wasserstein Barycenter for label 3\n",
    "representative_diagram_label_3 = persistence.fit_transform_plot([train_embeddings_label_3[most_representative_index]])"
   ]
  },
  {
   "cell_type": "code",
   "execution_count": 180,
   "id": "6207d7e5-e78d-4854-93d9-b667890ef953",
   "metadata": {},
   "outputs": [
    {
     "data": {
      "application/vnd.plotly.v1+json": {
       "config": {
        "plotlyServerURL": "https://plot.ly"
       },
       "data": [
        {
         "hoverinfo": "none",
         "line": {
          "color": "black",
          "dash": "dash",
          "width": 1
         },
         "mode": "lines",
         "showlegend": false,
         "type": "scatter",
         "x": [
          -5.922597483731806e-06,
          0.00030205247167032213
         ],
         "y": [
          -5.922597483731806e-06,
          0.00030205247167032213
         ]
        },
        {
         "hoverinfo": "text",
         "hovertext": [
          "(0.0, 3.070727325393818e-05)",
          "(0.0, 3.241885860916227e-05)",
          "(0.0, 3.9406062569469213e-05)",
          "(0.0, 4.225661905365996e-05)",
          "(0.0, 4.2609030060702935e-05)",
          "(0.0, 4.498989073908888e-05)",
          "(0.0, 4.547478602034971e-05)",
          "(0.0, 4.9320438847644255e-05)",
          "(0.0, 5.070607949164696e-05)",
          "(0.0, 5.1892417104681954e-05)",
          "(0.0, 5.461245382321067e-05)",
          "(0.0, 5.470372343552299e-05)",
          "(0.0, 5.528483961825259e-05)",
          "(0.0, 5.598771167569794e-05)",
          "(0.0, 5.676748332916759e-05)",
          "(0.0, 5.6947392295114696e-05)",
          "(0.0, 5.792947195004672e-05)",
          "(0.0, 5.879594027646817e-05)",
          "(0.0, 5.893833076697774e-05)",
          "(0.0, 5.9425241488497704e-05)",
          "(0.0, 6.080760795157403e-05)",
          "(0.0, 6.134127761470154e-05)",
          "(0.0, 6.1491817177739e-05)",
          "(0.0, 6.20837599853985e-05)",
          "(0.0, 6.238070636754856e-05)",
          "(0.0, 6.254120671655983e-05)",
          "(0.0, 6.269269215408713e-05)",
          "(0.0, 6.287471478572115e-05)",
          "(0.0, 6.469384970841929e-05)",
          "(0.0, 6.50915244477801e-05)",
          "(0.0, 6.544960342580453e-05)",
          "(0.0, 6.5825050114654e-05)",
          "(0.0, 6.582886999240145e-05)",
          "(0.0, 6.661585939582437e-05)",
          "(0.0, 6.698297511320561e-05)",
          "(0.0, 6.72122769174166e-05)",
          "(0.0, 6.733420013915747e-05)",
          "(0.0, 6.906128692207858e-05)",
          "(0.0, 6.908680370543152e-05)",
          "(0.0, 6.915602716617286e-05)",
          "(0.0, 6.955129356356338e-05)",
          "(0.0, 6.963796477066353e-05)",
          "(0.0, 7.051463762763888e-05)",
          "(0.0, 7.068771810736507e-05)",
          "(0.0, 7.087864651111886e-05)",
          "(0.0, 7.105489203240722e-05)",
          "(0.0, 7.151581667130813e-05)",
          "(0.0, 7.179463136708364e-05)",
          "(0.0, 7.203907443908975e-05)",
          "(0.0, 7.24836572771892e-05)",
          "(0.0, 7.272216316778213e-05)",
          "(0.0, 7.392585393972695e-05)",
          "(0.0, 7.481767534045503e-05)",
          "(0.0, 7.55948422010988e-05)",
          "(0.0, 7.573715993203223e-05)",
          "(0.0, 7.724919851170853e-05)",
          "(0.0, 7.788398215780035e-05)",
          "(0.0, 7.806146459188312e-05)",
          "(0.0, 7.853502029320225e-05)",
          "(0.0, 7.8938617662061e-05)",
          "(0.0, 7.913615991128609e-05)",
          "(0.0, 7.919569179648533e-05)",
          "(0.0, 7.988843572093174e-05)",
          "(0.0, 8.028568117879331e-05)",
          "(0.0, 8.03009097580798e-05)",
          "(0.0, 8.059188985498622e-05)",
          "(0.0, 8.080082625383511e-05)",
          "(0.0, 8.083450666163117e-05)",
          "(0.0, 8.135575626511127e-05)",
          "(0.0, 8.139849524013698e-05)",
          "(0.0, 8.201432501664385e-05)",
          "(0.0, 8.238749433076009e-05)",
          "(0.0, 8.246998186223209e-05)",
          "(0.0, 8.27569529064931e-05)",
          "(0.0, 8.305376104544848e-05)",
          "(0.0, 8.34949896670878e-05)",
          "(0.0, 8.369667921215296e-05)",
          "(0.0, 8.370942668989301e-05)",
          "(0.0, 8.513400825904682e-05)",
          "(0.0, 8.521355630364269e-05)",
          "(0.0, 8.526068995706737e-05)",
          "(0.0, 8.548767073079944e-05)",
          "(0.0, 8.569026977056637e-05)",
          "(0.0, 8.576678374083713e-05)",
          "(0.0, 8.601335139246657e-05)",
          "(0.0, 8.678324957145378e-05)",
          "(0.0, 8.690379763720557e-05)",
          "(0.0, 8.727955719223246e-05)",
          "(0.0, 8.756857278058305e-05)",
          "(0.0, 8.791789878159761e-05)",
          "(0.0, 8.811994484858587e-05)",
          "(0.0, 8.81776213645935e-05)",
          "(0.0, 8.866436837706715e-05)",
          "(0.0, 9.001376020023599e-05)",
          "(0.0, 9.050785592989996e-05)",
          "(0.0, 9.083082841243595e-05)",
          "(0.0, 9.233401215169579e-05)",
          "(0.0, 9.239607607014477e-05)",
          "(0.0, 9.25408021430485e-05)",
          "(0.0, 9.326917643193156e-05)",
          "(0.0, 9.402685827808455e-05)",
          "(0.0, 9.415825479663908e-05)",
          "(0.0, 9.43602790357545e-05)",
          "(0.0, 9.532702097203583e-05)",
          "(0.0, 9.58376404014416e-05)",
          "(0.0, 9.592481364961714e-05)",
          "(0.0, 9.664170647738501e-05)",
          "(0.0, 9.693917672848329e-05)",
          "(0.0, 9.807896276470274e-05)",
          "(0.0, 9.835782111622393e-05)",
          "(0.0, 9.883265011012554e-05)",
          "(0.0, 9.942131146090105e-05)",
          "(0.0, 9.970916289603338e-05)",
          "(0.0, 0.00010008645040215924)",
          "(0.0, 0.00010078195191454142)",
          "(0.0, 0.00010106581612490118)",
          "(0.0, 0.00010158406803384423)",
          "(0.0, 0.0001018062248476781)",
          "(0.0, 0.00010182648111367598)",
          "(0.0, 0.00010353287507314235)",
          "(0.0, 0.00010573652252787724)",
          "(0.0, 0.00010609621676849201)",
          "(0.0, 0.00010621493856888264)",
          "(0.0, 0.00010653025674400851)",
          "(0.0, 0.0001065958640538156)",
          "(0.0, 0.00010671999189071357)",
          "(0.0, 0.00010845111683011055)",
          "(0.0, 0.00010933903104159981)",
          "(0.0, 0.00011050870671169832)",
          "(0.0, 0.00011051099136238918)",
          "(0.0, 0.0001113854959839955)",
          "(0.0, 0.00011157041444675997)",
          "(0.0, 0.00011421692761359736)",
          "(0.0, 0.00011432637984398752)",
          "(0.0, 0.00011488252494018525)",
          "(0.0, 0.00011739561159629375)",
          "(0.0, 0.000119769036245998)",
          "(0.0, 0.00012131567928008735)",
          "(0.0, 0.0001222865394083783)",
          "(0.0, 0.00012364296708256006)",
          "(0.0, 0.00012514088302850723)",
          "(0.0, 0.0001259401033166796)",
          "(0.0, 0.0001259525743080303)",
          "(0.0, 0.0001264587335754186)",
          "(0.0, 0.00012701566447503865)",
          "(0.0, 0.00012767230509780347)",
          "(0.0, 0.00012847752077504992)",
          "(0.0, 0.0001289845531573519)",
          "(0.0, 0.00012954571866430342)",
          "(0.0, 0.00013000145554542542)",
          "(0.0, 0.00013036660675425082)",
          "(0.0, 0.00013183096598368138)",
          "(0.0, 0.00013323055463843048)",
          "(0.0, 0.00013387274520937353)",
          "(0.0, 0.00013603325351141393)",
          "(0.0, 0.00013675104128196836)",
          "(0.0, 0.0001379595196340233)",
          "(0.0, 0.00013798846339341253)",
          "(0.0, 0.0001388536620652303)",
          "(0.0, 0.00013978051720187068)",
          "(0.0, 0.00014198542339727283)",
          "(0.0, 0.0001421841880073771)",
          "(0.0, 0.00014255622227210552)",
          "(0.0, 0.00014527156599797308)",
          "(0.0, 0.000146945720189251)",
          "(0.0, 0.00014718936290591955)",
          "(0.0, 0.00014926199219189584)",
          "(0.0, 0.00014993765216786414)",
          "(0.0, 0.00015256267215590924)",
          "(0.0, 0.00015412211359944195)",
          "(0.0, 0.00015515543054789305)",
          "(0.0, 0.00015675838221795857)",
          "(0.0, 0.00015739852096885443)",
          "(0.0, 0.0001574302150402218)",
          "(0.0, 0.0001591068139532581)",
          "(0.0, 0.00015925725165288895)",
          "(0.0, 0.00016110690194182098)",
          "(0.0, 0.0001616857771296054)",
          "(0.0, 0.00016505733947269619)",
          "(0.0, 0.0001690541539574042)",
          "(0.0, 0.00017549959011375904)",
          "(0.0, 0.00017692001711111516)",
          "(0.0, 0.00017808897246140987)",
          "(0.0, 0.00018692405137699097)",
          "(0.0, 0.0001916142791742459)",
          "(0.0, 0.00020611652871593833)",
          "(0.0, 0.00020691158715635538)",
          "(0.0, 0.00021617348829749972)",
          "(0.0, 0.0002961298741865903)"
         ],
         "mode": "markers",
         "name": "H0",
         "type": "scatter",
         "x": [
          0,
          0,
          0,
          0,
          0,
          0,
          0,
          0,
          0,
          0,
          0,
          0,
          0,
          0,
          0,
          0,
          0,
          0,
          0,
          0,
          0,
          0,
          0,
          0,
          0,
          0,
          0,
          0,
          0,
          0,
          0,
          0,
          0,
          0,
          0,
          0,
          0,
          0,
          0,
          0,
          0,
          0,
          0,
          0,
          0,
          0,
          0,
          0,
          0,
          0,
          0,
          0,
          0,
          0,
          0,
          0,
          0,
          0,
          0,
          0,
          0,
          0,
          0,
          0,
          0,
          0,
          0,
          0,
          0,
          0,
          0,
          0,
          0,
          0,
          0,
          0,
          0,
          0,
          0,
          0,
          0,
          0,
          0,
          0,
          0,
          0,
          0,
          0,
          0,
          0,
          0,
          0,
          0,
          0,
          0,
          0,
          0,
          0,
          0,
          0,
          0,
          0,
          0,
          0,
          0,
          0,
          0,
          0,
          0,
          0,
          0,
          0,
          0,
          0,
          0,
          0,
          0,
          0,
          0,
          0,
          0,
          0,
          0,
          0,
          0,
          0,
          0,
          0,
          0,
          0,
          0,
          0,
          0,
          0,
          0,
          0,
          0,
          0,
          0,
          0,
          0,
          0,
          0,
          0,
          0,
          0,
          0,
          0,
          0,
          0,
          0,
          0,
          0,
          0,
          0,
          0,
          0,
          0,
          0,
          0,
          0,
          0,
          0,
          0,
          0,
          0,
          0,
          0,
          0,
          0,
          0,
          0,
          0,
          0,
          0,
          0,
          0,
          0,
          0,
          0,
          0,
          0,
          0,
          0,
          0,
          0,
          0,
          0,
          0
         ],
         "y": [
          3.070727325393818e-05,
          3.241885860916227e-05,
          3.9406062569469213e-05,
          4.225661905365996e-05,
          4.2609030060702935e-05,
          4.498989073908888e-05,
          4.547478602034971e-05,
          4.9320438847644255e-05,
          5.070607949164696e-05,
          5.1892417104681954e-05,
          5.461245382321067e-05,
          5.470372343552299e-05,
          5.528483961825259e-05,
          5.598771167569794e-05,
          5.676748332916759e-05,
          5.6947392295114696e-05,
          5.792947195004672e-05,
          5.879594027646817e-05,
          5.893833076697774e-05,
          5.9425241488497704e-05,
          6.080760795157403e-05,
          6.134127761470154e-05,
          6.1491817177739e-05,
          6.20837599853985e-05,
          6.238070636754856e-05,
          6.254120671655983e-05,
          6.269269215408713e-05,
          6.287471478572115e-05,
          6.469384970841929e-05,
          6.50915244477801e-05,
          6.544960342580453e-05,
          6.5825050114654e-05,
          6.582886999240145e-05,
          6.661585939582437e-05,
          6.698297511320561e-05,
          6.72122769174166e-05,
          6.733420013915747e-05,
          6.906128692207858e-05,
          6.908680370543152e-05,
          6.915602716617286e-05,
          6.955129356356338e-05,
          6.963796477066353e-05,
          7.051463762763888e-05,
          7.068771810736507e-05,
          7.087864651111886e-05,
          7.105489203240722e-05,
          7.151581667130813e-05,
          7.179463136708364e-05,
          7.203907443908975e-05,
          7.24836572771892e-05,
          7.272216316778213e-05,
          7.392585393972695e-05,
          7.481767534045503e-05,
          7.55948422010988e-05,
          7.573715993203223e-05,
          7.724919851170853e-05,
          7.788398215780035e-05,
          7.806146459188312e-05,
          7.853502029320225e-05,
          7.8938617662061e-05,
          7.913615991128609e-05,
          7.919569179648533e-05,
          7.988843572093174e-05,
          8.028568117879331e-05,
          8.03009097580798e-05,
          8.059188985498622e-05,
          8.080082625383511e-05,
          8.083450666163117e-05,
          8.135575626511127e-05,
          8.139849524013698e-05,
          8.201432501664385e-05,
          8.238749433076009e-05,
          8.246998186223209e-05,
          8.27569529064931e-05,
          8.305376104544848e-05,
          8.34949896670878e-05,
          8.369667921215296e-05,
          8.370942668989301e-05,
          8.513400825904682e-05,
          8.521355630364269e-05,
          8.526068995706737e-05,
          8.548767073079944e-05,
          8.569026977056637e-05,
          8.576678374083713e-05,
          8.601335139246657e-05,
          8.678324957145378e-05,
          8.690379763720557e-05,
          8.727955719223246e-05,
          8.756857278058305e-05,
          8.791789878159761e-05,
          8.811994484858587e-05,
          8.81776213645935e-05,
          8.866436837706715e-05,
          9.001376020023599e-05,
          9.050785592989996e-05,
          9.083082841243595e-05,
          9.233401215169579e-05,
          9.239607607014477e-05,
          9.25408021430485e-05,
          9.326917643193156e-05,
          9.402685827808455e-05,
          9.415825479663908e-05,
          9.43602790357545e-05,
          9.532702097203583e-05,
          9.58376404014416e-05,
          9.592481364961714e-05,
          9.664170647738501e-05,
          9.693917672848329e-05,
          9.807896276470274e-05,
          9.835782111622393e-05,
          9.883265011012554e-05,
          9.942131146090105e-05,
          9.970916289603338e-05,
          0.00010008645040215924,
          0.00010078195191454142,
          0.00010106581612490118,
          0.00010158406803384423,
          0.0001018062248476781,
          0.00010182648111367598,
          0.00010353287507314235,
          0.00010573652252787724,
          0.00010609621676849201,
          0.00010621493856888264,
          0.00010653025674400851,
          0.0001065958640538156,
          0.00010671999189071357,
          0.00010845111683011055,
          0.00010933903104159981,
          0.00011050870671169832,
          0.00011051099136238918,
          0.0001113854959839955,
          0.00011157041444675997,
          0.00011421692761359736,
          0.00011432637984398752,
          0.00011488252494018525,
          0.00011739561159629375,
          0.000119769036245998,
          0.00012131567928008735,
          0.0001222865394083783,
          0.00012364296708256006,
          0.00012514088302850723,
          0.0001259401033166796,
          0.0001259525743080303,
          0.0001264587335754186,
          0.00012701566447503865,
          0.00012767230509780347,
          0.00012847752077504992,
          0.0001289845531573519,
          0.00012954571866430342,
          0.00013000145554542542,
          0.00013036660675425082,
          0.00013183096598368138,
          0.00013323055463843048,
          0.00013387274520937353,
          0.00013603325351141393,
          0.00013675104128196836,
          0.0001379595196340233,
          0.00013798846339341253,
          0.0001388536620652303,
          0.00013978051720187068,
          0.00014198542339727283,
          0.0001421841880073771,
          0.00014255622227210552,
          0.00014527156599797308,
          0.000146945720189251,
          0.00014718936290591955,
          0.00014926199219189584,
          0.00014993765216786414,
          0.00015256267215590924,
          0.00015412211359944195,
          0.00015515543054789305,
          0.00015675838221795857,
          0.00015739852096885443,
          0.0001574302150402218,
          0.0001591068139532581,
          0.00015925725165288895,
          0.00016110690194182098,
          0.0001616857771296054,
          0.00016505733947269619,
          0.0001690541539574042,
          0.00017549959011375904,
          0.00017692001711111516,
          0.00017808897246140987,
          0.00018692405137699097,
          0.0001916142791742459,
          0.00020611652871593833,
          0.00020691158715635538,
          0.00021617348829749972,
          0.0002961298741865903
         ]
        },
        {
         "hoverinfo": "text",
         "hovertext": [
          "(0.00025750804343260825, 0.00026392668951302767)",
          "(0.0002144728205166757, 0.00022860067838337272)",
          "(0.00020846741972491145, 0.00020869933359790593)",
          "(0.00020239042351022363, 0.00020344807126093656)",
          "(0.00019121143850497901, 0.000197767440113239)",
          "(0.00018663726223167032, 0.00020032416796311736)",
          "(0.0001806078216759488, 0.00020590201893355697)",
          "(0.00018020195420831442, 0.00019020574109163135)",
          "(0.00017928447050508112, 0.00021539791487157345)",
          "(0.0001635699882172048, 0.00017092196503654122)",
          "(0.00016321764269378036, 0.00018155276484321803)",
          "(0.00016287136531900615, 0.0001801969629013911)",
          "(0.0001627897727303207, 0.00016457379388157278)",
          "(0.0001600113173481077, 0.00016657079686410725)",
          "(0.00015872195945121348, 0.00018678593914955854)",
          "(0.00015802800771780312, 0.000159647868713364)",
          "(0.00015038749552331865, 0.00015537570288870484)",
          "(0.00014832582382950932, 0.0001649807527428493)",
          "(0.00014796310279052705, 0.0001576725480845198)",
          "(0.00014497939264401793, 0.00015169788093771785)",
          "(0.00014419812941923738, 0.00015890711802057922)",
          "(0.00014287930389400572, 0.00015541953325737268)",
          "(0.00014267596998251975, 0.00014487115549854934)",
          "(0.00013940279313828796, 0.00014566050958819687)",
          "(0.00013906344247516245, 0.00016572323511354625)",
          "(0.0001372818514937535, 0.00013870088150724769)",
          "(0.00013655947986990213, 0.00015369303582701832)",
          "(0.00013576359197031707, 0.0001468748669140041)",
          "(0.0001351051905658096, 0.00015062843158375472)",
          "(0.00013426334771793336, 0.00013426835357677191)",
          "(0.00013399316230788827, 0.00013922409561928362)",
          "(0.0001335046108579263, 0.00013510473945643753)",
          "(0.00013348754146136343, 0.0001378308079438284)",
          "(0.00013315222167875618, 0.00013736734399572015)",
          "(0.00013305239554028958, 0.00014217440912034363)",
          "(0.0001314593100687489, 0.0001422891509719193)",
          "(0.00012950942618772388, 0.00013762385060545057)",
          "(0.00012785203580278903, 0.00013870088150724769)",
          "(0.00012725354463327676, 0.0001313008542638272)",
          "(0.00012683898967225105, 0.0001341030147159472)",
          "(0.00012608504039235413, 0.00014433286560233682)",
          "(0.00012467082706280053, 0.00013529934221878648)",
          "(0.0001224566512973979, 0.00012337090447545052)",
          "(0.00012238280032761395, 0.0001227287866640836)",
          "(0.00012119829625589773, 0.00013811563258059323)",
          "(0.00011975372035522014, 0.00013585267879534513)",
          "(0.00011928818275919184, 0.00012922476162202656)",
          "(0.00011827203707071021, 0.00011913336493307725)",
          "(0.00011773904407164082, 0.00012101154425181448)",
          "(0.00011767332762246951, 0.00012600055197253823)",
          "(0.00011738774628611282, 0.0001305679907090962)",
          "(0.00011638262367341667, 0.00012612658611033112)",
          "(0.00011576979886740446, 0.00011776215978898108)",
          "(0.00011474517668830231, 0.00012974467244930565)",
          "(0.00011322539648972452, 0.00012338714441284537)",
          "(0.0001131665994762443, 0.00014172268856782466)",
          "(0.0001129136944655329, 0.0001222272840095684)",
          "(0.00011257514415774494, 0.00011484587594168261)",
          "(0.00011236893624300137, 0.0001222272840095684)",
          "(0.00011222723696846515, 0.00011378491035429761)",
          "(0.00011196031846338883, 0.00011507151066325605)",
          "(0.00011189635552000254, 0.00013137316273059696)",
          "(0.00011174600513186306, 0.00012366003647912294)",
          "(0.00011063159035984427, 0.0001141865795943886)",
          "(0.00010918328916886821, 0.00011318683391436934)",
          "(0.00010631921031745151, 0.00011938123498111963)",
          "(0.00010608298907754943, 0.00011437368084443733)",
          "(0.00010531981388339773, 0.00013386127830017358)",
          "(0.00010395004937890917, 0.00010565789852989838)",
          "(0.00010367188951931894, 0.00011776552128139883)",
          "(0.00010328528878744692, 0.0001107766292989254)",
          "(0.00010317633132217452, 0.00010424242645967752)",
          "(0.0001029325503623113, 0.00010665895388228819)",
          "(0.00010226070298813283, 0.00010442620987305418)",
          "(0.00010055288294097409, 0.00012320926180109382)",
          "(9.923490870278329e-05, 0.00011607475607888773)",
          "(9.873395902104676e-05, 0.00011128091136924922)",
          "(9.828989277593791e-05, 0.00011483168054837734)",
          "(9.825474990066141e-05, 0.00011147686745971441)",
          "(9.767674055183306e-05, 0.00010665895388228819)",
          "(9.705378033686429e-05, 0.00010621178080327809)",
          "(9.622562356526032e-05, 0.0001020274285110645)",
          "(9.55495415837504e-05, 0.00011860959784826264)",
          "(9.540284372633323e-05, 9.621066419640556e-05)",
          "(9.484057954978198e-05, 9.890069486573339e-05)",
          "(9.464882896281779e-05, 9.621066419640556e-05)",
          "(9.46315994951874e-05, 9.471835801377892e-05)",
          "(9.423667506780475e-05, 0.00010427911183796823)",
          "(9.371310443384573e-05, 0.00010020392073784024)",
          "(9.309878805652261e-05, 0.00011147686745971441)",
          "(9.240827057510614e-05, 0.00010761483281385154)",
          "(9.218193736160174e-05, 0.0001126292409026064)",
          "(9.191474237013608e-05, 9.997856250265613e-05)",
          "(9.131800470640883e-05, 0.0001101971574826166)",
          "(9.105051140068099e-05, 0.00010489174019312486)",
          "(9.053633402800187e-05, 0.00011205250484636053)",
          "(8.995285315904766e-05, 9.044834587257355e-05)",
          "(8.959727711044252e-05, 9.713097097119316e-05)",
          "(8.938636165112257e-05, 0.00010105347610078752)",
          "(8.919727406464517e-05, 0.00011451146565377712)",
          "(8.833171159494668e-05, 0.0001304124016314745)",
          "(8.733711001696065e-05, 0.00010936030594166368)",
          "(8.678559970576316e-05, 0.00010449611727381125)",
          "(8.485055150231346e-05, 9.173412399832159e-05)",
          "(8.484334830427542e-05, 9.326043073087931e-05)",
          "(8.44273527036421e-05, 0.0001083777824533172)",
          "(8.439197699772194e-05, 9.031195077113807e-05)",
          "(8.42016379465349e-05, 0.00011483168054837734)",
          "(8.385728142457083e-05, 0.00011672503023874015)",
          "(8.20295317680575e-05, 9.403833246324211e-05)",
          "(8.188540959963575e-05, 0.0001069747595465742)",
          "(7.538849604316056e-05, 7.635357906110585e-05)",
          "(7.369368540821597e-05, 8.660149615025148e-05)",
          "(7.145945710362867e-05, 7.886247476562858e-05)",
          "(6.67582789901644e-05, 7.583716069348156e-05)"
         ],
         "mode": "markers",
         "name": "H1",
         "type": "scatter",
         "x": [
          0.00025750804343260825,
          0.0002144728205166757,
          0.00020846741972491145,
          0.00020239042351022363,
          0.00019121143850497901,
          0.00018663726223167032,
          0.0001806078216759488,
          0.00018020195420831442,
          0.00017928447050508112,
          0.0001635699882172048,
          0.00016321764269378036,
          0.00016287136531900615,
          0.0001627897727303207,
          0.0001600113173481077,
          0.00015872195945121348,
          0.00015802800771780312,
          0.00015038749552331865,
          0.00014832582382950932,
          0.00014796310279052705,
          0.00014497939264401793,
          0.00014419812941923738,
          0.00014287930389400572,
          0.00014267596998251975,
          0.00013940279313828796,
          0.00013906344247516245,
          0.0001372818514937535,
          0.00013655947986990213,
          0.00013576359197031707,
          0.0001351051905658096,
          0.00013426334771793336,
          0.00013399316230788827,
          0.0001335046108579263,
          0.00013348754146136343,
          0.00013315222167875618,
          0.00013305239554028958,
          0.0001314593100687489,
          0.00012950942618772388,
          0.00012785203580278903,
          0.00012725354463327676,
          0.00012683898967225105,
          0.00012608504039235413,
          0.00012467082706280053,
          0.0001224566512973979,
          0.00012238280032761395,
          0.00012119829625589773,
          0.00011975372035522014,
          0.00011928818275919184,
          0.00011827203707071021,
          0.00011773904407164082,
          0.00011767332762246951,
          0.00011738774628611282,
          0.00011638262367341667,
          0.00011576979886740446,
          0.00011474517668830231,
          0.00011322539648972452,
          0.0001131665994762443,
          0.0001129136944655329,
          0.00011257514415774494,
          0.00011236893624300137,
          0.00011222723696846515,
          0.00011196031846338883,
          0.00011189635552000254,
          0.00011174600513186306,
          0.00011063159035984427,
          0.00010918328916886821,
          0.00010631921031745151,
          0.00010608298907754943,
          0.00010531981388339773,
          0.00010395004937890917,
          0.00010367188951931894,
          0.00010328528878744692,
          0.00010317633132217452,
          0.0001029325503623113,
          0.00010226070298813283,
          0.00010055288294097409,
          9.923490870278329e-05,
          9.873395902104676e-05,
          9.828989277593791e-05,
          9.825474990066141e-05,
          9.767674055183306e-05,
          9.705378033686429e-05,
          9.622562356526032e-05,
          9.55495415837504e-05,
          9.540284372633323e-05,
          9.484057954978198e-05,
          9.464882896281779e-05,
          9.46315994951874e-05,
          9.423667506780475e-05,
          9.371310443384573e-05,
          9.309878805652261e-05,
          9.240827057510614e-05,
          9.218193736160174e-05,
          9.191474237013608e-05,
          9.131800470640883e-05,
          9.105051140068099e-05,
          9.053633402800187e-05,
          8.995285315904766e-05,
          8.959727711044252e-05,
          8.938636165112257e-05,
          8.919727406464517e-05,
          8.833171159494668e-05,
          8.733711001696065e-05,
          8.678559970576316e-05,
          8.485055150231346e-05,
          8.484334830427542e-05,
          8.44273527036421e-05,
          8.439197699772194e-05,
          8.42016379465349e-05,
          8.385728142457083e-05,
          8.20295317680575e-05,
          8.188540959963575e-05,
          7.538849604316056e-05,
          7.369368540821597e-05,
          7.145945710362867e-05,
          6.67582789901644e-05
         ],
         "y": [
          0.00026392668951302767,
          0.00022860067838337272,
          0.00020869933359790593,
          0.00020344807126093656,
          0.000197767440113239,
          0.00020032416796311736,
          0.00020590201893355697,
          0.00019020574109163135,
          0.00021539791487157345,
          0.00017092196503654122,
          0.00018155276484321803,
          0.0001801969629013911,
          0.00016457379388157278,
          0.00016657079686410725,
          0.00018678593914955854,
          0.000159647868713364,
          0.00015537570288870484,
          0.0001649807527428493,
          0.0001576725480845198,
          0.00015169788093771785,
          0.00015890711802057922,
          0.00015541953325737268,
          0.00014487115549854934,
          0.00014566050958819687,
          0.00016572323511354625,
          0.00013870088150724769,
          0.00015369303582701832,
          0.0001468748669140041,
          0.00015062843158375472,
          0.00013426835357677191,
          0.00013922409561928362,
          0.00013510473945643753,
          0.0001378308079438284,
          0.00013736734399572015,
          0.00014217440912034363,
          0.0001422891509719193,
          0.00013762385060545057,
          0.00013870088150724769,
          0.0001313008542638272,
          0.0001341030147159472,
          0.00014433286560233682,
          0.00013529934221878648,
          0.00012337090447545052,
          0.0001227287866640836,
          0.00013811563258059323,
          0.00013585267879534513,
          0.00012922476162202656,
          0.00011913336493307725,
          0.00012101154425181448,
          0.00012600055197253823,
          0.0001305679907090962,
          0.00012612658611033112,
          0.00011776215978898108,
          0.00012974467244930565,
          0.00012338714441284537,
          0.00014172268856782466,
          0.0001222272840095684,
          0.00011484587594168261,
          0.0001222272840095684,
          0.00011378491035429761,
          0.00011507151066325605,
          0.00013137316273059696,
          0.00012366003647912294,
          0.0001141865795943886,
          0.00011318683391436934,
          0.00011938123498111963,
          0.00011437368084443733,
          0.00013386127830017358,
          0.00010565789852989838,
          0.00011776552128139883,
          0.0001107766292989254,
          0.00010424242645967752,
          0.00010665895388228819,
          0.00010442620987305418,
          0.00012320926180109382,
          0.00011607475607888773,
          0.00011128091136924922,
          0.00011483168054837734,
          0.00011147686745971441,
          0.00010665895388228819,
          0.00010621178080327809,
          0.0001020274285110645,
          0.00011860959784826264,
          9.621066419640556e-05,
          9.890069486573339e-05,
          9.621066419640556e-05,
          9.471835801377892e-05,
          0.00010427911183796823,
          0.00010020392073784024,
          0.00011147686745971441,
          0.00010761483281385154,
          0.0001126292409026064,
          9.997856250265613e-05,
          0.0001101971574826166,
          0.00010489174019312486,
          0.00011205250484636053,
          9.044834587257355e-05,
          9.713097097119316e-05,
          0.00010105347610078752,
          0.00011451146565377712,
          0.0001304124016314745,
          0.00010936030594166368,
          0.00010449611727381125,
          9.173412399832159e-05,
          9.326043073087931e-05,
          0.0001083777824533172,
          9.031195077113807e-05,
          0.00011483168054837734,
          0.00011672503023874015,
          9.403833246324211e-05,
          0.0001069747595465742,
          7.635357906110585e-05,
          8.660149615025148e-05,
          7.886247476562858e-05,
          7.583716069348156e-05
         ]
        },
        {
         "hoverinfo": "text",
         "hovertext": [
          "(0.0001919637288665399, 0.00019451894331723452)",
          "(0.00018861543503589928, 0.00019692073692567647)",
          "(0.00018408767937216908, 0.00019083126971963793)",
          "(0.00016884937940631062, 0.00017736118752509356)",
          "(0.0001683421724010259, 0.0001780819584382698)",
          "(0.00016807354404591024, 0.00017490782192908227)",
          "(0.00016791564121376723, 0.00017275285790674388)",
          "(0.00016611965838819742, 0.00017685351485852152)",
          "(0.0001621601259103045, 0.00016494476585648954)",
          "(0.00014980731066316366, 0.00015624753723386675)",
          "(0.00014400856161955744, 0.00014871192979626358)",
          "(0.00014362951333168894, 0.00015408880426548421)",
          "(0.00014230626402422786, 0.00014454274787567556)",
          "(0.0001402987545588985, 0.00015193327271845192)",
          "(0.00013858394231647253, 0.00014127971371635795)",
          "(0.00013666578161064535, 0.00013926155224908143)",
          "(0.00013567956921178848, 0.00013972268789075315)",
          "(0.00012772112677339464, 0.00013002064952161163)",
          "(0.0001275647955480963, 0.00012976805737707764)",
          "(0.000123265985166654, 0.00012459490972105414)",
          "(0.00012071329547325149, 0.00012739538215100765)",
          "(0.00012025784963043407, 0.00012370570038910955)",
          "(0.00011957654351135716, 0.00012037157284794375)",
          "(0.00011838807404274121, 0.00012473121751099825)",
          "(0.00011805039684986696, 0.00011924152204301208)",
          "(0.00011724167416105047, 0.00011991582869086415)",
          "(0.00011712685954989865, 0.00011895687930518761)",
          "(0.0001161266045528464, 0.00011659273877739906)",
          "(0.00011285802611382678, 0.0001134713675128296)",
          "(0.00011285059008514509, 0.00011950070620514452)",
          "(0.00011144878226332366, 0.0001216926975757815)",
          "(0.00010766118066385388, 0.00011157052358612418)",
          "(0.00010679232946131378, 0.00011020184319932014)"
         ],
         "mode": "markers",
         "name": "H2",
         "type": "scatter",
         "x": [
          0.0001919637288665399,
          0.00018861543503589928,
          0.00018408767937216908,
          0.00016884937940631062,
          0.0001683421724010259,
          0.00016807354404591024,
          0.00016791564121376723,
          0.00016611965838819742,
          0.0001621601259103045,
          0.00014980731066316366,
          0.00014400856161955744,
          0.00014362951333168894,
          0.00014230626402422786,
          0.0001402987545588985,
          0.00013858394231647253,
          0.00013666578161064535,
          0.00013567956921178848,
          0.00012772112677339464,
          0.0001275647955480963,
          0.000123265985166654,
          0.00012071329547325149,
          0.00012025784963043407,
          0.00011957654351135716,
          0.00011838807404274121,
          0.00011805039684986696,
          0.00011724167416105047,
          0.00011712685954989865,
          0.0001161266045528464,
          0.00011285802611382678,
          0.00011285059008514509,
          0.00011144878226332366,
          0.00010766118066385388,
          0.00010679232946131378
         ],
         "y": [
          0.00019451894331723452,
          0.00019692073692567647,
          0.00019083126971963793,
          0.00017736118752509356,
          0.0001780819584382698,
          0.00017490782192908227,
          0.00017275285790674388,
          0.00017685351485852152,
          0.00016494476585648954,
          0.00015624753723386675,
          0.00014871192979626358,
          0.00015408880426548421,
          0.00014454274787567556,
          0.00015193327271845192,
          0.00014127971371635795,
          0.00013926155224908143,
          0.00013972268789075315,
          0.00013002064952161163,
          0.00012976805737707764,
          0.00012459490972105414,
          0.00012739538215100765,
          0.00012370570038910955,
          0.00012037157284794375,
          0.00012473121751099825,
          0.00011924152204301208,
          0.00011991582869086415,
          0.00011895687930518761,
          0.00011659273877739906,
          0.0001134713675128296,
          0.00011950070620514452,
          0.0001216926975757815,
          0.00011157052358612418,
          0.00011020184319932014
         ]
        }
       ],
       "layout": {
        "height": 500,
        "plot_bgcolor": "white",
        "template": {
         "data": {
          "bar": [
           {
            "error_x": {
             "color": "#2a3f5f"
            },
            "error_y": {
             "color": "#2a3f5f"
            },
            "marker": {
             "line": {
              "color": "#E5ECF6",
              "width": 0.5
             },
             "pattern": {
              "fillmode": "overlay",
              "size": 10,
              "solidity": 0.2
             }
            },
            "type": "bar"
           }
          ],
          "barpolar": [
           {
            "marker": {
             "line": {
              "color": "#E5ECF6",
              "width": 0.5
             },
             "pattern": {
              "fillmode": "overlay",
              "size": 10,
              "solidity": 0.2
             }
            },
            "type": "barpolar"
           }
          ],
          "carpet": [
           {
            "aaxis": {
             "endlinecolor": "#2a3f5f",
             "gridcolor": "white",
             "linecolor": "white",
             "minorgridcolor": "white",
             "startlinecolor": "#2a3f5f"
            },
            "baxis": {
             "endlinecolor": "#2a3f5f",
             "gridcolor": "white",
             "linecolor": "white",
             "minorgridcolor": "white",
             "startlinecolor": "#2a3f5f"
            },
            "type": "carpet"
           }
          ],
          "choropleth": [
           {
            "colorbar": {
             "outlinewidth": 0,
             "ticks": ""
            },
            "type": "choropleth"
           }
          ],
          "contour": [
           {
            "colorbar": {
             "outlinewidth": 0,
             "ticks": ""
            },
            "colorscale": [
             [
              0,
              "#0d0887"
             ],
             [
              0.1111111111111111,
              "#46039f"
             ],
             [
              0.2222222222222222,
              "#7201a8"
             ],
             [
              0.3333333333333333,
              "#9c179e"
             ],
             [
              0.4444444444444444,
              "#bd3786"
             ],
             [
              0.5555555555555556,
              "#d8576b"
             ],
             [
              0.6666666666666666,
              "#ed7953"
             ],
             [
              0.7777777777777778,
              "#fb9f3a"
             ],
             [
              0.8888888888888888,
              "#fdca26"
             ],
             [
              1,
              "#f0f921"
             ]
            ],
            "type": "contour"
           }
          ],
          "contourcarpet": [
           {
            "colorbar": {
             "outlinewidth": 0,
             "ticks": ""
            },
            "type": "contourcarpet"
           }
          ],
          "heatmap": [
           {
            "colorbar": {
             "outlinewidth": 0,
             "ticks": ""
            },
            "colorscale": [
             [
              0,
              "#0d0887"
             ],
             [
              0.1111111111111111,
              "#46039f"
             ],
             [
              0.2222222222222222,
              "#7201a8"
             ],
             [
              0.3333333333333333,
              "#9c179e"
             ],
             [
              0.4444444444444444,
              "#bd3786"
             ],
             [
              0.5555555555555556,
              "#d8576b"
             ],
             [
              0.6666666666666666,
              "#ed7953"
             ],
             [
              0.7777777777777778,
              "#fb9f3a"
             ],
             [
              0.8888888888888888,
              "#fdca26"
             ],
             [
              1,
              "#f0f921"
             ]
            ],
            "type": "heatmap"
           }
          ],
          "heatmapgl": [
           {
            "colorbar": {
             "outlinewidth": 0,
             "ticks": ""
            },
            "colorscale": [
             [
              0,
              "#0d0887"
             ],
             [
              0.1111111111111111,
              "#46039f"
             ],
             [
              0.2222222222222222,
              "#7201a8"
             ],
             [
              0.3333333333333333,
              "#9c179e"
             ],
             [
              0.4444444444444444,
              "#bd3786"
             ],
             [
              0.5555555555555556,
              "#d8576b"
             ],
             [
              0.6666666666666666,
              "#ed7953"
             ],
             [
              0.7777777777777778,
              "#fb9f3a"
             ],
             [
              0.8888888888888888,
              "#fdca26"
             ],
             [
              1,
              "#f0f921"
             ]
            ],
            "type": "heatmapgl"
           }
          ],
          "histogram": [
           {
            "marker": {
             "pattern": {
              "fillmode": "overlay",
              "size": 10,
              "solidity": 0.2
             }
            },
            "type": "histogram"
           }
          ],
          "histogram2d": [
           {
            "colorbar": {
             "outlinewidth": 0,
             "ticks": ""
            },
            "colorscale": [
             [
              0,
              "#0d0887"
             ],
             [
              0.1111111111111111,
              "#46039f"
             ],
             [
              0.2222222222222222,
              "#7201a8"
             ],
             [
              0.3333333333333333,
              "#9c179e"
             ],
             [
              0.4444444444444444,
              "#bd3786"
             ],
             [
              0.5555555555555556,
              "#d8576b"
             ],
             [
              0.6666666666666666,
              "#ed7953"
             ],
             [
              0.7777777777777778,
              "#fb9f3a"
             ],
             [
              0.8888888888888888,
              "#fdca26"
             ],
             [
              1,
              "#f0f921"
             ]
            ],
            "type": "histogram2d"
           }
          ],
          "histogram2dcontour": [
           {
            "colorbar": {
             "outlinewidth": 0,
             "ticks": ""
            },
            "colorscale": [
             [
              0,
              "#0d0887"
             ],
             [
              0.1111111111111111,
              "#46039f"
             ],
             [
              0.2222222222222222,
              "#7201a8"
             ],
             [
              0.3333333333333333,
              "#9c179e"
             ],
             [
              0.4444444444444444,
              "#bd3786"
             ],
             [
              0.5555555555555556,
              "#d8576b"
             ],
             [
              0.6666666666666666,
              "#ed7953"
             ],
             [
              0.7777777777777778,
              "#fb9f3a"
             ],
             [
              0.8888888888888888,
              "#fdca26"
             ],
             [
              1,
              "#f0f921"
             ]
            ],
            "type": "histogram2dcontour"
           }
          ],
          "mesh3d": [
           {
            "colorbar": {
             "outlinewidth": 0,
             "ticks": ""
            },
            "type": "mesh3d"
           }
          ],
          "parcoords": [
           {
            "line": {
             "colorbar": {
              "outlinewidth": 0,
              "ticks": ""
             }
            },
            "type": "parcoords"
           }
          ],
          "pie": [
           {
            "automargin": true,
            "type": "pie"
           }
          ],
          "scatter": [
           {
            "fillpattern": {
             "fillmode": "overlay",
             "size": 10,
             "solidity": 0.2
            },
            "type": "scatter"
           }
          ],
          "scatter3d": [
           {
            "line": {
             "colorbar": {
              "outlinewidth": 0,
              "ticks": ""
             }
            },
            "marker": {
             "colorbar": {
              "outlinewidth": 0,
              "ticks": ""
             }
            },
            "type": "scatter3d"
           }
          ],
          "scattercarpet": [
           {
            "marker": {
             "colorbar": {
              "outlinewidth": 0,
              "ticks": ""
             }
            },
            "type": "scattercarpet"
           }
          ],
          "scattergeo": [
           {
            "marker": {
             "colorbar": {
              "outlinewidth": 0,
              "ticks": ""
             }
            },
            "type": "scattergeo"
           }
          ],
          "scattergl": [
           {
            "marker": {
             "colorbar": {
              "outlinewidth": 0,
              "ticks": ""
             }
            },
            "type": "scattergl"
           }
          ],
          "scattermapbox": [
           {
            "marker": {
             "colorbar": {
              "outlinewidth": 0,
              "ticks": ""
             }
            },
            "type": "scattermapbox"
           }
          ],
          "scatterpolar": [
           {
            "marker": {
             "colorbar": {
              "outlinewidth": 0,
              "ticks": ""
             }
            },
            "type": "scatterpolar"
           }
          ],
          "scatterpolargl": [
           {
            "marker": {
             "colorbar": {
              "outlinewidth": 0,
              "ticks": ""
             }
            },
            "type": "scatterpolargl"
           }
          ],
          "scatterternary": [
           {
            "marker": {
             "colorbar": {
              "outlinewidth": 0,
              "ticks": ""
             }
            },
            "type": "scatterternary"
           }
          ],
          "surface": [
           {
            "colorbar": {
             "outlinewidth": 0,
             "ticks": ""
            },
            "colorscale": [
             [
              0,
              "#0d0887"
             ],
             [
              0.1111111111111111,
              "#46039f"
             ],
             [
              0.2222222222222222,
              "#7201a8"
             ],
             [
              0.3333333333333333,
              "#9c179e"
             ],
             [
              0.4444444444444444,
              "#bd3786"
             ],
             [
              0.5555555555555556,
              "#d8576b"
             ],
             [
              0.6666666666666666,
              "#ed7953"
             ],
             [
              0.7777777777777778,
              "#fb9f3a"
             ],
             [
              0.8888888888888888,
              "#fdca26"
             ],
             [
              1,
              "#f0f921"
             ]
            ],
            "type": "surface"
           }
          ],
          "table": [
           {
            "cells": {
             "fill": {
              "color": "#EBF0F8"
             },
             "line": {
              "color": "white"
             }
            },
            "header": {
             "fill": {
              "color": "#C8D4E3"
             },
             "line": {
              "color": "white"
             }
            },
            "type": "table"
           }
          ]
         },
         "layout": {
          "annotationdefaults": {
           "arrowcolor": "#2a3f5f",
           "arrowhead": 0,
           "arrowwidth": 1
          },
          "autotypenumbers": "strict",
          "coloraxis": {
           "colorbar": {
            "outlinewidth": 0,
            "ticks": ""
           }
          },
          "colorscale": {
           "diverging": [
            [
             0,
             "#8e0152"
            ],
            [
             0.1,
             "#c51b7d"
            ],
            [
             0.2,
             "#de77ae"
            ],
            [
             0.3,
             "#f1b6da"
            ],
            [
             0.4,
             "#fde0ef"
            ],
            [
             0.5,
             "#f7f7f7"
            ],
            [
             0.6,
             "#e6f5d0"
            ],
            [
             0.7,
             "#b8e186"
            ],
            [
             0.8,
             "#7fbc41"
            ],
            [
             0.9,
             "#4d9221"
            ],
            [
             1,
             "#276419"
            ]
           ],
           "sequential": [
            [
             0,
             "#0d0887"
            ],
            [
             0.1111111111111111,
             "#46039f"
            ],
            [
             0.2222222222222222,
             "#7201a8"
            ],
            [
             0.3333333333333333,
             "#9c179e"
            ],
            [
             0.4444444444444444,
             "#bd3786"
            ],
            [
             0.5555555555555556,
             "#d8576b"
            ],
            [
             0.6666666666666666,
             "#ed7953"
            ],
            [
             0.7777777777777778,
             "#fb9f3a"
            ],
            [
             0.8888888888888888,
             "#fdca26"
            ],
            [
             1,
             "#f0f921"
            ]
           ],
           "sequentialminus": [
            [
             0,
             "#0d0887"
            ],
            [
             0.1111111111111111,
             "#46039f"
            ],
            [
             0.2222222222222222,
             "#7201a8"
            ],
            [
             0.3333333333333333,
             "#9c179e"
            ],
            [
             0.4444444444444444,
             "#bd3786"
            ],
            [
             0.5555555555555556,
             "#d8576b"
            ],
            [
             0.6666666666666666,
             "#ed7953"
            ],
            [
             0.7777777777777778,
             "#fb9f3a"
            ],
            [
             0.8888888888888888,
             "#fdca26"
            ],
            [
             1,
             "#f0f921"
            ]
           ]
          },
          "colorway": [
           "#636efa",
           "#EF553B",
           "#00cc96",
           "#ab63fa",
           "#FFA15A",
           "#19d3f3",
           "#FF6692",
           "#B6E880",
           "#FF97FF",
           "#FECB52"
          ],
          "font": {
           "color": "#2a3f5f"
          },
          "geo": {
           "bgcolor": "white",
           "lakecolor": "white",
           "landcolor": "#E5ECF6",
           "showlakes": true,
           "showland": true,
           "subunitcolor": "white"
          },
          "hoverlabel": {
           "align": "left"
          },
          "hovermode": "closest",
          "mapbox": {
           "style": "light"
          },
          "paper_bgcolor": "white",
          "plot_bgcolor": "#E5ECF6",
          "polar": {
           "angularaxis": {
            "gridcolor": "white",
            "linecolor": "white",
            "ticks": ""
           },
           "bgcolor": "#E5ECF6",
           "radialaxis": {
            "gridcolor": "white",
            "linecolor": "white",
            "ticks": ""
           }
          },
          "scene": {
           "xaxis": {
            "backgroundcolor": "#E5ECF6",
            "gridcolor": "white",
            "gridwidth": 2,
            "linecolor": "white",
            "showbackground": true,
            "ticks": "",
            "zerolinecolor": "white"
           },
           "yaxis": {
            "backgroundcolor": "#E5ECF6",
            "gridcolor": "white",
            "gridwidth": 2,
            "linecolor": "white",
            "showbackground": true,
            "ticks": "",
            "zerolinecolor": "white"
           },
           "zaxis": {
            "backgroundcolor": "#E5ECF6",
            "gridcolor": "white",
            "gridwidth": 2,
            "linecolor": "white",
            "showbackground": true,
            "ticks": "",
            "zerolinecolor": "white"
           }
          },
          "shapedefaults": {
           "line": {
            "color": "#2a3f5f"
           }
          },
          "ternary": {
           "aaxis": {
            "gridcolor": "white",
            "linecolor": "white",
            "ticks": ""
           },
           "baxis": {
            "gridcolor": "white",
            "linecolor": "white",
            "ticks": ""
           },
           "bgcolor": "#E5ECF6",
           "caxis": {
            "gridcolor": "white",
            "linecolor": "white",
            "ticks": ""
           }
          },
          "title": {
           "x": 0.05
          },
          "xaxis": {
           "automargin": true,
           "gridcolor": "white",
           "linecolor": "white",
           "ticks": "",
           "title": {
            "standoff": 15
           },
           "zerolinecolor": "white",
           "zerolinewidth": 2
          },
          "yaxis": {
           "automargin": true,
           "gridcolor": "white",
           "linecolor": "white",
           "ticks": "",
           "title": {
            "standoff": 15
           },
           "zerolinecolor": "white",
           "zerolinewidth": 2
          }
         }
        },
        "width": 500,
        "xaxis": {
         "autorange": false,
         "domain": [
          0,
          1
         ],
         "exponentformat": "e",
         "linecolor": "black",
         "linewidth": 1,
         "mirror": false,
         "range": [
          -1.506560734924279e-05,
          0.00031119548153583313
         ],
         "showexponent": "all",
         "showline": true,
         "side": "bottom",
         "ticks": "outside",
         "title": {
          "text": "Birth"
         },
         "type": "linear",
         "zeroline": true
        },
        "yaxis": {
         "autorange": false,
         "domain": [
          0,
          1
         ],
         "exponentformat": "e",
         "linecolor": "black",
         "linewidth": 1,
         "mirror": false,
         "range": [
          -1.0122257517650754e-05,
          0.00030625213170424107
         ],
         "scaleanchor": "x",
         "scaleratio": 1,
         "showexponent": "all",
         "showline": true,
         "side": "left",
         "ticks": "outside",
         "title": {
          "text": "Death"
         },
         "type": "linear",
         "zeroline": true
        }
       }
      },
      "image/png": "[encoded data removed]",
      "text/html": [
       "<div>                            <div id=\"62342bcb-fd25-4d60-8967-7c3977762a7e\" class=\"plotly-graph-div\" style=\"height:500px; width:500px;\"></div>            <script type=\"text/javascript\">                require([\"plotly\"], function(Plotly) {                    window.PLOTLYENV=window.PLOTLYENV || {};                                    if (document.getElementById(\"62342bcb-fd25-4d60-8967-7c3977762a7e\")) {                    Plotly.newPlot(                        \"62342bcb-fd25-4d60-8967-7c3977762a7e\",                        [{\"hoverinfo\":\"none\",\"line\":{\"color\":\"black\",\"dash\":\"dash\",\"width\":1},\"mode\":\"lines\",\"showlegend\":false,\"x\":[-5.922597483731806e-06,0.00030205247167032213],\"y\":[-5.922597483731806e-06,0.00030205247167032213],\"type\":\"scatter\"},{\"hoverinfo\":\"text\",\"hovertext\":[\"(0.0, 3.070727325393818e-05)\",\"(0.0, 3.241885860916227e-05)\",\"(0.0, 3.9406062569469213e-05)\",\"(0.0, 4.225661905365996e-05)\",\"(0.0, 4.2609030060702935e-05)\",\"(0.0, 4.498989073908888e-05)\",\"(0.0, 4.547478602034971e-05)\",\"(0.0, 4.9320438847644255e-05)\",\"(0.0, 5.070607949164696e-05)\",\"(0.0, 5.1892417104681954e-05)\",\"(0.0, 5.461245382321067e-05)\",\"(0.0, 5.470372343552299e-05)\",\"(0.0, 5.528483961825259e-05)\",\"(0.0, 5.598771167569794e-05)\",\"(0.0, 5.676748332916759e-05)\",\"(0.0, 5.6947392295114696e-05)\",\"(0.0, 5.792947195004672e-05)\",\"(0.0, 5.879594027646817e-05)\",\"(0.0, 5.893833076697774e-05)\",\"(0.0, 5.9425241488497704e-05)\",\"(0.0, 6.080760795157403e-05)\",\"(0.0, 6.134127761470154e-05)\",\"(0.0, 6.1491817177739e-05)\",\"(0.0, 6.20837599853985e-05)\",\"(0.0, 6.238070636754856e-05)\",\"(0.0, 6.254120671655983e-05)\",\"(0.0, 6.269269215408713e-05)\",\"(0.0, 6.287471478572115e-05)\",\"(0.0, 6.469384970841929e-05)\",\"(0.0, 6.50915244477801e-05)\",\"(0.0, 6.544960342580453e-05)\",\"(0.0, 6.5825050114654e-05)\",\"(0.0, 6.582886999240145e-05)\",\"(0.0, 6.661585939582437e-05)\",\"(0.0, 6.698297511320561e-05)\",\"(0.0, 6.72122769174166e-05)\",\"(0.0, 6.733420013915747e-05)\",\"(0.0, 6.906128692207858e-05)\",\"(0.0, 6.908680370543152e-05)\",\"(0.0, 6.915602716617286e-05)\",\"(0.0, 6.955129356356338e-05)\",\"(0.0, 6.963796477066353e-05)\",\"(0.0, 7.051463762763888e-05)\",\"(0.0, 7.068771810736507e-05)\",\"(0.0, 7.087864651111886e-05)\",\"(0.0, 7.105489203240722e-05)\",\"(0.0, 7.151581667130813e-05)\",\"(0.0, 7.179463136708364e-05)\",\"(0.0, 7.203907443908975e-05)\",\"(0.0, 7.24836572771892e-05)\",\"(0.0, 7.272216316778213e-05)\",\"(0.0, 7.392585393972695e-05)\",\"(0.0, 7.481767534045503e-05)\",\"(0.0, 7.55948422010988e-05)\",\"(0.0, 7.573715993203223e-05)\",\"(0.0, 7.724919851170853e-05)\",\"(0.0, 7.788398215780035e-05)\",\"(0.0, 7.806146459188312e-05)\",\"(0.0, 7.853502029320225e-05)\",\"(0.0, 7.8938617662061e-05)\",\"(0.0, 7.913615991128609e-05)\",\"(0.0, 7.919569179648533e-05)\",\"(0.0, 7.988843572093174e-05)\",\"(0.0, 8.028568117879331e-05)\",\"(0.0, 8.03009097580798e-05)\",\"(0.0, 8.059188985498622e-05)\",\"(0.0, 8.080082625383511e-05)\",\"(0.0, 8.083450666163117e-05)\",\"(0.0, 8.135575626511127e-05)\",\"(0.0, 8.139849524013698e-05)\",\"(0.0, 8.201432501664385e-05)\",\"(0.0, 8.238749433076009e-05)\",\"(0.0, 8.246998186223209e-05)\",\"(0.0, 8.27569529064931e-05)\",\"(0.0, 8.305376104544848e-05)\",\"(0.0, 8.34949896670878e-05)\",\"(0.0, 8.369667921215296e-05)\",\"(0.0, 8.370942668989301e-05)\",\"(0.0, 8.513400825904682e-05)\",\"(0.0, 8.521355630364269e-05)\",\"(0.0, 8.526068995706737e-05)\",\"(0.0, 8.548767073079944e-05)\",\"(0.0, 8.569026977056637e-05)\",\"(0.0, 8.576678374083713e-05)\",\"(0.0, 8.601335139246657e-05)\",\"(0.0, 8.678324957145378e-05)\",\"(0.0, 8.690379763720557e-05)\",\"(0.0, 8.727955719223246e-05)\",\"(0.0, 8.756857278058305e-05)\",\"(0.0, 8.791789878159761e-05)\",\"(0.0, 8.811994484858587e-05)\",\"(0.0, 8.81776213645935e-05)\",\"(0.0, 8.866436837706715e-05)\",\"(0.0, 9.001376020023599e-05)\",\"(0.0, 9.050785592989996e-05)\",\"(0.0, 9.083082841243595e-05)\",\"(0.0, 9.233401215169579e-05)\",\"(0.0, 9.239607607014477e-05)\",\"(0.0, 9.25408021430485e-05)\",\"(0.0, 9.326917643193156e-05)\",\"(0.0, 9.402685827808455e-05)\",\"(0.0, 9.415825479663908e-05)\",\"(0.0, 9.43602790357545e-05)\",\"(0.0, 9.532702097203583e-05)\",\"(0.0, 9.58376404014416e-05)\",\"(0.0, 9.592481364961714e-05)\",\"(0.0, 9.664170647738501e-05)\",\"(0.0, 9.693917672848329e-05)\",\"(0.0, 9.807896276470274e-05)\",\"(0.0, 9.835782111622393e-05)\",\"(0.0, 9.883265011012554e-05)\",\"(0.0, 9.942131146090105e-05)\",\"(0.0, 9.970916289603338e-05)\",\"(0.0, 0.00010008645040215924)\",\"(0.0, 0.00010078195191454142)\",\"(0.0, 0.00010106581612490118)\",\"(0.0, 0.00010158406803384423)\",\"(0.0, 0.0001018062248476781)\",\"(0.0, 0.00010182648111367598)\",\"(0.0, 0.00010353287507314235)\",\"(0.0, 0.00010573652252787724)\",\"(0.0, 0.00010609621676849201)\",\"(0.0, 0.00010621493856888264)\",\"(0.0, 0.00010653025674400851)\",\"(0.0, 0.0001065958640538156)\",\"(0.0, 0.00010671999189071357)\",\"(0.0, 0.00010845111683011055)\",\"(0.0, 0.00010933903104159981)\",\"(0.0, 0.00011050870671169832)\",\"(0.0, 0.00011051099136238918)\",\"(0.0, 0.0001113854959839955)\",\"(0.0, 0.00011157041444675997)\",\"(0.0, 0.00011421692761359736)\",\"(0.0, 0.00011432637984398752)\",\"(0.0, 0.00011488252494018525)\",\"(0.0, 0.00011739561159629375)\",\"(0.0, 0.000119769036245998)\",\"(0.0, 0.00012131567928008735)\",\"(0.0, 0.0001222865394083783)\",\"(0.0, 0.00012364296708256006)\",\"(0.0, 0.00012514088302850723)\",\"(0.0, 0.0001259401033166796)\",\"(0.0, 0.0001259525743080303)\",\"(0.0, 0.0001264587335754186)\",\"(0.0, 0.00012701566447503865)\",\"(0.0, 0.00012767230509780347)\",\"(0.0, 0.00012847752077504992)\",\"(0.0, 0.0001289845531573519)\",\"(0.0, 0.00012954571866430342)\",\"(0.0, 0.00013000145554542542)\",\"(0.0, 0.00013036660675425082)\",\"(0.0, 0.00013183096598368138)\",\"(0.0, 0.00013323055463843048)\",\"(0.0, 0.00013387274520937353)\",\"(0.0, 0.00013603325351141393)\",\"(0.0, 0.00013675104128196836)\",\"(0.0, 0.0001379595196340233)\",\"(0.0, 0.00013798846339341253)\",\"(0.0, 0.0001388536620652303)\",\"(0.0, 0.00013978051720187068)\",\"(0.0, 0.00014198542339727283)\",\"(0.0, 0.0001421841880073771)\",\"(0.0, 0.00014255622227210552)\",\"(0.0, 0.00014527156599797308)\",\"(0.0, 0.000146945720189251)\",\"(0.0, 0.00014718936290591955)\",\"(0.0, 0.00014926199219189584)\",\"(0.0, 0.00014993765216786414)\",\"(0.0, 0.00015256267215590924)\",\"(0.0, 0.00015412211359944195)\",\"(0.0, 0.00015515543054789305)\",\"(0.0, 0.00015675838221795857)\",\"(0.0, 0.00015739852096885443)\",\"(0.0, 0.0001574302150402218)\",\"(0.0, 0.0001591068139532581)\",\"(0.0, 0.00015925725165288895)\",\"(0.0, 0.00016110690194182098)\",\"(0.0, 0.0001616857771296054)\",\"(0.0, 0.00016505733947269619)\",\"(0.0, 0.0001690541539574042)\",\"(0.0, 0.00017549959011375904)\",\"(0.0, 0.00017692001711111516)\",\"(0.0, 0.00017808897246140987)\",\"(0.0, 0.00018692405137699097)\",\"(0.0, 0.0001916142791742459)\",\"(0.0, 0.00020611652871593833)\",\"(0.0, 0.00020691158715635538)\",\"(0.0, 0.00021617348829749972)\",\"(0.0, 0.0002961298741865903)\"],\"mode\":\"markers\",\"name\":\"H0\",\"x\":[0.0,0.0,0.0,0.0,0.0,0.0,0.0,0.0,0.0,0.0,0.0,0.0,0.0,0.0,0.0,0.0,0.0,0.0,0.0,0.0,0.0,0.0,0.0,0.0,0.0,0.0,0.0,0.0,0.0,0.0,0.0,0.0,0.0,0.0,0.0,0.0,0.0,0.0,0.0,0.0,0.0,0.0,0.0,0.0,0.0,0.0,0.0,0.0,0.0,0.0,0.0,0.0,0.0,0.0,0.0,0.0,0.0,0.0,0.0,0.0,0.0,0.0,0.0,0.0,0.0,0.0,0.0,0.0,0.0,0.0,0.0,0.0,0.0,0.0,0.0,0.0,0.0,0.0,0.0,0.0,0.0,0.0,0.0,0.0,0.0,0.0,0.0,0.0,0.0,0.0,0.0,0.0,0.0,0.0,0.0,0.0,0.0,0.0,0.0,0.0,0.0,0.0,0.0,0.0,0.0,0.0,0.0,0.0,0.0,0.0,0.0,0.0,0.0,0.0,0.0,0.0,0.0,0.0,0.0,0.0,0.0,0.0,0.0,0.0,0.0,0.0,0.0,0.0,0.0,0.0,0.0,0.0,0.0,0.0,0.0,0.0,0.0,0.0,0.0,0.0,0.0,0.0,0.0,0.0,0.0,0.0,0.0,0.0,0.0,0.0,0.0,0.0,0.0,0.0,0.0,0.0,0.0,0.0,0.0,0.0,0.0,0.0,0.0,0.0,0.0,0.0,0.0,0.0,0.0,0.0,0.0,0.0,0.0,0.0,0.0,0.0,0.0,0.0,0.0,0.0,0.0,0.0,0.0,0.0,0.0,0.0,0.0,0.0,0.0],\"y\":[3.070727325393818e-05,3.241885860916227e-05,3.9406062569469213e-05,4.225661905365996e-05,4.2609030060702935e-05,4.498989073908888e-05,4.547478602034971e-05,4.9320438847644255e-05,5.070607949164696e-05,5.1892417104681954e-05,5.461245382321067e-05,5.470372343552299e-05,5.528483961825259e-05,5.598771167569794e-05,5.676748332916759e-05,5.6947392295114696e-05,5.792947195004672e-05,5.879594027646817e-05,5.893833076697774e-05,5.9425241488497704e-05,6.080760795157403e-05,6.134127761470154e-05,6.1491817177739e-05,6.20837599853985e-05,6.238070636754856e-05,6.254120671655983e-05,6.269269215408713e-05,6.287471478572115e-05,6.469384970841929e-05,6.50915244477801e-05,6.544960342580453e-05,6.5825050114654e-05,6.582886999240145e-05,6.661585939582437e-05,6.698297511320561e-05,6.72122769174166e-05,6.733420013915747e-05,6.906128692207858e-05,6.908680370543152e-05,6.915602716617286e-05,6.955129356356338e-05,6.963796477066353e-05,7.051463762763888e-05,7.068771810736507e-05,7.087864651111886e-05,7.105489203240722e-05,7.151581667130813e-05,7.179463136708364e-05,7.203907443908975e-05,7.24836572771892e-05,7.272216316778213e-05,7.392585393972695e-05,7.481767534045503e-05,7.55948422010988e-05,7.573715993203223e-05,7.724919851170853e-05,7.788398215780035e-05,7.806146459188312e-05,7.853502029320225e-05,7.8938617662061e-05,7.913615991128609e-05,7.919569179648533e-05,7.988843572093174e-05,8.028568117879331e-05,8.03009097580798e-05,8.059188985498622e-05,8.080082625383511e-05,8.083450666163117e-05,8.135575626511127e-05,8.139849524013698e-05,8.201432501664385e-05,8.238749433076009e-05,8.246998186223209e-05,8.27569529064931e-05,8.305376104544848e-05,8.34949896670878e-05,8.369667921215296e-05,8.370942668989301e-05,8.513400825904682e-05,8.521355630364269e-05,8.526068995706737e-05,8.548767073079944e-05,8.569026977056637e-05,8.576678374083713e-05,8.601335139246657e-05,8.678324957145378e-05,8.690379763720557e-05,8.727955719223246e-05,8.756857278058305e-05,8.791789878159761e-05,8.811994484858587e-05,8.81776213645935e-05,8.866436837706715e-05,9.001376020023599e-05,9.050785592989996e-05,9.083082841243595e-05,9.233401215169579e-05,9.239607607014477e-05,9.25408021430485e-05,9.326917643193156e-05,9.402685827808455e-05,9.415825479663908e-05,9.43602790357545e-05,9.532702097203583e-05,9.58376404014416e-05,9.592481364961714e-05,9.664170647738501e-05,9.693917672848329e-05,9.807896276470274e-05,9.835782111622393e-05,9.883265011012554e-05,9.942131146090105e-05,9.970916289603338e-05,0.00010008645040215924,0.00010078195191454142,0.00010106581612490118,0.00010158406803384423,0.0001018062248476781,0.00010182648111367598,0.00010353287507314235,0.00010573652252787724,0.00010609621676849201,0.00010621493856888264,0.00010653025674400851,0.0001065958640538156,0.00010671999189071357,0.00010845111683011055,0.00010933903104159981,0.00011050870671169832,0.00011051099136238918,0.0001113854959839955,0.00011157041444675997,0.00011421692761359736,0.00011432637984398752,0.00011488252494018525,0.00011739561159629375,0.000119769036245998,0.00012131567928008735,0.0001222865394083783,0.00012364296708256006,0.00012514088302850723,0.0001259401033166796,0.0001259525743080303,0.0001264587335754186,0.00012701566447503865,0.00012767230509780347,0.00012847752077504992,0.0001289845531573519,0.00012954571866430342,0.00013000145554542542,0.00013036660675425082,0.00013183096598368138,0.00013323055463843048,0.00013387274520937353,0.00013603325351141393,0.00013675104128196836,0.0001379595196340233,0.00013798846339341253,0.0001388536620652303,0.00013978051720187068,0.00014198542339727283,0.0001421841880073771,0.00014255622227210552,0.00014527156599797308,0.000146945720189251,0.00014718936290591955,0.00014926199219189584,0.00014993765216786414,0.00015256267215590924,0.00015412211359944195,0.00015515543054789305,0.00015675838221795857,0.00015739852096885443,0.0001574302150402218,0.0001591068139532581,0.00015925725165288895,0.00016110690194182098,0.0001616857771296054,0.00016505733947269619,0.0001690541539574042,0.00017549959011375904,0.00017692001711111516,0.00017808897246140987,0.00018692405137699097,0.0001916142791742459,0.00020611652871593833,0.00020691158715635538,0.00021617348829749972,0.0002961298741865903],\"type\":\"scatter\"},{\"hoverinfo\":\"text\",\"hovertext\":[\"(0.00025750804343260825, 0.00026392668951302767)\",\"(0.0002144728205166757, 0.00022860067838337272)\",\"(0.00020846741972491145, 0.00020869933359790593)\",\"(0.00020239042351022363, 0.00020344807126093656)\",\"(0.00019121143850497901, 0.000197767440113239)\",\"(0.00018663726223167032, 0.00020032416796311736)\",\"(0.0001806078216759488, 0.00020590201893355697)\",\"(0.00018020195420831442, 0.00019020574109163135)\",\"(0.00017928447050508112, 0.00021539791487157345)\",\"(0.0001635699882172048, 0.00017092196503654122)\",\"(0.00016321764269378036, 0.00018155276484321803)\",\"(0.00016287136531900615, 0.0001801969629013911)\",\"(0.0001627897727303207, 0.00016457379388157278)\",\"(0.0001600113173481077, 0.00016657079686410725)\",\"(0.00015872195945121348, 0.00018678593914955854)\",\"(0.00015802800771780312, 0.000159647868713364)\",\"(0.00015038749552331865, 0.00015537570288870484)\",\"(0.00014832582382950932, 0.0001649807527428493)\",\"(0.00014796310279052705, 0.0001576725480845198)\",\"(0.00014497939264401793, 0.00015169788093771785)\",\"(0.00014419812941923738, 0.00015890711802057922)\",\"(0.00014287930389400572, 0.00015541953325737268)\",\"(0.00014267596998251975, 0.00014487115549854934)\",\"(0.00013940279313828796, 0.00014566050958819687)\",\"(0.00013906344247516245, 0.00016572323511354625)\",\"(0.0001372818514937535, 0.00013870088150724769)\",\"(0.00013655947986990213, 0.00015369303582701832)\",\"(0.00013576359197031707, 0.0001468748669140041)\",\"(0.0001351051905658096, 0.00015062843158375472)\",\"(0.00013426334771793336, 0.00013426835357677191)\",\"(0.00013399316230788827, 0.00013922409561928362)\",\"(0.0001335046108579263, 0.00013510473945643753)\",\"(0.00013348754146136343, 0.0001378308079438284)\",\"(0.00013315222167875618, 0.00013736734399572015)\",\"(0.00013305239554028958, 0.00014217440912034363)\",\"(0.0001314593100687489, 0.0001422891509719193)\",\"(0.00012950942618772388, 0.00013762385060545057)\",\"(0.00012785203580278903, 0.00013870088150724769)\",\"(0.00012725354463327676, 0.0001313008542638272)\",\"(0.00012683898967225105, 0.0001341030147159472)\",\"(0.00012608504039235413, 0.00014433286560233682)\",\"(0.00012467082706280053, 0.00013529934221878648)\",\"(0.0001224566512973979, 0.00012337090447545052)\",\"(0.00012238280032761395, 0.0001227287866640836)\",\"(0.00012119829625589773, 0.00013811563258059323)\",\"(0.00011975372035522014, 0.00013585267879534513)\",\"(0.00011928818275919184, 0.00012922476162202656)\",\"(0.00011827203707071021, 0.00011913336493307725)\",\"(0.00011773904407164082, 0.00012101154425181448)\",\"(0.00011767332762246951, 0.00012600055197253823)\",\"(0.00011738774628611282, 0.0001305679907090962)\",\"(0.00011638262367341667, 0.00012612658611033112)\",\"(0.00011576979886740446, 0.00011776215978898108)\",\"(0.00011474517668830231, 0.00012974467244930565)\",\"(0.00011322539648972452, 0.00012338714441284537)\",\"(0.0001131665994762443, 0.00014172268856782466)\",\"(0.0001129136944655329, 0.0001222272840095684)\",\"(0.00011257514415774494, 0.00011484587594168261)\",\"(0.00011236893624300137, 0.0001222272840095684)\",\"(0.00011222723696846515, 0.00011378491035429761)\",\"(0.00011196031846338883, 0.00011507151066325605)\",\"(0.00011189635552000254, 0.00013137316273059696)\",\"(0.00011174600513186306, 0.00012366003647912294)\",\"(0.00011063159035984427, 0.0001141865795943886)\",\"(0.00010918328916886821, 0.00011318683391436934)\",\"(0.00010631921031745151, 0.00011938123498111963)\",\"(0.00010608298907754943, 0.00011437368084443733)\",\"(0.00010531981388339773, 0.00013386127830017358)\",\"(0.00010395004937890917, 0.00010565789852989838)\",\"(0.00010367188951931894, 0.00011776552128139883)\",\"(0.00010328528878744692, 0.0001107766292989254)\",\"(0.00010317633132217452, 0.00010424242645967752)\",\"(0.0001029325503623113, 0.00010665895388228819)\",\"(0.00010226070298813283, 0.00010442620987305418)\",\"(0.00010055288294097409, 0.00012320926180109382)\",\"(9.923490870278329e-05, 0.00011607475607888773)\",\"(9.873395902104676e-05, 0.00011128091136924922)\",\"(9.828989277593791e-05, 0.00011483168054837734)\",\"(9.825474990066141e-05, 0.00011147686745971441)\",\"(9.767674055183306e-05, 0.00010665895388228819)\",\"(9.705378033686429e-05, 0.00010621178080327809)\",\"(9.622562356526032e-05, 0.0001020274285110645)\",\"(9.55495415837504e-05, 0.00011860959784826264)\",\"(9.540284372633323e-05, 9.621066419640556e-05)\",\"(9.484057954978198e-05, 9.890069486573339e-05)\",\"(9.464882896281779e-05, 9.621066419640556e-05)\",\"(9.46315994951874e-05, 9.471835801377892e-05)\",\"(9.423667506780475e-05, 0.00010427911183796823)\",\"(9.371310443384573e-05, 0.00010020392073784024)\",\"(9.309878805652261e-05, 0.00011147686745971441)\",\"(9.240827057510614e-05, 0.00010761483281385154)\",\"(9.218193736160174e-05, 0.0001126292409026064)\",\"(9.191474237013608e-05, 9.997856250265613e-05)\",\"(9.131800470640883e-05, 0.0001101971574826166)\",\"(9.105051140068099e-05, 0.00010489174019312486)\",\"(9.053633402800187e-05, 0.00011205250484636053)\",\"(8.995285315904766e-05, 9.044834587257355e-05)\",\"(8.959727711044252e-05, 9.713097097119316e-05)\",\"(8.938636165112257e-05, 0.00010105347610078752)\",\"(8.919727406464517e-05, 0.00011451146565377712)\",\"(8.833171159494668e-05, 0.0001304124016314745)\",\"(8.733711001696065e-05, 0.00010936030594166368)\",\"(8.678559970576316e-05, 0.00010449611727381125)\",\"(8.485055150231346e-05, 9.173412399832159e-05)\",\"(8.484334830427542e-05, 9.326043073087931e-05)\",\"(8.44273527036421e-05, 0.0001083777824533172)\",\"(8.439197699772194e-05, 9.031195077113807e-05)\",\"(8.42016379465349e-05, 0.00011483168054837734)\",\"(8.385728142457083e-05, 0.00011672503023874015)\",\"(8.20295317680575e-05, 9.403833246324211e-05)\",\"(8.188540959963575e-05, 0.0001069747595465742)\",\"(7.538849604316056e-05, 7.635357906110585e-05)\",\"(7.369368540821597e-05, 8.660149615025148e-05)\",\"(7.145945710362867e-05, 7.886247476562858e-05)\",\"(6.67582789901644e-05, 7.583716069348156e-05)\"],\"mode\":\"markers\",\"name\":\"H1\",\"x\":[0.00025750804343260825,0.0002144728205166757,0.00020846741972491145,0.00020239042351022363,0.00019121143850497901,0.00018663726223167032,0.0001806078216759488,0.00018020195420831442,0.00017928447050508112,0.0001635699882172048,0.00016321764269378036,0.00016287136531900615,0.0001627897727303207,0.0001600113173481077,0.00015872195945121348,0.00015802800771780312,0.00015038749552331865,0.00014832582382950932,0.00014796310279052705,0.00014497939264401793,0.00014419812941923738,0.00014287930389400572,0.00014267596998251975,0.00013940279313828796,0.00013906344247516245,0.0001372818514937535,0.00013655947986990213,0.00013576359197031707,0.0001351051905658096,0.00013426334771793336,0.00013399316230788827,0.0001335046108579263,0.00013348754146136343,0.00013315222167875618,0.00013305239554028958,0.0001314593100687489,0.00012950942618772388,0.00012785203580278903,0.00012725354463327676,0.00012683898967225105,0.00012608504039235413,0.00012467082706280053,0.0001224566512973979,0.00012238280032761395,0.00012119829625589773,0.00011975372035522014,0.00011928818275919184,0.00011827203707071021,0.00011773904407164082,0.00011767332762246951,0.00011738774628611282,0.00011638262367341667,0.00011576979886740446,0.00011474517668830231,0.00011322539648972452,0.0001131665994762443,0.0001129136944655329,0.00011257514415774494,0.00011236893624300137,0.00011222723696846515,0.00011196031846338883,0.00011189635552000254,0.00011174600513186306,0.00011063159035984427,0.00010918328916886821,0.00010631921031745151,0.00010608298907754943,0.00010531981388339773,0.00010395004937890917,0.00010367188951931894,0.00010328528878744692,0.00010317633132217452,0.0001029325503623113,0.00010226070298813283,0.00010055288294097409,9.923490870278329e-05,9.873395902104676e-05,9.828989277593791e-05,9.825474990066141e-05,9.767674055183306e-05,9.705378033686429e-05,9.622562356526032e-05,9.55495415837504e-05,9.540284372633323e-05,9.484057954978198e-05,9.464882896281779e-05,9.46315994951874e-05,9.423667506780475e-05,9.371310443384573e-05,9.309878805652261e-05,9.240827057510614e-05,9.218193736160174e-05,9.191474237013608e-05,9.131800470640883e-05,9.105051140068099e-05,9.053633402800187e-05,8.995285315904766e-05,8.959727711044252e-05,8.938636165112257e-05,8.919727406464517e-05,8.833171159494668e-05,8.733711001696065e-05,8.678559970576316e-05,8.485055150231346e-05,8.484334830427542e-05,8.44273527036421e-05,8.439197699772194e-05,8.42016379465349e-05,8.385728142457083e-05,8.20295317680575e-05,8.188540959963575e-05,7.538849604316056e-05,7.369368540821597e-05,7.145945710362867e-05,6.67582789901644e-05],\"y\":[0.00026392668951302767,0.00022860067838337272,0.00020869933359790593,0.00020344807126093656,0.000197767440113239,0.00020032416796311736,0.00020590201893355697,0.00019020574109163135,0.00021539791487157345,0.00017092196503654122,0.00018155276484321803,0.0001801969629013911,0.00016457379388157278,0.00016657079686410725,0.00018678593914955854,0.000159647868713364,0.00015537570288870484,0.0001649807527428493,0.0001576725480845198,0.00015169788093771785,0.00015890711802057922,0.00015541953325737268,0.00014487115549854934,0.00014566050958819687,0.00016572323511354625,0.00013870088150724769,0.00015369303582701832,0.0001468748669140041,0.00015062843158375472,0.00013426835357677191,0.00013922409561928362,0.00013510473945643753,0.0001378308079438284,0.00013736734399572015,0.00014217440912034363,0.0001422891509719193,0.00013762385060545057,0.00013870088150724769,0.0001313008542638272,0.0001341030147159472,0.00014433286560233682,0.00013529934221878648,0.00012337090447545052,0.0001227287866640836,0.00013811563258059323,0.00013585267879534513,0.00012922476162202656,0.00011913336493307725,0.00012101154425181448,0.00012600055197253823,0.0001305679907090962,0.00012612658611033112,0.00011776215978898108,0.00012974467244930565,0.00012338714441284537,0.00014172268856782466,0.0001222272840095684,0.00011484587594168261,0.0001222272840095684,0.00011378491035429761,0.00011507151066325605,0.00013137316273059696,0.00012366003647912294,0.0001141865795943886,0.00011318683391436934,0.00011938123498111963,0.00011437368084443733,0.00013386127830017358,0.00010565789852989838,0.00011776552128139883,0.0001107766292989254,0.00010424242645967752,0.00010665895388228819,0.00010442620987305418,0.00012320926180109382,0.00011607475607888773,0.00011128091136924922,0.00011483168054837734,0.00011147686745971441,0.00010665895388228819,0.00010621178080327809,0.0001020274285110645,0.00011860959784826264,9.621066419640556e-05,9.890069486573339e-05,9.621066419640556e-05,9.471835801377892e-05,0.00010427911183796823,0.00010020392073784024,0.00011147686745971441,0.00010761483281385154,0.0001126292409026064,9.997856250265613e-05,0.0001101971574826166,0.00010489174019312486,0.00011205250484636053,9.044834587257355e-05,9.713097097119316e-05,0.00010105347610078752,0.00011451146565377712,0.0001304124016314745,0.00010936030594166368,0.00010449611727381125,9.173412399832159e-05,9.326043073087931e-05,0.0001083777824533172,9.031195077113807e-05,0.00011483168054837734,0.00011672503023874015,9.403833246324211e-05,0.0001069747595465742,7.635357906110585e-05,8.660149615025148e-05,7.886247476562858e-05,7.583716069348156e-05],\"type\":\"scatter\"},{\"hoverinfo\":\"text\",\"hovertext\":[\"(0.0001919637288665399, 0.00019451894331723452)\",\"(0.00018861543503589928, 0.00019692073692567647)\",\"(0.00018408767937216908, 0.00019083126971963793)\",\"(0.00016884937940631062, 0.00017736118752509356)\",\"(0.0001683421724010259, 0.0001780819584382698)\",\"(0.00016807354404591024, 0.00017490782192908227)\",\"(0.00016791564121376723, 0.00017275285790674388)\",\"(0.00016611965838819742, 0.00017685351485852152)\",\"(0.0001621601259103045, 0.00016494476585648954)\",\"(0.00014980731066316366, 0.00015624753723386675)\",\"(0.00014400856161955744, 0.00014871192979626358)\",\"(0.00014362951333168894, 0.00015408880426548421)\",\"(0.00014230626402422786, 0.00014454274787567556)\",\"(0.0001402987545588985, 0.00015193327271845192)\",\"(0.00013858394231647253, 0.00014127971371635795)\",\"(0.00013666578161064535, 0.00013926155224908143)\",\"(0.00013567956921178848, 0.00013972268789075315)\",\"(0.00012772112677339464, 0.00013002064952161163)\",\"(0.0001275647955480963, 0.00012976805737707764)\",\"(0.000123265985166654, 0.00012459490972105414)\",\"(0.00012071329547325149, 0.00012739538215100765)\",\"(0.00012025784963043407, 0.00012370570038910955)\",\"(0.00011957654351135716, 0.00012037157284794375)\",\"(0.00011838807404274121, 0.00012473121751099825)\",\"(0.00011805039684986696, 0.00011924152204301208)\",\"(0.00011724167416105047, 0.00011991582869086415)\",\"(0.00011712685954989865, 0.00011895687930518761)\",\"(0.0001161266045528464, 0.00011659273877739906)\",\"(0.00011285802611382678, 0.0001134713675128296)\",\"(0.00011285059008514509, 0.00011950070620514452)\",\"(0.00011144878226332366, 0.0001216926975757815)\",\"(0.00010766118066385388, 0.00011157052358612418)\",\"(0.00010679232946131378, 0.00011020184319932014)\"],\"mode\":\"markers\",\"name\":\"H2\",\"x\":[0.0001919637288665399,0.00018861543503589928,0.00018408767937216908,0.00016884937940631062,0.0001683421724010259,0.00016807354404591024,0.00016791564121376723,0.00016611965838819742,0.0001621601259103045,0.00014980731066316366,0.00014400856161955744,0.00014362951333168894,0.00014230626402422786,0.0001402987545588985,0.00013858394231647253,0.00013666578161064535,0.00013567956921178848,0.00012772112677339464,0.0001275647955480963,0.000123265985166654,0.00012071329547325149,0.00012025784963043407,0.00011957654351135716,0.00011838807404274121,0.00011805039684986696,0.00011724167416105047,0.00011712685954989865,0.0001161266045528464,0.00011285802611382678,0.00011285059008514509,0.00011144878226332366,0.00010766118066385388,0.00010679232946131378],\"y\":[0.00019451894331723452,0.00019692073692567647,0.00019083126971963793,0.00017736118752509356,0.0001780819584382698,0.00017490782192908227,0.00017275285790674388,0.00017685351485852152,0.00016494476585648954,0.00015624753723386675,0.00014871192979626358,0.00015408880426548421,0.00014454274787567556,0.00015193327271845192,0.00014127971371635795,0.00013926155224908143,0.00013972268789075315,0.00013002064952161163,0.00012976805737707764,0.00012459490972105414,0.00012739538215100765,0.00012370570038910955,0.00012037157284794375,0.00012473121751099825,0.00011924152204301208,0.00011991582869086415,0.00011895687930518761,0.00011659273877739906,0.0001134713675128296,0.00011950070620514452,0.0001216926975757815,0.00011157052358612418,0.00011020184319932014],\"type\":\"scatter\"}],                        {\"template\":{\"data\":{\"histogram2dcontour\":[{\"type\":\"histogram2dcontour\",\"colorbar\":{\"outlinewidth\":0,\"ticks\":\"\"},\"colorscale\":[[0.0,\"#0d0887\"],[0.1111111111111111,\"#46039f\"],[0.2222222222222222,\"#7201a8\"],[0.3333333333333333,\"#9c179e\"],[0.4444444444444444,\"#bd3786\"],[0.5555555555555556,\"#d8576b\"],[0.6666666666666666,\"#ed7953\"],[0.7777777777777778,\"#fb9f3a\"],[0.8888888888888888,\"#fdca26\"],[1.0,\"#f0f921\"]]}],\"choropleth\":[{\"type\":\"choropleth\",\"colorbar\":{\"outlinewidth\":0,\"ticks\":\"\"}}],\"histogram2d\":[{\"type\":\"histogram2d\",\"colorbar\":{\"outlinewidth\":0,\"ticks\":\"\"},\"colorscale\":[[0.0,\"#0d0887\"],[0.1111111111111111,\"#46039f\"],[0.2222222222222222,\"#7201a8\"],[0.3333333333333333,\"#9c179e\"],[0.4444444444444444,\"#bd3786\"],[0.5555555555555556,\"#d8576b\"],[0.6666666666666666,\"#ed7953\"],[0.7777777777777778,\"#fb9f3a\"],[0.8888888888888888,\"#fdca26\"],[1.0,\"#f0f921\"]]}],\"heatmap\":[{\"type\":\"heatmap\",\"colorbar\":{\"outlinewidth\":0,\"ticks\":\"\"},\"colorscale\":[[0.0,\"#0d0887\"],[0.1111111111111111,\"#46039f\"],[0.2222222222222222,\"#7201a8\"],[0.3333333333333333,\"#9c179e\"],[0.4444444444444444,\"#bd3786\"],[0.5555555555555556,\"#d8576b\"],[0.6666666666666666,\"#ed7953\"],[0.7777777777777778,\"#fb9f3a\"],[0.8888888888888888,\"#fdca26\"],[1.0,\"#f0f921\"]]}],\"heatmapgl\":[{\"type\":\"heatmapgl\",\"colorbar\":{\"outlinewidth\":0,\"ticks\":\"\"},\"colorscale\":[[0.0,\"#0d0887\"],[0.1111111111111111,\"#46039f\"],[0.2222222222222222,\"#7201a8\"],[0.3333333333333333,\"#9c179e\"],[0.4444444444444444,\"#bd3786\"],[0.5555555555555556,\"#d8576b\"],[0.6666666666666666,\"#ed7953\"],[0.7777777777777778,\"#fb9f3a\"],[0.8888888888888888,\"#fdca26\"],[1.0,\"#f0f921\"]]}],\"contourcarpet\":[{\"type\":\"contourcarpet\",\"colorbar\":{\"outlinewidth\":0,\"ticks\":\"\"}}],\"contour\":[{\"type\":\"contour\",\"colorbar\":{\"outlinewidth\":0,\"ticks\":\"\"},\"colorscale\":[[0.0,\"#0d0887\"],[0.1111111111111111,\"#46039f\"],[0.2222222222222222,\"#7201a8\"],[0.3333333333333333,\"#9c179e\"],[0.4444444444444444,\"#bd3786\"],[0.5555555555555556,\"#d8576b\"],[0.6666666666666666,\"#ed7953\"],[0.7777777777777778,\"#fb9f3a\"],[0.8888888888888888,\"#fdca26\"],[1.0,\"#f0f921\"]]}],\"surface\":[{\"type\":\"surface\",\"colorbar\":{\"outlinewidth\":0,\"ticks\":\"\"},\"colorscale\":[[0.0,\"#0d0887\"],[0.1111111111111111,\"#46039f\"],[0.2222222222222222,\"#7201a8\"],[0.3333333333333333,\"#9c179e\"],[0.4444444444444444,\"#bd3786\"],[0.5555555555555556,\"#d8576b\"],[0.6666666666666666,\"#ed7953\"],[0.7777777777777778,\"#fb9f3a\"],[0.8888888888888888,\"#fdca26\"],[1.0,\"#f0f921\"]]}],\"mesh3d\":[{\"type\":\"mesh3d\",\"colorbar\":{\"outlinewidth\":0,\"ticks\":\"\"}}],\"scatter\":[{\"fillpattern\":{\"fillmode\":\"overlay\",\"size\":10,\"solidity\":0.2},\"type\":\"scatter\"}],\"parcoords\":[{\"type\":\"parcoords\",\"line\":{\"colorbar\":{\"outlinewidth\":0,\"ticks\":\"\"}}}],\"scatterpolargl\":[{\"type\":\"scatterpolargl\",\"marker\":{\"colorbar\":{\"outlinewidth\":0,\"ticks\":\"\"}}}],\"bar\":[{\"error_x\":{\"color\":\"#2a3f5f\"},\"error_y\":{\"color\":\"#2a3f5f\"},\"marker\":{\"line\":{\"color\":\"#E5ECF6\",\"width\":0.5},\"pattern\":{\"fillmode\":\"overlay\",\"size\":10,\"solidity\":0.2}},\"type\":\"bar\"}],\"scattergeo\":[{\"type\":\"scattergeo\",\"marker\":{\"colorbar\":{\"outlinewidth\":0,\"ticks\":\"\"}}}],\"scatterpolar\":[{\"type\":\"scatterpolar\",\"marker\":{\"colorbar\":{\"outlinewidth\":0,\"ticks\":\"\"}}}],\"histogram\":[{\"marker\":{\"pattern\":{\"fillmode\":\"overlay\",\"size\":10,\"solidity\":0.2}},\"type\":\"histogram\"}],\"scattergl\":[{\"type\":\"scattergl\",\"marker\":{\"colorbar\":{\"outlinewidth\":0,\"ticks\":\"\"}}}],\"scatter3d\":[{\"type\":\"scatter3d\",\"line\":{\"colorbar\":{\"outlinewidth\":0,\"ticks\":\"\"}},\"marker\":{\"colorbar\":{\"outlinewidth\":0,\"ticks\":\"\"}}}],\"scattermapbox\":[{\"type\":\"scattermapbox\",\"marker\":{\"colorbar\":{\"outlinewidth\":0,\"ticks\":\"\"}}}],\"scatterternary\":[{\"type\":\"scatterternary\",\"marker\":{\"colorbar\":{\"outlinewidth\":0,\"ticks\":\"\"}}}],\"scattercarpet\":[{\"type\":\"scattercarpet\",\"marker\":{\"colorbar\":{\"outlinewidth\":0,\"ticks\":\"\"}}}],\"carpet\":[{\"aaxis\":{\"endlinecolor\":\"#2a3f5f\",\"gridcolor\":\"white\",\"linecolor\":\"white\",\"minorgridcolor\":\"white\",\"startlinecolor\":\"#2a3f5f\"},\"baxis\":{\"endlinecolor\":\"#2a3f5f\",\"gridcolor\":\"white\",\"linecolor\":\"white\",\"minorgridcolor\":\"white\",\"startlinecolor\":\"#2a3f5f\"},\"type\":\"carpet\"}],\"table\":[{\"cells\":{\"fill\":{\"color\":\"#EBF0F8\"},\"line\":{\"color\":\"white\"}},\"header\":{\"fill\":{\"color\":\"#C8D4E3\"},\"line\":{\"color\":\"white\"}},\"type\":\"table\"}],\"barpolar\":[{\"marker\":{\"line\":{\"color\":\"#E5ECF6\",\"width\":0.5},\"pattern\":{\"fillmode\":\"overlay\",\"size\":10,\"solidity\":0.2}},\"type\":\"barpolar\"}],\"pie\":[{\"automargin\":true,\"type\":\"pie\"}]},\"layout\":{\"autotypenumbers\":\"strict\",\"colorway\":[\"#636efa\",\"#EF553B\",\"#00cc96\",\"#ab63fa\",\"#FFA15A\",\"#19d3f3\",\"#FF6692\",\"#B6E880\",\"#FF97FF\",\"#FECB52\"],\"font\":{\"color\":\"#2a3f5f\"},\"hovermode\":\"closest\",\"hoverlabel\":{\"align\":\"left\"},\"paper_bgcolor\":\"white\",\"plot_bgcolor\":\"#E5ECF6\",\"polar\":{\"bgcolor\":\"#E5ECF6\",\"angularaxis\":{\"gridcolor\":\"white\",\"linecolor\":\"white\",\"ticks\":\"\"},\"radialaxis\":{\"gridcolor\":\"white\",\"linecolor\":\"white\",\"ticks\":\"\"}},\"ternary\":{\"bgcolor\":\"#E5ECF6\",\"aaxis\":{\"gridcolor\":\"white\",\"linecolor\":\"white\",\"ticks\":\"\"},\"baxis\":{\"gridcolor\":\"white\",\"linecolor\":\"white\",\"ticks\":\"\"},\"caxis\":{\"gridcolor\":\"white\",\"linecolor\":\"white\",\"ticks\":\"\"}},\"coloraxis\":{\"colorbar\":{\"outlinewidth\":0,\"ticks\":\"\"}},\"colorscale\":{\"sequential\":[[0.0,\"#0d0887\"],[0.1111111111111111,\"#46039f\"],[0.2222222222222222,\"#7201a8\"],[0.3333333333333333,\"#9c179e\"],[0.4444444444444444,\"#bd3786\"],[0.5555555555555556,\"#d8576b\"],[0.6666666666666666,\"#ed7953\"],[0.7777777777777778,\"#fb9f3a\"],[0.8888888888888888,\"#fdca26\"],[1.0,\"#f0f921\"]],\"sequentialminus\":[[0.0,\"#0d0887\"],[0.1111111111111111,\"#46039f\"],[0.2222222222222222,\"#7201a8\"],[0.3333333333333333,\"#9c179e\"],[0.4444444444444444,\"#bd3786\"],[0.5555555555555556,\"#d8576b\"],[0.6666666666666666,\"#ed7953\"],[0.7777777777777778,\"#fb9f3a\"],[0.8888888888888888,\"#fdca26\"],[1.0,\"#f0f921\"]],\"diverging\":[[0,\"#8e0152\"],[0.1,\"#c51b7d\"],[0.2,\"#de77ae\"],[0.3,\"#f1b6da\"],[0.4,\"#fde0ef\"],[0.5,\"#f7f7f7\"],[0.6,\"#e6f5d0\"],[0.7,\"#b8e186\"],[0.8,\"#7fbc41\"],[0.9,\"#4d9221\"],[1,\"#276419\"]]},\"xaxis\":{\"gridcolor\":\"white\",\"linecolor\":\"white\",\"ticks\":\"\",\"title\":{\"standoff\":15},\"zerolinecolor\":\"white\",\"automargin\":true,\"zerolinewidth\":2},\"yaxis\":{\"gridcolor\":\"white\",\"linecolor\":\"white\",\"ticks\":\"\",\"title\":{\"standoff\":15},\"zerolinecolor\":\"white\",\"automargin\":true,\"zerolinewidth\":2},\"scene\":{\"xaxis\":{\"backgroundcolor\":\"#E5ECF6\",\"gridcolor\":\"white\",\"linecolor\":\"white\",\"showbackground\":true,\"ticks\":\"\",\"zerolinecolor\":\"white\",\"gridwidth\":2},\"yaxis\":{\"backgroundcolor\":\"#E5ECF6\",\"gridcolor\":\"white\",\"linecolor\":\"white\",\"showbackground\":true,\"ticks\":\"\",\"zerolinecolor\":\"white\",\"gridwidth\":2},\"zaxis\":{\"backgroundcolor\":\"#E5ECF6\",\"gridcolor\":\"white\",\"linecolor\":\"white\",\"showbackground\":true,\"ticks\":\"\",\"zerolinecolor\":\"white\",\"gridwidth\":2}},\"shapedefaults\":{\"line\":{\"color\":\"#2a3f5f\"}},\"annotationdefaults\":{\"arrowcolor\":\"#2a3f5f\",\"arrowhead\":0,\"arrowwidth\":1},\"geo\":{\"bgcolor\":\"white\",\"landcolor\":\"#E5ECF6\",\"subunitcolor\":\"white\",\"showland\":true,\"showlakes\":true,\"lakecolor\":\"white\"},\"title\":{\"x\":0.05},\"mapbox\":{\"style\":\"light\"}}},\"xaxis\":{\"title\":{\"text\":\"Birth\"},\"side\":\"bottom\",\"type\":\"linear\",\"range\":[-5.922597483731806e-06,0.00030205247167032213],\"autorange\":false,\"ticks\":\"outside\",\"showline\":true,\"zeroline\":true,\"linewidth\":1,\"linecolor\":\"black\",\"mirror\":false,\"showexponent\":\"all\",\"exponentformat\":\"e\"},\"yaxis\":{\"title\":{\"text\":\"Death\"},\"side\":\"left\",\"type\":\"linear\",\"range\":[-5.922597483731806e-06,0.00030205247167032213],\"autorange\":false,\"scaleanchor\":\"x\",\"scaleratio\":1,\"ticks\":\"outside\",\"showline\":true,\"zeroline\":true,\"linewidth\":1,\"linecolor\":\"black\",\"mirror\":false,\"showexponent\":\"all\",\"exponentformat\":\"e\"},\"width\":500,\"height\":500,\"plot_bgcolor\":\"white\"},                        {\"responsive\": true}                    ).then(function(){\n",
       "                            \n",
       "var gd = document.getElementById('62342bcb-fd25-4d60-8967-7c3977762a7e');\n",
       "var x = new MutationObserver(function (mutations, observer) {{\n",
       "        var display = window.getComputedStyle(gd).display;\n",
       "        if (!display || display === 'none') {{\n",
       "            console.log([gd, 'removed!']);\n",
       "            Plotly.purge(gd);\n",
       "            observer.disconnect();\n",
       "        }}\n",
       "}});\n",
       "\n",
       "// Listen for the removal of the full notebook cells\n",
       "var notebookContainer = gd.closest('#notebook-container');\n",
       "if (notebookContainer) {{\n",
       "    x.observe(notebookContainer, {childList: true});\n",
       "}}\n",
       "\n",
       "// Listen for the clearing of the current output cell\n",
       "var outputEl = gd.closest('.output');\n",
       "if (outputEl) {{\n",
       "    x.observe(outputEl, {childList: true});\n",
       "}}\n",
       "\n",
       "                        })                };                });            </script>        </div>"
      ]
     },
     "metadata": {},
     "output_type": "display_data"
    }
   ],
   "source": [
    "# Finding the most representative diagram for label 5\n",
    "\n",
    "# Compute the pairwise Wasserstein distances (Use all training data as there are not too many label 5 diagrams)\n",
    "pairwise_wasserstein_distances_label_5 = PairwiseDistance(metric=\"wasserstein\").fit_transform(train_shortened_diagrams_label_5)\n",
    "\n",
    "# For each hole, calculate the sum of distances to all other holes\n",
    "sum_distances = [sum(dist) for dist in pairwise_wasserstein_distances_label_5]\n",
    "\n",
    "# Find the index of the Wasserstein barycenter\n",
    "most_representative_index = np.argmin(sum_distances)\n",
    "\n",
    "# Unshortened Wasserstein Barycenter for label 5\n",
    "representative_diagram_label_5 = persistence.fit_transform_plot([train_embeddings_label_5[most_representative_index]])"
   ]
  },
  {
   "cell_type": "code",
   "execution_count": 181,
   "id": "c1f39f96-f383-4c70-9db0-6ceed8f1a05f",
   "metadata": {},
   "outputs": [
    {
     "data": {
      "application/vnd.plotly.v1+json": {
       "config": {
        "plotlyServerURL": "https://plot.ly"
       },
       "data": [
        {
         "hoverinfo": "none",
         "line": {
          "color": "black",
          "dash": "dash",
          "width": 1
         },
         "mode": "lines",
         "showlegend": false,
         "type": "scatter",
         "x": [
          -0.00020054522901773454,
          0.010227806679904462
         ],
         "y": [
          -0.00020054522901773454,
          0.010227806679904462
         ]
        },
        {
         "hoverinfo": "text",
         "hovertext": [
          "(0.0, 2.1252808437566273e-05)",
          "(0.0, 2.221668546553701e-05)",
          "(0.0, 2.5468776584602892e-05)",
          "(0.0, 2.5536488465149887e-05)",
          "(0.0, 2.700272852962371e-05)",
          "(0.0, 2.832061545632314e-05)",
          "(0.0, 3.061144525418058e-05)",
          "(0.0, 3.1387062335852534e-05)",
          "(0.0, 3.206515248166397e-05)",
          "(0.0, 3.221849328838289e-05)",
          "(0.0, 3.247872882639058e-05)",
          "(0.0, 3.31869232468307e-05)",
          "(0.0, 3.354774526087567e-05)",
          "(0.0, 3.4197033528471366e-05)",
          "(0.0, 3.533393100951798e-05)",
          "(0.0, 3.575866503524594e-05)",
          "(0.0, 3.6071520298719406e-05)",
          "(0.0, 3.679172004922293e-05)",
          "(0.0, 3.6860103136859834e-05)",
          "(0.0, 3.7000703741796315e-05)",
          "(0.0, 3.7003617762820795e-05)",
          "(0.0, 3.792609277297743e-05)",
          "(0.0, 3.9289338019443676e-05)",
          "(0.0, 4.045061723445542e-05)",
          "(0.0, 4.16935290559195e-05)",
          "(0.0, 4.2541432776488364e-05)",
          "(0.0, 4.2590731027303264e-05)",
          "(0.0, 4.283918678993359e-05)",
          "(0.0, 4.289150092517957e-05)",
          "(0.0, 4.302326124161482e-05)",
          "(0.0, 4.342250031186268e-05)",
          "(0.0, 4.3481559259817004e-05)",
          "(0.0, 4.3631054722936824e-05)",
          "(0.0, 4.488100967137143e-05)",
          "(0.0, 4.545658521237783e-05)",
          "(0.0, 4.669388727052137e-05)",
          "(0.0, 4.6996461605886e-05)",
          "(0.0, 4.703497688751668e-05)",
          "(0.0, 4.715821341960691e-05)",
          "(0.0, 4.721259756479412e-05)",
          "(0.0, 4.7236975660780445e-05)",
          "(0.0, 4.781980533152819e-05)",
          "(0.0, 4.8231802793452516e-05)",
          "(0.0, 4.857122621615417e-05)",
          "(0.0, 4.870707562076859e-05)",
          "(0.0, 4.9936119467020035e-05)",
          "(0.0, 5.0234444643137977e-05)",
          "(0.0, 5.074414366390556e-05)",
          "(0.0, 5.0842121709138155e-05)",
          "(0.0, 5.115485691931099e-05)",
          "(0.0, 5.1229348173365e-05)",
          "(0.0, 5.134041566634551e-05)",
          "(0.0, 5.1930532208643854e-05)",
          "(0.0, 5.2100214816164225e-05)",
          "(0.0, 5.21848451171536e-05)",
          "(0.0, 5.234866330283694e-05)",
          "(0.0, 5.256378062767908e-05)",
          "(0.0, 5.2610070270020515e-05)",
          "(0.0, 5.2886742196278647e-05)",
          "(0.0, 5.305607555783354e-05)",
          "(0.0, 5.308680556481704e-05)",
          "(0.0, 5.3212253988021985e-05)",
          "(0.0, 5.340368807082996e-05)",
          "(0.0, 5.347751357476227e-05)",
          "(0.0, 5.3510466386796907e-05)",
          "(0.0, 5.356534165912308e-05)",
          "(0.0, 5.437589425127953e-05)",
          "(0.0, 5.459642125060782e-05)",
          "(0.0, 5.461179534904659e-05)",
          "(0.0, 5.4985779570415616e-05)",
          "(0.0, 5.518257967196405e-05)",
          "(0.0, 5.523731670109555e-05)",
          "(0.0, 5.5827913456596434e-05)",
          "(0.0, 5.6207034504041076e-05)",
          "(0.0, 5.62140739930328e-05)",
          "(0.0, 5.628336293739267e-05)",
          "(0.0, 5.651851824950427e-05)",
          "(0.0, 5.661454997607507e-05)",
          "(0.0, 5.6731350923655555e-05)",
          "(0.0, 5.70580450585112e-05)",
          "(0.0, 5.765079185948707e-05)",
          "(0.0, 5.768884511780925e-05)",
          "(0.0, 5.792678348370828e-05)",
          "(0.0, 5.826385677210055e-05)",
          "(0.0, 5.840364610776305e-05)",
          "(0.0, 5.865463026566431e-05)",
          "(0.0, 5.8752480981638655e-05)",
          "(0.0, 5.909864557906985e-05)",
          "(0.0, 5.919332761550322e-05)",
          "(0.0, 5.93359800404869e-05)",
          "(0.0, 5.934649016126059e-05)",
          "(0.0, 5.965323725831695e-05)",
          "(0.0, 6.0335034504532814e-05)",
          "(0.0, 6.063895853003487e-05)",
          "(0.0, 6.127105734776706e-05)",
          "(0.0, 6.164938531583175e-05)",
          "(0.0, 6.171489803818986e-05)",
          "(0.0, 6.208106060512364e-05)",
          "(0.0, 6.26174733042717e-05)",
          "(0.0, 6.273590406635776e-05)",
          "(0.0, 6.289778684731573e-05)",
          "(0.0, 6.416227552108467e-05)",
          "(0.0, 6.41949736746028e-05)",
          "(0.0, 6.451491208281368e-05)",
          "(0.0, 6.471609231084585e-05)",
          "(0.0, 6.513867265312001e-05)",
          "(0.0, 6.594754086108878e-05)",
          "(0.0, 6.60737932776101e-05)",
          "(0.0, 6.660794315394014e-05)",
          "(0.0, 6.670670700259507e-05)",
          "(0.0, 6.748559098923579e-05)",
          "(0.0, 6.775107613066211e-05)",
          "(0.0, 6.784287688788027e-05)",
          "(0.0, 6.787397433072329e-05)",
          "(0.0, 6.801675772294402e-05)",
          "(0.0, 6.91088498570025e-05)",
          "(0.0, 6.975204451009631e-05)",
          "(0.0, 7.039344927761704e-05)",
          "(0.0, 7.04894628142938e-05)",
          "(0.0, 7.067159458529204e-05)",
          "(0.0, 7.074689347064123e-05)",
          "(0.0, 7.149368320824578e-05)",
          "(0.0, 7.214121433207765e-05)",
          "(0.0, 7.261291466420516e-05)",
          "(0.0, 7.274557719938457e-05)",
          "(0.0, 7.319913129322231e-05)",
          "(0.0, 7.3314702603966e-05)",
          "(0.0, 7.451944111380726e-05)",
          "(0.0, 7.452394493157044e-05)",
          "(0.0, 7.472465222235769e-05)",
          "(0.0, 7.582609396195039e-05)",
          "(0.0, 7.666469900868833e-05)",
          "(0.0, 7.715180254308507e-05)",
          "(0.0, 7.725167961325496e-05)",
          "(0.0, 7.734879181953147e-05)",
          "(0.0, 7.764867041260004e-05)",
          "(0.0, 7.831789116607979e-05)",
          "(0.0, 7.925290992716327e-05)",
          "(0.0, 7.940045179566368e-05)",
          "(0.0, 8.017926302272826e-05)",
          "(0.0, 8.107876783469692e-05)",
          "(0.0, 8.180526492651552e-05)",
          "(0.0, 8.364508539671078e-05)",
          "(0.0, 8.393746975343674e-05)",
          "(0.0, 8.429259469266981e-05)",
          "(0.0, 8.50409924169071e-05)",
          "(0.0, 8.50483265821822e-05)",
          "(0.0, 8.522396819898859e-05)",
          "(0.0, 8.593803067924455e-05)",
          "(0.0, 8.608971256762743e-05)",
          "(0.0, 8.642254397273064e-05)",
          "(0.0, 8.899511158233508e-05)",
          "(0.0, 9.031168156070635e-05)",
          "(0.0, 9.036225674208254e-05)",
          "(0.0, 9.49082022998482e-05)",
          "(0.0, 9.530576062388718e-05)",
          "(0.0, 9.608806431060657e-05)",
          "(0.0, 9.733668412081897e-05)",
          "(0.0, 9.827390749705955e-05)",
          "(0.0, 0.00010029710392700508)",
          "(0.0, 0.00010066694812849164)",
          "(0.0, 0.0001009153711493127)",
          "(0.0, 0.00010095113248098642)",
          "(0.0, 0.00010279685375280678)",
          "(0.0, 0.00010484440281288698)",
          "(0.0, 0.00010585303971311077)",
          "(0.0, 0.00010721460421336815)",
          "(0.0, 0.00010738593118730932)",
          "(0.0, 0.00011106982128694654)",
          "(0.0, 0.0001115674022003077)",
          "(0.0, 0.00011303024075459689)",
          "(0.0, 0.00011497142259031534)",
          "(0.0, 0.00012024578609270975)",
          "(0.0, 0.0001220935955643654)",
          "(0.0, 0.00012633578444365412)",
          "(0.0, 0.00013371875684242696)",
          "(0.0, 0.00013959224452264607)",
          "(0.0, 0.00017240508168470114)",
          "(0.0, 0.004882930312305689)",
          "(0.0, 0.004883624613285065)",
          "(0.0, 0.004884007386863232)",
          "(0.0, 0.004890482872724533)",
          "(0.0, 0.004920507315546274)",
          "(0.0, 0.004920809995383024)",
          "(0.0, 0.00501719955354929)",
          "(0.0, 0.00501754367724061)",
          "(0.0, 0.00503998389467597)"
         ],
         "mode": "markers",
         "name": "H0",
         "type": "scatter",
         "x": [
          0,
          0,
          0,
          0,
          0,
          0,
          0,
          0,
          0,
          0,
          0,
          0,
          0,
          0,
          0,
          0,
          0,
          0,
          0,
          0,
          0,
          0,
          0,
          0,
          0,
          0,
          0,
          0,
          0,
          0,
          0,
          0,
          0,
          0,
          0,
          0,
          0,
          0,
          0,
          0,
          0,
          0,
          0,
          0,
          0,
          0,
          0,
          0,
          0,
          0,
          0,
          0,
          0,
          0,
          0,
          0,
          0,
          0,
          0,
          0,
          0,
          0,
          0,
          0,
          0,
          0,
          0,
          0,
          0,
          0,
          0,
          0,
          0,
          0,
          0,
          0,
          0,
          0,
          0,
          0,
          0,
          0,
          0,
          0,
          0,
          0,
          0,
          0,
          0,
          0,
          0,
          0,
          0,
          0,
          0,
          0,
          0,
          0,
          0,
          0,
          0,
          0,
          0,
          0,
          0,
          0,
          0,
          0,
          0,
          0,
          0,
          0,
          0,
          0,
          0,
          0,
          0,
          0,
          0,
          0,
          0,
          0,
          0,
          0,
          0,
          0,
          0,
          0,
          0,
          0,
          0,
          0,
          0,
          0,
          0,
          0,
          0,
          0,
          0,
          0,
          0,
          0,
          0,
          0,
          0,
          0,
          0,
          0,
          0,
          0,
          0,
          0,
          0,
          0,
          0,
          0,
          0,
          0,
          0,
          0,
          0,
          0,
          0,
          0,
          0,
          0,
          0,
          0,
          0,
          0,
          0,
          0,
          0,
          0,
          0,
          0,
          0,
          0,
          0,
          0,
          0,
          0,
          0,
          0,
          0,
          0,
          0
         ],
         "y": [
          2.1252808437566273e-05,
          2.221668546553701e-05,
          2.5468776584602892e-05,
          2.5536488465149887e-05,
          2.700272852962371e-05,
          2.832061545632314e-05,
          3.061144525418058e-05,
          3.1387062335852534e-05,
          3.206515248166397e-05,
          3.221849328838289e-05,
          3.247872882639058e-05,
          3.31869232468307e-05,
          3.354774526087567e-05,
          3.4197033528471366e-05,
          3.533393100951798e-05,
          3.575866503524594e-05,
          3.6071520298719406e-05,
          3.679172004922293e-05,
          3.6860103136859834e-05,
          3.7000703741796315e-05,
          3.7003617762820795e-05,
          3.792609277297743e-05,
          3.9289338019443676e-05,
          4.045061723445542e-05,
          4.16935290559195e-05,
          4.2541432776488364e-05,
          4.2590731027303264e-05,
          4.283918678993359e-05,
          4.289150092517957e-05,
          4.302326124161482e-05,
          4.342250031186268e-05,
          4.3481559259817004e-05,
          4.3631054722936824e-05,
          4.488100967137143e-05,
          4.545658521237783e-05,
          4.669388727052137e-05,
          4.6996461605886e-05,
          4.703497688751668e-05,
          4.715821341960691e-05,
          4.721259756479412e-05,
          4.7236975660780445e-05,
          4.781980533152819e-05,
          4.8231802793452516e-05,
          4.857122621615417e-05,
          4.870707562076859e-05,
          4.9936119467020035e-05,
          5.0234444643137977e-05,
          5.074414366390556e-05,
          5.0842121709138155e-05,
          5.115485691931099e-05,
          5.1229348173365e-05,
          5.134041566634551e-05,
          5.1930532208643854e-05,
          5.2100214816164225e-05,
          5.21848451171536e-05,
          5.234866330283694e-05,
          5.256378062767908e-05,
          5.2610070270020515e-05,
          5.2886742196278647e-05,
          5.305607555783354e-05,
          5.308680556481704e-05,
          5.3212253988021985e-05,
          5.340368807082996e-05,
          5.347751357476227e-05,
          5.3510466386796907e-05,
          5.356534165912308e-05,
          5.437589425127953e-05,
          5.459642125060782e-05,
          5.461179534904659e-05,
          5.4985779570415616e-05,
          5.518257967196405e-05,
          5.523731670109555e-05,
          5.5827913456596434e-05,
          5.6207034504041076e-05,
          5.62140739930328e-05,
          5.628336293739267e-05,
          5.651851824950427e-05,
          5.661454997607507e-05,
          5.6731350923655555e-05,
          5.70580450585112e-05,
          5.765079185948707e-05,
          5.768884511780925e-05,
          5.792678348370828e-05,
          5.826385677210055e-05,
          5.840364610776305e-05,
          5.865463026566431e-05,
          5.8752480981638655e-05,
          5.909864557906985e-05,
          5.919332761550322e-05,
          5.93359800404869e-05,
          5.934649016126059e-05,
          5.965323725831695e-05,
          6.0335034504532814e-05,
          6.063895853003487e-05,
          6.127105734776706e-05,
          6.164938531583175e-05,
          6.171489803818986e-05,
          6.208106060512364e-05,
          6.26174733042717e-05,
          6.273590406635776e-05,
          6.289778684731573e-05,
          6.416227552108467e-05,
          6.41949736746028e-05,
          6.451491208281368e-05,
          6.471609231084585e-05,
          6.513867265312001e-05,
          6.594754086108878e-05,
          6.60737932776101e-05,
          6.660794315394014e-05,
          6.670670700259507e-05,
          6.748559098923579e-05,
          6.775107613066211e-05,
          6.784287688788027e-05,
          6.787397433072329e-05,
          6.801675772294402e-05,
          6.91088498570025e-05,
          6.975204451009631e-05,
          7.039344927761704e-05,
          7.04894628142938e-05,
          7.067159458529204e-05,
          7.074689347064123e-05,
          7.149368320824578e-05,
          7.214121433207765e-05,
          7.261291466420516e-05,
          7.274557719938457e-05,
          7.319913129322231e-05,
          7.3314702603966e-05,
          7.451944111380726e-05,
          7.452394493157044e-05,
          7.472465222235769e-05,
          7.582609396195039e-05,
          7.666469900868833e-05,
          7.715180254308507e-05,
          7.725167961325496e-05,
          7.734879181953147e-05,
          7.764867041260004e-05,
          7.831789116607979e-05,
          7.925290992716327e-05,
          7.940045179566368e-05,
          8.017926302272826e-05,
          8.107876783469692e-05,
          8.180526492651552e-05,
          8.364508539671078e-05,
          8.393746975343674e-05,
          8.429259469266981e-05,
          8.50409924169071e-05,
          8.50483265821822e-05,
          8.522396819898859e-05,
          8.593803067924455e-05,
          8.608971256762743e-05,
          8.642254397273064e-05,
          8.899511158233508e-05,
          9.031168156070635e-05,
          9.036225674208254e-05,
          9.49082022998482e-05,
          9.530576062388718e-05,
          9.608806431060657e-05,
          9.733668412081897e-05,
          9.827390749705955e-05,
          0.00010029710392700508,
          0.00010066694812849164,
          0.0001009153711493127,
          0.00010095113248098642,
          0.00010279685375280678,
          0.00010484440281288698,
          0.00010585303971311077,
          0.00010721460421336815,
          0.00010738593118730932,
          0.00011106982128694654,
          0.0001115674022003077,
          0.00011303024075459689,
          0.00011497142259031534,
          0.00012024578609270975,
          0.0001220935955643654,
          0.00012633578444365412,
          0.00013371875684242696,
          0.00013959224452264607,
          0.00017240508168470114,
          0.004882930312305689,
          0.004883624613285065,
          0.004884007386863232,
          0.004890482872724533,
          0.004920507315546274,
          0.004920809995383024,
          0.00501719955354929,
          0.00501754367724061,
          0.00503998389467597
         ]
        },
        {
         "hoverinfo": "text",
         "hovertext": [
          "(0.0050430274568498135, 0.009983155876398087)",
          "(0.00014679304149467498, 0.00014788430416956544)",
          "(0.0001280101714655757, 0.0001288356288569048)",
          "(0.00012639812484849244, 0.0001292061060667038)",
          "(0.00012600512127391994, 0.00013951990695204586)",
          "(0.00012593629071488976, 0.00013525475515052676)",
          "(0.00012217920448165387, 0.00012473651440814137)",
          "(0.00011870975140482187, 0.00012774592323694378)",
          "(0.0001166039437521249, 0.0001362986076856032)",
          "(0.00011658995936159045, 0.0001188992100651376)",
          "(0.00011365721729816869, 0.00011988932965323329)",
          "(0.00011176209955010563, 0.00011411021114327013)",
          "(0.00011145394819322973, 0.00011968750914093107)",
          "(0.00011016624921467155, 0.00011121160059701651)",
          "(0.0001099565124604851, 0.00012126100773457438)",
          "(0.00010942958761006594, 0.00011142554285470396)",
          "(0.0001071821607183665, 0.00011995792738161981)",
          "(0.00010578311776043847, 0.00011896655632881448)",
          "(0.00010575319174677134, 0.00011966316378675401)",
          "(0.00010552956518949941, 0.00010720363934524357)",
          "(0.00010098355414811522, 0.00010194653441431001)",
          "(9.872727969195694e-05, 0.00010734750685514882)",
          "(9.839828999247402e-05, 0.00010805021156556904)",
          "(9.806392336031422e-05, 0.00010582256072666496)",
          "(9.788951138034463e-05, 0.00010540119546931237)",
          "(9.760427928995341e-05, 9.845628665061668e-05)",
          "(9.714825864648446e-05, 0.00010107031994266436)",
          "(9.320924436906353e-05, 9.805010631680489e-05)",
          "(9.076412970898673e-05, 0.00010936019680229947)",
          "(9.049141954164952e-05, 9.065652557183057e-05)",
          "(8.997577970148996e-05, 9.016284457175061e-05)",
          "(8.927199087338522e-05, 9.181266068480909e-05)",
          "(8.915209036786109e-05, 9.791462071007118e-05)",
          "(8.903417619876564e-05, 9.783718996914104e-05)",
          "(8.89682924025692e-05, 0.00010064990783575922)",
          "(8.81198066053912e-05, 9.613709698896855e-05)",
          "(8.810170402284712e-05, 9.88527899608016e-05)",
          "(8.780283678788692e-05, 9.565127402311191e-05)",
          "(8.75588521012105e-05, 8.972914656624198e-05)",
          "(8.715416333870962e-05, 9.232517913915217e-05)",
          "(8.674109994899482e-05, 9.446963667869568e-05)",
          "(8.656201680423692e-05, 8.712141425348818e-05)",
          "(8.485126454615965e-05, 9.454589599044994e-05)",
          "(8.313731814268976e-05, 8.330965647473931e-05)",
          "(8.313616854138672e-05, 0.00010951732838293537)",
          "(8.0210214946419e-05, 8.430312300333753e-05)",
          "(8.006716234376654e-05, 8.866775169735774e-05)",
          "(8.002281538210809e-05, 8.649841038277373e-05)",
          "(7.909371925052255e-05, 8.180057193385437e-05)",
          "(7.824206113582477e-05, 8.177491690730676e-05)",
          "(7.817552250344306e-05, 8.618771971669048e-05)",
          "(7.788398215780035e-05, 8.395946497330442e-05)",
          "(7.787628419464454e-05, 9.540309838484973e-05)",
          "(7.554009789600968e-05, 7.683485455345362e-05)",
          "(7.409517274936661e-05, 8.595979306846857e-05)",
          "(7.220102997962385e-05, 8.240365423262119e-05)",
          "(7.130069570848718e-05, 7.187292067101225e-05)",
          "(7.095152977854013e-05, 7.199778337962925e-05)",
          "(7.074639142956585e-05, 7.504988025175408e-05)",
          "(7.005858788033947e-05, 7.764635665807873e-05)",
          "(7.005328370723873e-05, 7.079501665430143e-05)",
          "(6.940268212929368e-05, 7.127748540369794e-05)",
          "(6.88430227455683e-05, 7.516371988458559e-05)",
          "(6.85100385453552e-05, 7.245569577207789e-05)",
          "(6.825805030530319e-05, 7.76574743213132e-05)",
          "(6.799647962907329e-05, 6.965277134440839e-05)",
          "(6.789164035581052e-05, 7.351463136728853e-05)",
          "(6.704239058308303e-05, 7.201376865850762e-05)",
          "(6.66183841531165e-05, 0.00010340886365156621)",
          "(6.626607500948012e-05, 6.666139233857393e-05)",
          "(6.55638359603472e-05, 7.610077591380104e-05)",
          "(6.549209501827136e-05, 7.201327389338985e-05)",
          "(6.493344699265435e-05, 6.614435551455244e-05)",
          "(6.366601155605167e-05, 8.204852929338813e-05)",
          "(6.350155308609828e-05, 7.384453783743083e-05)",
          "(6.264753028517589e-05, 6.889386713737622e-05)",
          "(6.233993917703629e-05, 7.453392026945949e-05)",
          "(6.142743222881109e-05, 6.280907109612599e-05)",
          "(6.023796595400199e-05, 7.976419874466956e-05)",
          "(6.000299981678836e-05, 9.034154936671257e-05)",
          "(5.9694833907997236e-05, 6.783262506360188e-05)",
          "(5.916921509196982e-05, 6.997946184128523e-05)",
          "(5.8166835515294224e-05, 7.663028372917324e-05)",
          "(5.766140020568855e-05, 6.393328658305109e-05)",
          "(5.7135755923809484e-05, 6.67604326736182e-05)",
          "(5.64306064916309e-05, 6.755716458428651e-05)",
          "(5.464011337608099e-05, 7.552422175649554e-05)",
          "(4.088672358193435e-05, 4.846222509513609e-05)"
         ],
         "mode": "markers",
         "name": "H1",
         "type": "scatter",
         "x": [
          0.0050430274568498135,
          0.00014679304149467498,
          0.0001280101714655757,
          0.00012639812484849244,
          0.00012600512127391994,
          0.00012593629071488976,
          0.00012217920448165387,
          0.00011870975140482187,
          0.0001166039437521249,
          0.00011658995936159045,
          0.00011365721729816869,
          0.00011176209955010563,
          0.00011145394819322973,
          0.00011016624921467155,
          0.0001099565124604851,
          0.00010942958761006594,
          0.0001071821607183665,
          0.00010578311776043847,
          0.00010575319174677134,
          0.00010552956518949941,
          0.00010098355414811522,
          9.872727969195694e-05,
          9.839828999247402e-05,
          9.806392336031422e-05,
          9.788951138034463e-05,
          9.760427928995341e-05,
          9.714825864648446e-05,
          9.320924436906353e-05,
          9.076412970898673e-05,
          9.049141954164952e-05,
          8.997577970148996e-05,
          8.927199087338522e-05,
          8.915209036786109e-05,
          8.903417619876564e-05,
          8.89682924025692e-05,
          8.81198066053912e-05,
          8.810170402284712e-05,
          8.780283678788692e-05,
          8.75588521012105e-05,
          8.715416333870962e-05,
          8.674109994899482e-05,
          8.656201680423692e-05,
          8.485126454615965e-05,
          8.313731814268976e-05,
          8.313616854138672e-05,
          8.0210214946419e-05,
          8.006716234376654e-05,
          8.002281538210809e-05,
          7.909371925052255e-05,
          7.824206113582477e-05,
          7.817552250344306e-05,
          7.788398215780035e-05,
          7.787628419464454e-05,
          7.554009789600968e-05,
          7.409517274936661e-05,
          7.220102997962385e-05,
          7.130069570848718e-05,
          7.095152977854013e-05,
          7.074639142956585e-05,
          7.005858788033947e-05,
          7.005328370723873e-05,
          6.940268212929368e-05,
          6.88430227455683e-05,
          6.85100385453552e-05,
          6.825805030530319e-05,
          6.799647962907329e-05,
          6.789164035581052e-05,
          6.704239058308303e-05,
          6.66183841531165e-05,
          6.626607500948012e-05,
          6.55638359603472e-05,
          6.549209501827136e-05,
          6.493344699265435e-05,
          6.366601155605167e-05,
          6.350155308609828e-05,
          6.264753028517589e-05,
          6.233993917703629e-05,
          6.142743222881109e-05,
          6.023796595400199e-05,
          6.000299981678836e-05,
          5.9694833907997236e-05,
          5.916921509196982e-05,
          5.8166835515294224e-05,
          5.766140020568855e-05,
          5.7135755923809484e-05,
          5.64306064916309e-05,
          5.464011337608099e-05,
          4.088672358193435e-05
         ],
         "y": [
          0.009983155876398087,
          0.00014788430416956544,
          0.0001288356288569048,
          0.0001292061060667038,
          0.00013951990695204586,
          0.00013525475515052676,
          0.00012473651440814137,
          0.00012774592323694378,
          0.0001362986076856032,
          0.0001188992100651376,
          0.00011988932965323329,
          0.00011411021114327013,
          0.00011968750914093107,
          0.00011121160059701651,
          0.00012126100773457438,
          0.00011142554285470396,
          0.00011995792738161981,
          0.00011896655632881448,
          0.00011966316378675401,
          0.00010720363934524357,
          0.00010194653441431001,
          0.00010734750685514882,
          0.00010805021156556904,
          0.00010582256072666496,
          0.00010540119546931237,
          9.845628665061668e-05,
          0.00010107031994266436,
          9.805010631680489e-05,
          0.00010936019680229947,
          9.065652557183057e-05,
          9.016284457175061e-05,
          9.181266068480909e-05,
          9.791462071007118e-05,
          9.783718996914104e-05,
          0.00010064990783575922,
          9.613709698896855e-05,
          9.88527899608016e-05,
          9.565127402311191e-05,
          8.972914656624198e-05,
          9.232517913915217e-05,
          9.446963667869568e-05,
          8.712141425348818e-05,
          9.454589599044994e-05,
          8.330965647473931e-05,
          0.00010951732838293537,
          8.430312300333753e-05,
          8.866775169735774e-05,
          8.649841038277373e-05,
          8.180057193385437e-05,
          8.177491690730676e-05,
          8.618771971669048e-05,
          8.395946497330442e-05,
          9.540309838484973e-05,
          7.683485455345362e-05,
          8.595979306846857e-05,
          8.240365423262119e-05,
          7.187292067101225e-05,
          7.199778337962925e-05,
          7.504988025175408e-05,
          7.764635665807873e-05,
          7.079501665430143e-05,
          7.127748540369794e-05,
          7.516371988458559e-05,
          7.245569577207789e-05,
          7.76574743213132e-05,
          6.965277134440839e-05,
          7.351463136728853e-05,
          7.201376865850762e-05,
          0.00010340886365156621,
          6.666139233857393e-05,
          7.610077591380104e-05,
          7.201327389338985e-05,
          6.614435551455244e-05,
          8.204852929338813e-05,
          7.384453783743083e-05,
          6.889386713737622e-05,
          7.453392026945949e-05,
          6.280907109612599e-05,
          7.976419874466956e-05,
          9.034154936671257e-05,
          6.783262506360188e-05,
          6.997946184128523e-05,
          7.663028372917324e-05,
          6.393328658305109e-05,
          6.67604326736182e-05,
          6.755716458428651e-05,
          7.552422175649554e-05,
          4.846222509513609e-05
         ]
        },
        {
         "hoverinfo": "text",
         "hovertext": [
          "(0.01000925898551941, 0.010011621750891209)",
          "(0.010007326491177082, 0.010027261450886726)",
          "(0.0001494645548518747, 0.00015213392907753587)",
          "(0.00014066888252273202, 0.00014741136692464352)",
          "(0.00012929934018757194, 0.0001360793539788574)",
          "(0.00012539293675217777, 0.00013222107372712344)",
          "(0.00012162566417828202, 0.00012204427184769884)",
          "(0.00012123559281462803, 0.000123789141071029)",
          "(0.00010609825403662398, 0.00010878530156333)",
          "(0.00010435429430799559, 0.00010819328599609435)",
          "(0.0001020274285110645, 0.00010360581654822454)",
          "(0.00010107031994266436, 0.00010208618186879903)",
          "(0.00010103234671987593, 0.00011009405716322362)",
          "(9.961639443645254e-05, 0.00010139217920368537)",
          "(9.880206926027313e-05, 0.00010131965245818719)",
          "(9.805744048207998e-05, 9.962433978216723e-05)",
          "(9.446773037780076e-05, 0.00010162348917219788)",
          "(9.187350224237889e-05, 9.262110688723624e-05)",
          "(9.159126784652472e-05, 9.240853250958025e-05)",
          "(8.922321285353974e-05, 9.173608850687742e-05)",
          "(8.868600707501173e-05, 9.07218418433331e-05)",
          "(8.868600707501173e-05, 8.936127414926887e-05)",
          "(8.797884947853163e-05, 8.972914656624198e-05)",
          "(8.618382707936689e-05, 8.666903886478394e-05)",
          "(8.290520054288208e-05, 8.925412112148479e-05)",
          "(8.209207589970902e-05, 8.411813905695453e-05)",
          "(8.177491690730676e-05, 8.486751175951213e-05)",
          "(8.172386878868565e-05, 8.204852929338813e-05)",
          "(8.025415445445105e-05, 8.096139208646491e-05)",
          "(7.889667904237285e-05, 8.096139208646491e-05)",
          "(7.746157643850893e-05, 7.940618525026366e-05)",
          "(7.714356615906581e-05, 8.067487215157598e-05)",
          "(7.623899728059769e-05, 8.666903886478394e-05)",
          "(7.608265150338411e-05, 7.7657779911533e-05)",
          "(7.469624688383192e-05, 7.71631530369632e-05)",
          "(6.934823613846675e-05, 6.946882785996422e-05)"
         ],
         "mode": "markers",
         "name": "H2",
         "type": "scatter",
         "x": [
          0.01000925898551941,
          0.010007326491177082,
          0.0001494645548518747,
          0.00014066888252273202,
          0.00012929934018757194,
          0.00012539293675217777,
          0.00012162566417828202,
          0.00012123559281462803,
          0.00010609825403662398,
          0.00010435429430799559,
          0.0001020274285110645,
          0.00010107031994266436,
          0.00010103234671987593,
          9.961639443645254e-05,
          9.880206926027313e-05,
          9.805744048207998e-05,
          9.446773037780076e-05,
          9.187350224237889e-05,
          9.159126784652472e-05,
          8.922321285353974e-05,
          8.868600707501173e-05,
          8.868600707501173e-05,
          8.797884947853163e-05,
          8.618382707936689e-05,
          8.290520054288208e-05,
          8.209207589970902e-05,
          8.177491690730676e-05,
          8.172386878868565e-05,
          8.025415445445105e-05,
          7.889667904237285e-05,
          7.746157643850893e-05,
          7.714356615906581e-05,
          7.623899728059769e-05,
          7.608265150338411e-05,
          7.469624688383192e-05,
          6.934823613846675e-05
         ],
         "y": [
          0.010011621750891209,
          0.010027261450886726,
          0.00015213392907753587,
          0.00014741136692464352,
          0.0001360793539788574,
          0.00013222107372712344,
          0.00012204427184769884,
          0.000123789141071029,
          0.00010878530156333,
          0.00010819328599609435,
          0.00010360581654822454,
          0.00010208618186879903,
          0.00011009405716322362,
          0.00010139217920368537,
          0.00010131965245818719,
          9.962433978216723e-05,
          0.00010162348917219788,
          9.262110688723624e-05,
          9.240853250958025e-05,
          9.173608850687742e-05,
          9.07218418433331e-05,
          8.936127414926887e-05,
          8.972914656624198e-05,
          8.666903886478394e-05,
          8.925412112148479e-05,
          8.411813905695453e-05,
          8.486751175951213e-05,
          8.204852929338813e-05,
          8.096139208646491e-05,
          8.096139208646491e-05,
          7.940618525026366e-05,
          8.067487215157598e-05,
          8.666903886478394e-05,
          7.7657779911533e-05,
          7.71631530369632e-05,
          6.946882785996422e-05
         ]
        }
       ],
       "layout": {
        "height": 500,
        "plot_bgcolor": "white",
        "template": {
         "data": {
          "bar": [
           {
            "error_x": {
             "color": "#2a3f5f"
            },
            "error_y": {
             "color": "#2a3f5f"
            },
            "marker": {
             "line": {
              "color": "#E5ECF6",
              "width": 0.5
             },
             "pattern": {
              "fillmode": "overlay",
              "size": 10,
              "solidity": 0.2
             }
            },
            "type": "bar"
           }
          ],
          "barpolar": [
           {
            "marker": {
             "line": {
              "color": "#E5ECF6",
              "width": 0.5
             },
             "pattern": {
              "fillmode": "overlay",
              "size": 10,
              "solidity": 0.2
             }
            },
            "type": "barpolar"
           }
          ],
          "carpet": [
           {
            "aaxis": {
             "endlinecolor": "#2a3f5f",
             "gridcolor": "white",
             "linecolor": "white",
             "minorgridcolor": "white",
             "startlinecolor": "#2a3f5f"
            },
            "baxis": {
             "endlinecolor": "#2a3f5f",
             "gridcolor": "white",
             "linecolor": "white",
             "minorgridcolor": "white",
             "startlinecolor": "#2a3f5f"
            },
            "type": "carpet"
           }
          ],
          "choropleth": [
           {
            "colorbar": {
             "outlinewidth": 0,
             "ticks": ""
            },
            "type": "choropleth"
           }
          ],
          "contour": [
           {
            "colorbar": {
             "outlinewidth": 0,
             "ticks": ""
            },
            "colorscale": [
             [
              0,
              "#0d0887"
             ],
             [
              0.1111111111111111,
              "#46039f"
             ],
             [
              0.2222222222222222,
              "#7201a8"
             ],
             [
              0.3333333333333333,
              "#9c179e"
             ],
             [
              0.4444444444444444,
              "#bd3786"
             ],
             [
              0.5555555555555556,
              "#d8576b"
             ],
             [
              0.6666666666666666,
              "#ed7953"
             ],
             [
              0.7777777777777778,
              "#fb9f3a"
             ],
             [
              0.8888888888888888,
              "#fdca26"
             ],
             [
              1,
              "#f0f921"
             ]
            ],
            "type": "contour"
           }
          ],
          "contourcarpet": [
           {
            "colorbar": {
             "outlinewidth": 0,
             "ticks": ""
            },
            "type": "contourcarpet"
           }
          ],
          "heatmap": [
           {
            "colorbar": {
             "outlinewidth": 0,
             "ticks": ""
            },
            "colorscale": [
             [
              0,
              "#0d0887"
             ],
             [
              0.1111111111111111,
              "#46039f"
             ],
             [
              0.2222222222222222,
              "#7201a8"
             ],
             [
              0.3333333333333333,
              "#9c179e"
             ],
             [
              0.4444444444444444,
              "#bd3786"
             ],
             [
              0.5555555555555556,
              "#d8576b"
             ],
             [
              0.6666666666666666,
              "#ed7953"
             ],
             [
              0.7777777777777778,
              "#fb9f3a"
             ],
             [
              0.8888888888888888,
              "#fdca26"
             ],
             [
              1,
              "#f0f921"
             ]
            ],
            "type": "heatmap"
           }
          ],
          "heatmapgl": [
           {
            "colorbar": {
             "outlinewidth": 0,
             "ticks": ""
            },
            "colorscale": [
             [
              0,
              "#0d0887"
             ],
             [
              0.1111111111111111,
              "#46039f"
             ],
             [
              0.2222222222222222,
              "#7201a8"
             ],
             [
              0.3333333333333333,
              "#9c179e"
             ],
             [
              0.4444444444444444,
              "#bd3786"
             ],
             [
              0.5555555555555556,
              "#d8576b"
             ],
             [
              0.6666666666666666,
              "#ed7953"
             ],
             [
              0.7777777777777778,
              "#fb9f3a"
             ],
             [
              0.8888888888888888,
              "#fdca26"
             ],
             [
              1,
              "#f0f921"
             ]
            ],
            "type": "heatmapgl"
           }
          ],
          "histogram": [
           {
            "marker": {
             "pattern": {
              "fillmode": "overlay",
              "size": 10,
              "solidity": 0.2
             }
            },
            "type": "histogram"
           }
          ],
          "histogram2d": [
           {
            "colorbar": {
             "outlinewidth": 0,
             "ticks": ""
            },
            "colorscale": [
             [
              0,
              "#0d0887"
             ],
             [
              0.1111111111111111,
              "#46039f"
             ],
             [
              0.2222222222222222,
              "#7201a8"
             ],
             [
              0.3333333333333333,
              "#9c179e"
             ],
             [
              0.4444444444444444,
              "#bd3786"
             ],
             [
              0.5555555555555556,
              "#d8576b"
             ],
             [
              0.6666666666666666,
              "#ed7953"
             ],
             [
              0.7777777777777778,
              "#fb9f3a"
             ],
             [
              0.8888888888888888,
              "#fdca26"
             ],
             [
              1,
              "#f0f921"
             ]
            ],
            "type": "histogram2d"
           }
          ],
          "histogram2dcontour": [
           {
            "colorbar": {
             "outlinewidth": 0,
             "ticks": ""
            },
            "colorscale": [
             [
              0,
              "#0d0887"
             ],
             [
              0.1111111111111111,
              "#46039f"
             ],
             [
              0.2222222222222222,
              "#7201a8"
             ],
             [
              0.3333333333333333,
              "#9c179e"
             ],
             [
              0.4444444444444444,
              "#bd3786"
             ],
             [
              0.5555555555555556,
              "#d8576b"
             ],
             [
              0.6666666666666666,
              "#ed7953"
             ],
             [
              0.7777777777777778,
              "#fb9f3a"
             ],
             [
              0.8888888888888888,
              "#fdca26"
             ],
             [
              1,
              "#f0f921"
             ]
            ],
            "type": "histogram2dcontour"
           }
          ],
          "mesh3d": [
           {
            "colorbar": {
             "outlinewidth": 0,
             "ticks": ""
            },
            "type": "mesh3d"
           }
          ],
          "parcoords": [
           {
            "line": {
             "colorbar": {
              "outlinewidth": 0,
              "ticks": ""
             }
            },
            "type": "parcoords"
           }
          ],
          "pie": [
           {
            "automargin": true,
            "type": "pie"
           }
          ],
          "scatter": [
           {
            "fillpattern": {
             "fillmode": "overlay",
             "size": 10,
             "solidity": 0.2
            },
            "type": "scatter"
           }
          ],
          "scatter3d": [
           {
            "line": {
             "colorbar": {
              "outlinewidth": 0,
              "ticks": ""
             }
            },
            "marker": {
             "colorbar": {
              "outlinewidth": 0,
              "ticks": ""
             }
            },
            "type": "scatter3d"
           }
          ],
          "scattercarpet": [
           {
            "marker": {
             "colorbar": {
              "outlinewidth": 0,
              "ticks": ""
             }
            },
            "type": "scattercarpet"
           }
          ],
          "scattergeo": [
           {
            "marker": {
             "colorbar": {
              "outlinewidth": 0,
              "ticks": ""
             }
            },
            "type": "scattergeo"
           }
          ],
          "scattergl": [
           {
            "marker": {
             "colorbar": {
              "outlinewidth": 0,
              "ticks": ""
             }
            },
            "type": "scattergl"
           }
          ],
          "scattermapbox": [
           {
            "marker": {
             "colorbar": {
              "outlinewidth": 0,
              "ticks": ""
             }
            },
            "type": "scattermapbox"
           }
          ],
          "scatterpolar": [
           {
            "marker": {
             "colorbar": {
              "outlinewidth": 0,
              "ticks": ""
             }
            },
            "type": "scatterpolar"
           }
          ],
          "scatterpolargl": [
           {
            "marker": {
             "colorbar": {
              "outlinewidth": 0,
              "ticks": ""
             }
            },
            "type": "scatterpolargl"
           }
          ],
          "scatterternary": [
           {
            "marker": {
             "colorbar": {
              "outlinewidth": 0,
              "ticks": ""
             }
            },
            "type": "scatterternary"
           }
          ],
          "surface": [
           {
            "colorbar": {
             "outlinewidth": 0,
             "ticks": ""
            },
            "colorscale": [
             [
              0,
              "#0d0887"
             ],
             [
              0.1111111111111111,
              "#46039f"
             ],
             [
              0.2222222222222222,
              "#7201a8"
             ],
             [
              0.3333333333333333,
              "#9c179e"
             ],
             [
              0.4444444444444444,
              "#bd3786"
             ],
             [
              0.5555555555555556,
              "#d8576b"
             ],
             [
              0.6666666666666666,
              "#ed7953"
             ],
             [
              0.7777777777777778,
              "#fb9f3a"
             ],
             [
              0.8888888888888888,
              "#fdca26"
             ],
             [
              1,
              "#f0f921"
             ]
            ],
            "type": "surface"
           }
          ],
          "table": [
           {
            "cells": {
             "fill": {
              "color": "#EBF0F8"
             },
             "line": {
              "color": "white"
             }
            },
            "header": {
             "fill": {
              "color": "#C8D4E3"
             },
             "line": {
              "color": "white"
             }
            },
            "type": "table"
           }
          ]
         },
         "layout": {
          "annotationdefaults": {
           "arrowcolor": "#2a3f5f",
           "arrowhead": 0,
           "arrowwidth": 1
          },
          "autotypenumbers": "strict",
          "coloraxis": {
           "colorbar": {
            "outlinewidth": 0,
            "ticks": ""
           }
          },
          "colorscale": {
           "diverging": [
            [
             0,
             "#8e0152"
            ],
            [
             0.1,
             "#c51b7d"
            ],
            [
             0.2,
             "#de77ae"
            ],
            [
             0.3,
             "#f1b6da"
            ],
            [
             0.4,
             "#fde0ef"
            ],
            [
             0.5,
             "#f7f7f7"
            ],
            [
             0.6,
             "#e6f5d0"
            ],
            [
             0.7,
             "#b8e186"
            ],
            [
             0.8,
             "#7fbc41"
            ],
            [
             0.9,
             "#4d9221"
            ],
            [
             1,
             "#276419"
            ]
           ],
           "sequential": [
            [
             0,
             "#0d0887"
            ],
            [
             0.1111111111111111,
             "#46039f"
            ],
            [
             0.2222222222222222,
             "#7201a8"
            ],
            [
             0.3333333333333333,
             "#9c179e"
            ],
            [
             0.4444444444444444,
             "#bd3786"
            ],
            [
             0.5555555555555556,
             "#d8576b"
            ],
            [
             0.6666666666666666,
             "#ed7953"
            ],
            [
             0.7777777777777778,
             "#fb9f3a"
            ],
            [
             0.8888888888888888,
             "#fdca26"
            ],
            [
             1,
             "#f0f921"
            ]
           ],
           "sequentialminus": [
            [
             0,
             "#0d0887"
            ],
            [
             0.1111111111111111,
             "#46039f"
            ],
            [
             0.2222222222222222,
             "#7201a8"
            ],
            [
             0.3333333333333333,
             "#9c179e"
            ],
            [
             0.4444444444444444,
             "#bd3786"
            ],
            [
             0.5555555555555556,
             "#d8576b"
            ],
            [
             0.6666666666666666,
             "#ed7953"
            ],
            [
             0.7777777777777778,
             "#fb9f3a"
            ],
            [
             0.8888888888888888,
             "#fdca26"
            ],
            [
             1,
             "#f0f921"
            ]
           ]
          },
          "colorway": [
           "#636efa",
           "#EF553B",
           "#00cc96",
           "#ab63fa",
           "#FFA15A",
           "#19d3f3",
           "#FF6692",
           "#B6E880",
           "#FF97FF",
           "#FECB52"
          ],
          "font": {
           "color": "#2a3f5f"
          },
          "geo": {
           "bgcolor": "white",
           "lakecolor": "white",
           "landcolor": "#E5ECF6",
           "showlakes": true,
           "showland": true,
           "subunitcolor": "white"
          },
          "hoverlabel": {
           "align": "left"
          },
          "hovermode": "closest",
          "mapbox": {
           "style": "light"
          },
          "paper_bgcolor": "white",
          "plot_bgcolor": "#E5ECF6",
          "polar": {
           "angularaxis": {
            "gridcolor": "white",
            "linecolor": "white",
            "ticks": ""
           },
           "bgcolor": "#E5ECF6",
           "radialaxis": {
            "gridcolor": "white",
            "linecolor": "white",
            "ticks": ""
           }
          },
          "scene": {
           "xaxis": {
            "backgroundcolor": "#E5ECF6",
            "gridcolor": "white",
            "gridwidth": 2,
            "linecolor": "white",
            "showbackground": true,
            "ticks": "",
            "zerolinecolor": "white"
           },
           "yaxis": {
            "backgroundcolor": "#E5ECF6",
            "gridcolor": "white",
            "gridwidth": 2,
            "linecolor": "white",
            "showbackground": true,
            "ticks": "",
            "zerolinecolor": "white"
           },
           "zaxis": {
            "backgroundcolor": "#E5ECF6",
            "gridcolor": "white",
            "gridwidth": 2,
            "linecolor": "white",
            "showbackground": true,
            "ticks": "",
            "zerolinecolor": "white"
           }
          },
          "shapedefaults": {
           "line": {
            "color": "#2a3f5f"
           }
          },
          "ternary": {
           "aaxis": {
            "gridcolor": "white",
            "linecolor": "white",
            "ticks": ""
           },
           "baxis": {
            "gridcolor": "white",
            "linecolor": "white",
            "ticks": ""
           },
           "bgcolor": "#E5ECF6",
           "caxis": {
            "gridcolor": "white",
            "linecolor": "white",
            "ticks": ""
           }
          },
          "title": {
           "x": 0.05
          },
          "xaxis": {
           "automargin": true,
           "gridcolor": "white",
           "linecolor": "white",
           "ticks": "",
           "title": {
            "standoff": 15
           },
           "zerolinecolor": "white",
           "zerolinewidth": 2
          },
          "yaxis": {
           "automargin": true,
           "gridcolor": "white",
           "linecolor": "white",
           "ticks": "",
           "title": {
            "standoff": 15
           },
           "zerolinecolor": "white",
           "zerolinewidth": 2
          }
         }
        },
        "width": 500,
        "xaxis": {
         "autorange": false,
         "domain": [
          0,
          1
         ],
         "exponentformat": "e",
         "linecolor": "black",
         "linewidth": 1,
         "mirror": false,
         "range": [
          -0.000510136926313862,
          0.01053739837720059
         ],
         "showexponent": "all",
         "showline": true,
         "side": "bottom",
         "ticks": "outside",
         "title": {
          "text": "Birth"
         },
         "type": "linear",
         "zeroline": true
        },
        "yaxis": {
         "autorange": false,
         "domain": [
          0,
          1
         ],
         "exponentformat": "e",
         "linecolor": "black",
         "linewidth": 1,
         "mirror": false,
         "range": [
          -0.00020054522901773454,
          0.010227806679904462
         ],
         "scaleanchor": "x",
         "scaleratio": 1,
         "showexponent": "all",
         "showline": true,
         "side": "left",
         "ticks": "outside",
         "title": {
          "text": "Death"
         },
         "type": "linear",
         "zeroline": true
        }
       }
      },
      "image/png": "[encoded data removed]",
      "text/html": [
       "<div>                            <div id=\"331dfe96-05aa-41a5-ac72-c9664534d471\" class=\"plotly-graph-div\" style=\"height:500px; width:500px;\"></div>            <script type=\"text/javascript\">                require([\"plotly\"], function(Plotly) {                    window.PLOTLYENV=window.PLOTLYENV || {};                                    if (document.getElementById(\"331dfe96-05aa-41a5-ac72-c9664534d471\")) {                    Plotly.newPlot(                        \"331dfe96-05aa-41a5-ac72-c9664534d471\",                        [{\"hoverinfo\":\"none\",\"line\":{\"color\":\"black\",\"dash\":\"dash\",\"width\":1},\"mode\":\"lines\",\"showlegend\":false,\"x\":[-0.00020054522901773454,0.010227806679904462],\"y\":[-0.00020054522901773454,0.010227806679904462],\"type\":\"scatter\"},{\"hoverinfo\":\"text\",\"hovertext\":[\"(0.0, 2.1252808437566273e-05)\",\"(0.0, 2.221668546553701e-05)\",\"(0.0, 2.5468776584602892e-05)\",\"(0.0, 2.5536488465149887e-05)\",\"(0.0, 2.700272852962371e-05)\",\"(0.0, 2.832061545632314e-05)\",\"(0.0, 3.061144525418058e-05)\",\"(0.0, 3.1387062335852534e-05)\",\"(0.0, 3.206515248166397e-05)\",\"(0.0, 3.221849328838289e-05)\",\"(0.0, 3.247872882639058e-05)\",\"(0.0, 3.31869232468307e-05)\",\"(0.0, 3.354774526087567e-05)\",\"(0.0, 3.4197033528471366e-05)\",\"(0.0, 3.533393100951798e-05)\",\"(0.0, 3.575866503524594e-05)\",\"(0.0, 3.6071520298719406e-05)\",\"(0.0, 3.679172004922293e-05)\",\"(0.0, 3.6860103136859834e-05)\",\"(0.0, 3.7000703741796315e-05)\",\"(0.0, 3.7003617762820795e-05)\",\"(0.0, 3.792609277297743e-05)\",\"(0.0, 3.9289338019443676e-05)\",\"(0.0, 4.045061723445542e-05)\",\"(0.0, 4.16935290559195e-05)\",\"(0.0, 4.2541432776488364e-05)\",\"(0.0, 4.2590731027303264e-05)\",\"(0.0, 4.283918678993359e-05)\",\"(0.0, 4.289150092517957e-05)\",\"(0.0, 4.302326124161482e-05)\",\"(0.0, 4.342250031186268e-05)\",\"(0.0, 4.3481559259817004e-05)\",\"(0.0, 4.3631054722936824e-05)\",\"(0.0, 4.488100967137143e-05)\",\"(0.0, 4.545658521237783e-05)\",\"(0.0, 4.669388727052137e-05)\",\"(0.0, 4.6996461605886e-05)\",\"(0.0, 4.703497688751668e-05)\",\"(0.0, 4.715821341960691e-05)\",\"(0.0, 4.721259756479412e-05)\",\"(0.0, 4.7236975660780445e-05)\",\"(0.0, 4.781980533152819e-05)\",\"(0.0, 4.8231802793452516e-05)\",\"(0.0, 4.857122621615417e-05)\",\"(0.0, 4.870707562076859e-05)\",\"(0.0, 4.9936119467020035e-05)\",\"(0.0, 5.0234444643137977e-05)\",\"(0.0, 5.074414366390556e-05)\",\"(0.0, 5.0842121709138155e-05)\",\"(0.0, 5.115485691931099e-05)\",\"(0.0, 5.1229348173365e-05)\",\"(0.0, 5.134041566634551e-05)\",\"(0.0, 5.1930532208643854e-05)\",\"(0.0, 5.2100214816164225e-05)\",\"(0.0, 5.21848451171536e-05)\",\"(0.0, 5.234866330283694e-05)\",\"(0.0, 5.256378062767908e-05)\",\"(0.0, 5.2610070270020515e-05)\",\"(0.0, 5.2886742196278647e-05)\",\"(0.0, 5.305607555783354e-05)\",\"(0.0, 5.308680556481704e-05)\",\"(0.0, 5.3212253988021985e-05)\",\"(0.0, 5.340368807082996e-05)\",\"(0.0, 5.347751357476227e-05)\",\"(0.0, 5.3510466386796907e-05)\",\"(0.0, 5.356534165912308e-05)\",\"(0.0, 5.437589425127953e-05)\",\"(0.0, 5.459642125060782e-05)\",\"(0.0, 5.461179534904659e-05)\",\"(0.0, 5.4985779570415616e-05)\",\"(0.0, 5.518257967196405e-05)\",\"(0.0, 5.523731670109555e-05)\",\"(0.0, 5.5827913456596434e-05)\",\"(0.0, 5.6207034504041076e-05)\",\"(0.0, 5.62140739930328e-05)\",\"(0.0, 5.628336293739267e-05)\",\"(0.0, 5.651851824950427e-05)\",\"(0.0, 5.661454997607507e-05)\",\"(0.0, 5.6731350923655555e-05)\",\"(0.0, 5.70580450585112e-05)\",\"(0.0, 5.765079185948707e-05)\",\"(0.0, 5.768884511780925e-05)\",\"(0.0, 5.792678348370828e-05)\",\"(0.0, 5.826385677210055e-05)\",\"(0.0, 5.840364610776305e-05)\",\"(0.0, 5.865463026566431e-05)\",\"(0.0, 5.8752480981638655e-05)\",\"(0.0, 5.909864557906985e-05)\",\"(0.0, 5.919332761550322e-05)\",\"(0.0, 5.93359800404869e-05)\",\"(0.0, 5.934649016126059e-05)\",\"(0.0, 5.965323725831695e-05)\",\"(0.0, 6.0335034504532814e-05)\",\"(0.0, 6.063895853003487e-05)\",\"(0.0, 6.127105734776706e-05)\",\"(0.0, 6.164938531583175e-05)\",\"(0.0, 6.171489803818986e-05)\",\"(0.0, 6.208106060512364e-05)\",\"(0.0, 6.26174733042717e-05)\",\"(0.0, 6.273590406635776e-05)\",\"(0.0, 6.289778684731573e-05)\",\"(0.0, 6.416227552108467e-05)\",\"(0.0, 6.41949736746028e-05)\",\"(0.0, 6.451491208281368e-05)\",\"(0.0, 6.471609231084585e-05)\",\"(0.0, 6.513867265312001e-05)\",\"(0.0, 6.594754086108878e-05)\",\"(0.0, 6.60737932776101e-05)\",\"(0.0, 6.660794315394014e-05)\",\"(0.0, 6.670670700259507e-05)\",\"(0.0, 6.748559098923579e-05)\",\"(0.0, 6.775107613066211e-05)\",\"(0.0, 6.784287688788027e-05)\",\"(0.0, 6.787397433072329e-05)\",\"(0.0, 6.801675772294402e-05)\",\"(0.0, 6.91088498570025e-05)\",\"(0.0, 6.975204451009631e-05)\",\"(0.0, 7.039344927761704e-05)\",\"(0.0, 7.04894628142938e-05)\",\"(0.0, 7.067159458529204e-05)\",\"(0.0, 7.074689347064123e-05)\",\"(0.0, 7.149368320824578e-05)\",\"(0.0, 7.214121433207765e-05)\",\"(0.0, 7.261291466420516e-05)\",\"(0.0, 7.274557719938457e-05)\",\"(0.0, 7.319913129322231e-05)\",\"(0.0, 7.3314702603966e-05)\",\"(0.0, 7.451944111380726e-05)\",\"(0.0, 7.452394493157044e-05)\",\"(0.0, 7.472465222235769e-05)\",\"(0.0, 7.582609396195039e-05)\",\"(0.0, 7.666469900868833e-05)\",\"(0.0, 7.715180254308507e-05)\",\"(0.0, 7.725167961325496e-05)\",\"(0.0, 7.734879181953147e-05)\",\"(0.0, 7.764867041260004e-05)\",\"(0.0, 7.831789116607979e-05)\",\"(0.0, 7.925290992716327e-05)\",\"(0.0, 7.940045179566368e-05)\",\"(0.0, 8.017926302272826e-05)\",\"(0.0, 8.107876783469692e-05)\",\"(0.0, 8.180526492651552e-05)\",\"(0.0, 8.364508539671078e-05)\",\"(0.0, 8.393746975343674e-05)\",\"(0.0, 8.429259469266981e-05)\",\"(0.0, 8.50409924169071e-05)\",\"(0.0, 8.50483265821822e-05)\",\"(0.0, 8.522396819898859e-05)\",\"(0.0, 8.593803067924455e-05)\",\"(0.0, 8.608971256762743e-05)\",\"(0.0, 8.642254397273064e-05)\",\"(0.0, 8.899511158233508e-05)\",\"(0.0, 9.031168156070635e-05)\",\"(0.0, 9.036225674208254e-05)\",\"(0.0, 9.49082022998482e-05)\",\"(0.0, 9.530576062388718e-05)\",\"(0.0, 9.608806431060657e-05)\",\"(0.0, 9.733668412081897e-05)\",\"(0.0, 9.827390749705955e-05)\",\"(0.0, 0.00010029710392700508)\",\"(0.0, 0.00010066694812849164)\",\"(0.0, 0.0001009153711493127)\",\"(0.0, 0.00010095113248098642)\",\"(0.0, 0.00010279685375280678)\",\"(0.0, 0.00010484440281288698)\",\"(0.0, 0.00010585303971311077)\",\"(0.0, 0.00010721460421336815)\",\"(0.0, 0.00010738593118730932)\",\"(0.0, 0.00011106982128694654)\",\"(0.0, 0.0001115674022003077)\",\"(0.0, 0.00011303024075459689)\",\"(0.0, 0.00011497142259031534)\",\"(0.0, 0.00012024578609270975)\",\"(0.0, 0.0001220935955643654)\",\"(0.0, 0.00012633578444365412)\",\"(0.0, 0.00013371875684242696)\",\"(0.0, 0.00013959224452264607)\",\"(0.0, 0.00017240508168470114)\",\"(0.0, 0.004882930312305689)\",\"(0.0, 0.004883624613285065)\",\"(0.0, 0.004884007386863232)\",\"(0.0, 0.004890482872724533)\",\"(0.0, 0.004920507315546274)\",\"(0.0, 0.004920809995383024)\",\"(0.0, 0.00501719955354929)\",\"(0.0, 0.00501754367724061)\",\"(0.0, 0.00503998389467597)\"],\"mode\":\"markers\",\"name\":\"H0\",\"x\":[0.0,0.0,0.0,0.0,0.0,0.0,0.0,0.0,0.0,0.0,0.0,0.0,0.0,0.0,0.0,0.0,0.0,0.0,0.0,0.0,0.0,0.0,0.0,0.0,0.0,0.0,0.0,0.0,0.0,0.0,0.0,0.0,0.0,0.0,0.0,0.0,0.0,0.0,0.0,0.0,0.0,0.0,0.0,0.0,0.0,0.0,0.0,0.0,0.0,0.0,0.0,0.0,0.0,0.0,0.0,0.0,0.0,0.0,0.0,0.0,0.0,0.0,0.0,0.0,0.0,0.0,0.0,0.0,0.0,0.0,0.0,0.0,0.0,0.0,0.0,0.0,0.0,0.0,0.0,0.0,0.0,0.0,0.0,0.0,0.0,0.0,0.0,0.0,0.0,0.0,0.0,0.0,0.0,0.0,0.0,0.0,0.0,0.0,0.0,0.0,0.0,0.0,0.0,0.0,0.0,0.0,0.0,0.0,0.0,0.0,0.0,0.0,0.0,0.0,0.0,0.0,0.0,0.0,0.0,0.0,0.0,0.0,0.0,0.0,0.0,0.0,0.0,0.0,0.0,0.0,0.0,0.0,0.0,0.0,0.0,0.0,0.0,0.0,0.0,0.0,0.0,0.0,0.0,0.0,0.0,0.0,0.0,0.0,0.0,0.0,0.0,0.0,0.0,0.0,0.0,0.0,0.0,0.0,0.0,0.0,0.0,0.0,0.0,0.0,0.0,0.0,0.0,0.0,0.0,0.0,0.0,0.0,0.0,0.0,0.0,0.0,0.0,0.0,0.0,0.0,0.0,0.0,0.0,0.0,0.0,0.0,0.0],\"y\":[2.1252808437566273e-05,2.221668546553701e-05,2.5468776584602892e-05,2.5536488465149887e-05,2.700272852962371e-05,2.832061545632314e-05,3.061144525418058e-05,3.1387062335852534e-05,3.206515248166397e-05,3.221849328838289e-05,3.247872882639058e-05,3.31869232468307e-05,3.354774526087567e-05,3.4197033528471366e-05,3.533393100951798e-05,3.575866503524594e-05,3.6071520298719406e-05,3.679172004922293e-05,3.6860103136859834e-05,3.7000703741796315e-05,3.7003617762820795e-05,3.792609277297743e-05,3.9289338019443676e-05,4.045061723445542e-05,4.16935290559195e-05,4.2541432776488364e-05,4.2590731027303264e-05,4.283918678993359e-05,4.289150092517957e-05,4.302326124161482e-05,4.342250031186268e-05,4.3481559259817004e-05,4.3631054722936824e-05,4.488100967137143e-05,4.545658521237783e-05,4.669388727052137e-05,4.6996461605886e-05,4.703497688751668e-05,4.715821341960691e-05,4.721259756479412e-05,4.7236975660780445e-05,4.781980533152819e-05,4.8231802793452516e-05,4.857122621615417e-05,4.870707562076859e-05,4.9936119467020035e-05,5.0234444643137977e-05,5.074414366390556e-05,5.0842121709138155e-05,5.115485691931099e-05,5.1229348173365e-05,5.134041566634551e-05,5.1930532208643854e-05,5.2100214816164225e-05,5.21848451171536e-05,5.234866330283694e-05,5.256378062767908e-05,5.2610070270020515e-05,5.2886742196278647e-05,5.305607555783354e-05,5.308680556481704e-05,5.3212253988021985e-05,5.340368807082996e-05,5.347751357476227e-05,5.3510466386796907e-05,5.356534165912308e-05,5.437589425127953e-05,5.459642125060782e-05,5.461179534904659e-05,5.4985779570415616e-05,5.518257967196405e-05,5.523731670109555e-05,5.5827913456596434e-05,5.6207034504041076e-05,5.62140739930328e-05,5.628336293739267e-05,5.651851824950427e-05,5.661454997607507e-05,5.6731350923655555e-05,5.70580450585112e-05,5.765079185948707e-05,5.768884511780925e-05,5.792678348370828e-05,5.826385677210055e-05,5.840364610776305e-05,5.865463026566431e-05,5.8752480981638655e-05,5.909864557906985e-05,5.919332761550322e-05,5.93359800404869e-05,5.934649016126059e-05,5.965323725831695e-05,6.0335034504532814e-05,6.063895853003487e-05,6.127105734776706e-05,6.164938531583175e-05,6.171489803818986e-05,6.208106060512364e-05,6.26174733042717e-05,6.273590406635776e-05,6.289778684731573e-05,6.416227552108467e-05,6.41949736746028e-05,6.451491208281368e-05,6.471609231084585e-05,6.513867265312001e-05,6.594754086108878e-05,6.60737932776101e-05,6.660794315394014e-05,6.670670700259507e-05,6.748559098923579e-05,6.775107613066211e-05,6.784287688788027e-05,6.787397433072329e-05,6.801675772294402e-05,6.91088498570025e-05,6.975204451009631e-05,7.039344927761704e-05,7.04894628142938e-05,7.067159458529204e-05,7.074689347064123e-05,7.149368320824578e-05,7.214121433207765e-05,7.261291466420516e-05,7.274557719938457e-05,7.319913129322231e-05,7.3314702603966e-05,7.451944111380726e-05,7.452394493157044e-05,7.472465222235769e-05,7.582609396195039e-05,7.666469900868833e-05,7.715180254308507e-05,7.725167961325496e-05,7.734879181953147e-05,7.764867041260004e-05,7.831789116607979e-05,7.925290992716327e-05,7.940045179566368e-05,8.017926302272826e-05,8.107876783469692e-05,8.180526492651552e-05,8.364508539671078e-05,8.393746975343674e-05,8.429259469266981e-05,8.50409924169071e-05,8.50483265821822e-05,8.522396819898859e-05,8.593803067924455e-05,8.608971256762743e-05,8.642254397273064e-05,8.899511158233508e-05,9.031168156070635e-05,9.036225674208254e-05,9.49082022998482e-05,9.530576062388718e-05,9.608806431060657e-05,9.733668412081897e-05,9.827390749705955e-05,0.00010029710392700508,0.00010066694812849164,0.0001009153711493127,0.00010095113248098642,0.00010279685375280678,0.00010484440281288698,0.00010585303971311077,0.00010721460421336815,0.00010738593118730932,0.00011106982128694654,0.0001115674022003077,0.00011303024075459689,0.00011497142259031534,0.00012024578609270975,0.0001220935955643654,0.00012633578444365412,0.00013371875684242696,0.00013959224452264607,0.00017240508168470114,0.004882930312305689,0.004883624613285065,0.004884007386863232,0.004890482872724533,0.004920507315546274,0.004920809995383024,0.00501719955354929,0.00501754367724061,0.00503998389467597],\"type\":\"scatter\"},{\"hoverinfo\":\"text\",\"hovertext\":[\"(0.0050430274568498135, 0.009983155876398087)\",\"(0.00014679304149467498, 0.00014788430416956544)\",\"(0.0001280101714655757, 0.0001288356288569048)\",\"(0.00012639812484849244, 0.0001292061060667038)\",\"(0.00012600512127391994, 0.00013951990695204586)\",\"(0.00012593629071488976, 0.00013525475515052676)\",\"(0.00012217920448165387, 0.00012473651440814137)\",\"(0.00011870975140482187, 0.00012774592323694378)\",\"(0.0001166039437521249, 0.0001362986076856032)\",\"(0.00011658995936159045, 0.0001188992100651376)\",\"(0.00011365721729816869, 0.00011988932965323329)\",\"(0.00011176209955010563, 0.00011411021114327013)\",\"(0.00011145394819322973, 0.00011968750914093107)\",\"(0.00011016624921467155, 0.00011121160059701651)\",\"(0.0001099565124604851, 0.00012126100773457438)\",\"(0.00010942958761006594, 0.00011142554285470396)\",\"(0.0001071821607183665, 0.00011995792738161981)\",\"(0.00010578311776043847, 0.00011896655632881448)\",\"(0.00010575319174677134, 0.00011966316378675401)\",\"(0.00010552956518949941, 0.00010720363934524357)\",\"(0.00010098355414811522, 0.00010194653441431001)\",\"(9.872727969195694e-05, 0.00010734750685514882)\",\"(9.839828999247402e-05, 0.00010805021156556904)\",\"(9.806392336031422e-05, 0.00010582256072666496)\",\"(9.788951138034463e-05, 0.00010540119546931237)\",\"(9.760427928995341e-05, 9.845628665061668e-05)\",\"(9.714825864648446e-05, 0.00010107031994266436)\",\"(9.320924436906353e-05, 9.805010631680489e-05)\",\"(9.076412970898673e-05, 0.00010936019680229947)\",\"(9.049141954164952e-05, 9.065652557183057e-05)\",\"(8.997577970148996e-05, 9.016284457175061e-05)\",\"(8.927199087338522e-05, 9.181266068480909e-05)\",\"(8.915209036786109e-05, 9.791462071007118e-05)\",\"(8.903417619876564e-05, 9.783718996914104e-05)\",\"(8.89682924025692e-05, 0.00010064990783575922)\",\"(8.81198066053912e-05, 9.613709698896855e-05)\",\"(8.810170402284712e-05, 9.88527899608016e-05)\",\"(8.780283678788692e-05, 9.565127402311191e-05)\",\"(8.75588521012105e-05, 8.972914656624198e-05)\",\"(8.715416333870962e-05, 9.232517913915217e-05)\",\"(8.674109994899482e-05, 9.446963667869568e-05)\",\"(8.656201680423692e-05, 8.712141425348818e-05)\",\"(8.485126454615965e-05, 9.454589599044994e-05)\",\"(8.313731814268976e-05, 8.330965647473931e-05)\",\"(8.313616854138672e-05, 0.00010951732838293537)\",\"(8.0210214946419e-05, 8.430312300333753e-05)\",\"(8.006716234376654e-05, 8.866775169735774e-05)\",\"(8.002281538210809e-05, 8.649841038277373e-05)\",\"(7.909371925052255e-05, 8.180057193385437e-05)\",\"(7.824206113582477e-05, 8.177491690730676e-05)\",\"(7.817552250344306e-05, 8.618771971669048e-05)\",\"(7.788398215780035e-05, 8.395946497330442e-05)\",\"(7.787628419464454e-05, 9.540309838484973e-05)\",\"(7.554009789600968e-05, 7.683485455345362e-05)\",\"(7.409517274936661e-05, 8.595979306846857e-05)\",\"(7.220102997962385e-05, 8.240365423262119e-05)\",\"(7.130069570848718e-05, 7.187292067101225e-05)\",\"(7.095152977854013e-05, 7.199778337962925e-05)\",\"(7.074639142956585e-05, 7.504988025175408e-05)\",\"(7.005858788033947e-05, 7.764635665807873e-05)\",\"(7.005328370723873e-05, 7.079501665430143e-05)\",\"(6.940268212929368e-05, 7.127748540369794e-05)\",\"(6.88430227455683e-05, 7.516371988458559e-05)\",\"(6.85100385453552e-05, 7.245569577207789e-05)\",\"(6.825805030530319e-05, 7.76574743213132e-05)\",\"(6.799647962907329e-05, 6.965277134440839e-05)\",\"(6.789164035581052e-05, 7.351463136728853e-05)\",\"(6.704239058308303e-05, 7.201376865850762e-05)\",\"(6.66183841531165e-05, 0.00010340886365156621)\",\"(6.626607500948012e-05, 6.666139233857393e-05)\",\"(6.55638359603472e-05, 7.610077591380104e-05)\",\"(6.549209501827136e-05, 7.201327389338985e-05)\",\"(6.493344699265435e-05, 6.614435551455244e-05)\",\"(6.366601155605167e-05, 8.204852929338813e-05)\",\"(6.350155308609828e-05, 7.384453783743083e-05)\",\"(6.264753028517589e-05, 6.889386713737622e-05)\",\"(6.233993917703629e-05, 7.453392026945949e-05)\",\"(6.142743222881109e-05, 6.280907109612599e-05)\",\"(6.023796595400199e-05, 7.976419874466956e-05)\",\"(6.000299981678836e-05, 9.034154936671257e-05)\",\"(5.9694833907997236e-05, 6.783262506360188e-05)\",\"(5.916921509196982e-05, 6.997946184128523e-05)\",\"(5.8166835515294224e-05, 7.663028372917324e-05)\",\"(5.766140020568855e-05, 6.393328658305109e-05)\",\"(5.7135755923809484e-05, 6.67604326736182e-05)\",\"(5.64306064916309e-05, 6.755716458428651e-05)\",\"(5.464011337608099e-05, 7.552422175649554e-05)\",\"(4.088672358193435e-05, 4.846222509513609e-05)\"],\"mode\":\"markers\",\"name\":\"H1\",\"x\":[0.0050430274568498135,0.00014679304149467498,0.0001280101714655757,0.00012639812484849244,0.00012600512127391994,0.00012593629071488976,0.00012217920448165387,0.00011870975140482187,0.0001166039437521249,0.00011658995936159045,0.00011365721729816869,0.00011176209955010563,0.00011145394819322973,0.00011016624921467155,0.0001099565124604851,0.00010942958761006594,0.0001071821607183665,0.00010578311776043847,0.00010575319174677134,0.00010552956518949941,0.00010098355414811522,9.872727969195694e-05,9.839828999247402e-05,9.806392336031422e-05,9.788951138034463e-05,9.760427928995341e-05,9.714825864648446e-05,9.320924436906353e-05,9.076412970898673e-05,9.049141954164952e-05,8.997577970148996e-05,8.927199087338522e-05,8.915209036786109e-05,8.903417619876564e-05,8.89682924025692e-05,8.81198066053912e-05,8.810170402284712e-05,8.780283678788692e-05,8.75588521012105e-05,8.715416333870962e-05,8.674109994899482e-05,8.656201680423692e-05,8.485126454615965e-05,8.313731814268976e-05,8.313616854138672e-05,8.0210214946419e-05,8.006716234376654e-05,8.002281538210809e-05,7.909371925052255e-05,7.824206113582477e-05,7.817552250344306e-05,7.788398215780035e-05,7.787628419464454e-05,7.554009789600968e-05,7.409517274936661e-05,7.220102997962385e-05,7.130069570848718e-05,7.095152977854013e-05,7.074639142956585e-05,7.005858788033947e-05,7.005328370723873e-05,6.940268212929368e-05,6.88430227455683e-05,6.85100385453552e-05,6.825805030530319e-05,6.799647962907329e-05,6.789164035581052e-05,6.704239058308303e-05,6.66183841531165e-05,6.626607500948012e-05,6.55638359603472e-05,6.549209501827136e-05,6.493344699265435e-05,6.366601155605167e-05,6.350155308609828e-05,6.264753028517589e-05,6.233993917703629e-05,6.142743222881109e-05,6.023796595400199e-05,6.000299981678836e-05,5.9694833907997236e-05,5.916921509196982e-05,5.8166835515294224e-05,5.766140020568855e-05,5.7135755923809484e-05,5.64306064916309e-05,5.464011337608099e-05,4.088672358193435e-05],\"y\":[0.009983155876398087,0.00014788430416956544,0.0001288356288569048,0.0001292061060667038,0.00013951990695204586,0.00013525475515052676,0.00012473651440814137,0.00012774592323694378,0.0001362986076856032,0.0001188992100651376,0.00011988932965323329,0.00011411021114327013,0.00011968750914093107,0.00011121160059701651,0.00012126100773457438,0.00011142554285470396,0.00011995792738161981,0.00011896655632881448,0.00011966316378675401,0.00010720363934524357,0.00010194653441431001,0.00010734750685514882,0.00010805021156556904,0.00010582256072666496,0.00010540119546931237,9.845628665061668e-05,0.00010107031994266436,9.805010631680489e-05,0.00010936019680229947,9.065652557183057e-05,9.016284457175061e-05,9.181266068480909e-05,9.791462071007118e-05,9.783718996914104e-05,0.00010064990783575922,9.613709698896855e-05,9.88527899608016e-05,9.565127402311191e-05,8.972914656624198e-05,9.232517913915217e-05,9.446963667869568e-05,8.712141425348818e-05,9.454589599044994e-05,8.330965647473931e-05,0.00010951732838293537,8.430312300333753e-05,8.866775169735774e-05,8.649841038277373e-05,8.180057193385437e-05,8.177491690730676e-05,8.618771971669048e-05,8.395946497330442e-05,9.540309838484973e-05,7.683485455345362e-05,8.595979306846857e-05,8.240365423262119e-05,7.187292067101225e-05,7.199778337962925e-05,7.504988025175408e-05,7.764635665807873e-05,7.079501665430143e-05,7.127748540369794e-05,7.516371988458559e-05,7.245569577207789e-05,7.76574743213132e-05,6.965277134440839e-05,7.351463136728853e-05,7.201376865850762e-05,0.00010340886365156621,6.666139233857393e-05,7.610077591380104e-05,7.201327389338985e-05,6.614435551455244e-05,8.204852929338813e-05,7.384453783743083e-05,6.889386713737622e-05,7.453392026945949e-05,6.280907109612599e-05,7.976419874466956e-05,9.034154936671257e-05,6.783262506360188e-05,6.997946184128523e-05,7.663028372917324e-05,6.393328658305109e-05,6.67604326736182e-05,6.755716458428651e-05,7.552422175649554e-05,4.846222509513609e-05],\"type\":\"scatter\"},{\"hoverinfo\":\"text\",\"hovertext\":[\"(0.01000925898551941, 0.010011621750891209)\",\"(0.010007326491177082, 0.010027261450886726)\",\"(0.0001494645548518747, 0.00015213392907753587)\",\"(0.00014066888252273202, 0.00014741136692464352)\",\"(0.00012929934018757194, 0.0001360793539788574)\",\"(0.00012539293675217777, 0.00013222107372712344)\",\"(0.00012162566417828202, 0.00012204427184769884)\",\"(0.00012123559281462803, 0.000123789141071029)\",\"(0.00010609825403662398, 0.00010878530156333)\",\"(0.00010435429430799559, 0.00010819328599609435)\",\"(0.0001020274285110645, 0.00010360581654822454)\",\"(0.00010107031994266436, 0.00010208618186879903)\",\"(0.00010103234671987593, 0.00011009405716322362)\",\"(9.961639443645254e-05, 0.00010139217920368537)\",\"(9.880206926027313e-05, 0.00010131965245818719)\",\"(9.805744048207998e-05, 9.962433978216723e-05)\",\"(9.446773037780076e-05, 0.00010162348917219788)\",\"(9.187350224237889e-05, 9.262110688723624e-05)\",\"(9.159126784652472e-05, 9.240853250958025e-05)\",\"(8.922321285353974e-05, 9.173608850687742e-05)\",\"(8.868600707501173e-05, 9.07218418433331e-05)\",\"(8.868600707501173e-05, 8.936127414926887e-05)\",\"(8.797884947853163e-05, 8.972914656624198e-05)\",\"(8.618382707936689e-05, 8.666903886478394e-05)\",\"(8.290520054288208e-05, 8.925412112148479e-05)\",\"(8.209207589970902e-05, 8.411813905695453e-05)\",\"(8.177491690730676e-05, 8.486751175951213e-05)\",\"(8.172386878868565e-05, 8.204852929338813e-05)\",\"(8.025415445445105e-05, 8.096139208646491e-05)\",\"(7.889667904237285e-05, 8.096139208646491e-05)\",\"(7.746157643850893e-05, 7.940618525026366e-05)\",\"(7.714356615906581e-05, 8.067487215157598e-05)\",\"(7.623899728059769e-05, 8.666903886478394e-05)\",\"(7.608265150338411e-05, 7.7657779911533e-05)\",\"(7.469624688383192e-05, 7.71631530369632e-05)\",\"(6.934823613846675e-05, 6.946882785996422e-05)\"],\"mode\":\"markers\",\"name\":\"H2\",\"x\":[0.01000925898551941,0.010007326491177082,0.0001494645548518747,0.00014066888252273202,0.00012929934018757194,0.00012539293675217777,0.00012162566417828202,0.00012123559281462803,0.00010609825403662398,0.00010435429430799559,0.0001020274285110645,0.00010107031994266436,0.00010103234671987593,9.961639443645254e-05,9.880206926027313e-05,9.805744048207998e-05,9.446773037780076e-05,9.187350224237889e-05,9.159126784652472e-05,8.922321285353974e-05,8.868600707501173e-05,8.868600707501173e-05,8.797884947853163e-05,8.618382707936689e-05,8.290520054288208e-05,8.209207589970902e-05,8.177491690730676e-05,8.172386878868565e-05,8.025415445445105e-05,7.889667904237285e-05,7.746157643850893e-05,7.714356615906581e-05,7.623899728059769e-05,7.608265150338411e-05,7.469624688383192e-05,6.934823613846675e-05],\"y\":[0.010011621750891209,0.010027261450886726,0.00015213392907753587,0.00014741136692464352,0.0001360793539788574,0.00013222107372712344,0.00012204427184769884,0.000123789141071029,0.00010878530156333,0.00010819328599609435,0.00010360581654822454,0.00010208618186879903,0.00011009405716322362,0.00010139217920368537,0.00010131965245818719,9.962433978216723e-05,0.00010162348917219788,9.262110688723624e-05,9.240853250958025e-05,9.173608850687742e-05,9.07218418433331e-05,8.936127414926887e-05,8.972914656624198e-05,8.666903886478394e-05,8.925412112148479e-05,8.411813905695453e-05,8.486751175951213e-05,8.204852929338813e-05,8.096139208646491e-05,8.096139208646491e-05,7.940618525026366e-05,8.067487215157598e-05,8.666903886478394e-05,7.7657779911533e-05,7.71631530369632e-05,6.946882785996422e-05],\"type\":\"scatter\"}],                        {\"template\":{\"data\":{\"histogram2dcontour\":[{\"type\":\"histogram2dcontour\",\"colorbar\":{\"outlinewidth\":0,\"ticks\":\"\"},\"colorscale\":[[0.0,\"#0d0887\"],[0.1111111111111111,\"#46039f\"],[0.2222222222222222,\"#7201a8\"],[0.3333333333333333,\"#9c179e\"],[0.4444444444444444,\"#bd3786\"],[0.5555555555555556,\"#d8576b\"],[0.6666666666666666,\"#ed7953\"],[0.7777777777777778,\"#fb9f3a\"],[0.8888888888888888,\"#fdca26\"],[1.0,\"#f0f921\"]]}],\"choropleth\":[{\"type\":\"choropleth\",\"colorbar\":{\"outlinewidth\":0,\"ticks\":\"\"}}],\"histogram2d\":[{\"type\":\"histogram2d\",\"colorbar\":{\"outlinewidth\":0,\"ticks\":\"\"},\"colorscale\":[[0.0,\"#0d0887\"],[0.1111111111111111,\"#46039f\"],[0.2222222222222222,\"#7201a8\"],[0.3333333333333333,\"#9c179e\"],[0.4444444444444444,\"#bd3786\"],[0.5555555555555556,\"#d8576b\"],[0.6666666666666666,\"#ed7953\"],[0.7777777777777778,\"#fb9f3a\"],[0.8888888888888888,\"#fdca26\"],[1.0,\"#f0f921\"]]}],\"heatmap\":[{\"type\":\"heatmap\",\"colorbar\":{\"outlinewidth\":0,\"ticks\":\"\"},\"colorscale\":[[0.0,\"#0d0887\"],[0.1111111111111111,\"#46039f\"],[0.2222222222222222,\"#7201a8\"],[0.3333333333333333,\"#9c179e\"],[0.4444444444444444,\"#bd3786\"],[0.5555555555555556,\"#d8576b\"],[0.6666666666666666,\"#ed7953\"],[0.7777777777777778,\"#fb9f3a\"],[0.8888888888888888,\"#fdca26\"],[1.0,\"#f0f921\"]]}],\"heatmapgl\":[{\"type\":\"heatmapgl\",\"colorbar\":{\"outlinewidth\":0,\"ticks\":\"\"},\"colorscale\":[[0.0,\"#0d0887\"],[0.1111111111111111,\"#46039f\"],[0.2222222222222222,\"#7201a8\"],[0.3333333333333333,\"#9c179e\"],[0.4444444444444444,\"#bd3786\"],[0.5555555555555556,\"#d8576b\"],[0.6666666666666666,\"#ed7953\"],[0.7777777777777778,\"#fb9f3a\"],[0.8888888888888888,\"#fdca26\"],[1.0,\"#f0f921\"]]}],\"contourcarpet\":[{\"type\":\"contourcarpet\",\"colorbar\":{\"outlinewidth\":0,\"ticks\":\"\"}}],\"contour\":[{\"type\":\"contour\",\"colorbar\":{\"outlinewidth\":0,\"ticks\":\"\"},\"colorscale\":[[0.0,\"#0d0887\"],[0.1111111111111111,\"#46039f\"],[0.2222222222222222,\"#7201a8\"],[0.3333333333333333,\"#9c179e\"],[0.4444444444444444,\"#bd3786\"],[0.5555555555555556,\"#d8576b\"],[0.6666666666666666,\"#ed7953\"],[0.7777777777777778,\"#fb9f3a\"],[0.8888888888888888,\"#fdca26\"],[1.0,\"#f0f921\"]]}],\"surface\":[{\"type\":\"surface\",\"colorbar\":{\"outlinewidth\":0,\"ticks\":\"\"},\"colorscale\":[[0.0,\"#0d0887\"],[0.1111111111111111,\"#46039f\"],[0.2222222222222222,\"#7201a8\"],[0.3333333333333333,\"#9c179e\"],[0.4444444444444444,\"#bd3786\"],[0.5555555555555556,\"#d8576b\"],[0.6666666666666666,\"#ed7953\"],[0.7777777777777778,\"#fb9f3a\"],[0.8888888888888888,\"#fdca26\"],[1.0,\"#f0f921\"]]}],\"mesh3d\":[{\"type\":\"mesh3d\",\"colorbar\":{\"outlinewidth\":0,\"ticks\":\"\"}}],\"scatter\":[{\"fillpattern\":{\"fillmode\":\"overlay\",\"size\":10,\"solidity\":0.2},\"type\":\"scatter\"}],\"parcoords\":[{\"type\":\"parcoords\",\"line\":{\"colorbar\":{\"outlinewidth\":0,\"ticks\":\"\"}}}],\"scatterpolargl\":[{\"type\":\"scatterpolargl\",\"marker\":{\"colorbar\":{\"outlinewidth\":0,\"ticks\":\"\"}}}],\"bar\":[{\"error_x\":{\"color\":\"#2a3f5f\"},\"error_y\":{\"color\":\"#2a3f5f\"},\"marker\":{\"line\":{\"color\":\"#E5ECF6\",\"width\":0.5},\"pattern\":{\"fillmode\":\"overlay\",\"size\":10,\"solidity\":0.2}},\"type\":\"bar\"}],\"scattergeo\":[{\"type\":\"scattergeo\",\"marker\":{\"colorbar\":{\"outlinewidth\":0,\"ticks\":\"\"}}}],\"scatterpolar\":[{\"type\":\"scatterpolar\",\"marker\":{\"colorbar\":{\"outlinewidth\":0,\"ticks\":\"\"}}}],\"histogram\":[{\"marker\":{\"pattern\":{\"fillmode\":\"overlay\",\"size\":10,\"solidity\":0.2}},\"type\":\"histogram\"}],\"scattergl\":[{\"type\":\"scattergl\",\"marker\":{\"colorbar\":{\"outlinewidth\":0,\"ticks\":\"\"}}}],\"scatter3d\":[{\"type\":\"scatter3d\",\"line\":{\"colorbar\":{\"outlinewidth\":0,\"ticks\":\"\"}},\"marker\":{\"colorbar\":{\"outlinewidth\":0,\"ticks\":\"\"}}}],\"scattermapbox\":[{\"type\":\"scattermapbox\",\"marker\":{\"colorbar\":{\"outlinewidth\":0,\"ticks\":\"\"}}}],\"scatterternary\":[{\"type\":\"scatterternary\",\"marker\":{\"colorbar\":{\"outlinewidth\":0,\"ticks\":\"\"}}}],\"scattercarpet\":[{\"type\":\"scattercarpet\",\"marker\":{\"colorbar\":{\"outlinewidth\":0,\"ticks\":\"\"}}}],\"carpet\":[{\"aaxis\":{\"endlinecolor\":\"#2a3f5f\",\"gridcolor\":\"white\",\"linecolor\":\"white\",\"minorgridcolor\":\"white\",\"startlinecolor\":\"#2a3f5f\"},\"baxis\":{\"endlinecolor\":\"#2a3f5f\",\"gridcolor\":\"white\",\"linecolor\":\"white\",\"minorgridcolor\":\"white\",\"startlinecolor\":\"#2a3f5f\"},\"type\":\"carpet\"}],\"table\":[{\"cells\":{\"fill\":{\"color\":\"#EBF0F8\"},\"line\":{\"color\":\"white\"}},\"header\":{\"fill\":{\"color\":\"#C8D4E3\"},\"line\":{\"color\":\"white\"}},\"type\":\"table\"}],\"barpolar\":[{\"marker\":{\"line\":{\"color\":\"#E5ECF6\",\"width\":0.5},\"pattern\":{\"fillmode\":\"overlay\",\"size\":10,\"solidity\":0.2}},\"type\":\"barpolar\"}],\"pie\":[{\"automargin\":true,\"type\":\"pie\"}]},\"layout\":{\"autotypenumbers\":\"strict\",\"colorway\":[\"#636efa\",\"#EF553B\",\"#00cc96\",\"#ab63fa\",\"#FFA15A\",\"#19d3f3\",\"#FF6692\",\"#B6E880\",\"#FF97FF\",\"#FECB52\"],\"font\":{\"color\":\"#2a3f5f\"},\"hovermode\":\"closest\",\"hoverlabel\":{\"align\":\"left\"},\"paper_bgcolor\":\"white\",\"plot_bgcolor\":\"#E5ECF6\",\"polar\":{\"bgcolor\":\"#E5ECF6\",\"angularaxis\":{\"gridcolor\":\"white\",\"linecolor\":\"white\",\"ticks\":\"\"},\"radialaxis\":{\"gridcolor\":\"white\",\"linecolor\":\"white\",\"ticks\":\"\"}},\"ternary\":{\"bgcolor\":\"#E5ECF6\",\"aaxis\":{\"gridcolor\":\"white\",\"linecolor\":\"white\",\"ticks\":\"\"},\"baxis\":{\"gridcolor\":\"white\",\"linecolor\":\"white\",\"ticks\":\"\"},\"caxis\":{\"gridcolor\":\"white\",\"linecolor\":\"white\",\"ticks\":\"\"}},\"coloraxis\":{\"colorbar\":{\"outlinewidth\":0,\"ticks\":\"\"}},\"colorscale\":{\"sequential\":[[0.0,\"#0d0887\"],[0.1111111111111111,\"#46039f\"],[0.2222222222222222,\"#7201a8\"],[0.3333333333333333,\"#9c179e\"],[0.4444444444444444,\"#bd3786\"],[0.5555555555555556,\"#d8576b\"],[0.6666666666666666,\"#ed7953\"],[0.7777777777777778,\"#fb9f3a\"],[0.8888888888888888,\"#fdca26\"],[1.0,\"#f0f921\"]],\"sequentialminus\":[[0.0,\"#0d0887\"],[0.1111111111111111,\"#46039f\"],[0.2222222222222222,\"#7201a8\"],[0.3333333333333333,\"#9c179e\"],[0.4444444444444444,\"#bd3786\"],[0.5555555555555556,\"#d8576b\"],[0.6666666666666666,\"#ed7953\"],[0.7777777777777778,\"#fb9f3a\"],[0.8888888888888888,\"#fdca26\"],[1.0,\"#f0f921\"]],\"diverging\":[[0,\"#8e0152\"],[0.1,\"#c51b7d\"],[0.2,\"#de77ae\"],[0.3,\"#f1b6da\"],[0.4,\"#fde0ef\"],[0.5,\"#f7f7f7\"],[0.6,\"#e6f5d0\"],[0.7,\"#b8e186\"],[0.8,\"#7fbc41\"],[0.9,\"#4d9221\"],[1,\"#276419\"]]},\"xaxis\":{\"gridcolor\":\"white\",\"linecolor\":\"white\",\"ticks\":\"\",\"title\":{\"standoff\":15},\"zerolinecolor\":\"white\",\"automargin\":true,\"zerolinewidth\":2},\"yaxis\":{\"gridcolor\":\"white\",\"linecolor\":\"white\",\"ticks\":\"\",\"title\":{\"standoff\":15},\"zerolinecolor\":\"white\",\"automargin\":true,\"zerolinewidth\":2},\"scene\":{\"xaxis\":{\"backgroundcolor\":\"#E5ECF6\",\"gridcolor\":\"white\",\"linecolor\":\"white\",\"showbackground\":true,\"ticks\":\"\",\"zerolinecolor\":\"white\",\"gridwidth\":2},\"yaxis\":{\"backgroundcolor\":\"#E5ECF6\",\"gridcolor\":\"white\",\"linecolor\":\"white\",\"showbackground\":true,\"ticks\":\"\",\"zerolinecolor\":\"white\",\"gridwidth\":2},\"zaxis\":{\"backgroundcolor\":\"#E5ECF6\",\"gridcolor\":\"white\",\"linecolor\":\"white\",\"showbackground\":true,\"ticks\":\"\",\"zerolinecolor\":\"white\",\"gridwidth\":2}},\"shapedefaults\":{\"line\":{\"color\":\"#2a3f5f\"}},\"annotationdefaults\":{\"arrowcolor\":\"#2a3f5f\",\"arrowhead\":0,\"arrowwidth\":1},\"geo\":{\"bgcolor\":\"white\",\"landcolor\":\"#E5ECF6\",\"subunitcolor\":\"white\",\"showland\":true,\"showlakes\":true,\"lakecolor\":\"white\"},\"title\":{\"x\":0.05},\"mapbox\":{\"style\":\"light\"}}},\"xaxis\":{\"title\":{\"text\":\"Birth\"},\"side\":\"bottom\",\"type\":\"linear\",\"range\":[-0.00020054522901773454,0.010227806679904462],\"autorange\":false,\"ticks\":\"outside\",\"showline\":true,\"zeroline\":true,\"linewidth\":1,\"linecolor\":\"black\",\"mirror\":false,\"showexponent\":\"all\",\"exponentformat\":\"e\"},\"yaxis\":{\"title\":{\"text\":\"Death\"},\"side\":\"left\",\"type\":\"linear\",\"range\":[-0.00020054522901773454,0.010227806679904462],\"autorange\":false,\"scaleanchor\":\"x\",\"scaleratio\":1,\"ticks\":\"outside\",\"showline\":true,\"zeroline\":true,\"linewidth\":1,\"linecolor\":\"black\",\"mirror\":false,\"showexponent\":\"all\",\"exponentformat\":\"e\"},\"width\":500,\"height\":500,\"plot_bgcolor\":\"white\"},                        {\"responsive\": true}                    ).then(function(){\n",
       "                            \n",
       "var gd = document.getElementById('331dfe96-05aa-41a5-ac72-c9664534d471');\n",
       "var x = new MutationObserver(function (mutations, observer) {{\n",
       "        var display = window.getComputedStyle(gd).display;\n",
       "        if (!display || display === 'none') {{\n",
       "            console.log([gd, 'removed!']);\n",
       "            Plotly.purge(gd);\n",
       "            observer.disconnect();\n",
       "        }}\n",
       "}});\n",
       "\n",
       "// Listen for the removal of the full notebook cells\n",
       "var notebookContainer = gd.closest('#notebook-container');\n",
       "if (notebookContainer) {{\n",
       "    x.observe(notebookContainer, {childList: true});\n",
       "}}\n",
       "\n",
       "// Listen for the clearing of the current output cell\n",
       "var outputEl = gd.closest('.output');\n",
       "if (outputEl) {{\n",
       "    x.observe(outputEl, {childList: true});\n",
       "}}\n",
       "\n",
       "                        })                };                });            </script>        </div>"
      ]
     },
     "metadata": {},
     "output_type": "display_data"
    }
   ],
   "source": [
    "# Finding the most representative diagram for label 7\n",
    "\n",
    "# First, compute the pairwise Wasserstein distances (Use all training data as there are not too many label 7 diagrams)\n",
    "pairwise_wasserstein_distances_label_7 = PairwiseDistance(metric=\"wasserstein\").fit_transform(train_shortened_diagrams_label_7)\n",
    "\n",
    "# For each hole, calculate the sum of distances to all other holes\n",
    "sum_distances = [sum(dist) for dist in pairwise_wasserstein_distances_label_7]\n",
    "\n",
    "# Find the index of the Wasserstein barycenter\n",
    "most_representative_index = np.argmin(sum_distances)\n",
    "\n",
    "# Unshortened Wasserstein Barycenter for label 7\n",
    "representative_diagram_label_7 = persistence.fit_transform_plot([train_embeddings_label_7[most_representative_index]])"
   ]
  },
  {
   "cell_type": "markdown",
   "id": "485d4f05-e5d8-4995-a41e-3afbd76fcfaf",
   "metadata": {},
   "source": [
    "### Computing the distances of the test diagrams to the most representative diagram of each class"
   ]
  },
  {
   "cell_type": "code",
   "execution_count": 182,
   "id": "192c4db4-50cb-4ab1-b19d-d46c66bd172d",
   "metadata": {},
   "outputs": [],
   "source": [
    "# TODO maybe split cut_diagrams into two functions such that\n",
    "shortened_barycenter_label_1, _ = cut_diagrams([representative_diagram_label_1[0]], no_holes_per_dimension)\n",
    "shortened_barycenter_label_3, _ = cut_diagrams([representative_diagram_label_3[0]], no_holes_per_dimension)\n",
    "shortened_barycenter_label_5, _ = cut_diagrams([representative_diagram_label_5[0]], no_holes_per_dimension)\n",
    "shortened_barycenter_label_7, _ = cut_diagrams([representative_diagram_label_7[0]], no_holes_per_dimension)"
   ]
  },
  {
   "cell_type": "markdown",
   "id": "94072b6e-7b7c-44f2-ae15-1fe78101c8ef",
   "metadata": {},
   "source": [
    "#### Label 1"
   ]
  },
  {
   "cell_type": "code",
   "execution_count": 183,
   "id": "07e82691-e65c-4079-8d93-16d6d4f10512",
   "metadata": {},
   "outputs": [],
   "source": [
    "# TRAIN DATA \n",
    "\n",
    "# Distance of label 1 train diagrams to barycenters of each class\n",
    "train_label_1_distances_to_barycenter_1 = []\n",
    "train_label_1_distances_to_barycenter_3 = []\n",
    "train_label_1_distances_to_barycenter_5 = []\n",
    "train_label_1_distances_to_barycenter_7 = []\n",
    "\n",
    "# Loop through all train diagrams of label 1\n",
    "for diagram in train_shortened_diagrams_label_1:\n",
    "    # Barycenter of class 1\n",
    "    dist = PairwiseDistance(metric=\"wasserstein\").fit_transform([diagram, shortened_barycenter_label_1[0]])\n",
    "    train_label_1_distances_to_barycenter_1.append(max(dist[0]))\n",
    "\n",
    "    # Barycenter of class 3\n",
    "    dist = PairwiseDistance(metric=\"wasserstein\").fit_transform([diagram, shortened_barycenter_label_3[0]])\n",
    "    train_label_1_distances_to_barycenter_3.append(max(dist[0]))\n",
    "\n",
    "    # Barycenter of class 5\n",
    "    dist = PairwiseDistance(metric=\"wasserstein\").fit_transform([diagram, shortened_barycenter_label_5[0]])\n",
    "    train_label_1_distances_to_barycenter_5.append(max(dist[0]))\n",
    "\n",
    "    # Barycenter of class 7\n",
    "    dist = PairwiseDistance(metric=\"wasserstein\").fit_transform([diagram, shortened_barycenter_label_7[0]])\n",
    "    train_label_1_distances_to_barycenter_7.append(max(dist[0]))"
   ]
  },
  {
   "cell_type": "code",
   "execution_count": 184,
   "id": "607ce87c-2c8e-4157-8e65-2814699e091d",
   "metadata": {},
   "outputs": [
    {
     "name": "stdout",
     "output_type": "stream",
     "text": [
      "Mean distance of class 1 diagrams to class 1 Wasserstein barycenter: 7.577746698450201e-05\n",
      "Mean distance of class 1 diagrams to class 3 Wasserstein barycenter: 0.0005737054192338327\n",
      "Mean distance of class 1 diagrams to class 5 Wasserstein barycenter: 0.0002219497835853783\n",
      "Mean distance of class 1 diagrams to class 7 Wasserstein barycenter: 8.927790221263975e-05\n"
     ]
    }
   ],
   "source": [
    "# TEST DATA \n",
    "\n",
    "# Distance of label 1 test diagrams to barycenters of each class\n",
    "test_label_1_distances_to_barycenter_1 = []\n",
    "test_label_1_distances_to_barycenter_3 = []\n",
    "test_label_1_distances_to_barycenter_5 = []\n",
    "test_label_1_distances_to_barycenter_7 = []\n",
    "\n",
    "# Loop through all test diagrams of label 1\n",
    "for diagram in test_shortened_diagrams_label_1:\n",
    "    # Barycenter of class 1\n",
    "    dist = PairwiseDistance(metric=\"wasserstein\").fit_transform([diagram, shortened_barycenter_label_1[0]])\n",
    "    test_label_1_distances_to_barycenter_1.append(max(dist[0]))\n",
    "\n",
    "    # Barycenter of class 3\n",
    "    dist = PairwiseDistance(metric=\"wasserstein\").fit_transform([diagram, shortened_barycenter_label_3[0]])\n",
    "    test_label_1_distances_to_barycenter_3.append(max(dist[0]))\n",
    "\n",
    "    # Barycenter of class 5\n",
    "    dist = PairwiseDistance(metric=\"wasserstein\").fit_transform([diagram, shortened_barycenter_label_5[0]])\n",
    "    test_label_1_distances_to_barycenter_5.append(max(dist[0]))\n",
    "\n",
    "    # Barycenter of class 7\n",
    "    dist = PairwiseDistance(metric=\"wasserstein\").fit_transform([diagram, shortened_barycenter_label_7[0]])\n",
    "    test_label_1_distances_to_barycenter_7.append(max(dist[0]))\n",
    "\n",
    "\n",
    "print(\"Mean distance of class 1 diagrams to class 1 Wasserstein barycenter: \" + str(statistics.mean(test_label_1_distances_to_barycenter_1)))\n",
    "print(\"Mean distance of class 1 diagrams to class 3 Wasserstein barycenter: \" + str(statistics.mean(test_label_1_distances_to_barycenter_3)))\n",
    "print(\"Mean distance of class 1 diagrams to class 5 Wasserstein barycenter: \" + str(statistics.mean(test_label_1_distances_to_barycenter_5)))\n",
    "print(\"Mean distance of class 1 diagrams to class 7 Wasserstein barycenter: \" + str(statistics.mean(test_label_1_distances_to_barycenter_7)))"
   ]
  },
  {
   "cell_type": "markdown",
   "id": "3e4cfbfb-cd79-4e3b-900e-65a16d5eab96",
   "metadata": {},
   "source": [
    "#### Label 3"
   ]
  },
  {
   "cell_type": "code",
   "execution_count": 185,
   "id": "620c7bb8-6c04-44f9-9d75-0d09d7d82498",
   "metadata": {},
   "outputs": [],
   "source": [
    "# TRAIN DATA\n",
    "\n",
    "# Distance of label 3 train diagrams to barycenters of each class\n",
    "train_label_3_distances_to_barycenter_1 = []\n",
    "train_label_3_distances_to_barycenter_3 = []\n",
    "train_label_3_distances_to_barycenter_5 = []\n",
    "train_label_3_distances_to_barycenter_7 = []\n",
    "\n",
    "# Loop through all train diagrams of label 3\n",
    "for diagram in train_shortened_diagrams_label_3:\n",
    "\n",
    "    # Barycenter of class 1\n",
    "    dist = PairwiseDistance(metric=\"wasserstein\").fit_transform([diagram, shortened_barycenter_label_1[0]])\n",
    "    train_label_3_distances_to_barycenter_1.append(max(dist[0]))\n",
    "\n",
    "    # Barycenter of class 3\n",
    "    dist = PairwiseDistance(metric=\"wasserstein\").fit_transform([diagram, shortened_barycenter_label_3[0]])\n",
    "    train_label_3_distances_to_barycenter_3.append(max(dist[0]))\n",
    "\n",
    "    # Barycenter of class 5\n",
    "    dist = PairwiseDistance(metric=\"wasserstein\").fit_transform([diagram, shortened_barycenter_label_5[0]])\n",
    "    train_label_3_distances_to_barycenter_5.append(max(dist[0]))\n",
    "\n",
    "    # Barycenter of class 7\n",
    "    dist = PairwiseDistance(metric=\"wasserstein\").fit_transform([diagram, shortened_barycenter_label_7[0]])\n",
    "    train_label_3_distances_to_barycenter_7.append(max(dist[0]))"
   ]
  },
  {
   "cell_type": "code",
   "execution_count": 186,
   "id": "67670c3d-9a4a-4a1a-b8bd-d049a9b5cae4",
   "metadata": {},
   "outputs": [
    {
     "name": "stdout",
     "output_type": "stream",
     "text": [
      "Mean distance of class 1 diagrams to class 1 Wasserstein barycenter: 0.0005137708187742989\n",
      "Mean distance of class 1 diagrams to class 3 Wasserstein barycenter: 0.00021031808229450677\n",
      "Mean distance of class 1 diagrams to class 5 Wasserstein barycenter: 0.00033680868879289313\n",
      "Mean distance of class 1 diagrams to class 7 Wasserstein barycenter: 0.0005364139776694894\n"
     ]
    }
   ],
   "source": [
    "# TEST DATA\n",
    "\n",
    "# Distance of label 3 test diagrams to barycenters of each class\n",
    "test_label_3_distances_to_barycenter_1 = []\n",
    "test_label_3_distances_to_barycenter_3 = []\n",
    "test_label_3_distances_to_barycenter_5 = []\n",
    "test_label_3_distances_to_barycenter_7 = []\n",
    "\n",
    "# Loop through all test diagrams of label 3\n",
    "for diagram in test_shortened_diagrams_label_3:\n",
    "\n",
    "    # Barycenter of class 1\n",
    "    dist = PairwiseDistance(metric=\"wasserstein\").fit_transform([diagram, shortened_barycenter_label_1[0]])\n",
    "    test_label_3_distances_to_barycenter_1.append(max(dist[0]))\n",
    "\n",
    "    # Barycenter of class 3\n",
    "    dist = PairwiseDistance(metric=\"wasserstein\").fit_transform([diagram, shortened_barycenter_label_3[0]])\n",
    "    test_label_3_distances_to_barycenter_3.append(max(dist[0]))\n",
    "\n",
    "    # Barycenter of class 5\n",
    "    dist = PairwiseDistance(metric=\"wasserstein\").fit_transform([diagram, shortened_barycenter_label_5[0]])\n",
    "    test_label_3_distances_to_barycenter_5.append(max(dist[0]))\n",
    "\n",
    "    # Barycenter of class 7\n",
    "    dist = PairwiseDistance(metric=\"wasserstein\").fit_transform([diagram, shortened_barycenter_label_7[0]])\n",
    "    test_label_3_distances_to_barycenter_7.append(max(dist[0]))\n",
    "\n",
    "\n",
    "print(\"Mean distance of class 1 diagrams to class 1 Wasserstein barycenter: \" + str(statistics.mean(test_label_3_distances_to_barycenter_1)))\n",
    "print(\"Mean distance of class 1 diagrams to class 3 Wasserstein barycenter: \" + str(statistics.mean(test_label_3_distances_to_barycenter_3)))\n",
    "print(\"Mean distance of class 1 diagrams to class 5 Wasserstein barycenter: \" + str(statistics.mean(test_label_3_distances_to_barycenter_5)))\n",
    "print(\"Mean distance of class 1 diagrams to class 7 Wasserstein barycenter: \" + str(statistics.mean(test_label_3_distances_to_barycenter_7)))"
   ]
  },
  {
   "cell_type": "markdown",
   "id": "730ffb32-e0f4-439f-aa44-012d676d95d2",
   "metadata": {},
   "source": [
    "#### Label 5"
   ]
  },
  {
   "cell_type": "code",
   "execution_count": 187,
   "id": "68f799f4-76fd-4c45-91c7-0d2fda631f6c",
   "metadata": {},
   "outputs": [],
   "source": [
    "# TRAIN DATA\n",
    "\n",
    "# Distance of label 5 train diagrams to barycenters of each class\n",
    "train_label_5_distances_to_barycenter_1 = []\n",
    "train_label_5_distances_to_barycenter_3 = []\n",
    "train_label_5_distances_to_barycenter_5 = []\n",
    "train_label_5_distances_to_barycenter_7 = []\n",
    "\n",
    "# Loop through all train diagrams of label 5\n",
    "for diagram in train_shortened_diagrams_label_5:\n",
    "\n",
    "    # Barycenter of class 1\n",
    "    dist = PairwiseDistance(metric=\"wasserstein\").fit_transform([diagram, shortened_barycenter_label_1[0]])\n",
    "    train_label_5_distances_to_barycenter_1.append(max(dist[0]))\n",
    "\n",
    "    # Barycenter of class 3\n",
    "    dist = PairwiseDistance(metric=\"wasserstein\").fit_transform([diagram, shortened_barycenter_label_3[0]])\n",
    "    train_label_5_distances_to_barycenter_3.append(max(dist[0]))\n",
    "\n",
    "    # Barycenter of class 5\n",
    "    dist = PairwiseDistance(metric=\"wasserstein\").fit_transform([diagram, shortened_barycenter_label_5[0]])\n",
    "    train_label_5_distances_to_barycenter_5.append(max(dist[0]))\n",
    "\n",
    "    # Barycenter of class 7\n",
    "    dist = PairwiseDistance(metric=\"wasserstein\").fit_transform([diagram, shortened_barycenter_label_7[0]])\n",
    "    train_label_5_distances_to_barycenter_7.append(max(dist[0]))"
   ]
  },
  {
   "cell_type": "code",
   "execution_count": 188,
   "id": "a962322d-a104-438c-ae5b-900c0c95f73d",
   "metadata": {},
   "outputs": [
    {
     "name": "stdout",
     "output_type": "stream",
     "text": [
      "Mean distance of class 1 diagrams to class 1 Wasserstein barycenter: 0.0002187620709582212\n",
      "Mean distance of class 1 diagrams to class 3 Wasserstein barycenter: 0.0004453372191384985\n",
      "Mean distance of class 1 diagrams to class 5 Wasserstein barycenter: 0.00011063600887067381\n",
      "Mean distance of class 1 diagrams to class 7 Wasserstein barycenter: 0.0002597641257310417\n"
     ]
    }
   ],
   "source": [
    "# TEST DATA\n",
    "\n",
    "# Distance of label 5 test diagrams to barycenters of each class\n",
    "test_label_5_distances_to_barycenter_1 = []\n",
    "test_label_5_distances_to_barycenter_3 = []\n",
    "test_label_5_distances_to_barycenter_5 = []\n",
    "test_label_5_distances_to_barycenter_7 = []\n",
    "\n",
    "# Loop through all test diagrams of label 5\n",
    "for diagram in test_shortened_diagrams_label_5:\n",
    "\n",
    "    # Barycenter of class 1\n",
    "    dist = PairwiseDistance(metric=\"wasserstein\").fit_transform([diagram, shortened_barycenter_label_1[0]])\n",
    "    test_label_5_distances_to_barycenter_1.append(max(dist[0]))\n",
    "\n",
    "    # Barycenter of class 3\n",
    "    dist = PairwiseDistance(metric=\"wasserstein\").fit_transform([diagram, shortened_barycenter_label_3[0]])\n",
    "    test_label_5_distances_to_barycenter_3.append(max(dist[0]))\n",
    "\n",
    "    # Barycenter of class 5\n",
    "    dist = PairwiseDistance(metric=\"wasserstein\").fit_transform([diagram, shortened_barycenter_label_5[0]])\n",
    "    test_label_5_distances_to_barycenter_5.append(max(dist[0]))\n",
    "\n",
    "    # Barycenter of class 7\n",
    "    dist = PairwiseDistance(metric=\"wasserstein\").fit_transform([diagram, shortened_barycenter_label_7[0]])\n",
    "    test_label_5_distances_to_barycenter_7.append(max(dist[0]))\n",
    "\n",
    "\n",
    "print(\"Mean distance of class 1 diagrams to class 1 Wasserstein barycenter: \" + str(statistics.mean(test_label_5_distances_to_barycenter_1)))\n",
    "print(\"Mean distance of class 1 diagrams to class 3 Wasserstein barycenter: \" + str(statistics.mean(test_label_5_distances_to_barycenter_3)))\n",
    "print(\"Mean distance of class 1 diagrams to class 5 Wasserstein barycenter: \" + str(statistics.mean(test_label_5_distances_to_barycenter_5)))\n",
    "print(\"Mean distance of class 1 diagrams to class 7 Wasserstein barycenter: \" + str(statistics.mean(test_label_5_distances_to_barycenter_7)))"
   ]
  },
  {
   "cell_type": "markdown",
   "id": "1073f0a8-1be5-4804-831f-498b16b66e92",
   "metadata": {},
   "source": [
    "#### Label 7"
   ]
  },
  {
   "cell_type": "code",
   "execution_count": 189,
   "id": "6ef3229d-8f87-4d4d-ab47-f247eb7fc6fa",
   "metadata": {},
   "outputs": [],
   "source": [
    "# TRAIN DATA\n",
    "\n",
    "# Distance of label 5 train diagrams to barycenters of each class\n",
    "train_label_7_distances_to_barycenter_1 = []\n",
    "train_label_7_distances_to_barycenter_3 = []\n",
    "train_label_7_distances_to_barycenter_5 = []\n",
    "train_label_7_distances_to_barycenter_7 = []\n",
    "\n",
    "# Loop through all train diagrams of label 5\n",
    "for diagram in train_shortened_diagrams_label_7:\n",
    "\n",
    "    # Barycenter of class 1\n",
    "    dist = PairwiseDistance(metric=\"wasserstein\").fit_transform([diagram, shortened_barycenter_label_1[0]])\n",
    "    train_label_7_distances_to_barycenter_1.append(max(dist[0]))\n",
    "\n",
    "    # Barycenter of class 3\n",
    "    dist = PairwiseDistance(metric=\"wasserstein\").fit_transform([diagram, shortened_barycenter_label_3[0]])\n",
    "    train_label_7_distances_to_barycenter_3.append(max(dist[0]))\n",
    "\n",
    "    # Barycenter of class 5\n",
    "    dist = PairwiseDistance(metric=\"wasserstein\").fit_transform([diagram, shortened_barycenter_label_5[0]])\n",
    "    train_label_7_distances_to_barycenter_5.append(max(dist[0]))\n",
    "\n",
    "    # Barycenter of class 7\n",
    "    dist = PairwiseDistance(metric=\"wasserstein\").fit_transform([diagram, shortened_barycenter_label_7[0]])\n",
    "    train_label_7_distances_to_barycenter_7.append(max(dist[0]))"
   ]
  },
  {
   "cell_type": "code",
   "execution_count": 190,
   "id": "61172dd2-04ff-4033-964c-58d5d9c37339",
   "metadata": {},
   "outputs": [
    {
     "name": "stdout",
     "output_type": "stream",
     "text": [
      "Mean distance of class 1 diagrams to class 1 Wasserstein barycenter: 0.00015166816364820928\n",
      "Mean distance of class 1 diagrams to class 3 Wasserstein barycenter: 0.0005294778284200137\n",
      "Mean distance of class 1 diagrams to class 5 Wasserstein barycenter: 0.0001682024223043851\n",
      "Mean distance of class 1 diagrams to class 7 Wasserstein barycenter: 0.00016016417409999676\n"
     ]
    }
   ],
   "source": [
    "# TEST DATA\n",
    "\n",
    "# Distance of label 5 test diagrams to barycenters of each class\n",
    "test_label_7_distances_to_barycenter_1 = []\n",
    "test_label_7_distances_to_barycenter_3 = []\n",
    "test_label_7_distances_to_barycenter_5 = []\n",
    "test_label_7_distances_to_barycenter_7 = []\n",
    "\n",
    "# Loop through all test diagrams of label 5\n",
    "for diagram in test_shortened_diagrams_label_7:\n",
    "\n",
    "    # Barycenter of class 1\n",
    "    dist = PairwiseDistance(metric=\"wasserstein\").fit_transform([diagram, shortened_barycenter_label_1[0]])\n",
    "    test_label_7_distances_to_barycenter_1.append(max(dist[0]))\n",
    "\n",
    "    # Barycenter of class 3\n",
    "    dist = PairwiseDistance(metric=\"wasserstein\").fit_transform([diagram, shortened_barycenter_label_3[0]])\n",
    "    test_label_7_distances_to_barycenter_3.append(max(dist[0]))\n",
    "\n",
    "    # Barycenter of class 5\n",
    "    dist = PairwiseDistance(metric=\"wasserstein\").fit_transform([diagram, shortened_barycenter_label_5[0]])\n",
    "    test_label_7_distances_to_barycenter_5.append(max(dist[0]))\n",
    "\n",
    "    # Barycenter of class 7\n",
    "    dist = PairwiseDistance(metric=\"wasserstein\").fit_transform([diagram, shortened_barycenter_label_7[0]])\n",
    "    test_label_7_distances_to_barycenter_7.append(max(dist[0]))\n",
    "\n",
    "\n",
    "print(\"Mean distance of class 1 diagrams to class 1 Wasserstein barycenter: \" + str(statistics.mean(test_label_7_distances_to_barycenter_1)))\n",
    "print(\"Mean distance of class 1 diagrams to class 3 Wasserstein barycenter: \" + str(statistics.mean(test_label_7_distances_to_barycenter_3)))\n",
    "print(\"Mean distance of class 1 diagrams to class 5 Wasserstein barycenter: \" + str(statistics.mean(test_label_7_distances_to_barycenter_5)))\n",
    "print(\"Mean distance of class 1 diagrams to class 7 Wasserstein barycenter: \" + str(statistics.mean(test_label_7_distances_to_barycenter_7)))"
   ]
  },
  {
   "cell_type": "markdown",
   "id": "ac1ec0cf-3fac-49d2-bfa0-73ed64519ef3",
   "metadata": {},
   "source": [
    "## Save Wasserstein distances"
   ]
  },
  {
   "cell_type": "code",
   "execution_count": 191,
   "id": "6b8d7474-4e0b-412b-9893-8c556728a4f8",
   "metadata": {},
   "outputs": [],
   "source": [
    "# Add the removed diagrams again, with a distance that is higher than the maximal distance out of the other diagrams\n",
    "# At a later step, the \"outlier\" diagrams should be labelled as outliers beforehand\n",
    "\n",
    "# Compute maximal distances per class\n",
    "maximal_distance_1 = np.max(pairwise_wasserstein_distances_label_1)\n",
    "maximal_distance_3 = np.max(pairwise_wasserstein_distances_label_3)\n",
    "maximal_distance_5 = np.max(pairwise_wasserstein_distances_label_5)\n",
    "maximal_distance_7 = np.max(pairwise_wasserstein_distances_label_7)\n",
    "\n",
    "# Add ten times the maximal distance to the indices that were removed before\n",
    "# TODO put this into a function\n",
    "\n",
    "# Label 1\n",
    "for idx in removed_train_indices_label_1: # Train data\n",
    "    train_label_1_distances_to_barycenter_1.insert(idx, maximal_distance_1*10)\n",
    "    train_label_1_distances_to_barycenter_3.insert(idx, maximal_distance_3*10)\n",
    "    train_label_1_distances_to_barycenter_5.insert(idx, maximal_distance_5*10)\n",
    "    train_label_1_distances_to_barycenter_7.insert(idx, maximal_distance_7*10)\n",
    "\n",
    "for idx in removed_test_indices_label_1: # test data\n",
    "    test_label_1_distances_to_barycenter_1.insert(idx, maximal_distance_1*10)\n",
    "    test_label_1_distances_to_barycenter_3.insert(idx, maximal_distance_3*10)\n",
    "    test_label_1_distances_to_barycenter_5.insert(idx, maximal_distance_5*10)\n",
    "    test_label_1_distances_to_barycenter_7.insert(idx, maximal_distance_7*10)\n",
    "\n",
    "\n",
    "# Label 3\n",
    "for idx in removed_train_indices_label_3: # Train data\n",
    "    train_label_3_distances_to_barycenter_1.insert(idx, maximal_distance_1*10)\n",
    "    train_label_3_distances_to_barycenter_3.insert(idx, maximal_distance_3*10)\n",
    "    train_label_3_distances_to_barycenter_5.insert(idx, maximal_distance_5*10)\n",
    "    train_label_3_distances_to_barycenter_7.insert(idx, maximal_distance_7*10)\n",
    "\n",
    "for idx in removed_test_indices_label_3: # test data\n",
    "    test_label_3_distances_to_barycenter_1.insert(idx, maximal_distance_1*10)\n",
    "    test_label_3_distances_to_barycenter_3.insert(idx, maximal_distance_3*10)\n",
    "    test_label_3_distances_to_barycenter_5.insert(idx, maximal_distance_5*10)\n",
    "    test_label_3_distances_to_barycenter_7.insert(idx, maximal_distance_7*10)\n",
    "\n",
    "\n",
    "# Label 5\n",
    "for idx in removed_train_indices_label_5: # Train data\n",
    "    train_label_5_distances_to_barycenter_1.insert(idx, maximal_distance_1*10)\n",
    "    train_label_5_distances_to_barycenter_3.insert(idx, maximal_distance_3*10)\n",
    "    train_label_5_distances_to_barycenter_5.insert(idx, maximal_distance_5*10)\n",
    "    train_label_5_distances_to_barycenter_7.insert(idx, maximal_distance_7*10)\n",
    "\n",
    "for idx in removed_test_indices_label_5: # test data\n",
    "    test_label_5_distances_to_barycenter_1.insert(idx, maximal_distance_1*10)\n",
    "    test_label_5_distances_to_barycenter_3.insert(idx, maximal_distance_3*10)\n",
    "    test_label_5_distances_to_barycenter_5.insert(idx, maximal_distance_5*10)\n",
    "    test_label_5_distances_to_barycenter_7.insert(idx, maximal_distance_7*10)\n",
    "\n",
    "\n",
    "# Label 7\n",
    "for idx in removed_train_indices_label_7: # Train data\n",
    "    train_label_7_distances_to_barycenter_1.insert(idx, maximal_distance_1*10)\n",
    "    train_label_7_distances_to_barycenter_3.insert(idx, maximal_distance_3*10)\n",
    "    train_label_7_distances_to_barycenter_5.insert(idx, maximal_distance_5*10)\n",
    "    train_label_7_distances_to_barycenter_7.insert(idx, maximal_distance_7*10)\n",
    "\n",
    "for idx in removed_test_indices_label_7: # test data\n",
    "    test_label_7_distances_to_barycenter_1.insert(idx, maximal_distance_1*10)\n",
    "    test_label_7_distances_to_barycenter_3.insert(idx, maximal_distance_3*10)\n",
    "    test_label_7_distances_to_barycenter_5.insert(idx, maximal_distance_5*10)\n",
    "    test_label_7_distances_to_barycenter_7.insert(idx, maximal_distance_7*10)"
   ]
  },
  {
   "cell_type": "code",
   "execution_count": 192,
   "id": "67f4547f-acbb-44e0-9244-f8200c9831c9",
   "metadata": {},
   "outputs": [
    {
     "data": {
      "text/plain": [
       "591"
      ]
     },
     "execution_count": 192,
     "metadata": {},
     "output_type": "execute_result"
    }
   ],
   "source": [
    "len(train_persistence_diagrams_label_1)"
   ]
  },
  {
   "cell_type": "code",
   "execution_count": 193,
   "id": "9f3630ab-054a-4bbd-a465-14e53ea4a723",
   "metadata": {},
   "outputs": [],
   "source": [
    "# Save training data features\n",
    "\n",
    "train_feature_df1 = pd.DataFrame()\n",
    "train_feature_df1[\"Distance_to_Wasserstein_Barycenter1\"] = train_label_1_distances_to_barycenter_1\n",
    "train_feature_df1[\"Distance_to_Wasserstein_Barycenter3\"] = train_label_1_distances_to_barycenter_3\n",
    "train_feature_df1[\"Distance_to_Wasserstein_Barycenter5\"] = train_label_1_distances_to_barycenter_5\n",
    "train_feature_df1[\"Distance_to_Wasserstein_Barycenter7\"] = train_label_1_distances_to_barycenter_7\n",
    "train_feature_df1[\"Label\"] = 1\n",
    "\n",
    "train_feature_df3 = pd.DataFrame()\n",
    "train_feature_df3[\"Distance_to_Wasserstein_Barycenter1\"] = train_label_3_distances_to_barycenter_1\n",
    "train_feature_df3[\"Distance_to_Wasserstein_Barycenter3\"] = train_label_3_distances_to_barycenter_3\n",
    "train_feature_df3[\"Distance_to_Wasserstein_Barycenter5\"] = train_label_3_distances_to_barycenter_5\n",
    "train_feature_df3[\"Distance_to_Wasserstein_Barycenter7\"] = train_label_3_distances_to_barycenter_7\n",
    "train_feature_df3[\"Label\"] = 3\n",
    "\n",
    "train_feature_df5 = pd.DataFrame()\n",
    "train_feature_df5[\"Distance_to_Wasserstein_Barycenter1\"] = train_label_5_distances_to_barycenter_1\n",
    "train_feature_df5[\"Distance_to_Wasserstein_Barycenter3\"] = train_label_5_distances_to_barycenter_3\n",
    "train_feature_df5[\"Distance_to_Wasserstein_Barycenter5\"] = train_label_5_distances_to_barycenter_5\n",
    "train_feature_df5[\"Distance_to_Wasserstein_Barycenter7\"] = train_label_5_distances_to_barycenter_7\n",
    "train_feature_df5[\"Label\"] = 5\n",
    "\n",
    "train_feature_df7 = pd.DataFrame()\n",
    "train_feature_df7[\"Distance_to_Wasserstein_Barycenter1\"] = train_label_7_distances_to_barycenter_1\n",
    "train_feature_df7[\"Distance_to_Wasserstein_Barycenter3\"] = train_label_7_distances_to_barycenter_3\n",
    "train_feature_df7[\"Distance_to_Wasserstein_Barycenter5\"] = train_label_7_distances_to_barycenter_5\n",
    "train_feature_df7[\"Distance_to_Wasserstein_Barycenter7\"] = train_label_7_distances_to_barycenter_7\n",
    "train_feature_df7[\"Label\"] = 7\n"
   ]
  },
  {
   "cell_type": "code",
   "execution_count": 194,
   "id": "0a338fd0-4932-4697-b608-de17c8a010ee",
   "metadata": {},
   "outputs": [],
   "source": [
    "train_feature_df = pd.concat([train_feature_df1, train_feature_df3, train_feature_df5, train_feature_df7])\n",
    "train_feature_df.to_csv(\"Features/Train_Wasserstein_Features.csv\")"
   ]
  },
  {
   "cell_type": "code",
   "execution_count": 195,
   "id": "0b7135b1-e192-4328-bfb7-fb5766fcb1f4",
   "metadata": {},
   "outputs": [],
   "source": [
    "# Save test data features\n",
    "\n",
    "test_feature_df1 = pd.DataFrame()\n",
    "test_feature_df1[\"Distance_to_Wasserstein_Barycenter1\"] = test_label_1_distances_to_barycenter_1\n",
    "test_feature_df1[\"Distance_to_Wasserstein_Barycenter3\"] = test_label_1_distances_to_barycenter_3\n",
    "test_feature_df1[\"Distance_to_Wasserstein_Barycenter5\"] = test_label_1_distances_to_barycenter_5\n",
    "test_feature_df1[\"Distance_to_Wasserstein_Barycenter7\"] = test_label_1_distances_to_barycenter_7\n",
    "test_feature_df1[\"Label\"] = 1\n",
    "\n",
    "test_feature_df3 = pd.DataFrame()\n",
    "test_feature_df3[\"Distance_to_Wasserstein_Barycenter1\"] = test_label_3_distances_to_barycenter_1\n",
    "test_feature_df3[\"Distance_to_Wasserstein_Barycenter3\"] = test_label_3_distances_to_barycenter_3\n",
    "test_feature_df3[\"Distance_to_Wasserstein_Barycenter5\"] = test_label_3_distances_to_barycenter_5\n",
    "test_feature_df3[\"Distance_to_Wasserstein_Barycenter7\"] = test_label_3_distances_to_barycenter_7\n",
    "test_feature_df3[\"Label\"] = 3\n",
    "\n",
    "test_feature_df5 = pd.DataFrame()\n",
    "test_feature_df5[\"Distance_to_Wasserstein_Barycenter1\"] = test_label_5_distances_to_barycenter_1\n",
    "test_feature_df5[\"Distance_to_Wasserstein_Barycenter3\"] = test_label_5_distances_to_barycenter_3\n",
    "test_feature_df5[\"Distance_to_Wasserstein_Barycenter5\"] = test_label_5_distances_to_barycenter_5\n",
    "test_feature_df5[\"Distance_to_Wasserstein_Barycenter7\"] = test_label_5_distances_to_barycenter_7\n",
    "test_feature_df5[\"Label\"] = 5\n",
    "\n",
    "test_feature_df7 = pd.DataFrame()\n",
    "test_feature_df7[\"Distance_to_Wasserstein_Barycenter1\"] = test_label_7_distances_to_barycenter_1\n",
    "test_feature_df7[\"Distance_to_Wasserstein_Barycenter3\"] = test_label_7_distances_to_barycenter_3\n",
    "test_feature_df7[\"Distance_to_Wasserstein_Barycenter5\"] = test_label_7_distances_to_barycenter_5\n",
    "test_feature_df7[\"Distance_to_Wasserstein_Barycenter7\"] = test_label_7_distances_to_barycenter_7\n",
    "test_feature_df7[\"Label\"] = 7\n"
   ]
  },
  {
   "cell_type": "code",
   "execution_count": 196,
   "id": "84bbb0a3-3116-41ca-a0f0-542f5d56781d",
   "metadata": {},
   "outputs": [],
   "source": [
    "test_feature_df = pd.concat([test_feature_df1, test_feature_df3, test_feature_df5, test_feature_df7])\n",
    "test_feature_df.to_csv(\"Features/Test_Wasserstein_Features.csv\")"
   ]
  },
  {
   "cell_type": "markdown",
   "id": "9711bdd5-e431-4b05-8a29-d4b5b2a21c29",
   "metadata": {},
   "source": [
    "## Save shortened diagrams"
   ]
  },
  {
   "cell_type": "markdown",
   "id": "dd7fd62f-1bba-41ef-94b7-c4f2e0f9d5e7",
   "metadata": {},
   "source": [
    "..."
   ]
  },
  {
   "cell_type": "code",
   "execution_count": null,
   "id": "6ccc669d-387c-4562-9f27-c979d38493cd",
   "metadata": {},
   "outputs": [],
   "source": []
  }
 ],
 "metadata": {
  "kernelspec": {
   "display_name": "Python 3 (ipykernel)",
   "language": "python",
   "name": "python3"
  },
  "language_info": {
   "codemirror_mode": {
    "name": "ipython",
    "version": 3
   },
   "file_extension": ".py",
   "mimetype": "text/x-python",
   "name": "python",
   "nbconvert_exporter": "python",
   "pygments_lexer": "ipython3",
   "version": "3.10.12"
  }
 },
 "nbformat": 4,
 "nbformat_minor": 5
}
