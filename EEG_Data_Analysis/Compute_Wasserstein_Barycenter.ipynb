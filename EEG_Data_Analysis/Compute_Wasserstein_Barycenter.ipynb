{
 "cells": [
  {
   "cell_type": "code",
   "execution_count": 329,
   "id": "0a81b9c9-a2e9-46c2-8ae8-4a5f02dd0571",
   "metadata": {},
   "outputs": [],
   "source": [
    "import numpy as np\n",
    "import pyedflib\n",
    "import statistics\n",
    "import plotly.graph_objects as go\n",
    "import pandas as pd\n",
    "from gtda.time_series import SingleTakensEmbedding\n",
    "from gtda.homology import VietorisRipsPersistence\n",
    "from gtda.diagrams import PersistenceEntropy, Amplitude, NumberOfPoints, ComplexPolynomial, PersistenceLandscape, HeatKernel, Silhouette, BettiCurve, PairwiseDistance, ForgetDimension\n",
    "from gtda.plotting import plot_point_cloud, plot_heatmap, plot_diagram\n",
    "import matplotlib.pyplot as plt\n",
    "from mpl_toolkits.mplot3d import Axes3D\n",
    "from sklearn.ensemble import RandomForestClassifier\n",
    "from sklearn.decomposition import PCA, FastICA\n",
    "from gtda.pipeline import Pipeline \n",
    "import random\n",
    "from sklearn import preprocessing"
   ]
  },
  {
   "cell_type": "code",
   "execution_count": 189,
   "id": "85fd9907-0ecf-4827-bd57-da10d9c03cfa",
   "metadata": {},
   "outputs": [],
   "source": [
    "# Import persistence diagrams\n",
    "persistence_diagrams1 = np.load(\"PD1.npy\", allow_pickle=True)\n",
    "persistence_diagrams3 = np.load(\"PD3.npy\", allow_pickle=True)\n",
    "persistence_diagrams5 = np.load(\"PD5.npy\", allow_pickle=True)\n",
    "\n",
    "# Import point cloud embeddings\n",
    "embeddings1 = np.load(\"Embeddings1.npy\", allow_pickle=True)\n",
    "embeddings3 = np.load(\"Embeddings3.npy\", allow_pickle=True)\n",
    "embeddings5 = np.load(\"Embeddings5.npy\", allow_pickle=True)"
   ]
  },
  {
   "cell_type": "code",
   "execution_count": 190,
   "id": "45d80b8c-4237-4b8e-b9b7-4d0b7ce3f026",
   "metadata": {},
   "outputs": [],
   "source": [
    "# We will look at 0, 1 and 2 dimensional holes\n",
    "homology_dimensions = [0, 1, 2]\n",
    "\n",
    "# We will use a Vietoris Rips filtrations\n",
    "persistence = VietorisRipsPersistence(\n",
    "    homology_dimensions=homology_dimensions, n_jobs=10\n",
    ")"
   ]
  },
  {
   "cell_type": "markdown",
   "id": "cfb824a7-a2ba-44a2-b860-891bb2a702e2",
   "metadata": {},
   "source": [
    "# Computing the distance to the Wasserstein Barycenter"
   ]
  },
  {
   "cell_type": "markdown",
   "id": "9934b636-ee39-4783-b83f-f1b77e5b807d",
   "metadata": {},
   "source": [
    "For the next analyses, we will need to compare persistence diagrams (pairwise). Giotto TDA needs all diagrams to have the same length for this (to have the same amount of holes). We will therefore cut off some \"noise\" (holes with low persistence) such that all persistence diagrams have the same length."
   ]
  },
  {
   "cell_type": "code",
   "execution_count": 92,
   "id": "7a64359c-396d-4af2-ac4a-caeeee33e31c",
   "metadata": {},
   "outputs": [],
   "source": [
    "def cut_diagrams(persistence_diagrams, no_holes_per_dimension):\n",
    "    # no_holes_per_dimension is a list indicating how many holes for each dimension there should be left\n",
    "    shortened_diagrams = []\n",
    "\n",
    "    removed_indices = []\n",
    "    for diagram_idx, diagram in enumerate(persistence_diagrams): # There are no_segments many diagrams per label at max (as chosen in the beginning)\n",
    "        most_significant_holes_per_diagram = []\n",
    "        should_be_appended = True\n",
    "        holes = {}\n",
    "        for hole_dimension, number_of_holes in zip(range(3), no_holes_per_dimension):\n",
    "            # the third entry of each point (hole) in a diagram indicates its dimensionality\n",
    "            holes[hole_dimension] = diagram[np.where(diagram[:, 2] == hole_dimension)[0]]\n",
    "\n",
    "            if number_of_holes > len(holes[hole_dimension]):\n",
    "                print(\"There is a diagram shorter than the shortened diagrams, which will be removed\")\n",
    "                print(\"It has \" + str(len(holes[hole_dimension])) + \" holes of dimension \" + str(hole_dimension))\n",
    "                should_be_appended = False \n",
    "                removed_indices.append(diagram_idx)\n",
    "                \n",
    "            # The first and second entries of each hole indicate its birth and death, the difference is the persistence\n",
    "            large_persistence_indices = np.argsort(holes[hole_dimension][:, 0] - holes[hole_dimension][:, 1])[-number_of_holes:]\n",
    "            \n",
    "            # For each dimension, getting the holes with the above indices (the holes with the largest persistence)\n",
    "            significant_holes_with_hole_dimension = holes[hole_dimension][large_persistence_indices, :]\n",
    "            most_significant_holes_per_diagram.extend(significant_holes_with_hole_dimension)\n",
    "\n",
    "        if should_be_appended:\n",
    "            shortened_diagrams.append(most_significant_holes_per_diagram)\n",
    "\n",
    "    return shortened_diagrams, removed_indices"
   ]
  },
  {
   "cell_type": "code",
   "execution_count": 388,
   "id": "e53cf49d-b3a5-4f63-986f-b7ab0f544628",
   "metadata": {},
   "outputs": [],
   "source": [
    "no_holes_per_dimension = [120, 60, 7] \n",
    "\n",
    "# Label 1\n",
    "\n",
    "shortened_diagrams1, removed_indices1 = cut_diagrams(persistence_diagrams1, no_holes_per_dimension)\n",
    "\n",
    "# Remove embeddings of diagrams that were removed \n",
    "embeddings1 =  np.delete(embeddings1, removed_indices1, 0)"
   ]
  },
  {
   "cell_type": "code",
   "execution_count": 389,
   "id": "28d9b44d-ae9d-4a0a-a466-34609e850608",
   "metadata": {},
   "outputs": [
    {
     "name": "stdout",
     "output_type": "stream",
     "text": [
      "There is a diagram shorter than the shortened diagrams, which will be removed\n",
      "It has 4 holes of dimension 2\n"
     ]
    }
   ],
   "source": [
    "# Label 3\n",
    "\n",
    "shortened_diagrams3, removed_indices3 = cut_diagrams(persistence_diagrams3, no_holes_per_dimension)\n",
    "\n",
    "# Remove embeddings of diagrams that were removed \n",
    "embeddings3 =  np.delete(embeddings3, removed_indices3, 0)"
   ]
  },
  {
   "cell_type": "code",
   "execution_count": 390,
   "id": "e34c97d8-9dbc-45c4-927e-4fbcaa9e2dcf",
   "metadata": {},
   "outputs": [],
   "source": [
    "# Label 5\n",
    "\n",
    "shortened_diagrams5, removed_indices5 = cut_diagrams(persistence_diagrams5, no_holes_per_dimension)\n",
    "\n",
    "# Remove embeddings of diagrams that were removed \n",
    "embeddings5 =  np.delete(embeddings5, removed_indices5, 0)"
   ]
  },
  {
   "cell_type": "code",
   "execution_count": 96,
   "id": "472ef81e-3ff4-4353-9439-c1e3b1c7a9a0",
   "metadata": {},
   "outputs": [],
   "source": [
    "# Label 7\n",
    "\n",
    "# One \"outlier\" diagram only has one 2-dimensional hole\n",
    "# Later, such outliers should be deleted before computing the pairwise distances\n",
    "# between all diagrams, because eventually all diagrams should be shortened to the\n",
    "# length of the shortest diagram\n",
    "\n",
    "no_holes_per_dimension7 = [50, 9, 1] \n",
    "\n",
    "#shortened_diagrams7 = cut_diagrams(persistence_diagrams7, no_holes_per_dimension7)"
   ]
  },
  {
   "cell_type": "markdown",
   "id": "42d656de-ce09-4239-83ec-345675529e21",
   "metadata": {},
   "source": [
    "## Wasserstein Barycenter"
   ]
  },
  {
   "cell_type": "markdown",
   "id": "93fd3f18-ecdd-4d6d-a6fe-38be70222f6a",
   "metadata": {},
   "source": [
    "The Wasserstein Barycenter is the most representative persistence diagram in a set of diagrams (of one class), so the one with the lowest overall (Wasserstein) distance to all other diagrams. Because it takes long to compute, we will for now only use a part of the data as training data. For now, these training samples can also be in the test set of the simple classifier in the end."
   ]
  },
  {
   "cell_type": "markdown",
   "id": "866a088b-5e7a-49f3-b02d-ba2939f6e89a",
   "metadata": {},
   "source": [
    "### Computing the Wasserstein Barycenter for all labels"
   ]
  },
  {
   "cell_type": "code",
   "execution_count": 374,
   "id": "b76269d7-848d-49eb-9d9f-a16c7eb7586c",
   "metadata": {},
   "outputs": [
    {
     "ename": "KeyboardInterrupt",
     "evalue": "",
     "output_type": "error",
     "traceback": [
      "\u001b[0;31m---------------------------------------------------------------------------\u001b[0m",
      "\u001b[0;31mKeyboardInterrupt\u001b[0m                         Traceback (most recent call last)",
      "Cell \u001b[0;32mIn[374], line 7\u001b[0m\n\u001b[1;32m      2\u001b[0m random_diagrams1 \u001b[38;5;241m=\u001b[39m random\u001b[38;5;241m.\u001b[39msample(shortened_diagrams1, \u001b[38;5;241m200\u001b[39m)\n\u001b[1;32m      4\u001b[0m \u001b[38;5;66;03m# Finding the most representative diagram for label 1\u001b[39;00m\n\u001b[1;32m      5\u001b[0m \n\u001b[1;32m      6\u001b[0m \u001b[38;5;66;03m# First, compute the pairwise Wasserstein distances\u001b[39;00m\n\u001b[0;32m----> 7\u001b[0m wasserstein_distance1 \u001b[38;5;241m=\u001b[39m \u001b[43mPairwiseDistance\u001b[49m\u001b[43m(\u001b[49m\u001b[43mmetric\u001b[49m\u001b[38;5;241;43m=\u001b[39;49m\u001b[38;5;124;43m\"\u001b[39;49m\u001b[38;5;124;43mwasserstein\u001b[39;49m\u001b[38;5;124;43m\"\u001b[39;49m\u001b[43m)\u001b[49m\u001b[38;5;241;43m.\u001b[39;49m\u001b[43mfit_transform\u001b[49m\u001b[43m(\u001b[49m\u001b[43mrandom_diagrams1\u001b[49m\u001b[43m)\u001b[49m\n\u001b[1;32m      9\u001b[0m \u001b[38;5;66;03m# For each hole, calculate the sum of distances to all other holes\u001b[39;00m\n\u001b[1;32m     10\u001b[0m sum_distances \u001b[38;5;241m=\u001b[39m [\u001b[38;5;28msum\u001b[39m(dist) \u001b[38;5;28;01mfor\u001b[39;00m dist \u001b[38;5;129;01min\u001b[39;00m wasserstein_distance1]\n",
      "File \u001b[0;32m~/anaconda3/envs/time-delay-embeddings/lib/python3.10/site-packages/gtda/utils/_docs.py:106\u001b[0m, in \u001b[0;36madapt_fit_transform_docs.<locals>.make_new_fit_transform.<locals>.fit_transform_wrapper\u001b[0;34m(*args, **kwargs)\u001b[0m\n\u001b[1;32m    104\u001b[0m \u001b[38;5;129m@wraps\u001b[39m(original_fit_transform)\n\u001b[1;32m    105\u001b[0m \u001b[38;5;28;01mdef\u001b[39;00m \u001b[38;5;21mfit_transform_wrapper\u001b[39m(\u001b[38;5;241m*\u001b[39margs, \u001b[38;5;241m*\u001b[39m\u001b[38;5;241m*\u001b[39mkwargs):\n\u001b[0;32m--> 106\u001b[0m     \u001b[38;5;28;01mreturn\u001b[39;00m \u001b[43moriginal_fit_transform\u001b[49m\u001b[43m(\u001b[49m\u001b[38;5;241;43m*\u001b[39;49m\u001b[43margs\u001b[49m\u001b[43m,\u001b[49m\u001b[43m \u001b[49m\u001b[38;5;241;43m*\u001b[39;49m\u001b[38;5;241;43m*\u001b[39;49m\u001b[43mkwargs\u001b[49m\u001b[43m)\u001b[49m\n",
      "File \u001b[0;32m~/anaconda3/envs/time-delay-embeddings/lib/python3.10/site-packages/sklearn/base.py:852\u001b[0m, in \u001b[0;36mTransformerMixin.fit_transform\u001b[0;34m(self, X, y, **fit_params)\u001b[0m\n\u001b[1;32m    848\u001b[0m \u001b[38;5;66;03m# non-optimized default implementation; override when a better\u001b[39;00m\n\u001b[1;32m    849\u001b[0m \u001b[38;5;66;03m# method is possible for a given clustering algorithm\u001b[39;00m\n\u001b[1;32m    850\u001b[0m \u001b[38;5;28;01mif\u001b[39;00m y \u001b[38;5;129;01mis\u001b[39;00m \u001b[38;5;28;01mNone\u001b[39;00m:\n\u001b[1;32m    851\u001b[0m     \u001b[38;5;66;03m# fit method of arity 1 (unsupervised transformation)\u001b[39;00m\n\u001b[0;32m--> 852\u001b[0m     \u001b[38;5;28;01mreturn\u001b[39;00m \u001b[38;5;28;43mself\u001b[39;49m\u001b[38;5;241;43m.\u001b[39;49m\u001b[43mfit\u001b[49m\u001b[43m(\u001b[49m\u001b[43mX\u001b[49m\u001b[43m,\u001b[49m\u001b[43m \u001b[49m\u001b[38;5;241;43m*\u001b[39;49m\u001b[38;5;241;43m*\u001b[39;49m\u001b[43mfit_params\u001b[49m\u001b[43m)\u001b[49m\u001b[38;5;241;43m.\u001b[39;49m\u001b[43mtransform\u001b[49m\u001b[43m(\u001b[49m\u001b[43mX\u001b[49m\u001b[43m)\u001b[49m\n\u001b[1;32m    853\u001b[0m \u001b[38;5;28;01melse\u001b[39;00m:\n\u001b[1;32m    854\u001b[0m     \u001b[38;5;66;03m# fit method of arity 2 (supervised transformation)\u001b[39;00m\n\u001b[1;32m    855\u001b[0m     \u001b[38;5;28;01mreturn\u001b[39;00m \u001b[38;5;28mself\u001b[39m\u001b[38;5;241m.\u001b[39mfit(X, y, \u001b[38;5;241m*\u001b[39m\u001b[38;5;241m*\u001b[39mfit_params)\u001b[38;5;241m.\u001b[39mtransform(X)\n",
      "File \u001b[0;32m~/anaconda3/envs/time-delay-embeddings/lib/python3.10/site-packages/gtda/diagrams/distance.py:235\u001b[0m, in \u001b[0;36mPairwiseDistance.transform\u001b[0;34m(self, X, y)\u001b[0m\n\u001b[1;32m    232\u001b[0m check_is_fitted(\u001b[38;5;28mself\u001b[39m)\n\u001b[1;32m    233\u001b[0m Xt \u001b[38;5;241m=\u001b[39m check_diagrams(X, copy\u001b[38;5;241m=\u001b[39m\u001b[38;5;28;01mTrue\u001b[39;00m)\n\u001b[0;32m--> 235\u001b[0m Xt \u001b[38;5;241m=\u001b[39m \u001b[43m_parallel_pairwise\u001b[49m\u001b[43m(\u001b[49m\u001b[43mXt\u001b[49m\u001b[43m,\u001b[49m\u001b[43m \u001b[49m\u001b[38;5;28;43mself\u001b[39;49m\u001b[38;5;241;43m.\u001b[39;49m\u001b[43m_X\u001b[49m\u001b[43m,\u001b[49m\u001b[43m \u001b[49m\u001b[38;5;28;43mself\u001b[39;49m\u001b[38;5;241;43m.\u001b[39;49m\u001b[43mmetric\u001b[49m\u001b[43m,\u001b[49m\n\u001b[1;32m    236\u001b[0m \u001b[43m                        \u001b[49m\u001b[38;5;28;43mself\u001b[39;49m\u001b[38;5;241;43m.\u001b[39;49m\u001b[43meffective_metric_params_\u001b[49m\u001b[43m,\u001b[49m\n\u001b[1;32m    237\u001b[0m \u001b[43m                        \u001b[49m\u001b[38;5;28;43mself\u001b[39;49m\u001b[38;5;241;43m.\u001b[39;49m\u001b[43mhomology_dimensions_\u001b[49m\u001b[43m,\u001b[49m\n\u001b[1;32m    238\u001b[0m \u001b[43m                        \u001b[49m\u001b[38;5;28;43mself\u001b[39;49m\u001b[38;5;241;43m.\u001b[39;49m\u001b[43mn_jobs\u001b[49m\u001b[43m)\u001b[49m\n\u001b[1;32m    239\u001b[0m \u001b[38;5;28;01mif\u001b[39;00m \u001b[38;5;28mself\u001b[39m\u001b[38;5;241m.\u001b[39morder \u001b[38;5;129;01mis\u001b[39;00m \u001b[38;5;129;01mnot\u001b[39;00m \u001b[38;5;28;01mNone\u001b[39;00m:\n\u001b[1;32m    240\u001b[0m     Xt \u001b[38;5;241m=\u001b[39m np\u001b[38;5;241m.\u001b[39mlinalg\u001b[38;5;241m.\u001b[39mnorm(Xt, axis\u001b[38;5;241m=\u001b[39m\u001b[38;5;241m2\u001b[39m, \u001b[38;5;28mord\u001b[39m\u001b[38;5;241m=\u001b[39m\u001b[38;5;28mself\u001b[39m\u001b[38;5;241m.\u001b[39morder)\n",
      "File \u001b[0;32m~/anaconda3/envs/time-delay-embeddings/lib/python3.10/site-packages/gtda/diagrams/_metrics.py:321\u001b[0m, in \u001b[0;36m_parallel_pairwise\u001b[0;34m(X1, X2, metric, metric_params, homology_dimensions, n_jobs)\u001b[0m\n\u001b[1;32m    318\u001b[0m     parallel_kwargs \u001b[38;5;241m=\u001b[39m {}\n\u001b[1;32m    320\u001b[0m n_columns \u001b[38;5;241m=\u001b[39m \u001b[38;5;28mlen\u001b[39m(X2)\n\u001b[0;32m--> 321\u001b[0m distance_matrices \u001b[38;5;241m=\u001b[39m \u001b[43mParallel\u001b[49m\u001b[43m(\u001b[49m\u001b[43mn_jobs\u001b[49m\u001b[38;5;241;43m=\u001b[39;49m\u001b[43mn_jobs\u001b[49m\u001b[43m,\u001b[49m\u001b[43m \u001b[49m\u001b[38;5;241;43m*\u001b[39;49m\u001b[38;5;241;43m*\u001b[39;49m\u001b[43mparallel_kwargs\u001b[49m\u001b[43m)\u001b[49m\u001b[43m(\u001b[49m\n\u001b[1;32m    322\u001b[0m \u001b[43m    \u001b[49m\u001b[43mdelayed\u001b[49m\u001b[43m(\u001b[49m\u001b[43mmetric_func\u001b[49m\u001b[43m)\u001b[49m\u001b[43m(\u001b[49m\n\u001b[1;32m    323\u001b[0m \u001b[43m        \u001b[49m\u001b[43m_subdiagrams\u001b[49m\u001b[43m(\u001b[49m\u001b[43mX1\u001b[49m\u001b[43m,\u001b[49m\u001b[43m \u001b[49m\u001b[43m[\u001b[49m\u001b[43mdim\u001b[49m\u001b[43m]\u001b[49m\u001b[43m,\u001b[49m\u001b[43m \u001b[49m\u001b[43mremove_dim\u001b[49m\u001b[38;5;241;43m=\u001b[39;49m\u001b[38;5;28;43;01mTrue\u001b[39;49;00m\u001b[43m)\u001b[49m\u001b[43m,\u001b[49m\n\u001b[1;32m    324\u001b[0m \u001b[43m        \u001b[49m\u001b[43m_subdiagrams\u001b[49m\u001b[43m(\u001b[49m\u001b[43mX2\u001b[49m\u001b[43m[\u001b[49m\u001b[43ms\u001b[49m\u001b[43m]\u001b[49m\u001b[43m,\u001b[49m\u001b[43m \u001b[49m\u001b[43m[\u001b[49m\u001b[43mdim\u001b[49m\u001b[43m]\u001b[49m\u001b[43m,\u001b[49m\u001b[43m \u001b[49m\u001b[43mremove_dim\u001b[49m\u001b[38;5;241;43m=\u001b[39;49m\u001b[38;5;28;43;01mTrue\u001b[39;49;00m\u001b[43m)\u001b[49m\u001b[43m,\u001b[49m\n\u001b[1;32m    325\u001b[0m \u001b[43m        \u001b[49m\u001b[43msampling\u001b[49m\u001b[38;5;241;43m=\u001b[39;49m\u001b[43msamplings\u001b[49m\u001b[43m[\u001b[49m\u001b[43mdim\u001b[49m\u001b[43m]\u001b[49m\u001b[43m,\u001b[49m\n\u001b[1;32m    326\u001b[0m \u001b[43m        \u001b[49m\u001b[43mstep_size\u001b[49m\u001b[38;5;241;43m=\u001b[39;49m\u001b[43mstep_sizes\u001b[49m\u001b[43m[\u001b[49m\u001b[43mdim\u001b[49m\u001b[43m]\u001b[49m\u001b[43m,\u001b[49m\n\u001b[1;32m    327\u001b[0m \u001b[43m        \u001b[49m\u001b[38;5;241;43m*\u001b[39;49m\u001b[38;5;241;43m*\u001b[39;49m\u001b[43meffective_metric_params\u001b[49m\n\u001b[1;32m    328\u001b[0m \u001b[43m        \u001b[49m\u001b[43m)\u001b[49m\n\u001b[1;32m    329\u001b[0m \u001b[43m    \u001b[49m\u001b[38;5;28;43;01mfor\u001b[39;49;00m\u001b[43m \u001b[49m\u001b[43mdim\u001b[49m\u001b[43m \u001b[49m\u001b[38;5;129;43;01min\u001b[39;49;00m\u001b[43m \u001b[49m\u001b[43mhomology_dimensions\u001b[49m\n\u001b[1;32m    330\u001b[0m \u001b[43m    \u001b[49m\u001b[38;5;28;43;01mfor\u001b[39;49;00m\u001b[43m \u001b[49m\u001b[43ms\u001b[49m\u001b[43m \u001b[49m\u001b[38;5;129;43;01min\u001b[39;49;00m\u001b[43m \u001b[49m\u001b[43mgen_even_slices\u001b[49m\u001b[43m(\u001b[49m\u001b[43mn_columns\u001b[49m\u001b[43m,\u001b[49m\u001b[43m \u001b[49m\u001b[43meffective_n_jobs\u001b[49m\u001b[43m(\u001b[49m\u001b[43mn_jobs\u001b[49m\u001b[43m)\u001b[49m\u001b[43m)\u001b[49m\n\u001b[1;32m    331\u001b[0m \u001b[43m    \u001b[49m\u001b[43m)\u001b[49m\n\u001b[1;32m    333\u001b[0m distance_matrices \u001b[38;5;241m=\u001b[39m np\u001b[38;5;241m.\u001b[39mconcatenate(distance_matrices, axis\u001b[38;5;241m=\u001b[39m\u001b[38;5;241m1\u001b[39m)\n\u001b[1;32m    334\u001b[0m distance_matrices \u001b[38;5;241m=\u001b[39m np\u001b[38;5;241m.\u001b[39mstack(\n\u001b[1;32m    335\u001b[0m     [distance_matrices[:, i \u001b[38;5;241m*\u001b[39m n_columns:(i \u001b[38;5;241m+\u001b[39m \u001b[38;5;241m1\u001b[39m) \u001b[38;5;241m*\u001b[39m n_columns]\n\u001b[1;32m    336\u001b[0m      \u001b[38;5;28;01mfor\u001b[39;00m i \u001b[38;5;129;01min\u001b[39;00m \u001b[38;5;28mrange\u001b[39m(\u001b[38;5;28mlen\u001b[39m(homology_dimensions))],\n\u001b[1;32m    337\u001b[0m     axis\u001b[38;5;241m=\u001b[39m\u001b[38;5;241m2\u001b[39m)\n",
      "File \u001b[0;32m~/anaconda3/envs/time-delay-embeddings/lib/python3.10/site-packages/joblib/parallel.py:1863\u001b[0m, in \u001b[0;36mParallel.__call__\u001b[0;34m(self, iterable)\u001b[0m\n\u001b[1;32m   1861\u001b[0m     output \u001b[38;5;241m=\u001b[39m \u001b[38;5;28mself\u001b[39m\u001b[38;5;241m.\u001b[39m_get_sequential_output(iterable)\n\u001b[1;32m   1862\u001b[0m     \u001b[38;5;28mnext\u001b[39m(output)\n\u001b[0;32m-> 1863\u001b[0m     \u001b[38;5;28;01mreturn\u001b[39;00m output \u001b[38;5;28;01mif\u001b[39;00m \u001b[38;5;28mself\u001b[39m\u001b[38;5;241m.\u001b[39mreturn_generator \u001b[38;5;28;01melse\u001b[39;00m \u001b[38;5;28;43mlist\u001b[39;49m\u001b[43m(\u001b[49m\u001b[43moutput\u001b[49m\u001b[43m)\u001b[49m\n\u001b[1;32m   1865\u001b[0m \u001b[38;5;66;03m# Let's create an ID that uniquely identifies the current call. If the\u001b[39;00m\n\u001b[1;32m   1866\u001b[0m \u001b[38;5;66;03m# call is interrupted early and that the same instance is immediately\u001b[39;00m\n\u001b[1;32m   1867\u001b[0m \u001b[38;5;66;03m# re-used, this id will be used to prevent workers that were\u001b[39;00m\n\u001b[1;32m   1868\u001b[0m \u001b[38;5;66;03m# concurrently finalizing a task from the previous call to run the\u001b[39;00m\n\u001b[1;32m   1869\u001b[0m \u001b[38;5;66;03m# callback.\u001b[39;00m\n\u001b[1;32m   1870\u001b[0m \u001b[38;5;28;01mwith\u001b[39;00m \u001b[38;5;28mself\u001b[39m\u001b[38;5;241m.\u001b[39m_lock:\n",
      "File \u001b[0;32m~/anaconda3/envs/time-delay-embeddings/lib/python3.10/site-packages/joblib/parallel.py:1792\u001b[0m, in \u001b[0;36mParallel._get_sequential_output\u001b[0;34m(self, iterable)\u001b[0m\n\u001b[1;32m   1790\u001b[0m \u001b[38;5;28mself\u001b[39m\u001b[38;5;241m.\u001b[39mn_dispatched_batches \u001b[38;5;241m+\u001b[39m\u001b[38;5;241m=\u001b[39m \u001b[38;5;241m1\u001b[39m\n\u001b[1;32m   1791\u001b[0m \u001b[38;5;28mself\u001b[39m\u001b[38;5;241m.\u001b[39mn_dispatched_tasks \u001b[38;5;241m+\u001b[39m\u001b[38;5;241m=\u001b[39m \u001b[38;5;241m1\u001b[39m\n\u001b[0;32m-> 1792\u001b[0m res \u001b[38;5;241m=\u001b[39m \u001b[43mfunc\u001b[49m\u001b[43m(\u001b[49m\u001b[38;5;241;43m*\u001b[39;49m\u001b[43margs\u001b[49m\u001b[43m,\u001b[49m\u001b[43m \u001b[49m\u001b[38;5;241;43m*\u001b[39;49m\u001b[38;5;241;43m*\u001b[39;49m\u001b[43mkwargs\u001b[49m\u001b[43m)\u001b[49m\n\u001b[1;32m   1793\u001b[0m \u001b[38;5;28mself\u001b[39m\u001b[38;5;241m.\u001b[39mn_completed_tasks \u001b[38;5;241m+\u001b[39m\u001b[38;5;241m=\u001b[39m \u001b[38;5;241m1\u001b[39m\n\u001b[1;32m   1794\u001b[0m \u001b[38;5;28mself\u001b[39m\u001b[38;5;241m.\u001b[39mprint_progress()\n",
      "File \u001b[0;32m~/anaconda3/envs/time-delay-embeddings/lib/python3.10/site-packages/gtda/diagrams/_metrics.py:186\u001b[0m, in \u001b[0;36mwasserstein_distances\u001b[0;34m(diagrams_1, diagrams_2, p, delta, **kwargs)\u001b[0m\n\u001b[1;32m    185\u001b[0m \u001b[38;5;28;01mdef\u001b[39;00m \u001b[38;5;21mwasserstein_distances\u001b[39m(diagrams_1, diagrams_2, p\u001b[38;5;241m=\u001b[39m\u001b[38;5;241m2\u001b[39m, delta\u001b[38;5;241m=\u001b[39m\u001b[38;5;241m0.01\u001b[39m, \u001b[38;5;241m*\u001b[39m\u001b[38;5;241m*\u001b[39mkwargs):\n\u001b[0;32m--> 186\u001b[0m     \u001b[38;5;28;01mreturn\u001b[39;00m np\u001b[38;5;241m.\u001b[39marray([[wasserstein_distance(\n\u001b[1;32m    187\u001b[0m         diagram_1[diagram_1[:, \u001b[38;5;241m0\u001b[39m] \u001b[38;5;241m!=\u001b[39m diagram_1[:, \u001b[38;5;241m1\u001b[39m]],\n\u001b[1;32m    188\u001b[0m         diagram_2[diagram_2[:, \u001b[38;5;241m0\u001b[39m] \u001b[38;5;241m!=\u001b[39m diagram_2[:, \u001b[38;5;241m1\u001b[39m]],\n\u001b[1;32m    189\u001b[0m         p, delta,) \u001b[38;5;28;01mfor\u001b[39;00m diagram_2 \u001b[38;5;129;01min\u001b[39;00m diagrams_2] \u001b[38;5;28;01mfor\u001b[39;00m diagram_1 \u001b[38;5;129;01min\u001b[39;00m diagrams_1])\n",
      "File \u001b[0;32m~/anaconda3/envs/time-delay-embeddings/lib/python3.10/site-packages/gtda/diagrams/_metrics.py:186\u001b[0m, in \u001b[0;36m<listcomp>\u001b[0;34m(.0)\u001b[0m\n\u001b[1;32m    185\u001b[0m \u001b[38;5;28;01mdef\u001b[39;00m \u001b[38;5;21mwasserstein_distances\u001b[39m(diagrams_1, diagrams_2, p\u001b[38;5;241m=\u001b[39m\u001b[38;5;241m2\u001b[39m, delta\u001b[38;5;241m=\u001b[39m\u001b[38;5;241m0.01\u001b[39m, \u001b[38;5;241m*\u001b[39m\u001b[38;5;241m*\u001b[39mkwargs):\n\u001b[0;32m--> 186\u001b[0m     \u001b[38;5;28;01mreturn\u001b[39;00m np\u001b[38;5;241m.\u001b[39marray([[wasserstein_distance(\n\u001b[1;32m    187\u001b[0m         diagram_1[diagram_1[:, \u001b[38;5;241m0\u001b[39m] \u001b[38;5;241m!=\u001b[39m diagram_1[:, \u001b[38;5;241m1\u001b[39m]],\n\u001b[1;32m    188\u001b[0m         diagram_2[diagram_2[:, \u001b[38;5;241m0\u001b[39m] \u001b[38;5;241m!=\u001b[39m diagram_2[:, \u001b[38;5;241m1\u001b[39m]],\n\u001b[1;32m    189\u001b[0m         p, delta,) \u001b[38;5;28;01mfor\u001b[39;00m diagram_2 \u001b[38;5;129;01min\u001b[39;00m diagrams_2] \u001b[38;5;28;01mfor\u001b[39;00m diagram_1 \u001b[38;5;129;01min\u001b[39;00m diagrams_1])\n",
      "File \u001b[0;32m~/anaconda3/envs/time-delay-embeddings/lib/python3.10/site-packages/gtda/diagrams/_metrics.py:186\u001b[0m, in \u001b[0;36m<listcomp>\u001b[0;34m(.0)\u001b[0m\n\u001b[1;32m    185\u001b[0m \u001b[38;5;28;01mdef\u001b[39;00m \u001b[38;5;21mwasserstein_distances\u001b[39m(diagrams_1, diagrams_2, p\u001b[38;5;241m=\u001b[39m\u001b[38;5;241m2\u001b[39m, delta\u001b[38;5;241m=\u001b[39m\u001b[38;5;241m0.01\u001b[39m, \u001b[38;5;241m*\u001b[39m\u001b[38;5;241m*\u001b[39mkwargs):\n\u001b[0;32m--> 186\u001b[0m     \u001b[38;5;28;01mreturn\u001b[39;00m np\u001b[38;5;241m.\u001b[39marray([[\u001b[43mwasserstein_distance\u001b[49m\u001b[43m(\u001b[49m\n\u001b[1;32m    187\u001b[0m \u001b[43m        \u001b[49m\u001b[43mdiagram_1\u001b[49m\u001b[43m[\u001b[49m\u001b[43mdiagram_1\u001b[49m\u001b[43m[\u001b[49m\u001b[43m:\u001b[49m\u001b[43m,\u001b[49m\u001b[43m \u001b[49m\u001b[38;5;241;43m0\u001b[39;49m\u001b[43m]\u001b[49m\u001b[43m \u001b[49m\u001b[38;5;241;43m!=\u001b[39;49m\u001b[43m \u001b[49m\u001b[43mdiagram_1\u001b[49m\u001b[43m[\u001b[49m\u001b[43m:\u001b[49m\u001b[43m,\u001b[49m\u001b[43m \u001b[49m\u001b[38;5;241;43m1\u001b[39;49m\u001b[43m]\u001b[49m\u001b[43m]\u001b[49m\u001b[43m,\u001b[49m\n\u001b[1;32m    188\u001b[0m \u001b[43m        \u001b[49m\u001b[43mdiagram_2\u001b[49m\u001b[43m[\u001b[49m\u001b[43mdiagram_2\u001b[49m\u001b[43m[\u001b[49m\u001b[43m:\u001b[49m\u001b[43m,\u001b[49m\u001b[43m \u001b[49m\u001b[38;5;241;43m0\u001b[39;49m\u001b[43m]\u001b[49m\u001b[43m \u001b[49m\u001b[38;5;241;43m!=\u001b[39;49m\u001b[43m \u001b[49m\u001b[43mdiagram_2\u001b[49m\u001b[43m[\u001b[49m\u001b[43m:\u001b[49m\u001b[43m,\u001b[49m\u001b[43m \u001b[49m\u001b[38;5;241;43m1\u001b[39;49m\u001b[43m]\u001b[49m\u001b[43m]\u001b[49m\u001b[43m,\u001b[49m\n\u001b[1;32m    189\u001b[0m \u001b[43m        \u001b[49m\u001b[43mp\u001b[49m\u001b[43m,\u001b[49m\u001b[43m \u001b[49m\u001b[43mdelta\u001b[49m\u001b[43m,\u001b[49m\u001b[43m)\u001b[49m \u001b[38;5;28;01mfor\u001b[39;00m diagram_2 \u001b[38;5;129;01min\u001b[39;00m diagrams_2] \u001b[38;5;28;01mfor\u001b[39;00m diagram_1 \u001b[38;5;129;01min\u001b[39;00m diagrams_1])\n",
      "\u001b[0;31mKeyboardInterrupt\u001b[0m: "
     ]
    }
   ],
   "source": [
    "# Randomly select 100 diagrams as training data\n",
    "random_diagrams1 = random.sample(shortened_diagrams1, 200)\n",
    "\n",
    "# Finding the most representative diagram for label 1\n",
    "\n",
    "# First, compute the pairwise Wasserstein distances\n",
    "wasserstein_distance1 = PairwiseDistance(metric=\"wasserstein\").fit_transform(random_diagrams1)\n",
    "\n",
    "# For each hole, calculate the sum of distances to all other holes\n",
    "sum_distances = [sum(dist) for dist in wasserstein_distance1]\n",
    "\n",
    "# Find the index of the Wasserstein barycenter\n",
    "most_representative_index = np.argmin(sum_distances)\n",
    "\n",
    "# Unshortened Wasserstein Barycenter for label 1\n",
    "representative_diagram1 = persistence.fit_transform_plot([embeddings1[most_representative_index]])"
   ]
  },
  {
   "cell_type": "code",
   "execution_count": null,
   "id": "92e69563-5572-4512-9f3d-2e98d7bd42cb",
   "metadata": {},
   "outputs": [],
   "source": [
    "# Finding the most representative diagram for label 3\n",
    "\n",
    "# Randomly select 100 diagrams as training data\n",
    "random_diagrams3 = random.sample(shortened_diagrams3, 200)\n",
    "\n",
    "# First, compute the pairwise Wasserstein distances\n",
    "wasserstein_distance3 = PairwiseDistance(metric=\"wasserstein\").fit_transform(random_diagrams3)\n",
    "\n",
    "# For each hole, calculate the sum of distances to all other holes\n",
    "sum_distances = [sum(dist) for dist in wasserstein_distance3]\n",
    "most_representative_index = np.argmin(sum_distances)\n",
    "\n",
    "# Wasserstein Barycenter for label 3\n",
    "representative_diagram3 = persistence.fit_transform_plot([embeddings3[most_representative_index]])"
   ]
  },
  {
   "cell_type": "code",
   "execution_count": null,
   "id": "6207d7e5-e78d-4854-93d9-b667890ef953",
   "metadata": {},
   "outputs": [],
   "source": [
    "# Finding the most representative diagram for label 5\n",
    "\n",
    "# Randomly select 20 diagrams as training data\n",
    "random_diagrams5 = random.sample(shortened_diagrams5, 30)\n",
    "\n",
    "\n",
    "# First, compute the pairwise Wasserstein distances\n",
    "wasserstein_distance5 = PairwiseDistance(metric=\"wasserstein\").fit_transform(random_diagrams5)\n",
    "\n",
    "# For each hole, calculate the sum of distances to all other holes\n",
    "sum_distances = [sum(dist) for dist in wasserstein_distance5]\n",
    "\n",
    "# Find the index of the Wasserstein barycenter\n",
    "most_representative_index = np.argmin(sum_distances)\n",
    "\n",
    "# Unshortened Wasserstein Barycenter for label 5\n",
    "representative_diagram5 = persistence.fit_transform_plot([embeddings5[most_representative_index]])"
   ]
  },
  {
   "cell_type": "markdown",
   "id": "485d4f05-e5d8-4995-a41e-3afbd76fcfaf",
   "metadata": {},
   "source": [
    "### Computing the distances of all diagrams to the most representative diagram of each class"
   ]
  },
  {
   "cell_type": "code",
   "execution_count": null,
   "id": "192c4db4-50cb-4ab1-b19d-d46c66bd172d",
   "metadata": {},
   "outputs": [],
   "source": [
    "shortened_barycenter1, _ = cut_diagrams([representative_diagram1[0]], no_holes_per_dimension)\n",
    "shortened_barycenter3, _ = cut_diagrams([representative_diagram3[0]], no_holes_per_dimension)\n",
    "shortened_barycenter5, _ = cut_diagrams([representative_diagram5[0]], no_holes_per_dimension)"
   ]
  },
  {
   "cell_type": "code",
   "execution_count": null,
   "id": "607ce87c-2c8e-4157-8e65-2814699e091d",
   "metadata": {},
   "outputs": [],
   "source": [
    "# Class 1 barycenter\n",
    "label1_distances_to_barycenter1 = []\n",
    "label3_distances_to_barycenter1 = []\n",
    "label5_distances_to_barycenter1 = []\n",
    "\n",
    "\n",
    "for diagram in shortened_diagrams1:\n",
    "    dist = PairwiseDistance(metric=\"wasserstein\").fit_transform([diagram, shortened_barycenter1[0]])\n",
    "    label1_distances_to_barycenter1.append(max(dist[0]))\n",
    "\n",
    "print(\"Mean distance of class 1 diagrams to class 1 Wasserstein barycenter: \" + str(statistics.mean(label1_distances_to_barycenter1)))\n",
    "\n",
    "for diagram in shortened_diagrams3:\n",
    "    dist = PairwiseDistance(metric=\"wasserstein\").fit_transform([diagram, shortened_barycenter1[0]])\n",
    "    label3_distances_to_barycenter1.append(max(dist[0]))\n",
    "\n",
    "print(\"Mean distance of class 3 diagrams to class 1 Wasserstein barycenter: \" + str(statistics.mean(label3_distances_to_barycenter1)))\n",
    "\n",
    "for diagram in shortened_diagrams5:\n",
    "    dist = PairwiseDistance(metric=\"wasserstein\").fit_transform([diagram, shortened_barycenter1[0]])\n",
    "    label5_distances_to_barycenter1.append(max(dist[0]))\n",
    "\n",
    "print(\"Mean distance of class 5 diagrams to class 1 Wasserstein barycenter: \" + str(statistics.mean(label5_distances_to_barycenter1)))\n"
   ]
  },
  {
   "cell_type": "code",
   "execution_count": 345,
   "id": "3857bb34-3e32-4ae7-b766-7279f80d374c",
   "metadata": {},
   "outputs": [
    {
     "name": "stdout",
     "output_type": "stream",
     "text": [
      "Mean distance of class 1 diagrams to class 3 Wasserstein barycenter: 0.0004955658647319321\n",
      "Mean distance of class 3 diagrams to class 3 Wasserstein barycenter: 0.00015663768206736951\n",
      "Mean distance of class 5 diagrams to class 3 Wasserstein barycenter: 0.00033686900717187865\n"
     ]
    }
   ],
   "source": [
    "# Class 3 barycenter\n",
    "label1_distances_to_barycenter3 = []\n",
    "label3_distances_to_barycenter3 = []\n",
    "label5_distances_to_barycenter3 = []\n",
    "\n",
    "\n",
    "for diagram in shortened_diagrams1:\n",
    "    dist = PairwiseDistance(metric=\"wasserstein\").fit_transform([diagram, shortened_barycenter3[0]])\n",
    "    label1_distances_to_barycenter3.append(max(dist[0]))\n",
    "\n",
    "print(\"Mean distance of class 1 diagrams to class 3 Wasserstein barycenter: \" + str(statistics.mean(label1_distances_to_barycenter3)))\n",
    "\n",
    "for diagram in shortened_diagrams3:\n",
    "    dist = PairwiseDistance(metric=\"wasserstein\").fit_transform([diagram, shortened_barycenter3[0]])\n",
    "    label3_distances_to_barycenter3.append(max(dist[0]))\n",
    "\n",
    "print(\"Mean distance of class 3 diagrams to class 3 Wasserstein barycenter: \" + str(statistics.mean(label3_distances_to_barycenter3)))\n",
    "\n",
    "for diagram in shortened_diagrams5:\n",
    "    dist = PairwiseDistance(metric=\"wasserstein\").fit_transform([diagram, shortened_barycenter3[0]])\n",
    "    label5_distances_to_barycenter3.append(max(dist[0]))\n",
    "\n",
    "print(\"Mean distance of class 5 diagrams to class 3 Wasserstein barycenter: \" + str(statistics.mean(label5_distances_to_barycenter3)))\n"
   ]
  },
  {
   "cell_type": "code",
   "execution_count": 346,
   "id": "22d002c9-8964-4871-ac5c-b151247a715e",
   "metadata": {},
   "outputs": [
    {
     "name": "stdout",
     "output_type": "stream",
     "text": [
      "Mean distance of class 1 diagrams to class 5 Wasserstein barycenter: 0.00037817846104274837\n",
      "Mean distance of class 3 diagrams to class 5 Wasserstein barycenter: 0.0002033517016367501\n",
      "Mean distance of class 5 diagrams to class 5 Wasserstein barycenter: 0.0002101560610054421\n"
     ]
    }
   ],
   "source": [
    "# Class 5 barycenter\n",
    "\n",
    "label1_distances_to_barycenter5 = []\n",
    "label3_distances_to_barycenter5 = []\n",
    "label5_distances_to_barycenter5 = []\n",
    "\n",
    "\n",
    "for diagram in shortened_diagrams1:\n",
    "    dist = PairwiseDistance(metric=\"wasserstein\").fit_transform([diagram, shortened_barycenter5[0]])\n",
    "    label1_distances_to_barycenter5.append(max(dist[0]))\n",
    "\n",
    "print(\"Mean distance of class 1 diagrams to class 5 Wasserstein barycenter: \" + str(statistics.mean(label1_distances_to_barycenter5)))\n",
    "\n",
    "for diagram in shortened_diagrams3:\n",
    "    dist = PairwiseDistance(metric=\"wasserstein\").fit_transform([diagram, shortened_barycenter5[0]])\n",
    "    label3_distances_to_barycenter5.append(max(dist[0]))\n",
    "\n",
    "print(\"Mean distance of class 3 diagrams to class 5 Wasserstein barycenter: \" + str(statistics.mean(label3_distances_to_barycenter5)))\n",
    "\n",
    "for diagram in shortened_diagrams5:\n",
    "    dist = PairwiseDistance(metric=\"wasserstein\").fit_transform([diagram, shortened_barycenter5[0]])\n",
    "    label5_distances_to_barycenter5.append(max(dist[0]))\n",
    "\n",
    "print(\"Mean distance of class 5 diagrams to class 5 Wasserstein barycenter: \" + str(statistics.mean(label5_distances_to_barycenter5)))"
   ]
  },
  {
   "cell_type": "code",
   "execution_count": 367,
   "id": "7920a75f-b91d-4d85-8657-22e77351d872",
   "metadata": {},
   "outputs": [],
   "source": [
    "min1 = min([min(label1_distances_to_barycenter1), min(label3_distances_to_barycenter1), min(label5_distances_to_barycenter1)])\n",
    "min3 = min([min(label1_distances_to_barycenter3), min(label3_distances_to_barycenter3), min(label5_distances_to_barycenter3)])\n",
    "min5 = min([min(label1_distances_to_barycenter5), min(label3_distances_to_barycenter5), min(label5_distances_to_barycenter5)])\n",
    "\n",
    "max1 = max([max(label1_distances_to_barycenter1), max(label3_distances_to_barycenter1), max(label5_distances_to_barycenter1)])\n",
    "max3 = max([max(label1_distances_to_barycenter3), max(label3_distances_to_barycenter3), max(label5_distances_to_barycenter3)])\n",
    "max5 = max([max(label1_distances_to_barycenter5), max(label3_distances_to_barycenter5), max(label5_distances_to_barycenter5)])\n",
    "\n",
    "\n",
    "normalized_label5_distances_to_barycenter1 = statistics.mean((label5_distances_to_barycenter1-min1)/(max1-min1))\n",
    "normalized_label5_distances_to_barycenter3 = statistics.mean((label5_distances_to_barycenter1-min3)/(max3-min3))\n",
    "normalized_label5_distances_to_barycenter5 = statistics.mean((label5_distances_to_barycenter1-min5)/(max5-min5))"
   ]
  },
  {
   "cell_type": "code",
   "execution_count": 368,
   "id": "af9f447a-369b-43ce-8916-0f82e3bd4ea8",
   "metadata": {},
   "outputs": [
    {
     "name": "stdout",
     "output_type": "stream",
     "text": [
      "0.23665597351082332\n",
      "0.3369633206464957\n",
      "0.3133326662347334\n"
     ]
    }
   ],
   "source": [
    "print(normalized_label5_distances_to_barycenter1)\n",
    "print(normalized_label5_distances_to_barycenter3)\n",
    "print(normalized_label5_distances_to_barycenter5)"
   ]
  },
  {
   "cell_type": "code",
   "execution_count": null,
   "id": "47b85efa-90f2-4482-ad63-229aa3d9dd55",
   "metadata": {},
   "outputs": [],
   "source": [
    "scaled_mean_class1_to_center1 = statistics.mean(label1_distances_to_barycenter1)/mean1\n",
    "scaled_mean_class1_to_center3 = statistics.mean(label1_distances_to_barycenter3)/mean1\n",
    "scaled_mean_class1_to_center5 = statistics.mean(label1_distances_to_barycenter5)/mean1\n",
    "\n",
    "print(\"Scaled mean distance of class 1 diagrams to class 5 Wasserstein barycenter: \" + str(scaled_mean_class1_to_center1))\n",
    "print(\"Scaled mean distance of class 1 diagrams to class 5 Wasserstein barycenter: \" + str(scaled_mean_class1_to_center1))\n",
    "print(\"Scaled mean distance of class 1 diagrams to class 5 Wasserstein barycenter: \" + str(scaled_mean_class1_to_center1))"
   ]
  },
  {
   "cell_type": "code",
   "execution_count": 353,
   "id": "f0fbd8cf-8a71-4d11-b484-d2aee50ae86d",
   "metadata": {},
   "outputs": [
    {
     "name": "stdout",
     "output_type": "stream",
     "text": [
      "Scaled mean distance of class 3 diagrams to class 1 Wasserstein barycenter: 0.30579016421076805\n",
      "Scaled mean distance of class 3 diagrams to class 3 Wasserstein barycenter: 1.9163863829342114\n",
      "Scaled mean distance of class 3 diagrams to class 5 Wasserstein barycenter: 1.4624414323883521\n"
     ]
    }
   ],
   "source": [
    "scaled_mean_class3_to_center1 = statistics.mean(label3_distances_to_barycenter1)/mean3\n",
    "scaled_mean_class3_to_center3 = statistics.mean(label3_distances_to_barycenter3)/mean3\n",
    "scaled_mean_class3_to_center5 = statistics.mean(label3_distances_to_barycenter5)/mean3\n",
    "\n",
    "print(\"Scaled mean distance of class 3 diagrams to class 1 Wasserstein barycenter: \" + str(scaled_mean_class1_to_center1))\n",
    "print(\"Scaled mean distance of class 3 diagrams to class 3 Wasserstein barycenter: \" + str(scaled_mean_class1_to_center3))\n",
    "print(\"Scaled mean distance of class 3 diagrams to class 5 Wasserstein barycenter: \" + str(scaled_mean_class1_to_center5))"
   ]
  },
  {
   "cell_type": "code",
   "execution_count": 360,
   "id": "0ac33b14-e316-47c4-8718-31f5f452a8fe",
   "metadata": {},
   "outputs": [
    {
     "name": "stdout",
     "output_type": "stream",
     "text": [
      "Scaled mean distance of class 5 diagrams to class 1 Wasserstein barycenter: 0.7662792555015087\n",
      "Scaled mean distance of class 5 diagrams to class 5 Wasserstein barycenter: 1.0217723840965898\n",
      "Scaled mean distance of class 5 diagrams to class 3 Wasserstein barycenter: 0.7963611897675604\n"
     ]
    }
   ],
   "source": [
    "scaled_mean_class5_to_center1 = statistics.mean(label5_distances_to_barycenter1)/mean1\n",
    "scaled_mean_class5_to_center3 = statistics.mean(label5_distances_to_barycenter3)/mean3\n",
    "scaled_mean_class5_to_center5 = statistics.mean(label5_distances_to_barycenter5)/mean5\n",
    "\n",
    "print(\"Scaled mean distance of class 5 diagrams to class 1 Wasserstein barycenter: \" + str(scaled_mean_class5_to_center1))\n",
    "print(\"Scaled mean distance of class 5 diagrams to class 5 Wasserstein barycenter: \" + str(scaled_mean_class5_to_center3))\n",
    "print(\"Scaled mean distance of class 5 diagrams to class 3 Wasserstein barycenter: \" + str(scaled_mean_class5_to_center5))"
   ]
  },
  {
   "cell_type": "markdown",
   "id": "ac1ec0cf-3fac-49d2-bfa0-73ed64519ef3",
   "metadata": {},
   "source": [
    "## Save Wasserstein distances"
   ]
  },
  {
   "cell_type": "code",
   "execution_count": 299,
   "id": "6b8d7474-4e0b-412b-9893-8c556728a4f8",
   "metadata": {},
   "outputs": [],
   "source": [
    "# Add the removed diagrams again, with a distance that is higher than the maximal distance out of the other diagrams\n",
    "# At a later step, the \"outlier\" diagrams should be labelled as outliers beforehand\n",
    "\n",
    "# Compute maximal distances per class\n",
    "maximal_distance1 = np.max(all_distances_to_barycenter1)\n",
    "maximal_distance3 = np.max(all_distances_to_barycenter3)\n",
    "maximal_distance5 = np.max(all_distances_to_barycenter5)\n",
    "\n",
    "# Add twice the maximal distance to the indices that were removed before\n",
    "for idx in removed_indices1:\n",
    "    all_distances_to_barycenter1.insert(idx, maximal_distance1*2)\n",
    "\n",
    "for idx in removed_indices3:\n",
    "    all_distances_to_barycenter3.insert(idx, maximal_distance3*2)\n",
    "\n",
    "for idx in removed_indices5:\n",
    "    all_distances_to_barycenter5.insert(idx, maximal_distance5*2)"
   ]
  },
  {
   "cell_type": "code",
   "execution_count": 300,
   "id": "9f3630ab-054a-4bbd-a465-14e53ea4a723",
   "metadata": {},
   "outputs": [],
   "source": [
    "feature_df1 = pd.DataFrame()\n",
    "feature_df1[\"Distance_to_Wasserstein_Barycenter1\"] = label1_distances_to_barycenter1\n",
    "feature_df1[\"Distance_to_Wasserstein_Barycenter3\"] = label1_distances_to_barycenter3\n",
    "feature_df1[\"Distance_to_Wasserstein_Barycenter5\"] = label1_distances_to_barycenter5\n",
    "feature_df1[\"Label\"] = 1\n",
    "\n",
    "feature_df3 = pd.DataFrame()\n",
    "feature_df3[\"Distance_to_Wasserstein_Barycenter1\"] = label3_distances_to_barycenter1\n",
    "feature_df3[\"Distance_to_Wasserstein_Barycenter3\"] = label3_distances_to_barycenter3\n",
    "feature_df3[\"Distance_to_Wasserstein_Barycenter5\"] = label3_distances_to_barycenter5\n",
    "feature_df3[\"Label\"] = 3\n",
    "\n",
    "feature_df5 = pd.DataFrame()\n",
    "feature_df5[\"Distance_to_Wasserstein_Barycenter1\"] = label5_distances_to_barycenter1\n",
    "feature_df5[\"Distance_to_Wasserstein_Barycenter3\"] = label5_distances_to_barycenter3\n",
    "feature_df5[\"Distance_to_Wasserstein_Barycenter5\"] = label5_distances_to_barycenter5\n",
    "feature_df5[\"Label\"] = 5"
   ]
  },
  {
   "cell_type": "code",
   "execution_count": 301,
   "id": "0a338fd0-4932-4697-b608-de17c8a010ee",
   "metadata": {},
   "outputs": [],
   "source": [
    "feature_df = pd.concat([feature_df1, feature_df3, feature_df5])"
   ]
  },
  {
   "cell_type": "code",
   "execution_count": 302,
   "id": "c55f43cb-ed4d-4167-ab6f-e68ab02b6710",
   "metadata": {},
   "outputs": [],
   "source": [
    "feature_df.to_csv(\"Wasserstein_Features.csv\")"
   ]
  },
  {
   "cell_type": "markdown",
   "id": "9711bdd5-e431-4b05-8a29-d4b5b2a21c29",
   "metadata": {},
   "source": [
    "## Save shortened diagrams"
   ]
  },
  {
   "cell_type": "code",
   "execution_count": 386,
   "id": "39b6ff44-bdf3-46c0-9649-1d070cb363d9",
   "metadata": {},
   "outputs": [],
   "source": [
    "# TODO Still have to add removed diagrams again?"
   ]
  },
  {
   "cell_type": "code",
   "execution_count": 391,
   "id": "b71a4b06-d744-4499-8754-e859fcda2a25",
   "metadata": {},
   "outputs": [],
   "source": [
    "np.save('Shortened_PD1.npy', np.array(shortened_diagrams1, dtype=object), allow_pickle=True)\n",
    "np.save('Shortend_PD3.npy', np.array(shortened_diagrams3, dtype=object), allow_pickle=True)\n",
    "np.save('Shortened_PD5.npy', np.array(removed_indices5, dtype=object), allow_pickle=True)"
   ]
  },
  {
   "cell_type": "code",
   "execution_count": null,
   "id": "c306bf51-db7d-4cb1-8c08-27eec89d53ce",
   "metadata": {},
   "outputs": [],
   "source": []
  }
 ],
 "metadata": {
  "kernelspec": {
   "display_name": "Python 3 (ipykernel)",
   "language": "python",
   "name": "python3"
  },
  "language_info": {
   "codemirror_mode": {
    "name": "ipython",
    "version": 3
   },
   "file_extension": ".py",
   "mimetype": "text/x-python",
   "name": "python",
   "nbconvert_exporter": "python",
   "pygments_lexer": "ipython3",
   "version": "3.10.12"
  }
 },
 "nbformat": 4,
 "nbformat_minor": 5
}
