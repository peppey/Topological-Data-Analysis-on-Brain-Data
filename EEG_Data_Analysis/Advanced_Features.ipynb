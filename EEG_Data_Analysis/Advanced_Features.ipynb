{
 "cells": [
  {
   "cell_type": "code",
   "execution_count": 1,
   "id": "2ff7fcc0-d6c4-455d-a729-5d150698450c",
   "metadata": {},
   "outputs": [],
   "source": [
    "import pandas as pd\n",
    "import numpy as np\n",
    "import pickle\n",
    "import time"
   ]
  },
  {
   "cell_type": "code",
   "execution_count": 2,
   "id": "47d81dbf-3393-46db-a967-656b2112143f",
   "metadata": {},
   "outputs": [],
   "source": [
    "from gudhi.representations.vector_methods import Landscape\n"
   ]
  },
  {
   "cell_type": "code",
   "execution_count": 3,
   "id": "889ac06e-63e9-4608-82a0-64b67bd3deaf",
   "metadata": {},
   "outputs": [
    {
     "data": {
      "text/plain": [
       "'\\n# read persistence diagrams\\n\\nobjects = []\\nwith (open(\"persistence//diagrams_0_1000.pickle\", \"rb\")) as openfile:\\n    while True:\\n        try:\\n            objects.append(pickle.load(openfile))\\n        except EOFError:\\n            break\\n'"
      ]
     },
     "execution_count": 3,
     "metadata": {},
     "output_type": "execute_result"
    }
   ],
   "source": [
    "\"\"\"\n",
    "# read persistence diagrams\n",
    "\n",
    "objects = []\n",
    "with (open(\"persistence//diagrams_0_1000.pickle\", \"rb\")) as openfile:\n",
    "    while True:\n",
    "        try:\n",
    "            objects.append(pickle.load(openfile))\n",
    "        except EOFError:\n",
    "            break\n",
    "\"\"\""
   ]
  },
  {
   "cell_type": "code",
   "execution_count": 4,
   "id": "d768ef11-e3e3-4bf2-9c80-32baf11f951f",
   "metadata": {},
   "outputs": [],
   "source": [
    "persistence_diagrams1 = np.load('PD1.npy', allow_pickle=True)\n",
    "persistence_diagrams3 = np.load('PD3.npy', allow_pickle=True)\n"
   ]
  },
  {
   "cell_type": "code",
   "execution_count": 6,
   "id": "d60706b8-d807-415e-a9da-e93a30409f7b",
   "metadata": {},
   "outputs": [],
   "source": [
    "def carlsson_coordinates(X_train, X_test):\n",
    "    n = len(X_train)\n",
    "    X_train_features_cc1 = np.zeros(n)\n",
    "    X_train_features_cc2 = np.zeros(n)\n",
    "    X_train_features_cc3 = np.zeros(n)\n",
    "    X_train_features_cc4 = np.zeros(n)\n",
    "    start = time.time()\n",
    "    ymax = 0\n",
    "    for i in range(0,n):\n",
    "        if len(X_train[i])>0:\n",
    "            b = np.max(X_train[i][:,1])\n",
    "        else:\n",
    "            b = ymax\n",
    "        if ymax < b:\n",
    "            ymax = b\n",
    "        else:\n",
    "            ymax = ymax\n",
    "    print(ymax)\n",
    "    for i in range(0,n):\n",
    "        if len(X_train[i])>0:\n",
    "            x = X_train[i][:,0]\n",
    "            y = X_train[i][:,1]\n",
    "            X_train_features_cc1[i] = sum(x*(y-x))\n",
    "            X_train_features_cc2[i] = sum((ymax - y)*(y-x))\n",
    "            X_train_features_cc3[i] = sum(x**2*(y-x)**4)\n",
    "            X_train_features_cc4[i] = sum((ymax-y)**2*(y-x)**4)\n",
    "        else:\n",
    "            X_train_features_cc1[i] = 0\n",
    "            X_train_features_cc2[i] = 0\n",
    "            X_train_features_cc3[i] = 0\n",
    "            X_train_features_cc4[i] = 0\n",
    "\n",
    "    n = len(X_test)\n",
    "    X_test_features_cc1 = np.zeros(n)\n",
    "    X_test_features_cc2 = np.zeros(n)\n",
    "    X_test_features_cc3 = np.zeros(n)\n",
    "    X_test_features_cc4 = np.zeros(n)\n",
    "    ymax = 0\n",
    "    for i in range(0,n):\n",
    "        if len(X_test[i])>0:\n",
    "            b = np.max(X_test[i][:,1])\n",
    "        else:\n",
    "            b = ymax\n",
    "        if ymax < b:\n",
    "            ymax = b\n",
    "        else:\n",
    "            ymax = ymax\n",
    "    for i in range(0,n):\n",
    "        if len(X_test[i])>0:\n",
    "            x = X_test[i][:,0]\n",
    "            y = X_test[i][:,1]\n",
    "            X_test_features_cc1[i] = sum(x*(y-x))\n",
    "            X_test_features_cc2[i] = sum((ymax - y)*(y-x))\n",
    "            X_test_features_cc3[i] = sum(x**2*(y-x)**4)\n",
    "            X_test_features_cc4[i] = sum((ymax-y)**2*(y-x)**4)\n",
    "        else:\n",
    "            X_test_features_cc1[i] = 0\n",
    "            X_test_features_cc2[i] = 0\n",
    "            X_test_features_cc3[i] = 0\n",
    "            X_test_features_cc4[i] = 0\n",
    "    print(\"Total Time (Carlsson Coordinates): \", time.time()-start)\n",
    "    return X_train_features_cc1, X_train_features_cc2, X_train_features_cc3, X_train_features_cc4, X_test_features_cc1, X_test_features_cc2, X_test_features_cc3, X_test_features_cc4\n",
    "\n",
    "def landscape_features(X_train, X_test, num_landscapes=5, resolution=100):\n",
    "    start = time.time()\n",
    "    landscapes = Landscape(num_landscapes, resolution)\n",
    "    lr = landscapes.fit(X_train)\n",
    "    X_train_features = lr.transform(X_train)\n",
    "    X_test_features = lr.transform(X_test)\n",
    "    print(\"Total Time (Landscape Features): \", time.time()-start)\n",
    "    return X_train_features, X_test_features\n",
    "\n",
    "def persistence_image_features(X_train, X_test, pixels=[20,20], spread=1):\n",
    "    start = time.time()\n",
    "    pim = PersImage(pixels=pixels, spread=spread)\n",
    "    imgs_train = pim.transform(X_train)\n",
    "    X_train_features = np.array([img.flatten() for img in imgs_train])\n",
    "    pim = PersImage(pixels=pixels, spread=spread)\n",
    "    imgs_test = pim.transform(X_test)\n",
    "    X_test_features = np.array([img.flatten() for img in imgs_test])\n",
    "    print(\"Total Time (Persistence Images): \", time.time()-start)\n",
    "    return X_train_features, X_test_features"
   ]
  },
  {
   "cell_type": "code",
   "execution_count": 8,
   "id": "8de397d0-0b80-43ee-92fd-0e70d5ebac79",
   "metadata": {},
   "outputs": [
    {
     "name": "stdout",
     "output_type": "stream",
     "text": [
      "0.0005438531516119838\n",
      "Total Time (Carlsson Coordinates):  0.03448200225830078\n"
     ]
    }
   ],
   "source": [
    "X_train_features_cc1, X_train_features_cc2, X_train_features_cc3, X_train_features_cc4, X_test_features_cc1, X_test_features_cc2, X_test_features_cc3, X_test_features_cc4 = carlsson_coordinates(persistence_diagrams1, persistence_diagrams1)"
   ]
  },
  {
   "cell_type": "code",
   "execution_count": 13,
   "id": "e0a3026f-da12-4e75-b1ba-794a431b0843",
   "metadata": {},
   "outputs": [],
   "source": [
    "features_df1 = pd.DataFrame()\n",
    "\n",
    "features_df1[\"AC_coordinate_cc1\"] = X_train_features_cc1\n",
    "features_df1[\"AC_coordinate_cc2\"] = X_train_features_cc2\n",
    "features_df1[\"AC_coordinate_cc3\"] = X_train_features_cc3\n",
    "features_df1[\"AC_coordinate_cc4\"] = X_train_features_cc4\n",
    "features_df1[\"Label\"] = 1"
   ]
  },
  {
   "cell_type": "code",
   "execution_count": 14,
   "id": "18e0b475-6c0b-4f24-b2ea-77e65bdb2d6d",
   "metadata": {},
   "outputs": [
    {
     "name": "stdout",
     "output_type": "stream",
     "text": [
      "0.0010116847697645426\n",
      "Total Time (Carlsson Coordinates):  0.03249001502990723\n"
     ]
    }
   ],
   "source": [
    "X_train_features_cc1, X_train_features_cc2, X_train_features_cc3, X_train_features_cc4, X_test_features_cc1, X_test_features_cc2, X_test_features_cc3, X_test_features_cc4 = carlsson_coordinates(persistence_diagrams3, persistence_diagrams3)"
   ]
  },
  {
   "cell_type": "code",
   "execution_count": 15,
   "id": "ba8d0975-227b-4b7d-96d3-7d0f18f22bcd",
   "metadata": {},
   "outputs": [],
   "source": [
    "features_df3 = pd.DataFrame()\n",
    "\n",
    "features_df3[\"AC_coordinate_cc1\"] = X_train_features_cc1\n",
    "features_df3[\"AC_coordinate_cc2\"] = X_train_features_cc2\n",
    "features_df3[\"AC_coordinate_cc3\"] = X_train_features_cc3\n",
    "features_df3[\"AC_coordinate_cc4\"] = X_train_features_cc4\n",
    "features_df3[\"Label\"] = 3"
   ]
  },
  {
   "cell_type": "code",
   "execution_count": 17,
   "id": "654ca4d0-dc09-4a4d-91ec-c2de1b7c7568",
   "metadata": {},
   "outputs": [],
   "source": [
    "feature_df = pd.concat([features_df1, features_df3])"
   ]
  },
  {
   "cell_type": "code",
   "execution_count": 18,
   "id": "352fd913-e88e-46a7-a05d-ccd1bdb44663",
   "metadata": {},
   "outputs": [],
   "source": [
    "feature_df.to_csv(\"Advanced_Features.csv\")"
   ]
  },
  {
   "cell_type": "code",
   "execution_count": null,
   "id": "fc16921a-8acf-41b6-bb58-d80afb66d5d6",
   "metadata": {},
   "outputs": [],
   "source": []
  }
 ],
 "metadata": {
  "kernelspec": {
   "display_name": "Python 3 (ipykernel)",
   "language": "python",
   "name": "python3"
  },
  "language_info": {
   "codemirror_mode": {
    "name": "ipython",
    "version": 3
   },
   "file_extension": ".py",
   "mimetype": "text/x-python",
   "name": "python",
   "nbconvert_exporter": "python",
   "pygments_lexer": "ipython3",
   "version": "3.10.12"
  }
 },
 "nbformat": 4,
 "nbformat_minor": 5
}
