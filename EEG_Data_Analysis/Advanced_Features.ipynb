{
 "cells": [
  {
   "cell_type": "code",
   "execution_count": 1,
   "id": "2ff7fcc0-d6c4-455d-a729-5d150698450c",
   "metadata": {},
   "outputs": [],
   "source": [
    "import pandas as pd\n",
    "import numpy as np\n",
    "import pickle\n",
    "import time"
   ]
  },
  {
   "cell_type": "code",
   "execution_count": 2,
   "id": "d768ef11-e3e3-4bf2-9c80-32baf11f951f",
   "metadata": {},
   "outputs": [],
   "source": [
    "# Work in progress, variable names have to be added below\n",
    "\n",
    "train_persistence_diagrams_label_1 = np.load(\"Embeddings_and_Persistence_Diagrams/Train_PD1.npy\", allow_pickle=True)\n",
    "test_persistence_diagrams_label_1 = np.load(\"Embeddings_and_Persistence_Diagrams/Test_PD1.npy\", allow_pickle=True)\n",
    "\n",
    "train_persistence_diagrams_label_3 = np.load(\"Embeddings_and_Persistence_Diagrams/Train_PD3.npy\", allow_pickle=True)\n",
    "test_persistence_diagrams_label_3 = np.load(\"Embeddings_and_Persistence_Diagrams/Test_PD3.npy\", allow_pickle=True)\n",
    "\n",
    "train_persistence_diagrams_label_5 = np.load(\"Embeddings_and_Persistence_Diagrams/Train_PD5.npy\", allow_pickle=True)\n",
    "test_persistence_diagrams_label_5 = np.load(\"Embeddings_and_Persistence_Diagrams/Test_PD5.npy\", allow_pickle=True)\n",
    "\n",
    "train_persistence_diagrams_label_7 = np.load(\"Embeddings_and_Persistence_Diagrams/Train_PD7.npy\", allow_pickle=True)\n",
    "test_persistence_diagrams_label_7 = np.load(\"Embeddings_and_Persistence_Diagrams/Test_PD7.npy\", allow_pickle=True)"
   ]
  },
  {
   "cell_type": "code",
   "execution_count": 10,
   "id": "2bcbb410-a60a-4dfe-9af3-62a9ddcce11a",
   "metadata": {},
   "outputs": [],
   "source": [
    "# Adcock-Carlson coordinates"
   ]
  },
  {
   "cell_type": "code",
   "execution_count": 3,
   "id": "d60706b8-d807-415e-a9da-e93a30409f7b",
   "metadata": {},
   "outputs": [],
   "source": [
    "def carlsson_coordinates(X_train, X_test):\n",
    "    n = len(X_train)\n",
    "    X_train_features_cc1 = np.zeros(n)\n",
    "    X_train_features_cc2 = np.zeros(n)\n",
    "    X_train_features_cc3 = np.zeros(n)\n",
    "    X_train_features_cc4 = np.zeros(n)\n",
    "    start = time.time()\n",
    "    ymax = 0\n",
    "    for i in range(0,n):\n",
    "        if len(X_train[i])>0:\n",
    "            b = np.max(X_train[i][:,1])\n",
    "        else:\n",
    "            b = ymax\n",
    "        if ymax < b:\n",
    "            ymax = b\n",
    "        else:\n",
    "            ymax = ymax\n",
    "    print(ymax)\n",
    "    for i in range(0,n):\n",
    "        if len(X_train[i])>0:\n",
    "            x = X_train[i][:,0]\n",
    "            y = X_train[i][:,1]\n",
    "            X_train_features_cc1[i] = sum(x*(y-x))\n",
    "            X_train_features_cc2[i] = sum((ymax - y)*(y-x))\n",
    "            X_train_features_cc3[i] = sum(x**2*(y-x)**4)\n",
    "            X_train_features_cc4[i] = sum((ymax-y)**2*(y-x)**4)\n",
    "        else:\n",
    "            X_train_features_cc1[i] = 0\n",
    "            X_train_features_cc2[i] = 0\n",
    "            X_train_features_cc3[i] = 0\n",
    "            X_train_features_cc4[i] = 0\n",
    "\n",
    "    n = len(X_test)\n",
    "    X_test_features_cc1 = np.zeros(n)\n",
    "    X_test_features_cc2 = np.zeros(n)\n",
    "    X_test_features_cc3 = np.zeros(n)\n",
    "    X_test_features_cc4 = np.zeros(n)\n",
    "    ymax = 0\n",
    "    for i in range(0,n):\n",
    "        if len(X_test[i])>0:\n",
    "            b = np.max(X_test[i][:,1])\n",
    "        else:\n",
    "            b = ymax\n",
    "        if ymax < b:\n",
    "            ymax = b\n",
    "        else:\n",
    "            ymax = ymax\n",
    "    for i in range(0,n):\n",
    "        if len(X_test[i])>0:\n",
    "            x = X_test[i][:,0]\n",
    "            y = X_test[i][:,1]\n",
    "            X_test_features_cc1[i] = sum(x*(y-x))\n",
    "            X_test_features_cc2[i] = sum((ymax - y)*(y-x))\n",
    "            X_test_features_cc3[i] = sum(x**2*(y-x)**4)\n",
    "            X_test_features_cc4[i] = sum((ymax-y)**2*(y-x)**4)\n",
    "        else:\n",
    "            X_test_features_cc1[i] = 0\n",
    "            X_test_features_cc2[i] = 0\n",
    "            X_test_features_cc3[i] = 0\n",
    "            X_test_features_cc4[i] = 0\n",
    "            \n",
    "    return X_train_features_cc1, X_train_features_cc2, X_train_features_cc3, X_train_features_cc4, X_test_features_cc1, X_test_features_cc2, X_test_features_cc3, X_test_features_cc4"
   ]
  },
  {
   "cell_type": "code",
   "execution_count": 4,
   "id": "5842205a-7510-45e8-8ba9-1ad22e97cc04",
   "metadata": {},
   "outputs": [],
   "source": [
    "def create_dataframe(X_features_cc1, X_features_cc2, X_features_cc3, X_features_cc4, label):\n",
    "    features_df = pd.DataFrame()\n",
    "\n",
    "    features_df[\"AC_coordinate_cc1\"] = X_features_cc1\n",
    "    features_df[\"AC_coordinate_cc2\"] = X_features_cc2\n",
    "    features_df[\"AC_coordinate_cc3\"] = X_features_cc3\n",
    "    features_df[\"AC_coordinate_cc4\"] = X_features_cc4\n",
    "    features_df[\"Label\"] = label\n",
    "\n",
    "    return features_df"
   ]
  },
  {
   "cell_type": "code",
   "execution_count": 5,
   "id": "8de397d0-0b80-43ee-92fd-0e70d5ebac79",
   "metadata": {},
   "outputs": [
    {
     "name": "stdout",
     "output_type": "stream",
     "text": [
      "0.00509025389328599\n"
     ]
    }
   ],
   "source": [
    "# LABEL 1\n",
    "\n",
    "# Adcock Carlson coordinates \n",
    "train_carlson_coord_1, train_carlson_coord_2, train_carlson_coord_3, train_carlson_coord_4, test_carlson_coord_1, test_carlson_coord_2, test_carlson_coord_3, test_carlson_coord_4 = carlsson_coordinates(train_persistence_diagrams_label_1, test_persistence_diagrams_label_1)\n",
    "\n",
    "# Create dataframe\n",
    "train_features_df1 = create_dataframe(train_carlson_coord_1, train_carlson_coord_2, train_carlson_coord_3, train_carlson_coord_4, 1)\n",
    "test_features_df1 = create_dataframe(test_carlson_coord_1, test_carlson_coord_2, test_carlson_coord_3, test_carlson_coord_4, 1)"
   ]
  },
  {
   "cell_type": "code",
   "execution_count": 6,
   "id": "18e0b475-6c0b-4f24-b2ea-77e65bdb2d6d",
   "metadata": {},
   "outputs": [
    {
     "name": "stdout",
     "output_type": "stream",
     "text": [
      "0.0013039779150858521\n"
     ]
    }
   ],
   "source": [
    "# LABEL 3\n",
    "\n",
    "# Adcock Carlson coordinates \n",
    "train_carlson_coord_1, train_carlson_coord_2, train_carlson_coord_3, train_carlson_coord_4, test_carlson_coord_1, test_carlson_coord_2, test_carlson_coord_3, test_carlson_coord_4 = carlsson_coordinates(train_persistence_diagrams_label_3, test_persistence_diagrams_label_3)\n",
    "\n",
    "# Create dataframe\n",
    "train_features_df3 = create_dataframe(train_carlson_coord_1, train_carlson_coord_2, train_carlson_coord_3, train_carlson_coord_4, 3)\n",
    "test_features_df3 = create_dataframe(test_carlson_coord_1, test_carlson_coord_2, test_carlson_coord_3, test_carlson_coord_4, 3)"
   ]
  },
  {
   "cell_type": "code",
   "execution_count": 7,
   "id": "ba8d0975-227b-4b7d-96d3-7d0f18f22bcd",
   "metadata": {},
   "outputs": [
    {
     "name": "stdout",
     "output_type": "stream",
     "text": [
      "0.0007453467696905136\n"
     ]
    }
   ],
   "source": [
    "# LABEL 5\n",
    "\n",
    "# Adcock Carlson coordinates \n",
    "train_carlson_coord_1, train_carlson_coord_2, train_carlson_coord_3, train_carlson_coord_4, test_carlson_coord_1, test_carlson_coord_2, test_carlson_coord_3, test_carlson_coord_4 = carlsson_coordinates(train_persistence_diagrams_label_5, test_persistence_diagrams_label_5)\n",
    "\n",
    "# Create dataframe\n",
    "train_features_df5 = create_dataframe(train_carlson_coord_1, train_carlson_coord_2, train_carlson_coord_3, train_carlson_coord_4, 5)\n",
    "test_features_df5 = create_dataframe(test_carlson_coord_1, test_carlson_coord_2, test_carlson_coord_3, test_carlson_coord_4, 5)"
   ]
  },
  {
   "cell_type": "code",
   "execution_count": 8,
   "id": "6a9d4a3d-f65b-42ee-87eb-444c08b63f86",
   "metadata": {},
   "outputs": [
    {
     "name": "stdout",
     "output_type": "stream",
     "text": [
      "0.010027261450886726\n"
     ]
    }
   ],
   "source": [
    "# LABEL 7\n",
    "\n",
    "# Adcock Carlson coordinates \n",
    "train_carlson_coord_1, train_carlson_coord_2, train_carlson_coord_3, train_carlson_coord_4, test_carlson_coord_1, test_carlson_coord_2, test_carlson_coord_3, test_carlson_coord_4 = carlsson_coordinates(train_persistence_diagrams_label_7, test_persistence_diagrams_label_7)\n",
    "\n",
    "# Create dataframe\n",
    "train_features_df7 = create_dataframe(train_carlson_coord_1, train_carlson_coord_2, train_carlson_coord_3, train_carlson_coord_4, 7)\n",
    "test_features_df7 = create_dataframe(test_carlson_coord_1, test_carlson_coord_2, test_carlson_coord_3, test_carlson_coord_4, 7)"
   ]
  },
  {
   "cell_type": "code",
   "execution_count": 9,
   "id": "654ca4d0-dc09-4a4d-91ec-c2de1b7c7568",
   "metadata": {},
   "outputs": [],
   "source": [
    "# Concatenate and save dataframes\n",
    "\n",
    "train_feature_df = pd.concat([train_features_df1, train_features_df3, train_features_df5, train_features_df7], ignore_index=True)\n",
    "test_feature_df = pd.concat([test_features_df1, test_features_df3, test_features_df5, test_features_df7], ignore_index=True)\n",
    "\n",
    "train_feature_df.to_csv(\"Features/Train_Advanced_Features.csv\")\n",
    "test_feature_df.to_csv(\"Features/Test_Advanced_Features.csv\")"
   ]
  },
  {
   "cell_type": "code",
   "execution_count": null,
   "id": "352fd913-e88e-46a7-a05d-ccd1bdb44663",
   "metadata": {},
   "outputs": [],
   "source": []
  },
  {
   "cell_type": "code",
   "execution_count": null,
   "id": "fc16921a-8acf-41b6-bb58-d80afb66d5d6",
   "metadata": {},
   "outputs": [],
   "source": []
  },
  {
   "cell_type": "code",
   "execution_count": null,
   "id": "e72a5961-a608-48a2-8140-9c0762132899",
   "metadata": {},
   "outputs": [],
   "source": []
  }
 ],
 "metadata": {
  "kernelspec": {
   "display_name": "Python 3 (ipykernel)",
   "language": "python",
   "name": "python3"
  },
  "language_info": {
   "codemirror_mode": {
    "name": "ipython",
    "version": 3
   },
   "file_extension": ".py",
   "mimetype": "text/x-python",
   "name": "python",
   "nbconvert_exporter": "python",
   "pygments_lexer": "ipython3",
   "version": "3.10.12"
  }
 },
 "nbformat": 4,
 "nbformat_minor": 5
}
