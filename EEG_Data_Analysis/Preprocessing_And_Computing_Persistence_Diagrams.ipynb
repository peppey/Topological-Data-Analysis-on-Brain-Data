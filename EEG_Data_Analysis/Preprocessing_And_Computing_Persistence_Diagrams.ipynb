{
 "cells": [
  {
   "cell_type": "code",
   "execution_count": 124,
   "id": "0a81b9c9-a2e9-46c2-8ae8-4a5f02dd0571",
   "metadata": {},
   "outputs": [],
   "source": [
    "import numpy as np\n",
    "import pyedflib\n",
    "\n",
    "import pandas as pd\n",
    "from gtda.time_series import SingleTakensEmbedding\n",
    "from gtda.homology import VietorisRipsPersistence\n",
    "from gtda.diagrams import PersistenceEntropy, Amplitude, NumberOfPoints, ComplexPolynomial, PersistenceLandscape, HeatKernel, Silhouette, BettiCurve, PairwiseDistance, ForgetDimension\n",
    "from sklearn.model_selection import train_test_split\n",
    "import random"
   ]
  },
  {
   "cell_type": "markdown",
   "id": "7d9823a6-57bc-4bef-9350-14eb32a035fe",
   "metadata": {},
   "source": [
    "# Choose EEG or EMG"
   ]
  },
  {
   "cell_type": "code",
   "execution_count": 145,
   "id": "1a556dad-ea22-4937-811d-6efbdc4aa317",
   "metadata": {},
   "outputs": [],
   "source": [
    "# Choose if you want to look at EEG or EMG data\n",
    "\n",
    "data_type = \"EEG\" # Does not have an effect yet, will be added later when processing anesthesia data\n",
    "#data_type = \"EMG\""
   ]
  },
  {
   "cell_type": "markdown",
   "id": "0cc1f407-122b-4eda-86f0-622f93ccf082",
   "metadata": {},
   "source": [
    "# Import Data"
   ]
  },
  {
   "cell_type": "code",
   "execution_count": 146,
   "id": "048043a1-ae93-4ec2-87d5-b98e2d15dc19",
   "metadata": {},
   "outputs": [],
   "source": [
    "# EEG/EMG data\n",
    "\n",
    "def read_edf_file(file_path):\n",
    "    \"\"\"\n",
    "    Reads an .edf file and returns the EEG and EMG streams as pandas DataFrames.\n",
    "    \"\"\"\n",
    "    f = pyedflib.EdfReader(file_path)\n",
    "\n",
    "    # Assuming the EEG channel is the first channel and EMG is the second channel\n",
    "    eeg_signal = f.readSignal(0)\n",
    "    emg_signal = f.readSignal(1)\n",
    "\n",
    "    # Extract the channel names for the DataFrame\n",
    "    eeg_channel_name = f.getSignalLabels()[0]\n",
    "    emg_channel_name = f.getSignalLabels()[1]\n",
    "\n",
    "    # Get the sample frequency\n",
    "    sample_frequency = f.getSampleFrequency(0)  # Assuming both streams have the same frequency\n",
    "\n",
    "    # Calculate the timestamps for the samples\n",
    "    n_samples = min(len(eeg_signal), len(emg_signal))\n",
    "    time = [i / sample_frequency for i in range(n_samples)]\n",
    "\n",
    "    # Create pandas DataFrame\n",
    "    df = pd.DataFrame({\n",
    "        'Time': time,\n",
    "        eeg_channel_name: eeg_signal[:n_samples],\n",
    "        emg_channel_name: emg_signal[:n_samples],\n",
    "    })\n",
    "\n",
    "    # Close the EdfReader\n",
    "    f.close()\n",
    "\n",
    "    return df\n",
    "\n",
    "\n",
    "# Read file\n",
    "file = 'Data/edf_293.edf'\n",
    "\n",
    "# Convert to pandas DataFrame\n",
    "data = read_edf_file(file)\n",
    "data = data.iloc[2000:] # The first label is NaN... Therefore we have to remove the first 2000 values corresponding to the first label\n",
    "data.to_csv(\"Data/TS_Data.csv\") # Save for Data Exploration"
   ]
  },
  {
   "cell_type": "code",
   "execution_count": 147,
   "id": "85fd9907-0ecf-4827-bd57-da10d9c03cfa",
   "metadata": {},
   "outputs": [],
   "source": [
    "# Labels\n",
    "\n",
    "# Read data\n",
    "label_df = pd.read_csv(\"Data/Data_293.csv\")\n",
    "labels = label_df[\"NAPS_Numeric\"].iloc[1:] # The first label is NaN\n",
    "\n",
    "# Convert to list\n",
    "labels = [int(label) for label in labels]\n"
   ]
  },
  {
   "cell_type": "markdown",
   "id": "f1ea3b4c-8747-430b-9966-2e7eaaca0b74",
   "metadata": {},
   "source": [
    "# Preprocessing"
   ]
  },
  {
   "cell_type": "markdown",
   "id": "53aa0e08-3e63-44f0-90a7-9c713ad37943",
   "metadata": {},
   "source": [
    "## Segmenting Data"
   ]
  },
  {
   "cell_type": "code",
   "execution_count": 148,
   "id": "4d599237-77e5-4221-9b79-f8a638334fdc",
   "metadata": {},
   "outputs": [],
   "source": [
    "def segment_data(df, segment_size, step_size = 2):\n",
    "    \"\"\"\n",
    "    Segments time-series data into EEG and EMG segments.\n",
    "\n",
    "    Parameters:\n",
    "    - df (DataFrame): The input dataframe containing the columns \"Time\", \"EEG\" and \"EMG\".\n",
    "    - segment_size (float): The desired size of each segment in seconds.\n",
    "    - step_size (float, optional): The step size of \"Time\" in milliseconds. Default is 2 millisecond.\n",
    "\n",
    "    Returns:\n",
    "    Tuple of two lists:\n",
    "    - List of EEG segments.\n",
    "    - List of EMG segments.\n",
    "    \"\"\"\n",
    "\n",
    "    n_segments = int(df[\"Time\"].iloc[-1]) // segment_size\n",
    "    eeg_segments = []\n",
    "    emg_segments = []\n",
    "\n",
    "    for i in range(n_segments):\n",
    "        start_idx = int(i* segment_size*1000/step_size)\n",
    "        end_idx = start_idx + int(segment_size*1000/step_size)\n",
    "        segment = df.iloc[start_idx:end_idx]\n",
    "        eeg_segments.append(list(segment[\"EEG\"]))\n",
    "        emg_segments.append(list(segment[\"EMG\"]))\n",
    "\n",
    "    return eeg_segments, emg_segments"
   ]
  },
  {
   "cell_type": "code",
   "execution_count": 149,
   "id": "7696563c-9996-40dd-99bc-8ec2b960bd32",
   "metadata": {},
   "outputs": [],
   "source": [
    "# Segment the data\n",
    "segment_size = 4  # seconds\n",
    "eeg_segments, emg_segments = segment_data(data, segment_size, step_size = 2)"
   ]
  },
  {
   "cell_type": "markdown",
   "id": "92ef2d4e-e600-4c5e-922c-2c475ca13583",
   "metadata": {},
   "source": [
    "## Choose Train and Test Data Indices"
   ]
  },
  {
   "cell_type": "code",
   "execution_count": 150,
   "id": "f4c27549-949f-4bb3-84bc-39b764acb038",
   "metadata": {},
   "outputs": [],
   "source": [
    "# Choose test data set size for classification later (recommended: 0.2-0.3)\n",
    "\n",
    "test_size = 0.3"
   ]
  },
  {
   "cell_type": "code",
   "execution_count": 151,
   "id": "528d3fc3-1bff-4a7c-9006-7811597f26e2",
   "metadata": {},
   "outputs": [],
   "source": [
    "# Split the labels into training and testing set labels\n",
    "all_indices = np.arange(len(labels))\n",
    "0\n",
    "_, _, _, _, train_indices, test_indices = train_test_split(eeg_segments, labels, all_indices, test_size=test_size, random_state=32)"
   ]
  },
  {
   "cell_type": "code",
   "execution_count": 152,
   "id": "dac52537-afd8-45ba-86a1-2f1e0dafdb44",
   "metadata": {},
   "outputs": [],
   "source": [
    "# How many segments per label do you want to analyze?\n",
    "\n",
    "no_segments = len(labels) # complete data in this case"
   ]
  },
  {
   "cell_type": "code",
   "execution_count": 381,
   "id": "73f9ea6a-632a-462c-a44f-d8c1194f6a3e",
   "metadata": {},
   "outputs": [],
   "source": [
    "# Create dictionaries which contain all (test and train) segment indices (values) for each label (key)\n",
    "label_list = [1, 3, 5, 7]\n",
    "\n",
    "\n",
    "train_indices_dict = {}\n",
    "test_indices_dict = {}\n",
    "all_indices_dict = {}\n",
    "\n",
    "\n",
    "for label in label_list: \n",
    "    indices = [index for index, value in enumerate(labels) if (value == label and index in train_indices)][:no_segments]\n",
    "    train_indices_dict[label] = indices\n",
    "\n",
    "for label in label_list: \n",
    "    indices = [index for index, value in enumerate(labels) if (value == label and index in test_indices)][:no_segments]\n",
    "    test_indices_dict[label] = indices\n",
    "\n",
    "for label in label_list:\n",
    "    indices = [index for index, value in enumerate(labels) if (value == label)][:no_segments]\n",
    "    all_indices_dict[label] = indices"
   ]
  },
  {
   "cell_type": "code",
   "execution_count": 170,
   "id": "a2149da2-4b41-48aa-b7cb-b544e22c8497",
   "metadata": {},
   "outputs": [],
   "source": [
    "# Save segments of single labels for data exploration\n",
    "\n",
    "label_segments = {} # Addionally save the segments of each label for finding outliers\n",
    "\n",
    "for label in label_list:\n",
    "    time_series = []\n",
    "    ts_segments = []\n",
    "    for idx in train_indices_dict[label]:   \n",
    "        # Save for data exploration\n",
    "        time_series.extend(eeg_segments[idx])\n",
    "        np.save('Data/Segments_for_Label_'+str(label)+'.npy', np.array(time_series, dtype=object), allow_pickle=True)\n",
    "\n",
    "        # Later use for finding outliers\n",
    "        ts_segments.append(eeg_segments[idx])\n",
    "    label_segments[label] = ts_segments"
   ]
  },
  {
   "cell_type": "markdown",
   "id": "89fc4738-5537-4665-baab-0026338dfed1",
   "metadata": {},
   "source": [
    "## Find outliers in segments of label 1, 3 and 5 and label them as 7"
   ]
  },
  {
   "cell_type": "code",
   "execution_count": 345,
   "id": "385332ee-ef6d-489b-a218-aa984eafd40b",
   "metadata": {},
   "outputs": [],
   "source": [
    "def detect_artifacts(segments_of_our_label, all_segments, indices_of_our_label, threshold):\n",
    "    \n",
    "    # Calculate the mean and standard deviation of the maximum absolute value in each segment\n",
    "    # of all time series\n",
    "\n",
    "    all_mav = []  # maximal absolute values of all segments\n",
    "    \n",
    "    for segment in all_segments:\n",
    "        all_mav.append(np.max(np.abs(segment)))\n",
    "\n",
    "    mean = np.mean(all_mav)\n",
    "    std = np.std(all_mav)\n",
    "\n",
    "    mav_of_our_label = [] # maximal absolute values of all segments of our labels\n",
    "    \n",
    "    for segment in segments_of_our_label:\n",
    "        mav_of_our_label.append(np.max(np.abs(segment)))\n",
    "    \n",
    "    # Calculate the Z-scores for each data point\n",
    "    z_scores = (mav_of_our_label - mean) / std\n",
    "          \n",
    "    # Find data points with Z-scores above the threshold (outliers)\n",
    "    outliers_indices_data_in_label_dict = np.where(np.abs(z_scores) > threshold)[0]\n",
    "\n",
    "    #outliers_indices = [indices_of_our_label[idx] for idx in outliers_indices_data]\n",
    "\n",
    "    return outliers_indices_data_in_label_dict"
   ]
  },
  {
   "cell_type": "code",
   "execution_count": 371,
   "id": "b84d2347-655a-40b6-a599-3b97ddf617e1",
   "metadata": {},
   "outputs": [],
   "source": [
    "outlier_indices = {}\n",
    "\n",
    "for label in label_list:\n",
    "    outlier_indices[label] = detect_artifacts(label_segments[label], eeg_segments, all_indices_dict[label], threshold=3)"
   ]
  },
  {
   "cell_type": "markdown",
   "id": "b9e0509c-0463-4ebe-934c-cf13d32163b7",
   "metadata": {},
   "source": [
    "### Do a check"
   ]
  },
  {
   "cell_type": "code",
   "execution_count": 378,
   "id": "eb684ed7-e618-4569-8d03-e08fd0f99d30",
   "metadata": {},
   "outputs": [
    {
     "data": {
      "text/plain": [
       "array([2])"
      ]
     },
     "execution_count": 378,
     "metadata": {},
     "output_type": "execute_result"
    }
   ],
   "source": [
    "# Label to check\n",
    "label_to_check = 7\n",
    "\n",
    "outlier_indices[label_to_check]"
   ]
  },
  {
   "cell_type": "code",
   "execution_count": 379,
   "id": "88c7a774-318b-4d64-b9a7-80daa44e96df",
   "metadata": {},
   "outputs": [
    {
     "data": {
      "text/plain": [
       "[<matplotlib.lines.Line2D at 0x31ee15810>]"
      ]
     },
     "execution_count": 379,
     "metadata": {},
     "output_type": "execute_result"
    },
    {
     "data": {
      "image/png": "[encoded data removed]",
      "text/plain": [
       "<Figure size 640x480 with 1 Axes>"
      ]
     },
     "metadata": {},
     "output_type": "display_data"
    }
   ],
   "source": [
    "import matplotlib.pyplot as plt\n",
    "\n",
    "# TS segments for each label\n",
    "time_series = {}\n",
    "\n",
    "for label in label_list:\n",
    "    time_series[label] = np.load('Data/Segments_for_Label_'+str(label)+'.npy', allow_pickle=True)\n",
    "\n",
    "plt.plot(time_series[label_to_check])"
   ]
  },
  {
   "cell_type": "markdown",
   "id": "a634893c-934a-4229-92cb-fb71aaa88068",
   "metadata": {},
   "source": [
    "For label 1: Apparently it is correct that label 1 has 2 outliers.\n",
    "\n",
    "For label 3 & 5: They do not seem to have outliers, which is what we computed.\n",
    "\n",
    "For label 7: Apparently it is correct that label 1 has 1 outliers."
   ]
  },
  {
   "cell_type": "code",
   "execution_count": 380,
   "id": "a2852252-a002-4f18-8b3e-49544e137d90",
   "metadata": {},
   "outputs": [
    {
     "name": "stdout",
     "output_type": "stream",
     "text": [
      "[2]\n"
     ]
    }
   ],
   "source": [
    "all_mav = []  # maximal absolute values of all segments\n",
    "\n",
    "for segment in label_segments[label_to_check]:\n",
    "    all_mav.append(np.max(np.abs(segment)))\n",
    "\n",
    "num_outliers = len(outlier_indices[label_to_check])\n",
    "idx = np.argpartition(all_mav, -num_outliers)\n",
    "print(idx[-num_outliers:])"
   ]
  },
  {
   "cell_type": "markdown",
   "id": "ceb80340-7827-4771-bf7d-13112cd8c5b2",
   "metadata": {},
   "source": [
    "For both label 1 and 7, the indices of the outliers found by both methods are exactly the same."
   ]
  },
  {
   "cell_type": "markdown",
   "id": "4e75048c-10ba-4057-856b-45fc5d848f3e",
   "metadata": {},
   "source": [
    "### Relabel outliers as 7"
   ]
  },
  {
   "cell_type": "code",
   "execution_count": 383,
   "id": "14201ba6-d025-4db4-9e13-6dc7aa397e8f",
   "metadata": {},
   "outputs": [],
   "source": [
    "for label in [1, 3, 5]:\n",
    "    for idx in outlier_indices:\n",
    "        if idx in train_indices_dict[label]: \n",
    "            train_indices_dict[label].remove(idx)\n",
    "            train_indices_dict[7].append(idx)\n",
    "            \n",
    "        if idx in test_indices_dict[label]: \n",
    "            test_indices_dict[label].remove(idx)\n",
    "            test_indices_dict[7].append(idx)"
   ]
  },
  {
   "cell_type": "markdown",
   "id": "ec79840c-3793-4a66-9d7f-d69e0cc90b0a",
   "metadata": {},
   "source": [
    "# Persistence Diagrams"
   ]
  },
  {
   "cell_type": "markdown",
   "id": "8d0460ed-23ef-45a5-bf45-eafa66888669",
   "metadata": {},
   "source": [
    "## Finding the optimal embedding dimension and time delay"
   ]
  },
  {
   "cell_type": "markdown",
   "id": "253351f2-ad56-4641-9228-1ea72b78eb35",
   "metadata": {},
   "source": [
    "There are two techniques that can be used to determine these parameters automatically:\n",
    "- Mutual information to determine the time delay\n",
    "- False nearest neighbours to determine the embedding dimension"
   ]
  },
  {
   "cell_type": "code",
   "execution_count": 384,
   "id": "5411caea-3b14-45e6-adc5-e86f77235716",
   "metadata": {},
   "outputs": [],
   "source": [
    "# Initialise the embedding\n",
    "max_embedding_dimension = 30\n",
    "max_time_delay = 30\n",
    "stride = 5\n",
    "\n",
    "embedder = SingleTakensEmbedding(\n",
    "    parameters_type=\"search\",\n",
    "    time_delay=max_time_delay,\n",
    "    dimension=max_embedding_dimension,\n",
    "    stride=stride,\n",
    ")"
   ]
  },
  {
   "cell_type": "code",
   "execution_count": 385,
   "id": "695b8367-ca0f-44da-8bdd-735a8c8794eb",
   "metadata": {},
   "outputs": [],
   "source": [
    "def find_optimal_parameters(embedder, segments, max_index, iterations = 8):\n",
    "    \"\"\"\n",
    "    Finds (approximate) optimal embedding parameters by averaging optimal parameters of random segments.\n",
    "\n",
    "    Parameters:\n",
    "    - embedder (object): defined by SingleTakensEmbedding() or similar\n",
    "    - segments (list of lists): Complete EEG/EMG segments\n",
    "    - max_index (int): How many segments there are\n",
    "    - iteratiors (int): How many random indices to sample\n",
    "\n",
    "    Returns:\n",
    "    Tuple of two floats:\n",
    "    - Average optimal embedding dimension\n",
    "    - Average optimal time delay\n",
    "    \"\"\"\n",
    "\n",
    "\n",
    "    optimal_embeddings_dimensions = []\n",
    "    optimal_time_delays = []\n",
    "    \n",
    "    for _ in range(iterations):\n",
    "        random_index = random.randint(0, max_index)\n",
    "        embedding = embedder.fit_transform(segments[random_index])\n",
    "        \n",
    "         # append optimal embedding dimension for this segment\n",
    "        optimal_embeddings_dimensions.append(embedder.dimension_)\n",
    "\n",
    "        # append optimal time delay for this segment\n",
    "        optimal_time_delays.append(embedder.time_delay_)\n",
    "\n",
    "        print(\"The optimal embedding dimension is \" + str(np.mean(optimal_embeddings_dimensions)) + \n",
    "              \" and the optimal time delay is \" + str(np.mean(optimal_time_delays)))\n",
    "        \n",
    "        return int(np.mean(optimal_embeddings_dimensions)), int(np.mean(optimal_time_delays))"
   ]
  },
  {
   "cell_type": "code",
   "execution_count": 386,
   "id": "e9909742-300d-43a9-91cf-fa7b1a579007",
   "metadata": {},
   "outputs": [
    {
     "name": "stdout",
     "output_type": "stream",
     "text": [
      "The optimal embedding dimension is 7.0 and the optimal time delay is 28.0\n"
     ]
    }
   ],
   "source": [
    "# Compute optimal embedding parameters\n",
    "embedding_dimension, embedding_time_delay = find_optimal_parameters(embedder, eeg_segments, len(labels), iterations = 8)"
   ]
  },
  {
   "cell_type": "markdown",
   "id": "d24ae14f-02bd-46f3-86dc-36059171e678",
   "metadata": {},
   "source": [
    " "
   ]
  },
  {
   "cell_type": "markdown",
   "id": "c8ae774c-2bca-448a-b292-676e26190097",
   "metadata": {},
   "source": [
    "## Creating Persistence Diagrams"
   ]
  },
  {
   "cell_type": "code",
   "execution_count": 387,
   "id": "c1d6e233-e614-42cf-b4bc-e1cf83874dff",
   "metadata": {},
   "outputs": [],
   "source": [
    "# Setting parameters for point cloud embeddings\n",
    "\n",
    "embedding_dimension= 5\n",
    "#embedding_dimension= 3 # for data exploration\n",
    "embedding_time_delay = 25\n",
    "stride = 10\n",
    "\n",
    "embedder = SingleTakensEmbedding(\n",
    "    parameters_type=\"fixed\",\n",
    "    n_jobs=2,\n",
    "    time_delay=embedding_time_delay, # computed above\n",
    "    dimension=embedding_dimension, # computed above\n",
    "    stride=stride,\n",
    ")"
   ]
  },
  {
   "cell_type": "code",
   "execution_count": 388,
   "id": "1aeaf116-7c67-4b3f-849e-d827a751a0cf",
   "metadata": {},
   "outputs": [],
   "source": [
    "# We will look at 0, 1 and 2 dimensional holes\n",
    "homology_dimensions = [0, 1, 2]\n",
    "\n",
    "# We will use a Vietoris Rips filtrations\n",
    "persistence = VietorisRipsPersistence(\n",
    "    homology_dimensions=homology_dimensions, n_jobs=10\n",
    ")"
   ]
  },
  {
   "cell_type": "markdown",
   "id": "03b27aa0-db64-4d55-b188-53f3b5445523",
   "metadata": {},
   "source": [
    "### Computing Points Clouds and Persistence Diagrams"
   ]
  },
  {
   "cell_type": "code",
   "execution_count": 389,
   "id": "7b6b0723-13f1-44c1-9d5c-a3e0b4dd0d5a",
   "metadata": {},
   "outputs": [],
   "source": [
    "def compute_embeddings_and_diagram(segments, train_indices_dict, test_indices_dict, label):\n",
    "    \"\"\"\n",
    "    Computes embeddings and persistence diagrams for segmented data.\n",
    "\n",
    "    Parameters:\n",
    "    - segments (list of lists): EEG/EMG segments (all labels).\n",
    "    - train_indices_dict (dictionary): dictionary which contains all segment indices (values) for each label (key) for the train set.\n",
    "    - test_indices_dict (dictionary): dictionary which contains all segment indices (values) for each label (key) for the test set.\n",
    "    - label (int): Label for which we want to compute PD & Embeddings. 1, 3, 5 or 7.\n",
    "\n",
    "    Returns:\n",
    "    Tuple of four lists:\n",
    "    - List of persistence diagrams for train data.\n",
    "    - List of persistence diagrams for test data.\n",
    "    - List of time delay embeddings for train data.\n",
    "    - List of time delay embeddings for test data.\n",
    "    \"\"\"\n",
    "    \n",
    "    # Point cloud embeddings\n",
    "    train_embeddings = [] # train set\n",
    "    test_embeddings = [] # test set\n",
    "\n",
    "    # Persistence diagrams\n",
    "    train_persistence_diagrams = [] # train set\n",
    "    test_persistence_diagrams = [] # test set\n",
    "\n",
    "    # Loop through the first train data segments with our label\n",
    "    for label_idx in train_indices_dict[label]:\n",
    "        time_delay_embedding = embedder.fit_transform(segments[label_idx])[None, :, :] # Reshape\n",
    "        train_embeddings.append(time_delay_embedding[0])\n",
    "        persistence_diagram = persistence.fit_transform(time_delay_embedding)\n",
    "        train_persistence_diagrams.append(persistence_diagram[0])\n",
    "\n",
    "    # Loop through the first test data segments with our label\n",
    "    for label_idx in test_indices_dict[label]:        \n",
    "        # Test set\n",
    "        time_delay_embedding = embedder.fit_transform(segments[label_idx])[None, :, :] # Reshape\n",
    "        test_embeddings.append(time_delay_embedding[0])\n",
    "        persistence_diagram = persistence.fit_transform(time_delay_embedding)\n",
    "        test_persistence_diagrams.append(persistence_diagram[0])\n",
    "\n",
    "\n",
    "    return train_embeddings, test_embeddings, train_persistence_diagrams, test_persistence_diagrams\n"
   ]
  },
  {
   "cell_type": "code",
   "execution_count": null,
   "id": "d03146bc-60f9-4e04-9422-0d864900104e",
   "metadata": {},
   "outputs": [],
   "source": [
    "# Compute persistence diagrams for all labels for train and test set\n",
    "\n",
    "train_embeddings = {}\n",
    "test_embeddings = {}\n",
    "\n",
    "train_persistence_diagrams = {}\n",
    "test_persistence_diagrams = {}\n",
    "\n",
    "\n",
    "for label in label_list:\n",
    "    train_embeddings[label], test_embeddings[label], train_persistence_diagrams[label], test_persistence_diagrams[label] = \\\n",
    "    compute_embeddings_and_diagram(eeg_segments, train_indices_dict, test_indices_dict, label = label)"
   ]
  },
  {
   "cell_type": "markdown",
   "id": "56c3e42a-c2f5-4442-8c57-bb8d07407c47",
   "metadata": {},
   "source": [
    "## Save persistence diagrams and embeddings"
   ]
  },
  {
   "cell_type": "code",
   "execution_count": null,
   "id": "2f008c63-4e40-4e86-8126-67ecb0ba41a7",
   "metadata": {},
   "outputs": [],
   "source": [
    "for label in label_list:\n",
    "    # Persistence Diagrams \n",
    "    np.save('Embeddings_and_Persistence_Diagrams/Train_PD'+str(label)+'.npy', np.array(train_persistence_diagrams[label], dtype=object), allow_pickle=True)\n",
    "    np.save('Embeddings_and_Persistence_Diagrams/Test_PD'+str(label)+'.npy', np.array(test_persistence_diagrams[label], dtype=object), allow_pickle=True)\n",
    "\n",
    "    # Embeddings\n",
    "    np.save('Embeddings_and_Persistence_Diagrams/Train_Embeddings_'+str(label)+'_Dim'+str(embedding_dimension)+'.npy', np.array(train_embeddings[label], dtype=object), allow_pickle=True)\n",
    "    np.save('Embeddings_and_Persistence_Diagrams/Test_Embeddings_'+str(label)+'_Dim'+str(embedding_dimension)+'.npy', np.array(test_embeddings[label], dtype=object), allow_pickle=True)"
   ]
  },
  {
   "cell_type": "code",
   "execution_count": null,
   "id": "f3448e0e-df40-4181-b408-024740fde8b3",
   "metadata": {},
   "outputs": [],
   "source": []
  },
  {
   "cell_type": "code",
   "execution_count": null,
   "id": "bd054e7c-9a3e-42cc-bcfc-810036cd48f2",
   "metadata": {},
   "outputs": [],
   "source": []
  }
 ],
 "metadata": {
  "kernelspec": {
   "display_name": "Python 3 (ipykernel)",
   "language": "python",
   "name": "python3"
  },
  "language_info": {
   "codemirror_mode": {
    "name": "ipython",
    "version": 3
   },
   "file_extension": ".py",
   "mimetype": "text/x-python",
   "name": "python",
   "nbconvert_exporter": "python",
   "pygments_lexer": "ipython3",
   "version": "3.10.12"
  }
 },
 "nbformat": 4,
 "nbformat_minor": 5
}
