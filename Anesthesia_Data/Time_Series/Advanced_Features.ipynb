{
 "cells": [
  {
   "cell_type": "code",
   "execution_count": 1,
   "id": "2ff7fcc0-d6c4-455d-a729-5d150698450c",
   "metadata": {},
   "outputs": [],
   "source": [
    "import pandas as pd\n",
    "import numpy as np\n",
    "import pickle\n",
    "import time"
   ]
  },
  {
   "cell_type": "code",
   "execution_count": 2,
   "id": "19733117-1d6e-4d24-b74d-35ed1c7e8a6b",
   "metadata": {},
   "outputs": [],
   "source": [
    "label_list = [1, 3, 5, 7]"
   ]
  },
  {
   "cell_type": "code",
   "execution_count": 3,
   "id": "d768ef11-e3e3-4bf2-9c80-32baf11f951f",
   "metadata": {},
   "outputs": [],
   "source": [
    "# Load persistence diagrams\n",
    "\n",
    "train_persistence_diagrams = {} # dictionary with labels as keys, persistence diagrams of the respective classes as values\n",
    "test_persistence_diagrams = {} # dictionary with labels as keys, persistence diagrams of the respective classes as values\n",
    "\n",
    "\n",
    "for label in label_list:\n",
    "    train_persistence_diagrams[label] = np.load(\"Embeddings_and_Persistence_Diagrams/Train_PD\"+str(label)+\".npy\", allow_pickle=True)\n",
    "    test_persistence_diagrams[label] = np.load(\"Embeddings_and_Persistence_Diagrams/Test_PD\"+str(label)+\".npy\", allow_pickle=True)"
   ]
  },
  {
   "cell_type": "code",
   "execution_count": 4,
   "id": "2bcbb410-a60a-4dfe-9af3-62a9ddcce11a",
   "metadata": {},
   "outputs": [],
   "source": [
    "# Adcock-Carlson coordinates"
   ]
  },
  {
   "cell_type": "code",
   "execution_count": 5,
   "id": "d60706b8-d807-415e-a9da-e93a30409f7b",
   "metadata": {},
   "outputs": [],
   "source": [
    "def carlsson_coordinates(persistence_diagrams):\n",
    "    n = len(persistence_diagrams)\n",
    "    persistence_diagrams_features_cc1 = np.zeros(n)\n",
    "    persistence_diagrams_features_cc2 = np.zeros(n)\n",
    "    persistence_diagrams_features_cc3 = np.zeros(n)\n",
    "    persistence_diagrams_features_cc4 = np.zeros(n)\n",
    "    start = time.time()\n",
    "    ymax = 0\n",
    "    for i in range(0,n):\n",
    "        if len(persistence_diagrams[i])>0:\n",
    "            b = np.max(persistence_diagrams[i][:,1])\n",
    "        else:\n",
    "            b = ymax\n",
    "        if ymax < b:\n",
    "            ymax = b\n",
    "        else:\n",
    "            ymax = ymax\n",
    "    print(ymax)\n",
    "    for i in range(0,n):\n",
    "        if len(persistence_diagrams[i])>0:\n",
    "            x = persistence_diagrams[i][:,0]\n",
    "            y = persistence_diagrams[i][:,1]\n",
    "            persistence_diagrams_features_cc1[i] = sum(x*(y-x))\n",
    "            persistence_diagrams_features_cc2[i] = sum((ymax - y)*(y-x))\n",
    "            persistence_diagrams_features_cc3[i] = sum(x**2*(y-x)**4)\n",
    "            persistence_diagrams_features_cc4[i] = sum((ymax-y)**2*(y-x)**4)\n",
    "        else:\n",
    "            persistence_diagrams_features_cc1[i] = 0\n",
    "            persistence_diagrams_features_cc2[i] = 0\n",
    "            persistence_diagrams_features_cc3[i] = 0\n",
    "            persistence_diagrams_features_cc4[i] = 0\n",
    "            \n",
    "    return persistence_diagrams_features_cc1, persistence_diagrams_features_cc2, persistence_diagrams_features_cc3, persistence_diagrams_features_cc4"
   ]
  },
  {
   "cell_type": "code",
   "execution_count": 6,
   "id": "5842205a-7510-45e8-8ba9-1ad22e97cc04",
   "metadata": {},
   "outputs": [],
   "source": [
    "def create_dataframe(X_features_cc1, X_features_cc2, X_features_cc3, X_features_cc4, label):\n",
    "    features_df = pd.DataFrame()\n",
    "\n",
    "    features_df[\"AC_coordinate_cc1\"] = X_features_cc1\n",
    "    features_df[\"AC_coordinate_cc2\"] = X_features_cc2\n",
    "    features_df[\"AC_coordinate_cc3\"] = X_features_cc3\n",
    "    features_df[\"AC_coordinate_cc4\"] = X_features_cc4\n",
    "    features_df[\"Label\"] = label\n",
    "\n",
    "    return features_df"
   ]
  },
  {
   "cell_type": "code",
   "execution_count": 9,
   "id": "8de397d0-0b80-43ee-92fd-0e70d5ebac79",
   "metadata": {},
   "outputs": [
    {
     "name": "stdout",
     "output_type": "stream",
     "text": [
      "0.00509025389328599\n",
      "0.0006078073056414723\n",
      "0.0013039779150858521\n",
      "0.0012807620223611593\n",
      "0.0007453467696905136\n",
      "0.0008103330619633198\n",
      "0.010027261450886726\n",
      "0.010001965798437595\n"
     ]
    }
   ],
   "source": [
    "train_features_dataframes = {}\n",
    "test_features_dataframes = {}\n",
    "\n",
    "\n",
    "for label in label_list:\n",
    "    \n",
    "    # Train data Adcock Carlson coordinates \n",
    "    train_coord_1, train_coord_2, train_coord_3, train_coord_4 = carlsson_coordinates(train_persistence_diagrams[label])\n",
    "    train_features_dataframes[label] = create_dataframe(train_coord_1, train_coord_2, train_coord_3, train_coord_4, label)\n",
    "\n",
    "    # Test data Adcock Carlson coordinates \n",
    "    test_coord_1, test_coord_2, test_coord_3, test_coord_4 = carlsson_coordinates(test_persistence_diagrams[label])\n",
    "    test_features_dataframes[label] = create_dataframe(test_coord_1, test_coord_2, test_coord_3, test_coord_4, label)"
   ]
  },
  {
   "cell_type": "code",
   "execution_count": 10,
   "id": "654ca4d0-dc09-4a4d-91ec-c2de1b7c7568",
   "metadata": {},
   "outputs": [],
   "source": [
    "# Concatenate and save dataframes\n",
    "train_feature_df = pd.concat([train_features_dataframes[1], train_features_dataframes[3], train_features_dataframes[5], \\\n",
    "                              train_features_dataframes[7]], ignore_index=True)\n",
    "\n",
    "test_feature_df = pd.concat([test_features_dataframes[1], test_features_dataframes[3], test_features_dataframes[5], \\\n",
    "                             test_features_dataframes[7]], ignore_index=True)\n",
    "\n",
    "train_feature_df.to_csv(\"Features/Train_Advanced_Features.csv\")\n",
    "test_feature_df.to_csv(\"Features/Test_Advanced_Features.csv\")"
   ]
  },
  {
   "cell_type": "code",
   "execution_count": null,
   "id": "7180dea3-bb51-4d21-83ef-a7c6430fffb6",
   "metadata": {},
   "outputs": [],
   "source": []
  }
 ],
 "metadata": {
  "kernelspec": {
   "display_name": "Python 3 (ipykernel)",
   "language": "python",
   "name": "python3"
  },
  "language_info": {
   "codemirror_mode": {
    "name": "ipython",
    "version": 3
   },
   "file_extension": ".py",
   "mimetype": "text/x-python",
   "name": "python",
   "nbconvert_exporter": "python",
   "pygments_lexer": "ipython3",
   "version": "3.10.12"
  }
 },
 "nbformat": 4,
 "nbformat_minor": 5
}
