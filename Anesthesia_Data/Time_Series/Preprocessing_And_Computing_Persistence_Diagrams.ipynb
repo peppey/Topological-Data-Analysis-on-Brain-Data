{
 "cells": [
  {
   "cell_type": "code",
   "execution_count": 2,
   "id": "0a81b9c9-a2e9-46c2-8ae8-4a5f02dd0571",
   "metadata": {},
   "outputs": [],
   "source": [
    "import numpy as np\n",
    "import pyedflib\n",
    "\n",
    "import pandas as pd\n",
    "from gtda.time_series import SingleTakensEmbedding\n",
    "from gtda.homology import VietorisRipsPersistence\n",
    "from gtda.diagrams import PersistenceEntropy, Amplitude, NumberOfPoints, ComplexPolynomial, PersistenceLandscape, HeatKernel, Silhouette, BettiCurve, PairwiseDistance, ForgetDimension\n",
    "from sklearn.model_selection import train_test_split, KFold\n",
    "import random"
   ]
  },
  {
   "cell_type": "markdown",
   "id": "7d9823a6-57bc-4bef-9350-14eb32a035fe",
   "metadata": {},
   "source": [
    "# Choose EEG or EMG"
   ]
  },
  {
   "cell_type": "code",
   "execution_count": 3,
   "id": "1a556dad-ea22-4937-811d-6efbdc4aa317",
   "metadata": {},
   "outputs": [],
   "source": [
    "# Choose if you want to look at EEG or EMG data\n",
    "\n",
    "data_type = \"EEG\" # Does not have an effect yet, will be added later when processing anesthesia data\n",
    "#data_type = \"EMG\""
   ]
  },
  {
   "cell_type": "code",
   "execution_count": 48,
   "id": "58eb7941-b1bf-4088-b8d6-30b435ecd761",
   "metadata": {},
   "outputs": [],
   "source": [
    "# choose individuum\n",
    "subject = \"m292\""
   ]
  },
  {
   "cell_type": "markdown",
   "id": "0cc1f407-122b-4eda-86f0-622f93ccf082",
   "metadata": {},
   "source": [
    "# Import Data"
   ]
  },
  {
   "cell_type": "code",
   "execution_count": 49,
   "id": "384db2ae-4245-4142-a740-7e20ee169e1e",
   "metadata": {},
   "outputs": [],
   "source": [
    "label_list = [0, 1, 2, 3, 4]\n",
    "\n",
    "data_type_list = [\"EEG\", \"EMG\"]\n",
    "\n",
    "subject_list = [\"m292\", \"m294\"]"
   ]
  },
  {
   "cell_type": "code",
   "execution_count": 50,
   "id": "048043a1-ae93-4ec2-87d5-b98e2d15dc19",
   "metadata": {},
   "outputs": [],
   "source": [
    "# EEG & EMG data\n",
    "data = {}\n",
    "\n",
    "for label in label_list:\n",
    "    data[label] = pd.read_csv(\"Data/\"+str(subject)+\"/run0\"+str(label)+\"/Time_Series_Data.csv\")"
   ]
  },
  {
   "cell_type": "markdown",
   "id": "f1ea3b4c-8747-430b-9966-2e7eaaca0b74",
   "metadata": {},
   "source": [
    "# Preprocessing"
   ]
  },
  {
   "cell_type": "markdown",
   "id": "53aa0e08-3e63-44f0-90a7-9c713ad37943",
   "metadata": {},
   "source": [
    "## Segmenting Data"
   ]
  },
  {
   "cell_type": "code",
   "execution_count": 51,
   "id": "4d599237-77e5-4221-9b79-f8a638334fdc",
   "metadata": {},
   "outputs": [],
   "source": [
    "def segment_data(df, segment_size, step_size = 2):\n",
    "    \"\"\"\n",
    "    Segments time-series data into EEG and EMG segments.\n",
    "\n",
    "    Parameters:\n",
    "    - df (DataFrame): The input dataframe containing the columns \"Time\", \"EEG\" and \"EMG\".\n",
    "    - segment_size (float): The desired size of each segment in seconds.\n",
    "    - step_size (float, optional): The step size of \"Time\" in milliseconds. Default is 2 millisecond.\n",
    "\n",
    "    Returns:\n",
    "    Tuple of two lists:\n",
    "    - List of EEG segments.\n",
    "    - List of EMG segments.\n",
    "    \"\"\"\n",
    "\n",
    "    n_segments = int(df[\"time\"].iloc[-1]) // segment_size\n",
    "    eeg_segments = []\n",
    "    emg_segments = []\n",
    "\n",
    "    for i in range(n_segments):\n",
    "        start_idx = int(i* segment_size*1000/step_size)\n",
    "        end_idx = start_idx + int(segment_size*1000/step_size)\n",
    "        segment = df.iloc[start_idx:end_idx]\n",
    "        eeg_segments.append(list(segment[\"voltage\"]))\n",
    "        emg_segments.append(list(segment[\"emg\"]))\n",
    "\n",
    "    return eeg_segments, emg_segments"
   ]
  },
  {
   "cell_type": "code",
   "execution_count": 52,
   "id": "7696563c-9996-40dd-99bc-8ec2b960bd32",
   "metadata": {},
   "outputs": [],
   "source": [
    "# Segment the data\n",
    "segment_size = 4  # seconds\n",
    "eeg_segments = {}\n",
    "emg_segments = {}\n",
    "\n",
    "for label in label_list:\n",
    "    eeg_segments[label], emg_segments[label] = segment_data(data[label], segment_size, step_size = 2)"
   ]
  },
  {
   "cell_type": "code",
   "execution_count": 53,
   "id": "0ab039e7-a50f-4b34-a1a5-096189662a0e",
   "metadata": {},
   "outputs": [],
   "source": [
    "if data_type == \"EEG\":\n",
    "    segments = eeg_segments\n",
    "else:\n",
    "    segments = emg_segments"
   ]
  },
  {
   "cell_type": "markdown",
   "id": "92ef2d4e-e600-4c5e-922c-2c475ca13583",
   "metadata": {},
   "source": [
    "# Compute Indices for Cross Validation and Final Test Set"
   ]
  },
  {
   "cell_type": "markdown",
   "id": "8c22e57c-d33e-43e7-a631-11fa989bf832",
   "metadata": {},
   "source": [
    "### Choose parameters"
   ]
  },
  {
   "cell_type": "code",
   "execution_count": 54,
   "id": "f4c27549-949f-4bb3-84bc-39b764acb038",
   "metadata": {},
   "outputs": [],
   "source": [
    "# Choose size of final test set for classification at later step (recommended: 0.2-0.3)\n",
    "\n",
    "test_size = 0.2"
   ]
  },
  {
   "cell_type": "code",
   "execution_count": 55,
   "id": "aa0bf490-59e2-4b17-98b3-d9a1c3aa5df3",
   "metadata": {},
   "outputs": [],
   "source": [
    "# Choose number of folds for Cross Validation of the training/validation data\n",
    "\n",
    "n_folds = 5"
   ]
  },
  {
   "cell_type": "markdown",
   "id": "df47631f-3d10-4087-bd3b-fe793f9d1db1",
   "metadata": {},
   "source": [
    "### Choose Train and Test Data Indices for Test Set and for Each Fold"
   ]
  },
  {
   "cell_type": "code",
   "execution_count": 56,
   "id": "b066af9d-4800-4aea-aa96-fc46652dbbdc",
   "metadata": {},
   "outputs": [],
   "source": [
    "def compute_test_set_indices(label_list, segments, test_size):\n",
    "    total_data_length = 0\n",
    "\n",
    "    for label in label_list:\n",
    "        total_data_length += len(segments[label])\n",
    "\n",
    "    train_indices_dict = {}\n",
    "    test_indices_dict = {}\n",
    "    all_indices_dict = {}\n",
    "\n",
    "\n",
    "    for label in label_list:\n",
    "        data_length = len(segments[label])\n",
    "        indices = np.arange(data_length)\n",
    "\n",
    "        # This weird reshaping will later allow us to handle train/test indices of the final test set\n",
    "        # splitting and the Cross Validation sets the same way\n",
    "        # Both of these dictionaries will only contain one key, 0, as if there would be only one fold\n",
    "        train_indices_dict[\"Label_\"+str(label)] = {}\n",
    "        test_indices_dict[\"Label_\"+str(label)] = {}\n",
    "\n",
    "        _, _, _, _, train_indices_dict[\"Label_\"+str(label)][0], test_indices_dict[\"Label_\"+str(label)][0] = train_test_split(segments[label], [label]*data_length, indices, test_size=test_size, random_state=32)\n",
    "\n",
    "        all_indices_dict[label] = np.concatenate((train_indices_dict[\"Label_\"+str(label)][0], test_indices_dict[\"Label_\"+str(label)][0]))\n",
    "\n",
    "\n",
    "    return train_indices_dict, test_indices_dict, all_indices_dict\n",
    "\n",
    "\n",
    "# Compute indices for final test set\n",
    "train_indices_dict, test_indices_dict, all_indices_dict = compute_test_set_indices(label_list, segments, test_size)"
   ]
  },
  {
   "cell_type": "code",
   "execution_count": 57,
   "id": "196b8f28-0685-43b2-b125-5db18d4e8ea5",
   "metadata": {},
   "outputs": [],
   "source": [
    "def compute_validation_set_indices_for_all_folds(label_list, segments, train_indices_dict, n_folds):\n",
    "\n",
    "    # Initialize Cross Validation\n",
    "    kf = KFold(n_splits=n_folds, shuffle=True, random_state=42)\n",
    "\n",
    "    train_indices_dict_for_folds = {}\n",
    "    validation_indices_dict_for_folds = {}\n",
    "\n",
    "    for label in label_list:\n",
    "\n",
    "        # Initialize dictionary of indices for each label\n",
    "        train_indices_dict_for_folds[\"Label_\"+str(label)] = {}\n",
    "        validation_indices_dict_for_folds[\"Label_\"+str(label)] = {}\n",
    "        \n",
    "        # Create different indices for different folds\n",
    "        for fold, (train_indices, test_indices) in enumerate(kf.split(train_indices_dict[\"Label_\"+str(label)][0])):\n",
    "\n",
    "            # Save indices for each label and fold\n",
    "            train_indices_dict_for_folds[\"Label_\"+str(label)][\"Fold_\"+str(fold)] = train_indices_dict[\"Label_\"+str(label)][0][train_indices]\n",
    "        \n",
    "            validation_indices_dict_for_folds[\"Label_\"+str(label)][\"Fold_\"+str(fold)] = train_indices_dict[\"Label_\"+str(label)][0][test_indices]\n",
    "\n",
    "    return train_indices_dict_for_folds, validation_indices_dict_for_folds\n",
    "\n",
    "train_indices_dict_for_folds, validation_indices_dict_for_folds = compute_validation_set_indices_for_all_folds(label_list, segments, train_indices_dict, n_folds)"
   ]
  },
  {
   "cell_type": "code",
   "execution_count": 58,
   "id": "aff7b8c6-b2d0-40d8-b4b8-a1c3f301dc69",
   "metadata": {},
   "outputs": [],
   "source": [
    "# Save all indices\n",
    "\n",
    "\n",
    "# Train indices\n",
    "np.save(\"Train_Test_Splitting/\"+str(subject)+\"/Train_Indices_All_Labels_All_Folds.npy\",\\\n",
    "    np.array(train_indices_dict_for_folds, dtype=object), allow_pickle=True)\n",
    "\n",
    "# Validation indices\n",
    "np.save(\"Train_Test_Splitting/\"+str(subject)+\"/Validation_Indices_All_Labels_All_Folds.npy\",\\\n",
    "    np.array(validation_indices_dict_for_folds, dtype=object), allow_pickle=True)\n",
    "\n",
    "# Final Test set indices\n",
    "np.save(\"Train_Test_Splitting/\"+str(subject)+\"/Final_Test_Set_Indices_All_Labels.npy\",\\\n",
    "    np.array(test_indices_dict, dtype=object), allow_pickle=True)\n",
    "\n"
   ]
  },
  {
   "cell_type": "markdown",
   "id": "881bf696-6537-42c5-8e5d-2107d5c2eabf",
   "metadata": {},
   "source": [
    "# Preprocessing"
   ]
  },
  {
   "cell_type": "markdown",
   "id": "cb314308-8a6e-4862-a20d-d6765f1bbfec",
   "metadata": {},
   "source": [
    "## Find outliers label them as -1"
   ]
  },
  {
   "cell_type": "code",
   "execution_count": 88,
   "id": "a2149da2-4b41-48aa-b7cb-b544e22c8497",
   "metadata": {},
   "outputs": [],
   "source": [
    "def concatenate_segments_for_each_label(label_list, segments, all_indices_dict):\n",
    "\n",
    "    # Save the segments of each label for finding outliers\n",
    "\n",
    "    label_segments = {} # Addionally \n",
    "    time_series_per_label = {}\n",
    "\n",
    "    for label in label_list:\n",
    "        ts_segments = []\n",
    "        time_series = []\n",
    "        for idx in all_indices_dict[label]:   \n",
    "            # Later use for finding outliers\n",
    "            ts_segments.append(segments[label][idx]) # segment\n",
    "            time_series.extend(segments[label][idx]) # flat TS\n",
    "\n",
    "        label_segments[label] = ts_segments\n",
    "        time_series_per_label[label] = time_series\n",
    "\n",
    "    \n",
    "    # Additionally save all segments together\n",
    "    all_segments = np.array([])\n",
    "    \n",
    "    for label in label_list:\n",
    "        all_segments = np.append(all_segments, segments[label])\n",
    "\n",
    "    return label_segments, time_series_per_label, all_segments\n",
    "\n",
    "\n",
    "label_segments, time_series_per_label, all_segments = concatenate_segments_for_each_label(label_list, segments, all_indices_dict)"
   ]
  },
  {
   "cell_type": "code",
   "execution_count": 89,
   "id": "385332ee-ef6d-489b-a218-aa984eafd40b",
   "metadata": {},
   "outputs": [],
   "source": [
    "def detect_artifacts(segments_of_our_label, all_segments, indices_of_our_label, threshold):\n",
    "    \n",
    "    # Calculate the mean and standard deviation of the maximum absolute value in each segment\n",
    "    # of all time series\n",
    "\n",
    "    all_mav = []  # maximal absolute values of all segments\n",
    "    \n",
    "    for segment in all_segments:\n",
    "        all_mav.append(np.max(np.abs(segment)))\n",
    "\n",
    "    mean = np.mean(all_mav)\n",
    "    std = np.std(all_mav)\n",
    "\n",
    "    mav_of_our_label = [] # maximal absolute values of all segments of our labels\n",
    "    \n",
    "    for segment in segments_of_our_label:\n",
    "        mav_of_our_label.append(np.max(np.abs(segment)))\n",
    "    \n",
    "    # Calculate the Z-scores for each data point\n",
    "    z_scores = (mav_of_our_label - mean) / std\n",
    "          \n",
    "    # Find data points with Z-scores above the threshold (outliers)\n",
    "    outliers_indices = np.where(np.abs(z_scores) > threshold)[0]\n",
    "\n",
    "    outliers_indices_in_complete_data = [indices_of_our_label[idx] for idx in outliers_indices]\n",
    "\n",
    "    return outliers_indices, outliers_indices_in_complete_data # TODO second output probably not neccessary "
   ]
  },
  {
   "cell_type": "code",
   "execution_count": 90,
   "id": "b84d2347-655a-40b6-a599-3b97ddf617e1",
   "metadata": {},
   "outputs": [],
   "source": [
    "outlier_indices = {}\n",
    "outliers_indices_in_complete_data = {}\n",
    "\n",
    "#for label in label_list:\n",
    "#    outlier_indices[label], outliers_indices_in_complete_data[label] = detect_artifacts(segments[label], \\\n",
    "#                                                                                all_segments, all_indices_dict[label], threshold=17)"
   ]
  },
  {
   "cell_type": "markdown",
   "id": "b9e0509c-0463-4ebe-934c-cf13d32163b7",
   "metadata": {},
   "source": [
    "### Do a check"
   ]
  },
  {
   "cell_type": "code",
   "execution_count": 91,
   "id": "eb684ed7-e618-4569-8d03-e08fd0f99d30",
   "metadata": {},
   "outputs": [],
   "source": [
    "# TODO redo this for the new data and also for the case that there are no outliers\n",
    "\n",
    "# Label to check\n",
    "label_to_check = 0\n",
    "\n",
    "#outlier_indices[label_to_check]"
   ]
  },
  {
   "cell_type": "code",
   "execution_count": 92,
   "id": "88c7a774-318b-4d64-b9a7-80daa44e96df",
   "metadata": {},
   "outputs": [
    {
     "data": {
      "text/plain": [
       "[<matplotlib.lines.Line2D at 0x2aaaa2ef0>]"
      ]
     },
     "execution_count": 92,
     "metadata": {},
     "output_type": "execute_result"
    },
    {
     "data": {
      "image/png": "[encoded data removed]",
      "text/plain": [
       "<Figure size 640x480 with 1 Axes>"
      ]
     },
     "metadata": {},
     "output_type": "display_data"
    }
   ],
   "source": [
    "import matplotlib.pyplot as plt\n",
    "\n",
    "plt.plot(data[label_to_check][\"voltage\"])"
   ]
  },
  {
   "cell_type": "code",
   "execution_count": 93,
   "id": "4cc19043-833a-4baa-8b90-da12dbfe3af4",
   "metadata": {},
   "outputs": [],
   "source": [
    "np.save('Data/'+str(subject)+'/Data',np.array(data, dtype=object), allow_pickle=True)"
   ]
  },
  {
   "cell_type": "markdown",
   "id": "a634893c-934a-4229-92cb-fb71aaa88068",
   "metadata": {},
   "source": [
    "From a visual check, the dataset does not have outliers for any label."
   ]
  },
  {
   "cell_type": "code",
   "execution_count": 94,
   "id": "a2852252-a002-4f18-8b3e-49544e137d90",
   "metadata": {},
   "outputs": [],
   "source": [
    "all_mav = []  # maximal absolute values of all segments\n",
    "\n",
    "#for segment in label_segments[label_to_check]:\n",
    "#    all_mav.append(np.max(np.abs(segment)))\n",
    "\n",
    "#num_outliers = len(outlier_indices[label_to_check])\n",
    "#idx = np.argpartition(all_mav, -num_outliers)\n",
    "#print(idx[-num_outliers:])"
   ]
  },
  {
   "cell_type": "markdown",
   "id": "ceb80340-7827-4771-bf7d-13112cd8c5b2",
   "metadata": {},
   "source": [
    "The indices of the outliers found by both methods are exactly the same."
   ]
  },
  {
   "cell_type": "markdown",
   "id": "4e75048c-10ba-4057-856b-45fc5d848f3e",
   "metadata": {},
   "source": [
    "### Relabel outliers as -1"
   ]
  },
  {
   "cell_type": "code",
   "execution_count": 95,
   "id": "d8012917-aedf-4e79-87b5-56afde9850f2",
   "metadata": {},
   "outputs": [],
   "source": [
    "def handle_outliers(train_indices_dict, test_indices_dict, all_indices_dict, outliers_indices_in_complete_data, label_list, num_outliers):\n",
    "    if num_outliers > 0:\n",
    "        for label in label_list:\n",
    "            for idx in outliers_indices_in_complete_data[label]:\n",
    "                # Convert to NumPy arrays for easier manipulation\n",
    "                train_indices_label = np.array(train_indices_dict[label])\n",
    "                test_indices_label = np.array(test_indices_dict[label])\n",
    "                all_indices_label = np.array(all_indices_dict[label])\n",
    "\n",
    "                # Use boolean indexing to remove elements\n",
    "                train_indices_dict[label] = train_indices_label[~(train_indices_label == idx)]\n",
    "                train_indices_dict[-1] = np.append(train_indices_dict[-1], idx)\n",
    "\n",
    "                test_indices_dict[label] = test_indices_label[~(test_indices_label == idx)]\n",
    "                test_indices_dict[-1] = np.append(test_indices_dict[-1], idx)\n",
    "\n",
    "                all_indices_dict[label] = all_indices_label[~(all_indices_label == idx)]\n",
    "                all_indices_dict[-1] = np.append(all_indices_dict[-1], idx)\n",
    "\n",
    "# Example usage:\n",
    "# Call the function with your specific dictionaries and values\n",
    "#handle_outliers(train_indices_dict, test_indices_dict, all_indices_dict, outliers_indices_in_complete_data, label_list, num_outliers)\n"
   ]
  },
  {
   "cell_type": "code",
   "execution_count": 96,
   "id": "253e9ebd-abb3-4154-b35c-0df125cfd783",
   "metadata": {},
   "outputs": [],
   "source": [
    "def save_segments_for_label(label, all_indices_dict, segments, output_directory='Data/'):\n",
    "    time_series = []\n",
    "    for idx in all_indices_dict[label]:\n",
    "        # Save for data exploration\n",
    "        time_series.extend(segments[label][idx])\n",
    "\n",
    "    np.save(output_directory + 'Segments_for_Label_' + str(label) + '.npy', np.array(time_series, dtype=object), allow_pickle=True)\n",
    "\n",
    "#for label in label_list:\n",
    "#    save_segments_for_label(label, all_indices_dict, segments)\n"
   ]
  },
  {
   "cell_type": "markdown",
   "id": "ec79840c-3793-4a66-9d7f-d69e0cc90b0a",
   "metadata": {},
   "source": [
    "# Create Persistence Diagrams"
   ]
  },
  {
   "cell_type": "markdown",
   "id": "8d0460ed-23ef-45a5-bf45-eafa66888669",
   "metadata": {},
   "source": [
    "## Finding the optimal embedding dimension and time delay"
   ]
  },
  {
   "cell_type": "markdown",
   "id": "253351f2-ad56-4641-9228-1ea72b78eb35",
   "metadata": {},
   "source": [
    "There are two techniques that can be used to determine these parameters automatically:\n",
    "- Mutual information to determine the time delay\n",
    "- False nearest neighbours to determine the embedding dimension"
   ]
  },
  {
   "cell_type": "code",
   "execution_count": 97,
   "id": "5411caea-3b14-45e6-adc5-e86f77235716",
   "metadata": {},
   "outputs": [],
   "source": [
    "# Initialise the embedding\n",
    "max_embedding_dimension = 30\n",
    "max_time_delay = 30\n",
    "stride = 10\n",
    "\n",
    "embedder = SingleTakensEmbedding(\n",
    "    parameters_type=\"search\",\n",
    "    time_delay=max_time_delay,\n",
    "    dimension=max_embedding_dimension,\n",
    "    stride=stride,\n",
    ")"
   ]
  },
  {
   "cell_type": "code",
   "execution_count": 98,
   "id": "695b8367-ca0f-44da-8bdd-735a8c8794eb",
   "metadata": {},
   "outputs": [],
   "source": [
    "def find_optimal_parameters(embedder, segments, max_index, iterations = 8):\n",
    "    \"\"\"\n",
    "    Finds (approximate) optimal embedding parameters by averaging optimal parameters of random segments.\n",
    "\n",
    "    Parameters:\n",
    "    - embedder (object): defined by SingleTakensEmbedding() or similar\n",
    "    - segments (list of lists): Complete EEG/EMG segments\n",
    "    - max_index (int): How many segments there are\n",
    "    - iteratiors (int): How many random indices to sample\n",
    "\n",
    "    Returns:\n",
    "    Tuple of two floats:\n",
    "    - Average optimal embedding dimension\n",
    "    - Average optimal time delay\n",
    "    \"\"\"\n",
    "\n",
    "\n",
    "    optimal_embeddings_dimensions = []\n",
    "    optimal_time_delays = []\n",
    "    \n",
    "    for _ in range(iterations):\n",
    "        random_index = random.randint(0, max_index)\n",
    "        embedding = embedder.fit_transform(segments[random_index])\n",
    "        \n",
    "         # append optimal embedding dimension for this segment\n",
    "        optimal_embeddings_dimensions.append(embedder.dimension_)\n",
    "\n",
    "        # append optimal time delay for this segment\n",
    "        optimal_time_delays.append(embedder.time_delay_)\n",
    "\n",
    "        print(\"The optimal embedding dimension is \" + str(np.mean(optimal_embeddings_dimensions)) + \n",
    "              \" and the optimal time delay is \" + str(np.mean(optimal_time_delays)))\n",
    "        \n",
    "        return int(np.mean(optimal_embeddings_dimensions)), int(np.mean(optimal_time_delays))"
   ]
  },
  {
   "cell_type": "code",
   "execution_count": 99,
   "id": "e9909742-300d-43a9-91cf-fa7b1a579007",
   "metadata": {},
   "outputs": [
    {
     "name": "stdout",
     "output_type": "stream",
     "text": [
      "The optimal embedding dimension is 2.0 and the optimal time delay is 28.0\n"
     ]
    }
   ],
   "source": [
    "# Compute optimal embedding parameters\n",
    "\n",
    "all_segments = []\n",
    "\n",
    "for label in label_list:\n",
    "    all_segments.extend(segments[label])\n",
    "    \n",
    "embedding_dimension, embedding_time_delay = find_optimal_parameters(embedder, all_segments, len(all_segments), iterations = 8)"
   ]
  },
  {
   "cell_type": "markdown",
   "id": "d24ae14f-02bd-46f3-86dc-36059171e678",
   "metadata": {},
   "source": [
    " "
   ]
  },
  {
   "cell_type": "markdown",
   "id": "c8ae774c-2bca-448a-b292-676e26190097",
   "metadata": {},
   "source": [
    "## Creating Persistence Diagrams"
   ]
  },
  {
   "cell_type": "code",
   "execution_count": 100,
   "id": "c1d6e233-e614-42cf-b4bc-e1cf83874dff",
   "metadata": {},
   "outputs": [],
   "source": [
    "# Setting parameters for point cloud embeddings\n",
    "\n",
    "#embedding_dimension= 3 # for data exploration\n",
    "\n",
    "embedder = SingleTakensEmbedding(\n",
    "    parameters_type=\"fixed\",\n",
    "    n_jobs=2,\n",
    "    time_delay=embedding_time_delay, # computed above\n",
    "    dimension=embedding_dimension, # computed above\n",
    "    stride=stride,\n",
    ")"
   ]
  },
  {
   "cell_type": "code",
   "execution_count": 101,
   "id": "1aeaf116-7c67-4b3f-849e-d827a751a0cf",
   "metadata": {},
   "outputs": [],
   "source": [
    "# We will look at 0, 1 and 2 dimensional holes\n",
    "homology_dimensions = [0, 1, 2]\n",
    "\n",
    "# We will use a Vietoris Rips filtrations\n",
    "persistence = VietorisRipsPersistence(\n",
    "    homology_dimensions=homology_dimensions, n_jobs=10\n",
    ")"
   ]
  },
  {
   "cell_type": "markdown",
   "id": "03b27aa0-db64-4d55-b188-53f3b5445523",
   "metadata": {},
   "source": [
    "### Computing Points Clouds and Persistence Diagrams"
   ]
  },
  {
   "cell_type": "code",
   "execution_count": 102,
   "id": "dd19ce63-6929-4e14-b071-ef45d54037fb",
   "metadata": {},
   "outputs": [],
   "source": [
    "def compute_embeddings_and_diagrams(segments, time_delay_embeddings, persistence_diagrams, all_indices_dict, label):\n",
    "\n",
    "    time_delay_embeddings[\"Label_\"+str(label)] = []\n",
    "    persistence_diagrams[\"Label_\"+str(label)] = []\n",
    "\n",
    "    # Compute embeddings and diagrams for the complete data\n",
    "    for diagram_idx in range(len(segments[label])):\n",
    "        time_delay_embeddings[\"Label_\"+str(label)].append(embedder.fit_transform(segments[label][diagram_idx])[None, :, :])\n",
    "        persistence_diagrams[\"Label_\"+str(label)].append(persistence.fit_transform(time_delay_embeddings[\"Label_\"+str(label)][diagram_idx]))\n",
    "    \n",
    "    return time_delay_embeddings, persistence_diagrams"
   ]
  },
  {
   "cell_type": "code",
   "execution_count": 103,
   "id": "fe0399fc-bed5-4ad3-bb07-2cddac8d42fe",
   "metadata": {},
   "outputs": [],
   "source": [
    "# Compute embeddings and persistence diagrams for the complete data\n",
    "\n",
    "time_delay_embeddings = {}\n",
    "persistence_diagrams = {}\n",
    "\n",
    "for label in label_list:\n",
    "    time_delay_embeddings, persistence_diagrams = compute_embeddings_and_diagrams(segments, time_delay_embeddings, persistence_diagrams, all_indices_dict, label)"
   ]
  },
  {
   "cell_type": "markdown",
   "id": "9e089292-43dd-46cc-9c72-edfadc51f6b3",
   "metadata": {},
   "source": [
    "## Optionally: Create Shortened Persistence Diagram"
   ]
  },
  {
   "cell_type": "markdown",
   "id": "86230567-8daf-4c4c-aa0a-bd29242f4ab7",
   "metadata": {},
   "source": [
    "For some analyses, we will need to compare persistence diagrams (pairwise). Giotto TDA needs all diagrams to have the same length for this (to have the same amount of holes). We will therefore cut off some \"noise\" (holes with low persistence) such that all shortened persistence diagrams have the same length."
   ]
  },
  {
   "cell_type": "code",
   "execution_count": 104,
   "id": "e82f7e82-0ec2-4c1b-b9bf-40fb6b01c42d",
   "metadata": {},
   "outputs": [],
   "source": [
    "# Set number of holes of each dimension that are supposed to be kept\n",
    "\n",
    "# TODO perform parameter optimization on these dimensions\n",
    "\n",
    "if data_type == \"EEG\":\n",
    "    no_holes_per_dimension = [63, 37, 2] \n",
    "elif data_type == \"EMG\":\n",
    "    no_holes_per_dimension = [15, 4, 1]"
   ]
  },
  {
   "cell_type": "code",
   "execution_count": 105,
   "id": "780115d3-7179-4951-8a94-f81253b126d6",
   "metadata": {},
   "outputs": [],
   "source": [
    "def cut_diagrams(persistence_diagrams, no_holes_per_dimension):\n",
    "    \"\"\"    Cuts diagrams to the dimensions no_holes_per_dimension and removes diagrams smaller than that.\n",
    "\n",
    "    Parameters:\n",
    "    - persistence_diagrams (list of lists): list of persistence diagrams\n",
    "    - no_holes_per_dimension (list): maximal dimension the persistence diagrams should have, e.g.\n",
    "    [120, 70, 10] for 120 holes of dimension 0, 70 of dimension 1 and 10 of dimension 2\n",
    "\n",
    "    Returns:\n",
    "    Tuple of two lists:\n",
    "    - shortened diagrams\n",
    "    - indices of diagrams that were to small and were removed from the list of shortened diagrams\n",
    "    \"\"\"\n",
    "        \n",
    "    shortened_diagrams = [] # list of diagrams in which non-signicant holes were cut off\n",
    "    removed_indices = [] # List of indices of the diagrams that are smaller than no_holes_per_dimension and will not be considered\n",
    "\n",
    "    for diagram_idx, diagram in enumerate(persistence_diagrams): \n",
    "        \n",
    "        most_significant_holes_per_diagram = [] # Holes that are not noise\n",
    "        should_be_appended = True # Boolean if the diagram index will be added to removed index (False) or not (True)\n",
    "        holes = {} # Dictionary which will save all holes (values) of each dimension (keys) for each diagram\n",
    "        \n",
    "        for hole_dimension, number_of_holes in zip(range(3), no_holes_per_dimension):\n",
    "            \n",
    "            # the third entry of each point (hole) in a diagram indicates its dimensionality\n",
    "            holes[hole_dimension] = diagram[np.where(diagram[:, 2] == hole_dimension)[0]]\n",
    "\n",
    "            # If the number of holes of this dimension that are supposed to be kept is larger than the number of holes of the diagram\n",
    "            if number_of_holes > len(holes[hole_dimension]):\n",
    "                print(\"Diagram \" + str(diagram_idx) + \" is shorter than the shortened diagrams, and was removed.\")\n",
    "                print(\"It has \" + str(len(holes[hole_dimension])) + \" holes of dimension \" + str(hole_dimension))\n",
    "                should_be_appended = False \n",
    "                removed_indices.append(diagram_idx) # Should be sepa rated according to dimension? or not?\n",
    "                \n",
    "            # The first and second entries of each hole indicate its birth and death, the difference is the persistence\n",
    "            # We only want to keep as the as many holes for each dimension as we set no_holes_per_dimension to be\n",
    "            large_persistence_indices = np.argsort(holes[hole_dimension][:, 0] - holes[hole_dimension][:, 1])[-number_of_holes:]\n",
    "            \n",
    "            # For each dimension, getting the holes with the above indices (the holes with the largest persistence)\n",
    "            significant_holes_with_hole_dimension = holes[hole_dimension][large_persistence_indices, :]\n",
    "            most_significant_holes_per_diagram.extend(significant_holes_with_hole_dimension)\n",
    "\n",
    "        if should_be_appended:\n",
    "            shortened_diagrams.append(most_significant_holes_per_diagram)\n",
    "\n",
    "    return shortened_diagrams, list(set(removed_indices))"
   ]
  },
  {
   "cell_type": "code",
   "execution_count": 106,
   "id": "718ccccb-3f35-4f04-83b6-0c384c6ed31f",
   "metadata": {},
   "outputs": [],
   "source": [
    "# Compute shortened diagrams from all persistence diagrams\n",
    "\n",
    "shortened_diagrams = {}\n",
    "removed_indices = {}\n",
    "\n",
    "#for label in label_list:\n",
    "#    all_persistence_diagrams = [diagram[0] for diagram in persistence_diagrams[\"Label_\"+str(label)]]\n",
    "\n",
    "#    shortened_diagrams[\"Label_\"+str(label)], removed_indices[\"Label_\"+str(label)] = cut_diagrams(all_persistence_diagrams, no_holes_per_dimension)"
   ]
  },
  {
   "cell_type": "markdown",
   "id": "d7f19325-9287-4a96-b1ed-b876341431a8",
   "metadata": {},
   "source": [
    "## Create Extended Persistence Diagrams"
   ]
  },
  {
   "cell_type": "code",
   "execution_count": 107,
   "id": "09326dec-7794-40b3-a4bf-9d4d08682fea",
   "metadata": {},
   "outputs": [],
   "source": [
    "def find_largest_dimension(persistence_diagrams, label_list):\n",
    "    \"\"\"\n",
    "    Find the length of the longest list in a list of lists.\n",
    "\n",
    "    Parameters:\n",
    "    - persistence_diagrams (dictionary): List of persistence diagrams, with labels as keys.\n",
    "    - label_list (list): List of all labels.\n",
    "\n",
    "    Returns:\n",
    "    - longest_lengths_each_dimension (dictionary): Highest amount of holes in a persistence diagram for each dimension.\n",
    "    \"\"\"\n",
    "\n",
    "    # Initialize highest number of holes of each dimension for each label\n",
    "    longest_lengths_each_dimension = {}\n",
    "    for label in label_list:\n",
    "        longest_lengths_each_dimension[\"Label_\"+str(label)] = {}\n",
    "\n",
    "        for hole_dim in range(3):\n",
    "            longest_lengths_each_dimension[\"Label_\"+str(label)][\"Hole_Dim_\"+str(hole_dim)] = 0\n",
    "\n",
    "    for label in label_list:\n",
    "\n",
    "        # Only look at persistence diagrams of current label\n",
    "        persistence_diagrams_with_label = persistence_diagrams[\"Label_\"+str(label)]\n",
    "\n",
    "\n",
    "        # For each hole dimension (between 0 and 2), find the largest amount of holes\n",
    "        # of this dimension which there is in one of the persistence diagrams\n",
    "        \n",
    "        for hole_dim in range(3):\n",
    "\n",
    "            # for the current hole dimension, count the amount of holes in each diagram\n",
    "            for diagram in persistence_diagrams_with_label:\n",
    "                current_number_of_holes_of_hole_dim = 0 # Initialize\n",
    "                \n",
    "                for hole in diagram[0]: # the holes are nested, so take diagram[0]\n",
    "                    # only take those holes of the current hole dimension into account\n",
    "                    # (the hole dimension is indicated by the 3rd entry of the hole)\n",
    "                    if hole[2] == hole_dim:\n",
    "                        current_number_of_holes_of_hole_dim += 1\n",
    "\n",
    "                # If the amount of holes of the current diagram is higher than the \n",
    "                # previous highest number of holes, redefine the highest number\n",
    "                if current_number_of_holes_of_hole_dim > longest_lengths_each_dimension[\"Label_\"+str(label)][\"Hole_Dim_\"+str(hole_dim)]:\n",
    "                    longest_lengths_each_dimension[\"Label_\"+str(label)][\"Hole_Dim_\"+str(hole_dim)] = current_number_of_holes_of_hole_dim\n",
    "\n",
    "    # Because this is what we want in this case, compute the overall longest dimensions which we will use for all labels\n",
    "    longest_lengths_each_dimension_overall = {key: max(label_dict[key] for label_dict in longest_lengths_each_dimension.values())\n",
    "    for key in ['Hole_Dim_0', 'Hole_Dim_1', 'Hole_Dim_2']}\n",
    "    \n",
    "    return longest_lengths_each_dimension_overall\n"
   ]
  },
  {
   "cell_type": "code",
   "execution_count": 108,
   "id": "f265841c-782b-4eba-8f58-7c07783c4d0e",
   "metadata": {},
   "outputs": [],
   "source": [
    "longest_lengths_each_dimension_overall = find_largest_dimension(persistence_diagrams, label_list)"
   ]
  },
  {
   "cell_type": "code",
   "execution_count": 109,
   "id": "f2e1495c-6b49-4dfb-ab79-826a0fe62461",
   "metadata": {},
   "outputs": [],
   "source": [
    "def extend_diagrams_to_largest_dimensions(persistence_diagrams, desired_lengths_each_dimension, label_list):\n",
    "    \"\"\"\n",
    "    Extend all persistence diagrams to the largest dimension \n",
    "    by appending (0, 0, hole_dim) tuples.\n",
    "\n",
    "    Parameters:\n",
    "    - persistence_diagrams (dict): List of persistence_diagrams of each label.\n",
    "    - longest_lengths_each_dimension_overall (dict): Contains the wished amount of holes for each dimension.\n",
    "    - label_list (list): List of all labels.\n",
    "\n",
    "    Returns:\n",
    "    - extended_persistence_diagrams (dict): List of extended eprsistence_diagrams for each label.\n",
    "    \"\"\"\n",
    "\n",
    "    # Initialize dictionary of extended persistence diagrams (with labels as keys)\n",
    "    extended_persistence_diagrams = {}\n",
    "\n",
    "    for label in label_list:\n",
    "\n",
    "        # Initialize extended persistence diagrams for current label\n",
    "        extended_persistence_diagrams[\"Label_\"+str(label)] = []\n",
    "        \n",
    "        # Only look at persistence diagrams of current label\n",
    "        persistence_diagrams_with_label = persistence_diagrams[\"Label_\"+str(label)]\n",
    "\n",
    "        # Extend each diagram to the highest number of holes for each dimension\n",
    "        for diagram in persistence_diagrams_with_label:\n",
    "\n",
    "            extended_diagram = list(diagram[0])\n",
    "            \n",
    "            for hole_dim in range(3):\n",
    "\n",
    "                # the persistence diagrams are nested, so take diagram[0]                    \n",
    "                current_number_of_holes_of_hole_dim = sum(1 for hole in diagram[0] if hole[2] == hole_dim)\n",
    "\n",
    "\n",
    "                holes_to_append = [[0, 0, hole_dim]] * (desired_lengths_each_dimension[\"Hole_Dim_\"+str(hole_dim)] - current_number_of_holes_of_hole_dim)\n",
    "                extended_diagram = extended_diagram + holes_to_append\n",
    "                \n",
    "            extended_persistence_diagrams[\"Label_\"+str(label)].append(extended_diagram)\n",
    "            \n",
    "    return extended_persistence_diagrams\n"
   ]
  },
  {
   "cell_type": "code",
   "execution_count": 110,
   "id": "f44bc0fd-6d07-4e0c-9cf1-ab08d3bafb7a",
   "metadata": {},
   "outputs": [],
   "source": [
    "extended_persistence_diagrams = extend_diagrams_to_largest_dimensions(persistence_diagrams, longest_lengths_each_dimension_overall, label_list)"
   ]
  },
  {
   "cell_type": "markdown",
   "id": "56c3e42a-c2f5-4442-8c57-bb8d07407c47",
   "metadata": {},
   "source": [
    "## Save persistence diagrams and embeddings"
   ]
  },
  {
   "cell_type": "code",
   "execution_count": 111,
   "id": "2f008c63-4e40-4e86-8126-67ecb0ba41a7",
   "metadata": {},
   "outputs": [],
   "source": [
    "# Persistence diagrams\n",
    "np.save('Embeddings_and_Persistence_Diagrams/'+str(subject)+'/'+str(data_type)+'/Persistence_Diagrams_All_Labels.npy', \\\n",
    "            np.array(persistence_diagrams, dtype=object), allow_pickle=True)\n",
    "\n",
    "# Embeddings\n",
    "np.save('Embeddings_and_Persistence_Diagrams/'+str(subject)+'/'+str(data_type)+'/Embeddings_All_Labels'+\\\n",
    "            '_Embedding_Dim'+str(embedding_dimension)+'.npy', np.array(time_delay_embeddings, dtype=object), allow_pickle=True)\n",
    "\n",
    "# Extended Persistence Diagrams\n",
    "np.save('Embeddings_and_Persistence_Diagrams/'+str(subject)+'/'+str(data_type)+'/Extended_Persistence_Diagrams_All_Labels.npy', \\\n",
    "            np.array(extended_persistence_diagrams, dtype=object), allow_pickle=True) "
   ]
  }
 ],
 "metadata": {
  "kernelspec": {
   "display_name": "Python 3 (ipykernel)",
   "language": "python",
   "name": "python3"
  },
  "language_info": {
   "codemirror_mode": {
    "name": "ipython",
    "version": 3
   },
   "file_extension": ".py",
   "mimetype": "text/x-python",
   "name": "python",
   "nbconvert_exporter": "python",
   "pygments_lexer": "ipython3",
   "version": "3.10.12"
  }
 },
 "nbformat": 4,
 "nbformat_minor": 5
}
