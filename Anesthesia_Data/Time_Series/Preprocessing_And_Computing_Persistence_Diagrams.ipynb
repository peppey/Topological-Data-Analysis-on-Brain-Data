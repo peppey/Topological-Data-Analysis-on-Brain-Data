{
 "cells": [
  {
   "cell_type": "code",
   "execution_count": 26,
   "id": "0a81b9c9-a2e9-46c2-8ae8-4a5f02dd0571",
   "metadata": {},
   "outputs": [],
   "source": [
    "import numpy as np\n",
    "import pyedflib\n",
    "\n",
    "import pandas as pd\n",
    "from gtda.time_series import SingleTakensEmbedding\n",
    "from gtda.homology import VietorisRipsPersistence\n",
    "from gtda.diagrams import PersistenceEntropy, Amplitude, NumberOfPoints, ComplexPolynomial, PersistenceLandscape, HeatKernel, Silhouette, BettiCurve, PairwiseDistance, ForgetDimension\n",
    "from sklearn.model_selection import train_test_split, KFold\n",
    "import random"
   ]
  },
  {
   "cell_type": "markdown",
   "id": "7d9823a6-57bc-4bef-9350-14eb32a035fe",
   "metadata": {},
   "source": [
    "# Choose EEG or EMG"
   ]
  },
  {
   "cell_type": "code",
   "execution_count": 19,
   "id": "1a556dad-ea22-4937-811d-6efbdc4aa317",
   "metadata": {},
   "outputs": [],
   "source": [
    "# Choose if you want to look at EEG or EMG data\n",
    "\n",
    "#data_type = \"EEG\" # Does not have an effect yet, will be added later when processing anesthesia data\n",
    "data_type = \"EMG\""
   ]
  },
  {
   "cell_type": "code",
   "execution_count": 20,
   "id": "58eb7941-b1bf-4088-b8d6-30b435ecd761",
   "metadata": {},
   "outputs": [],
   "source": [
    "# choose individuum\n",
    "subject = \"m294\""
   ]
  },
  {
   "cell_type": "markdown",
   "id": "0cc1f407-122b-4eda-86f0-622f93ccf082",
   "metadata": {},
   "source": [
    "# Import Data"
   ]
  },
  {
   "cell_type": "code",
   "execution_count": 95,
   "id": "384db2ae-4245-4142-a740-7e20ee169e1e",
   "metadata": {},
   "outputs": [],
   "source": [
    "label_list = [0, 1, 2, 3, 4]\n",
    "\n",
    "data_type_list = [\"EEG\", \"EMG\"]\n",
    "\n",
    "subject_list = [\"m292\", \"m294\"]"
   ]
  },
  {
   "cell_type": "code",
   "execution_count": 22,
   "id": "048043a1-ae93-4ec2-87d5-b98e2d15dc19",
   "metadata": {},
   "outputs": [],
   "source": [
    "# EEG & EMG data\n",
    "data = {}\n",
    "\n",
    "for label in label_list:\n",
    "    data[label] = pd.read_csv(\"Data/\"+str(subject)+\"/run0\"+str(label)+\"/Time_Series_Data.csv\")"
   ]
  },
  {
   "cell_type": "markdown",
   "id": "f1ea3b4c-8747-430b-9966-2e7eaaca0b74",
   "metadata": {},
   "source": [
    "# Preprocessing"
   ]
  },
  {
   "cell_type": "markdown",
   "id": "53aa0e08-3e63-44f0-90a7-9c713ad37943",
   "metadata": {},
   "source": [
    "## Segmenting Data"
   ]
  },
  {
   "cell_type": "code",
   "execution_count": 23,
   "id": "4d599237-77e5-4221-9b79-f8a638334fdc",
   "metadata": {},
   "outputs": [],
   "source": [
    "def segment_data(df, segment_size, step_size = 2):\n",
    "    \"\"\"\n",
    "    Segments time-series data into EEG and EMG segments.\n",
    "\n",
    "    Parameters:\n",
    "    - df (DataFrame): The input dataframe containing the columns \"Time\", \"EEG\" and \"EMG\".\n",
    "    - segment_size (float): The desired size of each segment in seconds.\n",
    "    - step_size (float, optional): The step size of \"Time\" in milliseconds. Default is 2 millisecond.\n",
    "\n",
    "    Returns:\n",
    "    Tuple of two lists:\n",
    "    - List of EEG segments.\n",
    "    - List of EMG segments.\n",
    "    \"\"\"\n",
    "\n",
    "    n_segments = int(df[\"time\"].iloc[-1]) // segment_size\n",
    "    eeg_segments = []\n",
    "    emg_segments = []\n",
    "\n",
    "    for i in range(n_segments):\n",
    "        start_idx = int(i* segment_size*1000/step_size)\n",
    "        end_idx = start_idx + int(segment_size*1000/step_size)\n",
    "        segment = df.iloc[start_idx:end_idx]\n",
    "        eeg_segments.append(list(segment[\"voltage\"]))\n",
    "        emg_segments.append(list(segment[\"emg\"]))\n",
    "\n",
    "    return eeg_segments, emg_segments"
   ]
  },
  {
   "cell_type": "code",
   "execution_count": 482,
   "id": "7696563c-9996-40dd-99bc-8ec2b960bd32",
   "metadata": {},
   "outputs": [],
   "source": [
    "# Segment the data\n",
    "segment_size = 4  # seconds\n",
    "eeg_segments = {}\n",
    "emg_segments = {}\n",
    "\n",
    "for label in label_list:\n",
    "    eeg_segments[label], emg_segments[label] = segment_data(data[label], segment_size, step_size = 2)"
   ]
  },
  {
   "cell_type": "code",
   "execution_count": 483,
   "id": "0ab039e7-a50f-4b34-a1a5-096189662a0e",
   "metadata": {},
   "outputs": [],
   "source": [
    "if data_type == \"EEG\":\n",
    "    segments = eeg_segments\n",
    "else:\n",
    "    segments = emg_segments"
   ]
  },
  {
   "cell_type": "markdown",
   "id": "92ef2d4e-e600-4c5e-922c-2c475ca13583",
   "metadata": {},
   "source": [
    "## Cross Validation"
   ]
  },
  {
   "cell_type": "markdown",
   "id": "8c22e57c-d33e-43e7-a631-11fa989bf832",
   "metadata": {},
   "source": [
    "### Choose parameters"
   ]
  },
  {
   "cell_type": "code",
   "execution_count": 484,
   "id": "f4c27549-949f-4bb3-84bc-39b764acb038",
   "metadata": {},
   "outputs": [],
   "source": [
    "# Choose size of final test set for classification at later step (recommended: 0.2-0.3)\n",
    "\n",
    "test_size = 0.3"
   ]
  },
  {
   "cell_type": "code",
   "execution_count": 34,
   "id": "aa0bf490-59e2-4b17-98b3-d9a1c3aa5df3",
   "metadata": {},
   "outputs": [],
   "source": [
    "# Choose number of folds for Cross Validation of the training/validation data\n",
    "\n",
    "n_folds = 5"
   ]
  },
  {
   "cell_type": "markdown",
   "id": "df47631f-3d10-4087-bd3b-fe793f9d1db1",
   "metadata": {},
   "source": [
    "### Choose Train and Test Data Indices for Test Set and for Each Fold"
   ]
  },
  {
   "cell_type": "code",
   "execution_count": 99,
   "id": "c3b4f3b6-a1a0-4cf7-a449-f5a82468338a",
   "metadata": {},
   "outputs": [],
   "source": [
    "def compute_test_set_indices(label_list, segments, test_size):\n",
    "    total_data_length = 0\n",
    "\n",
    "    for label in label_list:\n",
    "        total_data_length += len(segments[label])\n",
    "\n",
    "    train_indices_dict = {}\n",
    "    test_indices_dict = {}\n",
    "    all_indices_dict = {}\n",
    "\n",
    "\n",
    "    for label in label_list:\n",
    "        data_length = len(segments[label])\n",
    "        indices = np.arange(data_length)\n",
    "\n",
    "        # This weird reshaping will later allow us to handle train/test indices of the final test set\n",
    "        # splitting and the Cross Validation sets the same way\n",
    "        # Both of these dictionaries will only contain one key, 0, as if there would be only one fold\n",
    "        train_indices_dict[label] = {}\n",
    "        test_indices_dict[label] = {}\n",
    "\n",
    "        _, _, _, _, train_indices_dict[label][0], test_indices_dict[label][0] = train_test_split(segments[label], [label]*data_length, indices, test_size=test_size, random_state=32)\n",
    "\n",
    "        all_indices_dict[label] = np.concatenate((train_indices_dict[label][0], test_indices_dict[label][0]))\n",
    "\n",
    "\n",
    "    return train_indices_dict, test_indices_dict, all_indices_dict\n",
    "\n",
    "\n",
    "# Compute indices for final test set\n",
    "train_indices_dict, test_indices_dict, all_indices_dict = compute_test_set_indices(label_list, segments, test_size)"
   ]
  },
  {
   "cell_type": "code",
   "execution_count": 57,
   "id": "c78aed19-9b48-4826-9ab2-205c86dd45bf",
   "metadata": {},
   "outputs": [],
   "source": [
    "def compute_validation_set_indices_for_all_folds(label_list, segments, train_indices_dict, n_folds):\n",
    "\n",
    "    # Initialize Cross Validation\n",
    "    kf = KFold(n_splits=n_folds, shuffle=True, random_state=42)\n",
    "    \n",
    "    total_data_length = 0\n",
    "\n",
    "    # Dictionary with all data that is not in the final test set \n",
    "    # for each label\n",
    "    train_data = {}\n",
    "\n",
    "    for label in label_list:\n",
    "        train_data[label] = [segments[label][idx] for idx in train_indices_dict[label]]\n",
    "        total_data_length += len(train_data[label])\n",
    "\n",
    "    train_indices_dict_for_folds = {}\n",
    "    validation_indices_dict_for_folds = {}\n",
    "\n",
    "    for label in label_list:\n",
    "        data_length = len(train_data[label])\n",
    "        indices = np.arange(data_length)\n",
    "\n",
    "        # Initialize dictionary of indices for each label\n",
    "        train_indices_dict_for_folds[label] = {}\n",
    "        validation_indices_dict_for_folds[label] = {}\n",
    "        \n",
    "        # Create different indices for different folds\n",
    "        for fold, (train_indices, test_indices) in enumerate(kf.split(train_data[label])):\n",
    "\n",
    "            # Save indices for each label and fold\n",
    "            train_indices_dict_for_folds[label][fold] = train_indices\n",
    "        \n",
    "            validation_indices_dict_for_folds[label][fold] = test_indices\n",
    "\n",
    "    return train_indices_dict_for_folds, validation_indices_dict_for_folds\n",
    "\n",
    "train_indices_dict_for_folds, validation_indices_dict_for_folds = compute_validation_set_indices_for_all_folds(label_list, segments, train_indices_dict, n_folds)"
   ]
  },
  {
   "cell_type": "markdown",
   "id": "89fc4738-5537-4665-baab-0026338dfed1",
   "metadata": {},
   "source": [
    "## Find outliers label them as -1"
   ]
  },
  {
   "cell_type": "code",
   "execution_count": 60,
   "id": "a2149da2-4b41-48aa-b7cb-b544e22c8497",
   "metadata": {},
   "outputs": [],
   "source": [
    "def concatenate_segments_for_each_label(label_list, segments, all_indices_dict):\n",
    "\n",
    "    # Save the segments of each label for finding outliers\n",
    "\n",
    "    label_segments = {} # Addionally \n",
    "    time_series_per_label = {}\n",
    "\n",
    "    for label in label_list:\n",
    "        ts_segments = []\n",
    "        time_series = []\n",
    "        for idx in all_indices_dict[label]:   \n",
    "            # Later use for finding outliers\n",
    "            ts_segments.append(segments[label][idx]) # segment\n",
    "            time_series.extend(segments[label][idx]) # flat TS\n",
    "\n",
    "        label_segments[label] = ts_segments\n",
    "        time_series_per_label[label] = time_series\n",
    "\n",
    "    \n",
    "    # Additionally save all segments together\n",
    "    all_segments = np.array([])\n",
    "    \n",
    "    for label in label_list:\n",
    "        all_segments = np.append(all_segments, segments[label])\n",
    "\n",
    "    return label_segments, time_series_per_label, all_segments\n",
    "\n",
    "\n",
    "label_segments, time_series_per_label, all_segments = concatenate_segments_for_each_label(label_list, segments, all_indices_dict)"
   ]
  },
  {
   "cell_type": "code",
   "execution_count": 62,
   "id": "385332ee-ef6d-489b-a218-aa984eafd40b",
   "metadata": {},
   "outputs": [],
   "source": [
    "def detect_artifacts(segments_of_our_label, all_segments, indices_of_our_label, threshold):\n",
    "    \n",
    "    # Calculate the mean and standard deviation of the maximum absolute value in each segment\n",
    "    # of all time series\n",
    "\n",
    "    all_mav = []  # maximal absolute values of all segments\n",
    "    \n",
    "    for segment in all_segments:\n",
    "        all_mav.append(np.max(np.abs(segment)))\n",
    "\n",
    "    mean = np.mean(all_mav)\n",
    "    std = np.std(all_mav)\n",
    "\n",
    "    mav_of_our_label = [] # maximal absolute values of all segments of our labels\n",
    "    \n",
    "    for segment in segments_of_our_label:\n",
    "        mav_of_our_label.append(np.max(np.abs(segment)))\n",
    "    \n",
    "    # Calculate the Z-scores for each data point\n",
    "    z_scores = (mav_of_our_label - mean) / std\n",
    "          \n",
    "    # Find data points with Z-scores above the threshold (outliers)\n",
    "    outliers_indices = np.where(np.abs(z_scores) > threshold)[0]\n",
    "\n",
    "    outliers_indices_in_complete_data = [indices_of_our_label[idx] for idx in outliers_indices]\n",
    "\n",
    "    return outliers_indices, outliers_indices_in_complete_data # TODO second output probably not neccessary "
   ]
  },
  {
   "cell_type": "code",
   "execution_count": 63,
   "id": "b84d2347-655a-40b6-a599-3b97ddf617e1",
   "metadata": {},
   "outputs": [],
   "source": [
    "outlier_indices = {}\n",
    "outliers_indices_in_complete_data = {}\n",
    "\n",
    "for label in label_list:\n",
    "    outlier_indices[label], outliers_indices_in_complete_data[label] = detect_artifacts(segments[label], \\\n",
    "                                                                                all_segments, all_indices_dict[label], threshold=17)"
   ]
  },
  {
   "cell_type": "markdown",
   "id": "b9e0509c-0463-4ebe-934c-cf13d32163b7",
   "metadata": {},
   "source": [
    "### Do a check"
   ]
  },
  {
   "cell_type": "code",
   "execution_count": 79,
   "id": "eb684ed7-e618-4569-8d03-e08fd0f99d30",
   "metadata": {},
   "outputs": [
    {
     "data": {
      "text/plain": [
       "array([], dtype=int64)"
      ]
     },
     "execution_count": 79,
     "metadata": {},
     "output_type": "execute_result"
    }
   ],
   "source": [
    "# TODO redo this for the new data and also for the case that there are no outliers\n",
    "\n",
    "# Label to check\n",
    "label_to_check = 0\n",
    "\n",
    "outlier_indices[label_to_check]"
   ]
  },
  {
   "cell_type": "code",
   "execution_count": 80,
   "id": "88c7a774-318b-4d64-b9a7-80daa44e96df",
   "metadata": {},
   "outputs": [
    {
     "data": {
      "text/plain": [
       "[<matplotlib.lines.Line2D at 0x15ef5c4c0>]"
      ]
     },
     "execution_count": 80,
     "metadata": {},
     "output_type": "execute_result"
    },
    {
     "data": {
      "image/png": "[encoded data removed]",
      "text/plain": [
       "<Figure size 640x480 with 1 Axes>"
      ]
     },
     "metadata": {},
     "output_type": "display_data"
    }
   ],
   "source": [
    "import matplotlib.pyplot as plt\n",
    "\n",
    "plt.plot(data[label_to_check][\"voltage\"])"
   ]
  },
  {
   "cell_type": "markdown",
   "id": "a634893c-934a-4229-92cb-fb71aaa88068",
   "metadata": {},
   "source": [
    "The first dataset does not have outliers for any label."
   ]
  },
  {
   "cell_type": "code",
   "execution_count": 81,
   "id": "a2bff845-9f4a-40b2-b92f-c3723b19eb62",
   "metadata": {},
   "outputs": [
    {
     "data": {
      "text/plain": [
       "{0: array([], dtype=int64),\n",
       " 1: array([35, 36, 38]),\n",
       " 2: array([], dtype=int64),\n",
       " 3: array([], dtype=int64),\n",
       " 4: array([], dtype=int64)}"
      ]
     },
     "execution_count": 81,
     "metadata": {},
     "output_type": "execute_result"
    }
   ],
   "source": [
    "outlier_indices"
   ]
  },
  {
   "cell_type": "code",
   "execution_count": 82,
   "id": "a2852252-a002-4f18-8b3e-49544e137d90",
   "metadata": {},
   "outputs": [
    {
     "name": "stdout",
     "output_type": "stream",
     "text": [
      "[10  1  2  3  4  5  6  7  8  9  0 11 12 13 14 15 16 17 18 19 20 21 22 23\n",
      " 24 25 26 27 28 29 30 31 32 33 34 35 36 37 38 39 40 41 42 43 44 45 46 47\n",
      " 48 49 50 51 52 53 54 55 56 57 58 59 60 61 62 63 64 65 66 67 68 69 70 71\n",
      " 72 73]\n"
     ]
    }
   ],
   "source": [
    "all_mav = []  # maximal absolute values of all segments\n",
    "\n",
    "for segment in label_segments[label_to_check]:\n",
    "    all_mav.append(np.max(np.abs(segment)))\n",
    "\n",
    "num_outliers = len(outlier_indices[label_to_check])\n",
    "idx = np.argpartition(all_mav, -num_outliers)\n",
    "print(idx[-num_outliers:])"
   ]
  },
  {
   "cell_type": "markdown",
   "id": "ceb80340-7827-4771-bf7d-13112cd8c5b2",
   "metadata": {},
   "source": [
    "The indices of the outliers found by both methods are exactly the same."
   ]
  },
  {
   "cell_type": "markdown",
   "id": "4e75048c-10ba-4057-856b-45fc5d848f3e",
   "metadata": {},
   "source": [
    "### Relabel outliers as -1"
   ]
  },
  {
   "cell_type": "code",
   "execution_count": 83,
   "id": "d8012917-aedf-4e79-87b5-56afde9850f2",
   "metadata": {},
   "outputs": [],
   "source": [
    "def handle_outliers(train_indices_dict, test_indices_dict, all_indices_dict, outliers_indices_in_complete_data, label_list, num_outliers):\n",
    "    if num_outliers > 0:\n",
    "        for label in label_list:\n",
    "            for idx in outliers_indices_in_complete_data[label]:\n",
    "                # Convert to NumPy arrays for easier manipulation\n",
    "                train_indices_label = np.array(train_indices_dict[label])\n",
    "                test_indices_label = np.array(test_indices_dict[label])\n",
    "                all_indices_label = np.array(all_indices_dict[label])\n",
    "\n",
    "                # Use boolean indexing to remove elements\n",
    "                train_indices_dict[label] = train_indices_label[~(train_indices_label == idx)]\n",
    "                train_indices_dict[-1] = np.append(train_indices_dict[-1], idx)\n",
    "\n",
    "                test_indices_dict[label] = test_indices_label[~(test_indices_label == idx)]\n",
    "                test_indices_dict[-1] = np.append(test_indices_dict[-1], idx)\n",
    "\n",
    "                all_indices_dict[label] = all_indices_label[~(all_indices_label == idx)]\n",
    "                all_indices_dict[-1] = np.append(all_indices_dict[-1], idx)\n",
    "\n",
    "# Example usage:\n",
    "# Call the function with your specific dictionaries and values\n",
    "handle_outliers(train_indices_dict, test_indices_dict, all_indices_dict, outliers_indices_in_complete_data, label_list, num_outliers)\n"
   ]
  },
  {
   "cell_type": "code",
   "execution_count": 84,
   "id": "253e9ebd-abb3-4154-b35c-0df125cfd783",
   "metadata": {},
   "outputs": [],
   "source": [
    "def save_segments_for_label(label, all_indices_dict, segments, output_directory='Data/'):\n",
    "    time_series = []\n",
    "    for idx in all_indices_dict[label]:\n",
    "        # Save for data exploration\n",
    "        time_series.extend(segments[label][idx])\n",
    "\n",
    "    np.save(output_directory + 'Segments_for_Label_' + str(label) + '.npy', np.array(time_series, dtype=object), allow_pickle=True)\n",
    "\n",
    "for label in label_list:\n",
    "    save_segments_for_label(label, all_indices_dict, segments)\n"
   ]
  },
  {
   "cell_type": "markdown",
   "id": "ec79840c-3793-4a66-9d7f-d69e0cc90b0a",
   "metadata": {},
   "source": [
    "# Persistence Diagrams"
   ]
  },
  {
   "cell_type": "markdown",
   "id": "8d0460ed-23ef-45a5-bf45-eafa66888669",
   "metadata": {},
   "source": [
    "## Finding the optimal embedding dimension and time delay"
   ]
  },
  {
   "cell_type": "markdown",
   "id": "253351f2-ad56-4641-9228-1ea72b78eb35",
   "metadata": {},
   "source": [
    "There are two techniques that can be used to determine these parameters automatically:\n",
    "- Mutual information to determine the time delay\n",
    "- False nearest neighbours to determine the embedding dimension"
   ]
  },
  {
   "cell_type": "code",
   "execution_count": 100,
   "id": "5411caea-3b14-45e6-adc5-e86f77235716",
   "metadata": {},
   "outputs": [],
   "source": [
    "# Initialise the embedding\n",
    "max_embedding_dimension = 30\n",
    "max_time_delay = 30\n",
    "stride = 5\n",
    "\n",
    "embedder = SingleTakensEmbedding(\n",
    "    parameters_type=\"search\",\n",
    "    time_delay=max_time_delay,\n",
    "    dimension=max_embedding_dimension,\n",
    "    stride=stride,\n",
    ")"
   ]
  },
  {
   "cell_type": "code",
   "execution_count": 101,
   "id": "695b8367-ca0f-44da-8bdd-735a8c8794eb",
   "metadata": {},
   "outputs": [],
   "source": [
    "def find_optimal_parameters(embedder, segments, max_index, iterations = 8):\n",
    "    \"\"\"\n",
    "    Finds (approximate) optimal embedding parameters by averaging optimal parameters of random segments.\n",
    "\n",
    "    Parameters:\n",
    "    - embedder (object): defined by SingleTakensEmbedding() or similar\n",
    "    - segments (list of lists): Complete EEG/EMG segments\n",
    "    - max_index (int): How many segments there are\n",
    "    - iteratiors (int): How many random indices to sample\n",
    "\n",
    "    Returns:\n",
    "    Tuple of two floats:\n",
    "    - Average optimal embedding dimension\n",
    "    - Average optimal time delay\n",
    "    \"\"\"\n",
    "\n",
    "\n",
    "    optimal_embeddings_dimensions = []\n",
    "    optimal_time_delays = []\n",
    "    \n",
    "    for _ in range(iterations):\n",
    "        random_index = random.randint(0, max_index)\n",
    "        embedding = embedder.fit_transform(segments[random_index])\n",
    "        \n",
    "         # append optimal embedding dimension for this segment\n",
    "        optimal_embeddings_dimensions.append(embedder.dimension_)\n",
    "\n",
    "        # append optimal time delay for this segment\n",
    "        optimal_time_delays.append(embedder.time_delay_)\n",
    "\n",
    "        print(\"The optimal embedding dimension is \" + str(np.mean(optimal_embeddings_dimensions)) + \n",
    "              \" and the optimal time delay is \" + str(np.mean(optimal_time_delays)))\n",
    "        \n",
    "        return int(np.mean(optimal_embeddings_dimensions)), int(np.mean(optimal_time_delays))"
   ]
  },
  {
   "cell_type": "code",
   "execution_count": 102,
   "id": "e9909742-300d-43a9-91cf-fa7b1a579007",
   "metadata": {},
   "outputs": [
    {
     "name": "stdout",
     "output_type": "stream",
     "text": [
      "The optimal embedding dimension is 2.0 and the optimal time delay is 11.0\n"
     ]
    }
   ],
   "source": [
    "# Compute optimal embedding parameters\n",
    "\n",
    "all_segments = []\n",
    "\n",
    "for label in label_list:\n",
    "    all_segments.extend(segments[label])\n",
    "    \n",
    "\n",
    "embedding_dimension, embedding_time_delay = find_optimal_parameters(embedder, all_segments, len(all_segments), iterations = 8)"
   ]
  },
  {
   "cell_type": "markdown",
   "id": "d24ae14f-02bd-46f3-86dc-36059171e678",
   "metadata": {},
   "source": [
    " "
   ]
  },
  {
   "cell_type": "markdown",
   "id": "c8ae774c-2bca-448a-b292-676e26190097",
   "metadata": {},
   "source": [
    "## Creating Persistence Diagrams"
   ]
  },
  {
   "cell_type": "code",
   "execution_count": 103,
   "id": "c1d6e233-e614-42cf-b4bc-e1cf83874dff",
   "metadata": {},
   "outputs": [],
   "source": [
    "# Setting parameters for point cloud embeddings\n",
    "\n",
    "#embedding_dimension= 3 # for data exploration\n",
    "stride = 10\n",
    "\n",
    "embedder = SingleTakensEmbedding(\n",
    "    parameters_type=\"fixed\",\n",
    "    n_jobs=2,\n",
    "    time_delay=embedding_time_delay, # computed above\n",
    "    dimension=embedding_dimension, # computed above\n",
    "    stride=stride,\n",
    ")"
   ]
  },
  {
   "cell_type": "code",
   "execution_count": 104,
   "id": "1aeaf116-7c67-4b3f-849e-d827a751a0cf",
   "metadata": {},
   "outputs": [],
   "source": [
    "# We will look at 0, 1 and 2 dimensional holes\n",
    "homology_dimensions = [0, 1, 2]\n",
    "\n",
    "# We will use a Vietoris Rips filtrations\n",
    "persistence = VietorisRipsPersistence(\n",
    "    homology_dimensions=homology_dimensions, n_jobs=10\n",
    ")"
   ]
  },
  {
   "cell_type": "markdown",
   "id": "03b27aa0-db64-4d55-b188-53f3b5445523",
   "metadata": {},
   "source": [
    "### Computing Points Clouds and Persistence Diagrams"
   ]
  },
  {
   "cell_type": "code",
   "execution_count": 128,
   "id": "dd19ce63-6929-4e14-b071-ef45d54037fb",
   "metadata": {},
   "outputs": [],
   "source": [
    "def compute_embeddings_and_diagrams(segments, time_delay_embeddings, persistence_diagrams, all_indices_dict, label):\n",
    "\n",
    "    time_delay_embeddings[label] = {}\n",
    "    persistence_diagrams[label] = {}\n",
    "\n",
    "    # Compute embeddings and diagrams for the complete data\n",
    "    for label_idx in all_indices_dict[label]:\n",
    "        time_delay_embeddings[label][label_idx] = embedder.fit_transform(segments[label][label_idx])[None, :, :] # Reshape\n",
    "        persistence_diagrams[label][label_idx] = persistence.fit_transform(time_delay_embeddings[label][label_idx])\n",
    "\n",
    "    \n",
    "    return time_delay_embeddings, persistence_diagrams"
   ]
  },
  {
   "cell_type": "code",
   "execution_count": 129,
   "id": "fe0399fc-bed5-4ad3-bb07-2cddac8d42fe",
   "metadata": {},
   "outputs": [],
   "source": [
    "# Compute embeddings and persistence diagrams for the complete data\n",
    "\n",
    "time_delay_embeddings = {}\n",
    "persistence_diagrams = {}\n",
    "\n",
    "for label in label_list:\n",
    "    time_delay_embeddings, persistence_diagrams = compute_embeddings_and_diagrams(segments, time_delay_embeddings, persistence_diagrams, all_indices_dict, label)"
   ]
  },
  {
   "cell_type": "markdown",
   "id": "de7a4945-686a-4d20-ac93-e107313d258e",
   "metadata": {},
   "source": [
    "### Split into train and test sets"
   ]
  },
  {
   "cell_type": "code",
   "execution_count": 132,
   "id": "e1e7c4a7-da58-4c43-abee-cf1fdf024aef",
   "metadata": {},
   "outputs": [],
   "source": [
    "def split_embeddings_and_diagrams(time_delay_embeddings, persistence_diagrams, train_indices_dict, test_indices_dict, label):\n",
    "\n",
    "    # Initialize dictionaries which will contain a list of train and test embeddings \n",
    "    # with the folds as keys\n",
    "    train_embeddings = {}\n",
    "    test_embeddings = {}\n",
    "    for fold_idx in range(len(train_indices_dict[0])):\n",
    "        # Initialize Point cloud embeddings for each fold\n",
    "        train_embeddings[fold_idx] = [] # train set\n",
    "        test_embeddings[fold_idx]  = [] # test set\n",
    "        \n",
    "        # Initalize persistence diagrams for each fold\n",
    "        train_persistence_diagrams[fold_idx]  = [] # train set\n",
    "        test_persistence_diagrams[fold_idx]  = [] # test set\n",
    "\n",
    "\n",
    "    # Loop through the first train data segments with our label\n",
    "    for label_idx in train_indices_dict[label]:\n",
    "        # Loop through folds (only one fold in case of final test)\n",
    "        for fold_idx in range(len(train_indices_dict[label])):\n",
    "            train_embeddings[fold_idx].append(time_delay_embeddings[label][label_idx][0])\n",
    "            train_persistence_diagrams[fold_idx] .append(persistence_diagrams[label][label_idx][0])\n",
    "\n",
    "    # Loop through the first test data segments with our label\n",
    "    for label_idx in test_indices_dict[label]:  \n",
    "        # Loop through folds (only one fold in case of final test)\n",
    "        for fold_idx in range(len(train_indices_dict[label])):\n",
    "            test_embeddings[fold_idx] .append(time_delay_embeddings[label][label_idx][0])\n",
    "            test_persistence_diagrams[fold_idx].append(persistence_diagrams[label][label_idx][0])\n",
    "\n",
    "\n",
    "    return train_embeddings, test_embeddings, train_persistence_diagrams, test_persistence_diagrams"
   ]
  },
  {
   "cell_type": "code",
   "execution_count": 133,
   "id": "d03146bc-60f9-4e04-9422-0d864900104e",
   "metadata": {},
   "outputs": [],
   "source": [
    "# Retrieve embeddings and persistence diagrams for the final test set\n",
    "\n",
    "test_embeddings = {}\n",
    "\n",
    "test_persistence_diagrams = {}\n",
    "\n",
    "for label in label_list:\n",
    "    _, test_embeddings[label], _, test_persistence_diagrams[label] = \\\n",
    "    split_embeddings_and_diagrams(time_delay_embeddings, persistence_diagrams, train_indices_dict, test_indices_dict, label)"
   ]
  },
  {
   "cell_type": "code",
   "execution_count": 136,
   "id": "ef278da4-9585-4839-95f2-b0d0e509b18d",
   "metadata": {},
   "outputs": [],
   "source": [
    "# For the train/validation data, compute different train/validation indices for each fold\n",
    "\n",
    "train_embeddings = {}\n",
    "validation_embeddings = {}\n",
    "\n",
    "train_persistence_diagrams = {}\n",
    "validation_persistence_diagrams = {}\n",
    "\n",
    "for label in label_list:\n",
    "    train_embeddings[label], validation_embeddings[label], train_persistence_diagrams[label], validation_persistence_diagrams[label] = \\\n",
    "    split_embeddings_and_diagrams(time_delay_embeddings, persistence_diagrams, train_indices_dict_for_folds, validation_indices_dict_for_folds, label = label)"
   ]
  },
  {
   "cell_type": "markdown",
   "id": "9e089292-43dd-46cc-9c72-edfadc51f6b3",
   "metadata": {},
   "source": [
    "## Cutting off noise"
   ]
  },
  {
   "cell_type": "markdown",
   "id": "86230567-8daf-4c4c-aa0a-bd29242f4ab7",
   "metadata": {},
   "source": [
    "For some analyses, we will need to compare persistence diagrams (pairwise). Giotto TDA needs all diagrams to have the same length for this (to have the same amount of holes). We will therefore cut off some \"noise\" (holes with low persistence) such that all shortened persistence diagrams have the same length."
   ]
  },
  {
   "cell_type": "code",
   "execution_count": null,
   "id": "e82f7e82-0ec2-4c1b-b9bf-40fb6b01c42d",
   "metadata": {},
   "outputs": [],
   "source": [
    "# Set number of holes of each dimension that are supposed to be kept\n",
    "if data_type == \"EEG\":\n",
    "    no_holes_per_dimension = [63, 37, 2] \n",
    "elif data_type == \"EMG\":\n",
    "    no_holes_per_dimension = [15, 5, 1]"
   ]
  },
  {
   "cell_type": "code",
   "execution_count": null,
   "id": "adff798a-8b0d-4a8b-b1bf-30c9b3a96baf",
   "metadata": {},
   "outputs": [],
   "source": [
    "def cut_diagrams(persistence_diagrams, no_holes_per_dimension):\n",
    "    \"\"\"    Cuts diagrams to the dimensions no_holes_per_dimension and removes diagrams smaller than that.\n",
    "\n",
    "    Parameters:\n",
    "    - persistence_diagrams (list of lists): list of persistence diagrams\n",
    "    - no_holes_per_dimension (list): maximal dimension the persistence diagrams should have, e.g.\n",
    "    [120, 70, 10] for 120 holes of dimension 0, 70 of dimension 1 and 10 of dimension 2\n",
    "\n",
    "    Returns:\n",
    "    Tuple of two lists:\n",
    "    - shortened diagrams\n",
    "    - indices of diagrams that were to small and were removed from the list of shortened diagrams\n",
    "    \"\"\"\n",
    "        \n",
    "    shortened_diagrams = [] # list of diagrams in which non-signicant holes were cut off\n",
    "    removed_indices = [] # List of indices of the diagrams that are smaller than no_holes_per_dimension and will not be considered\n",
    "\n",
    "    for diagram_idx, diagram in enumerate(persistence_diagrams): \n",
    "        \n",
    "        most_significant_holes_per_diagram = [] # Holes that are not noise\n",
    "        should_be_appended = True # Boolean if the diagram index will be added to removed index (False) or not (True)\n",
    "        holes = {} # Dictionary which will save all holes (values) of each dimension (keys) for each diagram\n",
    "        \n",
    "        for hole_dimension, number_of_holes in zip(range(3), no_holes_per_dimension):\n",
    "            \n",
    "            # the third entry of each point (hole) in a diagram indicates its dimensionality\n",
    "            holes[hole_dimension] = diagram[np.where(diagram[:, 2] == hole_dimension)[0]]\n",
    "\n",
    "            # If the number of holes of this dimension that are supposed to be kept is larger than the number of holes of the diagram\n",
    "            if number_of_holes > len(holes[hole_dimension]):\n",
    "                print(\"Diagram \" + str(diagram_idx) + \" is shorter than the shortened diagrams, and was removed.\")\n",
    "                print(\"It has \" + str(len(holes[hole_dimension])) + \" holes of dimension \" + str(hole_dimension))\n",
    "                should_be_appended = False \n",
    "                removed_indices.append(diagram_idx) # Should be sepa rated according to dimension? or not?\n",
    "                \n",
    "            # The first and second entries of each hole indicate its birth and death, the difference is the persistence\n",
    "            # We only want to keep as the as many holes for each dimension as we set no_holes_per_dimension to be\n",
    "            large_persistence_indices = np.argsort(holes[hole_dimension][:, 0] - holes[hole_dimension][:, 1])[-number_of_holes:]\n",
    "            \n",
    "            # For each dimension, getting the holes with the above indices (the holes with the largest persistence)\n",
    "            significant_holes_with_hole_dimension = holes[hole_dimension][large_persistence_indices, :]\n",
    "            most_significant_holes_per_diagram.extend(significant_holes_with_hole_dimension)\n",
    "\n",
    "        if should_be_appended:\n",
    "            shortened_diagrams.append(most_significant_holes_per_diagram)\n",
    "\n",
    "    return shortened_diagrams, list(set(removed_indices))"
   ]
  },
  {
   "cell_type": "code",
   "execution_count": null,
   "id": "b8496c10-e395-4293-b652-9b09e34c973a",
   "metadata": {},
   "outputs": [],
   "source": [
    "train_shortened_diagrams = {}\n",
    "test_shortened_diagrams = {}\n",
    "\n",
    "removed_train_indices = {}\n",
    "removed_test_indices = {}\n",
    "\n",
    "for label in label_list:\n",
    "    train_shortened_diagrams[label], removed_train_indices[label] = cut_diagrams(train_persistence_diagrams[label], no_holes_per_dimension)\n",
    "    test_shortened_diagrams[label], removed_test_indices[label] = cut_diagrams(test_persistence_diagrams[label], no_holes_per_dimension)\n",
    "\n",
    "    # Remove embeddings of diagrams that were removed \n",
    "    train_embeddings[label] =  np.delete(train_embeddings[label], removed_train_indices[label], 0)\n",
    "    test_embeddings[label] =  np.delete(test_embeddings[label], removed_test_indices[label], 0)"
   ]
  },
  {
   "cell_type": "markdown",
   "id": "56c3e42a-c2f5-4442-8c57-bb8d07407c47",
   "metadata": {},
   "source": [
    "## Save persistence diagrams and embeddings"
   ]
  },
  {
   "cell_type": "code",
   "execution_count": 141,
   "id": "2f008c63-4e40-4e86-8126-67ecb0ba41a7",
   "metadata": {},
   "outputs": [],
   "source": [
    "for label in label_list:\n",
    "    # Final Test set\n",
    "    np.save('Embeddings_and_Persistence_Diagrams/'+str(subject)+'/Test/'+str(data_type)+'/PD'+str(label)+'.npy', \\\n",
    "            np.array(test_persistence_diagrams[label], dtype=object), allow_pickle=True)\n",
    "\n",
    "    np.save('Embeddings_and_Persistence_Diagrams/'+str(subject)+'/Test/'+str(data_type)+'/Embeddings_'+str(label)+\\\n",
    "            '_Dim'+str(embedding_dimension)+'.npy', np.array(test_embeddings[label], dtype=object), allow_pickle=True)\n",
    "\n",
    "\n",
    "    # Folds\n",
    "    for fold in range(n_folds):\n",
    "        # Train Set\n",
    "        np.save('Embeddings_and_Persistence_Diagrams/'+str(subject)+'/Train/'+str(data_type)+'/Fold_'+str(fold)+'_Train_PD'+str(label)+'.npy', \\\n",
    "                np.array(train_persistence_diagrams[label][fold], dtype=object), allow_pickle=True)\n",
    "\n",
    "        np.save('Embeddings_and_Persistence_Diagrams/'+str(subject)+'/Train/'+str(data_type)+'/Fold_'+str(fold)+'_Train_Embeddings_'+str(label)+'.npy', \\\n",
    "                np.array(train_embeddings[label][fold], dtype=object), allow_pickle=True)\n",
    "\n",
    "\n",
    "        # Validation Set\n",
    "        np.save('Embeddings_and_Persistence_Diagrams/'+str(subject)+'/Train/'+str(data_type)+'/Fold_'+str(fold)+'_Validation_PD'+str(label)+'.npy', \\\n",
    "                np.array(validation_persistence_diagrams[label][fold], dtype=object), allow_pickle=True)\n",
    "\n",
    "        np.save('Embeddings_and_Persistence_Diagrams/'+str(subject)+'/Train/'+str(data_type)+'/Fold_'+str(fold)+'_Validation_Embeddings_'+str(label)+'.npy', \\\n",
    "                np.array(validation_embeddings[label][fold], dtype=object), allow_pickle=True)\n",
    "\n",
    "\n",
    "    # Shortened Persistence diagrams\n",
    "    #np.save('Embeddings_and_Persistence_Diagrams/'+str(subject)+'/Train/'+str(data_type)+'/Shortened_Diagrams'+str(label)+'.npy', np.array(train_shortened_diagrams[label], dtype=object), allow_pickle=True)\n",
    "    #np.save('Embeddings_and_Persistence_Diagrams/'+str(subject)+'/Test/'+str(data_type)+'/Shortened_Diagrams'+str(label)+'.npy', np.array(test_shortened_diagrams[label], dtype=object), allow_pickle=True)\n",
    "\n",
    "    # Removed indices\n",
    "    #np.save('Embeddings_and_Persistence_Diagrams/'+str(subject)+'/Train/'+str(data_type)+'/Removed_Indices'+str(label)+'.npy', np.array(removed_train_indices[label], dtype=object), allow_pickle=True)\n",
    "    #np.save('Embeddings_and_Persistence_Diagrams/'+str(subject)+'/Test/'+str(data_type)+'/Removed_Indices'+str(label)+'.npy', np.array(removed_test_indices[label], dtype=object), allow_pickle=True)\n",
    "    "
   ]
  },
  {
   "cell_type": "code",
   "execution_count": null,
   "id": "f3448e0e-df40-4181-b408-024740fde8b3",
   "metadata": {},
   "outputs": [],
   "source": []
  },
  {
   "cell_type": "code",
   "execution_count": null,
   "id": "2c2d18c3-cab1-40f4-965a-92828f51cd7f",
   "metadata": {},
   "outputs": [],
   "source": []
  },
  {
   "cell_type": "code",
   "execution_count": null,
   "id": "bd054e7c-9a3e-42cc-bcfc-810036cd48f2",
   "metadata": {},
   "outputs": [],
   "source": []
  }
 ],
 "metadata": {
  "kernelspec": {
   "display_name": "Python 3 (ipykernel)",
   "language": "python",
   "name": "python3"
  },
  "language_info": {
   "codemirror_mode": {
    "name": "ipython",
    "version": 3
   },
   "file_extension": ".py",
   "mimetype": "text/x-python",
   "name": "python",
   "nbconvert_exporter": "python",
   "pygments_lexer": "ipython3",
   "version": "3.10.12"
  }
 },
 "nbformat": 4,
 "nbformat_minor": 5
}
