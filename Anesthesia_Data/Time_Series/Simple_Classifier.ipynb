{
 "cells": [
  {
   "cell_type": "code",
   "execution_count": 23,
   "id": "e9f3ffa4-2d95-4158-8ac6-92b145e05e0b",
   "metadata": {},
   "outputs": [],
   "source": [
    "import pandas as pd\n",
    "import numpy as np\n",
    "from sklearn.ensemble import RandomForestClassifier\n",
    "from sklearn.metrics import accuracy_score, confusion_matrix, precision_score, recall_score, ConfusionMatrixDisplay\n",
    "from sklearn.model_selection import RandomizedSearchCV\n",
    "from scipy.stats import randint\n",
    "from sklearn.utils import shuffle\n",
    "import xgboost as xgb\n",
    "import matplotlib.pyplot as plt"
   ]
  },
  {
   "cell_type": "markdown",
   "id": "d96ef8fb-0483-47c0-a098-4765de47b4f5",
   "metadata": {},
   "source": [
    "# Import and Concatenate Data"
   ]
  },
  {
   "cell_type": "code",
   "execution_count": 24,
   "id": "2f75c8ef-3e10-4015-97fc-3ca101ddcdc7",
   "metadata": {},
   "outputs": [],
   "source": [
    "# We assume there i*s an equal amount of the labels\n",
    "data_length = 370 # TODO I don't want to set this in advance"
   ]
  },
  {
   "cell_type": "code",
   "execution_count": 28,
   "id": "5d8e6a03-ae8f-4d2b-8e94-32a95b8398c8",
   "metadata": {},
   "outputs": [],
   "source": [
    "subject_feature_dfs = {}\n",
    "\n",
    "labels = []\n",
    "\n",
    "for subject_idx, subject in enumerate([\"m292\", \"m294\"]): #,  \"m298\", \"m298\", \"m299\", \"m300\"]):\n",
    "    \n",
    "    subject_feature_dfs[subject] = pd.DataFrame(index=range(data_length), columns=['Subject'])\n",
    "\n",
    "    for data_type in [\"EEG\", \"EMG\"]: \n",
    "\n",
    "        llbs = []\n",
    "        \n",
    "        data_length = 0\n",
    "        \n",
    "        train_feature_df = pd.read_csv(\"Features/\"+str(subject)+\"/Train/\"+str(data_type)+\"/Topological_Summary_Statistics.csv\")\n",
    "        train_advanced_feature_df = pd.read_csv(\"Features/\"+str(subject)+\"/Train/\"+str(data_type)+\"/Advanced_Features.csv\")\n",
    "        train_statistical_features = pd.read_csv(\"Features/\"+str(subject)+\"/Train/\"+str(data_type)+\"/Statistical_Features.csv\")\n",
    "        #train_wasserstein_features = pd.read_csv(\"Features/\"+str(subject)+\"/Train/\"+str(data_type)+\"/Wasserstein_Features.csv\")\n",
    "        #train_landscape_features = pd.read_csv(\"Features/Train_\"+str(data_type)+\"_Landscape_Features.csv\")\n",
    "        #train_bottleneck_features = pd.read_csv(\"Features/Train_\"+str(data_type)+\"_bottleneck_Features.csv\")\n",
    "        train_signature_features = pd.read_csv(\"Features/\"+str(subject)+\"/Train/\"+str(data_type)+\"/Signature_Statistics.csv\")\n",
    "        train_vectorization_features = pd.read_csv(\"Features/\"+str(subject)+\"/Train/\"+str(data_type)+\"/Vectorization_Features.csv\")\n",
    "\n",
    "\n",
    "        test_feature_df = pd.read_csv(\"Features/\"+str(subject)+\"/Test/\"+str(data_type)+\"/Topological_Summary_Statistics.csv\")\n",
    "        test_advanced_feature_df = pd.read_csv(\"Features/\"+str(subject)+\"/Test/\"+str(data_type)+\"/Advanced_Features.csv\")\n",
    "        test_statistical_features = pd.read_csv(\"Features/\"+str(subject)+\"/Test/\"+str(data_type)+\"/Statistical_Features.csv\")\n",
    "        \n",
    "        #test_wasserstein_features = pd.read_csv(\"Features/\"+str(subject)+\"/Test/\"+str(data_type)+\"/Wasserstein_Features.csv\")\n",
    "        #test_landscape_features = pd.read_csv(\"Features/Test_\"+str(data_type)+\"_Landscape_Features.csv\")\n",
    "        #test_bottleneck_features = pd.read_csv(\"Features/Test_\"+str(data_type)+\"_bottleneck_Features.csv\")\n",
    "        test_signature_features = pd.read_csv(\"Features/\"+str(subject)+\"/Test/\"+str(data_type)+\"/Signature_Statistics.csv\")\n",
    "        test_vectorization_features = pd.read_csv(\"Features/\"+str(subject)+\"/Test/\"+str(data_type)+\"/Vectorization_Features.csv\")\n",
    "\n",
    "        data_length += len(train_feature_df.index) \n",
    "        data_length += len(test_feature_df.index) \n",
    "        \n",
    "        # Concatenate train and test sets (and split again later) to not get a problem with indices\n",
    "        summary_statistics = pd.concat([train_feature_df, test_feature_df], ignore_index=True)\n",
    "        advanced_features = pd.concat([train_advanced_feature_df, test_advanced_feature_df], ignore_index=True)\n",
    "        statistical_features = pd.concat([train_statistical_features, test_statistical_features], ignore_index=True)\n",
    "        #wasserstein_features =  pd.concat([train_wasserstein_features, test_wasserstein_features], ignore_index=True)\n",
    "        #landscape_features =  pd.concat([train_landscape_features, test_landscape_features], ignore_index=True)\n",
    "        #bottleneck_features =  pd.concat([train_bottleneck_features, test_bottleneck_features], ignore_index=True)\n",
    "        signature_features =  pd.concat([train_signature_features, test_signature_features], ignore_index=True)\n",
    "        vectorization_features =  pd.concat([train_vectorization_features, test_vectorization_features], ignore_index=True)\n",
    "\n",
    "        # TODO put this into loop below\n",
    "        summary_statistics[\"Subject\"] = subject_idx\n",
    "        statistical_features[\"Subject\"] = subject_idx\n",
    "        #wasserstein_features[\"Subject\"] = subject_idx\n",
    "        advanced_features[\"Subject\"] = subject_idx\n",
    "        vectorization_features[\"Subject\"] = subject_idx\n",
    "        signature_features[\"Subject\"] = subject_idx\n",
    "\n",
    "\n",
    "        llbs.extend(summary_statistics[\"Label\"])\n",
    "\n",
    "        list_of_dataframes =  [summary_statistics, statistical_features, advanced_features, vectorization_features, signature_features]#, wasserstein_features]#, , , , \\\n",
    "                               #vectorization_features, signature_features, bottleneck_features]\n",
    "\n",
    "        for df in list_of_dataframes:\n",
    "            # We do not want the labels in the training data\n",
    "            df.drop(columns = [\"Label\"], inplace = True)\n",
    "            # All dataframes come with unnamed columns TODO\n",
    "            df.drop(df.columns[df.columns.str.contains('unnamed',case = False)], axis = 1, inplace = True)\n",
    "\n",
    "        # Choose one, several or all of the following dataframes\n",
    "        subject_feature_dfs[subject] = subject_feature_dfs[subject].join(summary_statistics, lsuffix='_left', rsuffix='') # mostly improves result, depending on the other features\n",
    "        subject_feature_dfs[subject].drop(subject_feature_dfs[subject].columns[subject_feature_dfs[subject].columns.str.contains('_left',case = False)], axis = 1, inplace = True)\n",
    "        \n",
    "        subject_feature_dfs[subject] = subject_feature_dfs[subject].join(statistical_features, lsuffix='_left', rsuffix='') # mostly improves result, depending on the other features\n",
    "        subject_feature_dfs[subject].drop(subject_feature_dfs[subject].columns[subject_feature_dfs[subject].columns.str.contains('_left',case = False)], axis = 1, inplace = True)\n",
    "\n",
    "\n",
    "        subject_feature_dfs[subject] = subject_feature_dfs[subject].join(advanced_features, lsuffix='_left', rsuffix='') # mostly improves result, depending on the other features\n",
    "        subject_feature_dfs[subject].drop(subject_feature_dfs[subject].columns[subject_feature_dfs[subject].columns.str.contains('_left',case = False)], axis = 1, inplace = True)\n",
    "\n",
    "        # Currently decreases accuracy with the current non-tuned parameters\n",
    "        subject_feature_dfs[subject] = subject_feature_dfs[subject].join(vectorization_features, lsuffix='_left', rsuffix='') # mostly improves result, depending on the other features\n",
    "        subject_feature_dfs[subject].drop(subject_feature_dfs[subject].columns[subject_feature_dfs[subject].columns.str.contains('_left',case = False)], axis = 1, inplace = True)\n",
    "        \n",
    "\n",
    "        subject_feature_dfs[subject] = subject_feature_dfs[subject].join(signature_features, lsuffix='_left', rsuffix='') # mostly improves result, depending on the other features\n",
    "        subject_feature_dfs[subject].drop(subject_feature_dfs[subject].columns[subject_feature_dfs[subject].columns.str.contains('_left',case = False)], axis = 1, inplace = True)\n",
    "\n",
    "        #subject_feature_dfs[subject] = subject_feature_dfs[subject].join(wasserstein_features, lsuffix='_left', rsuffix='') # mostly improves result, depending on the other features\n",
    "        #subject_feature_dfs[subject].drop(subject_feature_dfs[subject].columns[subject_feature_dfs[subject].columns.str.contains('_left',case = False)], axis = 1, inplace = True)\n",
    "\n",
    "    \n",
    "        #feature_df = feature_df.join(wasserstein_features) # only improves result if advanced_features is not used\n",
    "        #feature_df = feature_df.join(advanced_features) # improves result by a lot, also works well alone\n",
    "        #feature_df = feature_df.join(bottleneck_features) # good standalone accuracy, but worsens result\n",
    "        #feature_df = feature_df.join(signature_features) # currently does not change the result?\n",
    "        #feature_df = feature_df.join(vectorization_features) \n",
    "\n",
    "\n",
    "    labels.extend(llbs)\n",
    "\n",
    "        \n",
    "    \n",
    "#feature_df = pd.concat([subject_feature_dfs[\"m292\"], subject_feature_dfs[\"m294\"], subject_feature_dfs[\"m298\"], subject_feature_dfs[\"m299\"], subject_feature_dfs[\"m300\"]], ignore_index=True)\n",
    "\n",
    "#feature_df = subject_feature_dfs[\"m292\"]\n",
    "\n",
    "feature_df = pd.concat([subject_feature_dfs[\"m292\"], subject_feature_dfs[\"m294\"]], ignore_index=True)\n"
   ]
  },
  {
   "cell_type": "code",
   "execution_count": 30,
   "id": "caa3972e-ba2f-4b3c-ad3a-181bb16b747e",
   "metadata": {},
   "outputs": [],
   "source": [
    "# Save dataframe for data exploration\n",
    "features_to_save = feature_df.copy()\n",
    "features_to_save[\"Label\"] = labels\n",
    "feature_df.to_csv(\"Features/All_Features.csv\")"
   ]
  },
  {
   "cell_type": "markdown",
   "id": "6f333182-30ea-498e-9fe7-030de10a57e8",
   "metadata": {},
   "source": [
    "# Preprocess Data"
   ]
  },
  {
   "cell_type": "code",
   "execution_count": 164,
   "id": "53d9daa9-fed2-484c-9abe-484b7ad46e86",
   "metadata": {},
   "outputs": [],
   "source": [
    "feature_df = feature_df.dropna()"
   ]
  },
  {
   "cell_type": "code",
   "execution_count": 165,
   "id": "8a847201-5791-4913-b4fb-2817eb2a240c",
   "metadata": {},
   "outputs": [],
   "source": [
    "# Use boolean indexing to find indices where Column2 has the target value\n",
    "train_indices = feature_df.index[feature_df['Train'] == True]\n",
    "test_indices = feature_df.index[feature_df['Train'] == False]\n",
    "\n",
    "X_train = feature_df.loc[train_indices]\n",
    "y_train = [labels[idx] for idx in train_indices]\n",
    "\n",
    "X_test = feature_df.loc[test_indices]\n",
    "y_test = [labels[idx] for idx in test_indices]"
   ]
  },
  {
   "cell_type": "code",
   "execution_count": 166,
   "id": "92361a0a-2375-4530-acdd-d6b7ab1ca851",
   "metadata": {},
   "outputs": [],
   "source": [
    "# Random Forest"
   ]
  },
  {
   "cell_type": "code",
   "execution_count": 167,
   "id": "51a5995c-42e5-41c8-ad7a-a787e5e4029b",
   "metadata": {},
   "outputs": [
    {
     "name": "stderr",
     "output_type": "stream",
     "text": [
      "/Users/piabaronetzky/anaconda3/envs/time-delay-embeddings/lib/python3.10/site-packages/sklearn/utils/validation.py:623: FutureWarning: is_sparse is deprecated and will be removed in a future version. Check `isinstance(dtype, pd.SparseDtype)` instead.\n",
      "  if not hasattr(array, \"sparse\") and array.dtypes.apply(is_sparse).any():\n"
     ]
    },
    {
     "name": "stdout",
     "output_type": "stream",
     "text": [
      "Accuracy: 0.7217391304347827\n"
     ]
    },
    {
     "name": "stderr",
     "output_type": "stream",
     "text": [
      "/Users/piabaronetzky/anaconda3/envs/time-delay-embeddings/lib/python3.10/site-packages/sklearn/utils/validation.py:623: FutureWarning: is_sparse is deprecated and will be removed in a future version. Check `isinstance(dtype, pd.SparseDtype)` instead.\n",
      "  if not hasattr(array, \"sparse\") and array.dtypes.apply(is_sparse).any():\n"
     ]
    }
   ],
   "source": [
    "rf = RandomForestClassifier(random_state=5, n_estimators = 900)\n",
    "\n",
    "rf.fit(X_train, y_train)\n",
    "\n",
    "y_pred = rf.predict(X_test)\n",
    "\n",
    "accuracy = accuracy_score(y_pred, y_test)\n",
    "print(\"Accuracy:\", accuracy)"
   ]
  },
  {
   "cell_type": "code",
   "execution_count": 168,
   "id": "b5862f37-6a4b-496c-8c7a-fb51e538a48e",
   "metadata": {},
   "outputs": [
    {
     "name": "stderr",
     "output_type": "stream",
     "text": [
      "/var/folders/f_/tyg450s17m53dh3ylrjcmpqc0000gn/T/ipykernel_59818/2717088851.py:14: FutureWarning: Series.__getitem__ treating keys as positions is deprecated. In a future version, integer keys will always be treated as labels (consistent with DataFrame behavior). To access a value by position, use `ser.iloc[pos]`\n",
      "  forest_importances[feature_indices].plot.bar(yerr=std[feature_indices], ax=ax)\n"
     ]
    },
    {
     "data": {
      "image/png": "[encoded data removed]",
      "text/plain": [
       "<Figure size 640x480 with 1 Axes>"
      ]
     },
     "metadata": {},
     "output_type": "display_data"
    }
   ],
   "source": [
    "feature_indices = np.arange(0,20)\n",
    "#feature_indices = np.arange(20,40)\n",
    "#feature_indices = np.arange(40,60) \n",
    "#feature_indices = np.arange(60,80)\n",
    "#feature_indices = np.arange(80,100)\n",
    "\n",
    "\n",
    "importances = rf.feature_importances_\n",
    "std = np.std([tree.feature_importances_ for tree in rf.estimators_], axis=0)\n",
    "forest_importances = pd.Series(importances, index=feature_df.columns)\n",
    "\n",
    "\n",
    "fig, ax = plt.subplots()\n",
    "forest_importances[feature_indices].plot.bar(yerr=std[feature_indices], ax=ax)\n",
    "ax.set_title(\"Feature importances using MDI\")\n",
    "ax.set_ylabel(\"Mean decrease in impurity\")\n",
    "fig.tight_layout()"
   ]
  },
  {
   "cell_type": "code",
   "execution_count": 170,
   "id": "4c68efa0-f799-4349-80be-ed57081ef02f",
   "metadata": {
    "scrolled": true
   },
   "outputs": [
    {
     "name": "stderr",
     "output_type": "stream",
     "text": [
      "/Users/piabaronetzky/anaconda3/envs/time-delay-embeddings/lib/python3.10/site-packages/sklearn/utils/validation.py:623: FutureWarning: is_sparse is deprecated and will be removed in a future version. Check `isinstance(dtype, pd.SparseDtype)` instead.\n",
      "  if not hasattr(array, \"sparse\") and array.dtypes.apply(is_sparse).any():\n"
     ]
    },
    {
     "name": "stdout",
     "output_type": "stream",
     "text": [
      "Accuracy: 0.7217391304347827\n"
     ]
    },
    {
     "name": "stderr",
     "output_type": "stream",
     "text": [
      "/Users/piabaronetzky/anaconda3/envs/time-delay-embeddings/lib/python3.10/site-packages/sklearn/utils/validation.py:623: FutureWarning: is_sparse is deprecated and will be removed in a future version. Check `isinstance(dtype, pd.SparseDtype)` instead.\n",
      "  if not hasattr(array, \"sparse\") and array.dtypes.apply(is_sparse).any():\n"
     ]
    }
   ],
   "source": [
    "# Recursive Feature Elimination for Random Forest\n",
    "from sklearn.feature_selection import RFE\n",
    "\n",
    "rfe = RFE(rf, n_features_to_select=150)\n",
    "rfe.fit(X_train, y_train)\n",
    "\n",
    "y_pred = rfe.predict(X_test)\n",
    "\n",
    "accuracy = accuracy_score(y_pred, y_test)\n",
    "print(\"Accuracy:\", accuracy)\n",
    "\n",
    "# Has a negative effect if not all features are selected (with current parameters)"
   ]
  },
  {
   "cell_type": "code",
   "execution_count": 25,
   "id": "e2bf88e0-91da-44cc-a4e0-08ff8ee4d8db",
   "metadata": {},
   "outputs": [],
   "source": [
    "# Pruning features with low feature importance manually\n",
    "# ..."
   ]
  },
  {
   "cell_type": "code",
   "execution_count": 26,
   "id": "de44189a-4db0-4435-8349-8071543da532",
   "metadata": {},
   "outputs": [],
   "source": [
    "# XGBoost"
   ]
  },
  {
   "cell_type": "code",
   "execution_count": 27,
   "id": "156bceb7-90be-46be-9850-d5da0bcae72e",
   "metadata": {},
   "outputs": [
    {
     "data": {
      "text/plain": [
       "\" Does not have an effect\\n# Scaling for XGBoost\\n\\nfrom sklearn.preprocessing import StandardScaler\\n\\n# Assuming df is your DataFrame with features\\n# You might want to exclude the target variable if it's included in the DataFrame\\n\\n# Extract the feature columns\\nfeature_columns = feature_df.columns\\n\\n# Initialize the StandardScaler\\nscaler = StandardScaler()\\n\\n# Fit and transform the features using the scaler\\ndf_scaled = pd.DataFrame(scaler.fit_transform(feature_df), columns=feature_columns)\\n\\n\\n# Split data frame again (for each label)\\ntrain_label_length = int(0.7*(data_length/5))\\ntrain_data_length = train_label_length*5\\n\\ntest_label_length = int(0.7*(data_length/5))+1\\ntest_data_length = test_label_length*5\\n\\nX_train = pd.DataFrame()\\ny_train = []\\n\\nX_test = pd.DataFrame()\\ny_test = []\\n\\nfor label_idx in range(5):\\n    X_train = pd.concat([X_train, df_scaled[train_label_length*label_idx:train_label_length*(label_idx+1)]], ignore_index=True)\\n    y_train.extend(labels[train_label_length*label_idx:train_label_length*(label_idx+1)])\\n\\n    X_test = pd.concat([X_test, df_scaled[train_label_length+test_label_length*label_idx:train_label_length+test_label_length*(label_idx+1)]])\\n    y_test.extend(labels[train_label_length+test_label_length*label_idx:train_label_length+test_label_length*(label_idx+1)])\\n\\n\""
      ]
     },
     "execution_count": 27,
     "metadata": {},
     "output_type": "execute_result"
    }
   ],
   "source": [
    "\"\"\" Does not have an effect\n",
    "# Scaling for XGBoost\n",
    "\n",
    "from sklearn.preprocessing import StandardScaler\n",
    "\n",
    "# Assuming df is your DataFrame with features\n",
    "# You might want to exclude the target variable if it's included in the DataFrame\n",
    "\n",
    "# Extract the feature columns\n",
    "feature_columns = feature_df.columns\n",
    "\n",
    "# Initialize the StandardScaler\n",
    "scaler = StandardScaler()\n",
    "\n",
    "# Fit and transform the features using the scaler\n",
    "df_scaled = pd.DataFrame(scaler.fit_transform(feature_df), columns=feature_columns)\n",
    "\n",
    "\n",
    "# Split data frame again (for each label)\n",
    "train_label_length = int(0.7*(data_length/5))\n",
    "train_data_length = train_label_length*5\n",
    "\n",
    "test_label_length = int(0.7*(data_length/5))+1\n",
    "test_data_length = test_label_length*5\n",
    "\n",
    "X_train = pd.DataFrame()\n",
    "y_train = []\n",
    "\n",
    "X_test = pd.DataFrame()\n",
    "y_test = []\n",
    "\n",
    "for label_idx in range(5):\n",
    "    X_train = pd.concat([X_train, df_scaled[train_label_length*label_idx:train_label_length*(label_idx+1)]], ignore_index=True)\n",
    "    y_train.extend(labels[train_label_length*label_idx:train_label_length*(label_idx+1)])\n",
    "\n",
    "    X_test = pd.concat([X_test, df_scaled[train_label_length+test_label_length*label_idx:train_label_length+test_label_length*(label_idx+1)]])\n",
    "    y_test.extend(labels[train_label_length+test_label_length*label_idx:train_label_length+test_label_length*(label_idx+1)])\n",
    "\n",
    "\"\"\" "
   ]
  },
  {
   "cell_type": "code",
   "execution_count": 174,
   "id": "60c6b905-b675-47f3-8640-6f203068e61f",
   "metadata": {},
   "outputs": [
    {
     "name": "stdout",
     "output_type": "stream",
     "text": [
      "Accuracy: 0.6782608695652174\n"
     ]
    }
   ],
   "source": [
    "model = xgb.XGBClassifier()\n",
    "\n",
    "#Training the model on the training data\n",
    "model.fit(X_train._get_numeric_data(), y_train)\n",
    "\n",
    "#Making predictions on the test set\n",
    "predictions = model.predict(X_test._get_numeric_data())\n",
    "\n",
    "#Calculating accuracy\n",
    "accuracy = accuracy_score(y_test, predictions)\n",
    "\n",
    "print(\"Accuracy:\", accuracy)"
   ]
  },
  {
   "cell_type": "code",
   "execution_count": null,
   "id": "b3644525-58b7-4c82-b8ee-f858d59e2431",
   "metadata": {},
   "outputs": [],
   "source": []
  }
 ],
 "metadata": {
  "kernelspec": {
   "display_name": "Python 3 (ipykernel)",
   "language": "python",
   "name": "python3"
  },
  "language_info": {
   "codemirror_mode": {
    "name": "ipython",
    "version": 3
   },
   "file_extension": ".py",
   "mimetype": "text/x-python",
   "name": "python",
   "nbconvert_exporter": "python",
   "pygments_lexer": "ipython3",
   "version": "3.10.12"
  }
 },
 "nbformat": 4,
 "nbformat_minor": 5
}
