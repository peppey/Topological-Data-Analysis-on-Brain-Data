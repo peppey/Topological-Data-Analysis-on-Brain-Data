{
 "cells": [
  {
   "cell_type": "code",
   "execution_count": 1,
   "id": "e9f3ffa4-2d95-4158-8ac6-92b145e05e0b",
   "metadata": {},
   "outputs": [],
   "source": [
    "import import_ipynb\n",
    "import pandas as pd\n",
    "import numpy as np\n",
    "from sklearn.ensemble import RandomForestClassifier\n",
    "from sklearn.metrics import accuracy_score, confusion_matrix, precision_score, recall_score, ConfusionMatrixDisplay\n",
    "from sklearn.model_selection import RandomizedSearchCV\n",
    "from scipy.stats import randint\n",
    "from sklearn.utils import shuffle\n",
    "import xgboost as xgb\n",
    "import matplotlib.pyplot as plt\n",
    "import os\n",
    "\n",
    "import sys\n",
    "sys.path.append('../')\n",
    "\n",
    "\n",
    "import Utils.Time_Series_Classification_Helpers as ts_helpers\n",
    "import Utils.Classification_Helpers as helpers"
   ]
  },
  {
   "cell_type": "markdown",
   "id": "d96ef8fb-0483-47c0-a098-4765de47b4f5",
   "metadata": {},
   "source": [
    "# Import and Concatenate Data"
   ]
  },
  {
   "cell_type": "code",
   "execution_count": 2,
   "id": "44894145-e4db-4240-8466-9ff4fa84392e",
   "metadata": {},
   "outputs": [],
   "source": [
    "subject_list = [\"m292\", \"m294\"]\n",
    "label_list  = [0, 1, 2, 3, 4]"
   ]
  },
  {
   "cell_type": "markdown",
   "id": "ea6f9205-932a-417c-b6ff-d92f746b710d",
   "metadata": {},
   "source": [
    "## Dataframes that do not depend on folds"
   ]
  },
  {
   "cell_type": "code",
   "execution_count": 3,
   "id": "2a2209dc-3870-4f09-b6aa-e46f50298cf8",
   "metadata": {},
   "outputs": [],
   "source": [
    "list_of_filenames = [\"Topological_Summary_Statistics.csv\", \"Signature_Statistics.csv\", \"Advanced_Features.csv\"]\n",
    "    \n",
    "feature_df = ts_helpers.import_and_concatenate_datasets(subject_list, list_of_filenames, parent_directory = \"\")\n",
    "\n",
    "all_labels = feature_df[\"Label\"]"
   ]
  },
  {
   "cell_type": "markdown",
   "id": "83d18abb-6f9a-4b13-b965-0d745e311dab",
   "metadata": {},
   "source": [
    "## Dataframes that DO depend on folds"
   ]
  },
  {
   "cell_type": "code",
   "execution_count": 4,
   "id": "0a2e758e-9f50-4db2-80e2-ca091cb0e6da",
   "metadata": {},
   "outputs": [],
   "source": [
    "list_of_filenames = [\"Vectorization_Features.csv\"]\n",
    "\n",
    "    \n",
    "fold_dependant_feature_df = ts_helpers.import_and_concatenate_datasets(subject_list, list_of_filenames, parent_directory = \"\")"
   ]
  },
  {
   "cell_type": "markdown",
   "id": "a13c4ac3-9d48-4ab1-a76c-93168323ade0",
   "metadata": {},
   "source": [
    "# Experiments with Single Features"
   ]
  },
  {
   "cell_type": "code",
   "execution_count": 5,
   "id": "eafcd9c0-7e26-4dc1-8bca-4ce7b1df4bb0",
   "metadata": {},
   "outputs": [
    {
     "name": "stdout",
     "output_type": "stream",
     "text": [
      "There are 653 features in the main dataframe.\n"
     ]
    }
   ],
   "source": [
    "print(\"There are \"+str(len(feature_df.columns))+\" features in the main dataframe.\")"
   ]
  },
  {
   "cell_type": "code",
   "execution_count": 6,
   "id": "b91f048c-41a3-4423-a588-776234da857e",
   "metadata": {},
   "outputs": [
    {
     "name": "stdout",
     "output_type": "stream",
     "text": [
      "There now are 41 features in the main dataframe.\n"
     ]
    }
   ],
   "source": [
    "list_of_strings_in_column_name = [\"_Vectorization_Coordinate_\", \"L1\"]\n",
    "\n",
    "feature_df = helpers.remove_columns_with_str(feature_df, list_of_strings_in_column_name)\n",
    "\n",
    "print(\"There now are \"+str(len(feature_df.columns))+\" features in the main dataframe.\")"
   ]
  },
  {
   "cell_type": "markdown",
   "id": "cba80e2d-e1ea-453d-b974-883ac03fff08",
   "metadata": {},
   "source": [
    "# Cross Validation"
   ]
  },
  {
   "cell_type": "code",
   "execution_count": 7,
   "id": "20f87bc3-e2d9-4e9f-8b84-237c1b19b589",
   "metadata": {},
   "outputs": [],
   "source": [
    "train_indices, validation_indices, test_indices = helpers.load_folds(subject_list, parent_directory=\"\")"
   ]
  },
  {
   "cell_type": "markdown",
   "id": "0e19d74b-76b3-4908-bdf9-c4733a1c9ae6",
   "metadata": {},
   "source": [
    "## Features that do not depend on folds"
   ]
  },
  {
   "cell_type": "code",
   "execution_count": 8,
   "id": "9ce54a8e-a97a-4744-a908-c79c71cd2dd4",
   "metadata": {},
   "outputs": [],
   "source": [
    "train_features_dfs_all_folds, train_labels_all_folds = helpers.filter_dataframe_with_indices(feature_df, train_indices, label_list)\n",
    "validation_features_dfs_all_folds, validation_labels_all_folds = helpers.filter_dataframe_with_indices(feature_df, validation_indices, label_list)"
   ]
  },
  {
   "cell_type": "markdown",
   "id": "762a046c-c14d-4ce3-803b-6ea6b674cb41",
   "metadata": {},
   "source": [
    "## Fold-dependant Features"
   ]
  },
  {
   "cell_type": "code",
   "execution_count": 9,
   "id": "c95e0fe4-d9d8-45df-bdfd-8628e1b37740",
   "metadata": {},
   "outputs": [],
   "source": [
    "train_fold_dependant_features_dfs_all_folds = helpers.filter_fold_dependant_dataframe_with_indices(fold_dependant_feature_df, train_indices, label_list)\n",
    "validation_fold_dependant_features_dfs_all_folds = helpers.filter_fold_dependant_dataframe_with_indices(fold_dependant_feature_df, validation_indices, label_list)"
   ]
  },
  {
   "cell_type": "markdown",
   "id": "19fa5ea7-ed61-4a0c-86c7-58abaa35c331",
   "metadata": {},
   "source": [
    "## Reformat data"
   ]
  },
  {
   "cell_type": "code",
   "execution_count": 10,
   "id": "e3fe5e8e-f7eb-4532-976f-9b8c4cdc3004",
   "metadata": {},
   "outputs": [],
   "source": [
    "train_features_df_all_folds_all_features = helpers.combine_all_features(train_features_dfs_all_folds, train_fold_dependant_features_dfs_all_folds)\n",
    "validation_features_df_all_folds_all_features = helpers.combine_all_features(validation_features_dfs_all_folds, validation_fold_dependant_features_dfs_all_folds)"
   ]
  },
  {
   "cell_type": "code",
   "execution_count": 11,
   "id": "9bf2cc5b-770b-4ddc-835e-744e33435e75",
   "metadata": {},
   "outputs": [],
   "source": [
    "X_train, y_train, X_test, y_test = helpers.initialize_fold_dicts(train_features_df_all_folds_all_features, train_labels_all_folds, validation_features_df_all_folds_all_features, validation_labels_all_folds)"
   ]
  },
  {
   "cell_type": "markdown",
   "id": "9fd860d8-fef1-4f99-86d4-7bbc1db4f95a",
   "metadata": {},
   "source": [
    "## Random Forest"
   ]
  },
  {
   "cell_type": "code",
   "execution_count": 12,
   "id": "51a5995c-42e5-41c8-ad7a-a787e5e4029b",
   "metadata": {},
   "outputs": [
    {
     "name": "stderr",
     "output_type": "stream",
     "text": [
      "/Users/piabaronetzky/anaconda3/envs/time-delay-embeddings/lib/python3.10/site-packages/sklearn/utils/validation.py:623: FutureWarning: is_sparse is deprecated and will be removed in a future version. Check `isinstance(dtype, pd.SparseDtype)` instead.\n",
      "  if not hasattr(array, \"sparse\") and array.dtypes.apply(is_sparse).any():\n",
      "/Users/piabaronetzky/anaconda3/envs/time-delay-embeddings/lib/python3.10/site-packages/sklearn/utils/validation.py:623: FutureWarning: is_sparse is deprecated and will be removed in a future version. Check `isinstance(dtype, pd.SparseDtype)` instead.\n",
      "  if not hasattr(array, \"sparse\") and array.dtypes.apply(is_sparse).any():\n",
      "/Users/piabaronetzky/anaconda3/envs/time-delay-embeddings/lib/python3.10/site-packages/sklearn/utils/validation.py:623: FutureWarning: is_sparse is deprecated and will be removed in a future version. Check `isinstance(dtype, pd.SparseDtype)` instead.\n",
      "  if not hasattr(array, \"sparse\") and array.dtypes.apply(is_sparse).any():\n"
     ]
    },
    {
     "name": "stdout",
     "output_type": "stream",
     "text": [
      "Accuracy for fold 1 : 0.9916666666666667\n"
     ]
    },
    {
     "name": "stderr",
     "output_type": "stream",
     "text": [
      "/Users/piabaronetzky/anaconda3/envs/time-delay-embeddings/lib/python3.10/site-packages/sklearn/utils/validation.py:623: FutureWarning: is_sparse is deprecated and will be removed in a future version. Check `isinstance(dtype, pd.SparseDtype)` instead.\n",
      "  if not hasattr(array, \"sparse\") and array.dtypes.apply(is_sparse).any():\n",
      "/Users/piabaronetzky/anaconda3/envs/time-delay-embeddings/lib/python3.10/site-packages/sklearn/utils/validation.py:623: FutureWarning: is_sparse is deprecated and will be removed in a future version. Check `isinstance(dtype, pd.SparseDtype)` instead.\n",
      "  if not hasattr(array, \"sparse\") and array.dtypes.apply(is_sparse).any():\n"
     ]
    },
    {
     "name": "stdout",
     "output_type": "stream",
     "text": [
      "Accuracy for fold 2 : 0.95\n"
     ]
    },
    {
     "name": "stderr",
     "output_type": "stream",
     "text": [
      "/Users/piabaronetzky/anaconda3/envs/time-delay-embeddings/lib/python3.10/site-packages/sklearn/utils/validation.py:623: FutureWarning: is_sparse is deprecated and will be removed in a future version. Check `isinstance(dtype, pd.SparseDtype)` instead.\n",
      "  if not hasattr(array, \"sparse\") and array.dtypes.apply(is_sparse).any():\n",
      "/Users/piabaronetzky/anaconda3/envs/time-delay-embeddings/lib/python3.10/site-packages/sklearn/utils/validation.py:623: FutureWarning: is_sparse is deprecated and will be removed in a future version. Check `isinstance(dtype, pd.SparseDtype)` instead.\n",
      "  if not hasattr(array, \"sparse\") and array.dtypes.apply(is_sparse).any():\n"
     ]
    },
    {
     "name": "stdout",
     "output_type": "stream",
     "text": [
      "Accuracy for fold 3 : 0.95\n"
     ]
    },
    {
     "name": "stderr",
     "output_type": "stream",
     "text": [
      "/Users/piabaronetzky/anaconda3/envs/time-delay-embeddings/lib/python3.10/site-packages/sklearn/utils/validation.py:623: FutureWarning: is_sparse is deprecated and will be removed in a future version. Check `isinstance(dtype, pd.SparseDtype)` instead.\n",
      "  if not hasattr(array, \"sparse\") and array.dtypes.apply(is_sparse).any():\n",
      "/Users/piabaronetzky/anaconda3/envs/time-delay-embeddings/lib/python3.10/site-packages/sklearn/utils/validation.py:623: FutureWarning: is_sparse is deprecated and will be removed in a future version. Check `isinstance(dtype, pd.SparseDtype)` instead.\n",
      "  if not hasattr(array, \"sparse\") and array.dtypes.apply(is_sparse).any():\n"
     ]
    },
    {
     "name": "stdout",
     "output_type": "stream",
     "text": [
      "Accuracy for fold 4 : 0.9333333333333333\n",
      "Accuracy for fold 5 : 0.9636363636363636\n",
      "Average Accuracy: 0.9577272727272728\n"
     ]
    },
    {
     "name": "stderr",
     "output_type": "stream",
     "text": [
      "/Users/piabaronetzky/anaconda3/envs/time-delay-embeddings/lib/python3.10/site-packages/sklearn/utils/validation.py:623: FutureWarning: is_sparse is deprecated and will be removed in a future version. Check `isinstance(dtype, pd.SparseDtype)` instead.\n",
      "  if not hasattr(array, \"sparse\") and array.dtypes.apply(is_sparse).any():\n"
     ]
    }
   ],
   "source": [
    "helpers.train_rf_cross_validation(X_train, y_train, X_test, y_test)"
   ]
  },
  {
   "cell_type": "code",
   "execution_count": null,
   "id": "854b6126-f36b-41ee-a4b8-31bbff83c9fd",
   "metadata": {},
   "outputs": [],
   "source": []
  },
  {
   "cell_type": "code",
   "execution_count": null,
   "id": "107d08dc-31a6-4865-909f-b3a6b33c8e5c",
   "metadata": {},
   "outputs": [],
   "source": []
  }
 ],
 "metadata": {
  "kernelspec": {
   "display_name": "Python 3 (ipykernel)",
   "language": "python",
   "name": "python3"
  },
  "language_info": {
   "codemirror_mode": {
    "name": "ipython",
    "version": 3
   },
   "file_extension": ".py",
   "mimetype": "text/x-python",
   "name": "python",
   "nbconvert_exporter": "python",
   "pygments_lexer": "ipython3",
   "version": "3.10.12"
  }
 },
 "nbformat": 4,
 "nbformat_minor": 5
}
