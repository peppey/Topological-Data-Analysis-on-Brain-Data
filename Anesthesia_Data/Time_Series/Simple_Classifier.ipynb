{
 "cells": [
  {
   "cell_type": "code",
   "execution_count": 206,
   "id": "e9f3ffa4-2d95-4158-8ac6-92b145e05e0b",
   "metadata": {},
   "outputs": [],
   "source": [
    "import pandas as pd\n",
    "import numpy as np\n",
    "from sklearn.ensemble import RandomForestClassifier\n",
    "from sklearn.metrics import accuracy_score, confusion_matrix, precision_score, recall_score, ConfusionMatrixDisplay\n",
    "from sklearn.model_selection import RandomizedSearchCV\n",
    "from scipy.stats import randint\n",
    "from sklearn.utils import shuffle\n",
    "import xgboost as xgb\n",
    "import matplotlib.pyplot as plt"
   ]
  },
  {
   "cell_type": "markdown",
   "id": "d96ef8fb-0483-47c0-a098-4765de47b4f5",
   "metadata": {},
   "source": [
    "# Import and Concatenate Data"
   ]
  },
  {
   "cell_type": "code",
   "execution_count": 207,
   "id": "2f75c8ef-3e10-4015-97fc-3ca101ddcdc7",
   "metadata": {},
   "outputs": [],
   "source": [
    "# We assume there is an equal amount of the labels\n",
    "data_length = 370"
   ]
  },
  {
   "cell_type": "code",
   "execution_count": 208,
   "id": "5d8e6a03-ae8f-4d2b-8e94-32a95b8398c8",
   "metadata": {},
   "outputs": [],
   "source": [
    "feature_df = pd.DataFrame(index=range(data_length))\n",
    "\n",
    "for data_type in [\"EEG\", \"EMG\"]:\n",
    "    train_feature_df = pd.read_csv(\"Features/Train_\"+str(data_type)+\"_Topological_Summary_Statistics.csv\")\n",
    "    train_advanced_feature_df = pd.read_csv(\"Features/Train_\"+str(data_type)+\"_Advanced_Features.csv\")\n",
    "    train_statistical_features = pd.read_csv(\"Features/Train_\"+str(data_type)+\"_Statistical_Features.csv\")\n",
    "    train_wasserstein_features = pd.read_csv(\"Features/Train_\"+str(data_type)+\"_Wasserstein_Features.csv\")\n",
    "    #train_landscape_features = pd.read_csv(\"Features/Train_\"+str(data_type)+\"_Landscape_Features.csv\")\n",
    "    #train_bottleneck_features = pd.read_csv(\"Features/Train_\"+str(data_type)+\"_bottleneck_Features.csv\")\n",
    "    train_signature_features = pd.read_csv(\"Features/Train_\"+str(data_type)+\"_Signature_Statistics.csv\")\n",
    "    train_vectorization_features = pd.read_csv(\"Features/Train_\"+str(data_type)+\"_Vectorization_Features.csv\")\n",
    "\n",
    "\n",
    "    test_feature_df = pd.read_csv(\"Features/Test_\"+str(data_type)+\"_Topological_Summary_Statistics.csv\")\n",
    "    test_advanced_feature_df = pd.read_csv(\"Features/Test_\"+str(data_type)+\"_Advanced_Features.csv\")\n",
    "    test_statistical_features = pd.read_csv(\"Features/Test_\"+str(data_type)+\"_Statistical_Features.csv\")\n",
    "    test_wasserstein_features = pd.read_csv(\"Features/Test_\"+str(data_type)+\"_Wasserstein_Features.csv\")\n",
    "    #test_landscape_features = pd.read_csv(\"Features/Test_\"+str(data_type)+\"_Landscape_Features.csv\")\n",
    "    #test_bottleneck_features = pd.read_csv(\"Features/Test_\"+str(data_type)+\"_bottleneck_Features.csv\")\n",
    "    test_signature_features = pd.read_csv(\"Features/Test_\"+str(data_type)+\"_Signature_Statistics.csv\")\n",
    "    test_vectorization_features = pd.read_csv(\"Features/Test_\"+str(data_type)+\"_Vectorization_Features.csv\")\n",
    "\n",
    "    \n",
    "    # Concatenate train and test sets (and split again later) to not get a problem with indices\n",
    "    summary_statistics = pd.concat([train_feature_df, test_feature_df], ignore_index=True)\n",
    "    advanced_features = pd.concat([train_advanced_feature_df, test_advanced_feature_df], ignore_index=True)\n",
    "    statistical_features = pd.concat([train_statistical_features, test_statistical_features], ignore_index=True)\n",
    "    wasserstein_features =  pd.concat([train_wasserstein_features, test_wasserstein_features], ignore_index=True)\n",
    "    #landscape_features =  pd.concat([train_landscape_features, test_landscape_features], ignore_index=True)\n",
    "    #bottleneck_features =  pd.concat([train_bottleneck_features, test_bottleneck_features], ignore_index=True)\n",
    "    signature_features =  pd.concat([train_signature_features, test_signature_features], ignore_index=True)\n",
    "    vectorization_features =  pd.concat([train_vectorization_features, test_vectorization_features], ignore_index=True)\n",
    "\n",
    "    # Save labels for later\n",
    "    labels = summary_statistics[\"Label\"]\n",
    "\n",
    "    list_of_dataframes =  [summary_statistics, wasserstein_features, statistical_features, advanced_features, \\\n",
    "                           vectorization_features, signature_features]\n",
    "\n",
    "    for df in list_of_dataframes:\n",
    "        # We do not want the labels in the training data\n",
    "        df.drop(columns = [\"Label\"], inplace = True)\n",
    "        # All dataframes come with unnamed columns TODO\n",
    "        df.drop(df.columns[df.columns.str.contains('unnamed',case = False)], axis = 1, inplace = True)\n",
    "\n",
    "    # Choose one, several or all of the following dataframes\n",
    "    feature_df = feature_df.join(summary_statistics) # improves result slightly\n",
    "    feature_df = feature_df.join(statistical_features) # improves result slightly, but not with all random_states\n",
    "    feature_df = feature_df.join(wasserstein_features) # only improves result if advanced_features is not used\n",
    "    feature_df = feature_df.join(advanced_features) # improves result by a lot, also works well alone\n",
    "    #feature_df = feature_df.join(bottleneck_features) # good standalone accuracy\n",
    "    feature_df = feature_df.join(signature_features) # currently not a good result\n",
    "    feature_df = feature_df.join(vectorization_features) "
   ]
  },
  {
   "cell_type": "code",
   "execution_count": 209,
   "id": "caa3972e-ba2f-4b3c-ad3a-181bb16b747e",
   "metadata": {},
   "outputs": [],
   "source": [
    "# Save dataframe for data exploration\n",
    "feature_df.to_csv(\"Features/All_Features.csv\")"
   ]
  },
  {
   "cell_type": "markdown",
   "id": "6f333182-30ea-498e-9fe7-030de10a57e8",
   "metadata": {},
   "source": [
    "# Preprocess Data"
   ]
  },
  {
   "cell_type": "code",
   "execution_count": 210,
   "id": "50de761c-45d7-4f4f-ad84-4dc19e620761",
   "metadata": {},
   "outputs": [],
   "source": [
    "#TODO the whole splitting procedure has to be done differently"
   ]
  },
  {
   "cell_type": "code",
   "execution_count": 211,
   "id": "e0b70ae8-9494-4114-9f9c-cd786af04d65",
   "metadata": {},
   "outputs": [],
   "source": [
    "# Split data frame again (for each label)\n",
    "train_label_length = int(0.7*(data_length/5))\n",
    "train_data_length = train_label_length*5\n",
    "\n",
    "test_label_length = int(0.7*(data_length/5))+1\n",
    "test_data_length = test_label_length*5\n",
    "\n",
    "X_train = pd.DataFrame()\n",
    "y_train = []\n",
    "\n",
    "X_test = pd.DataFrame()\n",
    "y_test = []\n",
    "\n",
    "for label_idx in range(5):\n",
    "    X_train = pd.concat([X_train, feature_df[train_label_length*label_idx:train_label_length*(label_idx+1)]], ignore_index=True)\n",
    "    y_train.extend(labels[train_label_length*label_idx:train_label_length*(label_idx+1)])\n",
    "\n",
    "    X_test = pd.concat([X_test, feature_df[train_label_length+test_label_length*label_idx:train_label_length+test_label_length*(label_idx+1)]])\n",
    "    y_test.extend(labels[train_label_length+test_label_length*label_idx:train_label_length+test_label_length*(label_idx+1)])\n",
    "\n",
    "\n"
   ]
  },
  {
   "cell_type": "code",
   "execution_count": 212,
   "id": "92361a0a-2375-4530-acdd-d6b7ab1ca851",
   "metadata": {},
   "outputs": [],
   "source": [
    "# Random Forest"
   ]
  },
  {
   "cell_type": "code",
   "execution_count": 213,
   "id": "162ffa1c-43a9-45d1-943c-6402a541407d",
   "metadata": {},
   "outputs": [
    {
     "name": "stderr",
     "output_type": "stream",
     "text": [
      "/Users/piabaronetzky/anaconda3/envs/time-delay-embeddings/lib/python3.10/site-packages/sklearn/utils/validation.py:623: FutureWarning: is_sparse is deprecated and will be removed in a future version. Check `isinstance(dtype, pd.SparseDtype)` instead.\n",
      "  if not hasattr(array, \"sparse\") and array.dtypes.apply(is_sparse).any():\n"
     ]
    },
    {
     "data": {
      "text/plain": [
       "RandomForestClassifier(n_estimators=70, random_state=8)"
      ]
     },
     "execution_count": 213,
     "metadata": {},
     "output_type": "execute_result"
    }
   ],
   "source": [
    "rf = RandomForestClassifier(random_state=8, n_estimators = 70)\n",
    "rf.fit(X_train, y_train)"
   ]
  },
  {
   "cell_type": "code",
   "execution_count": 214,
   "id": "2ca125b1-38e9-40f1-9f6f-9cd3b009f97d",
   "metadata": {},
   "outputs": [
    {
     "name": "stderr",
     "output_type": "stream",
     "text": [
      "/Users/piabaronetzky/anaconda3/envs/time-delay-embeddings/lib/python3.10/site-packages/sklearn/utils/validation.py:623: FutureWarning: is_sparse is deprecated and will be removed in a future version. Check `isinstance(dtype, pd.SparseDtype)` instead.\n",
      "  if not hasattr(array, \"sparse\") and array.dtypes.apply(is_sparse).any():\n"
     ]
    }
   ],
   "source": [
    "y_pred = rf.predict(X_test)"
   ]
  },
  {
   "cell_type": "code",
   "execution_count": 215,
   "id": "51a5995c-42e5-41c8-ad7a-a787e5e4029b",
   "metadata": {},
   "outputs": [
    {
     "name": "stdout",
     "output_type": "stream",
     "text": [
      "Accuracy: 0.9615384615384616\n"
     ]
    }
   ],
   "source": [
    "accuracy = accuracy_score(y_pred, y_test)\n",
    "print(\"Accuracy:\", accuracy)"
   ]
  },
  {
   "cell_type": "code",
   "execution_count": 216,
   "id": "b5862f37-6a4b-496c-8c7a-fb51e538a48e",
   "metadata": {},
   "outputs": [
    {
     "name": "stderr",
     "output_type": "stream",
     "text": [
      "/var/folders/f_/tyg450s17m53dh3ylrjcmpqc0000gn/T/ipykernel_99179/3917715269.py:14: FutureWarning: Series.__getitem__ treating keys as positions is deprecated. In a future version, integer keys will always be treated as labels (consistent with DataFrame behavior). To access a value by position, use `ser.iloc[pos]`\n",
      "  forest_importances[feature_indices].plot.bar(yerr=std[feature_indices], ax=ax)\n"
     ]
    },
    {
     "data": {
      "image/png": "[encoded data removed]",
      "text/plain": [
       "<Figure size 640x480 with 1 Axes>"
      ]
     },
     "metadata": {},
     "output_type": "display_data"
    }
   ],
   "source": [
    "feature_indices = np.arange(0,20)\n",
    "#feature_indices = np.arange(20,40)\n",
    "#feature_indices = np.arange(40,60) \n",
    "#feature_indices = np.arange(60,80)\n",
    "#feature_indices = np.arange(80,100)\n",
    "\n",
    "\n",
    "\n",
    "importances = rf.feature_importances_\n",
    "std = np.std([tree.feature_importances_ for tree in rf.estimators_], axis=0)\n",
    "\n",
    "\n",
    "fig, ax = plt.subplots()\n",
    "forest_importances[feature_indices].plot.bar(yerr=std[feature_indices], ax=ax)\n",
    "ax.set_title(\"Feature importances using MDI\")\n",
    "ax.set_ylabel(\"Mean decrease in impurity\")\n",
    "fig.tight_layout()"
   ]
  },
  {
   "cell_type": "code",
   "execution_count": 217,
   "id": "34266245-ddc8-4ec7-9700-b53d318b10ee",
   "metadata": {},
   "outputs": [
    {
     "name": "stdout",
     "output_type": "stream",
     "text": [
      "Features with no feature importance: ['EEG_No_Points_Dim_0', 'EEG_BC_Vectorization_Dim_0Coord_2', 'EEG_BC_Vectorization_Dim_2Coord_1', 'EEG_SH_Vectorization_Dim_1Coord_1', 'EEG_SH_Vectorization_Dim_2Coord_1', 'EEG_PL_Vectorization_Dim_2Coord_1', 'EMG_Amplitude_Dim_0', 'EMG_Amplitude_Dim_1', 'EMG_Amplitude_Dim_2', 'EMG_Largest_Persistence_Dim_0', 'EMG_Largest_Persistence_Dim_2', 'EMG_Distance_to_wasserstein_Barycenter1', 'EMG_Distance_to_wasserstein_Barycenter2', 'EMG_Distance_to_wasserstein_Barycenter4', 'EMG_wasserstein_Distance_to_Origin_Diagram', 'EMG_L1_Norm_BCDim2', 'EMG_HK_Vectorization_Dim_0Coord_2', 'EMG_HK_Vectorization_Dim_1Coord_0', 'EMG_HK_Vectorization_Dim_1Coord_2', 'EMG_HK_Vectorization_Dim_2Coord_0', 'EMG_HK_Vectorization_Dim_2Coord_2', 'EMG_HK_Vectorization_Dim_2Coord_3', 'EMG_BC_Vectorization_Dim_1Coord_0', 'EMG_BC_Vectorization_Dim_1Coord_2', 'EMG_BC_Vectorization_Dim_1Coord_3', 'EMG_BC_Vectorization_Dim_2Coord_0', 'EMG_BC_Vectorization_Dim_2Coord_2', 'EMG_BC_Vectorization_Dim_2Coord_3', 'EMG_SH_Vectorization_Dim_1Coord_0', 'EMG_SH_Vectorization_Dim_1Coord_1', 'EMG_SH_Vectorization_Dim_1Coord_2', 'EMG_SH_Vectorization_Dim_1Coord_3', 'EMG_SH_Vectorization_Dim_2Coord_0', 'EMG_SH_Vectorization_Dim_2Coord_1', 'EMG_SH_Vectorization_Dim_2Coord_2', 'EMG_SH_Vectorization_Dim_2Coord_3', 'EMG_PL_Vectorization_Dim_1Coord_1', 'EMG_PL_Vectorization_Dim_1Coord_2', 'EMG_PL_Vectorization_Dim_1Coord_3', 'EMG_PL_Vectorization_Dim_2Coord_0', 'EMG_PL_Vectorization_Dim_2Coord_1']\n"
     ]
    }
   ],
   "source": [
    "forest_importances = pd.Series(importances, index=feature_df.columns)\n",
    "\n",
    "# Filter features that are not important and sometimes have a negative effect\n",
    "not_important = forest_importances[(forest_importances < 0.002) & (std > 0.001)].index.tolist()\n",
    "\n",
    "# Print or use the names of features with negative importance\n",
    "print(\"Features with no feature importance:\", not_important)"
   ]
  },
  {
   "cell_type": "code",
   "execution_count": 218,
   "id": "efee7864-0d96-45f7-9c13-263f38cd1083",
   "metadata": {},
   "outputs": [],
   "source": [
    "for feature in not_important:\n",
    "    feature_df.drop(columns = feature, inplace = True)"
   ]
  },
  {
   "cell_type": "code",
   "execution_count": 219,
   "id": "bf1038c6-797e-42ff-a46d-a04a8939b027",
   "metadata": {},
   "outputs": [],
   "source": [
    "# Split data frame again (for each label)\n",
    "train_label_length = int(0.7*(data_length/5))\n",
    "train_data_length = train_label_length*5\n",
    "\n",
    "test_label_length = int(0.7*(data_length/5))+1\n",
    "test_data_length = test_label_length*5\n",
    "\n",
    "X_train = pd.DataFrame()\n",
    "y_train = []\n",
    "\n",
    "X_test = pd.DataFrame()\n",
    "y_test = []\n",
    "\n",
    "for label_idx in range(5):\n",
    "    X_train = pd.concat([X_train, feature_df[train_label_length*label_idx:train_label_length*(label_idx+1)]], ignore_index=True)\n",
    "    y_train.extend(labels[train_label_length*label_idx:train_label_length*(label_idx+1)])\n",
    "\n",
    "    X_test = pd.concat([X_test, feature_df[train_label_length+test_label_length*label_idx:train_label_length+test_label_length*(label_idx+1)]])\n",
    "    y_test.extend(labels[train_label_length+test_label_length*label_idx:train_label_length+test_label_length*(label_idx+1)])\n",
    "\n",
    "\n"
   ]
  },
  {
   "cell_type": "code",
   "execution_count": 220,
   "id": "9f24c296-9987-47be-89cd-bb259534e93c",
   "metadata": {},
   "outputs": [
    {
     "name": "stderr",
     "output_type": "stream",
     "text": [
      "/Users/piabaronetzky/anaconda3/envs/time-delay-embeddings/lib/python3.10/site-packages/sklearn/utils/validation.py:623: FutureWarning: is_sparse is deprecated and will be removed in a future version. Check `isinstance(dtype, pd.SparseDtype)` instead.\n",
      "  if not hasattr(array, \"sparse\") and array.dtypes.apply(is_sparse).any():\n"
     ]
    },
    {
     "data": {
      "text/plain": [
       "RandomForestClassifier(n_estimators=70, random_state=8)"
      ]
     },
     "execution_count": 220,
     "metadata": {},
     "output_type": "execute_result"
    }
   ],
   "source": [
    "rf = RandomForestClassifier(random_state=8, n_estimators = 70)\n",
    "rf.fit(X_train, y_train)"
   ]
  },
  {
   "cell_type": "code",
   "execution_count": 221,
   "id": "36959286-7e85-4c56-9dbd-3e2ac499b654",
   "metadata": {},
   "outputs": [
    {
     "name": "stderr",
     "output_type": "stream",
     "text": [
      "/Users/piabaronetzky/anaconda3/envs/time-delay-embeddings/lib/python3.10/site-packages/sklearn/utils/validation.py:623: FutureWarning: is_sparse is deprecated and will be removed in a future version. Check `isinstance(dtype, pd.SparseDtype)` instead.\n",
      "  if not hasattr(array, \"sparse\") and array.dtypes.apply(is_sparse).any():\n"
     ]
    }
   ],
   "source": [
    "y_pred = rf.predict(X_test)"
   ]
  },
  {
   "cell_type": "code",
   "execution_count": 222,
   "id": "4d0622e7-8352-4025-82f3-7ef9cb73942c",
   "metadata": {},
   "outputs": [
    {
     "name": "stdout",
     "output_type": "stream",
     "text": [
      "Accuracy: 0.9769230769230769\n"
     ]
    }
   ],
   "source": [
    "accuracy = accuracy_score(y_pred, y_test)\n",
    "print(\"Accuracy:\", accuracy)"
   ]
  },
  {
   "cell_type": "code",
   "execution_count": 29,
   "id": "de44189a-4db0-4435-8349-8071543da532",
   "metadata": {},
   "outputs": [],
   "source": [
    "# XGBoost"
   ]
  },
  {
   "cell_type": "code",
   "execution_count": 12,
   "id": "60c6b905-b675-47f3-8640-6f203068e61f",
   "metadata": {},
   "outputs": [
    {
     "name": "stdout",
     "output_type": "stream",
     "text": [
      "Accuracy: 0.9192307692307692\n"
     ]
    }
   ],
   "source": [
    "model = xgb.XGBClassifier(eta = 0.3, max_depth = 8, alpha = 0.3, grow_policy = \"lossguide\", max_leaves = 100)\n",
    "\n",
    "#Training the model on the training data\n",
    "model.fit(X_train, y_train)\n",
    "\n",
    "#Making predictions on the test set\n",
    "predictions = model.predict(X_test)\n",
    "\n",
    "#Calculating accuracy\n",
    "accuracy = accuracy_score(y_test, predictions)\n",
    "\n",
    "print(\"Accuracy:\", accuracy)"
   ]
  },
  {
   "cell_type": "code",
   "execution_count": null,
   "id": "98a695a5-0eb7-4614-95f2-efc24faa0dbf",
   "metadata": {},
   "outputs": [],
   "source": []
  },
  {
   "cell_type": "code",
   "execution_count": null,
   "id": "01445c6a-2388-4f1a-ba42-3e503921c26e",
   "metadata": {},
   "outputs": [],
   "source": []
  }
 ],
 "metadata": {
  "kernelspec": {
   "display_name": "Python 3 (ipykernel)",
   "language": "python",
   "name": "python3"
  },
  "language_info": {
   "codemirror_mode": {
    "name": "ipython",
    "version": 3
   },
   "file_extension": ".py",
   "mimetype": "text/x-python",
   "name": "python",
   "nbconvert_exporter": "python",
   "pygments_lexer": "ipython3",
   "version": "3.10.12"
  }
 },
 "nbformat": 4,
 "nbformat_minor": 5
}
