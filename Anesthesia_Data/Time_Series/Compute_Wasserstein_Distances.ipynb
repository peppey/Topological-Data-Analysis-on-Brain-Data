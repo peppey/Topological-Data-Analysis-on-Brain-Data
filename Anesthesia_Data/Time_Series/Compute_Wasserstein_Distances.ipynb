{
 "cells": [
  {
   "cell_type": "markdown",
   "id": "760be327-e4b9-4808-a960-b4d7a426e22e",
   "metadata": {},
   "source": [
    "This file can either compute the Wasserstein, Bottleneck or Landscape distances to the \n",
    "Wasserstein, Bottleneck or the Landscape barycenters of each class.\n",
    "It can also compute the respective distances to the origin diagram."
   ]
  },
  {
   "cell_type": "code",
   "execution_count": 1,
   "id": "0a81b9c9-a2e9-46c2-8ae8-4a5f02dd0571",
   "metadata": {},
   "outputs": [],
   "source": [
    "import numpy as np\n",
    "import pyedflib\n",
    "import statistics\n",
    "import plotly.graph_objects as go\n",
    "import pandas as pd\n",
    "from gtda.time_series import SingleTakensEmbedding\n",
    "from gtda.homology import VietorisRipsPersistence\n",
    "from gtda.diagrams import PersistenceEntropy, Amplitude, NumberOfPoints, ComplexPolynomial, PersistenceLandscape, HeatKernel, Silhouette, BettiCurve, PairwiseDistance, ForgetDimension\n",
    "import random\n",
    "from sklearn import preprocessing"
   ]
  },
  {
   "cell_type": "markdown",
   "id": "a6c5789b-3037-4003-b297-f304256b4831",
   "metadata": {},
   "source": [
    "# Choose parameters"
   ]
  },
  {
   "cell_type": "code",
   "execution_count": 77,
   "id": "930fc545-93a5-413c-89c9-e7c6b9e5542d",
   "metadata": {},
   "outputs": [],
   "source": [
    "# Choose if you want to look at EEG or EMG data\n",
    "\n",
    "data_type = \"EEG\" # Does not have an effect yet, will be added later when processing anesthesia data\n",
    "data_type = \"EMG\""
   ]
  },
  {
   "cell_type": "code",
   "execution_count": 78,
   "id": "858bf09d-c57b-4e40-9d71-ee25d2b39dee",
   "metadata": {},
   "outputs": [],
   "source": [
    "# choose individuum\n",
    "subject = \"m300\""
   ]
  },
  {
   "cell_type": "code",
   "execution_count": 79,
   "id": "3e2a0a0b-70e1-458e-bc66-32d88014bc76",
   "metadata": {},
   "outputs": [],
   "source": [
    "# Set the distance metric here\n",
    "\n",
    "metric = \"wasserstein\"\n",
    "#metric = \"landscape\"\n",
    "#metric = \"bottleneck\""
   ]
  },
  {
   "cell_type": "markdown",
   "id": "5e477091-acd6-4c72-be90-fcdda79d795a",
   "metadata": {},
   "source": [
    "# Load Data"
   ]
  },
  {
   "cell_type": "code",
   "execution_count": 80,
   "id": "0e8fa954-7644-4d6a-a8f5-46084db65610",
   "metadata": {},
   "outputs": [],
   "source": [
    "label_list = [0, 1, 2, 3, 4]"
   ]
  },
  {
   "cell_type": "code",
   "execution_count": 81,
   "id": "85fd9907-0ecf-4827-bd57-da10d9c03cfa",
   "metadata": {},
   "outputs": [],
   "source": [
    "# Load persistence diagrams\n",
    "\n",
    "train_persistence_diagrams = {} # dictionary with labels as keys, persistence diagrams of the respective classes as values\n",
    "test_persistence_diagrams = {} # dictionary with labels as keys, persistence diagrams of the respective classes as values\n",
    "\n",
    "\n",
    "for label in label_list:\n",
    "    train_persistence_diagrams[label] = np.load(\"Embeddings_and_Persistence_Diagrams/\"+str(subject)+\"/Train/\"+str(data_type)+\"/PD\"+str(label)+\".npy\", allow_pickle=True)\n",
    "    test_persistence_diagrams[label] = np.load(\"Embeddings_and_Persistence_Diagrams/\"+str(subject)+\"/Test/\"+str(data_type)+\"/PD\"+str(label)+\".npy\", allow_pickle=True)"
   ]
  },
  {
   "cell_type": "code",
   "execution_count": 87,
   "id": "ce5a4148-cfb1-45cd-afb0-b62a6d335990",
   "metadata": {},
   "outputs": [],
   "source": [
    "# Load embeddings\n",
    "\n",
    "train_embeddings = {} # dictionary with labels as keys, persistence diagrams of the respective classes as values\n",
    "test_embeddings = {} # dictionary with labels as keys, persistence diagrams of the respective classes as values\n",
    "\n",
    "\n",
    "for label in label_list:\n",
    "    train_embeddings[label] = np.load(\"Embeddings_and_Persistence_Diagrams/\"+str(subject)+\"/Train/\"+str(data_type)+\"/Embeddings_\"+str(label)+\"_Dim5.npy\", allow_pickle=True)\n",
    "    test_embeddings[label] = np.load(\"Embeddings_and_Persistence_Diagrams/\"+str(subject)+\"/Test/\"+str(data_type)+\"/Embeddings_\"+str(label)+\"_Dim5.npy\", allow_pickle=True)"
   ]
  },
  {
   "cell_type": "code",
   "execution_count": 88,
   "id": "52f79852-56d6-4497-b28e-4a5f63bbf01f",
   "metadata": {},
   "outputs": [],
   "source": [
    "# Load shortened persistence diagrams\n",
    "\n",
    "train_shortened_diagrams = {} # dictionary with labels as keys, persistence diagrams of the respective classes as values\n",
    "test_shortened_diagrams = {} # dictionary with labels as keys, persistence diagrams of the respective classes as values\n",
    "\n",
    "\n",
    "for label in label_list:\n",
    "    train_shortened_diagrams[label] = np.load(\"Embeddings_and_Persistence_Diagrams/\"+str(subject)+\"/Train/\"+str(data_type)+\"/Shortened_Diagrams\"+str(label)+\".npy\", allow_pickle=True)\n",
    "    test_shortened_diagrams[label] = np.load(\"Embeddings_and_Persistence_Diagrams/\"+str(subject)+\"/Test/\"+str(data_type)+\"/Shortened_Diagrams\"+str(label)+\".npy\", allow_pickle=True)"
   ]
  },
  {
   "cell_type": "code",
   "execution_count": 89,
   "id": "0f6d97d3-3846-4a56-a78e-e4d8b6ec3d44",
   "metadata": {},
   "outputs": [],
   "source": [
    "# Load removed indices\n",
    "\n",
    "removed_train_indices = {} # dictionary with labels as keys, indices of the respective classes as values\n",
    "removed_test_indices = {} # dictionary with labels as keys, indices of the respective classes as values\n",
    "\n",
    "\n",
    "for label in label_list:\n",
    "    removed_train_indices[label] = np.load(\"Embeddings_and_Persistence_Diagrams/\"+str(subject)+\"/Train/\"+str(data_type)+\"/Removed_Indices\"+str(label)+\".npy\", allow_pickle=True)\n",
    "    removed_test_indices[label] = np.load(\"Embeddings_and_Persistence_Diagrams/\"+str(subject)+\"/Test/\"+str(data_type)+\"/Removed_Indices\"+str(label)+\".npy\", allow_pickle=True)"
   ]
  },
  {
   "cell_type": "markdown",
   "id": "cfb824a7-a2ba-44a2-b860-891bb2a702e2",
   "metadata": {},
   "source": [
    "# Computing the distance to the Wasserstein Barycenter"
   ]
  },
  {
   "cell_type": "markdown",
   "id": "42d656de-ce09-4239-83ec-345675529e21",
   "metadata": {},
   "source": [
    "## Wasserstein Barycenter"
   ]
  },
  {
   "cell_type": "markdown",
   "id": "93fd3f18-ecdd-4d6d-a6fe-38be70222f6a",
   "metadata": {},
   "source": [
    "The Wasserstein Barycenter is the most representative persistence diagram in a set of diagrams (of one class), so the one with the lowest overall (Wasserstein) distance to all other diagrams. Because it takes long to compute, we will for now only use a part of the data as training data. For now, these training samples can also be in the test set of the simple classifier in the end."
   ]
  },
  {
   "cell_type": "code",
   "execution_count": 11,
   "id": "a9da68b4-a267-4535-8ef9-111883c012ff",
   "metadata": {},
   "outputs": [],
   "source": [
    "# We will look at 0-, 1- and 2-dimensional holes\n",
    "homology_dimensions = [0, 1, 2]\n",
    "\n",
    "# We will use a Vietoris Rips filtrations\n",
    "persistence = VietorisRipsPersistence(\n",
    "    homology_dimensions=homology_dimensions, n_jobs=10\n",
    ")"
   ]
  },
  {
   "cell_type": "markdown",
   "id": "866a088b-5e7a-49f3-b02d-ba2939f6e89a",
   "metadata": {},
   "source": [
    "### Computing the Wasserstein Barycenter for all labels"
   ]
  },
  {
   "cell_type": "code",
   "execution_count": 12,
   "id": "bc491740-6162-4ed9-a391-2d1bdacc1c3b",
   "metadata": {},
   "outputs": [],
   "source": [
    "def find_barycenter(shortened_diagrams, train_data_amount, label):\n",
    "    # Only use parts of the training data to speed things up\n",
    "    random_diagrams = random.sample(train_shortened_diagrams[label], train_data_amount)\n",
    "\n",
    "    # Compute the pairwise Wasserstein distances\n",
    "    pairwise_wasserstein_distances = PairwiseDistance(metric=metric).fit_transform(random_diagrams)\n",
    "\n",
    "    # For each hole, calculate the sum of distances to all other holes\n",
    "    sum_distances = [sum(dist) for dist in pairwise_wasserstein_distances]\n",
    "\n",
    "    # Find the index of the Wasserstein barycenter\n",
    "    most_representative_index = np.argmin(sum_distances)\n",
    "\n",
    "    # Unshortened Wasserstein Barycenter for our label\n",
    "    most_representative_diagram = persistence.fit_transform_plot([train_embeddings[label][most_representative_index]])\n",
    "\n",
    "    return most_representative_diagram\n",
    "    "
   ]
  },
  {
   "cell_type": "code",
   "execution_count": null,
   "id": "b76269d7-848d-49eb-9d9f-a16c7eb7586c",
   "metadata": {
    "scrolled": true
   },
   "outputs": [],
   "source": [
    "# Finding the most representative diagrams for all labels\n",
    "\n",
    "representative_diagrams = {} # barycenters for all labels\n",
    "\n",
    "representative_diagrams[0] = find_barycenter(train_shortened_diagrams, len(train_shortened_diagrams[0]), 0)\n",
    "representative_diagrams[1] = find_barycenter(train_shortened_diagrams, len(train_shortened_diagrams[1]), 1)\n",
    "representative_diagrams[2] = find_barycenter(train_shortened_diagrams, len(train_shortened_diagrams[2]), 2)\n",
    "representative_diagrams[3] = find_barycenter(train_shortened_diagrams, len(train_shortened_diagrams[3]), 3)\n",
    "representative_diagrams[4] = find_barycenter(train_shortened_diagrams, len(train_shortened_diagrams[4]), 4)"
   ]
  },
  {
   "cell_type": "markdown",
   "id": "485d4f05-e5d8-4995-a41e-3afbd76fcfaf",
   "metadata": {},
   "source": [
    "### Computing the distances of the test diagrams to the most representative diagram of each class"
   ]
  },
  {
   "cell_type": "code",
   "execution_count": null,
   "id": "192c4db4-50cb-4ab1-b19d-d46c66bd172d",
   "metadata": {},
   "outputs": [],
   "source": [
    "# Shorten barycenters to make them comparable to the other shortened diagrams\n",
    "\n",
    "shortened_barycenters = {}\n",
    "\n",
    "for label in label_list:\n",
    "    shortened_barycenters[label], _ = cut_diagrams([representative_diagrams[label][0]], no_holes_per_dimension)\n"
   ]
  },
  {
   "cell_type": "code",
   "execution_count": null,
   "id": "07e82691-e65c-4079-8d93-16d6d4f10512",
   "metadata": {},
   "outputs": [],
   "source": [
    "# TRAIN DATA \n",
    "\n",
    "train_distances_to_barycenter_0 = {}\n",
    "train_distances_to_barycenter_1 = {}\n",
    "train_distances_to_barycenter_2 = {}\n",
    "train_distances_to_barycenter_3 = {}\n",
    "train_distances_to_barycenter_4 = {}\n",
    "\n",
    "\n",
    "for label in label_list:\n",
    "\n",
    "    # Initialize lists of distances\n",
    "    train_distances_to_barycenter_0[label] = []\n",
    "    train_distances_to_barycenter_1[label] = []\n",
    "    train_distances_to_barycenter_2[label] = []\n",
    "    train_distances_to_barycenter_3[label] = []\n",
    "    train_distances_to_barycenter_4[label] = []\n",
    "\n",
    "    \n",
    "    # Loop through all train diagrams of our label\n",
    "    for diagram in train_shortened_diagrams[label]:\n",
    "        # Barycenter of class 0\n",
    "        dist = PairwiseDistance(metric=metric).fit_transform([diagram, shortened_barycenters[0][0]])\n",
    "        train_distances_to_barycenter_0[label].append(max(dist[0]))\n",
    "\n",
    "        # Barycenter of class 1\n",
    "        dist = PairwiseDistance(metric=metric).fit_transform([diagram, shortened_barycenters[1][0]])\n",
    "        train_distances_to_barycenter_1[label].append(max(dist[0]))\n",
    "\n",
    "        # Barycenter of class 2\n",
    "        dist = PairwiseDistance(metric=metric).fit_transform([diagram, shortened_barycenters[2][0]])\n",
    "        train_distances_to_barycenter_2[label].append(max(dist[0]))\n",
    "\n",
    "        # Barycenter of class 3\n",
    "        dist = PairwiseDistance(metric=metric).fit_transform([diagram, shortened_barycenters[3][0]])\n",
    "        train_distances_to_barycenter_3[label].append(max(dist[0]))\n",
    "\n",
    "        # Barycenter of class 4\n",
    "        dist = PairwiseDistance(metric=metric).fit_transform([diagram, shortened_barycenters[3][0]])\n",
    "        train_distances_to_barycenter_4[label].append(max(dist[0]))"
   ]
  },
  {
   "cell_type": "code",
   "execution_count": null,
   "id": "607ce87c-2c8e-4157-8e65-2814699e091d",
   "metadata": {},
   "outputs": [],
   "source": [
    "# TEST DATA \n",
    "\n",
    "test_distances_to_barycenter_0 = {}\n",
    "test_distances_to_barycenter_1 = {}\n",
    "test_distances_to_barycenter_2 = {}\n",
    "test_distances_to_barycenter_3 = {}\n",
    "test_distances_to_barycenter_4 = {}\n",
    "\n",
    "\n",
    "for label in label_list:\n",
    "\n",
    "    # Initialize lists of distances\n",
    "    test_distances_to_barycenter_0[label] = []\n",
    "    test_distances_to_barycenter_1[label] = []\n",
    "    test_distances_to_barycenter_2[label] = []\n",
    "    test_distances_to_barycenter_3[label] = []\n",
    "    test_distances_to_barycenter_4[label] = []\n",
    "\n",
    "    \n",
    "    # Loop through all test diagrams of our label\n",
    "    for diagram in test_shortened_diagrams[label]:\n",
    "        # Barycenter of class 0\n",
    "        dist = PairwiseDistance(metric=metric).fit_transform([diagram, shortened_barycenters[0][0]])\n",
    "        test_distances_to_barycenter_0[label].append(max(dist[0]))\n",
    "\n",
    "        # Barycenter of class 1\n",
    "        dist = PairwiseDistance(metric=metric).fit_transform([diagram, shortened_barycenters[1][0]])\n",
    "        test_distances_to_barycenter_1[label].append(max(dist[0]))\n",
    "\n",
    "        # Barycenter of class 2\n",
    "        dist = PairwiseDistance(metric=metric).fit_transform([diagram, shortened_barycenters[2][0]])\n",
    "        test_distances_to_barycenter_2[label].append(max(dist[0]))\n",
    "\n",
    "        # Barycenter of class 3\n",
    "        dist = PairwiseDistance(metric=metric).fit_transform([diagram, shortened_barycenters[3][0]])\n",
    "        test_distances_to_barycenter_3[label].append(max(dist[0]))\n",
    "\n",
    "        # Barycenter of class 4\n",
    "        dist = PairwiseDistance(metric=metric).fit_transform([diagram, shortened_barycenters[3][0]])\n",
    "        test_distances_to_barycenter_4[label].append(max(dist[0]))"
   ]
  },
  {
   "cell_type": "markdown",
   "id": "ac1ec0cf-3fac-49d2-bfa0-73ed64519ef3",
   "metadata": {},
   "source": [
    "## Insert invalid distance for diagrams that were removed before"
   ]
  },
  {
   "cell_type": "code",
   "execution_count": null,
   "id": "6b8d7474-4e0b-412b-9893-8c556728a4f8",
   "metadata": {},
   "outputs": [],
   "source": [
    "# Add the removed diagrams again, with a distance that is higher than the maximal distance out of the other diagrams\n",
    "# At a later step, the \"outlier\" diagrams should be labelled as outliers beforehand\n",
    "\n",
    "invalid_distance = -1\n",
    "\n",
    "for label in label_list:\n",
    "    \n",
    "    # Train data\n",
    "    for idx in removed_train_indices[label]: \n",
    "        train_distances_to_barycenter_0[label].insert(idx, invalid_distance)\n",
    "        train_distances_to_barycenter_1[label].insert(idx, invalid_distance)\n",
    "        train_distances_to_barycenter_2[label].insert(idx, invalid_distance)\n",
    "        train_distances_to_barycenter_3[label].insert(idx, invalid_distance)\n",
    "        train_distances_to_barycenter_4[label].insert(idx, invalid_distance)\n",
    "\n",
    "\n",
    "    # Test data\n",
    "    for idx in removed_test_indices[label]: \n",
    "        test_distances_to_barycenter_0[label].insert(idx, invalid_distance)\n",
    "        test_distances_to_barycenter_1[label].insert(idx, invalid_distance)\n",
    "        test_distances_to_barycenter_2[label].insert(idx, invalid_distance)\n",
    "        test_distances_to_barycenter_3[label].insert(idx, invalid_distance)\n",
    "        test_distances_to_barycenter_4[label].insert(idx, invalid_distance)"
   ]
  },
  {
   "cell_type": "markdown",
   "id": "258b30cc-8b0d-4b96-847a-554b0333cf0c",
   "metadata": {},
   "source": [
    "# Compute the distance to the origin diagram "
   ]
  },
  {
   "cell_type": "markdown",
   "id": "2013fb4b-b605-4ddc-9903-b7efe76eb52c",
   "metadata": {},
   "source": [
    "The origin diagram just has points on the diagonal."
   ]
  },
  {
   "cell_type": "markdown",
   "id": "34749fae-ae95-4037-9eb1-48f87cbca3c2",
   "metadata": {},
   "source": [
    "Later in the classification, adding this feature does not improve (nor worsen) the accuracy when using the distances to the barycenters as the only other features, but using the distance to the origin diagram as a standalone feature still leads to an accuracy of 95%."
   ]
  },
  {
   "cell_type": "code",
   "execution_count": null,
   "id": "cf6d6017-f559-4938-8d1b-7aff746ecd8a",
   "metadata": {},
   "outputs": [],
   "source": [
    "# TRAIN DATA \n",
    "\n",
    "# Dictionary with labels as keys and distances of train diagrams of each label to origin diagram as values\n",
    "train_distances_to_origin_diagram = {}\n",
    "\n",
    "for label in label_list:\n",
    "\n",
    "    # Initialize distances of train diagrams to origin diagram\n",
    "    train_distances_to_origin_diagram[label] = []\n",
    "    \n",
    "    # Loop through all train diagrams of our label\n",
    "    for diagram in train_shortened_diagrams[label]:\n",
    "        \n",
    "        # origin diagram fitting to diagram\n",
    "        origin_diagram = [np.array([hole[0], hole[0], hole[2]]) for hole in diagram]\n",
    "        dist = PairwiseDistance(metric=metric).fit_transform([diagram, origin_diagram])\n",
    "        train_distances_to_origin_diagram[label].append(max(dist[0]))\n",
    "\n",
    "    for idx in removed_train_indices[label]: # Train data\n",
    "        train_distances_to_origin_diagram[label].insert(idx, invalid_distance)\n",
    "\n",
    "\n",
    "\n",
    "# TRAIN DATA \n",
    "\n",
    "# Dictionary with labels as keys and distances of train diagrams of each label to origin diagram as values\n",
    "test_distances_to_origin_diagram = {}\n",
    "\n",
    "for label in label_list:\n",
    "\n",
    "    # Initialize distances of train diagrams to origin diagram\n",
    "    test_distances_to_origin_diagram[label] = []\n",
    "    \n",
    "    # Loop through all train diagrams of our label\n",
    "    for diagram in test_shortened_diagrams[label]:\n",
    "        \n",
    "        # origin diagram fitting to diagram\n",
    "        origin_diagram = [np.array([hole[0], hole[0], hole[2]]) for hole in diagram]\n",
    "        dist = PairwiseDistance(metric=metric).fit_transform([diagram, origin_diagram])\n",
    "        test_distances_to_origin_diagram[label].append(max(dist[0]))\n",
    "\n",
    "    for idx in removed_test_indices[label]: # Train data\n",
    "        test_distances_to_origin_diagram[label].insert(idx, invalid_distance)\n"
   ]
  },
  {
   "cell_type": "code",
   "execution_count": null,
   "id": "4852803a-29c7-4118-b39c-c12b2d116e2c",
   "metadata": {},
   "outputs": [],
   "source": [
    "# Save training data features\n",
    "# TODO add metric as global variable\n",
    "\n",
    "def create_feature_df(subject, data_type, distances_to_barycenter_0, distances_to_barycenter_1, distances_to_barycenter_2, distances_to_barycenter_3, distances_to_barycenter_4, distances_to_origin, label, train):\n",
    "    \"\"\"\n",
    "    Create DataFrame for each label from features\n",
    "\n",
    "    Parameters:\n",
    "    - distances_to_barycenter_1 (list): distances to Barycenter of class 1\n",
    "    - distances_to_barycenter_3 (list): distances to Barycenter of class 3\n",
    "    - distances_to_barycenter_5 (list): distances to Barycenter of class 5\n",
    "    - distances_to_barycenter_7 (list): distances to Barycenter of class 7\n",
    "    - label (int): Label for which we want to create a dataframe. 1, 3, 5 or 7.\n",
    "\n",
    "    Returns:\n",
    "    - Feature DataFrame (DataFrame)\n",
    "    \"\"\"\n",
    "\n",
    "    feature_df = pd.DataFrame()\n",
    "    feature_df[str(data_type)+\"_Distance_to_\"+str(metric)+\"_Barycenter0\"] = distances_to_barycenter_0[label]\n",
    "    feature_df[str(data_type)+\"_Distance_to_\"+str(metric)+\"_Barycenter1\"] = distances_to_barycenter_1[label]\n",
    "    feature_df[str(data_type)+\"_Distance_to_\"+str(metric)+\"_Barycenter2\"] = distances_to_barycenter_2[label]\n",
    "    feature_df[str(data_type)+\"_Distance_to_\"+str(metric)+\"_Barycenter3\"] = distances_to_barycenter_3[label]\n",
    "    feature_df[str(data_type)+\"_Distance_to_\"+str(metric)+\"_Barycenter4\"] = distances_to_barycenter_4[label]\n",
    "\n",
    "    feature_df[str(data_type)+\"_\"+str(metric)+\"_Distance_to_Origin_Diagram\"] = distances_to_origin[label]\n",
    "\n",
    "    feature_df[\"Label\"] = label\n",
    "\n",
    "    # Subject\n",
    "    feature_df[\"Subject\"] = subject\n",
    "\n",
    "    feature_df[\"Train\"] = train\n",
    "\n",
    "\n",
    "\n",
    "    return feature_df\n"
   ]
  },
  {
   "cell_type": "code",
   "execution_count": null,
   "id": "9f3630ab-054a-4bbd-a465-14e53ea4a723",
   "metadata": {},
   "outputs": [],
   "source": [
    "# Create dataframes from features\n",
    "train_feature_dataframes = {}\n",
    "test_feature_dataframes = {}\n",
    "\n",
    "\n",
    "for label in label_list:\n",
    "    train_feature_dataframes[label] = create_feature_df(subject, data_type, train_distances_to_barycenter_0, train_distances_to_barycenter_1, \\\n",
    "                                                        train_distances_to_barycenter_2, train_distances_to_barycenter_3, \\\n",
    "                                                        train_distances_to_barycenter_4, train_distances_to_origin_diagram, label, True) \n",
    "    \n",
    "    test_feature_dataframes[label] = create_feature_df(subject, data_type, test_distances_to_barycenter_0, test_distances_to_barycenter_1, \\\n",
    "                                                        test_distances_to_barycenter_2, test_distances_to_barycenter_3, \\\n",
    "                                                        test_distances_to_barycenter_4, test_distances_to_origin_diagram, label, False) "
   ]
  },
  {
   "cell_type": "code",
   "execution_count": null,
   "id": "0a338fd0-4932-4697-b608-de17c8a010ee",
   "metadata": {},
   "outputs": [],
   "source": [
    "# Save concatenated dataframes \n",
    "\n",
    "# Train dataframe\n",
    "train_feature_df = pd.concat([train_feature_dataframes[0], train_feature_dataframes[1], train_feature_dataframes[2], \\\n",
    "train_feature_dataframes[3], train_feature_dataframes[4]])\n",
    "\n",
    "train_feature_df.to_csv(\"Features/\"+str(subject)+\"/Train/\"+str(data_type)+\"/\"+str(metric)+\"_Features.csv\")\n",
    "\n",
    "\n",
    "# Test dataframe\n",
    "test_feature_df = pd.concat([test_feature_dataframes[0], test_feature_dataframes[1], test_feature_dataframes[2], \\\n",
    "                             test_feature_dataframes[3], test_feature_dataframes[4]], ignore_index=True)\n",
    "\n",
    "test_feature_df.to_csv(\"Features/\"+str(subject)+\"/Test/\"+str(data_type)+\"/\"+str(metric)+\"_Features.csv\")"
   ]
  },
  {
   "cell_type": "markdown",
   "id": "9711bdd5-e431-4b05-8a29-d4b5b2a21c29",
   "metadata": {},
   "source": [
    "## Save barycenters"
   ]
  },
  {
   "cell_type": "code",
   "execution_count": null,
   "id": "176b6226-b524-46c8-9e46-2f58fe4a8e56",
   "metadata": {},
   "outputs": [],
   "source": [
    "for label in label_list:\n",
    "    np.save('Embeddings_and_Persistence_Diagrams/'+str(subject)+'/Train/'+str(data_type)+'/Removed_Indices'+str(label)+'.npy', np.array(removed_train_indices[label], dtype=object), allow_pickle=True)\n",
    "    np.save('Embeddings_and_Persistence_Diagrams/'+str(subject)+'/Test/'+str(data_type)+'/Removed_Indices'+str(label)+'.npy', np.array(removed_test_indices[label], dtype=object), allow_pickle=True)\n",
    "    "
   ]
  },
  {
   "cell_type": "code",
   "execution_count": null,
   "id": "bd3ad28d-094b-48cf-9df6-d149de189a40",
   "metadata": {},
   "outputs": [],
   "source": [
    "for label in label_list:\n",
    "    np.save('Embeddings_and_Persistence_Diagrams/'+str(subject)+'/Train/'+str(data_type)+'/Shortened_Diagrams'+str(label)+'.npy', np.array(train_shortened_diagrams[label], dtype=object), allow_pickle=True)\n",
    "    np.save('Embeddings_and_Persistence_Diagrams/'+str(subject)+'/Test/'+str(data_type)+'/Shortened_Diagrams'+str(label)+'.npy', np.array(test_shortened_diagrams[label], dtype=object), allow_pickle=True)"
   ]
  },
  {
   "cell_type": "code",
   "execution_count": null,
   "id": "48092721-ec79-4fe5-a835-bed495cef366",
   "metadata": {},
   "outputs": [],
   "source": [
    "# Save shortened barycenters for data exploration\n",
    "for label in label_list:\n",
    "    np.save('Embeddings_and_Persistence_Diagrams/'+str(data_type)+'_'+str(metric)+'_Barycenter_class_'+str(label)+'.npy', np.array(shortened_barycenters[label], dtype=object), allow_pickle=True)"
   ]
  }
 ],
 "metadata": {
  "kernelspec": {
   "display_name": "Python 3 (ipykernel)",
   "language": "python",
   "name": "python3"
  },
  "language_info": {
   "codemirror_mode": {
    "name": "ipython",
    "version": 3
   },
   "file_extension": ".py",
   "mimetype": "text/x-python",
   "name": "python",
   "nbconvert_exporter": "python",
   "pygments_lexer": "ipython3",
   "version": "3.10.12"
  }
 },
 "nbformat": 4,
 "nbformat_minor": 5
}
