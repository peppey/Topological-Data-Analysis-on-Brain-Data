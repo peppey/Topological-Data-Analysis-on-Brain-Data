{
 "cells": [
  {
   "cell_type": "markdown",
   "id": "760be327-e4b9-4808-a960-b4d7a426e22e",
   "metadata": {},
   "source": [
    "This file can either compute the Wasserstein, Bottleneck or Landscape distances to the \n",
    "Wasserstein, Bottleneck or the Landscape barycenters of each class.\n",
    "It can also compute the respective distances to the origin diagram."
   ]
  },
  {
   "cell_type": "code",
   "execution_count": 138,
   "id": "0a81b9c9-a2e9-46c2-8ae8-4a5f02dd0571",
   "metadata": {},
   "outputs": [],
   "source": [
    "import numpy as np\n",
    "import pyedflib\n",
    "import statistics\n",
    "import plotly.graph_objects as go\n",
    "import pandas as pd\n",
    "from gtda.time_series import SingleTakensEmbedding\n",
    "from gtda.homology import VietorisRipsPersistence\n",
    "from gtda.diagrams import PersistenceEntropy, Amplitude, NumberOfPoints, ComplexPolynomial, PersistenceLandscape, HeatKernel, Silhouette, BettiCurve, PairwiseDistance, ForgetDimension\n",
    "import random\n",
    "from sklearn import preprocessing"
   ]
  },
  {
   "cell_type": "markdown",
   "id": "a6c5789b-3037-4003-b297-f304256b4831",
   "metadata": {},
   "source": [
    "# Choose parameters"
   ]
  },
  {
   "cell_type": "code",
   "execution_count": 139,
   "id": "930fc545-93a5-413c-89c9-e7c6b9e5542d",
   "metadata": {},
   "outputs": [],
   "source": [
    "# Choose if you want to look at EEG or EMG data\n",
    "\n",
    "#data_type = \"EEG\" # Does not have an effect yet, will be added later when processing anesthesia data\n",
    "data_type = \"EMG\""
   ]
  },
  {
   "cell_type": "code",
   "execution_count": 140,
   "id": "3e2a0a0b-70e1-458e-bc66-32d88014bc76",
   "metadata": {},
   "outputs": [],
   "source": [
    "# Set the distance metric here\n",
    "\n",
    "metric = \"wasserstein\"\n",
    "#metric = \"landscape\"\n",
    "#metric = \"bottleneck\""
   ]
  },
  {
   "cell_type": "markdown",
   "id": "5e477091-acd6-4c72-be90-fcdda79d795a",
   "metadata": {},
   "source": [
    "# Load Data"
   ]
  },
  {
   "cell_type": "code",
   "execution_count": 141,
   "id": "0e8fa954-7644-4d6a-a8f5-46084db65610",
   "metadata": {},
   "outputs": [],
   "source": [
    "label_list = [0, 1, 2, 3, 4]"
   ]
  },
  {
   "cell_type": "code",
   "execution_count": 142,
   "id": "85fd9907-0ecf-4827-bd57-da10d9c03cfa",
   "metadata": {},
   "outputs": [],
   "source": [
    "# Load persistence diagrams\n",
    "\n",
    "train_persistence_diagrams = {} # dictionary with labels as keys, persistence diagrams of the respective classes as values\n",
    "test_persistence_diagrams = {} # dictionary with labels as keys, persistence diagrams of the respective classes as values\n",
    "\n",
    "\n",
    "for label in label_list:\n",
    "    train_persistence_diagrams[label] = np.load(\"Embeddings_and_Persistence_Diagrams/Train_\"+str(data_type)+\"_PD\"+str(label)+\".npy\", allow_pickle=True)\n",
    "    test_persistence_diagrams[label] = np.load(\"Embeddings_and_Persistence_Diagrams/Test_\"+str(data_type)+\"_PD\"+str(label)+\".npy\", allow_pickle=True)\n"
   ]
  },
  {
   "cell_type": "code",
   "execution_count": 143,
   "id": "ce5a4148-cfb1-45cd-afb0-b62a6d335990",
   "metadata": {},
   "outputs": [],
   "source": [
    "# Load embeddings\n",
    "\n",
    "train_embeddings = {} # dictionary with labels as keys, persistence diagrams of the respective classes as values\n",
    "test_embeddings = {} # dictionary with labels as keys, persistence diagrams of the respective classes as values\n",
    "\n",
    "\n",
    "for label in label_list:\n",
    "    train_embeddings[label] = np.load(\"Embeddings_and_Persistence_Diagrams/Train_\"+str(data_type)+\"_Embeddings_\"+str(label)+\"_Dim5.npy\", allow_pickle=True)\n",
    "    test_embeddings[label] = np.load(\"Embeddings_and_Persistence_Diagrams/Test_\"+str(data_type)+\"_Embeddings_\"+str(label)+\"_Dim5.npy\", allow_pickle=True)"
   ]
  },
  {
   "cell_type": "markdown",
   "id": "cfb824a7-a2ba-44a2-b860-891bb2a702e2",
   "metadata": {},
   "source": [
    "# Computing the distance to the Wasserstein Barycenter"
   ]
  },
  {
   "cell_type": "markdown",
   "id": "6ccb05e8-6ed6-470d-a9ef-4492cfbdc41b",
   "metadata": {},
   "source": [
    "## Cutting of noise"
   ]
  },
  {
   "cell_type": "markdown",
   "id": "9934b636-ee39-4783-b83f-f1b77e5b807d",
   "metadata": {},
   "source": [
    "For the next analyses, we will need to compare persistence diagrams (pairwise). Giotto TDA needs all diagrams to have the same length for this (to have the same amount of holes). We will therefore cut off some \"noise\" (holes with low persistence) such that all persistence diagrams have the same length."
   ]
  },
  {
   "cell_type": "code",
   "execution_count": 144,
   "id": "aa029647-3f7c-4413-96ce-f2cb0fd36808",
   "metadata": {},
   "outputs": [],
   "source": [
    "# Set number of holes of each dimension that are supposed to be kept\n",
    "if data_type == \"EEG\":\n",
    "    no_holes_per_dimension = [63, 37, 2] \n",
    "elif data_type == \"EMG\":\n",
    "    no_holes_per_dimension = [15, 5, 1] \n"
   ]
  },
  {
   "cell_type": "code",
   "execution_count": 145,
   "id": "7a64359c-396d-4af2-ac4a-caeeee33e31c",
   "metadata": {},
   "outputs": [],
   "source": [
    "def cut_diagrams(persistence_diagrams, no_holes_per_dimension):\n",
    "    \"\"\"    Cuts diagrams to the dimensions no_holes_per_dimension and removes diagrams smaller than that.\n",
    "\n",
    "    Parameters:\n",
    "    - persistence_diagrams (list of lists): list of persistence diagrams\n",
    "    - no_holes_per_dimension (list): maximal dimension the persistence diagrams should have, e.g.\n",
    "    [120, 70, 10] for 120 holes of dimension 0, 70 of dimension 1 and 10 of dimension 2\n",
    "\n",
    "    Returns:\n",
    "    Tuple of two lists:\n",
    "    - shortened diagrams\n",
    "    - indices of diagrams that were to small and were removed from the list of shortened diagrams\n",
    "    \"\"\"\n",
    "        \n",
    "    shortened_diagrams = [] # list of diagrams in which non-signicant holes were cut off\n",
    "    removed_indices = [] # List of indices of the diagrams that are smaller than no_holes_per_dimension and will not be considered\n",
    "\n",
    "    for diagram_idx, diagram in enumerate(persistence_diagrams): \n",
    "        \n",
    "        most_significant_holes_per_diagram = [] # Holes that are not noise\n",
    "        should_be_appended = True # Boolean if the diagram index will be added to removed index (False) or not (True)\n",
    "        holes = {} # Dictionary which will save all holes (values) of each dimension (keys) for each diagram\n",
    "        \n",
    "        for hole_dimension, number_of_holes in zip(range(3), no_holes_per_dimension):\n",
    "            \n",
    "            # the third entry of each point (hole) in a diagram indicates its dimensionality\n",
    "            holes[hole_dimension] = diagram[np.where(diagram[:, 2] == hole_dimension)[0]]\n",
    "\n",
    "            # If the number of holes of this dimension that are supposed to be kept is larger than the number of holes of the diagram\n",
    "            if number_of_holes > len(holes[hole_dimension]):\n",
    "                print(\"Diagram \" + str(diagram_idx) + \" is shorter than the shortened diagrams, and was removed.\")\n",
    "                print(\"It has \" + str(len(holes[hole_dimension])) + \" holes of dimension \" + str(hole_dimension))\n",
    "                should_be_appended = False \n",
    "                removed_indices.append(diagram_idx) # Should be sepa rated according to dimension? or not?\n",
    "                \n",
    "            # The first and second entries of each hole indicate its birth and death, the difference is the persistence\n",
    "            # We only want to keep as the as many holes for each dimension as we set no_holes_per_dimension to be\n",
    "            large_persistence_indices = np.argsort(holes[hole_dimension][:, 0] - holes[hole_dimension][:, 1])[-number_of_holes:]\n",
    "            \n",
    "            # For each dimension, getting the holes with the above indices (the holes with the largest persistence)\n",
    "            significant_holes_with_hole_dimension = holes[hole_dimension][large_persistence_indices, :]\n",
    "            most_significant_holes_per_diagram.extend(significant_holes_with_hole_dimension)\n",
    "\n",
    "        if should_be_appended:\n",
    "            shortened_diagrams.append(most_significant_holes_per_diagram)\n",
    "\n",
    "    return shortened_diagrams, list(set(removed_indices))"
   ]
  },
  {
   "cell_type": "code",
   "execution_count": 146,
   "id": "e53cf49d-b3a5-4f63-986f-b7ab0f544628",
   "metadata": {},
   "outputs": [
    {
     "name": "stdout",
     "output_type": "stream",
     "text": [
      "Diagram 29 is shorter than the shortened diagrams, and was removed.\n",
      "It has 4 holes of dimension 1\n",
      "Diagram 11 is shorter than the shortened diagrams, and was removed.\n",
      "It has 3 holes of dimension 1\n",
      "Diagram 3 is shorter than the shortened diagrams, and was removed.\n",
      "It has 4 holes of dimension 1\n"
     ]
    }
   ],
   "source": [
    "# Label 1\n",
    "train_shortened_diagrams = {}\n",
    "test_shortened_diagrams = {}\n",
    "\n",
    "removed_train_indices = {}\n",
    "removed_test_indices = {}\n",
    "\n",
    "for label in label_list:\n",
    "    train_shortened_diagrams[label], removed_train_indices[label] = cut_diagrams(train_persistence_diagrams[label], no_holes_per_dimension)\n",
    "    test_shortened_diagrams[label], removed_test_indices[label] = cut_diagrams(test_persistence_diagrams[label], no_holes_per_dimension)\n",
    "\n",
    "    # Remove embeddings of diagrams that were removed \n",
    "    train_embeddings[label] =  np.delete(train_embeddings[label], removed_train_indices[label], 0)\n",
    "    test_embeddings[label] =  np.delete(test_embeddings[label], removed_test_indices[label], 0)"
   ]
  },
  {
   "cell_type": "markdown",
   "id": "42d656de-ce09-4239-83ec-345675529e21",
   "metadata": {},
   "source": [
    "## Wasserstein Barycenter"
   ]
  },
  {
   "cell_type": "markdown",
   "id": "93fd3f18-ecdd-4d6d-a6fe-38be70222f6a",
   "metadata": {},
   "source": [
    "The Wasserstein Barycenter is the most representative persistence diagram in a set of diagrams (of one class), so the one with the lowest overall (Wasserstein) distance to all other diagrams. Because it takes long to compute, we will for now only use a part of the data as training data. For now, these training samples can also be in the test set of the simple classifier in the end."
   ]
  },
  {
   "cell_type": "code",
   "execution_count": 147,
   "id": "a9da68b4-a267-4535-8ef9-111883c012ff",
   "metadata": {},
   "outputs": [],
   "source": [
    "# We will look at 0-, 1- and 2-dimensional holes\n",
    "homology_dimensions = [0, 1, 2]\n",
    "\n",
    "# We will use a Vietoris Rips filtrations\n",
    "persistence = VietorisRipsPersistence(\n",
    "    homology_dimensions=homology_dimensions, n_jobs=10\n",
    ")"
   ]
  },
  {
   "cell_type": "markdown",
   "id": "866a088b-5e7a-49f3-b02d-ba2939f6e89a",
   "metadata": {},
   "source": [
    "### Computing the Wasserstein Barycenter for all labels"
   ]
  },
  {
   "cell_type": "code",
   "execution_count": 148,
   "id": "bc491740-6162-4ed9-a391-2d1bdacc1c3b",
   "metadata": {},
   "outputs": [],
   "source": [
    "def find_barycenter(shortened_diagrams, train_data_amount, label):\n",
    "    # Only use parts of the training data to speed things up\n",
    "    random_diagrams = random.sample(train_shortened_diagrams[label], train_data_amount)\n",
    "\n",
    "    # Compute the pairwise Wasserstein distances\n",
    "    pairwise_wasserstein_distances = PairwiseDistance(metric=metric).fit_transform(random_diagrams)\n",
    "\n",
    "    # For each hole, calculate the sum of distances to all other holes\n",
    "    sum_distances = [sum(dist) for dist in pairwise_wasserstein_distances]\n",
    "\n",
    "    # Find the index of the Wasserstein barycenter\n",
    "    most_representative_index = np.argmin(sum_distances)\n",
    "\n",
    "    # Unshortened Wasserstein Barycenter for our label\n",
    "    most_representative_diagram = persistence.fit_transform_plot([train_embeddings[label][most_representative_index]])\n",
    "\n",
    "    return most_representative_diagram\n",
    "    "
   ]
  },
  {
   "cell_type": "code",
   "execution_count": 149,
   "id": "b76269d7-848d-49eb-9d9f-a16c7eb7586c",
   "metadata": {},
   "outputs": [
    {
     "data": {
      "application/vnd.plotly.v1+json": {
       "config": {
        "plotlyServerURL": "https://plot.ly"
       },
       "data": [
        {
         "hoverinfo": "none",
         "line": {
          "color": "black",
          "dash": "dash",
          "width": 1
         },
         "mode": "lines",
         "showlegend": false,
         "type": "scatter",
         "x": [
          -0.0002828427031636238,
          0.014424977861344813
         ],
         "y": [
          -0.0002828427031636238,
          0.014424977861344813
         ]
        },
        {
         "hoverinfo": "text",
         "hovertext": [
          "(0.0, 0.009999999776482582), multiplicity: 27",
          "(0.0, 0.009999999776482582), multiplicity: 27",
          "(0.0, 0.009999999776482582), multiplicity: 27",
          "(0.0, 0.009999999776482582), multiplicity: 27",
          "(0.0, 0.009999999776482582), multiplicity: 27",
          "(0.0, 0.009999999776482582), multiplicity: 27",
          "(0.0, 0.009999999776482582), multiplicity: 27",
          "(0.0, 0.009999999776482582), multiplicity: 27",
          "(0.0, 0.009999999776482582), multiplicity: 27",
          "(0.0, 0.009999999776482582), multiplicity: 27",
          "(0.0, 0.009999999776482582), multiplicity: 27",
          "(0.0, 0.009999999776482582), multiplicity: 27",
          "(0.0, 0.009999999776482582), multiplicity: 27",
          "(0.0, 0.009999999776482582), multiplicity: 27",
          "(0.0, 0.009999999776482582), multiplicity: 27",
          "(0.0, 0.009999999776482582), multiplicity: 27",
          "(0.0, 0.009999999776482582), multiplicity: 27",
          "(0.0, 0.009999999776482582), multiplicity: 27",
          "(0.0, 0.009999999776482582), multiplicity: 27",
          "(0.0, 0.009999999776482582), multiplicity: 27",
          "(0.0, 0.009999999776482582), multiplicity: 27",
          "(0.0, 0.009999999776482582), multiplicity: 27",
          "(0.0, 0.009999999776482582), multiplicity: 27",
          "(0.0, 0.009999999776482582), multiplicity: 27",
          "(0.0, 0.009999999776482582), multiplicity: 27",
          "(0.0, 0.009999999776482582), multiplicity: 27",
          "(0.0, 0.009999999776482582), multiplicity: 27",
          "(0.0, 0.01414213515818119)"
         ],
         "mode": "markers",
         "name": "H0",
         "type": "scatter",
         "x": [
          0,
          0,
          0,
          0,
          0,
          0,
          0,
          0,
          0,
          0,
          0,
          0,
          0,
          0,
          0,
          0,
          0,
          0,
          0,
          0,
          0,
          0,
          0,
          0,
          0,
          0,
          0,
          0
         ],
         "y": [
          0.009999999776482582,
          0.009999999776482582,
          0.009999999776482582,
          0.009999999776482582,
          0.009999999776482582,
          0.009999999776482582,
          0.009999999776482582,
          0.009999999776482582,
          0.009999999776482582,
          0.009999999776482582,
          0.009999999776482582,
          0.009999999776482582,
          0.009999999776482582,
          0.009999999776482582,
          0.009999999776482582,
          0.009999999776482582,
          0.009999999776482582,
          0.009999999776482582,
          0.009999999776482582,
          0.009999999776482582,
          0.009999999776482582,
          0.009999999776482582,
          0.009999999776482582,
          0.009999999776482582,
          0.009999999776482582,
          0.009999999776482582,
          0.009999999776482582,
          0.01414213515818119
         ]
        },
        {
         "hoverinfo": "text",
         "hovertext": [
          "(0.009999999776482582, 0.01414213515818119), multiplicity: 12",
          "(0.009999999776482582, 0.01414213515818119), multiplicity: 12",
          "(0.009999999776482582, 0.01414213515818119), multiplicity: 12",
          "(0.009999999776482582, 0.01414213515818119), multiplicity: 12",
          "(0.009999999776482582, 0.01414213515818119), multiplicity: 12",
          "(0.009999999776482582, 0.01414213515818119), multiplicity: 12",
          "(0.009999999776482582, 0.01414213515818119), multiplicity: 12",
          "(0.009999999776482582, 0.01414213515818119), multiplicity: 12",
          "(0.009999999776482582, 0.01414213515818119), multiplicity: 12",
          "(0.009999999776482582, 0.01414213515818119), multiplicity: 12",
          "(0.009999999776482582, 0.01414213515818119), multiplicity: 12",
          "(0.009999999776482582, 0.01414213515818119), multiplicity: 12"
         ],
         "mode": "markers",
         "name": "H1",
         "type": "scatter",
         "x": [
          0.009999999776482582,
          0.009999999776482582,
          0.009999999776482582,
          0.009999999776482582,
          0.009999999776482582,
          0.009999999776482582,
          0.009999999776482582,
          0.009999999776482582,
          0.009999999776482582,
          0.009999999776482582,
          0.009999999776482582,
          0.009999999776482582
         ],
         "y": [
          0.01414213515818119,
          0.01414213515818119,
          0.01414213515818119,
          0.01414213515818119,
          0.01414213515818119,
          0.01414213515818119,
          0.01414213515818119,
          0.01414213515818119,
          0.01414213515818119,
          0.01414213515818119,
          0.01414213515818119,
          0.01414213515818119
         ]
        },
        {
         "hoverinfo": "text",
         "hovertext": [],
         "mode": "markers",
         "name": "H2",
         "type": "scatter",
         "x": [],
         "y": []
        }
       ],
       "layout": {
        "height": 500,
        "plot_bgcolor": "white",
        "template": {
         "data": {
          "bar": [
           {
            "error_x": {
             "color": "#2a3f5f"
            },
            "error_y": {
             "color": "#2a3f5f"
            },
            "marker": {
             "line": {
              "color": "#E5ECF6",
              "width": 0.5
             },
             "pattern": {
              "fillmode": "overlay",
              "size": 10,
              "solidity": 0.2
             }
            },
            "type": "bar"
           }
          ],
          "barpolar": [
           {
            "marker": {
             "line": {
              "color": "#E5ECF6",
              "width": 0.5
             },
             "pattern": {
              "fillmode": "overlay",
              "size": 10,
              "solidity": 0.2
             }
            },
            "type": "barpolar"
           }
          ],
          "carpet": [
           {
            "aaxis": {
             "endlinecolor": "#2a3f5f",
             "gridcolor": "white",
             "linecolor": "white",
             "minorgridcolor": "white",
             "startlinecolor": "#2a3f5f"
            },
            "baxis": {
             "endlinecolor": "#2a3f5f",
             "gridcolor": "white",
             "linecolor": "white",
             "minorgridcolor": "white",
             "startlinecolor": "#2a3f5f"
            },
            "type": "carpet"
           }
          ],
          "choropleth": [
           {
            "colorbar": {
             "outlinewidth": 0,
             "ticks": ""
            },
            "type": "choropleth"
           }
          ],
          "contour": [
           {
            "colorbar": {
             "outlinewidth": 0,
             "ticks": ""
            },
            "colorscale": [
             [
              0,
              "#0d0887"
             ],
             [
              0.1111111111111111,
              "#46039f"
             ],
             [
              0.2222222222222222,
              "#7201a8"
             ],
             [
              0.3333333333333333,
              "#9c179e"
             ],
             [
              0.4444444444444444,
              "#bd3786"
             ],
             [
              0.5555555555555556,
              "#d8576b"
             ],
             [
              0.6666666666666666,
              "#ed7953"
             ],
             [
              0.7777777777777778,
              "#fb9f3a"
             ],
             [
              0.8888888888888888,
              "#fdca26"
             ],
             [
              1,
              "#f0f921"
             ]
            ],
            "type": "contour"
           }
          ],
          "contourcarpet": [
           {
            "colorbar": {
             "outlinewidth": 0,
             "ticks": ""
            },
            "type": "contourcarpet"
           }
          ],
          "heatmap": [
           {
            "colorbar": {
             "outlinewidth": 0,
             "ticks": ""
            },
            "colorscale": [
             [
              0,
              "#0d0887"
             ],
             [
              0.1111111111111111,
              "#46039f"
             ],
             [
              0.2222222222222222,
              "#7201a8"
             ],
             [
              0.3333333333333333,
              "#9c179e"
             ],
             [
              0.4444444444444444,
              "#bd3786"
             ],
             [
              0.5555555555555556,
              "#d8576b"
             ],
             [
              0.6666666666666666,
              "#ed7953"
             ],
             [
              0.7777777777777778,
              "#fb9f3a"
             ],
             [
              0.8888888888888888,
              "#fdca26"
             ],
             [
              1,
              "#f0f921"
             ]
            ],
            "type": "heatmap"
           }
          ],
          "heatmapgl": [
           {
            "colorbar": {
             "outlinewidth": 0,
             "ticks": ""
            },
            "colorscale": [
             [
              0,
              "#0d0887"
             ],
             [
              0.1111111111111111,
              "#46039f"
             ],
             [
              0.2222222222222222,
              "#7201a8"
             ],
             [
              0.3333333333333333,
              "#9c179e"
             ],
             [
              0.4444444444444444,
              "#bd3786"
             ],
             [
              0.5555555555555556,
              "#d8576b"
             ],
             [
              0.6666666666666666,
              "#ed7953"
             ],
             [
              0.7777777777777778,
              "#fb9f3a"
             ],
             [
              0.8888888888888888,
              "#fdca26"
             ],
             [
              1,
              "#f0f921"
             ]
            ],
            "type": "heatmapgl"
           }
          ],
          "histogram": [
           {
            "marker": {
             "pattern": {
              "fillmode": "overlay",
              "size": 10,
              "solidity": 0.2
             }
            },
            "type": "histogram"
           }
          ],
          "histogram2d": [
           {
            "colorbar": {
             "outlinewidth": 0,
             "ticks": ""
            },
            "colorscale": [
             [
              0,
              "#0d0887"
             ],
             [
              0.1111111111111111,
              "#46039f"
             ],
             [
              0.2222222222222222,
              "#7201a8"
             ],
             [
              0.3333333333333333,
              "#9c179e"
             ],
             [
              0.4444444444444444,
              "#bd3786"
             ],
             [
              0.5555555555555556,
              "#d8576b"
             ],
             [
              0.6666666666666666,
              "#ed7953"
             ],
             [
              0.7777777777777778,
              "#fb9f3a"
             ],
             [
              0.8888888888888888,
              "#fdca26"
             ],
             [
              1,
              "#f0f921"
             ]
            ],
            "type": "histogram2d"
           }
          ],
          "histogram2dcontour": [
           {
            "colorbar": {
             "outlinewidth": 0,
             "ticks": ""
            },
            "colorscale": [
             [
              0,
              "#0d0887"
             ],
             [
              0.1111111111111111,
              "#46039f"
             ],
             [
              0.2222222222222222,
              "#7201a8"
             ],
             [
              0.3333333333333333,
              "#9c179e"
             ],
             [
              0.4444444444444444,
              "#bd3786"
             ],
             [
              0.5555555555555556,
              "#d8576b"
             ],
             [
              0.6666666666666666,
              "#ed7953"
             ],
             [
              0.7777777777777778,
              "#fb9f3a"
             ],
             [
              0.8888888888888888,
              "#fdca26"
             ],
             [
              1,
              "#f0f921"
             ]
            ],
            "type": "histogram2dcontour"
           }
          ],
          "mesh3d": [
           {
            "colorbar": {
             "outlinewidth": 0,
             "ticks": ""
            },
            "type": "mesh3d"
           }
          ],
          "parcoords": [
           {
            "line": {
             "colorbar": {
              "outlinewidth": 0,
              "ticks": ""
             }
            },
            "type": "parcoords"
           }
          ],
          "pie": [
           {
            "automargin": true,
            "type": "pie"
           }
          ],
          "scatter": [
           {
            "fillpattern": {
             "fillmode": "overlay",
             "size": 10,
             "solidity": 0.2
            },
            "type": "scatter"
           }
          ],
          "scatter3d": [
           {
            "line": {
             "colorbar": {
              "outlinewidth": 0,
              "ticks": ""
             }
            },
            "marker": {
             "colorbar": {
              "outlinewidth": 0,
              "ticks": ""
             }
            },
            "type": "scatter3d"
           }
          ],
          "scattercarpet": [
           {
            "marker": {
             "colorbar": {
              "outlinewidth": 0,
              "ticks": ""
             }
            },
            "type": "scattercarpet"
           }
          ],
          "scattergeo": [
           {
            "marker": {
             "colorbar": {
              "outlinewidth": 0,
              "ticks": ""
             }
            },
            "type": "scattergeo"
           }
          ],
          "scattergl": [
           {
            "marker": {
             "colorbar": {
              "outlinewidth": 0,
              "ticks": ""
             }
            },
            "type": "scattergl"
           }
          ],
          "scattermapbox": [
           {
            "marker": {
             "colorbar": {
              "outlinewidth": 0,
              "ticks": ""
             }
            },
            "type": "scattermapbox"
           }
          ],
          "scatterpolar": [
           {
            "marker": {
             "colorbar": {
              "outlinewidth": 0,
              "ticks": ""
             }
            },
            "type": "scatterpolar"
           }
          ],
          "scatterpolargl": [
           {
            "marker": {
             "colorbar": {
              "outlinewidth": 0,
              "ticks": ""
             }
            },
            "type": "scatterpolargl"
           }
          ],
          "scatterternary": [
           {
            "marker": {
             "colorbar": {
              "outlinewidth": 0,
              "ticks": ""
             }
            },
            "type": "scatterternary"
           }
          ],
          "surface": [
           {
            "colorbar": {
             "outlinewidth": 0,
             "ticks": ""
            },
            "colorscale": [
             [
              0,
              "#0d0887"
             ],
             [
              0.1111111111111111,
              "#46039f"
             ],
             [
              0.2222222222222222,
              "#7201a8"
             ],
             [
              0.3333333333333333,
              "#9c179e"
             ],
             [
              0.4444444444444444,
              "#bd3786"
             ],
             [
              0.5555555555555556,
              "#d8576b"
             ],
             [
              0.6666666666666666,
              "#ed7953"
             ],
             [
              0.7777777777777778,
              "#fb9f3a"
             ],
             [
              0.8888888888888888,
              "#fdca26"
             ],
             [
              1,
              "#f0f921"
             ]
            ],
            "type": "surface"
           }
          ],
          "table": [
           {
            "cells": {
             "fill": {
              "color": "#EBF0F8"
             },
             "line": {
              "color": "white"
             }
            },
            "header": {
             "fill": {
              "color": "#C8D4E3"
             },
             "line": {
              "color": "white"
             }
            },
            "type": "table"
           }
          ]
         },
         "layout": {
          "annotationdefaults": {
           "arrowcolor": "#2a3f5f",
           "arrowhead": 0,
           "arrowwidth": 1
          },
          "autotypenumbers": "strict",
          "coloraxis": {
           "colorbar": {
            "outlinewidth": 0,
            "ticks": ""
           }
          },
          "colorscale": {
           "diverging": [
            [
             0,
             "#8e0152"
            ],
            [
             0.1,
             "#c51b7d"
            ],
            [
             0.2,
             "#de77ae"
            ],
            [
             0.3,
             "#f1b6da"
            ],
            [
             0.4,
             "#fde0ef"
            ],
            [
             0.5,
             "#f7f7f7"
            ],
            [
             0.6,
             "#e6f5d0"
            ],
            [
             0.7,
             "#b8e186"
            ],
            [
             0.8,
             "#7fbc41"
            ],
            [
             0.9,
             "#4d9221"
            ],
            [
             1,
             "#276419"
            ]
           ],
           "sequential": [
            [
             0,
             "#0d0887"
            ],
            [
             0.1111111111111111,
             "#46039f"
            ],
            [
             0.2222222222222222,
             "#7201a8"
            ],
            [
             0.3333333333333333,
             "#9c179e"
            ],
            [
             0.4444444444444444,
             "#bd3786"
            ],
            [
             0.5555555555555556,
             "#d8576b"
            ],
            [
             0.6666666666666666,
             "#ed7953"
            ],
            [
             0.7777777777777778,
             "#fb9f3a"
            ],
            [
             0.8888888888888888,
             "#fdca26"
            ],
            [
             1,
             "#f0f921"
            ]
           ],
           "sequentialminus": [
            [
             0,
             "#0d0887"
            ],
            [
             0.1111111111111111,
             "#46039f"
            ],
            [
             0.2222222222222222,
             "#7201a8"
            ],
            [
             0.3333333333333333,
             "#9c179e"
            ],
            [
             0.4444444444444444,
             "#bd3786"
            ],
            [
             0.5555555555555556,
             "#d8576b"
            ],
            [
             0.6666666666666666,
             "#ed7953"
            ],
            [
             0.7777777777777778,
             "#fb9f3a"
            ],
            [
             0.8888888888888888,
             "#fdca26"
            ],
            [
             1,
             "#f0f921"
            ]
           ]
          },
          "colorway": [
           "#636efa",
           "#EF553B",
           "#00cc96",
           "#ab63fa",
           "#FFA15A",
           "#19d3f3",
           "#FF6692",
           "#B6E880",
           "#FF97FF",
           "#FECB52"
          ],
          "font": {
           "color": "#2a3f5f"
          },
          "geo": {
           "bgcolor": "white",
           "lakecolor": "white",
           "landcolor": "#E5ECF6",
           "showlakes": true,
           "showland": true,
           "subunitcolor": "white"
          },
          "hoverlabel": {
           "align": "left"
          },
          "hovermode": "closest",
          "mapbox": {
           "style": "light"
          },
          "paper_bgcolor": "white",
          "plot_bgcolor": "#E5ECF6",
          "polar": {
           "angularaxis": {
            "gridcolor": "white",
            "linecolor": "white",
            "ticks": ""
           },
           "bgcolor": "#E5ECF6",
           "radialaxis": {
            "gridcolor": "white",
            "linecolor": "white",
            "ticks": ""
           }
          },
          "scene": {
           "xaxis": {
            "backgroundcolor": "#E5ECF6",
            "gridcolor": "white",
            "gridwidth": 2,
            "linecolor": "white",
            "showbackground": true,
            "ticks": "",
            "zerolinecolor": "white"
           },
           "yaxis": {
            "backgroundcolor": "#E5ECF6",
            "gridcolor": "white",
            "gridwidth": 2,
            "linecolor": "white",
            "showbackground": true,
            "ticks": "",
            "zerolinecolor": "white"
           },
           "zaxis": {
            "backgroundcolor": "#E5ECF6",
            "gridcolor": "white",
            "gridwidth": 2,
            "linecolor": "white",
            "showbackground": true,
            "ticks": "",
            "zerolinecolor": "white"
           }
          },
          "shapedefaults": {
           "line": {
            "color": "#2a3f5f"
           }
          },
          "ternary": {
           "aaxis": {
            "gridcolor": "white",
            "linecolor": "white",
            "ticks": ""
           },
           "baxis": {
            "gridcolor": "white",
            "linecolor": "white",
            "ticks": ""
           },
           "bgcolor": "#E5ECF6",
           "caxis": {
            "gridcolor": "white",
            "linecolor": "white",
            "ticks": ""
           }
          },
          "title": {
           "x": 0.05
          },
          "xaxis": {
           "automargin": true,
           "gridcolor": "white",
           "linecolor": "white",
           "ticks": "",
           "title": {
            "standoff": 15
           },
           "zerolinecolor": "white",
           "zerolinewidth": 2
          },
          "yaxis": {
           "automargin": true,
           "gridcolor": "white",
           "linecolor": "white",
           "ticks": "",
           "title": {
            "standoff": 15
           },
           "zerolinecolor": "white",
           "zerolinewidth": 2
          }
         }
        },
        "width": 500,
        "xaxis": {
         "autorange": false,
         "domain": [
          0,
          1
         ],
         "exponentformat": "e",
         "linecolor": "black",
         "linewidth": 1,
         "mirror": false,
         "range": [
          -0.0007194811261724693,
          0.01486161628435366
         ],
         "showexponent": "all",
         "showline": true,
         "side": "bottom",
         "ticks": "outside",
         "title": {
          "text": "Birth"
         },
         "type": "linear",
         "zeroline": true
        },
        "yaxis": {
         "autorange": false,
         "domain": [
          0,
          1
         ],
         "exponentformat": "e",
         "linecolor": "black",
         "linewidth": 1,
         "mirror": false,
         "range": [
          -0.0002828427031636238,
          0.014424977861344813
         ],
         "scaleanchor": "x",
         "scaleratio": 1,
         "showexponent": "all",
         "showline": true,
         "side": "left",
         "ticks": "outside",
         "title": {
          "text": "Death"
         },
         "type": "linear",
         "zeroline": true
        }
       }
      },
      "image/png": "[encoded data removed]",
      "text/html": [
       "<div>                            <div id=\"7ed342eb-c625-404c-ac01-b58cd1f01911\" class=\"plotly-graph-div\" style=\"height:500px; width:500px;\"></div>            <script type=\"text/javascript\">                require([\"plotly\"], function(Plotly) {                    window.PLOTLYENV=window.PLOTLYENV || {};                                    if (document.getElementById(\"7ed342eb-c625-404c-ac01-b58cd1f01911\")) {                    Plotly.newPlot(                        \"7ed342eb-c625-404c-ac01-b58cd1f01911\",                        [{\"hoverinfo\":\"none\",\"line\":{\"color\":\"black\",\"dash\":\"dash\",\"width\":1},\"mode\":\"lines\",\"showlegend\":false,\"x\":[-0.0002828427031636238,0.014424977861344813],\"y\":[-0.0002828427031636238,0.014424977861344813],\"type\":\"scatter\"},{\"hoverinfo\":\"text\",\"hovertext\":[\"(0.0, 0.009999999776482582), multiplicity: 27\",\"(0.0, 0.009999999776482582), multiplicity: 27\",\"(0.0, 0.009999999776482582), multiplicity: 27\",\"(0.0, 0.009999999776482582), multiplicity: 27\",\"(0.0, 0.009999999776482582), multiplicity: 27\",\"(0.0, 0.009999999776482582), multiplicity: 27\",\"(0.0, 0.009999999776482582), multiplicity: 27\",\"(0.0, 0.009999999776482582), multiplicity: 27\",\"(0.0, 0.009999999776482582), multiplicity: 27\",\"(0.0, 0.009999999776482582), multiplicity: 27\",\"(0.0, 0.009999999776482582), multiplicity: 27\",\"(0.0, 0.009999999776482582), multiplicity: 27\",\"(0.0, 0.009999999776482582), multiplicity: 27\",\"(0.0, 0.009999999776482582), multiplicity: 27\",\"(0.0, 0.009999999776482582), multiplicity: 27\",\"(0.0, 0.009999999776482582), multiplicity: 27\",\"(0.0, 0.009999999776482582), multiplicity: 27\",\"(0.0, 0.009999999776482582), multiplicity: 27\",\"(0.0, 0.009999999776482582), multiplicity: 27\",\"(0.0, 0.009999999776482582), multiplicity: 27\",\"(0.0, 0.009999999776482582), multiplicity: 27\",\"(0.0, 0.009999999776482582), multiplicity: 27\",\"(0.0, 0.009999999776482582), multiplicity: 27\",\"(0.0, 0.009999999776482582), multiplicity: 27\",\"(0.0, 0.009999999776482582), multiplicity: 27\",\"(0.0, 0.009999999776482582), multiplicity: 27\",\"(0.0, 0.009999999776482582), multiplicity: 27\",\"(0.0, 0.01414213515818119)\"],\"mode\":\"markers\",\"name\":\"H0\",\"x\":[0.0,0.0,0.0,0.0,0.0,0.0,0.0,0.0,0.0,0.0,0.0,0.0,0.0,0.0,0.0,0.0,0.0,0.0,0.0,0.0,0.0,0.0,0.0,0.0,0.0,0.0,0.0,0.0],\"y\":[0.009999999776482582,0.009999999776482582,0.009999999776482582,0.009999999776482582,0.009999999776482582,0.009999999776482582,0.009999999776482582,0.009999999776482582,0.009999999776482582,0.009999999776482582,0.009999999776482582,0.009999999776482582,0.009999999776482582,0.009999999776482582,0.009999999776482582,0.009999999776482582,0.009999999776482582,0.009999999776482582,0.009999999776482582,0.009999999776482582,0.009999999776482582,0.009999999776482582,0.009999999776482582,0.009999999776482582,0.009999999776482582,0.009999999776482582,0.009999999776482582,0.01414213515818119],\"type\":\"scatter\"},{\"hoverinfo\":\"text\",\"hovertext\":[\"(0.009999999776482582, 0.01414213515818119), multiplicity: 12\",\"(0.009999999776482582, 0.01414213515818119), multiplicity: 12\",\"(0.009999999776482582, 0.01414213515818119), multiplicity: 12\",\"(0.009999999776482582, 0.01414213515818119), multiplicity: 12\",\"(0.009999999776482582, 0.01414213515818119), multiplicity: 12\",\"(0.009999999776482582, 0.01414213515818119), multiplicity: 12\",\"(0.009999999776482582, 0.01414213515818119), multiplicity: 12\",\"(0.009999999776482582, 0.01414213515818119), multiplicity: 12\",\"(0.009999999776482582, 0.01414213515818119), multiplicity: 12\",\"(0.009999999776482582, 0.01414213515818119), multiplicity: 12\",\"(0.009999999776482582, 0.01414213515818119), multiplicity: 12\",\"(0.009999999776482582, 0.01414213515818119), multiplicity: 12\"],\"mode\":\"markers\",\"name\":\"H1\",\"x\":[0.009999999776482582,0.009999999776482582,0.009999999776482582,0.009999999776482582,0.009999999776482582,0.009999999776482582,0.009999999776482582,0.009999999776482582,0.009999999776482582,0.009999999776482582,0.009999999776482582,0.009999999776482582],\"y\":[0.01414213515818119,0.01414213515818119,0.01414213515818119,0.01414213515818119,0.01414213515818119,0.01414213515818119,0.01414213515818119,0.01414213515818119,0.01414213515818119,0.01414213515818119,0.01414213515818119,0.01414213515818119],\"type\":\"scatter\"},{\"hoverinfo\":\"text\",\"hovertext\":[],\"mode\":\"markers\",\"name\":\"H2\",\"x\":[],\"y\":[],\"type\":\"scatter\"}],                        {\"template\":{\"data\":{\"histogram2dcontour\":[{\"type\":\"histogram2dcontour\",\"colorbar\":{\"outlinewidth\":0,\"ticks\":\"\"},\"colorscale\":[[0.0,\"#0d0887\"],[0.1111111111111111,\"#46039f\"],[0.2222222222222222,\"#7201a8\"],[0.3333333333333333,\"#9c179e\"],[0.4444444444444444,\"#bd3786\"],[0.5555555555555556,\"#d8576b\"],[0.6666666666666666,\"#ed7953\"],[0.7777777777777778,\"#fb9f3a\"],[0.8888888888888888,\"#fdca26\"],[1.0,\"#f0f921\"]]}],\"choropleth\":[{\"type\":\"choropleth\",\"colorbar\":{\"outlinewidth\":0,\"ticks\":\"\"}}],\"histogram2d\":[{\"type\":\"histogram2d\",\"colorbar\":{\"outlinewidth\":0,\"ticks\":\"\"},\"colorscale\":[[0.0,\"#0d0887\"],[0.1111111111111111,\"#46039f\"],[0.2222222222222222,\"#7201a8\"],[0.3333333333333333,\"#9c179e\"],[0.4444444444444444,\"#bd3786\"],[0.5555555555555556,\"#d8576b\"],[0.6666666666666666,\"#ed7953\"],[0.7777777777777778,\"#fb9f3a\"],[0.8888888888888888,\"#fdca26\"],[1.0,\"#f0f921\"]]}],\"heatmap\":[{\"type\":\"heatmap\",\"colorbar\":{\"outlinewidth\":0,\"ticks\":\"\"},\"colorscale\":[[0.0,\"#0d0887\"],[0.1111111111111111,\"#46039f\"],[0.2222222222222222,\"#7201a8\"],[0.3333333333333333,\"#9c179e\"],[0.4444444444444444,\"#bd3786\"],[0.5555555555555556,\"#d8576b\"],[0.6666666666666666,\"#ed7953\"],[0.7777777777777778,\"#fb9f3a\"],[0.8888888888888888,\"#fdca26\"],[1.0,\"#f0f921\"]]}],\"heatmapgl\":[{\"type\":\"heatmapgl\",\"colorbar\":{\"outlinewidth\":0,\"ticks\":\"\"},\"colorscale\":[[0.0,\"#0d0887\"],[0.1111111111111111,\"#46039f\"],[0.2222222222222222,\"#7201a8\"],[0.3333333333333333,\"#9c179e\"],[0.4444444444444444,\"#bd3786\"],[0.5555555555555556,\"#d8576b\"],[0.6666666666666666,\"#ed7953\"],[0.7777777777777778,\"#fb9f3a\"],[0.8888888888888888,\"#fdca26\"],[1.0,\"#f0f921\"]]}],\"contourcarpet\":[{\"type\":\"contourcarpet\",\"colorbar\":{\"outlinewidth\":0,\"ticks\":\"\"}}],\"contour\":[{\"type\":\"contour\",\"colorbar\":{\"outlinewidth\":0,\"ticks\":\"\"},\"colorscale\":[[0.0,\"#0d0887\"],[0.1111111111111111,\"#46039f\"],[0.2222222222222222,\"#7201a8\"],[0.3333333333333333,\"#9c179e\"],[0.4444444444444444,\"#bd3786\"],[0.5555555555555556,\"#d8576b\"],[0.6666666666666666,\"#ed7953\"],[0.7777777777777778,\"#fb9f3a\"],[0.8888888888888888,\"#fdca26\"],[1.0,\"#f0f921\"]]}],\"surface\":[{\"type\":\"surface\",\"colorbar\":{\"outlinewidth\":0,\"ticks\":\"\"},\"colorscale\":[[0.0,\"#0d0887\"],[0.1111111111111111,\"#46039f\"],[0.2222222222222222,\"#7201a8\"],[0.3333333333333333,\"#9c179e\"],[0.4444444444444444,\"#bd3786\"],[0.5555555555555556,\"#d8576b\"],[0.6666666666666666,\"#ed7953\"],[0.7777777777777778,\"#fb9f3a\"],[0.8888888888888888,\"#fdca26\"],[1.0,\"#f0f921\"]]}],\"mesh3d\":[{\"type\":\"mesh3d\",\"colorbar\":{\"outlinewidth\":0,\"ticks\":\"\"}}],\"scatter\":[{\"fillpattern\":{\"fillmode\":\"overlay\",\"size\":10,\"solidity\":0.2},\"type\":\"scatter\"}],\"parcoords\":[{\"type\":\"parcoords\",\"line\":{\"colorbar\":{\"outlinewidth\":0,\"ticks\":\"\"}}}],\"scatterpolargl\":[{\"type\":\"scatterpolargl\",\"marker\":{\"colorbar\":{\"outlinewidth\":0,\"ticks\":\"\"}}}],\"bar\":[{\"error_x\":{\"color\":\"#2a3f5f\"},\"error_y\":{\"color\":\"#2a3f5f\"},\"marker\":{\"line\":{\"color\":\"#E5ECF6\",\"width\":0.5},\"pattern\":{\"fillmode\":\"overlay\",\"size\":10,\"solidity\":0.2}},\"type\":\"bar\"}],\"scattergeo\":[{\"type\":\"scattergeo\",\"marker\":{\"colorbar\":{\"outlinewidth\":0,\"ticks\":\"\"}}}],\"scatterpolar\":[{\"type\":\"scatterpolar\",\"marker\":{\"colorbar\":{\"outlinewidth\":0,\"ticks\":\"\"}}}],\"histogram\":[{\"marker\":{\"pattern\":{\"fillmode\":\"overlay\",\"size\":10,\"solidity\":0.2}},\"type\":\"histogram\"}],\"scattergl\":[{\"type\":\"scattergl\",\"marker\":{\"colorbar\":{\"outlinewidth\":0,\"ticks\":\"\"}}}],\"scatter3d\":[{\"type\":\"scatter3d\",\"line\":{\"colorbar\":{\"outlinewidth\":0,\"ticks\":\"\"}},\"marker\":{\"colorbar\":{\"outlinewidth\":0,\"ticks\":\"\"}}}],\"scattermapbox\":[{\"type\":\"scattermapbox\",\"marker\":{\"colorbar\":{\"outlinewidth\":0,\"ticks\":\"\"}}}],\"scatterternary\":[{\"type\":\"scatterternary\",\"marker\":{\"colorbar\":{\"outlinewidth\":0,\"ticks\":\"\"}}}],\"scattercarpet\":[{\"type\":\"scattercarpet\",\"marker\":{\"colorbar\":{\"outlinewidth\":0,\"ticks\":\"\"}}}],\"carpet\":[{\"aaxis\":{\"endlinecolor\":\"#2a3f5f\",\"gridcolor\":\"white\",\"linecolor\":\"white\",\"minorgridcolor\":\"white\",\"startlinecolor\":\"#2a3f5f\"},\"baxis\":{\"endlinecolor\":\"#2a3f5f\",\"gridcolor\":\"white\",\"linecolor\":\"white\",\"minorgridcolor\":\"white\",\"startlinecolor\":\"#2a3f5f\"},\"type\":\"carpet\"}],\"table\":[{\"cells\":{\"fill\":{\"color\":\"#EBF0F8\"},\"line\":{\"color\":\"white\"}},\"header\":{\"fill\":{\"color\":\"#C8D4E3\"},\"line\":{\"color\":\"white\"}},\"type\":\"table\"}],\"barpolar\":[{\"marker\":{\"line\":{\"color\":\"#E5ECF6\",\"width\":0.5},\"pattern\":{\"fillmode\":\"overlay\",\"size\":10,\"solidity\":0.2}},\"type\":\"barpolar\"}],\"pie\":[{\"automargin\":true,\"type\":\"pie\"}]},\"layout\":{\"autotypenumbers\":\"strict\",\"colorway\":[\"#636efa\",\"#EF553B\",\"#00cc96\",\"#ab63fa\",\"#FFA15A\",\"#19d3f3\",\"#FF6692\",\"#B6E880\",\"#FF97FF\",\"#FECB52\"],\"font\":{\"color\":\"#2a3f5f\"},\"hovermode\":\"closest\",\"hoverlabel\":{\"align\":\"left\"},\"paper_bgcolor\":\"white\",\"plot_bgcolor\":\"#E5ECF6\",\"polar\":{\"bgcolor\":\"#E5ECF6\",\"angularaxis\":{\"gridcolor\":\"white\",\"linecolor\":\"white\",\"ticks\":\"\"},\"radialaxis\":{\"gridcolor\":\"white\",\"linecolor\":\"white\",\"ticks\":\"\"}},\"ternary\":{\"bgcolor\":\"#E5ECF6\",\"aaxis\":{\"gridcolor\":\"white\",\"linecolor\":\"white\",\"ticks\":\"\"},\"baxis\":{\"gridcolor\":\"white\",\"linecolor\":\"white\",\"ticks\":\"\"},\"caxis\":{\"gridcolor\":\"white\",\"linecolor\":\"white\",\"ticks\":\"\"}},\"coloraxis\":{\"colorbar\":{\"outlinewidth\":0,\"ticks\":\"\"}},\"colorscale\":{\"sequential\":[[0.0,\"#0d0887\"],[0.1111111111111111,\"#46039f\"],[0.2222222222222222,\"#7201a8\"],[0.3333333333333333,\"#9c179e\"],[0.4444444444444444,\"#bd3786\"],[0.5555555555555556,\"#d8576b\"],[0.6666666666666666,\"#ed7953\"],[0.7777777777777778,\"#fb9f3a\"],[0.8888888888888888,\"#fdca26\"],[1.0,\"#f0f921\"]],\"sequentialminus\":[[0.0,\"#0d0887\"],[0.1111111111111111,\"#46039f\"],[0.2222222222222222,\"#7201a8\"],[0.3333333333333333,\"#9c179e\"],[0.4444444444444444,\"#bd3786\"],[0.5555555555555556,\"#d8576b\"],[0.6666666666666666,\"#ed7953\"],[0.7777777777777778,\"#fb9f3a\"],[0.8888888888888888,\"#fdca26\"],[1.0,\"#f0f921\"]],\"diverging\":[[0,\"#8e0152\"],[0.1,\"#c51b7d\"],[0.2,\"#de77ae\"],[0.3,\"#f1b6da\"],[0.4,\"#fde0ef\"],[0.5,\"#f7f7f7\"],[0.6,\"#e6f5d0\"],[0.7,\"#b8e186\"],[0.8,\"#7fbc41\"],[0.9,\"#4d9221\"],[1,\"#276419\"]]},\"xaxis\":{\"gridcolor\":\"white\",\"linecolor\":\"white\",\"ticks\":\"\",\"title\":{\"standoff\":15},\"zerolinecolor\":\"white\",\"automargin\":true,\"zerolinewidth\":2},\"yaxis\":{\"gridcolor\":\"white\",\"linecolor\":\"white\",\"ticks\":\"\",\"title\":{\"standoff\":15},\"zerolinecolor\":\"white\",\"automargin\":true,\"zerolinewidth\":2},\"scene\":{\"xaxis\":{\"backgroundcolor\":\"#E5ECF6\",\"gridcolor\":\"white\",\"linecolor\":\"white\",\"showbackground\":true,\"ticks\":\"\",\"zerolinecolor\":\"white\",\"gridwidth\":2},\"yaxis\":{\"backgroundcolor\":\"#E5ECF6\",\"gridcolor\":\"white\",\"linecolor\":\"white\",\"showbackground\":true,\"ticks\":\"\",\"zerolinecolor\":\"white\",\"gridwidth\":2},\"zaxis\":{\"backgroundcolor\":\"#E5ECF6\",\"gridcolor\":\"white\",\"linecolor\":\"white\",\"showbackground\":true,\"ticks\":\"\",\"zerolinecolor\":\"white\",\"gridwidth\":2}},\"shapedefaults\":{\"line\":{\"color\":\"#2a3f5f\"}},\"annotationdefaults\":{\"arrowcolor\":\"#2a3f5f\",\"arrowhead\":0,\"arrowwidth\":1},\"geo\":{\"bgcolor\":\"white\",\"landcolor\":\"#E5ECF6\",\"subunitcolor\":\"white\",\"showland\":true,\"showlakes\":true,\"lakecolor\":\"white\"},\"title\":{\"x\":0.05},\"mapbox\":{\"style\":\"light\"}}},\"xaxis\":{\"title\":{\"text\":\"Birth\"},\"side\":\"bottom\",\"type\":\"linear\",\"range\":[-0.0002828427031636238,0.014424977861344813],\"autorange\":false,\"ticks\":\"outside\",\"showline\":true,\"zeroline\":true,\"linewidth\":1,\"linecolor\":\"black\",\"mirror\":false,\"showexponent\":\"all\",\"exponentformat\":\"e\"},\"yaxis\":{\"title\":{\"text\":\"Death\"},\"side\":\"left\",\"type\":\"linear\",\"range\":[-0.0002828427031636238,0.014424977861344813],\"autorange\":false,\"scaleanchor\":\"x\",\"scaleratio\":1,\"ticks\":\"outside\",\"showline\":true,\"zeroline\":true,\"linewidth\":1,\"linecolor\":\"black\",\"mirror\":false,\"showexponent\":\"all\",\"exponentformat\":\"e\"},\"width\":500,\"height\":500,\"plot_bgcolor\":\"white\"},                        {\"responsive\": true}                    ).then(function(){\n",
       "                            \n",
       "var gd = document.getElementById('7ed342eb-c625-404c-ac01-b58cd1f01911');\n",
       "var x = new MutationObserver(function (mutations, observer) {{\n",
       "        var display = window.getComputedStyle(gd).display;\n",
       "        if (!display || display === 'none') {{\n",
       "            console.log([gd, 'removed!']);\n",
       "            Plotly.purge(gd);\n",
       "            observer.disconnect();\n",
       "        }}\n",
       "}});\n",
       "\n",
       "// Listen for the removal of the full notebook cells\n",
       "var notebookContainer = gd.closest('#notebook-container');\n",
       "if (notebookContainer) {{\n",
       "    x.observe(notebookContainer, {childList: true});\n",
       "}}\n",
       "\n",
       "// Listen for the clearing of the current output cell\n",
       "var outputEl = gd.closest('.output');\n",
       "if (outputEl) {{\n",
       "    x.observe(outputEl, {childList: true});\n",
       "}}\n",
       "\n",
       "                        })                };                });            </script>        </div>"
      ]
     },
     "metadata": {},
     "output_type": "display_data"
    },
    {
     "data": {
      "application/vnd.plotly.v1+json": {
       "config": {
        "plotlyServerURL": "https://plot.ly"
       },
       "data": [
        {
         "hoverinfo": "none",
         "line": {
          "color": "black",
          "dash": "dash",
          "width": 1
         },
         "mode": "lines",
         "showlegend": false,
         "type": "scatter",
         "x": [
          -0.0002828427031636238,
          0.014424977861344813
         ],
         "y": [
          -0.0002828427031636238,
          0.014424977861344813
         ]
        },
        {
         "hoverinfo": "text",
         "hovertext": [
          "(0.0, 0.009999999776482582), multiplicity: 24",
          "(0.0, 0.009999999776482582), multiplicity: 24",
          "(0.0, 0.009999999776482582), multiplicity: 24",
          "(0.0, 0.009999999776482582), multiplicity: 24",
          "(0.0, 0.009999999776482582), multiplicity: 24",
          "(0.0, 0.009999999776482582), multiplicity: 24",
          "(0.0, 0.009999999776482582), multiplicity: 24",
          "(0.0, 0.009999999776482582), multiplicity: 24",
          "(0.0, 0.009999999776482582), multiplicity: 24",
          "(0.0, 0.009999999776482582), multiplicity: 24",
          "(0.0, 0.009999999776482582), multiplicity: 24",
          "(0.0, 0.009999999776482582), multiplicity: 24",
          "(0.0, 0.009999999776482582), multiplicity: 24",
          "(0.0, 0.009999999776482582), multiplicity: 24",
          "(0.0, 0.009999999776482582), multiplicity: 24",
          "(0.0, 0.009999999776482582), multiplicity: 24",
          "(0.0, 0.009999999776482582), multiplicity: 24",
          "(0.0, 0.009999999776482582), multiplicity: 24",
          "(0.0, 0.009999999776482582), multiplicity: 24",
          "(0.0, 0.009999999776482582), multiplicity: 24",
          "(0.0, 0.009999999776482582), multiplicity: 24",
          "(0.0, 0.009999999776482582), multiplicity: 24",
          "(0.0, 0.009999999776482582), multiplicity: 24",
          "(0.0, 0.009999999776482582), multiplicity: 24",
          "(0.0, 0.01414213515818119)"
         ],
         "mode": "markers",
         "name": "H0",
         "type": "scatter",
         "x": [
          0,
          0,
          0,
          0,
          0,
          0,
          0,
          0,
          0,
          0,
          0,
          0,
          0,
          0,
          0,
          0,
          0,
          0,
          0,
          0,
          0,
          0,
          0,
          0,
          0
         ],
         "y": [
          0.009999999776482582,
          0.009999999776482582,
          0.009999999776482582,
          0.009999999776482582,
          0.009999999776482582,
          0.009999999776482582,
          0.009999999776482582,
          0.009999999776482582,
          0.009999999776482582,
          0.009999999776482582,
          0.009999999776482582,
          0.009999999776482582,
          0.009999999776482582,
          0.009999999776482582,
          0.009999999776482582,
          0.009999999776482582,
          0.009999999776482582,
          0.009999999776482582,
          0.009999999776482582,
          0.009999999776482582,
          0.009999999776482582,
          0.009999999776482582,
          0.009999999776482582,
          0.009999999776482582,
          0.01414213515818119
         ]
        },
        {
         "hoverinfo": "text",
         "hovertext": [
          "(0.009999999776482582, 0.01414213515818119), multiplicity: 12",
          "(0.009999999776482582, 0.01414213515818119), multiplicity: 12",
          "(0.009999999776482582, 0.01414213515818119), multiplicity: 12",
          "(0.009999999776482582, 0.01414213515818119), multiplicity: 12",
          "(0.009999999776482582, 0.01414213515818119), multiplicity: 12",
          "(0.009999999776482582, 0.01414213515818119), multiplicity: 12",
          "(0.009999999776482582, 0.01414213515818119), multiplicity: 12",
          "(0.009999999776482582, 0.01414213515818119), multiplicity: 12",
          "(0.009999999776482582, 0.01414213515818119), multiplicity: 12",
          "(0.009999999776482582, 0.01414213515818119), multiplicity: 12",
          "(0.009999999776482582, 0.01414213515818119), multiplicity: 12",
          "(0.009999999776482582, 0.01414213515818119), multiplicity: 12"
         ],
         "mode": "markers",
         "name": "H1",
         "type": "scatter",
         "x": [
          0.009999999776482582,
          0.009999999776482582,
          0.009999999776482582,
          0.009999999776482582,
          0.009999999776482582,
          0.009999999776482582,
          0.009999999776482582,
          0.009999999776482582,
          0.009999999776482582,
          0.009999999776482582,
          0.009999999776482582,
          0.009999999776482582
         ],
         "y": [
          0.01414213515818119,
          0.01414213515818119,
          0.01414213515818119,
          0.01414213515818119,
          0.01414213515818119,
          0.01414213515818119,
          0.01414213515818119,
          0.01414213515818119,
          0.01414213515818119,
          0.01414213515818119,
          0.01414213515818119,
          0.01414213515818119
         ]
        },
        {
         "hoverinfo": "text",
         "hovertext": [],
         "mode": "markers",
         "name": "H2",
         "type": "scatter",
         "x": [],
         "y": []
        }
       ],
       "layout": {
        "height": 500,
        "plot_bgcolor": "white",
        "template": {
         "data": {
          "bar": [
           {
            "error_x": {
             "color": "#2a3f5f"
            },
            "error_y": {
             "color": "#2a3f5f"
            },
            "marker": {
             "line": {
              "color": "#E5ECF6",
              "width": 0.5
             },
             "pattern": {
              "fillmode": "overlay",
              "size": 10,
              "solidity": 0.2
             }
            },
            "type": "bar"
           }
          ],
          "barpolar": [
           {
            "marker": {
             "line": {
              "color": "#E5ECF6",
              "width": 0.5
             },
             "pattern": {
              "fillmode": "overlay",
              "size": 10,
              "solidity": 0.2
             }
            },
            "type": "barpolar"
           }
          ],
          "carpet": [
           {
            "aaxis": {
             "endlinecolor": "#2a3f5f",
             "gridcolor": "white",
             "linecolor": "white",
             "minorgridcolor": "white",
             "startlinecolor": "#2a3f5f"
            },
            "baxis": {
             "endlinecolor": "#2a3f5f",
             "gridcolor": "white",
             "linecolor": "white",
             "minorgridcolor": "white",
             "startlinecolor": "#2a3f5f"
            },
            "type": "carpet"
           }
          ],
          "choropleth": [
           {
            "colorbar": {
             "outlinewidth": 0,
             "ticks": ""
            },
            "type": "choropleth"
           }
          ],
          "contour": [
           {
            "colorbar": {
             "outlinewidth": 0,
             "ticks": ""
            },
            "colorscale": [
             [
              0,
              "#0d0887"
             ],
             [
              0.1111111111111111,
              "#46039f"
             ],
             [
              0.2222222222222222,
              "#7201a8"
             ],
             [
              0.3333333333333333,
              "#9c179e"
             ],
             [
              0.4444444444444444,
              "#bd3786"
             ],
             [
              0.5555555555555556,
              "#d8576b"
             ],
             [
              0.6666666666666666,
              "#ed7953"
             ],
             [
              0.7777777777777778,
              "#fb9f3a"
             ],
             [
              0.8888888888888888,
              "#fdca26"
             ],
             [
              1,
              "#f0f921"
             ]
            ],
            "type": "contour"
           }
          ],
          "contourcarpet": [
           {
            "colorbar": {
             "outlinewidth": 0,
             "ticks": ""
            },
            "type": "contourcarpet"
           }
          ],
          "heatmap": [
           {
            "colorbar": {
             "outlinewidth": 0,
             "ticks": ""
            },
            "colorscale": [
             [
              0,
              "#0d0887"
             ],
             [
              0.1111111111111111,
              "#46039f"
             ],
             [
              0.2222222222222222,
              "#7201a8"
             ],
             [
              0.3333333333333333,
              "#9c179e"
             ],
             [
              0.4444444444444444,
              "#bd3786"
             ],
             [
              0.5555555555555556,
              "#d8576b"
             ],
             [
              0.6666666666666666,
              "#ed7953"
             ],
             [
              0.7777777777777778,
              "#fb9f3a"
             ],
             [
              0.8888888888888888,
              "#fdca26"
             ],
             [
              1,
              "#f0f921"
             ]
            ],
            "type": "heatmap"
           }
          ],
          "heatmapgl": [
           {
            "colorbar": {
             "outlinewidth": 0,
             "ticks": ""
            },
            "colorscale": [
             [
              0,
              "#0d0887"
             ],
             [
              0.1111111111111111,
              "#46039f"
             ],
             [
              0.2222222222222222,
              "#7201a8"
             ],
             [
              0.3333333333333333,
              "#9c179e"
             ],
             [
              0.4444444444444444,
              "#bd3786"
             ],
             [
              0.5555555555555556,
              "#d8576b"
             ],
             [
              0.6666666666666666,
              "#ed7953"
             ],
             [
              0.7777777777777778,
              "#fb9f3a"
             ],
             [
              0.8888888888888888,
              "#fdca26"
             ],
             [
              1,
              "#f0f921"
             ]
            ],
            "type": "heatmapgl"
           }
          ],
          "histogram": [
           {
            "marker": {
             "pattern": {
              "fillmode": "overlay",
              "size": 10,
              "solidity": 0.2
             }
            },
            "type": "histogram"
           }
          ],
          "histogram2d": [
           {
            "colorbar": {
             "outlinewidth": 0,
             "ticks": ""
            },
            "colorscale": [
             [
              0,
              "#0d0887"
             ],
             [
              0.1111111111111111,
              "#46039f"
             ],
             [
              0.2222222222222222,
              "#7201a8"
             ],
             [
              0.3333333333333333,
              "#9c179e"
             ],
             [
              0.4444444444444444,
              "#bd3786"
             ],
             [
              0.5555555555555556,
              "#d8576b"
             ],
             [
              0.6666666666666666,
              "#ed7953"
             ],
             [
              0.7777777777777778,
              "#fb9f3a"
             ],
             [
              0.8888888888888888,
              "#fdca26"
             ],
             [
              1,
              "#f0f921"
             ]
            ],
            "type": "histogram2d"
           }
          ],
          "histogram2dcontour": [
           {
            "colorbar": {
             "outlinewidth": 0,
             "ticks": ""
            },
            "colorscale": [
             [
              0,
              "#0d0887"
             ],
             [
              0.1111111111111111,
              "#46039f"
             ],
             [
              0.2222222222222222,
              "#7201a8"
             ],
             [
              0.3333333333333333,
              "#9c179e"
             ],
             [
              0.4444444444444444,
              "#bd3786"
             ],
             [
              0.5555555555555556,
              "#d8576b"
             ],
             [
              0.6666666666666666,
              "#ed7953"
             ],
             [
              0.7777777777777778,
              "#fb9f3a"
             ],
             [
              0.8888888888888888,
              "#fdca26"
             ],
             [
              1,
              "#f0f921"
             ]
            ],
            "type": "histogram2dcontour"
           }
          ],
          "mesh3d": [
           {
            "colorbar": {
             "outlinewidth": 0,
             "ticks": ""
            },
            "type": "mesh3d"
           }
          ],
          "parcoords": [
           {
            "line": {
             "colorbar": {
              "outlinewidth": 0,
              "ticks": ""
             }
            },
            "type": "parcoords"
           }
          ],
          "pie": [
           {
            "automargin": true,
            "type": "pie"
           }
          ],
          "scatter": [
           {
            "fillpattern": {
             "fillmode": "overlay",
             "size": 10,
             "solidity": 0.2
            },
            "type": "scatter"
           }
          ],
          "scatter3d": [
           {
            "line": {
             "colorbar": {
              "outlinewidth": 0,
              "ticks": ""
             }
            },
            "marker": {
             "colorbar": {
              "outlinewidth": 0,
              "ticks": ""
             }
            },
            "type": "scatter3d"
           }
          ],
          "scattercarpet": [
           {
            "marker": {
             "colorbar": {
              "outlinewidth": 0,
              "ticks": ""
             }
            },
            "type": "scattercarpet"
           }
          ],
          "scattergeo": [
           {
            "marker": {
             "colorbar": {
              "outlinewidth": 0,
              "ticks": ""
             }
            },
            "type": "scattergeo"
           }
          ],
          "scattergl": [
           {
            "marker": {
             "colorbar": {
              "outlinewidth": 0,
              "ticks": ""
             }
            },
            "type": "scattergl"
           }
          ],
          "scattermapbox": [
           {
            "marker": {
             "colorbar": {
              "outlinewidth": 0,
              "ticks": ""
             }
            },
            "type": "scattermapbox"
           }
          ],
          "scatterpolar": [
           {
            "marker": {
             "colorbar": {
              "outlinewidth": 0,
              "ticks": ""
             }
            },
            "type": "scatterpolar"
           }
          ],
          "scatterpolargl": [
           {
            "marker": {
             "colorbar": {
              "outlinewidth": 0,
              "ticks": ""
             }
            },
            "type": "scatterpolargl"
           }
          ],
          "scatterternary": [
           {
            "marker": {
             "colorbar": {
              "outlinewidth": 0,
              "ticks": ""
             }
            },
            "type": "scatterternary"
           }
          ],
          "surface": [
           {
            "colorbar": {
             "outlinewidth": 0,
             "ticks": ""
            },
            "colorscale": [
             [
              0,
              "#0d0887"
             ],
             [
              0.1111111111111111,
              "#46039f"
             ],
             [
              0.2222222222222222,
              "#7201a8"
             ],
             [
              0.3333333333333333,
              "#9c179e"
             ],
             [
              0.4444444444444444,
              "#bd3786"
             ],
             [
              0.5555555555555556,
              "#d8576b"
             ],
             [
              0.6666666666666666,
              "#ed7953"
             ],
             [
              0.7777777777777778,
              "#fb9f3a"
             ],
             [
              0.8888888888888888,
              "#fdca26"
             ],
             [
              1,
              "#f0f921"
             ]
            ],
            "type": "surface"
           }
          ],
          "table": [
           {
            "cells": {
             "fill": {
              "color": "#EBF0F8"
             },
             "line": {
              "color": "white"
             }
            },
            "header": {
             "fill": {
              "color": "#C8D4E3"
             },
             "line": {
              "color": "white"
             }
            },
            "type": "table"
           }
          ]
         },
         "layout": {
          "annotationdefaults": {
           "arrowcolor": "#2a3f5f",
           "arrowhead": 0,
           "arrowwidth": 1
          },
          "autotypenumbers": "strict",
          "coloraxis": {
           "colorbar": {
            "outlinewidth": 0,
            "ticks": ""
           }
          },
          "colorscale": {
           "diverging": [
            [
             0,
             "#8e0152"
            ],
            [
             0.1,
             "#c51b7d"
            ],
            [
             0.2,
             "#de77ae"
            ],
            [
             0.3,
             "#f1b6da"
            ],
            [
             0.4,
             "#fde0ef"
            ],
            [
             0.5,
             "#f7f7f7"
            ],
            [
             0.6,
             "#e6f5d0"
            ],
            [
             0.7,
             "#b8e186"
            ],
            [
             0.8,
             "#7fbc41"
            ],
            [
             0.9,
             "#4d9221"
            ],
            [
             1,
             "#276419"
            ]
           ],
           "sequential": [
            [
             0,
             "#0d0887"
            ],
            [
             0.1111111111111111,
             "#46039f"
            ],
            [
             0.2222222222222222,
             "#7201a8"
            ],
            [
             0.3333333333333333,
             "#9c179e"
            ],
            [
             0.4444444444444444,
             "#bd3786"
            ],
            [
             0.5555555555555556,
             "#d8576b"
            ],
            [
             0.6666666666666666,
             "#ed7953"
            ],
            [
             0.7777777777777778,
             "#fb9f3a"
            ],
            [
             0.8888888888888888,
             "#fdca26"
            ],
            [
             1,
             "#f0f921"
            ]
           ],
           "sequentialminus": [
            [
             0,
             "#0d0887"
            ],
            [
             0.1111111111111111,
             "#46039f"
            ],
            [
             0.2222222222222222,
             "#7201a8"
            ],
            [
             0.3333333333333333,
             "#9c179e"
            ],
            [
             0.4444444444444444,
             "#bd3786"
            ],
            [
             0.5555555555555556,
             "#d8576b"
            ],
            [
             0.6666666666666666,
             "#ed7953"
            ],
            [
             0.7777777777777778,
             "#fb9f3a"
            ],
            [
             0.8888888888888888,
             "#fdca26"
            ],
            [
             1,
             "#f0f921"
            ]
           ]
          },
          "colorway": [
           "#636efa",
           "#EF553B",
           "#00cc96",
           "#ab63fa",
           "#FFA15A",
           "#19d3f3",
           "#FF6692",
           "#B6E880",
           "#FF97FF",
           "#FECB52"
          ],
          "font": {
           "color": "#2a3f5f"
          },
          "geo": {
           "bgcolor": "white",
           "lakecolor": "white",
           "landcolor": "#E5ECF6",
           "showlakes": true,
           "showland": true,
           "subunitcolor": "white"
          },
          "hoverlabel": {
           "align": "left"
          },
          "hovermode": "closest",
          "mapbox": {
           "style": "light"
          },
          "paper_bgcolor": "white",
          "plot_bgcolor": "#E5ECF6",
          "polar": {
           "angularaxis": {
            "gridcolor": "white",
            "linecolor": "white",
            "ticks": ""
           },
           "bgcolor": "#E5ECF6",
           "radialaxis": {
            "gridcolor": "white",
            "linecolor": "white",
            "ticks": ""
           }
          },
          "scene": {
           "xaxis": {
            "backgroundcolor": "#E5ECF6",
            "gridcolor": "white",
            "gridwidth": 2,
            "linecolor": "white",
            "showbackground": true,
            "ticks": "",
            "zerolinecolor": "white"
           },
           "yaxis": {
            "backgroundcolor": "#E5ECF6",
            "gridcolor": "white",
            "gridwidth": 2,
            "linecolor": "white",
            "showbackground": true,
            "ticks": "",
            "zerolinecolor": "white"
           },
           "zaxis": {
            "backgroundcolor": "#E5ECF6",
            "gridcolor": "white",
            "gridwidth": 2,
            "linecolor": "white",
            "showbackground": true,
            "ticks": "",
            "zerolinecolor": "white"
           }
          },
          "shapedefaults": {
           "line": {
            "color": "#2a3f5f"
           }
          },
          "ternary": {
           "aaxis": {
            "gridcolor": "white",
            "linecolor": "white",
            "ticks": ""
           },
           "baxis": {
            "gridcolor": "white",
            "linecolor": "white",
            "ticks": ""
           },
           "bgcolor": "#E5ECF6",
           "caxis": {
            "gridcolor": "white",
            "linecolor": "white",
            "ticks": ""
           }
          },
          "title": {
           "x": 0.05
          },
          "xaxis": {
           "automargin": true,
           "gridcolor": "white",
           "linecolor": "white",
           "ticks": "",
           "title": {
            "standoff": 15
           },
           "zerolinecolor": "white",
           "zerolinewidth": 2
          },
          "yaxis": {
           "automargin": true,
           "gridcolor": "white",
           "linecolor": "white",
           "ticks": "",
           "title": {
            "standoff": 15
           },
           "zerolinecolor": "white",
           "zerolinewidth": 2
          }
         }
        },
        "width": 500,
        "xaxis": {
         "autorange": false,
         "domain": [
          0,
          1
         ],
         "exponentformat": "e",
         "linecolor": "black",
         "linewidth": 1,
         "mirror": false,
         "range": [
          -0.0007194811261724693,
          0.01486161628435366
         ],
         "showexponent": "all",
         "showline": true,
         "side": "bottom",
         "ticks": "outside",
         "title": {
          "text": "Birth"
         },
         "type": "linear",
         "zeroline": true
        },
        "yaxis": {
         "autorange": false,
         "domain": [
          0,
          1
         ],
         "exponentformat": "e",
         "linecolor": "black",
         "linewidth": 1,
         "mirror": false,
         "range": [
          -0.0002828427031636238,
          0.014424977861344813
         ],
         "scaleanchor": "x",
         "scaleratio": 1,
         "showexponent": "all",
         "showline": true,
         "side": "left",
         "ticks": "outside",
         "title": {
          "text": "Death"
         },
         "type": "linear",
         "zeroline": true
        }
       }
      },
      "image/png": "[encoded data removed]",
      "text/html": [
       "<div>                            <div id=\"55e71b94-28dc-417b-a23c-90f9b0490d99\" class=\"plotly-graph-div\" style=\"height:500px; width:500px;\"></div>            <script type=\"text/javascript\">                require([\"plotly\"], function(Plotly) {                    window.PLOTLYENV=window.PLOTLYENV || {};                                    if (document.getElementById(\"55e71b94-28dc-417b-a23c-90f9b0490d99\")) {                    Plotly.newPlot(                        \"55e71b94-28dc-417b-a23c-90f9b0490d99\",                        [{\"hoverinfo\":\"none\",\"line\":{\"color\":\"black\",\"dash\":\"dash\",\"width\":1},\"mode\":\"lines\",\"showlegend\":false,\"x\":[-0.0002828427031636238,0.014424977861344813],\"y\":[-0.0002828427031636238,0.014424977861344813],\"type\":\"scatter\"},{\"hoverinfo\":\"text\",\"hovertext\":[\"(0.0, 0.009999999776482582), multiplicity: 24\",\"(0.0, 0.009999999776482582), multiplicity: 24\",\"(0.0, 0.009999999776482582), multiplicity: 24\",\"(0.0, 0.009999999776482582), multiplicity: 24\",\"(0.0, 0.009999999776482582), multiplicity: 24\",\"(0.0, 0.009999999776482582), multiplicity: 24\",\"(0.0, 0.009999999776482582), multiplicity: 24\",\"(0.0, 0.009999999776482582), multiplicity: 24\",\"(0.0, 0.009999999776482582), multiplicity: 24\",\"(0.0, 0.009999999776482582), multiplicity: 24\",\"(0.0, 0.009999999776482582), multiplicity: 24\",\"(0.0, 0.009999999776482582), multiplicity: 24\",\"(0.0, 0.009999999776482582), multiplicity: 24\",\"(0.0, 0.009999999776482582), multiplicity: 24\",\"(0.0, 0.009999999776482582), multiplicity: 24\",\"(0.0, 0.009999999776482582), multiplicity: 24\",\"(0.0, 0.009999999776482582), multiplicity: 24\",\"(0.0, 0.009999999776482582), multiplicity: 24\",\"(0.0, 0.009999999776482582), multiplicity: 24\",\"(0.0, 0.009999999776482582), multiplicity: 24\",\"(0.0, 0.009999999776482582), multiplicity: 24\",\"(0.0, 0.009999999776482582), multiplicity: 24\",\"(0.0, 0.009999999776482582), multiplicity: 24\",\"(0.0, 0.009999999776482582), multiplicity: 24\",\"(0.0, 0.01414213515818119)\"],\"mode\":\"markers\",\"name\":\"H0\",\"x\":[0.0,0.0,0.0,0.0,0.0,0.0,0.0,0.0,0.0,0.0,0.0,0.0,0.0,0.0,0.0,0.0,0.0,0.0,0.0,0.0,0.0,0.0,0.0,0.0,0.0],\"y\":[0.009999999776482582,0.009999999776482582,0.009999999776482582,0.009999999776482582,0.009999999776482582,0.009999999776482582,0.009999999776482582,0.009999999776482582,0.009999999776482582,0.009999999776482582,0.009999999776482582,0.009999999776482582,0.009999999776482582,0.009999999776482582,0.009999999776482582,0.009999999776482582,0.009999999776482582,0.009999999776482582,0.009999999776482582,0.009999999776482582,0.009999999776482582,0.009999999776482582,0.009999999776482582,0.009999999776482582,0.01414213515818119],\"type\":\"scatter\"},{\"hoverinfo\":\"text\",\"hovertext\":[\"(0.009999999776482582, 0.01414213515818119), multiplicity: 12\",\"(0.009999999776482582, 0.01414213515818119), multiplicity: 12\",\"(0.009999999776482582, 0.01414213515818119), multiplicity: 12\",\"(0.009999999776482582, 0.01414213515818119), multiplicity: 12\",\"(0.009999999776482582, 0.01414213515818119), multiplicity: 12\",\"(0.009999999776482582, 0.01414213515818119), multiplicity: 12\",\"(0.009999999776482582, 0.01414213515818119), multiplicity: 12\",\"(0.009999999776482582, 0.01414213515818119), multiplicity: 12\",\"(0.009999999776482582, 0.01414213515818119), multiplicity: 12\",\"(0.009999999776482582, 0.01414213515818119), multiplicity: 12\",\"(0.009999999776482582, 0.01414213515818119), multiplicity: 12\",\"(0.009999999776482582, 0.01414213515818119), multiplicity: 12\"],\"mode\":\"markers\",\"name\":\"H1\",\"x\":[0.009999999776482582,0.009999999776482582,0.009999999776482582,0.009999999776482582,0.009999999776482582,0.009999999776482582,0.009999999776482582,0.009999999776482582,0.009999999776482582,0.009999999776482582,0.009999999776482582,0.009999999776482582],\"y\":[0.01414213515818119,0.01414213515818119,0.01414213515818119,0.01414213515818119,0.01414213515818119,0.01414213515818119,0.01414213515818119,0.01414213515818119,0.01414213515818119,0.01414213515818119,0.01414213515818119,0.01414213515818119],\"type\":\"scatter\"},{\"hoverinfo\":\"text\",\"hovertext\":[],\"mode\":\"markers\",\"name\":\"H2\",\"x\":[],\"y\":[],\"type\":\"scatter\"}],                        {\"template\":{\"data\":{\"histogram2dcontour\":[{\"type\":\"histogram2dcontour\",\"colorbar\":{\"outlinewidth\":0,\"ticks\":\"\"},\"colorscale\":[[0.0,\"#0d0887\"],[0.1111111111111111,\"#46039f\"],[0.2222222222222222,\"#7201a8\"],[0.3333333333333333,\"#9c179e\"],[0.4444444444444444,\"#bd3786\"],[0.5555555555555556,\"#d8576b\"],[0.6666666666666666,\"#ed7953\"],[0.7777777777777778,\"#fb9f3a\"],[0.8888888888888888,\"#fdca26\"],[1.0,\"#f0f921\"]]}],\"choropleth\":[{\"type\":\"choropleth\",\"colorbar\":{\"outlinewidth\":0,\"ticks\":\"\"}}],\"histogram2d\":[{\"type\":\"histogram2d\",\"colorbar\":{\"outlinewidth\":0,\"ticks\":\"\"},\"colorscale\":[[0.0,\"#0d0887\"],[0.1111111111111111,\"#46039f\"],[0.2222222222222222,\"#7201a8\"],[0.3333333333333333,\"#9c179e\"],[0.4444444444444444,\"#bd3786\"],[0.5555555555555556,\"#d8576b\"],[0.6666666666666666,\"#ed7953\"],[0.7777777777777778,\"#fb9f3a\"],[0.8888888888888888,\"#fdca26\"],[1.0,\"#f0f921\"]]}],\"heatmap\":[{\"type\":\"heatmap\",\"colorbar\":{\"outlinewidth\":0,\"ticks\":\"\"},\"colorscale\":[[0.0,\"#0d0887\"],[0.1111111111111111,\"#46039f\"],[0.2222222222222222,\"#7201a8\"],[0.3333333333333333,\"#9c179e\"],[0.4444444444444444,\"#bd3786\"],[0.5555555555555556,\"#d8576b\"],[0.6666666666666666,\"#ed7953\"],[0.7777777777777778,\"#fb9f3a\"],[0.8888888888888888,\"#fdca26\"],[1.0,\"#f0f921\"]]}],\"heatmapgl\":[{\"type\":\"heatmapgl\",\"colorbar\":{\"outlinewidth\":0,\"ticks\":\"\"},\"colorscale\":[[0.0,\"#0d0887\"],[0.1111111111111111,\"#46039f\"],[0.2222222222222222,\"#7201a8\"],[0.3333333333333333,\"#9c179e\"],[0.4444444444444444,\"#bd3786\"],[0.5555555555555556,\"#d8576b\"],[0.6666666666666666,\"#ed7953\"],[0.7777777777777778,\"#fb9f3a\"],[0.8888888888888888,\"#fdca26\"],[1.0,\"#f0f921\"]]}],\"contourcarpet\":[{\"type\":\"contourcarpet\",\"colorbar\":{\"outlinewidth\":0,\"ticks\":\"\"}}],\"contour\":[{\"type\":\"contour\",\"colorbar\":{\"outlinewidth\":0,\"ticks\":\"\"},\"colorscale\":[[0.0,\"#0d0887\"],[0.1111111111111111,\"#46039f\"],[0.2222222222222222,\"#7201a8\"],[0.3333333333333333,\"#9c179e\"],[0.4444444444444444,\"#bd3786\"],[0.5555555555555556,\"#d8576b\"],[0.6666666666666666,\"#ed7953\"],[0.7777777777777778,\"#fb9f3a\"],[0.8888888888888888,\"#fdca26\"],[1.0,\"#f0f921\"]]}],\"surface\":[{\"type\":\"surface\",\"colorbar\":{\"outlinewidth\":0,\"ticks\":\"\"},\"colorscale\":[[0.0,\"#0d0887\"],[0.1111111111111111,\"#46039f\"],[0.2222222222222222,\"#7201a8\"],[0.3333333333333333,\"#9c179e\"],[0.4444444444444444,\"#bd3786\"],[0.5555555555555556,\"#d8576b\"],[0.6666666666666666,\"#ed7953\"],[0.7777777777777778,\"#fb9f3a\"],[0.8888888888888888,\"#fdca26\"],[1.0,\"#f0f921\"]]}],\"mesh3d\":[{\"type\":\"mesh3d\",\"colorbar\":{\"outlinewidth\":0,\"ticks\":\"\"}}],\"scatter\":[{\"fillpattern\":{\"fillmode\":\"overlay\",\"size\":10,\"solidity\":0.2},\"type\":\"scatter\"}],\"parcoords\":[{\"type\":\"parcoords\",\"line\":{\"colorbar\":{\"outlinewidth\":0,\"ticks\":\"\"}}}],\"scatterpolargl\":[{\"type\":\"scatterpolargl\",\"marker\":{\"colorbar\":{\"outlinewidth\":0,\"ticks\":\"\"}}}],\"bar\":[{\"error_x\":{\"color\":\"#2a3f5f\"},\"error_y\":{\"color\":\"#2a3f5f\"},\"marker\":{\"line\":{\"color\":\"#E5ECF6\",\"width\":0.5},\"pattern\":{\"fillmode\":\"overlay\",\"size\":10,\"solidity\":0.2}},\"type\":\"bar\"}],\"scattergeo\":[{\"type\":\"scattergeo\",\"marker\":{\"colorbar\":{\"outlinewidth\":0,\"ticks\":\"\"}}}],\"scatterpolar\":[{\"type\":\"scatterpolar\",\"marker\":{\"colorbar\":{\"outlinewidth\":0,\"ticks\":\"\"}}}],\"histogram\":[{\"marker\":{\"pattern\":{\"fillmode\":\"overlay\",\"size\":10,\"solidity\":0.2}},\"type\":\"histogram\"}],\"scattergl\":[{\"type\":\"scattergl\",\"marker\":{\"colorbar\":{\"outlinewidth\":0,\"ticks\":\"\"}}}],\"scatter3d\":[{\"type\":\"scatter3d\",\"line\":{\"colorbar\":{\"outlinewidth\":0,\"ticks\":\"\"}},\"marker\":{\"colorbar\":{\"outlinewidth\":0,\"ticks\":\"\"}}}],\"scattermapbox\":[{\"type\":\"scattermapbox\",\"marker\":{\"colorbar\":{\"outlinewidth\":0,\"ticks\":\"\"}}}],\"scatterternary\":[{\"type\":\"scatterternary\",\"marker\":{\"colorbar\":{\"outlinewidth\":0,\"ticks\":\"\"}}}],\"scattercarpet\":[{\"type\":\"scattercarpet\",\"marker\":{\"colorbar\":{\"outlinewidth\":0,\"ticks\":\"\"}}}],\"carpet\":[{\"aaxis\":{\"endlinecolor\":\"#2a3f5f\",\"gridcolor\":\"white\",\"linecolor\":\"white\",\"minorgridcolor\":\"white\",\"startlinecolor\":\"#2a3f5f\"},\"baxis\":{\"endlinecolor\":\"#2a3f5f\",\"gridcolor\":\"white\",\"linecolor\":\"white\",\"minorgridcolor\":\"white\",\"startlinecolor\":\"#2a3f5f\"},\"type\":\"carpet\"}],\"table\":[{\"cells\":{\"fill\":{\"color\":\"#EBF0F8\"},\"line\":{\"color\":\"white\"}},\"header\":{\"fill\":{\"color\":\"#C8D4E3\"},\"line\":{\"color\":\"white\"}},\"type\":\"table\"}],\"barpolar\":[{\"marker\":{\"line\":{\"color\":\"#E5ECF6\",\"width\":0.5},\"pattern\":{\"fillmode\":\"overlay\",\"size\":10,\"solidity\":0.2}},\"type\":\"barpolar\"}],\"pie\":[{\"automargin\":true,\"type\":\"pie\"}]},\"layout\":{\"autotypenumbers\":\"strict\",\"colorway\":[\"#636efa\",\"#EF553B\",\"#00cc96\",\"#ab63fa\",\"#FFA15A\",\"#19d3f3\",\"#FF6692\",\"#B6E880\",\"#FF97FF\",\"#FECB52\"],\"font\":{\"color\":\"#2a3f5f\"},\"hovermode\":\"closest\",\"hoverlabel\":{\"align\":\"left\"},\"paper_bgcolor\":\"white\",\"plot_bgcolor\":\"#E5ECF6\",\"polar\":{\"bgcolor\":\"#E5ECF6\",\"angularaxis\":{\"gridcolor\":\"white\",\"linecolor\":\"white\",\"ticks\":\"\"},\"radialaxis\":{\"gridcolor\":\"white\",\"linecolor\":\"white\",\"ticks\":\"\"}},\"ternary\":{\"bgcolor\":\"#E5ECF6\",\"aaxis\":{\"gridcolor\":\"white\",\"linecolor\":\"white\",\"ticks\":\"\"},\"baxis\":{\"gridcolor\":\"white\",\"linecolor\":\"white\",\"ticks\":\"\"},\"caxis\":{\"gridcolor\":\"white\",\"linecolor\":\"white\",\"ticks\":\"\"}},\"coloraxis\":{\"colorbar\":{\"outlinewidth\":0,\"ticks\":\"\"}},\"colorscale\":{\"sequential\":[[0.0,\"#0d0887\"],[0.1111111111111111,\"#46039f\"],[0.2222222222222222,\"#7201a8\"],[0.3333333333333333,\"#9c179e\"],[0.4444444444444444,\"#bd3786\"],[0.5555555555555556,\"#d8576b\"],[0.6666666666666666,\"#ed7953\"],[0.7777777777777778,\"#fb9f3a\"],[0.8888888888888888,\"#fdca26\"],[1.0,\"#f0f921\"]],\"sequentialminus\":[[0.0,\"#0d0887\"],[0.1111111111111111,\"#46039f\"],[0.2222222222222222,\"#7201a8\"],[0.3333333333333333,\"#9c179e\"],[0.4444444444444444,\"#bd3786\"],[0.5555555555555556,\"#d8576b\"],[0.6666666666666666,\"#ed7953\"],[0.7777777777777778,\"#fb9f3a\"],[0.8888888888888888,\"#fdca26\"],[1.0,\"#f0f921\"]],\"diverging\":[[0,\"#8e0152\"],[0.1,\"#c51b7d\"],[0.2,\"#de77ae\"],[0.3,\"#f1b6da\"],[0.4,\"#fde0ef\"],[0.5,\"#f7f7f7\"],[0.6,\"#e6f5d0\"],[0.7,\"#b8e186\"],[0.8,\"#7fbc41\"],[0.9,\"#4d9221\"],[1,\"#276419\"]]},\"xaxis\":{\"gridcolor\":\"white\",\"linecolor\":\"white\",\"ticks\":\"\",\"title\":{\"standoff\":15},\"zerolinecolor\":\"white\",\"automargin\":true,\"zerolinewidth\":2},\"yaxis\":{\"gridcolor\":\"white\",\"linecolor\":\"white\",\"ticks\":\"\",\"title\":{\"standoff\":15},\"zerolinecolor\":\"white\",\"automargin\":true,\"zerolinewidth\":2},\"scene\":{\"xaxis\":{\"backgroundcolor\":\"#E5ECF6\",\"gridcolor\":\"white\",\"linecolor\":\"white\",\"showbackground\":true,\"ticks\":\"\",\"zerolinecolor\":\"white\",\"gridwidth\":2},\"yaxis\":{\"backgroundcolor\":\"#E5ECF6\",\"gridcolor\":\"white\",\"linecolor\":\"white\",\"showbackground\":true,\"ticks\":\"\",\"zerolinecolor\":\"white\",\"gridwidth\":2},\"zaxis\":{\"backgroundcolor\":\"#E5ECF6\",\"gridcolor\":\"white\",\"linecolor\":\"white\",\"showbackground\":true,\"ticks\":\"\",\"zerolinecolor\":\"white\",\"gridwidth\":2}},\"shapedefaults\":{\"line\":{\"color\":\"#2a3f5f\"}},\"annotationdefaults\":{\"arrowcolor\":\"#2a3f5f\",\"arrowhead\":0,\"arrowwidth\":1},\"geo\":{\"bgcolor\":\"white\",\"landcolor\":\"#E5ECF6\",\"subunitcolor\":\"white\",\"showland\":true,\"showlakes\":true,\"lakecolor\":\"white\"},\"title\":{\"x\":0.05},\"mapbox\":{\"style\":\"light\"}}},\"xaxis\":{\"title\":{\"text\":\"Birth\"},\"side\":\"bottom\",\"type\":\"linear\",\"range\":[-0.0002828427031636238,0.014424977861344813],\"autorange\":false,\"ticks\":\"outside\",\"showline\":true,\"zeroline\":true,\"linewidth\":1,\"linecolor\":\"black\",\"mirror\":false,\"showexponent\":\"all\",\"exponentformat\":\"e\"},\"yaxis\":{\"title\":{\"text\":\"Death\"},\"side\":\"left\",\"type\":\"linear\",\"range\":[-0.0002828427031636238,0.014424977861344813],\"autorange\":false,\"scaleanchor\":\"x\",\"scaleratio\":1,\"ticks\":\"outside\",\"showline\":true,\"zeroline\":true,\"linewidth\":1,\"linecolor\":\"black\",\"mirror\":false,\"showexponent\":\"all\",\"exponentformat\":\"e\"},\"width\":500,\"height\":500,\"plot_bgcolor\":\"white\"},                        {\"responsive\": true}                    ).then(function(){\n",
       "                            \n",
       "var gd = document.getElementById('55e71b94-28dc-417b-a23c-90f9b0490d99');\n",
       "var x = new MutationObserver(function (mutations, observer) {{\n",
       "        var display = window.getComputedStyle(gd).display;\n",
       "        if (!display || display === 'none') {{\n",
       "            console.log([gd, 'removed!']);\n",
       "            Plotly.purge(gd);\n",
       "            observer.disconnect();\n",
       "        }}\n",
       "}});\n",
       "\n",
       "// Listen for the removal of the full notebook cells\n",
       "var notebookContainer = gd.closest('#notebook-container');\n",
       "if (notebookContainer) {{\n",
       "    x.observe(notebookContainer, {childList: true});\n",
       "}}\n",
       "\n",
       "// Listen for the clearing of the current output cell\n",
       "var outputEl = gd.closest('.output');\n",
       "if (outputEl) {{\n",
       "    x.observe(outputEl, {childList: true});\n",
       "}}\n",
       "\n",
       "                        })                };                });            </script>        </div>"
      ]
     },
     "metadata": {},
     "output_type": "display_data"
    },
    {
     "data": {
      "application/vnd.plotly.v1+json": {
       "config": {
        "plotlyServerURL": "https://plot.ly"
       },
       "data": [
        {
         "hoverinfo": "none",
         "line": {
          "color": "black",
          "dash": "dash",
          "width": 1
         },
         "mode": "lines",
         "showlegend": false,
         "type": "scatter",
         "x": [
          -0.0002828427031636238,
          0.014424977861344813
         ],
         "y": [
          -0.0002828427031636238,
          0.014424977861344813
         ]
        },
        {
         "hoverinfo": "text",
         "hovertext": [
          "(0.0, 0.009999999776482582), multiplicity: 34",
          "(0.0, 0.009999999776482582), multiplicity: 34",
          "(0.0, 0.009999999776482582), multiplicity: 34",
          "(0.0, 0.009999999776482582), multiplicity: 34",
          "(0.0, 0.009999999776482582), multiplicity: 34",
          "(0.0, 0.009999999776482582), multiplicity: 34",
          "(0.0, 0.009999999776482582), multiplicity: 34",
          "(0.0, 0.009999999776482582), multiplicity: 34",
          "(0.0, 0.009999999776482582), multiplicity: 34",
          "(0.0, 0.009999999776482582), multiplicity: 34",
          "(0.0, 0.009999999776482582), multiplicity: 34",
          "(0.0, 0.009999999776482582), multiplicity: 34",
          "(0.0, 0.009999999776482582), multiplicity: 34",
          "(0.0, 0.009999999776482582), multiplicity: 34",
          "(0.0, 0.009999999776482582), multiplicity: 34",
          "(0.0, 0.009999999776482582), multiplicity: 34",
          "(0.0, 0.009999999776482582), multiplicity: 34",
          "(0.0, 0.009999999776482582), multiplicity: 34",
          "(0.0, 0.009999999776482582), multiplicity: 34",
          "(0.0, 0.009999999776482582), multiplicity: 34",
          "(0.0, 0.009999999776482582), multiplicity: 34",
          "(0.0, 0.009999999776482582), multiplicity: 34",
          "(0.0, 0.009999999776482582), multiplicity: 34",
          "(0.0, 0.009999999776482582), multiplicity: 34",
          "(0.0, 0.009999999776482582), multiplicity: 34",
          "(0.0, 0.009999999776482582), multiplicity: 34",
          "(0.0, 0.009999999776482582), multiplicity: 34",
          "(0.0, 0.009999999776482582), multiplicity: 34",
          "(0.0, 0.009999999776482582), multiplicity: 34",
          "(0.0, 0.009999999776482582), multiplicity: 34",
          "(0.0, 0.009999999776482582), multiplicity: 34",
          "(0.0, 0.009999999776482582), multiplicity: 34",
          "(0.0, 0.009999999776482582), multiplicity: 34",
          "(0.0, 0.009999999776482582), multiplicity: 34",
          "(0.0, 0.01414213515818119), multiplicity: 2",
          "(0.0, 0.01414213515818119), multiplicity: 2"
         ],
         "mode": "markers",
         "name": "H0",
         "type": "scatter",
         "x": [
          0,
          0,
          0,
          0,
          0,
          0,
          0,
          0,
          0,
          0,
          0,
          0,
          0,
          0,
          0,
          0,
          0,
          0,
          0,
          0,
          0,
          0,
          0,
          0,
          0,
          0,
          0,
          0,
          0,
          0,
          0,
          0,
          0,
          0,
          0,
          0
         ],
         "y": [
          0.009999999776482582,
          0.009999999776482582,
          0.009999999776482582,
          0.009999999776482582,
          0.009999999776482582,
          0.009999999776482582,
          0.009999999776482582,
          0.009999999776482582,
          0.009999999776482582,
          0.009999999776482582,
          0.009999999776482582,
          0.009999999776482582,
          0.009999999776482582,
          0.009999999776482582,
          0.009999999776482582,
          0.009999999776482582,
          0.009999999776482582,
          0.009999999776482582,
          0.009999999776482582,
          0.009999999776482582,
          0.009999999776482582,
          0.009999999776482582,
          0.009999999776482582,
          0.009999999776482582,
          0.009999999776482582,
          0.009999999776482582,
          0.009999999776482582,
          0.009999999776482582,
          0.009999999776482582,
          0.009999999776482582,
          0.009999999776482582,
          0.009999999776482582,
          0.009999999776482582,
          0.009999999776482582,
          0.01414213515818119,
          0.01414213515818119
         ]
        },
        {
         "hoverinfo": "text",
         "hovertext": [
          "(0.009999999776482582, 0.01414213515818119), multiplicity: 15",
          "(0.009999999776482582, 0.01414213515818119), multiplicity: 15",
          "(0.009999999776482582, 0.01414213515818119), multiplicity: 15",
          "(0.009999999776482582, 0.01414213515818119), multiplicity: 15",
          "(0.009999999776482582, 0.01414213515818119), multiplicity: 15",
          "(0.009999999776482582, 0.01414213515818119), multiplicity: 15",
          "(0.009999999776482582, 0.01414213515818119), multiplicity: 15",
          "(0.009999999776482582, 0.01414213515818119), multiplicity: 15",
          "(0.009999999776482582, 0.01414213515818119), multiplicity: 15",
          "(0.009999999776482582, 0.01414213515818119), multiplicity: 15",
          "(0.009999999776482582, 0.01414213515818119), multiplicity: 15",
          "(0.009999999776482582, 0.01414213515818119), multiplicity: 15",
          "(0.009999999776482582, 0.01414213515818119), multiplicity: 15",
          "(0.009999999776482582, 0.01414213515818119), multiplicity: 15",
          "(0.009999999776482582, 0.01414213515818119), multiplicity: 15"
         ],
         "mode": "markers",
         "name": "H1",
         "type": "scatter",
         "x": [
          0.009999999776482582,
          0.009999999776482582,
          0.009999999776482582,
          0.009999999776482582,
          0.009999999776482582,
          0.009999999776482582,
          0.009999999776482582,
          0.009999999776482582,
          0.009999999776482582,
          0.009999999776482582,
          0.009999999776482582,
          0.009999999776482582,
          0.009999999776482582,
          0.009999999776482582,
          0.009999999776482582
         ],
         "y": [
          0.01414213515818119,
          0.01414213515818119,
          0.01414213515818119,
          0.01414213515818119,
          0.01414213515818119,
          0.01414213515818119,
          0.01414213515818119,
          0.01414213515818119,
          0.01414213515818119,
          0.01414213515818119,
          0.01414213515818119,
          0.01414213515818119,
          0.01414213515818119,
          0.01414213515818119,
          0.01414213515818119
         ]
        },
        {
         "hoverinfo": "text",
         "hovertext": [],
         "mode": "markers",
         "name": "H2",
         "type": "scatter",
         "x": [],
         "y": []
        }
       ],
       "layout": {
        "height": 500,
        "plot_bgcolor": "white",
        "template": {
         "data": {
          "bar": [
           {
            "error_x": {
             "color": "#2a3f5f"
            },
            "error_y": {
             "color": "#2a3f5f"
            },
            "marker": {
             "line": {
              "color": "#E5ECF6",
              "width": 0.5
             },
             "pattern": {
              "fillmode": "overlay",
              "size": 10,
              "solidity": 0.2
             }
            },
            "type": "bar"
           }
          ],
          "barpolar": [
           {
            "marker": {
             "line": {
              "color": "#E5ECF6",
              "width": 0.5
             },
             "pattern": {
              "fillmode": "overlay",
              "size": 10,
              "solidity": 0.2
             }
            },
            "type": "barpolar"
           }
          ],
          "carpet": [
           {
            "aaxis": {
             "endlinecolor": "#2a3f5f",
             "gridcolor": "white",
             "linecolor": "white",
             "minorgridcolor": "white",
             "startlinecolor": "#2a3f5f"
            },
            "baxis": {
             "endlinecolor": "#2a3f5f",
             "gridcolor": "white",
             "linecolor": "white",
             "minorgridcolor": "white",
             "startlinecolor": "#2a3f5f"
            },
            "type": "carpet"
           }
          ],
          "choropleth": [
           {
            "colorbar": {
             "outlinewidth": 0,
             "ticks": ""
            },
            "type": "choropleth"
           }
          ],
          "contour": [
           {
            "colorbar": {
             "outlinewidth": 0,
             "ticks": ""
            },
            "colorscale": [
             [
              0,
              "#0d0887"
             ],
             [
              0.1111111111111111,
              "#46039f"
             ],
             [
              0.2222222222222222,
              "#7201a8"
             ],
             [
              0.3333333333333333,
              "#9c179e"
             ],
             [
              0.4444444444444444,
              "#bd3786"
             ],
             [
              0.5555555555555556,
              "#d8576b"
             ],
             [
              0.6666666666666666,
              "#ed7953"
             ],
             [
              0.7777777777777778,
              "#fb9f3a"
             ],
             [
              0.8888888888888888,
              "#fdca26"
             ],
             [
              1,
              "#f0f921"
             ]
            ],
            "type": "contour"
           }
          ],
          "contourcarpet": [
           {
            "colorbar": {
             "outlinewidth": 0,
             "ticks": ""
            },
            "type": "contourcarpet"
           }
          ],
          "heatmap": [
           {
            "colorbar": {
             "outlinewidth": 0,
             "ticks": ""
            },
            "colorscale": [
             [
              0,
              "#0d0887"
             ],
             [
              0.1111111111111111,
              "#46039f"
             ],
             [
              0.2222222222222222,
              "#7201a8"
             ],
             [
              0.3333333333333333,
              "#9c179e"
             ],
             [
              0.4444444444444444,
              "#bd3786"
             ],
             [
              0.5555555555555556,
              "#d8576b"
             ],
             [
              0.6666666666666666,
              "#ed7953"
             ],
             [
              0.7777777777777778,
              "#fb9f3a"
             ],
             [
              0.8888888888888888,
              "#fdca26"
             ],
             [
              1,
              "#f0f921"
             ]
            ],
            "type": "heatmap"
           }
          ],
          "heatmapgl": [
           {
            "colorbar": {
             "outlinewidth": 0,
             "ticks": ""
            },
            "colorscale": [
             [
              0,
              "#0d0887"
             ],
             [
              0.1111111111111111,
              "#46039f"
             ],
             [
              0.2222222222222222,
              "#7201a8"
             ],
             [
              0.3333333333333333,
              "#9c179e"
             ],
             [
              0.4444444444444444,
              "#bd3786"
             ],
             [
              0.5555555555555556,
              "#d8576b"
             ],
             [
              0.6666666666666666,
              "#ed7953"
             ],
             [
              0.7777777777777778,
              "#fb9f3a"
             ],
             [
              0.8888888888888888,
              "#fdca26"
             ],
             [
              1,
              "#f0f921"
             ]
            ],
            "type": "heatmapgl"
           }
          ],
          "histogram": [
           {
            "marker": {
             "pattern": {
              "fillmode": "overlay",
              "size": 10,
              "solidity": 0.2
             }
            },
            "type": "histogram"
           }
          ],
          "histogram2d": [
           {
            "colorbar": {
             "outlinewidth": 0,
             "ticks": ""
            },
            "colorscale": [
             [
              0,
              "#0d0887"
             ],
             [
              0.1111111111111111,
              "#46039f"
             ],
             [
              0.2222222222222222,
              "#7201a8"
             ],
             [
              0.3333333333333333,
              "#9c179e"
             ],
             [
              0.4444444444444444,
              "#bd3786"
             ],
             [
              0.5555555555555556,
              "#d8576b"
             ],
             [
              0.6666666666666666,
              "#ed7953"
             ],
             [
              0.7777777777777778,
              "#fb9f3a"
             ],
             [
              0.8888888888888888,
              "#fdca26"
             ],
             [
              1,
              "#f0f921"
             ]
            ],
            "type": "histogram2d"
           }
          ],
          "histogram2dcontour": [
           {
            "colorbar": {
             "outlinewidth": 0,
             "ticks": ""
            },
            "colorscale": [
             [
              0,
              "#0d0887"
             ],
             [
              0.1111111111111111,
              "#46039f"
             ],
             [
              0.2222222222222222,
              "#7201a8"
             ],
             [
              0.3333333333333333,
              "#9c179e"
             ],
             [
              0.4444444444444444,
              "#bd3786"
             ],
             [
              0.5555555555555556,
              "#d8576b"
             ],
             [
              0.6666666666666666,
              "#ed7953"
             ],
             [
              0.7777777777777778,
              "#fb9f3a"
             ],
             [
              0.8888888888888888,
              "#fdca26"
             ],
             [
              1,
              "#f0f921"
             ]
            ],
            "type": "histogram2dcontour"
           }
          ],
          "mesh3d": [
           {
            "colorbar": {
             "outlinewidth": 0,
             "ticks": ""
            },
            "type": "mesh3d"
           }
          ],
          "parcoords": [
           {
            "line": {
             "colorbar": {
              "outlinewidth": 0,
              "ticks": ""
             }
            },
            "type": "parcoords"
           }
          ],
          "pie": [
           {
            "automargin": true,
            "type": "pie"
           }
          ],
          "scatter": [
           {
            "fillpattern": {
             "fillmode": "overlay",
             "size": 10,
             "solidity": 0.2
            },
            "type": "scatter"
           }
          ],
          "scatter3d": [
           {
            "line": {
             "colorbar": {
              "outlinewidth": 0,
              "ticks": ""
             }
            },
            "marker": {
             "colorbar": {
              "outlinewidth": 0,
              "ticks": ""
             }
            },
            "type": "scatter3d"
           }
          ],
          "scattercarpet": [
           {
            "marker": {
             "colorbar": {
              "outlinewidth": 0,
              "ticks": ""
             }
            },
            "type": "scattercarpet"
           }
          ],
          "scattergeo": [
           {
            "marker": {
             "colorbar": {
              "outlinewidth": 0,
              "ticks": ""
             }
            },
            "type": "scattergeo"
           }
          ],
          "scattergl": [
           {
            "marker": {
             "colorbar": {
              "outlinewidth": 0,
              "ticks": ""
             }
            },
            "type": "scattergl"
           }
          ],
          "scattermapbox": [
           {
            "marker": {
             "colorbar": {
              "outlinewidth": 0,
              "ticks": ""
             }
            },
            "type": "scattermapbox"
           }
          ],
          "scatterpolar": [
           {
            "marker": {
             "colorbar": {
              "outlinewidth": 0,
              "ticks": ""
             }
            },
            "type": "scatterpolar"
           }
          ],
          "scatterpolargl": [
           {
            "marker": {
             "colorbar": {
              "outlinewidth": 0,
              "ticks": ""
             }
            },
            "type": "scatterpolargl"
           }
          ],
          "scatterternary": [
           {
            "marker": {
             "colorbar": {
              "outlinewidth": 0,
              "ticks": ""
             }
            },
            "type": "scatterternary"
           }
          ],
          "surface": [
           {
            "colorbar": {
             "outlinewidth": 0,
             "ticks": ""
            },
            "colorscale": [
             [
              0,
              "#0d0887"
             ],
             [
              0.1111111111111111,
              "#46039f"
             ],
             [
              0.2222222222222222,
              "#7201a8"
             ],
             [
              0.3333333333333333,
              "#9c179e"
             ],
             [
              0.4444444444444444,
              "#bd3786"
             ],
             [
              0.5555555555555556,
              "#d8576b"
             ],
             [
              0.6666666666666666,
              "#ed7953"
             ],
             [
              0.7777777777777778,
              "#fb9f3a"
             ],
             [
              0.8888888888888888,
              "#fdca26"
             ],
             [
              1,
              "#f0f921"
             ]
            ],
            "type": "surface"
           }
          ],
          "table": [
           {
            "cells": {
             "fill": {
              "color": "#EBF0F8"
             },
             "line": {
              "color": "white"
             }
            },
            "header": {
             "fill": {
              "color": "#C8D4E3"
             },
             "line": {
              "color": "white"
             }
            },
            "type": "table"
           }
          ]
         },
         "layout": {
          "annotationdefaults": {
           "arrowcolor": "#2a3f5f",
           "arrowhead": 0,
           "arrowwidth": 1
          },
          "autotypenumbers": "strict",
          "coloraxis": {
           "colorbar": {
            "outlinewidth": 0,
            "ticks": ""
           }
          },
          "colorscale": {
           "diverging": [
            [
             0,
             "#8e0152"
            ],
            [
             0.1,
             "#c51b7d"
            ],
            [
             0.2,
             "#de77ae"
            ],
            [
             0.3,
             "#f1b6da"
            ],
            [
             0.4,
             "#fde0ef"
            ],
            [
             0.5,
             "#f7f7f7"
            ],
            [
             0.6,
             "#e6f5d0"
            ],
            [
             0.7,
             "#b8e186"
            ],
            [
             0.8,
             "#7fbc41"
            ],
            [
             0.9,
             "#4d9221"
            ],
            [
             1,
             "#276419"
            ]
           ],
           "sequential": [
            [
             0,
             "#0d0887"
            ],
            [
             0.1111111111111111,
             "#46039f"
            ],
            [
             0.2222222222222222,
             "#7201a8"
            ],
            [
             0.3333333333333333,
             "#9c179e"
            ],
            [
             0.4444444444444444,
             "#bd3786"
            ],
            [
             0.5555555555555556,
             "#d8576b"
            ],
            [
             0.6666666666666666,
             "#ed7953"
            ],
            [
             0.7777777777777778,
             "#fb9f3a"
            ],
            [
             0.8888888888888888,
             "#fdca26"
            ],
            [
             1,
             "#f0f921"
            ]
           ],
           "sequentialminus": [
            [
             0,
             "#0d0887"
            ],
            [
             0.1111111111111111,
             "#46039f"
            ],
            [
             0.2222222222222222,
             "#7201a8"
            ],
            [
             0.3333333333333333,
             "#9c179e"
            ],
            [
             0.4444444444444444,
             "#bd3786"
            ],
            [
             0.5555555555555556,
             "#d8576b"
            ],
            [
             0.6666666666666666,
             "#ed7953"
            ],
            [
             0.7777777777777778,
             "#fb9f3a"
            ],
            [
             0.8888888888888888,
             "#fdca26"
            ],
            [
             1,
             "#f0f921"
            ]
           ]
          },
          "colorway": [
           "#636efa",
           "#EF553B",
           "#00cc96",
           "#ab63fa",
           "#FFA15A",
           "#19d3f3",
           "#FF6692",
           "#B6E880",
           "#FF97FF",
           "#FECB52"
          ],
          "font": {
           "color": "#2a3f5f"
          },
          "geo": {
           "bgcolor": "white",
           "lakecolor": "white",
           "landcolor": "#E5ECF6",
           "showlakes": true,
           "showland": true,
           "subunitcolor": "white"
          },
          "hoverlabel": {
           "align": "left"
          },
          "hovermode": "closest",
          "mapbox": {
           "style": "light"
          },
          "paper_bgcolor": "white",
          "plot_bgcolor": "#E5ECF6",
          "polar": {
           "angularaxis": {
            "gridcolor": "white",
            "linecolor": "white",
            "ticks": ""
           },
           "bgcolor": "#E5ECF6",
           "radialaxis": {
            "gridcolor": "white",
            "linecolor": "white",
            "ticks": ""
           }
          },
          "scene": {
           "xaxis": {
            "backgroundcolor": "#E5ECF6",
            "gridcolor": "white",
            "gridwidth": 2,
            "linecolor": "white",
            "showbackground": true,
            "ticks": "",
            "zerolinecolor": "white"
           },
           "yaxis": {
            "backgroundcolor": "#E5ECF6",
            "gridcolor": "white",
            "gridwidth": 2,
            "linecolor": "white",
            "showbackground": true,
            "ticks": "",
            "zerolinecolor": "white"
           },
           "zaxis": {
            "backgroundcolor": "#E5ECF6",
            "gridcolor": "white",
            "gridwidth": 2,
            "linecolor": "white",
            "showbackground": true,
            "ticks": "",
            "zerolinecolor": "white"
           }
          },
          "shapedefaults": {
           "line": {
            "color": "#2a3f5f"
           }
          },
          "ternary": {
           "aaxis": {
            "gridcolor": "white",
            "linecolor": "white",
            "ticks": ""
           },
           "baxis": {
            "gridcolor": "white",
            "linecolor": "white",
            "ticks": ""
           },
           "bgcolor": "#E5ECF6",
           "caxis": {
            "gridcolor": "white",
            "linecolor": "white",
            "ticks": ""
           }
          },
          "title": {
           "x": 0.05
          },
          "xaxis": {
           "automargin": true,
           "gridcolor": "white",
           "linecolor": "white",
           "ticks": "",
           "title": {
            "standoff": 15
           },
           "zerolinecolor": "white",
           "zerolinewidth": 2
          },
          "yaxis": {
           "automargin": true,
           "gridcolor": "white",
           "linecolor": "white",
           "ticks": "",
           "title": {
            "standoff": 15
           },
           "zerolinecolor": "white",
           "zerolinewidth": 2
          }
         }
        },
        "width": 500,
        "xaxis": {
         "autorange": false,
         "domain": [
          0,
          1
         ],
         "exponentformat": "e",
         "linecolor": "black",
         "linewidth": 1,
         "mirror": false,
         "range": [
          -0.0007194811261724693,
          0.01486161628435366
         ],
         "showexponent": "all",
         "showline": true,
         "side": "bottom",
         "ticks": "outside",
         "title": {
          "text": "Birth"
         },
         "type": "linear",
         "zeroline": true
        },
        "yaxis": {
         "autorange": false,
         "domain": [
          0,
          1
         ],
         "exponentformat": "e",
         "linecolor": "black",
         "linewidth": 1,
         "mirror": false,
         "range": [
          -0.0002828427031636238,
          0.014424977861344813
         ],
         "scaleanchor": "x",
         "scaleratio": 1,
         "showexponent": "all",
         "showline": true,
         "side": "left",
         "ticks": "outside",
         "title": {
          "text": "Death"
         },
         "type": "linear",
         "zeroline": true
        }
       }
      },
      "image/png": "[encoded data removed]",
      "text/html": [
       "<div>                            <div id=\"7de37cca-7024-4a42-b094-ad93fe87d3ff\" class=\"plotly-graph-div\" style=\"height:500px; width:500px;\"></div>            <script type=\"text/javascript\">                require([\"plotly\"], function(Plotly) {                    window.PLOTLYENV=window.PLOTLYENV || {};                                    if (document.getElementById(\"7de37cca-7024-4a42-b094-ad93fe87d3ff\")) {                    Plotly.newPlot(                        \"7de37cca-7024-4a42-b094-ad93fe87d3ff\",                        [{\"hoverinfo\":\"none\",\"line\":{\"color\":\"black\",\"dash\":\"dash\",\"width\":1},\"mode\":\"lines\",\"showlegend\":false,\"x\":[-0.0002828427031636238,0.014424977861344813],\"y\":[-0.0002828427031636238,0.014424977861344813],\"type\":\"scatter\"},{\"hoverinfo\":\"text\",\"hovertext\":[\"(0.0, 0.009999999776482582), multiplicity: 34\",\"(0.0, 0.009999999776482582), multiplicity: 34\",\"(0.0, 0.009999999776482582), multiplicity: 34\",\"(0.0, 0.009999999776482582), multiplicity: 34\",\"(0.0, 0.009999999776482582), multiplicity: 34\",\"(0.0, 0.009999999776482582), multiplicity: 34\",\"(0.0, 0.009999999776482582), multiplicity: 34\",\"(0.0, 0.009999999776482582), multiplicity: 34\",\"(0.0, 0.009999999776482582), multiplicity: 34\",\"(0.0, 0.009999999776482582), multiplicity: 34\",\"(0.0, 0.009999999776482582), multiplicity: 34\",\"(0.0, 0.009999999776482582), multiplicity: 34\",\"(0.0, 0.009999999776482582), multiplicity: 34\",\"(0.0, 0.009999999776482582), multiplicity: 34\",\"(0.0, 0.009999999776482582), multiplicity: 34\",\"(0.0, 0.009999999776482582), multiplicity: 34\",\"(0.0, 0.009999999776482582), multiplicity: 34\",\"(0.0, 0.009999999776482582), multiplicity: 34\",\"(0.0, 0.009999999776482582), multiplicity: 34\",\"(0.0, 0.009999999776482582), multiplicity: 34\",\"(0.0, 0.009999999776482582), multiplicity: 34\",\"(0.0, 0.009999999776482582), multiplicity: 34\",\"(0.0, 0.009999999776482582), multiplicity: 34\",\"(0.0, 0.009999999776482582), multiplicity: 34\",\"(0.0, 0.009999999776482582), multiplicity: 34\",\"(0.0, 0.009999999776482582), multiplicity: 34\",\"(0.0, 0.009999999776482582), multiplicity: 34\",\"(0.0, 0.009999999776482582), multiplicity: 34\",\"(0.0, 0.009999999776482582), multiplicity: 34\",\"(0.0, 0.009999999776482582), multiplicity: 34\",\"(0.0, 0.009999999776482582), multiplicity: 34\",\"(0.0, 0.009999999776482582), multiplicity: 34\",\"(0.0, 0.009999999776482582), multiplicity: 34\",\"(0.0, 0.009999999776482582), multiplicity: 34\",\"(0.0, 0.01414213515818119), multiplicity: 2\",\"(0.0, 0.01414213515818119), multiplicity: 2\"],\"mode\":\"markers\",\"name\":\"H0\",\"x\":[0.0,0.0,0.0,0.0,0.0,0.0,0.0,0.0,0.0,0.0,0.0,0.0,0.0,0.0,0.0,0.0,0.0,0.0,0.0,0.0,0.0,0.0,0.0,0.0,0.0,0.0,0.0,0.0,0.0,0.0,0.0,0.0,0.0,0.0,0.0,0.0],\"y\":[0.009999999776482582,0.009999999776482582,0.009999999776482582,0.009999999776482582,0.009999999776482582,0.009999999776482582,0.009999999776482582,0.009999999776482582,0.009999999776482582,0.009999999776482582,0.009999999776482582,0.009999999776482582,0.009999999776482582,0.009999999776482582,0.009999999776482582,0.009999999776482582,0.009999999776482582,0.009999999776482582,0.009999999776482582,0.009999999776482582,0.009999999776482582,0.009999999776482582,0.009999999776482582,0.009999999776482582,0.009999999776482582,0.009999999776482582,0.009999999776482582,0.009999999776482582,0.009999999776482582,0.009999999776482582,0.009999999776482582,0.009999999776482582,0.009999999776482582,0.009999999776482582,0.01414213515818119,0.01414213515818119],\"type\":\"scatter\"},{\"hoverinfo\":\"text\",\"hovertext\":[\"(0.009999999776482582, 0.01414213515818119), multiplicity: 15\",\"(0.009999999776482582, 0.01414213515818119), multiplicity: 15\",\"(0.009999999776482582, 0.01414213515818119), multiplicity: 15\",\"(0.009999999776482582, 0.01414213515818119), multiplicity: 15\",\"(0.009999999776482582, 0.01414213515818119), multiplicity: 15\",\"(0.009999999776482582, 0.01414213515818119), multiplicity: 15\",\"(0.009999999776482582, 0.01414213515818119), multiplicity: 15\",\"(0.009999999776482582, 0.01414213515818119), multiplicity: 15\",\"(0.009999999776482582, 0.01414213515818119), multiplicity: 15\",\"(0.009999999776482582, 0.01414213515818119), multiplicity: 15\",\"(0.009999999776482582, 0.01414213515818119), multiplicity: 15\",\"(0.009999999776482582, 0.01414213515818119), multiplicity: 15\",\"(0.009999999776482582, 0.01414213515818119), multiplicity: 15\",\"(0.009999999776482582, 0.01414213515818119), multiplicity: 15\",\"(0.009999999776482582, 0.01414213515818119), multiplicity: 15\"],\"mode\":\"markers\",\"name\":\"H1\",\"x\":[0.009999999776482582,0.009999999776482582,0.009999999776482582,0.009999999776482582,0.009999999776482582,0.009999999776482582,0.009999999776482582,0.009999999776482582,0.009999999776482582,0.009999999776482582,0.009999999776482582,0.009999999776482582,0.009999999776482582,0.009999999776482582,0.009999999776482582],\"y\":[0.01414213515818119,0.01414213515818119,0.01414213515818119,0.01414213515818119,0.01414213515818119,0.01414213515818119,0.01414213515818119,0.01414213515818119,0.01414213515818119,0.01414213515818119,0.01414213515818119,0.01414213515818119,0.01414213515818119,0.01414213515818119,0.01414213515818119],\"type\":\"scatter\"},{\"hoverinfo\":\"text\",\"hovertext\":[],\"mode\":\"markers\",\"name\":\"H2\",\"x\":[],\"y\":[],\"type\":\"scatter\"}],                        {\"template\":{\"data\":{\"histogram2dcontour\":[{\"type\":\"histogram2dcontour\",\"colorbar\":{\"outlinewidth\":0,\"ticks\":\"\"},\"colorscale\":[[0.0,\"#0d0887\"],[0.1111111111111111,\"#46039f\"],[0.2222222222222222,\"#7201a8\"],[0.3333333333333333,\"#9c179e\"],[0.4444444444444444,\"#bd3786\"],[0.5555555555555556,\"#d8576b\"],[0.6666666666666666,\"#ed7953\"],[0.7777777777777778,\"#fb9f3a\"],[0.8888888888888888,\"#fdca26\"],[1.0,\"#f0f921\"]]}],\"choropleth\":[{\"type\":\"choropleth\",\"colorbar\":{\"outlinewidth\":0,\"ticks\":\"\"}}],\"histogram2d\":[{\"type\":\"histogram2d\",\"colorbar\":{\"outlinewidth\":0,\"ticks\":\"\"},\"colorscale\":[[0.0,\"#0d0887\"],[0.1111111111111111,\"#46039f\"],[0.2222222222222222,\"#7201a8\"],[0.3333333333333333,\"#9c179e\"],[0.4444444444444444,\"#bd3786\"],[0.5555555555555556,\"#d8576b\"],[0.6666666666666666,\"#ed7953\"],[0.7777777777777778,\"#fb9f3a\"],[0.8888888888888888,\"#fdca26\"],[1.0,\"#f0f921\"]]}],\"heatmap\":[{\"type\":\"heatmap\",\"colorbar\":{\"outlinewidth\":0,\"ticks\":\"\"},\"colorscale\":[[0.0,\"#0d0887\"],[0.1111111111111111,\"#46039f\"],[0.2222222222222222,\"#7201a8\"],[0.3333333333333333,\"#9c179e\"],[0.4444444444444444,\"#bd3786\"],[0.5555555555555556,\"#d8576b\"],[0.6666666666666666,\"#ed7953\"],[0.7777777777777778,\"#fb9f3a\"],[0.8888888888888888,\"#fdca26\"],[1.0,\"#f0f921\"]]}],\"heatmapgl\":[{\"type\":\"heatmapgl\",\"colorbar\":{\"outlinewidth\":0,\"ticks\":\"\"},\"colorscale\":[[0.0,\"#0d0887\"],[0.1111111111111111,\"#46039f\"],[0.2222222222222222,\"#7201a8\"],[0.3333333333333333,\"#9c179e\"],[0.4444444444444444,\"#bd3786\"],[0.5555555555555556,\"#d8576b\"],[0.6666666666666666,\"#ed7953\"],[0.7777777777777778,\"#fb9f3a\"],[0.8888888888888888,\"#fdca26\"],[1.0,\"#f0f921\"]]}],\"contourcarpet\":[{\"type\":\"contourcarpet\",\"colorbar\":{\"outlinewidth\":0,\"ticks\":\"\"}}],\"contour\":[{\"type\":\"contour\",\"colorbar\":{\"outlinewidth\":0,\"ticks\":\"\"},\"colorscale\":[[0.0,\"#0d0887\"],[0.1111111111111111,\"#46039f\"],[0.2222222222222222,\"#7201a8\"],[0.3333333333333333,\"#9c179e\"],[0.4444444444444444,\"#bd3786\"],[0.5555555555555556,\"#d8576b\"],[0.6666666666666666,\"#ed7953\"],[0.7777777777777778,\"#fb9f3a\"],[0.8888888888888888,\"#fdca26\"],[1.0,\"#f0f921\"]]}],\"surface\":[{\"type\":\"surface\",\"colorbar\":{\"outlinewidth\":0,\"ticks\":\"\"},\"colorscale\":[[0.0,\"#0d0887\"],[0.1111111111111111,\"#46039f\"],[0.2222222222222222,\"#7201a8\"],[0.3333333333333333,\"#9c179e\"],[0.4444444444444444,\"#bd3786\"],[0.5555555555555556,\"#d8576b\"],[0.6666666666666666,\"#ed7953\"],[0.7777777777777778,\"#fb9f3a\"],[0.8888888888888888,\"#fdca26\"],[1.0,\"#f0f921\"]]}],\"mesh3d\":[{\"type\":\"mesh3d\",\"colorbar\":{\"outlinewidth\":0,\"ticks\":\"\"}}],\"scatter\":[{\"fillpattern\":{\"fillmode\":\"overlay\",\"size\":10,\"solidity\":0.2},\"type\":\"scatter\"}],\"parcoords\":[{\"type\":\"parcoords\",\"line\":{\"colorbar\":{\"outlinewidth\":0,\"ticks\":\"\"}}}],\"scatterpolargl\":[{\"type\":\"scatterpolargl\",\"marker\":{\"colorbar\":{\"outlinewidth\":0,\"ticks\":\"\"}}}],\"bar\":[{\"error_x\":{\"color\":\"#2a3f5f\"},\"error_y\":{\"color\":\"#2a3f5f\"},\"marker\":{\"line\":{\"color\":\"#E5ECF6\",\"width\":0.5},\"pattern\":{\"fillmode\":\"overlay\",\"size\":10,\"solidity\":0.2}},\"type\":\"bar\"}],\"scattergeo\":[{\"type\":\"scattergeo\",\"marker\":{\"colorbar\":{\"outlinewidth\":0,\"ticks\":\"\"}}}],\"scatterpolar\":[{\"type\":\"scatterpolar\",\"marker\":{\"colorbar\":{\"outlinewidth\":0,\"ticks\":\"\"}}}],\"histogram\":[{\"marker\":{\"pattern\":{\"fillmode\":\"overlay\",\"size\":10,\"solidity\":0.2}},\"type\":\"histogram\"}],\"scattergl\":[{\"type\":\"scattergl\",\"marker\":{\"colorbar\":{\"outlinewidth\":0,\"ticks\":\"\"}}}],\"scatter3d\":[{\"type\":\"scatter3d\",\"line\":{\"colorbar\":{\"outlinewidth\":0,\"ticks\":\"\"}},\"marker\":{\"colorbar\":{\"outlinewidth\":0,\"ticks\":\"\"}}}],\"scattermapbox\":[{\"type\":\"scattermapbox\",\"marker\":{\"colorbar\":{\"outlinewidth\":0,\"ticks\":\"\"}}}],\"scatterternary\":[{\"type\":\"scatterternary\",\"marker\":{\"colorbar\":{\"outlinewidth\":0,\"ticks\":\"\"}}}],\"scattercarpet\":[{\"type\":\"scattercarpet\",\"marker\":{\"colorbar\":{\"outlinewidth\":0,\"ticks\":\"\"}}}],\"carpet\":[{\"aaxis\":{\"endlinecolor\":\"#2a3f5f\",\"gridcolor\":\"white\",\"linecolor\":\"white\",\"minorgridcolor\":\"white\",\"startlinecolor\":\"#2a3f5f\"},\"baxis\":{\"endlinecolor\":\"#2a3f5f\",\"gridcolor\":\"white\",\"linecolor\":\"white\",\"minorgridcolor\":\"white\",\"startlinecolor\":\"#2a3f5f\"},\"type\":\"carpet\"}],\"table\":[{\"cells\":{\"fill\":{\"color\":\"#EBF0F8\"},\"line\":{\"color\":\"white\"}},\"header\":{\"fill\":{\"color\":\"#C8D4E3\"},\"line\":{\"color\":\"white\"}},\"type\":\"table\"}],\"barpolar\":[{\"marker\":{\"line\":{\"color\":\"#E5ECF6\",\"width\":0.5},\"pattern\":{\"fillmode\":\"overlay\",\"size\":10,\"solidity\":0.2}},\"type\":\"barpolar\"}],\"pie\":[{\"automargin\":true,\"type\":\"pie\"}]},\"layout\":{\"autotypenumbers\":\"strict\",\"colorway\":[\"#636efa\",\"#EF553B\",\"#00cc96\",\"#ab63fa\",\"#FFA15A\",\"#19d3f3\",\"#FF6692\",\"#B6E880\",\"#FF97FF\",\"#FECB52\"],\"font\":{\"color\":\"#2a3f5f\"},\"hovermode\":\"closest\",\"hoverlabel\":{\"align\":\"left\"},\"paper_bgcolor\":\"white\",\"plot_bgcolor\":\"#E5ECF6\",\"polar\":{\"bgcolor\":\"#E5ECF6\",\"angularaxis\":{\"gridcolor\":\"white\",\"linecolor\":\"white\",\"ticks\":\"\"},\"radialaxis\":{\"gridcolor\":\"white\",\"linecolor\":\"white\",\"ticks\":\"\"}},\"ternary\":{\"bgcolor\":\"#E5ECF6\",\"aaxis\":{\"gridcolor\":\"white\",\"linecolor\":\"white\",\"ticks\":\"\"},\"baxis\":{\"gridcolor\":\"white\",\"linecolor\":\"white\",\"ticks\":\"\"},\"caxis\":{\"gridcolor\":\"white\",\"linecolor\":\"white\",\"ticks\":\"\"}},\"coloraxis\":{\"colorbar\":{\"outlinewidth\":0,\"ticks\":\"\"}},\"colorscale\":{\"sequential\":[[0.0,\"#0d0887\"],[0.1111111111111111,\"#46039f\"],[0.2222222222222222,\"#7201a8\"],[0.3333333333333333,\"#9c179e\"],[0.4444444444444444,\"#bd3786\"],[0.5555555555555556,\"#d8576b\"],[0.6666666666666666,\"#ed7953\"],[0.7777777777777778,\"#fb9f3a\"],[0.8888888888888888,\"#fdca26\"],[1.0,\"#f0f921\"]],\"sequentialminus\":[[0.0,\"#0d0887\"],[0.1111111111111111,\"#46039f\"],[0.2222222222222222,\"#7201a8\"],[0.3333333333333333,\"#9c179e\"],[0.4444444444444444,\"#bd3786\"],[0.5555555555555556,\"#d8576b\"],[0.6666666666666666,\"#ed7953\"],[0.7777777777777778,\"#fb9f3a\"],[0.8888888888888888,\"#fdca26\"],[1.0,\"#f0f921\"]],\"diverging\":[[0,\"#8e0152\"],[0.1,\"#c51b7d\"],[0.2,\"#de77ae\"],[0.3,\"#f1b6da\"],[0.4,\"#fde0ef\"],[0.5,\"#f7f7f7\"],[0.6,\"#e6f5d0\"],[0.7,\"#b8e186\"],[0.8,\"#7fbc41\"],[0.9,\"#4d9221\"],[1,\"#276419\"]]},\"xaxis\":{\"gridcolor\":\"white\",\"linecolor\":\"white\",\"ticks\":\"\",\"title\":{\"standoff\":15},\"zerolinecolor\":\"white\",\"automargin\":true,\"zerolinewidth\":2},\"yaxis\":{\"gridcolor\":\"white\",\"linecolor\":\"white\",\"ticks\":\"\",\"title\":{\"standoff\":15},\"zerolinecolor\":\"white\",\"automargin\":true,\"zerolinewidth\":2},\"scene\":{\"xaxis\":{\"backgroundcolor\":\"#E5ECF6\",\"gridcolor\":\"white\",\"linecolor\":\"white\",\"showbackground\":true,\"ticks\":\"\",\"zerolinecolor\":\"white\",\"gridwidth\":2},\"yaxis\":{\"backgroundcolor\":\"#E5ECF6\",\"gridcolor\":\"white\",\"linecolor\":\"white\",\"showbackground\":true,\"ticks\":\"\",\"zerolinecolor\":\"white\",\"gridwidth\":2},\"zaxis\":{\"backgroundcolor\":\"#E5ECF6\",\"gridcolor\":\"white\",\"linecolor\":\"white\",\"showbackground\":true,\"ticks\":\"\",\"zerolinecolor\":\"white\",\"gridwidth\":2}},\"shapedefaults\":{\"line\":{\"color\":\"#2a3f5f\"}},\"annotationdefaults\":{\"arrowcolor\":\"#2a3f5f\",\"arrowhead\":0,\"arrowwidth\":1},\"geo\":{\"bgcolor\":\"white\",\"landcolor\":\"#E5ECF6\",\"subunitcolor\":\"white\",\"showland\":true,\"showlakes\":true,\"lakecolor\":\"white\"},\"title\":{\"x\":0.05},\"mapbox\":{\"style\":\"light\"}}},\"xaxis\":{\"title\":{\"text\":\"Birth\"},\"side\":\"bottom\",\"type\":\"linear\",\"range\":[-0.0002828427031636238,0.014424977861344813],\"autorange\":false,\"ticks\":\"outside\",\"showline\":true,\"zeroline\":true,\"linewidth\":1,\"linecolor\":\"black\",\"mirror\":false,\"showexponent\":\"all\",\"exponentformat\":\"e\"},\"yaxis\":{\"title\":{\"text\":\"Death\"},\"side\":\"left\",\"type\":\"linear\",\"range\":[-0.0002828427031636238,0.014424977861344813],\"autorange\":false,\"scaleanchor\":\"x\",\"scaleratio\":1,\"ticks\":\"outside\",\"showline\":true,\"zeroline\":true,\"linewidth\":1,\"linecolor\":\"black\",\"mirror\":false,\"showexponent\":\"all\",\"exponentformat\":\"e\"},\"width\":500,\"height\":500,\"plot_bgcolor\":\"white\"},                        {\"responsive\": true}                    ).then(function(){\n",
       "                            \n",
       "var gd = document.getElementById('7de37cca-7024-4a42-b094-ad93fe87d3ff');\n",
       "var x = new MutationObserver(function (mutations, observer) {{\n",
       "        var display = window.getComputedStyle(gd).display;\n",
       "        if (!display || display === 'none') {{\n",
       "            console.log([gd, 'removed!']);\n",
       "            Plotly.purge(gd);\n",
       "            observer.disconnect();\n",
       "        }}\n",
       "}});\n",
       "\n",
       "// Listen for the removal of the full notebook cells\n",
       "var notebookContainer = gd.closest('#notebook-container');\n",
       "if (notebookContainer) {{\n",
       "    x.observe(notebookContainer, {childList: true});\n",
       "}}\n",
       "\n",
       "// Listen for the clearing of the current output cell\n",
       "var outputEl = gd.closest('.output');\n",
       "if (outputEl) {{\n",
       "    x.observe(outputEl, {childList: true});\n",
       "}}\n",
       "\n",
       "                        })                };                });            </script>        </div>"
      ]
     },
     "metadata": {},
     "output_type": "display_data"
    },
    {
     "data": {
      "application/vnd.plotly.v1+json": {
       "config": {
        "plotlyServerURL": "https://plot.ly"
       },
       "data": [
        {
         "hoverinfo": "none",
         "line": {
          "color": "black",
          "dash": "dash",
          "width": 1
         },
         "mode": "lines",
         "showlegend": false,
         "type": "scatter",
         "x": [
          -0.0003464101627469063,
          0.01766691830009222
         ],
         "y": [
          -0.0003464101627469063,
          0.01766691830009222
         ]
        },
        {
         "hoverinfo": "text",
         "hovertext": [
          "(0.0, 0.009999999776482582), multiplicity: 75",
          "(0.0, 0.009999999776482582), multiplicity: 75",
          "(0.0, 0.009999999776482582), multiplicity: 75",
          "(0.0, 0.009999999776482582), multiplicity: 75",
          "(0.0, 0.009999999776482582), multiplicity: 75",
          "(0.0, 0.009999999776482582), multiplicity: 75",
          "(0.0, 0.009999999776482582), multiplicity: 75",
          "(0.0, 0.009999999776482582), multiplicity: 75",
          "(0.0, 0.009999999776482582), multiplicity: 75",
          "(0.0, 0.009999999776482582), multiplicity: 75",
          "(0.0, 0.009999999776482582), multiplicity: 75",
          "(0.0, 0.009999999776482582), multiplicity: 75",
          "(0.0, 0.009999999776482582), multiplicity: 75",
          "(0.0, 0.009999999776482582), multiplicity: 75",
          "(0.0, 0.009999999776482582), multiplicity: 75",
          "(0.0, 0.009999999776482582), multiplicity: 75",
          "(0.0, 0.009999999776482582), multiplicity: 75",
          "(0.0, 0.009999999776482582), multiplicity: 75",
          "(0.0, 0.009999999776482582), multiplicity: 75",
          "(0.0, 0.009999999776482582), multiplicity: 75",
          "(0.0, 0.009999999776482582), multiplicity: 75",
          "(0.0, 0.009999999776482582), multiplicity: 75",
          "(0.0, 0.009999999776482582), multiplicity: 75",
          "(0.0, 0.009999999776482582), multiplicity: 75",
          "(0.0, 0.009999999776482582), multiplicity: 75",
          "(0.0, 0.009999999776482582), multiplicity: 75",
          "(0.0, 0.009999999776482582), multiplicity: 75",
          "(0.0, 0.009999999776482582), multiplicity: 75",
          "(0.0, 0.009999999776482582), multiplicity: 75",
          "(0.0, 0.009999999776482582), multiplicity: 75",
          "(0.0, 0.009999999776482582), multiplicity: 75",
          "(0.0, 0.009999999776482582), multiplicity: 75",
          "(0.0, 0.009999999776482582), multiplicity: 75",
          "(0.0, 0.009999999776482582), multiplicity: 75",
          "(0.0, 0.009999999776482582), multiplicity: 75",
          "(0.0, 0.009999999776482582), multiplicity: 75",
          "(0.0, 0.009999999776482582), multiplicity: 75",
          "(0.0, 0.009999999776482582), multiplicity: 75",
          "(0.0, 0.009999999776482582), multiplicity: 75",
          "(0.0, 0.009999999776482582), multiplicity: 75",
          "(0.0, 0.009999999776482582), multiplicity: 75",
          "(0.0, 0.009999999776482582), multiplicity: 75",
          "(0.0, 0.009999999776482582), multiplicity: 75",
          "(0.0, 0.009999999776482582), multiplicity: 75",
          "(0.0, 0.009999999776482582), multiplicity: 75",
          "(0.0, 0.009999999776482582), multiplicity: 75",
          "(0.0, 0.009999999776482582), multiplicity: 75",
          "(0.0, 0.009999999776482582), multiplicity: 75",
          "(0.0, 0.009999999776482582), multiplicity: 75",
          "(0.0, 0.009999999776482582), multiplicity: 75",
          "(0.0, 0.009999999776482582), multiplicity: 75",
          "(0.0, 0.009999999776482582), multiplicity: 75",
          "(0.0, 0.009999999776482582), multiplicity: 75",
          "(0.0, 0.009999999776482582), multiplicity: 75",
          "(0.0, 0.009999999776482582), multiplicity: 75",
          "(0.0, 0.009999999776482582), multiplicity: 75",
          "(0.0, 0.009999999776482582), multiplicity: 75",
          "(0.0, 0.009999999776482582), multiplicity: 75",
          "(0.0, 0.009999999776482582), multiplicity: 75",
          "(0.0, 0.009999999776482582), multiplicity: 75",
          "(0.0, 0.009999999776482582), multiplicity: 75",
          "(0.0, 0.009999999776482582), multiplicity: 75",
          "(0.0, 0.009999999776482582), multiplicity: 75",
          "(0.0, 0.009999999776482582), multiplicity: 75",
          "(0.0, 0.009999999776482582), multiplicity: 75",
          "(0.0, 0.009999999776482582), multiplicity: 75",
          "(0.0, 0.009999999776482582), multiplicity: 75",
          "(0.0, 0.009999999776482582), multiplicity: 75",
          "(0.0, 0.009999999776482582), multiplicity: 75",
          "(0.0, 0.009999999776482582), multiplicity: 75",
          "(0.0, 0.009999999776482582), multiplicity: 75",
          "(0.0, 0.009999999776482582), multiplicity: 75",
          "(0.0, 0.009999999776482582), multiplicity: 75",
          "(0.0, 0.009999999776482582), multiplicity: 75",
          "(0.0, 0.009999999776482582), multiplicity: 75",
          "(0.0, 0.01414213515818119), multiplicity: 4",
          "(0.0, 0.01414213515818119), multiplicity: 4",
          "(0.0, 0.01414213515818119), multiplicity: 4",
          "(0.0, 0.01414213515818119), multiplicity: 4",
          "(0.0, 0.017320508137345314)"
         ],
         "mode": "markers",
         "name": "H0",
         "type": "scatter",
         "x": [
          0,
          0,
          0,
          0,
          0,
          0,
          0,
          0,
          0,
          0,
          0,
          0,
          0,
          0,
          0,
          0,
          0,
          0,
          0,
          0,
          0,
          0,
          0,
          0,
          0,
          0,
          0,
          0,
          0,
          0,
          0,
          0,
          0,
          0,
          0,
          0,
          0,
          0,
          0,
          0,
          0,
          0,
          0,
          0,
          0,
          0,
          0,
          0,
          0,
          0,
          0,
          0,
          0,
          0,
          0,
          0,
          0,
          0,
          0,
          0,
          0,
          0,
          0,
          0,
          0,
          0,
          0,
          0,
          0,
          0,
          0,
          0,
          0,
          0,
          0,
          0,
          0,
          0,
          0,
          0
         ],
         "y": [
          0.009999999776482582,
          0.009999999776482582,
          0.009999999776482582,
          0.009999999776482582,
          0.009999999776482582,
          0.009999999776482582,
          0.009999999776482582,
          0.009999999776482582,
          0.009999999776482582,
          0.009999999776482582,
          0.009999999776482582,
          0.009999999776482582,
          0.009999999776482582,
          0.009999999776482582,
          0.009999999776482582,
          0.009999999776482582,
          0.009999999776482582,
          0.009999999776482582,
          0.009999999776482582,
          0.009999999776482582,
          0.009999999776482582,
          0.009999999776482582,
          0.009999999776482582,
          0.009999999776482582,
          0.009999999776482582,
          0.009999999776482582,
          0.009999999776482582,
          0.009999999776482582,
          0.009999999776482582,
          0.009999999776482582,
          0.009999999776482582,
          0.009999999776482582,
          0.009999999776482582,
          0.009999999776482582,
          0.009999999776482582,
          0.009999999776482582,
          0.009999999776482582,
          0.009999999776482582,
          0.009999999776482582,
          0.009999999776482582,
          0.009999999776482582,
          0.009999999776482582,
          0.009999999776482582,
          0.009999999776482582,
          0.009999999776482582,
          0.009999999776482582,
          0.009999999776482582,
          0.009999999776482582,
          0.009999999776482582,
          0.009999999776482582,
          0.009999999776482582,
          0.009999999776482582,
          0.009999999776482582,
          0.009999999776482582,
          0.009999999776482582,
          0.009999999776482582,
          0.009999999776482582,
          0.009999999776482582,
          0.009999999776482582,
          0.009999999776482582,
          0.009999999776482582,
          0.009999999776482582,
          0.009999999776482582,
          0.009999999776482582,
          0.009999999776482582,
          0.009999999776482582,
          0.009999999776482582,
          0.009999999776482582,
          0.009999999776482582,
          0.009999999776482582,
          0.009999999776482582,
          0.009999999776482582,
          0.009999999776482582,
          0.009999999776482582,
          0.009999999776482582,
          0.01414213515818119,
          0.01414213515818119,
          0.01414213515818119,
          0.01414213515818119,
          0.017320508137345314
         ]
        },
        {
         "hoverinfo": "text",
         "hovertext": [
          "(0.009999999776482582, 0.01414213515818119), multiplicity: 76",
          "(0.009999999776482582, 0.01414213515818119), multiplicity: 76",
          "(0.009999999776482582, 0.01414213515818119), multiplicity: 76",
          "(0.009999999776482582, 0.01414213515818119), multiplicity: 76",
          "(0.009999999776482582, 0.01414213515818119), multiplicity: 76",
          "(0.009999999776482582, 0.01414213515818119), multiplicity: 76",
          "(0.009999999776482582, 0.01414213515818119), multiplicity: 76",
          "(0.009999999776482582, 0.01414213515818119), multiplicity: 76",
          "(0.009999999776482582, 0.01414213515818119), multiplicity: 76",
          "(0.009999999776482582, 0.01414213515818119), multiplicity: 76",
          "(0.009999999776482582, 0.01414213515818119), multiplicity: 76",
          "(0.009999999776482582, 0.01414213515818119), multiplicity: 76",
          "(0.009999999776482582, 0.01414213515818119), multiplicity: 76",
          "(0.009999999776482582, 0.01414213515818119), multiplicity: 76",
          "(0.009999999776482582, 0.01414213515818119), multiplicity: 76",
          "(0.009999999776482582, 0.01414213515818119), multiplicity: 76",
          "(0.009999999776482582, 0.01414213515818119), multiplicity: 76",
          "(0.009999999776482582, 0.01414213515818119), multiplicity: 76",
          "(0.009999999776482582, 0.01414213515818119), multiplicity: 76",
          "(0.009999999776482582, 0.01414213515818119), multiplicity: 76",
          "(0.009999999776482582, 0.01414213515818119), multiplicity: 76",
          "(0.009999999776482582, 0.01414213515818119), multiplicity: 76",
          "(0.009999999776482582, 0.01414213515818119), multiplicity: 76",
          "(0.009999999776482582, 0.01414213515818119), multiplicity: 76",
          "(0.009999999776482582, 0.01414213515818119), multiplicity: 76",
          "(0.009999999776482582, 0.01414213515818119), multiplicity: 76",
          "(0.009999999776482582, 0.01414213515818119), multiplicity: 76",
          "(0.009999999776482582, 0.01414213515818119), multiplicity: 76",
          "(0.009999999776482582, 0.01414213515818119), multiplicity: 76",
          "(0.009999999776482582, 0.01414213515818119), multiplicity: 76",
          "(0.009999999776482582, 0.01414213515818119), multiplicity: 76",
          "(0.009999999776482582, 0.01414213515818119), multiplicity: 76",
          "(0.009999999776482582, 0.01414213515818119), multiplicity: 76",
          "(0.009999999776482582, 0.01414213515818119), multiplicity: 76",
          "(0.009999999776482582, 0.01414213515818119), multiplicity: 76",
          "(0.009999999776482582, 0.01414213515818119), multiplicity: 76",
          "(0.009999999776482582, 0.01414213515818119), multiplicity: 76",
          "(0.009999999776482582, 0.01414213515818119), multiplicity: 76",
          "(0.009999999776482582, 0.01414213515818119), multiplicity: 76",
          "(0.009999999776482582, 0.01414213515818119), multiplicity: 76",
          "(0.009999999776482582, 0.01414213515818119), multiplicity: 76",
          "(0.009999999776482582, 0.01414213515818119), multiplicity: 76",
          "(0.009999999776482582, 0.01414213515818119), multiplicity: 76",
          "(0.009999999776482582, 0.01414213515818119), multiplicity: 76",
          "(0.009999999776482582, 0.01414213515818119), multiplicity: 76",
          "(0.009999999776482582, 0.01414213515818119), multiplicity: 76",
          "(0.009999999776482582, 0.01414213515818119), multiplicity: 76",
          "(0.009999999776482582, 0.01414213515818119), multiplicity: 76",
          "(0.009999999776482582, 0.01414213515818119), multiplicity: 76",
          "(0.009999999776482582, 0.01414213515818119), multiplicity: 76",
          "(0.009999999776482582, 0.01414213515818119), multiplicity: 76",
          "(0.009999999776482582, 0.01414213515818119), multiplicity: 76",
          "(0.009999999776482582, 0.01414213515818119), multiplicity: 76",
          "(0.009999999776482582, 0.01414213515818119), multiplicity: 76",
          "(0.009999999776482582, 0.01414213515818119), multiplicity: 76",
          "(0.009999999776482582, 0.01414213515818119), multiplicity: 76",
          "(0.009999999776482582, 0.01414213515818119), multiplicity: 76",
          "(0.009999999776482582, 0.01414213515818119), multiplicity: 76",
          "(0.009999999776482582, 0.01414213515818119), multiplicity: 76",
          "(0.009999999776482582, 0.01414213515818119), multiplicity: 76",
          "(0.009999999776482582, 0.01414213515818119), multiplicity: 76",
          "(0.009999999776482582, 0.01414213515818119), multiplicity: 76",
          "(0.009999999776482582, 0.01414213515818119), multiplicity: 76",
          "(0.009999999776482582, 0.01414213515818119), multiplicity: 76",
          "(0.009999999776482582, 0.01414213515818119), multiplicity: 76",
          "(0.009999999776482582, 0.01414213515818119), multiplicity: 76",
          "(0.009999999776482582, 0.01414213515818119), multiplicity: 76",
          "(0.009999999776482582, 0.01414213515818119), multiplicity: 76",
          "(0.009999999776482582, 0.01414213515818119), multiplicity: 76",
          "(0.009999999776482582, 0.01414213515818119), multiplicity: 76",
          "(0.009999999776482582, 0.01414213515818119), multiplicity: 76",
          "(0.009999999776482582, 0.01414213515818119), multiplicity: 76",
          "(0.009999999776482582, 0.01414213515818119), multiplicity: 76",
          "(0.009999999776482582, 0.01414213515818119), multiplicity: 76",
          "(0.009999999776482582, 0.01414213515818119), multiplicity: 76",
          "(0.009999999776482582, 0.01414213515818119), multiplicity: 76"
         ],
         "mode": "markers",
         "name": "H1",
         "type": "scatter",
         "x": [
          0.009999999776482582,
          0.009999999776482582,
          0.009999999776482582,
          0.009999999776482582,
          0.009999999776482582,
          0.009999999776482582,
          0.009999999776482582,
          0.009999999776482582,
          0.009999999776482582,
          0.009999999776482582,
          0.009999999776482582,
          0.009999999776482582,
          0.009999999776482582,
          0.009999999776482582,
          0.009999999776482582,
          0.009999999776482582,
          0.009999999776482582,
          0.009999999776482582,
          0.009999999776482582,
          0.009999999776482582,
          0.009999999776482582,
          0.009999999776482582,
          0.009999999776482582,
          0.009999999776482582,
          0.009999999776482582,
          0.009999999776482582,
          0.009999999776482582,
          0.009999999776482582,
          0.009999999776482582,
          0.009999999776482582,
          0.009999999776482582,
          0.009999999776482582,
          0.009999999776482582,
          0.009999999776482582,
          0.009999999776482582,
          0.009999999776482582,
          0.009999999776482582,
          0.009999999776482582,
          0.009999999776482582,
          0.009999999776482582,
          0.009999999776482582,
          0.009999999776482582,
          0.009999999776482582,
          0.009999999776482582,
          0.009999999776482582,
          0.009999999776482582,
          0.009999999776482582,
          0.009999999776482582,
          0.009999999776482582,
          0.009999999776482582,
          0.009999999776482582,
          0.009999999776482582,
          0.009999999776482582,
          0.009999999776482582,
          0.009999999776482582,
          0.009999999776482582,
          0.009999999776482582,
          0.009999999776482582,
          0.009999999776482582,
          0.009999999776482582,
          0.009999999776482582,
          0.009999999776482582,
          0.009999999776482582,
          0.009999999776482582,
          0.009999999776482582,
          0.009999999776482582,
          0.009999999776482582,
          0.009999999776482582,
          0.009999999776482582,
          0.009999999776482582,
          0.009999999776482582,
          0.009999999776482582,
          0.009999999776482582,
          0.009999999776482582,
          0.009999999776482582,
          0.009999999776482582
         ],
         "y": [
          0.01414213515818119,
          0.01414213515818119,
          0.01414213515818119,
          0.01414213515818119,
          0.01414213515818119,
          0.01414213515818119,
          0.01414213515818119,
          0.01414213515818119,
          0.01414213515818119,
          0.01414213515818119,
          0.01414213515818119,
          0.01414213515818119,
          0.01414213515818119,
          0.01414213515818119,
          0.01414213515818119,
          0.01414213515818119,
          0.01414213515818119,
          0.01414213515818119,
          0.01414213515818119,
          0.01414213515818119,
          0.01414213515818119,
          0.01414213515818119,
          0.01414213515818119,
          0.01414213515818119,
          0.01414213515818119,
          0.01414213515818119,
          0.01414213515818119,
          0.01414213515818119,
          0.01414213515818119,
          0.01414213515818119,
          0.01414213515818119,
          0.01414213515818119,
          0.01414213515818119,
          0.01414213515818119,
          0.01414213515818119,
          0.01414213515818119,
          0.01414213515818119,
          0.01414213515818119,
          0.01414213515818119,
          0.01414213515818119,
          0.01414213515818119,
          0.01414213515818119,
          0.01414213515818119,
          0.01414213515818119,
          0.01414213515818119,
          0.01414213515818119,
          0.01414213515818119,
          0.01414213515818119,
          0.01414213515818119,
          0.01414213515818119,
          0.01414213515818119,
          0.01414213515818119,
          0.01414213515818119,
          0.01414213515818119,
          0.01414213515818119,
          0.01414213515818119,
          0.01414213515818119,
          0.01414213515818119,
          0.01414213515818119,
          0.01414213515818119,
          0.01414213515818119,
          0.01414213515818119,
          0.01414213515818119,
          0.01414213515818119,
          0.01414213515818119,
          0.01414213515818119,
          0.01414213515818119,
          0.01414213515818119,
          0.01414213515818119,
          0.01414213515818119,
          0.01414213515818119,
          0.01414213515818119,
          0.01414213515818119,
          0.01414213515818119,
          0.01414213515818119,
          0.01414213515818119
         ]
        },
        {
         "hoverinfo": "text",
         "hovertext": [
          "(0.01414213515818119, 0.017320508137345314), multiplicity: 2",
          "(0.01414213515818119, 0.017320508137345314), multiplicity: 2"
         ],
         "mode": "markers",
         "name": "H2",
         "type": "scatter",
         "x": [
          0.01414213515818119,
          0.01414213515818119
         ],
         "y": [
          0.017320508137345314,
          0.017320508137345314
         ]
        }
       ],
       "layout": {
        "height": 500,
        "plot_bgcolor": "white",
        "template": {
         "data": {
          "bar": [
           {
            "error_x": {
             "color": "#2a3f5f"
            },
            "error_y": {
             "color": "#2a3f5f"
            },
            "marker": {
             "line": {
              "color": "#E5ECF6",
              "width": 0.5
             },
             "pattern": {
              "fillmode": "overlay",
              "size": 10,
              "solidity": 0.2
             }
            },
            "type": "bar"
           }
          ],
          "barpolar": [
           {
            "marker": {
             "line": {
              "color": "#E5ECF6",
              "width": 0.5
             },
             "pattern": {
              "fillmode": "overlay",
              "size": 10,
              "solidity": 0.2
             }
            },
            "type": "barpolar"
           }
          ],
          "carpet": [
           {
            "aaxis": {
             "endlinecolor": "#2a3f5f",
             "gridcolor": "white",
             "linecolor": "white",
             "minorgridcolor": "white",
             "startlinecolor": "#2a3f5f"
            },
            "baxis": {
             "endlinecolor": "#2a3f5f",
             "gridcolor": "white",
             "linecolor": "white",
             "minorgridcolor": "white",
             "startlinecolor": "#2a3f5f"
            },
            "type": "carpet"
           }
          ],
          "choropleth": [
           {
            "colorbar": {
             "outlinewidth": 0,
             "ticks": ""
            },
            "type": "choropleth"
           }
          ],
          "contour": [
           {
            "colorbar": {
             "outlinewidth": 0,
             "ticks": ""
            },
            "colorscale": [
             [
              0,
              "#0d0887"
             ],
             [
              0.1111111111111111,
              "#46039f"
             ],
             [
              0.2222222222222222,
              "#7201a8"
             ],
             [
              0.3333333333333333,
              "#9c179e"
             ],
             [
              0.4444444444444444,
              "#bd3786"
             ],
             [
              0.5555555555555556,
              "#d8576b"
             ],
             [
              0.6666666666666666,
              "#ed7953"
             ],
             [
              0.7777777777777778,
              "#fb9f3a"
             ],
             [
              0.8888888888888888,
              "#fdca26"
             ],
             [
              1,
              "#f0f921"
             ]
            ],
            "type": "contour"
           }
          ],
          "contourcarpet": [
           {
            "colorbar": {
             "outlinewidth": 0,
             "ticks": ""
            },
            "type": "contourcarpet"
           }
          ],
          "heatmap": [
           {
            "colorbar": {
             "outlinewidth": 0,
             "ticks": ""
            },
            "colorscale": [
             [
              0,
              "#0d0887"
             ],
             [
              0.1111111111111111,
              "#46039f"
             ],
             [
              0.2222222222222222,
              "#7201a8"
             ],
             [
              0.3333333333333333,
              "#9c179e"
             ],
             [
              0.4444444444444444,
              "#bd3786"
             ],
             [
              0.5555555555555556,
              "#d8576b"
             ],
             [
              0.6666666666666666,
              "#ed7953"
             ],
             [
              0.7777777777777778,
              "#fb9f3a"
             ],
             [
              0.8888888888888888,
              "#fdca26"
             ],
             [
              1,
              "#f0f921"
             ]
            ],
            "type": "heatmap"
           }
          ],
          "heatmapgl": [
           {
            "colorbar": {
             "outlinewidth": 0,
             "ticks": ""
            },
            "colorscale": [
             [
              0,
              "#0d0887"
             ],
             [
              0.1111111111111111,
              "#46039f"
             ],
             [
              0.2222222222222222,
              "#7201a8"
             ],
             [
              0.3333333333333333,
              "#9c179e"
             ],
             [
              0.4444444444444444,
              "#bd3786"
             ],
             [
              0.5555555555555556,
              "#d8576b"
             ],
             [
              0.6666666666666666,
              "#ed7953"
             ],
             [
              0.7777777777777778,
              "#fb9f3a"
             ],
             [
              0.8888888888888888,
              "#fdca26"
             ],
             [
              1,
              "#f0f921"
             ]
            ],
            "type": "heatmapgl"
           }
          ],
          "histogram": [
           {
            "marker": {
             "pattern": {
              "fillmode": "overlay",
              "size": 10,
              "solidity": 0.2
             }
            },
            "type": "histogram"
           }
          ],
          "histogram2d": [
           {
            "colorbar": {
             "outlinewidth": 0,
             "ticks": ""
            },
            "colorscale": [
             [
              0,
              "#0d0887"
             ],
             [
              0.1111111111111111,
              "#46039f"
             ],
             [
              0.2222222222222222,
              "#7201a8"
             ],
             [
              0.3333333333333333,
              "#9c179e"
             ],
             [
              0.4444444444444444,
              "#bd3786"
             ],
             [
              0.5555555555555556,
              "#d8576b"
             ],
             [
              0.6666666666666666,
              "#ed7953"
             ],
             [
              0.7777777777777778,
              "#fb9f3a"
             ],
             [
              0.8888888888888888,
              "#fdca26"
             ],
             [
              1,
              "#f0f921"
             ]
            ],
            "type": "histogram2d"
           }
          ],
          "histogram2dcontour": [
           {
            "colorbar": {
             "outlinewidth": 0,
             "ticks": ""
            },
            "colorscale": [
             [
              0,
              "#0d0887"
             ],
             [
              0.1111111111111111,
              "#46039f"
             ],
             [
              0.2222222222222222,
              "#7201a8"
             ],
             [
              0.3333333333333333,
              "#9c179e"
             ],
             [
              0.4444444444444444,
              "#bd3786"
             ],
             [
              0.5555555555555556,
              "#d8576b"
             ],
             [
              0.6666666666666666,
              "#ed7953"
             ],
             [
              0.7777777777777778,
              "#fb9f3a"
             ],
             [
              0.8888888888888888,
              "#fdca26"
             ],
             [
              1,
              "#f0f921"
             ]
            ],
            "type": "histogram2dcontour"
           }
          ],
          "mesh3d": [
           {
            "colorbar": {
             "outlinewidth": 0,
             "ticks": ""
            },
            "type": "mesh3d"
           }
          ],
          "parcoords": [
           {
            "line": {
             "colorbar": {
              "outlinewidth": 0,
              "ticks": ""
             }
            },
            "type": "parcoords"
           }
          ],
          "pie": [
           {
            "automargin": true,
            "type": "pie"
           }
          ],
          "scatter": [
           {
            "fillpattern": {
             "fillmode": "overlay",
             "size": 10,
             "solidity": 0.2
            },
            "type": "scatter"
           }
          ],
          "scatter3d": [
           {
            "line": {
             "colorbar": {
              "outlinewidth": 0,
              "ticks": ""
             }
            },
            "marker": {
             "colorbar": {
              "outlinewidth": 0,
              "ticks": ""
             }
            },
            "type": "scatter3d"
           }
          ],
          "scattercarpet": [
           {
            "marker": {
             "colorbar": {
              "outlinewidth": 0,
              "ticks": ""
             }
            },
            "type": "scattercarpet"
           }
          ],
          "scattergeo": [
           {
            "marker": {
             "colorbar": {
              "outlinewidth": 0,
              "ticks": ""
             }
            },
            "type": "scattergeo"
           }
          ],
          "scattergl": [
           {
            "marker": {
             "colorbar": {
              "outlinewidth": 0,
              "ticks": ""
             }
            },
            "type": "scattergl"
           }
          ],
          "scattermapbox": [
           {
            "marker": {
             "colorbar": {
              "outlinewidth": 0,
              "ticks": ""
             }
            },
            "type": "scattermapbox"
           }
          ],
          "scatterpolar": [
           {
            "marker": {
             "colorbar": {
              "outlinewidth": 0,
              "ticks": ""
             }
            },
            "type": "scatterpolar"
           }
          ],
          "scatterpolargl": [
           {
            "marker": {
             "colorbar": {
              "outlinewidth": 0,
              "ticks": ""
             }
            },
            "type": "scatterpolargl"
           }
          ],
          "scatterternary": [
           {
            "marker": {
             "colorbar": {
              "outlinewidth": 0,
              "ticks": ""
             }
            },
            "type": "scatterternary"
           }
          ],
          "surface": [
           {
            "colorbar": {
             "outlinewidth": 0,
             "ticks": ""
            },
            "colorscale": [
             [
              0,
              "#0d0887"
             ],
             [
              0.1111111111111111,
              "#46039f"
             ],
             [
              0.2222222222222222,
              "#7201a8"
             ],
             [
              0.3333333333333333,
              "#9c179e"
             ],
             [
              0.4444444444444444,
              "#bd3786"
             ],
             [
              0.5555555555555556,
              "#d8576b"
             ],
             [
              0.6666666666666666,
              "#ed7953"
             ],
             [
              0.7777777777777778,
              "#fb9f3a"
             ],
             [
              0.8888888888888888,
              "#fdca26"
             ],
             [
              1,
              "#f0f921"
             ]
            ],
            "type": "surface"
           }
          ],
          "table": [
           {
            "cells": {
             "fill": {
              "color": "#EBF0F8"
             },
             "line": {
              "color": "white"
             }
            },
            "header": {
             "fill": {
              "color": "#C8D4E3"
             },
             "line": {
              "color": "white"
             }
            },
            "type": "table"
           }
          ]
         },
         "layout": {
          "annotationdefaults": {
           "arrowcolor": "#2a3f5f",
           "arrowhead": 0,
           "arrowwidth": 1
          },
          "autotypenumbers": "strict",
          "coloraxis": {
           "colorbar": {
            "outlinewidth": 0,
            "ticks": ""
           }
          },
          "colorscale": {
           "diverging": [
            [
             0,
             "#8e0152"
            ],
            [
             0.1,
             "#c51b7d"
            ],
            [
             0.2,
             "#de77ae"
            ],
            [
             0.3,
             "#f1b6da"
            ],
            [
             0.4,
             "#fde0ef"
            ],
            [
             0.5,
             "#f7f7f7"
            ],
            [
             0.6,
             "#e6f5d0"
            ],
            [
             0.7,
             "#b8e186"
            ],
            [
             0.8,
             "#7fbc41"
            ],
            [
             0.9,
             "#4d9221"
            ],
            [
             1,
             "#276419"
            ]
           ],
           "sequential": [
            [
             0,
             "#0d0887"
            ],
            [
             0.1111111111111111,
             "#46039f"
            ],
            [
             0.2222222222222222,
             "#7201a8"
            ],
            [
             0.3333333333333333,
             "#9c179e"
            ],
            [
             0.4444444444444444,
             "#bd3786"
            ],
            [
             0.5555555555555556,
             "#d8576b"
            ],
            [
             0.6666666666666666,
             "#ed7953"
            ],
            [
             0.7777777777777778,
             "#fb9f3a"
            ],
            [
             0.8888888888888888,
             "#fdca26"
            ],
            [
             1,
             "#f0f921"
            ]
           ],
           "sequentialminus": [
            [
             0,
             "#0d0887"
            ],
            [
             0.1111111111111111,
             "#46039f"
            ],
            [
             0.2222222222222222,
             "#7201a8"
            ],
            [
             0.3333333333333333,
             "#9c179e"
            ],
            [
             0.4444444444444444,
             "#bd3786"
            ],
            [
             0.5555555555555556,
             "#d8576b"
            ],
            [
             0.6666666666666666,
             "#ed7953"
            ],
            [
             0.7777777777777778,
             "#fb9f3a"
            ],
            [
             0.8888888888888888,
             "#fdca26"
            ],
            [
             1,
             "#f0f921"
            ]
           ]
          },
          "colorway": [
           "#636efa",
           "#EF553B",
           "#00cc96",
           "#ab63fa",
           "#FFA15A",
           "#19d3f3",
           "#FF6692",
           "#B6E880",
           "#FF97FF",
           "#FECB52"
          ],
          "font": {
           "color": "#2a3f5f"
          },
          "geo": {
           "bgcolor": "white",
           "lakecolor": "white",
           "landcolor": "#E5ECF6",
           "showlakes": true,
           "showland": true,
           "subunitcolor": "white"
          },
          "hoverlabel": {
           "align": "left"
          },
          "hovermode": "closest",
          "mapbox": {
           "style": "light"
          },
          "paper_bgcolor": "white",
          "plot_bgcolor": "#E5ECF6",
          "polar": {
           "angularaxis": {
            "gridcolor": "white",
            "linecolor": "white",
            "ticks": ""
           },
           "bgcolor": "#E5ECF6",
           "radialaxis": {
            "gridcolor": "white",
            "linecolor": "white",
            "ticks": ""
           }
          },
          "scene": {
           "xaxis": {
            "backgroundcolor": "#E5ECF6",
            "gridcolor": "white",
            "gridwidth": 2,
            "linecolor": "white",
            "showbackground": true,
            "ticks": "",
            "zerolinecolor": "white"
           },
           "yaxis": {
            "backgroundcolor": "#E5ECF6",
            "gridcolor": "white",
            "gridwidth": 2,
            "linecolor": "white",
            "showbackground": true,
            "ticks": "",
            "zerolinecolor": "white"
           },
           "zaxis": {
            "backgroundcolor": "#E5ECF6",
            "gridcolor": "white",
            "gridwidth": 2,
            "linecolor": "white",
            "showbackground": true,
            "ticks": "",
            "zerolinecolor": "white"
           }
          },
          "shapedefaults": {
           "line": {
            "color": "#2a3f5f"
           }
          },
          "ternary": {
           "aaxis": {
            "gridcolor": "white",
            "linecolor": "white",
            "ticks": ""
           },
           "baxis": {
            "gridcolor": "white",
            "linecolor": "white",
            "ticks": ""
           },
           "bgcolor": "#E5ECF6",
           "caxis": {
            "gridcolor": "white",
            "linecolor": "white",
            "ticks": ""
           }
          },
          "title": {
           "x": 0.05
          },
          "xaxis": {
           "automargin": true,
           "gridcolor": "white",
           "linecolor": "white",
           "ticks": "",
           "title": {
            "standoff": 15
           },
           "zerolinecolor": "white",
           "zerolinewidth": 2
          },
          "yaxis": {
           "automargin": true,
           "gridcolor": "white",
           "linecolor": "white",
           "ticks": "",
           "title": {
            "standoff": 15
           },
           "zerolinecolor": "white",
           "zerolinewidth": 2
          }
         }
        },
        "width": 500,
        "xaxis": {
         "autorange": false,
         "domain": [
          0,
          1
         ],
         "exponentformat": "e",
         "linecolor": "black",
         "linewidth": 1,
         "mirror": false,
         "range": [
          -0.0008811808514874436,
          0.01820168898883276
         ],
         "showexponent": "all",
         "showline": true,
         "side": "bottom",
         "ticks": "outside",
         "title": {
          "text": "Birth"
         },
         "type": "linear",
         "zeroline": true
        },
        "yaxis": {
         "autorange": false,
         "domain": [
          0,
          1
         ],
         "exponentformat": "e",
         "linecolor": "black",
         "linewidth": 1,
         "mirror": false,
         "range": [
          -0.0003464101627469063,
          0.01766691830009222
         ],
         "scaleanchor": "x",
         "scaleratio": 1,
         "showexponent": "all",
         "showline": true,
         "side": "left",
         "ticks": "outside",
         "title": {
          "text": "Death"
         },
         "type": "linear",
         "zeroline": true
        }
       }
      },
      "image/png": "[encoded data removed]",
      "text/html": [
       "<div>                            <div id=\"c949ece1-c7e2-4368-9d26-82f61569c8e4\" class=\"plotly-graph-div\" style=\"height:500px; width:500px;\"></div>            <script type=\"text/javascript\">                require([\"plotly\"], function(Plotly) {                    window.PLOTLYENV=window.PLOTLYENV || {};                                    if (document.getElementById(\"c949ece1-c7e2-4368-9d26-82f61569c8e4\")) {                    Plotly.newPlot(                        \"c949ece1-c7e2-4368-9d26-82f61569c8e4\",                        [{\"hoverinfo\":\"none\",\"line\":{\"color\":\"black\",\"dash\":\"dash\",\"width\":1},\"mode\":\"lines\",\"showlegend\":false,\"x\":[-0.0003464101627469063,0.01766691830009222],\"y\":[-0.0003464101627469063,0.01766691830009222],\"type\":\"scatter\"},{\"hoverinfo\":\"text\",\"hovertext\":[\"(0.0, 0.009999999776482582), multiplicity: 75\",\"(0.0, 0.009999999776482582), multiplicity: 75\",\"(0.0, 0.009999999776482582), multiplicity: 75\",\"(0.0, 0.009999999776482582), multiplicity: 75\",\"(0.0, 0.009999999776482582), multiplicity: 75\",\"(0.0, 0.009999999776482582), multiplicity: 75\",\"(0.0, 0.009999999776482582), multiplicity: 75\",\"(0.0, 0.009999999776482582), multiplicity: 75\",\"(0.0, 0.009999999776482582), multiplicity: 75\",\"(0.0, 0.009999999776482582), multiplicity: 75\",\"(0.0, 0.009999999776482582), multiplicity: 75\",\"(0.0, 0.009999999776482582), multiplicity: 75\",\"(0.0, 0.009999999776482582), multiplicity: 75\",\"(0.0, 0.009999999776482582), multiplicity: 75\",\"(0.0, 0.009999999776482582), multiplicity: 75\",\"(0.0, 0.009999999776482582), multiplicity: 75\",\"(0.0, 0.009999999776482582), multiplicity: 75\",\"(0.0, 0.009999999776482582), multiplicity: 75\",\"(0.0, 0.009999999776482582), multiplicity: 75\",\"(0.0, 0.009999999776482582), multiplicity: 75\",\"(0.0, 0.009999999776482582), multiplicity: 75\",\"(0.0, 0.009999999776482582), multiplicity: 75\",\"(0.0, 0.009999999776482582), multiplicity: 75\",\"(0.0, 0.009999999776482582), multiplicity: 75\",\"(0.0, 0.009999999776482582), multiplicity: 75\",\"(0.0, 0.009999999776482582), multiplicity: 75\",\"(0.0, 0.009999999776482582), multiplicity: 75\",\"(0.0, 0.009999999776482582), multiplicity: 75\",\"(0.0, 0.009999999776482582), multiplicity: 75\",\"(0.0, 0.009999999776482582), multiplicity: 75\",\"(0.0, 0.009999999776482582), multiplicity: 75\",\"(0.0, 0.009999999776482582), multiplicity: 75\",\"(0.0, 0.009999999776482582), multiplicity: 75\",\"(0.0, 0.009999999776482582), multiplicity: 75\",\"(0.0, 0.009999999776482582), multiplicity: 75\",\"(0.0, 0.009999999776482582), multiplicity: 75\",\"(0.0, 0.009999999776482582), multiplicity: 75\",\"(0.0, 0.009999999776482582), multiplicity: 75\",\"(0.0, 0.009999999776482582), multiplicity: 75\",\"(0.0, 0.009999999776482582), multiplicity: 75\",\"(0.0, 0.009999999776482582), multiplicity: 75\",\"(0.0, 0.009999999776482582), multiplicity: 75\",\"(0.0, 0.009999999776482582), multiplicity: 75\",\"(0.0, 0.009999999776482582), multiplicity: 75\",\"(0.0, 0.009999999776482582), multiplicity: 75\",\"(0.0, 0.009999999776482582), multiplicity: 75\",\"(0.0, 0.009999999776482582), multiplicity: 75\",\"(0.0, 0.009999999776482582), multiplicity: 75\",\"(0.0, 0.009999999776482582), multiplicity: 75\",\"(0.0, 0.009999999776482582), multiplicity: 75\",\"(0.0, 0.009999999776482582), multiplicity: 75\",\"(0.0, 0.009999999776482582), multiplicity: 75\",\"(0.0, 0.009999999776482582), multiplicity: 75\",\"(0.0, 0.009999999776482582), multiplicity: 75\",\"(0.0, 0.009999999776482582), multiplicity: 75\",\"(0.0, 0.009999999776482582), multiplicity: 75\",\"(0.0, 0.009999999776482582), multiplicity: 75\",\"(0.0, 0.009999999776482582), multiplicity: 75\",\"(0.0, 0.009999999776482582), multiplicity: 75\",\"(0.0, 0.009999999776482582), multiplicity: 75\",\"(0.0, 0.009999999776482582), multiplicity: 75\",\"(0.0, 0.009999999776482582), multiplicity: 75\",\"(0.0, 0.009999999776482582), multiplicity: 75\",\"(0.0, 0.009999999776482582), multiplicity: 75\",\"(0.0, 0.009999999776482582), multiplicity: 75\",\"(0.0, 0.009999999776482582), multiplicity: 75\",\"(0.0, 0.009999999776482582), multiplicity: 75\",\"(0.0, 0.009999999776482582), multiplicity: 75\",\"(0.0, 0.009999999776482582), multiplicity: 75\",\"(0.0, 0.009999999776482582), multiplicity: 75\",\"(0.0, 0.009999999776482582), multiplicity: 75\",\"(0.0, 0.009999999776482582), multiplicity: 75\",\"(0.0, 0.009999999776482582), multiplicity: 75\",\"(0.0, 0.009999999776482582), multiplicity: 75\",\"(0.0, 0.009999999776482582), multiplicity: 75\",\"(0.0, 0.01414213515818119), multiplicity: 4\",\"(0.0, 0.01414213515818119), multiplicity: 4\",\"(0.0, 0.01414213515818119), multiplicity: 4\",\"(0.0, 0.01414213515818119), multiplicity: 4\",\"(0.0, 0.017320508137345314)\"],\"mode\":\"markers\",\"name\":\"H0\",\"x\":[0.0,0.0,0.0,0.0,0.0,0.0,0.0,0.0,0.0,0.0,0.0,0.0,0.0,0.0,0.0,0.0,0.0,0.0,0.0,0.0,0.0,0.0,0.0,0.0,0.0,0.0,0.0,0.0,0.0,0.0,0.0,0.0,0.0,0.0,0.0,0.0,0.0,0.0,0.0,0.0,0.0,0.0,0.0,0.0,0.0,0.0,0.0,0.0,0.0,0.0,0.0,0.0,0.0,0.0,0.0,0.0,0.0,0.0,0.0,0.0,0.0,0.0,0.0,0.0,0.0,0.0,0.0,0.0,0.0,0.0,0.0,0.0,0.0,0.0,0.0,0.0,0.0,0.0,0.0,0.0],\"y\":[0.009999999776482582,0.009999999776482582,0.009999999776482582,0.009999999776482582,0.009999999776482582,0.009999999776482582,0.009999999776482582,0.009999999776482582,0.009999999776482582,0.009999999776482582,0.009999999776482582,0.009999999776482582,0.009999999776482582,0.009999999776482582,0.009999999776482582,0.009999999776482582,0.009999999776482582,0.009999999776482582,0.009999999776482582,0.009999999776482582,0.009999999776482582,0.009999999776482582,0.009999999776482582,0.009999999776482582,0.009999999776482582,0.009999999776482582,0.009999999776482582,0.009999999776482582,0.009999999776482582,0.009999999776482582,0.009999999776482582,0.009999999776482582,0.009999999776482582,0.009999999776482582,0.009999999776482582,0.009999999776482582,0.009999999776482582,0.009999999776482582,0.009999999776482582,0.009999999776482582,0.009999999776482582,0.009999999776482582,0.009999999776482582,0.009999999776482582,0.009999999776482582,0.009999999776482582,0.009999999776482582,0.009999999776482582,0.009999999776482582,0.009999999776482582,0.009999999776482582,0.009999999776482582,0.009999999776482582,0.009999999776482582,0.009999999776482582,0.009999999776482582,0.009999999776482582,0.009999999776482582,0.009999999776482582,0.009999999776482582,0.009999999776482582,0.009999999776482582,0.009999999776482582,0.009999999776482582,0.009999999776482582,0.009999999776482582,0.009999999776482582,0.009999999776482582,0.009999999776482582,0.009999999776482582,0.009999999776482582,0.009999999776482582,0.009999999776482582,0.009999999776482582,0.009999999776482582,0.01414213515818119,0.01414213515818119,0.01414213515818119,0.01414213515818119,0.017320508137345314],\"type\":\"scatter\"},{\"hoverinfo\":\"text\",\"hovertext\":[\"(0.009999999776482582, 0.01414213515818119), multiplicity: 76\",\"(0.009999999776482582, 0.01414213515818119), multiplicity: 76\",\"(0.009999999776482582, 0.01414213515818119), multiplicity: 76\",\"(0.009999999776482582, 0.01414213515818119), multiplicity: 76\",\"(0.009999999776482582, 0.01414213515818119), multiplicity: 76\",\"(0.009999999776482582, 0.01414213515818119), multiplicity: 76\",\"(0.009999999776482582, 0.01414213515818119), multiplicity: 76\",\"(0.009999999776482582, 0.01414213515818119), multiplicity: 76\",\"(0.009999999776482582, 0.01414213515818119), multiplicity: 76\",\"(0.009999999776482582, 0.01414213515818119), multiplicity: 76\",\"(0.009999999776482582, 0.01414213515818119), multiplicity: 76\",\"(0.009999999776482582, 0.01414213515818119), multiplicity: 76\",\"(0.009999999776482582, 0.01414213515818119), multiplicity: 76\",\"(0.009999999776482582, 0.01414213515818119), multiplicity: 76\",\"(0.009999999776482582, 0.01414213515818119), multiplicity: 76\",\"(0.009999999776482582, 0.01414213515818119), multiplicity: 76\",\"(0.009999999776482582, 0.01414213515818119), multiplicity: 76\",\"(0.009999999776482582, 0.01414213515818119), multiplicity: 76\",\"(0.009999999776482582, 0.01414213515818119), multiplicity: 76\",\"(0.009999999776482582, 0.01414213515818119), multiplicity: 76\",\"(0.009999999776482582, 0.01414213515818119), multiplicity: 76\",\"(0.009999999776482582, 0.01414213515818119), multiplicity: 76\",\"(0.009999999776482582, 0.01414213515818119), multiplicity: 76\",\"(0.009999999776482582, 0.01414213515818119), multiplicity: 76\",\"(0.009999999776482582, 0.01414213515818119), multiplicity: 76\",\"(0.009999999776482582, 0.01414213515818119), multiplicity: 76\",\"(0.009999999776482582, 0.01414213515818119), multiplicity: 76\",\"(0.009999999776482582, 0.01414213515818119), multiplicity: 76\",\"(0.009999999776482582, 0.01414213515818119), multiplicity: 76\",\"(0.009999999776482582, 0.01414213515818119), multiplicity: 76\",\"(0.009999999776482582, 0.01414213515818119), multiplicity: 76\",\"(0.009999999776482582, 0.01414213515818119), multiplicity: 76\",\"(0.009999999776482582, 0.01414213515818119), multiplicity: 76\",\"(0.009999999776482582, 0.01414213515818119), multiplicity: 76\",\"(0.009999999776482582, 0.01414213515818119), multiplicity: 76\",\"(0.009999999776482582, 0.01414213515818119), multiplicity: 76\",\"(0.009999999776482582, 0.01414213515818119), multiplicity: 76\",\"(0.009999999776482582, 0.01414213515818119), multiplicity: 76\",\"(0.009999999776482582, 0.01414213515818119), multiplicity: 76\",\"(0.009999999776482582, 0.01414213515818119), multiplicity: 76\",\"(0.009999999776482582, 0.01414213515818119), multiplicity: 76\",\"(0.009999999776482582, 0.01414213515818119), multiplicity: 76\",\"(0.009999999776482582, 0.01414213515818119), multiplicity: 76\",\"(0.009999999776482582, 0.01414213515818119), multiplicity: 76\",\"(0.009999999776482582, 0.01414213515818119), multiplicity: 76\",\"(0.009999999776482582, 0.01414213515818119), multiplicity: 76\",\"(0.009999999776482582, 0.01414213515818119), multiplicity: 76\",\"(0.009999999776482582, 0.01414213515818119), multiplicity: 76\",\"(0.009999999776482582, 0.01414213515818119), multiplicity: 76\",\"(0.009999999776482582, 0.01414213515818119), multiplicity: 76\",\"(0.009999999776482582, 0.01414213515818119), multiplicity: 76\",\"(0.009999999776482582, 0.01414213515818119), multiplicity: 76\",\"(0.009999999776482582, 0.01414213515818119), multiplicity: 76\",\"(0.009999999776482582, 0.01414213515818119), multiplicity: 76\",\"(0.009999999776482582, 0.01414213515818119), multiplicity: 76\",\"(0.009999999776482582, 0.01414213515818119), multiplicity: 76\",\"(0.009999999776482582, 0.01414213515818119), multiplicity: 76\",\"(0.009999999776482582, 0.01414213515818119), multiplicity: 76\",\"(0.009999999776482582, 0.01414213515818119), multiplicity: 76\",\"(0.009999999776482582, 0.01414213515818119), multiplicity: 76\",\"(0.009999999776482582, 0.01414213515818119), multiplicity: 76\",\"(0.009999999776482582, 0.01414213515818119), multiplicity: 76\",\"(0.009999999776482582, 0.01414213515818119), multiplicity: 76\",\"(0.009999999776482582, 0.01414213515818119), multiplicity: 76\",\"(0.009999999776482582, 0.01414213515818119), multiplicity: 76\",\"(0.009999999776482582, 0.01414213515818119), multiplicity: 76\",\"(0.009999999776482582, 0.01414213515818119), multiplicity: 76\",\"(0.009999999776482582, 0.01414213515818119), multiplicity: 76\",\"(0.009999999776482582, 0.01414213515818119), multiplicity: 76\",\"(0.009999999776482582, 0.01414213515818119), multiplicity: 76\",\"(0.009999999776482582, 0.01414213515818119), multiplicity: 76\",\"(0.009999999776482582, 0.01414213515818119), multiplicity: 76\",\"(0.009999999776482582, 0.01414213515818119), multiplicity: 76\",\"(0.009999999776482582, 0.01414213515818119), multiplicity: 76\",\"(0.009999999776482582, 0.01414213515818119), multiplicity: 76\",\"(0.009999999776482582, 0.01414213515818119), multiplicity: 76\"],\"mode\":\"markers\",\"name\":\"H1\",\"x\":[0.009999999776482582,0.009999999776482582,0.009999999776482582,0.009999999776482582,0.009999999776482582,0.009999999776482582,0.009999999776482582,0.009999999776482582,0.009999999776482582,0.009999999776482582,0.009999999776482582,0.009999999776482582,0.009999999776482582,0.009999999776482582,0.009999999776482582,0.009999999776482582,0.009999999776482582,0.009999999776482582,0.009999999776482582,0.009999999776482582,0.009999999776482582,0.009999999776482582,0.009999999776482582,0.009999999776482582,0.009999999776482582,0.009999999776482582,0.009999999776482582,0.009999999776482582,0.009999999776482582,0.009999999776482582,0.009999999776482582,0.009999999776482582,0.009999999776482582,0.009999999776482582,0.009999999776482582,0.009999999776482582,0.009999999776482582,0.009999999776482582,0.009999999776482582,0.009999999776482582,0.009999999776482582,0.009999999776482582,0.009999999776482582,0.009999999776482582,0.009999999776482582,0.009999999776482582,0.009999999776482582,0.009999999776482582,0.009999999776482582,0.009999999776482582,0.009999999776482582,0.009999999776482582,0.009999999776482582,0.009999999776482582,0.009999999776482582,0.009999999776482582,0.009999999776482582,0.009999999776482582,0.009999999776482582,0.009999999776482582,0.009999999776482582,0.009999999776482582,0.009999999776482582,0.009999999776482582,0.009999999776482582,0.009999999776482582,0.009999999776482582,0.009999999776482582,0.009999999776482582,0.009999999776482582,0.009999999776482582,0.009999999776482582,0.009999999776482582,0.009999999776482582,0.009999999776482582,0.009999999776482582],\"y\":[0.01414213515818119,0.01414213515818119,0.01414213515818119,0.01414213515818119,0.01414213515818119,0.01414213515818119,0.01414213515818119,0.01414213515818119,0.01414213515818119,0.01414213515818119,0.01414213515818119,0.01414213515818119,0.01414213515818119,0.01414213515818119,0.01414213515818119,0.01414213515818119,0.01414213515818119,0.01414213515818119,0.01414213515818119,0.01414213515818119,0.01414213515818119,0.01414213515818119,0.01414213515818119,0.01414213515818119,0.01414213515818119,0.01414213515818119,0.01414213515818119,0.01414213515818119,0.01414213515818119,0.01414213515818119,0.01414213515818119,0.01414213515818119,0.01414213515818119,0.01414213515818119,0.01414213515818119,0.01414213515818119,0.01414213515818119,0.01414213515818119,0.01414213515818119,0.01414213515818119,0.01414213515818119,0.01414213515818119,0.01414213515818119,0.01414213515818119,0.01414213515818119,0.01414213515818119,0.01414213515818119,0.01414213515818119,0.01414213515818119,0.01414213515818119,0.01414213515818119,0.01414213515818119,0.01414213515818119,0.01414213515818119,0.01414213515818119,0.01414213515818119,0.01414213515818119,0.01414213515818119,0.01414213515818119,0.01414213515818119,0.01414213515818119,0.01414213515818119,0.01414213515818119,0.01414213515818119,0.01414213515818119,0.01414213515818119,0.01414213515818119,0.01414213515818119,0.01414213515818119,0.01414213515818119,0.01414213515818119,0.01414213515818119,0.01414213515818119,0.01414213515818119,0.01414213515818119,0.01414213515818119],\"type\":\"scatter\"},{\"hoverinfo\":\"text\",\"hovertext\":[\"(0.01414213515818119, 0.017320508137345314), multiplicity: 2\",\"(0.01414213515818119, 0.017320508137345314), multiplicity: 2\"],\"mode\":\"markers\",\"name\":\"H2\",\"x\":[0.01414213515818119,0.01414213515818119],\"y\":[0.017320508137345314,0.017320508137345314],\"type\":\"scatter\"}],                        {\"template\":{\"data\":{\"histogram2dcontour\":[{\"type\":\"histogram2dcontour\",\"colorbar\":{\"outlinewidth\":0,\"ticks\":\"\"},\"colorscale\":[[0.0,\"#0d0887\"],[0.1111111111111111,\"#46039f\"],[0.2222222222222222,\"#7201a8\"],[0.3333333333333333,\"#9c179e\"],[0.4444444444444444,\"#bd3786\"],[0.5555555555555556,\"#d8576b\"],[0.6666666666666666,\"#ed7953\"],[0.7777777777777778,\"#fb9f3a\"],[0.8888888888888888,\"#fdca26\"],[1.0,\"#f0f921\"]]}],\"choropleth\":[{\"type\":\"choropleth\",\"colorbar\":{\"outlinewidth\":0,\"ticks\":\"\"}}],\"histogram2d\":[{\"type\":\"histogram2d\",\"colorbar\":{\"outlinewidth\":0,\"ticks\":\"\"},\"colorscale\":[[0.0,\"#0d0887\"],[0.1111111111111111,\"#46039f\"],[0.2222222222222222,\"#7201a8\"],[0.3333333333333333,\"#9c179e\"],[0.4444444444444444,\"#bd3786\"],[0.5555555555555556,\"#d8576b\"],[0.6666666666666666,\"#ed7953\"],[0.7777777777777778,\"#fb9f3a\"],[0.8888888888888888,\"#fdca26\"],[1.0,\"#f0f921\"]]}],\"heatmap\":[{\"type\":\"heatmap\",\"colorbar\":{\"outlinewidth\":0,\"ticks\":\"\"},\"colorscale\":[[0.0,\"#0d0887\"],[0.1111111111111111,\"#46039f\"],[0.2222222222222222,\"#7201a8\"],[0.3333333333333333,\"#9c179e\"],[0.4444444444444444,\"#bd3786\"],[0.5555555555555556,\"#d8576b\"],[0.6666666666666666,\"#ed7953\"],[0.7777777777777778,\"#fb9f3a\"],[0.8888888888888888,\"#fdca26\"],[1.0,\"#f0f921\"]]}],\"heatmapgl\":[{\"type\":\"heatmapgl\",\"colorbar\":{\"outlinewidth\":0,\"ticks\":\"\"},\"colorscale\":[[0.0,\"#0d0887\"],[0.1111111111111111,\"#46039f\"],[0.2222222222222222,\"#7201a8\"],[0.3333333333333333,\"#9c179e\"],[0.4444444444444444,\"#bd3786\"],[0.5555555555555556,\"#d8576b\"],[0.6666666666666666,\"#ed7953\"],[0.7777777777777778,\"#fb9f3a\"],[0.8888888888888888,\"#fdca26\"],[1.0,\"#f0f921\"]]}],\"contourcarpet\":[{\"type\":\"contourcarpet\",\"colorbar\":{\"outlinewidth\":0,\"ticks\":\"\"}}],\"contour\":[{\"type\":\"contour\",\"colorbar\":{\"outlinewidth\":0,\"ticks\":\"\"},\"colorscale\":[[0.0,\"#0d0887\"],[0.1111111111111111,\"#46039f\"],[0.2222222222222222,\"#7201a8\"],[0.3333333333333333,\"#9c179e\"],[0.4444444444444444,\"#bd3786\"],[0.5555555555555556,\"#d8576b\"],[0.6666666666666666,\"#ed7953\"],[0.7777777777777778,\"#fb9f3a\"],[0.8888888888888888,\"#fdca26\"],[1.0,\"#f0f921\"]]}],\"surface\":[{\"type\":\"surface\",\"colorbar\":{\"outlinewidth\":0,\"ticks\":\"\"},\"colorscale\":[[0.0,\"#0d0887\"],[0.1111111111111111,\"#46039f\"],[0.2222222222222222,\"#7201a8\"],[0.3333333333333333,\"#9c179e\"],[0.4444444444444444,\"#bd3786\"],[0.5555555555555556,\"#d8576b\"],[0.6666666666666666,\"#ed7953\"],[0.7777777777777778,\"#fb9f3a\"],[0.8888888888888888,\"#fdca26\"],[1.0,\"#f0f921\"]]}],\"mesh3d\":[{\"type\":\"mesh3d\",\"colorbar\":{\"outlinewidth\":0,\"ticks\":\"\"}}],\"scatter\":[{\"fillpattern\":{\"fillmode\":\"overlay\",\"size\":10,\"solidity\":0.2},\"type\":\"scatter\"}],\"parcoords\":[{\"type\":\"parcoords\",\"line\":{\"colorbar\":{\"outlinewidth\":0,\"ticks\":\"\"}}}],\"scatterpolargl\":[{\"type\":\"scatterpolargl\",\"marker\":{\"colorbar\":{\"outlinewidth\":0,\"ticks\":\"\"}}}],\"bar\":[{\"error_x\":{\"color\":\"#2a3f5f\"},\"error_y\":{\"color\":\"#2a3f5f\"},\"marker\":{\"line\":{\"color\":\"#E5ECF6\",\"width\":0.5},\"pattern\":{\"fillmode\":\"overlay\",\"size\":10,\"solidity\":0.2}},\"type\":\"bar\"}],\"scattergeo\":[{\"type\":\"scattergeo\",\"marker\":{\"colorbar\":{\"outlinewidth\":0,\"ticks\":\"\"}}}],\"scatterpolar\":[{\"type\":\"scatterpolar\",\"marker\":{\"colorbar\":{\"outlinewidth\":0,\"ticks\":\"\"}}}],\"histogram\":[{\"marker\":{\"pattern\":{\"fillmode\":\"overlay\",\"size\":10,\"solidity\":0.2}},\"type\":\"histogram\"}],\"scattergl\":[{\"type\":\"scattergl\",\"marker\":{\"colorbar\":{\"outlinewidth\":0,\"ticks\":\"\"}}}],\"scatter3d\":[{\"type\":\"scatter3d\",\"line\":{\"colorbar\":{\"outlinewidth\":0,\"ticks\":\"\"}},\"marker\":{\"colorbar\":{\"outlinewidth\":0,\"ticks\":\"\"}}}],\"scattermapbox\":[{\"type\":\"scattermapbox\",\"marker\":{\"colorbar\":{\"outlinewidth\":0,\"ticks\":\"\"}}}],\"scatterternary\":[{\"type\":\"scatterternary\",\"marker\":{\"colorbar\":{\"outlinewidth\":0,\"ticks\":\"\"}}}],\"scattercarpet\":[{\"type\":\"scattercarpet\",\"marker\":{\"colorbar\":{\"outlinewidth\":0,\"ticks\":\"\"}}}],\"carpet\":[{\"aaxis\":{\"endlinecolor\":\"#2a3f5f\",\"gridcolor\":\"white\",\"linecolor\":\"white\",\"minorgridcolor\":\"white\",\"startlinecolor\":\"#2a3f5f\"},\"baxis\":{\"endlinecolor\":\"#2a3f5f\",\"gridcolor\":\"white\",\"linecolor\":\"white\",\"minorgridcolor\":\"white\",\"startlinecolor\":\"#2a3f5f\"},\"type\":\"carpet\"}],\"table\":[{\"cells\":{\"fill\":{\"color\":\"#EBF0F8\"},\"line\":{\"color\":\"white\"}},\"header\":{\"fill\":{\"color\":\"#C8D4E3\"},\"line\":{\"color\":\"white\"}},\"type\":\"table\"}],\"barpolar\":[{\"marker\":{\"line\":{\"color\":\"#E5ECF6\",\"width\":0.5},\"pattern\":{\"fillmode\":\"overlay\",\"size\":10,\"solidity\":0.2}},\"type\":\"barpolar\"}],\"pie\":[{\"automargin\":true,\"type\":\"pie\"}]},\"layout\":{\"autotypenumbers\":\"strict\",\"colorway\":[\"#636efa\",\"#EF553B\",\"#00cc96\",\"#ab63fa\",\"#FFA15A\",\"#19d3f3\",\"#FF6692\",\"#B6E880\",\"#FF97FF\",\"#FECB52\"],\"font\":{\"color\":\"#2a3f5f\"},\"hovermode\":\"closest\",\"hoverlabel\":{\"align\":\"left\"},\"paper_bgcolor\":\"white\",\"plot_bgcolor\":\"#E5ECF6\",\"polar\":{\"bgcolor\":\"#E5ECF6\",\"angularaxis\":{\"gridcolor\":\"white\",\"linecolor\":\"white\",\"ticks\":\"\"},\"radialaxis\":{\"gridcolor\":\"white\",\"linecolor\":\"white\",\"ticks\":\"\"}},\"ternary\":{\"bgcolor\":\"#E5ECF6\",\"aaxis\":{\"gridcolor\":\"white\",\"linecolor\":\"white\",\"ticks\":\"\"},\"baxis\":{\"gridcolor\":\"white\",\"linecolor\":\"white\",\"ticks\":\"\"},\"caxis\":{\"gridcolor\":\"white\",\"linecolor\":\"white\",\"ticks\":\"\"}},\"coloraxis\":{\"colorbar\":{\"outlinewidth\":0,\"ticks\":\"\"}},\"colorscale\":{\"sequential\":[[0.0,\"#0d0887\"],[0.1111111111111111,\"#46039f\"],[0.2222222222222222,\"#7201a8\"],[0.3333333333333333,\"#9c179e\"],[0.4444444444444444,\"#bd3786\"],[0.5555555555555556,\"#d8576b\"],[0.6666666666666666,\"#ed7953\"],[0.7777777777777778,\"#fb9f3a\"],[0.8888888888888888,\"#fdca26\"],[1.0,\"#f0f921\"]],\"sequentialminus\":[[0.0,\"#0d0887\"],[0.1111111111111111,\"#46039f\"],[0.2222222222222222,\"#7201a8\"],[0.3333333333333333,\"#9c179e\"],[0.4444444444444444,\"#bd3786\"],[0.5555555555555556,\"#d8576b\"],[0.6666666666666666,\"#ed7953\"],[0.7777777777777778,\"#fb9f3a\"],[0.8888888888888888,\"#fdca26\"],[1.0,\"#f0f921\"]],\"diverging\":[[0,\"#8e0152\"],[0.1,\"#c51b7d\"],[0.2,\"#de77ae\"],[0.3,\"#f1b6da\"],[0.4,\"#fde0ef\"],[0.5,\"#f7f7f7\"],[0.6,\"#e6f5d0\"],[0.7,\"#b8e186\"],[0.8,\"#7fbc41\"],[0.9,\"#4d9221\"],[1,\"#276419\"]]},\"xaxis\":{\"gridcolor\":\"white\",\"linecolor\":\"white\",\"ticks\":\"\",\"title\":{\"standoff\":15},\"zerolinecolor\":\"white\",\"automargin\":true,\"zerolinewidth\":2},\"yaxis\":{\"gridcolor\":\"white\",\"linecolor\":\"white\",\"ticks\":\"\",\"title\":{\"standoff\":15},\"zerolinecolor\":\"white\",\"automargin\":true,\"zerolinewidth\":2},\"scene\":{\"xaxis\":{\"backgroundcolor\":\"#E5ECF6\",\"gridcolor\":\"white\",\"linecolor\":\"white\",\"showbackground\":true,\"ticks\":\"\",\"zerolinecolor\":\"white\",\"gridwidth\":2},\"yaxis\":{\"backgroundcolor\":\"#E5ECF6\",\"gridcolor\":\"white\",\"linecolor\":\"white\",\"showbackground\":true,\"ticks\":\"\",\"zerolinecolor\":\"white\",\"gridwidth\":2},\"zaxis\":{\"backgroundcolor\":\"#E5ECF6\",\"gridcolor\":\"white\",\"linecolor\":\"white\",\"showbackground\":true,\"ticks\":\"\",\"zerolinecolor\":\"white\",\"gridwidth\":2}},\"shapedefaults\":{\"line\":{\"color\":\"#2a3f5f\"}},\"annotationdefaults\":{\"arrowcolor\":\"#2a3f5f\",\"arrowhead\":0,\"arrowwidth\":1},\"geo\":{\"bgcolor\":\"white\",\"landcolor\":\"#E5ECF6\",\"subunitcolor\":\"white\",\"showland\":true,\"showlakes\":true,\"lakecolor\":\"white\"},\"title\":{\"x\":0.05},\"mapbox\":{\"style\":\"light\"}}},\"xaxis\":{\"title\":{\"text\":\"Birth\"},\"side\":\"bottom\",\"type\":\"linear\",\"range\":[-0.0003464101627469063,0.01766691830009222],\"autorange\":false,\"ticks\":\"outside\",\"showline\":true,\"zeroline\":true,\"linewidth\":1,\"linecolor\":\"black\",\"mirror\":false,\"showexponent\":\"all\",\"exponentformat\":\"e\"},\"yaxis\":{\"title\":{\"text\":\"Death\"},\"side\":\"left\",\"type\":\"linear\",\"range\":[-0.0003464101627469063,0.01766691830009222],\"autorange\":false,\"scaleanchor\":\"x\",\"scaleratio\":1,\"ticks\":\"outside\",\"showline\":true,\"zeroline\":true,\"linewidth\":1,\"linecolor\":\"black\",\"mirror\":false,\"showexponent\":\"all\",\"exponentformat\":\"e\"},\"width\":500,\"height\":500,\"plot_bgcolor\":\"white\"},                        {\"responsive\": true}                    ).then(function(){\n",
       "                            \n",
       "var gd = document.getElementById('c949ece1-c7e2-4368-9d26-82f61569c8e4');\n",
       "var x = new MutationObserver(function (mutations, observer) {{\n",
       "        var display = window.getComputedStyle(gd).display;\n",
       "        if (!display || display === 'none') {{\n",
       "            console.log([gd, 'removed!']);\n",
       "            Plotly.purge(gd);\n",
       "            observer.disconnect();\n",
       "        }}\n",
       "}});\n",
       "\n",
       "// Listen for the removal of the full notebook cells\n",
       "var notebookContainer = gd.closest('#notebook-container');\n",
       "if (notebookContainer) {{\n",
       "    x.observe(notebookContainer, {childList: true});\n",
       "}}\n",
       "\n",
       "// Listen for the clearing of the current output cell\n",
       "var outputEl = gd.closest('.output');\n",
       "if (outputEl) {{\n",
       "    x.observe(outputEl, {childList: true});\n",
       "}}\n",
       "\n",
       "                        })                };                });            </script>        </div>"
      ]
     },
     "metadata": {},
     "output_type": "display_data"
    },
    {
     "data": {
      "application/vnd.plotly.v1+json": {
       "config": {
        "plotlyServerURL": "https://plot.ly"
       },
       "data": [
        {
         "hoverinfo": "none",
         "line": {
          "color": "black",
          "dash": "dash",
          "width": 1
         },
         "mode": "lines",
         "showlegend": false,
         "type": "scatter",
         "x": [
          -0.0002828427031636238,
          0.014424977861344813
         ],
         "y": [
          -0.0002828427031636238,
          0.014424977861344813
         ]
        },
        {
         "hoverinfo": "text",
         "hovertext": [
          "(0.0, 0.009999999776482582), multiplicity: 40",
          "(0.0, 0.009999999776482582), multiplicity: 40",
          "(0.0, 0.009999999776482582), multiplicity: 40",
          "(0.0, 0.009999999776482582), multiplicity: 40",
          "(0.0, 0.009999999776482582), multiplicity: 40",
          "(0.0, 0.009999999776482582), multiplicity: 40",
          "(0.0, 0.009999999776482582), multiplicity: 40",
          "(0.0, 0.009999999776482582), multiplicity: 40",
          "(0.0, 0.009999999776482582), multiplicity: 40",
          "(0.0, 0.009999999776482582), multiplicity: 40",
          "(0.0, 0.009999999776482582), multiplicity: 40",
          "(0.0, 0.009999999776482582), multiplicity: 40",
          "(0.0, 0.009999999776482582), multiplicity: 40",
          "(0.0, 0.009999999776482582), multiplicity: 40",
          "(0.0, 0.009999999776482582), multiplicity: 40",
          "(0.0, 0.009999999776482582), multiplicity: 40",
          "(0.0, 0.009999999776482582), multiplicity: 40",
          "(0.0, 0.009999999776482582), multiplicity: 40",
          "(0.0, 0.009999999776482582), multiplicity: 40",
          "(0.0, 0.009999999776482582), multiplicity: 40",
          "(0.0, 0.009999999776482582), multiplicity: 40",
          "(0.0, 0.009999999776482582), multiplicity: 40",
          "(0.0, 0.009999999776482582), multiplicity: 40",
          "(0.0, 0.009999999776482582), multiplicity: 40",
          "(0.0, 0.009999999776482582), multiplicity: 40",
          "(0.0, 0.009999999776482582), multiplicity: 40",
          "(0.0, 0.009999999776482582), multiplicity: 40",
          "(0.0, 0.009999999776482582), multiplicity: 40",
          "(0.0, 0.009999999776482582), multiplicity: 40",
          "(0.0, 0.009999999776482582), multiplicity: 40",
          "(0.0, 0.009999999776482582), multiplicity: 40",
          "(0.0, 0.009999999776482582), multiplicity: 40",
          "(0.0, 0.009999999776482582), multiplicity: 40",
          "(0.0, 0.009999999776482582), multiplicity: 40",
          "(0.0, 0.009999999776482582), multiplicity: 40",
          "(0.0, 0.009999999776482582), multiplicity: 40",
          "(0.0, 0.009999999776482582), multiplicity: 40",
          "(0.0, 0.009999999776482582), multiplicity: 40",
          "(0.0, 0.009999999776482582), multiplicity: 40",
          "(0.0, 0.009999999776482582), multiplicity: 40",
          "(0.0, 0.01414213515818119), multiplicity: 3",
          "(0.0, 0.01414213515818119), multiplicity: 3",
          "(0.0, 0.01414213515818119), multiplicity: 3"
         ],
         "mode": "markers",
         "name": "H0",
         "type": "scatter",
         "x": [
          0,
          0,
          0,
          0,
          0,
          0,
          0,
          0,
          0,
          0,
          0,
          0,
          0,
          0,
          0,
          0,
          0,
          0,
          0,
          0,
          0,
          0,
          0,
          0,
          0,
          0,
          0,
          0,
          0,
          0,
          0,
          0,
          0,
          0,
          0,
          0,
          0,
          0,
          0,
          0,
          0,
          0,
          0
         ],
         "y": [
          0.009999999776482582,
          0.009999999776482582,
          0.009999999776482582,
          0.009999999776482582,
          0.009999999776482582,
          0.009999999776482582,
          0.009999999776482582,
          0.009999999776482582,
          0.009999999776482582,
          0.009999999776482582,
          0.009999999776482582,
          0.009999999776482582,
          0.009999999776482582,
          0.009999999776482582,
          0.009999999776482582,
          0.009999999776482582,
          0.009999999776482582,
          0.009999999776482582,
          0.009999999776482582,
          0.009999999776482582,
          0.009999999776482582,
          0.009999999776482582,
          0.009999999776482582,
          0.009999999776482582,
          0.009999999776482582,
          0.009999999776482582,
          0.009999999776482582,
          0.009999999776482582,
          0.009999999776482582,
          0.009999999776482582,
          0.009999999776482582,
          0.009999999776482582,
          0.009999999776482582,
          0.009999999776482582,
          0.009999999776482582,
          0.009999999776482582,
          0.009999999776482582,
          0.009999999776482582,
          0.009999999776482582,
          0.009999999776482582,
          0.01414213515818119,
          0.01414213515818119,
          0.01414213515818119
         ]
        },
        {
         "hoverinfo": "text",
         "hovertext": [
          "(0.009999999776482582, 0.01414213515818119), multiplicity: 24",
          "(0.009999999776482582, 0.01414213515818119), multiplicity: 24",
          "(0.009999999776482582, 0.01414213515818119), multiplicity: 24",
          "(0.009999999776482582, 0.01414213515818119), multiplicity: 24",
          "(0.009999999776482582, 0.01414213515818119), multiplicity: 24",
          "(0.009999999776482582, 0.01414213515818119), multiplicity: 24",
          "(0.009999999776482582, 0.01414213515818119), multiplicity: 24",
          "(0.009999999776482582, 0.01414213515818119), multiplicity: 24",
          "(0.009999999776482582, 0.01414213515818119), multiplicity: 24",
          "(0.009999999776482582, 0.01414213515818119), multiplicity: 24",
          "(0.009999999776482582, 0.01414213515818119), multiplicity: 24",
          "(0.009999999776482582, 0.01414213515818119), multiplicity: 24",
          "(0.009999999776482582, 0.01414213515818119), multiplicity: 24",
          "(0.009999999776482582, 0.01414213515818119), multiplicity: 24",
          "(0.009999999776482582, 0.01414213515818119), multiplicity: 24",
          "(0.009999999776482582, 0.01414213515818119), multiplicity: 24",
          "(0.009999999776482582, 0.01414213515818119), multiplicity: 24",
          "(0.009999999776482582, 0.01414213515818119), multiplicity: 24",
          "(0.009999999776482582, 0.01414213515818119), multiplicity: 24",
          "(0.009999999776482582, 0.01414213515818119), multiplicity: 24",
          "(0.009999999776482582, 0.01414213515818119), multiplicity: 24",
          "(0.009999999776482582, 0.01414213515818119), multiplicity: 24",
          "(0.009999999776482582, 0.01414213515818119), multiplicity: 24",
          "(0.009999999776482582, 0.01414213515818119), multiplicity: 24"
         ],
         "mode": "markers",
         "name": "H1",
         "type": "scatter",
         "x": [
          0.009999999776482582,
          0.009999999776482582,
          0.009999999776482582,
          0.009999999776482582,
          0.009999999776482582,
          0.009999999776482582,
          0.009999999776482582,
          0.009999999776482582,
          0.009999999776482582,
          0.009999999776482582,
          0.009999999776482582,
          0.009999999776482582,
          0.009999999776482582,
          0.009999999776482582,
          0.009999999776482582,
          0.009999999776482582,
          0.009999999776482582,
          0.009999999776482582,
          0.009999999776482582,
          0.009999999776482582,
          0.009999999776482582,
          0.009999999776482582,
          0.009999999776482582,
          0.009999999776482582
         ],
         "y": [
          0.01414213515818119,
          0.01414213515818119,
          0.01414213515818119,
          0.01414213515818119,
          0.01414213515818119,
          0.01414213515818119,
          0.01414213515818119,
          0.01414213515818119,
          0.01414213515818119,
          0.01414213515818119,
          0.01414213515818119,
          0.01414213515818119,
          0.01414213515818119,
          0.01414213515818119,
          0.01414213515818119,
          0.01414213515818119,
          0.01414213515818119,
          0.01414213515818119,
          0.01414213515818119,
          0.01414213515818119,
          0.01414213515818119,
          0.01414213515818119,
          0.01414213515818119,
          0.01414213515818119
         ]
        },
        {
         "hoverinfo": "text",
         "hovertext": [],
         "mode": "markers",
         "name": "H2",
         "type": "scatter",
         "x": [],
         "y": []
        }
       ],
       "layout": {
        "height": 500,
        "plot_bgcolor": "white",
        "template": {
         "data": {
          "bar": [
           {
            "error_x": {
             "color": "#2a3f5f"
            },
            "error_y": {
             "color": "#2a3f5f"
            },
            "marker": {
             "line": {
              "color": "#E5ECF6",
              "width": 0.5
             },
             "pattern": {
              "fillmode": "overlay",
              "size": 10,
              "solidity": 0.2
             }
            },
            "type": "bar"
           }
          ],
          "barpolar": [
           {
            "marker": {
             "line": {
              "color": "#E5ECF6",
              "width": 0.5
             },
             "pattern": {
              "fillmode": "overlay",
              "size": 10,
              "solidity": 0.2
             }
            },
            "type": "barpolar"
           }
          ],
          "carpet": [
           {
            "aaxis": {
             "endlinecolor": "#2a3f5f",
             "gridcolor": "white",
             "linecolor": "white",
             "minorgridcolor": "white",
             "startlinecolor": "#2a3f5f"
            },
            "baxis": {
             "endlinecolor": "#2a3f5f",
             "gridcolor": "white",
             "linecolor": "white",
             "minorgridcolor": "white",
             "startlinecolor": "#2a3f5f"
            },
            "type": "carpet"
           }
          ],
          "choropleth": [
           {
            "colorbar": {
             "outlinewidth": 0,
             "ticks": ""
            },
            "type": "choropleth"
           }
          ],
          "contour": [
           {
            "colorbar": {
             "outlinewidth": 0,
             "ticks": ""
            },
            "colorscale": [
             [
              0,
              "#0d0887"
             ],
             [
              0.1111111111111111,
              "#46039f"
             ],
             [
              0.2222222222222222,
              "#7201a8"
             ],
             [
              0.3333333333333333,
              "#9c179e"
             ],
             [
              0.4444444444444444,
              "#bd3786"
             ],
             [
              0.5555555555555556,
              "#d8576b"
             ],
             [
              0.6666666666666666,
              "#ed7953"
             ],
             [
              0.7777777777777778,
              "#fb9f3a"
             ],
             [
              0.8888888888888888,
              "#fdca26"
             ],
             [
              1,
              "#f0f921"
             ]
            ],
            "type": "contour"
           }
          ],
          "contourcarpet": [
           {
            "colorbar": {
             "outlinewidth": 0,
             "ticks": ""
            },
            "type": "contourcarpet"
           }
          ],
          "heatmap": [
           {
            "colorbar": {
             "outlinewidth": 0,
             "ticks": ""
            },
            "colorscale": [
             [
              0,
              "#0d0887"
             ],
             [
              0.1111111111111111,
              "#46039f"
             ],
             [
              0.2222222222222222,
              "#7201a8"
             ],
             [
              0.3333333333333333,
              "#9c179e"
             ],
             [
              0.4444444444444444,
              "#bd3786"
             ],
             [
              0.5555555555555556,
              "#d8576b"
             ],
             [
              0.6666666666666666,
              "#ed7953"
             ],
             [
              0.7777777777777778,
              "#fb9f3a"
             ],
             [
              0.8888888888888888,
              "#fdca26"
             ],
             [
              1,
              "#f0f921"
             ]
            ],
            "type": "heatmap"
           }
          ],
          "heatmapgl": [
           {
            "colorbar": {
             "outlinewidth": 0,
             "ticks": ""
            },
            "colorscale": [
             [
              0,
              "#0d0887"
             ],
             [
              0.1111111111111111,
              "#46039f"
             ],
             [
              0.2222222222222222,
              "#7201a8"
             ],
             [
              0.3333333333333333,
              "#9c179e"
             ],
             [
              0.4444444444444444,
              "#bd3786"
             ],
             [
              0.5555555555555556,
              "#d8576b"
             ],
             [
              0.6666666666666666,
              "#ed7953"
             ],
             [
              0.7777777777777778,
              "#fb9f3a"
             ],
             [
              0.8888888888888888,
              "#fdca26"
             ],
             [
              1,
              "#f0f921"
             ]
            ],
            "type": "heatmapgl"
           }
          ],
          "histogram": [
           {
            "marker": {
             "pattern": {
              "fillmode": "overlay",
              "size": 10,
              "solidity": 0.2
             }
            },
            "type": "histogram"
           }
          ],
          "histogram2d": [
           {
            "colorbar": {
             "outlinewidth": 0,
             "ticks": ""
            },
            "colorscale": [
             [
              0,
              "#0d0887"
             ],
             [
              0.1111111111111111,
              "#46039f"
             ],
             [
              0.2222222222222222,
              "#7201a8"
             ],
             [
              0.3333333333333333,
              "#9c179e"
             ],
             [
              0.4444444444444444,
              "#bd3786"
             ],
             [
              0.5555555555555556,
              "#d8576b"
             ],
             [
              0.6666666666666666,
              "#ed7953"
             ],
             [
              0.7777777777777778,
              "#fb9f3a"
             ],
             [
              0.8888888888888888,
              "#fdca26"
             ],
             [
              1,
              "#f0f921"
             ]
            ],
            "type": "histogram2d"
           }
          ],
          "histogram2dcontour": [
           {
            "colorbar": {
             "outlinewidth": 0,
             "ticks": ""
            },
            "colorscale": [
             [
              0,
              "#0d0887"
             ],
             [
              0.1111111111111111,
              "#46039f"
             ],
             [
              0.2222222222222222,
              "#7201a8"
             ],
             [
              0.3333333333333333,
              "#9c179e"
             ],
             [
              0.4444444444444444,
              "#bd3786"
             ],
             [
              0.5555555555555556,
              "#d8576b"
             ],
             [
              0.6666666666666666,
              "#ed7953"
             ],
             [
              0.7777777777777778,
              "#fb9f3a"
             ],
             [
              0.8888888888888888,
              "#fdca26"
             ],
             [
              1,
              "#f0f921"
             ]
            ],
            "type": "histogram2dcontour"
           }
          ],
          "mesh3d": [
           {
            "colorbar": {
             "outlinewidth": 0,
             "ticks": ""
            },
            "type": "mesh3d"
           }
          ],
          "parcoords": [
           {
            "line": {
             "colorbar": {
              "outlinewidth": 0,
              "ticks": ""
             }
            },
            "type": "parcoords"
           }
          ],
          "pie": [
           {
            "automargin": true,
            "type": "pie"
           }
          ],
          "scatter": [
           {
            "fillpattern": {
             "fillmode": "overlay",
             "size": 10,
             "solidity": 0.2
            },
            "type": "scatter"
           }
          ],
          "scatter3d": [
           {
            "line": {
             "colorbar": {
              "outlinewidth": 0,
              "ticks": ""
             }
            },
            "marker": {
             "colorbar": {
              "outlinewidth": 0,
              "ticks": ""
             }
            },
            "type": "scatter3d"
           }
          ],
          "scattercarpet": [
           {
            "marker": {
             "colorbar": {
              "outlinewidth": 0,
              "ticks": ""
             }
            },
            "type": "scattercarpet"
           }
          ],
          "scattergeo": [
           {
            "marker": {
             "colorbar": {
              "outlinewidth": 0,
              "ticks": ""
             }
            },
            "type": "scattergeo"
           }
          ],
          "scattergl": [
           {
            "marker": {
             "colorbar": {
              "outlinewidth": 0,
              "ticks": ""
             }
            },
            "type": "scattergl"
           }
          ],
          "scattermapbox": [
           {
            "marker": {
             "colorbar": {
              "outlinewidth": 0,
              "ticks": ""
             }
            },
            "type": "scattermapbox"
           }
          ],
          "scatterpolar": [
           {
            "marker": {
             "colorbar": {
              "outlinewidth": 0,
              "ticks": ""
             }
            },
            "type": "scatterpolar"
           }
          ],
          "scatterpolargl": [
           {
            "marker": {
             "colorbar": {
              "outlinewidth": 0,
              "ticks": ""
             }
            },
            "type": "scatterpolargl"
           }
          ],
          "scatterternary": [
           {
            "marker": {
             "colorbar": {
              "outlinewidth": 0,
              "ticks": ""
             }
            },
            "type": "scatterternary"
           }
          ],
          "surface": [
           {
            "colorbar": {
             "outlinewidth": 0,
             "ticks": ""
            },
            "colorscale": [
             [
              0,
              "#0d0887"
             ],
             [
              0.1111111111111111,
              "#46039f"
             ],
             [
              0.2222222222222222,
              "#7201a8"
             ],
             [
              0.3333333333333333,
              "#9c179e"
             ],
             [
              0.4444444444444444,
              "#bd3786"
             ],
             [
              0.5555555555555556,
              "#d8576b"
             ],
             [
              0.6666666666666666,
              "#ed7953"
             ],
             [
              0.7777777777777778,
              "#fb9f3a"
             ],
             [
              0.8888888888888888,
              "#fdca26"
             ],
             [
              1,
              "#f0f921"
             ]
            ],
            "type": "surface"
           }
          ],
          "table": [
           {
            "cells": {
             "fill": {
              "color": "#EBF0F8"
             },
             "line": {
              "color": "white"
             }
            },
            "header": {
             "fill": {
              "color": "#C8D4E3"
             },
             "line": {
              "color": "white"
             }
            },
            "type": "table"
           }
          ]
         },
         "layout": {
          "annotationdefaults": {
           "arrowcolor": "#2a3f5f",
           "arrowhead": 0,
           "arrowwidth": 1
          },
          "autotypenumbers": "strict",
          "coloraxis": {
           "colorbar": {
            "outlinewidth": 0,
            "ticks": ""
           }
          },
          "colorscale": {
           "diverging": [
            [
             0,
             "#8e0152"
            ],
            [
             0.1,
             "#c51b7d"
            ],
            [
             0.2,
             "#de77ae"
            ],
            [
             0.3,
             "#f1b6da"
            ],
            [
             0.4,
             "#fde0ef"
            ],
            [
             0.5,
             "#f7f7f7"
            ],
            [
             0.6,
             "#e6f5d0"
            ],
            [
             0.7,
             "#b8e186"
            ],
            [
             0.8,
             "#7fbc41"
            ],
            [
             0.9,
             "#4d9221"
            ],
            [
             1,
             "#276419"
            ]
           ],
           "sequential": [
            [
             0,
             "#0d0887"
            ],
            [
             0.1111111111111111,
             "#46039f"
            ],
            [
             0.2222222222222222,
             "#7201a8"
            ],
            [
             0.3333333333333333,
             "#9c179e"
            ],
            [
             0.4444444444444444,
             "#bd3786"
            ],
            [
             0.5555555555555556,
             "#d8576b"
            ],
            [
             0.6666666666666666,
             "#ed7953"
            ],
            [
             0.7777777777777778,
             "#fb9f3a"
            ],
            [
             0.8888888888888888,
             "#fdca26"
            ],
            [
             1,
             "#f0f921"
            ]
           ],
           "sequentialminus": [
            [
             0,
             "#0d0887"
            ],
            [
             0.1111111111111111,
             "#46039f"
            ],
            [
             0.2222222222222222,
             "#7201a8"
            ],
            [
             0.3333333333333333,
             "#9c179e"
            ],
            [
             0.4444444444444444,
             "#bd3786"
            ],
            [
             0.5555555555555556,
             "#d8576b"
            ],
            [
             0.6666666666666666,
             "#ed7953"
            ],
            [
             0.7777777777777778,
             "#fb9f3a"
            ],
            [
             0.8888888888888888,
             "#fdca26"
            ],
            [
             1,
             "#f0f921"
            ]
           ]
          },
          "colorway": [
           "#636efa",
           "#EF553B",
           "#00cc96",
           "#ab63fa",
           "#FFA15A",
           "#19d3f3",
           "#FF6692",
           "#B6E880",
           "#FF97FF",
           "#FECB52"
          ],
          "font": {
           "color": "#2a3f5f"
          },
          "geo": {
           "bgcolor": "white",
           "lakecolor": "white",
           "landcolor": "#E5ECF6",
           "showlakes": true,
           "showland": true,
           "subunitcolor": "white"
          },
          "hoverlabel": {
           "align": "left"
          },
          "hovermode": "closest",
          "mapbox": {
           "style": "light"
          },
          "paper_bgcolor": "white",
          "plot_bgcolor": "#E5ECF6",
          "polar": {
           "angularaxis": {
            "gridcolor": "white",
            "linecolor": "white",
            "ticks": ""
           },
           "bgcolor": "#E5ECF6",
           "radialaxis": {
            "gridcolor": "white",
            "linecolor": "white",
            "ticks": ""
           }
          },
          "scene": {
           "xaxis": {
            "backgroundcolor": "#E5ECF6",
            "gridcolor": "white",
            "gridwidth": 2,
            "linecolor": "white",
            "showbackground": true,
            "ticks": "",
            "zerolinecolor": "white"
           },
           "yaxis": {
            "backgroundcolor": "#E5ECF6",
            "gridcolor": "white",
            "gridwidth": 2,
            "linecolor": "white",
            "showbackground": true,
            "ticks": "",
            "zerolinecolor": "white"
           },
           "zaxis": {
            "backgroundcolor": "#E5ECF6",
            "gridcolor": "white",
            "gridwidth": 2,
            "linecolor": "white",
            "showbackground": true,
            "ticks": "",
            "zerolinecolor": "white"
           }
          },
          "shapedefaults": {
           "line": {
            "color": "#2a3f5f"
           }
          },
          "ternary": {
           "aaxis": {
            "gridcolor": "white",
            "linecolor": "white",
            "ticks": ""
           },
           "baxis": {
            "gridcolor": "white",
            "linecolor": "white",
            "ticks": ""
           },
           "bgcolor": "#E5ECF6",
           "caxis": {
            "gridcolor": "white",
            "linecolor": "white",
            "ticks": ""
           }
          },
          "title": {
           "x": 0.05
          },
          "xaxis": {
           "automargin": true,
           "gridcolor": "white",
           "linecolor": "white",
           "ticks": "",
           "title": {
            "standoff": 15
           },
           "zerolinecolor": "white",
           "zerolinewidth": 2
          },
          "yaxis": {
           "automargin": true,
           "gridcolor": "white",
           "linecolor": "white",
           "ticks": "",
           "title": {
            "standoff": 15
           },
           "zerolinecolor": "white",
           "zerolinewidth": 2
          }
         }
        },
        "width": 500,
        "xaxis": {
         "autorange": false,
         "domain": [
          0,
          1
         ],
         "exponentformat": "e",
         "linecolor": "black",
         "linewidth": 1,
         "mirror": false,
         "range": [
          -0.0007194811261724693,
          0.01486161628435366
         ],
         "showexponent": "all",
         "showline": true,
         "side": "bottom",
         "ticks": "outside",
         "title": {
          "text": "Birth"
         },
         "type": "linear",
         "zeroline": true
        },
        "yaxis": {
         "autorange": false,
         "domain": [
          0,
          1
         ],
         "exponentformat": "e",
         "linecolor": "black",
         "linewidth": 1,
         "mirror": false,
         "range": [
          -0.0002828427031636238,
          0.014424977861344813
         ],
         "scaleanchor": "x",
         "scaleratio": 1,
         "showexponent": "all",
         "showline": true,
         "side": "left",
         "ticks": "outside",
         "title": {
          "text": "Death"
         },
         "type": "linear",
         "zeroline": true
        }
       }
      },
      "image/png": "[encoded data removed]",
      "text/html": [
       "<div>                            <div id=\"951c4fb6-a921-4db0-b117-ed35acfdacae\" class=\"plotly-graph-div\" style=\"height:500px; width:500px;\"></div>            <script type=\"text/javascript\">                require([\"plotly\"], function(Plotly) {                    window.PLOTLYENV=window.PLOTLYENV || {};                                    if (document.getElementById(\"951c4fb6-a921-4db0-b117-ed35acfdacae\")) {                    Plotly.newPlot(                        \"951c4fb6-a921-4db0-b117-ed35acfdacae\",                        [{\"hoverinfo\":\"none\",\"line\":{\"color\":\"black\",\"dash\":\"dash\",\"width\":1},\"mode\":\"lines\",\"showlegend\":false,\"x\":[-0.0002828427031636238,0.014424977861344813],\"y\":[-0.0002828427031636238,0.014424977861344813],\"type\":\"scatter\"},{\"hoverinfo\":\"text\",\"hovertext\":[\"(0.0, 0.009999999776482582), multiplicity: 40\",\"(0.0, 0.009999999776482582), multiplicity: 40\",\"(0.0, 0.009999999776482582), multiplicity: 40\",\"(0.0, 0.009999999776482582), multiplicity: 40\",\"(0.0, 0.009999999776482582), multiplicity: 40\",\"(0.0, 0.009999999776482582), multiplicity: 40\",\"(0.0, 0.009999999776482582), multiplicity: 40\",\"(0.0, 0.009999999776482582), multiplicity: 40\",\"(0.0, 0.009999999776482582), multiplicity: 40\",\"(0.0, 0.009999999776482582), multiplicity: 40\",\"(0.0, 0.009999999776482582), multiplicity: 40\",\"(0.0, 0.009999999776482582), multiplicity: 40\",\"(0.0, 0.009999999776482582), multiplicity: 40\",\"(0.0, 0.009999999776482582), multiplicity: 40\",\"(0.0, 0.009999999776482582), multiplicity: 40\",\"(0.0, 0.009999999776482582), multiplicity: 40\",\"(0.0, 0.009999999776482582), multiplicity: 40\",\"(0.0, 0.009999999776482582), multiplicity: 40\",\"(0.0, 0.009999999776482582), multiplicity: 40\",\"(0.0, 0.009999999776482582), multiplicity: 40\",\"(0.0, 0.009999999776482582), multiplicity: 40\",\"(0.0, 0.009999999776482582), multiplicity: 40\",\"(0.0, 0.009999999776482582), multiplicity: 40\",\"(0.0, 0.009999999776482582), multiplicity: 40\",\"(0.0, 0.009999999776482582), multiplicity: 40\",\"(0.0, 0.009999999776482582), multiplicity: 40\",\"(0.0, 0.009999999776482582), multiplicity: 40\",\"(0.0, 0.009999999776482582), multiplicity: 40\",\"(0.0, 0.009999999776482582), multiplicity: 40\",\"(0.0, 0.009999999776482582), multiplicity: 40\",\"(0.0, 0.009999999776482582), multiplicity: 40\",\"(0.0, 0.009999999776482582), multiplicity: 40\",\"(0.0, 0.009999999776482582), multiplicity: 40\",\"(0.0, 0.009999999776482582), multiplicity: 40\",\"(0.0, 0.009999999776482582), multiplicity: 40\",\"(0.0, 0.009999999776482582), multiplicity: 40\",\"(0.0, 0.009999999776482582), multiplicity: 40\",\"(0.0, 0.009999999776482582), multiplicity: 40\",\"(0.0, 0.009999999776482582), multiplicity: 40\",\"(0.0, 0.009999999776482582), multiplicity: 40\",\"(0.0, 0.01414213515818119), multiplicity: 3\",\"(0.0, 0.01414213515818119), multiplicity: 3\",\"(0.0, 0.01414213515818119), multiplicity: 3\"],\"mode\":\"markers\",\"name\":\"H0\",\"x\":[0.0,0.0,0.0,0.0,0.0,0.0,0.0,0.0,0.0,0.0,0.0,0.0,0.0,0.0,0.0,0.0,0.0,0.0,0.0,0.0,0.0,0.0,0.0,0.0,0.0,0.0,0.0,0.0,0.0,0.0,0.0,0.0,0.0,0.0,0.0,0.0,0.0,0.0,0.0,0.0,0.0,0.0,0.0],\"y\":[0.009999999776482582,0.009999999776482582,0.009999999776482582,0.009999999776482582,0.009999999776482582,0.009999999776482582,0.009999999776482582,0.009999999776482582,0.009999999776482582,0.009999999776482582,0.009999999776482582,0.009999999776482582,0.009999999776482582,0.009999999776482582,0.009999999776482582,0.009999999776482582,0.009999999776482582,0.009999999776482582,0.009999999776482582,0.009999999776482582,0.009999999776482582,0.009999999776482582,0.009999999776482582,0.009999999776482582,0.009999999776482582,0.009999999776482582,0.009999999776482582,0.009999999776482582,0.009999999776482582,0.009999999776482582,0.009999999776482582,0.009999999776482582,0.009999999776482582,0.009999999776482582,0.009999999776482582,0.009999999776482582,0.009999999776482582,0.009999999776482582,0.009999999776482582,0.009999999776482582,0.01414213515818119,0.01414213515818119,0.01414213515818119],\"type\":\"scatter\"},{\"hoverinfo\":\"text\",\"hovertext\":[\"(0.009999999776482582, 0.01414213515818119), multiplicity: 24\",\"(0.009999999776482582, 0.01414213515818119), multiplicity: 24\",\"(0.009999999776482582, 0.01414213515818119), multiplicity: 24\",\"(0.009999999776482582, 0.01414213515818119), multiplicity: 24\",\"(0.009999999776482582, 0.01414213515818119), multiplicity: 24\",\"(0.009999999776482582, 0.01414213515818119), multiplicity: 24\",\"(0.009999999776482582, 0.01414213515818119), multiplicity: 24\",\"(0.009999999776482582, 0.01414213515818119), multiplicity: 24\",\"(0.009999999776482582, 0.01414213515818119), multiplicity: 24\",\"(0.009999999776482582, 0.01414213515818119), multiplicity: 24\",\"(0.009999999776482582, 0.01414213515818119), multiplicity: 24\",\"(0.009999999776482582, 0.01414213515818119), multiplicity: 24\",\"(0.009999999776482582, 0.01414213515818119), multiplicity: 24\",\"(0.009999999776482582, 0.01414213515818119), multiplicity: 24\",\"(0.009999999776482582, 0.01414213515818119), multiplicity: 24\",\"(0.009999999776482582, 0.01414213515818119), multiplicity: 24\",\"(0.009999999776482582, 0.01414213515818119), multiplicity: 24\",\"(0.009999999776482582, 0.01414213515818119), multiplicity: 24\",\"(0.009999999776482582, 0.01414213515818119), multiplicity: 24\",\"(0.009999999776482582, 0.01414213515818119), multiplicity: 24\",\"(0.009999999776482582, 0.01414213515818119), multiplicity: 24\",\"(0.009999999776482582, 0.01414213515818119), multiplicity: 24\",\"(0.009999999776482582, 0.01414213515818119), multiplicity: 24\",\"(0.009999999776482582, 0.01414213515818119), multiplicity: 24\"],\"mode\":\"markers\",\"name\":\"H1\",\"x\":[0.009999999776482582,0.009999999776482582,0.009999999776482582,0.009999999776482582,0.009999999776482582,0.009999999776482582,0.009999999776482582,0.009999999776482582,0.009999999776482582,0.009999999776482582,0.009999999776482582,0.009999999776482582,0.009999999776482582,0.009999999776482582,0.009999999776482582,0.009999999776482582,0.009999999776482582,0.009999999776482582,0.009999999776482582,0.009999999776482582,0.009999999776482582,0.009999999776482582,0.009999999776482582,0.009999999776482582],\"y\":[0.01414213515818119,0.01414213515818119,0.01414213515818119,0.01414213515818119,0.01414213515818119,0.01414213515818119,0.01414213515818119,0.01414213515818119,0.01414213515818119,0.01414213515818119,0.01414213515818119,0.01414213515818119,0.01414213515818119,0.01414213515818119,0.01414213515818119,0.01414213515818119,0.01414213515818119,0.01414213515818119,0.01414213515818119,0.01414213515818119,0.01414213515818119,0.01414213515818119,0.01414213515818119,0.01414213515818119],\"type\":\"scatter\"},{\"hoverinfo\":\"text\",\"hovertext\":[],\"mode\":\"markers\",\"name\":\"H2\",\"x\":[],\"y\":[],\"type\":\"scatter\"}],                        {\"template\":{\"data\":{\"histogram2dcontour\":[{\"type\":\"histogram2dcontour\",\"colorbar\":{\"outlinewidth\":0,\"ticks\":\"\"},\"colorscale\":[[0.0,\"#0d0887\"],[0.1111111111111111,\"#46039f\"],[0.2222222222222222,\"#7201a8\"],[0.3333333333333333,\"#9c179e\"],[0.4444444444444444,\"#bd3786\"],[0.5555555555555556,\"#d8576b\"],[0.6666666666666666,\"#ed7953\"],[0.7777777777777778,\"#fb9f3a\"],[0.8888888888888888,\"#fdca26\"],[1.0,\"#f0f921\"]]}],\"choropleth\":[{\"type\":\"choropleth\",\"colorbar\":{\"outlinewidth\":0,\"ticks\":\"\"}}],\"histogram2d\":[{\"type\":\"histogram2d\",\"colorbar\":{\"outlinewidth\":0,\"ticks\":\"\"},\"colorscale\":[[0.0,\"#0d0887\"],[0.1111111111111111,\"#46039f\"],[0.2222222222222222,\"#7201a8\"],[0.3333333333333333,\"#9c179e\"],[0.4444444444444444,\"#bd3786\"],[0.5555555555555556,\"#d8576b\"],[0.6666666666666666,\"#ed7953\"],[0.7777777777777778,\"#fb9f3a\"],[0.8888888888888888,\"#fdca26\"],[1.0,\"#f0f921\"]]}],\"heatmap\":[{\"type\":\"heatmap\",\"colorbar\":{\"outlinewidth\":0,\"ticks\":\"\"},\"colorscale\":[[0.0,\"#0d0887\"],[0.1111111111111111,\"#46039f\"],[0.2222222222222222,\"#7201a8\"],[0.3333333333333333,\"#9c179e\"],[0.4444444444444444,\"#bd3786\"],[0.5555555555555556,\"#d8576b\"],[0.6666666666666666,\"#ed7953\"],[0.7777777777777778,\"#fb9f3a\"],[0.8888888888888888,\"#fdca26\"],[1.0,\"#f0f921\"]]}],\"heatmapgl\":[{\"type\":\"heatmapgl\",\"colorbar\":{\"outlinewidth\":0,\"ticks\":\"\"},\"colorscale\":[[0.0,\"#0d0887\"],[0.1111111111111111,\"#46039f\"],[0.2222222222222222,\"#7201a8\"],[0.3333333333333333,\"#9c179e\"],[0.4444444444444444,\"#bd3786\"],[0.5555555555555556,\"#d8576b\"],[0.6666666666666666,\"#ed7953\"],[0.7777777777777778,\"#fb9f3a\"],[0.8888888888888888,\"#fdca26\"],[1.0,\"#f0f921\"]]}],\"contourcarpet\":[{\"type\":\"contourcarpet\",\"colorbar\":{\"outlinewidth\":0,\"ticks\":\"\"}}],\"contour\":[{\"type\":\"contour\",\"colorbar\":{\"outlinewidth\":0,\"ticks\":\"\"},\"colorscale\":[[0.0,\"#0d0887\"],[0.1111111111111111,\"#46039f\"],[0.2222222222222222,\"#7201a8\"],[0.3333333333333333,\"#9c179e\"],[0.4444444444444444,\"#bd3786\"],[0.5555555555555556,\"#d8576b\"],[0.6666666666666666,\"#ed7953\"],[0.7777777777777778,\"#fb9f3a\"],[0.8888888888888888,\"#fdca26\"],[1.0,\"#f0f921\"]]}],\"surface\":[{\"type\":\"surface\",\"colorbar\":{\"outlinewidth\":0,\"ticks\":\"\"},\"colorscale\":[[0.0,\"#0d0887\"],[0.1111111111111111,\"#46039f\"],[0.2222222222222222,\"#7201a8\"],[0.3333333333333333,\"#9c179e\"],[0.4444444444444444,\"#bd3786\"],[0.5555555555555556,\"#d8576b\"],[0.6666666666666666,\"#ed7953\"],[0.7777777777777778,\"#fb9f3a\"],[0.8888888888888888,\"#fdca26\"],[1.0,\"#f0f921\"]]}],\"mesh3d\":[{\"type\":\"mesh3d\",\"colorbar\":{\"outlinewidth\":0,\"ticks\":\"\"}}],\"scatter\":[{\"fillpattern\":{\"fillmode\":\"overlay\",\"size\":10,\"solidity\":0.2},\"type\":\"scatter\"}],\"parcoords\":[{\"type\":\"parcoords\",\"line\":{\"colorbar\":{\"outlinewidth\":0,\"ticks\":\"\"}}}],\"scatterpolargl\":[{\"type\":\"scatterpolargl\",\"marker\":{\"colorbar\":{\"outlinewidth\":0,\"ticks\":\"\"}}}],\"bar\":[{\"error_x\":{\"color\":\"#2a3f5f\"},\"error_y\":{\"color\":\"#2a3f5f\"},\"marker\":{\"line\":{\"color\":\"#E5ECF6\",\"width\":0.5},\"pattern\":{\"fillmode\":\"overlay\",\"size\":10,\"solidity\":0.2}},\"type\":\"bar\"}],\"scattergeo\":[{\"type\":\"scattergeo\",\"marker\":{\"colorbar\":{\"outlinewidth\":0,\"ticks\":\"\"}}}],\"scatterpolar\":[{\"type\":\"scatterpolar\",\"marker\":{\"colorbar\":{\"outlinewidth\":0,\"ticks\":\"\"}}}],\"histogram\":[{\"marker\":{\"pattern\":{\"fillmode\":\"overlay\",\"size\":10,\"solidity\":0.2}},\"type\":\"histogram\"}],\"scattergl\":[{\"type\":\"scattergl\",\"marker\":{\"colorbar\":{\"outlinewidth\":0,\"ticks\":\"\"}}}],\"scatter3d\":[{\"type\":\"scatter3d\",\"line\":{\"colorbar\":{\"outlinewidth\":0,\"ticks\":\"\"}},\"marker\":{\"colorbar\":{\"outlinewidth\":0,\"ticks\":\"\"}}}],\"scattermapbox\":[{\"type\":\"scattermapbox\",\"marker\":{\"colorbar\":{\"outlinewidth\":0,\"ticks\":\"\"}}}],\"scatterternary\":[{\"type\":\"scatterternary\",\"marker\":{\"colorbar\":{\"outlinewidth\":0,\"ticks\":\"\"}}}],\"scattercarpet\":[{\"type\":\"scattercarpet\",\"marker\":{\"colorbar\":{\"outlinewidth\":0,\"ticks\":\"\"}}}],\"carpet\":[{\"aaxis\":{\"endlinecolor\":\"#2a3f5f\",\"gridcolor\":\"white\",\"linecolor\":\"white\",\"minorgridcolor\":\"white\",\"startlinecolor\":\"#2a3f5f\"},\"baxis\":{\"endlinecolor\":\"#2a3f5f\",\"gridcolor\":\"white\",\"linecolor\":\"white\",\"minorgridcolor\":\"white\",\"startlinecolor\":\"#2a3f5f\"},\"type\":\"carpet\"}],\"table\":[{\"cells\":{\"fill\":{\"color\":\"#EBF0F8\"},\"line\":{\"color\":\"white\"}},\"header\":{\"fill\":{\"color\":\"#C8D4E3\"},\"line\":{\"color\":\"white\"}},\"type\":\"table\"}],\"barpolar\":[{\"marker\":{\"line\":{\"color\":\"#E5ECF6\",\"width\":0.5},\"pattern\":{\"fillmode\":\"overlay\",\"size\":10,\"solidity\":0.2}},\"type\":\"barpolar\"}],\"pie\":[{\"automargin\":true,\"type\":\"pie\"}]},\"layout\":{\"autotypenumbers\":\"strict\",\"colorway\":[\"#636efa\",\"#EF553B\",\"#00cc96\",\"#ab63fa\",\"#FFA15A\",\"#19d3f3\",\"#FF6692\",\"#B6E880\",\"#FF97FF\",\"#FECB52\"],\"font\":{\"color\":\"#2a3f5f\"},\"hovermode\":\"closest\",\"hoverlabel\":{\"align\":\"left\"},\"paper_bgcolor\":\"white\",\"plot_bgcolor\":\"#E5ECF6\",\"polar\":{\"bgcolor\":\"#E5ECF6\",\"angularaxis\":{\"gridcolor\":\"white\",\"linecolor\":\"white\",\"ticks\":\"\"},\"radialaxis\":{\"gridcolor\":\"white\",\"linecolor\":\"white\",\"ticks\":\"\"}},\"ternary\":{\"bgcolor\":\"#E5ECF6\",\"aaxis\":{\"gridcolor\":\"white\",\"linecolor\":\"white\",\"ticks\":\"\"},\"baxis\":{\"gridcolor\":\"white\",\"linecolor\":\"white\",\"ticks\":\"\"},\"caxis\":{\"gridcolor\":\"white\",\"linecolor\":\"white\",\"ticks\":\"\"}},\"coloraxis\":{\"colorbar\":{\"outlinewidth\":0,\"ticks\":\"\"}},\"colorscale\":{\"sequential\":[[0.0,\"#0d0887\"],[0.1111111111111111,\"#46039f\"],[0.2222222222222222,\"#7201a8\"],[0.3333333333333333,\"#9c179e\"],[0.4444444444444444,\"#bd3786\"],[0.5555555555555556,\"#d8576b\"],[0.6666666666666666,\"#ed7953\"],[0.7777777777777778,\"#fb9f3a\"],[0.8888888888888888,\"#fdca26\"],[1.0,\"#f0f921\"]],\"sequentialminus\":[[0.0,\"#0d0887\"],[0.1111111111111111,\"#46039f\"],[0.2222222222222222,\"#7201a8\"],[0.3333333333333333,\"#9c179e\"],[0.4444444444444444,\"#bd3786\"],[0.5555555555555556,\"#d8576b\"],[0.6666666666666666,\"#ed7953\"],[0.7777777777777778,\"#fb9f3a\"],[0.8888888888888888,\"#fdca26\"],[1.0,\"#f0f921\"]],\"diverging\":[[0,\"#8e0152\"],[0.1,\"#c51b7d\"],[0.2,\"#de77ae\"],[0.3,\"#f1b6da\"],[0.4,\"#fde0ef\"],[0.5,\"#f7f7f7\"],[0.6,\"#e6f5d0\"],[0.7,\"#b8e186\"],[0.8,\"#7fbc41\"],[0.9,\"#4d9221\"],[1,\"#276419\"]]},\"xaxis\":{\"gridcolor\":\"white\",\"linecolor\":\"white\",\"ticks\":\"\",\"title\":{\"standoff\":15},\"zerolinecolor\":\"white\",\"automargin\":true,\"zerolinewidth\":2},\"yaxis\":{\"gridcolor\":\"white\",\"linecolor\":\"white\",\"ticks\":\"\",\"title\":{\"standoff\":15},\"zerolinecolor\":\"white\",\"automargin\":true,\"zerolinewidth\":2},\"scene\":{\"xaxis\":{\"backgroundcolor\":\"#E5ECF6\",\"gridcolor\":\"white\",\"linecolor\":\"white\",\"showbackground\":true,\"ticks\":\"\",\"zerolinecolor\":\"white\",\"gridwidth\":2},\"yaxis\":{\"backgroundcolor\":\"#E5ECF6\",\"gridcolor\":\"white\",\"linecolor\":\"white\",\"showbackground\":true,\"ticks\":\"\",\"zerolinecolor\":\"white\",\"gridwidth\":2},\"zaxis\":{\"backgroundcolor\":\"#E5ECF6\",\"gridcolor\":\"white\",\"linecolor\":\"white\",\"showbackground\":true,\"ticks\":\"\",\"zerolinecolor\":\"white\",\"gridwidth\":2}},\"shapedefaults\":{\"line\":{\"color\":\"#2a3f5f\"}},\"annotationdefaults\":{\"arrowcolor\":\"#2a3f5f\",\"arrowhead\":0,\"arrowwidth\":1},\"geo\":{\"bgcolor\":\"white\",\"landcolor\":\"#E5ECF6\",\"subunitcolor\":\"white\",\"showland\":true,\"showlakes\":true,\"lakecolor\":\"white\"},\"title\":{\"x\":0.05},\"mapbox\":{\"style\":\"light\"}}},\"xaxis\":{\"title\":{\"text\":\"Birth\"},\"side\":\"bottom\",\"type\":\"linear\",\"range\":[-0.0002828427031636238,0.014424977861344813],\"autorange\":false,\"ticks\":\"outside\",\"showline\":true,\"zeroline\":true,\"linewidth\":1,\"linecolor\":\"black\",\"mirror\":false,\"showexponent\":\"all\",\"exponentformat\":\"e\"},\"yaxis\":{\"title\":{\"text\":\"Death\"},\"side\":\"left\",\"type\":\"linear\",\"range\":[-0.0002828427031636238,0.014424977861344813],\"autorange\":false,\"scaleanchor\":\"x\",\"scaleratio\":1,\"ticks\":\"outside\",\"showline\":true,\"zeroline\":true,\"linewidth\":1,\"linecolor\":\"black\",\"mirror\":false,\"showexponent\":\"all\",\"exponentformat\":\"e\"},\"width\":500,\"height\":500,\"plot_bgcolor\":\"white\"},                        {\"responsive\": true}                    ).then(function(){\n",
       "                            \n",
       "var gd = document.getElementById('951c4fb6-a921-4db0-b117-ed35acfdacae');\n",
       "var x = new MutationObserver(function (mutations, observer) {{\n",
       "        var display = window.getComputedStyle(gd).display;\n",
       "        if (!display || display === 'none') {{\n",
       "            console.log([gd, 'removed!']);\n",
       "            Plotly.purge(gd);\n",
       "            observer.disconnect();\n",
       "        }}\n",
       "}});\n",
       "\n",
       "// Listen for the removal of the full notebook cells\n",
       "var notebookContainer = gd.closest('#notebook-container');\n",
       "if (notebookContainer) {{\n",
       "    x.observe(notebookContainer, {childList: true});\n",
       "}}\n",
       "\n",
       "// Listen for the clearing of the current output cell\n",
       "var outputEl = gd.closest('.output');\n",
       "if (outputEl) {{\n",
       "    x.observe(outputEl, {childList: true});\n",
       "}}\n",
       "\n",
       "                        })                };                });            </script>        </div>"
      ]
     },
     "metadata": {},
     "output_type": "display_data"
    }
   ],
   "source": [
    "# Finding the most representative diagrams for all labels\n",
    "\n",
    "representative_diagrams = {} # barycenters for all labels\n",
    "\n",
    "representative_diagrams[0] = find_barycenter(train_shortened_diagrams, len(train_shortened_diagrams[0]), 0)\n",
    "representative_diagrams[1] = find_barycenter(train_shortened_diagrams, len(train_shortened_diagrams[1]), 1)\n",
    "representative_diagrams[2] = find_barycenter(train_shortened_diagrams, len(train_shortened_diagrams[2]), 2)\n",
    "representative_diagrams[3] = find_barycenter(train_shortened_diagrams, len(train_shortened_diagrams[3]), 3)\n",
    "representative_diagrams[4] = find_barycenter(train_shortened_diagrams, len(train_shortened_diagrams[4]), 4)"
   ]
  },
  {
   "cell_type": "markdown",
   "id": "485d4f05-e5d8-4995-a41e-3afbd76fcfaf",
   "metadata": {},
   "source": [
    "### Computing the distances of the test diagrams to the most representative diagram of each class"
   ]
  },
  {
   "cell_type": "code",
   "execution_count": 150,
   "id": "192c4db4-50cb-4ab1-b19d-d46c66bd172d",
   "metadata": {},
   "outputs": [],
   "source": [
    "# Shorten barycenters to make them comparable to the other shortened diagrams\n",
    "\n",
    "shortened_barycenters = {}\n",
    "\n",
    "for label in label_list:\n",
    "    shortened_barycenters[label], _ = cut_diagrams([representative_diagrams[label][0]], no_holes_per_dimension)\n"
   ]
  },
  {
   "cell_type": "code",
   "execution_count": 151,
   "id": "07e82691-e65c-4079-8d93-16d6d4f10512",
   "metadata": {},
   "outputs": [],
   "source": [
    "# TRAIN DATA \n",
    "\n",
    "train_distances_to_barycenter_0 = {}\n",
    "train_distances_to_barycenter_1 = {}\n",
    "train_distances_to_barycenter_2 = {}\n",
    "train_distances_to_barycenter_3 = {}\n",
    "train_distances_to_barycenter_4 = {}\n",
    "\n",
    "\n",
    "for label in label_list:\n",
    "\n",
    "    # Initialize lists of distances\n",
    "    train_distances_to_barycenter_0[label] = []\n",
    "    train_distances_to_barycenter_1[label] = []\n",
    "    train_distances_to_barycenter_2[label] = []\n",
    "    train_distances_to_barycenter_3[label] = []\n",
    "    train_distances_to_barycenter_4[label] = []\n",
    "\n",
    "    \n",
    "    # Loop through all train diagrams of our label\n",
    "    for diagram in train_shortened_diagrams[label]:\n",
    "        # Barycenter of class 0\n",
    "        dist = PairwiseDistance(metric=metric).fit_transform([diagram, shortened_barycenters[0][0]])\n",
    "        train_distances_to_barycenter_0[label].append(max(dist[0]))\n",
    "\n",
    "        # Barycenter of class 1\n",
    "        dist = PairwiseDistance(metric=metric).fit_transform([diagram, shortened_barycenters[1][0]])\n",
    "        train_distances_to_barycenter_1[label].append(max(dist[0]))\n",
    "\n",
    "        # Barycenter of class 2\n",
    "        dist = PairwiseDistance(metric=metric).fit_transform([diagram, shortened_barycenters[2][0]])\n",
    "        train_distances_to_barycenter_2[label].append(max(dist[0]))\n",
    "\n",
    "        # Barycenter of class 3\n",
    "        dist = PairwiseDistance(metric=metric).fit_transform([diagram, shortened_barycenters[3][0]])\n",
    "        train_distances_to_barycenter_3[label].append(max(dist[0]))\n",
    "\n",
    "        # Barycenter of class 4\n",
    "        dist = PairwiseDistance(metric=metric).fit_transform([diagram, shortened_barycenters[3][0]])\n",
    "        train_distances_to_barycenter_4[label].append(max(dist[0]))"
   ]
  },
  {
   "cell_type": "code",
   "execution_count": 152,
   "id": "607ce87c-2c8e-4157-8e65-2814699e091d",
   "metadata": {},
   "outputs": [],
   "source": [
    "# TEST DATA \n",
    "\n",
    "test_distances_to_barycenter_0 = {}\n",
    "test_distances_to_barycenter_1 = {}\n",
    "test_distances_to_barycenter_2 = {}\n",
    "test_distances_to_barycenter_3 = {}\n",
    "test_distances_to_barycenter_4 = {}\n",
    "\n",
    "\n",
    "for label in label_list:\n",
    "\n",
    "    # Initialize lists of distances\n",
    "    test_distances_to_barycenter_0[label] = []\n",
    "    test_distances_to_barycenter_1[label] = []\n",
    "    test_distances_to_barycenter_2[label] = []\n",
    "    test_distances_to_barycenter_3[label] = []\n",
    "    test_distances_to_barycenter_4[label] = []\n",
    "\n",
    "    \n",
    "    # Loop through all test diagrams of our label\n",
    "    for diagram in test_shortened_diagrams[label]:\n",
    "        # Barycenter of class 0\n",
    "        dist = PairwiseDistance(metric=metric).fit_transform([diagram, shortened_barycenters[0][0]])\n",
    "        test_distances_to_barycenter_0[label].append(max(dist[0]))\n",
    "\n",
    "        # Barycenter of class 1\n",
    "        dist = PairwiseDistance(metric=metric).fit_transform([diagram, shortened_barycenters[1][0]])\n",
    "        test_distances_to_barycenter_1[label].append(max(dist[0]))\n",
    "\n",
    "        # Barycenter of class 2\n",
    "        dist = PairwiseDistance(metric=metric).fit_transform([diagram, shortened_barycenters[2][0]])\n",
    "        test_distances_to_barycenter_2[label].append(max(dist[0]))\n",
    "\n",
    "        # Barycenter of class 3\n",
    "        dist = PairwiseDistance(metric=metric).fit_transform([diagram, shortened_barycenters[3][0]])\n",
    "        test_distances_to_barycenter_3[label].append(max(dist[0]))\n",
    "\n",
    "        # Barycenter of class 4\n",
    "        dist = PairwiseDistance(metric=metric).fit_transform([diagram, shortened_barycenters[3][0]])\n",
    "        test_distances_to_barycenter_4[label].append(max(dist[0]))"
   ]
  },
  {
   "cell_type": "markdown",
   "id": "ac1ec0cf-3fac-49d2-bfa0-73ed64519ef3",
   "metadata": {},
   "source": [
    "## Insert invalid distance for diagrams that were removed before"
   ]
  },
  {
   "cell_type": "code",
   "execution_count": 153,
   "id": "6b8d7474-4e0b-412b-9893-8c556728a4f8",
   "metadata": {},
   "outputs": [],
   "source": [
    "# Add the removed diagrams again, with a distance that is higher than the maximal distance out of the other diagrams\n",
    "# At a later step, the \"outlier\" diagrams should be labelled as outliers beforehand\n",
    "\n",
    "invalid_distance = -1\n",
    "\n",
    "for label in label_list:\n",
    "    \n",
    "    # Train data\n",
    "    for idx in removed_train_indices[label]: \n",
    "        train_distances_to_barycenter_0[label].insert(idx, invalid_distance)\n",
    "        train_distances_to_barycenter_1[label].insert(idx, invalid_distance)\n",
    "        train_distances_to_barycenter_2[label].insert(idx, invalid_distance)\n",
    "        train_distances_to_barycenter_3[label].insert(idx, invalid_distance)\n",
    "        train_distances_to_barycenter_4[label].insert(idx, invalid_distance)\n",
    "\n",
    "\n",
    "    # Test data\n",
    "    for idx in removed_test_indices[label]: \n",
    "        test_distances_to_barycenter_0[label].insert(idx, invalid_distance)\n",
    "        test_distances_to_barycenter_1[label].insert(idx, invalid_distance)\n",
    "        test_distances_to_barycenter_2[label].insert(idx, invalid_distance)\n",
    "        test_distances_to_barycenter_3[label].insert(idx, invalid_distance)\n",
    "        test_distances_to_barycenter_4[label].insert(idx, invalid_distance)"
   ]
  },
  {
   "cell_type": "markdown",
   "id": "258b30cc-8b0d-4b96-847a-554b0333cf0c",
   "metadata": {},
   "source": [
    "# Compute the distance to the origin diagram "
   ]
  },
  {
   "cell_type": "markdown",
   "id": "2013fb4b-b605-4ddc-9903-b7efe76eb52c",
   "metadata": {},
   "source": [
    "The origin diagram just has points on the diagonal."
   ]
  },
  {
   "cell_type": "markdown",
   "id": "34749fae-ae95-4037-9eb1-48f87cbca3c2",
   "metadata": {},
   "source": [
    "Later in the classification, adding this feature does not improve (nor worsen) the accuracy when using the distances to the barycenters as the only other features, but using the distance to the origin diagram as a standalone feature still leads to an accuracy of 95%."
   ]
  },
  {
   "cell_type": "code",
   "execution_count": 154,
   "id": "cf6d6017-f559-4938-8d1b-7aff746ecd8a",
   "metadata": {},
   "outputs": [],
   "source": [
    "# TRAIN DATA \n",
    "\n",
    "# Dictionary with labels as keys and distances of train diagrams of each label to origin diagram as values\n",
    "train_distances_to_origin_diagram = {}\n",
    "\n",
    "for label in label_list:\n",
    "\n",
    "    # Initialize distances of train diagrams to origin diagram\n",
    "    train_distances_to_origin_diagram[label] = []\n",
    "    \n",
    "    # Loop through all train diagrams of our label\n",
    "    for diagram in train_shortened_diagrams[label]:\n",
    "        \n",
    "        # origin diagram fitting to diagram\n",
    "        origin_diagram = [np.array([hole[0], hole[0], hole[2]]) for hole in diagram]\n",
    "        dist = PairwiseDistance(metric=metric).fit_transform([diagram, origin_diagram])\n",
    "        train_distances_to_origin_diagram[label].append(max(dist[0]))\n",
    "\n",
    "    for idx in removed_train_indices[label]: # Train data\n",
    "        train_distances_to_origin_diagram[label].insert(idx, invalid_distance)\n",
    "\n",
    "\n",
    "\n",
    "# TRAIN DATA \n",
    "\n",
    "# Dictionary with labels as keys and distances of train diagrams of each label to origin diagram as values\n",
    "test_distances_to_origin_diagram = {}\n",
    "\n",
    "for label in label_list:\n",
    "\n",
    "    # Initialize distances of train diagrams to origin diagram\n",
    "    test_distances_to_origin_diagram[label] = []\n",
    "    \n",
    "    # Loop through all train diagrams of our label\n",
    "    for diagram in test_shortened_diagrams[label]:\n",
    "        \n",
    "        # origin diagram fitting to diagram\n",
    "        origin_diagram = [np.array([hole[0], hole[0], hole[2]]) for hole in diagram]\n",
    "        dist = PairwiseDistance(metric=metric).fit_transform([diagram, origin_diagram])\n",
    "        test_distances_to_origin_diagram[label].append(max(dist[0]))\n",
    "\n",
    "    for idx in removed_test_indices[label]: # Train data\n",
    "        test_distances_to_origin_diagram[label].insert(idx, invalid_distance)\n"
   ]
  },
  {
   "cell_type": "code",
   "execution_count": 155,
   "id": "4852803a-29c7-4118-b39c-c12b2d116e2c",
   "metadata": {},
   "outputs": [],
   "source": [
    "# Save training data features\n",
    "# TODO add metric as global variable\n",
    "\n",
    "def create_feature_df(data_type, distances_to_barycenter_0, distances_to_barycenter_1, distances_to_barycenter_2, distances_to_barycenter_3, distances_to_barycenter_4, distances_to_origin, label):\n",
    "    \"\"\"\n",
    "    Create DataFrame for each label from features\n",
    "\n",
    "    Parameters:\n",
    "    - distances_to_barycenter_1 (list): distances to Barycenter of class 1\n",
    "    - distances_to_barycenter_3 (list): distances to Barycenter of class 3\n",
    "    - distances_to_barycenter_5 (list): distances to Barycenter of class 5\n",
    "    - distances_to_barycenter_7 (list): distances to Barycenter of class 7\n",
    "    - label (int): Label for which we want to create a dataframe. 1, 3, 5 or 7.\n",
    "\n",
    "    Returns:\n",
    "    - Feature DataFrame (DataFrame)\n",
    "    \"\"\"\n",
    "\n",
    "    train_feature_df = pd.DataFrame()\n",
    "    train_feature_df[str(data_type)+\"_Distance_to_\"+str(metric)+\"_Barycenter0\"] = distances_to_barycenter_0[label]\n",
    "    train_feature_df[str(data_type)+\"_Distance_to_\"+str(metric)+\"_Barycenter1\"] = distances_to_barycenter_1[label]\n",
    "    train_feature_df[str(data_type)+\"_Distance_to_\"+str(metric)+\"_Barycenter2\"] = distances_to_barycenter_2[label]\n",
    "    train_feature_df[str(data_type)+\"_Distance_to_\"+str(metric)+\"_Barycenter3\"] = distances_to_barycenter_3[label]\n",
    "    train_feature_df[str(data_type)+\"_Distance_to_\"+str(metric)+\"_Barycenter4\"] = distances_to_barycenter_4[label]\n",
    "\n",
    "    train_feature_df[str(data_type)+\"_\"+str(metric)+\"_Distance_to_Origin_Diagram\"] = distances_to_origin[label]\n",
    "\n",
    "    train_feature_df[\"Label\"] = label\n",
    "\n",
    "    return train_feature_df\n"
   ]
  },
  {
   "cell_type": "code",
   "execution_count": 156,
   "id": "9f3630ab-054a-4bbd-a465-14e53ea4a723",
   "metadata": {},
   "outputs": [],
   "source": [
    "# Create dataframes from features\n",
    "train_feature_dataframes = {}\n",
    "test_feature_dataframes = {}\n",
    "\n",
    "\n",
    "for label in label_list:\n",
    "    train_feature_dataframes[label] = create_feature_df(data_type, train_distances_to_barycenter_0, train_distances_to_barycenter_1, \\\n",
    "                                                        train_distances_to_barycenter_2, train_distances_to_barycenter_3, \\\n",
    "                                                        train_distances_to_barycenter_4, train_distances_to_origin_diagram, label) \n",
    "    \n",
    "    test_feature_dataframes[label] = create_feature_df(data_type, test_distances_to_barycenter_0, test_distances_to_barycenter_1, \\\n",
    "                                                        test_distances_to_barycenter_2, test_distances_to_barycenter_3, \\\n",
    "                                                        test_distances_to_barycenter_4, test_distances_to_origin_diagram, label) "
   ]
  },
  {
   "cell_type": "code",
   "execution_count": 157,
   "id": "0a338fd0-4932-4697-b608-de17c8a010ee",
   "metadata": {},
   "outputs": [],
   "source": [
    "# Save concatenated dataframes \n",
    "\n",
    "# Train dataframe\n",
    "train_feature_df = pd.concat([train_feature_dataframes[0], train_feature_dataframes[1], train_feature_dataframes[2], \\\n",
    "train_feature_dataframes[3], train_feature_dataframes[4]])\n",
    "\n",
    "train_feature_df.to_csv(\"Features/Train_\"+str(data_type)+\"_\"+str(metric)+\"_Features.csv\")\n",
    "\n",
    "\n",
    "# Test dataframe\n",
    "test_feature_df = pd.concat([test_feature_dataframes[0], test_feature_dataframes[1], test_feature_dataframes[2], \\\n",
    "                             test_feature_dataframes[3], test_feature_dataframes[4]], ignore_index=True)\n",
    "\n",
    "test_feature_df.to_csv(\"Features/Test_\"+str(data_type)+\"_\"+str(metric)+\"_Features.csv\")"
   ]
  },
  {
   "cell_type": "markdown",
   "id": "9711bdd5-e431-4b05-8a29-d4b5b2a21c29",
   "metadata": {},
   "source": [
    "## Save shortened diagrams"
   ]
  },
  {
   "cell_type": "code",
   "execution_count": 158,
   "id": "176b6226-b524-46c8-9e46-2f58fe4a8e56",
   "metadata": {},
   "outputs": [],
   "source": [
    "for label in label_list:\n",
    "    np.save('Embeddings_and_Persistence_Diagrams/Train_'+str(data_type)+'_Removed_Indices'+str(label)+'.npy', np.array(removed_train_indices[label], dtype=object), allow_pickle=True)\n",
    "    np.save('Embeddings_and_Persistence_Diagrams/Test_'+str(data_type)+'_Removed_Indices'+str(label)+'.npy', np.array(removed_test_indices[label], dtype=object), allow_pickle=True)\n"
   ]
  },
  {
   "cell_type": "code",
   "execution_count": 159,
   "id": "bd3ad28d-094b-48cf-9df6-d149de189a40",
   "metadata": {},
   "outputs": [],
   "source": [
    "for label in label_list:\n",
    "    np.save('Embeddings_and_Persistence_Diagrams/Train_'+str(data_type)+'_Shortened_Diagrams'+str(label)+'.npy', np.array(train_shortened_diagrams[label], dtype=object), allow_pickle=True)\n",
    "    np.save('Embeddings_and_Persistence_Diagrams/Test_'+str(data_type)+'_Shortened_Diagrams'+str(label)+'.npy', np.array(test_shortened_diagrams[label], dtype=object), allow_pickle=True)"
   ]
  },
  {
   "cell_type": "code",
   "execution_count": 160,
   "id": "48092721-ec79-4fe5-a835-bed495cef366",
   "metadata": {},
   "outputs": [],
   "source": [
    "# Save shortened barycenters for data exploration\n",
    "for label in label_list:\n",
    "    np.save('Embeddings_and_Persistence_Diagrams/'+str(data_type)+'_'+str(metric)+'_Barycenter_class_'+str(label)+'.npy', np.array(shortened_barycenters[label], dtype=object), allow_pickle=True)"
   ]
  },
  {
   "cell_type": "code",
   "execution_count": null,
   "id": "a2e498f2-950e-4510-96aa-538f4613a407",
   "metadata": {},
   "outputs": [],
   "source": []
  },
  {
   "cell_type": "code",
   "execution_count": null,
   "id": "091a084f-03aa-49f8-bc12-3518bb30ad3c",
   "metadata": {},
   "outputs": [],
   "source": []
  },
  {
   "cell_type": "code",
   "execution_count": null,
   "id": "47e8370b-2727-45b7-a330-8c0e3523ab5c",
   "metadata": {},
   "outputs": [],
   "source": []
  },
  {
   "cell_type": "code",
   "execution_count": null,
   "id": "3641d5e7-fa21-4a47-b1a0-00a024d4e920",
   "metadata": {},
   "outputs": [],
   "source": []
  }
 ],
 "metadata": {
  "kernelspec": {
   "display_name": "Python 3 (ipykernel)",
   "language": "python",
   "name": "python3"
  },
  "language_info": {
   "codemirror_mode": {
    "name": "ipython",
    "version": 3
   },
   "file_extension": ".py",
   "mimetype": "text/x-python",
   "name": "python",
   "nbconvert_exporter": "python",
   "pygments_lexer": "ipython3",
   "version": "3.10.12"
  }
 },
 "nbformat": 4,
 "nbformat_minor": 5
}
