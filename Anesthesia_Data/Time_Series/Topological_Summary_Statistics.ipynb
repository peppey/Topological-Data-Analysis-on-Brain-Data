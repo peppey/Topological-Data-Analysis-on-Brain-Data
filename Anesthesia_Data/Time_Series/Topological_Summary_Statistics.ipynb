{
 "cells": [
  {
   "cell_type": "code",
   "execution_count": 52,
   "id": "0a81b9c9-a2e9-46c2-8ae8-4a5f02dd0571",
   "metadata": {},
   "outputs": [],
   "source": [
    "import numpy as np\n",
    "import pyedflib\n",
    "import statistics\n",
    "import plotly.graph_objects as go\n",
    "import pandas as pd\n",
    "from gtda.time_series import SingleTakensEmbedding\n",
    "from gtda.homology import VietorisRipsPersistence\n",
    "from gtda.diagrams import PersistenceEntropy, Amplitude, NumberOfPoints, ComplexPolynomial, PersistenceLandscape, HeatKernel, Silhouette, BettiCurve, PairwiseDistance, ForgetDimension\n",
    "from gtda.plotting import plot_point_cloud, plot_heatmap, plot_diagram\n",
    "import matplotlib.pyplot as plt\n",
    "from mpl_toolkits.mplot3d import Axes3D\n",
    "from sklearn.ensemble import RandomForestClassifier\n",
    "from sklearn.decomposition import PCA, FastICA\n",
    "from gtda.pipeline import Pipeline "
   ]
  },
  {
   "cell_type": "code",
   "execution_count": 53,
   "id": "139f5d61-3e73-444d-8998-87fcecff5eed",
   "metadata": {},
   "outputs": [],
   "source": [
    "# Choose if you want to look at EEG or EMG data\n",
    "\n",
    "data_type = \"EEG\" # Does not have an effect yet, will be added later when processing anesthesia data\n",
    "#data_type = \"EMG\""
   ]
  },
  {
   "cell_type": "code",
   "execution_count": 54,
   "id": "27021192-1231-4b27-8f52-a8cfa0f9ecb2",
   "metadata": {},
   "outputs": [],
   "source": [
    "# choose individuum\n",
    "\n",
    "subject = \"m292\""
   ]
  },
  {
   "cell_type": "code",
   "execution_count": 55,
   "id": "fd393cad-0556-4dd4-9dda-fbd1afb8bf30",
   "metadata": {},
   "outputs": [],
   "source": [
    "label_list = [0, 1, 2, 3, 4]\n",
    "\n",
    "n_folds = 5 # This should be the same as in the file which creates PDs "
   ]
  },
  {
   "cell_type": "code",
   "execution_count": 56,
   "id": "0c3d1854-aa34-491c-a97b-7cda1c72952f",
   "metadata": {},
   "outputs": [],
   "source": [
    "# Load persistence diagrams\n",
    "\n",
    "persistence_diagrams  = np.load('Embeddings_and_Persistence_Diagrams/'+str(subject)+'/'+str(data_type)+'/Persistence_Diagrams_All_Labels.npy', \\\n",
    "    allow_pickle=True).item() # .item() to convert the dtype to dict again"
   ]
  },
  {
   "cell_type": "markdown",
   "id": "2bd32ce7-5e67-46a6-afb6-edc7a7d4190a",
   "metadata": {},
   "source": [
    "# Summary Statistics"
   ]
  },
  {
   "cell_type": "code",
   "execution_count": 45,
   "id": "bb3cc473-e759-4b8b-aba7-d70ccb57f6a1",
   "metadata": {},
   "outputs": [],
   "source": [
    "def compute_summary_statistics(persistence_diagrams):\n",
    "    \"\"\"\n",
    "    Compute summary statistics of list of persistence diagrams\n",
    "\n",
    "    Parameters:\n",
    "    - persistence_diagrams (list): persistence diagrams\n",
    "\n",
    "    Returns:\n",
    "    Tuple of four lists:\n",
    "    - Persistence Entropy\n",
    "    - Persistence\n",
    "    - Betti Numbers\n",
    "    - Complex Polynomials\n",
    "    \"\"\"\n",
    "    \n",
    "    PE = PersistenceEntropy()\n",
    "    AM = Amplitude()\n",
    "    NP = NumberOfPoints()\n",
    "    CP = ComplexPolynomial(n_coefficients=1)\n",
    "\n",
    "    persistence_entropies = []\n",
    "    amplitudes = []\n",
    "    nos_points = []\n",
    "    complex_polynomials = []\n",
    "\n",
    "    for diagram in persistence_diagrams:\n",
    "        persistence_entropies.append(PE.fit_transform([diagram]))\n",
    "        amplitudes.append(AM.fit_transform([diagram]))\n",
    "        nos_points.append(NP.fit_transform([diagram]))\n",
    "        #complex_polynomials.append(CP.fit_transform([diagram]))\n",
    "\n",
    "    return persistence_entropies, amplitudes, nos_points, #complex_polynomials"
   ]
  },
  {
   "cell_type": "code",
   "execution_count": 46,
   "id": "c8b0ab85-43ec-4357-9d46-6d4e12f063f6",
   "metadata": {},
   "outputs": [],
   "source": [
    "# Initialize dicts with labels as key\n",
    "persistence_entropies = {}\n",
    "amplitudes = {}\n",
    "nos_points = {}\n",
    "\n",
    "\n",
    "for label in label_list:\n",
    "\n",
    "    reshaped_persistence_diagrams = [persistence_diagram[0] for persistence_diagram in list(persistence_diagrams[\"Label_\"+str(label)])]\n",
    "\n",
    "    persistence_entropies[\"Label_\"+str(label)] = compute_summary_statistics(reshaped_persistence_diagrams)[0]\n",
    "    amplitudes[\"Label_\"+str(label)] = compute_summary_statistics(reshaped_persistence_diagrams)[1]\n",
    "    nos_points[\"Label_\"+str(label)] = compute_summary_statistics(reshaped_persistence_diagrams)[2]"
   ]
  },
  {
   "cell_type": "code",
   "execution_count": 47,
   "id": "4c7ae480-2997-4571-830a-411432283654",
   "metadata": {},
   "outputs": [],
   "source": [
    "def compute_largest_persistence(persistence_diagrams):\n",
    "    \"\"\"\n",
    "    Computes persistence of the most prominent points of each dimension in each diagram\n",
    "\n",
    "    Parameters:\n",
    "    - persistence_diagrams (list): persistence diagrams\n",
    "\n",
    "    Returns:\n",
    "    List of 3 lists:\n",
    "    - List of the largest persistences of homology dimension 0\n",
    "    - List of the largest persistences of homology dimension 1\n",
    "    - List of the largest persistences of homology dimension 2 \n",
    "    \"\"\"\n",
    "\n",
    "    largest_persistences = [] # will contain 3 lists for the 3 homology dimensions\n",
    "    for homology_dimension in [0, 1, 2]:\n",
    "        largest_persistences_of_hom_dim = []\n",
    "        for diagram in persistence_diagrams:\n",
    "            # only look at holes of our homology dimension\n",
    "            condition = diagram[:, 2] == homology_dimension\n",
    "            filtered_diagram = diagram[condition]\n",
    "\n",
    "            if len(filtered_diagram) > 0:\n",
    "                differences = filtered_diagram[:, 1] - filtered_diagram[:, 0]\n",
    "                largest_persistences_of_hom_dim.append(np.max(differences))\n",
    "\n",
    "        largest_persistences.append(largest_persistences_of_hom_dim)\n",
    "\n",
    "    return largest_persistences"
   ]
  },
  {
   "cell_type": "code",
   "execution_count": 48,
   "id": "827ef5d2-d7f7-421c-ad25-109834a04871",
   "metadata": {},
   "outputs": [],
   "source": [
    "# Initialize dicts with labels as key\n",
    "largest_persistences = {}\n",
    "\n",
    "for label in label_list:\n",
    "\n",
    "    reshaped_persistence_diagrams = [persistence_diagram[0] for persistence_diagram in list(persistence_diagrams[\"Label_\"+str(label)])]\n",
    "\n",
    "    largest_persistences[\"Label_\"+str(label)] = compute_largest_persistence(reshaped_persistence_diagrams)"
   ]
  },
  {
   "cell_type": "markdown",
   "id": "00c925f5-d589-47b5-a701-287ecb8c3c05",
   "metadata": {},
   "source": [
    "# Concatenate Features to one DataFrame and Save"
   ]
  },
  {
   "cell_type": "code",
   "execution_count": 49,
   "id": "2faa621b-b1b3-4428-87e6-10f15d0364ff",
   "metadata": {},
   "outputs": [],
   "source": [
    "def choose_column_in_matrix(matrix, i):\n",
    "    return [row[0][i] for row in matrix]"
   ]
  },
  {
   "cell_type": "code",
   "execution_count": 50,
   "id": "54d4bd2a-5a8c-4a90-ba3b-459bb13209d0",
   "metadata": {},
   "outputs": [],
   "source": [
    "def create_feature_df(persistence_entropies, amplitudes, nos_points, largest_persistences,  label):\n",
    "    \"\"\"\n",
    "    Create DataFrame for each label from features\n",
    "\n",
    "    Parameters:\n",
    "    - persistence_entropies (list): persistence entropies\n",
    "    - amplitudes (list): amplitudes\n",
    "    - nos_points (list): number of points\n",
    "    - label (int): Label for which we want to create a dataframe. 1, 3, 5 or 7.\n",
    "\n",
    "    Returns:\n",
    "    - Feature DataFrame (DataFrame)\n",
    "    \"\"\"\n",
    "    \n",
    "    all_labels_feature_df = pd.DataFrame()\n",
    "\n",
    "    for label in label_list:\n",
    "\n",
    "        feature_df = pd.DataFrame()\n",
    "\n",
    "        # All 3 columns (corresponding to hole dimensions)\n",
    "        feature_df[str(data_type)+\"_Persistence Entropy_Dim_0\"] = choose_column_in_matrix(list(persistence_entropies[\"Label_\"+str(label)]), 0)\n",
    "        feature_df[str(data_type)+\"_Persistence Entropy_Dim_1\"] = choose_column_in_matrix(list(persistence_entropies[\"Label_\"+str(label)]), 1)\n",
    "        feature_df[str(data_type)+\"_Persistence Entropy_Dim_2\"] = choose_column_in_matrix(list(persistence_entropies[\"Label_\"+str(label)]), 2)\n",
    "\n",
    "        # All 3 columns (corresponding to hole dimensions)\n",
    "        feature_df[str(data_type)+\"_Amplitude_Dim_0\"] = choose_column_in_matrix(list(amplitudes[\"Label_\"+str(label)]), 0)\n",
    "        feature_df[str(data_type)+\"_Amplitude_Dim_1\"] = choose_column_in_matrix(list(amplitudes[\"Label_\"+str(label)]), 1)\n",
    "        feature_df[str(data_type)+\"_Amplitude_Dim_2\"] = choose_column_in_matrix(list(amplitudes[\"Label_\"+str(label)]), 2)\n",
    "\n",
    "        # All 3 columns (corresponding to hole dimensions)\n",
    "        feature_df[str(data_type)+\"_No_Points_Dim_0\"] = choose_column_in_matrix(list(nos_points[\"Label_\"+str(label)]), 0)\n",
    "        feature_df[str(data_type)+\"_No_Points_Dim_1\"] = choose_column_in_matrix(list(nos_points[\"Label_\"+str(label)]), 1)\n",
    "        feature_df[str(data_type)+\"_No_Points_Dim_2\"] = choose_column_in_matrix(list(nos_points[\"Label_\"+str(label)]), 2)\n",
    "\n",
    "\n",
    "        feature_df[str(data_type)+\"_Largest_Persistence_Dim_0\"] = largest_persistences[\"Label_\"+str(label)][0]\n",
    "        feature_df[str(data_type)+\"_Largest_Persistence_Dim_1\"] = largest_persistences[\"Label_\"+str(label)][1]\n",
    "        feature_df[str(data_type)+\"_Largest_Persistence_Dim_2\"] = largest_persistences[\"Label_\"+str(label)][2]\n",
    "\n",
    "        # Label\n",
    "        feature_df[\"Label\"] = label\n",
    "\n",
    "        all_labels_feature_df = pd.concat([all_labels_feature_df, feature_df])\n",
    "    \n",
    "\n",
    "    return all_labels_feature_df\n",
    "\n",
    "\n",
    "all_labels_feature_df = create_feature_df(persistence_entropies, amplitudes, nos_points, largest_persistences, label_list)\n"
   ]
  },
  {
   "cell_type": "markdown",
   "id": "56cdaef0-eb56-4164-be66-17e2107fa9c0",
   "metadata": {},
   "source": [
    "# Save"
   ]
  },
  {
   "cell_type": "code",
   "execution_count": 51,
   "id": "273e5219-0ca4-4fde-8ef2-bded94a33143",
   "metadata": {},
   "outputs": [],
   "source": [
    "all_labels_feature_df.to_csv(\"Features/\"+str(subject)+\"/\"+str(data_type)+\"/Topological_Summary_Statistics.csv\")"
   ]
  },
  {
   "cell_type": "code",
   "execution_count": null,
   "id": "1caa7ca7-afa2-4379-a655-c5c16e605dd0",
   "metadata": {},
   "outputs": [],
   "source": []
  }
 ],
 "metadata": {
  "kernelspec": {
   "display_name": "Python 3 (ipykernel)",
   "language": "python",
   "name": "python3"
  },
  "language_info": {
   "codemirror_mode": {
    "name": "ipython",
    "version": 3
   },
   "file_extension": ".py",
   "mimetype": "text/x-python",
   "name": "python",
   "nbconvert_exporter": "python",
   "pygments_lexer": "ipython3",
   "version": "3.10.12"
  }
 },
 "nbformat": 4,
 "nbformat_minor": 5
}
