{
 "cells": [
  {
   "cell_type": "code",
   "execution_count": 28,
   "id": "0a81b9c9-a2e9-46c2-8ae8-4a5f02dd0571",
   "metadata": {},
   "outputs": [],
   "source": [
    "import numpy as np\n",
    "import pyedflib\n",
    "import statistics\n",
    "import plotly.graph_objects as go\n",
    "import pandas as pd\n",
    "from gtda.time_series import SingleTakensEmbedding\n",
    "from gtda.homology import VietorisRipsPersistence\n",
    "from gtda.diagrams import PersistenceEntropy, Amplitude, NumberOfPoints, ComplexPolynomial, PersistenceLandscape, HeatKernel, Silhouette, BettiCurve, PairwiseDistance, ForgetDimension\n",
    "from gtda.plotting import plot_point_cloud, plot_heatmap, plot_diagram\n",
    "import matplotlib.pyplot as plt\n",
    "from mpl_toolkits.mplot3d import Axes3D\n",
    "from sklearn.ensemble import RandomForestClassifier\n",
    "from sklearn.decomposition import PCA, FastICA\n",
    "from gtda.pipeline import Pipeline "
   ]
  },
  {
   "cell_type": "code",
   "execution_count": 15,
   "id": "fd393cad-0556-4dd4-9dda-fbd1afb8bf30",
   "metadata": {},
   "outputs": [],
   "source": [
    "label_list = [0, 1, 2, 3, 4]"
   ]
  },
  {
   "cell_type": "code",
   "execution_count": 16,
   "id": "7c8e5867-60e2-4525-a9c4-381f9abdecf9",
   "metadata": {},
   "outputs": [],
   "source": [
    "# Load persistence diagrams\n",
    "\n",
    "train_persistence_diagrams = {} # dictionary with labels as keys, persistence diagrams of the respective classes as values\n",
    "test_persistence_diagrams = {} # dictionary with labels as keys, persistence diagrams of the respective classes as values\n",
    "\n",
    "\n",
    "for label in label_list:\n",
    "    train_persistence_diagrams[label] = np.load(\"Embeddings_and_Persistence_Diagrams/Train_PD\"+str(label)+\".npy\", allow_pickle=True)\n",
    "    test_persistence_diagrams[label] = np.load(\"Embeddings_and_Persistence_Diagrams/Test_PD\"+str(label)+\".npy\", allow_pickle=True)\n"
   ]
  },
  {
   "cell_type": "markdown",
   "id": "2bd32ce7-5e67-46a6-afb6-edc7a7d4190a",
   "metadata": {},
   "source": [
    "# Summary Statistics"
   ]
  },
  {
   "cell_type": "code",
   "execution_count": 19,
   "id": "22140f1c-972a-45ad-a246-326a4b302ba1",
   "metadata": {},
   "outputs": [],
   "source": [
    "def compute_summary_statistics(persistence_diagrams):\n",
    "    \"\"\"\n",
    "    Compute summary statistics of list of persistence diagrams\n",
    "\n",
    "    Parameters:\n",
    "    - persistence_diagrams (list): persistence diagrams\n",
    "\n",
    "    Returns:\n",
    "    Tuple of four lists:\n",
    "    - Persistence Entropy\n",
    "    - Persistence\n",
    "    - Betti Numbers\n",
    "    - Complex Polynomials\n",
    "    \"\"\"\n",
    "    \n",
    "    PE = PersistenceEntropy()\n",
    "    AM = Amplitude()\n",
    "    NP = NumberOfPoints()\n",
    "    CP = ComplexPolynomial(n_coefficients=1)\n",
    "\n",
    "    persistence_entropies = []\n",
    "    amplitudes = []\n",
    "    nos_points = []\n",
    "    complex_polynomials = []\n",
    "\n",
    "    for diagram in persistence_diagrams:\n",
    "        persistence_entropies.append(PE.fit_transform([diagram]))\n",
    "        amplitudes.append(AM.fit_transform([diagram]))\n",
    "        nos_points.append(NP.fit_transform([diagram]))\n",
    "        #complex_polynomials.append(CP.fit_transform([diagram]))\n",
    "\n",
    "    return persistence_entropies, amplitudes, nos_points, #complex_polynomials"
   ]
  },
  {
   "cell_type": "code",
   "execution_count": 20,
   "id": "c8b0ab85-43ec-4357-9d46-6d4e12f063f6",
   "metadata": {},
   "outputs": [],
   "source": [
    "train_feautures = {}\n",
    "test_feautures = {}\n",
    "\n",
    "for label in label_list:\n",
    "    train_feautures[label] = compute_summary_statistics(train_persistence_diagrams[label])\n",
    "    test_feautures[label] = compute_summary_statistics(test_persistence_diagrams[label])"
   ]
  },
  {
   "cell_type": "code",
   "execution_count": 21,
   "id": "7288defc-2cb8-4621-abd4-1e0a4a873de6",
   "metadata": {},
   "outputs": [],
   "source": [
    "def compute_largest_persistence(persistence_diagrams):\n",
    "    \"\"\"\n",
    "    Computes persistence of the most prominent points of each dimension in each diagram\n",
    "\n",
    "    Parameters:\n",
    "    - persistence_diagrams (list): persistence diagrams\n",
    "\n",
    "    Returns:\n",
    "    List of 3 lists:\n",
    "    - List of the largest persistences of homology dimension 0\n",
    "    - List of the largest persistences of homology dimension 1\n",
    "    - List of the largest persistences of homology dimension 2 \n",
    "    \"\"\"\n",
    "\n",
    "    largest_persistences = [] # will contain 3 lists for the 3 homology dimensions\n",
    "    for homology_dimension in [0, 1, 2]:\n",
    "        largest_persistences_of_hom_dim = []\n",
    "        for diagram in persistence_diagrams:\n",
    "            # only look at holes of our homology dimension\n",
    "            condition = diagram[:, 2] == homology_dimension\n",
    "            filtered_diagram = diagram[condition]\n",
    "\n",
    "            if len(filtered_diagram) > 0:\n",
    "                differences = filtered_diagram[:, 1] - filtered_diagram[:, 0]\n",
    "                largest_persistences_of_hom_dim.append(np.max(differences))\n",
    "\n",
    "        largest_persistences.append(largest_persistences_of_hom_dim)\n",
    "\n",
    "    return largest_persistences\n",
    "    \n",
    "\n",
    "    "
   ]
  },
  {
   "cell_type": "code",
   "execution_count": 22,
   "id": "7d678397-9917-481f-ad8f-883791681648",
   "metadata": {},
   "outputs": [],
   "source": [
    "train_largest_persistences = {}\n",
    "test_largest_persistences= {}\n",
    "\n",
    "for label in label_list:\n",
    "    train_largest_persistences[label] = compute_largest_persistence(train_persistence_diagrams[label])\n",
    "    test_largest_persistences[label] = compute_largest_persistence(test_persistence_diagrams[label])"
   ]
  },
  {
   "cell_type": "markdown",
   "id": "00c925f5-d589-47b5-a701-287ecb8c3c05",
   "metadata": {},
   "source": [
    "# Concatenate Features to one DataFrame"
   ]
  },
  {
   "cell_type": "code",
   "execution_count": 23,
   "id": "2faa621b-b1b3-4428-87e6-10f15d0364ff",
   "metadata": {},
   "outputs": [],
   "source": [
    "def choose_column_in_matrix(matrix, i):\n",
    "    return [row[0][i] for row in matrix]"
   ]
  },
  {
   "cell_type": "code",
   "execution_count": 24,
   "id": "54d4bd2a-5a8c-4a90-ba3b-459bb13209d0",
   "metadata": {},
   "outputs": [],
   "source": [
    "def create_feature_df(persistence_entropies, amplitudes, nos_points, persistences, label):\n",
    "    \"\"\"\n",
    "    Create DataFrame for each label from features\n",
    "\n",
    "    Parameters:\n",
    "    - persistence_entropies (list): persistence entropies\n",
    "    - amplitudes (list): amplitudes\n",
    "    - nos_points (list): number of points\n",
    "    - label (int): Label for which we want to create a dataframe. 1, 3, 5 or 7.\n",
    "\n",
    "    Returns:\n",
    "    - Feature DataFrame (DataFrame)\n",
    "    \"\"\"\n",
    "    \n",
    "    feature_df = pd.DataFrame()\n",
    "\n",
    "    # All 3 columns (corresponding to hole dimensions)\n",
    "    feature_df[\"Persistence Entropy_Dim_0\"] = choose_column_in_matrix(list(persistence_entropies), 0)\n",
    "    feature_df[\"Persistence Entropy_Dim_1\"] = choose_column_in_matrix(list(persistence_entropies), 1)\n",
    "    feature_df[\"Persistence Entropy_Dim_2\"] = choose_column_in_matrix(list(persistence_entropies), 2)\n",
    "\n",
    "    # All 3 columns (corresponding to hole dimensions)\n",
    "    feature_df[\"Amplitude_Dim_0\"] = choose_column_in_matrix(list(amplitudes), 0)\n",
    "    feature_df[\"Amplitude_Dim_1\"] = choose_column_in_matrix(list(amplitudes), 1)\n",
    "    feature_df[\"Amplitude_Dim_2\"] = choose_column_in_matrix(list(amplitudes), 2)\n",
    "\n",
    "    # All 3 columns (corresponding to hole dimensions)\n",
    "    feature_df[\"No_Points_Dim_0\"] = choose_column_in_matrix(list(nos_points), 0)\n",
    "    feature_df[\"No_Points_Dim_1\"] = choose_column_in_matrix(list(nos_points), 1)\n",
    "    feature_df[\"No_Points_Dim_2\"] = choose_column_in_matrix(list(nos_points), 2)\n",
    "\n",
    "\n",
    "    feature_df[\"Largest_Persistence_Dim_0\"] = persistences[0]\n",
    "    feature_df[\"Largest_Persistence_Dim_1\"] = persistences[1]\n",
    "    feature_df[\"Largest_Persistence_Dim_2\"] = persistences[2]\n",
    "\n",
    "    # Label\n",
    "    feature_df[\"Label\"] = label\n",
    "\n",
    "    return feature_df"
   ]
  },
  {
   "cell_type": "code",
   "execution_count": 25,
   "id": "659df5f4-0f62-4404-889f-3d29587e15af",
   "metadata": {},
   "outputs": [],
   "source": [
    "train_dataframes = {}\n",
    "test_dataframes= {}\n",
    "\n",
    "for label in label_list:\n",
    "    train_dataframes[label] = create_feature_df(train_feautures[label][0], train_feautures[label][1], train_feautures[label][2], \\\n",
    "                                                train_largest_persistences[label], label)\n",
    "    \n",
    "    test_dataframes[label] = create_feature_df(test_feautures[label][0], test_feautures[label][1], test_feautures[label][2], \\\n",
    "                                                test_largest_persistences[label], label)"
   ]
  },
  {
   "cell_type": "code",
   "execution_count": 29,
   "id": "273e5219-0ca4-4fde-8ef2-bded94a33143",
   "metadata": {},
   "outputs": [],
   "source": [
    "# Concatenate and save features of training persistence diagrams\n",
    "train_feature_df = pd.concat([train_dataframes[0], train_dataframes[1], train_dataframes[2], train_dataframes[3], train_dataframes[4]], ignore_index=True)\n",
    "train_feature_df.to_csv(\"Features/Train_Topological_Summary_Statistics.csv\")\n",
    "\n",
    "# Concatenate and save features of training persistence diagrams\n",
    "test_feature_df = pd.concat([test_dataframes[0], test_dataframes[1], test_dataframes[2], test_dataframes[3], test_dataframes[4]], ignore_index=True)\n",
    "test_feature_df.to_csv(\"Features/Test_Topological_Summary_Statistics.csv\")"
   ]
  },
  {
   "cell_type": "code",
   "execution_count": null,
   "id": "c6d07977-f67a-415c-8b49-d6e583bec423",
   "metadata": {},
   "outputs": [],
   "source": []
  },
  {
   "cell_type": "code",
   "execution_count": null,
   "id": "cb59ae47-ddcc-4f8a-9a82-57100cc91ed6",
   "metadata": {},
   "outputs": [],
   "source": []
  },
  {
   "cell_type": "code",
   "execution_count": null,
   "id": "8920b05c-d0c1-4ae7-b380-f15eb4ebd0df",
   "metadata": {},
   "outputs": [],
   "source": []
  }
 ],
 "metadata": {
  "kernelspec": {
   "display_name": "Python 3 (ipykernel)",
   "language": "python",
   "name": "python3"
  },
  "language_info": {
   "codemirror_mode": {
    "name": "ipython",
    "version": 3
   },
   "file_extension": ".py",
   "mimetype": "text/x-python",
   "name": "python",
   "nbconvert_exporter": "python",
   "pygments_lexer": "ipython3",
   "version": "3.10.12"
  }
 },
 "nbformat": 4,
 "nbformat_minor": 5
}
