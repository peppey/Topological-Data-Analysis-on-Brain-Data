{
 "cells": [
  {
   "cell_type": "code",
   "execution_count": 59,
   "id": "0a81b9c9-a2e9-46c2-8ae8-4a5f02dd0571",
   "metadata": {},
   "outputs": [],
   "source": [
    "import numpy as np\n",
    "import pyedflib\n",
    "import statistics\n",
    "import plotly.graph_objects as go\n",
    "import pandas as pd\n",
    "from gtda.time_series import SingleTakensEmbedding\n",
    "from gtda.homology import VietorisRipsPersistence\n",
    "from gtda.diagrams import PersistenceEntropy, Amplitude, NumberOfPoints, ComplexPolynomial, PersistenceLandscape, HeatKernel, Silhouette, BettiCurve, PairwiseDistance, ForgetDimension\n",
    "from gtda.plotting import plot_point_cloud, plot_heatmap, plot_diagram\n",
    "import matplotlib.pyplot as plt\n",
    "from mpl_toolkits.mplot3d import Axes3D\n",
    "from sklearn.ensemble import RandomForestClassifier\n",
    "from sklearn.decomposition import PCA, FastICA\n",
    "from gtda.pipeline import Pipeline \n",
    "from numpy.linalg import norm"
   ]
  },
  {
   "cell_type": "markdown",
   "id": "a596656d-8533-413a-9928-e303cf0b5f76",
   "metadata": {},
   "source": [
    "# Load Data and set important variables"
   ]
  },
  {
   "cell_type": "code",
   "execution_count": 60,
   "id": "c3f1e32d-d9a9-407b-a900-3e5ce83ab714",
   "metadata": {},
   "outputs": [],
   "source": [
    "label_list = [0, 1, 2, 3, 4]"
   ]
  },
  {
   "cell_type": "code",
   "execution_count": 61,
   "id": "85fd9907-0ecf-4827-bd57-da10d9c03cfa",
   "metadata": {},
   "outputs": [],
   "source": [
    "# Load persistence diagrams\n",
    "\n",
    "train_persistence_diagrams = {} # dictionary with labels as keys, persistence diagrams of the respective classes as values\n",
    "test_persistence_diagrams = {} # dictionary with labels as keys, persistence diagrams of the respective classes as values\n",
    "\n",
    "\n",
    "for label in label_list:\n",
    "    train_persistence_diagrams[label] = np.load(\"Embeddings_and_Persistence_Diagrams/Train_PD\"+str(label)+\".npy\", allow_pickle=True)\n",
    "    test_persistence_diagrams[label] = np.load(\"Embeddings_and_Persistence_Diagrams/Test_PD\"+str(label)+\".npy\", allow_pickle=True)"
   ]
  },
  {
   "cell_type": "code",
   "execution_count": 62,
   "id": "8fdf2a7e-a7d5-4e86-b242-e2adee38560a",
   "metadata": {},
   "outputs": [],
   "source": [
    "# Load shortened_persistence diagrams\n",
    "\n",
    "train_shortened_persistence_diagrams = {} # dictionary with labels as keys, persistence diagrams of the respective classes as values\n",
    "test_shortened_persistence_diagrams = {} # dictionary with labels as keys, persistence diagrams of the respective classes as values\n",
    "\n",
    "\n",
    "for label in label_list:\n",
    "    train_shortened_persistence_diagrams[label] = np.load(\"Embeddings_and_Persistence_Diagrams/Train_Shortened_Diagrams\"+str(label)+\".npy\", allow_pickle=True)\n",
    "    test_shortened_persistence_diagrams[label] = np.load(\"Embeddings_and_Persistence_Diagrams/Test_Shortened_Diagrams\"+str(label)+\".npy\", allow_pickle=True)\n"
   ]
  },
  {
   "cell_type": "code",
   "execution_count": 63,
   "id": "9c7b247d-6bb4-4b26-8109-ce41379a42ff",
   "metadata": {},
   "outputs": [],
   "source": [
    "# Load removed indices\n",
    "\n",
    "train_removed_indices = {} # dictionary with labels as keys, persistence diagrams of the respective classes as values\n",
    "test_removed_indices = {} # dictionary with labels as keys, persistence diagrams of the respective classes as values\n",
    "\n",
    "\n",
    "for label in label_list:\n",
    "    train_removed_indices[label] = np.load(\"Embeddings_and_Persistence_Diagrams/Train_Removed_Indices\"+str(label)+\".npy\", allow_pickle=True)\n",
    "    test_removed_indices[label] = np.load(\"Embeddings_and_Persistence_Diagrams/Test_Removed_Indices\"+str(label)+\".npy\", allow_pickle=True)"
   ]
  },
  {
   "cell_type": "markdown",
   "id": "9e262908-2b56-4f7e-8c64-8b500488b882",
   "metadata": {},
   "source": [
    "\n"
   ]
  },
  {
   "cell_type": "markdown",
   "id": "bc6175e4-00bd-443d-83af-184ea70adc10",
   "metadata": {},
   "source": [
    "# HeatKernel Intensity"
   ]
  },
  {
   "cell_type": "markdown",
   "id": "9f076503-7c93-4873-9195-36793cf4d45a",
   "metadata": {},
   "source": [
    "In a way, the Heat Kernel shows an \"average distribution\" of the persistence diagrams for each label, seperated per hole dimensionality."
   ]
  },
  {
   "cell_type": "code",
   "execution_count": 64,
   "id": "f21ee4c1-5f1c-46e5-bed3-3cee654757c1",
   "metadata": {},
   "outputs": [],
   "source": [
    "HK = HeatKernel(sigma=0.00003, n_bins=100)"
   ]
  },
  {
   "cell_type": "code",
   "execution_count": 65,
   "id": "9e2f825d-00d9-49ce-b5a8-58cdfc086765",
   "metadata": {},
   "outputs": [],
   "source": [
    "def heat_kernel_intensity(heatkernel, homology_dimension):\n",
    "    \"\"\" Computes mean intensity of a heatkernel. Only takes positive values because otherwise the mean would\n",
    "      always be zero.\n",
    "\n",
    "    Parameters:\n",
    "    - heatkernel (list of lists): heatkernel of all homology dimensions\n",
    "    - homology_dimension (int): Which homology dimension to look at (0, 1 or 2)\n",
    "\n",
    "    Returns:\n",
    "    - mean intensity of heatkernel of homology dimension homology_dimension\n",
    "    \"\"\"\n",
    "    \n",
    "    positives =  [x for inner_list in heatkernel[0][homology_dimension] for x in inner_list if x > 0]\n",
    "    \n",
    "    return np.mean(positives)"
   ]
  },
  {
   "cell_type": "code",
   "execution_count": 66,
   "id": "62dc4ed2-2e3c-48d8-9477-60f2f2b9ab33",
   "metadata": {},
   "outputs": [
    {
     "name": "stderr",
     "output_type": "stream",
     "text": [
      "/Users/piabaronetzky/anaconda3/envs/time-delay-embeddings/lib/python3.10/site-packages/numpy/core/fromnumeric.py:3504: RuntimeWarning: Mean of empty slice.\n",
      "  return _methods._mean(a, axis=axis, dtype=dtype,\n",
      "/Users/piabaronetzky/anaconda3/envs/time-delay-embeddings/lib/python3.10/site-packages/numpy/core/_methods.py:129: RuntimeWarning: invalid value encountered in scalar divide\n",
      "  ret = ret.dtype.type(ret / rcount)\n"
     ]
    }
   ],
   "source": [
    "# Training data\n",
    "\n",
    "train_kernel_densities = []\n",
    "\n",
    "train_kernel_intensity_dim0 = {}\n",
    "train_kernel_intensity_dim1 = {}\n",
    "train_kernel_intensity_dim2 = {}\n",
    "\n",
    "for label in label_list:\n",
    "\n",
    "    # Initialize intensity lists of our label\n",
    "    train_kernel_intensity_dim0[label] = []\n",
    "    train_kernel_intensity_dim1[label] = []\n",
    "    train_kernel_intensity_dim2[label] = []\n",
    "\n",
    "    for diagram in train_persistence_diagrams[label]:\n",
    "        heatkernel = HK.fit_transform([diagram.astype(\"float\")])\n",
    "        train_kernel_intensity_dim0[label].append(heat_kernel_intensity(heatkernel, 0))\n",
    "        train_kernel_intensity_dim1[label].append(heat_kernel_intensity(heatkernel, 1))\n",
    "        train_kernel_intensity_dim2[label].append(heat_kernel_intensity(heatkernel, 2))\n",
    "\n",
    "    # Preliminary\n",
    "    # Add intensity 0 to those diagrams that were to short and were removed\n",
    "    for idx in train_removed_indices[label]: \n",
    "        train_kernel_intensity_dim0[label].insert(idx, 0)\n",
    "        train_kernel_intensity_dim1[label].insert(idx, 0)\n",
    "        train_kernel_intensity_dim2[label].insert(idx, 0)\n",
    "\n",
    "train_kernel_densities.append(train_kernel_intensity_dim0)\n",
    "train_kernel_densities.append(train_kernel_intensity_dim1)\n",
    "train_kernel_densities.append(train_kernel_intensity_dim2)"
   ]
  },
  {
   "cell_type": "code",
   "execution_count": 67,
   "id": "3516f35b-4981-4cde-bb3a-bf3129bb564a",
   "metadata": {},
   "outputs": [],
   "source": [
    "# Test\n",
    "\n",
    "test_kernel_densities = []\n",
    "\n",
    "\n",
    "test_kernel_intensity_dim0 = {}\n",
    "test_kernel_intensity_dim1 = {}\n",
    "test_kernel_intensity_dim2 = {}\n",
    "\n",
    "for label in label_list:\n",
    "\n",
    "    # Initialize intensity lists of our label\n",
    "    test_kernel_intensity_dim0[label] = []\n",
    "    test_kernel_intensity_dim1[label] = []\n",
    "    test_kernel_intensity_dim2[label] = []\n",
    "\n",
    "    for diagram in test_persistence_diagrams[label]:\n",
    "        heatkernel = HK.fit_transform([diagram.astype(\"float\")])\n",
    "        test_kernel_intensity_dim0[label].append(heat_kernel_intensity(heatkernel, 0))\n",
    "        test_kernel_intensity_dim1[label].append(heat_kernel_intensity(heatkernel, 1))\n",
    "        test_kernel_intensity_dim2[label].append(heat_kernel_intensity(heatkernel, 2))\n",
    "\n",
    "    # Preliminary\n",
    "    # Add intensity 0 to those diagrams that were to short and were removed\n",
    "    for idx in test_removed_indices[label]: \n",
    "        test_kernel_intensity_dim0[label].insert(idx, 0)\n",
    "        test_kernel_intensity_dim1[label].insert(idx, 0)\n",
    "        test_kernel_intensity_dim2[label].insert(idx, 0)\n",
    "\n",
    "\n",
    "test_kernel_densities.append(test_kernel_intensity_dim0)\n",
    "test_kernel_densities.append(test_kernel_intensity_dim1)\n",
    "test_kernel_densities.append(test_kernel_intensity_dim2)"
   ]
  },
  {
   "cell_type": "markdown",
   "id": "19dd657d-eae1-4a48-bf5d-e343621b9442",
   "metadata": {},
   "source": [
    "# L1 norms of Features"
   ]
  },
  {
   "cell_type": "markdown",
   "id": "94d8d16c-5cbc-4360-a5cf-127268d2113e",
   "metadata": {},
   "source": [
    "Using the L1 norm of the some features as additional ML feature improves the accuracy by a bit."
   ]
  },
  {
   "cell_type": "code",
   "execution_count": 68,
   "id": "d7c7a66a-6d4e-4571-a589-a795080f436b",
   "metadata": {},
   "outputs": [],
   "source": [
    "train_L1_norms = {}\n",
    "test_L1_norms = {}"
   ]
  },
  {
   "cell_type": "code",
   "execution_count": 69,
   "id": "58ea8148-9104-40cd-a980-e3cfab2412e3",
   "metadata": {},
   "outputs": [],
   "source": [
    "def compute_L1_norm_for_signature(persistence_diagrams, removed_indices, label_list, SG):\n",
    "\n",
    "    L1_norms = {}\n",
    "    \n",
    "    for label in label_list:\n",
    "        \n",
    "        L1_norms[label] = []\n",
    "        \n",
    "        L1_norm_dim0 = []\n",
    "        L1_norm_dim1 = []\n",
    "        L1_norm_dim2 = []\n",
    "\n",
    "        for diagram in persistence_diagrams[label]:\n",
    "            signature = SG.fit_transform([diagram.astype(\"float\")])\n",
    "            L1_norm_dim0.append(norm(signature[0][0], 1))\n",
    "            L1_norm_dim1.append(norm(signature[0][1], 1))\n",
    "            L1_norm_dim2.append(norm(signature[0][2], 1))\n",
    "\n",
    "        # Preliminary\n",
    "        # Add intensity 0 to those diagrams that were to short and were removed\n",
    "        for idx in removed_indices[label]: \n",
    "            L1_norm_dim0.insert(idx, 0)\n",
    "            L1_norm_dim1.insert(idx, 0)\n",
    "            L1_norm_dim2.insert(idx, 0)\n",
    "\n",
    "        L1_norms[label].append(L1_norm_dim0)\n",
    "        L1_norms[label].append(L1_norm_dim1)\n",
    "        L1_norms[label].append(L1_norm_dim2)\n",
    "\n",
    "    return L1_norms\n",
    "    "
   ]
  },
  {
   "cell_type": "markdown",
   "id": "e4c78a46-65e3-435a-bb3c-3e33e5e09c25",
   "metadata": {},
   "source": [
    "## Persistence Landscape"
   ]
  },
  {
   "cell_type": "code",
   "execution_count": 70,
   "id": "754fedb9-a108-4bd0-8993-592ba9c2abf3",
   "metadata": {},
   "outputs": [],
   "source": [
    "PL = PersistenceLandscape()"
   ]
  },
  {
   "cell_type": "code",
   "execution_count": 71,
   "id": "cfb6173f-ede9-4e0f-bf04-9dc8e8041bef",
   "metadata": {},
   "outputs": [],
   "source": [
    "train_L1_norms[\"PD\"] = compute_L1_norm_for_signature(train_shortened_persistence_diagrams, train_removed_indices, label_list, PL)\n",
    "test_L1_norms[\"PD\"] = compute_L1_norm_for_signature(test_shortened_persistence_diagrams, test_removed_indices, label_list, PL)"
   ]
  },
  {
   "cell_type": "markdown",
   "id": "2d905c57-050b-4fac-bca0-995725a7db93",
   "metadata": {},
   "source": [
    "## Betti Curve"
   ]
  },
  {
   "cell_type": "code",
   "execution_count": 72,
   "id": "6d834048-f8a5-4ae7-a63c-21ee5dff1e34",
   "metadata": {},
   "outputs": [],
   "source": [
    "BC = BettiCurve()"
   ]
  },
  {
   "cell_type": "code",
   "execution_count": 73,
   "id": "366018d9-187e-4924-9ab1-e41ab589026f",
   "metadata": {},
   "outputs": [],
   "source": [
    "train_L1_norms[\"BC\"] = compute_L1_norm_for_signature(train_shortened_persistence_diagrams, train_removed_indices, label_list, BC)\n",
    "test_L1_norms[\"BC\"] = compute_L1_norm_for_signature(test_shortened_persistence_diagrams, test_removed_indices, label_list, BC)"
   ]
  },
  {
   "cell_type": "code",
   "execution_count": 74,
   "id": "5d185ccf-5a4d-4299-bd58-542b94598046",
   "metadata": {},
   "outputs": [
    {
     "data": {
      "text/plain": [
       "51"
      ]
     },
     "execution_count": 74,
     "metadata": {},
     "output_type": "execute_result"
    }
   ],
   "source": [
    "len(train_L1_norms[\"PD\"][1][0])"
   ]
  },
  {
   "cell_type": "markdown",
   "id": "d6cd48f3-f8c4-48ea-b606-a1276f09365c",
   "metadata": {},
   "source": [
    "# Save Signature Features"
   ]
  },
  {
   "cell_type": "code",
   "execution_count": 78,
   "id": "6215255c-e46a-498b-b26e-161f3186cf45",
   "metadata": {},
   "outputs": [],
   "source": [
    "def create_feature_df(kernel_densities, L1_norms, num_diagrams, label):\n",
    "    \"\"\"\n",
    "    Create DataFrame for each label from features\n",
    "\n",
    "    Parameters:\n",
    "    - kernel_densities (list): intensities of heatkernel\n",
    "    - L1_norms (list): L1 norms of signatures\n",
    "    - num_diagrams (int): How many diagrams are there in total?\n",
    "    - label (int): Label for which we want to create a dataframe. 1, 3, 5 or 7.\n",
    "\n",
    "    Returns:\n",
    "    - Feature DataFrame (DataFrame)\n",
    "    \"\"\"\n",
    "    \n",
    "    feature_df = pd.DataFrame(index=np.arange(0, num_diagrams))\n",
    "\n",
    "    for homology_dim in range(3):\n",
    "        feature_df[\"Kernel_Intensity_Dim\"+str(homology_dim)] = kernel_densities[homology_dim][label]\n",
    "\n",
    "    for signature in L1_norms.keys():\n",
    "        for homology_dim in range(3):\n",
    "            feature_df[\"L1_Norm_\"+str(signature)+\"Dim\"+str(homology_dim)] = L1_norms[signature][label][homology_dim]\n",
    "\n",
    "    # Label\n",
    "    feature_df[\"Label\"] = label\n",
    "\n",
    "    return feature_df"
   ]
  },
  {
   "cell_type": "code",
   "execution_count": 79,
   "id": "9660f153-6361-4b79-9730-dd1be5752132",
   "metadata": {},
   "outputs": [],
   "source": [
    "train_dataframes = {}\n",
    "test_dataframes = {}\n",
    "\n",
    "for label in label_list:\n",
    "    train_dataframes[label] = create_feature_df(train_kernel_densities, train_L1_norms, len(train_persistence_diagrams[label]), label)\n",
    "    test_dataframes[label] = create_feature_df(test_kernel_densities, test_L1_norms, len(test_persistence_diagrams[label]), label)"
   ]
  },
  {
   "cell_type": "code",
   "execution_count": 80,
   "id": "e69200f1-22bb-4db6-ab11-3a172475b565",
   "metadata": {},
   "outputs": [],
   "source": [
    "# Concatenate and save features of training persistence diagrams\n",
    "train_feature_df = pd.concat([train_dataframes[0], train_dataframes[1], train_dataframes[2], train_dataframes[3], train_dataframes[4]], ignore_index=True)\n",
    "train_feature_df.to_csv(\"Features/Train_Signature_Statistics.csv\")\n",
    "\n",
    "# Concatenate and save features of training persistence diagrams\n",
    "test_feature_df = pd.concat([test_dataframes[0], test_dataframes[1], test_dataframes[2], test_dataframes[3], test_dataframes[4]], ignore_index=True)\n",
    "test_feature_df.to_csv(\"Features/Test_Signature_Statistics.csv\")\n"
   ]
  },
  {
   "cell_type": "code",
   "execution_count": null,
   "id": "f1b0433e-a7e8-489b-8101-cccfc194cf85",
   "metadata": {},
   "outputs": [],
   "source": []
  }
 ],
 "metadata": {
  "kernelspec": {
   "display_name": "Python 3 (ipykernel)",
   "language": "python",
   "name": "python3"
  },
  "language_info": {
   "codemirror_mode": {
    "name": "ipython",
    "version": 3
   },
   "file_extension": ".py",
   "mimetype": "text/x-python",
   "name": "python",
   "nbconvert_exporter": "python",
   "pygments_lexer": "ipython3",
   "version": "3.10.12"
  }
 },
 "nbformat": 4,
 "nbformat_minor": 5
}
