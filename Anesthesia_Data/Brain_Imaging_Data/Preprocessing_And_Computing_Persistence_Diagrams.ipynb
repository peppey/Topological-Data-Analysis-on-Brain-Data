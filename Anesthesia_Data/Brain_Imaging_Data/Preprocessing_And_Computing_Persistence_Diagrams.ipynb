{
 "cells": [
  {
   "cell_type": "code",
   "execution_count": 1,
   "id": "9509cef9",
   "metadata": {},
   "outputs": [],
   "source": [
    "import pandas as pd\n",
    "import numpy as np\n",
    "import h5py\n",
    "from gtda.images import RadialFiltration\n",
    "from gtda.homology import CubicalPersistence"
   ]
  },
  {
   "cell_type": "code",
   "execution_count": 2,
   "id": "434218db-b5e4-4ea1-87ed-3fc0ea724a00",
   "metadata": {},
   "outputs": [],
   "source": [
    "subject = \"m300\""
   ]
  },
  {
   "cell_type": "code",
   "execution_count": 3,
   "id": "b215aba9",
   "metadata": {},
   "outputs": [],
   "source": [
    "dataframes = {}\n",
    "\n",
    "label_list = [0,1,2,3,4] \n",
    "\n",
    "n_folds = 5\n",
    "\n",
    "for label in label_list:\n",
    "    filename = \"Data/\"+str(subject)+\"/run0\"+str(label)+\"/Brain_Imaging_Data.h5\"\n",
    "    file = h5py.File(filename,'r')\n",
    "    dataframes[label] = file['Data']\n",
    "    "
   ]
  },
  {
   "cell_type": "markdown",
   "id": "dfa34416-1261-4476-af16-d99a907d3fc1",
   "metadata": {},
   "source": [
    "# Compute persistence diagram for each time step separately"
   ]
  },
  {
   "cell_type": "code",
   "execution_count": 4,
   "id": "cb02df47-7b8f-4023-9668-d52066b6825f",
   "metadata": {},
   "outputs": [],
   "source": [
    "def compute_persistence_diagrams(dataframes, label_list):\n",
    "\n",
    "    radial_filtration = RadialFiltration(center=np.array([150, 150]))\n",
    "\n",
    "    persistence_diagrams = {}\n",
    "    \n",
    "    for label in label_list:\n",
    "        persistence_diagrams[\"Label_\"+str(label)] = []\n",
    "        for image in dataframes[label]:\n",
    "            filtration = radial_filtration.fit_transform([image])\n",
    "            cubical_persistence = CubicalPersistence(n_jobs=-1)\n",
    "            diagram = cubical_persistence.fit_transform(filtration)\n",
    "            persistence_diagrams[\"Label_\"+str(label)].append(diagram[0])\n",
    "\n",
    "\n",
    "    return persistence_diagrams\n",
    "\n",
    "\n",
    "#persistence_diagrams = compute_persistence_diagrams(dataframes, label_list)"
   ]
  },
  {
   "cell_type": "markdown",
   "id": "02559415-aacb-422a-b026-543137e58273",
   "metadata": {},
   "source": [
    "# Create extended persistence diagrams"
   ]
  },
  {
   "cell_type": "code",
   "execution_count": 5,
   "id": "b470dbb6-629c-4ec5-b1c2-5ac067291191",
   "metadata": {},
   "outputs": [],
   "source": [
    "persistence_diagrams = np.load(\"Embeddings_and_Persistence_Diagrams/\"+str(subject)+\"/Persistence_Diagrams.npy\", allow_pickle=True).item()"
   ]
  },
  {
   "cell_type": "code",
   "execution_count": 6,
   "id": "1eea7dff-4e07-4985-8805-77cf556832d6",
   "metadata": {},
   "outputs": [],
   "source": [
    "def find_largest_dimension(persistence_diagrams, label_list):\n",
    "    \"\"\"\n",
    "    Find the length of the longest list in a list of lists.\n",
    "\n",
    "    Parameters:\n",
    "    - persistence_diagrams (dictionary): List of persistence diagrams, with labels as keys.\n",
    "    - label_list (list): List of all labels.\n",
    "\n",
    "    Returns:\n",
    "    - longest_lengths_each_dimension (dictionary): Highest amount of holes in a persistence diagram for each dimension.\n",
    "    \"\"\"\n",
    "\n",
    "    # Initialize highest number of holes of each dimension for each label\n",
    "    longest_lengths_each_dimension = {}\n",
    "    for label in label_list:\n",
    "        longest_lengths_each_dimension[\"Label_\"+str(label)] = {}\n",
    "\n",
    "        for hole_dim in range(2):\n",
    "            longest_lengths_each_dimension[\"Label_\"+str(label)][\"Hole_Dim_\"+str(hole_dim)] = 0\n",
    "\n",
    "    for label in label_list:\n",
    "\n",
    "        # Only look at persistence diagrams of current label\n",
    "        persistence_diagrams_with_label = persistence_diagrams[\"Label_\"+str(label)]\n",
    "\n",
    "\n",
    "        # For each hole dimension (between 0 and 2), find the largest amount of holes\n",
    "        # of this dimension which there is in one of the persistence diagrams\n",
    "        \n",
    "        for hole_dim in range(2):\n",
    "\n",
    "            # for the current hole dimension, count the amount of holes in each diagram\n",
    "            for diagram in persistence_diagrams_with_label:\n",
    "                current_number_of_holes_of_hole_dim = 0 # Initialize\n",
    "                \n",
    "                for hole in diagram:\n",
    "                    # only take those holes of the current hole dimension into account\n",
    "                    # (the hole dimension is indicated by the 3rd entry of the hole)\n",
    "                    if hole[2] == hole_dim:\n",
    "                        current_number_of_holes_of_hole_dim += 1\n",
    "\n",
    "                # If the amount of holes of the current diagram is higher than the \n",
    "                # previous highest number of holes, redefine the highest number\n",
    "                if current_number_of_holes_of_hole_dim > longest_lengths_each_dimension[\"Label_\"+str(label)][\"Hole_Dim_\"+str(hole_dim)]:\n",
    "                    longest_lengths_each_dimension[\"Label_\"+str(label)][\"Hole_Dim_\"+str(hole_dim)] = current_number_of_holes_of_hole_dim\n",
    "\n",
    "    # Because this is what we want in this case, compute the overall longest dimensions which we will use for all labels\n",
    "    longest_lengths_each_dimension_overall = {key: max(label_dict[key] for label_dict in longest_lengths_each_dimension.values())\n",
    "    for key in ['Hole_Dim_0', 'Hole_Dim_1']}\n",
    "    \n",
    "    return longest_lengths_each_dimension_overall\n"
   ]
  },
  {
   "cell_type": "code",
   "execution_count": 7,
   "id": "ce3e23ca-a805-4883-9289-37d281aa1269",
   "metadata": {},
   "outputs": [],
   "source": [
    "longest_lengths_each_dimension_overall = find_largest_dimension(persistence_diagrams, label_list)"
   ]
  },
  {
   "cell_type": "code",
   "execution_count": 8,
   "id": "2d32482c-7c68-4a69-851f-e6e379139e06",
   "metadata": {},
   "outputs": [],
   "source": [
    "def extend_diagrams_to_largest_dimensions(persistence_diagrams, desired_lengths_each_dimension, label_list):\n",
    "    \"\"\"\n",
    "    Extend all persistence diagrams to the largest dimension \n",
    "    by appending (0, 0, hole_dim) tuples.\n",
    "\n",
    "    Parameters:\n",
    "    - persistence_diagrams (dict): List of persistence_diagrams of each label.\n",
    "    - longest_lengths_each_dimension_overall (dict): Contains the wished amount of holes for each dimension.\n",
    "    - label_list (list): List of all labels.\n",
    "\n",
    "    Returns:\n",
    "    - extended_persistence_diagrams (dict): List of extended eprsistence_diagrams for each label.\n",
    "    \"\"\"\n",
    "\n",
    "    # Initialize dictionary of extended persistence diagrams (with labels as keys)\n",
    "    extended_persistence_diagrams = {}\n",
    "\n",
    "    for label in label_list:\n",
    "\n",
    "        # Initialize extended persistence diagrams for current label\n",
    "        extended_persistence_diagrams[\"Label_\"+str(label)] = []\n",
    "        \n",
    "        # Only look at persistence diagrams of current label\n",
    "        persistence_diagrams_with_label = persistence_diagrams[\"Label_\"+str(label)]\n",
    "\n",
    "        # Extend each diagram to the highest number of holes for each dimension\n",
    "        for diagram in persistence_diagrams_with_label:\n",
    "\n",
    "            extended_diagram = list(diagram)\n",
    "            \n",
    "            for hole_dim in range(2):\n",
    "\n",
    "                current_number_of_holes_of_hole_dim = sum(1 for hole in diagram if hole[2] == hole_dim)\n",
    "\n",
    "\n",
    "                holes_to_append = [[0, 0, hole_dim]] * (desired_lengths_each_dimension[\"Hole_Dim_\"+str(hole_dim)] - current_number_of_holes_of_hole_dim)\n",
    "                extended_diagram = extended_diagram + holes_to_append\n",
    "                \n",
    "            extended_persistence_diagrams[\"Label_\"+str(label)].append(extended_diagram)\n",
    "            \n",
    "    return extended_persistence_diagrams\n"
   ]
  },
  {
   "cell_type": "code",
   "execution_count": null,
   "id": "a737eb33-b805-4f8b-af76-8115992e23fc",
   "metadata": {},
   "outputs": [],
   "source": [
    "extended_persistence_diagrams = extend_diagrams_to_largest_dimensions(persistence_diagrams, longest_lengths_each_dimension_overall, label_list)"
   ]
  },
  {
   "cell_type": "markdown",
   "id": "906c3d86-67eb-4aef-a8f5-8473f964da71",
   "metadata": {},
   "source": [
    "# Save persistence diagrams and embeddings"
   ]
  },
  {
   "cell_type": "code",
   "execution_count": null,
   "id": "29ec12ad-9617-4135-9152-ba42db62a7e0",
   "metadata": {},
   "outputs": [],
   "source": [
    "#np.save(\"Embeddings_and_Persistence_Diagrams/\"+str(subject)+\"/Persistence_Diagrams.npy\", np.array(persistence_diagrams, dtype=object), allow_pickle=True)"
   ]
  },
  {
   "cell_type": "code",
   "execution_count": null,
   "id": "a92c9672-d08d-41f4-b4ca-4d58c29eef32",
   "metadata": {},
   "outputs": [],
   "source": [
    "# For memory efficiency, use npz\n",
    "\n",
    "np.savez(\"Embeddings_and_Persistence_Diagrams/\"+str(subject)+\"/Extended_Persistence_Diagrams.npz\", Label_0=extended_persistence_diagrams[\"Label_0\"], Label_1=extended_persistence_diagrams[\"Label_1\"], Label_2=extended_persistence_diagrams[\"Label_2\"], Label_3=extended_persistence_diagrams[\"Label_3\"], Label_4=extended_persistence_diagrams[\"Label_4\"])\n"
   ]
  },
  {
   "cell_type": "code",
   "execution_count": null,
   "id": "2b29e9af-615c-4cce-a2e7-a3850964c83a",
   "metadata": {},
   "outputs": [],
   "source": []
  }
 ],
 "metadata": {
  "kernelspec": {
   "display_name": "Python 3 (ipykernel)",
   "language": "python",
   "name": "python3"
  },
  "language_info": {
   "codemirror_mode": {
    "name": "ipython",
    "version": 3
   },
   "file_extension": ".py",
   "mimetype": "text/x-python",
   "name": "python",
   "nbconvert_exporter": "python",
   "pygments_lexer": "ipython3",
   "version": "3.10.12"
  }
 },
 "nbformat": 4,
 "nbformat_minor": 5
}
