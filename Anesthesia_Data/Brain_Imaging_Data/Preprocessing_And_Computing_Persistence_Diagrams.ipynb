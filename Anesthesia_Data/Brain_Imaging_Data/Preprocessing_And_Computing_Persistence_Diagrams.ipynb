{
 "cells": [
  {
   "cell_type": "code",
   "execution_count": 21,
   "id": "9509cef9",
   "metadata": {},
   "outputs": [],
   "source": [
    "import pandas as pd\n",
    "import numpy as np\n",
    "import h5py\n",
    "from gtda.images import RadialFiltration\n",
    "from gtda.homology import CubicalPersistence"
   ]
  },
  {
   "cell_type": "code",
   "execution_count": 22,
   "id": "434218db-b5e4-4ea1-87ed-3fc0ea724a00",
   "metadata": {},
   "outputs": [],
   "source": [
    "subject = \"m292\""
   ]
  },
  {
   "cell_type": "code",
   "execution_count": 23,
   "id": "b215aba9",
   "metadata": {},
   "outputs": [],
   "source": [
    "dataframes = {}\n",
    "\n",
    "label_list = [0,1,2,3,4] \n",
    "\n",
    "n_folds = 5\n",
    "\n",
    "for label in label_list:\n",
    "    filename = \"Data/\"+str(subject)+\"/run0\"+str(label)+\"/Brain_Imaging_Data.h5\"\n",
    "    file = h5py.File(filename,'r')\n",
    "    dataframes[label] = file['Data']"
   ]
  },
  {
   "cell_type": "markdown",
   "id": "dfa34416-1261-4476-af16-d99a907d3fc1",
   "metadata": {},
   "source": [
    "# Compute persistence diagram for each time step separately"
   ]
  },
  {
   "cell_type": "code",
   "execution_count": 26,
   "id": "cb02df47-7b8f-4023-9668-d52066b6825f",
   "metadata": {},
   "outputs": [],
   "source": [
    "def compute_persistence_diagrams(dataframes, label_list):\n",
    "\n",
    "    radial_filtration = RadialFiltration(center=np.array([150, 150]))\n",
    "\n",
    "    persistence_diagrams = {}\n",
    "    \n",
    "    for label in label_list:\n",
    "        persistence_diagrams[label] = []\n",
    "        for image in dataframes[label]:#[:100]: # Cut here if you do not want to use the complete data\n",
    "            filtration = radial_filtration.fit_transform([image])\n",
    "            cubical_persistence = CubicalPersistence(n_jobs=-1)\n",
    "            diagram = cubical_persistence.fit_transform(filtration)\n",
    "            persistence_diagrams[\"Label_\"+str(label)].append(diagram[0])\n",
    "\n",
    "\n",
    "    return persistence_diagrams\n",
    "\n",
    "\n",
    "persistence_diagrams = compute_persistence_diagrams(dataframes, label_list)"
   ]
  },
  {
   "cell_type": "code",
   "execution_count": 27,
   "id": "29ec12ad-9617-4135-9152-ba42db62a7e0",
   "metadata": {},
   "outputs": [],
   "source": [
    "np.save(\"Embeddings_and_Persistence_Diagrams/\"+str(subject)+\"/Persistence_Diagrams.npy\", np.array(persistence_diagrams, dtype=object), allow_pickle=True)"
   ]
  },
  {
   "cell_type": "code",
   "execution_count": null,
   "id": "c1600e57-3e50-44eb-af1a-c09ae692f3e2",
   "metadata": {},
   "outputs": [],
   "source": []
  }
 ],
 "metadata": {
  "kernelspec": {
   "display_name": "Python 3 (ipykernel)",
   "language": "python",
   "name": "python3"
  },
  "language_info": {
   "codemirror_mode": {
    "name": "ipython",
    "version": 3
   },
   "file_extension": ".py",
   "mimetype": "text/x-python",
   "name": "python",
   "nbconvert_exporter": "python",
   "pygments_lexer": "ipython3",
   "version": "3.10.12"
  }
 },
 "nbformat": 4,
 "nbformat_minor": 5
}
