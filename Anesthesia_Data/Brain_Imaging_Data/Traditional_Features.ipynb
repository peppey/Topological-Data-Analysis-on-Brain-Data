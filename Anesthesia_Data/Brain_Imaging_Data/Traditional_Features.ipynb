{
 "cells": [
  {
   "cell_type": "code",
   "execution_count": 3,
   "id": "9509cef9",
   "metadata": {},
   "outputs": [],
   "source": [
    "import pandas as pd\n",
    "import numpy as np\n",
    "import h5py\n",
    "import cv2\n",
    "import numpy as np"
   ]
  },
  {
   "cell_type": "code",
   "execution_count": 4,
   "id": "434218db-b5e4-4ea1-87ed-3fc0ea724a00",
   "metadata": {},
   "outputs": [],
   "source": [
    "subject = \"m294\""
   ]
  },
  {
   "cell_type": "code",
   "execution_count": 5,
   "id": "b215aba9",
   "metadata": {},
   "outputs": [],
   "source": [
    "dataframes = {}\n",
    "\n",
    "label_list = [0,1,2,3,4] \n",
    "\n",
    "n_folds = 5\n",
    "\n",
    "for label in label_list:\n",
    "    filename = \"Data/\"+str(subject)+\"/run0\"+str(label)+\"/Brain_Imaging_Data.h5\"\n",
    "    file = h5py.File(filename,'r')\n",
    "    dataframes[label] = file['Data']"
   ]
  },
  {
   "cell_type": "markdown",
   "id": "dfa34416-1261-4476-af16-d99a907d3fc1",
   "metadata": {},
   "source": [
    "# Compute segments"
   ]
  },
  {
   "cell_type": "code",
   "execution_count": 6,
   "id": "29ec12ad-9617-4135-9152-ba42db62a7e0",
   "metadata": {},
   "outputs": [],
   "source": [
    "# Function to segment the dataset into smaller chunks\n",
    "def segment_data(data, segment_size = 80):\n",
    "    segments = []\n",
    "\n",
    "    for i in range(75):\n",
    "        start_idx = int(i* segment_size)\n",
    "        end_idx = start_idx + segment_size\n",
    "        segment = data[start_idx:end_idx, :, :]\n",
    "        segments.append(list(segment))\n",
    "\n",
    "    return np.array(segments)\n",
    "\n",
    "segments = {}\n",
    "\n",
    "for label in label_list:\n",
    "    segments[label] = segment_data(dataframes[label])\n"
   ]
  },
  {
   "cell_type": "markdown",
   "id": "bc5418e7-4832-4733-ba54-b56dce655791",
   "metadata": {},
   "source": [
    "# Features"
   ]
  },
  {
   "cell_type": "markdown",
   "id": "a974dfd5-7100-44eb-8085-3d9deae533bb",
   "metadata": {},
   "source": [
    "## Color histograms"
   ]
  },
  {
   "cell_type": "code",
   "execution_count": 8,
   "id": "7370fea5-5ed6-48e2-9f61-9230dfe634ee",
   "metadata": {},
   "outputs": [],
   "source": [
    "import cv2\n",
    "import numpy as np\n",
    "\n",
    "# Function to extract color histograms from a video segment\n",
    "def extract_color_histograms(segment, is_grayscale=True):\n",
    "    histograms = []\n",
    "    for frame in segment:\n",
    "        if is_grayscale:\n",
    "            hist = cv2.calcHist([frame.astype(np.uint8)], [0], None, [256], [0, 256])\n",
    "            histograms.append(hist.flatten())\n",
    "        else:\n",
    "            # Convert frame to HSV color space\n",
    "            hsv_frame = cv2.cvtColor(frame.astype(np.uint8), cv2.COLOR_BGR2HSV)\n",
    "\n",
    "            # Calculate histogram for each channel (Hue, Saturation, Value)\n",
    "            hist_hue = cv2.calcHist([hsv_frame], [0], None, [256], [0, 256])\n",
    "            hist_saturation = cv2.calcHist([hsv_frame], [1], None, [256], [0, 256])\n",
    "            hist_value = cv2.calcHist([hsv_frame], [2], None, [256], [0, 256])\n",
    "\n",
    "            # Concatenate histograms into a single feature vector\n",
    "            histogram = np.concatenate((hist_hue.flatten(), hist_saturation.flatten(), hist_value.flatten()))\n",
    "            histograms.append(histogram)\n",
    "\n",
    "    return np.array(histograms)\n",
    "\n",
    "\n",
    "features = {}\n",
    "for label in label_list:\n",
    "    features[label] = []\n",
    "    for segment in segments[label]:\n",
    "        histograms = extract_color_histograms(segment)\n",
    "        features[label].append(histograms)\n",
    "    \n",
    "    features[label] = np.array(features[label])\n",
    "\n",
    "\n"
   ]
  },
  {
   "cell_type": "code",
   "execution_count": 30,
   "id": "f2d69d1c-281c-41f7-8fb0-e4b64a366355",
   "metadata": {},
   "outputs": [],
   "source": [
    "# Take average\n",
    "\n",
    "def average_features_over_frames(features):\n",
    "\n",
    "    averaged_features = []\n",
    "\n",
    "    for segment in features:\n",
    "        average_array = np.mean(segment, axis=0)\n",
    "        averaged_features.append(average_array)\n",
    "\n",
    "    return averaged_features\n",
    "    \n",
    "hist_features = {}\n",
    "\n",
    "for label in label_list:\n",
    "    hist_features[label] = average_features_over_frames(features[label])"
   ]
  },
  {
   "cell_type": "markdown",
   "id": "3510bd05-50ea-429b-a29d-684647182443",
   "metadata": {},
   "source": [
    "## Optical flow"
   ]
  },
  {
   "cell_type": "code",
   "execution_count": 9,
   "id": "bb07b7e6-489c-4379-8467-e33f00f8572c",
   "metadata": {},
   "outputs": [],
   "source": [
    "# Function to extract optical flow features from a grayscale video segment\n",
    "def extract_optical_flow_features(segment):\n",
    "    features = []\n",
    "    prev_frame = None\n",
    "    for frame in segment:\n",
    "        if prev_frame is not None:\n",
    "            # Calculate optical flow\n",
    "            flow = cv2.calcOpticalFlowFarneback(prev_frame, frame, None, 0.5, 3, 15, 3, 5, 1.2, 0)\n",
    "\n",
    "            # Flatten and append optical flow as feature\n",
    "            features.append(flow.flatten())\n",
    "\n",
    "        prev_frame = frame\n",
    "\n",
    "    return np.array(features)\n",
    "\n",
    "optical_flow_features = {}\n",
    "for label in label_list:\n",
    "    optical_flow_features[label] = []\n",
    "    for segment in segments[label]:\n",
    "        histograms = extract_color_histograms(segment)\n",
    "        optical_flow_features[label].append(histograms)\n",
    "    \n",
    "    optical_flow_features[label] = np.array(optical_flow_features[label])\n"
   ]
  },
  {
   "cell_type": "code",
   "execution_count": 33,
   "id": "707788a9-9d7b-4426-bc89-53d3c0cae7d7",
   "metadata": {},
   "outputs": [],
   "source": [
    "for label in label_list:\n",
    "    optical_flow_features[label] = average_features_over_frames(optical_flow_features[label])"
   ]
  },
  {
   "cell_type": "markdown",
   "id": "7760ce08-00c6-42f5-87f8-844b7f9f7322",
   "metadata": {},
   "source": [
    "## Spatiotemporal features"
   ]
  },
  {
   "cell_type": "code",
   "execution_count": 10,
   "id": "a562dd12-98df-44ea-a5df-d4c47d9b1293",
   "metadata": {},
   "outputs": [],
   "source": [
    "# Function to extract 3D HOG features from a video segment\n",
    "def extract_spatiotemporal_features(segment):\n",
    "    features = []\n",
    "    for frame in segment:\n",
    "        # Convert the frame to grayscale\n",
    "        frame_gray = cv2.cvtColor(frame, cv2.COLOR_BGR2GRAY)\n",
    "        \n",
    "        # Duplicate the single-channel grayscale image to simulate a color image\n",
    "        frame_color = cv2.merge((frame_gray, frame_gray, frame_gray))\n",
    "\n",
    "        # Calculate HOG features for each frame\n",
    "        hog = cv2.HOGDescriptor()\n",
    "        hist = hog.compute(frame_color)\n",
    "\n",
    "        features.append(hist.flatten())\n",
    "\n",
    "    return np.array(features)\n",
    "\n",
    "spatiotemporal_features = {}\n",
    "for label in label_list:\n",
    "    spatiotemporal_features[label] = []\n",
    "    for segment in segments[label]:\n",
    "        histograms = extract_color_histograms(segment)\n",
    "        spatiotemporal_features[label].append(histograms)\n",
    "    \n",
    "    spatiotemporal_features[label] = np.array(spatiotemporal_features[label])\n"
   ]
  },
  {
   "cell_type": "code",
   "execution_count": 34,
   "id": "1182385d-460c-4419-abb5-31ed52d1c1f7",
   "metadata": {},
   "outputs": [],
   "source": [
    "for label in label_list:\n",
    "        spatiotemporal_features[label] = average_features_over_frames(spatiotemporal_features[label])"
   ]
  },
  {
   "cell_type": "markdown",
   "id": "789a08c5-b5ab-4a85-b40d-8b90d90f0523",
   "metadata": {},
   "source": [
    "# Create Feature DF and save"
   ]
  },
  {
   "cell_type": "code",
   "execution_count": 35,
   "id": "de9057fe-b2f8-40f7-8ed1-776c40fb2068",
   "metadata": {},
   "outputs": [],
   "source": [
    "def choose_column_in_matrix(matrix, i):\n",
    "    return [row[i] for row in matrix]"
   ]
  },
  {
   "cell_type": "code",
   "execution_count": 36,
   "id": "b083ecee-3725-431e-b42d-ef3a3b47b212",
   "metadata": {},
   "outputs": [],
   "source": [
    "def create_feature_df(histogram_features, optical_flow_features, spatiotemporal_features, label):\n",
    "    \"\"\"\n",
    "    Create DataFrame for each label from features\n",
    "\n",
    "    Parameters:\n",
    "    - label (int): Label for which we want to create a dataframe. 1, 3, 5 or 7.\n",
    "\n",
    "    Returns:\n",
    "    - Feature DataFrame (DataFrame)\n",
    "    \"\"\"\n",
    "    \n",
    "    feature_df = pd.DataFrame()\n",
    "\n",
    "    for dim_idx in range(256):\n",
    "        feature_df[\"Color_Histograms_Dim_\"+str(dim_idx)] = choose_column_in_matrix(histogram_features, dim_idx)\n",
    "    feature_df[\"Optical Flow\"] = optical_flow_features\n",
    "    feature_df[\"Spatiotemporal\"] = spatiotemporal_features\n",
    "\n",
    "    # Label\n",
    "    feature_df[\"Label\"] = label\n",
    "\n",
    "\n",
    "\n",
    "    return feature_df"
   ]
  },
  {
   "cell_type": "code",
   "execution_count": 37,
   "id": "18b4b0bb-05c3-43ec-8949-c887cadfdc94",
   "metadata": {},
   "outputs": [
    {
     "ename": "IndexError",
     "evalue": "index 80 is out of bounds for axis 0 with size 80",
     "output_type": "error",
     "traceback": [
      "\u001b[0;31m---------------------------------------------------------------------------\u001b[0m",
      "\u001b[0;31mIndexError\u001b[0m                                Traceback (most recent call last)",
      "Cell \u001b[0;32mIn[37], line 4\u001b[0m\n\u001b[1;32m      1\u001b[0m dataframes\u001b[38;5;241m=\u001b[39m {}\n\u001b[1;32m      3\u001b[0m \u001b[38;5;28;01mfor\u001b[39;00m label \u001b[38;5;129;01min\u001b[39;00m label_list:\n\u001b[0;32m----> 4\u001b[0m     dataframes[label] \u001b[38;5;241m=\u001b[39m \u001b[43mcreate_feature_df\u001b[49m\u001b[43m(\u001b[49m\u001b[43mfeatures\u001b[49m\u001b[43m[\u001b[49m\u001b[43mlabel\u001b[49m\u001b[43m]\u001b[49m\u001b[43m,\u001b[49m\u001b[43m  \u001b[49m\u001b[43m\\\u001b[49m\n\u001b[1;32m      5\u001b[0m \u001b[43m                \u001b[49m\u001b[43moptical_flow_features\u001b[49m\u001b[43m[\u001b[49m\u001b[43mlabel\u001b[49m\u001b[43m]\u001b[49m\u001b[43m,\u001b[49m\u001b[43m \u001b[49m\u001b[43mspatiotemporal_features\u001b[49m\u001b[43m[\u001b[49m\u001b[43mlabel\u001b[49m\u001b[43m]\u001b[49m\u001b[43m,\u001b[49m\u001b[43m \u001b[49m\u001b[43mlabel\u001b[49m\u001b[43m)\u001b[49m\n",
      "Cell \u001b[0;32mIn[36], line 15\u001b[0m, in \u001b[0;36mcreate_feature_df\u001b[0;34m(histogram_features, optical_flow_features, spatiotemporal_features, label)\u001b[0m\n\u001b[1;32m     12\u001b[0m feature_df \u001b[38;5;241m=\u001b[39m pd\u001b[38;5;241m.\u001b[39mDataFrame()\n\u001b[1;32m     14\u001b[0m \u001b[38;5;28;01mfor\u001b[39;00m dim_idx \u001b[38;5;129;01min\u001b[39;00m \u001b[38;5;28mrange\u001b[39m(\u001b[38;5;241m256\u001b[39m):\n\u001b[0;32m---> 15\u001b[0m     feature_df[\u001b[38;5;124m\"\u001b[39m\u001b[38;5;124mColor_Histograms_Dim_\u001b[39m\u001b[38;5;124m\"\u001b[39m\u001b[38;5;241m+\u001b[39m\u001b[38;5;28mstr\u001b[39m(dim_idx)] \u001b[38;5;241m=\u001b[39m \u001b[43mchoose_column_in_matrix\u001b[49m\u001b[43m(\u001b[49m\u001b[43mhistogram_features\u001b[49m\u001b[43m,\u001b[49m\u001b[43m \u001b[49m\u001b[43mdim_idx\u001b[49m\u001b[43m)\u001b[49m\n\u001b[1;32m     16\u001b[0m feature_df[\u001b[38;5;124m\"\u001b[39m\u001b[38;5;124mOptical Flow\u001b[39m\u001b[38;5;124m\"\u001b[39m] \u001b[38;5;241m=\u001b[39m optical_flow_features\n\u001b[1;32m     17\u001b[0m feature_df[\u001b[38;5;124m\"\u001b[39m\u001b[38;5;124mSpatiotemporal\u001b[39m\u001b[38;5;124m\"\u001b[39m] \u001b[38;5;241m=\u001b[39m spatiotemporal_features\n",
      "Cell \u001b[0;32mIn[35], line 2\u001b[0m, in \u001b[0;36mchoose_column_in_matrix\u001b[0;34m(matrix, i)\u001b[0m\n\u001b[1;32m      1\u001b[0m \u001b[38;5;28;01mdef\u001b[39;00m \u001b[38;5;21mchoose_column_in_matrix\u001b[39m(matrix, i):\n\u001b[0;32m----> 2\u001b[0m     \u001b[38;5;28;01mreturn\u001b[39;00m [row[i] \u001b[38;5;28;01mfor\u001b[39;00m row \u001b[38;5;129;01min\u001b[39;00m matrix]\n",
      "Cell \u001b[0;32mIn[35], line 2\u001b[0m, in \u001b[0;36m<listcomp>\u001b[0;34m(.0)\u001b[0m\n\u001b[1;32m      1\u001b[0m \u001b[38;5;28;01mdef\u001b[39;00m \u001b[38;5;21mchoose_column_in_matrix\u001b[39m(matrix, i):\n\u001b[0;32m----> 2\u001b[0m     \u001b[38;5;28;01mreturn\u001b[39;00m [\u001b[43mrow\u001b[49m\u001b[43m[\u001b[49m\u001b[43mi\u001b[49m\u001b[43m]\u001b[49m \u001b[38;5;28;01mfor\u001b[39;00m row \u001b[38;5;129;01min\u001b[39;00m matrix]\n",
      "\u001b[0;31mIndexError\u001b[0m: index 80 is out of bounds for axis 0 with size 80"
     ]
    }
   ],
   "source": [
    "dataframes= {}\n",
    "\n",
    "for label in label_list:\n",
    "    dataframes[label] = create_feature_df(features[label],  \\\n",
    "                optical_flow_features[label], spatiotemporal_features[label], label)\n",
    "    "
   ]
  },
  {
   "cell_type": "code",
   "execution_count": null,
   "id": "f6fcafb6-f576-48b2-86ab-645156c8a6f3",
   "metadata": {},
   "outputs": [],
   "source": [
    "# Concatenate and save features of training persistence diagrams\n",
    "feature_df = pd.concat([dataframes[0], dataframes[1], dataframes[2], dataframes[3], dataframes[4]], ignore_index=True)\n",
    "\n",
    "feature_df.to_csv(\"Features/\"+str(subject)+\"/Traditional_Features.csv\")"
   ]
  }
 ],
 "metadata": {
  "kernelspec": {
   "display_name": "Python 3 (ipykernel)",
   "language": "python",
   "name": "python3"
  },
  "language_info": {
   "codemirror_mode": {
    "name": "ipython",
    "version": 3
   },
   "file_extension": ".py",
   "mimetype": "text/x-python",
   "name": "python",
   "nbconvert_exporter": "python",
   "pygments_lexer": "ipython3",
   "version": "3.10.12"
  }
 },
 "nbformat": 4,
 "nbformat_minor": 5
}
