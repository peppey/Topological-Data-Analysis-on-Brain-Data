{
 "cells": [
  {
   "cell_type": "code",
   "execution_count": 1,
   "id": "0a81b9c9-a2e9-46c2-8ae8-4a5f02dd0571",
   "metadata": {},
   "outputs": [],
   "source": [
    "import numpy as np\n",
    "import pyedflib\n",
    "import statistics\n",
    "import plotly.graph_objects as go\n",
    "import pandas as pd\n",
    "from gtda.time_series import SingleTakensEmbedding\n",
    "from gtda.homology import VietorisRipsPersistence\n",
    "from gtda.diagrams import PersistenceEntropy, Amplitude, NumberOfPoints, ComplexPolynomial, PersistenceLandscape, HeatKernel, Silhouette, BettiCurve, PairwiseDistance, ForgetDimension\n",
    "from gtda.plotting import plot_point_cloud, plot_heatmap, plot_diagram\n",
    "import matplotlib.pyplot as plt\n",
    "from mpl_toolkits.mplot3d import Axes3D\n",
    "from sklearn.ensemble import RandomForestClassifier\n",
    "from sklearn.decomposition import PCA, FastICA\n",
    "from gtda.pipeline import Pipeline \n",
    "from numpy.linalg import norm\n",
    "from scipy.stats import skew, kurtosis"
   ]
  },
  {
   "cell_type": "markdown",
   "id": "a596656d-8533-413a-9928-e303cf0b5f76",
   "metadata": {},
   "source": [
    "# Load Data and set important variables"
   ]
  },
  {
   "cell_type": "code",
   "execution_count": 2,
   "id": "b94c4b74-2168-49a8-9d97-cb993aa2b8b4",
   "metadata": {},
   "outputs": [],
   "source": [
    "# choose individuum\n",
    "subject = \"m292\""
   ]
  },
  {
   "cell_type": "code",
   "execution_count": 3,
   "id": "c3f1e32d-d9a9-407b-a900-3e5ce83ab714",
   "metadata": {},
   "outputs": [],
   "source": [
    "label_list = [0, 1, 2, 3, 4]"
   ]
  },
  {
   "cell_type": "code",
   "execution_count": 4,
   "id": "85fd9907-0ecf-4827-bd57-da10d9c03cfa",
   "metadata": {},
   "outputs": [],
   "source": [
    "# Load persistence diagrams\n",
    "\n",
    "persistence_diagrams = np.load(\"Embeddings_and_Persistence_Diagrams/\"+str(subject)+\"/Persistence_Diagrams.npy\", allow_pickle=True).item()"
   ]
  },
  {
   "cell_type": "markdown",
   "id": "d8d01f85-913b-443b-8c0f-76033fad3c92",
   "metadata": {},
   "source": [
    "# Define Function Wrapper for All Statistics"
   ]
  },
  {
   "cell_type": "code",
   "execution_count": 42,
   "id": "80987f3c-ef08-43b6-8630-0c5c2192f8a9",
   "metadata": {},
   "outputs": [],
   "source": [
    "def compute_statistics_for_signature(func, signatures, label_list = label_list, persistence_diagrams = persistence_diagrams):\n",
    "    \n",
    "    overall_statistics = {}\n",
    "    \n",
    "    for label in label_list:\n",
    "        amount_to_average = 80  # The imaging data has 20Hz, therefore we have to average 80 images to get 4 seconds\n",
    "\n",
    "        # Initialize statistics list for label\n",
    "        overall_statistics[\"Label_\"+str(label)] = []\n",
    "        # Initialize average statistics over 80 diagrams each\n",
    "        average_staticistics_over_80_diagrams_dim_0 = []\n",
    "        average_staticistics_over_80_diagrams_dim_1 = []\n",
    "\n",
    "        # Take average of the statistics of 25 persistence diagrams\n",
    "        for idx in range(int(len(persistence_diagrams[label]) / amount_to_average)):\n",
    "            # Initialize list for the statistics of each of the the 80 PD after idx\n",
    "            single_statistics_dim0 = []\n",
    "            single_statistics_dim1 = []\n",
    "\n",
    "            for counter in range(amount_to_average):\n",
    "                # TODO problem: This is computed again and again for each func\n",
    "                sgn = signatures[label][amount_to_average * idx + counter].astype(\"float\")\n",
    "\n",
    "                # Apply function to compute statistics\n",
    "                single_statistics_dim0.append(func(sgn, 0))\n",
    "                single_statistics_dim1.append(func(sgn, 1))\n",
    "\n",
    "            average_staticistics_over_80_diagrams_dim_0.append(np.mean(single_statistics_dim0, axis=0))\n",
    "            average_staticistics_over_80_diagrams_dim_1.append(np.mean(single_statistics_dim1, axis=0))\n",
    "\n",
    "        \n",
    "        # Append both dimensions to general list of statistics for current label\n",
    "        overall_statistics[\"Label_\" + str(label)].append(average_staticistics_over_80_diagrams_dim_0)\n",
    "        overall_statistics[\"Label_\" + str(label)].append(average_staticistics_over_80_diagrams_dim_1)\n",
    "\n",
    "    return overall_statistics\n"
   ]
  },
  {
   "cell_type": "code",
   "execution_count": 37,
   "id": "3b1cadd4-6649-4f89-b760-00460db711ea",
   "metadata": {},
   "outputs": [],
   "source": [
    "def precompute_signature(SG, label_list = label_list, persistence_diagrams = persistence_diagrams):\n",
    "\n",
    "    amount_to_average = 80  # The imaging data has 20Hz, therefore we have to average 80 images to get 4 seconds\n",
    "\n",
    "    signatures = {}\n",
    "    for label in label_list:\n",
    "        signatures[label] = {}\n",
    "        \n",
    "        for idx in range(int(len(persistence_diagrams[label]))):\n",
    "            \n",
    "            signatures[label][idx] = SG.fit_transform([persistence_diagrams[label][idx].astype(\"float\")])\n",
    "\n",
    "    return signatures"
   ]
  },
  {
   "cell_type": "markdown",
   "id": "bc6175e4-00bd-443d-83af-184ea70adc10",
   "metadata": {},
   "source": [
    "# HeatKernel Statistics"
   ]
  },
  {
   "cell_type": "code",
   "execution_count": 38,
   "id": "f21ee4c1-5f1c-46e5-bed3-3cee654757c1",
   "metadata": {},
   "outputs": [
    {
     "ename": "KeyboardInterrupt",
     "evalue": "",
     "output_type": "error",
     "traceback": [
      "\u001b[0;31m---------------------------------------------------------------------------\u001b[0m",
      "\u001b[0;31mKeyboardInterrupt\u001b[0m                         Traceback (most recent call last)",
      "Cell \u001b[0;32mIn[38], line 3\u001b[0m\n\u001b[1;32m      1\u001b[0m HK \u001b[38;5;241m=\u001b[39m HeatKernel(sigma\u001b[38;5;241m=\u001b[39m\u001b[38;5;241m50000\u001b[39m, n_bins\u001b[38;5;241m=\u001b[39m\u001b[38;5;241m100\u001b[39m)\n\u001b[0;32m----> 3\u001b[0m heatkernels \u001b[38;5;241m=\u001b[39m \u001b[43mprecompute_signature\u001b[49m\u001b[43m(\u001b[49m\u001b[43mHK\u001b[49m\u001b[43m)\u001b[49m\n",
      "Cell \u001b[0;32mIn[37], line 11\u001b[0m, in \u001b[0;36mprecompute_signature\u001b[0;34m(SG, label_list, persistence_diagrams)\u001b[0m\n\u001b[1;32m      7\u001b[0m     signatures[label] \u001b[38;5;241m=\u001b[39m {}\n\u001b[1;32m      9\u001b[0m     \u001b[38;5;28;01mfor\u001b[39;00m idx \u001b[38;5;129;01min\u001b[39;00m \u001b[38;5;28mrange\u001b[39m(\u001b[38;5;28mint\u001b[39m(\u001b[38;5;28mlen\u001b[39m(persistence_diagrams[label]))):\n\u001b[0;32m---> 11\u001b[0m         signatures[label][idx] \u001b[38;5;241m=\u001b[39m \u001b[43mSG\u001b[49m\u001b[38;5;241;43m.\u001b[39;49m\u001b[43mfit_transform\u001b[49m\u001b[43m(\u001b[49m\u001b[43m[\u001b[49m\u001b[43mpersistence_diagrams\u001b[49m\u001b[43m[\u001b[49m\u001b[43mlabel\u001b[49m\u001b[43m]\u001b[49m\u001b[43m[\u001b[49m\u001b[43midx\u001b[49m\u001b[43m]\u001b[49m\u001b[38;5;241;43m.\u001b[39;49m\u001b[43mastype\u001b[49m\u001b[43m(\u001b[49m\u001b[38;5;124;43m\"\u001b[39;49m\u001b[38;5;124;43mfloat\u001b[39;49m\u001b[38;5;124;43m\"\u001b[39;49m\u001b[43m)\u001b[49m\u001b[43m]\u001b[49m\u001b[43m)\u001b[49m\n\u001b[1;32m     13\u001b[0m \u001b[38;5;28;01mreturn\u001b[39;00m signatures\n",
      "File \u001b[0;32m~/anaconda3/envs/time-delay-embeddings/lib/python3.10/site-packages/gtda/utils/_docs.py:106\u001b[0m, in \u001b[0;36madapt_fit_transform_docs.<locals>.make_new_fit_transform.<locals>.fit_transform_wrapper\u001b[0;34m(*args, **kwargs)\u001b[0m\n\u001b[1;32m    104\u001b[0m \u001b[38;5;129m@wraps\u001b[39m(original_fit_transform)\n\u001b[1;32m    105\u001b[0m \u001b[38;5;28;01mdef\u001b[39;00m \u001b[38;5;21mfit_transform_wrapper\u001b[39m(\u001b[38;5;241m*\u001b[39margs, \u001b[38;5;241m*\u001b[39m\u001b[38;5;241m*\u001b[39mkwargs):\n\u001b[0;32m--> 106\u001b[0m     \u001b[38;5;28;01mreturn\u001b[39;00m \u001b[43moriginal_fit_transform\u001b[49m\u001b[43m(\u001b[49m\u001b[38;5;241;43m*\u001b[39;49m\u001b[43margs\u001b[49m\u001b[43m,\u001b[49m\u001b[43m \u001b[49m\u001b[38;5;241;43m*\u001b[39;49m\u001b[38;5;241;43m*\u001b[39;49m\u001b[43mkwargs\u001b[49m\u001b[43m)\u001b[49m\n",
      "File \u001b[0;32m~/anaconda3/envs/time-delay-embeddings/lib/python3.10/site-packages/sklearn/base.py:852\u001b[0m, in \u001b[0;36mTransformerMixin.fit_transform\u001b[0;34m(self, X, y, **fit_params)\u001b[0m\n\u001b[1;32m    848\u001b[0m \u001b[38;5;66;03m# non-optimized default implementation; override when a better\u001b[39;00m\n\u001b[1;32m    849\u001b[0m \u001b[38;5;66;03m# method is possible for a given clustering algorithm\u001b[39;00m\n\u001b[1;32m    850\u001b[0m \u001b[38;5;28;01mif\u001b[39;00m y \u001b[38;5;129;01mis\u001b[39;00m \u001b[38;5;28;01mNone\u001b[39;00m:\n\u001b[1;32m    851\u001b[0m     \u001b[38;5;66;03m# fit method of arity 1 (unsupervised transformation)\u001b[39;00m\n\u001b[0;32m--> 852\u001b[0m     \u001b[38;5;28;01mreturn\u001b[39;00m \u001b[38;5;28;43mself\u001b[39;49m\u001b[38;5;241;43m.\u001b[39;49m\u001b[43mfit\u001b[49m\u001b[43m(\u001b[49m\u001b[43mX\u001b[49m\u001b[43m,\u001b[49m\u001b[43m \u001b[49m\u001b[38;5;241;43m*\u001b[39;49m\u001b[38;5;241;43m*\u001b[39;49m\u001b[43mfit_params\u001b[49m\u001b[43m)\u001b[49m\u001b[38;5;241;43m.\u001b[39;49m\u001b[43mtransform\u001b[49m\u001b[43m(\u001b[49m\u001b[43mX\u001b[49m\u001b[43m)\u001b[49m\n\u001b[1;32m    853\u001b[0m \u001b[38;5;28;01melse\u001b[39;00m:\n\u001b[1;32m    854\u001b[0m     \u001b[38;5;66;03m# fit method of arity 2 (supervised transformation)\u001b[39;00m\n\u001b[1;32m    855\u001b[0m     \u001b[38;5;28;01mreturn\u001b[39;00m \u001b[38;5;28mself\u001b[39m\u001b[38;5;241m.\u001b[39mfit(X, y, \u001b[38;5;241m*\u001b[39m\u001b[38;5;241m*\u001b[39mfit_params)\u001b[38;5;241m.\u001b[39mtransform(X)\n",
      "File \u001b[0;32m~/anaconda3/envs/time-delay-embeddings/lib/python3.10/site-packages/gtda/diagrams/representations.py:666\u001b[0m, in \u001b[0;36mHeatKernel.transform\u001b[0;34m(self, X, y)\u001b[0m\n\u001b[1;32m    663\u001b[0m check_is_fitted(\u001b[38;5;28mself\u001b[39m)\n\u001b[1;32m    664\u001b[0m X \u001b[38;5;241m=\u001b[39m check_diagrams(X, copy\u001b[38;5;241m=\u001b[39m\u001b[38;5;28;01mTrue\u001b[39;00m)\n\u001b[0;32m--> 666\u001b[0m Xt \u001b[38;5;241m=\u001b[39m \u001b[43mParallel\u001b[49m\u001b[43m(\u001b[49m\u001b[43mn_jobs\u001b[49m\u001b[38;5;241;43m=\u001b[39;49m\u001b[38;5;28;43mself\u001b[39;49m\u001b[38;5;241;43m.\u001b[39;49m\u001b[43mn_jobs\u001b[49m\u001b[43m,\u001b[49m\u001b[43m \u001b[49m\u001b[43mmmap_mode\u001b[49m\u001b[38;5;241;43m=\u001b[39;49m\u001b[38;5;124;43m\"\u001b[39;49m\u001b[38;5;124;43mc\u001b[39;49m\u001b[38;5;124;43m\"\u001b[39;49m\u001b[43m)\u001b[49m\u001b[43m(\u001b[49m\u001b[43mdelayed\u001b[49m\u001b[43m(\u001b[49m\n\u001b[1;32m    667\u001b[0m \u001b[43m    \u001b[49m\u001b[43mheats\u001b[49m\u001b[43m)\u001b[49m\u001b[43m(\u001b[49m\u001b[43m_subdiagrams\u001b[49m\u001b[43m(\u001b[49m\u001b[43mX\u001b[49m\u001b[43m[\u001b[49m\u001b[43ms\u001b[49m\u001b[43m]\u001b[49m\u001b[43m,\u001b[49m\u001b[43m \u001b[49m\u001b[43m[\u001b[49m\u001b[43mdim\u001b[49m\u001b[43m]\u001b[49m\u001b[43m,\u001b[49m\u001b[43m \u001b[49m\u001b[43mremove_dim\u001b[49m\u001b[38;5;241;43m=\u001b[39;49m\u001b[38;5;28;43;01mTrue\u001b[39;49;00m\u001b[43m)\u001b[49m\u001b[43m,\u001b[49m\n\u001b[1;32m    668\u001b[0m \u001b[43m           \u001b[49m\u001b[38;5;28;43mself\u001b[39;49m\u001b[38;5;241;43m.\u001b[39;49m\u001b[43m_samplings\u001b[49m\u001b[43m[\u001b[49m\u001b[43mdim\u001b[49m\u001b[43m]\u001b[49m\u001b[43m,\u001b[49m\u001b[43m \u001b[49m\u001b[38;5;28;43mself\u001b[39;49m\u001b[38;5;241;43m.\u001b[39;49m\u001b[43m_step_size\u001b[49m\u001b[43m[\u001b[49m\u001b[43mdim\u001b[49m\u001b[43m]\u001b[49m\u001b[43m,\u001b[49m\u001b[43m \u001b[49m\u001b[38;5;28;43mself\u001b[39;49m\u001b[38;5;241;43m.\u001b[39;49m\u001b[43msigma\u001b[49m\u001b[43m)\u001b[49m\n\u001b[1;32m    669\u001b[0m \u001b[43m    \u001b[49m\u001b[38;5;28;43;01mfor\u001b[39;49;00m\u001b[43m \u001b[49m\u001b[43mdim\u001b[49m\u001b[43m \u001b[49m\u001b[38;5;129;43;01min\u001b[39;49;00m\u001b[43m \u001b[49m\u001b[38;5;28;43mself\u001b[39;49m\u001b[38;5;241;43m.\u001b[39;49m\u001b[43mhomology_dimensions_\u001b[49m\n\u001b[1;32m    670\u001b[0m \u001b[43m    \u001b[49m\u001b[38;5;28;43;01mfor\u001b[39;49;00m\u001b[43m \u001b[49m\u001b[43ms\u001b[49m\u001b[43m \u001b[49m\u001b[38;5;129;43;01min\u001b[39;49;00m\u001b[43m \u001b[49m\u001b[43mgen_even_slices\u001b[49m\u001b[43m(\u001b[49m\u001b[38;5;28;43mlen\u001b[39;49m\u001b[43m(\u001b[49m\u001b[43mX\u001b[49m\u001b[43m)\u001b[49m\u001b[43m,\u001b[49m\u001b[43m \u001b[49m\u001b[43meffective_n_jobs\u001b[49m\u001b[43m(\u001b[49m\u001b[38;5;28;43mself\u001b[39;49m\u001b[38;5;241;43m.\u001b[39;49m\u001b[43mn_jobs\u001b[49m\u001b[43m)\u001b[49m\u001b[43m)\u001b[49m\u001b[43m)\u001b[49m\n\u001b[1;32m    671\u001b[0m Xt \u001b[38;5;241m=\u001b[39m np\u001b[38;5;241m.\u001b[39mconcatenate(Xt)\u001b[38;5;241m.\u001b[39m\\\n\u001b[1;32m    672\u001b[0m     reshape(\u001b[38;5;28mself\u001b[39m\u001b[38;5;241m.\u001b[39m_n_dimensions, \u001b[38;5;28mlen\u001b[39m(X), \u001b[38;5;28mself\u001b[39m\u001b[38;5;241m.\u001b[39mn_bins, \u001b[38;5;28mself\u001b[39m\u001b[38;5;241m.\u001b[39mn_bins)\u001b[38;5;241m.\u001b[39m\\\n\u001b[1;32m    673\u001b[0m     transpose((\u001b[38;5;241m1\u001b[39m, \u001b[38;5;241m0\u001b[39m, \u001b[38;5;241m2\u001b[39m, \u001b[38;5;241m3\u001b[39m))\n\u001b[1;32m    674\u001b[0m \u001b[38;5;28;01mreturn\u001b[39;00m Xt\n",
      "File \u001b[0;32m~/anaconda3/envs/time-delay-embeddings/lib/python3.10/site-packages/joblib/parallel.py:1863\u001b[0m, in \u001b[0;36mParallel.__call__\u001b[0;34m(self, iterable)\u001b[0m\n\u001b[1;32m   1861\u001b[0m     output \u001b[38;5;241m=\u001b[39m \u001b[38;5;28mself\u001b[39m\u001b[38;5;241m.\u001b[39m_get_sequential_output(iterable)\n\u001b[1;32m   1862\u001b[0m     \u001b[38;5;28mnext\u001b[39m(output)\n\u001b[0;32m-> 1863\u001b[0m     \u001b[38;5;28;01mreturn\u001b[39;00m output \u001b[38;5;28;01mif\u001b[39;00m \u001b[38;5;28mself\u001b[39m\u001b[38;5;241m.\u001b[39mreturn_generator \u001b[38;5;28;01melse\u001b[39;00m \u001b[38;5;28;43mlist\u001b[39;49m\u001b[43m(\u001b[49m\u001b[43moutput\u001b[49m\u001b[43m)\u001b[49m\n\u001b[1;32m   1865\u001b[0m \u001b[38;5;66;03m# Let's create an ID that uniquely identifies the current call. If the\u001b[39;00m\n\u001b[1;32m   1866\u001b[0m \u001b[38;5;66;03m# call is interrupted early and that the same instance is immediately\u001b[39;00m\n\u001b[1;32m   1867\u001b[0m \u001b[38;5;66;03m# re-used, this id will be used to prevent workers that were\u001b[39;00m\n\u001b[1;32m   1868\u001b[0m \u001b[38;5;66;03m# concurrently finalizing a task from the previous call to run the\u001b[39;00m\n\u001b[1;32m   1869\u001b[0m \u001b[38;5;66;03m# callback.\u001b[39;00m\n\u001b[1;32m   1870\u001b[0m \u001b[38;5;28;01mwith\u001b[39;00m \u001b[38;5;28mself\u001b[39m\u001b[38;5;241m.\u001b[39m_lock:\n",
      "File \u001b[0;32m~/anaconda3/envs/time-delay-embeddings/lib/python3.10/site-packages/joblib/parallel.py:1792\u001b[0m, in \u001b[0;36mParallel._get_sequential_output\u001b[0;34m(self, iterable)\u001b[0m\n\u001b[1;32m   1790\u001b[0m \u001b[38;5;28mself\u001b[39m\u001b[38;5;241m.\u001b[39mn_dispatched_batches \u001b[38;5;241m+\u001b[39m\u001b[38;5;241m=\u001b[39m \u001b[38;5;241m1\u001b[39m\n\u001b[1;32m   1791\u001b[0m \u001b[38;5;28mself\u001b[39m\u001b[38;5;241m.\u001b[39mn_dispatched_tasks \u001b[38;5;241m+\u001b[39m\u001b[38;5;241m=\u001b[39m \u001b[38;5;241m1\u001b[39m\n\u001b[0;32m-> 1792\u001b[0m res \u001b[38;5;241m=\u001b[39m \u001b[43mfunc\u001b[49m\u001b[43m(\u001b[49m\u001b[38;5;241;43m*\u001b[39;49m\u001b[43margs\u001b[49m\u001b[43m,\u001b[49m\u001b[43m \u001b[49m\u001b[38;5;241;43m*\u001b[39;49m\u001b[38;5;241;43m*\u001b[39;49m\u001b[43mkwargs\u001b[49m\u001b[43m)\u001b[49m\n\u001b[1;32m   1793\u001b[0m \u001b[38;5;28mself\u001b[39m\u001b[38;5;241m.\u001b[39mn_completed_tasks \u001b[38;5;241m+\u001b[39m\u001b[38;5;241m=\u001b[39m \u001b[38;5;241m1\u001b[39m\n\u001b[1;32m   1794\u001b[0m \u001b[38;5;28mself\u001b[39m\u001b[38;5;241m.\u001b[39mprint_progress()\n",
      "File \u001b[0;32m~/anaconda3/envs/time-delay-embeddings/lib/python3.10/site-packages/gtda/diagrams/_metrics.py:109\u001b[0m, in \u001b[0;36mheats\u001b[0;34m(diagrams, sampling, step_size, sigma)\u001b[0m\n\u001b[1;32m    105\u001b[0m     diagram_nontrivial_pixel_coords \u001b[38;5;241m=\u001b[39m np\u001b[38;5;241m.\u001b[39marray(\n\u001b[1;32m    106\u001b[0m         (diagram \u001b[38;5;241m-\u001b[39m first_sampling) \u001b[38;5;241m/\u001b[39m step_size, dtype\u001b[38;5;241m=\u001b[39m\u001b[38;5;28mint\u001b[39m\n\u001b[1;32m    107\u001b[0m         )[nontrivial_points_idx]\n\u001b[1;32m    108\u001b[0m     image \u001b[38;5;241m=\u001b[39m heats_[i]\n\u001b[0;32m--> 109\u001b[0m     \u001b[43m_sample_image\u001b[49m\u001b[43m(\u001b[49m\u001b[43mimage\u001b[49m\u001b[43m,\u001b[49m\u001b[43m \u001b[49m\u001b[43mdiagram_nontrivial_pixel_coords\u001b[49m\u001b[43m)\u001b[49m\n\u001b[1;32m    110\u001b[0m     gaussian_filter(image, sigma_pixel, mode\u001b[38;5;241m=\u001b[39m\u001b[38;5;124m\"\u001b[39m\u001b[38;5;124mconstant\u001b[39m\u001b[38;5;124m\"\u001b[39m, output\u001b[38;5;241m=\u001b[39mimage)\n\u001b[1;32m    112\u001b[0m heats_ \u001b[38;5;241m-\u001b[39m\u001b[38;5;241m=\u001b[39m np\u001b[38;5;241m.\u001b[39mtranspose(heats_, (\u001b[38;5;241m0\u001b[39m, \u001b[38;5;241m2\u001b[39m, \u001b[38;5;241m1\u001b[39m))\n",
      "File \u001b[0;32m~/anaconda3/envs/time-delay-embeddings/lib/python3.10/site-packages/gtda/diagrams/_utils.py:58\u001b[0m, in \u001b[0;36m_sample_image\u001b[0;34m(image, diagram_pixel_coords)\u001b[0m\n\u001b[1;32m     55\u001b[0m \u001b[38;5;28;01mdef\u001b[39;00m \u001b[38;5;21m_sample_image\u001b[39m(image, diagram_pixel_coords):\n\u001b[1;32m     56\u001b[0m     \u001b[38;5;66;03m# WARNING: Modifies `image` in-place\u001b[39;00m\n\u001b[1;32m     57\u001b[0m     unique, counts \u001b[38;5;241m=\u001b[39m \\\n\u001b[0;32m---> 58\u001b[0m         \u001b[43mnp\u001b[49m\u001b[38;5;241;43m.\u001b[39;49m\u001b[43munique\u001b[49m\u001b[43m(\u001b[49m\u001b[43mdiagram_pixel_coords\u001b[49m\u001b[43m,\u001b[49m\u001b[43m \u001b[49m\u001b[43maxis\u001b[49m\u001b[38;5;241;43m=\u001b[39;49m\u001b[38;5;241;43m0\u001b[39;49m\u001b[43m,\u001b[49m\u001b[43m \u001b[49m\u001b[43mreturn_counts\u001b[49m\u001b[38;5;241;43m=\u001b[39;49m\u001b[38;5;28;43;01mTrue\u001b[39;49;00m\u001b[43m)\u001b[49m\n\u001b[1;32m     59\u001b[0m     unique \u001b[38;5;241m=\u001b[39m \u001b[38;5;28mtuple\u001b[39m(\u001b[38;5;28mtuple\u001b[39m(row) \u001b[38;5;28;01mfor\u001b[39;00m row \u001b[38;5;129;01min\u001b[39;00m unique\u001b[38;5;241m.\u001b[39mastype(\u001b[38;5;28mint\u001b[39m)\u001b[38;5;241m.\u001b[39mT)\n\u001b[1;32m     60\u001b[0m     image[unique] \u001b[38;5;241m=\u001b[39m counts\n",
      "File \u001b[0;32m~/anaconda3/envs/time-delay-embeddings/lib/python3.10/site-packages/numpy/lib/arraysetops.py:317\u001b[0m, in \u001b[0;36munique\u001b[0;34m(ar, return_index, return_inverse, return_counts, axis, equal_nan)\u001b[0m\n\u001b[1;32m    314\u001b[0m     uniq \u001b[38;5;241m=\u001b[39m np\u001b[38;5;241m.\u001b[39mmoveaxis(uniq, \u001b[38;5;241m0\u001b[39m, axis)\n\u001b[1;32m    315\u001b[0m     \u001b[38;5;28;01mreturn\u001b[39;00m uniq\n\u001b[0;32m--> 317\u001b[0m output \u001b[38;5;241m=\u001b[39m \u001b[43m_unique1d\u001b[49m\u001b[43m(\u001b[49m\u001b[43mconsolidated\u001b[49m\u001b[43m,\u001b[49m\u001b[43m \u001b[49m\u001b[43mreturn_index\u001b[49m\u001b[43m,\u001b[49m\n\u001b[1;32m    318\u001b[0m \u001b[43m                   \u001b[49m\u001b[43mreturn_inverse\u001b[49m\u001b[43m,\u001b[49m\u001b[43m \u001b[49m\u001b[43mreturn_counts\u001b[49m\u001b[43m,\u001b[49m\u001b[43m \u001b[49m\u001b[43mequal_nan\u001b[49m\u001b[38;5;241;43m=\u001b[39;49m\u001b[43mequal_nan\u001b[49m\u001b[43m)\u001b[49m\n\u001b[1;32m    319\u001b[0m output \u001b[38;5;241m=\u001b[39m (reshape_uniq(output[\u001b[38;5;241m0\u001b[39m]),) \u001b[38;5;241m+\u001b[39m output[\u001b[38;5;241m1\u001b[39m:]\n\u001b[1;32m    320\u001b[0m \u001b[38;5;28;01mreturn\u001b[39;00m _unpack_tuple(output)\n",
      "File \u001b[0;32m~/anaconda3/envs/time-delay-embeddings/lib/python3.10/site-packages/numpy/lib/arraysetops.py:336\u001b[0m, in \u001b[0;36m_unique1d\u001b[0;34m(ar, return_index, return_inverse, return_counts, equal_nan)\u001b[0m\n\u001b[1;32m    334\u001b[0m     aux \u001b[38;5;241m=\u001b[39m ar[perm]\n\u001b[1;32m    335\u001b[0m \u001b[38;5;28;01melse\u001b[39;00m:\n\u001b[0;32m--> 336\u001b[0m     \u001b[43mar\u001b[49m\u001b[38;5;241;43m.\u001b[39;49m\u001b[43msort\u001b[49m\u001b[43m(\u001b[49m\u001b[43m)\u001b[49m\n\u001b[1;32m    337\u001b[0m     aux \u001b[38;5;241m=\u001b[39m ar\n\u001b[1;32m    338\u001b[0m mask \u001b[38;5;241m=\u001b[39m np\u001b[38;5;241m.\u001b[39mempty(aux\u001b[38;5;241m.\u001b[39mshape, dtype\u001b[38;5;241m=\u001b[39mnp\u001b[38;5;241m.\u001b[39mbool_)\n",
      "\u001b[0;31mKeyboardInterrupt\u001b[0m: "
     ]
    }
   ],
   "source": [
    "HK = HeatKernel(sigma=50000, n_bins=100)\n",
    "\n",
    "heatkernels = precompute_signature(HK)"
   ]
  },
  {
   "cell_type": "code",
   "execution_count": 39,
   "id": "23e2f8fa-c869-494c-af0c-cebd396b4440",
   "metadata": {},
   "outputs": [],
   "source": [
    "heat_kernel_statistics = {}"
   ]
  },
  {
   "cell_type": "markdown",
   "id": "a83b2620-530c-4387-ad0a-34bcc3808159",
   "metadata": {},
   "source": [
    "# Intensity"
   ]
  },
  {
   "cell_type": "markdown",
   "id": "9f076503-7c93-4873-9195-36793cf4d45a",
   "metadata": {},
   "source": [
    "In a way, the Heat Kernel shows an \"average distribution\" of the persistence diagrams for each label, seperated per hole dimensionality."
   ]
  },
  {
   "cell_type": "code",
   "execution_count": 43,
   "id": "9e2f825d-00d9-49ce-b5a8-58cdfc086765",
   "metadata": {},
   "outputs": [],
   "source": [
    "def heat_kernel_intensity(heatkernel, homology_dimension):\n",
    "    \"\"\" Computes mean intensity of a heatkernel. Only takes positive values because otherwise the mean would\n",
    "      always be zero.\n",
    "\n",
    "    Parameters:\n",
    "    - heatkernel (list of lists): heatkernel of all homology dimensions\n",
    "    - homology_dimension (int): Which homology dimension to look at (0, 1 or 2)\n",
    "\n",
    "    Returns:\n",
    "    - mean intensity of heatkernel of homology dimension homology_dimension\n",
    "    \"\"\"\n",
    "    \n",
    "    positives =  [x for inner_list in heatkernel[0][homology_dimension] for x in inner_list if x > 0]\n",
    "    \n",
    "    return np.mean(positives)"
   ]
  },
  {
   "cell_type": "code",
   "execution_count": 44,
   "id": "8df3ec92-9ac5-4e27-a439-344af280b5c8",
   "metadata": {},
   "outputs": [],
   "source": [
    "heat_kernel_statistics[\"intensity\"] = compute_statistics_for_signature(heat_kernel_intensity, heatkernels)"
   ]
  },
  {
   "cell_type": "markdown",
   "id": "2e612993-354f-46a7-811d-9e350d2f55a6",
   "metadata": {},
   "source": [
    "## Maximum and Minimum"
   ]
  },
  {
   "cell_type": "code",
   "execution_count": 45,
   "id": "e4891c36-0f48-4b49-a564-6a4e19a00aa8",
   "metadata": {},
   "outputs": [],
   "source": [
    "def heat_kernel_max(heatkernel, homology_dimension):\n",
    "    \"\"\" Computes maximum and minimum of a heatkernel. \n",
    "\n",
    "    Parameters:\n",
    "    - heatkernel (list of lists): heatkernel of all homology dimensions\n",
    "    - homology_dimension (int): Which homology dimension to look at (0, 1 or 2)\n",
    "\n",
    "    Returns:\n",
    "    - mean intensity of heatkernel of homology dimension homology_dimension\n",
    "    \"\"\"\n",
    "    \n",
    "    positives =  [x for inner_list in heatkernel[0][homology_dimension] for x in inner_list if x > 0]\n",
    "    \n",
    "    return np.max(positives)"
   ]
  },
  {
   "cell_type": "code",
   "execution_count": 46,
   "id": "3774563f-6fe6-46bc-ac21-c2253b826694",
   "metadata": {},
   "outputs": [],
   "source": [
    "def heat_kernel_min(heatkernel, homology_dimension):\n",
    "    \"\"\" Computes maximum and minimum of a heatkernel. Only takes positive values because otherwise the minimum\n",
    "    would always be the negative of the maximum\n",
    "\n",
    "    Parameters:\n",
    "    - heatkernel (list of lists): heatkernel of all homology dimensions\n",
    "    - homology_dimension (int): Which homology dimension to look at (0, 1 or 2)\n",
    "\n",
    "    Returns:\n",
    "    - mean intensity of heatkernel of homology dimension homology_dimension\n",
    "    \"\"\"\n",
    "    \n",
    "    positives =  [x for inner_list in heatkernel[0][homology_dimension] for x in inner_list if x > 0]\n",
    "    \n",
    "    return np.min(positives)"
   ]
  },
  {
   "cell_type": "code",
   "execution_count": null,
   "id": "3620fe18-59ed-4c2f-9be5-c80b902a3c64",
   "metadata": {},
   "outputs": [],
   "source": [
    "heat_kernel_statistics[\"maximum\"] = compute_statistics_for_signature(heat_kernel_max, heatkernels)\n",
    "heat_kernel_statistics[\"minimum\"] = compute_statistics_for_signature(heat_kernel_min, heatkernels)"
   ]
  },
  {
   "cell_type": "markdown",
   "id": "19dd657d-eae1-4a48-bf5d-e343621b9442",
   "metadata": {},
   "source": [
    "# Betti Curve Features"
   ]
  },
  {
   "cell_type": "code",
   "execution_count": null,
   "id": "6d834048-f8a5-4ae7-a63c-21ee5dff1e34",
   "metadata": {},
   "outputs": [],
   "source": [
    "BC = BettiCurve()\n",
    "\n",
    "betti_curves = precompute_signature(BC)"
   ]
  },
  {
   "cell_type": "code",
   "execution_count": null,
   "id": "d7c7a66a-6d4e-4571-a589-a795080f436b",
   "metadata": {},
   "outputs": [],
   "source": [
    "betti_curve_statistics = {}"
   ]
  },
  {
   "cell_type": "markdown",
   "id": "f72bc6d9-ec0e-4d3c-b98d-acaeed7cb84b",
   "metadata": {},
   "source": [
    "## L1 Norm"
   ]
  },
  {
   "cell_type": "markdown",
   "id": "94d8d16c-5cbc-4360-a5cf-127268d2113e",
   "metadata": {},
   "source": [
    "Using the L1 norm of the some features as additional ML feature improves the accuracy by a bit."
   ]
  },
  {
   "cell_type": "code",
   "execution_count": null,
   "id": "58ea8148-9104-40cd-a980-e3cfab2412e3",
   "metadata": {},
   "outputs": [],
   "source": [
    "def L1_norm(signature, homology_dimension):\n",
    "\n",
    "    return norm(signature[0][0], homology_dimension)    "
   ]
  },
  {
   "cell_type": "code",
   "execution_count": null,
   "id": "366018d9-187e-4924-9ab1-e41ab589026f",
   "metadata": {},
   "outputs": [],
   "source": [
    "betti_curve_statistics[\"L1\"] = compute_statistics_for_signature(L1_norm, betti_curves)"
   ]
  },
  {
   "cell_type": "markdown",
   "id": "d88841d0-722e-4447-a8ff-bd8257967a6c",
   "metadata": {},
   "source": [
    "## Mean, Standard deviation, Skewness and Kurtosis"
   ]
  },
  {
   "cell_type": "code",
   "execution_count": null,
   "id": "5ef02760-4325-43f2-ab41-6ea616734879",
   "metadata": {},
   "outputs": [],
   "source": [
    "def signature_mean(signature, homology_dimension):\n",
    "    \n",
    "    return statistics.mean(signature[0][homology_dimension])"
   ]
  },
  {
   "cell_type": "code",
   "execution_count": null,
   "id": "ef2f363e-861a-416b-943a-6b3a771c5f44",
   "metadata": {},
   "outputs": [],
   "source": [
    "def signature_standard_deviation(signature, homology_dimension):\n",
    "    \n",
    "    return statistics.stdev(signature[0][homology_dimension])\n"
   ]
  },
  {
   "cell_type": "code",
   "execution_count": null,
   "id": "e317bd8b-5dfe-4537-8f5b-5220a541849e",
   "metadata": {},
   "outputs": [],
   "source": [
    "def signature_skewness(signature, homology_dimension):\n",
    "    \n",
    "    return skew(signature[0][homology_dimension])"
   ]
  },
  {
   "cell_type": "code",
   "execution_count": null,
   "id": "56713291-2fa2-47fb-8559-0df50e6da75e",
   "metadata": {},
   "outputs": [],
   "source": [
    "def signature_kurtosis(signature, homology_dimension):\n",
    "    \n",
    "    return kurtosis(signature[0][homology_dimension])"
   ]
  },
  {
   "cell_type": "code",
   "execution_count": null,
   "id": "a922ef0d-c740-4713-aac4-db628a249607",
   "metadata": {},
   "outputs": [],
   "source": [
    "betti_curve_statistics[\"Mean\"] = compute_statistics_for_signature(signature_mean, betti_curves)\n",
    "betti_curve_statistics[\"Standard_Deviation\"] = compute_statistics_for_signature(signature_standard_deviation, betti_curves)\n",
    "betti_curve_statistics[\"Skewness\"] = compute_statistics_for_signature(signature_skewness, betti_curves)\n",
    "betti_curve_statistics[\"Kurtosis\"] = compute_statistics_for_signature(signature_kurtosis, betti_curves)"
   ]
  },
  {
   "cell_type": "markdown",
   "id": "e0142264-73c0-4195-9de4-c839a9d4786d",
   "metadata": {},
   "source": [
    "# Silhouette Features"
   ]
  },
  {
   "cell_type": "code",
   "execution_count": null,
   "id": "a7c5ce64-61aa-418a-b76c-005e73263da6",
   "metadata": {},
   "outputs": [],
   "source": [
    "SH = Silhouette()\n",
    "silhouettes = precompute_signature(SH)\n",
    "\n",
    "silhouette_statistics = {}"
   ]
  },
  {
   "cell_type": "markdown",
   "id": "a6028ca1-0ea7-4bcf-8aa6-ef8d0ada9143",
   "metadata": {},
   "source": [
    "L1 norm, mean, SD, Skewness, Kurtosis"
   ]
  },
  {
   "cell_type": "code",
   "execution_count": null,
   "id": "ddd4868e-0ae1-45e4-805e-e0f7861495b2",
   "metadata": {},
   "outputs": [],
   "source": [
    "silhouette_statistics[\"L1\"] = compute_statistics_for_signature(L1_norm, silhouettes)\n",
    "\n",
    "silhouette_statistics[\"Mean\"] = compute_statistics_for_signature(signature_mean, silhouettes)\n",
    "silhouette_statistics[\"Standard_Deviation\"] = compute_statistics_for_signature(signature_standard_deviation, silhouettes)\n",
    "silhouette_statistics[\"Skewness\"] = compute_statistics_for_signature(signature_skewness, silhouettes)\n",
    "silhouette_statistics[\"Kurtosis\"] = compute_statistics_for_signature(signature_kurtosis, silhouettes)"
   ]
  },
  {
   "cell_type": "markdown",
   "id": "d6cd48f3-f8c4-48ea-b606-a1276f09365c",
   "metadata": {},
   "source": [
    "# Save Signature Features"
   ]
  },
  {
   "cell_type": "code",
   "execution_count": null,
   "id": "6215255c-e46a-498b-b26e-161f3186cf45",
   "metadata": {},
   "outputs": [],
   "source": [
    "def create_feature_df(heat_kernel_statistics, betti_curve_statistics, silhouette_statistics, num_diagrams, label):\n",
    "    \"\"\"\n",
    "    Create DataFrame for each label from features\n",
    "\n",
    "    Parameters:\n",
    "    - kernel_densities (list): intensities of heatkernel\n",
    "    - L1_norms (list): L1 norms of signatures\n",
    "    - num_diagrams (int): How many diagrams are there in total?\n",
    "    - label (int): Label for which we want to create a dataframe. 1, 3, 5 or 7.\n",
    "\n",
    "    Returns:\n",
    "    - Feature DataFrame (DataFrame)\n",
    "    \"\"\"\n",
    "    \n",
    "    feature_df = pd.DataFrame(index=np.arange(0, num_diagrams))\n",
    "\n",
    "    for stat in heat_kernel_statistics.keys():\n",
    "        for homology_dim in range(2):\n",
    "            feature_df[\"HeatKernel_Statistic_\"+str(stat)+\"Dim\"+str(homology_dim)] = heat_kernel_statistics[stat][\"Label_\"+str(label)][homology_dim]\n",
    "\n",
    "    for stat in betti_curve_statistics.keys():\n",
    "        for homology_dim in range(2):\n",
    "            feature_df[\"Betti_Curve_Statistic_\"+str(stat)+\"Dim\"+str(homology_dim)] = betti_curve_statistics[stat][\"Label_\"+str(label)][homology_dim]\n",
    "\n",
    "    for stat in silhouette_statistics.keys():\n",
    "        for homology_dim in range(2):\n",
    "            feature_df[\"Silhouette_Statistic_\"+str(stat)+\"Dim\"+str(homology_dim)] = silhouette_statistics[stat][\"Label_\"+str(label)][homology_dim]\n",
    "\n",
    "    # Label\n",
    "    feature_df[\"Label\"] = label\n",
    "\n",
    "    return feature_df"
   ]
  },
  {
   "cell_type": "code",
   "execution_count": null,
   "id": "9660f153-6361-4b79-9730-dd1be5752132",
   "metadata": {},
   "outputs": [],
   "source": [
    "dataframes = {}\n",
    "\n",
    "for label in label_list:\n",
    "    dataframes[\"Label_\"+str(label)] = create_feature_df(heat_kernel_statistics, betti_curve_statistics, silhouette_statistics, 75, label)"
   ]
  },
  {
   "cell_type": "code",
   "execution_count": null,
   "id": "e69200f1-22bb-4db6-ab11-3a172475b565",
   "metadata": {},
   "outputs": [],
   "source": [
    "# Concatenate and save features of training persistence diagrams\n",
    "# TODO make the creation of this dataframe nicer\n",
    "feature_df = pd.concat([dataframes[\"Label_\"+str(0)], dataframes[\"Label_\"+str(1)], dataframes[\"Label_\"+str(2)], dataframes[\"Label_\"+str(3)], dataframes[\"Label_\"+str(4)]], ignore_index=True)\n",
    "feature_df.to_csv(\"Features/\"+str(subject)+\"/Signature_Statistics.csv\")"
   ]
  },
  {
   "cell_type": "code",
   "execution_count": null,
   "id": "32110146-db4c-41ed-996f-d333c2a2525e",
   "metadata": {},
   "outputs": [],
   "source": []
  },
  {
   "cell_type": "code",
   "execution_count": null,
   "id": "e046c236-a82e-407a-88dd-547a06003f8c",
   "metadata": {},
   "outputs": [],
   "source": []
  }
 ],
 "metadata": {
  "kernelspec": {
   "display_name": "Python 3 (ipykernel)",
   "language": "python",
   "name": "python3"
  },
  "language_info": {
   "codemirror_mode": {
    "name": "ipython",
    "version": 3
   },
   "file_extension": ".py",
   "mimetype": "text/x-python",
   "name": "python",
   "nbconvert_exporter": "python",
   "pygments_lexer": "ipython3",
   "version": "3.10.12"
  }
 },
 "nbformat": 4,
 "nbformat_minor": 5
}
