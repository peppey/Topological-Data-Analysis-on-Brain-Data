{
 "cells": [
  {
   "cell_type": "code",
   "execution_count": null,
   "id": "e9f3ffa4-2d95-4158-8ac6-92b145e05e0b",
   "metadata": {},
   "outputs": [],
   "source": [
    "import pandas as pd\n",
    "import numpy as np\n",
    "from sklearn.ensemble import RandomForestClassifier\n",
    "from sklearn.metrics import accuracy_score, confusion_matrix, precision_score, recall_score, ConfusionMatrixDisplay\n",
    "from sklearn.model_selection import RandomizedSearchCV\n",
    "from gtda.diagrams import PersistenceEntropy, Amplitude, NumberOfPoints, ComplexPolynomial, PersistenceLandscape, HeatKernel, Silhouette, BettiCurve, PairwiseDistance, PersistenceImage \n",
    "from gtda.plotting import plot_point_cloud\n",
    "from scipy.stats import randint\n",
    "import matplotlib.pyplot as plt\n",
    "import seaborn as sns\n",
    "from hausdorff import hausdorff_distance\n",
    "import numpy as np\n",
    "import pickle as pickle\n",
    "import gudhi as gd  \n",
    "from pylab import *\n",
    "from mpl_toolkits.mplot3d import Axes3D\n",
    "from numpy.linalg import norm\n",
    "from sklearn.decomposition import KernelPCA\n",
    "import plotly.io as pio\n",
    "import random\n",
    "import h5py\n",
    "import cv2\n",
    "from sklearn.linear_model import LinearRegression\n",
    "import matplotlib.pyplot as plt\n",
    "from mpl_toolkits.mplot3d import Axes3D  # Importing this for 3D plotting\n",
    "import umap.umap_ as umap  # Correcting the import for UMAP\n",
    "\n",
    "\n",
    "%matplotlib inline"
   ]
  },
  {
   "cell_type": "code",
   "execution_count": null,
   "id": "c09ac6fc-7e15-46b6-8f19-782d0ff3d2cc",
   "metadata": {},
   "outputs": [],
   "source": [
    "# choose individuum\n",
    "subject = \"m292\""
   ]
  },
  {
   "cell_type": "markdown",
   "id": "d96ef8fb-0483-47c0-a098-4765de47b4f5",
   "metadata": {},
   "source": [
    "# Load data"
   ]
  },
  {
   "cell_type": "code",
   "execution_count": null,
   "id": "2f7463f4-a679-42a0-ae59-1780b29714e9",
   "metadata": {},
   "outputs": [],
   "source": [
    "label_list = [0, 1, 2, 3, 4]"
   ]
  },
  {
   "cell_type": "code",
   "execution_count": null,
   "id": "91636719-564d-448e-aa0c-2041c5810715",
   "metadata": {},
   "outputs": [],
   "source": [
    "# All features\n",
    "feature_df  = pd.read_csv(\"Features/All_Features.csv\")"
   ]
  },
  {
   "cell_type": "code",
   "execution_count": null,
   "id": "0bab9b24-86ce-4009-b3c7-2b833a1dbe5f",
   "metadata": {},
   "outputs": [],
   "source": [
    "# Load persistence diagrams\n",
    "persistence_diagrams = np.load(\"Embeddings_and_Persistence_Diagrams/\"+str(subject)+\"/Persistence_Diagrams.npy\", allow_pickle=True).item()# TODO do this in Preprocessing_And_Computing_..."
   ]
  },
  {
   "cell_type": "code",
   "execution_count": null,
   "id": "d3476e00-03b6-4b1a-831e-f5684a763c9e",
   "metadata": {},
   "outputs": [],
   "source": [
    "extended_persistence_diagrams  = np.load('Embeddings_and_Persistence_Diagrams/'+str(subject)+'/Extended_Persistence_Diagrams.npz', \\\n",
    "    allow_pickle=True)"
   ]
  },
  {
   "cell_type": "code",
   "execution_count": null,
   "id": "7400c721-5223-486b-bc64-f2300d705287",
   "metadata": {},
   "outputs": [],
   "source": [
    "dataframes = {}\n",
    "\n",
    "label_list = [0,1,2,3,4] \n",
    "\n",
    "n_folds = 5\n",
    "\n",
    "for label in label_list:\n",
    "    filename = \"Data/\"+str(subject)+\"/run0\"+str(label)+\"/Brain_Imaging_Data.h5\"\n",
    "    file = h5py.File(filename,'r')\n",
    "    dataframes[label] = file['Data']"
   ]
  },
  {
   "cell_type": "code",
   "execution_count": null,
   "id": "06b64c91-2b25-41b2-ac3d-ba5c3ac61cee",
   "metadata": {},
   "outputs": [],
   "source": [
    "most_representative_diagrams = {}\n",
    "\n",
    "for label in label_list:\n",
    "    most_representative_diagrams[\"Label_\"+str(label)] =  np.load('Embeddings_and_Persistence_Diagrams/'+str(subject)+'/Most_Representative_Diagrams_(Extended_Diagrams)_Label_'+str(label)+'.npy', \\\n",
    "                allow_pickle=True).item()[\"Label_\"+str(label)] # .item() to convert the dtype to dict again\n"
   ]
  },
  {
   "cell_type": "markdown",
   "id": "50f51ff1-370a-4605-8269-b6406011fbc0",
   "metadata": {},
   "source": [
    "# Analyze Original Data"
   ]
  },
  {
   "cell_type": "code",
   "execution_count": null,
   "id": "a2878470-a822-4ed9-a7ec-0d15febb15e9",
   "metadata": {},
   "outputs": [],
   "source": [
    "def plot_correlation_with_std(labels, mean_values, std_values, y_axis_name):\n",
    "    # Create scatter plot with error bars\n",
    "    plt.errorbar(labels, mean_values, yerr=std_values, fmt='o', color='darkblue', ecolor='skyblue', capsize=4, markersize=8)\n",
    "\n",
    "    # Set labels and title\n",
    "    plt.xlabel('Labels', fontsize=14)\n",
    "    plt.ylabel(y_axis_name, fontsize=14)\n",
    "\n",
    "    # Fit linear regression model\n",
    "    X = np.array(labels).reshape(-1, 1)  # Reshape to 2D array for sklearn\n",
    "    model = LinearRegression()\n",
    "    model.fit(X, mean_values)\n",
    "\n",
    "    # Predict y-values using the linear regression model\n",
    "    regression_line = model.predict(X)\n",
    "\n",
    "    # Plot linear regression line\n",
    "    plt.plot(labels, regression_line, color='indianred', linestyle='-', label='Ideal linear relationship', linewidth = 0.6)\n",
    "\n",
    "    # Calculate extended line coordinates\n",
    "    x_extended = np.array([-1, 5]).reshape(-1, 1)\n",
    "    y_extended = model.predict(x_extended)\n",
    "\n",
    "    # Plot extended line\n",
    "    plt.plot(x_extended, y_extended, color='indianred', linestyle='--', linewidth = 0.6)\n",
    "\n",
    "    # Set font size for ticks\n",
    "    plt.xticks(fontsize=12)\n",
    "    plt.yticks(fontsize=12)\n",
    "\n",
    "    plt.xlim(-0.5, 4.5)\n",
    "\n",
    "\n",
    "    # Save the plot as a PNG file\n",
    "    plt.tight_layout()  \n",
    "    plt.savefig('Plots/'+y_axis_name+'.png')\n",
    "\n",
    "    # Show plot\n",
    "    plt.show()\n"
   ]
  },
  {
   "cell_type": "code",
   "execution_count": null,
   "id": "79846b8e-d38c-4a57-aeb0-aab8b773a799",
   "metadata": {},
   "outputs": [],
   "source": [
    "brightnesses = {}\n",
    "\n",
    "for label in label_list:\n",
    "    brightnesses[label] = []\n",
    "    for image in dataframes[label]:\n",
    "        # Convert image to grayscale\n",
    "\n",
    "        # Calculate average pixel intensity\n",
    "        average_intensity = cv2.mean(image)[0]\n",
    "\n",
    "        brightnesses[label].append(average_intensity)\n",
    "\n",
    "    "
   ]
  },
  {
   "cell_type": "code",
   "execution_count": null,
   "id": "64fcd8d5-e4c5-4398-854a-f47c07380e70",
   "metadata": {},
   "outputs": [],
   "source": [
    "mean_intentities = []\n",
    "intensities_stds = []\n",
    "\n",
    "for label in label_list:\n",
    "    mean_intentities.append(np.mean(brightnesses[label]))\n",
    "    intensities_stds.append(np.std(brightnesses[label]))\n"
   ]
  },
  {
   "cell_type": "code",
   "execution_count": null,
   "id": "0a72d5f4-d992-4766-af58-4cfffa2123eb",
   "metadata": {},
   "outputs": [],
   "source": [
    "labels = [\"0\", \"1\", \"2\", \"3\", \"4\"]\n",
    "\n",
    "\n",
    "plot_correlation_with_std(labels, mean_intentities, intensities_stds, \"Mean Intensity\")\n"
   ]
  },
  {
   "cell_type": "markdown",
   "id": "6d740c14-ab0b-460a-8ef8-9d844c1f30b6",
   "metadata": {},
   "source": [
    "# Dissimilarity Matrix"
   ]
  },
  {
   "cell_type": "code",
   "execution_count": null,
   "id": "c9cbd3e1-e113-4784-b552-e73fdedb9526",
   "metadata": {},
   "outputs": [],
   "source": [
    "# TODO create helper functions for these\n",
    "\n",
    "def find_largest_dimension(persistence_diagrams, label_list):\n",
    "    \"\"\"\n",
    "    Find the length of the longest list in a list of lists.\n",
    "\n",
    "    Parameters:\n",
    "    - persistence_diagrams (dictionary): List of persistence diagrams, with labels as keys.\n",
    "    - label_list (list): List of all labels.\n",
    "\n",
    "    Returns:\n",
    "    - longest_lengths_each_dimension (dictionary): Highest amount of holes in a persistence diagram for each dimension.\n",
    "    \"\"\"\n",
    "\n",
    "    # Initialize highest number of holes of each dimension for each label\n",
    "    longest_lengths_each_dimension = {}\n",
    "    for label in label_list:\n",
    "        longest_lengths_each_dimension[\"Label_\"+str(label)] = {}\n",
    "\n",
    "        for hole_dim in range(3):\n",
    "            longest_lengths_each_dimension[\"Label_\"+str(label)][\"Hole_Dim_\"+str(hole_dim)] = 0\n",
    "\n",
    "    for label in label_list:\n",
    "\n",
    "        # Only look at persistence diagrams of current label\n",
    "        persistence_diagrams_with_label = persistence_diagrams[\"Label_\"+str(label)]\n",
    "\n",
    "\n",
    "        # For each hole dimension (between 0 and 2), find the largest amount of holes\n",
    "        # of this dimension which there is in one of the persistence diagrams\n",
    "        \n",
    "        for hole_dim in range(3):\n",
    "\n",
    "            # for the current hole dimension, count the amount of holes in each diagram\n",
    "            for diagram in persistence_diagrams_with_label:\n",
    "                current_number_of_holes_of_hole_dim = 0 # Initialize\n",
    "                \n",
    "                for hole in diagram[0]: # the holes are nested, so take diagram[0]\n",
    "                    # only take those holes of the current hole dimension into account\n",
    "                    # (the hole dimension is indicated by the 3rd entry of the hole)\n",
    "                    if hole[2] == hole_dim:\n",
    "                        current_number_of_holes_of_hole_dim += 1\n",
    "\n",
    "                # If the amount of holes of the current diagram is higher than the \n",
    "                # previous highest number of holes, redefine the highest number\n",
    "                if current_number_of_holes_of_hole_dim > longest_lengths_each_dimension[\"Label_\"+str(label)][\"Hole_Dim_\"+str(hole_dim)]:\n",
    "                    longest_lengths_each_dimension[\"Label_\"+str(label)][\"Hole_Dim_\"+str(hole_dim)] = current_number_of_holes_of_hole_dim\n",
    "\n",
    "    # Because this is what we want in this case, compute the overall longest dimensions which we will use for all labels\n",
    "    longest_lengths_each_dimension_overall = {key: max(label_dict[key] for label_dict in longest_lengths_each_dimension.values())\n",
    "    for key in ['Hole_Dim_0', 'Hole_Dim_1', 'Hole_Dim_2']}\n",
    "    \n",
    "    return longest_lengths_each_dimension_overall\n",
    "\n",
    "\n",
    "def extend_diagrams_to_largest_dimensions(persistence_diagrams, desired_lengths_each_dimension, label_list):\n",
    "    \"\"\"\n",
    "    Extend all persistence diagrams to the largest dimension \n",
    "    by appending (0, 0, hole_dim) tuples.\n",
    "\n",
    "    Parameters:\n",
    "    - persistence_diagrams (dict): List of persistence_diagrams of each label.\n",
    "    - longest_lengths_each_dimension_overall (dict): Contains the wished amount of holes for each dimension.\n",
    "    - label_list (list): List of all labels.\n",
    "\n",
    "    Returns:\n",
    "    - extended_persistence_diagrams (dict): List of extended eprsistence_diagrams for each label.\n",
    "    \"\"\"\n",
    "\n",
    "    # Initialize dictionary of extended persistence diagrams (with labels as keys)\n",
    "    extended_persistence_diagrams = {}\n",
    "\n",
    "    for label in label_list:\n",
    "\n",
    "        # Initialize extended persistence diagrams for current label\n",
    "        extended_persistence_diagrams[\"Label_\"+str(label)] = []\n",
    "        \n",
    "        # Only look at persistence diagrams of current label\n",
    "        persistence_diagrams_with_label = persistence_diagrams[\"Label_\"+str(label)]\n",
    "\n",
    "        # Extend each diagram to the highest number of holes for each dimension\n",
    "        for diagram in persistence_diagrams_with_label:\n",
    "\n",
    "            extended_diagram = list(diagram[0])\n",
    "            \n",
    "            for hole_dim in range(3):\n",
    "\n",
    "                # the persistence diagrams are nested, so take diagram[0]                    \n",
    "                current_number_of_holes_of_hole_dim = sum(1 for hole in diagram[0] if hole[2] == hole_dim)\n",
    "\n",
    "\n",
    "                holes_to_append = [[0, 0, hole_dim]] * (desired_lengths_each_dimension[\"Hole_Dim_\"+str(hole_dim)] - current_number_of_holes_of_hole_dim)\n",
    "                extended_diagram = extended_diagram + holes_to_append\n",
    "                \n",
    "            extended_persistence_diagrams[\"Label_\"+str(label)].append(extended_diagram)\n",
    "            \n",
    "    return extended_persistence_diagrams\n"
   ]
  },
  {
   "cell_type": "code",
   "execution_count": null,
   "id": "33116739-3ec5-447e-ba9e-68cc376ebf55",
   "metadata": {},
   "outputs": [],
   "source": [
    "reshaped_barycenters = {}\n",
    "\n",
    "for label in label_list:\n",
    "    reshaped_barycenters[\"Label_\"+str(label)] = [most_representative_diagrams[\"Label_\"+str(label)]]"
   ]
  },
  {
   "cell_type": "code",
   "execution_count": null,
   "id": "06b43913-d101-439f-96d6-b524c713f037",
   "metadata": {},
   "outputs": [],
   "source": [
    "longest_lengths_each_dimension_overall = find_largest_dimension(reshaped_barycenters, label_list)\n",
    "extended_barycenters = extend_diagrams_to_largest_dimensions(reshaped_barycenters, longest_lengths_each_dimension_overall, label_list)"
   ]
  },
  {
   "cell_type": "code",
   "execution_count": null,
   "id": "ebddf716-823f-442d-b40b-92f8bd1325dc",
   "metadata": {},
   "outputs": [],
   "source": [
    "reshaped_barycenters = {}\n",
    "\n",
    "for label in label_list:\n",
    "    reshaped_barycenters[\"Label_\"+str(label)] = extended_barycenters[\"Label_\"+str(label)][0]"
   ]
  },
  {
   "cell_type": "code",
   "execution_count": null,
   "id": "f823b625-f855-42c2-96eb-ac2833d0c66f",
   "metadata": {},
   "outputs": [],
   "source": [
    "# Wasserstein barycenter\n",
    "pairwise_distances = PairwiseDistance(metric=\"wasserstein\").fit_transform(list(reshaped_barycenters.values()))\n",
    "\n",
    "# plot it with seaborn\n",
    "plt.figure(figsize=(10,10))\n",
    "ax = sns.heatmap(pairwise_distances,\n",
    "    cmap='inferno', \n",
    "    linewidth=1,\n",
    "    xticklabels=[0, 1, 2, 3, 4],\n",
    "    yticklabels=[0, 1, 2, 3, 4],\n",
    "    cbar_kws={'shrink': 1}\n",
    ")\n",
    "\n",
    "\n",
    "# Change the font size of the x and y tick labels\n",
    "ax.set_xticklabels(ax.get_xticklabels(), fontsize=18)\n",
    "ax.set_yticklabels(ax.get_yticklabels(), fontsize=18)\n",
    "\n",
    "ax.set_xlabel('Label', fontsize=20)\n",
    "ax.set_ylabel('Label', fontsize=20)\n",
    "\n",
    "\n",
    "plt.savefig('Plots/Dissimilarity_Matrix_Barycenters_'+str(subject)+'.png', dpi=300, bbox_inches='tight')\n",
    "\n",
    "# Show the plot\n",
    "plt.show()"
   ]
  },
  {
   "cell_type": "markdown",
   "id": "6e2161ec-743c-443e-a514-632c5c839f3b",
   "metadata": {},
   "source": [
    "# Signatures"
   ]
  },
  {
   "cell_type": "markdown",
   "id": "f0638a21-cd18-45dd-a6fb-1d57e64bb6dc",
   "metadata": {},
   "source": [
    "## Heat Kernel"
   ]
  },
  {
   "cell_type": "code",
   "execution_count": null,
   "id": "50a8053f-7236-4c31-9035-b9141ae597d9",
   "metadata": {},
   "outputs": [],
   "source": [
    "HK = HeatKernel(sigma=1000, n_bins=100)"
   ]
  },
  {
   "cell_type": "code",
   "execution_count": null,
   "id": "a62588d8-920d-4ba4-ae6a-54dd249a45f8",
   "metadata": {},
   "outputs": [],
   "source": [
    "def heat_kernel_intensity(heatkernel, homology_dimension):\n",
    "    \"\"\" Computes mean intensity of a heatkernel. Only takes positive values because otherwise the mean would\n",
    "      always be zero.\n",
    "\n",
    "    Parameters:\n",
    "    - heatkernel (list of lists): heatkernel of all homology dimensions\n",
    "    - homology_dimension (int): Which homology dimension to look at (0, 1 or 2)\n",
    "\n",
    "    Returns:\n",
    "    - mean intensity of heatkernel of homology dimension homology_dimension\n",
    "    \"\"\"\n",
    "    \n",
    "    positives =  [x for inner_list in heatkernel[0][homology_dimension] for x in inner_list if x > 0]\n",
    "    \n",
    "    return np.mean(positives)"
   ]
  },
  {
   "cell_type": "code",
   "execution_count": null,
   "id": "d7be4e62-1dc6-4ec5-9b4f-1c424c6a0a8c",
   "metadata": {},
   "outputs": [],
   "source": [
    "label = 4\n",
    "heatkernel = HK.fit_transform(most_representative_diagrams[\"Label_\"+str(label)])"
   ]
  },
  {
   "cell_type": "code",
   "execution_count": null,
   "id": "4c2dbfa4-904c-463c-a574-381b0696ba43",
   "metadata": {},
   "outputs": [],
   "source": [
    "print(\"Heat kernel intensity of label \"+str(label)+\"  for homology dimension 0: \" + str(heat_kernel_intensity(heatkernel, 0)))\n",
    "\n",
    "plotly_params = {\n",
    "    \"layout\": {\n",
    "        \"title\": {\n",
    "            \"text\": \"\",\n",
    "            \"x\": 0.5,  # Center the title horizontally\n",
    "            \"xanchor\": \"center\",  # Anchor the title text at the center\n",
    "        },\n",
    "        \"width\": 800,\n",
    "        \"height\": 650,\n",
    "        \"xaxis\": {\n",
    "            \"title\": \"Birth\",  # Add label for x-axis\n",
    "            \"titlefont\": {\"size\": 22},  # Set font size for x-axis label\n",
    "            \"tickfont\": {\"size\": 18}  # Set font size for x-axis ticks\n",
    "        },\n",
    "        \"yaxis\": {\n",
    "            \"title\": \"Death\",  # Add label for y-axis\n",
    "            \"titlefont\": {\"size\": 22},  # Set font size for y-axis label\n",
    "            \"tickfont\": {\"size\": 18}  # Set font size for y-axis ticks\n",
    "        }\n",
    "    }\n",
    "}\n",
    "\n",
    "fig = HK.plot(heatkernel, homology_dimension_idx=0, colorscale='jet', plotly_params=plotly_params)\n",
    "\n",
    "fig.show()\n",
    "\n",
    "# Save the plot as an image (PNG format)\n",
    "pio.write_image(fig, \"Plots/Heatkernel of Dimension 0 (Label \"+str(label)+\").png\")"
   ]
  },
  {
   "cell_type": "code",
   "execution_count": null,
   "id": "99e04e49-3d28-4a73-95cc-7eb4edb5a09f",
   "metadata": {},
   "outputs": [],
   "source": [
    "print(\"Heat kernel intensity of label \"+str(label)+\" for homology dimension 1: \" + str(heat_kernel_intensity(heatkernel, 1)))\n",
    "\n",
    "# Parameters for plotting\n",
    "plotly_params = {\n",
    "    \"layout\": {\n",
    "        \"title\": {\n",
    "            \"text\": \"\",\n",
    "            \"x\": 0.5,  # Center the title horizontally\n",
    "            \"xanchor\": \"center\",  # Anchor the title text at the center\n",
    "        },\n",
    "        \"width\": 800,\n",
    "        \"height\": 650,\n",
    "        \"xaxis\": {\n",
    "            \"title\": \"Birth\",  # Add label for x-axis\n",
    "            \"titlefont\": {\"size\": 22},  # Set font size for x-axis label\n",
    "            \"tickfont\": {\"size\": 18}  # Set font size for x-axis ticks\n",
    "        },\n",
    "        \"yaxis\": {\n",
    "            \"title\": \"Death\",  # Add label for y-axis\n",
    "            \"titlefont\": {\"size\": 22},  # Set font size for y-axis label\n",
    "            \"tickfont\": {\"size\": 18}  # Set font size for y-axis ticks\n",
    "        }\n",
    "    }\n",
    "}\n",
    "\n",
    "fig = HK.plot(heatkernel, homology_dimension_idx=1, colorscale='jet', plotly_params=plotly_params)\n",
    "\n",
    "fig.show()\n",
    "\n",
    "# Save the plot as an image (PNG format)\n",
    "pio.write_image(fig, \"Plots/Heatkernel of Dimension 1 (Label \"+str(label)+\").png\")"
   ]
  },
  {
   "cell_type": "code",
   "execution_count": null,
   "id": "7d07fe6c-0929-473b-9134-52f07483ade7",
   "metadata": {},
   "outputs": [],
   "source": [
    "print(\"Heat kernel intensity of label \"+str(label)+\" for homology dimension 2: \" + str(heat_kernel_intensity(heatkernel, 2)))\n",
    "\n",
    "# Parameters for plotting\n",
    "plotly_params = {\n",
    "    \"layout\": {\n",
    "        \"title\": {\n",
    "            \"text\": \"\",\n",
    "            \"x\": 0.5,  # Center the title horizontally\n",
    "            \"xanchor\": \"center\",  # Anchor the title text at the center\n",
    "        },\n",
    "        \"width\": 800,\n",
    "        \"height\": 650,\n",
    "        \"xaxis\": {\n",
    "            \"title\": \"Birth\",  # Add label for x-axis\n",
    "            \"titlefont\": {\"size\": 22},  # Set font size for x-axis label\n",
    "            \"tickfont\": {\"size\": 18}  # Set font size for x-axis ticks\n",
    "        },\n",
    "        \"yaxis\": {\n",
    "            \"title\": \"Death\",  # Add label for y-axis\n",
    "            \"titlefont\": {\"size\": 22},  # Set font size for y-axis label\n",
    "            \"tickfont\": {\"size\": 18}  # Set font size for y-axis ticks\n",
    "        }\n",
    "    }\n",
    "}\n",
    "\n",
    "fig = HK.plot(heatkernel, homology_dimension_idx=2, colorscale='jet', plotly_params=plotly_params)\n",
    "\n",
    "fig.show()\n",
    "\n",
    "# Save the plot as an image (PNG format)\n",
    "pio.write_image(fig, \"Plots/Heatkernel of Dimension 2 (Label \"+str(label)+\").png\")"
   ]
  },
  {
   "cell_type": "markdown",
   "id": "648911c9-8224-40b3-8254-c416dc4459c6",
   "metadata": {},
   "source": [
    "# Choose subset of persistence diagrams to take into account"
   ]
  },
  {
   "cell_type": "markdown",
   "id": "157f63f5-cab5-45d6-8cd0-816f3c18527b",
   "metadata": {},
   "source": [
    "# Persistence Landscape"
   ]
  },
  {
   "cell_type": "code",
   "execution_count": null,
   "id": "b738eb09-67a9-4149-a298-274d07c3354d",
   "metadata": {},
   "outputs": [],
   "source": [
    "PL = PersistenceLandscape()"
   ]
  },
  {
   "cell_type": "code",
   "execution_count": null,
   "id": "9d12b675-bd5a-476c-9886-e790f76af13f",
   "metadata": {},
   "outputs": [],
   "source": [
    "label = 0\n",
    "\n",
    "landscape = PL.fit_transform(most_representative_diagrams[\"Label_\"+str(label)])\n",
    "\n",
    "# Parameters for Plotting\n",
    "plotly_params = {\n",
    "    \"layout\": {\n",
    "        \"showlegend\": False,  # Hide the legend\n",
    "        \"title\": \"\", # Remove the title\n",
    "        \"height\": 500,  # Set the desired height in pixels\n",
    "        \"margin\": dict(l=150, r=50, t=50, b=100)  # Adjust margins if needed\n",
    "    }\n",
    "}\n"
   ]
  },
  {
   "cell_type": "code",
   "execution_count": null,
   "id": "65039d92-614c-4e70-8771-180f26588245",
   "metadata": {},
   "outputs": [],
   "source": [
    "# Generate the initial plot\n",
    "fig = PL.plot(landscape, homology_dimensions=[0, 1, 2], plotly_params=plotly_params)\n",
    "\n",
    "# Update trace names to change legend text\n",
    "for i, trace in enumerate(fig.data):\n",
    "    if i == 0:\n",
    "        trace.name = \"Dim 0\"\n",
    "    elif i == 1:\n",
    "        trace.name = \"Dim 1\"\n",
    "    elif i == 2:\n",
    "        trace.name = \"Dim 2\"\n",
    "\n",
    "# Update layout to add combined axis labels and increase legend font size\n",
    "fig.update_layout(\n",
    "    annotations=[\n",
    "        dict(\n",
    "            text=\"Filtration Parameter\",\n",
    "            x=0.5,\n",
    "            y=-0.2,\n",
    "            xref=\"paper\",\n",
    "            yref=\"paper\",\n",
    "            showarrow=False,\n",
    "            font=dict(size=18)\n",
    "        ),\n",
    "        dict(\n",
    "            text=\"Persistence\",\n",
    "            x=-0.1,\n",
    "            y=0.5,\n",
    "            xref=\"paper\",\n",
    "            yref=\"paper\",\n",
    "            showarrow=False,\n",
    "            textangle=-90,\n",
    "            font=dict(size=18)\n",
    "        )\n",
    "    ],\n",
    "    margin=dict(l=100, r=20, t=100, b=100),  # Adjust margins if necessary\n",
    "    legend=dict(\n",
    "        font=dict(\n",
    "            size=18  # Set the desired font size for the legend\n",
    "        )\n",
    "    )\n",
    ")\n",
    "\n",
    "fig.show()\n",
    "\n",
    "\n",
    "# Save the plot as an image (PNG format)\n",
    "pio.write_image(fig, \"Plots/Brain_Imaging_Landscape (Label \"+str(label)+\").png\")"
   ]
  },
  {
   "cell_type": "markdown",
   "id": "cc5cbf61-2a4f-4063-bc1a-b0add2444a2c",
   "metadata": {},
   "source": [
    "# Silhouette"
   ]
  },
  {
   "cell_type": "code",
   "execution_count": null,
   "id": "3207d406-6955-49b7-924e-706182ec12d7",
   "metadata": {},
   "outputs": [],
   "source": [
    "SH = Silhouette()"
   ]
  },
  {
   "cell_type": "code",
   "execution_count": null,
   "id": "7d5a4681-da92-4289-bec6-c2ceb6a3adde",
   "metadata": {},
   "outputs": [],
   "source": [
    "label = 4\n",
    "silhouette = SH.fit_transform(most_representative_diagrams[\"Label_\"+str(label)])\n"
   ]
  },
  {
   "cell_type": "code",
   "execution_count": null,
   "id": "8eff1555-b453-43b7-8283-54456c425883",
   "metadata": {},
   "outputs": [],
   "source": [
    "# Parameters for Plotting\n",
    "plotly_params = {\n",
    "    \"layout\": {\n",
    "        \"showlegend\": True,  # Hide the legend\n",
    "        \"title\": \"\", # Remove the title\n",
    "        \"height\": 300,  # Set the desired height in pixels\n",
    "        \"margin\": dict(l=100, r=50, t=50, b=100),\n",
    "        \"xaxis\": {\n",
    "            \"titlefont\": {\"size\": 22},  # Set font size for x-axis label\n",
    "            \"tickfont\": {\"size\": 18}  # Set font size for x-axis ticks\n",
    "        },\n",
    "        \"yaxis\": {\n",
    "            \"title\": \"Silhouette Value\",  # Add label for y-axis\n",
    "            \"titlefont\": {\"size\": 22},  # Set font size for y-axis label\n",
    "            \"tickfont\": {\"size\": 18}  # Set font size for y-axis ticks\n",
    "        }\n",
    "    }\n",
    "}\n",
    "\n",
    "fig = SH.plot(silhouette, homology_dimensions=[0, 1, 2], plotly_params=plotly_params)\n",
    "\n",
    "fig.show()\n",
    "\n",
    "# Save the plot as an image (PNG format)\n",
    "pio.write_image(fig, \"Plots/Brain_Imaging_Silhouette (Label \"+str(label)+\").png\")"
   ]
  },
  {
   "cell_type": "markdown",
   "id": "45dc037f-b057-4eed-8b3f-7dc671ff5b8a",
   "metadata": {},
   "source": [
    "# Betti Curve"
   ]
  },
  {
   "cell_type": "code",
   "execution_count": null,
   "id": "ff46176d-ae7c-4a24-be66-f6d5dcf23a97",
   "metadata": {},
   "outputs": [],
   "source": [
    "BC = BettiCurve()"
   ]
  },
  {
   "cell_type": "code",
   "execution_count": null,
   "id": "a28594b0-3827-4850-aa1d-6d31d12c3741",
   "metadata": {},
   "outputs": [],
   "source": [
    "# Parameters for Plotting\n",
    "plotly_params = {\n",
    "    \"layout\": {\n",
    "        \"showlegend\": True,  # Hide the legend\n",
    "        \"title\": \"\", # Remove the title\n",
    "        \"height\": 300,  # Set the desired height in pixels\n",
    "        \"margin\": dict(l=100, r=50, t=50, b=100),\n",
    "        \"xaxis\": {\n",
    "            \"titlefont\": {\"size\": 22},  # Set font size for x-axis label\n",
    "            \"tickfont\": {\"size\": 18}  # Set font size for x-axis ticks\n",
    "        },\n",
    "        \"yaxis\": {\n",
    "            \"title\": \"Betti Number\",  # Add label for y-axis\n",
    "            \"titlefont\": {\"size\": 22},  # Set font size for y-axis label\n",
    "            \"tickfont\": {\"size\": 18}  # Set font size for y-axis ticks\n",
    "        }\n",
    "    }\n",
    "}\n"
   ]
  },
  {
   "cell_type": "code",
   "execution_count": null,
   "id": "be025316-1592-4f6b-90f2-9c06b42504ab",
   "metadata": {},
   "outputs": [],
   "source": [
    "label = 0\n",
    "betti_curve = BC.fit_transform_plot(most_representative_diagrams[\"Label_\"+str(label)]) # memory efficient enough"
   ]
  },
  {
   "cell_type": "code",
   "execution_count": null,
   "id": "33083671-8c3e-4cb9-8d61-e71e4069e25a",
   "metadata": {},
   "outputs": [],
   "source": [
    "\n",
    "fig = BC.plot(betti_curve, homology_dimensions=[0, 1, 2], plotly_params=plotly_params)\n",
    "\n",
    "fig.show()\n",
    "\n",
    "# Save the plot as an image (PNG format)\n",
    "pio.write_image(fig, \"Plots/Brain_Imaging_Betti_Curve (Label \"+str(label)+\").png\")"
   ]
  },
  {
   "cell_type": "markdown",
   "id": "75b3b957-eaa4-4b00-98b8-c199629551d3",
   "metadata": {},
   "source": [
    "# Persistence Images"
   ]
  },
  {
   "cell_type": "code",
   "execution_count": null,
   "id": "e2659ba0-2b3f-4451-aa8b-240d2b6ff108",
   "metadata": {},
   "outputs": [],
   "source": [
    "PI = PersistenceImage(sigma=1000, n_bins=100)"
   ]
  },
  {
   "cell_type": "code",
   "execution_count": null,
   "id": "f622b2d1-4a67-40bd-b29f-9d53cce8d9e1",
   "metadata": {},
   "outputs": [],
   "source": [
    "label = 4\n",
    "persistence_image = PI.fit_transform(most_representative_diagrams[\"Label_\"+str(label)])"
   ]
  },
  {
   "cell_type": "code",
   "execution_count": null,
   "id": "e5f2a5f1-394a-47e4-90f8-429e59a54790",
   "metadata": {},
   "outputs": [],
   "source": [
    "# Parameters for plotting\n",
    "\n",
    "plotly_params = {\n",
    "    \"layout\": {\n",
    "        \"title\": {\n",
    "            \"text\": \"\",\n",
    "            \"x\": 0.5,  # Center the title horizontally\n",
    "            \"xanchor\": \"center\",  # Anchor the title text at the center\n",
    "        },\n",
    "        \"width\": 800,\n",
    "        \"height\": 650,\n",
    "        \"xaxis\": {\n",
    "            \"title\": \"Birth\",  # Add label for x-axis\n",
    "            \"titlefont\": {\"size\": 22},  # Set font size for x-axis label\n",
    "            \"tickfont\": {\"size\": 18}  # Set font size for x-axis ticks\n",
    "        },\n",
    "        \"yaxis\": {\n",
    "            \"title\": \"Death\",  # Add label for y-axis\n",
    "            \"titlefont\": {\"size\": 22},  # Set font size for y-axis label\n",
    "            \"tickfont\": {\"size\": 18}  # Set font size for y-axis ticks\n",
    "        }\n",
    "    }\n",
    "}\n",
    "\n",
    "fig = PI.plot(persistence_image, homology_dimension_idx=0, colorscale='jet', plotly_params=plotly_params)\n",
    "\n",
    "fig.show()\n",
    "\n",
    "# Save the plot as an image (PNG format)\n",
    "pio.write_image(fig, \"Plots/Brain_Imaging_Persistence_Image (Label \"+str(label)+\").png\")"
   ]
  },
  {
   "cell_type": "markdown",
   "id": "502fa971-bef1-43cb-9ebd-aa0d0322822a",
   "metadata": {},
   "source": [
    "# Dimensionality reduced visualizations of Signature Vectorizations"
   ]
  },
  {
   "cell_type": "markdown",
   "id": "4d57b7a7-0a09-4803-b1e3-676393534261",
   "metadata": {},
   "source": [
    "First of all, combine all (extended persistence diagrams) to later examine the visualizations for clusters."
   ]
  },
  {
   "cell_type": "code",
   "execution_count": null,
   "id": "b7aec85b-3e2b-4eb5-b6bf-87ed69c72310",
   "metadata": {},
   "outputs": [],
   "source": [
    "\n",
    "def separate_signature_according_to_dimension(signature):\n",
    "    \"\"\"\n",
    "    Separate the landscape vectors according to each dimension.\n",
    "\n",
    "    Parameters:\n",
    "    - signature (list): Signature vector.\n",
    "\n",
    "    Returns:\n",
    "    - vectors (dict): Dictionary containing lists of vectors for each dimension.\n",
    "    \"\"\"\n",
    "    vectors = {}\n",
    "    \n",
    "    for hom_dim in range(2):\n",
    "        vectors[\"Dimension_\" + str(hom_dim)] = []\n",
    "        \n",
    "        for vector_for_single_diagram in signature:\n",
    "            vectors[\"Dimension_\" + str(hom_dim)].append(vector_for_single_diagram[hom_dim])\n",
    "    \n",
    "    return vectors\n",
    "\n",
    "def compute_umap_embedding(complete_data, data_list, homology_dimension, random_state=1):\n",
    "    \"\"\"\n",
    "    Perform UMAP dimensionality reduction to 3 dimensions.\n",
    "\n",
    "    Parameters:\n",
    "    - signature (list): List containing the signature data.\n",
    "\n",
    "    Returns:\n",
    "    - embedding (numpy array): The 3-dimensional UMAP embedding.\n",
    "    \"\"\"\n",
    "    # Perform UMAP dimensionality reduction to 3 dimensions\n",
    "\n",
    "\n",
    "    reducer = umap.UMAP(n_components=3, random_state=random_state)\n",
    "    \n",
    "    reducer.fit(complete_data)\n",
    "    \n",
    "    embeddings = []\n",
    "\n",
    "    for label in range(5):\n",
    "        embeddings.append(reducer.transform(data_list[\"Label_\"+str(label)][\"Dimension_\"+str(homology_dimension)]))\n",
    "    \n",
    "    return embeddings\n",
    "\n",
    "\n",
    "def visualize_embedding(list_of_embeddings, title=\"Signature\"):\n",
    "    \"\"\"\n",
    "    Visualize two 3-dimensional UMAP embeddings in the same plot.\n",
    "\n",
    "    Parameters:\n",
    "    - list_of_embeddings (list): List of arrays with the first 3-dimensional UMAP embedding.\n",
    "    - title (str): Title for the plot.\n",
    "\n",
    "    Returns:\n",
    "    None\n",
    "    \"\"\"\n",
    "    # Visualize the embeddings\n",
    "    fig = plt.figure(figsize=(8, 8))\n",
    "    ax = fig.add_subplot(111, projection='3d')\n",
    "    \n",
    "    # Scatter plots for each label\n",
    "    for i, embedding in enumerate(list_of_embeddings):\n",
    "        ax.scatter(embedding[:, 0], embedding[:, 1], embedding[:, 2], label=f'Label {i}', color=['blue', 'blueviolet', 'purple', 'crimson', 'red'][i])\n",
    "\n",
    "    ax.set_xlabel('Dimension 1', fontsize=18)\n",
    "    ax.set_ylabel('Dimension 2', fontsize=18)\n",
    "    ax.set_zlabel('Dimension 3', fontsize=18)\n",
    "    ax.set_title(\"\")\n",
    "\n",
    "    ax.set_box_aspect([1,1,1])  # Equal aspect ratio\n",
    "\n",
    "    plt.tick_params(axis='both', which='major', labelsize=15)\n",
    "    ax.legend(fontsize=13)\n",
    "\n",
    "    plt.savefig('Plots/'+str(title)+'.png', bbox_inches='tight')\n",
    "\n",
    "    plt.show()\n",
    "\n",
    "\n",
    "\n",
    "def compute_kernel_pca_embedding(complete_data, data_list, homology_dimension, kernel='rbf', n_components=3):\n",
    "    \"\"\"\n",
    "    Compute a Kernel PCA reduced embedding with 3 dimensions.\n",
    "    \n",
    "    Parameters:\n",
    "        data (numpy.ndarray): Input data matrix of shape (n_samples, n_features).\n",
    "        kernel (str): Kernel function to be used ('rbf', 'poly', 'sigmoid', 'linear').\n",
    "        n_components (int): Number of components for dimensionality reduction.\n",
    "        \n",
    "    Returns:\n",
    "        numpy.ndarray: Kernel PCA reduced embedding of shape (n_samples, 3).\n",
    "    \"\"\"\n",
    "    # Initialize Kernel PCA with specified kernel function\n",
    "    kpca = KernelPCA(kernel=kernel, n_components=n_components, random_state=42)\n",
    "\n",
    "    kpca.fit(complete_data[0][homology_dimension])\n",
    "    \n",
    "    # Fit and transform the data\n",
    "    embeddings = []\n",
    "\n",
    "    for label in range(5):\n",
    "        embeddings.append(kpca.transform(data_list[\"Label_\"+str(label)][0][homology_dimension]))\n",
    "    \n",
    "    return embeddings\n",
    "    \n"
   ]
  },
  {
   "cell_type": "markdown",
   "id": "38865a78-0669-495b-9a3b-74ca90f7b3d1",
   "metadata": {},
   "source": [
    "## Betti Curve"
   ]
  },
  {
   "cell_type": "code",
   "execution_count": null,
   "id": "c375e3a3-352e-4836-8a8c-da76ab8dba2b",
   "metadata": {},
   "outputs": [],
   "source": [
    "BC = BettiCurve()"
   ]
  },
  {
   "cell_type": "code",
   "execution_count": null,
   "id": "49e99c77-b8ef-4372-8a8b-4a2e61ddd1ba",
   "metadata": {},
   "outputs": [],
   "source": [
    "curves = {}\n",
    "\n",
    "for label in range(5):\n",
    "    curves[\"Label_\"+str(label)] = BC.fit_transform(extended_persistence_diagrams[\"Label_\"+str(label)])\n",
    "\n",
    "vectors = {}\n",
    "\n",
    "for label in range(5):\n",
    "    vectors[\"Label_\"+str(label)]  = separate_signature_according_to_dimension(curves[\"Label_\"+str(label)])"
   ]
  },
  {
   "cell_type": "code",
   "execution_count": null,
   "id": "afb31554-7296-4ad3-9d39-abad4ba0e8ba",
   "metadata": {},
   "outputs": [],
   "source": [
    "hom_dim = 0\n",
    "\n",
    "all_vectors = []\n",
    "\n",
    "for label in range(5):\n",
    "    all_vectors.extend(vectors[\"Label_\"+str(label)][\"Dimension_\"+str(hom_dim)])\n",
    "\n",
    "# Compute combined representation\n",
    "embedding_list = compute_umap_embedding(all_vectors, vectors, hom_dim)\n",
    "\n",
    "fig = visualize_embedding(embedding_list, \"BI Dimensionality Reduced Betti Curve of Dimension \"+str(hom_dim))\n"
   ]
  },
  {
   "cell_type": "code",
   "execution_count": null,
   "id": "dd8662a0-df02-471a-a970-bc799c4d8c10",
   "metadata": {},
   "outputs": [],
   "source": [
    "hom_dim = 1\n",
    "\n",
    "all_vectors = []\n",
    "\n",
    "for label in range(5):\n",
    "    all_vectors.extend(vectors[\"Label_\"+str(label)][\"Dimension_\"+str(hom_dim)])\n",
    "\n",
    "# Compute combined representation\n",
    "embedding_list = compute_umap_embedding(all_vectors, vectors, hom_dim)\n",
    "\n",
    "fig = visualize_embedding(embedding_list, \"BI Dimensionality Reduced Betti Curve of Dimension \"+str(hom_dim))\n",
    " "
   ]
  },
  {
   "cell_type": "markdown",
   "id": "42927012-6673-44a9-b718-7eb8aaafddac",
   "metadata": {},
   "source": [
    "## Silhouette"
   ]
  },
  {
   "cell_type": "code",
   "execution_count": null,
   "id": "463d65ee-5bb8-477d-aadb-d0e68120c739",
   "metadata": {},
   "outputs": [],
   "source": [
    "SH = Silhouette()"
   ]
  },
  {
   "cell_type": "code",
   "execution_count": null,
   "id": "f25f84ea-04f1-41e9-8e0f-c81a43379e42",
   "metadata": {},
   "outputs": [],
   "source": [
    "curves = {}\n",
    "\n",
    "for label in range(5):\n",
    "    curves[\"Label_\"+str(label)] = SH.fit_transform(random_subsets[\"Label_\"+str(label)])\n",
    "\n",
    "vectors = {}\n",
    "\n",
    "for label in range(5):\n",
    "    vectors[\"Label_\"+str(label)]  = separate_signature_according_to_dimension(curves[\"Label_\"+str(label)])"
   ]
  },
  {
   "cell_type": "code",
   "execution_count": null,
   "id": "2663f101-e996-4069-8483-a27a78f92b77",
   "metadata": {},
   "outputs": [],
   "source": [
    "hom_dim = 0\n",
    "\n",
    "all_vectors = []\n",
    "\n",
    "for label in range(5):\n",
    "    all_vectors.extend(vectors[\"Label_\"+str(label)][\"Dimension_\"+str(hom_dim)])\n",
    "\n",
    "# Compute combined representation\n",
    "embedding_list = compute_umap_embedding(all_vectors, vectors, hom_dim)\n",
    "\n",
    "fig = visualize_embedding(embedding_list, \"BI Dimensionality Reduced Silhouette of Dimension \"+str(hom_dim))\n"
   ]
  },
  {
   "cell_type": "code",
   "execution_count": null,
   "id": "49794cfe-358f-4d43-8285-d47858c00fb3",
   "metadata": {},
   "outputs": [],
   "source": [
    "hom_dim = 1\n",
    "\n",
    "all_vectors = []\n",
    "\n",
    "for label in range(5):\n",
    "    all_vectors.extend(vectors[\"Label_\"+str(label)][\"Dimension_\"+str(hom_dim)])\n",
    "\n",
    "# Compute combined representation\n",
    "embedding_list = compute_umap_embedding(all_vectors, vectors, hom_dim)\n",
    "\n",
    "fig = visualize_embedding(embedding_list, \"BI Dimensionality Reduced Silhouette of Dimension \"+str(hom_dim))\n"
   ]
  },
  {
   "cell_type": "markdown",
   "id": "60992339-1b1b-40c7-9280-8caa87d93705",
   "metadata": {},
   "source": [
    "## Persistence Landscape"
   ]
  },
  {
   "cell_type": "code",
   "execution_count": null,
   "id": "2ed6a0dc-ea1b-4064-8e65-cf574c4be63a",
   "metadata": {},
   "outputs": [],
   "source": [
    "PL = PersistenceLandscape()"
   ]
  },
  {
   "cell_type": "code",
   "execution_count": null,
   "id": "ae403632-3a86-48ae-aed1-9d0961c5e29c",
   "metadata": {},
   "outputs": [],
   "source": [
    "curves = {}\n",
    "\n",
    "for label in range(5):\n",
    "    curves[\"Label_\"+str(label)] = PL.fit_transform(random_subsets[\"Label_\"+str(label)])\n",
    "\n",
    "vectors = {}\n",
    "\n",
    "for label in range(5):\n",
    "    vectors[\"Label_\"+str(label)]  = separate_signature_according_to_dimension(curves[\"Label_\"+str(label)])"
   ]
  },
  {
   "cell_type": "code",
   "execution_count": null,
   "id": "bd54fcee-530b-46b6-92d9-9efa7afe9dd1",
   "metadata": {},
   "outputs": [],
   "source": [
    "hom_dim = 0\n",
    "\n",
    "all_vectors = []\n",
    "\n",
    "for label in range(5):\n",
    "    all_vectors.extend(vectors[\"Label_\"+str(label)][\"Dimension_\"+str(hom_dim)])\n",
    "\n",
    "# Compute combined representation\n",
    "embedding_list = compute_umap_embedding(all_vectors, vectors, hom_dim)\n",
    "\n",
    "fig = visualize_embedding(embedding_list, \"BI Dimensionality Reduced Persistence Landscape of Dimension \"+str(hom_dim))\n"
   ]
  },
  {
   "cell_type": "code",
   "execution_count": null,
   "id": "35f25d55-acf9-4363-af8b-182928f07c50",
   "metadata": {},
   "outputs": [],
   "source": []
  }
 ],
 "metadata": {
  "kernelspec": {
   "display_name": "Python 3 (ipykernel)",
   "language": "python",
   "name": "python3"
  },
  "language_info": {
   "codemirror_mode": {
    "name": "ipython",
    "version": 3
   },
   "file_extension": ".py",
   "mimetype": "text/x-python",
   "name": "python",
   "nbconvert_exporter": "python",
   "pygments_lexer": "ipython3",
   "version": "3.10.12"
  }
 },
 "nbformat": 4,
 "nbformat_minor": 5
}
