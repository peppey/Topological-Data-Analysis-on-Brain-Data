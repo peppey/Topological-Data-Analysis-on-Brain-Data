{
 "cells": [
  {
   "cell_type": "code",
   "execution_count": 1,
   "id": "0a81b9c9-a2e9-46c2-8ae8-4a5f02dd0571",
   "metadata": {},
   "outputs": [],
   "source": [
    "import numpy as np\n",
    "import pyedflib\n",
    "import statistics\n",
    "import plotly.graph_objects as go\n",
    "import pandas as pd\n",
    "from gtda.time_series import SingleTakensEmbedding\n",
    "from gtda.homology import VietorisRipsPersistence\n",
    "from gtda.diagrams import PersistenceEntropy, Amplitude, NumberOfPoints, ComplexPolynomial, PersistenceLandscape, HeatKernel, Silhouette, BettiCurve, PairwiseDistance, ForgetDimension\n",
    "from gtda.plotting import plot_point_cloud, plot_heatmap, plot_diagram\n",
    "import matplotlib.pyplot as plt\n",
    "from mpl_toolkits.mplot3d import Axes3D\n",
    "from sklearn.ensemble import RandomForestClassifier\n",
    "from sklearn.decomposition import PCA, FastICA"
   ]
  },
  {
   "cell_type": "code",
   "execution_count": null,
   "id": "78acb697-1f57-4306-8741-fa4f9448981b",
   "metadata": {},
   "outputs": [],
   "source": [
    "subject = \"m300\""
   ]
  },
  {
   "cell_type": "markdown",
   "id": "680b2124-028a-401f-9e59-f8cfc37b033b",
   "metadata": {},
   "source": [
    "# Compute mean of summary statistics of "
   ]
  },
  {
   "cell_type": "code",
   "execution_count": null,
   "id": "fd393cad-0556-4dd4-9dda-fbd1afb8bf30",
   "metadata": {},
   "outputs": [],
   "source": [
    "label_list = [0, 1, 2, 3, 4]"
   ]
  },
  {
   "cell_type": "code",
   "execution_count": null,
   "id": "7c8e5867-60e2-4525-a9c4-381f9abdecf9",
   "metadata": {},
   "outputs": [],
   "source": [
    "# Load persistence diagrams\n",
    "\n",
    "persistence_diagrams = np.load(\"Embeddings_and_Persistence_Diagrams/\"+str(subject)+\"/Persistence_Diagrams.npy\", allow_pickle=True).item()"
   ]
  },
  {
   "cell_type": "markdown",
   "id": "2bd32ce7-5e67-46a6-afb6-edc7a7d4190a",
   "metadata": {},
   "source": [
    "# Summary Statistics"
   ]
  },
  {
   "cell_type": "code",
   "execution_count": null,
   "id": "5033a8a3-b13b-46f4-bba2-d6c692386918",
   "metadata": {},
   "outputs": [],
   "source": [
    "def compute_summary_statistics(persistence_diagrams):\n",
    "    \"\"\"\n",
    "    Compute summary statistics of list of persistence diagrams\n",
    "\n",
    "    Parameters:\n",
    "    - persistence_diagrams (list): persistence diagrams\n",
    "\n",
    "    Returns:\n",
    "    Tuple of four lists:\n",
    "    - Persistence Entropy\n",
    "    - Persistence\n",
    "    - Betti Numbers\n",
    "    - Complex Polynomials\n",
    "    \"\"\"\n",
    "    \n",
    "    PE = PersistenceEntropy()\n",
    "    AM = Amplitude()\n",
    "    NP = NumberOfPoints()\n",
    "    CP = ComplexPolynomial(n_coefficients=1)\n",
    "\n",
    "    persistence_entropies = []\n",
    "    amplitudes = []\n",
    "    nos_points = []\n",
    "    complex_polynomials = []\n",
    "\n",
    "    # The statistics of how many persistence diagrams to average\n",
    "    amount_to_average = 80 # The imaging data has 20Hz, therefore we have to average 80 images to get 4 seconds\n",
    "\n",
    "    # Take average of the statistics of 25 persistence diagrams \n",
    "    for idx in range(int(len(persistence_diagrams)/amount_to_average)):\n",
    "        pers_entropies = []\n",
    "        for counter in range(amount_to_average):\n",
    "            pe = PE.fit_transform([persistence_diagrams[amount_to_average*idx+counter].astype(\"float\")])\n",
    "            pers_entropies.append(pe)\n",
    "        persistence_entropies.append(np.mean(pers_entropies, axis=0))\n",
    "\n",
    "        ampl = []\n",
    "        for counter in range(amount_to_average):\n",
    "            am = AM.fit_transform([persistence_diagrams[amount_to_average*idx+counter].astype(\"float\")])\n",
    "            ampl.append(am)\n",
    "        amplitudes.append(np.mean(ampl, axis=0))\n",
    "\n",
    "        no_p = []\n",
    "        for counter in range(amount_to_average):\n",
    "            number = NP.fit_transform([persistence_diagrams[amount_to_average*idx+counter].astype(\"float\")])\n",
    "            no_p.append(number)\n",
    "            \n",
    "        nos_points.append(np.mean(no_p, axis=0))\n",
    "\n",
    "\n",
    "        #complex_polynomials.append(CP.fit_transform([diagram]))\n",
    "\n",
    "    return persistence_entropies, amplitudes, nos_points #complex_polynomials"
   ]
  },
  {
   "cell_type": "code",
   "execution_count": null,
   "id": "c8b0ab85-43ec-4357-9d46-6d4e12f063f6",
   "metadata": {},
   "outputs": [],
   "source": [
    "feautures = {}\n",
    "\n",
    "for label in label_list:\n",
    "    feautures[label] = compute_summary_statistics(persistence_diagrams[\"Label_\"+str(label)])"
   ]
  },
  {
   "cell_type": "code",
   "execution_count": null,
   "id": "8ede31c6-33e0-4e82-8fd1-b74b2434d918",
   "metadata": {},
   "outputs": [],
   "source": [
    "def compute_largest_persistence(persistence_diagrams):\n",
    "    \"\"\"\n",
    "    Computes persistence of the most prominent points of each dimension in each diagram\n",
    "\n",
    "    Parameters:\n",
    "    - persistence_diagrams (list): persistence diagrams\n",
    "\n",
    "    Returns:\n",
    "    List of 3 lists:\n",
    "    - List of the largest persistences of homology dimension 0\n",
    "    - List of the largest persistences of homology dimension 1\n",
    "    - List of the largest persistences of homology dimension 2 \n",
    "    \"\"\"\n",
    "\n",
    "    # The statistics of how many persistence diagrams to average\n",
    "    amount_to_average = 80 # The imaging data has 20Hz, therefore we have to average 80 images to get 4 seconds\n",
    "    \n",
    "    largest_persistences = [] # will contain 3 lists for the 3 homology dimensions\n",
    "    for homology_dimension in [0, 1, 2]:\n",
    "        average_largest_persistences_of_hom_dim = []\n",
    "        # Take average of the statistics of 25 persistence diagrams \n",
    "        for idx in range(int(len(persistence_diagrams)/amount_to_average)):\n",
    "            largest_per_to_average = []\n",
    "                \n",
    "            for counter in range(amount_to_average):\n",
    "                diagram = persistence_diagrams[amount_to_average*idx+counter]\n",
    "\n",
    "                # only look at holes of our homology dimension\n",
    "                condition = diagram[:, 2] == homology_dimension\n",
    "                filtered_diagram = diagram[condition]\n",
    "\n",
    "                if len(filtered_diagram) > 0:\n",
    "                    differences = filtered_diagram[:, 1] - filtered_diagram[:, 0]\n",
    "                    largest_per_to_average.append(np.max(differences))\n",
    "\n",
    "            average_largest_persistences_of_hom_dim.append(np.mean(largest_per_to_average, axis=0))\n",
    "        \n",
    "        largest_persistences.append(average_largest_persistences_of_hom_dim)\n",
    "\n",
    "    return largest_persistences\n"
   ]
  },
  {
   "cell_type": "code",
   "execution_count": null,
   "id": "7d678397-9917-481f-ad8f-883791681648",
   "metadata": {},
   "outputs": [],
   "source": [
    "largest_persistences= {}\n",
    "\n",
    "for label in label_list:\n",
    "    largest_persistences[label] = compute_largest_persistence(persistence_diagrams[\"Label_\"+str(label)])"
   ]
  },
  {
   "cell_type": "markdown",
   "id": "00c925f5-d589-47b5-a701-287ecb8c3c05",
   "metadata": {},
   "source": [
    "# Concatenate Features to one DataFrame"
   ]
  },
  {
   "cell_type": "code",
   "execution_count": null,
   "id": "2faa621b-b1b3-4428-87e6-10f15d0364ff",
   "metadata": {},
   "outputs": [],
   "source": [
    "def choose_column_in_matrix(matrix, i):\n",
    "    return [row[0][i] for row in matrix]"
   ]
  },
  {
   "cell_type": "code",
   "execution_count": null,
   "id": "54d4bd2a-5a8c-4a90-ba3b-459bb13209d0",
   "metadata": {},
   "outputs": [],
   "source": [
    "def create_feature_df(subject, persistence_entropies, amplitudes, nos_points, persistences, label):\n",
    "    \"\"\"\n",
    "    Create DataFrame for each label from features\n",
    "\n",
    "    Parameters:\n",
    "    - persistence_entropies (list): persistence entropies\n",
    "    - amplitudes (list): amplitudes\n",
    "    - nos_points (list): number of points\n",
    "    - label (int): Label for which we want to create a dataframe. 0, 1, 2, 3 or 4.\n",
    "\n",
    "    Returns:\n",
    "    - Feature DataFrame (DataFrame)\n",
    "    \"\"\"\n",
    "    \n",
    "    feature_df = pd.DataFrame()\n",
    "\n",
    "    # All 2 columns (corresponding to hole dimensions)\n",
    "    feature_df[\"Persistence Entropy_Dim_0\"] = choose_column_in_matrix(list(persistence_entropies), 0)\n",
    "    feature_df[\"Persistence Entropy_Dim_1\"] = choose_column_in_matrix(list(persistence_entropies), 1)\n",
    "\n",
    "    # All 2 columns (corresponding to hole dimensions)\n",
    "    feature_df[\"Amplitude_Dim_0\"] = choose_column_in_matrix(list(amplitudes), 0)\n",
    "    feature_df[\"Amplitude_Dim_1\"] = choose_column_in_matrix(list(amplitudes), 1)\n",
    "\n",
    "    # All 2 columns (corresponding to hole dimensions)\n",
    "    feature_df[\"No_Points_Dim_0\"] = choose_column_in_matrix(list(nos_points), 0)\n",
    "    feature_df[\"No_Points_Dim_1\"] = choose_column_in_matrix(list(nos_points), 1)\n",
    "\n",
    "    # Label\n",
    "    feature_df[\"Label\"] = label\n",
    "\n",
    "\n",
    "\n",
    "    return feature_df"
   ]
  },
  {
   "cell_type": "code",
   "execution_count": null,
   "id": "659df5f4-0f62-4404-889f-3d29587e15af",
   "metadata": {},
   "outputs": [],
   "source": [
    "dataframes= {}\n",
    "\n",
    "for label in label_list:\n",
    "    dataframes[label] = create_feature_df(subject, feautures[label][0], feautures[label][1], feautures[label][2], \\\n",
    "                                                largest_persistences[label], label)\n",
    "    "
   ]
  },
  {
   "cell_type": "code",
   "execution_count": null,
   "id": "273e5219-0ca4-4fde-8ef2-bded94a33143",
   "metadata": {},
   "outputs": [],
   "source": [
    "# Concatenate and save features of training persistence diagrams\n",
    "feature_df = pd.concat([dataframes[0], dataframes[1], dataframes[2], dataframes[3], dataframes[4]], ignore_index=True)\n",
    "\n",
    "feature_df.to_csv(\"Features/\"+str(subject)+\"/Topological_Summary_Statistics.csv\")"
   ]
  },
  {
   "cell_type": "code",
   "execution_count": null,
   "id": "dd78de66-b7e8-463d-b649-db1aa184fcd2",
   "metadata": {},
   "outputs": [],
   "source": []
  }
 ],
 "metadata": {
  "kernelspec": {
   "display_name": "Python 3 (ipykernel)",
   "language": "python",
   "name": "python3"
  },
  "language_info": {
   "codemirror_mode": {
    "name": "ipython",
    "version": 3
   },
   "file_extension": ".py",
   "mimetype": "text/x-python",
   "name": "python",
   "nbconvert_exporter": "python",
   "pygments_lexer": "ipython3",
   "version": "3.10.12"
  }
 },
 "nbformat": 4,
 "nbformat_minor": 5
}
