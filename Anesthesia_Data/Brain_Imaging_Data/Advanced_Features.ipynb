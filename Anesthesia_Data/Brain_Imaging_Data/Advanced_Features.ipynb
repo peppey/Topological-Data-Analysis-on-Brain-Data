{
 "cells": [
  {
   "cell_type": "code",
   "execution_count": 74,
   "id": "2ff7fcc0-d6c4-455d-a729-5d150698450c",
   "metadata": {},
   "outputs": [],
   "source": [
    "import pandas as pd\n",
    "import numpy as np\n",
    "import pickle\n",
    "import time"
   ]
  },
  {
   "cell_type": "code",
   "execution_count": 75,
   "id": "2c51563b-52eb-4da8-8102-54711d314caf",
   "metadata": {},
   "outputs": [],
   "source": [
    "subject = \"m294\""
   ]
  },
  {
   "cell_type": "code",
   "execution_count": 76,
   "id": "19733117-1d6e-4d24-b74d-35ed1c7e8a6b",
   "metadata": {},
   "outputs": [],
   "source": [
    "label_list = [0, 1, 2, 3, 4]"
   ]
  },
  {
   "cell_type": "code",
   "execution_count": 77,
   "id": "d768ef11-e3e3-4bf2-9c80-32baf11f951f",
   "metadata": {},
   "outputs": [],
   "source": [
    "# Load persistence diagrams\n",
    "\n",
    "persistence_diagrams = np.load(\"Embeddings_and_Persistence_Diagrams/\"+str(subject)+\"/Persistence_Diagrams.npy\", allow_pickle=True).item()"
   ]
  },
  {
   "cell_type": "code",
   "execution_count": 78,
   "id": "2bcbb410-a60a-4dfe-9af3-62a9ddcce11a",
   "metadata": {},
   "outputs": [],
   "source": [
    "# Adcock-Carlson coordinates"
   ]
  },
  {
   "cell_type": "code",
   "execution_count": 79,
   "id": "d60706b8-d807-415e-a9da-e93a30409f7b",
   "metadata": {},
   "outputs": [],
   "source": [
    "def carlsson_coordinates(persistence_diagrams):\n",
    "    n = len(persistence_diagrams)\n",
    "    persistence_diagrams_features_cc1 = np.zeros(n)\n",
    "    persistence_diagrams_features_cc2 = np.zeros(n)\n",
    "    persistence_diagrams_features_cc3 = np.zeros(n)\n",
    "    persistence_diagrams_features_cc4 = np.zeros(n)\n",
    "    start = time.time()\n",
    "    ymax = 0\n",
    "    for i in range(0,n):\n",
    "        if len(persistence_diagrams[i])>0:\n",
    "            b = np.max(persistence_diagrams[i][:,1])\n",
    "        else:\n",
    "            b = ymax\n",
    "        if ymax < b:\n",
    "            ymax = b\n",
    "        else:\n",
    "            ymax = ymax\n",
    "    print(ymax)\n",
    "    for i in range(0,n):\n",
    "        if len(persistence_diagrams[i])>0:\n",
    "            x = persistence_diagrams[i][:,0]\n",
    "            y = persistence_diagrams[i][:,1]\n",
    "            persistence_diagrams_features_cc1[i] = sum(x*(y-x))\n",
    "            persistence_diagrams_features_cc2[i] = sum((ymax - y)*(y-x))\n",
    "            persistence_diagrams_features_cc3[i] = sum(x**2*(y-x)**4)\n",
    "            persistence_diagrams_features_cc4[i] = sum((ymax-y)**2*(y-x)**4)\n",
    "        else:\n",
    "            persistence_diagrams_features_cc1[i] = 0\n",
    "            persistence_diagrams_features_cc2[i] = 0\n",
    "            persistence_diagrams_features_cc3[i] = 0\n",
    "            persistence_diagrams_features_cc4[i] = 0\n",
    "            \n",
    "    return persistence_diagrams_features_cc1, persistence_diagrams_features_cc2, persistence_diagrams_features_cc3, persistence_diagrams_features_cc4"
   ]
  },
  {
   "cell_type": "code",
   "execution_count": 80,
   "id": "aba0fb0f-ebbb-4bae-b835-4a919ce7f67d",
   "metadata": {},
   "outputs": [],
   "source": [
    "def take_mean_coordinates(coord):\n",
    "    \n",
    "    amount_to_average = 80 # The imaging data has 20Hz, therefore we have to average 80 images to get 4 seconds\n",
    "\n",
    "    averaged_coord = []\n",
    "    # Take average of the statistics of 80 persistence diagrams \n",
    "    for idx in range(int(len(coord)/amount_to_average)):\n",
    "        coord_sections = []\n",
    "        \n",
    "        for counter in range(amount_to_average):\n",
    "            coord_sections.append(coord[amount_to_average*idx+counter].astype(\"float\"))\n",
    "        averaged_coord.append(np.mean(coord_sections, axis=0))\n",
    "\n",
    "    return averaged_coord\n",
    "    "
   ]
  },
  {
   "cell_type": "code",
   "execution_count": 81,
   "id": "5842205a-7510-45e8-8ba9-1ad22e97cc04",
   "metadata": {},
   "outputs": [],
   "source": [
    "def create_dataframe(X_features_cc1, X_features_cc2, X_features_cc3, X_features_cc4, label):\n",
    "    features_df = pd.DataFrame()\n",
    "\n",
    "    features_df[\"AC_coordinate_cc1\"] = X_features_cc1\n",
    "    features_df[\"AC_coordinate_cc2\"] = X_features_cc2\n",
    "    features_df[\"AC_coordinate_cc3\"] = X_features_cc3\n",
    "    features_df[\"AC_coordinate_cc4\"] = X_features_cc4\n",
    "    features_df[\"Label\"] = label\n",
    "\n",
    "    return features_df"
   ]
  },
  {
   "cell_type": "code",
   "execution_count": 82,
   "id": "8de397d0-0b80-43ee-92fd-0e70d5ebac79",
   "metadata": {},
   "outputs": [
    {
     "name": "stdout",
     "output_type": "stream",
     "text": [
      "506328.7816913459\n",
      "538551.642429013\n",
      "450507.28451664234\n",
      "486043.27693326754\n",
      "421382.77900840755\n"
     ]
    }
   ],
   "source": [
    "features_dataframes = {}\n",
    "\n",
    "for label in label_list:\n",
    "    # Train data Adcock Carlson coordinates \n",
    "    coord_1, coord_2, coord_3, coord_4 = carlsson_coordinates(persistence_diagrams[label])\n",
    "    coord_1 = take_mean_coordinates(coord_1)\n",
    "    coord_2 = take_mean_coordinates(coord_2)\n",
    "    coord_3 = take_mean_coordinates(coord_3)\n",
    "    coord_4 = take_mean_coordinates(coord_4)\n",
    "    features_dataframes[label] = create_dataframe(coord_1, coord_2, coord_3, coord_4, \\\n",
    "                                                        label)"
   ]
  },
  {
   "cell_type": "code",
   "execution_count": 83,
   "id": "654ca4d0-dc09-4a4d-91ec-c2de1b7c7568",
   "metadata": {},
   "outputs": [],
   "source": [
    "# Concatenate and save dataframes\n",
    "feature_df = pd.concat([features_dataframes[0], features_dataframes[1], features_dataframes[2], \\\n",
    "                              features_dataframes[3], features_dataframes[4]], ignore_index=True)\n",
    "\n",
    "feature_df.to_csv(\"Features/\"+str(subject)+\"/Advanced_Features.csv\")"
   ]
  }
 ],
 "metadata": {
  "kernelspec": {
   "display_name": "Python 3 (ipykernel)",
   "language": "python",
   "name": "python3"
  },
  "language_info": {
   "codemirror_mode": {
    "name": "ipython",
    "version": 3
   },
   "file_extension": ".py",
   "mimetype": "text/x-python",
   "name": "python",
   "nbconvert_exporter": "python",
   "pygments_lexer": "ipython3",
   "version": "3.10.12"
  }
 },
 "nbformat": 4,
 "nbformat_minor": 5
}
