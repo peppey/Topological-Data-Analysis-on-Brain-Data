{
 "cells": [
  {
   "cell_type": "code",
   "execution_count": null,
   "id": "e9f3ffa4-2d95-4158-8ac6-92b145e05e0b",
   "metadata": {},
   "outputs": [],
   "source": [
    "import import_ipynb\n",
    "import pandas as pd\n",
    "import numpy as np\n",
    "from sklearn.ensemble import RandomForestClassifier\n",
    "from sklearn.metrics import accuracy_score, confusion_matrix, precision_score, recall_score, ConfusionMatrixDisplay\n",
    "from sklearn.model_selection import RandomizedSearchCV\n",
    "from scipy.stats import randint\n",
    "from sklearn.utils import shuffle\n",
    "import xgboost as xgb\n",
    "import matplotlib.pyplot as plt\n",
    "import os\n",
    "import mlflow\n",
    "\n",
    "from sklearn.model_selection import PredefinedSplit, GridSearchCV\n",
    "\n",
    "\n",
    "from mlflow.models import infer_signature\n",
    "# Import functions from other Jupyter notebook\n",
    "import Utils.Time_Series_Classification_Helpers as ts_helpers\n",
    "import Utils.Brain_Imaging_Classification_Helpers as bi_helpers\n",
    "import Utils.Classification_Helpers as helpers"
   ]
  },
  {
   "cell_type": "markdown",
   "id": "ca0d35b1-07d2-4713-a763-eadcbf1aaebc",
   "metadata": {},
   "source": [
    "# Set Up MLFLow"
   ]
  },
  {
   "cell_type": "code",
   "execution_count": null,
   "id": "e1975bee-1fdf-4e3f-97e2-945e63034d8f",
   "metadata": {},
   "outputs": [],
   "source": [
    "mlflow.set_tracking_uri(uri=\"http://127.0.0.1:8080\")"
   ]
  },
  {
   "cell_type": "markdown",
   "id": "d96ef8fb-0483-47c0-a098-4765de47b4f5",
   "metadata": {},
   "source": [
    "# Import and Concatenate Data"
   ]
  },
  {
   "cell_type": "code",
   "execution_count": null,
   "id": "2f75c8ef-3e10-4015-97fc-3ca101ddcdc7",
   "metadata": {},
   "outputs": [],
   "source": [
    "subject_list = [\"m292\", \"m294\", \"m298\", \"m299\", \"m300\"]\n",
    "label_list = [0, 1, 2, 3, 4]"
   ]
  },
  {
   "cell_type": "markdown",
   "id": "91606fe6-282e-411f-8553-6004006825e6",
   "metadata": {},
   "source": [
    "## EEG/EMG Data"
   ]
  },
  {
   "cell_type": "code",
   "execution_count": null,
   "id": "4b7475ca-95b0-4b3c-a8ae-173396838058",
   "metadata": {},
   "outputs": [],
   "source": [
    "# Import dataframes that do not depend on folds\n",
    "list_of_filenames = [\"Statistical_Features_KATS_Statistics.csv\", \"Statistical_Features_Additional_Features.csv\",\n",
    "                     \"Statistical_Features_Level_Shift_Features.csv\", \"Statistical_Features_Autocorrelation_Features.csv\"]\n",
    "\n",
    "\n",
    "time_series_feature_df = ts_helpers.import_and_concatenate_datasets(subject_list, list_of_filenames, parent_directory=\"Time_Series\")"
   ]
  },
  {
   "cell_type": "markdown",
   "id": "77b7cfeb-ec9d-46d8-8c41-335c02cab04e",
   "metadata": {},
   "source": [
    "## Brain Imaging"
   ]
  },
  {
   "cell_type": "code",
   "execution_count": null,
   "id": "37da4a99-6ca7-46dd-940c-bf5eedc64963",
   "metadata": {},
   "outputs": [],
   "source": [
    "list_of_filenames = [\"Traditional_Features_Statistics.csv\", \"Traditional_Features_Direct_Coordinates.csv\"]\n",
    "\n",
    "_, subject_feature_df = bi_helpers.import_and_concatenate_datasets(subject_list, list_of_filenames, parent_directory=\"Brain_Imaging\")\n",
    "\n",
    "brain_imaging_feature_df = bi_helpers.cut_dataframe_to_same_length_as_TS(subject_feature_df, subject_list)"
   ]
  },
  {
   "cell_type": "markdown",
   "id": "6849e607-40b5-485b-9584-9f4e30749248",
   "metadata": {},
   "source": [
    "## Merging"
   ]
  },
  {
   "cell_type": "code",
   "execution_count": null,
   "id": "111bbc4d-94de-451d-8432-51cad0b6344e",
   "metadata": {},
   "outputs": [],
   "source": [
    "feature_df = helpers.merge_feature_dfs(time_series_feature_df, brain_imaging_feature_df)\n",
    "feature_df = brain_imaging_feature_df"
   ]
  },
  {
   "cell_type": "markdown",
   "id": "a31d4895-e3b3-4fe2-a5c0-e4c4ecc6ae3f",
   "metadata": {},
   "source": [
    "## Preprocessing"
   ]
  },
  {
   "cell_type": "code",
   "execution_count": null,
   "id": "cb17b6dd-e08f-4b18-9ffa-7dff957627b3",
   "metadata": {},
   "outputs": [],
   "source": [
    "feature_df.fillna(0, inplace=True)"
   ]
  },
  {
   "cell_type": "markdown",
   "id": "38629bf2-90ad-4150-bcfb-9f64019f6120",
   "metadata": {},
   "source": [
    "## Save Features for Data Exploration"
   ]
  },
  {
   "cell_type": "code",
   "execution_count": null,
   "id": "93e26569-b2c6-48f6-adbd-e01579abc74d",
   "metadata": {},
   "outputs": [],
   "source": [
    "feature_df.to_csv(\"Features/All_Statistical_Features.csv\")"
   ]
  },
  {
   "cell_type": "markdown",
   "id": "b90fab1d-d920-4e08-846f-b8815dab1b09",
   "metadata": {},
   "source": [
    "## Feature Selection"
   ]
  },
  {
   "cell_type": "code",
   "execution_count": null,
   "id": "941f2323-6fcb-4244-bec1-01995659228c",
   "metadata": {},
   "outputs": [],
   "source": [
    "print(\"There are \"+str(len(feature_df.columns))+\" features.\")"
   ]
  },
  {
   "cell_type": "code",
   "execution_count": null,
   "id": "9ac4bb0f-5405-446b-861f-b6fd7d0169f4",
   "metadata": {},
   "outputs": [],
   "source": [
    "list_of_strings_in_column_names_to_remove = [\"Nothing\"] # \"Nothing\" If you want to use all features\n",
    "\n",
    "feature_df = helpers.remove_columns_with_str(feature_df, list_of_strings_in_column_names_to_remove)"
   ]
  },
  {
   "cell_type": "code",
   "execution_count": null,
   "id": "650e34a7-b5d6-4fa9-bec1-955f2200fde4",
   "metadata": {},
   "outputs": [],
   "source": [
    "feature = \"BI_Intensity_Histograms_mean_intensities\" \n",
    "\n",
    "#feature_df = helpers.only_use_one_feature_for_classification(feature, [feature_df])[0]"
   ]
  },
  {
   "cell_type": "code",
   "execution_count": null,
   "id": "f349658b-4f75-4a8f-a5ea-3c74d97d50a0",
   "metadata": {},
   "outputs": [],
   "source": [
    "print(\"There are \"+str(len(feature_df.columns))+\" features after filtering.\")"
   ]
  },
  {
   "cell_type": "markdown",
   "id": "6f333182-30ea-498e-9fe7-030de10a57e8",
   "metadata": {},
   "source": [
    "# Cross Validation"
   ]
  },
  {
   "cell_type": "code",
   "execution_count": null,
   "id": "f31f43ca-5ac2-4218-a216-f6965f8e3683",
   "metadata": {},
   "outputs": [],
   "source": [
    "train_indices, validation_indices, test_indices = helpers.load_folds(subject_list, parent_directory = \"Time_Series\")"
   ]
  },
  {
   "cell_type": "code",
   "execution_count": null,
   "id": "0271349f-3574-4d9c-878a-d8e729295d0b",
   "metadata": {},
   "outputs": [],
   "source": [
    "train_features_dfs_all_folds, train_labels_all_folds = helpers.filter_dataframe_with_indices(feature_df, train_indices, label_list)\n",
    "validation_features_dfs_all_folds, validation_labels_all_folds = helpers.filter_dataframe_with_indices(feature_df, validation_indices, label_list)"
   ]
  },
  {
   "cell_type": "code",
   "execution_count": null,
   "id": "8d95dca4-2839-4b6e-888c-b66b55ecd036",
   "metadata": {},
   "outputs": [],
   "source": [
    "X_train, y_train, X_test, y_test = helpers.initialize_fold_dicts(train_features_dfs_all_folds, train_labels_all_folds, validation_features_dfs_all_folds, validation_labels_all_folds)"
   ]
  },
  {
   "cell_type": "markdown",
   "id": "ca4c3ffc-7792-4963-bdfa-973a5d50d9a5",
   "metadata": {},
   "source": [
    "## MLFLow and GridSearch"
   ]
  },
  {
   "cell_type": "markdown",
   "id": "13aed518-1796-4d25-a2a4-56f345cf54a5",
   "metadata": {},
   "source": [
    "Concatenate dataset for Gridsearch"
   ]
  },
  {
   "cell_type": "code",
   "execution_count": null,
   "id": "d394f7fb-dfe4-4608-ab2c-3a381ad04ab6",
   "metadata": {},
   "outputs": [],
   "source": [
    "concatenated_X, concatenated_y = helpers.concatenate_data(X_train, X_test, y_train, y_test)"
   ]
  },
  {
   "cell_type": "code",
   "execution_count": null,
   "id": "a3a833bd-dea9-42aa-b4a8-860bfd593cd0",
   "metadata": {},
   "outputs": [],
   "source": [
    "train_test_splits = helpers.define_fold_start_and_end_indices(X_train, X_test)"
   ]
  },
  {
   "cell_type": "markdown",
   "id": "6da2b3d7-ca4d-4ac5-9de8-467761aa92c8",
   "metadata": {},
   "source": [
    "### Random Forest"
   ]
  },
  {
   "cell_type": "code",
   "execution_count": null,
   "id": "5e915cd7-443b-4723-b457-fa10b92b5ff2",
   "metadata": {},
   "outputs": [],
   "source": [
    "rf_for_cross_validation = RandomForestClassifier(random_state = 42)\n",
    "\n",
    "\n",
    "# Define the parameter grid after first initial manual experiments\n",
    "param_grid = {\n",
    "    'n_estimators': [100, 200, 400],\n",
    "    'max_depth': [None, 10, 20],\n",
    "    'min_samples_split': [2, 5],\n",
    "    'min_samples_leaf': [2, 4, 6]\n",
    "}\n",
    "\n",
    "# Parameter grid for finer tuning\n",
    "param_grid = {\n",
    "    'n_estimators': [400, 600],\n",
    "    'max_depth': [20, 30],\n",
    "    'min_samples_split': [2, 3],\n",
    "    'min_samples_leaf': [1, 2, 3]\n",
    "}\n",
    "\n",
    "# Parameter grid for even finer tuning\n",
    "param_grid = {\n",
    "    'n_estimators': [500, 600, 700, 800],\n",
    "    'max_depth': [20],\n",
    "    'min_samples_split': [3, 4, 5],\n",
    "    'min_samples_leaf': [1]\n",
    "}\n",
    "\n",
    "\n",
    "best_params, best_score = helpers.perform_grid_search(rf_for_cross_validation, param_grid, 5, concatenated_X, concatenated_y)"
   ]
  },
  {
   "cell_type": "code",
   "execution_count": null,
   "id": "3cc97353-aca3-4ac6-9ae2-0abaa6d6f763",
   "metadata": {},
   "outputs": [],
   "source": [
    "### For manual finetuning\n",
    "params_for_manual_tuning = {\"random_state\": 42, 'max_depth': 20, 'min_samples_leaf': 1, 'min_samples_split': 3, 'n_estimators': 700}\n",
    "\n",
    "rf_for_manual_tuning = RandomForestClassifier(**params_for_manual_tuning)\n",
    "\n",
    "helpers.manual_tuning(rf_for_manual_tuning, X_train, X_test, y_train, y_test, params_for_manual_tuning)"
   ]
  },
  {
   "cell_type": "markdown",
   "id": "7a4b19a8-1e2d-4141-987d-db3d9c82a33b",
   "metadata": {},
   "source": [
    "### XGBoost"
   ]
  },
  {
   "cell_type": "code",
   "execution_count": null,
   "id": "73c44794-fba5-4310-a333-dddb8868be4c",
   "metadata": {},
   "outputs": [],
   "source": [
    "# Define the parameter grid after first initial manual experiments for approximately finding a sweet spot (with MLFlow, code below)\n",
    "\n",
    "# Main parameter grid for finetuning\n",
    "param_grid = {\n",
    "    \"learning_rate\": [0.17, 0.19, 0.21],\n",
    "    \"n_estimators\": [250, 300],\n",
    "    \"max_depth\": [3, 4, 5],\n",
    "    \"min_child_weight\": [0],\n",
    "    \"subsample\": [0.5]\n",
    "}\n",
    "\n",
    "\n",
    "# Parameter grid for finer tuning\n",
    "param_grid = {\n",
    "    \"learning_rate\": [0.18, 0.19, 0.2],\n",
    "    \"n_estimators\": [300, 350],\n",
    "    \"max_depth\": [5, 6],\n",
    "    \"min_child_weight\": [0],\n",
    "    \"subsample\": [0.5]\n",
    "}\n",
    "\n",
    "\n",
    "xb_for_cross_validation = xgb.XGBClassifier(seed=1)\n",
    "\n",
    "best_params, best_score = helpers.perform_grid_search(xb_for_cross_validation, param_grid, 5, concatenated_X, concatenated_y)\n"
   ]
  },
  {
   "cell_type": "code",
   "execution_count": null,
   "id": "0054a3dd-689f-42a5-a4c7-0ade05d46ad8",
   "metadata": {},
   "outputs": [],
   "source": [
    "# For manual finetuning\n",
    "params_for_manual_tuning = {'seed': 1, 'learning_rate': 0.19, 'max_depth': 5, 'min_child_weight': 0, 'n_estimators': 350, 'subsample': 0.5}\n",
    "\n",
    "xb_for_manual_tuning = xgb.XGBClassifier(**params_for_manual_tuning)\n",
    "\n",
    "helpers.manual_tuning(xb_for_manual_tuning, X_train, X_test, y_train, y_test, params_for_manual_tuning)"
   ]
  },
  {
   "cell_type": "markdown",
   "id": "a1d12437-c1f0-442e-8760-e869d7549037",
   "metadata": {},
   "source": [
    "Note that even when fixing the seed, there are still some things that can vary in the XGBoost algorithm, such that we cannot be sure\n",
    "to always reach the exact same mean accuracy with the same parameters and same features."
   ]
  },
  {
   "cell_type": "markdown",
   "id": "89f11e2d-e224-4346-bf3a-c83f36b726f8",
   "metadata": {},
   "source": [
    "# Final Test Set"
   ]
  },
  {
   "cell_type": "code",
   "execution_count": null,
   "id": "e3090042-3fda-4e73-a69b-5493a7a96888",
   "metadata": {},
   "outputs": [],
   "source": [
    "final_train_indices = helpers.get_indices_of_final_training_set(train_indices, validation_indices, subject_list, label_list)"
   ]
  },
  {
   "cell_type": "code",
   "execution_count": null,
   "id": "ad55bce1-d233-4d53-ad21-d5aafb8b0cec",
   "metadata": {},
   "outputs": [],
   "source": [
    "# Get final test sets\n",
    "X_train_final, y_train_final, X_test_final, y_test_final = helpers.create_final_input_data_dicts(feature_df,          \n",
    "                                        final_train_indices, test_indices, label_list)"
   ]
  },
  {
   "cell_type": "markdown",
   "id": "4f0724e8-6f83-4d7b-a090-835e55b586d8",
   "metadata": {},
   "source": [
    "## Random Forest"
   ]
  },
  {
   "cell_type": "code",
   "execution_count": null,
   "id": "b58fd08b-1db9-4ebb-8d34-7fff87bbefb6",
   "metadata": {},
   "outputs": [],
   "source": [
    "params_with_initialized_random_state = {\n",
    "    \"random_state\": 0,\n",
    "    'max_depth': 20,\n",
    "    'min_samples_leaf': 1,\n",
    "    'min_samples_split': 3,\n",
    "    'n_estimators': 700\n",
    "}\n",
    "        \n",
    "rf = RandomForestClassifier(**params_with_initialized_random_state)\n",
    "\n",
    "mean_accuracy, importances = helpers.final_evaluation(rf, params_with_initialized_random_state, X_train_final, y_train_final, X_test_final, y_test_final)"
   ]
  },
  {
   "cell_type": "markdown",
   "id": "17cac907-2d1b-4f74-b999-cd57fa4f0b6f",
   "metadata": {},
   "source": [
    "## XGBoost"
   ]
  },
  {
   "cell_type": "code",
   "execution_count": null,
   "id": "9399dd94-4d5c-46ad-becf-232f9f8fafbd",
   "metadata": {},
   "outputs": [],
   "source": [
    "params_with_initialized_random_state = {\n",
    "    \"seed\": 0, \n",
    "    \"learning_rate\": 0.19, \n",
    "    \"n_estimators\": 350, \n",
    "    \"max_depth\": 5, \n",
    "    \"min_child_weight\": 0, \n",
    "    \"subsample\":0.5\n",
    "}\n",
    "        \n",
    "xb = xgb.XGBClassifier(**params_with_initialized_random_state)\n",
    "\n",
    "mean_accuracy, importances =  helpers.final_evaluation(xb, params_with_initialized_random_state, X_train_final, y_train_final, X_test_final, y_test_final)"
   ]
  },
  {
   "cell_type": "code",
   "execution_count": null,
   "id": "d7acfbe4-9040-402a-91c1-7cae61262d33",
   "metadata": {},
   "outputs": [],
   "source": []
  }
 ],
 "metadata": {
  "kernelspec": {
   "display_name": "Python 3 (ipykernel)",
   "language": "python",
   "name": "python3"
  },
  "language_info": {
   "codemirror_mode": {
    "name": "ipython",
    "version": 3
   },
   "file_extension": ".py",
   "mimetype": "text/x-python",
   "name": "python",
   "nbconvert_exporter": "python",
   "pygments_lexer": "ipython3",
   "version": "3.10.12"
  }
 },
 "nbformat": 4,
 "nbformat_minor": 5
}
