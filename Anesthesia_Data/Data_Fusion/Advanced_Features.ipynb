{
 "cells": [
  {
   "cell_type": "code",
   "execution_count": 29,
   "id": "2ff7fcc0-d6c4-455d-a729-5d150698450c",
   "metadata": {},
   "outputs": [],
   "source": [
    "import pandas as pd\n",
    "import numpy as np\n",
    "import pickle\n",
    "import time"
   ]
  },
  {
   "cell_type": "code",
   "execution_count": 30,
   "id": "19733117-1d6e-4d24-b74d-35ed1c7e8a6b",
   "metadata": {},
   "outputs": [],
   "source": [
    "label_list = [0, 1, 2, 3, 4]"
   ]
  },
  {
   "cell_type": "code",
   "execution_count": 31,
   "id": "bcc64264-e42e-4b0c-a87e-f2c29a9bb053",
   "metadata": {},
   "outputs": [],
   "source": [
    "# choose individuum\n",
    "subject = \"m292\""
   ]
  },
  {
   "cell_type": "code",
   "execution_count": 32,
   "id": "27ab8c06-7c10-4db6-8fae-4bcd00d4b6a9",
   "metadata": {},
   "outputs": [],
   "source": [
    "hidden_dim = 10"
   ]
  },
  {
   "cell_type": "code",
   "execution_count": 33,
   "id": "d768ef11-e3e3-4bf2-9c80-32baf11f951f",
   "metadata": {},
   "outputs": [],
   "source": [
    "# Load persistence diagrams\n",
    "\n",
    "persistence_diagrams  = np.load('Embeddings_and_Persistence_Diagrams/'+str(subject)+'/Persistence_Diagrams_All_Labels_with_Hidden_Dim_'+str(hidden_dim)+'.npy', \\\n",
    "    allow_pickle=True).item() # .item() to convert the dtype to dict again"
   ]
  },
  {
   "cell_type": "code",
   "execution_count": 34,
   "id": "c65f2a02-e2ac-4d30-b749-6dffc29d472f",
   "metadata": {},
   "outputs": [],
   "source": [
    "# TODO do this in Preprocessing_And_Computing_...\n",
    "\n",
    "reshaped_persistence_diagrams = {}\n",
    "\n",
    "for label in label_list:\n",
    "    reshaped_persistence_diagrams[\"Label_\"+str(label)] = [persistence_diagram[0] for persistence_diagram in list(persistence_diagrams[\"Label_\"+str(label)])]\n",
    "\n",
    "persistence_diagrams = reshaped_persistence_diagrams"
   ]
  },
  {
   "cell_type": "code",
   "execution_count": 35,
   "id": "2bcbb410-a60a-4dfe-9af3-62a9ddcce11a",
   "metadata": {},
   "outputs": [],
   "source": [
    "# Adcock-Carlson coordinates"
   ]
  },
  {
   "cell_type": "code",
   "execution_count": 36,
   "id": "d60706b8-d807-415e-a9da-e93a30409f7b",
   "metadata": {},
   "outputs": [],
   "source": [
    "def carlsson_coordinates(persistence_diagrams):\n",
    "    n = len(persistence_diagrams)\n",
    "    persistence_diagrams_features_cc1 = np.zeros(n)\n",
    "    persistence_diagrams_features_cc2 = np.zeros(n)\n",
    "    persistence_diagrams_features_cc3 = np.zeros(n)\n",
    "    persistence_diagrams_features_cc4 = np.zeros(n)\n",
    "    start = time.time()\n",
    "    ymax = 0\n",
    "    for i in range(0,n):\n",
    "        if len(persistence_diagrams[i])>0:\n",
    "            b = np.max(persistence_diagrams[i][:,1])\n",
    "        else:\n",
    "            b = ymax\n",
    "        if ymax < b:\n",
    "            ymax = b\n",
    "        else:\n",
    "            ymax = ymax\n",
    "    for i in range(0,n):\n",
    "        if len(persistence_diagrams[i])>0:\n",
    "            x = persistence_diagrams[i][:,0]\n",
    "            y = persistence_diagrams[i][:,1]\n",
    "            persistence_diagrams_features_cc1[i] = sum(x*(y-x))\n",
    "            persistence_diagrams_features_cc2[i] = sum((ymax - y)*(y-x))\n",
    "            persistence_diagrams_features_cc3[i] = sum(x**2*(y-x)**4)\n",
    "            persistence_diagrams_features_cc4[i] = sum((ymax-y)**2*(y-x)**4)\n",
    "        else:\n",
    "            persistence_diagrams_features_cc1[i] = 0\n",
    "            persistence_diagrams_features_cc2[i] = 0\n",
    "            persistence_diagrams_features_cc3[i] = 0\n",
    "            persistence_diagrams_features_cc4[i] = 0\n",
    "            \n",
    "    return persistence_diagrams_features_cc1, persistence_diagrams_features_cc2, persistence_diagrams_features_cc3, persistence_diagrams_features_cc4"
   ]
  },
  {
   "cell_type": "code",
   "execution_count": 37,
   "id": "5842205a-7510-45e8-8ba9-1ad22e97cc04",
   "metadata": {},
   "outputs": [],
   "source": [
    "def create_dataframe(hidden_dim, X_features_cc1, X_features_cc2, X_features_cc3, X_features_cc4, label, train):\n",
    "    feature_df = pd.DataFrame()\n",
    "\n",
    "    feature_df[\"Joint_hidden_dim_\"+str(hidden_dim)+\"_AC_coordinate_cc1\"] = X_features_cc1\n",
    "    feature_df[\"Joint_hidden_dim_\"+str(hidden_dim)+\"_AC_coordinate_cc2\"] = X_features_cc2\n",
    "    feature_df[\"Joint_hidden_dim_\"+str(hidden_dim)+\"_AC_coordinate_cc3\"] = X_features_cc3\n",
    "    feature_df[\"Joint_hidden_dim_\"+str(hidden_dim)+\"_AC_coordinate_cc4\"] = X_features_cc4\n",
    "    feature_df[\"Label\"] = label\n",
    "\n",
    "    # Subject\n",
    "    feature_df[\"Subject\"] = subject\n",
    "\n",
    "    # Training or test set (boolean)\n",
    "    feature_df[\"Train\"] = train\n",
    "\n",
    "    return feature_df"
   ]
  },
  {
   "cell_type": "code",
   "execution_count": 38,
   "id": "8de397d0-0b80-43ee-92fd-0e70d5ebac79",
   "metadata": {},
   "outputs": [],
   "source": [
    "features_dataframes = {}\n",
    "\n",
    "\n",
    "for label in label_list:\n",
    "    \n",
    "    # Train data Adcock Carlson coordinates \n",
    "    coord_1, coord_2, coord_3, coord_4 = carlsson_coordinates(persistence_diagrams[\"Label_\"+str(label)])\n",
    "    features_dataframes[label] = create_dataframe(hidden_dim, coord_1, coord_2, coord_3, coord_4, \\\n",
    "                                                        label, True)"
   ]
  },
  {
   "cell_type": "code",
   "execution_count": 39,
   "id": "654ca4d0-dc09-4a4d-91ec-c2de1b7c7568",
   "metadata": {},
   "outputs": [],
   "source": [
    "# Concatenate and save dataframes\n",
    "feature_df = pd.concat([features_dataframes[0], features_dataframes[1], features_dataframes[2], \\\n",
    "                              features_dataframes[3], features_dataframes[4]], ignore_index=True)\n",
    "\n",
    "feature_df.to_csv(\"Features/\"+str(subject)+\"/Advanced_Features_Hidden_Dim_\"+str(hidden_dim)+\".csv\")"
   ]
  }
 ],
 "metadata": {
  "kernelspec": {
   "display_name": "Python 3 (ipykernel)",
   "language": "python",
   "name": "python3"
  },
  "language_info": {
   "codemirror_mode": {
    "name": "ipython",
    "version": 3
   },
   "file_extension": ".py",
   "mimetype": "text/x-python",
   "name": "python",
   "nbconvert_exporter": "python",
   "pygments_lexer": "ipython3",
   "version": "3.10.13"
  }
 },
 "nbformat": 4,
 "nbformat_minor": 5
}
