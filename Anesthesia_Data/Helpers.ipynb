{
 "cells": [
  {
   "cell_type": "code",
   "execution_count": 8,
   "id": "f657dba6-fc21-46a4-a594-8921ef735af3",
   "metadata": {},
   "outputs": [],
   "source": [
    "import os\n",
    "import numpy as np\n",
    "import pandas as pd"
   ]
  },
  {
   "cell_type": "code",
   "execution_count": 9,
   "id": "7ca6cbdc-d7b7-4b4c-936e-c6d4273cdf6d",
   "metadata": {},
   "outputs": [],
   "source": [
    "def remove_columns_with_str(feature_df, list_of_strings_in_column_name):\n",
    "    \"\"\"\n",
    "    Remove columns from a DataFrame that contain specified strings in their names.\n",
    "\n",
    "    Parameters:\n",
    "    - feature_df (DataFrame): The DataFrame from which columns will be removed.\n",
    "    - list_of_strings_in_column_name (list): List of strings to search for in column names.\n",
    "\n",
    "    Returns:\n",
    "    - DataFrame: DataFrame with specified columns removed.\n",
    "    \"\"\"\n",
    "    \n",
    "    for col_name_string in list_of_strings_in_column_name:\n",
    "        feature_df.drop(feature_df.columns[feature_df.columns.str.contains(col_name_string,case = False)], axis = 1, inplace = True)\n",
    "\n",
    "    return feature_df"
   ]
  },
  {
   "cell_type": "code",
   "execution_count": 10,
   "id": "090d2405-01d4-438f-9fd8-a54cd3c0bb72",
   "metadata": {},
   "outputs": [],
   "source": [
    "def load_folds(subject_list, parent_directory=\"Time_Seris\"):\n",
    "    \n",
    "    train_indices = {}\n",
    "    validation_indices = {}\n",
    "    test_indices = {}\n",
    "\n",
    "\n",
    "    for subject in subject_list:\n",
    "        train_path = os.path.join(parent_directory, \"Train_Test_Splitting\", str(subject), \"Train_Indices_All_Labels_All_Folds.npy\")\n",
    "        validation_path = os.path.join(parent_directory, \"Train_Test_Splitting\", str(subject), \"Validation_Indices_All_Labels_All_Folds.npy\")\n",
    "        test_path = os.path.join(parent_directory, \"Train_Test_Splitting\", str(subject), \"Final_Test_Set_Indices_All_Labels.npy\")\n",
    "\n",
    "        train_indices[subject] = np.load(train_path, allow_pickle=True).item()\n",
    "        validation_indices[subject] = np.load(validation_path, allow_pickle=True).item()\n",
    "        test_indices[subject] = np.load(test_path, allow_pickle=True).item()\n",
    "\n",
    "    return train_indices, validation_indices, test_indices"
   ]
  },
  {
   "cell_type": "code",
   "execution_count": null,
   "id": "e43ff773-cb78-4efb-a94a-0ab7bc6dd00f",
   "metadata": {},
   "outputs": [],
   "source": []
  },
  {
   "cell_type": "code",
   "execution_count": null,
   "id": "2eef0334-548f-444d-9905-04f92a69da60",
   "metadata": {},
   "outputs": [],
   "source": []
  }
 ],
 "metadata": {
  "kernelspec": {
   "display_name": "Python 3 (ipykernel)",
   "language": "python",
   "name": "python3"
  },
  "language_info": {
   "codemirror_mode": {
    "name": "ipython",
    "version": 3
   },
   "file_extension": ".py",
   "mimetype": "text/x-python",
   "name": "python",
   "nbconvert_exporter": "python",
   "pygments_lexer": "ipython3",
   "version": "3.10.12"
  }
 },
 "nbformat": 4,
 "nbformat_minor": 5
}
