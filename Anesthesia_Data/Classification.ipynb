{
 "cells": [
  {
   "cell_type": "code",
   "execution_count": 1,
   "id": "e9f3ffa4-2d95-4158-8ac6-92b145e05e0b",
   "metadata": {},
   "outputs": [],
   "source": [
    "import import_ipynb\n",
    "import pandas as pd\n",
    "import numpy as np\n",
    "from sklearn.ensemble import RandomForestClassifier\n",
    "from sklearn.metrics import accuracy_score, confusion_matrix, precision_score, recall_score, ConfusionMatrixDisplay\n",
    "from sklearn.model_selection import RandomizedSearchCV\n",
    "from scipy.stats import randint\n",
    "from sklearn.utils import shuffle\n",
    "import xgboost as xgb\n",
    "import matplotlib.pyplot as plt\n",
    "import os\n",
    "\n",
    "# Import functions from other Jupyter notebook\n",
    "import Utils.Time_Series_Classification_Helpers as ts_helpers\n",
    "import Utils.Brain_Imaging_Classification_Helpers as bi_helpers\n",
    "import Utils.Classification_Helpers as helpers"
   ]
  },
  {
   "cell_type": "markdown",
   "id": "d96ef8fb-0483-47c0-a098-4765de47b4f5",
   "metadata": {},
   "source": [
    "# Import and Concatenate Data"
   ]
  },
  {
   "cell_type": "code",
   "execution_count": 2,
   "id": "2f75c8ef-3e10-4015-97fc-3ca101ddcdc7",
   "metadata": {},
   "outputs": [],
   "source": [
    "subject_list = [\"m292\", \"m294\"]\n",
    "label_list = [0, 1, 2, 3, 4]"
   ]
  },
  {
   "cell_type": "markdown",
   "id": "91606fe6-282e-411f-8553-6004006825e6",
   "metadata": {},
   "source": [
    "## EEG/EMG Data"
   ]
  },
  {
   "cell_type": "code",
   "execution_count": 3,
   "id": "4b7475ca-95b0-4b3c-a8ae-173396838058",
   "metadata": {},
   "outputs": [],
   "source": [
    "# Import dataframes that do not depend on folds\n",
    "list_of_filenames = [\"Topological_Summary_Statistics.csv\", \"Signature_Statistics.csv\", \"Advanced_Features.csv\"]\n",
    "time_series_feature_df = ts_helpers.import_and_concatenate_datasets(subject_list, list_of_filenames, parent_directory=\"Time_Series\")\n"
   ]
  },
  {
   "cell_type": "markdown",
   "id": "77b7cfeb-ec9d-46d8-8c41-335c02cab04e",
   "metadata": {},
   "source": [
    "## Brain Imaging"
   ]
  },
  {
   "cell_type": "code",
   "execution_count": 4,
   "id": "37da4a99-6ca7-46dd-940c-bf5eedc64963",
   "metadata": {},
   "outputs": [],
   "source": [
    "list_of_filenames = [\"Topological_Summary_Statistics.csv\", \"Signature_Statistics.csv\", \"Advanced_Features.csv\"]\n",
    "_, subject_feature_df = bi_helpers.import_and_concatenate_datasets(subject_list, list_of_filenames, parent_directory=\"Brain_Imaging\")\n",
    "\n",
    "brain_imaging_feature_df = bi_helpers.cut_dataframe_to_same_length_as_TS(subject_feature_df, subject_list)"
   ]
  },
  {
   "cell_type": "markdown",
   "id": "6849e607-40b5-485b-9584-9f4e30749248",
   "metadata": {},
   "source": [
    "## Merging"
   ]
  },
  {
   "cell_type": "code",
   "execution_count": 29,
   "id": "111bbc4d-94de-451d-8432-51cad0b6344e",
   "metadata": {},
   "outputs": [],
   "source": [
    "def merge_feature_dfs(time_series_feature_df, brain_imaging_feature_df):\n",
    "    \"\"\"\n",
    "    Merge time series and brain imaging feature DataFrames.\n",
    "    \n",
    "    Args:\n",
    "    - time_series_feature_df (pandas.DataFrame): DataFrame containing time series features.\n",
    "    - brain_imaging_feature_df (pandas.DataFrame): DataFrame containing brain imaging features.\n",
    "    \n",
    "    Returns:\n",
    "    - pandas.DataFrame: Merged DataFrame containing both time series and brain imaging features.\n",
    "    \"\"\"\n",
    "    feature_df = pd.merge(time_series_feature_df, brain_imaging_feature_df, left_index=True, right_index=True, suffixes=('', '_BI'))\n",
    "    feature_df.reset_index(inplace=True)\n",
    "    feature_df.drop(columns=[\"index\"], inplace=True)\n",
    "\n",
    "    return feature_df\n",
    "\n",
    "feature_df = merge_feature_dfs(time_series_feature_df, brain_imaging_feature_df)"
   ]
  },
  {
   "cell_type": "code",
   "execution_count": 30,
   "id": "941f2323-6fcb-4244-bec1-01995659228c",
   "metadata": {},
   "outputs": [
    {
     "name": "stdout",
     "output_type": "stream",
     "text": [
      "There are 671 features in the main dataframe.\n"
     ]
    }
   ],
   "source": [
    "print(\"There are \"+str(len(feature_df.columns))+\" features in the main dataframe.\")"
   ]
  },
  {
   "cell_type": "code",
   "execution_count": 31,
   "id": "9ac4bb0f-5405-446b-861f-b6fd7d0169f4",
   "metadata": {},
   "outputs": [
    {
     "name": "stdout",
     "output_type": "stream",
     "text": [
      "There are 55 features in the main dataframe after filtering.\n"
     ]
    }
   ],
   "source": [
    "list_of_strings_in_column_name = [\"_Vectorization_Coordinate_\", \"L1\"]\n",
    "\n",
    "feature_df = helpers.remove_columns_with_str(feature_df, list_of_strings_in_column_name)\n",
    "\n",
    "print(\"There are \"+str(len(feature_df.columns))+\" features in the main dataframe after filtering.\")"
   ]
  },
  {
   "cell_type": "code",
   "execution_count": 49,
   "id": "f00f73c8-00cf-4eca-afe8-001ad4a949ea",
   "metadata": {},
   "outputs": [
    {
     "data": {
      "text/plain": [
       "0      False\n",
       "1      False\n",
       "2      False\n",
       "3      False\n",
       "4      False\n",
       "       ...  \n",
       "735    False\n",
       "736    False\n",
       "737    False\n",
       "738    False\n",
       "739    False\n",
       "Length: 740, dtype: bool"
      ]
     },
     "execution_count": 49,
     "metadata": {},
     "output_type": "execute_result"
    }
   ],
   "source": [
    "# Check for duplicate rows\n",
    "duplicate_rows = feature_df.duplicated()\n",
    "\n",
    "# Print duplicate rows\n",
    "print(feature_df[duplicate_rows])"
   ]
  },
  {
   "cell_type": "markdown",
   "id": "6f333182-30ea-498e-9fe7-030de10a57e8",
   "metadata": {},
   "source": [
    "# Cross Validation"
   ]
  },
  {
   "cell_type": "code",
   "execution_count": 32,
   "id": "f31f43ca-5ac2-4218-a216-f6965f8e3683",
   "metadata": {},
   "outputs": [],
   "source": [
    "# TODO This can be in the helper file as well\n",
    "train_indices, validation_indices, test_indices = helpers.load_folds(subject_list, parent_directory = \"Time_Series\")"
   ]
  },
  {
   "cell_type": "code",
   "execution_count": 33,
   "id": "0271349f-3574-4d9c-878a-d8e729295d0b",
   "metadata": {},
   "outputs": [],
   "source": [
    "train_features_dfs_all_folds, train_labels_all_folds = helpers.filter_dataframe_with_indices(feature_df, train_indices, label_list)\n",
    "validation_features_dfs_all_folds, validation_labels_all_folds = helpers.filter_dataframe_with_indices(feature_df, validation_indices, label_list)"
   ]
  },
  {
   "cell_type": "markdown",
   "id": "978ef87d-35d6-49ad-92d1-8bef1d6dde68",
   "metadata": {},
   "source": [
    "## Reformat Data"
   ]
  },
  {
   "cell_type": "code",
   "execution_count": 39,
   "id": "8d95dca4-2839-4b6e-888c-b66b55ecd036",
   "metadata": {},
   "outputs": [],
   "source": [
    "X_train, y_train, X_test, y_test = helpers.initialize_fold_dicts(train_features_dfs_all_folds, train_labels_all_folds, validation_features_dfs_all_folds, validation_labels_all_folds)"
   ]
  },
  {
   "cell_type": "markdown",
   "id": "6da2b3d7-ca4d-4ac5-9de8-467761aa92c8",
   "metadata": {},
   "source": [
    "## Random Forest"
   ]
  },
  {
   "cell_type": "code",
   "execution_count": 40,
   "id": "d7db5732-bed7-40a2-9eb4-923cffd87ff7",
   "metadata": {},
   "outputs": [
    {
     "name": "stderr",
     "output_type": "stream",
     "text": [
      "/Users/piabaronetzky/anaconda3/envs/time-delay-embeddings/lib/python3.10/site-packages/sklearn/utils/validation.py:623: FutureWarning: is_sparse is deprecated and will be removed in a future version. Check `isinstance(dtype, pd.SparseDtype)` instead.\n",
      "  if not hasattr(array, \"sparse\") and array.dtypes.apply(is_sparse).any():\n",
      "/Users/piabaronetzky/anaconda3/envs/time-delay-embeddings/lib/python3.10/site-packages/sklearn/utils/validation.py:623: FutureWarning: is_sparse is deprecated and will be removed in a future version. Check `isinstance(dtype, pd.SparseDtype)` instead.\n",
      "  if not hasattr(array, \"sparse\") and array.dtypes.apply(is_sparse).any():\n",
      "/Users/piabaronetzky/anaconda3/envs/time-delay-embeddings/lib/python3.10/site-packages/sklearn/utils/validation.py:623: FutureWarning: is_sparse is deprecated and will be removed in a future version. Check `isinstance(dtype, pd.SparseDtype)` instead.\n",
      "  if not hasattr(array, \"sparse\") and array.dtypes.apply(is_sparse).any():\n"
     ]
    },
    {
     "name": "stdout",
     "output_type": "stream",
     "text": [
      "Accuracy for fold 1 : 1.0\n"
     ]
    },
    {
     "name": "stderr",
     "output_type": "stream",
     "text": [
      "/Users/piabaronetzky/anaconda3/envs/time-delay-embeddings/lib/python3.10/site-packages/sklearn/utils/validation.py:623: FutureWarning: is_sparse is deprecated and will be removed in a future version. Check `isinstance(dtype, pd.SparseDtype)` instead.\n",
      "  if not hasattr(array, \"sparse\") and array.dtypes.apply(is_sparse).any():\n",
      "/Users/piabaronetzky/anaconda3/envs/time-delay-embeddings/lib/python3.10/site-packages/sklearn/utils/validation.py:623: FutureWarning: is_sparse is deprecated and will be removed in a future version. Check `isinstance(dtype, pd.SparseDtype)` instead.\n",
      "  if not hasattr(array, \"sparse\") and array.dtypes.apply(is_sparse).any():\n"
     ]
    },
    {
     "name": "stdout",
     "output_type": "stream",
     "text": [
      "Accuracy for fold 2 : 1.0\n"
     ]
    },
    {
     "name": "stderr",
     "output_type": "stream",
     "text": [
      "/Users/piabaronetzky/anaconda3/envs/time-delay-embeddings/lib/python3.10/site-packages/sklearn/utils/validation.py:623: FutureWarning: is_sparse is deprecated and will be removed in a future version. Check `isinstance(dtype, pd.SparseDtype)` instead.\n",
      "  if not hasattr(array, \"sparse\") and array.dtypes.apply(is_sparse).any():\n",
      "/Users/piabaronetzky/anaconda3/envs/time-delay-embeddings/lib/python3.10/site-packages/sklearn/utils/validation.py:623: FutureWarning: is_sparse is deprecated and will be removed in a future version. Check `isinstance(dtype, pd.SparseDtype)` instead.\n",
      "  if not hasattr(array, \"sparse\") and array.dtypes.apply(is_sparse).any():\n"
     ]
    },
    {
     "name": "stdout",
     "output_type": "stream",
     "text": [
      "Accuracy for fold 3 : 1.0\n"
     ]
    },
    {
     "name": "stderr",
     "output_type": "stream",
     "text": [
      "/Users/piabaronetzky/anaconda3/envs/time-delay-embeddings/lib/python3.10/site-packages/sklearn/utils/validation.py:623: FutureWarning: is_sparse is deprecated and will be removed in a future version. Check `isinstance(dtype, pd.SparseDtype)` instead.\n",
      "  if not hasattr(array, \"sparse\") and array.dtypes.apply(is_sparse).any():\n",
      "/Users/piabaronetzky/anaconda3/envs/time-delay-embeddings/lib/python3.10/site-packages/sklearn/utils/validation.py:623: FutureWarning: is_sparse is deprecated and will be removed in a future version. Check `isinstance(dtype, pd.SparseDtype)` instead.\n",
      "  if not hasattr(array, \"sparse\") and array.dtypes.apply(is_sparse).any():\n"
     ]
    },
    {
     "name": "stdout",
     "output_type": "stream",
     "text": [
      "Accuracy for fold 4 : 0.9916666666666667\n",
      "Accuracy for fold 5 : 1.0\n",
      "Average Accuracy: 0.9983333333333334\n"
     ]
    },
    {
     "name": "stderr",
     "output_type": "stream",
     "text": [
      "/Users/piabaronetzky/anaconda3/envs/time-delay-embeddings/lib/python3.10/site-packages/sklearn/utils/validation.py:623: FutureWarning: is_sparse is deprecated and will be removed in a future version. Check `isinstance(dtype, pd.SparseDtype)` instead.\n",
      "  if not hasattr(array, \"sparse\") and array.dtypes.apply(is_sparse).any():\n"
     ]
    }
   ],
   "source": [
    "helpers.train_rf_cross_validation(X_train, y_train, X_test, y_test)"
   ]
  },
  {
   "cell_type": "markdown",
   "id": "7a4b19a8-1e2d-4141-987d-db3d9c82a33b",
   "metadata": {},
   "source": [
    "## XGBoost"
   ]
  },
  {
   "cell_type": "code",
   "execution_count": 44,
   "id": "0054a3dd-689f-42a5-a4c7-0ade05d46ad8",
   "metadata": {},
   "outputs": [
    {
     "name": "stdout",
     "output_type": "stream",
     "text": [
      "Accuracy for fold 0 : 1.0\n",
      "Accuracy for fold 1 : 1.0\n",
      "Accuracy for fold 2 : 1.0\n",
      "Accuracy for fold 3 : 1.0\n",
      "Accuracy for fold 4 : 1.0\n",
      "Mean Accuracy: 1.0\n"
     ]
    }
   ],
   "source": [
    "mean_accuracy_xgb = helpers.train_xgb_cross_validation(X_train, y_train, X_test, y_test)"
   ]
  }
 ],
 "metadata": {
  "kernelspec": {
   "display_name": "Python 3 (ipykernel)",
   "language": "python",
   "name": "python3"
  },
  "language_info": {
   "codemirror_mode": {
    "name": "ipython",
    "version": 3
   },
   "file_extension": ".py",
   "mimetype": "text/x-python",
   "name": "python",
   "nbconvert_exporter": "python",
   "pygments_lexer": "ipython3",
   "version": "3.10.12"
  }
 },
 "nbformat": 4,
 "nbformat_minor": 5
}
