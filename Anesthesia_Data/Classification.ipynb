{
 "cells": [
  {
   "cell_type": "code",
   "execution_count": 48,
   "id": "e9f3ffa4-2d95-4158-8ac6-92b145e05e0b",
   "metadata": {},
   "outputs": [],
   "source": [
    "import pandas as pd\n",
    "import numpy as np\n",
    "from sklearn.ensemble import RandomForestClassifier\n",
    "from sklearn.metrics import accuracy_score, confusion_matrix, precision_score, recall_score, ConfusionMatrixDisplay\n",
    "from sklearn.model_selection import RandomizedSearchCV\n",
    "from scipy.stats import randint\n",
    "from sklearn.utils import shuffle\n",
    "import xgboost as xgb\n",
    "import matplotlib.pyplot as plt"
   ]
  },
  {
   "cell_type": "markdown",
   "id": "d96ef8fb-0483-47c0-a098-4765de47b4f5",
   "metadata": {},
   "source": [
    "# Import and Concatenate Data"
   ]
  },
  {
   "cell_type": "markdown",
   "id": "91606fe6-282e-411f-8553-6004006825e6",
   "metadata": {},
   "source": [
    "## EEG/EMG Data"
   ]
  },
  {
   "cell_type": "code",
   "execution_count": 49,
   "id": "2f75c8ef-3e10-4015-97fc-3ca101ddcdc7",
   "metadata": {},
   "outputs": [],
   "source": [
    "subject_list = [\"m292\", \"m294\"]"
   ]
  },
  {
   "cell_type": "code",
   "execution_count": 50,
   "id": "5d8e6a03-ae8f-4d2b-8e94-32a95b8398c8",
   "metadata": {},
   "outputs": [],
   "source": [
    "def import_and_concatenate_time_series_datasets(subject_list):\n",
    "    # TODO add comments\n",
    "\n",
    "    subject_feature_dfs = {}\n",
    "\n",
    "    # Create list of labels for all subjects\n",
    "\n",
    "    for subject_idx, subject in enumerate(subject_list):\n",
    "    \n",
    "        subject_feature_dfs[subject] = pd.DataFrame()\n",
    "\n",
    "        single_data_frames = {}\n",
    "    \n",
    "        for data_type in [\"EEG\", \"EMG\"]:\n",
    "            \n",
    "            single_data_frames[data_type] = []\n",
    "            \n",
    "            # Import feature datasets\n",
    "            single_data_frames[data_type].append(pd.read_csv(\"Time_Series/Features/\"+str(subject)+\"/\"+str(data_type)+\"/Topological_Summary_Statistics.csv\"))\n",
    "            single_data_frames[data_type].append(pd.read_csv(\"Time_Series/Features/\"+str(subject)+\"/\"+str(data_type)+\"/Signature_Statistics.csv\"))\n",
    "            single_data_frames[data_type].append(pd.read_csv(\"Time_Series/Features/\"+str(subject)+\"/\"+str(data_type)+\"/Advanced_Features.csv\"))\n",
    "\n",
    "\n",
    "            for df_idx, _ in enumerate(single_data_frames[data_type]):\n",
    "                    #single_data_frames[data_type][df_idx].drop(columns = [\"Label\"], inplace = True)\n",
    "                    single_data_frames[data_type][df_idx].drop(single_data_frames[data_type][df_idx].columns[single_data_frames[data_type][df_idx].columns.str.contains('unnamed',case = False)], axis = 1, inplace = True)\n",
    "\n",
    "\n",
    "        single_data_frames_both_datatypes = []\n",
    "\n",
    "            \n",
    "        for df_idx, _ in enumerate(single_data_frames[\"EEG\"]):\n",
    "\n",
    "            df_both_data_types = pd.DataFrame()\n",
    "            \n",
    "            for data_type in [\"EEG\", \"EMG\"]:\n",
    "                df_both_data_types = pd.concat([df_both_data_types, single_data_frames[data_type][df_idx]], axis=1)\n",
    "\n",
    "\n",
    "            # Concatenate dataframe to main dataframe\n",
    "            if len(subject_feature_dfs[subject].index > 0):\n",
    "                subject_feature_dfs[subject] = pd.concat([subject_feature_dfs[subject], df_both_data_types], axis=1)\n",
    "            else:\n",
    "                subject_feature_dfs[subject] = pd.concat([subject_feature_dfs[subject], df_both_data_types], ignore_index=True)\n",
    "                subject_feature_dfs[subject].drop(subject_feature_dfs[subject].columns[subject_feature_dfs[subject].columns.str.contains('_left',case = False)], axis = 1, inplace = True)\n",
    "\n",
    "        \n",
    "        subject_feature_dfs[subject][\"Subject\"] = subject_idx\n",
    "\n",
    "\n",
    "\n",
    "    feature_df = pd.concat([subject_feature_dfs[\"m292\"], subject_feature_dfs[\"m294\"]], ignore_index=True)\n",
    "    \n",
    "\n",
    "    all_labels = list(feature_df[\"Label\"].iloc[:, 0])\n",
    "    feature_df.drop(columns = [\"Label\"], inplace = True)\n",
    "        \n",
    "    return feature_df, all_labels\n",
    "\n",
    "time_series_feature_df, all_labels = import_and_concatenate_time_series_datasets(subject_list)"
   ]
  },
  {
   "cell_type": "markdown",
   "id": "77b7cfeb-ec9d-46d8-8c41-335c02cab04e",
   "metadata": {},
   "source": [
    "## Brain Imaging"
   ]
  },
  {
   "cell_type": "code",
   "execution_count": 51,
   "id": "37da4a99-6ca7-46dd-940c-bf5eedc64963",
   "metadata": {},
   "outputs": [],
   "source": [
    "def load_subject_feature_dfs(subjects):\n",
    "    \"\"\"\n",
    "    Load feature DataFrames for specified subjects.\n",
    "    \n",
    "    Args:\n",
    "    - subjects (list): List of subject names.\n",
    "    \n",
    "    Returns:\n",
    "    - dict: Dictionary containing subject feature DataFrames.\n",
    "    - list: List of all labels across subjects.\n",
    "    \"\"\"\n",
    "    subject_feature_dfs = {}\n",
    "    all_labels = []\n",
    "\n",
    "    for subject in subjects:\n",
    "        subject_feature_dfs[subject] = pd.DataFrame()\n",
    "        single_data_frames = []\n",
    "\n",
    "        single_data_frames.append(pd.read_csv(\"Brain_Imaging/Features/\"+str(subject)+\"/Topological_Summary_Statistics.csv\"))\n",
    "        single_data_frames.append(pd.read_csv(\"Brain_Imaging/Features/\"+str(subject)+\"/Advanced_Features.csv\"))\n",
    "        single_data_frames.append(pd.read_csv(\"Brain_Imaging/Features/\"+str(subject)+\"/Signature_Statistics.csv\"))\n",
    "\n",
    "        for df_idx, df in enumerate(single_data_frames):\n",
    "            df.drop(df.columns[df.columns.str.contains('unnamed',case=False)], axis=1, inplace=True)\n",
    "\n",
    "            if len(subject_feature_dfs[subject].index) > 0:\n",
    "                subject_feature_dfs[subject] = pd.concat([subject_feature_dfs[subject], df], axis=1)\n",
    "            else:\n",
    "                subject_feature_dfs[subject] = pd.concat([subject_feature_dfs[subject], df], ignore_index=True)\n",
    "                subject_feature_dfs[subject].drop(subject_feature_dfs[subject].columns[subject_feature_dfs[subject].columns.str.contains('_left',case=False)], axis=1, inplace=True)\n",
    "\n",
    "        for label in [0, 1, 2, 3, 4]:\n",
    "            subject_feature_dfs[subject] = subject_feature_dfs[subject].drop(subject_feature_dfs[subject][subject_feature_dfs[subject][\"Label\"].iloc[:, 0]==label].index[-1])\n",
    "\n",
    "        subject_feature_dfs[subject][\"Subject\"] = subjects.index(subject)\n",
    "\n",
    "        all_labels.extend(list(subject_feature_dfs[subject][\"Label\"].iloc[:, 0]))\n",
    "\n",
    "    brain_imaging_feature_df = pd.concat([subject_feature_dfs[subject] for subject in subjects], ignore_index=True)\n",
    "    brain_imaging_feature_df.drop(columns=[\"Label\"], inplace=True)\n",
    "\n",
    "    return subject_feature_dfs, all_labels, brain_imaging_feature_df\n",
    "\n",
    "subject_feature_dfs, all_labels, brain_imaging_feature_df = load_subject_feature_dfs(subject_list)\n"
   ]
  },
  {
   "cell_type": "code",
   "execution_count": 52,
   "id": "111bbc4d-94de-451d-8432-51cad0b6344e",
   "metadata": {},
   "outputs": [],
   "source": [
    "def merge_feature_dfs(time_series_feature_df, brain_imaging_feature_df):\n",
    "    \"\"\"\n",
    "    Merge time series and brain imaging feature DataFrames.\n",
    "    \n",
    "    Args:\n",
    "    - time_series_feature_df (pandas.DataFrame): DataFrame containing time series features.\n",
    "    - brain_imaging_feature_df (pandas.DataFrame): DataFrame containing brain imaging features.\n",
    "    \n",
    "    Returns:\n",
    "    - pandas.DataFrame: Merged DataFrame containing both time series and brain imaging features.\n",
    "    \"\"\"\n",
    "    feature_df = pd.merge(time_series_feature_df, brain_imaging_feature_df, left_index=True, right_index=True, suffixes=('_TS', '_BI'))\n",
    "    feature_df.reset_index(inplace=True)\n",
    "    feature_df.drop(columns=[\"index\"], inplace=True)\n",
    "    return feature_df\n",
    "\n",
    "merged_feature_df = merge_feature_dfs(time_series_feature_df, brain_imaging_feature_df)"
   ]
  },
  {
   "cell_type": "markdown",
   "id": "6f333182-30ea-498e-9fe7-030de10a57e8",
   "metadata": {},
   "source": [
    "# Cross Validation"
   ]
  },
  {
   "cell_type": "code",
   "execution_count": 53,
   "id": "53d9daa9-fed2-484c-9abe-484b7ad46e86",
   "metadata": {},
   "outputs": [],
   "source": [
    "def load_indices_all_subjects(subject_list):\n",
    "    \"\"\"\n",
    "    Load train, validation, and test set indices for all subjects.\n",
    "    \n",
    "    Args:\n",
    "    - subject_list (list): List of subject names.\n",
    "    \n",
    "    Returns:\n",
    "    - dict: Dictionary containing train indices for all subjects.\n",
    "    - dict: Dictionary containing validation indices for all subjects.\n",
    "    - dict: Dictionary containing test indices for all subjects.\n",
    "    \"\"\"\n",
    "    train_indices_dict_all_subjects = {}\n",
    "    validation_indices_dict_all_subjects = {}\n",
    "    test_indices_dict_all_subjects = {}\n",
    "\n",
    "    for subject in subject_list:\n",
    "        # Train indices\n",
    "        train_indices_dict_all_subjects[subject] = np.load(\"Time_Series/Train_Test_Splitting/\"+str(subject)+\"/Train_Indices_All_Labels_All_Folds.npy\", allow_pickle=True).item()\n",
    "\n",
    "        # Validation indices\n",
    "        validation_indices_dict_all_subjects[subject] = np.load(\"Time_Series/Train_Test_Splitting/\"+str(subject)+\"/Validation_Indices_All_Labels_All_Folds.npy\", allow_pickle=True).item()\n",
    "\n",
    "        # Final Test set indices\n",
    "        test_indices_dict_all_subjects[subject] = np.load(\"Time_Series/Train_Test_Splitting/\"+str(subject)+\"/Final_Test_Set_Indices_All_Labels.npy\", allow_pickle=True).item()\n",
    "\n",
    "    return train_indices_dict_all_subjects, validation_indices_dict_all_subjects, test_indices_dict_all_subjects\n",
    "\n",
    "train_indices, validation_indices, test_indices = load_indices_all_subjects(subject_list)\n"
   ]
  },
  {
   "cell_type": "code",
   "execution_count": 54,
   "id": "8a847201-5791-4913-b4fb-2817eb2a240c",
   "metadata": {},
   "outputs": [],
   "source": [
    "def filter_dataframe_with_indices(feature_df, all_labels, indices_dict_all_subjects):\n",
    "    \"\"\"\n",
    "    indices_dict_all_subjects: Dictionary. Structure {subject: {label: {fold: indices list}}}.\n",
    "    The indices list is a list of indices within each \"label\" dataframe (for each subject). If there are\n",
    "    71 segments of each label (for a subject), then the indices list would be a subset of range(0, 71).\n",
    "    \"\"\"\n",
    "\n",
    "    features_dfs_all_folds = {}\n",
    "    labels_all_folds = {}\n",
    "\n",
    "    # Initialize dictionarys with folds as keys and the train/validation sets/ their labels as values\n",
    "    subject = list(indices_dict_all_subjects.keys())[0]\n",
    "    for fold, fold_key in enumerate(indices_dict_all_subjects[subject][list(indices_dict_all_subjects[subject].keys())[0]]):\n",
    "        features_dfs_all_folds[fold_key] = pd.DataFrame()\n",
    "        labels_all_folds[fold_key] = []\n",
    "\n",
    "    \n",
    "    for subject_idx, subject in enumerate(indices_dict_all_subjects.keys()):\n",
    "\n",
    "        # dictionarys with folds as labels and the train/validation sets/ their labels as values \n",
    "        labels_with_set_indices = {}\n",
    "        features_dfs_for_subject = {}\n",
    "\n",
    "        filtered_subject_df = feature_df[feature_df[\"Subject_BI\"] == subject_idx]\n",
    "\n",
    "        indices_filtered_subject_df = filtered_subject_df.index # Save indices for labels\n",
    "        labels_for_subject = [all_labels[idx] for idx in indices_filtered_subject_df]\n",
    "        \n",
    "        filtered_subject_df = filtered_subject_df.reset_index()\n",
    "\n",
    "\n",
    "        for fold, fold_key in enumerate(indices_dict_all_subjects[subject][list(indices_dict_all_subjects[subject].keys())[0]]):\n",
    "            \n",
    "            features_dfs_for_subject[fold_key] = pd.DataFrame()\n",
    "            labels_with_set_indices[fold_key] = []\n",
    "\n",
    "        \n",
    "\n",
    "        for label, label_key in enumerate(train_indices_dict_all_subjects[subject].keys()):\n",
    "\n",
    "            indices_of_label_within_subject_dataframe = [index for index, value in enumerate(labels_for_subject) if value == label]\n",
    "\n",
    "\n",
    "            filtered_label_df = filtered_subject_df.loc[indices_of_label_within_subject_dataframe]\n",
    "\n",
    "            #filtered_label_df.drop(columns = [\"level_0\"], inplace = True)\n",
    "\n",
    "            filtered_label_df = filtered_label_df.reset_index()\n",
    "\n",
    "\n",
    "            for fold, fold_key in enumerate(indices_dict_all_subjects[subject][label_key].keys()):\n",
    "\n",
    "                set_indices_in_filtered_df = indices_dict_all_subjects[subject][label_key][fold_key]\n",
    "\n",
    "\n",
    "                feature_df_with_set_indices = filtered_label_df.loc[set_indices_in_filtered_df]\n",
    "\n",
    "                labels_with_set_indices[fold_key].extend([label]*len(feature_df_with_set_indices.index))\n",
    "                \n",
    "        \n",
    "                features_dfs_for_subject[fold_key] = pd.concat([features_dfs_for_subject[fold_key], feature_df_with_set_indices], ignore_index=True)\n",
    "\n",
    "        \n",
    "        for fold, fold_key in enumerate(indices_dict_all_subjects[subject][list(indices_dict_all_subjects[subject].keys())[0]]):\n",
    "            features_dfs_all_folds[fold_key] =  pd.concat([features_dfs_for_subject[fold_key], features_dfs_for_subject[fold_key]], ignore_index=True)\n",
    "\n",
    "            labels_all_folds[fold_key].extend(labels_with_set_indices[fold_key])\n",
    "            \n",
    "            # Postprocessing\n",
    "            features_dfs_all_folds[fold_key].drop(columns = [\"level_0\"], inplace = True)\n",
    "            features_dfs_all_folds[fold_key].drop(columns = [\"index\"], inplace = True)\n",
    "\n",
    "\n",
    "    \n",
    "    return features_dfs_all_folds, labels_all_folds\n",
    "\n",
    "train_features_dfs_all_folds, train_labels_all_folds = filter_dataframe_with_indices(feature_df, all_labels, train_indices_dict_all_subjects)\n",
    "validation_features_dfs_all_folds, validation_labels_all_folds = filter_dataframe_with_indices(feature_df, all_labels, validation_indices_dict_all_subjects)"
   ]
  },
  {
   "cell_type": "code",
   "execution_count": 55,
   "id": "2a7ee179-c018-4918-9c0a-695dde810eaa",
   "metadata": {},
   "outputs": [],
   "source": [
    "def initialize_fold_dicts(train_features_dfs_all_folds, train_labels_all_folds, validation_features_dfs_all_folds, validation_labels_all_folds, n_folds):\n",
    "    \"\"\"\n",
    "    Initialize dictionaries with folds as keys and assign features and labels accordingly.\n",
    "    \n",
    "    Args:\n",
    "    - train_features_dfs_all_folds (dict): Dictionary containing training features for all folds.\n",
    "    - train_labels_all_folds (dict): Dictionary containing training labels for all folds.\n",
    "    - validation_features_dfs_all_folds (dict): Dictionary containing validation features for all folds.\n",
    "    - validation_labels_all_folds (dict): Dictionary containing validation labels for all folds.\n",
    "    - n_folds (int): Number of folds.\n",
    "    \n",
    "    Returns:\n",
    "    - dict: Dictionary containing training features for each fold.\n",
    "    - dict: Dictionary containing training labels for each fold.\n",
    "    - dict: Dictionary containing validation features for each fold.\n",
    "    - dict: Dictionary containing validation labels for each fold.\n",
    "    \"\"\"\n",
    "    X_train = {}\n",
    "    y_train = {}\n",
    "    X_test = {}\n",
    "    y_test = {}\n",
    "\n",
    "    for fold in range(n_folds):\n",
    "        # Set random seed for reproducibility\n",
    "        np.random.seed(42)\n",
    "\n",
    "        # Shuffle indices\n",
    "        indices_train = np.random.permutation(len(train_features_dfs_all_folds[\"Fold_\" + str(fold)]))\n",
    "        indices_test = np.random.permutation(len(validation_features_dfs_all_folds[\"Fold_\" + str(fold)]))\n",
    "\n",
    "        # Shuffle rows of X_train[fold] and y_train[fold]\n",
    "        X_train_fold = train_features_dfs_all_folds[\"Fold_\" + str(fold)].iloc[indices_train]\n",
    "        y_train_fold = [train_labels_all_folds[\"Fold_\" + str(fold)][index] for index in indices_train]\n",
    "\n",
    "        # Shuffle rows of X_test[fold] and y_test[fold]\n",
    "        X_test_fold = validation_features_dfs_all_folds[\"Fold_\" + str(fold)].iloc[indices_test]\n",
    "        y_test_fold = [validation_labels_all_folds[\"Fold_\" + str(fold)][index] for index in indices_test]\n",
    "\n",
    "        X_train[fold] = X_train_fold\n",
    "        y_train[fold] = y_train_fold\n",
    "        X_test[fold] = X_test_fold\n",
    "        y_test[fold] = y_test_fold\n",
    "\n",
    "    return X_train, y_train, X_test, y_test\n",
    "\n",
    "X_train, y_train, X_test, y_test = initialize_fold_dicts(train_features_dfs_all_folds, train_labels_all_folds, validation_features_dfs_all_folds, validation_labels_all_folds, n_folds)"
   ]
  },
  {
   "cell_type": "markdown",
   "id": "6da2b3d7-ca4d-4ac5-9de8-467761aa92c8",
   "metadata": {},
   "source": [
    "# Random Forest"
   ]
  },
  {
   "cell_type": "code",
   "execution_count": 59,
   "id": "51a5995c-42e5-41c8-ad7a-a787e5e4029b",
   "metadata": {},
   "outputs": [
    {
     "name": "stderr",
     "output_type": "stream",
     "text": [
      "/Users/piabaronetzky/anaconda3/envs/time-delay-embeddings/lib/python3.10/site-packages/sklearn/utils/validation.py:623: FutureWarning: is_sparse is deprecated and will be removed in a future version. Check `isinstance(dtype, pd.SparseDtype)` instead.\n",
      "  if not hasattr(array, \"sparse\") and array.dtypes.apply(is_sparse).any():\n",
      "/Users/piabaronetzky/anaconda3/envs/time-delay-embeddings/lib/python3.10/site-packages/sklearn/utils/validation.py:623: FutureWarning: is_sparse is deprecated and will be removed in a future version. Check `isinstance(dtype, pd.SparseDtype)` instead.\n",
      "  if not hasattr(array, \"sparse\") and array.dtypes.apply(is_sparse).any():\n",
      "/Users/piabaronetzky/anaconda3/envs/time-delay-embeddings/lib/python3.10/site-packages/sklearn/utils/validation.py:623: FutureWarning: is_sparse is deprecated and will be removed in a future version. Check `isinstance(dtype, pd.SparseDtype)` instead.\n",
      "  if not hasattr(array, \"sparse\") and array.dtypes.apply(is_sparse).any():\n"
     ]
    },
    {
     "name": "stdout",
     "output_type": "stream",
     "text": [
      "Accuracy for fold 0 : 1.0\n"
     ]
    },
    {
     "name": "stderr",
     "output_type": "stream",
     "text": [
      "/Users/piabaronetzky/anaconda3/envs/time-delay-embeddings/lib/python3.10/site-packages/sklearn/utils/validation.py:623: FutureWarning: is_sparse is deprecated and will be removed in a future version. Check `isinstance(dtype, pd.SparseDtype)` instead.\n",
      "  if not hasattr(array, \"sparse\") and array.dtypes.apply(is_sparse).any():\n",
      "/Users/piabaronetzky/anaconda3/envs/time-delay-embeddings/lib/python3.10/site-packages/sklearn/utils/validation.py:623: FutureWarning: is_sparse is deprecated and will be removed in a future version. Check `isinstance(dtype, pd.SparseDtype)` instead.\n",
      "  if not hasattr(array, \"sparse\") and array.dtypes.apply(is_sparse).any():\n"
     ]
    },
    {
     "name": "stdout",
     "output_type": "stream",
     "text": [
      "Accuracy for fold 1 : 0.9666666666666667\n"
     ]
    },
    {
     "name": "stderr",
     "output_type": "stream",
     "text": [
      "/Users/piabaronetzky/anaconda3/envs/time-delay-embeddings/lib/python3.10/site-packages/sklearn/utils/validation.py:623: FutureWarning: is_sparse is deprecated and will be removed in a future version. Check `isinstance(dtype, pd.SparseDtype)` instead.\n",
      "  if not hasattr(array, \"sparse\") and array.dtypes.apply(is_sparse).any():\n",
      "/Users/piabaronetzky/anaconda3/envs/time-delay-embeddings/lib/python3.10/site-packages/sklearn/utils/validation.py:623: FutureWarning: is_sparse is deprecated and will be removed in a future version. Check `isinstance(dtype, pd.SparseDtype)` instead.\n",
      "  if not hasattr(array, \"sparse\") and array.dtypes.apply(is_sparse).any():\n"
     ]
    },
    {
     "name": "stdout",
     "output_type": "stream",
     "text": [
      "Accuracy for fold 2 : 1.0\n"
     ]
    },
    {
     "name": "stderr",
     "output_type": "stream",
     "text": [
      "/Users/piabaronetzky/anaconda3/envs/time-delay-embeddings/lib/python3.10/site-packages/sklearn/utils/validation.py:623: FutureWarning: is_sparse is deprecated and will be removed in a future version. Check `isinstance(dtype, pd.SparseDtype)` instead.\n",
      "  if not hasattr(array, \"sparse\") and array.dtypes.apply(is_sparse).any():\n",
      "/Users/piabaronetzky/anaconda3/envs/time-delay-embeddings/lib/python3.10/site-packages/sklearn/utils/validation.py:623: FutureWarning: is_sparse is deprecated and will be removed in a future version. Check `isinstance(dtype, pd.SparseDtype)` instead.\n",
      "  if not hasattr(array, \"sparse\") and array.dtypes.apply(is_sparse).any():\n"
     ]
    },
    {
     "name": "stdout",
     "output_type": "stream",
     "text": [
      "Accuracy for fold 3 : 1.0\n",
      "Accuracy for fold 4 : 1.0\n",
      "Mean Accuracy: 0.9933333333333334\n"
     ]
    },
    {
     "name": "stderr",
     "output_type": "stream",
     "text": [
      "/Users/piabaronetzky/anaconda3/envs/time-delay-embeddings/lib/python3.10/site-packages/sklearn/utils/validation.py:623: FutureWarning: is_sparse is deprecated and will be removed in a future version. Check `isinstance(dtype, pd.SparseDtype)` instead.\n",
      "  if not hasattr(array, \"sparse\") and array.dtypes.apply(is_sparse).any():\n"
     ]
    }
   ],
   "source": [
    "def train_rf_cross_validation(X_train, y_train, X_test, y_test, n_estimators=900, random_state=5):\n",
    "    \"\"\"\n",
    "    Train RandomForestClassifier using cross-validation and calculate mean accuracy.\n",
    "    \n",
    "    Args:\n",
    "    - X_train (dict): Dictionary containing training features for each fold.\n",
    "    - y_train (dict): Dictionary containing training labels for each fold.\n",
    "    - X_test (dict): Dictionary containing validation features for each fold.\n",
    "    - y_test (dict): Dictionary containing validation labels for each fold.\n",
    "    - n_estimators (int): Number of trees in the forest (default=900).\n",
    "    - random_state (int): Random seed (default=5).\n",
    "    \n",
    "    Returns:\n",
    "    - float: Mean accuracy across all folds.\n",
    "    \"\"\"\n",
    "    rf = RandomForestClassifier(random_state=random_state, n_estimators=n_estimators)\n",
    "    all_accuracies = []\n",
    "\n",
    "    for fold in range(len(X_train)):\n",
    "        rf.fit(X_train[fold], y_train[fold])\n",
    "        y_pred = rf.predict(X_test[fold])\n",
    "        accuracy = accuracy_score(y_pred, y_test[fold])\n",
    "        all_accuracies.append(accuracy)\n",
    "        print(\"Accuracy for fold\", fold, \":\", accuracy)\n",
    "\n",
    "    mean_accuracy = np.mean(all_accuracies)\n",
    "    print(\"Mean Accuracy:\", mean_accuracy)\n",
    "    return mean_accuracy\n",
    "\n",
    "mean_accuracy = train_rf_cross_validation(X_train, y_train, X_test, y_test)\n"
   ]
  },
  {
   "cell_type": "markdown",
   "id": "7a4b19a8-1e2d-4141-987d-db3d9c82a33b",
   "metadata": {},
   "source": [
    "# XGBoost"
   ]
  },
  {
   "cell_type": "code",
   "execution_count": 29,
   "id": "0054a3dd-689f-42a5-a4c7-0ade05d46ad8",
   "metadata": {},
   "outputs": [
    {
     "name": "stdout",
     "output_type": "stream",
     "text": [
      "Accuracy for fold 0 : 1.0\n",
      "Accuracy for fold 1 : 0.9333333333333333\n",
      "Accuracy for fold 2 : 1.0\n",
      "Accuracy for fold 3 : 0.9833333333333333\n",
      "Accuracy for fold 4 : 0.9818181818181818\n",
      "Mean Accuracy: 0.9796969696969697\n"
     ]
    }
   ],
   "source": [
    "def train_xgb_cross_validation(X_train, y_train, X_test, y_test, seed=41):\n",
    "    \"\"\"\n",
    "    Train XGBoost Classifier using cross-validation and calculate mean accuracy.\n",
    "    \n",
    "    Args:\n",
    "    - X_train (dict): Dictionary containing training features for each fold.\n",
    "    - y_train (dict): Dictionary containing training labels for each fold.\n",
    "    - X_test (dict): Dictionary containing validation features for each fold.\n",
    "    - y_test (dict): Dictionary containing validation labels for each fold.\n",
    "    - seed (int): Random seed (default=41).\n",
    "    \n",
    "    Returns:\n",
    "    - float: Mean accuracy across all folds.\n",
    "    \"\"\"\n",
    "    model = xgb.XGBClassifier(seed=seed)\n",
    "    all_accuracies = []\n",
    "\n",
    "    for fold in range(len(X_train)):\n",
    "        # Remove duplicate columns\n",
    "        X_train[fold] = X_train[fold].loc[:, ~X_train[fold].columns.duplicated()]\n",
    "\n",
    "        model.fit(X_train[fold], y_train[fold])\n",
    "\n",
    "        X_test[fold] = X_test[fold].loc[:, ~X_test[fold].columns.duplicated()]\n",
    "\n",
    "        y_pred = model.predict(X_test[fold])\n",
    "        accuracy = accuracy_score(y_pred, y_test[fold])\n",
    "        all_accuracies.append(accuracy)\n",
    "        print(\"Accuracy for fold\", fold, \":\", accuracy)\n",
    "\n",
    "    mean_accuracy = np.mean(all_accuracies)\n",
    "    print(\"Mean Accuracy:\", mean_accuracy)\n",
    "    return mean_accuracy\n",
    "\n",
    "# Example usage\n",
    "mean_accuracy_xgb = train_xgb_cross_validation(X_train, y_train, X_test, y_test)\n"
   ]
  },
  {
   "cell_type": "markdown",
   "id": "a0dd4b50-75a9-4a14-bc8b-ee27793f675f",
   "metadata": {},
   "source": [
    "## Parameter Tuning"
   ]
  },
  {
   "cell_type": "code",
   "execution_count": 30,
   "id": "10705209-4cf5-4c8d-a4a5-83f825ab9b55",
   "metadata": {},
   "outputs": [
    {
     "name": "stderr",
     "output_type": "stream",
     "text": [
      "\n",
      "KeyboardInterrupt\n",
      "\n"
     ]
    }
   ],
   "source": [
    "import xgboost as xgb\n",
    "from sklearn.model_selection import GridSearchCV\n",
    "from sklearn.metrics import accuracy_score\n",
    "import numpy as np\n",
    "\n",
    "def tune_xgb_parameters(X_train, y_train, X_test, y_test, param_grid, n_folds, seed=3):\n",
    "    \"\"\"\n",
    "    Perform hyperparameter tuning for XGBoost Classifier.\n",
    "    \n",
    "    Args:\n",
    "    - X_train (dict): Dictionary containing training features for each fold.\n",
    "    - y_train (dict): Dictionary containing training labels for each fold.\n",
    "    - X_test (dict): Dictionary containing validation features for each fold.\n",
    "    - y_test (dict): Dictionary containing validation labels for each fold.\n",
    "    - param_grid (dict): Parameter grid for hyperparameter tuning.\n",
    "    - n_folds (int): Number of folds for cross-validation.\n",
    "    - seed (int): Random seed (default=3).\n",
    "    \n",
    "    Returns:\n",
    "    - float: Average accuracy over all folds.\n",
    "    - list: List of best models for each fold.\n",
    "    \"\"\"\n",
    "    model = xgb.XGBClassifier(seed=seed)\n",
    "    grid_search = GridSearchCV(model, param_grid, cv=n_folds, scoring='accuracy')\n",
    "\n",
    "    best_models = []\n",
    "    for fold in range(n_folds):\n",
    "        X_train_fold = X_train[fold].loc[:, ~X_train[fold].columns.duplicated()]\n",
    "        X_test_fold = X_test[fold].loc[:, ~X_test[fold].columns.duplicated()]\n",
    "\n",
    "        grid_search.fit(X_train_fold, y_train[fold])\n",
    "\n",
    "        best_model = grid_search.best_estimator_\n",
    "        best_models.append(best_model)\n",
    "\n",
    "        y_pred = best_model.predict(X_test_fold)\n",
    "        accuracy = accuracy_score(y_pred, y_test[fold])\n",
    "        print(f\"Fold {fold + 1} - Best Parameters: {grid_search.best_params_}, Accuracy: {accuracy}\")\n",
    "\n",
    "    average_accuracy = np.mean([accuracy_score(y_test[i], best_models[i].predict(X_test[i].loc[:, ~X_test[i].columns.duplicated()])) for i in range(n_folds)])\n",
    "    print(\"Average Accuracy:\", average_accuracy)\n",
    "    return average_accuracy, best_models\n",
    "\n",
    "param_grid = {\n",
    "    'learning_rate': [0.01, 0.1, 0.2],\n",
    "    'n_estimators': [50, 100, 200],\n",
    "    'max_depth': [3, 4, 5],\n",
    "}\n",
    "average_accuracy, best_models = tune_xgb_parameters(X_train, y_train, X_test, y_test, param_grid, n_folds)\n"
   ]
  },
  {
   "cell_type": "markdown",
   "id": "fdbce3a1-5853-49c0-a451-d104a0f85da8",
   "metadata": {},
   "source": [
    "# Neural Network"
   ]
  },
  {
   "cell_type": "code",
   "execution_count": null,
   "id": "81e29aa7-a09f-411f-860d-3431fcf12b0f",
   "metadata": {},
   "outputs": [],
   "source": [
    "import numpy as np\n",
    "from keras.models import Sequential\n",
    "from keras.layers import LSTM, Dense, Dropout\n",
    "from keras.optimizers import Adam\n",
    "from keras.callbacks import LearningRateScheduler, EarlyStopping\n",
    "from sklearn.metrics import accuracy_score\n",
    "from keras.utils import to_categorical\n",
    "\n",
    "# Assuming X_train and y_train are Pandas DataFrames\n",
    "n_folds = 5\n",
    "n_classes = 5\n",
    "\n",
    "def build_lstm_model(input_shape, n_classes):\n",
    "    model = Sequential()\n",
    "    model.add(LSTM(50, input_shape=input_shape, return_sequences=True))\n",
    "    model.add(Dropout(0.2))  # Add dropout for regularization\n",
    "    model.add(LSTM(50))\n",
    "    model.add(Dense(n_classes, activation='softmax'))\n",
    "    return model\n",
    "\n",
    "def lr_scheduler(epoch, lr):\n",
    "    return lr * 0.9  # Adjust the multiplier as needed\n",
    "\n",
    "def train_model(X_train, y_train, X_test, y_test, n_classes):\n",
    "    for fold in range(n_folds):\n",
    "        # Convert Pandas DataFrames to NumPy arrays\n",
    "        train_data = np.array(X_train[fold].values, dtype=np.float32)\n",
    "        train_labels = np.array(y_train[fold], dtype=np.int32)  # Assuming your labels are integers (0, 1, 2, ...)\n",
    "\n",
    "        \n",
    "        # Reshape the input data to match the LSTM input shape (timesteps, features)\n",
    "        train_data = train_data.reshape((train_data.shape[0], 1, train_data.shape[1]))\n",
    "\n",
    "        # Build the LSTM model\n",
    "        model = build_lstm_model((train_data.shape[1], train_data.shape[2]), n_classes)\n",
    "        optimizer = Adam(learning_rate=0.01)\n",
    "        model.compile(optimizer=optimizer, loss='sparse_categorical_crossentropy', metrics=['accuracy'])\n",
    "\n",
    "        # Add early stopping to stop training once the validation accuracy stops improving\n",
    "        early_stopping = EarlyStopping(monitor='val_loss', patience=3, restore_best_weights=True)\n",
    "\n",
    "        # Train the model with learning rate scheduling and early stopping\n",
    "        model.fit(train_data, train_labels, epochs=40, batch_size=32, verbose=2,\n",
    "                  callbacks=[LearningRateScheduler(lr_scheduler), early_stopping],\n",
    "                  validation_split=0.2)  # Use a validation split for early stopping\n",
    "\n",
    "        # Make predictions on the test set\n",
    "        test_data = np.array(X_test[fold].values, dtype=np.float32)\n",
    "        test_data = test_data.reshape((test_data.shape[0], 1, test_data.shape[1]))\n",
    "\n",
    "        y_pred_probabilities = model.predict(test_data)\n",
    "        y_pred = np.argmax(y_pred_probabilities, axis=1)  # Convert probabilities to class labels\n",
    "\n",
    "        print(y_pred)\n",
    "        test_labels = np.array(y_test[fold], dtype=np.int32)\n",
    "\n",
    "        # Assuming you have y_test for evaluation\n",
    "        accuracy = accuracy_score(y_pred, test_labels)\n",
    "        print(f\"Fold {fold + 1} - Accuracy: {accuracy}\")\n",
    "\n",
    "# Call the function to train the model\n",
    "train_model(X_train, y_train, X_test, y_test, n_classes)"
   ]
  },
  {
   "cell_type": "markdown",
   "id": "fe83b55a-4153-43e9-b1bf-010fd061cf13",
   "metadata": {},
   "source": [
    "## Feature Engineering"
   ]
  },
  {
   "cell_type": "code",
   "execution_count": null,
   "id": "06fd22c4-a4b4-4b21-a262-0ad59cf0cbf4",
   "metadata": {},
   "outputs": [],
   "source": [
    "# TODO"
   ]
  },
  {
   "cell_type": "code",
   "execution_count": 225,
   "id": "b5862f37-6a4b-496c-8c7a-fb51e538a48e",
   "metadata": {},
   "outputs": [
    {
     "name": "stderr",
     "output_type": "stream",
     "text": [
      "/var/folders/f_/tyg450s17m53dh3ylrjcmpqc0000gn/T/ipykernel_11130/3184991793.py:14: FutureWarning: Series.__getitem__ treating keys as positions is deprecated. In a future version, integer keys will always be treated as labels (consistent with DataFrame behavior). To access a value by position, use `ser.iloc[pos]`\n",
      "  forest_importances[feature_indices].plot.bar(yerr=std[feature_indices], ax=ax)\n"
     ]
    },
    {
     "data": {
      "image/png": "[encoded data removed]",
      "text/plain": [
       "<Figure size 640x480 with 1 Axes>"
      ]
     },
     "metadata": {},
     "output_type": "display_data"
    }
   ],
   "source": [
    "feature_indices = np.arange(0,65)\n",
    "#feature_indices = np.arange(20,40)\n",
    "#feature_indices = np.arange(40,60) \n",
    "#feature_indices = np.arange(60,80)\n",
    "#feature_indices = np.arange(80,100)\n",
    "\n",
    "\n",
    "importances = rf.feature_importances_\n",
    "std = np.std([tree.feature_importances_ for tree in rf.estimators_], axis=0)\n",
    "forest_importances = pd.Series(importances, index=feature_df.columns)\n",
    "\n",
    "\n",
    "fig, ax = plt.subplots()\n",
    "forest_importances[feature_indices].plot.bar(yerr=std[feature_indices], ax=ax)\n",
    "ax.set_title(\"Feature importances using MDI\")\n",
    "ax.set_ylabel(\"Mean decrease in impurity\")\n",
    "fig.tight_layout()"
   ]
  },
  {
   "cell_type": "code",
   "execution_count": null,
   "id": "4c68efa0-f799-4349-80be-ed57081ef02f",
   "metadata": {
    "scrolled": true
   },
   "outputs": [],
   "source": [
    "# Recursive Feature Elimination for Random Forest\n",
    "from sklearn.feature_selection import RFE\n",
    "\n",
    "rfe = RFE(rf, n_features_to_select=150)\n",
    "rfe.fit(X_train, y_train)\n",
    "\n",
    "y_pred = rfe.predict(X_test)\n",
    "\n",
    "accuracy = accuracy_score(y_pred, y_test)\n",
    "print(\"Accuracy:\", accuracy)\n",
    "\n",
    "# Has a negative effect if not all features are selected (with current parameters)"
   ]
  },
  {
   "cell_type": "code",
   "execution_count": 25,
   "id": "e2bf88e0-91da-44cc-a4e0-08ff8ee4d8db",
   "metadata": {},
   "outputs": [],
   "source": [
    "# Pruning features with low feature importance manually\n",
    "# ..."
   ]
  },
  {
   "cell_type": "code",
   "execution_count": 26,
   "id": "de44189a-4db0-4435-8349-8071543da532",
   "metadata": {},
   "outputs": [],
   "source": [
    "# XGBoost"
   ]
  },
  {
   "cell_type": "code",
   "execution_count": 27,
   "id": "156bceb7-90be-46be-9850-d5da0bcae72e",
   "metadata": {},
   "outputs": [
    {
     "data": {
      "text/plain": [
       "\" Does not have an effect\\n# Scaling for XGBoost\\n\\nfrom sklearn.preprocessing import StandardScaler\\n\\n# Assuming df is your DataFrame with features\\n# You might want to exclude the target variable if it's included in the DataFrame\\n\\n# Extract the feature columns\\nfeature_columns = feature_df.columns\\n\\n# Initialize the StandardScaler\\nscaler = StandardScaler()\\n\\n# Fit and transform the features using the scaler\\ndf_scaled = pd.DataFrame(scaler.fit_transform(feature_df), columns=feature_columns)\\n\\n\\n# Split data frame again (for each label)\\ntrain_label_length = int(0.7*(data_length/5))\\ntrain_data_length = train_label_length*5\\n\\ntest_label_length = int(0.7*(data_length/5))+1\\ntest_data_length = test_label_length*5\\n\\nX_train = pd.DataFrame()\\ny_train = []\\n\\nX_test = pd.DataFrame()\\ny_test = []\\n\\nfor label_idx in range(5):\\n    X_train = pd.concat([X_train, df_scaled[train_label_length*label_idx:train_label_length*(label_idx+1)]], ignore_index=True)\\n    y_train.extend(labels[train_label_length*label_idx:train_label_length*(label_idx+1)])\\n\\n    X_test = pd.concat([X_test, df_scaled[train_label_length+test_label_length*label_idx:train_label_length+test_label_length*(label_idx+1)]])\\n    y_test.extend(labels[train_label_length+test_label_length*label_idx:train_label_length+test_label_length*(label_idx+1)])\\n\\n\""
      ]
     },
     "execution_count": 27,
     "metadata": {},
     "output_type": "execute_result"
    }
   ],
   "source": [
    "\"\"\" Does not have an effect\n",
    "# Scaling for XGBoost\n",
    "\n",
    "from sklearn.preprocessing import StandardScaler\n",
    "\n",
    "# Assuming df is your DataFrame with features\n",
    "# You might want to exclude the target variable if it's included in the DataFrame\n",
    "\n",
    "# Extract the feature columns\n",
    "feature_columns = feature_df.columns\n",
    "\n",
    "# Initialize the StandardScaler\n",
    "scaler = StandardScaler()\n",
    "\n",
    "# Fit and transform the features using the scaler\n",
    "df_scaled = pd.DataFrame(scaler.fit_transform(feature_df), columns=feature_columns)\n",
    "\n",
    "\n",
    "# Split data frame again (for each label)\n",
    "train_label_length = int(0.7*(data_length/5))\n",
    "train_data_length = train_label_length*5\n",
    "\n",
    "test_label_length = int(0.7*(data_length/5))+1\n",
    "test_data_length = test_label_length*5\n",
    "\n",
    "X_train = pd.DataFrame()\n",
    "y_train = []\n",
    "\n",
    "X_test = pd.DataFrame()\n",
    "y_test = []\n",
    "\n",
    "for label_idx in range(5):\n",
    "    X_train = pd.concat([X_train, df_scaled[train_label_length*label_idx:train_label_length*(label_idx+1)]], ignore_index=True)\n",
    "    y_train.extend(labels[train_label_length*label_idx:train_label_length*(label_idx+1)])\n",
    "\n",
    "    X_test = pd.concat([X_test, df_scaled[train_label_length+test_label_length*label_idx:train_label_length+test_label_length*(label_idx+1)]])\n",
    "    y_test.extend(labels[train_label_length+test_label_length*label_idx:train_label_length+test_label_length*(label_idx+1)])\n",
    "\n",
    "\"\"\" "
   ]
  },
  {
   "cell_type": "code",
   "execution_count": 174,
   "id": "60c6b905-b675-47f3-8640-6f203068e61f",
   "metadata": {},
   "outputs": [
    {
     "name": "stdout",
     "output_type": "stream",
     "text": [
      "Accuracy: 0.6782608695652174\n"
     ]
    }
   ],
   "source": [
    "model = xgb.XGBClassifier()\n",
    "\n",
    "#Training the model on the training data\n",
    "model.fit(X_train._get_numeric_data(), y_train)\n",
    "\n",
    "#Making predictions on the test set\n",
    "predictions = model.predict(X_test._get_numeric_data())\n",
    "\n",
    "#Calculating accuracy\n",
    "accuracy = accuracy_score(y_test, predictions)\n",
    "\n",
    "print(\"Accuracy:\", accuracy)"
   ]
  },
  {
   "cell_type": "code",
   "execution_count": null,
   "id": "b3644525-58b7-4c82-b8ee-f858d59e2431",
   "metadata": {},
   "outputs": [],
   "source": []
  }
 ],
 "metadata": {
  "kernelspec": {
   "display_name": "Python 3 (ipykernel)",
   "language": "python",
   "name": "python3"
  },
  "language_info": {
   "codemirror_mode": {
    "name": "ipython",
    "version": 3
   },
   "file_extension": ".py",
   "mimetype": "text/x-python",
   "name": "python",
   "nbconvert_exporter": "python",
   "pygments_lexer": "ipython3",
   "version": "3.10.12"
  }
 },
 "nbformat": 4,
 "nbformat_minor": 5
}
