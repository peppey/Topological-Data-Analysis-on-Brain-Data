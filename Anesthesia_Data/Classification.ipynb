{
 "cells": [
  {
   "cell_type": "code",
   "execution_count": 2,
   "id": "e9f3ffa4-2d95-4158-8ac6-92b145e05e0b",
   "metadata": {},
   "outputs": [],
   "source": [
    "import import_ipynb\n",
    "import pandas as pd\n",
    "import numpy as np\n",
    "from sklearn.ensemble import RandomForestClassifier\n",
    "from sklearn.metrics import accuracy_score, confusion_matrix, precision_score, recall_score, ConfusionMatrixDisplay\n",
    "from sklearn.model_selection import RandomizedSearchCV\n",
    "from scipy.stats import randint\n",
    "from sklearn.utils import shuffle\n",
    "import xgboost as xgb\n",
    "import matplotlib.pyplot as plt\n",
    "import os\n",
    "import mlflow\n",
    "from mlflow.models import infer_signature\n",
    "\n",
    "\n",
    "# Import functions from other Jupyter notebook\n",
    "import Utils.Time_Series_Classification_Helpers as ts_helpers\n",
    "import Utils.Brain_Imaging_Classification_Helpers as bi_helpers\n",
    "import Utils.Classification_Helpers as helpers"
   ]
  },
  {
   "cell_type": "markdown",
   "id": "ca0d35b1-07d2-4713-a763-eadcbf1aaebc",
   "metadata": {},
   "source": [
    "# Set Up MLFLow"
   ]
  },
  {
   "cell_type": "code",
   "execution_count": 6,
   "id": "e1975bee-1fdf-4e3f-97e2-945e63034d8f",
   "metadata": {},
   "outputs": [],
   "source": [
    "mlflow.set_tracking_uri(uri=\"http://127.0.0.1:8080\")"
   ]
  },
  {
   "cell_type": "markdown",
   "id": "d96ef8fb-0483-47c0-a098-4765de47b4f5",
   "metadata": {},
   "source": [
    "# Import and Concatenate Data"
   ]
  },
  {
   "cell_type": "code",
   "execution_count": 7,
   "id": "2f75c8ef-3e10-4015-97fc-3ca101ddcdc7",
   "metadata": {},
   "outputs": [],
   "source": [
    "subject_list = [\"m292\", \"m294\"]\n",
    "label_list = [0, 1, 2, 3, 4]"
   ]
  },
  {
   "cell_type": "markdown",
   "id": "91606fe6-282e-411f-8553-6004006825e6",
   "metadata": {},
   "source": [
    "## EEG/EMG Data"
   ]
  },
  {
   "cell_type": "code",
   "execution_count": 8,
   "id": "4b7475ca-95b0-4b3c-a8ae-173396838058",
   "metadata": {},
   "outputs": [],
   "source": [
    "# Import dataframes that do not depend on folds\n",
    "list_of_filenames = [\"Topological_Summary_Statistics.csv\", \"Signature_Statistics.csv\", \"Advanced_Features.csv\"]\n",
    "time_series_feature_df = ts_helpers.import_and_concatenate_datasets(subject_list, list_of_filenames, parent_directory=\"Time_Series\")\n"
   ]
  },
  {
   "cell_type": "markdown",
   "id": "77b7cfeb-ec9d-46d8-8c41-335c02cab04e",
   "metadata": {},
   "source": [
    "## Brain Imaging"
   ]
  },
  {
   "cell_type": "code",
   "execution_count": 9,
   "id": "37da4a99-6ca7-46dd-940c-bf5eedc64963",
   "metadata": {},
   "outputs": [],
   "source": [
    "list_of_filenames = [\"Topological_Summary_Statistics.csv\", \"Signature_Statistics.csv\", \"Advanced_Features.csv\"]\n",
    "_, subject_feature_df = bi_helpers.import_and_concatenate_datasets(subject_list, list_of_filenames, parent_directory=\"Brain_Imaging\")\n",
    "\n",
    "brain_imaging_feature_df = bi_helpers.cut_dataframe_to_same_length_as_TS(subject_feature_df, subject_list)"
   ]
  },
  {
   "cell_type": "markdown",
   "id": "6849e607-40b5-485b-9584-9f4e30749248",
   "metadata": {},
   "source": [
    "## Merging"
   ]
  },
  {
   "cell_type": "code",
   "execution_count": 10,
   "id": "111bbc4d-94de-451d-8432-51cad0b6344e",
   "metadata": {},
   "outputs": [],
   "source": [
    "feature_df = helpers.merge_feature_dfs(time_series_feature_df, brain_imaging_feature_df)"
   ]
  },
  {
   "cell_type": "code",
   "execution_count": 11,
   "id": "941f2323-6fcb-4244-bec1-01995659228c",
   "metadata": {},
   "outputs": [
    {
     "name": "stdout",
     "output_type": "stream",
     "text": [
      "There are 671 features in the main dataframe.\n"
     ]
    }
   ],
   "source": [
    "print(\"There are \"+str(len(feature_df.columns))+\" features in the main dataframe.\")"
   ]
  },
  {
   "cell_type": "code",
   "execution_count": 12,
   "id": "9ac4bb0f-5405-446b-861f-b6fd7d0169f4",
   "metadata": {},
   "outputs": [
    {
     "name": "stdout",
     "output_type": "stream",
     "text": [
      "There are 71 features in the main dataframe after filtering.\n"
     ]
    }
   ],
   "source": [
    "list_of_strings_in_column_names_to_remove = [\"_Vectorization_Coordinate_\"]\n",
    "\n",
    "feature_df = helpers.remove_columns_with_str(feature_df, list_of_strings_in_column_names_to_remove)\n",
    "\n",
    "print(\"There are \"+str(len(feature_df.columns))+\" features in the main dataframe after filtering.\")"
   ]
  },
  {
   "cell_type": "markdown",
   "id": "6f333182-30ea-498e-9fe7-030de10a57e8",
   "metadata": {},
   "source": [
    "# Cross Validation"
   ]
  },
  {
   "cell_type": "code",
   "execution_count": 13,
   "id": "f31f43ca-5ac2-4218-a216-f6965f8e3683",
   "metadata": {},
   "outputs": [],
   "source": [
    "# TODO This can be in the helper file as well\n",
    "train_indices, validation_indices, test_indices = helpers.load_folds(subject_list, parent_directory = \"Time_Series\")"
   ]
  },
  {
   "cell_type": "code",
   "execution_count": 14,
   "id": "0271349f-3574-4d9c-878a-d8e729295d0b",
   "metadata": {},
   "outputs": [],
   "source": [
    "train_features_dfs_all_folds, train_labels_all_folds = helpers.filter_dataframe_with_indices(feature_df, train_indices, label_list)\n",
    "validation_features_dfs_all_folds, validation_labels_all_folds = helpers.filter_dataframe_with_indices(feature_df, validation_indices, label_list)"
   ]
  },
  {
   "cell_type": "markdown",
   "id": "978ef87d-35d6-49ad-92d1-8bef1d6dde68",
   "metadata": {},
   "source": [
    "## Reformat Data"
   ]
  },
  {
   "cell_type": "code",
   "execution_count": 15,
   "id": "8d95dca4-2839-4b6e-888c-b66b55ecd036",
   "metadata": {},
   "outputs": [],
   "source": [
    "X_train, y_train, X_test, y_test = helpers.initialize_fold_dicts(train_features_dfs_all_folds, train_labels_all_folds, validation_features_dfs_all_folds, validation_labels_all_folds)"
   ]
  },
  {
   "cell_type": "code",
   "execution_count": 32,
   "id": "682b9412-7746-4e6e-b2c2-5927cb3b58de",
   "metadata": {},
   "outputs": [],
   "source": [
    "np.save('Features/All_Train_Features.npy', \\\n",
    "            np.array(X_train, dtype=object), allow_pickle=True)\n",
    "\n",
    "np.save('Features/All_Train_Labels.npy', \\\n",
    "            np.array(y_train, dtype=object), allow_pickle=True)\n",
    "\n",
    "\n",
    "np.save('Features/All_Test_Features.npy', \\\n",
    "            np.array(X_test, dtype=object), allow_pickle=True)\n",
    "\n",
    "np.save('Features/All_Test_Labels.npy', \\\n",
    "            np.array(y_test, dtype=object), allow_pickle=True)\n"
   ]
  },
  {
   "cell_type": "markdown",
   "id": "ca4c3ffc-7792-4963-bdfa-973a5d50d9a5",
   "metadata": {},
   "source": [
    "# MLFLow"
   ]
  },
  {
   "cell_type": "markdown",
   "id": "6da2b3d7-ca4d-4ac5-9de8-467761aa92c8",
   "metadata": {},
   "source": [
    "## Random Forest"
   ]
  },
  {
   "cell_type": "code",
   "execution_count": 26,
   "id": "d7db5732-bed7-40a2-9eb4-923cffd87ff7",
   "metadata": {},
   "outputs": [
    {
     "name": "stderr",
     "output_type": "stream",
     "text": [
      "/Users/piabaronetzky/anaconda3/envs/time-delay-embeddings/lib/python3.10/site-packages/sklearn/utils/validation.py:623: FutureWarning: is_sparse is deprecated and will be removed in a future version. Check `isinstance(dtype, pd.SparseDtype)` instead.\n",
      "  if not hasattr(array, \"sparse\") and array.dtypes.apply(is_sparse).any():\n",
      "/Users/piabaronetzky/anaconda3/envs/time-delay-embeddings/lib/python3.10/site-packages/sklearn/utils/validation.py:623: FutureWarning: is_sparse is deprecated and will be removed in a future version. Check `isinstance(dtype, pd.SparseDtype)` instead.\n",
      "  if not hasattr(array, \"sparse\") and array.dtypes.apply(is_sparse).any():\n",
      "/Users/piabaronetzky/anaconda3/envs/time-delay-embeddings/lib/python3.10/site-packages/sklearn/utils/validation.py:623: FutureWarning: is_sparse is deprecated and will be removed in a future version. Check `isinstance(dtype, pd.SparseDtype)` instead.\n",
      "  if not hasattr(array, \"sparse\") and array.dtypes.apply(is_sparse).any():\n"
     ]
    },
    {
     "name": "stdout",
     "output_type": "stream",
     "text": [
      "Accuracy for fold 1 : 0.9833333333333333\n"
     ]
    },
    {
     "name": "stderr",
     "output_type": "stream",
     "text": [
      "/Users/piabaronetzky/anaconda3/envs/time-delay-embeddings/lib/python3.10/site-packages/sklearn/utils/validation.py:623: FutureWarning: is_sparse is deprecated and will be removed in a future version. Check `isinstance(dtype, pd.SparseDtype)` instead.\n",
      "  if not hasattr(array, \"sparse\") and array.dtypes.apply(is_sparse).any():\n",
      "/Users/piabaronetzky/anaconda3/envs/time-delay-embeddings/lib/python3.10/site-packages/sklearn/utils/validation.py:623: FutureWarning: is_sparse is deprecated and will be removed in a future version. Check `isinstance(dtype, pd.SparseDtype)` instead.\n",
      "  if not hasattr(array, \"sparse\") and array.dtypes.apply(is_sparse).any():\n"
     ]
    },
    {
     "name": "stdout",
     "output_type": "stream",
     "text": [
      "Accuracy for fold 2 : 0.9666666666666667\n"
     ]
    },
    {
     "name": "stderr",
     "output_type": "stream",
     "text": [
      "/Users/piabaronetzky/anaconda3/envs/time-delay-embeddings/lib/python3.10/site-packages/sklearn/utils/validation.py:623: FutureWarning: is_sparse is deprecated and will be removed in a future version. Check `isinstance(dtype, pd.SparseDtype)` instead.\n",
      "  if not hasattr(array, \"sparse\") and array.dtypes.apply(is_sparse).any():\n",
      "/Users/piabaronetzky/anaconda3/envs/time-delay-embeddings/lib/python3.10/site-packages/sklearn/utils/validation.py:623: FutureWarning: is_sparse is deprecated and will be removed in a future version. Check `isinstance(dtype, pd.SparseDtype)` instead.\n",
      "  if not hasattr(array, \"sparse\") and array.dtypes.apply(is_sparse).any():\n"
     ]
    },
    {
     "name": "stdout",
     "output_type": "stream",
     "text": [
      "Accuracy for fold 3 : 0.9583333333333334\n"
     ]
    },
    {
     "name": "stderr",
     "output_type": "stream",
     "text": [
      "/Users/piabaronetzky/anaconda3/envs/time-delay-embeddings/lib/python3.10/site-packages/sklearn/utils/validation.py:623: FutureWarning: is_sparse is deprecated and will be removed in a future version. Check `isinstance(dtype, pd.SparseDtype)` instead.\n",
      "  if not hasattr(array, \"sparse\") and array.dtypes.apply(is_sparse).any():\n",
      "/Users/piabaronetzky/anaconda3/envs/time-delay-embeddings/lib/python3.10/site-packages/sklearn/utils/validation.py:623: FutureWarning: is_sparse is deprecated and will be removed in a future version. Check `isinstance(dtype, pd.SparseDtype)` instead.\n",
      "  if not hasattr(array, \"sparse\") and array.dtypes.apply(is_sparse).any():\n"
     ]
    },
    {
     "name": "stdout",
     "output_type": "stream",
     "text": [
      "Accuracy for fold 4 : 0.9666666666666667\n",
      "Accuracy for fold 5 : 1.0\n",
      "Average Accuracy: 0.975\n"
     ]
    },
    {
     "name": "stderr",
     "output_type": "stream",
     "text": [
      "/Users/piabaronetzky/anaconda3/envs/time-delay-embeddings/lib/python3.10/site-packages/sklearn/utils/validation.py:623: FutureWarning: is_sparse is deprecated and will be removed in a future version. Check `isinstance(dtype, pd.SparseDtype)` instead.\n",
      "  if not hasattr(array, \"sparse\") and array.dtypes.apply(is_sparse).any():\n"
     ]
    }
   ],
   "source": [
    "# TODO use utils function again\n",
    "\n",
    "params = {\"random_state\": 42, \"n_estimators\": 900, \"min_samples_split\": 2}\n",
    "rf = RandomForestClassifier(**params)\n",
    "all_accuracies = []\n",
    "\n",
    "for fold in range(5):\n",
    "    rf.fit(X_train[fold], y_train[fold])\n",
    "    y_pred = rf.predict(X_test[fold])\n",
    "    accuracy = accuracy_score(y_pred, y_test[fold])\n",
    "    all_accuracies.append(accuracy)\n",
    "    print(\"Accuracy for fold\", fold + 1, \":\", accuracy)\n",
    "\n",
    "average_accuracy = np.mean(all_accuracies)\n",
    "print(\"Average Accuracy:\", average_accuracy)"
   ]
  },
  {
   "cell_type": "code",
   "execution_count": 27,
   "id": "d690273b-4842-46f7-a859-37d751425524",
   "metadata": {},
   "outputs": [],
   "source": [
    "mlflow_params = params\n",
    "features = X_train[0].columns\n",
    "mlflow_params[\"features\"] = features"
   ]
  },
  {
   "cell_type": "code",
   "execution_count": 35,
   "id": "4bb8a829-f891-4112-a18d-f9e20e959964",
   "metadata": {},
   "outputs": [],
   "source": [
    "# Start an MLflow run\n",
    "with mlflow.start_run():\n",
    "    # Log the hyperparameters\n",
    "    mlflow.log_params(mlflow_params)\n",
    "\n",
    "    # Log the loss metric\n",
    "    mlflow.log_metric(\"accuracy\", average_accuracy)\n",
    "    mlflow.log_metric(\"minimal accuracy\",  np.min(all_accuracies))\n",
    "    mlflow.log_metric(\"maximal accuracy\",  np.max(all_accuracies))\n",
    "\n",
    "    # Log data\n",
    "    mlflow.log_artifact(\"Features/All_Train_Features.npy\")\n",
    "    mlflow.log_artifact(\"Features/All_Train_Labels.npy\")\n",
    "    mlflow.log_artifact(\"Features/All_Test_Features.npy\")\n",
    "    mlflow.log_artifact(\"Features/All_Test_Labels.npy\")\n",
    "    \n",
    "    # Set a tag that we can use to remind ourselves what this run was for\n",
    "    mlflow.set_tag(\"Training Info\", \"Random Forest - Both Modalities\")\n",
    "    mlflow.set_tag('mlflow.runName', 'Random Forest - Both Modalities')"
   ]
  },
  {
   "cell_type": "markdown",
   "id": "7a4b19a8-1e2d-4141-987d-db3d9c82a33b",
   "metadata": {},
   "source": [
    "## XGBoost"
   ]
  },
  {
   "cell_type": "code",
   "execution_count": null,
   "id": "0054a3dd-689f-42a5-a4c7-0ade05d46ad8",
   "metadata": {},
   "outputs": [
    {
     "name": "stdout",
     "output_type": "stream",
     "text": [
      "Accuracy for fold 0 : 0.975\n",
      "Accuracy for fold 1 : 0.9833333333333333\n",
      "Accuracy for fold 2 : 0.975\n"
     ]
    }
   ],
   "source": [
    "params = {\"seed\": 1, \"learning_rate\": 0.1, \"n_estimators\": 100, \"max_depth\": 5}\n",
    "xb = xgb.XGBClassifier(**params)\n",
    "all_accuracies = []\n",
    "\n",
    "for fold in range(len(X_train)):\n",
    "    # Remove duplicate columns\n",
    "    X_train[fold] = helpers.keep_first_duplicate_columns(X_train[fold])\n",
    "\n",
    "    xb.fit(X_train[fold], y_train[fold])\n",
    "\n",
    "    X_test[fold] = X_test[fold].loc[:, ~X_test[fold].columns.duplicated()]\n",
    "\n",
    "    y_pred = xb.predict(X_test[fold])\n",
    "    accuracy = accuracy_score(y_pred, y_test[fold])\n",
    "    all_accuracies.append(accuracy)\n",
    "    print(\"Accuracy for fold\", fold, \":\", accuracy)\n",
    "\n",
    "average_accuracty = np.mean(all_accuracies)\n",
    "print(\"Mean Accuracy:\", average_accuracty)"
   ]
  },
  {
   "cell_type": "code",
   "execution_count": null,
   "id": "51bb97bd-5de9-449b-8646-523fd1685571",
   "metadata": {},
   "outputs": [],
   "source": [
    "mlflow_params = params\n",
    "features = X_train[0].columns\n",
    "mlflow_params[\"features\"] = features"
   ]
  },
  {
   "cell_type": "code",
   "execution_count": null,
   "id": "699a4808-fb77-4849-9fb7-d8c9a03ca2c8",
   "metadata": {},
   "outputs": [],
   "source": [
    "# Start an MLflow run\n",
    "with mlflow.start_run():\n",
    "    # Log the hyperparameters\n",
    "    mlflow.log_params(mlflow_params)\n",
    "\n",
    "    # Log the loss metric\n",
    "    mlflow.log_metric(\"accuracy\", average_accuracy)\n",
    "    mlflow.log_metric(\"minimal accuracy\",  np.min(all_accuracies))\n",
    "    mlflow.log_metric(\"maximal accuracy\",  np.max(all_accuracies))\n",
    "\n",
    "    # Log data\n",
    "    mlflow.log_artifact(\"Features/All_Train_Features.npy\")\n",
    "    mlflow.log_artifact(\"Features/All_Train_Labels.npy\")\n",
    "    mlflow.log_artifact(\"Features/All_Test_Features.npy\")\n",
    "    mlflow.log_artifact(\"Features/All_Test_Labels.npy\")\n",
    "    \n",
    "    # Set a tag that we can use to remind ourselves what this run was for\n",
    "    mlflow.set_tag(\"Training Info\", \"XGBoost - Both Modalities\")\n",
    "    mlflow.set_tag('mlflow.runName', 'XGBoost - Both Modalities')"
   ]
  }
 ],
 "metadata": {
  "kernelspec": {
   "display_name": "Python 3 (ipykernel)",
   "language": "python",
   "name": "python3"
  },
  "language_info": {
   "codemirror_mode": {
    "name": "ipython",
    "version": 3
   },
   "file_extension": ".py",
   "mimetype": "text/x-python",
   "name": "python",
   "nbconvert_exporter": "python",
   "pygments_lexer": "ipython3",
   "version": "3.10.12"
  }
 },
 "nbformat": 4,
 "nbformat_minor": 5
}
