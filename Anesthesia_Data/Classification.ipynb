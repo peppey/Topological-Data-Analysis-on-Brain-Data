{
 "cells": [
  {
   "cell_type": "code",
   "execution_count": null,
   "id": "e9f3ffa4-2d95-4158-8ac6-92b145e05e0b",
   "metadata": {},
   "outputs": [],
   "source": [
    "import import_ipynb\n",
    "import pandas as pd\n",
    "import numpy as np\n",
    "from sklearn.ensemble import RandomForestClassifier\n",
    "from sklearn.metrics import accuracy_score, confusion_matrix, precision_score, recall_score, ConfusionMatrixDisplay\n",
    "from sklearn.model_selection import RandomizedSearchCV\n",
    "from scipy.stats import randint\n",
    "from sklearn.utils import shuffle\n",
    "import xgboost as xgb\n",
    "import matplotlib.pyplot as plt\n",
    "import os\n",
    "import mlflow\n",
    "\n",
    "from sklearn.model_selection import GridSearchCV\n",
    "\n",
    "from mlflow.models import infer_signature\n",
    "# Import functions from other Jupyter notebook\n",
    "import Utils.Time_Series_Classification_Helpers as ts_helpers\n",
    "import Utils.Brain_Imaging_Classification_Helpers as bi_helpers\n",
    "import Utils.Classification_Helpers as helpers\n",
    "import warnings\n",
    "\n",
    "# Suppress all warnings\n",
    "warnings.filterwarnings('ignore')"
   ]
  },
  {
   "cell_type": "markdown",
   "id": "ca0d35b1-07d2-4713-a763-eadcbf1aaebc",
   "metadata": {},
   "source": [
    "# Set Up MLFLow"
   ]
  },
  {
   "cell_type": "code",
   "execution_count": null,
   "id": "e1975bee-1fdf-4e3f-97e2-945e63034d8f",
   "metadata": {},
   "outputs": [],
   "source": [
    "mlflow.set_tracking_uri(uri=\"http://127.0.0.1:8080\")"
   ]
  },
  {
   "cell_type": "markdown",
   "id": "d96ef8fb-0483-47c0-a098-4765de47b4f5",
   "metadata": {},
   "source": [
    "# Import and Concatenate Data"
   ]
  },
  {
   "cell_type": "code",
   "execution_count": null,
   "id": "2f75c8ef-3e10-4015-97fc-3ca101ddcdc7",
   "metadata": {},
   "outputs": [],
   "source": [
    "subject_list = [\"m292\", \"m294\", \"m298\", \"m299\", \"m300\"]\n",
    "label_list = [0, 1, 2, 3, 4]"
   ]
  },
  {
   "cell_type": "code",
   "execution_count": null,
   "id": "b25df262-b811-450c-a2aa-5f3fac6dfd2c",
   "metadata": {},
   "outputs": [],
   "source": [
    "list_of_filenames_time_series = [\n",
    "    \"Topological_Summary_Statistics.csv\", \n",
    "    \"Signature_Statistics.csv\", \n",
    "    \"Advanced_Features.csv\"\n",
    "]\n",
    "\n",
    "atol_vectorization_filename_time_series = [\n",
    "    \"Vectorization_Features.csv\"\n",
    "]\n",
    "\n",
    "atol_vectorization_for_final_testing_filename_time_series = [\n",
    "    \"Vectorization_Features_for_Final_Test.csv\"\n",
    "]\n",
    "\n",
    "time_series_filenames = (\n",
    "    list_of_filenames_time_series,\n",
    "    atol_vectorization_filename_time_series,\n",
    "    atol_vectorization_for_final_testing_filename_time_series\n",
    ")"
   ]
  },
  {
   "cell_type": "code",
   "execution_count": null,
   "id": "b0403d7a-07b1-4d02-9fff-1a2ae3bd7294",
   "metadata": {},
   "outputs": [],
   "source": [
    "list_of_filenames_brain_imaging = [\n",
    "    \"Topological_Summary_Statistics.csv\", \n",
    "    \"Signature_Statistics.csv\", \n",
    "    \"Advanced_Features.csv\", \n",
    "    \"Direct_Coordinate_Features.csv\"\n",
    "]\n",
    "    \n",
    "atol_vectorization_filename_brain_imaging = [\n",
    "    \"ATOL_Vectorization_Features.csv\"\n",
    "]\n",
    "    \n",
    "atol_vectorization_for_final_testing_filename_brain_imaging = [\n",
    "    \"ATOL_Vectorization_Features_for_Final_Test.csv\"\n",
    "]\n",
    "\n",
    "brain_imaging_filenames = (\n",
    "    list_of_filenames_brain_imaging,\n",
    "    atol_vectorization_filename_brain_imaging,\n",
    "    atol_vectorization_for_final_testing_filename_brain_imaging\n",
    ")\n"
   ]
  },
  {
   "cell_type": "code",
   "execution_count": null,
   "id": "176f68bb-b5d9-4a53-9f51-21baaa02ff81",
   "metadata": {},
   "outputs": [],
   "source": [
    "feature_df, fold_dependant_feature_df, fold_dependant_final_test_feature_df = helpers.create_and_merge_feature_dataframes(\n",
    "    subject_list,\n",
    "    time_series_filenames,\n",
    "    brain_imaging_filenames\n",
    ")"
   ]
  },
  {
   "cell_type": "code",
   "execution_count": null,
   "id": "93e26569-b2c6-48f6-adbd-e01579abc74d",
   "metadata": {},
   "outputs": [],
   "source": [
    "# Save features for Data Exploration\n",
    "feature_df.to_csv(\"Features/All_Features.csv\")"
   ]
  },
  {
   "cell_type": "markdown",
   "id": "b90fab1d-d920-4e08-846f-b8815dab1b09",
   "metadata": {},
   "source": [
    "## Feature Selection"
   ]
  },
  {
   "cell_type": "code",
   "execution_count": null,
   "id": "bd1ba52f-a90c-458f-b5ee-300ad0dc0b13",
   "metadata": {},
   "outputs": [],
   "source": [
    "dfs = [feature_df, fold_dependant_feature_df, fold_dependant_final_test_feature_df]"
   ]
  },
  {
   "cell_type": "code",
   "execution_count": null,
   "id": "9ac4bb0f-5405-446b-861f-b6fd7d0169f4",
   "metadata": {},
   "outputs": [],
   "source": [
    "list_of_strings_in_column_names_to_remove = [\"Persistence_image_Statistic\", \"Persistence_Landscape_Statistic\"] \n",
    "\n",
    "feature_df, fold_dependant_feature_df, fold_dependant_final_test_feature_df = helpers.remove_features(dfs, list_of_strings_in_column_names_to_remove)"
   ]
  },
  {
   "cell_type": "code",
   "execution_count": null,
   "id": "f0eedc0d-fc8e-464d-9643-3a3b53b9dceb",
   "metadata": {},
   "outputs": [],
   "source": [
    "feature = \"Persistence_Landscape_Statistic_Kurtosis\" \n",
    "\n",
    "#feature_df, fold_dependant_feature_df, fold_dependant_final_test_feature_df = helpers.only_use_one_feature_for_classification(feature, dfs)"
   ]
  },
  {
   "cell_type": "markdown",
   "id": "c5ea8936-9c9e-42a7-9a89-78f6a89d6f3b",
   "metadata": {},
   "source": [
    "## Creating Training and Validation Sets"
   ]
  },
  {
   "cell_type": "code",
   "execution_count": null,
   "id": "f31f43ca-5ac2-4218-a216-f6965f8e3683",
   "metadata": {},
   "outputs": [],
   "source": [
    "train_indices, validation_indices, test_indices = helpers.load_folds(subject_list, parent_directory = \"Time_Series\")"
   ]
  },
  {
   "cell_type": "code",
   "execution_count": null,
   "id": "a750a53e-b90d-4c10-a992-71550f224c9c",
   "metadata": {},
   "outputs": [],
   "source": [
    "X_train, y_train, X_test, y_test = helpers.create_training_and_validation_sets(feature_df, fold_dependant_feature_df, train_indices, validation_indices, label_list)"
   ]
  },
  {
   "cell_type": "markdown",
   "id": "ca4c3ffc-7792-4963-bdfa-973a5d50d9a5",
   "metadata": {},
   "source": [
    "# MLFLow and GridSearch"
   ]
  },
  {
   "cell_type": "markdown",
   "id": "13aed518-1796-4d25-a2a4-56f345cf54a5",
   "metadata": {},
   "source": [
    "Concatenate dataset for Gridsearch and create custom split"
   ]
  },
  {
   "cell_type": "code",
   "execution_count": null,
   "id": "44b20f90-2831-4af4-99ba-0ed9e76de346",
   "metadata": {},
   "outputs": [],
   "source": [
    "concatenated_X, concatenated_y = helpers.concatenate_data(X_train, X_test, y_train, y_test)\n"
   ]
  },
  {
   "cell_type": "code",
   "execution_count": null,
   "id": "d8d04d78-aa06-4749-990a-f8850576be28",
   "metadata": {},
   "outputs": [],
   "source": [
    "train_test_splits = helpers.define_fold_start_and_end_indices(X_train, X_test)"
   ]
  },
  {
   "cell_type": "code",
   "execution_count": null,
   "id": "3fc79922-6287-4243-98e3-3c3348f57a93",
   "metadata": {},
   "outputs": [],
   "source": [
    "# Create the custom cross-validation object\n",
    "custom_cv = helpers.CustomCV(train_test_splits)"
   ]
  },
  {
   "cell_type": "markdown",
   "id": "3af41687-cbb6-4dc7-87fb-b692d8033a03",
   "metadata": {},
   "source": [
    "## Random Forest"
   ]
  },
  {
   "cell_type": "code",
   "execution_count": null,
   "id": "46e25cf8-61c6-4313-9e05-b5c57dd416f6",
   "metadata": {},
   "outputs": [],
   "source": [
    "rf_for_cross_validation = RandomForestClassifier(random_state = 42)\n",
    "\n",
    "# Define the parameter grid\n",
    "first_param_grid = {\n",
    "    'n_estimators': [100, 200, 400],\n",
    "    'max_depth': [None, 10, 20],\n",
    "    'min_samples_split': [2, 5],\n",
    "    'min_samples_leaf': [2, 4, 6]\n",
    "}\n",
    "\n",
    "# Another parameter grid for finer tuning\n",
    "finer_param_grid = {\n",
    "    'n_estimators': [100],\n",
    "    'max_depth': [None],\n",
    "    'min_samples_split': [4, 5, 6],\n",
    "    'min_samples_leaf': [1, 2, 3]\n",
    "}\n",
    "\n",
    "best_params, best_score = helpers.perform_grid_search(rf_for_cross_validation, finer_param_grid, custom_cv, concatenated_X, concatenated_y)"
   ]
  },
  {
   "cell_type": "code",
   "execution_count": null,
   "id": "0fb47019-3c19-42df-bf7d-a333743896b5",
   "metadata": {},
   "outputs": [],
   "source": [
    "params_for_manual_tuning = {\"random_state\": 1, \"n_estimators\": 1700, \"min_samples_split\": 6, \"max_depth\": 15}\n",
    "\n",
    "rf_for_manual_tuning = RandomForestClassifier(**params_for_manual_tuning)\n",
    "\n",
    "helpers.manual_tuning(rf_for_manual_tuning, X_train, X_test, y_train, y_test, params_for_manual_tuning)"
   ]
  },
  {
   "cell_type": "markdown",
   "id": "7a4b19a8-1e2d-4141-987d-db3d9c82a33b",
   "metadata": {},
   "source": [
    "### XGBoost"
   ]
  },
  {
   "cell_type": "code",
   "execution_count": null,
   "id": "0cfa1903-29fb-4214-bf8b-4492b6e62152",
   "metadata": {},
   "outputs": [],
   "source": [
    "# Define the initial parameter grid\n",
    "param_grid_for_cross_validation = {\n",
    "    \"learning_rate\": [0.1, 0.18, 0.2],\n",
    "    \"n_estimators\": [100, 200, 300],\n",
    "    \"max_depth\": [3, 4, 5],\n",
    "    \"min_child_weight\": [1, 2, 3],\n",
    "    \"subsample\": [0.5]\n",
    "}\n",
    "\n",
    "xb_for_cross_validation = xgb.XGBClassifier(seed=1)\n",
    "\n",
    "best_params, best_score = helpers.perform_grid_search(xb_for_cross_validation, param_grid_for_cross_validation, custom_cv, concatenated_X, concatenated_y)\n"
   ]
  },
  {
   "cell_type": "code",
   "execution_count": null,
   "id": "d454c4b8-6a26-48af-bb10-321dca9a095b",
   "metadata": {},
   "outputs": [],
   "source": [
    "### params_for_manual_tuning = {\"random_state\": 1, \"n_estimators\": 1700, \"min_samples_split\": 6, \"max_depth\": 15}\n",
    "\n",
    "xb_for_manual_tuning = xgb.XGBClassifier(**params_for_manual_tuning)\n",
    "\n",
    "helpers.manual_tuning(xb_for_manual_tuning, X_train, X_test, y_train, y_test, params_for_manual_tuning)"
   ]
  },
  {
   "cell_type": "markdown",
   "id": "a1d12437-c1f0-442e-8760-e869d7549037",
   "metadata": {},
   "source": [
    "Note that even when fixing the seed, there are still some things that can vary in the XGBoost algorithm, such that we cannot be sure\n",
    "to always reach the exact same mean accuracy with the same parameters and same features."
   ]
  },
  {
   "cell_type": "markdown",
   "id": "89f11e2d-e224-4346-bf3a-c83f36b726f8",
   "metadata": {},
   "source": [
    "# Final Test Set"
   ]
  },
  {
   "cell_type": "code",
   "execution_count": null,
   "id": "e3090042-3fda-4e73-a69b-5493a7a96888",
   "metadata": {},
   "outputs": [],
   "source": [
    "final_train_indices = helpers.get_indices_of_final_training_set(train_indices, validation_indices, subject_list, label_list)"
   ]
  },
  {
   "cell_type": "code",
   "execution_count": null,
   "id": "4ba68856-8eb9-4339-b38b-4a5f16e9869a",
   "metadata": {},
   "outputs": [],
   "source": [
    "# Get final test sets\n",
    "X_train_final, y_train_final, X_test_final, y_test_final = helpers.create_final_input_data_dicts(feature_df,          \n",
    "                                        final_train_indices, test_indices, label_list)"
   ]
  },
  {
   "cell_type": "markdown",
   "id": "4f0724e8-6f83-4d7b-a090-835e55b586d8",
   "metadata": {},
   "source": [
    "## Random Forest"
   ]
  },
  {
   "cell_type": "code",
   "execution_count": null,
   "id": "cc65c986-edcf-4509-bf4f-7c757a303cae",
   "metadata": {},
   "outputs": [],
   "source": [
    "params_with_initialized_random_state = {\n",
    "    \"random_state\": 0,\n",
    "    'max_depth': None,\n",
    "    'min_samples_leaf': 1,\n",
    "    'min_samples_split': 5,\n",
    "    'n_estimators': 100\n",
    "}\n",
    "        \n",
    "rf = RandomForestClassifier(**params_with_initialized_random_state)\n",
    "\n",
    "mean_accuracy, importances = helpers.final_evaluation(rf, params_with_initialized_random_state, X_train_final, y_train_final, X_test_final, y_test_final)"
   ]
  },
  {
   "cell_type": "markdown",
   "id": "17cac907-2d1b-4f74-b999-cd57fa4f0b6f",
   "metadata": {},
   "source": [
    "## XGBoost"
   ]
  },
  {
   "cell_type": "code",
   "execution_count": null,
   "id": "1e59300b-46be-471b-8a63-bed194be598e",
   "metadata": {},
   "outputs": [],
   "source": [
    "params_with_initialized_random_state = {\n",
    "    \"seed\": 0, \n",
    "    \"learning_rate\": 0.19, \n",
    "    \"n_estimators\": 250, \n",
    "    \"max_depth\": 4, \n",
    "    \"min_child_weight\": 0, \n",
    "    \"max_delta_step\": 1, \n",
    "    \"subsample\":0.5\n",
    "}\n",
    "        \n",
    "xb = xgb.XGBClassifier(**params_with_initialized_random_state)\n",
    "\n",
    "mean_accuracy, importances =  helpers.final_evaluation(xb, params_with_initialized_random_state, X_train_final, y_train_final, X_test_final, y_test_final)"
   ]
  },
  {
   "cell_type": "markdown",
   "id": "28a6878f-4acf-4d7b-ad5c-2923ca36d699",
   "metadata": {},
   "source": [
    "# Decision Tree Feature Importance"
   ]
  },
  {
   "cell_type": "code",
   "execution_count": null,
   "id": "220e9069-c8d9-49c9-a740-5594f71152e6",
   "metadata": {},
   "outputs": [],
   "source": [
    "feature = \"BC_Vectorization_Coord\"\n",
    "\n",
    "helpers.compute_decision_tree_feature_importance(importances, X_train_final, feature)"
   ]
  },
  {
   "cell_type": "code",
   "execution_count": null,
   "id": "e4c68ef8-ab9d-4b37-be50-aa6280596b97",
   "metadata": {},
   "outputs": [],
   "source": []
  }
 ],
 "metadata": {
  "kernelspec": {
   "display_name": "Python 3 (ipykernel)",
   "language": "python",
   "name": "python3"
  },
  "language_info": {
   "codemirror_mode": {
    "name": "ipython",
    "version": 3
   },
   "file_extension": ".py",
   "mimetype": "text/x-python",
   "name": "python",
   "nbconvert_exporter": "python",
   "pygments_lexer": "ipython3",
   "version": "3.10.12"
  }
 },
 "nbformat": 4,
 "nbformat_minor": 5
}
