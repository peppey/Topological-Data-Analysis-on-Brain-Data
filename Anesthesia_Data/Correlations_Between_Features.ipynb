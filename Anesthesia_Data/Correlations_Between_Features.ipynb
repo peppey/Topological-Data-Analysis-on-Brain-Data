{
 "cells": [
  {
   "cell_type": "code",
   "execution_count": 1,
   "id": "6b9bc904-d903-4157-8b14-8b6c1e4254d7",
   "metadata": {},
   "outputs": [],
   "source": [
    "import pandas as pd\n",
    "import numpy as np\n",
    "from sklearn.ensemble import RandomForestClassifier\n",
    "from sklearn.metrics import accuracy_score, confusion_matrix, precision_score, recall_score, ConfusionMatrixDisplay\n",
    "from sklearn.model_selection import RandomizedSearchCV\n",
    "from scipy.stats import randint\n",
    "from sklearn.utils import shuffle\n",
    "import matplotlib.pyplot as plt\n"
   ]
  },
  {
   "cell_type": "code",
   "execution_count": 6,
   "id": "bcabe12e-efd1-4eb8-9706-4a860b01546a",
   "metadata": {},
   "outputs": [],
   "source": [
    "subject = \"m292\"\n",
    "\n",
    "label_list = [0, 1, 2, 3, 4]"
   ]
  },
  {
   "cell_type": "code",
   "execution_count": 7,
   "id": "1ebc1166-3c39-44e2-898c-5b95f845124d",
   "metadata": {},
   "outputs": [],
   "source": [
    "imaging_train_feature_df = pd.read_csv(\"Brain_Imaging/Features/\"+str(subject)+\"/Topological_Summary_Statistics.csv\")\n",
    "#imaging_train_feature_df = pd.read_csv(\"Brain_Imaging/Features/\"+str(subject)+\"/Advanced_Features.csv\")"
   ]
  },
  {
   "cell_type": "code",
   "execution_count": 8,
   "id": "2ed4b757-28d0-47d2-8994-c50530f9936c",
   "metadata": {},
   "outputs": [],
   "source": [
    "# Function to remove the last row for each label (because there is slightly more data for the brain imaging modality\n",
    "\n",
    "def remove_last_row(group):\n",
    "    return group.iloc[:-1]\n",
    "\n",
    "# Apply the function to each group\n",
    "imaging_train_feature_df = imaging_train_feature_df.groupby('Label').apply(remove_last_row).reset_index(drop=True)"
   ]
  },
  {
   "cell_type": "code",
   "execution_count": 9,
   "id": "f744ce67-8f5d-43e7-9f32-965514b1ffd9",
   "metadata": {},
   "outputs": [],
   "source": [
    "ts_train_feature_df = pd.read_csv(\"Time_Series/Features/\"+str(subject)+\"/EEG/Topological_Summary_Statistics.csv\")\n",
    "#ts_train_feature_df = pd.read_csv(\"Time_Series/Features/\"+str(subject)+\"/EEG/Advanced_Features.csv\")"
   ]
  },
  {
   "cell_type": "markdown",
   "id": "83c3d15d-d2a3-42e4-827f-4d293b547e2d",
   "metadata": {},
   "source": [
    "# Directly correlate statistics"
   ]
  },
  {
   "cell_type": "code",
   "execution_count": 12,
   "id": "a53a0873-c959-452e-863e-4d64fbbcd33c",
   "metadata": {},
   "outputs": [],
   "source": [
    "feature = \"Amplitude_Dim_0\""
   ]
  },
  {
   "cell_type": "code",
   "execution_count": 13,
   "id": "06b1a7af-9ae5-44cd-90a0-40959657f60d",
   "metadata": {},
   "outputs": [
    {
     "data": {
      "text/plain": [
       "array([[ 1.        , -0.45882338],\n",
       "       [-0.45882338,  1.        ]])"
      ]
     },
     "execution_count": 13,
     "metadata": {},
     "output_type": "execute_result"
    }
   ],
   "source": [
    "np.corrcoef(ts_train_feature_df[\"EEG_\"+feature], imaging_train_feature_df[feature])"
   ]
  },
  {
   "cell_type": "markdown",
   "id": "78f1e8b4-23f1-4030-bc7a-7da293b23f64",
   "metadata": {},
   "source": [
    "# Correlation between Original Time Series Statistics and Basic Summary Statistics"
   ]
  },
  {
   "cell_type": "code",
   "execution_count": 21,
   "id": "92e9cfd6-8fcc-48fc-afca-f5dd1bd38f55",
   "metadata": {},
   "outputs": [],
   "source": [
    "feature = \"Amplitude_Dim_0\""
   ]
  },
  {
   "cell_type": "code",
   "execution_count": 22,
   "id": "4cc1fca3-d108-4641-b944-933831b3f9ce",
   "metadata": {},
   "outputs": [],
   "source": [
    "feature_df = ts_train_feature_df\n",
    "\n",
    "ts_feature = \"EEG_\"+feature\n",
    "\n",
    "list_of_basic_summary_statistics_for_segments = []\n",
    "\n",
    "explored_feature = []\n",
    "for label in label_list:\n",
    "    list_of_basic_summary_statistics_for_segments.append(feature_df[ts_feature][feature_df[\"Label\"] == label])\n"
   ]
  },
  {
   "cell_type": "code",
   "execution_count": 23,
   "id": "61fdd501-d7b8-4f18-b119-a6149ac12cec",
   "metadata": {},
   "outputs": [],
   "source": [
    "feature_df = imaging_train_feature_df\n",
    "\n",
    "list_of_basic_summary_statistics_for_segments = []\n",
    "\n",
    "\n",
    "for label in label_list:\n",
    "    list_of_basic_summary_statistics_for_segments.append(feature_df[feature][feature_df[\"Label\"] == label])\n"
   ]
  },
  {
   "cell_type": "code",
   "execution_count": 24,
   "id": "188af126-5088-47ae-abd0-84c0a25822d3",
   "metadata": {},
   "outputs": [],
   "source": [
    "data = {}\n",
    "\n",
    "data[subject] = np.load('Time_Series/Data/'+str(subject)+'/Data.npy', allow_pickle=True).item()"
   ]
  },
  {
   "cell_type": "code",
   "execution_count": 25,
   "id": "12da6b67-d6c4-4948-b5d4-1915e51c9120",
   "metadata": {},
   "outputs": [],
   "source": [
    "def segment_data(df, segment_size, step_size = 2):\n",
    "    \"\"\"\n",
    "    Segments time-series data into EEG and EMG segments.\n",
    "\n",
    "    Parameters:\n",
    "    - df (DataFrame): The input dataframe containing the columns \"Time\", \"EEG\" and \"EMG\".\n",
    "    - segment_size (float): The desired size of each segment in seconds.\n",
    "    - step_size (float, optional): The step size of \"Time\" in milliseconds. Default is 2 millisecond.\n",
    "\n",
    "    Returns:\n",
    "    Tuple of two lists:\n",
    "    - List of EEG segments.\n",
    "    - List of EMG segments.\n",
    "    \"\"\"\n",
    "\n",
    "    n_segments = int(df[\"time\"].iloc[-1]) // segment_size\n",
    "    eeg_segments = []\n",
    "\n",
    "    for i in range(n_segments):\n",
    "        start_idx = int(i* segment_size*1000/step_size)\n",
    "        end_idx = start_idx + int(segment_size*1000/step_size)\n",
    "        segment = df.iloc[start_idx:end_idx]\n",
    "        eeg_segments.append(list(segment[\"voltage\"]))\n",
    "\n",
    "    return eeg_segments"
   ]
  },
  {
   "cell_type": "code",
   "execution_count": 26,
   "id": "e69ac6db-f466-4ebd-815e-668c1fe361b4",
   "metadata": {},
   "outputs": [],
   "source": [
    "def calculate_means(data):\n",
    "    # Ensure the input is a list of lists\n",
    "    if not all(isinstance(sublist, list) for sublist in data):\n",
    "        raise ValueError(\"Input must be a list of lists.\")\n",
    "    \n",
    "    # Calculate the mean of each sublist\n",
    "    means = [sum(np.abs(sublist)) / len(sublist) for sublist in data]\n",
    "    \n",
    "    return means\n",
    "\n",
    "\n",
    "def calculate_variances_of_amplitude(data):\n",
    "    # Ensure the input is a list of lists\n",
    "    if not all(isinstance(sublist, list) for sublist in data):\n",
    "        raise ValueError(\"Input must be a list of lists.\")\n",
    "    \n",
    "    # Calculate the mean of each sublist\n",
    "    variances = [np.var(np.abs(sublist)) for sublist in data]\n",
    "    \n",
    "    return variances\n",
    "\n"
   ]
  },
  {
   "cell_type": "code",
   "execution_count": 27,
   "id": "f7901a50-2bea-4f37-bad0-d55940eb7420",
   "metadata": {},
   "outputs": [],
   "source": [
    "# Segment the data\n",
    "segment_size = 4  # seconds\n",
    "eeg_segments_amplitudes = []\n",
    "eeg_segments_amplitude_variances = []\n",
    "\n",
    "\n",
    "for label in label_list:\n",
    "    eeg_segments_amplitudes.extend(calculate_means(segment_data(data[\"m292\"][label], segment_size, step_size = 2)))\n",
    "    eeg_segments_amplitude_variances.extend(calculate_variances_of_amplitude(segment_data(data[\"m292\"][label], segment_size, step_size = 2)))"
   ]
  },
  {
   "cell_type": "code",
   "execution_count": 30,
   "id": "94d61ba6-cf39-4b68-b3bb-f919dbe49fc9",
   "metadata": {},
   "outputs": [],
   "source": [
    "# Reshapeexplored_feature\n",
    "list_of_basic_summary_statistics_for_segments = np.array(list_of_basic_summary_statistics_for_segments).flatten()"
   ]
  },
  {
   "cell_type": "code",
   "execution_count": 31,
   "id": "1d2c9c64-6a3a-4c8f-9197-7d7eaf6d79aa",
   "metadata": {},
   "outputs": [
    {
     "data": {
      "text/plain": [
       "array([[1.        , 0.42066623],\n",
       "       [0.42066623, 1.        ]])"
      ]
     },
     "execution_count": 31,
     "metadata": {},
     "output_type": "execute_result"
    }
   ],
   "source": [
    "np.corrcoef(eeg_segments_amplitudes, list_of_basic_summary_statistics_for_segments)"
   ]
  },
  {
   "cell_type": "code",
   "execution_count": 32,
   "id": "0ba2f692-0bf5-4713-aeeb-d1ce04008a3d",
   "metadata": {},
   "outputs": [
    {
     "data": {
      "text/plain": [
       "array([[ 1.        , -0.48196238],\n",
       "       [-0.48196238,  1.        ]])"
      ]
     },
     "execution_count": 32,
     "metadata": {},
     "output_type": "execute_result"
    }
   ],
   "source": [
    "np.corrcoef(eeg_segments_amplitude_variances, list_of_basic_summary_statistics_for_segments)"
   ]
  },
  {
   "cell_type": "code",
   "execution_count": null,
   "id": "ca5b4787-3260-4e98-9f90-79311b321c5c",
   "metadata": {},
   "outputs": [],
   "source": []
  },
  {
   "cell_type": "code",
   "execution_count": null,
   "id": "fd3e6df9-2543-44cd-9183-af196f5805c9",
   "metadata": {},
   "outputs": [],
   "source": []
  },
  {
   "cell_type": "code",
   "execution_count": null,
   "id": "5009445c-fc9e-43d3-8c52-c61c963e7403",
   "metadata": {},
   "outputs": [],
   "source": []
  }
 ],
 "metadata": {
  "kernelspec": {
   "display_name": "Python 3 (ipykernel)",
   "language": "python",
   "name": "python3"
  },
  "language_info": {
   "codemirror_mode": {
    "name": "ipython",
    "version": 3
   },
   "file_extension": ".py",
   "mimetype": "text/x-python",
   "name": "python",
   "nbconvert_exporter": "python",
   "pygments_lexer": "ipython3",
   "version": "3.10.12"
  }
 },
 "nbformat": 4,
 "nbformat_minor": 5
}
