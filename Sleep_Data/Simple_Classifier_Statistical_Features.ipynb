{
 "cells": [
  {
   "cell_type": "code",
   "execution_count": 4,
   "id": "e9f3ffa4-2d95-4158-8ac6-92b145e05e0b",
   "metadata": {},
   "outputs": [],
   "source": [
    "import import_ipynb\n",
    "import pandas as pd\n",
    "import numpy as np\n",
    "from sklearn.ensemble import RandomForestClassifier\n",
    "from sklearn.metrics import accuracy_score, confusion_matrix, precision_score, recall_score, ConfusionMatrixDisplay\n",
    "from sklearn.model_selection import RandomizedSearchCV\n",
    "from scipy.stats import randint\n",
    "from sklearn.utils import shuffle\n",
    "import xgboost as xgb\n",
    "import matplotlib.pyplot as plt\n",
    "import os\n",
    "import mlflow\n",
    "from mlflow.models import infer_signature\n",
    "from sklearn.model_selection import GridSearchCV\n",
    "import math \n",
    "\n",
    "\n",
    "import sys\n",
    "sys.path.append('../')\n",
    "\n",
    "import Utils.Time_Series_Classification_Helpers as ts_helpers\n",
    "import Utils.Classification_Helpers as helpers"
   ]
  },
  {
   "cell_type": "code",
   "execution_count": null,
   "id": "ebc64c0d-6d6c-4763-9df3-2e548c0e5e37",
   "metadata": {},
   "outputs": [],
   "source": [
    "pd.set_option('display.max_columns', None)  # Use 'None' to display all columns"
   ]
  },
  {
   "cell_type": "markdown",
   "id": "aa49ecfc-b04c-45b5-a328-6ff826897526",
   "metadata": {},
   "source": [
    "# Set up MLFlow"
   ]
  },
  {
   "cell_type": "code",
   "execution_count": null,
   "id": "552878fa-4803-4f83-8277-7c0ff79a90ed",
   "metadata": {},
   "outputs": [],
   "source": [
    "# Start MLFlow\n",
    "#!mlflow server --host 127.0.0.1 --port 8080"
   ]
  },
  {
   "cell_type": "code",
   "execution_count": null,
   "id": "dfebd2bd-c2ae-4213-92be-9d14b32128a1",
   "metadata": {},
   "outputs": [],
   "source": [
    "mlflow.set_tracking_uri(uri=\"http://127.0.0.1:8080\")"
   ]
  },
  {
   "cell_type": "markdown",
   "id": "d96ef8fb-0483-47c0-a098-4765de47b4f5",
   "metadata": {},
   "source": [
    "# Import and Concatenate Data"
   ]
  },
  {
   "cell_type": "code",
   "execution_count": null,
   "id": "44894145-e4db-4240-8466-9ff4fa84392e",
   "metadata": {},
   "outputs": [],
   "source": [
    "subject_list = [\"293\", \"294\", \"298\"]\n",
    "label_list  = [1, 2, 3, 4, 5, 7]"
   ]
  },
  {
   "cell_type": "markdown",
   "id": "ea6f9205-932a-417c-b6ff-d92f746b710d",
   "metadata": {},
   "source": [
    "## Dataframes that do not depend on folds"
   ]
  },
  {
   "cell_type": "code",
   "execution_count": null,
   "id": "941a6283-a863-4098-bd77-4dffcaffb3af",
   "metadata": {},
   "outputs": [],
   "source": [
    "def import_and_concatenate_datasets(subject_list, list_of_filenames, parent_directory):\n",
    "    \"\"\"\n",
    "    Import and concatenate feature datasets for each subject.\n",
    "\n",
    "    Args:\n",
    "    - subject_list (list): List of subject names.\n",
    "\n",
    "    Returns:\n",
    "    - pd.DataFrame: Concatenated feature DataFrame.\n",
    "    - list: List of all labels.\n",
    "    \"\"\"\n",
    "    subject_feature_dfs = {}\n",
    "\n",
    "    for subject_idx, subject in enumerate(subject_list):\n",
    "        subject_feature_dfs[subject] = pd.DataFrame()\n",
    "\n",
    "        for data_type in [\"EEG\", \"EMG\"]:\n",
    "            data_frames = []\n",
    "\n",
    "            for file in list_of_filenames:\n",
    "                path = os.path.join(str(parent_directory), \"Features\", str(subject), str(data_type), file)\n",
    "                if os.path.exists(path):\n",
    "                    data_frames.append(pd.read_csv(path))\n",
    "\n",
    "            df_both_data_types = pd.concat(data_frames, axis=1)\n",
    "\n",
    "            if not subject_feature_dfs[subject].empty:\n",
    "                subject_feature_dfs[subject] = pd.concat([subject_feature_dfs[subject], df_both_data_types], axis=1).drop(columns=['Unnamed: 0'], inplace=False)\n",
    "                subject_feature_dfs[subject] = helpers.keep_first_duplicate_columns(subject_feature_dfs[subject])\n",
    "            else:\n",
    "                df_both_data_types = helpers.keep_first_duplicate_columns(df_both_data_types)\n",
    "                subject_feature_dfs[subject] = df_both_data_types.drop(columns=['Unnamed: 0'], inplace=False)\n",
    "\n",
    "        subject_feature_dfs[subject][\"Subject\"] = subject_idx\n",
    "\n",
    "    feature_df = pd.concat(subject_feature_dfs.values(), ignore_index=True)\n",
    "\n",
    "    # For duplicate columns, only keep one\n",
    "    feature_df = helpers.keep_first_duplicate_columns(feature_df)\n",
    "    \n",
    "    return feature_df"
   ]
  },
  {
   "cell_type": "code",
   "execution_count": null,
   "id": "2a2209dc-3870-4f09-b6aa-e46f50298cf8",
   "metadata": {},
   "outputs": [],
   "source": [
    "list_of_filenames = [\"Statistical_Features_KATS_Statistics.csv\", \"Statistical_Features_Additional_Features.csv\", \"Statistical_Features_Level_Shift_Features.csv\", \"Statistical_Features_Autocorrelation_Features.csv\"]\n",
    "\n",
    "feature_df = import_and_concatenate_datasets(subject_list, list_of_filenames, parent_directory = \"\")\n",
    "\n",
    "all_labels = feature_df[\"Label\"]"
   ]
  },
  {
   "cell_type": "markdown",
   "id": "a13c4ac3-9d48-4ab1-a76c-93168323ade0",
   "metadata": {},
   "source": [
    "# Experiments with Single Features"
   ]
  },
  {
   "cell_type": "code",
   "execution_count": null,
   "id": "eafcd9c0-7e26-4dc1-8bca-4ce7b1df4bb0",
   "metadata": {},
   "outputs": [],
   "source": [
    "print(\"There are \"+str(len(feature_df.columns))+\" features in the main dataframe.\")"
   ]
  },
  {
   "cell_type": "markdown",
   "id": "069fcb66-1b39-4cc4-8106-8bebe6898c68",
   "metadata": {},
   "source": [
    "## Save features for Data Exploration"
   ]
  },
  {
   "cell_type": "code",
   "execution_count": null,
   "id": "72ad0052-bb36-460a-8e57-e6525645b850",
   "metadata": {},
   "outputs": [],
   "source": [
    "feature_df.to_csv(\"Features/All_Features.csv\")"
   ]
  },
  {
   "cell_type": "markdown",
   "id": "c5c438e6-7241-4d14-b4d5-0b2243f636b3",
   "metadata": {},
   "source": [
    "## Filter"
   ]
  },
  {
   "cell_type": "code",
   "execution_count": null,
   "id": "b91f048c-41a3-4423-a588-776234da857e",
   "metadata": {},
   "outputs": [],
   "source": [
    "list_of_strings_in_column_name = [\"Nothing\"]\n",
    "\n",
    "feature_df = helpers.remove_columns_with_str(feature_df, list_of_strings_in_column_name)\n",
    "\n",
    "print(\"There now are \"+str(len(feature_df.columns))+\" features in the main dataframe.\")"
   ]
  },
  {
   "cell_type": "markdown",
   "id": "0f6cf73d-4845-4a3f-ab50-74282e118ba8",
   "metadata": {},
   "source": [
    "# Preprocess"
   ]
  },
  {
   "cell_type": "code",
   "execution_count": null,
   "id": "a17cb31f-aff2-4dc6-9924-16ffac33e76a",
   "metadata": {},
   "outputs": [],
   "source": [
    "feature_df.fillna(0, inplace=True)"
   ]
  },
  {
   "cell_type": "code",
   "execution_count": null,
   "id": "3d3ba5fe-33ba-43fa-b903-60030ad7442d",
   "metadata": {},
   "outputs": [],
   "source": [
    "# TODO This can be in the helper file as well\n",
    "train_indices, validation_indices, test_indices = helpers.load_folds(subject_list, parent_directory = \"\")"
   ]
  },
  {
   "cell_type": "code",
   "execution_count": null,
   "id": "9ce54a8e-a97a-4744-a908-c79c71cd2dd4",
   "metadata": {},
   "outputs": [],
   "source": [
    "train_features_dfs_all_folds, train_labels_all_folds = helpers.filter_dataframe_with_indices(feature_df, train_indices, label_list)\n",
    "validation_features_dfs_all_folds, validation_labels_all_folds = helpers.filter_dataframe_with_indices(feature_df, validation_indices, label_list)"
   ]
  },
  {
   "cell_type": "code",
   "execution_count": null,
   "id": "9bf2cc5b-770b-4ddc-835e-744e33435e75",
   "metadata": {},
   "outputs": [],
   "source": [
    "# Get train and validation sets\n",
    "X_train, y_train, X_test, y_test = helpers.initialize_fold_dicts(train_features_dfs_all_folds, train_labels_all_folds, validation_features_dfs_all_folds, validation_labels_all_folds)"
   ]
  },
  {
   "cell_type": "markdown",
   "id": "da3e5d46-116c-4bd9-9a01-b71d2798616d",
   "metadata": {},
   "source": [
    "# MLFLow & Cross Validation"
   ]
  },
  {
   "cell_type": "code",
   "execution_count": null,
   "id": "14ba4f04-3db8-4cc8-a980-6a20407b2769",
   "metadata": {},
   "outputs": [],
   "source": [
    "train_indices, validation_indices, test_indices = helpers.load_folds(subject_list, parent_directory=\"\")"
   ]
  },
  {
   "cell_type": "code",
   "execution_count": null,
   "id": "bc9505f5-a263-4f11-9d1e-ac4cff6c8c77",
   "metadata": {},
   "outputs": [],
   "source": [
    "concatenated_X  = pd.concat([X_train[0], X_test[0]], ignore_index=True)\n",
    "\n",
    "concatenated_y = y_train[0] + y_test[0]"
   ]
  },
  {
   "cell_type": "markdown",
   "id": "16b97438-9ecb-463f-af84-dee90a7fe26e",
   "metadata": {},
   "source": [
    "## Random Forest"
   ]
  },
  {
   "cell_type": "code",
   "execution_count": null,
   "id": "196b78ed-d4d3-4f16-a09c-a5c2b3ee9c79",
   "metadata": {},
   "outputs": [],
   "source": [
    "import warnings\n",
    "\n",
    "# Suppress warnings\n",
    "warnings.filterwarnings('ignore')\n",
    "\n",
    "# Main parameter grid\n",
    "param_grid = {\n",
    "    'n_estimators': [100, 200, 400],\n",
    "    'max_depth': [None, 10, 20],\n",
    "    'min_samples_split': [2, 5, 10],\n",
    "    'min_samples_leaf': [2, 4, 6]\n",
    "}\n",
    "\n",
    "\n",
    "# Another parameter grid for finer tuning \n",
    "param_grid = {\n",
    "    'n_estimators': [150, 200, 250],\n",
    "    'max_depth': [20, 30, 40],\n",
    "    'min_samples_split': [2],\n",
    "    'min_samples_leaf': [1, 2, 3]\n",
    "}\n",
    "\n",
    "\n",
    "# Another parameter grid for finer tuning \n",
    "param_grid = {\n",
    "    'n_estimators': [100, 150],\n",
    "    'max_depth': [40, 50, 60],\n",
    "    'min_samples_split': [2],\n",
    "    'min_samples_leaf': [1]\n",
    "}\n",
    "\n",
    "\n",
    "rf_for_cross_validation = RandomForestClassifier(random_state = 42)\n",
    "\n",
    "best_params, best_score = helpers.perform_grid_search(rf_for_cross_validation, param_grid, 5, concatenated_X, concatenated_y)"
   ]
  },
  {
   "cell_type": "code",
   "execution_count": null,
   "id": "5bf79035-a8a9-4c0a-a26c-30bc5b691a55",
   "metadata": {},
   "outputs": [],
   "source": [
    "params_for_manual_tuning = {\"random_state\": 42, \"n_estimators\": 500, \"min_samples_split\": 2}\n",
    "rf_for_manual_tuning = RandomForestClassifier(**params_for_manual_tuning)\n",
    "\n",
    "helpers.manual_tuning(rf_for_manual_tuning, X_train, X_test, y_train, y_test, params_for_manual_tuning)"
   ]
  },
  {
   "cell_type": "markdown",
   "id": "b8cc605d-75f0-4331-a1ab-f42e778386b7",
   "metadata": {},
   "source": [
    "## XGBoost"
   ]
  },
  {
   "cell_type": "code",
   "execution_count": null,
   "id": "e8873f84-8762-490f-80fb-8c6216eebc2c",
   "metadata": {},
   "outputs": [],
   "source": [
    "# Change the labels to adequate labels for XGBoost\n",
    "mapping = {1: 0, 2: 1, 3: 2, 4: 3, 5: 4, 7: 5}\n",
    "\n",
    "for fold in range(5):\n",
    "    y_train[fold] = [mapping[num] for num in y_train[fold]]\n",
    "    y_test[fold] = [mapping[num] for num in y_test[fold]]\n",
    "    "
   ]
  },
  {
   "cell_type": "code",
   "execution_count": null,
   "id": "c45ddd43-34c7-4a52-a4f3-584dc3e5c7d6",
   "metadata": {},
   "outputs": [],
   "source": [
    "concatenated_X  = pd.concat([X_train[0], X_test[0]], ignore_index=True)\n",
    "\n",
    "concatenated_y = y_train[0] + y_test[0]"
   ]
  },
  {
   "cell_type": "code",
   "execution_count": null,
   "id": "faf609a8-80fb-4aba-b7a9-089b773f0f87",
   "metadata": {},
   "outputs": [],
   "source": [
    "# Main parameter grid for finetuning after first manual experiments\n",
    "param_grid = {\n",
    "    \"learning_rate\": [0.19, 0.21, 0.23],\n",
    "    \"n_estimators\": [400, 500, 600],\n",
    "    \"max_depth\": [5, 8, 15],\n",
    "    \"min_child_weight\": [0],\n",
    "    \"subsample\": [0.5]\n",
    "}\n",
    "\n",
    "\n",
    "# Another parameter grid for finer tuning\n",
    "param_grid = {\n",
    "    \"learning_rate\": [0.18, 0.19, 0.2],\n",
    "    \"n_estimators\": [600],\n",
    "    \"max_depth\": [7, 8, 9],\n",
    "    \"min_child_weight\": [0],\n",
    "    \"subsample\": [0.5]\n",
    "}\n",
    "\n",
    "\n",
    "\n",
    "xb_for_cross_validation = xgb.XGBClassifier(seed=1)\n",
    "\n",
    "best_params, best_score = helpers.perform_grid_search(xb_for_cross_validation, param_grid, 5, concatenated_X, concatenated_y)"
   ]
  },
  {
   "cell_type": "code",
   "execution_count": null,
   "id": "9d52970d-aba8-46b3-8848-406df4bc6762",
   "metadata": {},
   "outputs": [],
   "source": [
    "# For manual finetuning\n",
    "params_for_manual_tuning = {\"seed\": 1, \"learning_rate\": 0.2, \"n_estimators\": 500, \"max_depth\": 15, \"min_child_weight\": 0, \"subsample\":0.5}\n",
    "\n",
    "xb_for_manual_tuning = xgb.XGBClassifier(**params_for_manual_tuning)\n",
    "\n",
    "helpers.manual_tuning(xb_for_manual_tuning, X_train, X_test, y_train, y_test, params_for_manual_tuning)"
   ]
  },
  {
   "cell_type": "markdown",
   "id": "e85d4ab5-f68b-44fc-9b7c-539ae2e1b378",
   "metadata": {},
   "source": [
    "# Final Test Set"
   ]
  },
  {
   "cell_type": "code",
   "execution_count": null,
   "id": "1730e067-6c82-43f3-989a-3a79a35f5943",
   "metadata": {},
   "outputs": [],
   "source": [
    "final_train_indices = helpers.get_indices_of_final_training_set(train_indices, validation_indices, subject_list, label_list)"
   ]
  },
  {
   "cell_type": "code",
   "execution_count": null,
   "id": "6853b43c-4209-48b4-bf54-070bd7a5c493",
   "metadata": {},
   "outputs": [],
   "source": [
    "# Get final test sets\n",
    "X_train_final, y_train_final, X_test_final, y_test_final = helpers.create_final_input_data_dicts(feature_df,          \n",
    "                                        final_train_indices, test_indices, label_list)"
   ]
  },
  {
   "cell_type": "markdown",
   "id": "1cae2a93-f873-4711-9ec5-aad14769cd64",
   "metadata": {},
   "source": [
    "## RandomForest"
   ]
  },
  {
   "cell_type": "code",
   "execution_count": null,
   "id": "18ca2653-f3c9-40a6-87b2-6496569704e3",
   "metadata": {},
   "outputs": [],
   "source": [
    "params_with_initialized_random_state = {\n",
    "    'random_state': 0, \n",
    "    'max_depth': 40, \n",
    "    'min_samples_leaf': 1, \n",
    "    'min_samples_split': 2, \n",
    "    'n_estimators': 150\n",
    "}\n",
    "        \n",
    "rf = RandomForestClassifier(**params_with_initialized_random_state)\n",
    "\n",
    "mean_accuracy, importances = helpers.final_evaluation(rf, params_with_initialized_random_state, X_train_final, y_train_final, X_test_final, y_test_final)"
   ]
  },
  {
   "cell_type": "markdown",
   "id": "3fb347f7-c11d-48ae-9673-b66927bee38c",
   "metadata": {},
   "source": [
    "## XGBoost"
   ]
  },
  {
   "cell_type": "code",
   "execution_count": null,
   "id": "e3f7c3b1-830c-4331-94fa-a6c3e1bbff55",
   "metadata": {},
   "outputs": [],
   "source": [
    "# Change the labels to adequate labels for XGBoost\n",
    "mapping = {1: 0, 2: 1, 3: 2, 4: 3, 5: 4, 7: 5}\n",
    "\n",
    "y_train_final = [mapping[num] for num in y_train_final]\n",
    "y_test_final = [mapping[num] for num in y_test_final]"
   ]
  },
  {
   "cell_type": "code",
   "execution_count": null,
   "id": "3c6ad918-b039-43cd-ba79-042c42ea63f9",
   "metadata": {},
   "outputs": [],
   "source": [
    "params_with_initialized_random_state = {\n",
    "    'seed': 0, \n",
    "    'learning_rate': 0.19, \n",
    "    'max_depth': 8, \n",
    "    'min_child_weight': 0, \n",
    "    'n_estimators': 600, \n",
    "    'subsample': 0.5\n",
    "}\n",
    "\n",
    "\n",
    "xb = xgb.XGBClassifier(**params_with_initialized_random_state)\n",
    "\n",
    "mean_accuracy, importances =  helpers.final_evaluation(xb, params_with_initialized_random_state, X_train_final, y_train_final, X_test_final, y_test_final)"
   ]
  },
  {
   "cell_type": "code",
   "execution_count": null,
   "id": "2ac9d609-8e7d-4c91-badd-3c1a0cd72bd6",
   "metadata": {},
   "outputs": [],
   "source": []
  }
 ],
 "metadata": {
  "kernelspec": {
   "display_name": "Python 3 (ipykernel)",
   "language": "python",
   "name": "python3"
  },
  "language_info": {
   "codemirror_mode": {
    "name": "ipython",
    "version": 3
   },
   "file_extension": ".py",
   "mimetype": "text/x-python",
   "name": "python",
   "nbconvert_exporter": "python",
   "pygments_lexer": "ipython3",
   "version": "3.10.12"
  }
 },
 "nbformat": 4,
 "nbformat_minor": 5
}
