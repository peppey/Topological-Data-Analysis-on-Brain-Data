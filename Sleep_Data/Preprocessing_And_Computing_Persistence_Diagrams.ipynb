{
 "cells": [
  {
   "cell_type": "code",
   "execution_count": 158,
   "id": "0a81b9c9-a2e9-46c2-8ae8-4a5f02dd0571",
   "metadata": {},
   "outputs": [],
   "source": [
    "import numpy as np\n",
    "import pyedflib\n",
    "\n",
    "import pandas as pd\n",
    "from gtda.time_series import SingleTakensEmbedding\n",
    "from gtda.homology import VietorisRipsPersistence\n",
    "from gtda.diagrams import PersistenceEntropy, Amplitude, NumberOfPoints, ComplexPolynomial, PersistenceLandscape, HeatKernel, Silhouette, BettiCurve, PairwiseDistance, ForgetDimension\n",
    "from sklearn.model_selection import train_test_split, KFold\n",
    "import random"
   ]
  },
  {
   "cell_type": "markdown",
   "id": "7d9823a6-57bc-4bef-9350-14eb32a035fe",
   "metadata": {},
   "source": [
    "# Choose EEG or EMG"
   ]
  },
  {
   "cell_type": "code",
   "execution_count": 159,
   "id": "1a556dad-ea22-4937-811d-6efbdc4aa317",
   "metadata": {},
   "outputs": [],
   "source": [
    "# Choose if you want to look at EEG or EMG data\n",
    "\n",
    "data_type = \"EEG\" # Does not have an effect yet, will be added later when processing anesthesia data\n",
    "#data_type = \"EMG\""
   ]
  },
  {
   "cell_type": "code",
   "execution_count": 160,
   "id": "bd469fbe-dbb1-4072-86c8-2d0940c16a91",
   "metadata": {},
   "outputs": [],
   "source": [
    "subject = \"298\"\n"
   ]
  },
  {
   "cell_type": "code",
   "execution_count": 161,
   "id": "c8dc6d20-d675-46a9-81a6-3238f4e42427",
   "metadata": {},
   "outputs": [],
   "source": [
    "label_list = [1, 2, 3, 4, 5, 7]\n"
   ]
  },
  {
   "cell_type": "markdown",
   "id": "0cc1f407-122b-4eda-86f0-622f93ccf082",
   "metadata": {},
   "source": [
    "# Import Data"
   ]
  },
  {
   "cell_type": "code",
   "execution_count": 162,
   "id": "7f3ccebb-c250-40a1-b297-b35263a5f16e",
   "metadata": {},
   "outputs": [],
   "source": [
    "# EEG/EMG data\n",
    "\n",
    "def read_edf_file(file_path):\n",
    "    \"\"\"\n",
    "    Reads an .edf file and returns the EEG and EMG streams as pandas DataFrames.\n",
    "    \"\"\"\n",
    "    f = pyedflib.EdfReader(file_path)\n",
    "\n",
    "    # Assuming the EEG channel is the first channel and EMG is the second channel\n",
    "    eeg_signal = f.readSignal(0)\n",
    "    emg_signal = f.readSignal(1)\n",
    "\n",
    "    # Extract the channel names for the DataFrame\n",
    "    eeg_channel_name = f.getSignalLabels()[0]\n",
    "    emg_channel_name = f.getSignalLabels()[1]\n",
    "\n",
    "    # Get the sample frequency\n",
    "    sample_frequency = f.getSampleFrequency(0)  # Assuming both streams have the same frequency\n",
    "\n",
    "    # Calculate the timestamps for the samples\n",
    "    n_samples = min(len(eeg_signal), len(emg_signal))\n",
    "    time = [i / sample_frequency for i in range(n_samples)]\n",
    "\n",
    "    # Create pandas DataFrame\n",
    "    df = pd.DataFrame({\n",
    "        'Time': time,\n",
    "        eeg_channel_name: eeg_signal[:n_samples],\n",
    "        emg_channel_name: emg_signal[:n_samples],\n",
    "    })\n",
    "\n",
    "    # Close the EdfReader\n",
    "    f.close()\n",
    "\n",
    "    return df\n",
    "\n",
    "\n",
    "# Read file\n",
    "#file = 'Data/edf_293.edf'\n",
    "\n",
    "# Convert to pandas DataFrame\n",
    "#data = read_edf_file(file)\n",
    "#data.to_csv(\"Data/EDF_as_CSV_\"+str(subject)+\"_complete.csv\")\n"
   ]
  },
  {
   "cell_type": "code",
   "execution_count": 163,
   "id": "85fd9907-0ecf-4827-bd57-da10d9c03cfa",
   "metadata": {},
   "outputs": [],
   "source": [
    "# Labels\n",
    "\n",
    "# Read data\n",
    "label_data = pd.read_csv(\"Data/Labels_\"+str(subject)+\".csv\")\n",
    "labels = label_data[\"NAPS_Numeric\"].iloc[1:] # The first label is NaN, so remove it\n",
    "\n",
    "# Convert to list\n",
    "labels = [int(label) for label in labels]\n"
   ]
  },
  {
   "cell_type": "code",
   "execution_count": 164,
   "id": "4e523bab-c512-4ef9-b33d-8cecf8ae9082",
   "metadata": {},
   "outputs": [],
   "source": [
    "# EEG & EMG data\n",
    "\n",
    "data = pd.read_csv(\"Data/EDF_as_CSV_\"+str(subject)+\"_complete.csv\")"
   ]
  },
  {
   "cell_type": "code",
   "execution_count": 165,
   "id": "9b634187-6f81-47e7-84e0-b08be141bf71",
   "metadata": {},
   "outputs": [],
   "source": [
    "def preprocess_data(data, labels):\n",
    "\n",
    "    data = data.iloc[2000:] # The first label is NaN... Therefore we have to remove the first 2000 values corresponding to the first label\n",
    "\n",
    "    data.reset_index(drop=True, inplace=True)\n",
    "\n",
    "    # Add labels to the main dataframe and Assign labels to data rows in segments \n",
    "    data['Label'] = np.nan\n",
    "    \n",
    "    for label_idx in range(len(labels) - 1):\n",
    "        data.loc[2000 * label_idx : 2000 * (label_idx + 1) - 1, 'Label'] = labels[label_idx]\n",
    "        \n",
    "    # Drop rows where 'Label' is NaN\n",
    "    data.dropna(subset=['Label'], inplace=True)\n",
    "\n",
    "    # Drop columns containing 'Unnamed' in their column name\n",
    "    columns_to_drop = data.filter(like='Unnamed').columns\n",
    "    data.drop(columns=columns_to_drop, inplace=True)\n",
    "\n",
    "\n",
    "    return data\n"
   ]
  },
  {
   "cell_type": "code",
   "execution_count": 166,
   "id": "09a9749f-b323-4232-9973-33c08ec834fb",
   "metadata": {},
   "outputs": [
    {
     "name": "stderr",
     "output_type": "stream",
     "text": [
      "/var/folders/f_/tyg450s17m53dh3ylrjcmpqc0000gn/T/ipykernel_75471/316733124.py:8: SettingWithCopyWarning: \n",
      "A value is trying to be set on a copy of a slice from a DataFrame.\n",
      "Try using .loc[row_indexer,col_indexer] = value instead\n",
      "\n",
      "See the caveats in the documentation: https://pandas.pydata.org/pandas-docs/stable/user_guide/indexing.html#returning-a-view-versus-a-copy\n",
      "  data['Label'] = np.nan\n",
      "/var/folders/f_/tyg450s17m53dh3ylrjcmpqc0000gn/T/ipykernel_75471/316733124.py:14: SettingWithCopyWarning: \n",
      "A value is trying to be set on a copy of a slice from a DataFrame\n",
      "\n",
      "See the caveats in the documentation: https://pandas.pydata.org/pandas-docs/stable/user_guide/indexing.html#returning-a-view-versus-a-copy\n",
      "  data.dropna(subset=['Label'], inplace=True)\n",
      "/var/folders/f_/tyg450s17m53dh3ylrjcmpqc0000gn/T/ipykernel_75471/316733124.py:18: SettingWithCopyWarning: \n",
      "A value is trying to be set on a copy of a slice from a DataFrame\n",
      "\n",
      "See the caveats in the documentation: https://pandas.pydata.org/pandas-docs/stable/user_guide/indexing.html#returning-a-view-versus-a-copy\n",
      "  data.drop(columns=columns_to_drop, inplace=True)\n"
     ]
    }
   ],
   "source": [
    "data = preprocess_data(data, labels)"
   ]
  },
  {
   "cell_type": "markdown",
   "id": "f1ea3b4c-8747-430b-9966-2e7eaaca0b74",
   "metadata": {},
   "source": [
    "# Preprocessing"
   ]
  },
  {
   "cell_type": "markdown",
   "id": "53aa0e08-3e63-44f0-90a7-9c713ad37943",
   "metadata": {},
   "source": [
    "## Segmenting Data"
   ]
  },
  {
   "cell_type": "code",
   "execution_count": 167,
   "id": "d49884a0-8301-4331-a50d-fe982c6c6c55",
   "metadata": {},
   "outputs": [],
   "source": [
    "def segment_data(df, data_type, segment_size, step_size = 2):\n",
    "    \"\"\"\n",
    "    Segments time-series data into EEG and EMG segments.\n",
    "\n",
    "    Parameters:\n",
    "    - df (DataFrame): The input dataframe containing the columns \"Time\", \"EEG\" and \"EMG\".\n",
    "    - segment_size (float): The desired size of each segment in seconds.\n",
    "    - step_size (float, optional): The step size of \"Time\" in milliseconds. Default is 2 millisecond.\n",
    "\n",
    "    Returns:\n",
    "    Tuple of two lists:\n",
    "    - List of EEG segments.\n",
    "    - List of EMG segments.\n",
    "    \"\"\"\n",
    "\n",
    "    df.reset_index(inplace=True)\n",
    "\n",
    "    n_segments = int((len(df.index))*step_size) // segment_size // 1000\n",
    "    segments = []\n",
    "\n",
    "    for segment_idx in range(n_segments):\n",
    "        start_idx = int(segment_idx* segment_size*1000/step_size)\n",
    "        end_idx = start_idx + int(segment_size*1000/step_size)\n",
    "        segment = df[data_type].iloc[start_idx:end_idx]\n",
    "        segments.append(list(segment))\n",
    "\n",
    "    return segments"
   ]
  },
  {
   "cell_type": "code",
   "execution_count": 168,
   "id": "7696563c-9996-40dd-99bc-8ec2b960bd32",
   "metadata": {},
   "outputs": [],
   "source": [
    "# Segment the datass\n",
    "segment_size = 4  # seconds\n",
    "\n",
    "segments = {}\n",
    "\n",
    "for label in label_list:\n",
    "    segments[label] = segment_data(data[data['Label'] == label], data_type, segment_size)"
   ]
  },
  {
   "cell_type": "code",
   "execution_count": 152,
   "id": "c3812f87-1933-4d0a-982a-7e43f4def3de",
   "metadata": {},
   "outputs": [],
   "source": [
    "def return_list_with_all_segments(segments, label_list):\n",
    "\n",
    "    all_segments = list()\n",
    "    \n",
    "    for label in label_list:\n",
    "        all_segments.extend(segments[label])\n",
    "\n",
    "    return all_segments\n",
    "\n",
    "\n",
    "all_segments = return_list_with_all_segments(segments, label_list)"
   ]
  },
  {
   "cell_type": "markdown",
   "id": "3f395424-d4bf-472a-918b-a02e8751fa7e",
   "metadata": {},
   "source": [
    "## Remove outliers"
   ]
  },
  {
   "cell_type": "markdown",
   "id": "e021e1c5-cc50-4ee1-ac25-3abbc66f9d55",
   "metadata": {},
   "source": [
    "Plot data with outliers"
   ]
  },
  {
   "cell_type": "code",
   "execution_count": 172,
   "id": "fe5b4416-49d6-4992-9f68-c8e2346414aa",
   "metadata": {},
   "outputs": [],
   "source": [
    "def return_flattened_segments(segments, label_list):\n",
    "\n",
    "    all_segments = {1: [], 2: [], 3: [], 4: [], 5: [], 7: []}\n",
    "    \n",
    "    for label in label_list:\n",
    "        for sgmt in segments[label]:\n",
    "            all_segments[label].extend(sgmt)\n",
    "\n",
    "    return all_segments\n",
    "\n",
    "\n",
    "flattened_segments = return_flattened_segments(segments, label_list)"
   ]
  },
  {
   "cell_type": "code",
   "execution_count": 181,
   "id": "6d489efe-e189-4faf-8c1c-140128ead52d",
   "metadata": {},
   "outputs": [
    {
     "data": {
      "text/plain": [
       "[<matplotlib.lines.Line2D at 0x2d0d8a080>]"
      ]
     },
     "execution_count": 181,
     "metadata": {},
     "output_type": "execute_result"
    },
    {
     "data": {
      "image/png": "[encoded data removed]",
      "text/plain": [
       "<Figure size 640x480 with 1 Axes>"
      ]
     },
     "metadata": {},
     "output_type": "display_data"
    }
   ],
   "source": [
    "import matplotlib.pyplot as plt\n",
    "\n",
    "plt.plot(flattened_segments[1])"
   ]
  },
  {
   "cell_type": "code",
   "execution_count": 187,
   "id": "383771c1-618f-462d-a7b0-31cd37c35817",
   "metadata": {},
   "outputs": [
    {
     "name": "stdout",
     "output_type": "stream",
     "text": [
      "Indices of outliers: [221 263 267 268 273 301 303 311 409 516 542 603 614 616]\n",
      "Indices of outliers: []\n",
      "Indices of outliers: []\n",
      "Indices of outliers: []\n",
      "Indices of outliers: []\n"
     ]
    }
   ],
   "source": [
    "def detect_artifacts(segments_of_our_label, all_segments, threshold):\n",
    "    \n",
    "    # Calculate the mean and standard deviation of the maximum absolute value in each segment\n",
    "    # of all time series\n",
    "\n",
    "    all_mav = []  # maximal absolute values of all segments\n",
    "    \n",
    "    for segment in all_segments:\n",
    "        all_mav.append(np.max(np.abs(segment)))\n",
    "\n",
    "    mean = np.mean(all_mav)\n",
    "    std = np.std(all_mav)\n",
    "\n",
    "    mav_of_our_label = [] # maximal absolute values of all segments of our labels\n",
    "    \n",
    "    for segment in segments_of_our_label:\n",
    "        mav_of_our_label.append(np.max(np.abs(segment)))\n",
    "    \n",
    "    # Calculate the Z-scores for each data point\n",
    "    z_scores = (mav_of_our_label - mean) / std\n",
    "          \n",
    "    # Find data points with Z-scores above the threshold (outliers)\n",
    "    outliers_indices = np.where(np.abs(z_scores) > threshold)[0]\n",
    "\n",
    "    print(\"Indices of outliers: \" +str(outliers_indices))\n",
    "\n",
    "    return outliers_indices\n",
    "\n",
    "\n",
    "outlier_indices = {}\n",
    "\n",
    "for label in [1, 2, 3, 4, 5]:\n",
    "    outlier_indices[label] = detect_artifacts(segments[label], all_segments, threshold=4)"
   ]
  },
  {
   "cell_type": "code",
   "execution_count": 188,
   "id": "78298768-8a39-436c-87a8-77a2327b983e",
   "metadata": {},
   "outputs": [],
   "source": [
    "def relabel_segments(label_list, segments, outlier_indices):\n",
    "\n",
    "    # Save the segments of each label for finding outliers\n",
    "\n",
    "    new_segments = {} # Addionally \n",
    "    new_segments[7] = segments[7]\n",
    "\n",
    "    for label in [1, 2, 3, 4, 5]:\n",
    "        new_segments[label] = [segment for idx, segment in enumerate(segments[label]) if idx not in outlier_indices[label]]\n",
    "        segments_to_append_to_label_7 = [segment for idx, segment in enumerate(segments[label]) if idx in outlier_indices[label]]\n",
    "        new_segments[7].append(segments_to_append_to_label_7)\n",
    "    \n",
    "    return new_segments\n",
    "\n",
    "new_segments = relabel_segments(label_list, segments, outlier_indices)"
   ]
  },
  {
   "cell_type": "markdown",
   "id": "5f374000-ad5e-4d2f-bd4b-59a51cd19441",
   "metadata": {},
   "source": [
    "Plots data without outliers"
   ]
  },
  {
   "cell_type": "code",
   "execution_count": 189,
   "id": "e45897da-a2ec-47d8-a2c3-d0726c5a3f3d",
   "metadata": {},
   "outputs": [],
   "source": [
    "flattened_segments = return_flattened_segments(new_segments, label_list)"
   ]
  },
  {
   "cell_type": "code",
   "execution_count": 190,
   "id": "d59e2445-4563-4e6d-b0c2-edaff189f87b",
   "metadata": {},
   "outputs": [
    {
     "data": {
      "text/plain": [
       "[<matplotlib.lines.Line2D at 0x2d0e79870>]"
      ]
     },
     "execution_count": 190,
     "metadata": {},
     "output_type": "execute_result"
    },
    {
     "data": {
      "image/png": "[encoded data removed]",
      "text/plain": [
       "<Figure size 640x480 with 1 Axes>"
      ]
     },
     "metadata": {},
     "output_type": "display_data"
    }
   ],
   "source": [
    "import matplotlib.pyplot as plt\n",
    "\n",
    "plt.plot(flattened_segments[1])\n"
   ]
  },
  {
   "cell_type": "markdown",
   "id": "ccf3dfd4-25fd-473a-9fc7-e281dc31d4ed",
   "metadata": {},
   "source": [
    "All outliers were removed :)."
   ]
  },
  {
   "cell_type": "markdown",
   "id": "92ef2d4e-e600-4c5e-922c-2c475ca13583",
   "metadata": {},
   "source": [
    "# Compute Indices for Cross Validation and Final Test Set"
   ]
  },
  {
   "cell_type": "code",
   "execution_count": 191,
   "id": "f4c27549-949f-4bb3-84bc-39b764acb038",
   "metadata": {},
   "outputs": [],
   "source": [
    "# Choose test data set size for classification later (recommended: 0.2-0.3)\n",
    "\n",
    "test_size = 0.2"
   ]
  },
  {
   "cell_type": "code",
   "execution_count": 192,
   "id": "4db60d9c-1a1c-438d-af72-32095a744099",
   "metadata": {},
   "outputs": [],
   "source": [
    "# Choose number of folds for Cross Validation of the training/validation data\n",
    "\n",
    "n_folds = 5"
   ]
  },
  {
   "cell_type": "markdown",
   "id": "00aaf69c-11ab-4c62-9dd3-07289f5e2fe5",
   "metadata": {},
   "source": [
    "### Choose Train and Test Data Indices for Test Set and for Each Fold"
   ]
  },
  {
   "cell_type": "code",
   "execution_count": 193,
   "id": "528d3fc3-1bff-4a7c-9006-7811597f26e2",
   "metadata": {},
   "outputs": [],
   "source": [
    "def choose_train_and_test_indices(segments, test_size):\n",
    "    train_indices_dict = {}\n",
    "    test_indices_dict = {}\n",
    "\n",
    "    # Iterate through each label and perform train/test split\n",
    "    for label, segments_values in segments.items():\n",
    "\n",
    "\n",
    "        # Perform train/test split\n",
    "        train_indices, test_indices = train_test_split(np.arange(len(segments_values)), test_size=test_size, random_state=32)\n",
    "\n",
    "\n",
    "        # Store the split indices\n",
    "        train_indices_dict[\"Label_\"+str(label)] = train_indices\n",
    "        test_indices_dict[\"Label_\"+str(label)] = test_indices\n",
    "\n",
    "\n",
    "    return train_indices_dict, test_indices_dict\n",
    "\n",
    "\n",
    "# Choose train and test indices\n",
    "train_indices_dict, test_indices_dict = choose_train_and_test_indices(segments, test_size)"
   ]
  },
  {
   "cell_type": "code",
   "execution_count": 194,
   "id": "dac52537-afd8-45ba-86a1-2f1e0dafdb44",
   "metadata": {},
   "outputs": [],
   "source": [
    "def compute_train_and_validation_set_indices_for_cross_validation(label_list, segments, train_indices_dict, n_folds):\n",
    "    \n",
    "    # Initialize Cross Validation\n",
    "    kf = KFold(n_splits=n_folds, shuffle=True, random_state=42)\n",
    "    \n",
    "    train_indices_dict_for_folds = {}\n",
    "    validation_indices_dict_for_folds = {}\n",
    "    \n",
    "    for label in label_list:\n",
    "        label_key = \"Label_\" + str(label)\n",
    "        \n",
    "        # Initialize dictionary for each label\n",
    "        train_indices_dict_for_folds[label_key] = {}\n",
    "        validation_indices_dict_for_folds[label_key] = {}\n",
    "        \n",
    "        label_indices = train_indices_dict[label_key]\n",
    "        \n",
    "        # Use KFold only if there are enough samples for cross-validation\n",
    "        if len(label_indices) >= 5:\n",
    "            for fold, (train_indices, validation_indices) in enumerate(kf.split(label_indices)):\n",
    "                train_indices_dict_for_folds[label_key][f\"Fold_{fold}\"] = label_indices[train_indices]\n",
    "                validation_indices_dict_for_folds[label_key][f\"Fold_{fold}\"] = label_indices[validation_indices]\n",
    "        else:\n",
    "            # Handle case where fewer than 5 samples are available\n",
    "            for fold in range(len(label_indices)):\n",
    "                train_indices_dict_for_folds[label_key][f\"Fold_{fold}\"] = [label_indices[fold]]\n",
    "                validation_indices_dict_for_folds[label_key][f\"Fold_{fold}\"] = [label_indices[fold]]\n",
    "\n",
    "            # Fill in remaining folds with empty lists if needed\n",
    "            for remaining_fold in range(len(label_indices), n_folds):\n",
    "                train_indices_dict_for_folds[label_key][f\"Fold_{remaining_fold}\"] = []\n",
    "                validation_indices_dict_for_folds[label_key][f\"Fold_{remaining_fold}\"] = []\n",
    "    \n",
    "    return train_indices_dict_for_folds, validation_indices_dict_for_folds\n",
    "\n",
    "\n",
    "train_indices_dict_for_folds, validation_indices_dict_for_folds = compute_train_and_validation_set_indices_for_cross_validation(label_list,\n",
    "                                                                                    segments, train_indices_dict, n_folds)"
   ]
  },
  {
   "cell_type": "code",
   "execution_count": 195,
   "id": "73f9ea6a-632a-462c-a44f-d8c1194f6a3e",
   "metadata": {},
   "outputs": [],
   "source": [
    "# Save all indices\n",
    "\n",
    "# Train indices\n",
    "np.save(\"Train_Test_Splitting/\"+str(subject)+\"/Train_Indices_All_Labels_All_Folds.npy\",\\\n",
    "    np.array(train_indices_dict_for_folds, dtype=object), allow_pickle=True)\n",
    "\n",
    "# Validation indices\n",
    "np.save(\"Train_Test_Splitting/\"+str(subject)+\"/Validation_Indices_All_Labels_All_Folds.npy\",\\\n",
    "    np.array(validation_indices_dict_for_folds, dtype=object), allow_pickle=True)\n",
    "\n",
    "# Final Test set indices\n",
    "np.save(\"Train_Test_Splitting/\"+str(subject)+\"/Final_Test_Set_Indices_All_Labels.npy\",\\\n",
    "    np.array(test_indices_dict, dtype=object), allow_pickle=True)\n",
    "\n"
   ]
  },
  {
   "cell_type": "markdown",
   "id": "27f03dd2-fb80-4a90-acdb-7de9740ac6f9",
   "metadata": {},
   "source": [
    "# Outliers"
   ]
  },
  {
   "cell_type": "markdown",
   "id": "ec79840c-3793-4a66-9d7f-d69e0cc90b0a",
   "metadata": {},
   "source": [
    "# Persistence Diagrams"
   ]
  },
  {
   "cell_type": "markdown",
   "id": "8d0460ed-23ef-45a5-bf45-eafa66888669",
   "metadata": {},
   "source": [
    "## Finding the optimal embedding dimension and time delay"
   ]
  },
  {
   "cell_type": "markdown",
   "id": "253351f2-ad56-4641-9228-1ea72b78eb35",
   "metadata": {},
   "source": [
    "There are two techniques that can be used to determine these parameters automatically:\n",
    "- Mutual information to determine the time delay\n",
    "- False nearest neighbours to determine the embedding dimension"
   ]
  },
  {
   "cell_type": "code",
   "execution_count": 196,
   "id": "5411caea-3b14-45e6-adc5-e86f77235716",
   "metadata": {},
   "outputs": [],
   "source": [
    "# Initialise the embedding\n",
    "max_embedding_dimension = 30\n",
    "max_time_delay = 30\n",
    "stride = 10\n",
    "\n",
    "embedder = SingleTakensEmbedding(\n",
    "    parameters_type=\"search\",\n",
    "    time_delay=max_time_delay,\n",
    "    dimension=max_embedding_dimension,\n",
    "    stride=stride,\n",
    ")"
   ]
  },
  {
   "cell_type": "code",
   "execution_count": 197,
   "id": "695b8367-ca0f-44da-8bdd-735a8c8794eb",
   "metadata": {},
   "outputs": [],
   "source": [
    "def find_optimal_parameters(embedder, segments, max_index, iterations = 8):\n",
    "    \"\"\"\n",
    "    Finds (approximate) optimal embedding parameters by averaging optimal parameters of random segments.\n",
    "\n",
    "    Parameters:\n",
    "    - embedder (object): defined by SingleTakensEmbedding() or similar\n",
    "    - segments (list of lists): Complete EEG/EMG segments\n",
    "    - max_index (int): How many segments there are\n",
    "    - iteratiors (int): How many random indices to sample\n",
    "\n",
    "    Returns:\n",
    "    Tuple of two floats:\n",
    "    - Average optimal embedding dimension\n",
    "    - Average optimal time delay\n",
    "    \"\"\"\n",
    "\n",
    "\n",
    "    optimal_embeddings_dimensions = []\n",
    "    optimal_time_delays = []\n",
    "    \n",
    "    for _ in range(iterations):\n",
    "        random_index = random.randint(0, max_index)\n",
    "        embedding = embedder.fit_transform(segments[random_index])\n",
    "        \n",
    "         # append optimal embedding dimension for this segment\n",
    "        optimal_embeddings_dimensions.append(embedder.dimension_)\n",
    "\n",
    "        # append optimal time delay for this segment\n",
    "        optimal_time_delays.append(embedder.time_delay_)\n",
    "\n",
    "        print(\"The optimal embedding dimension is \" + str(np.mean(optimal_embeddings_dimensions)) + \n",
    "              \" and the optimal time delay is \" + str(np.mean(optimal_time_delays)))\n",
    "        \n",
    "        return int(np.mean(optimal_embeddings_dimensions)), int(np.mean(optimal_time_delays))"
   ]
  },
  {
   "cell_type": "code",
   "execution_count": 198,
   "id": "e9909742-300d-43a9-91cf-fa7b1a579007",
   "metadata": {},
   "outputs": [
    {
     "name": "stdout",
     "output_type": "stream",
     "text": [
      "The optimal embedding dimension is 5.0 and the optimal time delay is 21.0\n"
     ]
    }
   ],
   "source": [
    "# Compute optimal embedding parameters\n",
    "    \n",
    "embedding_dimension, embedding_time_delay = find_optimal_parameters(embedder, all_segments, len(all_segments), iterations = 8)"
   ]
  },
  {
   "cell_type": "markdown",
   "id": "d24ae14f-02bd-46f3-86dc-36059171e678",
   "metadata": {},
   "source": [
    " "
   ]
  },
  {
   "cell_type": "markdown",
   "id": "c8ae774c-2bca-448a-b292-676e26190097",
   "metadata": {},
   "source": [
    "## Creating Persistence Diagrams"
   ]
  },
  {
   "cell_type": "code",
   "execution_count": 199,
   "id": "c1d6e233-e614-42cf-b4bc-e1cf83874dff",
   "metadata": {},
   "outputs": [],
   "source": [
    "# Setting parameters for point cloud embeddings\n",
    "\n",
    "#embedding_dimension= 3 # for data exploration\n",
    "\n",
    "embedder = SingleTakensEmbedding(\n",
    "    parameters_type=\"fixed\",\n",
    "    n_jobs=2,\n",
    "    time_delay=embedding_time_delay, # computed above\n",
    "    dimension=embedding_dimension, # computed above\n",
    "    stride=stride,\n",
    ")"
   ]
  },
  {
   "cell_type": "code",
   "execution_count": 200,
   "id": "1aeaf116-7c67-4b3f-849e-d827a751a0cf",
   "metadata": {},
   "outputs": [],
   "source": [
    "# We will look at 0, 1 and 2 dimensional holes\n",
    "homology_dimensions = [0, 1, 2]\n",
    "\n",
    "# We will use a Vietoris Rips filtrations\n",
    "persistence = VietorisRipsPersistence(\n",
    "    homology_dimensions=homology_dimensions, n_jobs=10\n",
    ")"
   ]
  },
  {
   "cell_type": "markdown",
   "id": "03b27aa0-db64-4d55-b188-53f3b5445523",
   "metadata": {},
   "source": [
    "### Computing Points Clouds and Persistence Diagrams"
   ]
  },
  {
   "cell_type": "code",
   "execution_count": 201,
   "id": "7b6b0723-13f1-44c1-9d5c-a3e0b4dd0d5a",
   "metadata": {},
   "outputs": [],
   "source": [
    "def compute_embeddings_and_diagrams(segments, time_delay_embeddings, persistence_diagrams, label):\n",
    "\n",
    "    time_delay_embeddings[\"Label_\"+str(label)] = []\n",
    "    persistence_diagrams[\"Label_\"+str(label)] = []\n",
    "\n",
    "    # Compute embeddings and diagrams for the complete data\n",
    "    for diagram_idx in range(len(segments[label])):\n",
    "        time_delay_embeddings[\"Label_\"+str(label)].append(embedder.fit_transform(segments[label][diagram_idx])[None, :, :])\n",
    "        persistence_diagrams[\"Label_\"+str(label)].append(persistence.fit_transform(time_delay_embeddings[\"Label_\"+str(label)][diagram_idx]))\n",
    "    \n",
    "    return time_delay_embeddings, persistence_diagrams"
   ]
  },
  {
   "cell_type": "code",
   "execution_count": null,
   "id": "d03146bc-60f9-4e04-9422-0d864900104e",
   "metadata": {},
   "outputs": [],
   "source": [
    "# Compute embeddings and persistence diagrams for the complete data\n",
    "\n",
    "time_delay_embeddings = {}\n",
    "persistence_diagrams = {}\n",
    "\n",
    "for label in label_list:\n",
    "    time_delay_embeddings, persistence_diagrams = compute_embeddings_and_diagrams(segments, time_delay_embeddings, persistence_diagrams, label)"
   ]
  },
  {
   "cell_type": "markdown",
   "id": "56c3e42a-c2f5-4442-8c57-bb8d07407c47",
   "metadata": {},
   "source": [
    "## Save persistence diagrams and embeddings"
   ]
  },
  {
   "cell_type": "code",
   "execution_count": null,
   "id": "2f008c63-4e40-4e86-8126-67ecb0ba41a7",
   "metadata": {},
   "outputs": [],
   "source": [
    "# Persistence diagrams\n",
    "np.save('Embeddings_and_Persistence_Diagrams/'+str(subject)+'/'+str(data_type)+'/Persistence_Diagrams_All_Labels.npy', \\\n",
    "            np.array(persistence_diagrams, dtype=object), allow_pickle=True)\n",
    "\n",
    "# Embeddings\n",
    "np.save('Embeddings_and_Persistence_Diagrams/'+str(subject)+'/'+str(data_type)+'/Embeddings_All_Labels'+\\\n",
    "            '_Embedding_Dim'+str(embedding_dimension)+'.npy', np.array(time_delay_embeddings, dtype=object), allow_pickle=True)"
   ]
  },
  {
   "cell_type": "code",
   "execution_count": null,
   "id": "f3448e0e-df40-4181-b408-024740fde8b3",
   "metadata": {},
   "outputs": [],
   "source": []
  },
  {
   "cell_type": "code",
   "execution_count": null,
   "id": "bd054e7c-9a3e-42cc-bcfc-810036cd48f2",
   "metadata": {},
   "outputs": [],
   "source": []
  }
 ],
 "metadata": {
  "kernelspec": {
   "display_name": "Python 3 (ipykernel)",
   "language": "python",
   "name": "python3"
  },
  "language_info": {
   "codemirror_mode": {
    "name": "ipython",
    "version": 3
   },
   "file_extension": ".py",
   "mimetype": "text/x-python",
   "name": "python",
   "nbconvert_exporter": "python",
   "pygments_lexer": "ipython3",
   "version": "3.10.12"
  }
 },
 "nbformat": 4,
 "nbformat_minor": 5
}
