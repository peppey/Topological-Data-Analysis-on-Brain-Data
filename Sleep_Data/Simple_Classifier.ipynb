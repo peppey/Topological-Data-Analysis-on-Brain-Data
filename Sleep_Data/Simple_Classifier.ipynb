{
 "cells": [
  {
   "cell_type": "code",
   "execution_count": null,
   "id": "e9f3ffa4-2d95-4158-8ac6-92b145e05e0b",
   "metadata": {},
   "outputs": [],
   "source": [
    "import import_ipynb\n",
    "import pandas as pd\n",
    "import numpy as np\n",
    "from sklearn.ensemble import RandomForestClassifier\n",
    "from sklearn.metrics import accuracy_score, confusion_matrix, precision_score, recall_score, ConfusionMatrixDisplay\n",
    "from sklearn.model_selection import RandomizedSearchCV\n",
    "from scipy.stats import randint\n",
    "from sklearn.utils import shuffle\n",
    "import xgboost as xgb\n",
    "import matplotlib.pyplot as plt\n",
    "import os\n",
    "import mlflow\n",
    "from mlflow.models import infer_signature\n",
    "import math \n",
    "\n",
    "\n",
    "from sklearn.model_selection import GridSearchCV\n",
    "\n",
    "\n",
    "import sys\n",
    "sys.path.append('../')\n",
    "\n",
    "import Utils.Time_Series_Classification_Helpers as ts_helpers\n",
    "import Utils.Classification_Helpers as helpers"
   ]
  },
  {
   "cell_type": "code",
   "execution_count": null,
   "id": "ebc64c0d-6d6c-4763-9df3-2e548c0e5e37",
   "metadata": {},
   "outputs": [],
   "source": [
    "pd.set_option('display.max_columns', None)  # Use 'None' to display all columns"
   ]
  },
  {
   "cell_type": "markdown",
   "id": "aa49ecfc-b04c-45b5-a328-6ff826897526",
   "metadata": {},
   "source": [
    "# Set up MLFlow"
   ]
  },
  {
   "cell_type": "code",
   "execution_count": null,
   "id": "552878fa-4803-4f83-8277-7c0ff79a90ed",
   "metadata": {},
   "outputs": [],
   "source": [
    "# Start MLFlow\n",
    "#!mlflow server --host 127.0.0.1 --port 8080"
   ]
  },
  {
   "cell_type": "code",
   "execution_count": null,
   "id": "dfebd2bd-c2ae-4213-92be-9d14b32128a1",
   "metadata": {},
   "outputs": [],
   "source": [
    "mlflow.set_tracking_uri(uri=\"http://127.0.0.1:8080\")"
   ]
  },
  {
   "cell_type": "markdown",
   "id": "d96ef8fb-0483-47c0-a098-4765de47b4f5",
   "metadata": {},
   "source": [
    "# Import and Concatenate Data"
   ]
  },
  {
   "cell_type": "code",
   "execution_count": null,
   "id": "44894145-e4db-4240-8466-9ff4fa84392e",
   "metadata": {},
   "outputs": [],
   "source": [
    "subject_list = [\"293\", \"294\", \"298\"]\n",
    "label_list  = [1, 2, 3, 4, 5, 7]"
   ]
  },
  {
   "cell_type": "markdown",
   "id": "ea6f9205-932a-417c-b6ff-d92f746b710d",
   "metadata": {},
   "source": [
    "## Dataframes that do not depend on folds"
   ]
  },
  {
   "cell_type": "code",
   "execution_count": null,
   "id": "2a2209dc-3870-4f09-b6aa-e46f50298cf8",
   "metadata": {},
   "outputs": [],
   "source": [
    "list_of_filenames = [\"Topological_Summary_Statistics.csv\", \"Advanced_Features.csv\", \"Signature_Statistics.csv\"]\n",
    "\n",
    "feature_df = ts_helpers.import_and_concatenate_datasets(subject_list, list_of_filenames, parent_directory = \"\")\n",
    "feature_df.fillna(0, inplace=True)\n",
    "\n",
    "all_labels = feature_df[\"Label\"]"
   ]
  },
  {
   "cell_type": "markdown",
   "id": "83d18abb-6f9a-4b13-b965-0d745e311dab",
   "metadata": {},
   "source": [
    "## Dataframes that DO depend on folds"
   ]
  },
  {
   "cell_type": "code",
   "execution_count": null,
   "id": "0a2e758e-9f50-4db2-80e2-ca091cb0e6da",
   "metadata": {},
   "outputs": [],
   "source": [
    "list_of_filenames = [\"Vectorization_Features.csv\"]\n",
    "\n",
    "fold_dependant_feature_df = ts_helpers.import_and_concatenate_datasets(subject_list, list_of_filenames, parent_directory = \"\")\n",
    "\n",
    "\n",
    "list_of_filenames = [\"Vectorization_Features_for_Final_Test.csv\"]\n",
    "\n",
    "fold_dependant_final_test_feature_df = ts_helpers.import_and_concatenate_datasets(subject_list, list_of_filenames, parent_directory = \"\")"
   ]
  },
  {
   "cell_type": "markdown",
   "id": "069fcb66-1b39-4cc4-8106-8bebe6898c68",
   "metadata": {},
   "source": [
    "## Save features for Data Exploration"
   ]
  },
  {
   "cell_type": "code",
   "execution_count": null,
   "id": "72ad0052-bb36-460a-8e57-e6525645b850",
   "metadata": {},
   "outputs": [],
   "source": [
    "feature_df.to_csv(\"Features/All_Features.csv\")"
   ]
  },
  {
   "cell_type": "markdown",
   "id": "c5c438e6-7241-4d14-b4d5-0b2243f636b3",
   "metadata": {},
   "source": [
    "## Filter"
   ]
  },
  {
   "cell_type": "code",
   "execution_count": null,
   "id": "b91f048c-41a3-4423-a588-776234da857e",
   "metadata": {},
   "outputs": [],
   "source": [
    "dfs = [feature_df, fold_dependant_feature_df, fold_dependant_final_test_feature_df]\n",
    "\n",
    "list_of_strings_in_column_names_to_remove = [] \n",
    "\n",
    "feature_df, fold_dependant_feature_df, fold_dependant_final_test_feature_df = helpers.remove_features(dfs, list_of_strings_in_column_names_to_remove)"
   ]
  },
  {
   "cell_type": "code",
   "execution_count": null,
   "id": "9cd0a113-dfc1-443e-bcbe-61c97a994824",
   "metadata": {},
   "outputs": [],
   "source": [
    "feature = \"Persistence_Landscape_Statistic_Kurtosis\" \n",
    "\n",
    "#feature_df, fold_dependant_feature_df, fold_dependant_final_test_feature_df = helpers.only_use_one_feature_for_classification(feature, dfs)"
   ]
  },
  {
   "cell_type": "markdown",
   "id": "5187bb1b-3646-4da3-9a03-5d88e52d8f02",
   "metadata": {},
   "source": [
    "## Creating training and validation sets"
   ]
  },
  {
   "cell_type": "code",
   "execution_count": null,
   "id": "1a96ec01-d0d4-4532-a1dd-9b2a7dd465df",
   "metadata": {},
   "outputs": [],
   "source": [
    "train_indices, validation_indices, test_indices = helpers.load_folds(subject_list, parent_directory = \"\")"
   ]
  },
  {
   "cell_type": "code",
   "execution_count": null,
   "id": "432065fe-cce1-455b-8adb-c2276cdce4bf",
   "metadata": {},
   "outputs": [],
   "source": [
    "X_train, y_train, X_test, y_test = helpers.create_training_and_validation_sets(feature_df, fold_dependant_feature_df, train_indices, validation_indices, label_list)"
   ]
  },
  {
   "cell_type": "markdown",
   "id": "da3e5d46-116c-4bd9-9a01-b71d2798616d",
   "metadata": {},
   "source": [
    "# MLFLow & Cross Validation"
   ]
  },
  {
   "cell_type": "code",
   "execution_count": null,
   "id": "1c13e49d-8705-4570-b876-821971d251ef",
   "metadata": {},
   "outputs": [],
   "source": [
    "concatenated_X, concatenated_y = helpers.concatenate_data(X_train, X_test, y_train, y_test)"
   ]
  },
  {
   "cell_type": "code",
   "execution_count": null,
   "id": "bcf03919-4262-45c5-9fb0-63776e6a84e2",
   "metadata": {},
   "outputs": [],
   "source": [
    "train_test_splits = helpers.define_fold_start_and_end_indices(X_train, X_test)"
   ]
  },
  {
   "cell_type": "code",
   "execution_count": null,
   "id": "9740f4cb-0db8-4c3b-9772-89de73d21866",
   "metadata": {},
   "outputs": [],
   "source": [
    "# Create the custom cross-validation object\n",
    "custom_cv = helpers.CustomCV(train_test_splits)"
   ]
  },
  {
   "cell_type": "markdown",
   "id": "16b97438-9ecb-463f-af84-dee90a7fe26e",
   "metadata": {},
   "source": [
    "## Random Forest"
   ]
  },
  {
   "cell_type": "code",
   "execution_count": null,
   "id": "eac232c6-22a7-4412-b1f2-48edb47335fb",
   "metadata": {},
   "outputs": [],
   "source": [
    "# Define the parameter grid after first initial manual experiments\n",
    "param_grid = {\n",
    "    'n_estimators': [100, 200, 400],\n",
    "    'max_depth': [None, 10, 20],\n",
    "    'min_samples_split': [2, 5],\n",
    "    'min_samples_leaf': [2, 4, 6]\n",
    "}\n",
    "\n",
    "\n",
    "\n",
    "# Another parameter grid\n",
    "param_grid = {\n",
    "    'n_estimators': [500],\n",
    "    'max_depth': [None, 20, 30],\n",
    "    'min_samples_split': [2, 3],\n",
    "    'min_samples_leaf': [1]\n",
    "}\n",
    "\n",
    "\n",
    "# Another parameter grid for finer tuning\n",
    "param_grid = {\n",
    "    'n_estimators': [300, 400, 500, 600],\n",
    "    'max_depth': [None, 50, 70],\n",
    "    'min_samples_split': [2],\n",
    "    'min_samples_leaf': [1]\n",
    "}\n",
    "\n",
    "rf_for_cross_validation = RandomForestClassifier(random_state = 1)\n",
    "\n",
    "\n",
    "best_params, best_score = helpers.perform_grid_search(rf_for_cross_validation, param_grid, custom_cv, concatenated_X, concatenated_y)"
   ]
  },
  {
   "cell_type": "code",
   "execution_count": null,
   "id": "5bf79035-a8a9-4c0a-a26c-30bc5b691a55",
   "metadata": {},
   "outputs": [],
   "source": [
    "params_for_manual_tuning = {\"random_state\": 1, \"n_estimators\": 500, \"min_samples_split\": 2}\n",
    "\n",
    "rf_for_manual_tuning = RandomForestClassifier(**params_for_manual_tuning)\n",
    "\n",
    "helpers.manual_tuning(rf_for_manual_tuning, X_train, X_test, y_train, y_test, params_for_manual_tuning)"
   ]
  },
  {
   "cell_type": "markdown",
   "id": "b8cc605d-75f0-4331-a1ab-f42e778386b7",
   "metadata": {},
   "source": [
    "## XGBoost"
   ]
  },
  {
   "cell_type": "code",
   "execution_count": null,
   "id": "9d52970d-aba8-46b3-8848-406df4bc6762",
   "metadata": {},
   "outputs": [],
   "source": [
    "# Change the labels to adequate labels for XGBoost\n",
    "mapping = {1: 0, 2: 1, 3: 2, 4: 3, 5: 4, 7: 5}\n",
    "\n",
    "for fold in range(5):\n",
    "    y_train[fold] = [mapping[num] for num in y_train[fold]]\n",
    "    y_test[fold] = [mapping[num] for num in y_test[fold]]"
   ]
  },
  {
   "cell_type": "code",
   "execution_count": null,
   "id": "2bfa4006-702a-4ac3-80ba-568630e20e0e",
   "metadata": {},
   "outputs": [],
   "source": [
    "concatenated_X, concatenated_y = helpers.concatenate_data(X_train, X_test, y_train, y_test)\n"
   ]
  },
  {
   "cell_type": "code",
   "execution_count": null,
   "id": "c606977a-b2fa-42b8-9c0e-b909b02bd6aa",
   "metadata": {},
   "outputs": [],
   "source": [
    "# Define the parameter grid after first initial manual experiments for approximately finding a sweet spot (with MLFlow, code below)\n",
    "\n",
    "# Main parameter grid for finetuning\n",
    "param_grid = {\n",
    "    \"learning_rate\": [0.17, 0.19, 0.21],\n",
    "    \"n_estimators\": [250, 300],\n",
    "    \"max_depth\": [7, 8, 9],\n",
    "    \"min_child_weight\": [0],\n",
    "    \"subsample\": [0.5]\n",
    "}\n",
    "\n",
    "# Another parameter grid for finer tuning\n",
    "param_grid = {\n",
    "    \"learning_rate\": [0.19],\n",
    "    \"n_estimators\": [300, 400],\n",
    "    \"max_depth\": [5, 6, 7],\n",
    "    \"min_child_weight\": [0],\n",
    "    \"max_delta_step\": [0, 1],\n",
    "    \"subsample\": [0.5]\n",
    "}\n",
    "\n",
    "\n",
    "# Another parameter grid for finer tuning\n",
    "param_grid = {\n",
    "    \"learning_rate\": [0.18, 0.19, 0.2],\n",
    "    \"n_estimators\": [400, 500],\n",
    "    \"max_depth\": [3, 4, 5],\n",
    "    \"min_child_weight\": [0, 1],\n",
    "    \"max_delta_step\": [1, 2],\n",
    "    \"subsample\": [0.5]\n",
    "}\n",
    "\n",
    "xb_for_cross_validation = xgb.XGBClassifier(seed=1)\n",
    "\n",
    "best_params, best_score = helpers.perform_grid_search(xb_for_cross_validation, param_grid, custom_cv, concatenated_X, concatenated_y)\n"
   ]
  },
  {
   "cell_type": "code",
   "execution_count": null,
   "id": "11f77b40-9ae1-448d-970c-5353dcc84934",
   "metadata": {},
   "outputs": [],
   "source": [
    "params = {\"seed\": 1, 'learning_rate': 0.18, 'max_delta_step': 1, 'max_depth': 4, 'min_child_weight': 1, 'n_estimators': 400, 'subsample': 0.5}\n",
    "\n",
    "xb_for_manual_tuning = xgb.XGBClassifier(**params)\n",
    "\n",
    "helpers.manual_tuning(xb_for_manual_tuning, X_train, X_test, y_train, y_test, params_for_manual_tuning)"
   ]
  },
  {
   "cell_type": "markdown",
   "id": "e85d4ab5-f68b-44fc-9b7c-539ae2e1b378",
   "metadata": {},
   "source": [
    "# Final Test Set"
   ]
  },
  {
   "cell_type": "code",
   "execution_count": null,
   "id": "6853b43c-4209-48b4-bf54-070bd7a5c493",
   "metadata": {},
   "outputs": [],
   "source": [
    "final_train_indices = helpers.get_indices_of_final_training_set(train_indices, validation_indices, subject_list, label_list)"
   ]
  },
  {
   "cell_type": "code",
   "execution_count": null,
   "id": "9c0e6d10-0a1a-40af-9719-3af611f90b05",
   "metadata": {},
   "outputs": [],
   "source": [
    "# Concatenate ATOL features with all other features\n",
    "feature_df = pd.concat([feature_df, fold_dependant_final_test_feature_df], axis=1)"
   ]
  },
  {
   "cell_type": "code",
   "execution_count": null,
   "id": "b761485c-4cd3-471e-ba79-ad57e414be1f",
   "metadata": {},
   "outputs": [],
   "source": [
    "feature_df = helpers.keep_first_duplicate_columns(feature_df)"
   ]
  },
  {
   "cell_type": "code",
   "execution_count": null,
   "id": "143bb698-493b-4c61-a5cb-26c0ed9f0524",
   "metadata": {},
   "outputs": [],
   "source": [
    "# Get final test sets\n",
    "X_train_final, y_train_final, X_test_final, y_test_final = helpers.create_final_input_data_dicts(feature_df,          \n",
    "                                        final_train_indices, test_indices, label_list)"
   ]
  },
  {
   "cell_type": "code",
   "execution_count": null,
   "id": "c1797a8c-65c2-47f5-8bc0-9a92d454aa58",
   "metadata": {},
   "outputs": [],
   "source": [
    "# Change the labels to adequate labels for XGBoost\n",
    "mapping = {1: 0, 2: 1, 3: 2, 4: 3, 5: 4, 7: 5}\n",
    "\n",
    "\n",
    "y_train_final = [mapping[num] for num in y_train_final]\n",
    "y_test_final = [mapping[num] for num in y_test_final]"
   ]
  },
  {
   "cell_type": "code",
   "execution_count": null,
   "id": "f1ece64a-6ca8-484c-abf7-a6c80a3b1966",
   "metadata": {},
   "outputs": [],
   "source": [
    "params_with_initialized_random_state = {\n",
    "    \"seed\": 0, \n",
    "    'learning_rate': 0.18, \n",
    "    'max_delta_step': 1, \n",
    "    'max_depth': 4, \n",
    "    'min_child_weight': 1,\n",
    "    'n_estimators': 400, \n",
    "    'subsample': 0.5\n",
    "}\n",
    "        \n",
    "xb = xgb.XGBClassifier(**params_with_initialized_random_state)\n",
    "\n",
    "mean_accuracy, importances =  helpers.final_evaluation(xb, params_with_initialized_random_state, X_train_final, y_train_final, X_test_final, y_test_final)"
   ]
  },
  {
   "cell_type": "code",
   "execution_count": null,
   "id": "fa1b6fea-8f01-4885-addc-7582005d3e33",
   "metadata": {},
   "outputs": [],
   "source": []
  },
  {
   "cell_type": "code",
   "execution_count": null,
   "id": "1829e75a-1de7-48a9-90d0-40e5a1cda125",
   "metadata": {},
   "outputs": [],
   "source": []
  }
 ],
 "metadata": {
  "kernelspec": {
   "display_name": "Python 3 (ipykernel)",
   "language": "python",
   "name": "python3"
  },
  "language_info": {
   "codemirror_mode": {
    "name": "ipython",
    "version": 3
   },
   "file_extension": ".py",
   "mimetype": "text/x-python",
   "name": "python",
   "nbconvert_exporter": "python",
   "pygments_lexer": "ipython3",
   "version": "3.10.12"
  }
 },
 "nbformat": 4,
 "nbformat_minor": 5
}
