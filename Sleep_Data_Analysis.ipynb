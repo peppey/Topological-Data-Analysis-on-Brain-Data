{
 "cells": [
  {
   "cell_type": "markdown",
   "id": "050a510c-b0c5-4d3d-a3ac-cd3fc2c866fe",
   "metadata": {},
   "source": [
    "import numpy as np\n",
    "import pyedflib\n",
    "import plotly.graph_objects as go\n",
    "import pandas as pd\n",
    "from gtda.time_series import SingleTakensEmbedding\n",
    "from gtda.homology import VietorisRipsPersistence\n",
    "from gtda.diagrams import PersistenceEntropy, Amplitude, NumberOfPoints, ComplexPolynomial, PersistenceLandscape, HeatKernel\n",
    "from gtda.plotting import plot_point_cloud, plot_heatmap\n",
    "import matplotlib.pyplot as plt\n",
    "from mpl_toolkits.mplot3d import Axes3D\n",
    "from gtda.pipeline import Pipeline # Could later be useful, not importable with current sklearn version\n",
    "\n",
    "\n",
    "\n",
    "def read_edf_file(file_path):\n",
    "    \"\"\"\n",
    "    Reads an .edf file and returns the EEG and EMG streams as pandas DataFrames.\n",
    "    \"\"\"\n",
    "    f = pyedflib.EdfReader(file_path)\n",
    "\n",
    "    # Assuming the EEG channel is the first channel and EMG is the second channel\n",
    "    eeg_signal = f.readSignal(0)\n",
    "    emg_signal = f.readSignal(1)\n",
    "\n",
    "    # Extract the channel names for the DataFrame\n",
    "    eeg_channel_name = f.getSignalLabels()[0]\n",
    "    emg_channel_name = f.getSignalLabels()[1]\n",
    "\n",
    "    # Get the sample frequency\n",
    "    sample_frequency = f.getSampleFrequency(0)  # Assuming both streams have the same frequency\n",
    "\n",
    "    # Calculate the timestamps for the samples\n",
    "    n_samples = min(len(eeg_signal), len(emg_signal))\n",
    "    time = [i / sample_frequency for i in range(n_samples)]\n",
    "\n",
    "    # Create pandas DataFrame\n",
    "    df = pd.DataFrame({\n",
    "        'Time': time,\n",
    "        eeg_channel_name: eeg_signal[:n_samples],\n",
    "        emg_channel_name: emg_signal[:n_samples],\n",
    "    })\n",
    "\n",
    "    # Close the EdfReader\n",
    "    f.close()\n",
    "\n",
    "    return df\n",
    "\n",
    "file = 'edf_293.edf'\n",
    "\n",
    "data = read_edf_file(file)\n",
    "\n",
    "\n",
    "x = data.Time\n",
    "y = data.EEG"
   ]
  },
  {
   "cell_type": "markdown",
   "id": "d3574424-0ece-4ff8-bde5-d53f43cba7cf",
   "metadata": {},
   "source": [
    "!pip freeze"
   ]
  },
  {
   "cell_type": "markdown",
   "id": "5c74367d-1221-4728-aabd-c6baa32377b5",
   "metadata": {},
   "source": [
    "# Labels\n",
    "label_df = pd.read_csv(\"Data_293.csv\")\n",
    "labels = label_df[\"NAPS_Numeric\"].iloc[1:]\n",
    "labels = [int(label) for label in labels]"
   ]
  },
  {
   "cell_type": "markdown",
   "id": "f1ea3b4c-8747-430b-9966-2e7eaaca0b74",
   "metadata": {},
   "source": [
    "# Examining EEG data"
   ]
  },
  {
   "cell_type": "markdown",
   "id": "d5550355-d14c-474b-ac10-c22a903a64f1",
   "metadata": {},
   "source": [
    "# Extract the indices of the first 10 of each of the single labels occuring in the list labels \n",
    "\n",
    "indices_dict = {}  # A dictionary to store indices for each label\n",
    "\n",
    "for label in list(set(labels)):\n",
    "    indices = [index for index, value in enumerate(labels) if value == label][:30]\n",
    "    indices_dict[label] = indices\n"
   ]
  },
  {
   "cell_type": "markdown",
   "id": "2fc1f028-ae3a-4846-b9f4-08d87d4e56d9",
   "metadata": {},
   "source": [
    "def segment_data(df, segment_size, step_size = 2):\n",
    "    \"\"\"\n",
    "    Segments the DataFrame into non-overlapping intervals.\n",
    "    \"\"\"\n",
    "    n_segments = int(df[\"Time\"].iloc[-1]) // segment_size\n",
    "    eeg_segments = []\n",
    "    emg_segments = []\n",
    "\n",
    "    for i in range(n_segments):\n",
    "        start_idx = int(i* segment_size*1000/step_size)\n",
    "        end_idx = start_idx + int(segment_size*1000/step_size)\n",
    "        segment = df.iloc[start_idx:end_idx]\n",
    "        eeg_segments.append(list(segment[\"EEG\"]))\n",
    "        emg_segments.append(list(segment[\"EMG\"]))\n",
    "\n",
    "    return eeg_segments, emg_segments"
   ]
  },
  {
   "cell_type": "markdown",
   "id": "fac181ad-1965-4e3e-a4c9-655485b53101",
   "metadata": {},
   "source": [
    "# Segment the data\n",
    "segment_length = 4  # seconds\n",
    "eeg_segments, emg_segments = segment_data(data, segment_length, step_size = 2)"
   ]
  },
  {
   "cell_type": "markdown",
   "id": "33e389ba-c1dd-4ab5-8a1d-99075a811af1",
   "metadata": {},
   "source": [
    "embedding_dimension= 5\n",
    "embedding_time_delay = 25\n",
    "stride = 10\n",
    "\n",
    "embedder_periodic = SingleTakensEmbedding(\n",
    "    parameters_type=\"fixed\",\n",
    "    n_jobs=2,\n",
    "    time_delay=embedding_time_delay,\n",
    "    dimension=embedding_dimension,\n",
    "    stride=stride,\n",
    ")"
   ]
  },
  {
   "cell_type": "markdown",
   "id": "28f3eb22-abf2-43fe-b455-1920e9e2dc21",
   "metadata": {},
   "source": [
    "## Examining segments with label 1"
   ]
  },
  {
   "cell_type": "markdown",
   "id": "7e1fb770-6ca5-45bf-89e4-7ae3936fa404",
   "metadata": {},
   "source": [
    "# Initial definition of embedding dictionary for all labels\n",
    "y_embedded = {}"
   ]
  },
  {
   "cell_type": "markdown",
   "id": "1b766e33-9af2-4b71-8114-b02dbb2a9443",
   "metadata": {},
   "source": [
    "# Loop through the first positions with label '1'\n",
    "for label_idx in indices_dict[1]:\n",
    "    y_embedded[label_idx] = embedder_periodic.fit_transform(eeg_segments[label_idx])"
   ]
  },
  {
   "cell_type": "markdown",
   "id": "28852a7b-6daf-40bf-9c7f-faf16884ab46",
   "metadata": {},
   "source": [
    "# Plot the first point cloud\n",
    "plot_point_cloud(y_embedded[indices_dict[1][0]])"
   ]
  },
  {
   "cell_type": "markdown",
   "id": "be8d0312-7327-4c13-b619-766dd91bfc84",
   "metadata": {},
   "source": [
    "# Reshape (?)\n",
    "for label_idx in indices_dict[1]:\n",
    "    y_embedded[label_idx] = y_embedded[label_idx][None, :, :]"
   ]
  },
  {
   "cell_type": "markdown",
   "id": "6495f79d-0b02-4e6b-a687-e13ee6577dcd",
   "metadata": {},
   "source": [
    "# 0 - connected components, 1 - loops, 2 - voids\n",
    "homology_dimensions = [0, 1, 2]\n",
    "\n",
    "persistence = VietorisRipsPersistence(\n",
    "    homology_dimensions=homology_dimensions, n_jobs=10\n",
    ")\n",
    "\n",
    "print(\"Persistence diagram for periodic signal\")\n",
    "\n",
    "diagrams = {}\n",
    "\n",
    "for label_idx in indices_dict[1]:\n",
    "    diagrams[label_idx] = persistence.fit_transform_plot(y_embedded[label_idx])"
   ]
  },
  {
   "cell_type": "markdown",
   "id": "ec79840c-3793-4a66-9d7f-d69e0cc90b0a",
   "metadata": {},
   "source": [
    "### Tuning the embedding dimension and time delay"
   ]
  },
  {
   "cell_type": "markdown",
   "id": "253351f2-ad56-4641-9228-1ea72b78eb35",
   "metadata": {},
   "source": [
    "There are two techniques that can be used to determine these parameters automatically:\n",
    "- Mutual information to determine the time delay\n",
    "- False nearest neighbours to determine the embedding dimension"
   ]
  },
  {
   "cell_type": "markdown",
   "id": "c1e1c6c1-6022-4c2c-ac0b-6ef12646f986",
   "metadata": {},
   "source": [
    "# Initialise the embedding\n",
    "\n",
    "max_embedding_dimension = 30\n",
    "max_time_delay = 30\n",
    "stride = 5\n",
    "\n",
    "embedder = SingleTakensEmbedding(\n",
    "    parameters_type=\"search\",\n",
    "    time_delay=max_time_delay,\n",
    "    dimension=max_embedding_dimension,\n",
    "    stride=stride,\n",
    ")"
   ]
  },
  {
   "cell_type": "markdown",
   "id": "96a50bb1-fc87-4abd-b2f1-35a8f01101d4",
   "metadata": {},
   "source": [
    "def fit_embedder(embedder: SingleTakensEmbedding, y: np.ndarray, verbose: bool=True) -> np.ndarray:\n",
    "    \"\"\"Fits a Takens embedder and displays optimal search parameters.\"\"\"\n",
    "    y_embedded = embedder.fit_transform(y)\n",
    "\n",
    "    if verbose:\n",
    "        print(f\"Shape of embedded time series: {y_embedded.shape}\")\n",
    "        print(\n",
    "            f\"Optimal embedding dimension is {embedder.dimension_} and time delay is {embedder.time_delay_}\"\n",
    "        )\n",
    "\n",
    "    return y_embedded"
   ]
  },
  {
   "cell_type": "markdown",
   "id": "f831c37a-962f-44f6-a543-a92494c576fb",
   "metadata": {},
   "source": [
    "# Look at some random segments\n",
    "y_embedded = fit_embedder(embedder, eeg_segments[0])\n",
    "y_embedded = fit_embedder(embedder, eeg_segments[100])\n",
    "y_embedded = fit_embedder(embedder, eeg_segments[177])\n",
    "y_embedded = fit_embedder(embedder, eeg_segments[1000])\n",
    "\n",
    "\n",
    "# The optimal values are all similar (Use embedding dimension 5 and time delay 25)"
   ]
  },
  {
   "cell_type": "markdown",
   "id": "df561a2f-9a7e-437c-982f-468da4af12f7",
   "metadata": {},
   "source": [
    "# Apply dimensionality PCA to project down to 3-dimensions for visualisation:\n",
    "from sklearn.decomposition import PCA\n",
    "pca = PCA(n_components=3)\n",
    "y_embedded_pca = pca.fit_transform(y_embedded)\n",
    "plot_point_cloud(y_embedded_pca)"
   ]
  },
  {
   "cell_type": "markdown",
   "id": "2bd32ce7-5e67-46a6-afb6-edc7a7d4190a",
   "metadata": {},
   "source": [
    "### Extracting features"
   ]
  },
  {
   "cell_type": "markdown",
   "id": "0246a7fd-ae7b-4972-9d9f-2d84b42b5596",
   "metadata": {},
   "source": [
    "PE = PersistenceEntropy()\n",
    "\n",
    "persistence_entropy1 = {}\n",
    "\n",
    "for label_idx in indices_dict[1]:\n",
    "    persistence_entropy1[label_idx] = PE.fit_transform(diagrams[label_idx])"
   ]
  },
  {
   "cell_type": "markdown",
   "id": "b073b4e3-d8ff-44a4-94ed-46f401d2b6c0",
   "metadata": {},
   "source": [
    "AM = Amplitude()\n",
    "\n",
    "amplitude1 = {}\n",
    "\n",
    "for label_idx in indices_dict[1]:\n",
    "    amplitude1[label_idx] = AM.fit_transform(diagrams[label_idx])"
   ]
  },
  {
   "cell_type": "markdown",
   "id": "d8d81cfe-d7c0-4062-a390-38ebd5aceba6",
   "metadata": {},
   "source": [
    "NP = NumberOfPoints()\n",
    "\n",
    "no_points1 = {}\n",
    "\n",
    "for label_idx in indices_dict[1]:\n",
    "    no_points1[label_idx] = NP.fit_transform(diagrams[label_idx])"
   ]
  },
  {
   "cell_type": "markdown",
   "id": "c1557b01-f212-42cf-833f-e1ba0b8d7efe",
   "metadata": {},
   "source": [
    "CP = ComplexPolynomial()\n",
    "\n",
    "complex_polynomial1 = {}\n",
    "\n",
    "for label_idx in indices_dict[1]:\n",
    "    complex_polynomial1[label_idx] = CP.fit_transform(diagrams[label_idx])"
   ]
  },
  {
   "cell_type": "markdown",
   "id": "b3c0ce98-798f-4b46-8e60-8548ed87b4fc",
   "metadata": {},
   "source": []
  },
  {
   "cell_type": "markdown",
   "id": "c4bb832e-b3e2-4ed0-83c0-a19021e0c8b0",
   "metadata": {},
   "source": []
  },
  {
   "cell_type": "markdown",
   "id": "87cc527c-74d4-4b89-be89-f5b108508fc0",
   "metadata": {},
   "source": [
    "HK = HeatKernel()\n",
    "\n",
    "heatkernel1 = {}\n",
    "\n",
    "for label_idx in indices_dict[1]:\n",
    "    heatkernel1[label_idx] = PL.fit_transform(diagrams[label_idx])"
   ]
  },
  {
   "cell_type": "markdown",
   "id": "4f78f28f-ba7a-4849-972e-0d587ba95e37",
   "metadata": {},
   "source": []
  },
  {
   "cell_type": "markdown",
   "id": "c6fddeec-aa87-4af2-9e6a-96230dcc7b48",
   "metadata": {},
   "source": [
    "## Examining segments with label 3"
   ]
  },
  {
   "cell_type": "markdown",
   "id": "000b0e34-801b-4f7d-a7f6-5b09cb336c5b",
   "metadata": {},
   "source": [
    "# Loop through the first positions with label '3'\n",
    "\n",
    "y_embedded = {} # TODO one dictionary\n",
    "\n",
    "for label_idx in indices_dict[3]:\n",
    "    y_embedded[label_idx] = embedder_periodic.fit_transform(eeg_segments[label_idx])\n",
    "\n",
    "# Plot the first point cloud\n",
    "plot_point_cloud(y_embedded[indices_dict[3][0]])"
   ]
  },
  {
   "cell_type": "markdown",
   "id": "be44397f-19ef-4803-9b26-79d949fcb2e0",
   "metadata": {},
   "source": [
    "# Reshape (?)\n",
    "for label_idx in indices_dict[3]:\n",
    "    y_embedded[label_idx] = y_embedded[label_idx][None, :, :]\n",
    "\n",
    "# 0 - connected components, 1 - loops, 2 - voids\n",
    "homology_dimensions = [0, 1, 2]\n",
    "\n",
    "persistence = VietorisRipsPersistence(\n",
    "    homology_dimensions=homology_dimensions, n_jobs=10\n",
    ")\n",
    "\n",
    "print(\"Persistence diagram for periodic signal\")\n",
    "\n",
    "diagrams = {}\n",
    "\n",
    "for label_idx in indices_dict[3]:\n",
    "    diagrams[label_idx] = persistence.fit_transform_plot(y_embedded[label_idx])"
   ]
  },
  {
   "cell_type": "markdown",
   "id": "ef1cbde1-5283-451b-9bff-8d016a5d17ec",
   "metadata": {},
   "source": [
    "### Extracting features"
   ]
  },
  {
   "cell_type": "markdown",
   "id": "c4c953fb-65f5-444f-9607-10ebeadc235a",
   "metadata": {},
   "source": [
    "PE = PersistenceEntropy()\n",
    "\n",
    "persistence_entropy3 = {}\n",
    "\n",
    "for label_idx in indices_dict[3]:\n",
    "    persistence_entropy3[label_idx] = PE.fit_transform(diagrams[label_idx])"
   ]
  },
  {
   "cell_type": "markdown",
   "id": "a9b4e701-7caf-47f4-86e8-820306e3f7a9",
   "metadata": {},
   "source": [
    "AM = Amplitude()\n",
    "\n",
    "amplitude3 = {}\n",
    "\n",
    "for label_idx in indices_dict[3]:\n",
    "    amplitude3[label_idx] = AM.fit_transform(diagrams[label_idx])"
   ]
  },
  {
   "cell_type": "markdown",
   "id": "5c9e3d81-964b-4887-a57d-4d7245a6acec",
   "metadata": {},
   "source": [
    "NP = NumberOfPoints()\n",
    "\n",
    "no_points3 = {}\n",
    "\n",
    "for label_idx in indices_dict[3]:\n",
    "    no_points3[label_idx] = NP.fit_transform(diagrams[label_idx])"
   ]
  },
  {
   "cell_type": "markdown",
   "id": "d80c11dd-fb6a-4950-8dd7-a34997c57177",
   "metadata": {},
   "source": [
    "CP = ComplexPolynomial()\n",
    "\n",
    "complex_polynomial3 = {}\n",
    "\n",
    "for label_idx in indices_dict[3]:\n",
    "    complex_polynomial3[label_idx] = CP.fit_transform(diagrams[label_idx])"
   ]
  },
  {
   "cell_type": "markdown",
   "id": "f0ed460d-8f72-4f92-bab1-89ab6814013b",
   "metadata": {},
   "source": [
    "## Examining segments with label 4"
   ]
  },
  {
   "cell_type": "markdown",
   "id": "f7e092c4-b11e-45b1-ab5d-3640c8684644",
   "metadata": {},
   "source": [
    "# Loop through the first positions with label '4'\n",
    "\n",
    "y_embedded = {} # TODO one dictionary\n",
    "\n",
    "for label_idx in indices_dict[4]:\n",
    "    y_embedded[label_idx] = embedder_periodic.fit_transform(eeg_segments[label_idx])\n",
    "\n",
    "# Plot the first point cloud\n",
    "plot_point_cloud(y_embedded[indices_dict[4][0]])"
   ]
  },
  {
   "cell_type": "markdown",
   "id": "9d6c7bad-0057-4aff-8e4e-426a26d03eb1",
   "metadata": {},
   "source": [
    "# Reshape (?)\n",
    "for label_idx in indices_dict[4]:\n",
    "    y_embedded[label_idx] = y_embedded[label_idx][None, :, :]\n",
    "\n",
    "# 0 - connected components, 1 - loops, 2 - voids\n",
    "homology_dimensions = [0, 1, 2]\n",
    "\n",
    "persistence = VietorisRipsPersistence(\n",
    "    homology_dimensions=homology_dimensions, n_jobs=10\n",
    ")\n",
    "\n",
    "print(\"Persistence diagram for periodic signal\")\n",
    "\n",
    "diagrams = {}\n",
    "\n",
    "for label_idx in indices_dict[4]:\n",
    "    diagrams[label_idx] = persistence.fit_transform_plot(y_embedded[label_idx])"
   ]
  },
  {
   "cell_type": "markdown",
   "id": "98fcc49e-5b41-4e1d-bf0c-71cbfb687b27",
   "metadata": {},
   "source": [
    "### Extracting features"
   ]
  },
  {
   "cell_type": "markdown",
   "id": "c901dd67-42e2-4d35-bd34-d0e8f3d62773",
   "metadata": {},
   "source": [
    "PE = PersistenceEntropy()\n",
    "\n",
    "persistence_entropy4 = {}\n",
    "\n",
    "for label_idx in indices_dict[4]:\n",
    "    persistence_entropy4[label_idx] = PE.fit_transform(diagrams[label_idx])\n"
   ]
  },
  {
   "cell_type": "markdown",
   "id": "faf06843-c61c-4afe-af72-0b92f62819e3",
   "metadata": {},
   "source": [
    "AM = Amplitude()\n",
    "\n",
    "amplitude4 = {}\n",
    "\n",
    "for label_idx in indices_dict[4]:\n",
    "    amplitude4[label_idx] = AM.fit_transform(diagrams[label_idx])"
   ]
  },
  {
   "cell_type": "markdown",
   "id": "57b1979b-7269-405d-901a-f70694d3afd7",
   "metadata": {},
   "source": [
    "NP = NumberOfPoints()\n",
    "\n",
    "no_points4 = {}\n",
    "\n",
    "for label_idx in indices_dict[4]:\n",
    "    no_points4[label_idx] = NP.fit_transform(diagrams[label_idx])"
   ]
  },
  {
   "cell_type": "markdown",
   "id": "60e5ae5e-9264-4332-9629-18dd45a282c8",
   "metadata": {},
   "source": [
    "CP = ComplexPolynomial()\n",
    "\n",
    "complex_polynomial4 = {}\n",
    "\n",
    "for label_idx in indices_dict[4]:\n",
    "    complex_polynomial4[label_idx] = CP.fit_transform(diagrams[label_idx])"
   ]
  },
  {
   "cell_type": "markdown",
   "id": "f4b5e02a-132b-457c-acb6-49ffd97abe68",
   "metadata": {},
   "source": [
    "## Plotting the distribution of features for different labels"
   ]
  },
  {
   "cell_type": "markdown",
   "id": "461ae786-ca7a-427b-8913-a7a902a17d6e",
   "metadata": {},
   "source": [
    "# Extract coordinates for each dictionary's keys\n",
    "def extract_coordinates(dictionary):\n",
    "    coordinates = [tuple(arr[0]) for arr in dictionary.values()]\n",
    "    return zip(*coordinates)"
   ]
  },
  {
   "cell_type": "markdown",
   "id": "10763c11-aadc-4959-9de3-7fe97381c8a0",
   "metadata": {},
   "source": [
    "### Persistence Entropy"
   ]
  },
  {
   "cell_type": "markdown",
   "id": "fa2838bf-92f5-4480-a212-97e8b044273b",
   "metadata": {},
   "source": [
    "\n",
    "x1, y1, z1 = extract_coordinates(persistence_entropy1)\n",
    "x3, y3, z3 = extract_coordinates(persistence_entropy3)\n",
    "x4, y4, z4 = extract_coordinates(persistence_entropy4)\n",
    "\n",
    "# Create a 3D plot\n",
    "fig = plt.figure()\n",
    "ax = fig.add_subplot(111, projection='3d')\n",
    "\n",
    "# Plot keys from each dictionary with different colors\n",
    "ax.scatter(x1, y1, z1, c='r', marker='o', label='Label 1')\n",
    "ax.scatter(x3, y3, z3, c='g', marker='s', label='Label 3')\n",
    "ax.scatter(x4, y4, z4, c='b', marker='^', label='Label 4')\n",
    "\n",
    "ax.set_xlabel('dimension 0')\n",
    "ax.set_ylabel('dimension 1')\n",
    "ax.set_zlabel('dimension 2')\n",
    "\n",
    "ax.legend()\n",
    "\n",
    "plt.show()"
   ]
  },
  {
   "cell_type": "markdown",
   "id": "aa553348-145e-40ce-9e1e-a4fcaa74f9a5",
   "metadata": {},
   "source": [
    "### Amplitude (Persistence)"
   ]
  },
  {
   "cell_type": "markdown",
   "id": "0df95010-6a60-4b65-a2da-9bb1e8c1c418",
   "metadata": {},
   "source": [
    "x1, y1, z1 = extract_coordinates(amplitude1)\n",
    "x3, y3, z3 = extract_coordinates(amplitude3)\n",
    "x4, y4, z4 = extract_coordinates(amplitude4)\n",
    "\n",
    "# Create a 3D plot\n",
    "fig = plt.figure()\n",
    "ax = fig.add_subplot(111, projection='3d')\n",
    "\n",
    "# Plot keys from each dictionary with different colors\n",
    "ax.scatter(x1, y1, z1, c='r', marker='o', label='Label 1')\n",
    "ax.scatter(x3, y3, z3, c='g', marker='s', label='Label 3')\n",
    "ax.scatter(x4, y4, z4, c='b', marker='^', label='Label 4')\n",
    "\n",
    "ax.set_xlabel('dimension 0')\n",
    "ax.set_ylabel('dimension 1')\n",
    "ax.set_zlabel('dimension 2')\n",
    "\n",
    "ax.legend()\n",
    "\n",
    "plt.show()"
   ]
  },
  {
   "cell_type": "markdown",
   "id": "92a8974e-9831-4dc5-bad9-4200d6071445",
   "metadata": {},
   "source": [
    "### Number of Points (\"Betti numbers\")"
   ]
  },
  {
   "cell_type": "markdown",
   "id": "64ec8a43-8e8c-4131-aa1d-a41732268650",
   "metadata": {},
   "source": [
    "x1, y1, z1 = extract_coordinates(no_points1)\n",
    "x3, y3, z3 = extract_coordinates(no_points3)\n",
    "x4, y4, z4 = extract_coordinates(no_points4)\n",
    "\n",
    "# Create a 3D plot\n",
    "fig = plt.figure()\n",
    "ax = fig.add_subplot(111, projection='3d')\n",
    "\n",
    "# Plot keys from each dictionary with different colors\n",
    "ax.scatter(x1, y1, z1, c='r', marker='o', label='Label 1')\n",
    "ax.scatter(x3, y3, z3, c='g', marker='s', label='Label 3')\n",
    "ax.scatter(x4, y4, z4, c='b', marker='^', label='Label 4')\n",
    "\n",
    "ax.set_xlabel('dimension 0')\n",
    "ax.set_ylabel('dimension 1')\n",
    "ax.set_zlabel('dimension 2')\n",
    "\n",
    "ax.legend()\n",
    "\n",
    "plt.show()"
   ]
  },
  {
   "cell_type": "markdown",
   "id": "7313b475-b4eb-4179-b040-73f9fbcecf33",
   "metadata": {},
   "source": [
    "### Complex Polynomials"
   ]
  },
  {
   "cell_type": "markdown",
   "id": "44ccbaf3-9195-4c43-aed2-1974ef866640",
   "metadata": {},
   "source": [
    "x1, y1, z1 = extract_coordinates(complex_polynomials1)\n",
    "x3, y3, z3 = extract_coordinates(complex_polynomials3)\n",
    "x4, y4, z4 = extract_coordinates(complex_polynomials4)\n",
    "\n",
    "# Create a 3D plot\n",
    "fig = plt.figure()\n",
    "ax = fig.add_subplot(111, projection='3d')\n",
    "\n",
    "# Plot keys from each dictionary with different colors\n",
    "ax.scatter(x1, y1, z1, c='r', marker='o', label='Label 1')\n",
    "ax.scatter(x3, y3, z3, c='g', marker='s', label='Label 3')\n",
    "ax.scatter(x4, y4, z4, c='b', marker='^', label='Label 4')\n",
    "\n",
    "ax.set_xlabel('dimension 0')\n",
    "ax.set_ylabel('dimension 1')\n",
    "ax.set_zlabel('dimension 2')\n",
    "\n",
    "ax.legend()\n",
    "\n",
    "plt.show()"
   ]
  },
  {
   "cell_type": "markdown",
   "id": "2519cd7f-f96b-4009-bec8-9ed7cd7663c6",
   "metadata": {},
   "source": [
    "Furhter pre- and postprocessing:\n",
    "- Remove outliers before? (Artifacts Removal)\n",
    "- Remove noise from persistance diagrams (holes with very low persistence)\n",
    "- Other preprocessing (PCA? Wavelet Decomposition? \"Downsampling\")?\n",
    "- Later use filtering on persistence diagrams (gtda.diagrams.Filtering() )"
   ]
  },
  {
   "cell_type": "markdown",
   "id": "95fb1062-d6b2-4450-81a5-95bc6fb5f6a7",
   "metadata": {},
   "source": [
    "Further representations of the diagrams:\n",
    "- PersistenceLandscape\n",
    "- BettiCurve\n",
    "- HeatKernel\n",
    "- PersistenceImage\n",
    "- Silhouette"
   ]
  },
  {
   "cell_type": "markdown",
   "id": "eda797d7-4017-4568-a68f-0ffc6a3b7df4",
   "metadata": {},
   "source": [
    "## Plotting representations of the Persistence Diagrams of all data for each label"
   ]
  },
  {
   "cell_type": "markdown",
   "id": "0f7ff9ec-c8b7-4f72-a789-c1183e7f8de2",
   "metadata": {},
   "source": [
    "### Persistence Landscape"
   ]
  },
  {
   "cell_type": "markdown",
   "id": "2617ab34-daf1-4ca2-8756-531beb45d9b1",
   "metadata": {},
   "source": [
    "PL = PersistenceLandscape()\n",
    "\n",
    "persistence_landscape = PL.fit_transform([diagrams[0], diagrams[1], diagrams[2]])"
   ]
  },
  {
   "cell_type": "markdown",
   "id": "fef1c9d9-c640-4ea1-8ca5-0a56b8eeee2e",
   "metadata": {},
   "source": [
    "### Heat Kernel "
   ]
  },
  {
   "cell_type": "markdown",
   "id": "7edb933f-c677-4c3a-a2a9-5b0659a49013",
   "metadata": {},
   "source": [
    "diagrams[0]"
   ]
  },
  {
   "cell_type": "markdown",
   "id": "09aa4145-665e-4027-9096-17b9c7a7c56b",
   "metadata": {},
   "source": [
    "for idx in diagrams.keys():\n",
    "    print(diagrams[idx])"
   ]
  },
  {
   "cell_type": "markdown",
   "id": "87012838-9aa8-4367-8a15-cc02ccd5ef2c",
   "metadata": {},
   "source": [
    "HK = HeatKernel()\n",
    "\n",
    "heatkernel1 = HK.fit_transform(np.asarray([diagrams[0], diagrams[1], diagrams[2]]))"
   ]
  },
  {
   "cell_type": "markdown",
   "id": "8e9ee9b0-a62c-4484-b541-3edf17bc910e",
   "metadata": {},
   "source": []
  },
  {
   "cell_type": "markdown",
   "id": "1b9df2a3-6d5a-44da-a1c7-3a112d971843",
   "metadata": {},
   "source": [
    "data = {\n",
    "    \"x\": [1, 2, 3, 4, 5, 6],\n",
    "    \"y\": [10, 20, 30, 40, 50, 60],\n",
    "    \"z\": [100, 200, 300, 400, 500, 600],\n",
    "    \"target\": [\"A\", \"B\", \"A\", \"C\", \"B\", \"C\"]\n",
    "}\n",
    "df = pd.DataFrame(data)\n",
    "\n",
    "# Calculate point_clouds\n",
    "point_clouds = np.asarray(\n",
    "    [\n",
    "        df.query(\"target == @shape\")[[\"x\", \"y\", \"z\"]].values\n",
    "        for shape in df[\"target\"].unique()\n",
    "    ]\n",
    ")"
   ]
  },
  {
   "cell_type": "markdown",
   "id": "6bea05c4-fb0a-47f2-b018-bdd39d9c664a",
   "metadata": {},
   "source": [
    "persistence = VietorisRipsPersistence(\n",
    "    metric=\"euclidean\",\n",
    "    homology_dimensions=homology_dimensions,\n",
    "    n_jobs=6,\n",
    "    collapse_edges=True,\n",
    ")\n",
    "persistence_diagrams = persistence.fit_transform(point_clouds)\n"
   ]
  },
  {
   "cell_type": "markdown",
   "id": "f1079fc2-e296-4f4c-b5f9-f3622943b6ef",
   "metadata": {},
   "source": [
    "from sklearn.pipeline import make_union\n",
    "\n",
    "# Select a variety of metrics to calculate amplitudes\n",
    "metrics = [\n",
    "    {\"metric\": metric}\n",
    "    for metric in [\"bottleneck\", \"wasserstein\", \"landscape\", \"persistence_image\"]\n",
    "]\n",
    "\n",
    "# Concatenate to generate 3 + 3 + (4 x 3) = 18 topological features\n",
    "feature_union = make_union(\n",
    "    PersistenceEntropy(normalize=True),\n",
    "    NumberOfPoints(n_jobs=-1),\n",
    "    *[Amplitude(**metric, n_jobs=-1) for metric in metrics]\n",
    ")\n"
   ]
  },
  {
   "cell_type": "markdown",
   "id": "eac7e732-5f8a-442d-9303-05200f39146a",
   "metadata": {},
   "source": [
    "pipe = Pipeline(\n",
    "    [\n",
    "        (\"features\", feature_union),\n",
    "        (\"rf\", RandomForestClassifier(oob_score=True, random_state=42)),\n",
    "    ]\n",
    ")\n",
    "pipe.fit(diag, labels)\n",
    "pipe[\"rf\"].oob_score_\n"
   ]
  },
  {
   "cell_type": "markdown",
   "id": "3a5a7f6a-9af3-482e-82bf-eabf87fe1451",
   "metadata": {},
   "source": [
    "## Experimental"
   ]
  },
  {
   "cell_type": "markdown",
   "id": "48763d24-60fd-4365-8008-999100a4ac36",
   "metadata": {},
   "source": [
    "# If I add the labels to the DataFrame data as a column target, this is a fancy way of\n",
    "# Retrieving different datasets for each label\n",
    "\n",
    "data = {\n",
    "    \"x\": [1, 2, 3, 4, 5, 6],\n",
    "    \"y\": [10, 20, 30, 40, 50, 60],\n",
    "    \"z\": [100, 200, 300, 400, 500, 600],\n",
    "    \"target\": [\"A\", \"B\", \"A\", \"C\", \"B\", \"C\"]\n",
    "}\n",
    "df = pd.DataFrame(data)\n",
    "\n",
    "# Calculate point_clouds\n",
    "point_clouds = np.asarray(\n",
    "    [\n",
    "        df.query(\"target == @shape\")[[\"x\", \"y\", \"z\"]].values\n",
    "        for shape in df[\"target\"].unique()\n",
    "    ]\n",
    ")"
   ]
  },
  {
   "cell_type": "markdown",
   "id": "1c8185b4-b825-4a06-93a0-9aadabb1d238",
   "metadata": {},
   "source": [
    "y_embedded[label_idx][0]"
   ]
  },
  {
   "cell_type": "markdown",
   "id": "760113eb-5743-4c20-bf92-21eacc147742",
   "metadata": {},
   "source": []
  }
 ],
 "metadata": {
  "kernelspec": {
   "display_name": "Python 3 (ipykernel)",
   "language": "python",
   "name": "python3"
  },
  "language_info": {
   "codemirror_mode": {
    "name": "ipython",
    "version": 3
   },
   "file_extension": ".py",
   "mimetype": "text/x-python",
   "name": "python",
   "nbconvert_exporter": "python",
   "pygments_lexer": "ipython3",
   "version": "3.10.12"
  }
 },
 "nbformat": 4,
 "nbformat_minor": 5
}
