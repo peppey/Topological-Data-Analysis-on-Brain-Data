{
 "cells": [
  {
   "cell_type": "code",
   "execution_count": 88,
   "id": "0a81b9c9-a2e9-46c2-8ae8-4a5f02dd0571",
   "metadata": {},
   "outputs": [
    {
     "data": {
      "image/png": "[encoded data removed]",
      "text/plain": [
       "<Figure size 640x480 with 1 Axes>"
      ]
     },
     "metadata": {},
     "output_type": "display_data"
    }
   ],
   "source": [
    "import matplotlib.pyplot as plt\n",
    "from math import pi, cos, sin\n",
    "from random import random\n",
    "import numpy as np\n",
    "from gtda.homology import VietorisRipsPersistence\n",
    "from gtda.diagrams import PersistenceEntropy, Amplitude, NumberOfPoints, ComplexPolynomial, PersistenceLandscape, HeatKernel, Silhouette, BettiCurve, PairwiseDistance, ForgetDimension\n",
    "from gtda.plotting import plot_point_cloud, plot_heatmap, plot_diagram\n",
    "\n",
    "\n",
    "def sample_point(radius, std = 0.05):\n",
    "    theta = random() * 2 * pi\n",
    "    noise = [np.random.normal(0, std),np.random.normal(0, std)]\n",
    "    return cos(theta) * radius + noise[0], sin(theta) * radius + noise[1]\n",
    "\n",
    "# Toy example\n",
    "point_cloud = [sample_point(radius=1, std = 0.05) for _ in range(100)]\n",
    "\n",
    "plt.scatter(*zip(*point_cloud), c=\"grey\")\n",
    "plt.gca().set_aspect('equal') # Set axes to equal scaling\n",
    "plt.axis('off')\n",
    "plt.show()"
   ]
  },
  {
   "cell_type": "markdown",
   "id": "03b27aa0-db64-4d55-b188-53f3b5445523",
   "metadata": {},
   "source": [
    "### Computing Persistence Diagram"
   ]
  },
  {
   "cell_type": "code",
   "execution_count": 89,
   "id": "2401965c-b159-4b12-9c08-02e89fd39713",
   "metadata": {},
   "outputs": [],
   "source": [
    "homology_dimensions = [0, 1, 2]\n",
    "\n",
    "# We will use a Vietoris Rips filtrations\n",
    "persistence = VietorisRipsPersistence(\n",
    "    homology_dimensions=homology_dimensions, n_jobs=10\n",
    ")\n",
    "\n",
    "point_cloud_array = np.array([list(t) for t in point_cloud])\n",
    "\n",
    "persistence_diagram = persistence.fit_transform(point_cloud_array[None, :, :])"
   ]
  },
  {
   "cell_type": "code",
   "execution_count": 90,
   "id": "0bdee75f-3374-4253-af8e-d7fb9adb7691",
   "metadata": {},
   "outputs": [
    {
     "data": {
      "application/vnd.plotly.v1+json": {
       "config": {
        "plotlyServerURL": "https://plot.ly"
       },
       "data": [
        {
         "hoverinfo": "none",
         "line": {
          "color": "black",
          "dash": "dash",
          "width": 1
         },
         "mode": "lines",
         "showlegend": false,
         "type": "scatter",
         "x": [
          -0.034398064613342286,
          1.7543012952804566
         ],
         "y": [
          -0.034398064613342286,
          1.7543012952804566
         ]
        },
        {
         "hoverinfo": "text",
         "hovertext": [
          "(0.0, 0.004657167941331863)",
          "(0.0, 0.005316547583788633)",
          "(0.0, 0.017833292484283447)",
          "(0.0, 0.021918371319770813)",
          "(0.0, 0.024138368666172028)",
          "(0.0, 0.02648146264255047)",
          "(0.0, 0.029400862753391266)",
          "(0.0, 0.031040718778967857)",
          "(0.0, 0.03195047378540039)",
          "(0.0, 0.03463878482580185)",
          "(0.0, 0.03870844468474388)",
          "(0.0, 0.03902367502450943)",
          "(0.0, 0.03916395455598831)",
          "(0.0, 0.0394866019487381)",
          "(0.0, 0.0439845435321331)",
          "(0.0, 0.0440693162381649)",
          "(0.0, 0.047533921897411346)",
          "(0.0, 0.04940038546919823)",
          "(0.0, 0.05077527090907097)",
          "(0.0, 0.05174658074975014)",
          "(0.0, 0.05203786492347717)",
          "(0.0, 0.05386592075228691)",
          "(0.0, 0.054267287254333496)",
          "(0.0, 0.05522874370217323)",
          "(0.0, 0.05643368884921074)",
          "(0.0, 0.056913550943136215)",
          "(0.0, 0.05693298205733299)",
          "(0.0, 0.057186152786016464)",
          "(0.0, 0.05741002410650253)",
          "(0.0, 0.05765461176633835)",
          "(0.0, 0.05782971903681755)",
          "(0.0, 0.05853434279561043)",
          "(0.0, 0.05947917699813843)",
          "(0.0, 0.05963527038693428)",
          "(0.0, 0.060074057430028915)",
          "(0.0, 0.06219898909330368)",
          "(0.0, 0.06258966773748398)",
          "(0.0, 0.06335115432739258)",
          "(0.0, 0.06372468173503876)",
          "(0.0, 0.0642656460404396)",
          "(0.0, 0.06642097979784012)",
          "(0.0, 0.0670657679438591)",
          "(0.0, 0.06779304146766663)",
          "(0.0, 0.0678245797753334)",
          "(0.0, 0.06814909726381302)",
          "(0.0, 0.06838170439004898)",
          "(0.0, 0.06845748424530029)",
          "(0.0, 0.0686558410525322)",
          "(0.0, 0.0688638687133789)",
          "(0.0, 0.07141241431236267)",
          "(0.0, 0.07182677090167999)",
          "(0.0, 0.07190322130918503)",
          "(0.0, 0.07194880396127701)",
          "(0.0, 0.07201014459133148)",
          "(0.0, 0.07267920672893524)",
          "(0.0, 0.07466410100460052)",
          "(0.0, 0.07843873649835587)",
          "(0.0, 0.07996644079685211)",
          "(0.0, 0.0871029943227768)",
          "(0.0, 0.09130130708217621)",
          "(0.0, 0.09518668800592422)",
          "(0.0, 0.09846583008766174)",
          "(0.0, 0.09934321790933609)",
          "(0.0, 0.10110994428396225)",
          "(0.0, 0.10145316272974014)",
          "(0.0, 0.10361456871032715)",
          "(0.0, 0.10403481870889664)",
          "(0.0, 0.10639189183712006)",
          "(0.0, 0.10643924027681351)",
          "(0.0, 0.10813774168491364)",
          "(0.0, 0.10893727093935013)",
          "(0.0, 0.11460806429386139)",
          "(0.0, 0.11466473340988159)",
          "(0.0, 0.11502820998430252)",
          "(0.0, 0.11541471630334854)",
          "(0.0, 0.11665816605091095)",
          "(0.0, 0.1277523785829544)",
          "(0.0, 0.13115037977695465)",
          "(0.0, 0.13428710401058197)",
          "(0.0, 0.13593164086341858)",
          "(0.0, 0.13665445148944855)",
          "(0.0, 0.13871324062347412)",
          "(0.0, 0.14173391461372375)",
          "(0.0, 0.14197605848312378)",
          "(0.0, 0.1445968598127365)",
          "(0.0, 0.14757491648197174)",
          "(0.0, 0.152788907289505)",
          "(0.0, 0.15562476217746735)",
          "(0.0, 0.15627361834049225)",
          "(0.0, 0.1616726964712143)",
          "(0.0, 0.1651885062456131)",
          "(0.0, 0.17458827793598175)",
          "(0.0, 0.1757075935602188)",
          "(0.0, 0.18154214322566986)",
          "(0.0, 0.18577885627746582)",
          "(0.0, 0.189767986536026)",
          "(0.0, 0.1952625811100006)",
          "(0.0, 0.20609121024608612)",
          "(0.0, 0.2637779414653778)"
         ],
         "mode": "markers",
         "name": "H0",
         "type": "scatter",
         "x": [
          0,
          0,
          0,
          0,
          0,
          0,
          0,
          0,
          0,
          0,
          0,
          0,
          0,
          0,
          0,
          0,
          0,
          0,
          0,
          0,
          0,
          0,
          0,
          0,
          0,
          0,
          0,
          0,
          0,
          0,
          0,
          0,
          0,
          0,
          0,
          0,
          0,
          0,
          0,
          0,
          0,
          0,
          0,
          0,
          0,
          0,
          0,
          0,
          0,
          0,
          0,
          0,
          0,
          0,
          0,
          0,
          0,
          0,
          0,
          0,
          0,
          0,
          0,
          0,
          0,
          0,
          0,
          0,
          0,
          0,
          0,
          0,
          0,
          0,
          0,
          0,
          0,
          0,
          0,
          0,
          0,
          0,
          0,
          0,
          0,
          0,
          0,
          0,
          0,
          0,
          0,
          0,
          0,
          0,
          0,
          0,
          0,
          0,
          0
         ],
         "y": [
          0.004657167941331863,
          0.005316547583788633,
          0.017833292484283447,
          0.021918371319770813,
          0.024138368666172028,
          0.02648146264255047,
          0.029400862753391266,
          0.031040718778967857,
          0.03195047378540039,
          0.03463878482580185,
          0.03870844468474388,
          0.03902367502450943,
          0.03916395455598831,
          0.0394866019487381,
          0.0439845435321331,
          0.0440693162381649,
          0.047533921897411346,
          0.04940038546919823,
          0.05077527090907097,
          0.05174658074975014,
          0.05203786492347717,
          0.05386592075228691,
          0.054267287254333496,
          0.05522874370217323,
          0.05643368884921074,
          0.056913550943136215,
          0.05693298205733299,
          0.057186152786016464,
          0.05741002410650253,
          0.05765461176633835,
          0.05782971903681755,
          0.05853434279561043,
          0.05947917699813843,
          0.05963527038693428,
          0.060074057430028915,
          0.06219898909330368,
          0.06258966773748398,
          0.06335115432739258,
          0.06372468173503876,
          0.0642656460404396,
          0.06642097979784012,
          0.0670657679438591,
          0.06779304146766663,
          0.0678245797753334,
          0.06814909726381302,
          0.06838170439004898,
          0.06845748424530029,
          0.0686558410525322,
          0.0688638687133789,
          0.07141241431236267,
          0.07182677090167999,
          0.07190322130918503,
          0.07194880396127701,
          0.07201014459133148,
          0.07267920672893524,
          0.07466410100460052,
          0.07843873649835587,
          0.07996644079685211,
          0.0871029943227768,
          0.09130130708217621,
          0.09518668800592422,
          0.09846583008766174,
          0.09934321790933609,
          0.10110994428396225,
          0.10145316272974014,
          0.10361456871032715,
          0.10403481870889664,
          0.10639189183712006,
          0.10643924027681351,
          0.10813774168491364,
          0.10893727093935013,
          0.11460806429386139,
          0.11466473340988159,
          0.11502820998430252,
          0.11541471630334854,
          0.11665816605091095,
          0.1277523785829544,
          0.13115037977695465,
          0.13428710401058197,
          0.13593164086341858,
          0.13665445148944855,
          0.13871324062347412,
          0.14173391461372375,
          0.14197605848312378,
          0.1445968598127365,
          0.14757491648197174,
          0.152788907289505,
          0.15562476217746735,
          0.15627361834049225,
          0.1616726964712143,
          0.1651885062456131,
          0.17458827793598175,
          0.1757075935602188,
          0.18154214322566986,
          0.18577885627746582,
          0.189767986536026,
          0.1952625811100006,
          0.20609121024608612,
          0.2637779414653778
         ]
        },
        {
         "hoverinfo": "text",
         "hovertext": [
          "(0.3158004879951477, 1.6362718343734741)",
          "(0.2036249041557312, 0.21733582019805908)",
          "(0.13964124023914337, 0.16440309584140778)",
          "(0.11471270769834518, 0.11740528792142868)",
          "(0.08367914706468582, 0.08748791366815567)",
          "(0.07623206079006195, 0.07641832530498505)"
         ],
         "mode": "markers",
         "name": "H1",
         "type": "scatter",
         "x": [
          0.3158004879951477,
          0.2036249041557312,
          0.13964124023914337,
          0.11471270769834518,
          0.08367914706468582,
          0.07623206079006195
         ],
         "y": [
          1.6362718343734741,
          0.21733582019805908,
          0.16440309584140778,
          0.11740528792142868,
          0.08748791366815567,
          0.07641832530498505
         ]
        },
        {
         "hoverinfo": "text",
         "hovertext": [
          "(1.697751522064209, 1.7199032306671143)",
          "(1.6639783382415771, 1.6827170848846436)",
          "(1.661217212677002, 1.7001185417175293)"
         ],
         "mode": "markers",
         "name": "H2",
         "type": "scatter",
         "x": [
          1.697751522064209,
          1.6639783382415771,
          1.661217212677002
         ],
         "y": [
          1.7199032306671143,
          1.6827170848846436,
          1.7001185417175293
         ]
        }
       ],
       "layout": {
        "height": 500,
        "plot_bgcolor": "white",
        "template": {
         "data": {
          "bar": [
           {
            "error_x": {
             "color": "#2a3f5f"
            },
            "error_y": {
             "color": "#2a3f5f"
            },
            "marker": {
             "line": {
              "color": "#E5ECF6",
              "width": 0.5
             },
             "pattern": {
              "fillmode": "overlay",
              "size": 10,
              "solidity": 0.2
             }
            },
            "type": "bar"
           }
          ],
          "barpolar": [
           {
            "marker": {
             "line": {
              "color": "#E5ECF6",
              "width": 0.5
             },
             "pattern": {
              "fillmode": "overlay",
              "size": 10,
              "solidity": 0.2
             }
            },
            "type": "barpolar"
           }
          ],
          "carpet": [
           {
            "aaxis": {
             "endlinecolor": "#2a3f5f",
             "gridcolor": "white",
             "linecolor": "white",
             "minorgridcolor": "white",
             "startlinecolor": "#2a3f5f"
            },
            "baxis": {
             "endlinecolor": "#2a3f5f",
             "gridcolor": "white",
             "linecolor": "white",
             "minorgridcolor": "white",
             "startlinecolor": "#2a3f5f"
            },
            "type": "carpet"
           }
          ],
          "choropleth": [
           {
            "colorbar": {
             "outlinewidth": 0,
             "ticks": ""
            },
            "type": "choropleth"
           }
          ],
          "contour": [
           {
            "colorbar": {
             "outlinewidth": 0,
             "ticks": ""
            },
            "colorscale": [
             [
              0,
              "#0d0887"
             ],
             [
              0.1111111111111111,
              "#46039f"
             ],
             [
              0.2222222222222222,
              "#7201a8"
             ],
             [
              0.3333333333333333,
              "#9c179e"
             ],
             [
              0.4444444444444444,
              "#bd3786"
             ],
             [
              0.5555555555555556,
              "#d8576b"
             ],
             [
              0.6666666666666666,
              "#ed7953"
             ],
             [
              0.7777777777777778,
              "#fb9f3a"
             ],
             [
              0.8888888888888888,
              "#fdca26"
             ],
             [
              1,
              "#f0f921"
             ]
            ],
            "type": "contour"
           }
          ],
          "contourcarpet": [
           {
            "colorbar": {
             "outlinewidth": 0,
             "ticks": ""
            },
            "type": "contourcarpet"
           }
          ],
          "heatmap": [
           {
            "colorbar": {
             "outlinewidth": 0,
             "ticks": ""
            },
            "colorscale": [
             [
              0,
              "#0d0887"
             ],
             [
              0.1111111111111111,
              "#46039f"
             ],
             [
              0.2222222222222222,
              "#7201a8"
             ],
             [
              0.3333333333333333,
              "#9c179e"
             ],
             [
              0.4444444444444444,
              "#bd3786"
             ],
             [
              0.5555555555555556,
              "#d8576b"
             ],
             [
              0.6666666666666666,
              "#ed7953"
             ],
             [
              0.7777777777777778,
              "#fb9f3a"
             ],
             [
              0.8888888888888888,
              "#fdca26"
             ],
             [
              1,
              "#f0f921"
             ]
            ],
            "type": "heatmap"
           }
          ],
          "heatmapgl": [
           {
            "colorbar": {
             "outlinewidth": 0,
             "ticks": ""
            },
            "colorscale": [
             [
              0,
              "#0d0887"
             ],
             [
              0.1111111111111111,
              "#46039f"
             ],
             [
              0.2222222222222222,
              "#7201a8"
             ],
             [
              0.3333333333333333,
              "#9c179e"
             ],
             [
              0.4444444444444444,
              "#bd3786"
             ],
             [
              0.5555555555555556,
              "#d8576b"
             ],
             [
              0.6666666666666666,
              "#ed7953"
             ],
             [
              0.7777777777777778,
              "#fb9f3a"
             ],
             [
              0.8888888888888888,
              "#fdca26"
             ],
             [
              1,
              "#f0f921"
             ]
            ],
            "type": "heatmapgl"
           }
          ],
          "histogram": [
           {
            "marker": {
             "pattern": {
              "fillmode": "overlay",
              "size": 10,
              "solidity": 0.2
             }
            },
            "type": "histogram"
           }
          ],
          "histogram2d": [
           {
            "colorbar": {
             "outlinewidth": 0,
             "ticks": ""
            },
            "colorscale": [
             [
              0,
              "#0d0887"
             ],
             [
              0.1111111111111111,
              "#46039f"
             ],
             [
              0.2222222222222222,
              "#7201a8"
             ],
             [
              0.3333333333333333,
              "#9c179e"
             ],
             [
              0.4444444444444444,
              "#bd3786"
             ],
             [
              0.5555555555555556,
              "#d8576b"
             ],
             [
              0.6666666666666666,
              "#ed7953"
             ],
             [
              0.7777777777777778,
              "#fb9f3a"
             ],
             [
              0.8888888888888888,
              "#fdca26"
             ],
             [
              1,
              "#f0f921"
             ]
            ],
            "type": "histogram2d"
           }
          ],
          "histogram2dcontour": [
           {
            "colorbar": {
             "outlinewidth": 0,
             "ticks": ""
            },
            "colorscale": [
             [
              0,
              "#0d0887"
             ],
             [
              0.1111111111111111,
              "#46039f"
             ],
             [
              0.2222222222222222,
              "#7201a8"
             ],
             [
              0.3333333333333333,
              "#9c179e"
             ],
             [
              0.4444444444444444,
              "#bd3786"
             ],
             [
              0.5555555555555556,
              "#d8576b"
             ],
             [
              0.6666666666666666,
              "#ed7953"
             ],
             [
              0.7777777777777778,
              "#fb9f3a"
             ],
             [
              0.8888888888888888,
              "#fdca26"
             ],
             [
              1,
              "#f0f921"
             ]
            ],
            "type": "histogram2dcontour"
           }
          ],
          "mesh3d": [
           {
            "colorbar": {
             "outlinewidth": 0,
             "ticks": ""
            },
            "type": "mesh3d"
           }
          ],
          "parcoords": [
           {
            "line": {
             "colorbar": {
              "outlinewidth": 0,
              "ticks": ""
             }
            },
            "type": "parcoords"
           }
          ],
          "pie": [
           {
            "automargin": true,
            "type": "pie"
           }
          ],
          "scatter": [
           {
            "fillpattern": {
             "fillmode": "overlay",
             "size": 10,
             "solidity": 0.2
            },
            "type": "scatter"
           }
          ],
          "scatter3d": [
           {
            "line": {
             "colorbar": {
              "outlinewidth": 0,
              "ticks": ""
             }
            },
            "marker": {
             "colorbar": {
              "outlinewidth": 0,
              "ticks": ""
             }
            },
            "type": "scatter3d"
           }
          ],
          "scattercarpet": [
           {
            "marker": {
             "colorbar": {
              "outlinewidth": 0,
              "ticks": ""
             }
            },
            "type": "scattercarpet"
           }
          ],
          "scattergeo": [
           {
            "marker": {
             "colorbar": {
              "outlinewidth": 0,
              "ticks": ""
             }
            },
            "type": "scattergeo"
           }
          ],
          "scattergl": [
           {
            "marker": {
             "colorbar": {
              "outlinewidth": 0,
              "ticks": ""
             }
            },
            "type": "scattergl"
           }
          ],
          "scattermapbox": [
           {
            "marker": {
             "colorbar": {
              "outlinewidth": 0,
              "ticks": ""
             }
            },
            "type": "scattermapbox"
           }
          ],
          "scatterpolar": [
           {
            "marker": {
             "colorbar": {
              "outlinewidth": 0,
              "ticks": ""
             }
            },
            "type": "scatterpolar"
           }
          ],
          "scatterpolargl": [
           {
            "marker": {
             "colorbar": {
              "outlinewidth": 0,
              "ticks": ""
             }
            },
            "type": "scatterpolargl"
           }
          ],
          "scatterternary": [
           {
            "marker": {
             "colorbar": {
              "outlinewidth": 0,
              "ticks": ""
             }
            },
            "type": "scatterternary"
           }
          ],
          "surface": [
           {
            "colorbar": {
             "outlinewidth": 0,
             "ticks": ""
            },
            "colorscale": [
             [
              0,
              "#0d0887"
             ],
             [
              0.1111111111111111,
              "#46039f"
             ],
             [
              0.2222222222222222,
              "#7201a8"
             ],
             [
              0.3333333333333333,
              "#9c179e"
             ],
             [
              0.4444444444444444,
              "#bd3786"
             ],
             [
              0.5555555555555556,
              "#d8576b"
             ],
             [
              0.6666666666666666,
              "#ed7953"
             ],
             [
              0.7777777777777778,
              "#fb9f3a"
             ],
             [
              0.8888888888888888,
              "#fdca26"
             ],
             [
              1,
              "#f0f921"
             ]
            ],
            "type": "surface"
           }
          ],
          "table": [
           {
            "cells": {
             "fill": {
              "color": "#EBF0F8"
             },
             "line": {
              "color": "white"
             }
            },
            "header": {
             "fill": {
              "color": "#C8D4E3"
             },
             "line": {
              "color": "white"
             }
            },
            "type": "table"
           }
          ]
         },
         "layout": {
          "annotationdefaults": {
           "arrowcolor": "#2a3f5f",
           "arrowhead": 0,
           "arrowwidth": 1
          },
          "autotypenumbers": "strict",
          "coloraxis": {
           "colorbar": {
            "outlinewidth": 0,
            "ticks": ""
           }
          },
          "colorscale": {
           "diverging": [
            [
             0,
             "#8e0152"
            ],
            [
             0.1,
             "#c51b7d"
            ],
            [
             0.2,
             "#de77ae"
            ],
            [
             0.3,
             "#f1b6da"
            ],
            [
             0.4,
             "#fde0ef"
            ],
            [
             0.5,
             "#f7f7f7"
            ],
            [
             0.6,
             "#e6f5d0"
            ],
            [
             0.7,
             "#b8e186"
            ],
            [
             0.8,
             "#7fbc41"
            ],
            [
             0.9,
             "#4d9221"
            ],
            [
             1,
             "#276419"
            ]
           ],
           "sequential": [
            [
             0,
             "#0d0887"
            ],
            [
             0.1111111111111111,
             "#46039f"
            ],
            [
             0.2222222222222222,
             "#7201a8"
            ],
            [
             0.3333333333333333,
             "#9c179e"
            ],
            [
             0.4444444444444444,
             "#bd3786"
            ],
            [
             0.5555555555555556,
             "#d8576b"
            ],
            [
             0.6666666666666666,
             "#ed7953"
            ],
            [
             0.7777777777777778,
             "#fb9f3a"
            ],
            [
             0.8888888888888888,
             "#fdca26"
            ],
            [
             1,
             "#f0f921"
            ]
           ],
           "sequentialminus": [
            [
             0,
             "#0d0887"
            ],
            [
             0.1111111111111111,
             "#46039f"
            ],
            [
             0.2222222222222222,
             "#7201a8"
            ],
            [
             0.3333333333333333,
             "#9c179e"
            ],
            [
             0.4444444444444444,
             "#bd3786"
            ],
            [
             0.5555555555555556,
             "#d8576b"
            ],
            [
             0.6666666666666666,
             "#ed7953"
            ],
            [
             0.7777777777777778,
             "#fb9f3a"
            ],
            [
             0.8888888888888888,
             "#fdca26"
            ],
            [
             1,
             "#f0f921"
            ]
           ]
          },
          "colorway": [
           "#636efa",
           "#EF553B",
           "#00cc96",
           "#ab63fa",
           "#FFA15A",
           "#19d3f3",
           "#FF6692",
           "#B6E880",
           "#FF97FF",
           "#FECB52"
          ],
          "font": {
           "color": "#2a3f5f"
          },
          "geo": {
           "bgcolor": "white",
           "lakecolor": "white",
           "landcolor": "#E5ECF6",
           "showlakes": true,
           "showland": true,
           "subunitcolor": "white"
          },
          "hoverlabel": {
           "align": "left"
          },
          "hovermode": "closest",
          "mapbox": {
           "style": "light"
          },
          "paper_bgcolor": "white",
          "plot_bgcolor": "#E5ECF6",
          "polar": {
           "angularaxis": {
            "gridcolor": "white",
            "linecolor": "white",
            "ticks": ""
           },
           "bgcolor": "#E5ECF6",
           "radialaxis": {
            "gridcolor": "white",
            "linecolor": "white",
            "ticks": ""
           }
          },
          "scene": {
           "xaxis": {
            "backgroundcolor": "#E5ECF6",
            "gridcolor": "white",
            "gridwidth": 2,
            "linecolor": "white",
            "showbackground": true,
            "ticks": "",
            "zerolinecolor": "white"
           },
           "yaxis": {
            "backgroundcolor": "#E5ECF6",
            "gridcolor": "white",
            "gridwidth": 2,
            "linecolor": "white",
            "showbackground": true,
            "ticks": "",
            "zerolinecolor": "white"
           },
           "zaxis": {
            "backgroundcolor": "#E5ECF6",
            "gridcolor": "white",
            "gridwidth": 2,
            "linecolor": "white",
            "showbackground": true,
            "ticks": "",
            "zerolinecolor": "white"
           }
          },
          "shapedefaults": {
           "line": {
            "color": "#2a3f5f"
           }
          },
          "ternary": {
           "aaxis": {
            "gridcolor": "white",
            "linecolor": "white",
            "ticks": ""
           },
           "baxis": {
            "gridcolor": "white",
            "linecolor": "white",
            "ticks": ""
           },
           "bgcolor": "#E5ECF6",
           "caxis": {
            "gridcolor": "white",
            "linecolor": "white",
            "ticks": ""
           }
          },
          "title": {
           "x": 0.05
          },
          "xaxis": {
           "automargin": true,
           "gridcolor": "white",
           "linecolor": "white",
           "ticks": "",
           "title": {
            "standoff": 15
           },
           "zerolinecolor": "white",
           "zerolinewidth": 2
          },
          "yaxis": {
           "automargin": true,
           "gridcolor": "white",
           "linecolor": "white",
           "ticks": "",
           "title": {
            "standoff": 15
           },
           "zerolinecolor": "white",
           "zerolinewidth": 2
          }
         }
        },
        "width": 500,
        "xaxis": {
         "autorange": false,
         "domain": [
          0,
          1
         ],
         "exponentformat": "e",
         "linecolor": "black",
         "linewidth": 1,
         "mirror": false,
         "range": [
          -0.08750007686018957,
          1.807403307527304
         ],
         "showexponent": "all",
         "showline": true,
         "side": "bottom",
         "ticks": "outside",
         "title": {
          "text": "Birth"
         },
         "type": "linear",
         "zeroline": true
        },
        "yaxis": {
         "autorange": false,
         "domain": [
          0,
          1
         ],
         "exponentformat": "e",
         "linecolor": "black",
         "linewidth": 1,
         "mirror": false,
         "range": [
          -0.034398064613342286,
          1.7543012952804566
         ],
         "scaleanchor": "x",
         "scaleratio": 1,
         "showexponent": "all",
         "showline": true,
         "side": "left",
         "ticks": "outside",
         "title": {
          "text": "Death"
         },
         "type": "linear",
         "zeroline": true
        }
       }
      },
      "image/png": "[encoded data removed]",
      "text/html": [
       "<div>                            <div id=\"ec7b953d-7303-4965-9b22-d6b6b616e76e\" class=\"plotly-graph-div\" style=\"height:500px; width:500px;\"></div>            <script type=\"text/javascript\">                require([\"plotly\"], function(Plotly) {                    window.PLOTLYENV=window.PLOTLYENV || {};                                    if (document.getElementById(\"ec7b953d-7303-4965-9b22-d6b6b616e76e\")) {                    Plotly.newPlot(                        \"ec7b953d-7303-4965-9b22-d6b6b616e76e\",                        [{\"hoverinfo\":\"none\",\"line\":{\"color\":\"black\",\"dash\":\"dash\",\"width\":1},\"mode\":\"lines\",\"showlegend\":false,\"x\":[-0.034398064613342286,1.7543012952804566],\"y\":[-0.034398064613342286,1.7543012952804566],\"type\":\"scatter\"},{\"hoverinfo\":\"text\",\"hovertext\":[\"(0.0, 0.004657167941331863)\",\"(0.0, 0.005316547583788633)\",\"(0.0, 0.017833292484283447)\",\"(0.0, 0.021918371319770813)\",\"(0.0, 0.024138368666172028)\",\"(0.0, 0.02648146264255047)\",\"(0.0, 0.029400862753391266)\",\"(0.0, 0.031040718778967857)\",\"(0.0, 0.03195047378540039)\",\"(0.0, 0.03463878482580185)\",\"(0.0, 0.03870844468474388)\",\"(0.0, 0.03902367502450943)\",\"(0.0, 0.03916395455598831)\",\"(0.0, 0.0394866019487381)\",\"(0.0, 0.0439845435321331)\",\"(0.0, 0.0440693162381649)\",\"(0.0, 0.047533921897411346)\",\"(0.0, 0.04940038546919823)\",\"(0.0, 0.05077527090907097)\",\"(0.0, 0.05174658074975014)\",\"(0.0, 0.05203786492347717)\",\"(0.0, 0.05386592075228691)\",\"(0.0, 0.054267287254333496)\",\"(0.0, 0.05522874370217323)\",\"(0.0, 0.05643368884921074)\",\"(0.0, 0.056913550943136215)\",\"(0.0, 0.05693298205733299)\",\"(0.0, 0.057186152786016464)\",\"(0.0, 0.05741002410650253)\",\"(0.0, 0.05765461176633835)\",\"(0.0, 0.05782971903681755)\",\"(0.0, 0.05853434279561043)\",\"(0.0, 0.05947917699813843)\",\"(0.0, 0.05963527038693428)\",\"(0.0, 0.060074057430028915)\",\"(0.0, 0.06219898909330368)\",\"(0.0, 0.06258966773748398)\",\"(0.0, 0.06335115432739258)\",\"(0.0, 0.06372468173503876)\",\"(0.0, 0.0642656460404396)\",\"(0.0, 0.06642097979784012)\",\"(0.0, 0.0670657679438591)\",\"(0.0, 0.06779304146766663)\",\"(0.0, 0.0678245797753334)\",\"(0.0, 0.06814909726381302)\",\"(0.0, 0.06838170439004898)\",\"(0.0, 0.06845748424530029)\",\"(0.0, 0.0686558410525322)\",\"(0.0, 0.0688638687133789)\",\"(0.0, 0.07141241431236267)\",\"(0.0, 0.07182677090167999)\",\"(0.0, 0.07190322130918503)\",\"(0.0, 0.07194880396127701)\",\"(0.0, 0.07201014459133148)\",\"(0.0, 0.07267920672893524)\",\"(0.0, 0.07466410100460052)\",\"(0.0, 0.07843873649835587)\",\"(0.0, 0.07996644079685211)\",\"(0.0, 0.0871029943227768)\",\"(0.0, 0.09130130708217621)\",\"(0.0, 0.09518668800592422)\",\"(0.0, 0.09846583008766174)\",\"(0.0, 0.09934321790933609)\",\"(0.0, 0.10110994428396225)\",\"(0.0, 0.10145316272974014)\",\"(0.0, 0.10361456871032715)\",\"(0.0, 0.10403481870889664)\",\"(0.0, 0.10639189183712006)\",\"(0.0, 0.10643924027681351)\",\"(0.0, 0.10813774168491364)\",\"(0.0, 0.10893727093935013)\",\"(0.0, 0.11460806429386139)\",\"(0.0, 0.11466473340988159)\",\"(0.0, 0.11502820998430252)\",\"(0.0, 0.11541471630334854)\",\"(0.0, 0.11665816605091095)\",\"(0.0, 0.1277523785829544)\",\"(0.0, 0.13115037977695465)\",\"(0.0, 0.13428710401058197)\",\"(0.0, 0.13593164086341858)\",\"(0.0, 0.13665445148944855)\",\"(0.0, 0.13871324062347412)\",\"(0.0, 0.14173391461372375)\",\"(0.0, 0.14197605848312378)\",\"(0.0, 0.1445968598127365)\",\"(0.0, 0.14757491648197174)\",\"(0.0, 0.152788907289505)\",\"(0.0, 0.15562476217746735)\",\"(0.0, 0.15627361834049225)\",\"(0.0, 0.1616726964712143)\",\"(0.0, 0.1651885062456131)\",\"(0.0, 0.17458827793598175)\",\"(0.0, 0.1757075935602188)\",\"(0.0, 0.18154214322566986)\",\"(0.0, 0.18577885627746582)\",\"(0.0, 0.189767986536026)\",\"(0.0, 0.1952625811100006)\",\"(0.0, 0.20609121024608612)\",\"(0.0, 0.2637779414653778)\"],\"mode\":\"markers\",\"name\":\"H0\",\"x\":[0.0,0.0,0.0,0.0,0.0,0.0,0.0,0.0,0.0,0.0,0.0,0.0,0.0,0.0,0.0,0.0,0.0,0.0,0.0,0.0,0.0,0.0,0.0,0.0,0.0,0.0,0.0,0.0,0.0,0.0,0.0,0.0,0.0,0.0,0.0,0.0,0.0,0.0,0.0,0.0,0.0,0.0,0.0,0.0,0.0,0.0,0.0,0.0,0.0,0.0,0.0,0.0,0.0,0.0,0.0,0.0,0.0,0.0,0.0,0.0,0.0,0.0,0.0,0.0,0.0,0.0,0.0,0.0,0.0,0.0,0.0,0.0,0.0,0.0,0.0,0.0,0.0,0.0,0.0,0.0,0.0,0.0,0.0,0.0,0.0,0.0,0.0,0.0,0.0,0.0,0.0,0.0,0.0,0.0,0.0,0.0,0.0,0.0,0.0],\"y\":[0.004657167941331863,0.005316547583788633,0.017833292484283447,0.021918371319770813,0.024138368666172028,0.02648146264255047,0.029400862753391266,0.031040718778967857,0.03195047378540039,0.03463878482580185,0.03870844468474388,0.03902367502450943,0.03916395455598831,0.0394866019487381,0.0439845435321331,0.0440693162381649,0.047533921897411346,0.04940038546919823,0.05077527090907097,0.05174658074975014,0.05203786492347717,0.05386592075228691,0.054267287254333496,0.05522874370217323,0.05643368884921074,0.056913550943136215,0.05693298205733299,0.057186152786016464,0.05741002410650253,0.05765461176633835,0.05782971903681755,0.05853434279561043,0.05947917699813843,0.05963527038693428,0.060074057430028915,0.06219898909330368,0.06258966773748398,0.06335115432739258,0.06372468173503876,0.0642656460404396,0.06642097979784012,0.0670657679438591,0.06779304146766663,0.0678245797753334,0.06814909726381302,0.06838170439004898,0.06845748424530029,0.0686558410525322,0.0688638687133789,0.07141241431236267,0.07182677090167999,0.07190322130918503,0.07194880396127701,0.07201014459133148,0.07267920672893524,0.07466410100460052,0.07843873649835587,0.07996644079685211,0.0871029943227768,0.09130130708217621,0.09518668800592422,0.09846583008766174,0.09934321790933609,0.10110994428396225,0.10145316272974014,0.10361456871032715,0.10403481870889664,0.10639189183712006,0.10643924027681351,0.10813774168491364,0.10893727093935013,0.11460806429386139,0.11466473340988159,0.11502820998430252,0.11541471630334854,0.11665816605091095,0.1277523785829544,0.13115037977695465,0.13428710401058197,0.13593164086341858,0.13665445148944855,0.13871324062347412,0.14173391461372375,0.14197605848312378,0.1445968598127365,0.14757491648197174,0.152788907289505,0.15562476217746735,0.15627361834049225,0.1616726964712143,0.1651885062456131,0.17458827793598175,0.1757075935602188,0.18154214322566986,0.18577885627746582,0.189767986536026,0.1952625811100006,0.20609121024608612,0.2637779414653778],\"type\":\"scatter\"},{\"hoverinfo\":\"text\",\"hovertext\":[\"(0.3158004879951477, 1.6362718343734741)\",\"(0.2036249041557312, 0.21733582019805908)\",\"(0.13964124023914337, 0.16440309584140778)\",\"(0.11471270769834518, 0.11740528792142868)\",\"(0.08367914706468582, 0.08748791366815567)\",\"(0.07623206079006195, 0.07641832530498505)\"],\"mode\":\"markers\",\"name\":\"H1\",\"x\":[0.3158004879951477,0.2036249041557312,0.13964124023914337,0.11471270769834518,0.08367914706468582,0.07623206079006195],\"y\":[1.6362718343734741,0.21733582019805908,0.16440309584140778,0.11740528792142868,0.08748791366815567,0.07641832530498505],\"type\":\"scatter\"},{\"hoverinfo\":\"text\",\"hovertext\":[\"(1.697751522064209, 1.7199032306671143)\",\"(1.6639783382415771, 1.6827170848846436)\",\"(1.661217212677002, 1.7001185417175293)\"],\"mode\":\"markers\",\"name\":\"H2\",\"x\":[1.697751522064209,1.6639783382415771,1.661217212677002],\"y\":[1.7199032306671143,1.6827170848846436,1.7001185417175293],\"type\":\"scatter\"}],                        {\"template\":{\"data\":{\"histogram2dcontour\":[{\"type\":\"histogram2dcontour\",\"colorbar\":{\"outlinewidth\":0,\"ticks\":\"\"},\"colorscale\":[[0.0,\"#0d0887\"],[0.1111111111111111,\"#46039f\"],[0.2222222222222222,\"#7201a8\"],[0.3333333333333333,\"#9c179e\"],[0.4444444444444444,\"#bd3786\"],[0.5555555555555556,\"#d8576b\"],[0.6666666666666666,\"#ed7953\"],[0.7777777777777778,\"#fb9f3a\"],[0.8888888888888888,\"#fdca26\"],[1.0,\"#f0f921\"]]}],\"choropleth\":[{\"type\":\"choropleth\",\"colorbar\":{\"outlinewidth\":0,\"ticks\":\"\"}}],\"histogram2d\":[{\"type\":\"histogram2d\",\"colorbar\":{\"outlinewidth\":0,\"ticks\":\"\"},\"colorscale\":[[0.0,\"#0d0887\"],[0.1111111111111111,\"#46039f\"],[0.2222222222222222,\"#7201a8\"],[0.3333333333333333,\"#9c179e\"],[0.4444444444444444,\"#bd3786\"],[0.5555555555555556,\"#d8576b\"],[0.6666666666666666,\"#ed7953\"],[0.7777777777777778,\"#fb9f3a\"],[0.8888888888888888,\"#fdca26\"],[1.0,\"#f0f921\"]]}],\"heatmap\":[{\"type\":\"heatmap\",\"colorbar\":{\"outlinewidth\":0,\"ticks\":\"\"},\"colorscale\":[[0.0,\"#0d0887\"],[0.1111111111111111,\"#46039f\"],[0.2222222222222222,\"#7201a8\"],[0.3333333333333333,\"#9c179e\"],[0.4444444444444444,\"#bd3786\"],[0.5555555555555556,\"#d8576b\"],[0.6666666666666666,\"#ed7953\"],[0.7777777777777778,\"#fb9f3a\"],[0.8888888888888888,\"#fdca26\"],[1.0,\"#f0f921\"]]}],\"heatmapgl\":[{\"type\":\"heatmapgl\",\"colorbar\":{\"outlinewidth\":0,\"ticks\":\"\"},\"colorscale\":[[0.0,\"#0d0887\"],[0.1111111111111111,\"#46039f\"],[0.2222222222222222,\"#7201a8\"],[0.3333333333333333,\"#9c179e\"],[0.4444444444444444,\"#bd3786\"],[0.5555555555555556,\"#d8576b\"],[0.6666666666666666,\"#ed7953\"],[0.7777777777777778,\"#fb9f3a\"],[0.8888888888888888,\"#fdca26\"],[1.0,\"#f0f921\"]]}],\"contourcarpet\":[{\"type\":\"contourcarpet\",\"colorbar\":{\"outlinewidth\":0,\"ticks\":\"\"}}],\"contour\":[{\"type\":\"contour\",\"colorbar\":{\"outlinewidth\":0,\"ticks\":\"\"},\"colorscale\":[[0.0,\"#0d0887\"],[0.1111111111111111,\"#46039f\"],[0.2222222222222222,\"#7201a8\"],[0.3333333333333333,\"#9c179e\"],[0.4444444444444444,\"#bd3786\"],[0.5555555555555556,\"#d8576b\"],[0.6666666666666666,\"#ed7953\"],[0.7777777777777778,\"#fb9f3a\"],[0.8888888888888888,\"#fdca26\"],[1.0,\"#f0f921\"]]}],\"surface\":[{\"type\":\"surface\",\"colorbar\":{\"outlinewidth\":0,\"ticks\":\"\"},\"colorscale\":[[0.0,\"#0d0887\"],[0.1111111111111111,\"#46039f\"],[0.2222222222222222,\"#7201a8\"],[0.3333333333333333,\"#9c179e\"],[0.4444444444444444,\"#bd3786\"],[0.5555555555555556,\"#d8576b\"],[0.6666666666666666,\"#ed7953\"],[0.7777777777777778,\"#fb9f3a\"],[0.8888888888888888,\"#fdca26\"],[1.0,\"#f0f921\"]]}],\"mesh3d\":[{\"type\":\"mesh3d\",\"colorbar\":{\"outlinewidth\":0,\"ticks\":\"\"}}],\"scatter\":[{\"fillpattern\":{\"fillmode\":\"overlay\",\"size\":10,\"solidity\":0.2},\"type\":\"scatter\"}],\"parcoords\":[{\"type\":\"parcoords\",\"line\":{\"colorbar\":{\"outlinewidth\":0,\"ticks\":\"\"}}}],\"scatterpolargl\":[{\"type\":\"scatterpolargl\",\"marker\":{\"colorbar\":{\"outlinewidth\":0,\"ticks\":\"\"}}}],\"bar\":[{\"error_x\":{\"color\":\"#2a3f5f\"},\"error_y\":{\"color\":\"#2a3f5f\"},\"marker\":{\"line\":{\"color\":\"#E5ECF6\",\"width\":0.5},\"pattern\":{\"fillmode\":\"overlay\",\"size\":10,\"solidity\":0.2}},\"type\":\"bar\"}],\"scattergeo\":[{\"type\":\"scattergeo\",\"marker\":{\"colorbar\":{\"outlinewidth\":0,\"ticks\":\"\"}}}],\"scatterpolar\":[{\"type\":\"scatterpolar\",\"marker\":{\"colorbar\":{\"outlinewidth\":0,\"ticks\":\"\"}}}],\"histogram\":[{\"marker\":{\"pattern\":{\"fillmode\":\"overlay\",\"size\":10,\"solidity\":0.2}},\"type\":\"histogram\"}],\"scattergl\":[{\"type\":\"scattergl\",\"marker\":{\"colorbar\":{\"outlinewidth\":0,\"ticks\":\"\"}}}],\"scatter3d\":[{\"type\":\"scatter3d\",\"line\":{\"colorbar\":{\"outlinewidth\":0,\"ticks\":\"\"}},\"marker\":{\"colorbar\":{\"outlinewidth\":0,\"ticks\":\"\"}}}],\"scattermapbox\":[{\"type\":\"scattermapbox\",\"marker\":{\"colorbar\":{\"outlinewidth\":0,\"ticks\":\"\"}}}],\"scatterternary\":[{\"type\":\"scatterternary\",\"marker\":{\"colorbar\":{\"outlinewidth\":0,\"ticks\":\"\"}}}],\"scattercarpet\":[{\"type\":\"scattercarpet\",\"marker\":{\"colorbar\":{\"outlinewidth\":0,\"ticks\":\"\"}}}],\"carpet\":[{\"aaxis\":{\"endlinecolor\":\"#2a3f5f\",\"gridcolor\":\"white\",\"linecolor\":\"white\",\"minorgridcolor\":\"white\",\"startlinecolor\":\"#2a3f5f\"},\"baxis\":{\"endlinecolor\":\"#2a3f5f\",\"gridcolor\":\"white\",\"linecolor\":\"white\",\"minorgridcolor\":\"white\",\"startlinecolor\":\"#2a3f5f\"},\"type\":\"carpet\"}],\"table\":[{\"cells\":{\"fill\":{\"color\":\"#EBF0F8\"},\"line\":{\"color\":\"white\"}},\"header\":{\"fill\":{\"color\":\"#C8D4E3\"},\"line\":{\"color\":\"white\"}},\"type\":\"table\"}],\"barpolar\":[{\"marker\":{\"line\":{\"color\":\"#E5ECF6\",\"width\":0.5},\"pattern\":{\"fillmode\":\"overlay\",\"size\":10,\"solidity\":0.2}},\"type\":\"barpolar\"}],\"pie\":[{\"automargin\":true,\"type\":\"pie\"}]},\"layout\":{\"autotypenumbers\":\"strict\",\"colorway\":[\"#636efa\",\"#EF553B\",\"#00cc96\",\"#ab63fa\",\"#FFA15A\",\"#19d3f3\",\"#FF6692\",\"#B6E880\",\"#FF97FF\",\"#FECB52\"],\"font\":{\"color\":\"#2a3f5f\"},\"hovermode\":\"closest\",\"hoverlabel\":{\"align\":\"left\"},\"paper_bgcolor\":\"white\",\"plot_bgcolor\":\"#E5ECF6\",\"polar\":{\"bgcolor\":\"#E5ECF6\",\"angularaxis\":{\"gridcolor\":\"white\",\"linecolor\":\"white\",\"ticks\":\"\"},\"radialaxis\":{\"gridcolor\":\"white\",\"linecolor\":\"white\",\"ticks\":\"\"}},\"ternary\":{\"bgcolor\":\"#E5ECF6\",\"aaxis\":{\"gridcolor\":\"white\",\"linecolor\":\"white\",\"ticks\":\"\"},\"baxis\":{\"gridcolor\":\"white\",\"linecolor\":\"white\",\"ticks\":\"\"},\"caxis\":{\"gridcolor\":\"white\",\"linecolor\":\"white\",\"ticks\":\"\"}},\"coloraxis\":{\"colorbar\":{\"outlinewidth\":0,\"ticks\":\"\"}},\"colorscale\":{\"sequential\":[[0.0,\"#0d0887\"],[0.1111111111111111,\"#46039f\"],[0.2222222222222222,\"#7201a8\"],[0.3333333333333333,\"#9c179e\"],[0.4444444444444444,\"#bd3786\"],[0.5555555555555556,\"#d8576b\"],[0.6666666666666666,\"#ed7953\"],[0.7777777777777778,\"#fb9f3a\"],[0.8888888888888888,\"#fdca26\"],[1.0,\"#f0f921\"]],\"sequentialminus\":[[0.0,\"#0d0887\"],[0.1111111111111111,\"#46039f\"],[0.2222222222222222,\"#7201a8\"],[0.3333333333333333,\"#9c179e\"],[0.4444444444444444,\"#bd3786\"],[0.5555555555555556,\"#d8576b\"],[0.6666666666666666,\"#ed7953\"],[0.7777777777777778,\"#fb9f3a\"],[0.8888888888888888,\"#fdca26\"],[1.0,\"#f0f921\"]],\"diverging\":[[0,\"#8e0152\"],[0.1,\"#c51b7d\"],[0.2,\"#de77ae\"],[0.3,\"#f1b6da\"],[0.4,\"#fde0ef\"],[0.5,\"#f7f7f7\"],[0.6,\"#e6f5d0\"],[0.7,\"#b8e186\"],[0.8,\"#7fbc41\"],[0.9,\"#4d9221\"],[1,\"#276419\"]]},\"xaxis\":{\"gridcolor\":\"white\",\"linecolor\":\"white\",\"ticks\":\"\",\"title\":{\"standoff\":15},\"zerolinecolor\":\"white\",\"automargin\":true,\"zerolinewidth\":2},\"yaxis\":{\"gridcolor\":\"white\",\"linecolor\":\"white\",\"ticks\":\"\",\"title\":{\"standoff\":15},\"zerolinecolor\":\"white\",\"automargin\":true,\"zerolinewidth\":2},\"scene\":{\"xaxis\":{\"backgroundcolor\":\"#E5ECF6\",\"gridcolor\":\"white\",\"linecolor\":\"white\",\"showbackground\":true,\"ticks\":\"\",\"zerolinecolor\":\"white\",\"gridwidth\":2},\"yaxis\":{\"backgroundcolor\":\"#E5ECF6\",\"gridcolor\":\"white\",\"linecolor\":\"white\",\"showbackground\":true,\"ticks\":\"\",\"zerolinecolor\":\"white\",\"gridwidth\":2},\"zaxis\":{\"backgroundcolor\":\"#E5ECF6\",\"gridcolor\":\"white\",\"linecolor\":\"white\",\"showbackground\":true,\"ticks\":\"\",\"zerolinecolor\":\"white\",\"gridwidth\":2}},\"shapedefaults\":{\"line\":{\"color\":\"#2a3f5f\"}},\"annotationdefaults\":{\"arrowcolor\":\"#2a3f5f\",\"arrowhead\":0,\"arrowwidth\":1},\"geo\":{\"bgcolor\":\"white\",\"landcolor\":\"#E5ECF6\",\"subunitcolor\":\"white\",\"showland\":true,\"showlakes\":true,\"lakecolor\":\"white\"},\"title\":{\"x\":0.05},\"mapbox\":{\"style\":\"light\"}}},\"xaxis\":{\"title\":{\"text\":\"Birth\"},\"side\":\"bottom\",\"type\":\"linear\",\"range\":[-0.034398064613342286,1.7543012952804566],\"autorange\":false,\"ticks\":\"outside\",\"showline\":true,\"zeroline\":true,\"linewidth\":1,\"linecolor\":\"black\",\"mirror\":false,\"showexponent\":\"all\",\"exponentformat\":\"e\"},\"yaxis\":{\"title\":{\"text\":\"Death\"},\"side\":\"left\",\"type\":\"linear\",\"range\":[-0.034398064613342286,1.7543012952804566],\"autorange\":false,\"scaleanchor\":\"x\",\"scaleratio\":1,\"ticks\":\"outside\",\"showline\":true,\"zeroline\":true,\"linewidth\":1,\"linecolor\":\"black\",\"mirror\":false,\"showexponent\":\"all\",\"exponentformat\":\"e\"},\"width\":500,\"height\":500,\"plot_bgcolor\":\"white\"},                        {\"responsive\": true}                    ).then(function(){\n",
       "                            \n",
       "var gd = document.getElementById('ec7b953d-7303-4965-9b22-d6b6b616e76e');\n",
       "var x = new MutationObserver(function (mutations, observer) {{\n",
       "        var display = window.getComputedStyle(gd).display;\n",
       "        if (!display || display === 'none') {{\n",
       "            console.log([gd, 'removed!']);\n",
       "            Plotly.purge(gd);\n",
       "            observer.disconnect();\n",
       "        }}\n",
       "}});\n",
       "\n",
       "// Listen for the removal of the full notebook cells\n",
       "var notebookContainer = gd.closest('#notebook-container');\n",
       "if (notebookContainer) {{\n",
       "    x.observe(notebookContainer, {childList: true});\n",
       "}}\n",
       "\n",
       "// Listen for the clearing of the current output cell\n",
       "var outputEl = gd.closest('.output');\n",
       "if (outputEl) {{\n",
       "    x.observe(outputEl, {childList: true});\n",
       "}}\n",
       "\n",
       "                        })                };                });            </script>        </div>"
      ]
     },
     "metadata": {},
     "output_type": "display_data"
    }
   ],
   "source": [
    "persistence.plot(persistence_diagram)"
   ]
  },
  {
   "cell_type": "code",
   "execution_count": 91,
   "id": "e099b01e-3557-49c8-aa7d-e19ebb16d3e9",
   "metadata": {},
   "outputs": [
    {
     "data": {
      "text/plain": [
       "(-1.327150603213386, 1.395678116789437, -1.467968865802354, 1.3165022889241518)"
      ]
     },
     "execution_count": 91,
     "metadata": {},
     "output_type": "execute_result"
    },
    {
     "data": {
      "image/png": "[encoded data removed]",
      "text/plain": [
       "<Figure size 640x480 with 1 Axes>"
      ]
     },
     "metadata": {},
     "output_type": "display_data"
    }
   ],
   "source": [
    "point_cloud = [sample_point(radius=1, std = 0.15) for _ in range(100)]\n",
    "\n",
    "plt.scatter(*zip(*point_cloud), c=\"grey\")\n",
    "plt.gca().set_aspect('equal') # Set axes to equal scaling\n",
    "plt.axis('off')"
   ]
  },
  {
   "cell_type": "code",
   "execution_count": 92,
   "id": "07df7685-6819-4c1f-adb9-0280870d5edf",
   "metadata": {},
   "outputs": [
    {
     "data": {
      "application/vnd.plotly.v1+json": {
       "config": {
        "plotlyServerURL": "https://plot.ly"
       },
       "data": [
        {
         "hoverinfo": "none",
         "line": {
          "color": "black",
          "dash": "dash",
          "width": 1
         },
         "mode": "lines",
         "showlegend": false,
         "type": "scatter",
         "x": [
          -0.02596217155456543,
          1.324070749282837
         ],
         "y": [
          -0.02596217155456543,
          1.324070749282837
         ]
        },
        {
         "hoverinfo": "text",
         "hovertext": [
          "(0.0, 0.014217445626854897)",
          "(0.0, 0.02394896373152733)",
          "(0.0, 0.027801042422652245)",
          "(0.0, 0.029937351122498512)",
          "(0.0, 0.04156346619129181)",
          "(0.0, 0.0441315658390522)",
          "(0.0, 0.04794701561331749)",
          "(0.0, 0.05045696347951889)",
          "(0.0, 0.05089298263192177)",
          "(0.0, 0.0515642985701561)",
          "(0.0, 0.05954565852880478)",
          "(0.0, 0.06772106885910034)",
          "(0.0, 0.06797553598880768)",
          "(0.0, 0.06814201921224594)",
          "(0.0, 0.07211612164974213)",
          "(0.0, 0.07819893956184387)",
          "(0.0, 0.07986520230770111)",
          "(0.0, 0.0804249569773674)",
          "(0.0, 0.08189161866903305)",
          "(0.0, 0.08462119847536087)",
          "(0.0, 0.08482806384563446)",
          "(0.0, 0.08729352056980133)",
          "(0.0, 0.09251175820827484)",
          "(0.0, 0.09437862783670425)",
          "(0.0, 0.09635230898857117)",
          "(0.0, 0.09968483448028564)",
          "(0.0, 0.0997808650135994)",
          "(0.0, 0.10006266087293625)",
          "(0.0, 0.1002173200249672)",
          "(0.0, 0.10111486911773682)",
          "(0.0, 0.10214453190565109)",
          "(0.0, 0.10480429232120514)",
          "(0.0, 0.10538914799690247)",
          "(0.0, 0.10646817088127136)",
          "(0.0, 0.10728438943624496)",
          "(0.0, 0.10802395641803741)",
          "(0.0, 0.10819287598133087)",
          "(0.0, 0.10875637084245682)",
          "(0.0, 0.1094244122505188)",
          "(0.0, 0.11107032746076584)",
          "(0.0, 0.11401651799678802)",
          "(0.0, 0.11647447943687439)",
          "(0.0, 0.1166405901312828)",
          "(0.0, 0.11856282502412796)",
          "(0.0, 0.12048172950744629)",
          "(0.0, 0.12197872251272202)",
          "(0.0, 0.1234063059091568)",
          "(0.0, 0.12354428321123123)",
          "(0.0, 0.12456224113702774)",
          "(0.0, 0.12996698915958405)",
          "(0.0, 0.130644291639328)",
          "(0.0, 0.13082179427146912)",
          "(0.0, 0.13332580029964447)",
          "(0.0, 0.13547846674919128)",
          "(0.0, 0.1367199867963791)",
          "(0.0, 0.13774874806404114)",
          "(0.0, 0.1396806687116623)",
          "(0.0, 0.139725923538208)",
          "(0.0, 0.14401152729988098)",
          "(0.0, 0.14412769675254822)",
          "(0.0, 0.1472732126712799)",
          "(0.0, 0.1498178094625473)",
          "(0.0, 0.1505236178636551)",
          "(0.0, 0.15216341614723206)",
          "(0.0, 0.15356723964214325)",
          "(0.0, 0.1537206918001175)",
          "(0.0, 0.15432971715927124)",
          "(0.0, 0.15435148775577545)",
          "(0.0, 0.15504655241966248)",
          "(0.0, 0.15730991959571838)",
          "(0.0, 0.1576627492904663)",
          "(0.0, 0.15874658524990082)",
          "(0.0, 0.1618868112564087)",
          "(0.0, 0.1627819538116455)",
          "(0.0, 0.16283901035785675)",
          "(0.0, 0.16302509605884552)",
          "(0.0, 0.16346287727355957)",
          "(0.0, 0.16433846950531006)",
          "(0.0, 0.16674531996250153)",
          "(0.0, 0.1689872294664383)",
          "(0.0, 0.17184892296791077)",
          "(0.0, 0.17428790032863617)",
          "(0.0, 0.17503327131271362)",
          "(0.0, 0.18007820844650269)",
          "(0.0, 0.18296246230602264)",
          "(0.0, 0.1838625967502594)",
          "(0.0, 0.19047054648399353)",
          "(0.0, 0.19064795970916748)",
          "(0.0, 0.19363725185394287)",
          "(0.0, 0.19888648390769958)",
          "(0.0, 0.20000037550926208)",
          "(0.0, 0.20128805935382843)",
          "(0.0, 0.2029760479927063)",
          "(0.0, 0.20919163525104523)",
          "(0.0, 0.2127024531364441)",
          "(0.0, 0.22651411592960358)",
          "(0.0, 0.26676180958747864)",
          "(0.0, 0.33699682354927063)",
          "(0.0, 0.35394734144210815)"
         ],
         "mode": "markers",
         "name": "H0",
         "type": "scatter",
         "x": [
          0,
          0,
          0,
          0,
          0,
          0,
          0,
          0,
          0,
          0,
          0,
          0,
          0,
          0,
          0,
          0,
          0,
          0,
          0,
          0,
          0,
          0,
          0,
          0,
          0,
          0,
          0,
          0,
          0,
          0,
          0,
          0,
          0,
          0,
          0,
          0,
          0,
          0,
          0,
          0,
          0,
          0,
          0,
          0,
          0,
          0,
          0,
          0,
          0,
          0,
          0,
          0,
          0,
          0,
          0,
          0,
          0,
          0,
          0,
          0,
          0,
          0,
          0,
          0,
          0,
          0,
          0,
          0,
          0,
          0,
          0,
          0,
          0,
          0,
          0,
          0,
          0,
          0,
          0,
          0,
          0,
          0,
          0,
          0,
          0,
          0,
          0,
          0,
          0,
          0,
          0,
          0,
          0,
          0,
          0,
          0,
          0,
          0,
          0
         ],
         "y": [
          0.014217445626854897,
          0.02394896373152733,
          0.027801042422652245,
          0.029937351122498512,
          0.04156346619129181,
          0.0441315658390522,
          0.04794701561331749,
          0.05045696347951889,
          0.05089298263192177,
          0.0515642985701561,
          0.05954565852880478,
          0.06772106885910034,
          0.06797553598880768,
          0.06814201921224594,
          0.07211612164974213,
          0.07819893956184387,
          0.07986520230770111,
          0.0804249569773674,
          0.08189161866903305,
          0.08462119847536087,
          0.08482806384563446,
          0.08729352056980133,
          0.09251175820827484,
          0.09437862783670425,
          0.09635230898857117,
          0.09968483448028564,
          0.0997808650135994,
          0.10006266087293625,
          0.1002173200249672,
          0.10111486911773682,
          0.10214453190565109,
          0.10480429232120514,
          0.10538914799690247,
          0.10646817088127136,
          0.10728438943624496,
          0.10802395641803741,
          0.10819287598133087,
          0.10875637084245682,
          0.1094244122505188,
          0.11107032746076584,
          0.11401651799678802,
          0.11647447943687439,
          0.1166405901312828,
          0.11856282502412796,
          0.12048172950744629,
          0.12197872251272202,
          0.1234063059091568,
          0.12354428321123123,
          0.12456224113702774,
          0.12996698915958405,
          0.130644291639328,
          0.13082179427146912,
          0.13332580029964447,
          0.13547846674919128,
          0.1367199867963791,
          0.13774874806404114,
          0.1396806687116623,
          0.139725923538208,
          0.14401152729988098,
          0.14412769675254822,
          0.1472732126712799,
          0.1498178094625473,
          0.1505236178636551,
          0.15216341614723206,
          0.15356723964214325,
          0.1537206918001175,
          0.15432971715927124,
          0.15435148775577545,
          0.15504655241966248,
          0.15730991959571838,
          0.1576627492904663,
          0.15874658524990082,
          0.1618868112564087,
          0.1627819538116455,
          0.16283901035785675,
          0.16302509605884552,
          0.16346287727355957,
          0.16433846950531006,
          0.16674531996250153,
          0.1689872294664383,
          0.17184892296791077,
          0.17428790032863617,
          0.17503327131271362,
          0.18007820844650269,
          0.18296246230602264,
          0.1838625967502594,
          0.19047054648399353,
          0.19064795970916748,
          0.19363725185394287,
          0.19888648390769958,
          0.20000037550926208,
          0.20128805935382843,
          0.2029760479927063,
          0.20919163525104523,
          0.2127024531364441,
          0.22651411592960358,
          0.26676180958747864,
          0.33699682354927063,
          0.35394734144210815
         ]
        },
        {
         "hoverinfo": "text",
         "hovertext": [
          "(0.27442750334739685, 1.2981085777282715)",
          "(0.2585517466068268, 0.30737024545669556)",
          "(0.2550830543041229, 0.3313405215740204)",
          "(0.22766052186489105, 0.24957695603370667)",
          "(0.21428322792053223, 0.26426857709884644)",
          "(0.2038537561893463, 0.21738003194332123)",
          "(0.17515423893928528, 0.19583189487457275)",
          "(0.16205759346485138, 0.19106246531009674)",
          "(0.12151111662387848, 0.12880903482437134)"
         ],
         "mode": "markers",
         "name": "H1",
         "type": "scatter",
         "x": [
          0.27442750334739685,
          0.2585517466068268,
          0.2550830543041229,
          0.22766052186489105,
          0.21428322792053223,
          0.2038537561893463,
          0.17515423893928528,
          0.16205759346485138,
          0.12151111662387848
         ],
         "y": [
          1.2981085777282715,
          0.30737024545669556,
          0.3313405215740204,
          0.24957695603370667,
          0.26426857709884644,
          0.21738003194332123,
          0.19583189487457275,
          0.19106246531009674,
          0.12880903482437134
         ]
        },
        {
         "hoverinfo": "text",
         "hovertext": [],
         "mode": "markers",
         "name": "H2",
         "type": "scatter",
         "x": [],
         "y": []
        }
       ],
       "layout": {
        "height": 500,
        "plot_bgcolor": "white",
        "template": {
         "data": {
          "bar": [
           {
            "error_x": {
             "color": "#2a3f5f"
            },
            "error_y": {
             "color": "#2a3f5f"
            },
            "marker": {
             "line": {
              "color": "#E5ECF6",
              "width": 0.5
             },
             "pattern": {
              "fillmode": "overlay",
              "size": 10,
              "solidity": 0.2
             }
            },
            "type": "bar"
           }
          ],
          "barpolar": [
           {
            "marker": {
             "line": {
              "color": "#E5ECF6",
              "width": 0.5
             },
             "pattern": {
              "fillmode": "overlay",
              "size": 10,
              "solidity": 0.2
             }
            },
            "type": "barpolar"
           }
          ],
          "carpet": [
           {
            "aaxis": {
             "endlinecolor": "#2a3f5f",
             "gridcolor": "white",
             "linecolor": "white",
             "minorgridcolor": "white",
             "startlinecolor": "#2a3f5f"
            },
            "baxis": {
             "endlinecolor": "#2a3f5f",
             "gridcolor": "white",
             "linecolor": "white",
             "minorgridcolor": "white",
             "startlinecolor": "#2a3f5f"
            },
            "type": "carpet"
           }
          ],
          "choropleth": [
           {
            "colorbar": {
             "outlinewidth": 0,
             "ticks": ""
            },
            "type": "choropleth"
           }
          ],
          "contour": [
           {
            "colorbar": {
             "outlinewidth": 0,
             "ticks": ""
            },
            "colorscale": [
             [
              0,
              "#0d0887"
             ],
             [
              0.1111111111111111,
              "#46039f"
             ],
             [
              0.2222222222222222,
              "#7201a8"
             ],
             [
              0.3333333333333333,
              "#9c179e"
             ],
             [
              0.4444444444444444,
              "#bd3786"
             ],
             [
              0.5555555555555556,
              "#d8576b"
             ],
             [
              0.6666666666666666,
              "#ed7953"
             ],
             [
              0.7777777777777778,
              "#fb9f3a"
             ],
             [
              0.8888888888888888,
              "#fdca26"
             ],
             [
              1,
              "#f0f921"
             ]
            ],
            "type": "contour"
           }
          ],
          "contourcarpet": [
           {
            "colorbar": {
             "outlinewidth": 0,
             "ticks": ""
            },
            "type": "contourcarpet"
           }
          ],
          "heatmap": [
           {
            "colorbar": {
             "outlinewidth": 0,
             "ticks": ""
            },
            "colorscale": [
             [
              0,
              "#0d0887"
             ],
             [
              0.1111111111111111,
              "#46039f"
             ],
             [
              0.2222222222222222,
              "#7201a8"
             ],
             [
              0.3333333333333333,
              "#9c179e"
             ],
             [
              0.4444444444444444,
              "#bd3786"
             ],
             [
              0.5555555555555556,
              "#d8576b"
             ],
             [
              0.6666666666666666,
              "#ed7953"
             ],
             [
              0.7777777777777778,
              "#fb9f3a"
             ],
             [
              0.8888888888888888,
              "#fdca26"
             ],
             [
              1,
              "#f0f921"
             ]
            ],
            "type": "heatmap"
           }
          ],
          "heatmapgl": [
           {
            "colorbar": {
             "outlinewidth": 0,
             "ticks": ""
            },
            "colorscale": [
             [
              0,
              "#0d0887"
             ],
             [
              0.1111111111111111,
              "#46039f"
             ],
             [
              0.2222222222222222,
              "#7201a8"
             ],
             [
              0.3333333333333333,
              "#9c179e"
             ],
             [
              0.4444444444444444,
              "#bd3786"
             ],
             [
              0.5555555555555556,
              "#d8576b"
             ],
             [
              0.6666666666666666,
              "#ed7953"
             ],
             [
              0.7777777777777778,
              "#fb9f3a"
             ],
             [
              0.8888888888888888,
              "#fdca26"
             ],
             [
              1,
              "#f0f921"
             ]
            ],
            "type": "heatmapgl"
           }
          ],
          "histogram": [
           {
            "marker": {
             "pattern": {
              "fillmode": "overlay",
              "size": 10,
              "solidity": 0.2
             }
            },
            "type": "histogram"
           }
          ],
          "histogram2d": [
           {
            "colorbar": {
             "outlinewidth": 0,
             "ticks": ""
            },
            "colorscale": [
             [
              0,
              "#0d0887"
             ],
             [
              0.1111111111111111,
              "#46039f"
             ],
             [
              0.2222222222222222,
              "#7201a8"
             ],
             [
              0.3333333333333333,
              "#9c179e"
             ],
             [
              0.4444444444444444,
              "#bd3786"
             ],
             [
              0.5555555555555556,
              "#d8576b"
             ],
             [
              0.6666666666666666,
              "#ed7953"
             ],
             [
              0.7777777777777778,
              "#fb9f3a"
             ],
             [
              0.8888888888888888,
              "#fdca26"
             ],
             [
              1,
              "#f0f921"
             ]
            ],
            "type": "histogram2d"
           }
          ],
          "histogram2dcontour": [
           {
            "colorbar": {
             "outlinewidth": 0,
             "ticks": ""
            },
            "colorscale": [
             [
              0,
              "#0d0887"
             ],
             [
              0.1111111111111111,
              "#46039f"
             ],
             [
              0.2222222222222222,
              "#7201a8"
             ],
             [
              0.3333333333333333,
              "#9c179e"
             ],
             [
              0.4444444444444444,
              "#bd3786"
             ],
             [
              0.5555555555555556,
              "#d8576b"
             ],
             [
              0.6666666666666666,
              "#ed7953"
             ],
             [
              0.7777777777777778,
              "#fb9f3a"
             ],
             [
              0.8888888888888888,
              "#fdca26"
             ],
             [
              1,
              "#f0f921"
             ]
            ],
            "type": "histogram2dcontour"
           }
          ],
          "mesh3d": [
           {
            "colorbar": {
             "outlinewidth": 0,
             "ticks": ""
            },
            "type": "mesh3d"
           }
          ],
          "parcoords": [
           {
            "line": {
             "colorbar": {
              "outlinewidth": 0,
              "ticks": ""
             }
            },
            "type": "parcoords"
           }
          ],
          "pie": [
           {
            "automargin": true,
            "type": "pie"
           }
          ],
          "scatter": [
           {
            "fillpattern": {
             "fillmode": "overlay",
             "size": 10,
             "solidity": 0.2
            },
            "type": "scatter"
           }
          ],
          "scatter3d": [
           {
            "line": {
             "colorbar": {
              "outlinewidth": 0,
              "ticks": ""
             }
            },
            "marker": {
             "colorbar": {
              "outlinewidth": 0,
              "ticks": ""
             }
            },
            "type": "scatter3d"
           }
          ],
          "scattercarpet": [
           {
            "marker": {
             "colorbar": {
              "outlinewidth": 0,
              "ticks": ""
             }
            },
            "type": "scattercarpet"
           }
          ],
          "scattergeo": [
           {
            "marker": {
             "colorbar": {
              "outlinewidth": 0,
              "ticks": ""
             }
            },
            "type": "scattergeo"
           }
          ],
          "scattergl": [
           {
            "marker": {
             "colorbar": {
              "outlinewidth": 0,
              "ticks": ""
             }
            },
            "type": "scattergl"
           }
          ],
          "scattermapbox": [
           {
            "marker": {
             "colorbar": {
              "outlinewidth": 0,
              "ticks": ""
             }
            },
            "type": "scattermapbox"
           }
          ],
          "scatterpolar": [
           {
            "marker": {
             "colorbar": {
              "outlinewidth": 0,
              "ticks": ""
             }
            },
            "type": "scatterpolar"
           }
          ],
          "scatterpolargl": [
           {
            "marker": {
             "colorbar": {
              "outlinewidth": 0,
              "ticks": ""
             }
            },
            "type": "scatterpolargl"
           }
          ],
          "scatterternary": [
           {
            "marker": {
             "colorbar": {
              "outlinewidth": 0,
              "ticks": ""
             }
            },
            "type": "scatterternary"
           }
          ],
          "surface": [
           {
            "colorbar": {
             "outlinewidth": 0,
             "ticks": ""
            },
            "colorscale": [
             [
              0,
              "#0d0887"
             ],
             [
              0.1111111111111111,
              "#46039f"
             ],
             [
              0.2222222222222222,
              "#7201a8"
             ],
             [
              0.3333333333333333,
              "#9c179e"
             ],
             [
              0.4444444444444444,
              "#bd3786"
             ],
             [
              0.5555555555555556,
              "#d8576b"
             ],
             [
              0.6666666666666666,
              "#ed7953"
             ],
             [
              0.7777777777777778,
              "#fb9f3a"
             ],
             [
              0.8888888888888888,
              "#fdca26"
             ],
             [
              1,
              "#f0f921"
             ]
            ],
            "type": "surface"
           }
          ],
          "table": [
           {
            "cells": {
             "fill": {
              "color": "#EBF0F8"
             },
             "line": {
              "color": "white"
             }
            },
            "header": {
             "fill": {
              "color": "#C8D4E3"
             },
             "line": {
              "color": "white"
             }
            },
            "type": "table"
           }
          ]
         },
         "layout": {
          "annotationdefaults": {
           "arrowcolor": "#2a3f5f",
           "arrowhead": 0,
           "arrowwidth": 1
          },
          "autotypenumbers": "strict",
          "coloraxis": {
           "colorbar": {
            "outlinewidth": 0,
            "ticks": ""
           }
          },
          "colorscale": {
           "diverging": [
            [
             0,
             "#8e0152"
            ],
            [
             0.1,
             "#c51b7d"
            ],
            [
             0.2,
             "#de77ae"
            ],
            [
             0.3,
             "#f1b6da"
            ],
            [
             0.4,
             "#fde0ef"
            ],
            [
             0.5,
             "#f7f7f7"
            ],
            [
             0.6,
             "#e6f5d0"
            ],
            [
             0.7,
             "#b8e186"
            ],
            [
             0.8,
             "#7fbc41"
            ],
            [
             0.9,
             "#4d9221"
            ],
            [
             1,
             "#276419"
            ]
           ],
           "sequential": [
            [
             0,
             "#0d0887"
            ],
            [
             0.1111111111111111,
             "#46039f"
            ],
            [
             0.2222222222222222,
             "#7201a8"
            ],
            [
             0.3333333333333333,
             "#9c179e"
            ],
            [
             0.4444444444444444,
             "#bd3786"
            ],
            [
             0.5555555555555556,
             "#d8576b"
            ],
            [
             0.6666666666666666,
             "#ed7953"
            ],
            [
             0.7777777777777778,
             "#fb9f3a"
            ],
            [
             0.8888888888888888,
             "#fdca26"
            ],
            [
             1,
             "#f0f921"
            ]
           ],
           "sequentialminus": [
            [
             0,
             "#0d0887"
            ],
            [
             0.1111111111111111,
             "#46039f"
            ],
            [
             0.2222222222222222,
             "#7201a8"
            ],
            [
             0.3333333333333333,
             "#9c179e"
            ],
            [
             0.4444444444444444,
             "#bd3786"
            ],
            [
             0.5555555555555556,
             "#d8576b"
            ],
            [
             0.6666666666666666,
             "#ed7953"
            ],
            [
             0.7777777777777778,
             "#fb9f3a"
            ],
            [
             0.8888888888888888,
             "#fdca26"
            ],
            [
             1,
             "#f0f921"
            ]
           ]
          },
          "colorway": [
           "#636efa",
           "#EF553B",
           "#00cc96",
           "#ab63fa",
           "#FFA15A",
           "#19d3f3",
           "#FF6692",
           "#B6E880",
           "#FF97FF",
           "#FECB52"
          ],
          "font": {
           "color": "#2a3f5f"
          },
          "geo": {
           "bgcolor": "white",
           "lakecolor": "white",
           "landcolor": "#E5ECF6",
           "showlakes": true,
           "showland": true,
           "subunitcolor": "white"
          },
          "hoverlabel": {
           "align": "left"
          },
          "hovermode": "closest",
          "mapbox": {
           "style": "light"
          },
          "paper_bgcolor": "white",
          "plot_bgcolor": "#E5ECF6",
          "polar": {
           "angularaxis": {
            "gridcolor": "white",
            "linecolor": "white",
            "ticks": ""
           },
           "bgcolor": "#E5ECF6",
           "radialaxis": {
            "gridcolor": "white",
            "linecolor": "white",
            "ticks": ""
           }
          },
          "scene": {
           "xaxis": {
            "backgroundcolor": "#E5ECF6",
            "gridcolor": "white",
            "gridwidth": 2,
            "linecolor": "white",
            "showbackground": true,
            "ticks": "",
            "zerolinecolor": "white"
           },
           "yaxis": {
            "backgroundcolor": "#E5ECF6",
            "gridcolor": "white",
            "gridwidth": 2,
            "linecolor": "white",
            "showbackground": true,
            "ticks": "",
            "zerolinecolor": "white"
           },
           "zaxis": {
            "backgroundcolor": "#E5ECF6",
            "gridcolor": "white",
            "gridwidth": 2,
            "linecolor": "white",
            "showbackground": true,
            "ticks": "",
            "zerolinecolor": "white"
           }
          },
          "shapedefaults": {
           "line": {
            "color": "#2a3f5f"
           }
          },
          "ternary": {
           "aaxis": {
            "gridcolor": "white",
            "linecolor": "white",
            "ticks": ""
           },
           "baxis": {
            "gridcolor": "white",
            "linecolor": "white",
            "ticks": ""
           },
           "bgcolor": "#E5ECF6",
           "caxis": {
            "gridcolor": "white",
            "linecolor": "white",
            "ticks": ""
           }
          },
          "title": {
           "x": 0.05
          },
          "xaxis": {
           "automargin": true,
           "gridcolor": "white",
           "linecolor": "white",
           "ticks": "",
           "title": {
            "standoff": 15
           },
           "zerolinecolor": "white",
           "zerolinewidth": 2
          },
          "yaxis": {
           "automargin": true,
           "gridcolor": "white",
           "linecolor": "white",
           "ticks": "",
           "title": {
            "standoff": 15
           },
           "zerolinecolor": "white",
           "zerolinewidth": 2
          }
         }
        },
        "width": 500,
        "xaxis": {
         "autorange": false,
         "domain": [
          0,
          1
         ],
         "exponentformat": "e",
         "linecolor": "black",
         "linewidth": 1,
         "mirror": false,
         "range": [
          -0.06604127389192582,
          1.3641498516201973
         ],
         "showexponent": "all",
         "showline": true,
         "side": "bottom",
         "ticks": "outside",
         "title": {
          "text": "Birth"
         },
         "type": "linear",
         "zeroline": true
        },
        "yaxis": {
         "autorange": false,
         "domain": [
          0,
          1
         ],
         "exponentformat": "e",
         "linecolor": "black",
         "linewidth": 1,
         "mirror": false,
         "range": [
          -0.02596217155456543,
          1.324070749282837
         ],
         "scaleanchor": "x",
         "scaleratio": 1,
         "showexponent": "all",
         "showline": true,
         "side": "left",
         "ticks": "outside",
         "title": {
          "text": "Death"
         },
         "type": "linear",
         "zeroline": true
        }
       }
      },
      "image/png": "[encoded data removed]",
      "text/html": [
       "<div>                            <div id=\"172e5ab0-7de2-4e55-91cd-74eb37594182\" class=\"plotly-graph-div\" style=\"height:500px; width:500px;\"></div>            <script type=\"text/javascript\">                require([\"plotly\"], function(Plotly) {                    window.PLOTLYENV=window.PLOTLYENV || {};                                    if (document.getElementById(\"172e5ab0-7de2-4e55-91cd-74eb37594182\")) {                    Plotly.newPlot(                        \"172e5ab0-7de2-4e55-91cd-74eb37594182\",                        [{\"hoverinfo\":\"none\",\"line\":{\"color\":\"black\",\"dash\":\"dash\",\"width\":1},\"mode\":\"lines\",\"showlegend\":false,\"x\":[-0.02596217155456543,1.324070749282837],\"y\":[-0.02596217155456543,1.324070749282837],\"type\":\"scatter\"},{\"hoverinfo\":\"text\",\"hovertext\":[\"(0.0, 0.014217445626854897)\",\"(0.0, 0.02394896373152733)\",\"(0.0, 0.027801042422652245)\",\"(0.0, 0.029937351122498512)\",\"(0.0, 0.04156346619129181)\",\"(0.0, 0.0441315658390522)\",\"(0.0, 0.04794701561331749)\",\"(0.0, 0.05045696347951889)\",\"(0.0, 0.05089298263192177)\",\"(0.0, 0.0515642985701561)\",\"(0.0, 0.05954565852880478)\",\"(0.0, 0.06772106885910034)\",\"(0.0, 0.06797553598880768)\",\"(0.0, 0.06814201921224594)\",\"(0.0, 0.07211612164974213)\",\"(0.0, 0.07819893956184387)\",\"(0.0, 0.07986520230770111)\",\"(0.0, 0.0804249569773674)\",\"(0.0, 0.08189161866903305)\",\"(0.0, 0.08462119847536087)\",\"(0.0, 0.08482806384563446)\",\"(0.0, 0.08729352056980133)\",\"(0.0, 0.09251175820827484)\",\"(0.0, 0.09437862783670425)\",\"(0.0, 0.09635230898857117)\",\"(0.0, 0.09968483448028564)\",\"(0.0, 0.0997808650135994)\",\"(0.0, 0.10006266087293625)\",\"(0.0, 0.1002173200249672)\",\"(0.0, 0.10111486911773682)\",\"(0.0, 0.10214453190565109)\",\"(0.0, 0.10480429232120514)\",\"(0.0, 0.10538914799690247)\",\"(0.0, 0.10646817088127136)\",\"(0.0, 0.10728438943624496)\",\"(0.0, 0.10802395641803741)\",\"(0.0, 0.10819287598133087)\",\"(0.0, 0.10875637084245682)\",\"(0.0, 0.1094244122505188)\",\"(0.0, 0.11107032746076584)\",\"(0.0, 0.11401651799678802)\",\"(0.0, 0.11647447943687439)\",\"(0.0, 0.1166405901312828)\",\"(0.0, 0.11856282502412796)\",\"(0.0, 0.12048172950744629)\",\"(0.0, 0.12197872251272202)\",\"(0.0, 0.1234063059091568)\",\"(0.0, 0.12354428321123123)\",\"(0.0, 0.12456224113702774)\",\"(0.0, 0.12996698915958405)\",\"(0.0, 0.130644291639328)\",\"(0.0, 0.13082179427146912)\",\"(0.0, 0.13332580029964447)\",\"(0.0, 0.13547846674919128)\",\"(0.0, 0.1367199867963791)\",\"(0.0, 0.13774874806404114)\",\"(0.0, 0.1396806687116623)\",\"(0.0, 0.139725923538208)\",\"(0.0, 0.14401152729988098)\",\"(0.0, 0.14412769675254822)\",\"(0.0, 0.1472732126712799)\",\"(0.0, 0.1498178094625473)\",\"(0.0, 0.1505236178636551)\",\"(0.0, 0.15216341614723206)\",\"(0.0, 0.15356723964214325)\",\"(0.0, 0.1537206918001175)\",\"(0.0, 0.15432971715927124)\",\"(0.0, 0.15435148775577545)\",\"(0.0, 0.15504655241966248)\",\"(0.0, 0.15730991959571838)\",\"(0.0, 0.1576627492904663)\",\"(0.0, 0.15874658524990082)\",\"(0.0, 0.1618868112564087)\",\"(0.0, 0.1627819538116455)\",\"(0.0, 0.16283901035785675)\",\"(0.0, 0.16302509605884552)\",\"(0.0, 0.16346287727355957)\",\"(0.0, 0.16433846950531006)\",\"(0.0, 0.16674531996250153)\",\"(0.0, 0.1689872294664383)\",\"(0.0, 0.17184892296791077)\",\"(0.0, 0.17428790032863617)\",\"(0.0, 0.17503327131271362)\",\"(0.0, 0.18007820844650269)\",\"(0.0, 0.18296246230602264)\",\"(0.0, 0.1838625967502594)\",\"(0.0, 0.19047054648399353)\",\"(0.0, 0.19064795970916748)\",\"(0.0, 0.19363725185394287)\",\"(0.0, 0.19888648390769958)\",\"(0.0, 0.20000037550926208)\",\"(0.0, 0.20128805935382843)\",\"(0.0, 0.2029760479927063)\",\"(0.0, 0.20919163525104523)\",\"(0.0, 0.2127024531364441)\",\"(0.0, 0.22651411592960358)\",\"(0.0, 0.26676180958747864)\",\"(0.0, 0.33699682354927063)\",\"(0.0, 0.35394734144210815)\"],\"mode\":\"markers\",\"name\":\"H0\",\"x\":[0.0,0.0,0.0,0.0,0.0,0.0,0.0,0.0,0.0,0.0,0.0,0.0,0.0,0.0,0.0,0.0,0.0,0.0,0.0,0.0,0.0,0.0,0.0,0.0,0.0,0.0,0.0,0.0,0.0,0.0,0.0,0.0,0.0,0.0,0.0,0.0,0.0,0.0,0.0,0.0,0.0,0.0,0.0,0.0,0.0,0.0,0.0,0.0,0.0,0.0,0.0,0.0,0.0,0.0,0.0,0.0,0.0,0.0,0.0,0.0,0.0,0.0,0.0,0.0,0.0,0.0,0.0,0.0,0.0,0.0,0.0,0.0,0.0,0.0,0.0,0.0,0.0,0.0,0.0,0.0,0.0,0.0,0.0,0.0,0.0,0.0,0.0,0.0,0.0,0.0,0.0,0.0,0.0,0.0,0.0,0.0,0.0,0.0,0.0],\"y\":[0.014217445626854897,0.02394896373152733,0.027801042422652245,0.029937351122498512,0.04156346619129181,0.0441315658390522,0.04794701561331749,0.05045696347951889,0.05089298263192177,0.0515642985701561,0.05954565852880478,0.06772106885910034,0.06797553598880768,0.06814201921224594,0.07211612164974213,0.07819893956184387,0.07986520230770111,0.0804249569773674,0.08189161866903305,0.08462119847536087,0.08482806384563446,0.08729352056980133,0.09251175820827484,0.09437862783670425,0.09635230898857117,0.09968483448028564,0.0997808650135994,0.10006266087293625,0.1002173200249672,0.10111486911773682,0.10214453190565109,0.10480429232120514,0.10538914799690247,0.10646817088127136,0.10728438943624496,0.10802395641803741,0.10819287598133087,0.10875637084245682,0.1094244122505188,0.11107032746076584,0.11401651799678802,0.11647447943687439,0.1166405901312828,0.11856282502412796,0.12048172950744629,0.12197872251272202,0.1234063059091568,0.12354428321123123,0.12456224113702774,0.12996698915958405,0.130644291639328,0.13082179427146912,0.13332580029964447,0.13547846674919128,0.1367199867963791,0.13774874806404114,0.1396806687116623,0.139725923538208,0.14401152729988098,0.14412769675254822,0.1472732126712799,0.1498178094625473,0.1505236178636551,0.15216341614723206,0.15356723964214325,0.1537206918001175,0.15432971715927124,0.15435148775577545,0.15504655241966248,0.15730991959571838,0.1576627492904663,0.15874658524990082,0.1618868112564087,0.1627819538116455,0.16283901035785675,0.16302509605884552,0.16346287727355957,0.16433846950531006,0.16674531996250153,0.1689872294664383,0.17184892296791077,0.17428790032863617,0.17503327131271362,0.18007820844650269,0.18296246230602264,0.1838625967502594,0.19047054648399353,0.19064795970916748,0.19363725185394287,0.19888648390769958,0.20000037550926208,0.20128805935382843,0.2029760479927063,0.20919163525104523,0.2127024531364441,0.22651411592960358,0.26676180958747864,0.33699682354927063,0.35394734144210815],\"type\":\"scatter\"},{\"hoverinfo\":\"text\",\"hovertext\":[\"(0.27442750334739685, 1.2981085777282715)\",\"(0.2585517466068268, 0.30737024545669556)\",\"(0.2550830543041229, 0.3313405215740204)\",\"(0.22766052186489105, 0.24957695603370667)\",\"(0.21428322792053223, 0.26426857709884644)\",\"(0.2038537561893463, 0.21738003194332123)\",\"(0.17515423893928528, 0.19583189487457275)\",\"(0.16205759346485138, 0.19106246531009674)\",\"(0.12151111662387848, 0.12880903482437134)\"],\"mode\":\"markers\",\"name\":\"H1\",\"x\":[0.27442750334739685,0.2585517466068268,0.2550830543041229,0.22766052186489105,0.21428322792053223,0.2038537561893463,0.17515423893928528,0.16205759346485138,0.12151111662387848],\"y\":[1.2981085777282715,0.30737024545669556,0.3313405215740204,0.24957695603370667,0.26426857709884644,0.21738003194332123,0.19583189487457275,0.19106246531009674,0.12880903482437134],\"type\":\"scatter\"},{\"hoverinfo\":\"text\",\"hovertext\":[],\"mode\":\"markers\",\"name\":\"H2\",\"x\":[],\"y\":[],\"type\":\"scatter\"}],                        {\"template\":{\"data\":{\"histogram2dcontour\":[{\"type\":\"histogram2dcontour\",\"colorbar\":{\"outlinewidth\":0,\"ticks\":\"\"},\"colorscale\":[[0.0,\"#0d0887\"],[0.1111111111111111,\"#46039f\"],[0.2222222222222222,\"#7201a8\"],[0.3333333333333333,\"#9c179e\"],[0.4444444444444444,\"#bd3786\"],[0.5555555555555556,\"#d8576b\"],[0.6666666666666666,\"#ed7953\"],[0.7777777777777778,\"#fb9f3a\"],[0.8888888888888888,\"#fdca26\"],[1.0,\"#f0f921\"]]}],\"choropleth\":[{\"type\":\"choropleth\",\"colorbar\":{\"outlinewidth\":0,\"ticks\":\"\"}}],\"histogram2d\":[{\"type\":\"histogram2d\",\"colorbar\":{\"outlinewidth\":0,\"ticks\":\"\"},\"colorscale\":[[0.0,\"#0d0887\"],[0.1111111111111111,\"#46039f\"],[0.2222222222222222,\"#7201a8\"],[0.3333333333333333,\"#9c179e\"],[0.4444444444444444,\"#bd3786\"],[0.5555555555555556,\"#d8576b\"],[0.6666666666666666,\"#ed7953\"],[0.7777777777777778,\"#fb9f3a\"],[0.8888888888888888,\"#fdca26\"],[1.0,\"#f0f921\"]]}],\"heatmap\":[{\"type\":\"heatmap\",\"colorbar\":{\"outlinewidth\":0,\"ticks\":\"\"},\"colorscale\":[[0.0,\"#0d0887\"],[0.1111111111111111,\"#46039f\"],[0.2222222222222222,\"#7201a8\"],[0.3333333333333333,\"#9c179e\"],[0.4444444444444444,\"#bd3786\"],[0.5555555555555556,\"#d8576b\"],[0.6666666666666666,\"#ed7953\"],[0.7777777777777778,\"#fb9f3a\"],[0.8888888888888888,\"#fdca26\"],[1.0,\"#f0f921\"]]}],\"heatmapgl\":[{\"type\":\"heatmapgl\",\"colorbar\":{\"outlinewidth\":0,\"ticks\":\"\"},\"colorscale\":[[0.0,\"#0d0887\"],[0.1111111111111111,\"#46039f\"],[0.2222222222222222,\"#7201a8\"],[0.3333333333333333,\"#9c179e\"],[0.4444444444444444,\"#bd3786\"],[0.5555555555555556,\"#d8576b\"],[0.6666666666666666,\"#ed7953\"],[0.7777777777777778,\"#fb9f3a\"],[0.8888888888888888,\"#fdca26\"],[1.0,\"#f0f921\"]]}],\"contourcarpet\":[{\"type\":\"contourcarpet\",\"colorbar\":{\"outlinewidth\":0,\"ticks\":\"\"}}],\"contour\":[{\"type\":\"contour\",\"colorbar\":{\"outlinewidth\":0,\"ticks\":\"\"},\"colorscale\":[[0.0,\"#0d0887\"],[0.1111111111111111,\"#46039f\"],[0.2222222222222222,\"#7201a8\"],[0.3333333333333333,\"#9c179e\"],[0.4444444444444444,\"#bd3786\"],[0.5555555555555556,\"#d8576b\"],[0.6666666666666666,\"#ed7953\"],[0.7777777777777778,\"#fb9f3a\"],[0.8888888888888888,\"#fdca26\"],[1.0,\"#f0f921\"]]}],\"surface\":[{\"type\":\"surface\",\"colorbar\":{\"outlinewidth\":0,\"ticks\":\"\"},\"colorscale\":[[0.0,\"#0d0887\"],[0.1111111111111111,\"#46039f\"],[0.2222222222222222,\"#7201a8\"],[0.3333333333333333,\"#9c179e\"],[0.4444444444444444,\"#bd3786\"],[0.5555555555555556,\"#d8576b\"],[0.6666666666666666,\"#ed7953\"],[0.7777777777777778,\"#fb9f3a\"],[0.8888888888888888,\"#fdca26\"],[1.0,\"#f0f921\"]]}],\"mesh3d\":[{\"type\":\"mesh3d\",\"colorbar\":{\"outlinewidth\":0,\"ticks\":\"\"}}],\"scatter\":[{\"fillpattern\":{\"fillmode\":\"overlay\",\"size\":10,\"solidity\":0.2},\"type\":\"scatter\"}],\"parcoords\":[{\"type\":\"parcoords\",\"line\":{\"colorbar\":{\"outlinewidth\":0,\"ticks\":\"\"}}}],\"scatterpolargl\":[{\"type\":\"scatterpolargl\",\"marker\":{\"colorbar\":{\"outlinewidth\":0,\"ticks\":\"\"}}}],\"bar\":[{\"error_x\":{\"color\":\"#2a3f5f\"},\"error_y\":{\"color\":\"#2a3f5f\"},\"marker\":{\"line\":{\"color\":\"#E5ECF6\",\"width\":0.5},\"pattern\":{\"fillmode\":\"overlay\",\"size\":10,\"solidity\":0.2}},\"type\":\"bar\"}],\"scattergeo\":[{\"type\":\"scattergeo\",\"marker\":{\"colorbar\":{\"outlinewidth\":0,\"ticks\":\"\"}}}],\"scatterpolar\":[{\"type\":\"scatterpolar\",\"marker\":{\"colorbar\":{\"outlinewidth\":0,\"ticks\":\"\"}}}],\"histogram\":[{\"marker\":{\"pattern\":{\"fillmode\":\"overlay\",\"size\":10,\"solidity\":0.2}},\"type\":\"histogram\"}],\"scattergl\":[{\"type\":\"scattergl\",\"marker\":{\"colorbar\":{\"outlinewidth\":0,\"ticks\":\"\"}}}],\"scatter3d\":[{\"type\":\"scatter3d\",\"line\":{\"colorbar\":{\"outlinewidth\":0,\"ticks\":\"\"}},\"marker\":{\"colorbar\":{\"outlinewidth\":0,\"ticks\":\"\"}}}],\"scattermapbox\":[{\"type\":\"scattermapbox\",\"marker\":{\"colorbar\":{\"outlinewidth\":0,\"ticks\":\"\"}}}],\"scatterternary\":[{\"type\":\"scatterternary\",\"marker\":{\"colorbar\":{\"outlinewidth\":0,\"ticks\":\"\"}}}],\"scattercarpet\":[{\"type\":\"scattercarpet\",\"marker\":{\"colorbar\":{\"outlinewidth\":0,\"ticks\":\"\"}}}],\"carpet\":[{\"aaxis\":{\"endlinecolor\":\"#2a3f5f\",\"gridcolor\":\"white\",\"linecolor\":\"white\",\"minorgridcolor\":\"white\",\"startlinecolor\":\"#2a3f5f\"},\"baxis\":{\"endlinecolor\":\"#2a3f5f\",\"gridcolor\":\"white\",\"linecolor\":\"white\",\"minorgridcolor\":\"white\",\"startlinecolor\":\"#2a3f5f\"},\"type\":\"carpet\"}],\"table\":[{\"cells\":{\"fill\":{\"color\":\"#EBF0F8\"},\"line\":{\"color\":\"white\"}},\"header\":{\"fill\":{\"color\":\"#C8D4E3\"},\"line\":{\"color\":\"white\"}},\"type\":\"table\"}],\"barpolar\":[{\"marker\":{\"line\":{\"color\":\"#E5ECF6\",\"width\":0.5},\"pattern\":{\"fillmode\":\"overlay\",\"size\":10,\"solidity\":0.2}},\"type\":\"barpolar\"}],\"pie\":[{\"automargin\":true,\"type\":\"pie\"}]},\"layout\":{\"autotypenumbers\":\"strict\",\"colorway\":[\"#636efa\",\"#EF553B\",\"#00cc96\",\"#ab63fa\",\"#FFA15A\",\"#19d3f3\",\"#FF6692\",\"#B6E880\",\"#FF97FF\",\"#FECB52\"],\"font\":{\"color\":\"#2a3f5f\"},\"hovermode\":\"closest\",\"hoverlabel\":{\"align\":\"left\"},\"paper_bgcolor\":\"white\",\"plot_bgcolor\":\"#E5ECF6\",\"polar\":{\"bgcolor\":\"#E5ECF6\",\"angularaxis\":{\"gridcolor\":\"white\",\"linecolor\":\"white\",\"ticks\":\"\"},\"radialaxis\":{\"gridcolor\":\"white\",\"linecolor\":\"white\",\"ticks\":\"\"}},\"ternary\":{\"bgcolor\":\"#E5ECF6\",\"aaxis\":{\"gridcolor\":\"white\",\"linecolor\":\"white\",\"ticks\":\"\"},\"baxis\":{\"gridcolor\":\"white\",\"linecolor\":\"white\",\"ticks\":\"\"},\"caxis\":{\"gridcolor\":\"white\",\"linecolor\":\"white\",\"ticks\":\"\"}},\"coloraxis\":{\"colorbar\":{\"outlinewidth\":0,\"ticks\":\"\"}},\"colorscale\":{\"sequential\":[[0.0,\"#0d0887\"],[0.1111111111111111,\"#46039f\"],[0.2222222222222222,\"#7201a8\"],[0.3333333333333333,\"#9c179e\"],[0.4444444444444444,\"#bd3786\"],[0.5555555555555556,\"#d8576b\"],[0.6666666666666666,\"#ed7953\"],[0.7777777777777778,\"#fb9f3a\"],[0.8888888888888888,\"#fdca26\"],[1.0,\"#f0f921\"]],\"sequentialminus\":[[0.0,\"#0d0887\"],[0.1111111111111111,\"#46039f\"],[0.2222222222222222,\"#7201a8\"],[0.3333333333333333,\"#9c179e\"],[0.4444444444444444,\"#bd3786\"],[0.5555555555555556,\"#d8576b\"],[0.6666666666666666,\"#ed7953\"],[0.7777777777777778,\"#fb9f3a\"],[0.8888888888888888,\"#fdca26\"],[1.0,\"#f0f921\"]],\"diverging\":[[0,\"#8e0152\"],[0.1,\"#c51b7d\"],[0.2,\"#de77ae\"],[0.3,\"#f1b6da\"],[0.4,\"#fde0ef\"],[0.5,\"#f7f7f7\"],[0.6,\"#e6f5d0\"],[0.7,\"#b8e186\"],[0.8,\"#7fbc41\"],[0.9,\"#4d9221\"],[1,\"#276419\"]]},\"xaxis\":{\"gridcolor\":\"white\",\"linecolor\":\"white\",\"ticks\":\"\",\"title\":{\"standoff\":15},\"zerolinecolor\":\"white\",\"automargin\":true,\"zerolinewidth\":2},\"yaxis\":{\"gridcolor\":\"white\",\"linecolor\":\"white\",\"ticks\":\"\",\"title\":{\"standoff\":15},\"zerolinecolor\":\"white\",\"automargin\":true,\"zerolinewidth\":2},\"scene\":{\"xaxis\":{\"backgroundcolor\":\"#E5ECF6\",\"gridcolor\":\"white\",\"linecolor\":\"white\",\"showbackground\":true,\"ticks\":\"\",\"zerolinecolor\":\"white\",\"gridwidth\":2},\"yaxis\":{\"backgroundcolor\":\"#E5ECF6\",\"gridcolor\":\"white\",\"linecolor\":\"white\",\"showbackground\":true,\"ticks\":\"\",\"zerolinecolor\":\"white\",\"gridwidth\":2},\"zaxis\":{\"backgroundcolor\":\"#E5ECF6\",\"gridcolor\":\"white\",\"linecolor\":\"white\",\"showbackground\":true,\"ticks\":\"\",\"zerolinecolor\":\"white\",\"gridwidth\":2}},\"shapedefaults\":{\"line\":{\"color\":\"#2a3f5f\"}},\"annotationdefaults\":{\"arrowcolor\":\"#2a3f5f\",\"arrowhead\":0,\"arrowwidth\":1},\"geo\":{\"bgcolor\":\"white\",\"landcolor\":\"#E5ECF6\",\"subunitcolor\":\"white\",\"showland\":true,\"showlakes\":true,\"lakecolor\":\"white\"},\"title\":{\"x\":0.05},\"mapbox\":{\"style\":\"light\"}}},\"xaxis\":{\"title\":{\"text\":\"Birth\"},\"side\":\"bottom\",\"type\":\"linear\",\"range\":[-0.02596217155456543,1.324070749282837],\"autorange\":false,\"ticks\":\"outside\",\"showline\":true,\"zeroline\":true,\"linewidth\":1,\"linecolor\":\"black\",\"mirror\":false,\"showexponent\":\"all\",\"exponentformat\":\"e\"},\"yaxis\":{\"title\":{\"text\":\"Death\"},\"side\":\"left\",\"type\":\"linear\",\"range\":[-0.02596217155456543,1.324070749282837],\"autorange\":false,\"scaleanchor\":\"x\",\"scaleratio\":1,\"ticks\":\"outside\",\"showline\":true,\"zeroline\":true,\"linewidth\":1,\"linecolor\":\"black\",\"mirror\":false,\"showexponent\":\"all\",\"exponentformat\":\"e\"},\"width\":500,\"height\":500,\"plot_bgcolor\":\"white\"},                        {\"responsive\": true}                    ).then(function(){\n",
       "                            \n",
       "var gd = document.getElementById('172e5ab0-7de2-4e55-91cd-74eb37594182');\n",
       "var x = new MutationObserver(function (mutations, observer) {{\n",
       "        var display = window.getComputedStyle(gd).display;\n",
       "        if (!display || display === 'none') {{\n",
       "            console.log([gd, 'removed!']);\n",
       "            Plotly.purge(gd);\n",
       "            observer.disconnect();\n",
       "        }}\n",
       "}});\n",
       "\n",
       "// Listen for the removal of the full notebook cells\n",
       "var notebookContainer = gd.closest('#notebook-container');\n",
       "if (notebookContainer) {{\n",
       "    x.observe(notebookContainer, {childList: true});\n",
       "}}\n",
       "\n",
       "// Listen for the clearing of the current output cell\n",
       "var outputEl = gd.closest('.output');\n",
       "if (outputEl) {{\n",
       "    x.observe(outputEl, {childList: true});\n",
       "}}\n",
       "\n",
       "                        })                };                });            </script>        </div>"
      ]
     },
     "metadata": {},
     "output_type": "display_data"
    }
   ],
   "source": [
    "point_cloud_array = np.array([list(t) for t in point_cloud])\n",
    "\n",
    "persistence_diagram = persistence.fit_transform(point_cloud_array[None, :, :])\n",
    "persistence.plot(persistence_diagram)"
   ]
  },
  {
   "cell_type": "code",
   "execution_count": 101,
   "id": "4970b657-b16c-4202-af9b-8bc2bbe702bc",
   "metadata": {},
   "outputs": [
    {
     "data": {
      "text/plain": [
       "(-1.1007781713075617,\n",
       " 1.0999974280554317,\n",
       " -1.0993877985554392,\n",
       " 1.09174158930045)"
      ]
     },
     "execution_count": 101,
     "metadata": {},
     "output_type": "execute_result"
    },
    {
     "data": {
      "image/png": "[encoded data removed]",
      "text/plain": [
       "<Figure size 640x480 with 1 Axes>"
      ]
     },
     "metadata": {},
     "output_type": "display_data"
    }
   ],
   "source": [
    "point_cloud = [sample_point(radius=1, std = 0.001) for _ in range(100)]\n",
    "\n",
    "plt.scatter(*zip(*point_cloud), c=\"grey\")\n",
    "plt.gca().set_aspect('equal') # Set axes to equal scaling\n",
    "plt.axis('off')"
   ]
  },
  {
   "cell_type": "code",
   "execution_count": 102,
   "id": "3e6a59fc-2ad0-48c9-9d97-dd80e3e9b10c",
   "metadata": {},
   "outputs": [
    {
     "data": {
      "application/vnd.plotly.v1+json": {
       "config": {
        "plotlyServerURL": "https://plot.ly"
       },
       "data": [
        {
         "hoverinfo": "none",
         "line": {
          "color": "black",
          "dash": "dash",
          "width": 1
         },
         "mode": "lines",
         "showlegend": false,
         "type": "scatter",
         "x": [
          -0.035769608020782474,
          1.824250009059906
         ],
         "y": [
          -0.035769608020782474,
          1.824250009059906
         ]
        },
        {
         "hoverinfo": "text",
         "hovertext": [
          "(0.0, 0.0015441644936800003)",
          "(0.0, 0.0019936563912779093)",
          "(0.0, 0.002479755785316229)",
          "(0.0, 0.0025296821258962154)",
          "(0.0, 0.0027757983189076185)",
          "(0.0, 0.0032840685453265905)",
          "(0.0, 0.0034083034843206406)",
          "(0.0, 0.004045553505420685)",
          "(0.0, 0.004543816205114126)",
          "(0.0, 0.005628264509141445)",
          "(0.0, 0.0061560641042888165)",
          "(0.0, 0.006485851481556892)",
          "(0.0, 0.00881169456988573)",
          "(0.0, 0.00885713193565607)",
          "(0.0, 0.00886597391217947)",
          "(0.0, 0.008944790810346603)",
          "(0.0, 0.010808751918375492)",
          "(0.0, 0.011213209480047226)",
          "(0.0, 0.011218741536140442)",
          "(0.0, 0.011666243895888329)",
          "(0.0, 0.012535006739199162)",
          "(0.0, 0.013318769633769989)",
          "(0.0, 0.013813693076372147)",
          "(0.0, 0.014693495817482471)",
          "(0.0, 0.015142004936933517)",
          "(0.0, 0.01554808858782053)",
          "(0.0, 0.015836555510759354)",
          "(0.0, 0.016583194956183434)",
          "(0.0, 0.017489394173026085)",
          "(0.0, 0.01939333975315094)",
          "(0.0, 0.019763482734560966)",
          "(0.0, 0.019821295514702797)",
          "(0.0, 0.020185861736536026)",
          "(0.0, 0.02197383902966976)",
          "(0.0, 0.02227599360048771)",
          "(0.0, 0.023958250880241394)",
          "(0.0, 0.024534408003091812)",
          "(0.0, 0.02467220276594162)",
          "(0.0, 0.025258775800466537)",
          "(0.0, 0.026947693899273872)",
          "(0.0, 0.02702380158007145)",
          "(0.0, 0.027163110673427582)",
          "(0.0, 0.028402891010046005)",
          "(0.0, 0.03091604635119438)",
          "(0.0, 0.03321581333875656)",
          "(0.0, 0.03331930562853813)",
          "(0.0, 0.034661997109651566)",
          "(0.0, 0.03665878623723984)",
          "(0.0, 0.036773353815078735)",
          "(0.0, 0.03800112009048462)",
          "(0.0, 0.040783271193504333)",
          "(0.0, 0.041242245584726334)",
          "(0.0, 0.041722360998392105)",
          "(0.0, 0.04300128296017647)",
          "(0.0, 0.044462401419878006)",
          "(0.0, 0.04446538910269737)",
          "(0.0, 0.04521632939577103)",
          "(0.0, 0.04602286219596863)",
          "(0.0, 0.04835802689194679)",
          "(0.0, 0.05203239992260933)",
          "(0.0, 0.05304716154932976)",
          "(0.0, 0.055843908339738846)",
          "(0.0, 0.05749295651912689)",
          "(0.0, 0.05858296528458595)",
          "(0.0, 0.05943924933671951)",
          "(0.0, 0.05988878384232521)",
          "(0.0, 0.06028633192181587)",
          "(0.0, 0.06726859509944916)",
          "(0.0, 0.07033289223909378)",
          "(0.0, 0.07067987322807312)",
          "(0.0, 0.0762210339307785)",
          "(0.0, 0.077706478536129)",
          "(0.0, 0.07791510224342346)",
          "(0.0, 0.08078586310148239)",
          "(0.0, 0.08682607859373093)",
          "(0.0, 0.09197977930307388)",
          "(0.0, 0.0920141190290451)",
          "(0.0, 0.09224442392587662)",
          "(0.0, 0.09708172082901001)",
          "(0.0, 0.09807611256837845)",
          "(0.0, 0.10397306829690933)",
          "(0.0, 0.11047521978616714)",
          "(0.0, 0.11361441016197205)",
          "(0.0, 0.11816263198852539)",
          "(0.0, 0.13494430482387543)",
          "(0.0, 0.13705965876579285)",
          "(0.0, 0.1439182162284851)",
          "(0.0, 0.14893922209739685)",
          "(0.0, 0.15938399732112885)",
          "(0.0, 0.1626264452934265)",
          "(0.0, 0.17620119452476501)",
          "(0.0, 0.18091559410095215)",
          "(0.0, 0.1812620759010315)",
          "(0.0, 0.19316668808460236)",
          "(0.0, 0.19327020645141602)",
          "(0.0, 0.2085483968257904)",
          "(0.0, 0.2147316038608551)",
          "(0.0, 0.26004651188850403)",
          "(0.0, 0.2890729010105133)"
         ],
         "mode": "markers",
         "name": "H0",
         "type": "scatter",
         "x": [
          0,
          0,
          0,
          0,
          0,
          0,
          0,
          0,
          0,
          0,
          0,
          0,
          0,
          0,
          0,
          0,
          0,
          0,
          0,
          0,
          0,
          0,
          0,
          0,
          0,
          0,
          0,
          0,
          0,
          0,
          0,
          0,
          0,
          0,
          0,
          0,
          0,
          0,
          0,
          0,
          0,
          0,
          0,
          0,
          0,
          0,
          0,
          0,
          0,
          0,
          0,
          0,
          0,
          0,
          0,
          0,
          0,
          0,
          0,
          0,
          0,
          0,
          0,
          0,
          0,
          0,
          0,
          0,
          0,
          0,
          0,
          0,
          0,
          0,
          0,
          0,
          0,
          0,
          0,
          0,
          0,
          0,
          0,
          0,
          0,
          0,
          0,
          0,
          0,
          0,
          0,
          0,
          0,
          0,
          0,
          0,
          0,
          0,
          0
         ],
         "y": [
          0.0015441644936800003,
          0.0019936563912779093,
          0.002479755785316229,
          0.0025296821258962154,
          0.0027757983189076185,
          0.0032840685453265905,
          0.0034083034843206406,
          0.004045553505420685,
          0.004543816205114126,
          0.005628264509141445,
          0.0061560641042888165,
          0.006485851481556892,
          0.00881169456988573,
          0.00885713193565607,
          0.00886597391217947,
          0.008944790810346603,
          0.010808751918375492,
          0.011213209480047226,
          0.011218741536140442,
          0.011666243895888329,
          0.012535006739199162,
          0.013318769633769989,
          0.013813693076372147,
          0.014693495817482471,
          0.015142004936933517,
          0.01554808858782053,
          0.015836555510759354,
          0.016583194956183434,
          0.017489394173026085,
          0.01939333975315094,
          0.019763482734560966,
          0.019821295514702797,
          0.020185861736536026,
          0.02197383902966976,
          0.02227599360048771,
          0.023958250880241394,
          0.024534408003091812,
          0.02467220276594162,
          0.025258775800466537,
          0.026947693899273872,
          0.02702380158007145,
          0.027163110673427582,
          0.028402891010046005,
          0.03091604635119438,
          0.03321581333875656,
          0.03331930562853813,
          0.034661997109651566,
          0.03665878623723984,
          0.036773353815078735,
          0.03800112009048462,
          0.040783271193504333,
          0.041242245584726334,
          0.041722360998392105,
          0.04300128296017647,
          0.044462401419878006,
          0.04446538910269737,
          0.04521632939577103,
          0.04602286219596863,
          0.04835802689194679,
          0.05203239992260933,
          0.05304716154932976,
          0.055843908339738846,
          0.05749295651912689,
          0.05858296528458595,
          0.05943924933671951,
          0.05988878384232521,
          0.06028633192181587,
          0.06726859509944916,
          0.07033289223909378,
          0.07067987322807312,
          0.0762210339307785,
          0.077706478536129,
          0.07791510224342346,
          0.08078586310148239,
          0.08682607859373093,
          0.09197977930307388,
          0.0920141190290451,
          0.09224442392587662,
          0.09708172082901001,
          0.09807611256837845,
          0.10397306829690933,
          0.11047521978616714,
          0.11361441016197205,
          0.11816263198852539,
          0.13494430482387543,
          0.13705965876579285,
          0.1439182162284851,
          0.14893922209739685,
          0.15938399732112885,
          0.1626264452934265,
          0.17620119452476501,
          0.18091559410095215,
          0.1812620759010315,
          0.19316668808460236,
          0.19327020645141602,
          0.2085483968257904,
          0.2147316038608551,
          0.26004651188850403,
          0.2890729010105133
         ]
        },
        {
         "hoverinfo": "text",
         "hovertext": [
          "(0.2894592583179474, 1.7350833415985107)"
         ],
         "mode": "markers",
         "name": "H1",
         "type": "scatter",
         "x": [
          0.2894592583179474
         ],
         "y": [
          1.7350833415985107
         ]
        },
        {
         "hoverinfo": "text",
         "hovertext": [
          "(1.7667462825775146, 1.7704076766967773)",
          "(1.760947823524475, 1.7672650814056396)",
          "(1.7602760791778564, 1.7741286754608154)",
          "(1.7428096532821655, 1.7858847379684448)",
          "(1.7414803504943848, 1.7627015113830566)",
          "(1.7404769659042358, 1.7784324884414673)",
          "(1.7389816045761108, 1.7738304138183594)",
          "(1.738409399986267, 1.75764000415802)",
          "(1.7374731302261353, 1.7847636938095093)",
          "(1.7373143434524536, 1.7884804010391235)"
         ],
         "mode": "markers",
         "name": "H2",
         "type": "scatter",
         "x": [
          1.7667462825775146,
          1.760947823524475,
          1.7602760791778564,
          1.7428096532821655,
          1.7414803504943848,
          1.7404769659042358,
          1.7389816045761108,
          1.738409399986267,
          1.7374731302261353,
          1.7373143434524536
         ],
         "y": [
          1.7704076766967773,
          1.7672650814056396,
          1.7741286754608154,
          1.7858847379684448,
          1.7627015113830566,
          1.7784324884414673,
          1.7738304138183594,
          1.75764000415802,
          1.7847636938095093,
          1.7884804010391235
         ]
        }
       ],
       "layout": {
        "height": 500,
        "plot_bgcolor": "white",
        "template": {
         "data": {
          "bar": [
           {
            "error_x": {
             "color": "#2a3f5f"
            },
            "error_y": {
             "color": "#2a3f5f"
            },
            "marker": {
             "line": {
              "color": "#E5ECF6",
              "width": 0.5
             },
             "pattern": {
              "fillmode": "overlay",
              "size": 10,
              "solidity": 0.2
             }
            },
            "type": "bar"
           }
          ],
          "barpolar": [
           {
            "marker": {
             "line": {
              "color": "#E5ECF6",
              "width": 0.5
             },
             "pattern": {
              "fillmode": "overlay",
              "size": 10,
              "solidity": 0.2
             }
            },
            "type": "barpolar"
           }
          ],
          "carpet": [
           {
            "aaxis": {
             "endlinecolor": "#2a3f5f",
             "gridcolor": "white",
             "linecolor": "white",
             "minorgridcolor": "white",
             "startlinecolor": "#2a3f5f"
            },
            "baxis": {
             "endlinecolor": "#2a3f5f",
             "gridcolor": "white",
             "linecolor": "white",
             "minorgridcolor": "white",
             "startlinecolor": "#2a3f5f"
            },
            "type": "carpet"
           }
          ],
          "choropleth": [
           {
            "colorbar": {
             "outlinewidth": 0,
             "ticks": ""
            },
            "type": "choropleth"
           }
          ],
          "contour": [
           {
            "colorbar": {
             "outlinewidth": 0,
             "ticks": ""
            },
            "colorscale": [
             [
              0,
              "#0d0887"
             ],
             [
              0.1111111111111111,
              "#46039f"
             ],
             [
              0.2222222222222222,
              "#7201a8"
             ],
             [
              0.3333333333333333,
              "#9c179e"
             ],
             [
              0.4444444444444444,
              "#bd3786"
             ],
             [
              0.5555555555555556,
              "#d8576b"
             ],
             [
              0.6666666666666666,
              "#ed7953"
             ],
             [
              0.7777777777777778,
              "#fb9f3a"
             ],
             [
              0.8888888888888888,
              "#fdca26"
             ],
             [
              1,
              "#f0f921"
             ]
            ],
            "type": "contour"
           }
          ],
          "contourcarpet": [
           {
            "colorbar": {
             "outlinewidth": 0,
             "ticks": ""
            },
            "type": "contourcarpet"
           }
          ],
          "heatmap": [
           {
            "colorbar": {
             "outlinewidth": 0,
             "ticks": ""
            },
            "colorscale": [
             [
              0,
              "#0d0887"
             ],
             [
              0.1111111111111111,
              "#46039f"
             ],
             [
              0.2222222222222222,
              "#7201a8"
             ],
             [
              0.3333333333333333,
              "#9c179e"
             ],
             [
              0.4444444444444444,
              "#bd3786"
             ],
             [
              0.5555555555555556,
              "#d8576b"
             ],
             [
              0.6666666666666666,
              "#ed7953"
             ],
             [
              0.7777777777777778,
              "#fb9f3a"
             ],
             [
              0.8888888888888888,
              "#fdca26"
             ],
             [
              1,
              "#f0f921"
             ]
            ],
            "type": "heatmap"
           }
          ],
          "heatmapgl": [
           {
            "colorbar": {
             "outlinewidth": 0,
             "ticks": ""
            },
            "colorscale": [
             [
              0,
              "#0d0887"
             ],
             [
              0.1111111111111111,
              "#46039f"
             ],
             [
              0.2222222222222222,
              "#7201a8"
             ],
             [
              0.3333333333333333,
              "#9c179e"
             ],
             [
              0.4444444444444444,
              "#bd3786"
             ],
             [
              0.5555555555555556,
              "#d8576b"
             ],
             [
              0.6666666666666666,
              "#ed7953"
             ],
             [
              0.7777777777777778,
              "#fb9f3a"
             ],
             [
              0.8888888888888888,
              "#fdca26"
             ],
             [
              1,
              "#f0f921"
             ]
            ],
            "type": "heatmapgl"
           }
          ],
          "histogram": [
           {
            "marker": {
             "pattern": {
              "fillmode": "overlay",
              "size": 10,
              "solidity": 0.2
             }
            },
            "type": "histogram"
           }
          ],
          "histogram2d": [
           {
            "colorbar": {
             "outlinewidth": 0,
             "ticks": ""
            },
            "colorscale": [
             [
              0,
              "#0d0887"
             ],
             [
              0.1111111111111111,
              "#46039f"
             ],
             [
              0.2222222222222222,
              "#7201a8"
             ],
             [
              0.3333333333333333,
              "#9c179e"
             ],
             [
              0.4444444444444444,
              "#bd3786"
             ],
             [
              0.5555555555555556,
              "#d8576b"
             ],
             [
              0.6666666666666666,
              "#ed7953"
             ],
             [
              0.7777777777777778,
              "#fb9f3a"
             ],
             [
              0.8888888888888888,
              "#fdca26"
             ],
             [
              1,
              "#f0f921"
             ]
            ],
            "type": "histogram2d"
           }
          ],
          "histogram2dcontour": [
           {
            "colorbar": {
             "outlinewidth": 0,
             "ticks": ""
            },
            "colorscale": [
             [
              0,
              "#0d0887"
             ],
             [
              0.1111111111111111,
              "#46039f"
             ],
             [
              0.2222222222222222,
              "#7201a8"
             ],
             [
              0.3333333333333333,
              "#9c179e"
             ],
             [
              0.4444444444444444,
              "#bd3786"
             ],
             [
              0.5555555555555556,
              "#d8576b"
             ],
             [
              0.6666666666666666,
              "#ed7953"
             ],
             [
              0.7777777777777778,
              "#fb9f3a"
             ],
             [
              0.8888888888888888,
              "#fdca26"
             ],
             [
              1,
              "#f0f921"
             ]
            ],
            "type": "histogram2dcontour"
           }
          ],
          "mesh3d": [
           {
            "colorbar": {
             "outlinewidth": 0,
             "ticks": ""
            },
            "type": "mesh3d"
           }
          ],
          "parcoords": [
           {
            "line": {
             "colorbar": {
              "outlinewidth": 0,
              "ticks": ""
             }
            },
            "type": "parcoords"
           }
          ],
          "pie": [
           {
            "automargin": true,
            "type": "pie"
           }
          ],
          "scatter": [
           {
            "fillpattern": {
             "fillmode": "overlay",
             "size": 10,
             "solidity": 0.2
            },
            "type": "scatter"
           }
          ],
          "scatter3d": [
           {
            "line": {
             "colorbar": {
              "outlinewidth": 0,
              "ticks": ""
             }
            },
            "marker": {
             "colorbar": {
              "outlinewidth": 0,
              "ticks": ""
             }
            },
            "type": "scatter3d"
           }
          ],
          "scattercarpet": [
           {
            "marker": {
             "colorbar": {
              "outlinewidth": 0,
              "ticks": ""
             }
            },
            "type": "scattercarpet"
           }
          ],
          "scattergeo": [
           {
            "marker": {
             "colorbar": {
              "outlinewidth": 0,
              "ticks": ""
             }
            },
            "type": "scattergeo"
           }
          ],
          "scattergl": [
           {
            "marker": {
             "colorbar": {
              "outlinewidth": 0,
              "ticks": ""
             }
            },
            "type": "scattergl"
           }
          ],
          "scattermapbox": [
           {
            "marker": {
             "colorbar": {
              "outlinewidth": 0,
              "ticks": ""
             }
            },
            "type": "scattermapbox"
           }
          ],
          "scatterpolar": [
           {
            "marker": {
             "colorbar": {
              "outlinewidth": 0,
              "ticks": ""
             }
            },
            "type": "scatterpolar"
           }
          ],
          "scatterpolargl": [
           {
            "marker": {
             "colorbar": {
              "outlinewidth": 0,
              "ticks": ""
             }
            },
            "type": "scatterpolargl"
           }
          ],
          "scatterternary": [
           {
            "marker": {
             "colorbar": {
              "outlinewidth": 0,
              "ticks": ""
             }
            },
            "type": "scatterternary"
           }
          ],
          "surface": [
           {
            "colorbar": {
             "outlinewidth": 0,
             "ticks": ""
            },
            "colorscale": [
             [
              0,
              "#0d0887"
             ],
             [
              0.1111111111111111,
              "#46039f"
             ],
             [
              0.2222222222222222,
              "#7201a8"
             ],
             [
              0.3333333333333333,
              "#9c179e"
             ],
             [
              0.4444444444444444,
              "#bd3786"
             ],
             [
              0.5555555555555556,
              "#d8576b"
             ],
             [
              0.6666666666666666,
              "#ed7953"
             ],
             [
              0.7777777777777778,
              "#fb9f3a"
             ],
             [
              0.8888888888888888,
              "#fdca26"
             ],
             [
              1,
              "#f0f921"
             ]
            ],
            "type": "surface"
           }
          ],
          "table": [
           {
            "cells": {
             "fill": {
              "color": "#EBF0F8"
             },
             "line": {
              "color": "white"
             }
            },
            "header": {
             "fill": {
              "color": "#C8D4E3"
             },
             "line": {
              "color": "white"
             }
            },
            "type": "table"
           }
          ]
         },
         "layout": {
          "annotationdefaults": {
           "arrowcolor": "#2a3f5f",
           "arrowhead": 0,
           "arrowwidth": 1
          },
          "autotypenumbers": "strict",
          "coloraxis": {
           "colorbar": {
            "outlinewidth": 0,
            "ticks": ""
           }
          },
          "colorscale": {
           "diverging": [
            [
             0,
             "#8e0152"
            ],
            [
             0.1,
             "#c51b7d"
            ],
            [
             0.2,
             "#de77ae"
            ],
            [
             0.3,
             "#f1b6da"
            ],
            [
             0.4,
             "#fde0ef"
            ],
            [
             0.5,
             "#f7f7f7"
            ],
            [
             0.6,
             "#e6f5d0"
            ],
            [
             0.7,
             "#b8e186"
            ],
            [
             0.8,
             "#7fbc41"
            ],
            [
             0.9,
             "#4d9221"
            ],
            [
             1,
             "#276419"
            ]
           ],
           "sequential": [
            [
             0,
             "#0d0887"
            ],
            [
             0.1111111111111111,
             "#46039f"
            ],
            [
             0.2222222222222222,
             "#7201a8"
            ],
            [
             0.3333333333333333,
             "#9c179e"
            ],
            [
             0.4444444444444444,
             "#bd3786"
            ],
            [
             0.5555555555555556,
             "#d8576b"
            ],
            [
             0.6666666666666666,
             "#ed7953"
            ],
            [
             0.7777777777777778,
             "#fb9f3a"
            ],
            [
             0.8888888888888888,
             "#fdca26"
            ],
            [
             1,
             "#f0f921"
            ]
           ],
           "sequentialminus": [
            [
             0,
             "#0d0887"
            ],
            [
             0.1111111111111111,
             "#46039f"
            ],
            [
             0.2222222222222222,
             "#7201a8"
            ],
            [
             0.3333333333333333,
             "#9c179e"
            ],
            [
             0.4444444444444444,
             "#bd3786"
            ],
            [
             0.5555555555555556,
             "#d8576b"
            ],
            [
             0.6666666666666666,
             "#ed7953"
            ],
            [
             0.7777777777777778,
             "#fb9f3a"
            ],
            [
             0.8888888888888888,
             "#fdca26"
            ],
            [
             1,
             "#f0f921"
            ]
           ]
          },
          "colorway": [
           "#636efa",
           "#EF553B",
           "#00cc96",
           "#ab63fa",
           "#FFA15A",
           "#19d3f3",
           "#FF6692",
           "#B6E880",
           "#FF97FF",
           "#FECB52"
          ],
          "font": {
           "color": "#2a3f5f"
          },
          "geo": {
           "bgcolor": "white",
           "lakecolor": "white",
           "landcolor": "#E5ECF6",
           "showlakes": true,
           "showland": true,
           "subunitcolor": "white"
          },
          "hoverlabel": {
           "align": "left"
          },
          "hovermode": "closest",
          "mapbox": {
           "style": "light"
          },
          "paper_bgcolor": "white",
          "plot_bgcolor": "#E5ECF6",
          "polar": {
           "angularaxis": {
            "gridcolor": "white",
            "linecolor": "white",
            "ticks": ""
           },
           "bgcolor": "#E5ECF6",
           "radialaxis": {
            "gridcolor": "white",
            "linecolor": "white",
            "ticks": ""
           }
          },
          "scene": {
           "xaxis": {
            "backgroundcolor": "#E5ECF6",
            "gridcolor": "white",
            "gridwidth": 2,
            "linecolor": "white",
            "showbackground": true,
            "ticks": "",
            "zerolinecolor": "white"
           },
           "yaxis": {
            "backgroundcolor": "#E5ECF6",
            "gridcolor": "white",
            "gridwidth": 2,
            "linecolor": "white",
            "showbackground": true,
            "ticks": "",
            "zerolinecolor": "white"
           },
           "zaxis": {
            "backgroundcolor": "#E5ECF6",
            "gridcolor": "white",
            "gridwidth": 2,
            "linecolor": "white",
            "showbackground": true,
            "ticks": "",
            "zerolinecolor": "white"
           }
          },
          "shapedefaults": {
           "line": {
            "color": "#2a3f5f"
           }
          },
          "ternary": {
           "aaxis": {
            "gridcolor": "white",
            "linecolor": "white",
            "ticks": ""
           },
           "baxis": {
            "gridcolor": "white",
            "linecolor": "white",
            "ticks": ""
           },
           "bgcolor": "#E5ECF6",
           "caxis": {
            "gridcolor": "white",
            "linecolor": "white",
            "ticks": ""
           }
          },
          "title": {
           "x": 0.05
          },
          "xaxis": {
           "automargin": true,
           "gridcolor": "white",
           "linecolor": "white",
           "ticks": "",
           "title": {
            "standoff": 15
           },
           "zerolinecolor": "white",
           "zerolinewidth": 2
          },
          "yaxis": {
           "automargin": true,
           "gridcolor": "white",
           "linecolor": "white",
           "ticks": "",
           "title": {
            "standoff": 15
           },
           "zerolinecolor": "white",
           "zerolinewidth": 2
          }
         }
        },
        "width": 500,
        "xaxis": {
         "autorange": false,
         "domain": [
          0,
          1
         ],
         "exponentformat": "e",
         "linecolor": "black",
         "linewidth": 1,
         "mirror": false,
         "range": [
          -0.09098894040286531,
          1.879469341441989
         ],
         "showexponent": "all",
         "showline": true,
         "side": "bottom",
         "ticks": "outside",
         "title": {
          "text": "Birth"
         },
         "type": "linear",
         "zeroline": true
        },
        "yaxis": {
         "autorange": false,
         "domain": [
          0,
          1
         ],
         "exponentformat": "e",
         "linecolor": "black",
         "linewidth": 1,
         "mirror": false,
         "range": [
          -0.035769608020782474,
          1.824250009059906
         ],
         "scaleanchor": "x",
         "scaleratio": 1,
         "showexponent": "all",
         "showline": true,
         "side": "left",
         "ticks": "outside",
         "title": {
          "text": "Death"
         },
         "type": "linear",
         "zeroline": true
        }
       }
      },
      "image/png": "[encoded data removed]",
      "text/html": [
       "<div>                            <div id=\"5b6f8d6b-266b-4e34-99eb-633dbdf1b499\" class=\"plotly-graph-div\" style=\"height:500px; width:500px;\"></div>            <script type=\"text/javascript\">                require([\"plotly\"], function(Plotly) {                    window.PLOTLYENV=window.PLOTLYENV || {};                                    if (document.getElementById(\"5b6f8d6b-266b-4e34-99eb-633dbdf1b499\")) {                    Plotly.newPlot(                        \"5b6f8d6b-266b-4e34-99eb-633dbdf1b499\",                        [{\"hoverinfo\":\"none\",\"line\":{\"color\":\"black\",\"dash\":\"dash\",\"width\":1},\"mode\":\"lines\",\"showlegend\":false,\"x\":[-0.035769608020782474,1.824250009059906],\"y\":[-0.035769608020782474,1.824250009059906],\"type\":\"scatter\"},{\"hoverinfo\":\"text\",\"hovertext\":[\"(0.0, 0.0015441644936800003)\",\"(0.0, 0.0019936563912779093)\",\"(0.0, 0.002479755785316229)\",\"(0.0, 0.0025296821258962154)\",\"(0.0, 0.0027757983189076185)\",\"(0.0, 0.0032840685453265905)\",\"(0.0, 0.0034083034843206406)\",\"(0.0, 0.004045553505420685)\",\"(0.0, 0.004543816205114126)\",\"(0.0, 0.005628264509141445)\",\"(0.0, 0.0061560641042888165)\",\"(0.0, 0.006485851481556892)\",\"(0.0, 0.00881169456988573)\",\"(0.0, 0.00885713193565607)\",\"(0.0, 0.00886597391217947)\",\"(0.0, 0.008944790810346603)\",\"(0.0, 0.010808751918375492)\",\"(0.0, 0.011213209480047226)\",\"(0.0, 0.011218741536140442)\",\"(0.0, 0.011666243895888329)\",\"(0.0, 0.012535006739199162)\",\"(0.0, 0.013318769633769989)\",\"(0.0, 0.013813693076372147)\",\"(0.0, 0.014693495817482471)\",\"(0.0, 0.015142004936933517)\",\"(0.0, 0.01554808858782053)\",\"(0.0, 0.015836555510759354)\",\"(0.0, 0.016583194956183434)\",\"(0.0, 0.017489394173026085)\",\"(0.0, 0.01939333975315094)\",\"(0.0, 0.019763482734560966)\",\"(0.0, 0.019821295514702797)\",\"(0.0, 0.020185861736536026)\",\"(0.0, 0.02197383902966976)\",\"(0.0, 0.02227599360048771)\",\"(0.0, 0.023958250880241394)\",\"(0.0, 0.024534408003091812)\",\"(0.0, 0.02467220276594162)\",\"(0.0, 0.025258775800466537)\",\"(0.0, 0.026947693899273872)\",\"(0.0, 0.02702380158007145)\",\"(0.0, 0.027163110673427582)\",\"(0.0, 0.028402891010046005)\",\"(0.0, 0.03091604635119438)\",\"(0.0, 0.03321581333875656)\",\"(0.0, 0.03331930562853813)\",\"(0.0, 0.034661997109651566)\",\"(0.0, 0.03665878623723984)\",\"(0.0, 0.036773353815078735)\",\"(0.0, 0.03800112009048462)\",\"(0.0, 0.040783271193504333)\",\"(0.0, 0.041242245584726334)\",\"(0.0, 0.041722360998392105)\",\"(0.0, 0.04300128296017647)\",\"(0.0, 0.044462401419878006)\",\"(0.0, 0.04446538910269737)\",\"(0.0, 0.04521632939577103)\",\"(0.0, 0.04602286219596863)\",\"(0.0, 0.04835802689194679)\",\"(0.0, 0.05203239992260933)\",\"(0.0, 0.05304716154932976)\",\"(0.0, 0.055843908339738846)\",\"(0.0, 0.05749295651912689)\",\"(0.0, 0.05858296528458595)\",\"(0.0, 0.05943924933671951)\",\"(0.0, 0.05988878384232521)\",\"(0.0, 0.06028633192181587)\",\"(0.0, 0.06726859509944916)\",\"(0.0, 0.07033289223909378)\",\"(0.0, 0.07067987322807312)\",\"(0.0, 0.0762210339307785)\",\"(0.0, 0.077706478536129)\",\"(0.0, 0.07791510224342346)\",\"(0.0, 0.08078586310148239)\",\"(0.0, 0.08682607859373093)\",\"(0.0, 0.09197977930307388)\",\"(0.0, 0.0920141190290451)\",\"(0.0, 0.09224442392587662)\",\"(0.0, 0.09708172082901001)\",\"(0.0, 0.09807611256837845)\",\"(0.0, 0.10397306829690933)\",\"(0.0, 0.11047521978616714)\",\"(0.0, 0.11361441016197205)\",\"(0.0, 0.11816263198852539)\",\"(0.0, 0.13494430482387543)\",\"(0.0, 0.13705965876579285)\",\"(0.0, 0.1439182162284851)\",\"(0.0, 0.14893922209739685)\",\"(0.0, 0.15938399732112885)\",\"(0.0, 0.1626264452934265)\",\"(0.0, 0.17620119452476501)\",\"(0.0, 0.18091559410095215)\",\"(0.0, 0.1812620759010315)\",\"(0.0, 0.19316668808460236)\",\"(0.0, 0.19327020645141602)\",\"(0.0, 0.2085483968257904)\",\"(0.0, 0.2147316038608551)\",\"(0.0, 0.26004651188850403)\",\"(0.0, 0.2890729010105133)\"],\"mode\":\"markers\",\"name\":\"H0\",\"x\":[0.0,0.0,0.0,0.0,0.0,0.0,0.0,0.0,0.0,0.0,0.0,0.0,0.0,0.0,0.0,0.0,0.0,0.0,0.0,0.0,0.0,0.0,0.0,0.0,0.0,0.0,0.0,0.0,0.0,0.0,0.0,0.0,0.0,0.0,0.0,0.0,0.0,0.0,0.0,0.0,0.0,0.0,0.0,0.0,0.0,0.0,0.0,0.0,0.0,0.0,0.0,0.0,0.0,0.0,0.0,0.0,0.0,0.0,0.0,0.0,0.0,0.0,0.0,0.0,0.0,0.0,0.0,0.0,0.0,0.0,0.0,0.0,0.0,0.0,0.0,0.0,0.0,0.0,0.0,0.0,0.0,0.0,0.0,0.0,0.0,0.0,0.0,0.0,0.0,0.0,0.0,0.0,0.0,0.0,0.0,0.0,0.0,0.0,0.0],\"y\":[0.0015441644936800003,0.0019936563912779093,0.002479755785316229,0.0025296821258962154,0.0027757983189076185,0.0032840685453265905,0.0034083034843206406,0.004045553505420685,0.004543816205114126,0.005628264509141445,0.0061560641042888165,0.006485851481556892,0.00881169456988573,0.00885713193565607,0.00886597391217947,0.008944790810346603,0.010808751918375492,0.011213209480047226,0.011218741536140442,0.011666243895888329,0.012535006739199162,0.013318769633769989,0.013813693076372147,0.014693495817482471,0.015142004936933517,0.01554808858782053,0.015836555510759354,0.016583194956183434,0.017489394173026085,0.01939333975315094,0.019763482734560966,0.019821295514702797,0.020185861736536026,0.02197383902966976,0.02227599360048771,0.023958250880241394,0.024534408003091812,0.02467220276594162,0.025258775800466537,0.026947693899273872,0.02702380158007145,0.027163110673427582,0.028402891010046005,0.03091604635119438,0.03321581333875656,0.03331930562853813,0.034661997109651566,0.03665878623723984,0.036773353815078735,0.03800112009048462,0.040783271193504333,0.041242245584726334,0.041722360998392105,0.04300128296017647,0.044462401419878006,0.04446538910269737,0.04521632939577103,0.04602286219596863,0.04835802689194679,0.05203239992260933,0.05304716154932976,0.055843908339738846,0.05749295651912689,0.05858296528458595,0.05943924933671951,0.05988878384232521,0.06028633192181587,0.06726859509944916,0.07033289223909378,0.07067987322807312,0.0762210339307785,0.077706478536129,0.07791510224342346,0.08078586310148239,0.08682607859373093,0.09197977930307388,0.0920141190290451,0.09224442392587662,0.09708172082901001,0.09807611256837845,0.10397306829690933,0.11047521978616714,0.11361441016197205,0.11816263198852539,0.13494430482387543,0.13705965876579285,0.1439182162284851,0.14893922209739685,0.15938399732112885,0.1626264452934265,0.17620119452476501,0.18091559410095215,0.1812620759010315,0.19316668808460236,0.19327020645141602,0.2085483968257904,0.2147316038608551,0.26004651188850403,0.2890729010105133],\"type\":\"scatter\"},{\"hoverinfo\":\"text\",\"hovertext\":[\"(0.2894592583179474, 1.7350833415985107)\"],\"mode\":\"markers\",\"name\":\"H1\",\"x\":[0.2894592583179474],\"y\":[1.7350833415985107],\"type\":\"scatter\"},{\"hoverinfo\":\"text\",\"hovertext\":[\"(1.7667462825775146, 1.7704076766967773)\",\"(1.760947823524475, 1.7672650814056396)\",\"(1.7602760791778564, 1.7741286754608154)\",\"(1.7428096532821655, 1.7858847379684448)\",\"(1.7414803504943848, 1.7627015113830566)\",\"(1.7404769659042358, 1.7784324884414673)\",\"(1.7389816045761108, 1.7738304138183594)\",\"(1.738409399986267, 1.75764000415802)\",\"(1.7374731302261353, 1.7847636938095093)\",\"(1.7373143434524536, 1.7884804010391235)\"],\"mode\":\"markers\",\"name\":\"H2\",\"x\":[1.7667462825775146,1.760947823524475,1.7602760791778564,1.7428096532821655,1.7414803504943848,1.7404769659042358,1.7389816045761108,1.738409399986267,1.7374731302261353,1.7373143434524536],\"y\":[1.7704076766967773,1.7672650814056396,1.7741286754608154,1.7858847379684448,1.7627015113830566,1.7784324884414673,1.7738304138183594,1.75764000415802,1.7847636938095093,1.7884804010391235],\"type\":\"scatter\"}],                        {\"template\":{\"data\":{\"histogram2dcontour\":[{\"type\":\"histogram2dcontour\",\"colorbar\":{\"outlinewidth\":0,\"ticks\":\"\"},\"colorscale\":[[0.0,\"#0d0887\"],[0.1111111111111111,\"#46039f\"],[0.2222222222222222,\"#7201a8\"],[0.3333333333333333,\"#9c179e\"],[0.4444444444444444,\"#bd3786\"],[0.5555555555555556,\"#d8576b\"],[0.6666666666666666,\"#ed7953\"],[0.7777777777777778,\"#fb9f3a\"],[0.8888888888888888,\"#fdca26\"],[1.0,\"#f0f921\"]]}],\"choropleth\":[{\"type\":\"choropleth\",\"colorbar\":{\"outlinewidth\":0,\"ticks\":\"\"}}],\"histogram2d\":[{\"type\":\"histogram2d\",\"colorbar\":{\"outlinewidth\":0,\"ticks\":\"\"},\"colorscale\":[[0.0,\"#0d0887\"],[0.1111111111111111,\"#46039f\"],[0.2222222222222222,\"#7201a8\"],[0.3333333333333333,\"#9c179e\"],[0.4444444444444444,\"#bd3786\"],[0.5555555555555556,\"#d8576b\"],[0.6666666666666666,\"#ed7953\"],[0.7777777777777778,\"#fb9f3a\"],[0.8888888888888888,\"#fdca26\"],[1.0,\"#f0f921\"]]}],\"heatmap\":[{\"type\":\"heatmap\",\"colorbar\":{\"outlinewidth\":0,\"ticks\":\"\"},\"colorscale\":[[0.0,\"#0d0887\"],[0.1111111111111111,\"#46039f\"],[0.2222222222222222,\"#7201a8\"],[0.3333333333333333,\"#9c179e\"],[0.4444444444444444,\"#bd3786\"],[0.5555555555555556,\"#d8576b\"],[0.6666666666666666,\"#ed7953\"],[0.7777777777777778,\"#fb9f3a\"],[0.8888888888888888,\"#fdca26\"],[1.0,\"#f0f921\"]]}],\"heatmapgl\":[{\"type\":\"heatmapgl\",\"colorbar\":{\"outlinewidth\":0,\"ticks\":\"\"},\"colorscale\":[[0.0,\"#0d0887\"],[0.1111111111111111,\"#46039f\"],[0.2222222222222222,\"#7201a8\"],[0.3333333333333333,\"#9c179e\"],[0.4444444444444444,\"#bd3786\"],[0.5555555555555556,\"#d8576b\"],[0.6666666666666666,\"#ed7953\"],[0.7777777777777778,\"#fb9f3a\"],[0.8888888888888888,\"#fdca26\"],[1.0,\"#f0f921\"]]}],\"contourcarpet\":[{\"type\":\"contourcarpet\",\"colorbar\":{\"outlinewidth\":0,\"ticks\":\"\"}}],\"contour\":[{\"type\":\"contour\",\"colorbar\":{\"outlinewidth\":0,\"ticks\":\"\"},\"colorscale\":[[0.0,\"#0d0887\"],[0.1111111111111111,\"#46039f\"],[0.2222222222222222,\"#7201a8\"],[0.3333333333333333,\"#9c179e\"],[0.4444444444444444,\"#bd3786\"],[0.5555555555555556,\"#d8576b\"],[0.6666666666666666,\"#ed7953\"],[0.7777777777777778,\"#fb9f3a\"],[0.8888888888888888,\"#fdca26\"],[1.0,\"#f0f921\"]]}],\"surface\":[{\"type\":\"surface\",\"colorbar\":{\"outlinewidth\":0,\"ticks\":\"\"},\"colorscale\":[[0.0,\"#0d0887\"],[0.1111111111111111,\"#46039f\"],[0.2222222222222222,\"#7201a8\"],[0.3333333333333333,\"#9c179e\"],[0.4444444444444444,\"#bd3786\"],[0.5555555555555556,\"#d8576b\"],[0.6666666666666666,\"#ed7953\"],[0.7777777777777778,\"#fb9f3a\"],[0.8888888888888888,\"#fdca26\"],[1.0,\"#f0f921\"]]}],\"mesh3d\":[{\"type\":\"mesh3d\",\"colorbar\":{\"outlinewidth\":0,\"ticks\":\"\"}}],\"scatter\":[{\"fillpattern\":{\"fillmode\":\"overlay\",\"size\":10,\"solidity\":0.2},\"type\":\"scatter\"}],\"parcoords\":[{\"type\":\"parcoords\",\"line\":{\"colorbar\":{\"outlinewidth\":0,\"ticks\":\"\"}}}],\"scatterpolargl\":[{\"type\":\"scatterpolargl\",\"marker\":{\"colorbar\":{\"outlinewidth\":0,\"ticks\":\"\"}}}],\"bar\":[{\"error_x\":{\"color\":\"#2a3f5f\"},\"error_y\":{\"color\":\"#2a3f5f\"},\"marker\":{\"line\":{\"color\":\"#E5ECF6\",\"width\":0.5},\"pattern\":{\"fillmode\":\"overlay\",\"size\":10,\"solidity\":0.2}},\"type\":\"bar\"}],\"scattergeo\":[{\"type\":\"scattergeo\",\"marker\":{\"colorbar\":{\"outlinewidth\":0,\"ticks\":\"\"}}}],\"scatterpolar\":[{\"type\":\"scatterpolar\",\"marker\":{\"colorbar\":{\"outlinewidth\":0,\"ticks\":\"\"}}}],\"histogram\":[{\"marker\":{\"pattern\":{\"fillmode\":\"overlay\",\"size\":10,\"solidity\":0.2}},\"type\":\"histogram\"}],\"scattergl\":[{\"type\":\"scattergl\",\"marker\":{\"colorbar\":{\"outlinewidth\":0,\"ticks\":\"\"}}}],\"scatter3d\":[{\"type\":\"scatter3d\",\"line\":{\"colorbar\":{\"outlinewidth\":0,\"ticks\":\"\"}},\"marker\":{\"colorbar\":{\"outlinewidth\":0,\"ticks\":\"\"}}}],\"scattermapbox\":[{\"type\":\"scattermapbox\",\"marker\":{\"colorbar\":{\"outlinewidth\":0,\"ticks\":\"\"}}}],\"scatterternary\":[{\"type\":\"scatterternary\",\"marker\":{\"colorbar\":{\"outlinewidth\":0,\"ticks\":\"\"}}}],\"scattercarpet\":[{\"type\":\"scattercarpet\",\"marker\":{\"colorbar\":{\"outlinewidth\":0,\"ticks\":\"\"}}}],\"carpet\":[{\"aaxis\":{\"endlinecolor\":\"#2a3f5f\",\"gridcolor\":\"white\",\"linecolor\":\"white\",\"minorgridcolor\":\"white\",\"startlinecolor\":\"#2a3f5f\"},\"baxis\":{\"endlinecolor\":\"#2a3f5f\",\"gridcolor\":\"white\",\"linecolor\":\"white\",\"minorgridcolor\":\"white\",\"startlinecolor\":\"#2a3f5f\"},\"type\":\"carpet\"}],\"table\":[{\"cells\":{\"fill\":{\"color\":\"#EBF0F8\"},\"line\":{\"color\":\"white\"}},\"header\":{\"fill\":{\"color\":\"#C8D4E3\"},\"line\":{\"color\":\"white\"}},\"type\":\"table\"}],\"barpolar\":[{\"marker\":{\"line\":{\"color\":\"#E5ECF6\",\"width\":0.5},\"pattern\":{\"fillmode\":\"overlay\",\"size\":10,\"solidity\":0.2}},\"type\":\"barpolar\"}],\"pie\":[{\"automargin\":true,\"type\":\"pie\"}]},\"layout\":{\"autotypenumbers\":\"strict\",\"colorway\":[\"#636efa\",\"#EF553B\",\"#00cc96\",\"#ab63fa\",\"#FFA15A\",\"#19d3f3\",\"#FF6692\",\"#B6E880\",\"#FF97FF\",\"#FECB52\"],\"font\":{\"color\":\"#2a3f5f\"},\"hovermode\":\"closest\",\"hoverlabel\":{\"align\":\"left\"},\"paper_bgcolor\":\"white\",\"plot_bgcolor\":\"#E5ECF6\",\"polar\":{\"bgcolor\":\"#E5ECF6\",\"angularaxis\":{\"gridcolor\":\"white\",\"linecolor\":\"white\",\"ticks\":\"\"},\"radialaxis\":{\"gridcolor\":\"white\",\"linecolor\":\"white\",\"ticks\":\"\"}},\"ternary\":{\"bgcolor\":\"#E5ECF6\",\"aaxis\":{\"gridcolor\":\"white\",\"linecolor\":\"white\",\"ticks\":\"\"},\"baxis\":{\"gridcolor\":\"white\",\"linecolor\":\"white\",\"ticks\":\"\"},\"caxis\":{\"gridcolor\":\"white\",\"linecolor\":\"white\",\"ticks\":\"\"}},\"coloraxis\":{\"colorbar\":{\"outlinewidth\":0,\"ticks\":\"\"}},\"colorscale\":{\"sequential\":[[0.0,\"#0d0887\"],[0.1111111111111111,\"#46039f\"],[0.2222222222222222,\"#7201a8\"],[0.3333333333333333,\"#9c179e\"],[0.4444444444444444,\"#bd3786\"],[0.5555555555555556,\"#d8576b\"],[0.6666666666666666,\"#ed7953\"],[0.7777777777777778,\"#fb9f3a\"],[0.8888888888888888,\"#fdca26\"],[1.0,\"#f0f921\"]],\"sequentialminus\":[[0.0,\"#0d0887\"],[0.1111111111111111,\"#46039f\"],[0.2222222222222222,\"#7201a8\"],[0.3333333333333333,\"#9c179e\"],[0.4444444444444444,\"#bd3786\"],[0.5555555555555556,\"#d8576b\"],[0.6666666666666666,\"#ed7953\"],[0.7777777777777778,\"#fb9f3a\"],[0.8888888888888888,\"#fdca26\"],[1.0,\"#f0f921\"]],\"diverging\":[[0,\"#8e0152\"],[0.1,\"#c51b7d\"],[0.2,\"#de77ae\"],[0.3,\"#f1b6da\"],[0.4,\"#fde0ef\"],[0.5,\"#f7f7f7\"],[0.6,\"#e6f5d0\"],[0.7,\"#b8e186\"],[0.8,\"#7fbc41\"],[0.9,\"#4d9221\"],[1,\"#276419\"]]},\"xaxis\":{\"gridcolor\":\"white\",\"linecolor\":\"white\",\"ticks\":\"\",\"title\":{\"standoff\":15},\"zerolinecolor\":\"white\",\"automargin\":true,\"zerolinewidth\":2},\"yaxis\":{\"gridcolor\":\"white\",\"linecolor\":\"white\",\"ticks\":\"\",\"title\":{\"standoff\":15},\"zerolinecolor\":\"white\",\"automargin\":true,\"zerolinewidth\":2},\"scene\":{\"xaxis\":{\"backgroundcolor\":\"#E5ECF6\",\"gridcolor\":\"white\",\"linecolor\":\"white\",\"showbackground\":true,\"ticks\":\"\",\"zerolinecolor\":\"white\",\"gridwidth\":2},\"yaxis\":{\"backgroundcolor\":\"#E5ECF6\",\"gridcolor\":\"white\",\"linecolor\":\"white\",\"showbackground\":true,\"ticks\":\"\",\"zerolinecolor\":\"white\",\"gridwidth\":2},\"zaxis\":{\"backgroundcolor\":\"#E5ECF6\",\"gridcolor\":\"white\",\"linecolor\":\"white\",\"showbackground\":true,\"ticks\":\"\",\"zerolinecolor\":\"white\",\"gridwidth\":2}},\"shapedefaults\":{\"line\":{\"color\":\"#2a3f5f\"}},\"annotationdefaults\":{\"arrowcolor\":\"#2a3f5f\",\"arrowhead\":0,\"arrowwidth\":1},\"geo\":{\"bgcolor\":\"white\",\"landcolor\":\"#E5ECF6\",\"subunitcolor\":\"white\",\"showland\":true,\"showlakes\":true,\"lakecolor\":\"white\"},\"title\":{\"x\":0.05},\"mapbox\":{\"style\":\"light\"}}},\"xaxis\":{\"title\":{\"text\":\"Birth\"},\"side\":\"bottom\",\"type\":\"linear\",\"range\":[-0.035769608020782474,1.824250009059906],\"autorange\":false,\"ticks\":\"outside\",\"showline\":true,\"zeroline\":true,\"linewidth\":1,\"linecolor\":\"black\",\"mirror\":false,\"showexponent\":\"all\",\"exponentformat\":\"e\"},\"yaxis\":{\"title\":{\"text\":\"Death\"},\"side\":\"left\",\"type\":\"linear\",\"range\":[-0.035769608020782474,1.824250009059906],\"autorange\":false,\"scaleanchor\":\"x\",\"scaleratio\":1,\"ticks\":\"outside\",\"showline\":true,\"zeroline\":true,\"linewidth\":1,\"linecolor\":\"black\",\"mirror\":false,\"showexponent\":\"all\",\"exponentformat\":\"e\"},\"width\":500,\"height\":500,\"plot_bgcolor\":\"white\"},                        {\"responsive\": true}                    ).then(function(){\n",
       "                            \n",
       "var gd = document.getElementById('5b6f8d6b-266b-4e34-99eb-633dbdf1b499');\n",
       "var x = new MutationObserver(function (mutations, observer) {{\n",
       "        var display = window.getComputedStyle(gd).display;\n",
       "        if (!display || display === 'none') {{\n",
       "            console.log([gd, 'removed!']);\n",
       "            Plotly.purge(gd);\n",
       "            observer.disconnect();\n",
       "        }}\n",
       "}});\n",
       "\n",
       "// Listen for the removal of the full notebook cells\n",
       "var notebookContainer = gd.closest('#notebook-container');\n",
       "if (notebookContainer) {{\n",
       "    x.observe(notebookContainer, {childList: true});\n",
       "}}\n",
       "\n",
       "// Listen for the clearing of the current output cell\n",
       "var outputEl = gd.closest('.output');\n",
       "if (outputEl) {{\n",
       "    x.observe(outputEl, {childList: true});\n",
       "}}\n",
       "\n",
       "                        })                };                });            </script>        </div>"
      ]
     },
     "metadata": {},
     "output_type": "display_data"
    }
   ],
   "source": [
    "point_cloud_array = np.array([list(t) for t in point_cloud])\n",
    "\n",
    "persistence_diagram = persistence.fit_transform(point_cloud_array[None, :, :])\n",
    "persistence.plot(persistence_diagram)"
   ]
  },
  {
   "cell_type": "code",
   "execution_count": null,
   "id": "2455c6d1-6651-4755-9747-c42569110326",
   "metadata": {},
   "outputs": [],
   "source": []
  },
  {
   "cell_type": "code",
   "execution_count": null,
   "id": "00d8df91-7b10-4527-a5a6-642193bb1204",
   "metadata": {},
   "outputs": [],
   "source": []
  }
 ],
 "metadata": {
  "kernelspec": {
   "display_name": "Python 3 (ipykernel)",
   "language": "python",
   "name": "python3"
  },
  "language_info": {
   "codemirror_mode": {
    "name": "ipython",
    "version": 3
   },
   "file_extension": ".py",
   "mimetype": "text/x-python",
   "name": "python",
   "nbconvert_exporter": "python",
   "pygments_lexer": "ipython3",
   "version": "3.10.12"
  }
 },
 "nbformat": 4,
 "nbformat_minor": 5
}
