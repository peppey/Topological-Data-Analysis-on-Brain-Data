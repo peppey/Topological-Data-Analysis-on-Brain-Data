{
 "cells": [
  {
   "cell_type": "code",
   "execution_count": 120,
   "id": "0a81b9c9-a2e9-46c2-8ae8-4a5f02dd0571",
   "metadata": {},
   "outputs": [],
   "source": [
    "import matplotlib.pyplot as plt\n",
    "from math import pi, cos, sin\n",
    "from random import random\n",
    "import numpy as np\n",
    "from gtda.homology import VietorisRipsPersistence\n",
    "from gtda.diagrams import PersistenceEntropy, Amplitude, NumberOfPoints, ComplexPolynomial, PersistenceLandscape, HeatKernel, Silhouette, BettiCurve, PairwiseDistance, ForgetDimension\n",
    "from gtda.plotting import plot_point_cloud, plot_heatmap, plot_diagram\n",
    "\n"
   ]
  },
  {
   "cell_type": "markdown",
   "id": "5c7635cb-140e-4421-b8c1-dba715979701",
   "metadata": {},
   "source": [
    "# Persistence Diagrams for Circles with different noise"
   ]
  },
  {
   "cell_type": "code",
   "execution_count": 121,
   "id": "a07c40b2-2f03-4c67-b4f7-379232520aeb",
   "metadata": {},
   "outputs": [],
   "source": [
    "def sample_point(radius, std = 0.05):\n",
    "    theta = random() * 2 * pi\n",
    "    noise = [np.random.normal(0, std),np.random.normal(0, std)]\n",
    "    return cos(theta) * radius + noise[0], sin(theta) * radius + noise[1]"
   ]
  },
  {
   "cell_type": "code",
   "execution_count": 138,
   "id": "61b61695-3b4d-4c7f-8c5f-5fc2702c5b40",
   "metadata": {},
   "outputs": [
    {
     "data": {
      "image/png": "[encoded data removed]",
      "text/plain": [
       "<Figure size 640x480 with 1 Axes>"
      ]
     },
     "metadata": {},
     "output_type": "display_data"
    }
   ],
   "source": [
    "# Very little noise\n",
    "point_cloud = [sample_point(radius=1, std = 0.001) for _ in range(100)]\n",
    "\n",
    "plt.scatter(*zip(*point_cloud), c=\"grey\")\n",
    "plt.gca().set_aspect('equal') # Set axes to equal scaling\n",
    "plt.axis('off')\n",
    "plt.savefig(\"Little_noise.png\")\n",
    "plt.show()"
   ]
  },
  {
   "cell_type": "code",
   "execution_count": 139,
   "id": "2401965c-b159-4b12-9c08-02e89fd39713",
   "metadata": {},
   "outputs": [],
   "source": [
    "homology_dimensions = [0, 1, 2]\n",
    "\n",
    "# We will use a Vietoris Rips filtrations\n",
    "persistence = VietorisRipsPersistence(\n",
    "    homology_dimensions=homology_dimensions, n_jobs=10\n",
    ")\n",
    "\n",
    "point_cloud_array = np.array([list(t) for t in point_cloud])\n",
    "\n",
    "persistence_diagram1 = persistence.fit_transform(point_cloud_array[None, :, :])"
   ]
  },
  {
   "cell_type": "code",
   "execution_count": 140,
   "id": "0bdee75f-3374-4253-af8e-d7fb9adb7691",
   "metadata": {},
   "outputs": [
    {
     "data": {
      "application/vnd.plotly.v1+json": {
       "config": {
        "plotlyServerURL": "https://plot.ly"
       },
       "data": [
        {
         "hoverinfo": "none",
         "line": {
          "color": "black",
          "dash": "dash",
          "width": 1
         },
         "mode": "lines",
         "showlegend": false,
         "type": "scatter",
         "x": [
          -0.03605357646942139,
          1.8387323999404908
         ],
         "y": [
          -0.03605357646942139,
          1.8387323999404908
         ]
        },
        {
         "hoverinfo": "text",
         "hovertext": [
          "(0.0, 0.00027327347197569907)",
          "(0.0, 0.002466935431584716)",
          "(0.0, 0.002727152779698372)",
          "(0.0, 0.0029624749440699816)",
          "(0.0, 0.0030390399042516947)",
          "(0.0, 0.0033242751378566027)",
          "(0.0, 0.0052439370192587376)",
          "(0.0, 0.005536668002605438)",
          "(0.0, 0.006029875949025154)",
          "(0.0, 0.006234669126570225)",
          "(0.0, 0.006559353321790695)",
          "(0.0, 0.006800294853746891)",
          "(0.0, 0.007774446625262499)",
          "(0.0, 0.0086669297888875)",
          "(0.0, 0.009361529722809792)",
          "(0.0, 0.011521603912115097)",
          "(0.0, 0.011823054403066635)",
          "(0.0, 0.012186214327812195)",
          "(0.0, 0.01367582380771637)",
          "(0.0, 0.014305288903415203)",
          "(0.0, 0.014397786930203438)",
          "(0.0, 0.015601112507283688)",
          "(0.0, 0.016394026577472687)",
          "(0.0, 0.019123723730444908)",
          "(0.0, 0.0192549005150795)",
          "(0.0, 0.019326917827129364)",
          "(0.0, 0.019388653337955475)",
          "(0.0, 0.020087797194719315)",
          "(0.0, 0.020532673224806786)",
          "(0.0, 0.0211419016122818)",
          "(0.0, 0.02117203176021576)",
          "(0.0, 0.022512638941407204)",
          "(0.0, 0.024425745010375977)",
          "(0.0, 0.02520602010190487)",
          "(0.0, 0.026721538975834846)",
          "(0.0, 0.029733506962656975)",
          "(0.0, 0.030667901039123535)",
          "(0.0, 0.032078009098768234)",
          "(0.0, 0.03210214152932167)",
          "(0.0, 0.034135229885578156)",
          "(0.0, 0.03685411810874939)",
          "(0.0, 0.038670897483825684)",
          "(0.0, 0.03978936746716499)",
          "(0.0, 0.040033143013715744)",
          "(0.0, 0.04074955731630325)",
          "(0.0, 0.044863827526569366)",
          "(0.0, 0.04549972712993622)",
          "(0.0, 0.045808129012584686)",
          "(0.0, 0.046106621623039246)",
          "(0.0, 0.04646424204111099)",
          "(0.0, 0.04678547382354736)",
          "(0.0, 0.04714586213231087)",
          "(0.0, 0.048346374183893204)",
          "(0.0, 0.04838310927152634)",
          "(0.0, 0.05030067265033722)",
          "(0.0, 0.05131920054554939)",
          "(0.0, 0.052773911505937576)",
          "(0.0, 0.05590057373046875)",
          "(0.0, 0.05633118748664856)",
          "(0.0, 0.05685361847281456)",
          "(0.0, 0.05700131878256798)",
          "(0.0, 0.0616484209895134)",
          "(0.0, 0.06194720044732094)",
          "(0.0, 0.06362274289131165)",
          "(0.0, 0.06403937190771103)",
          "(0.0, 0.06610831618309021)",
          "(0.0, 0.06819059699773788)",
          "(0.0, 0.0695173591375351)",
          "(0.0, 0.07085192948579788)",
          "(0.0, 0.07094689458608627)",
          "(0.0, 0.0714607983827591)",
          "(0.0, 0.07174408435821533)",
          "(0.0, 0.07406934350728989)",
          "(0.0, 0.07439419627189636)",
          "(0.0, 0.07706433534622192)",
          "(0.0, 0.07887280732393265)",
          "(0.0, 0.07974278181791306)",
          "(0.0, 0.08276024460792542)",
          "(0.0, 0.08494279533624649)",
          "(0.0, 0.0849636048078537)",
          "(0.0, 0.08591935783624649)",
          "(0.0, 0.08955415338277817)",
          "(0.0, 0.09675662964582443)",
          "(0.0, 0.10010173916816711)",
          "(0.0, 0.10375084728002548)",
          "(0.0, 0.10468500852584839)",
          "(0.0, 0.10702939331531525)",
          "(0.0, 0.10992590337991714)",
          "(0.0, 0.138958141207695)",
          "(0.0, 0.14043790102005005)",
          "(0.0, 0.1489187777042389)",
          "(0.0, 0.14948095381259918)",
          "(0.0, 0.1907041072845459)",
          "(0.0, 0.19079354405403137)",
          "(0.0, 0.19211752712726593)",
          "(0.0, 0.1992948055267334)",
          "(0.0, 0.24137786030769348)",
          "(0.0, 0.26710695028305054)",
          "(0.0, 0.27788618206977844)"
         ],
         "mode": "markers",
         "name": "H0",
         "type": "scatter",
         "x": [
          0,
          0,
          0,
          0,
          0,
          0,
          0,
          0,
          0,
          0,
          0,
          0,
          0,
          0,
          0,
          0,
          0,
          0,
          0,
          0,
          0,
          0,
          0,
          0,
          0,
          0,
          0,
          0,
          0,
          0,
          0,
          0,
          0,
          0,
          0,
          0,
          0,
          0,
          0,
          0,
          0,
          0,
          0,
          0,
          0,
          0,
          0,
          0,
          0,
          0,
          0,
          0,
          0,
          0,
          0,
          0,
          0,
          0,
          0,
          0,
          0,
          0,
          0,
          0,
          0,
          0,
          0,
          0,
          0,
          0,
          0,
          0,
          0,
          0,
          0,
          0,
          0,
          0,
          0,
          0,
          0,
          0,
          0,
          0,
          0,
          0,
          0,
          0,
          0,
          0,
          0,
          0,
          0,
          0,
          0,
          0,
          0,
          0,
          0
         ],
         "y": [
          0.00027327347197569907,
          0.002466935431584716,
          0.002727152779698372,
          0.0029624749440699816,
          0.0030390399042516947,
          0.0033242751378566027,
          0.0052439370192587376,
          0.005536668002605438,
          0.006029875949025154,
          0.006234669126570225,
          0.006559353321790695,
          0.006800294853746891,
          0.007774446625262499,
          0.0086669297888875,
          0.009361529722809792,
          0.011521603912115097,
          0.011823054403066635,
          0.012186214327812195,
          0.01367582380771637,
          0.014305288903415203,
          0.014397786930203438,
          0.015601112507283688,
          0.016394026577472687,
          0.019123723730444908,
          0.0192549005150795,
          0.019326917827129364,
          0.019388653337955475,
          0.020087797194719315,
          0.020532673224806786,
          0.0211419016122818,
          0.02117203176021576,
          0.022512638941407204,
          0.024425745010375977,
          0.02520602010190487,
          0.026721538975834846,
          0.029733506962656975,
          0.030667901039123535,
          0.032078009098768234,
          0.03210214152932167,
          0.034135229885578156,
          0.03685411810874939,
          0.038670897483825684,
          0.03978936746716499,
          0.040033143013715744,
          0.04074955731630325,
          0.044863827526569366,
          0.04549972712993622,
          0.045808129012584686,
          0.046106621623039246,
          0.04646424204111099,
          0.04678547382354736,
          0.04714586213231087,
          0.048346374183893204,
          0.04838310927152634,
          0.05030067265033722,
          0.05131920054554939,
          0.052773911505937576,
          0.05590057373046875,
          0.05633118748664856,
          0.05685361847281456,
          0.05700131878256798,
          0.0616484209895134,
          0.06194720044732094,
          0.06362274289131165,
          0.06403937190771103,
          0.06610831618309021,
          0.06819059699773788,
          0.0695173591375351,
          0.07085192948579788,
          0.07094689458608627,
          0.0714607983827591,
          0.07174408435821533,
          0.07406934350728989,
          0.07439419627189636,
          0.07706433534622192,
          0.07887280732393265,
          0.07974278181791306,
          0.08276024460792542,
          0.08494279533624649,
          0.0849636048078537,
          0.08591935783624649,
          0.08955415338277817,
          0.09675662964582443,
          0.10010173916816711,
          0.10375084728002548,
          0.10468500852584839,
          0.10702939331531525,
          0.10992590337991714,
          0.138958141207695,
          0.14043790102005005,
          0.1489187777042389,
          0.14948095381259918,
          0.1907041072845459,
          0.19079354405403137,
          0.19211752712726593,
          0.1992948055267334,
          0.24137786030769348,
          0.26710695028305054,
          0.27788618206977844
         ]
        },
        {
         "hoverinfo": "text",
         "hovertext": [
          "(0.369573712348938, 1.7330185174942017)"
         ],
         "mode": "markers",
         "name": "H1",
         "type": "scatter",
         "x": [
          0.369573712348938
         ],
         "y": [
          1.7330185174942017
         ]
        },
        {
         "hoverinfo": "text",
         "hovertext": [
          "(1.7476773262023926, 1.7522708177566528)",
          "(1.7430602312088013, 1.8026788234710693)",
          "(1.7429327964782715, 1.771991491317749)",
          "(1.74053156375885, 1.7608442306518555)",
          "(1.7399693727493286, 1.7612215280532837)",
          "(1.738831877708435, 1.7743138074874878)",
          "(1.7368505001068115, 1.7438981533050537)",
          "(1.736700415611267, 1.7630844116210938)",
          "(1.7363250255584717, 1.7694965600967407)",
          "(1.7362971305847168, 1.781549334526062)",
          "(1.7356834411621094, 1.7971827983856201)"
         ],
         "mode": "markers",
         "name": "H2",
         "type": "scatter",
         "x": [
          1.7476773262023926,
          1.7430602312088013,
          1.7429327964782715,
          1.74053156375885,
          1.7399693727493286,
          1.738831877708435,
          1.7368505001068115,
          1.736700415611267,
          1.7363250255584717,
          1.7362971305847168,
          1.7356834411621094
         ],
         "y": [
          1.7522708177566528,
          1.8026788234710693,
          1.771991491317749,
          1.7608442306518555,
          1.7612215280532837,
          1.7743138074874878,
          1.7438981533050537,
          1.7630844116210938,
          1.7694965600967407,
          1.781549334526062,
          1.7971827983856201
         ]
        }
       ],
       "layout": {
        "height": 500,
        "plot_bgcolor": "white",
        "template": {
         "data": {
          "bar": [
           {
            "error_x": {
             "color": "#2a3f5f"
            },
            "error_y": {
             "color": "#2a3f5f"
            },
            "marker": {
             "line": {
              "color": "#E5ECF6",
              "width": 0.5
             },
             "pattern": {
              "fillmode": "overlay",
              "size": 10,
              "solidity": 0.2
             }
            },
            "type": "bar"
           }
          ],
          "barpolar": [
           {
            "marker": {
             "line": {
              "color": "#E5ECF6",
              "width": 0.5
             },
             "pattern": {
              "fillmode": "overlay",
              "size": 10,
              "solidity": 0.2
             }
            },
            "type": "barpolar"
           }
          ],
          "carpet": [
           {
            "aaxis": {
             "endlinecolor": "#2a3f5f",
             "gridcolor": "white",
             "linecolor": "white",
             "minorgridcolor": "white",
             "startlinecolor": "#2a3f5f"
            },
            "baxis": {
             "endlinecolor": "#2a3f5f",
             "gridcolor": "white",
             "linecolor": "white",
             "minorgridcolor": "white",
             "startlinecolor": "#2a3f5f"
            },
            "type": "carpet"
           }
          ],
          "choropleth": [
           {
            "colorbar": {
             "outlinewidth": 0,
             "ticks": ""
            },
            "type": "choropleth"
           }
          ],
          "contour": [
           {
            "colorbar": {
             "outlinewidth": 0,
             "ticks": ""
            },
            "colorscale": [
             [
              0,
              "#0d0887"
             ],
             [
              0.1111111111111111,
              "#46039f"
             ],
             [
              0.2222222222222222,
              "#7201a8"
             ],
             [
              0.3333333333333333,
              "#9c179e"
             ],
             [
              0.4444444444444444,
              "#bd3786"
             ],
             [
              0.5555555555555556,
              "#d8576b"
             ],
             [
              0.6666666666666666,
              "#ed7953"
             ],
             [
              0.7777777777777778,
              "#fb9f3a"
             ],
             [
              0.8888888888888888,
              "#fdca26"
             ],
             [
              1,
              "#f0f921"
             ]
            ],
            "type": "contour"
           }
          ],
          "contourcarpet": [
           {
            "colorbar": {
             "outlinewidth": 0,
             "ticks": ""
            },
            "type": "contourcarpet"
           }
          ],
          "heatmap": [
           {
            "colorbar": {
             "outlinewidth": 0,
             "ticks": ""
            },
            "colorscale": [
             [
              0,
              "#0d0887"
             ],
             [
              0.1111111111111111,
              "#46039f"
             ],
             [
              0.2222222222222222,
              "#7201a8"
             ],
             [
              0.3333333333333333,
              "#9c179e"
             ],
             [
              0.4444444444444444,
              "#bd3786"
             ],
             [
              0.5555555555555556,
              "#d8576b"
             ],
             [
              0.6666666666666666,
              "#ed7953"
             ],
             [
              0.7777777777777778,
              "#fb9f3a"
             ],
             [
              0.8888888888888888,
              "#fdca26"
             ],
             [
              1,
              "#f0f921"
             ]
            ],
            "type": "heatmap"
           }
          ],
          "heatmapgl": [
           {
            "colorbar": {
             "outlinewidth": 0,
             "ticks": ""
            },
            "colorscale": [
             [
              0,
              "#0d0887"
             ],
             [
              0.1111111111111111,
              "#46039f"
             ],
             [
              0.2222222222222222,
              "#7201a8"
             ],
             [
              0.3333333333333333,
              "#9c179e"
             ],
             [
              0.4444444444444444,
              "#bd3786"
             ],
             [
              0.5555555555555556,
              "#d8576b"
             ],
             [
              0.6666666666666666,
              "#ed7953"
             ],
             [
              0.7777777777777778,
              "#fb9f3a"
             ],
             [
              0.8888888888888888,
              "#fdca26"
             ],
             [
              1,
              "#f0f921"
             ]
            ],
            "type": "heatmapgl"
           }
          ],
          "histogram": [
           {
            "marker": {
             "pattern": {
              "fillmode": "overlay",
              "size": 10,
              "solidity": 0.2
             }
            },
            "type": "histogram"
           }
          ],
          "histogram2d": [
           {
            "colorbar": {
             "outlinewidth": 0,
             "ticks": ""
            },
            "colorscale": [
             [
              0,
              "#0d0887"
             ],
             [
              0.1111111111111111,
              "#46039f"
             ],
             [
              0.2222222222222222,
              "#7201a8"
             ],
             [
              0.3333333333333333,
              "#9c179e"
             ],
             [
              0.4444444444444444,
              "#bd3786"
             ],
             [
              0.5555555555555556,
              "#d8576b"
             ],
             [
              0.6666666666666666,
              "#ed7953"
             ],
             [
              0.7777777777777778,
              "#fb9f3a"
             ],
             [
              0.8888888888888888,
              "#fdca26"
             ],
             [
              1,
              "#f0f921"
             ]
            ],
            "type": "histogram2d"
           }
          ],
          "histogram2dcontour": [
           {
            "colorbar": {
             "outlinewidth": 0,
             "ticks": ""
            },
            "colorscale": [
             [
              0,
              "#0d0887"
             ],
             [
              0.1111111111111111,
              "#46039f"
             ],
             [
              0.2222222222222222,
              "#7201a8"
             ],
             [
              0.3333333333333333,
              "#9c179e"
             ],
             [
              0.4444444444444444,
              "#bd3786"
             ],
             [
              0.5555555555555556,
              "#d8576b"
             ],
             [
              0.6666666666666666,
              "#ed7953"
             ],
             [
              0.7777777777777778,
              "#fb9f3a"
             ],
             [
              0.8888888888888888,
              "#fdca26"
             ],
             [
              1,
              "#f0f921"
             ]
            ],
            "type": "histogram2dcontour"
           }
          ],
          "mesh3d": [
           {
            "colorbar": {
             "outlinewidth": 0,
             "ticks": ""
            },
            "type": "mesh3d"
           }
          ],
          "parcoords": [
           {
            "line": {
             "colorbar": {
              "outlinewidth": 0,
              "ticks": ""
             }
            },
            "type": "parcoords"
           }
          ],
          "pie": [
           {
            "automargin": true,
            "type": "pie"
           }
          ],
          "scatter": [
           {
            "fillpattern": {
             "fillmode": "overlay",
             "size": 10,
             "solidity": 0.2
            },
            "type": "scatter"
           }
          ],
          "scatter3d": [
           {
            "line": {
             "colorbar": {
              "outlinewidth": 0,
              "ticks": ""
             }
            },
            "marker": {
             "colorbar": {
              "outlinewidth": 0,
              "ticks": ""
             }
            },
            "type": "scatter3d"
           }
          ],
          "scattercarpet": [
           {
            "marker": {
             "colorbar": {
              "outlinewidth": 0,
              "ticks": ""
             }
            },
            "type": "scattercarpet"
           }
          ],
          "scattergeo": [
           {
            "marker": {
             "colorbar": {
              "outlinewidth": 0,
              "ticks": ""
             }
            },
            "type": "scattergeo"
           }
          ],
          "scattergl": [
           {
            "marker": {
             "colorbar": {
              "outlinewidth": 0,
              "ticks": ""
             }
            },
            "type": "scattergl"
           }
          ],
          "scattermapbox": [
           {
            "marker": {
             "colorbar": {
              "outlinewidth": 0,
              "ticks": ""
             }
            },
            "type": "scattermapbox"
           }
          ],
          "scatterpolar": [
           {
            "marker": {
             "colorbar": {
              "outlinewidth": 0,
              "ticks": ""
             }
            },
            "type": "scatterpolar"
           }
          ],
          "scatterpolargl": [
           {
            "marker": {
             "colorbar": {
              "outlinewidth": 0,
              "ticks": ""
             }
            },
            "type": "scatterpolargl"
           }
          ],
          "scatterternary": [
           {
            "marker": {
             "colorbar": {
              "outlinewidth": 0,
              "ticks": ""
             }
            },
            "type": "scatterternary"
           }
          ],
          "surface": [
           {
            "colorbar": {
             "outlinewidth": 0,
             "ticks": ""
            },
            "colorscale": [
             [
              0,
              "#0d0887"
             ],
             [
              0.1111111111111111,
              "#46039f"
             ],
             [
              0.2222222222222222,
              "#7201a8"
             ],
             [
              0.3333333333333333,
              "#9c179e"
             ],
             [
              0.4444444444444444,
              "#bd3786"
             ],
             [
              0.5555555555555556,
              "#d8576b"
             ],
             [
              0.6666666666666666,
              "#ed7953"
             ],
             [
              0.7777777777777778,
              "#fb9f3a"
             ],
             [
              0.8888888888888888,
              "#fdca26"
             ],
             [
              1,
              "#f0f921"
             ]
            ],
            "type": "surface"
           }
          ],
          "table": [
           {
            "cells": {
             "fill": {
              "color": "#EBF0F8"
             },
             "line": {
              "color": "white"
             }
            },
            "header": {
             "fill": {
              "color": "#C8D4E3"
             },
             "line": {
              "color": "white"
             }
            },
            "type": "table"
           }
          ]
         },
         "layout": {
          "annotationdefaults": {
           "arrowcolor": "#2a3f5f",
           "arrowhead": 0,
           "arrowwidth": 1
          },
          "autotypenumbers": "strict",
          "coloraxis": {
           "colorbar": {
            "outlinewidth": 0,
            "ticks": ""
           }
          },
          "colorscale": {
           "diverging": [
            [
             0,
             "#8e0152"
            ],
            [
             0.1,
             "#c51b7d"
            ],
            [
             0.2,
             "#de77ae"
            ],
            [
             0.3,
             "#f1b6da"
            ],
            [
             0.4,
             "#fde0ef"
            ],
            [
             0.5,
             "#f7f7f7"
            ],
            [
             0.6,
             "#e6f5d0"
            ],
            [
             0.7,
             "#b8e186"
            ],
            [
             0.8,
             "#7fbc41"
            ],
            [
             0.9,
             "#4d9221"
            ],
            [
             1,
             "#276419"
            ]
           ],
           "sequential": [
            [
             0,
             "#0d0887"
            ],
            [
             0.1111111111111111,
             "#46039f"
            ],
            [
             0.2222222222222222,
             "#7201a8"
            ],
            [
             0.3333333333333333,
             "#9c179e"
            ],
            [
             0.4444444444444444,
             "#bd3786"
            ],
            [
             0.5555555555555556,
             "#d8576b"
            ],
            [
             0.6666666666666666,
             "#ed7953"
            ],
            [
             0.7777777777777778,
             "#fb9f3a"
            ],
            [
             0.8888888888888888,
             "#fdca26"
            ],
            [
             1,
             "#f0f921"
            ]
           ],
           "sequentialminus": [
            [
             0,
             "#0d0887"
            ],
            [
             0.1111111111111111,
             "#46039f"
            ],
            [
             0.2222222222222222,
             "#7201a8"
            ],
            [
             0.3333333333333333,
             "#9c179e"
            ],
            [
             0.4444444444444444,
             "#bd3786"
            ],
            [
             0.5555555555555556,
             "#d8576b"
            ],
            [
             0.6666666666666666,
             "#ed7953"
            ],
            [
             0.7777777777777778,
             "#fb9f3a"
            ],
            [
             0.8888888888888888,
             "#fdca26"
            ],
            [
             1,
             "#f0f921"
            ]
           ]
          },
          "colorway": [
           "#636efa",
           "#EF553B",
           "#00cc96",
           "#ab63fa",
           "#FFA15A",
           "#19d3f3",
           "#FF6692",
           "#B6E880",
           "#FF97FF",
           "#FECB52"
          ],
          "font": {
           "color": "#2a3f5f"
          },
          "geo": {
           "bgcolor": "white",
           "lakecolor": "white",
           "landcolor": "#E5ECF6",
           "showlakes": true,
           "showland": true,
           "subunitcolor": "white"
          },
          "hoverlabel": {
           "align": "left"
          },
          "hovermode": "closest",
          "mapbox": {
           "style": "light"
          },
          "paper_bgcolor": "white",
          "plot_bgcolor": "#E5ECF6",
          "polar": {
           "angularaxis": {
            "gridcolor": "white",
            "linecolor": "white",
            "ticks": ""
           },
           "bgcolor": "#E5ECF6",
           "radialaxis": {
            "gridcolor": "white",
            "linecolor": "white",
            "ticks": ""
           }
          },
          "scene": {
           "xaxis": {
            "backgroundcolor": "#E5ECF6",
            "gridcolor": "white",
            "gridwidth": 2,
            "linecolor": "white",
            "showbackground": true,
            "ticks": "",
            "zerolinecolor": "white"
           },
           "yaxis": {
            "backgroundcolor": "#E5ECF6",
            "gridcolor": "white",
            "gridwidth": 2,
            "linecolor": "white",
            "showbackground": true,
            "ticks": "",
            "zerolinecolor": "white"
           },
           "zaxis": {
            "backgroundcolor": "#E5ECF6",
            "gridcolor": "white",
            "gridwidth": 2,
            "linecolor": "white",
            "showbackground": true,
            "ticks": "",
            "zerolinecolor": "white"
           }
          },
          "shapedefaults": {
           "line": {
            "color": "#2a3f5f"
           }
          },
          "ternary": {
           "aaxis": {
            "gridcolor": "white",
            "linecolor": "white",
            "ticks": ""
           },
           "baxis": {
            "gridcolor": "white",
            "linecolor": "white",
            "ticks": ""
           },
           "bgcolor": "#E5ECF6",
           "caxis": {
            "gridcolor": "white",
            "linecolor": "white",
            "ticks": ""
           }
          },
          "title": {
           "x": 0.05
          },
          "xaxis": {
           "automargin": true,
           "gridcolor": "white",
           "linecolor": "white",
           "ticks": "",
           "title": {
            "standoff": 15
           },
           "zerolinecolor": "white",
           "zerolinewidth": 2
          },
          "yaxis": {
           "automargin": true,
           "gridcolor": "white",
           "linecolor": "white",
           "ticks": "",
           "title": {
            "standoff": 15
           },
           "zerolinecolor": "white",
           "zerolinewidth": 2
          }
         }
        },
        "width": 500,
        "xaxis": {
         "autorange": false,
         "domain": [
          0,
          1
         ],
         "exponentformat": "e",
         "linecolor": "black",
         "linewidth": 1,
         "mirror": false,
         "range": [
          -0.09171128514409066,
          1.89439010861516
         ],
         "showexponent": "all",
         "showline": true,
         "side": "bottom",
         "ticks": "outside",
         "title": {
          "text": "Birth"
         },
         "type": "linear",
         "zeroline": true
        },
        "yaxis": {
         "autorange": false,
         "domain": [
          0,
          1
         ],
         "exponentformat": "e",
         "linecolor": "black",
         "linewidth": 1,
         "mirror": false,
         "range": [
          -0.03605357646942139,
          1.8387323999404908
         ],
         "scaleanchor": "x",
         "scaleratio": 1,
         "showexponent": "all",
         "showline": true,
         "side": "left",
         "ticks": "outside",
         "title": {
          "text": "Death"
         },
         "type": "linear",
         "zeroline": true
        }
       }
      },
      "image/png": "[encoded data removed]",
      "text/html": [
       "<div>                            <div id=\"8e5351bd-8b54-4644-99e7-d8b0a2bfed8a\" class=\"plotly-graph-div\" style=\"height:500px; width:500px;\"></div>            <script type=\"text/javascript\">                require([\"plotly\"], function(Plotly) {                    window.PLOTLYENV=window.PLOTLYENV || {};                                    if (document.getElementById(\"8e5351bd-8b54-4644-99e7-d8b0a2bfed8a\")) {                    Plotly.newPlot(                        \"8e5351bd-8b54-4644-99e7-d8b0a2bfed8a\",                        [{\"hoverinfo\":\"none\",\"line\":{\"color\":\"black\",\"dash\":\"dash\",\"width\":1},\"mode\":\"lines\",\"showlegend\":false,\"x\":[-0.03605357646942139,1.8387323999404908],\"y\":[-0.03605357646942139,1.8387323999404908],\"type\":\"scatter\"},{\"hoverinfo\":\"text\",\"hovertext\":[\"(0.0, 0.00027327347197569907)\",\"(0.0, 0.002466935431584716)\",\"(0.0, 0.002727152779698372)\",\"(0.0, 0.0029624749440699816)\",\"(0.0, 0.0030390399042516947)\",\"(0.0, 0.0033242751378566027)\",\"(0.0, 0.0052439370192587376)\",\"(0.0, 0.005536668002605438)\",\"(0.0, 0.006029875949025154)\",\"(0.0, 0.006234669126570225)\",\"(0.0, 0.006559353321790695)\",\"(0.0, 0.006800294853746891)\",\"(0.0, 0.007774446625262499)\",\"(0.0, 0.0086669297888875)\",\"(0.0, 0.009361529722809792)\",\"(0.0, 0.011521603912115097)\",\"(0.0, 0.011823054403066635)\",\"(0.0, 0.012186214327812195)\",\"(0.0, 0.01367582380771637)\",\"(0.0, 0.014305288903415203)\",\"(0.0, 0.014397786930203438)\",\"(0.0, 0.015601112507283688)\",\"(0.0, 0.016394026577472687)\",\"(0.0, 0.019123723730444908)\",\"(0.0, 0.0192549005150795)\",\"(0.0, 0.019326917827129364)\",\"(0.0, 0.019388653337955475)\",\"(0.0, 0.020087797194719315)\",\"(0.0, 0.020532673224806786)\",\"(0.0, 0.0211419016122818)\",\"(0.0, 0.02117203176021576)\",\"(0.0, 0.022512638941407204)\",\"(0.0, 0.024425745010375977)\",\"(0.0, 0.02520602010190487)\",\"(0.0, 0.026721538975834846)\",\"(0.0, 0.029733506962656975)\",\"(0.0, 0.030667901039123535)\",\"(0.0, 0.032078009098768234)\",\"(0.0, 0.03210214152932167)\",\"(0.0, 0.034135229885578156)\",\"(0.0, 0.03685411810874939)\",\"(0.0, 0.038670897483825684)\",\"(0.0, 0.03978936746716499)\",\"(0.0, 0.040033143013715744)\",\"(0.0, 0.04074955731630325)\",\"(0.0, 0.044863827526569366)\",\"(0.0, 0.04549972712993622)\",\"(0.0, 0.045808129012584686)\",\"(0.0, 0.046106621623039246)\",\"(0.0, 0.04646424204111099)\",\"(0.0, 0.04678547382354736)\",\"(0.0, 0.04714586213231087)\",\"(0.0, 0.048346374183893204)\",\"(0.0, 0.04838310927152634)\",\"(0.0, 0.05030067265033722)\",\"(0.0, 0.05131920054554939)\",\"(0.0, 0.052773911505937576)\",\"(0.0, 0.05590057373046875)\",\"(0.0, 0.05633118748664856)\",\"(0.0, 0.05685361847281456)\",\"(0.0, 0.05700131878256798)\",\"(0.0, 0.0616484209895134)\",\"(0.0, 0.06194720044732094)\",\"(0.0, 0.06362274289131165)\",\"(0.0, 0.06403937190771103)\",\"(0.0, 0.06610831618309021)\",\"(0.0, 0.06819059699773788)\",\"(0.0, 0.0695173591375351)\",\"(0.0, 0.07085192948579788)\",\"(0.0, 0.07094689458608627)\",\"(0.0, 0.0714607983827591)\",\"(0.0, 0.07174408435821533)\",\"(0.0, 0.07406934350728989)\",\"(0.0, 0.07439419627189636)\",\"(0.0, 0.07706433534622192)\",\"(0.0, 0.07887280732393265)\",\"(0.0, 0.07974278181791306)\",\"(0.0, 0.08276024460792542)\",\"(0.0, 0.08494279533624649)\",\"(0.0, 0.0849636048078537)\",\"(0.0, 0.08591935783624649)\",\"(0.0, 0.08955415338277817)\",\"(0.0, 0.09675662964582443)\",\"(0.0, 0.10010173916816711)\",\"(0.0, 0.10375084728002548)\",\"(0.0, 0.10468500852584839)\",\"(0.0, 0.10702939331531525)\",\"(0.0, 0.10992590337991714)\",\"(0.0, 0.138958141207695)\",\"(0.0, 0.14043790102005005)\",\"(0.0, 0.1489187777042389)\",\"(0.0, 0.14948095381259918)\",\"(0.0, 0.1907041072845459)\",\"(0.0, 0.19079354405403137)\",\"(0.0, 0.19211752712726593)\",\"(0.0, 0.1992948055267334)\",\"(0.0, 0.24137786030769348)\",\"(0.0, 0.26710695028305054)\",\"(0.0, 0.27788618206977844)\"],\"mode\":\"markers\",\"name\":\"H0\",\"x\":[0.0,0.0,0.0,0.0,0.0,0.0,0.0,0.0,0.0,0.0,0.0,0.0,0.0,0.0,0.0,0.0,0.0,0.0,0.0,0.0,0.0,0.0,0.0,0.0,0.0,0.0,0.0,0.0,0.0,0.0,0.0,0.0,0.0,0.0,0.0,0.0,0.0,0.0,0.0,0.0,0.0,0.0,0.0,0.0,0.0,0.0,0.0,0.0,0.0,0.0,0.0,0.0,0.0,0.0,0.0,0.0,0.0,0.0,0.0,0.0,0.0,0.0,0.0,0.0,0.0,0.0,0.0,0.0,0.0,0.0,0.0,0.0,0.0,0.0,0.0,0.0,0.0,0.0,0.0,0.0,0.0,0.0,0.0,0.0,0.0,0.0,0.0,0.0,0.0,0.0,0.0,0.0,0.0,0.0,0.0,0.0,0.0,0.0,0.0],\"y\":[0.00027327347197569907,0.002466935431584716,0.002727152779698372,0.0029624749440699816,0.0030390399042516947,0.0033242751378566027,0.0052439370192587376,0.005536668002605438,0.006029875949025154,0.006234669126570225,0.006559353321790695,0.006800294853746891,0.007774446625262499,0.0086669297888875,0.009361529722809792,0.011521603912115097,0.011823054403066635,0.012186214327812195,0.01367582380771637,0.014305288903415203,0.014397786930203438,0.015601112507283688,0.016394026577472687,0.019123723730444908,0.0192549005150795,0.019326917827129364,0.019388653337955475,0.020087797194719315,0.020532673224806786,0.0211419016122818,0.02117203176021576,0.022512638941407204,0.024425745010375977,0.02520602010190487,0.026721538975834846,0.029733506962656975,0.030667901039123535,0.032078009098768234,0.03210214152932167,0.034135229885578156,0.03685411810874939,0.038670897483825684,0.03978936746716499,0.040033143013715744,0.04074955731630325,0.044863827526569366,0.04549972712993622,0.045808129012584686,0.046106621623039246,0.04646424204111099,0.04678547382354736,0.04714586213231087,0.048346374183893204,0.04838310927152634,0.05030067265033722,0.05131920054554939,0.052773911505937576,0.05590057373046875,0.05633118748664856,0.05685361847281456,0.05700131878256798,0.0616484209895134,0.06194720044732094,0.06362274289131165,0.06403937190771103,0.06610831618309021,0.06819059699773788,0.0695173591375351,0.07085192948579788,0.07094689458608627,0.0714607983827591,0.07174408435821533,0.07406934350728989,0.07439419627189636,0.07706433534622192,0.07887280732393265,0.07974278181791306,0.08276024460792542,0.08494279533624649,0.0849636048078537,0.08591935783624649,0.08955415338277817,0.09675662964582443,0.10010173916816711,0.10375084728002548,0.10468500852584839,0.10702939331531525,0.10992590337991714,0.138958141207695,0.14043790102005005,0.1489187777042389,0.14948095381259918,0.1907041072845459,0.19079354405403137,0.19211752712726593,0.1992948055267334,0.24137786030769348,0.26710695028305054,0.27788618206977844],\"type\":\"scatter\"},{\"hoverinfo\":\"text\",\"hovertext\":[\"(0.369573712348938, 1.7330185174942017)\"],\"mode\":\"markers\",\"name\":\"H1\",\"x\":[0.369573712348938],\"y\":[1.7330185174942017],\"type\":\"scatter\"},{\"hoverinfo\":\"text\",\"hovertext\":[\"(1.7476773262023926, 1.7522708177566528)\",\"(1.7430602312088013, 1.8026788234710693)\",\"(1.7429327964782715, 1.771991491317749)\",\"(1.74053156375885, 1.7608442306518555)\",\"(1.7399693727493286, 1.7612215280532837)\",\"(1.738831877708435, 1.7743138074874878)\",\"(1.7368505001068115, 1.7438981533050537)\",\"(1.736700415611267, 1.7630844116210938)\",\"(1.7363250255584717, 1.7694965600967407)\",\"(1.7362971305847168, 1.781549334526062)\",\"(1.7356834411621094, 1.7971827983856201)\"],\"mode\":\"markers\",\"name\":\"H2\",\"x\":[1.7476773262023926,1.7430602312088013,1.7429327964782715,1.74053156375885,1.7399693727493286,1.738831877708435,1.7368505001068115,1.736700415611267,1.7363250255584717,1.7362971305847168,1.7356834411621094],\"y\":[1.7522708177566528,1.8026788234710693,1.771991491317749,1.7608442306518555,1.7612215280532837,1.7743138074874878,1.7438981533050537,1.7630844116210938,1.7694965600967407,1.781549334526062,1.7971827983856201],\"type\":\"scatter\"}],                        {\"template\":{\"data\":{\"histogram2dcontour\":[{\"type\":\"histogram2dcontour\",\"colorbar\":{\"outlinewidth\":0,\"ticks\":\"\"},\"colorscale\":[[0.0,\"#0d0887\"],[0.1111111111111111,\"#46039f\"],[0.2222222222222222,\"#7201a8\"],[0.3333333333333333,\"#9c179e\"],[0.4444444444444444,\"#bd3786\"],[0.5555555555555556,\"#d8576b\"],[0.6666666666666666,\"#ed7953\"],[0.7777777777777778,\"#fb9f3a\"],[0.8888888888888888,\"#fdca26\"],[1.0,\"#f0f921\"]]}],\"choropleth\":[{\"type\":\"choropleth\",\"colorbar\":{\"outlinewidth\":0,\"ticks\":\"\"}}],\"histogram2d\":[{\"type\":\"histogram2d\",\"colorbar\":{\"outlinewidth\":0,\"ticks\":\"\"},\"colorscale\":[[0.0,\"#0d0887\"],[0.1111111111111111,\"#46039f\"],[0.2222222222222222,\"#7201a8\"],[0.3333333333333333,\"#9c179e\"],[0.4444444444444444,\"#bd3786\"],[0.5555555555555556,\"#d8576b\"],[0.6666666666666666,\"#ed7953\"],[0.7777777777777778,\"#fb9f3a\"],[0.8888888888888888,\"#fdca26\"],[1.0,\"#f0f921\"]]}],\"heatmap\":[{\"type\":\"heatmap\",\"colorbar\":{\"outlinewidth\":0,\"ticks\":\"\"},\"colorscale\":[[0.0,\"#0d0887\"],[0.1111111111111111,\"#46039f\"],[0.2222222222222222,\"#7201a8\"],[0.3333333333333333,\"#9c179e\"],[0.4444444444444444,\"#bd3786\"],[0.5555555555555556,\"#d8576b\"],[0.6666666666666666,\"#ed7953\"],[0.7777777777777778,\"#fb9f3a\"],[0.8888888888888888,\"#fdca26\"],[1.0,\"#f0f921\"]]}],\"heatmapgl\":[{\"type\":\"heatmapgl\",\"colorbar\":{\"outlinewidth\":0,\"ticks\":\"\"},\"colorscale\":[[0.0,\"#0d0887\"],[0.1111111111111111,\"#46039f\"],[0.2222222222222222,\"#7201a8\"],[0.3333333333333333,\"#9c179e\"],[0.4444444444444444,\"#bd3786\"],[0.5555555555555556,\"#d8576b\"],[0.6666666666666666,\"#ed7953\"],[0.7777777777777778,\"#fb9f3a\"],[0.8888888888888888,\"#fdca26\"],[1.0,\"#f0f921\"]]}],\"contourcarpet\":[{\"type\":\"contourcarpet\",\"colorbar\":{\"outlinewidth\":0,\"ticks\":\"\"}}],\"contour\":[{\"type\":\"contour\",\"colorbar\":{\"outlinewidth\":0,\"ticks\":\"\"},\"colorscale\":[[0.0,\"#0d0887\"],[0.1111111111111111,\"#46039f\"],[0.2222222222222222,\"#7201a8\"],[0.3333333333333333,\"#9c179e\"],[0.4444444444444444,\"#bd3786\"],[0.5555555555555556,\"#d8576b\"],[0.6666666666666666,\"#ed7953\"],[0.7777777777777778,\"#fb9f3a\"],[0.8888888888888888,\"#fdca26\"],[1.0,\"#f0f921\"]]}],\"surface\":[{\"type\":\"surface\",\"colorbar\":{\"outlinewidth\":0,\"ticks\":\"\"},\"colorscale\":[[0.0,\"#0d0887\"],[0.1111111111111111,\"#46039f\"],[0.2222222222222222,\"#7201a8\"],[0.3333333333333333,\"#9c179e\"],[0.4444444444444444,\"#bd3786\"],[0.5555555555555556,\"#d8576b\"],[0.6666666666666666,\"#ed7953\"],[0.7777777777777778,\"#fb9f3a\"],[0.8888888888888888,\"#fdca26\"],[1.0,\"#f0f921\"]]}],\"mesh3d\":[{\"type\":\"mesh3d\",\"colorbar\":{\"outlinewidth\":0,\"ticks\":\"\"}}],\"scatter\":[{\"fillpattern\":{\"fillmode\":\"overlay\",\"size\":10,\"solidity\":0.2},\"type\":\"scatter\"}],\"parcoords\":[{\"type\":\"parcoords\",\"line\":{\"colorbar\":{\"outlinewidth\":0,\"ticks\":\"\"}}}],\"scatterpolargl\":[{\"type\":\"scatterpolargl\",\"marker\":{\"colorbar\":{\"outlinewidth\":0,\"ticks\":\"\"}}}],\"bar\":[{\"error_x\":{\"color\":\"#2a3f5f\"},\"error_y\":{\"color\":\"#2a3f5f\"},\"marker\":{\"line\":{\"color\":\"#E5ECF6\",\"width\":0.5},\"pattern\":{\"fillmode\":\"overlay\",\"size\":10,\"solidity\":0.2}},\"type\":\"bar\"}],\"scattergeo\":[{\"type\":\"scattergeo\",\"marker\":{\"colorbar\":{\"outlinewidth\":0,\"ticks\":\"\"}}}],\"scatterpolar\":[{\"type\":\"scatterpolar\",\"marker\":{\"colorbar\":{\"outlinewidth\":0,\"ticks\":\"\"}}}],\"histogram\":[{\"marker\":{\"pattern\":{\"fillmode\":\"overlay\",\"size\":10,\"solidity\":0.2}},\"type\":\"histogram\"}],\"scattergl\":[{\"type\":\"scattergl\",\"marker\":{\"colorbar\":{\"outlinewidth\":0,\"ticks\":\"\"}}}],\"scatter3d\":[{\"type\":\"scatter3d\",\"line\":{\"colorbar\":{\"outlinewidth\":0,\"ticks\":\"\"}},\"marker\":{\"colorbar\":{\"outlinewidth\":0,\"ticks\":\"\"}}}],\"scattermapbox\":[{\"type\":\"scattermapbox\",\"marker\":{\"colorbar\":{\"outlinewidth\":0,\"ticks\":\"\"}}}],\"scatterternary\":[{\"type\":\"scatterternary\",\"marker\":{\"colorbar\":{\"outlinewidth\":0,\"ticks\":\"\"}}}],\"scattercarpet\":[{\"type\":\"scattercarpet\",\"marker\":{\"colorbar\":{\"outlinewidth\":0,\"ticks\":\"\"}}}],\"carpet\":[{\"aaxis\":{\"endlinecolor\":\"#2a3f5f\",\"gridcolor\":\"white\",\"linecolor\":\"white\",\"minorgridcolor\":\"white\",\"startlinecolor\":\"#2a3f5f\"},\"baxis\":{\"endlinecolor\":\"#2a3f5f\",\"gridcolor\":\"white\",\"linecolor\":\"white\",\"minorgridcolor\":\"white\",\"startlinecolor\":\"#2a3f5f\"},\"type\":\"carpet\"}],\"table\":[{\"cells\":{\"fill\":{\"color\":\"#EBF0F8\"},\"line\":{\"color\":\"white\"}},\"header\":{\"fill\":{\"color\":\"#C8D4E3\"},\"line\":{\"color\":\"white\"}},\"type\":\"table\"}],\"barpolar\":[{\"marker\":{\"line\":{\"color\":\"#E5ECF6\",\"width\":0.5},\"pattern\":{\"fillmode\":\"overlay\",\"size\":10,\"solidity\":0.2}},\"type\":\"barpolar\"}],\"pie\":[{\"automargin\":true,\"type\":\"pie\"}]},\"layout\":{\"autotypenumbers\":\"strict\",\"colorway\":[\"#636efa\",\"#EF553B\",\"#00cc96\",\"#ab63fa\",\"#FFA15A\",\"#19d3f3\",\"#FF6692\",\"#B6E880\",\"#FF97FF\",\"#FECB52\"],\"font\":{\"color\":\"#2a3f5f\"},\"hovermode\":\"closest\",\"hoverlabel\":{\"align\":\"left\"},\"paper_bgcolor\":\"white\",\"plot_bgcolor\":\"#E5ECF6\",\"polar\":{\"bgcolor\":\"#E5ECF6\",\"angularaxis\":{\"gridcolor\":\"white\",\"linecolor\":\"white\",\"ticks\":\"\"},\"radialaxis\":{\"gridcolor\":\"white\",\"linecolor\":\"white\",\"ticks\":\"\"}},\"ternary\":{\"bgcolor\":\"#E5ECF6\",\"aaxis\":{\"gridcolor\":\"white\",\"linecolor\":\"white\",\"ticks\":\"\"},\"baxis\":{\"gridcolor\":\"white\",\"linecolor\":\"white\",\"ticks\":\"\"},\"caxis\":{\"gridcolor\":\"white\",\"linecolor\":\"white\",\"ticks\":\"\"}},\"coloraxis\":{\"colorbar\":{\"outlinewidth\":0,\"ticks\":\"\"}},\"colorscale\":{\"sequential\":[[0.0,\"#0d0887\"],[0.1111111111111111,\"#46039f\"],[0.2222222222222222,\"#7201a8\"],[0.3333333333333333,\"#9c179e\"],[0.4444444444444444,\"#bd3786\"],[0.5555555555555556,\"#d8576b\"],[0.6666666666666666,\"#ed7953\"],[0.7777777777777778,\"#fb9f3a\"],[0.8888888888888888,\"#fdca26\"],[1.0,\"#f0f921\"]],\"sequentialminus\":[[0.0,\"#0d0887\"],[0.1111111111111111,\"#46039f\"],[0.2222222222222222,\"#7201a8\"],[0.3333333333333333,\"#9c179e\"],[0.4444444444444444,\"#bd3786\"],[0.5555555555555556,\"#d8576b\"],[0.6666666666666666,\"#ed7953\"],[0.7777777777777778,\"#fb9f3a\"],[0.8888888888888888,\"#fdca26\"],[1.0,\"#f0f921\"]],\"diverging\":[[0,\"#8e0152\"],[0.1,\"#c51b7d\"],[0.2,\"#de77ae\"],[0.3,\"#f1b6da\"],[0.4,\"#fde0ef\"],[0.5,\"#f7f7f7\"],[0.6,\"#e6f5d0\"],[0.7,\"#b8e186\"],[0.8,\"#7fbc41\"],[0.9,\"#4d9221\"],[1,\"#276419\"]]},\"xaxis\":{\"gridcolor\":\"white\",\"linecolor\":\"white\",\"ticks\":\"\",\"title\":{\"standoff\":15},\"zerolinecolor\":\"white\",\"automargin\":true,\"zerolinewidth\":2},\"yaxis\":{\"gridcolor\":\"white\",\"linecolor\":\"white\",\"ticks\":\"\",\"title\":{\"standoff\":15},\"zerolinecolor\":\"white\",\"automargin\":true,\"zerolinewidth\":2},\"scene\":{\"xaxis\":{\"backgroundcolor\":\"#E5ECF6\",\"gridcolor\":\"white\",\"linecolor\":\"white\",\"showbackground\":true,\"ticks\":\"\",\"zerolinecolor\":\"white\",\"gridwidth\":2},\"yaxis\":{\"backgroundcolor\":\"#E5ECF6\",\"gridcolor\":\"white\",\"linecolor\":\"white\",\"showbackground\":true,\"ticks\":\"\",\"zerolinecolor\":\"white\",\"gridwidth\":2},\"zaxis\":{\"backgroundcolor\":\"#E5ECF6\",\"gridcolor\":\"white\",\"linecolor\":\"white\",\"showbackground\":true,\"ticks\":\"\",\"zerolinecolor\":\"white\",\"gridwidth\":2}},\"shapedefaults\":{\"line\":{\"color\":\"#2a3f5f\"}},\"annotationdefaults\":{\"arrowcolor\":\"#2a3f5f\",\"arrowhead\":0,\"arrowwidth\":1},\"geo\":{\"bgcolor\":\"white\",\"landcolor\":\"#E5ECF6\",\"subunitcolor\":\"white\",\"showland\":true,\"showlakes\":true,\"lakecolor\":\"white\"},\"title\":{\"x\":0.05},\"mapbox\":{\"style\":\"light\"}}},\"xaxis\":{\"title\":{\"text\":\"Birth\"},\"side\":\"bottom\",\"type\":\"linear\",\"range\":[-0.03605357646942139,1.8387323999404908],\"autorange\":false,\"ticks\":\"outside\",\"showline\":true,\"zeroline\":true,\"linewidth\":1,\"linecolor\":\"black\",\"mirror\":false,\"showexponent\":\"all\",\"exponentformat\":\"e\"},\"yaxis\":{\"title\":{\"text\":\"Death\"},\"side\":\"left\",\"type\":\"linear\",\"range\":[-0.03605357646942139,1.8387323999404908],\"autorange\":false,\"scaleanchor\":\"x\",\"scaleratio\":1,\"ticks\":\"outside\",\"showline\":true,\"zeroline\":true,\"linewidth\":1,\"linecolor\":\"black\",\"mirror\":false,\"showexponent\":\"all\",\"exponentformat\":\"e\"},\"width\":500,\"height\":500,\"plot_bgcolor\":\"white\"},                        {\"responsive\": true}                    ).then(function(){\n",
       "                            \n",
       "var gd = document.getElementById('8e5351bd-8b54-4644-99e7-d8b0a2bfed8a');\n",
       "var x = new MutationObserver(function (mutations, observer) {{\n",
       "        var display = window.getComputedStyle(gd).display;\n",
       "        if (!display || display === 'none') {{\n",
       "            console.log([gd, 'removed!']);\n",
       "            Plotly.purge(gd);\n",
       "            observer.disconnect();\n",
       "        }}\n",
       "}});\n",
       "\n",
       "// Listen for the removal of the full notebook cells\n",
       "var notebookContainer = gd.closest('#notebook-container');\n",
       "if (notebookContainer) {{\n",
       "    x.observe(notebookContainer, {childList: true});\n",
       "}}\n",
       "\n",
       "// Listen for the clearing of the current output cell\n",
       "var outputEl = gd.closest('.output');\n",
       "if (outputEl) {{\n",
       "    x.observe(outputEl, {childList: true});\n",
       "}}\n",
       "\n",
       "                        })                };                });            </script>        </div>"
      ]
     },
     "metadata": {},
     "output_type": "display_data"
    }
   ],
   "source": [
    "persistence.plot(persistence_diagram1)"
   ]
  },
  {
   "cell_type": "code",
   "execution_count": 141,
   "id": "e099b01e-3557-49c8-aa7d-e19ebb16d3e9",
   "metadata": {},
   "outputs": [
    {
     "data": {
      "image/png": "[encoded data removed]",
      "text/plain": [
       "<Figure size 640x480 with 1 Axes>"
      ]
     },
     "metadata": {},
     "output_type": "display_data"
    }
   ],
   "source": [
    "# Medium amount of noise\n",
    "point_cloud = [sample_point(radius=1, std = 0.05) for _ in range(100)]\n",
    "\n",
    "plt.scatter(*zip(*point_cloud), c=\"grey\")\n",
    "plt.gca().set_aspect('equal') # Set axes to equal scaling\n",
    "plt.axis('off')\n",
    "plt.savefig(\"Medium_noise.png\")\n",
    "plt.show()"
   ]
  },
  {
   "cell_type": "code",
   "execution_count": 142,
   "id": "07df7685-6819-4c1f-adb9-0280870d5edf",
   "metadata": {},
   "outputs": [
    {
     "data": {
      "application/vnd.plotly.v1+json": {
       "config": {
        "plotlyServerURL": "https://plot.ly"
       },
       "data": [
        {
         "hoverinfo": "none",
         "line": {
          "color": "black",
          "dash": "dash",
          "width": 1
         },
         "mode": "lines",
         "showlegend": false,
         "type": "scatter",
         "x": [
          -0.034616093635559085,
          1.7654207754135132
         ],
         "y": [
          -0.034616093635559085,
          1.7654207754135132
         ]
        },
        {
         "hoverinfo": "text",
         "hovertext": [
          "(0.0, 0.00596022279933095)",
          "(0.0, 0.008597444742918015)",
          "(0.0, 0.00949469581246376)",
          "(0.0, 0.02173914946615696)",
          "(0.0, 0.024502666667103767)",
          "(0.0, 0.024658899754285812)",
          "(0.0, 0.02609645575284958)",
          "(0.0, 0.028458496555685997)",
          "(0.0, 0.028994131833314896)",
          "(0.0, 0.030264588072896004)",
          "(0.0, 0.03134322538971901)",
          "(0.0, 0.033045895397663116)",
          "(0.0, 0.03387966379523277)",
          "(0.0, 0.034290608018636703)",
          "(0.0, 0.03440555930137634)",
          "(0.0, 0.03444507718086243)",
          "(0.0, 0.03470576927065849)",
          "(0.0, 0.03547356277704239)",
          "(0.0, 0.03608957678079605)",
          "(0.0, 0.03661181032657623)",
          "(0.0, 0.0398135781288147)",
          "(0.0, 0.04153866320848465)",
          "(0.0, 0.04255019128322601)",
          "(0.0, 0.04325593635439873)",
          "(0.0, 0.044152095913887024)",
          "(0.0, 0.04478113353252411)",
          "(0.0, 0.044921472668647766)",
          "(0.0, 0.046576984226703644)",
          "(0.0, 0.04667706415057182)",
          "(0.0, 0.047021858394145966)",
          "(0.0, 0.04797569662332535)",
          "(0.0, 0.0485115684568882)",
          "(0.0, 0.05032080039381981)",
          "(0.0, 0.051101382821798325)",
          "(0.0, 0.05186811834573746)",
          "(0.0, 0.054143570363521576)",
          "(0.0, 0.05521586164832115)",
          "(0.0, 0.058331575244665146)",
          "(0.0, 0.05879106745123863)",
          "(0.0, 0.061302054673433304)",
          "(0.0, 0.06161651015281677)",
          "(0.0, 0.062408559024333954)",
          "(0.0, 0.06455813348293304)",
          "(0.0, 0.06459414958953857)",
          "(0.0, 0.06500057876110077)",
          "(0.0, 0.06623565405607224)",
          "(0.0, 0.06854420900344849)",
          "(0.0, 0.07029405236244202)",
          "(0.0, 0.07271348685026169)",
          "(0.0, 0.07508125901222229)",
          "(0.0, 0.07599808275699615)",
          "(0.0, 0.07752787321805954)",
          "(0.0, 0.07827910035848618)",
          "(0.0, 0.0813840702176094)",
          "(0.0, 0.08159218728542328)",
          "(0.0, 0.08249643445014954)",
          "(0.0, 0.09065180271863937)",
          "(0.0, 0.09120457619428635)",
          "(0.0, 0.09145280718803406)",
          "(0.0, 0.09189983457326889)",
          "(0.0, 0.09191083163022995)",
          "(0.0, 0.09301475435495377)",
          "(0.0, 0.09771621972322464)",
          "(0.0, 0.0993485078215599)",
          "(0.0, 0.10006894916296005)",
          "(0.0, 0.10125908255577087)",
          "(0.0, 0.10291419178247452)",
          "(0.0, 0.1035926565527916)",
          "(0.0, 0.10597353428602219)",
          "(0.0, 0.10666059702634811)",
          "(0.0, 0.11421956866979599)",
          "(0.0, 0.1175178661942482)",
          "(0.0, 0.11837299168109894)",
          "(0.0, 0.12160199135541916)",
          "(0.0, 0.12265563756227493)",
          "(0.0, 0.124653160572052)",
          "(0.0, 0.12651188671588898)",
          "(0.0, 0.1267489343881607)",
          "(0.0, 0.12728674709796906)",
          "(0.0, 0.12741461396217346)",
          "(0.0, 0.12900994718074799)",
          "(0.0, 0.12940311431884766)",
          "(0.0, 0.13226082921028137)",
          "(0.0, 0.1378353238105774)",
          "(0.0, 0.1389668583869934)",
          "(0.0, 0.1406393051147461)",
          "(0.0, 0.14807723462581635)",
          "(0.0, 0.1539495438337326)",
          "(0.0, 0.1567886918783188)",
          "(0.0, 0.16407810151576996)",
          "(0.0, 0.16497652232646942)",
          "(0.0, 0.17333577573299408)",
          "(0.0, 0.1739753782749176)",
          "(0.0, 0.1821872740983963)",
          "(0.0, 0.18810610473155975)",
          "(0.0, 0.19740703701972961)",
          "(0.0, 0.1998201459646225)",
          "(0.0, 0.22297468781471252)",
          "(0.0, 0.22804901003837585)"
         ],
         "mode": "markers",
         "name": "H0",
         "type": "scatter",
         "x": [
          0,
          0,
          0,
          0,
          0,
          0,
          0,
          0,
          0,
          0,
          0,
          0,
          0,
          0,
          0,
          0,
          0,
          0,
          0,
          0,
          0,
          0,
          0,
          0,
          0,
          0,
          0,
          0,
          0,
          0,
          0,
          0,
          0,
          0,
          0,
          0,
          0,
          0,
          0,
          0,
          0,
          0,
          0,
          0,
          0,
          0,
          0,
          0,
          0,
          0,
          0,
          0,
          0,
          0,
          0,
          0,
          0,
          0,
          0,
          0,
          0,
          0,
          0,
          0,
          0,
          0,
          0,
          0,
          0,
          0,
          0,
          0,
          0,
          0,
          0,
          0,
          0,
          0,
          0,
          0,
          0,
          0,
          0,
          0,
          0,
          0,
          0,
          0,
          0,
          0,
          0,
          0,
          0,
          0,
          0,
          0,
          0,
          0,
          0
         ],
         "y": [
          0.00596022279933095,
          0.008597444742918015,
          0.00949469581246376,
          0.02173914946615696,
          0.024502666667103767,
          0.024658899754285812,
          0.02609645575284958,
          0.028458496555685997,
          0.028994131833314896,
          0.030264588072896004,
          0.03134322538971901,
          0.033045895397663116,
          0.03387966379523277,
          0.034290608018636703,
          0.03440555930137634,
          0.03444507718086243,
          0.03470576927065849,
          0.03547356277704239,
          0.03608957678079605,
          0.03661181032657623,
          0.0398135781288147,
          0.04153866320848465,
          0.04255019128322601,
          0.04325593635439873,
          0.044152095913887024,
          0.04478113353252411,
          0.044921472668647766,
          0.046576984226703644,
          0.04667706415057182,
          0.047021858394145966,
          0.04797569662332535,
          0.0485115684568882,
          0.05032080039381981,
          0.051101382821798325,
          0.05186811834573746,
          0.054143570363521576,
          0.05521586164832115,
          0.058331575244665146,
          0.05879106745123863,
          0.061302054673433304,
          0.06161651015281677,
          0.062408559024333954,
          0.06455813348293304,
          0.06459414958953857,
          0.06500057876110077,
          0.06623565405607224,
          0.06854420900344849,
          0.07029405236244202,
          0.07271348685026169,
          0.07508125901222229,
          0.07599808275699615,
          0.07752787321805954,
          0.07827910035848618,
          0.0813840702176094,
          0.08159218728542328,
          0.08249643445014954,
          0.09065180271863937,
          0.09120457619428635,
          0.09145280718803406,
          0.09189983457326889,
          0.09191083163022995,
          0.09301475435495377,
          0.09771621972322464,
          0.0993485078215599,
          0.10006894916296005,
          0.10125908255577087,
          0.10291419178247452,
          0.1035926565527916,
          0.10597353428602219,
          0.10666059702634811,
          0.11421956866979599,
          0.1175178661942482,
          0.11837299168109894,
          0.12160199135541916,
          0.12265563756227493,
          0.124653160572052,
          0.12651188671588898,
          0.1267489343881607,
          0.12728674709796906,
          0.12741461396217346,
          0.12900994718074799,
          0.12940311431884766,
          0.13226082921028137,
          0.1378353238105774,
          0.1389668583869934,
          0.1406393051147461,
          0.14807723462581635,
          0.1539495438337326,
          0.1567886918783188,
          0.16407810151576996,
          0.16497652232646942,
          0.17333577573299408,
          0.1739753782749176,
          0.1821872740983963,
          0.18810610473155975,
          0.19740703701972961,
          0.1998201459646225,
          0.22297468781471252,
          0.22804901003837585
         ]
        },
        {
         "hoverinfo": "text",
         "hovertext": [
          "(0.25123366713523865, 1.6394342184066772)",
          "(0.2053566873073578, 0.21769018471240997)",
          "(0.14771389961242676, 0.14822039008140564)",
          "(0.13129940629005432, 0.13195599615573883)",
          "(0.12482167780399323, 0.13128802180290222)"
         ],
         "mode": "markers",
         "name": "H1",
         "type": "scatter",
         "x": [
          0.25123366713523865,
          0.2053566873073578,
          0.14771389961242676,
          0.13129940629005432,
          0.12482167780399323
         ],
         "y": [
          1.6394342184066772,
          0.21769018471240997,
          0.14822039008140564,
          0.13195599615573883,
          0.13128802180290222
         ]
        },
        {
         "hoverinfo": "text",
         "hovertext": [
          "(1.6598819494247437, 1.6684479713439941)",
          "(1.6558290719985962, 1.707047462463379)",
          "(1.6537468433380127, 1.709586262702942)",
          "(1.643521785736084, 1.730804681777954)"
         ],
         "mode": "markers",
         "name": "H2",
         "type": "scatter",
         "x": [
          1.6598819494247437,
          1.6558290719985962,
          1.6537468433380127,
          1.643521785736084
         ],
         "y": [
          1.6684479713439941,
          1.707047462463379,
          1.709586262702942,
          1.730804681777954
         ]
        }
       ],
       "layout": {
        "height": 500,
        "plot_bgcolor": "white",
        "template": {
         "data": {
          "bar": [
           {
            "error_x": {
             "color": "#2a3f5f"
            },
            "error_y": {
             "color": "#2a3f5f"
            },
            "marker": {
             "line": {
              "color": "#E5ECF6",
              "width": 0.5
             },
             "pattern": {
              "fillmode": "overlay",
              "size": 10,
              "solidity": 0.2
             }
            },
            "type": "bar"
           }
          ],
          "barpolar": [
           {
            "marker": {
             "line": {
              "color": "#E5ECF6",
              "width": 0.5
             },
             "pattern": {
              "fillmode": "overlay",
              "size": 10,
              "solidity": 0.2
             }
            },
            "type": "barpolar"
           }
          ],
          "carpet": [
           {
            "aaxis": {
             "endlinecolor": "#2a3f5f",
             "gridcolor": "white",
             "linecolor": "white",
             "minorgridcolor": "white",
             "startlinecolor": "#2a3f5f"
            },
            "baxis": {
             "endlinecolor": "#2a3f5f",
             "gridcolor": "white",
             "linecolor": "white",
             "minorgridcolor": "white",
             "startlinecolor": "#2a3f5f"
            },
            "type": "carpet"
           }
          ],
          "choropleth": [
           {
            "colorbar": {
             "outlinewidth": 0,
             "ticks": ""
            },
            "type": "choropleth"
           }
          ],
          "contour": [
           {
            "colorbar": {
             "outlinewidth": 0,
             "ticks": ""
            },
            "colorscale": [
             [
              0,
              "#0d0887"
             ],
             [
              0.1111111111111111,
              "#46039f"
             ],
             [
              0.2222222222222222,
              "#7201a8"
             ],
             [
              0.3333333333333333,
              "#9c179e"
             ],
             [
              0.4444444444444444,
              "#bd3786"
             ],
             [
              0.5555555555555556,
              "#d8576b"
             ],
             [
              0.6666666666666666,
              "#ed7953"
             ],
             [
              0.7777777777777778,
              "#fb9f3a"
             ],
             [
              0.8888888888888888,
              "#fdca26"
             ],
             [
              1,
              "#f0f921"
             ]
            ],
            "type": "contour"
           }
          ],
          "contourcarpet": [
           {
            "colorbar": {
             "outlinewidth": 0,
             "ticks": ""
            },
            "type": "contourcarpet"
           }
          ],
          "heatmap": [
           {
            "colorbar": {
             "outlinewidth": 0,
             "ticks": ""
            },
            "colorscale": [
             [
              0,
              "#0d0887"
             ],
             [
              0.1111111111111111,
              "#46039f"
             ],
             [
              0.2222222222222222,
              "#7201a8"
             ],
             [
              0.3333333333333333,
              "#9c179e"
             ],
             [
              0.4444444444444444,
              "#bd3786"
             ],
             [
              0.5555555555555556,
              "#d8576b"
             ],
             [
              0.6666666666666666,
              "#ed7953"
             ],
             [
              0.7777777777777778,
              "#fb9f3a"
             ],
             [
              0.8888888888888888,
              "#fdca26"
             ],
             [
              1,
              "#f0f921"
             ]
            ],
            "type": "heatmap"
           }
          ],
          "heatmapgl": [
           {
            "colorbar": {
             "outlinewidth": 0,
             "ticks": ""
            },
            "colorscale": [
             [
              0,
              "#0d0887"
             ],
             [
              0.1111111111111111,
              "#46039f"
             ],
             [
              0.2222222222222222,
              "#7201a8"
             ],
             [
              0.3333333333333333,
              "#9c179e"
             ],
             [
              0.4444444444444444,
              "#bd3786"
             ],
             [
              0.5555555555555556,
              "#d8576b"
             ],
             [
              0.6666666666666666,
              "#ed7953"
             ],
             [
              0.7777777777777778,
              "#fb9f3a"
             ],
             [
              0.8888888888888888,
              "#fdca26"
             ],
             [
              1,
              "#f0f921"
             ]
            ],
            "type": "heatmapgl"
           }
          ],
          "histogram": [
           {
            "marker": {
             "pattern": {
              "fillmode": "overlay",
              "size": 10,
              "solidity": 0.2
             }
            },
            "type": "histogram"
           }
          ],
          "histogram2d": [
           {
            "colorbar": {
             "outlinewidth": 0,
             "ticks": ""
            },
            "colorscale": [
             [
              0,
              "#0d0887"
             ],
             [
              0.1111111111111111,
              "#46039f"
             ],
             [
              0.2222222222222222,
              "#7201a8"
             ],
             [
              0.3333333333333333,
              "#9c179e"
             ],
             [
              0.4444444444444444,
              "#bd3786"
             ],
             [
              0.5555555555555556,
              "#d8576b"
             ],
             [
              0.6666666666666666,
              "#ed7953"
             ],
             [
              0.7777777777777778,
              "#fb9f3a"
             ],
             [
              0.8888888888888888,
              "#fdca26"
             ],
             [
              1,
              "#f0f921"
             ]
            ],
            "type": "histogram2d"
           }
          ],
          "histogram2dcontour": [
           {
            "colorbar": {
             "outlinewidth": 0,
             "ticks": ""
            },
            "colorscale": [
             [
              0,
              "#0d0887"
             ],
             [
              0.1111111111111111,
              "#46039f"
             ],
             [
              0.2222222222222222,
              "#7201a8"
             ],
             [
              0.3333333333333333,
              "#9c179e"
             ],
             [
              0.4444444444444444,
              "#bd3786"
             ],
             [
              0.5555555555555556,
              "#d8576b"
             ],
             [
              0.6666666666666666,
              "#ed7953"
             ],
             [
              0.7777777777777778,
              "#fb9f3a"
             ],
             [
              0.8888888888888888,
              "#fdca26"
             ],
             [
              1,
              "#f0f921"
             ]
            ],
            "type": "histogram2dcontour"
           }
          ],
          "mesh3d": [
           {
            "colorbar": {
             "outlinewidth": 0,
             "ticks": ""
            },
            "type": "mesh3d"
           }
          ],
          "parcoords": [
           {
            "line": {
             "colorbar": {
              "outlinewidth": 0,
              "ticks": ""
             }
            },
            "type": "parcoords"
           }
          ],
          "pie": [
           {
            "automargin": true,
            "type": "pie"
           }
          ],
          "scatter": [
           {
            "fillpattern": {
             "fillmode": "overlay",
             "size": 10,
             "solidity": 0.2
            },
            "type": "scatter"
           }
          ],
          "scatter3d": [
           {
            "line": {
             "colorbar": {
              "outlinewidth": 0,
              "ticks": ""
             }
            },
            "marker": {
             "colorbar": {
              "outlinewidth": 0,
              "ticks": ""
             }
            },
            "type": "scatter3d"
           }
          ],
          "scattercarpet": [
           {
            "marker": {
             "colorbar": {
              "outlinewidth": 0,
              "ticks": ""
             }
            },
            "type": "scattercarpet"
           }
          ],
          "scattergeo": [
           {
            "marker": {
             "colorbar": {
              "outlinewidth": 0,
              "ticks": ""
             }
            },
            "type": "scattergeo"
           }
          ],
          "scattergl": [
           {
            "marker": {
             "colorbar": {
              "outlinewidth": 0,
              "ticks": ""
             }
            },
            "type": "scattergl"
           }
          ],
          "scattermapbox": [
           {
            "marker": {
             "colorbar": {
              "outlinewidth": 0,
              "ticks": ""
             }
            },
            "type": "scattermapbox"
           }
          ],
          "scatterpolar": [
           {
            "marker": {
             "colorbar": {
              "outlinewidth": 0,
              "ticks": ""
             }
            },
            "type": "scatterpolar"
           }
          ],
          "scatterpolargl": [
           {
            "marker": {
             "colorbar": {
              "outlinewidth": 0,
              "ticks": ""
             }
            },
            "type": "scatterpolargl"
           }
          ],
          "scatterternary": [
           {
            "marker": {
             "colorbar": {
              "outlinewidth": 0,
              "ticks": ""
             }
            },
            "type": "scatterternary"
           }
          ],
          "surface": [
           {
            "colorbar": {
             "outlinewidth": 0,
             "ticks": ""
            },
            "colorscale": [
             [
              0,
              "#0d0887"
             ],
             [
              0.1111111111111111,
              "#46039f"
             ],
             [
              0.2222222222222222,
              "#7201a8"
             ],
             [
              0.3333333333333333,
              "#9c179e"
             ],
             [
              0.4444444444444444,
              "#bd3786"
             ],
             [
              0.5555555555555556,
              "#d8576b"
             ],
             [
              0.6666666666666666,
              "#ed7953"
             ],
             [
              0.7777777777777778,
              "#fb9f3a"
             ],
             [
              0.8888888888888888,
              "#fdca26"
             ],
             [
              1,
              "#f0f921"
             ]
            ],
            "type": "surface"
           }
          ],
          "table": [
           {
            "cells": {
             "fill": {
              "color": "#EBF0F8"
             },
             "line": {
              "color": "white"
             }
            },
            "header": {
             "fill": {
              "color": "#C8D4E3"
             },
             "line": {
              "color": "white"
             }
            },
            "type": "table"
           }
          ]
         },
         "layout": {
          "annotationdefaults": {
           "arrowcolor": "#2a3f5f",
           "arrowhead": 0,
           "arrowwidth": 1
          },
          "autotypenumbers": "strict",
          "coloraxis": {
           "colorbar": {
            "outlinewidth": 0,
            "ticks": ""
           }
          },
          "colorscale": {
           "diverging": [
            [
             0,
             "#8e0152"
            ],
            [
             0.1,
             "#c51b7d"
            ],
            [
             0.2,
             "#de77ae"
            ],
            [
             0.3,
             "#f1b6da"
            ],
            [
             0.4,
             "#fde0ef"
            ],
            [
             0.5,
             "#f7f7f7"
            ],
            [
             0.6,
             "#e6f5d0"
            ],
            [
             0.7,
             "#b8e186"
            ],
            [
             0.8,
             "#7fbc41"
            ],
            [
             0.9,
             "#4d9221"
            ],
            [
             1,
             "#276419"
            ]
           ],
           "sequential": [
            [
             0,
             "#0d0887"
            ],
            [
             0.1111111111111111,
             "#46039f"
            ],
            [
             0.2222222222222222,
             "#7201a8"
            ],
            [
             0.3333333333333333,
             "#9c179e"
            ],
            [
             0.4444444444444444,
             "#bd3786"
            ],
            [
             0.5555555555555556,
             "#d8576b"
            ],
            [
             0.6666666666666666,
             "#ed7953"
            ],
            [
             0.7777777777777778,
             "#fb9f3a"
            ],
            [
             0.8888888888888888,
             "#fdca26"
            ],
            [
             1,
             "#f0f921"
            ]
           ],
           "sequentialminus": [
            [
             0,
             "#0d0887"
            ],
            [
             0.1111111111111111,
             "#46039f"
            ],
            [
             0.2222222222222222,
             "#7201a8"
            ],
            [
             0.3333333333333333,
             "#9c179e"
            ],
            [
             0.4444444444444444,
             "#bd3786"
            ],
            [
             0.5555555555555556,
             "#d8576b"
            ],
            [
             0.6666666666666666,
             "#ed7953"
            ],
            [
             0.7777777777777778,
             "#fb9f3a"
            ],
            [
             0.8888888888888888,
             "#fdca26"
            ],
            [
             1,
             "#f0f921"
            ]
           ]
          },
          "colorway": [
           "#636efa",
           "#EF553B",
           "#00cc96",
           "#ab63fa",
           "#FFA15A",
           "#19d3f3",
           "#FF6692",
           "#B6E880",
           "#FF97FF",
           "#FECB52"
          ],
          "font": {
           "color": "#2a3f5f"
          },
          "geo": {
           "bgcolor": "white",
           "lakecolor": "white",
           "landcolor": "#E5ECF6",
           "showlakes": true,
           "showland": true,
           "subunitcolor": "white"
          },
          "hoverlabel": {
           "align": "left"
          },
          "hovermode": "closest",
          "mapbox": {
           "style": "light"
          },
          "paper_bgcolor": "white",
          "plot_bgcolor": "#E5ECF6",
          "polar": {
           "angularaxis": {
            "gridcolor": "white",
            "linecolor": "white",
            "ticks": ""
           },
           "bgcolor": "#E5ECF6",
           "radialaxis": {
            "gridcolor": "white",
            "linecolor": "white",
            "ticks": ""
           }
          },
          "scene": {
           "xaxis": {
            "backgroundcolor": "#E5ECF6",
            "gridcolor": "white",
            "gridwidth": 2,
            "linecolor": "white",
            "showbackground": true,
            "ticks": "",
            "zerolinecolor": "white"
           },
           "yaxis": {
            "backgroundcolor": "#E5ECF6",
            "gridcolor": "white",
            "gridwidth": 2,
            "linecolor": "white",
            "showbackground": true,
            "ticks": "",
            "zerolinecolor": "white"
           },
           "zaxis": {
            "backgroundcolor": "#E5ECF6",
            "gridcolor": "white",
            "gridwidth": 2,
            "linecolor": "white",
            "showbackground": true,
            "ticks": "",
            "zerolinecolor": "white"
           }
          },
          "shapedefaults": {
           "line": {
            "color": "#2a3f5f"
           }
          },
          "ternary": {
           "aaxis": {
            "gridcolor": "white",
            "linecolor": "white",
            "ticks": ""
           },
           "baxis": {
            "gridcolor": "white",
            "linecolor": "white",
            "ticks": ""
           },
           "bgcolor": "#E5ECF6",
           "caxis": {
            "gridcolor": "white",
            "linecolor": "white",
            "ticks": ""
           }
          },
          "title": {
           "x": 0.05
          },
          "xaxis": {
           "automargin": true,
           "gridcolor": "white",
           "linecolor": "white",
           "ticks": "",
           "title": {
            "standoff": 15
           },
           "zerolinecolor": "white",
           "zerolinewidth": 2
          },
          "yaxis": {
           "automargin": true,
           "gridcolor": "white",
           "linecolor": "white",
           "ticks": "",
           "title": {
            "standoff": 15
           },
           "zerolinecolor": "white",
           "zerolinewidth": 2
          }
         }
        },
        "width": 500,
        "xaxis": {
         "autorange": false,
         "domain": [
          0,
          1
         ],
         "exponentformat": "e",
         "linecolor": "black",
         "linewidth": 1,
         "mirror": false,
         "range": [
          -0.08805468818545337,
          1.8188593699634075
         ],
         "showexponent": "all",
         "showline": true,
         "side": "bottom",
         "ticks": "outside",
         "title": {
          "text": "Birth"
         },
         "type": "linear",
         "zeroline": true
        },
        "yaxis": {
         "autorange": false,
         "domain": [
          0,
          1
         ],
         "exponentformat": "e",
         "linecolor": "black",
         "linewidth": 1,
         "mirror": false,
         "range": [
          -0.034616093635559085,
          1.7654207754135132
         ],
         "scaleanchor": "x",
         "scaleratio": 1,
         "showexponent": "all",
         "showline": true,
         "side": "left",
         "ticks": "outside",
         "title": {
          "text": "Death"
         },
         "type": "linear",
         "zeroline": true
        }
       }
      },
      "image/png": "[encoded data removed]",
      "text/html": [
       "<div>                            <div id=\"144fa717-fe82-4e8a-bf87-06d431bb9bc5\" class=\"plotly-graph-div\" style=\"height:500px; width:500px;\"></div>            <script type=\"text/javascript\">                require([\"plotly\"], function(Plotly) {                    window.PLOTLYENV=window.PLOTLYENV || {};                                    if (document.getElementById(\"144fa717-fe82-4e8a-bf87-06d431bb9bc5\")) {                    Plotly.newPlot(                        \"144fa717-fe82-4e8a-bf87-06d431bb9bc5\",                        [{\"hoverinfo\":\"none\",\"line\":{\"color\":\"black\",\"dash\":\"dash\",\"width\":1},\"mode\":\"lines\",\"showlegend\":false,\"x\":[-0.034616093635559085,1.7654207754135132],\"y\":[-0.034616093635559085,1.7654207754135132],\"type\":\"scatter\"},{\"hoverinfo\":\"text\",\"hovertext\":[\"(0.0, 0.00596022279933095)\",\"(0.0, 0.008597444742918015)\",\"(0.0, 0.00949469581246376)\",\"(0.0, 0.02173914946615696)\",\"(0.0, 0.024502666667103767)\",\"(0.0, 0.024658899754285812)\",\"(0.0, 0.02609645575284958)\",\"(0.0, 0.028458496555685997)\",\"(0.0, 0.028994131833314896)\",\"(0.0, 0.030264588072896004)\",\"(0.0, 0.03134322538971901)\",\"(0.0, 0.033045895397663116)\",\"(0.0, 0.03387966379523277)\",\"(0.0, 0.034290608018636703)\",\"(0.0, 0.03440555930137634)\",\"(0.0, 0.03444507718086243)\",\"(0.0, 0.03470576927065849)\",\"(0.0, 0.03547356277704239)\",\"(0.0, 0.03608957678079605)\",\"(0.0, 0.03661181032657623)\",\"(0.0, 0.0398135781288147)\",\"(0.0, 0.04153866320848465)\",\"(0.0, 0.04255019128322601)\",\"(0.0, 0.04325593635439873)\",\"(0.0, 0.044152095913887024)\",\"(0.0, 0.04478113353252411)\",\"(0.0, 0.044921472668647766)\",\"(0.0, 0.046576984226703644)\",\"(0.0, 0.04667706415057182)\",\"(0.0, 0.047021858394145966)\",\"(0.0, 0.04797569662332535)\",\"(0.0, 0.0485115684568882)\",\"(0.0, 0.05032080039381981)\",\"(0.0, 0.051101382821798325)\",\"(0.0, 0.05186811834573746)\",\"(0.0, 0.054143570363521576)\",\"(0.0, 0.05521586164832115)\",\"(0.0, 0.058331575244665146)\",\"(0.0, 0.05879106745123863)\",\"(0.0, 0.061302054673433304)\",\"(0.0, 0.06161651015281677)\",\"(0.0, 0.062408559024333954)\",\"(0.0, 0.06455813348293304)\",\"(0.0, 0.06459414958953857)\",\"(0.0, 0.06500057876110077)\",\"(0.0, 0.06623565405607224)\",\"(0.0, 0.06854420900344849)\",\"(0.0, 0.07029405236244202)\",\"(0.0, 0.07271348685026169)\",\"(0.0, 0.07508125901222229)\",\"(0.0, 0.07599808275699615)\",\"(0.0, 0.07752787321805954)\",\"(0.0, 0.07827910035848618)\",\"(0.0, 0.0813840702176094)\",\"(0.0, 0.08159218728542328)\",\"(0.0, 0.08249643445014954)\",\"(0.0, 0.09065180271863937)\",\"(0.0, 0.09120457619428635)\",\"(0.0, 0.09145280718803406)\",\"(0.0, 0.09189983457326889)\",\"(0.0, 0.09191083163022995)\",\"(0.0, 0.09301475435495377)\",\"(0.0, 0.09771621972322464)\",\"(0.0, 0.0993485078215599)\",\"(0.0, 0.10006894916296005)\",\"(0.0, 0.10125908255577087)\",\"(0.0, 0.10291419178247452)\",\"(0.0, 0.1035926565527916)\",\"(0.0, 0.10597353428602219)\",\"(0.0, 0.10666059702634811)\",\"(0.0, 0.11421956866979599)\",\"(0.0, 0.1175178661942482)\",\"(0.0, 0.11837299168109894)\",\"(0.0, 0.12160199135541916)\",\"(0.0, 0.12265563756227493)\",\"(0.0, 0.124653160572052)\",\"(0.0, 0.12651188671588898)\",\"(0.0, 0.1267489343881607)\",\"(0.0, 0.12728674709796906)\",\"(0.0, 0.12741461396217346)\",\"(0.0, 0.12900994718074799)\",\"(0.0, 0.12940311431884766)\",\"(0.0, 0.13226082921028137)\",\"(0.0, 0.1378353238105774)\",\"(0.0, 0.1389668583869934)\",\"(0.0, 0.1406393051147461)\",\"(0.0, 0.14807723462581635)\",\"(0.0, 0.1539495438337326)\",\"(0.0, 0.1567886918783188)\",\"(0.0, 0.16407810151576996)\",\"(0.0, 0.16497652232646942)\",\"(0.0, 0.17333577573299408)\",\"(0.0, 0.1739753782749176)\",\"(0.0, 0.1821872740983963)\",\"(0.0, 0.18810610473155975)\",\"(0.0, 0.19740703701972961)\",\"(0.0, 0.1998201459646225)\",\"(0.0, 0.22297468781471252)\",\"(0.0, 0.22804901003837585)\"],\"mode\":\"markers\",\"name\":\"H0\",\"x\":[0.0,0.0,0.0,0.0,0.0,0.0,0.0,0.0,0.0,0.0,0.0,0.0,0.0,0.0,0.0,0.0,0.0,0.0,0.0,0.0,0.0,0.0,0.0,0.0,0.0,0.0,0.0,0.0,0.0,0.0,0.0,0.0,0.0,0.0,0.0,0.0,0.0,0.0,0.0,0.0,0.0,0.0,0.0,0.0,0.0,0.0,0.0,0.0,0.0,0.0,0.0,0.0,0.0,0.0,0.0,0.0,0.0,0.0,0.0,0.0,0.0,0.0,0.0,0.0,0.0,0.0,0.0,0.0,0.0,0.0,0.0,0.0,0.0,0.0,0.0,0.0,0.0,0.0,0.0,0.0,0.0,0.0,0.0,0.0,0.0,0.0,0.0,0.0,0.0,0.0,0.0,0.0,0.0,0.0,0.0,0.0,0.0,0.0,0.0],\"y\":[0.00596022279933095,0.008597444742918015,0.00949469581246376,0.02173914946615696,0.024502666667103767,0.024658899754285812,0.02609645575284958,0.028458496555685997,0.028994131833314896,0.030264588072896004,0.03134322538971901,0.033045895397663116,0.03387966379523277,0.034290608018636703,0.03440555930137634,0.03444507718086243,0.03470576927065849,0.03547356277704239,0.03608957678079605,0.03661181032657623,0.0398135781288147,0.04153866320848465,0.04255019128322601,0.04325593635439873,0.044152095913887024,0.04478113353252411,0.044921472668647766,0.046576984226703644,0.04667706415057182,0.047021858394145966,0.04797569662332535,0.0485115684568882,0.05032080039381981,0.051101382821798325,0.05186811834573746,0.054143570363521576,0.05521586164832115,0.058331575244665146,0.05879106745123863,0.061302054673433304,0.06161651015281677,0.062408559024333954,0.06455813348293304,0.06459414958953857,0.06500057876110077,0.06623565405607224,0.06854420900344849,0.07029405236244202,0.07271348685026169,0.07508125901222229,0.07599808275699615,0.07752787321805954,0.07827910035848618,0.0813840702176094,0.08159218728542328,0.08249643445014954,0.09065180271863937,0.09120457619428635,0.09145280718803406,0.09189983457326889,0.09191083163022995,0.09301475435495377,0.09771621972322464,0.0993485078215599,0.10006894916296005,0.10125908255577087,0.10291419178247452,0.1035926565527916,0.10597353428602219,0.10666059702634811,0.11421956866979599,0.1175178661942482,0.11837299168109894,0.12160199135541916,0.12265563756227493,0.124653160572052,0.12651188671588898,0.1267489343881607,0.12728674709796906,0.12741461396217346,0.12900994718074799,0.12940311431884766,0.13226082921028137,0.1378353238105774,0.1389668583869934,0.1406393051147461,0.14807723462581635,0.1539495438337326,0.1567886918783188,0.16407810151576996,0.16497652232646942,0.17333577573299408,0.1739753782749176,0.1821872740983963,0.18810610473155975,0.19740703701972961,0.1998201459646225,0.22297468781471252,0.22804901003837585],\"type\":\"scatter\"},{\"hoverinfo\":\"text\",\"hovertext\":[\"(0.25123366713523865, 1.6394342184066772)\",\"(0.2053566873073578, 0.21769018471240997)\",\"(0.14771389961242676, 0.14822039008140564)\",\"(0.13129940629005432, 0.13195599615573883)\",\"(0.12482167780399323, 0.13128802180290222)\"],\"mode\":\"markers\",\"name\":\"H1\",\"x\":[0.25123366713523865,0.2053566873073578,0.14771389961242676,0.13129940629005432,0.12482167780399323],\"y\":[1.6394342184066772,0.21769018471240997,0.14822039008140564,0.13195599615573883,0.13128802180290222],\"type\":\"scatter\"},{\"hoverinfo\":\"text\",\"hovertext\":[\"(1.6598819494247437, 1.6684479713439941)\",\"(1.6558290719985962, 1.707047462463379)\",\"(1.6537468433380127, 1.709586262702942)\",\"(1.643521785736084, 1.730804681777954)\"],\"mode\":\"markers\",\"name\":\"H2\",\"x\":[1.6598819494247437,1.6558290719985962,1.6537468433380127,1.643521785736084],\"y\":[1.6684479713439941,1.707047462463379,1.709586262702942,1.730804681777954],\"type\":\"scatter\"}],                        {\"template\":{\"data\":{\"histogram2dcontour\":[{\"type\":\"histogram2dcontour\",\"colorbar\":{\"outlinewidth\":0,\"ticks\":\"\"},\"colorscale\":[[0.0,\"#0d0887\"],[0.1111111111111111,\"#46039f\"],[0.2222222222222222,\"#7201a8\"],[0.3333333333333333,\"#9c179e\"],[0.4444444444444444,\"#bd3786\"],[0.5555555555555556,\"#d8576b\"],[0.6666666666666666,\"#ed7953\"],[0.7777777777777778,\"#fb9f3a\"],[0.8888888888888888,\"#fdca26\"],[1.0,\"#f0f921\"]]}],\"choropleth\":[{\"type\":\"choropleth\",\"colorbar\":{\"outlinewidth\":0,\"ticks\":\"\"}}],\"histogram2d\":[{\"type\":\"histogram2d\",\"colorbar\":{\"outlinewidth\":0,\"ticks\":\"\"},\"colorscale\":[[0.0,\"#0d0887\"],[0.1111111111111111,\"#46039f\"],[0.2222222222222222,\"#7201a8\"],[0.3333333333333333,\"#9c179e\"],[0.4444444444444444,\"#bd3786\"],[0.5555555555555556,\"#d8576b\"],[0.6666666666666666,\"#ed7953\"],[0.7777777777777778,\"#fb9f3a\"],[0.8888888888888888,\"#fdca26\"],[1.0,\"#f0f921\"]]}],\"heatmap\":[{\"type\":\"heatmap\",\"colorbar\":{\"outlinewidth\":0,\"ticks\":\"\"},\"colorscale\":[[0.0,\"#0d0887\"],[0.1111111111111111,\"#46039f\"],[0.2222222222222222,\"#7201a8\"],[0.3333333333333333,\"#9c179e\"],[0.4444444444444444,\"#bd3786\"],[0.5555555555555556,\"#d8576b\"],[0.6666666666666666,\"#ed7953\"],[0.7777777777777778,\"#fb9f3a\"],[0.8888888888888888,\"#fdca26\"],[1.0,\"#f0f921\"]]}],\"heatmapgl\":[{\"type\":\"heatmapgl\",\"colorbar\":{\"outlinewidth\":0,\"ticks\":\"\"},\"colorscale\":[[0.0,\"#0d0887\"],[0.1111111111111111,\"#46039f\"],[0.2222222222222222,\"#7201a8\"],[0.3333333333333333,\"#9c179e\"],[0.4444444444444444,\"#bd3786\"],[0.5555555555555556,\"#d8576b\"],[0.6666666666666666,\"#ed7953\"],[0.7777777777777778,\"#fb9f3a\"],[0.8888888888888888,\"#fdca26\"],[1.0,\"#f0f921\"]]}],\"contourcarpet\":[{\"type\":\"contourcarpet\",\"colorbar\":{\"outlinewidth\":0,\"ticks\":\"\"}}],\"contour\":[{\"type\":\"contour\",\"colorbar\":{\"outlinewidth\":0,\"ticks\":\"\"},\"colorscale\":[[0.0,\"#0d0887\"],[0.1111111111111111,\"#46039f\"],[0.2222222222222222,\"#7201a8\"],[0.3333333333333333,\"#9c179e\"],[0.4444444444444444,\"#bd3786\"],[0.5555555555555556,\"#d8576b\"],[0.6666666666666666,\"#ed7953\"],[0.7777777777777778,\"#fb9f3a\"],[0.8888888888888888,\"#fdca26\"],[1.0,\"#f0f921\"]]}],\"surface\":[{\"type\":\"surface\",\"colorbar\":{\"outlinewidth\":0,\"ticks\":\"\"},\"colorscale\":[[0.0,\"#0d0887\"],[0.1111111111111111,\"#46039f\"],[0.2222222222222222,\"#7201a8\"],[0.3333333333333333,\"#9c179e\"],[0.4444444444444444,\"#bd3786\"],[0.5555555555555556,\"#d8576b\"],[0.6666666666666666,\"#ed7953\"],[0.7777777777777778,\"#fb9f3a\"],[0.8888888888888888,\"#fdca26\"],[1.0,\"#f0f921\"]]}],\"mesh3d\":[{\"type\":\"mesh3d\",\"colorbar\":{\"outlinewidth\":0,\"ticks\":\"\"}}],\"scatter\":[{\"fillpattern\":{\"fillmode\":\"overlay\",\"size\":10,\"solidity\":0.2},\"type\":\"scatter\"}],\"parcoords\":[{\"type\":\"parcoords\",\"line\":{\"colorbar\":{\"outlinewidth\":0,\"ticks\":\"\"}}}],\"scatterpolargl\":[{\"type\":\"scatterpolargl\",\"marker\":{\"colorbar\":{\"outlinewidth\":0,\"ticks\":\"\"}}}],\"bar\":[{\"error_x\":{\"color\":\"#2a3f5f\"},\"error_y\":{\"color\":\"#2a3f5f\"},\"marker\":{\"line\":{\"color\":\"#E5ECF6\",\"width\":0.5},\"pattern\":{\"fillmode\":\"overlay\",\"size\":10,\"solidity\":0.2}},\"type\":\"bar\"}],\"scattergeo\":[{\"type\":\"scattergeo\",\"marker\":{\"colorbar\":{\"outlinewidth\":0,\"ticks\":\"\"}}}],\"scatterpolar\":[{\"type\":\"scatterpolar\",\"marker\":{\"colorbar\":{\"outlinewidth\":0,\"ticks\":\"\"}}}],\"histogram\":[{\"marker\":{\"pattern\":{\"fillmode\":\"overlay\",\"size\":10,\"solidity\":0.2}},\"type\":\"histogram\"}],\"scattergl\":[{\"type\":\"scattergl\",\"marker\":{\"colorbar\":{\"outlinewidth\":0,\"ticks\":\"\"}}}],\"scatter3d\":[{\"type\":\"scatter3d\",\"line\":{\"colorbar\":{\"outlinewidth\":0,\"ticks\":\"\"}},\"marker\":{\"colorbar\":{\"outlinewidth\":0,\"ticks\":\"\"}}}],\"scattermapbox\":[{\"type\":\"scattermapbox\",\"marker\":{\"colorbar\":{\"outlinewidth\":0,\"ticks\":\"\"}}}],\"scatterternary\":[{\"type\":\"scatterternary\",\"marker\":{\"colorbar\":{\"outlinewidth\":0,\"ticks\":\"\"}}}],\"scattercarpet\":[{\"type\":\"scattercarpet\",\"marker\":{\"colorbar\":{\"outlinewidth\":0,\"ticks\":\"\"}}}],\"carpet\":[{\"aaxis\":{\"endlinecolor\":\"#2a3f5f\",\"gridcolor\":\"white\",\"linecolor\":\"white\",\"minorgridcolor\":\"white\",\"startlinecolor\":\"#2a3f5f\"},\"baxis\":{\"endlinecolor\":\"#2a3f5f\",\"gridcolor\":\"white\",\"linecolor\":\"white\",\"minorgridcolor\":\"white\",\"startlinecolor\":\"#2a3f5f\"},\"type\":\"carpet\"}],\"table\":[{\"cells\":{\"fill\":{\"color\":\"#EBF0F8\"},\"line\":{\"color\":\"white\"}},\"header\":{\"fill\":{\"color\":\"#C8D4E3\"},\"line\":{\"color\":\"white\"}},\"type\":\"table\"}],\"barpolar\":[{\"marker\":{\"line\":{\"color\":\"#E5ECF6\",\"width\":0.5},\"pattern\":{\"fillmode\":\"overlay\",\"size\":10,\"solidity\":0.2}},\"type\":\"barpolar\"}],\"pie\":[{\"automargin\":true,\"type\":\"pie\"}]},\"layout\":{\"autotypenumbers\":\"strict\",\"colorway\":[\"#636efa\",\"#EF553B\",\"#00cc96\",\"#ab63fa\",\"#FFA15A\",\"#19d3f3\",\"#FF6692\",\"#B6E880\",\"#FF97FF\",\"#FECB52\"],\"font\":{\"color\":\"#2a3f5f\"},\"hovermode\":\"closest\",\"hoverlabel\":{\"align\":\"left\"},\"paper_bgcolor\":\"white\",\"plot_bgcolor\":\"#E5ECF6\",\"polar\":{\"bgcolor\":\"#E5ECF6\",\"angularaxis\":{\"gridcolor\":\"white\",\"linecolor\":\"white\",\"ticks\":\"\"},\"radialaxis\":{\"gridcolor\":\"white\",\"linecolor\":\"white\",\"ticks\":\"\"}},\"ternary\":{\"bgcolor\":\"#E5ECF6\",\"aaxis\":{\"gridcolor\":\"white\",\"linecolor\":\"white\",\"ticks\":\"\"},\"baxis\":{\"gridcolor\":\"white\",\"linecolor\":\"white\",\"ticks\":\"\"},\"caxis\":{\"gridcolor\":\"white\",\"linecolor\":\"white\",\"ticks\":\"\"}},\"coloraxis\":{\"colorbar\":{\"outlinewidth\":0,\"ticks\":\"\"}},\"colorscale\":{\"sequential\":[[0.0,\"#0d0887\"],[0.1111111111111111,\"#46039f\"],[0.2222222222222222,\"#7201a8\"],[0.3333333333333333,\"#9c179e\"],[0.4444444444444444,\"#bd3786\"],[0.5555555555555556,\"#d8576b\"],[0.6666666666666666,\"#ed7953\"],[0.7777777777777778,\"#fb9f3a\"],[0.8888888888888888,\"#fdca26\"],[1.0,\"#f0f921\"]],\"sequentialminus\":[[0.0,\"#0d0887\"],[0.1111111111111111,\"#46039f\"],[0.2222222222222222,\"#7201a8\"],[0.3333333333333333,\"#9c179e\"],[0.4444444444444444,\"#bd3786\"],[0.5555555555555556,\"#d8576b\"],[0.6666666666666666,\"#ed7953\"],[0.7777777777777778,\"#fb9f3a\"],[0.8888888888888888,\"#fdca26\"],[1.0,\"#f0f921\"]],\"diverging\":[[0,\"#8e0152\"],[0.1,\"#c51b7d\"],[0.2,\"#de77ae\"],[0.3,\"#f1b6da\"],[0.4,\"#fde0ef\"],[0.5,\"#f7f7f7\"],[0.6,\"#e6f5d0\"],[0.7,\"#b8e186\"],[0.8,\"#7fbc41\"],[0.9,\"#4d9221\"],[1,\"#276419\"]]},\"xaxis\":{\"gridcolor\":\"white\",\"linecolor\":\"white\",\"ticks\":\"\",\"title\":{\"standoff\":15},\"zerolinecolor\":\"white\",\"automargin\":true,\"zerolinewidth\":2},\"yaxis\":{\"gridcolor\":\"white\",\"linecolor\":\"white\",\"ticks\":\"\",\"title\":{\"standoff\":15},\"zerolinecolor\":\"white\",\"automargin\":true,\"zerolinewidth\":2},\"scene\":{\"xaxis\":{\"backgroundcolor\":\"#E5ECF6\",\"gridcolor\":\"white\",\"linecolor\":\"white\",\"showbackground\":true,\"ticks\":\"\",\"zerolinecolor\":\"white\",\"gridwidth\":2},\"yaxis\":{\"backgroundcolor\":\"#E5ECF6\",\"gridcolor\":\"white\",\"linecolor\":\"white\",\"showbackground\":true,\"ticks\":\"\",\"zerolinecolor\":\"white\",\"gridwidth\":2},\"zaxis\":{\"backgroundcolor\":\"#E5ECF6\",\"gridcolor\":\"white\",\"linecolor\":\"white\",\"showbackground\":true,\"ticks\":\"\",\"zerolinecolor\":\"white\",\"gridwidth\":2}},\"shapedefaults\":{\"line\":{\"color\":\"#2a3f5f\"}},\"annotationdefaults\":{\"arrowcolor\":\"#2a3f5f\",\"arrowhead\":0,\"arrowwidth\":1},\"geo\":{\"bgcolor\":\"white\",\"landcolor\":\"#E5ECF6\",\"subunitcolor\":\"white\",\"showland\":true,\"showlakes\":true,\"lakecolor\":\"white\"},\"title\":{\"x\":0.05},\"mapbox\":{\"style\":\"light\"}}},\"xaxis\":{\"title\":{\"text\":\"Birth\"},\"side\":\"bottom\",\"type\":\"linear\",\"range\":[-0.034616093635559085,1.7654207754135132],\"autorange\":false,\"ticks\":\"outside\",\"showline\":true,\"zeroline\":true,\"linewidth\":1,\"linecolor\":\"black\",\"mirror\":false,\"showexponent\":\"all\",\"exponentformat\":\"e\"},\"yaxis\":{\"title\":{\"text\":\"Death\"},\"side\":\"left\",\"type\":\"linear\",\"range\":[-0.034616093635559085,1.7654207754135132],\"autorange\":false,\"scaleanchor\":\"x\",\"scaleratio\":1,\"ticks\":\"outside\",\"showline\":true,\"zeroline\":true,\"linewidth\":1,\"linecolor\":\"black\",\"mirror\":false,\"showexponent\":\"all\",\"exponentformat\":\"e\"},\"width\":500,\"height\":500,\"plot_bgcolor\":\"white\"},                        {\"responsive\": true}                    ).then(function(){\n",
       "                            \n",
       "var gd = document.getElementById('144fa717-fe82-4e8a-bf87-06d431bb9bc5');\n",
       "var x = new MutationObserver(function (mutations, observer) {{\n",
       "        var display = window.getComputedStyle(gd).display;\n",
       "        if (!display || display === 'none') {{\n",
       "            console.log([gd, 'removed!']);\n",
       "            Plotly.purge(gd);\n",
       "            observer.disconnect();\n",
       "        }}\n",
       "}});\n",
       "\n",
       "// Listen for the removal of the full notebook cells\n",
       "var notebookContainer = gd.closest('#notebook-container');\n",
       "if (notebookContainer) {{\n",
       "    x.observe(notebookContainer, {childList: true});\n",
       "}}\n",
       "\n",
       "// Listen for the clearing of the current output cell\n",
       "var outputEl = gd.closest('.output');\n",
       "if (outputEl) {{\n",
       "    x.observe(outputEl, {childList: true});\n",
       "}}\n",
       "\n",
       "                        })                };                });            </script>        </div>"
      ]
     },
     "metadata": {},
     "output_type": "display_data"
    }
   ],
   "source": [
    "point_cloud_array = np.array([list(t) for t in point_cloud])\n",
    "\n",
    "persistence_diagram2 = persistence.fit_transform(point_cloud_array[None, :, :])\n",
    "persistence.plot(persistence_diagram2)"
   ]
  },
  {
   "cell_type": "code",
   "execution_count": 143,
   "id": "4970b657-b16c-4202-af9b-8bc2bbe702bc",
   "metadata": {},
   "outputs": [
    {
     "data": {
      "image/png": "[encoded data removed]",
      "text/plain": [
       "<Figure size 640x480 with 1 Axes>"
      ]
     },
     "metadata": {},
     "output_type": "display_data"
    }
   ],
   "source": [
    "# Large amount of noise\n",
    "point_cloud = [sample_point(radius=1, std = 0.15) for _ in range(100)]\n",
    "\n",
    "plt.scatter(*zip(*point_cloud), c=\"grey\")\n",
    "plt.gca().set_aspect('equal') # Set axes to equal scaling\n",
    "plt.axis('off')\n",
    "plt.savefig(\"Much_noise.png\")\n",
    "plt.show()"
   ]
  },
  {
   "cell_type": "code",
   "execution_count": 144,
   "id": "3e6a59fc-2ad0-48c9-9d97-dd80e3e9b10c",
   "metadata": {},
   "outputs": [
    {
     "data": {
      "application/vnd.plotly.v1+json": {
       "config": {
        "plotlyServerURL": "https://plot.ly"
       },
       "data": [
        {
         "hoverinfo": "none",
         "line": {
          "color": "black",
          "dash": "dash",
          "width": 1
         },
         "mode": "lines",
         "showlegend": false,
         "type": "scatter",
         "x": [
          -0.026883251667022705,
          1.371045835018158
         ],
         "y": [
          -0.026883251667022705,
          1.371045835018158
         ]
        },
        {
         "hoverinfo": "text",
         "hovertext": [
          "(0.0, 0.00912097655236721)",
          "(0.0, 0.018034256994724274)",
          "(0.0, 0.03461810573935509)",
          "(0.0, 0.0351884663105011)",
          "(0.0, 0.03874865174293518)",
          "(0.0, 0.03883976861834526)",
          "(0.0, 0.040223874151706696)",
          "(0.0, 0.04163578525185585)",
          "(0.0, 0.04395097866654396)",
          "(0.0, 0.04397169128060341)",
          "(0.0, 0.047746360301971436)",
          "(0.0, 0.05250066891312599)",
          "(0.0, 0.052566736936569214)",
          "(0.0, 0.052706968039274216)",
          "(0.0, 0.05283479392528534)",
          "(0.0, 0.05299295857548714)",
          "(0.0, 0.053641289472579956)",
          "(0.0, 0.053901802748441696)",
          "(0.0, 0.054449599236249924)",
          "(0.0, 0.05735320225358009)",
          "(0.0, 0.06058590114116669)",
          "(0.0, 0.06388336420059204)",
          "(0.0, 0.06400083750486374)",
          "(0.0, 0.06534937769174576)",
          "(0.0, 0.06699687987565994)",
          "(0.0, 0.06730926036834717)",
          "(0.0, 0.06973404437303543)",
          "(0.0, 0.06978105753660202)",
          "(0.0, 0.07305867224931717)",
          "(0.0, 0.07402638345956802)",
          "(0.0, 0.07730995863676071)",
          "(0.0, 0.08106852322816849)",
          "(0.0, 0.08120778203010559)",
          "(0.0, 0.08138612657785416)",
          "(0.0, 0.08247406035661697)",
          "(0.0, 0.08311299234628677)",
          "(0.0, 0.08662525564432144)",
          "(0.0, 0.08905388414859772)",
          "(0.0, 0.0897183045744896)",
          "(0.0, 0.09152872860431671)",
          "(0.0, 0.09335670620203018)",
          "(0.0, 0.09371154755353928)",
          "(0.0, 0.09680422395467758)",
          "(0.0, 0.10003107786178589)",
          "(0.0, 0.10042262822389603)",
          "(0.0, 0.10427398234605789)",
          "(0.0, 0.10870201140642166)",
          "(0.0, 0.11126343905925751)",
          "(0.0, 0.11442908644676208)",
          "(0.0, 0.11456134170293808)",
          "(0.0, 0.11478669941425323)",
          "(0.0, 0.11677537858486176)",
          "(0.0, 0.11817988753318787)",
          "(0.0, 0.12319263070821762)",
          "(0.0, 0.12320929765701294)",
          "(0.0, 0.12339747697114944)",
          "(0.0, 0.12396733462810516)",
          "(0.0, 0.12960906326770782)",
          "(0.0, 0.13136456906795502)",
          "(0.0, 0.13265720009803772)",
          "(0.0, 0.13745568692684174)",
          "(0.0, 0.13904209434986115)",
          "(0.0, 0.1393507570028305)",
          "(0.0, 0.1426345705986023)",
          "(0.0, 0.14315156638622284)",
          "(0.0, 0.1443507969379425)",
          "(0.0, 0.14779455959796906)",
          "(0.0, 0.15173614025115967)",
          "(0.0, 0.15472398698329926)",
          "(0.0, 0.15964898467063904)",
          "(0.0, 0.16054336726665497)",
          "(0.0, 0.16346539556980133)",
          "(0.0, 0.16568705439567566)",
          "(0.0, 0.16871027648448944)",
          "(0.0, 0.16914381086826324)",
          "(0.0, 0.17195338010787964)",
          "(0.0, 0.1721232682466507)",
          "(0.0, 0.17214307188987732)",
          "(0.0, 0.17281998693943024)",
          "(0.0, 0.17601734399795532)",
          "(0.0, 0.18750257790088654)",
          "(0.0, 0.1882481724023819)",
          "(0.0, 0.1884850710630417)",
          "(0.0, 0.19360658526420593)",
          "(0.0, 0.1981334090232849)",
          "(0.0, 0.20028485357761383)",
          "(0.0, 0.2012535035610199)",
          "(0.0, 0.20387469232082367)",
          "(0.0, 0.2296704649925232)",
          "(0.0, 0.23355475068092346)",
          "(0.0, 0.23430876433849335)",
          "(0.0, 0.2442893087863922)",
          "(0.0, 0.24505515396595)",
          "(0.0, 0.2572261095046997)",
          "(0.0, 0.26825711131095886)",
          "(0.0, 0.28830328583717346)",
          "(0.0, 0.3279331922531128)",
          "(0.0, 0.33184289932250977)",
          "(0.0, 0.34735438227653503)"
         ],
         "mode": "markers",
         "name": "H0",
         "type": "scatter",
         "x": [
          0,
          0,
          0,
          0,
          0,
          0,
          0,
          0,
          0,
          0,
          0,
          0,
          0,
          0,
          0,
          0,
          0,
          0,
          0,
          0,
          0,
          0,
          0,
          0,
          0,
          0,
          0,
          0,
          0,
          0,
          0,
          0,
          0,
          0,
          0,
          0,
          0,
          0,
          0,
          0,
          0,
          0,
          0,
          0,
          0,
          0,
          0,
          0,
          0,
          0,
          0,
          0,
          0,
          0,
          0,
          0,
          0,
          0,
          0,
          0,
          0,
          0,
          0,
          0,
          0,
          0,
          0,
          0,
          0,
          0,
          0,
          0,
          0,
          0,
          0,
          0,
          0,
          0,
          0,
          0,
          0,
          0,
          0,
          0,
          0,
          0,
          0,
          0,
          0,
          0,
          0,
          0,
          0,
          0,
          0,
          0,
          0,
          0,
          0
         ],
         "y": [
          0.00912097655236721,
          0.018034256994724274,
          0.03461810573935509,
          0.0351884663105011,
          0.03874865174293518,
          0.03883976861834526,
          0.040223874151706696,
          0.04163578525185585,
          0.04395097866654396,
          0.04397169128060341,
          0.047746360301971436,
          0.05250066891312599,
          0.052566736936569214,
          0.052706968039274216,
          0.05283479392528534,
          0.05299295857548714,
          0.053641289472579956,
          0.053901802748441696,
          0.054449599236249924,
          0.05735320225358009,
          0.06058590114116669,
          0.06388336420059204,
          0.06400083750486374,
          0.06534937769174576,
          0.06699687987565994,
          0.06730926036834717,
          0.06973404437303543,
          0.06978105753660202,
          0.07305867224931717,
          0.07402638345956802,
          0.07730995863676071,
          0.08106852322816849,
          0.08120778203010559,
          0.08138612657785416,
          0.08247406035661697,
          0.08311299234628677,
          0.08662525564432144,
          0.08905388414859772,
          0.0897183045744896,
          0.09152872860431671,
          0.09335670620203018,
          0.09371154755353928,
          0.09680422395467758,
          0.10003107786178589,
          0.10042262822389603,
          0.10427398234605789,
          0.10870201140642166,
          0.11126343905925751,
          0.11442908644676208,
          0.11456134170293808,
          0.11478669941425323,
          0.11677537858486176,
          0.11817988753318787,
          0.12319263070821762,
          0.12320929765701294,
          0.12339747697114944,
          0.12396733462810516,
          0.12960906326770782,
          0.13136456906795502,
          0.13265720009803772,
          0.13745568692684174,
          0.13904209434986115,
          0.1393507570028305,
          0.1426345705986023,
          0.14315156638622284,
          0.1443507969379425,
          0.14779455959796906,
          0.15173614025115967,
          0.15472398698329926,
          0.15964898467063904,
          0.16054336726665497,
          0.16346539556980133,
          0.16568705439567566,
          0.16871027648448944,
          0.16914381086826324,
          0.17195338010787964,
          0.1721232682466507,
          0.17214307188987732,
          0.17281998693943024,
          0.17601734399795532,
          0.18750257790088654,
          0.1882481724023819,
          0.1884850710630417,
          0.19360658526420593,
          0.1981334090232849,
          0.20028485357761383,
          0.2012535035610199,
          0.20387469232082367,
          0.2296704649925232,
          0.23355475068092346,
          0.23430876433849335,
          0.2442893087863922,
          0.24505515396595,
          0.2572261095046997,
          0.26825711131095886,
          0.28830328583717346,
          0.3279331922531128,
          0.33184289932250977,
          0.34735438227653503
         ]
        },
        {
         "hoverinfo": "text",
         "hovertext": [
          "(0.36642366647720337, 0.4150048494338989)",
          "(0.3476547598838806, 1.3441625833511353)",
          "(0.3100968897342682, 0.3464992046356201)",
          "(0.26757439970970154, 0.2724285125732422)",
          "(0.25307998061180115, 0.31760039925575256)",
          "(0.24598486721515656, 0.2583199739456177)",
          "(0.2180006057024002, 0.2565705478191376)",
          "(0.1414986103773117, 0.1477258950471878)",
          "(0.10600771009922028, 0.10887713730335236)",
          "(0.10472077131271362, 0.11826054006814957)"
         ],
         "mode": "markers",
         "name": "H1",
         "type": "scatter",
         "x": [
          0.36642366647720337,
          0.3476547598838806,
          0.3100968897342682,
          0.26757439970970154,
          0.25307998061180115,
          0.24598486721515656,
          0.2180006057024002,
          0.1414986103773117,
          0.10600771009922028,
          0.10472077131271362
         ],
         "y": [
          0.4150048494338989,
          1.3441625833511353,
          0.3464992046356201,
          0.2724285125732422,
          0.31760039925575256,
          0.2583199739456177,
          0.2565705478191376,
          0.1477258950471878,
          0.10887713730335236,
          0.11826054006814957
         ]
        },
        {
         "hoverinfo": "text",
         "hovertext": [],
         "mode": "markers",
         "name": "H2",
         "type": "scatter",
         "x": [],
         "y": []
        }
       ],
       "layout": {
        "height": 500,
        "plot_bgcolor": "white",
        "template": {
         "data": {
          "bar": [
           {
            "error_x": {
             "color": "#2a3f5f"
            },
            "error_y": {
             "color": "#2a3f5f"
            },
            "marker": {
             "line": {
              "color": "#E5ECF6",
              "width": 0.5
             },
             "pattern": {
              "fillmode": "overlay",
              "size": 10,
              "solidity": 0.2
             }
            },
            "type": "bar"
           }
          ],
          "barpolar": [
           {
            "marker": {
             "line": {
              "color": "#E5ECF6",
              "width": 0.5
             },
             "pattern": {
              "fillmode": "overlay",
              "size": 10,
              "solidity": 0.2
             }
            },
            "type": "barpolar"
           }
          ],
          "carpet": [
           {
            "aaxis": {
             "endlinecolor": "#2a3f5f",
             "gridcolor": "white",
             "linecolor": "white",
             "minorgridcolor": "white",
             "startlinecolor": "#2a3f5f"
            },
            "baxis": {
             "endlinecolor": "#2a3f5f",
             "gridcolor": "white",
             "linecolor": "white",
             "minorgridcolor": "white",
             "startlinecolor": "#2a3f5f"
            },
            "type": "carpet"
           }
          ],
          "choropleth": [
           {
            "colorbar": {
             "outlinewidth": 0,
             "ticks": ""
            },
            "type": "choropleth"
           }
          ],
          "contour": [
           {
            "colorbar": {
             "outlinewidth": 0,
             "ticks": ""
            },
            "colorscale": [
             [
              0,
              "#0d0887"
             ],
             [
              0.1111111111111111,
              "#46039f"
             ],
             [
              0.2222222222222222,
              "#7201a8"
             ],
             [
              0.3333333333333333,
              "#9c179e"
             ],
             [
              0.4444444444444444,
              "#bd3786"
             ],
             [
              0.5555555555555556,
              "#d8576b"
             ],
             [
              0.6666666666666666,
              "#ed7953"
             ],
             [
              0.7777777777777778,
              "#fb9f3a"
             ],
             [
              0.8888888888888888,
              "#fdca26"
             ],
             [
              1,
              "#f0f921"
             ]
            ],
            "type": "contour"
           }
          ],
          "contourcarpet": [
           {
            "colorbar": {
             "outlinewidth": 0,
             "ticks": ""
            },
            "type": "contourcarpet"
           }
          ],
          "heatmap": [
           {
            "colorbar": {
             "outlinewidth": 0,
             "ticks": ""
            },
            "colorscale": [
             [
              0,
              "#0d0887"
             ],
             [
              0.1111111111111111,
              "#46039f"
             ],
             [
              0.2222222222222222,
              "#7201a8"
             ],
             [
              0.3333333333333333,
              "#9c179e"
             ],
             [
              0.4444444444444444,
              "#bd3786"
             ],
             [
              0.5555555555555556,
              "#d8576b"
             ],
             [
              0.6666666666666666,
              "#ed7953"
             ],
             [
              0.7777777777777778,
              "#fb9f3a"
             ],
             [
              0.8888888888888888,
              "#fdca26"
             ],
             [
              1,
              "#f0f921"
             ]
            ],
            "type": "heatmap"
           }
          ],
          "heatmapgl": [
           {
            "colorbar": {
             "outlinewidth": 0,
             "ticks": ""
            },
            "colorscale": [
             [
              0,
              "#0d0887"
             ],
             [
              0.1111111111111111,
              "#46039f"
             ],
             [
              0.2222222222222222,
              "#7201a8"
             ],
             [
              0.3333333333333333,
              "#9c179e"
             ],
             [
              0.4444444444444444,
              "#bd3786"
             ],
             [
              0.5555555555555556,
              "#d8576b"
             ],
             [
              0.6666666666666666,
              "#ed7953"
             ],
             [
              0.7777777777777778,
              "#fb9f3a"
             ],
             [
              0.8888888888888888,
              "#fdca26"
             ],
             [
              1,
              "#f0f921"
             ]
            ],
            "type": "heatmapgl"
           }
          ],
          "histogram": [
           {
            "marker": {
             "pattern": {
              "fillmode": "overlay",
              "size": 10,
              "solidity": 0.2
             }
            },
            "type": "histogram"
           }
          ],
          "histogram2d": [
           {
            "colorbar": {
             "outlinewidth": 0,
             "ticks": ""
            },
            "colorscale": [
             [
              0,
              "#0d0887"
             ],
             [
              0.1111111111111111,
              "#46039f"
             ],
             [
              0.2222222222222222,
              "#7201a8"
             ],
             [
              0.3333333333333333,
              "#9c179e"
             ],
             [
              0.4444444444444444,
              "#bd3786"
             ],
             [
              0.5555555555555556,
              "#d8576b"
             ],
             [
              0.6666666666666666,
              "#ed7953"
             ],
             [
              0.7777777777777778,
              "#fb9f3a"
             ],
             [
              0.8888888888888888,
              "#fdca26"
             ],
             [
              1,
              "#f0f921"
             ]
            ],
            "type": "histogram2d"
           }
          ],
          "histogram2dcontour": [
           {
            "colorbar": {
             "outlinewidth": 0,
             "ticks": ""
            },
            "colorscale": [
             [
              0,
              "#0d0887"
             ],
             [
              0.1111111111111111,
              "#46039f"
             ],
             [
              0.2222222222222222,
              "#7201a8"
             ],
             [
              0.3333333333333333,
              "#9c179e"
             ],
             [
              0.4444444444444444,
              "#bd3786"
             ],
             [
              0.5555555555555556,
              "#d8576b"
             ],
             [
              0.6666666666666666,
              "#ed7953"
             ],
             [
              0.7777777777777778,
              "#fb9f3a"
             ],
             [
              0.8888888888888888,
              "#fdca26"
             ],
             [
              1,
              "#f0f921"
             ]
            ],
            "type": "histogram2dcontour"
           }
          ],
          "mesh3d": [
           {
            "colorbar": {
             "outlinewidth": 0,
             "ticks": ""
            },
            "type": "mesh3d"
           }
          ],
          "parcoords": [
           {
            "line": {
             "colorbar": {
              "outlinewidth": 0,
              "ticks": ""
             }
            },
            "type": "parcoords"
           }
          ],
          "pie": [
           {
            "automargin": true,
            "type": "pie"
           }
          ],
          "scatter": [
           {
            "fillpattern": {
             "fillmode": "overlay",
             "size": 10,
             "solidity": 0.2
            },
            "type": "scatter"
           }
          ],
          "scatter3d": [
           {
            "line": {
             "colorbar": {
              "outlinewidth": 0,
              "ticks": ""
             }
            },
            "marker": {
             "colorbar": {
              "outlinewidth": 0,
              "ticks": ""
             }
            },
            "type": "scatter3d"
           }
          ],
          "scattercarpet": [
           {
            "marker": {
             "colorbar": {
              "outlinewidth": 0,
              "ticks": ""
             }
            },
            "type": "scattercarpet"
           }
          ],
          "scattergeo": [
           {
            "marker": {
             "colorbar": {
              "outlinewidth": 0,
              "ticks": ""
             }
            },
            "type": "scattergeo"
           }
          ],
          "scattergl": [
           {
            "marker": {
             "colorbar": {
              "outlinewidth": 0,
              "ticks": ""
             }
            },
            "type": "scattergl"
           }
          ],
          "scattermapbox": [
           {
            "marker": {
             "colorbar": {
              "outlinewidth": 0,
              "ticks": ""
             }
            },
            "type": "scattermapbox"
           }
          ],
          "scatterpolar": [
           {
            "marker": {
             "colorbar": {
              "outlinewidth": 0,
              "ticks": ""
             }
            },
            "type": "scatterpolar"
           }
          ],
          "scatterpolargl": [
           {
            "marker": {
             "colorbar": {
              "outlinewidth": 0,
              "ticks": ""
             }
            },
            "type": "scatterpolargl"
           }
          ],
          "scatterternary": [
           {
            "marker": {
             "colorbar": {
              "outlinewidth": 0,
              "ticks": ""
             }
            },
            "type": "scatterternary"
           }
          ],
          "surface": [
           {
            "colorbar": {
             "outlinewidth": 0,
             "ticks": ""
            },
            "colorscale": [
             [
              0,
              "#0d0887"
             ],
             [
              0.1111111111111111,
              "#46039f"
             ],
             [
              0.2222222222222222,
              "#7201a8"
             ],
             [
              0.3333333333333333,
              "#9c179e"
             ],
             [
              0.4444444444444444,
              "#bd3786"
             ],
             [
              0.5555555555555556,
              "#d8576b"
             ],
             [
              0.6666666666666666,
              "#ed7953"
             ],
             [
              0.7777777777777778,
              "#fb9f3a"
             ],
             [
              0.8888888888888888,
              "#fdca26"
             ],
             [
              1,
              "#f0f921"
             ]
            ],
            "type": "surface"
           }
          ],
          "table": [
           {
            "cells": {
             "fill": {
              "color": "#EBF0F8"
             },
             "line": {
              "color": "white"
             }
            },
            "header": {
             "fill": {
              "color": "#C8D4E3"
             },
             "line": {
              "color": "white"
             }
            },
            "type": "table"
           }
          ]
         },
         "layout": {
          "annotationdefaults": {
           "arrowcolor": "#2a3f5f",
           "arrowhead": 0,
           "arrowwidth": 1
          },
          "autotypenumbers": "strict",
          "coloraxis": {
           "colorbar": {
            "outlinewidth": 0,
            "ticks": ""
           }
          },
          "colorscale": {
           "diverging": [
            [
             0,
             "#8e0152"
            ],
            [
             0.1,
             "#c51b7d"
            ],
            [
             0.2,
             "#de77ae"
            ],
            [
             0.3,
             "#f1b6da"
            ],
            [
             0.4,
             "#fde0ef"
            ],
            [
             0.5,
             "#f7f7f7"
            ],
            [
             0.6,
             "#e6f5d0"
            ],
            [
             0.7,
             "#b8e186"
            ],
            [
             0.8,
             "#7fbc41"
            ],
            [
             0.9,
             "#4d9221"
            ],
            [
             1,
             "#276419"
            ]
           ],
           "sequential": [
            [
             0,
             "#0d0887"
            ],
            [
             0.1111111111111111,
             "#46039f"
            ],
            [
             0.2222222222222222,
             "#7201a8"
            ],
            [
             0.3333333333333333,
             "#9c179e"
            ],
            [
             0.4444444444444444,
             "#bd3786"
            ],
            [
             0.5555555555555556,
             "#d8576b"
            ],
            [
             0.6666666666666666,
             "#ed7953"
            ],
            [
             0.7777777777777778,
             "#fb9f3a"
            ],
            [
             0.8888888888888888,
             "#fdca26"
            ],
            [
             1,
             "#f0f921"
            ]
           ],
           "sequentialminus": [
            [
             0,
             "#0d0887"
            ],
            [
             0.1111111111111111,
             "#46039f"
            ],
            [
             0.2222222222222222,
             "#7201a8"
            ],
            [
             0.3333333333333333,
             "#9c179e"
            ],
            [
             0.4444444444444444,
             "#bd3786"
            ],
            [
             0.5555555555555556,
             "#d8576b"
            ],
            [
             0.6666666666666666,
             "#ed7953"
            ],
            [
             0.7777777777777778,
             "#fb9f3a"
            ],
            [
             0.8888888888888888,
             "#fdca26"
            ],
            [
             1,
             "#f0f921"
            ]
           ]
          },
          "colorway": [
           "#636efa",
           "#EF553B",
           "#00cc96",
           "#ab63fa",
           "#FFA15A",
           "#19d3f3",
           "#FF6692",
           "#B6E880",
           "#FF97FF",
           "#FECB52"
          ],
          "font": {
           "color": "#2a3f5f"
          },
          "geo": {
           "bgcolor": "white",
           "lakecolor": "white",
           "landcolor": "#E5ECF6",
           "showlakes": true,
           "showland": true,
           "subunitcolor": "white"
          },
          "hoverlabel": {
           "align": "left"
          },
          "hovermode": "closest",
          "mapbox": {
           "style": "light"
          },
          "paper_bgcolor": "white",
          "plot_bgcolor": "#E5ECF6",
          "polar": {
           "angularaxis": {
            "gridcolor": "white",
            "linecolor": "white",
            "ticks": ""
           },
           "bgcolor": "#E5ECF6",
           "radialaxis": {
            "gridcolor": "white",
            "linecolor": "white",
            "ticks": ""
           }
          },
          "scene": {
           "xaxis": {
            "backgroundcolor": "#E5ECF6",
            "gridcolor": "white",
            "gridwidth": 2,
            "linecolor": "white",
            "showbackground": true,
            "ticks": "",
            "zerolinecolor": "white"
           },
           "yaxis": {
            "backgroundcolor": "#E5ECF6",
            "gridcolor": "white",
            "gridwidth": 2,
            "linecolor": "white",
            "showbackground": true,
            "ticks": "",
            "zerolinecolor": "white"
           },
           "zaxis": {
            "backgroundcolor": "#E5ECF6",
            "gridcolor": "white",
            "gridwidth": 2,
            "linecolor": "white",
            "showbackground": true,
            "ticks": "",
            "zerolinecolor": "white"
           }
          },
          "shapedefaults": {
           "line": {
            "color": "#2a3f5f"
           }
          },
          "ternary": {
           "aaxis": {
            "gridcolor": "white",
            "linecolor": "white",
            "ticks": ""
           },
           "baxis": {
            "gridcolor": "white",
            "linecolor": "white",
            "ticks": ""
           },
           "bgcolor": "#E5ECF6",
           "caxis": {
            "gridcolor": "white",
            "linecolor": "white",
            "ticks": ""
           }
          },
          "title": {
           "x": 0.05
          },
          "xaxis": {
           "automargin": true,
           "gridcolor": "white",
           "linecolor": "white",
           "ticks": "",
           "title": {
            "standoff": 15
           },
           "zerolinecolor": "white",
           "zerolinewidth": 2
          },
          "yaxis": {
           "automargin": true,
           "gridcolor": "white",
           "linecolor": "white",
           "ticks": "",
           "title": {
            "standoff": 15
           },
           "zerolinecolor": "white",
           "zerolinewidth": 2
          }
         }
        },
        "width": 500,
        "xaxis": {
         "autorange": false,
         "domain": [
          0,
          1
         ],
         "exponentformat": "e",
         "linecolor": "black",
         "linewidth": 1,
         "mirror": false,
         "range": [
          -0.06838427142798897,
          1.4125468547791242
         ],
         "showexponent": "all",
         "showline": true,
         "side": "bottom",
         "ticks": "outside",
         "title": {
          "text": "Birth"
         },
         "type": "linear",
         "zeroline": true
        },
        "yaxis": {
         "autorange": false,
         "domain": [
          0,
          1
         ],
         "exponentformat": "e",
         "linecolor": "black",
         "linewidth": 1,
         "mirror": false,
         "range": [
          -0.026883251667022705,
          1.371045835018158
         ],
         "scaleanchor": "x",
         "scaleratio": 1,
         "showexponent": "all",
         "showline": true,
         "side": "left",
         "ticks": "outside",
         "title": {
          "text": "Death"
         },
         "type": "linear",
         "zeroline": true
        }
       }
      },
      "image/png": "[encoded data removed]",
      "text/html": [
       "<div>                            <div id=\"034faa63-8f81-4476-9c4a-28f74419310e\" class=\"plotly-graph-div\" style=\"height:500px; width:500px;\"></div>            <script type=\"text/javascript\">                require([\"plotly\"], function(Plotly) {                    window.PLOTLYENV=window.PLOTLYENV || {};                                    if (document.getElementById(\"034faa63-8f81-4476-9c4a-28f74419310e\")) {                    Plotly.newPlot(                        \"034faa63-8f81-4476-9c4a-28f74419310e\",                        [{\"hoverinfo\":\"none\",\"line\":{\"color\":\"black\",\"dash\":\"dash\",\"width\":1},\"mode\":\"lines\",\"showlegend\":false,\"x\":[-0.026883251667022705,1.371045835018158],\"y\":[-0.026883251667022705,1.371045835018158],\"type\":\"scatter\"},{\"hoverinfo\":\"text\",\"hovertext\":[\"(0.0, 0.00912097655236721)\",\"(0.0, 0.018034256994724274)\",\"(0.0, 0.03461810573935509)\",\"(0.0, 0.0351884663105011)\",\"(0.0, 0.03874865174293518)\",\"(0.0, 0.03883976861834526)\",\"(0.0, 0.040223874151706696)\",\"(0.0, 0.04163578525185585)\",\"(0.0, 0.04395097866654396)\",\"(0.0, 0.04397169128060341)\",\"(0.0, 0.047746360301971436)\",\"(0.0, 0.05250066891312599)\",\"(0.0, 0.052566736936569214)\",\"(0.0, 0.052706968039274216)\",\"(0.0, 0.05283479392528534)\",\"(0.0, 0.05299295857548714)\",\"(0.0, 0.053641289472579956)\",\"(0.0, 0.053901802748441696)\",\"(0.0, 0.054449599236249924)\",\"(0.0, 0.05735320225358009)\",\"(0.0, 0.06058590114116669)\",\"(0.0, 0.06388336420059204)\",\"(0.0, 0.06400083750486374)\",\"(0.0, 0.06534937769174576)\",\"(0.0, 0.06699687987565994)\",\"(0.0, 0.06730926036834717)\",\"(0.0, 0.06973404437303543)\",\"(0.0, 0.06978105753660202)\",\"(0.0, 0.07305867224931717)\",\"(0.0, 0.07402638345956802)\",\"(0.0, 0.07730995863676071)\",\"(0.0, 0.08106852322816849)\",\"(0.0, 0.08120778203010559)\",\"(0.0, 0.08138612657785416)\",\"(0.0, 0.08247406035661697)\",\"(0.0, 0.08311299234628677)\",\"(0.0, 0.08662525564432144)\",\"(0.0, 0.08905388414859772)\",\"(0.0, 0.0897183045744896)\",\"(0.0, 0.09152872860431671)\",\"(0.0, 0.09335670620203018)\",\"(0.0, 0.09371154755353928)\",\"(0.0, 0.09680422395467758)\",\"(0.0, 0.10003107786178589)\",\"(0.0, 0.10042262822389603)\",\"(0.0, 0.10427398234605789)\",\"(0.0, 0.10870201140642166)\",\"(0.0, 0.11126343905925751)\",\"(0.0, 0.11442908644676208)\",\"(0.0, 0.11456134170293808)\",\"(0.0, 0.11478669941425323)\",\"(0.0, 0.11677537858486176)\",\"(0.0, 0.11817988753318787)\",\"(0.0, 0.12319263070821762)\",\"(0.0, 0.12320929765701294)\",\"(0.0, 0.12339747697114944)\",\"(0.0, 0.12396733462810516)\",\"(0.0, 0.12960906326770782)\",\"(0.0, 0.13136456906795502)\",\"(0.0, 0.13265720009803772)\",\"(0.0, 0.13745568692684174)\",\"(0.0, 0.13904209434986115)\",\"(0.0, 0.1393507570028305)\",\"(0.0, 0.1426345705986023)\",\"(0.0, 0.14315156638622284)\",\"(0.0, 0.1443507969379425)\",\"(0.0, 0.14779455959796906)\",\"(0.0, 0.15173614025115967)\",\"(0.0, 0.15472398698329926)\",\"(0.0, 0.15964898467063904)\",\"(0.0, 0.16054336726665497)\",\"(0.0, 0.16346539556980133)\",\"(0.0, 0.16568705439567566)\",\"(0.0, 0.16871027648448944)\",\"(0.0, 0.16914381086826324)\",\"(0.0, 0.17195338010787964)\",\"(0.0, 0.1721232682466507)\",\"(0.0, 0.17214307188987732)\",\"(0.0, 0.17281998693943024)\",\"(0.0, 0.17601734399795532)\",\"(0.0, 0.18750257790088654)\",\"(0.0, 0.1882481724023819)\",\"(0.0, 0.1884850710630417)\",\"(0.0, 0.19360658526420593)\",\"(0.0, 0.1981334090232849)\",\"(0.0, 0.20028485357761383)\",\"(0.0, 0.2012535035610199)\",\"(0.0, 0.20387469232082367)\",\"(0.0, 0.2296704649925232)\",\"(0.0, 0.23355475068092346)\",\"(0.0, 0.23430876433849335)\",\"(0.0, 0.2442893087863922)\",\"(0.0, 0.24505515396595)\",\"(0.0, 0.2572261095046997)\",\"(0.0, 0.26825711131095886)\",\"(0.0, 0.28830328583717346)\",\"(0.0, 0.3279331922531128)\",\"(0.0, 0.33184289932250977)\",\"(0.0, 0.34735438227653503)\"],\"mode\":\"markers\",\"name\":\"H0\",\"x\":[0.0,0.0,0.0,0.0,0.0,0.0,0.0,0.0,0.0,0.0,0.0,0.0,0.0,0.0,0.0,0.0,0.0,0.0,0.0,0.0,0.0,0.0,0.0,0.0,0.0,0.0,0.0,0.0,0.0,0.0,0.0,0.0,0.0,0.0,0.0,0.0,0.0,0.0,0.0,0.0,0.0,0.0,0.0,0.0,0.0,0.0,0.0,0.0,0.0,0.0,0.0,0.0,0.0,0.0,0.0,0.0,0.0,0.0,0.0,0.0,0.0,0.0,0.0,0.0,0.0,0.0,0.0,0.0,0.0,0.0,0.0,0.0,0.0,0.0,0.0,0.0,0.0,0.0,0.0,0.0,0.0,0.0,0.0,0.0,0.0,0.0,0.0,0.0,0.0,0.0,0.0,0.0,0.0,0.0,0.0,0.0,0.0,0.0,0.0],\"y\":[0.00912097655236721,0.018034256994724274,0.03461810573935509,0.0351884663105011,0.03874865174293518,0.03883976861834526,0.040223874151706696,0.04163578525185585,0.04395097866654396,0.04397169128060341,0.047746360301971436,0.05250066891312599,0.052566736936569214,0.052706968039274216,0.05283479392528534,0.05299295857548714,0.053641289472579956,0.053901802748441696,0.054449599236249924,0.05735320225358009,0.06058590114116669,0.06388336420059204,0.06400083750486374,0.06534937769174576,0.06699687987565994,0.06730926036834717,0.06973404437303543,0.06978105753660202,0.07305867224931717,0.07402638345956802,0.07730995863676071,0.08106852322816849,0.08120778203010559,0.08138612657785416,0.08247406035661697,0.08311299234628677,0.08662525564432144,0.08905388414859772,0.0897183045744896,0.09152872860431671,0.09335670620203018,0.09371154755353928,0.09680422395467758,0.10003107786178589,0.10042262822389603,0.10427398234605789,0.10870201140642166,0.11126343905925751,0.11442908644676208,0.11456134170293808,0.11478669941425323,0.11677537858486176,0.11817988753318787,0.12319263070821762,0.12320929765701294,0.12339747697114944,0.12396733462810516,0.12960906326770782,0.13136456906795502,0.13265720009803772,0.13745568692684174,0.13904209434986115,0.1393507570028305,0.1426345705986023,0.14315156638622284,0.1443507969379425,0.14779455959796906,0.15173614025115967,0.15472398698329926,0.15964898467063904,0.16054336726665497,0.16346539556980133,0.16568705439567566,0.16871027648448944,0.16914381086826324,0.17195338010787964,0.1721232682466507,0.17214307188987732,0.17281998693943024,0.17601734399795532,0.18750257790088654,0.1882481724023819,0.1884850710630417,0.19360658526420593,0.1981334090232849,0.20028485357761383,0.2012535035610199,0.20387469232082367,0.2296704649925232,0.23355475068092346,0.23430876433849335,0.2442893087863922,0.24505515396595,0.2572261095046997,0.26825711131095886,0.28830328583717346,0.3279331922531128,0.33184289932250977,0.34735438227653503],\"type\":\"scatter\"},{\"hoverinfo\":\"text\",\"hovertext\":[\"(0.36642366647720337, 0.4150048494338989)\",\"(0.3476547598838806, 1.3441625833511353)\",\"(0.3100968897342682, 0.3464992046356201)\",\"(0.26757439970970154, 0.2724285125732422)\",\"(0.25307998061180115, 0.31760039925575256)\",\"(0.24598486721515656, 0.2583199739456177)\",\"(0.2180006057024002, 0.2565705478191376)\",\"(0.1414986103773117, 0.1477258950471878)\",\"(0.10600771009922028, 0.10887713730335236)\",\"(0.10472077131271362, 0.11826054006814957)\"],\"mode\":\"markers\",\"name\":\"H1\",\"x\":[0.36642366647720337,0.3476547598838806,0.3100968897342682,0.26757439970970154,0.25307998061180115,0.24598486721515656,0.2180006057024002,0.1414986103773117,0.10600771009922028,0.10472077131271362],\"y\":[0.4150048494338989,1.3441625833511353,0.3464992046356201,0.2724285125732422,0.31760039925575256,0.2583199739456177,0.2565705478191376,0.1477258950471878,0.10887713730335236,0.11826054006814957],\"type\":\"scatter\"},{\"hoverinfo\":\"text\",\"hovertext\":[],\"mode\":\"markers\",\"name\":\"H2\",\"x\":[],\"y\":[],\"type\":\"scatter\"}],                        {\"template\":{\"data\":{\"histogram2dcontour\":[{\"type\":\"histogram2dcontour\",\"colorbar\":{\"outlinewidth\":0,\"ticks\":\"\"},\"colorscale\":[[0.0,\"#0d0887\"],[0.1111111111111111,\"#46039f\"],[0.2222222222222222,\"#7201a8\"],[0.3333333333333333,\"#9c179e\"],[0.4444444444444444,\"#bd3786\"],[0.5555555555555556,\"#d8576b\"],[0.6666666666666666,\"#ed7953\"],[0.7777777777777778,\"#fb9f3a\"],[0.8888888888888888,\"#fdca26\"],[1.0,\"#f0f921\"]]}],\"choropleth\":[{\"type\":\"choropleth\",\"colorbar\":{\"outlinewidth\":0,\"ticks\":\"\"}}],\"histogram2d\":[{\"type\":\"histogram2d\",\"colorbar\":{\"outlinewidth\":0,\"ticks\":\"\"},\"colorscale\":[[0.0,\"#0d0887\"],[0.1111111111111111,\"#46039f\"],[0.2222222222222222,\"#7201a8\"],[0.3333333333333333,\"#9c179e\"],[0.4444444444444444,\"#bd3786\"],[0.5555555555555556,\"#d8576b\"],[0.6666666666666666,\"#ed7953\"],[0.7777777777777778,\"#fb9f3a\"],[0.8888888888888888,\"#fdca26\"],[1.0,\"#f0f921\"]]}],\"heatmap\":[{\"type\":\"heatmap\",\"colorbar\":{\"outlinewidth\":0,\"ticks\":\"\"},\"colorscale\":[[0.0,\"#0d0887\"],[0.1111111111111111,\"#46039f\"],[0.2222222222222222,\"#7201a8\"],[0.3333333333333333,\"#9c179e\"],[0.4444444444444444,\"#bd3786\"],[0.5555555555555556,\"#d8576b\"],[0.6666666666666666,\"#ed7953\"],[0.7777777777777778,\"#fb9f3a\"],[0.8888888888888888,\"#fdca26\"],[1.0,\"#f0f921\"]]}],\"heatmapgl\":[{\"type\":\"heatmapgl\",\"colorbar\":{\"outlinewidth\":0,\"ticks\":\"\"},\"colorscale\":[[0.0,\"#0d0887\"],[0.1111111111111111,\"#46039f\"],[0.2222222222222222,\"#7201a8\"],[0.3333333333333333,\"#9c179e\"],[0.4444444444444444,\"#bd3786\"],[0.5555555555555556,\"#d8576b\"],[0.6666666666666666,\"#ed7953\"],[0.7777777777777778,\"#fb9f3a\"],[0.8888888888888888,\"#fdca26\"],[1.0,\"#f0f921\"]]}],\"contourcarpet\":[{\"type\":\"contourcarpet\",\"colorbar\":{\"outlinewidth\":0,\"ticks\":\"\"}}],\"contour\":[{\"type\":\"contour\",\"colorbar\":{\"outlinewidth\":0,\"ticks\":\"\"},\"colorscale\":[[0.0,\"#0d0887\"],[0.1111111111111111,\"#46039f\"],[0.2222222222222222,\"#7201a8\"],[0.3333333333333333,\"#9c179e\"],[0.4444444444444444,\"#bd3786\"],[0.5555555555555556,\"#d8576b\"],[0.6666666666666666,\"#ed7953\"],[0.7777777777777778,\"#fb9f3a\"],[0.8888888888888888,\"#fdca26\"],[1.0,\"#f0f921\"]]}],\"surface\":[{\"type\":\"surface\",\"colorbar\":{\"outlinewidth\":0,\"ticks\":\"\"},\"colorscale\":[[0.0,\"#0d0887\"],[0.1111111111111111,\"#46039f\"],[0.2222222222222222,\"#7201a8\"],[0.3333333333333333,\"#9c179e\"],[0.4444444444444444,\"#bd3786\"],[0.5555555555555556,\"#d8576b\"],[0.6666666666666666,\"#ed7953\"],[0.7777777777777778,\"#fb9f3a\"],[0.8888888888888888,\"#fdca26\"],[1.0,\"#f0f921\"]]}],\"mesh3d\":[{\"type\":\"mesh3d\",\"colorbar\":{\"outlinewidth\":0,\"ticks\":\"\"}}],\"scatter\":[{\"fillpattern\":{\"fillmode\":\"overlay\",\"size\":10,\"solidity\":0.2},\"type\":\"scatter\"}],\"parcoords\":[{\"type\":\"parcoords\",\"line\":{\"colorbar\":{\"outlinewidth\":0,\"ticks\":\"\"}}}],\"scatterpolargl\":[{\"type\":\"scatterpolargl\",\"marker\":{\"colorbar\":{\"outlinewidth\":0,\"ticks\":\"\"}}}],\"bar\":[{\"error_x\":{\"color\":\"#2a3f5f\"},\"error_y\":{\"color\":\"#2a3f5f\"},\"marker\":{\"line\":{\"color\":\"#E5ECF6\",\"width\":0.5},\"pattern\":{\"fillmode\":\"overlay\",\"size\":10,\"solidity\":0.2}},\"type\":\"bar\"}],\"scattergeo\":[{\"type\":\"scattergeo\",\"marker\":{\"colorbar\":{\"outlinewidth\":0,\"ticks\":\"\"}}}],\"scatterpolar\":[{\"type\":\"scatterpolar\",\"marker\":{\"colorbar\":{\"outlinewidth\":0,\"ticks\":\"\"}}}],\"histogram\":[{\"marker\":{\"pattern\":{\"fillmode\":\"overlay\",\"size\":10,\"solidity\":0.2}},\"type\":\"histogram\"}],\"scattergl\":[{\"type\":\"scattergl\",\"marker\":{\"colorbar\":{\"outlinewidth\":0,\"ticks\":\"\"}}}],\"scatter3d\":[{\"type\":\"scatter3d\",\"line\":{\"colorbar\":{\"outlinewidth\":0,\"ticks\":\"\"}},\"marker\":{\"colorbar\":{\"outlinewidth\":0,\"ticks\":\"\"}}}],\"scattermapbox\":[{\"type\":\"scattermapbox\",\"marker\":{\"colorbar\":{\"outlinewidth\":0,\"ticks\":\"\"}}}],\"scatterternary\":[{\"type\":\"scatterternary\",\"marker\":{\"colorbar\":{\"outlinewidth\":0,\"ticks\":\"\"}}}],\"scattercarpet\":[{\"type\":\"scattercarpet\",\"marker\":{\"colorbar\":{\"outlinewidth\":0,\"ticks\":\"\"}}}],\"carpet\":[{\"aaxis\":{\"endlinecolor\":\"#2a3f5f\",\"gridcolor\":\"white\",\"linecolor\":\"white\",\"minorgridcolor\":\"white\",\"startlinecolor\":\"#2a3f5f\"},\"baxis\":{\"endlinecolor\":\"#2a3f5f\",\"gridcolor\":\"white\",\"linecolor\":\"white\",\"minorgridcolor\":\"white\",\"startlinecolor\":\"#2a3f5f\"},\"type\":\"carpet\"}],\"table\":[{\"cells\":{\"fill\":{\"color\":\"#EBF0F8\"},\"line\":{\"color\":\"white\"}},\"header\":{\"fill\":{\"color\":\"#C8D4E3\"},\"line\":{\"color\":\"white\"}},\"type\":\"table\"}],\"barpolar\":[{\"marker\":{\"line\":{\"color\":\"#E5ECF6\",\"width\":0.5},\"pattern\":{\"fillmode\":\"overlay\",\"size\":10,\"solidity\":0.2}},\"type\":\"barpolar\"}],\"pie\":[{\"automargin\":true,\"type\":\"pie\"}]},\"layout\":{\"autotypenumbers\":\"strict\",\"colorway\":[\"#636efa\",\"#EF553B\",\"#00cc96\",\"#ab63fa\",\"#FFA15A\",\"#19d3f3\",\"#FF6692\",\"#B6E880\",\"#FF97FF\",\"#FECB52\"],\"font\":{\"color\":\"#2a3f5f\"},\"hovermode\":\"closest\",\"hoverlabel\":{\"align\":\"left\"},\"paper_bgcolor\":\"white\",\"plot_bgcolor\":\"#E5ECF6\",\"polar\":{\"bgcolor\":\"#E5ECF6\",\"angularaxis\":{\"gridcolor\":\"white\",\"linecolor\":\"white\",\"ticks\":\"\"},\"radialaxis\":{\"gridcolor\":\"white\",\"linecolor\":\"white\",\"ticks\":\"\"}},\"ternary\":{\"bgcolor\":\"#E5ECF6\",\"aaxis\":{\"gridcolor\":\"white\",\"linecolor\":\"white\",\"ticks\":\"\"},\"baxis\":{\"gridcolor\":\"white\",\"linecolor\":\"white\",\"ticks\":\"\"},\"caxis\":{\"gridcolor\":\"white\",\"linecolor\":\"white\",\"ticks\":\"\"}},\"coloraxis\":{\"colorbar\":{\"outlinewidth\":0,\"ticks\":\"\"}},\"colorscale\":{\"sequential\":[[0.0,\"#0d0887\"],[0.1111111111111111,\"#46039f\"],[0.2222222222222222,\"#7201a8\"],[0.3333333333333333,\"#9c179e\"],[0.4444444444444444,\"#bd3786\"],[0.5555555555555556,\"#d8576b\"],[0.6666666666666666,\"#ed7953\"],[0.7777777777777778,\"#fb9f3a\"],[0.8888888888888888,\"#fdca26\"],[1.0,\"#f0f921\"]],\"sequentialminus\":[[0.0,\"#0d0887\"],[0.1111111111111111,\"#46039f\"],[0.2222222222222222,\"#7201a8\"],[0.3333333333333333,\"#9c179e\"],[0.4444444444444444,\"#bd3786\"],[0.5555555555555556,\"#d8576b\"],[0.6666666666666666,\"#ed7953\"],[0.7777777777777778,\"#fb9f3a\"],[0.8888888888888888,\"#fdca26\"],[1.0,\"#f0f921\"]],\"diverging\":[[0,\"#8e0152\"],[0.1,\"#c51b7d\"],[0.2,\"#de77ae\"],[0.3,\"#f1b6da\"],[0.4,\"#fde0ef\"],[0.5,\"#f7f7f7\"],[0.6,\"#e6f5d0\"],[0.7,\"#b8e186\"],[0.8,\"#7fbc41\"],[0.9,\"#4d9221\"],[1,\"#276419\"]]},\"xaxis\":{\"gridcolor\":\"white\",\"linecolor\":\"white\",\"ticks\":\"\",\"title\":{\"standoff\":15},\"zerolinecolor\":\"white\",\"automargin\":true,\"zerolinewidth\":2},\"yaxis\":{\"gridcolor\":\"white\",\"linecolor\":\"white\",\"ticks\":\"\",\"title\":{\"standoff\":15},\"zerolinecolor\":\"white\",\"automargin\":true,\"zerolinewidth\":2},\"scene\":{\"xaxis\":{\"backgroundcolor\":\"#E5ECF6\",\"gridcolor\":\"white\",\"linecolor\":\"white\",\"showbackground\":true,\"ticks\":\"\",\"zerolinecolor\":\"white\",\"gridwidth\":2},\"yaxis\":{\"backgroundcolor\":\"#E5ECF6\",\"gridcolor\":\"white\",\"linecolor\":\"white\",\"showbackground\":true,\"ticks\":\"\",\"zerolinecolor\":\"white\",\"gridwidth\":2},\"zaxis\":{\"backgroundcolor\":\"#E5ECF6\",\"gridcolor\":\"white\",\"linecolor\":\"white\",\"showbackground\":true,\"ticks\":\"\",\"zerolinecolor\":\"white\",\"gridwidth\":2}},\"shapedefaults\":{\"line\":{\"color\":\"#2a3f5f\"}},\"annotationdefaults\":{\"arrowcolor\":\"#2a3f5f\",\"arrowhead\":0,\"arrowwidth\":1},\"geo\":{\"bgcolor\":\"white\",\"landcolor\":\"#E5ECF6\",\"subunitcolor\":\"white\",\"showland\":true,\"showlakes\":true,\"lakecolor\":\"white\"},\"title\":{\"x\":0.05},\"mapbox\":{\"style\":\"light\"}}},\"xaxis\":{\"title\":{\"text\":\"Birth\"},\"side\":\"bottom\",\"type\":\"linear\",\"range\":[-0.026883251667022705,1.371045835018158],\"autorange\":false,\"ticks\":\"outside\",\"showline\":true,\"zeroline\":true,\"linewidth\":1,\"linecolor\":\"black\",\"mirror\":false,\"showexponent\":\"all\",\"exponentformat\":\"e\"},\"yaxis\":{\"title\":{\"text\":\"Death\"},\"side\":\"left\",\"type\":\"linear\",\"range\":[-0.026883251667022705,1.371045835018158],\"autorange\":false,\"scaleanchor\":\"x\",\"scaleratio\":1,\"ticks\":\"outside\",\"showline\":true,\"zeroline\":true,\"linewidth\":1,\"linecolor\":\"black\",\"mirror\":false,\"showexponent\":\"all\",\"exponentformat\":\"e\"},\"width\":500,\"height\":500,\"plot_bgcolor\":\"white\"},                        {\"responsive\": true}                    ).then(function(){\n",
       "                            \n",
       "var gd = document.getElementById('034faa63-8f81-4476-9c4a-28f74419310e');\n",
       "var x = new MutationObserver(function (mutations, observer) {{\n",
       "        var display = window.getComputedStyle(gd).display;\n",
       "        if (!display || display === 'none') {{\n",
       "            console.log([gd, 'removed!']);\n",
       "            Plotly.purge(gd);\n",
       "            observer.disconnect();\n",
       "        }}\n",
       "}});\n",
       "\n",
       "// Listen for the removal of the full notebook cells\n",
       "var notebookContainer = gd.closest('#notebook-container');\n",
       "if (notebookContainer) {{\n",
       "    x.observe(notebookContainer, {childList: true});\n",
       "}}\n",
       "\n",
       "// Listen for the clearing of the current output cell\n",
       "var outputEl = gd.closest('.output');\n",
       "if (outputEl) {{\n",
       "    x.observe(outputEl, {childList: true});\n",
       "}}\n",
       "\n",
       "                        })                };                });            </script>        </div>"
      ]
     },
     "metadata": {},
     "output_type": "display_data"
    }
   ],
   "source": [
    "point_cloud_array = np.array([list(t) for t in point_cloud])\n",
    "\n",
    "persistence_diagram3 = persistence.fit_transform(point_cloud_array[None, :, :])\n",
    "persistence.plot(persistence_diagram3)"
   ]
  },
  {
   "cell_type": "markdown",
   "id": "000e1295-30ec-41b5-bd35-8eff18d462cb",
   "metadata": {},
   "source": [
    "# Persistence Landscapes"
   ]
  },
  {
   "cell_type": "code",
   "execution_count": 145,
   "id": "00d8df91-7b10-4527-a5a6-642193bb1204",
   "metadata": {},
   "outputs": [],
   "source": [
    "PL = PersistenceLandscape()"
   ]
  },
  {
   "cell_type": "code",
   "execution_count": 146,
   "id": "75ed5dd2-a9c7-40d4-be84-c7727009457d",
   "metadata": {},
   "outputs": [
    {
     "data": {
      "application/vnd.plotly.v1+json": {
       "config": {
        "plotlyServerURL": "https://plot.ly"
       },
       "data": [
        {
         "hoverinfo": "none",
         "mode": "lines",
         "name": "Layer 1 (H0)",
         "showlegend": true,
         "type": "scatter",
         "x": [
          0,
          0.002806931132017964,
          0.005613862264035928,
          0.008420793396053892,
          0.011227724528071857,
          0.014034655660089821,
          0.016841586792107784,
          0.01964851792412575,
          0.022455449056143714,
          0.025262380188161678,
          0.028069311320179643,
          0.030876242452197607,
          0.03368317358421557,
          0.03649010471623353,
          0.0392970358482515,
          0.04210396698026946,
          0.04491089811228743,
          0.04771782924430539,
          0.050524760376323356,
          0.05333169150834132,
          0.056138622640359286,
          0.05894555377237725,
          0.061752484904395215,
          0.06455941603641317,
          0.06736634716843114,
          0.0701732783004491,
          0.07298020943246707,
          0.07578714056448503,
          0.078594071696503,
          0.08140100282852096,
          0.08420793396053892,
          0.08701486509255689,
          0.08982179622457485,
          0.09262872735659282,
          0.09543565848861078,
          0.09824258962062875,
          0.10104952075264671,
          0.10385645188466468,
          0.10666338301668264,
          0.1094703141487006,
          0.11227724528071857,
          0.11508417641273654,
          0.1178911075447545,
          0.12069803867677247,
          0.12350496980879043,
          0.12631190094080838,
          0.12911883207282635,
          0.1319257632048443,
          0.13473269433686227,
          0.13753962546888024,
          0.1403465566008982,
          0.14315348773291617,
          0.14596041886493413,
          0.1487673499969521,
          0.15157428112897006,
          0.15438121226098803,
          0.157188143393006,
          0.15999507452502396,
          0.16280200565704192,
          0.16560893678905989,
          0.16841586792107785,
          0.17122279905309581,
          0.17402973018511378,
          0.17683666131713174,
          0.1796435924491497,
          0.18245052358116767,
          0.18525745471318564,
          0.1880643858452036,
          0.19087131697722157,
          0.19367824810923953,
          0.1964851792412575,
          0.19929211037327546,
          0.20209904150529343,
          0.2049059726373114,
          0.20771290376932935,
          0.21051983490134732,
          0.21332676603336528,
          0.21613369716538325,
          0.2189406282974012,
          0.22174755942941918,
          0.22455449056143714,
          0.2273614216934551,
          0.23016835282547307,
          0.23297528395749104,
          0.235782215089509,
          0.23858914622152697,
          0.24139607735354493,
          0.2442030084855629,
          0.24700993961758086,
          0.24981687074959882,
          0.25262380188161676,
          0.2554307330136347,
          0.2582376641456527,
          0.26104459527767065,
          0.2638515264096886,
          0.2666584575417066,
          0.26946538867372455,
          0.2722723198057425,
          0.2750792509377605,
          0.27788618206977844
         ],
         "xaxis": "x",
         "y": [
          0,
          0.0028069311320179646,
          0.005613862264035929,
          0.008420793396053894,
          0.011227724528071859,
          0.014034655660089823,
          0.016841586792107788,
          0.019648517924125752,
          0.022455449056143717,
          0.02526238018816168,
          0.028069311320179646,
          0.03087624245219761,
          0.033683173584215576,
          0.03649010471623354,
          0.039297035848251505,
          0.04210396698026947,
          0.044910898112287434,
          0.0477178292443054,
          0.05052476037632336,
          0.05333169150834133,
          0.05613862264035929,
          0.05894555377237726,
          0.06175248490439522,
          0.06455941603641317,
          0.06736634716843114,
          0.0701732783004491,
          0.07298020943246707,
          0.07578714056448503,
          0.078594071696503,
          0.08140100282852096,
          0.08420793396053892,
          0.08701486509255689,
          0.08982179622457485,
          0.09262872735659282,
          0.09543565848861078,
          0.09824258962062875,
          0.10104952075264671,
          0.10385645188466468,
          0.10666338301668264,
          0.1094703141487006,
          0.11227724528071857,
          0.11508417641273654,
          0.1178911075447545,
          0.12069803867677247,
          0.12350496980879043,
          0.12631190094080838,
          0.12911883207282635,
          0.1319257632048443,
          0.13473269433686227,
          0.13753962546888024,
          0.13753962546888024,
          0.13473269433686227,
          0.1319257632048443,
          0.12911883207282635,
          0.12631190094080838,
          0.12350496980879042,
          0.12069803867677245,
          0.11789110754475449,
          0.11508417641273652,
          0.11227724528071856,
          0.10947031414870059,
          0.10666338301668263,
          0.10385645188466466,
          0.1010495207526467,
          0.09824258962062873,
          0.09543565848861077,
          0.0926287273565928,
          0.08982179622457484,
          0.08701486509255688,
          0.08420793396053891,
          0.08140100282852095,
          0.07859407169650298,
          0.07578714056448502,
          0.07298020943246705,
          0.07017327830044909,
          0.06736634716843112,
          0.06455941603641316,
          0.061752484904395194,
          0.05894555377237723,
          0.056138622640359265,
          0.0533316915083413,
          0.050524760376323335,
          0.04771782924430537,
          0.044910898112287406,
          0.04210396698026944,
          0.03929703584825148,
          0.03649010471623351,
          0.03368317358421555,
          0.030876242452197583,
          0.02806931132017962,
          0.02526238018816168,
          0.022455449056143717,
          0.019648517924125752,
          0.016841586792107788,
          0.014034655660089823,
          0.011227724528071859,
          0.008420793396053894,
          0.005613862264035929,
          0.0028069311320179646,
          0
         ],
         "yaxis": "y"
        },
        {
         "hoverinfo": "none",
         "mode": "lines",
         "name": "Layer 1 (H1)",
         "showlegend": true,
         "type": "scatter",
         "x": [
          0.369573712348938,
          0.38334588209788006,
          0.3971180518468221,
          0.41089022159576416,
          0.42466239134470624,
          0.43843456109364826,
          0.45220673084259033,
          0.46597890059153235,
          0.47975107034047443,
          0.4935232400894165,
          0.5072954098383585,
          0.5210675795873005,
          0.5348397493362427,
          0.5486119190851847,
          0.5623840888341267,
          0.5761562585830688,
          0.5899284283320109,
          0.6037005980809529,
          0.617472767829895,
          0.631244937578837,
          0.6450171073277791,
          0.6587892770767212,
          0.6725614468256632,
          0.6863336165746052,
          0.7001057863235474,
          0.7138779560724894,
          0.7276501258214314,
          0.7414222955703735,
          0.7551944653193156,
          0.7689666350682576,
          0.7827388048171997,
          0.7965109745661417,
          0.8102831443150837,
          0.8240553140640259,
          0.8378274838129679,
          0.8515996535619099,
          0.865371823310852,
          0.8791439930597941,
          0.8929161628087361,
          0.9066883325576782,
          0.9204605023066202,
          0.9342326720555623,
          0.9480048418045044,
          0.9617770115534464,
          0.9755491813023884,
          0.9893213510513306,
          1.0030935208002725,
          1.0168656905492146,
          1.0306378602981567,
          1.0444100300470986,
          1.0581821997960408,
          1.071954369544983,
          1.0857265392939248,
          1.099498709042867,
          1.113270878791809,
          1.127043048540751,
          1.1408152182896931,
          1.1545873880386353,
          1.1683595577875772,
          1.1821317275365193,
          1.1959038972854614,
          1.2096760670344033,
          1.2234482367833455,
          1.2372204065322876,
          1.2509925762812295,
          1.2647647460301716,
          1.2785369157791138,
          1.2923090855280557,
          1.3060812552769978,
          1.31985342502594,
          1.3336255947748819,
          1.347397764523824,
          1.3611699342727661,
          1.374942104021708,
          1.3887142737706502,
          1.4024864435195923,
          1.4162586132685342,
          1.4300307830174763,
          1.4438029527664185,
          1.4575751225153604,
          1.4713472922643025,
          1.4851194620132446,
          1.4988916317621865,
          1.5126638015111287,
          1.5264359712600708,
          1.5402081410090127,
          1.5539803107579548,
          1.567752480506897,
          1.5815246502558389,
          1.595296820004781,
          1.6090689897537231,
          1.622841159502665,
          1.6366133292516072,
          1.6503854990005493,
          1.6641576687494912,
          1.6779298384984334,
          1.6917020082473755,
          1.7054741779963174,
          1.7192463477452595,
          1.7330185174942017
         ],
         "xaxis": "x2",
         "y": [
          0,
          0.013772169748942131,
          0.02754433949788404,
          0.04131650924682617,
          0.0550886789957683,
          0.06886084874471021,
          0.08263301849365234,
          0.09640518824259436,
          0.11017735799153638,
          0.12394952774047852,
          0.13772169748942054,
          0.15149386723836256,
          0.1652660369873047,
          0.1790382067362467,
          0.19281037648518873,
          0.20658254623413086,
          0.22035471598307288,
          0.2341268857320149,
          0.24789905548095703,
          0.26167122522989905,
          0.27544339497884107,
          0.2892155647277832,
          0.3029877344767252,
          0.31675990422566724,
          0.3305320739746094,
          0.3443042437235514,
          0.3580764134724934,
          0.37184858322143555,
          0.38562075297037757,
          0.3993929227193196,
          0.4131650924682617,
          0.42693726221720374,
          0.44070943196614576,
          0.4544816017150879,
          0.4682537714640299,
          0.48202594121297193,
          0.49579811096191406,
          0.5095702807108561,
          0.5233424504597981,
          0.5371146202087402,
          0.5508867899576823,
          0.5646589597066243,
          0.5784311294555664,
          0.5922032992045084,
          0.6059754689534504,
          0.6197476387023926,
          0.6335198084513345,
          0.6472919782002766,
          0.6610641479492188,
          0.6748363176981607,
          0.6748363176981609,
          0.6610641479492188,
          0.6472919782002768,
          0.6335198084513347,
          0.6197476387023926,
          0.6059754689534507,
          0.5922032992045085,
          0.5784311294555664,
          0.5646589597066245,
          0.5508867899576824,
          0.5371146202087402,
          0.5233424504597983,
          0.5095702807108562,
          0.49579811096191406,
          0.48202594121297215,
          0.46825377146403,
          0.4544816017150879,
          0.440709431966146,
          0.42693726221720385,
          0.4131650924682617,
          0.3993929227193198,
          0.3856207529703777,
          0.37184858322143555,
          0.35807641347249364,
          0.3443042437235515,
          0.3305320739746094,
          0.31675990422566747,
          0.30298773447672533,
          0.2892155647277832,
          0.2754433949788413,
          0.26167122522989916,
          0.24789905548095703,
          0.23412688573201512,
          0.220354715983073,
          0.20658254623413086,
          0.19281037648518895,
          0.17903820673624682,
          0.1652660369873047,
          0.15149386723836278,
          0.13772169748942065,
          0.12394952774047852,
          0.1101773579915366,
          0.09640518824259448,
          0.08263301849365234,
          0.06886084874471043,
          0.0550886789957683,
          0.04131650924682617,
          0.027544339497884263,
          0.013772169748942131,
          0
         ],
         "yaxis": "y2"
        },
        {
         "hoverinfo": "none",
         "mode": "lines",
         "name": "Layer 1 (H2)",
         "showlegend": true,
         "type": "scatter",
         "x": [
          1.7356834411621094,
          1.7363601621955331,
          1.737036883228957,
          1.7377136042623809,
          1.7383903252958046,
          1.7390670463292286,
          1.7397437673626523,
          1.7404204883960763,
          1.7410972094295,
          1.7417739304629238,
          1.7424506514963478,
          1.7431273725297716,
          1.7438040935631953,
          1.7444808145966193,
          1.745157535630043,
          1.745834256663467,
          1.7465109776968908,
          1.7471876987303145,
          1.7478644197637385,
          1.7485411407971623,
          1.749217861830586,
          1.74989458286401,
          1.7505713038974338,
          1.7512480249308577,
          1.7519247459642815,
          1.7526014669977052,
          1.7532781880311292,
          1.753954909064553,
          1.7546316300979767,
          1.7553083511314007,
          1.7559850721648245,
          1.7566617931982484,
          1.7573385142316722,
          1.758015235265096,
          1.75869195629852,
          1.7593686773319437,
          1.7600453983653674,
          1.7607221193987914,
          1.7613988404322152,
          1.7620755614656392,
          1.762752282499063,
          1.7634290035324867,
          1.7641057245659106,
          1.7647824455993344,
          1.7654591666327581,
          1.7661358876661821,
          1.7668126086996059,
          1.7674893297330299,
          1.7681660507664536,
          1.7688427717998774,
          1.7695194928333013,
          1.770196213866725,
          1.7708729349001489,
          1.7715496559335728,
          1.7722263769669966,
          1.7729030980004206,
          1.7735798190338443,
          1.774256540067268,
          1.774933261100692,
          1.7756099821341158,
          1.7762867031675396,
          1.7769634242009635,
          1.7776401452343873,
          1.7783168662678113,
          1.778993587301235,
          1.7796703083346588,
          1.7803470293680828,
          1.7810237504015065,
          1.7817004714349303,
          1.7823771924683542,
          1.783053913501778,
          1.783730634535202,
          1.7844073555686257,
          1.7850840766020495,
          1.7857607976354735,
          1.7864375186688972,
          1.787114239702321,
          1.787790960735745,
          1.7884676817691687,
          1.7891444028025925,
          1.7898211238360164,
          1.7904978448694402,
          1.7911745659028642,
          1.791851286936288,
          1.7925280079697117,
          1.7932047290031357,
          1.7938814500365594,
          1.7945581710699834,
          1.7952348921034071,
          1.795911613136831,
          1.7965883341702549,
          1.7972650552036786,
          1.7979417762371024,
          1.7986184972705264,
          1.7992952183039501,
          1.7999719393373739,
          1.8006486603707978,
          1.8013253814042216,
          1.8020021024376456,
          1.8026788234710693
         ],
         "xaxis": "x3",
         "y": [
          0,
          0.000676721033423755,
          0.001353442066847732,
          0.002030163100271487,
          0.002706884133695242,
          0.003383605167119219,
          0.004060326200542974,
          0.004737047233966951,
          0.005413768267390706,
          0.006090489300814461,
          0.006767210334238438,
          0.007443931367662193,
          0.008120652401085948,
          0.008797373434509925,
          0.00947409446793368,
          0.010150815501357657,
          0.010827536534781412,
          0.011504257568205167,
          0.012180978601629144,
          0.0128576996350529,
          0.013534420668476654,
          0.014211141701900631,
          0.014887862735324386,
          0.015564583768748363,
          0.01624130480217212,
          0.016918025835595873,
          0.01759474686901985,
          0.018271467902443606,
          0.01894818893586736,
          0.019624909969291338,
          0.020301631002715093,
          0.02097835203613907,
          0.021655073069562825,
          0.02233179410298658,
          0.023008515136410557,
          0.02368523616983431,
          0.024361957203258067,
          0.025038678236682044,
          0.0257153992701058,
          0.026392120303529776,
          0.02706884133695353,
          0.027745562370377286,
          0.028422283403801263,
          0.029099004437225018,
          0.029775725470648773,
          0.03045244650407275,
          0.030370189686014237,
          0.02969346865259026,
          0.029016747619166505,
          0.02834002658574275,
          0.027663305552318773,
          0.02713598265792383,
          0.027812703691347584,
          0.02848942472477156,
          0.029166145758195317,
          0.029775725470648773,
          0.029099004437225018,
          0.028422283403801263,
          0.027745562370377286,
          0.02706884133695353,
          0.026392120303529776,
          0.0257153992701058,
          0.025038678236682044,
          0.024361957203258067,
          0.02368523616983431,
          0.023008515136410557,
          0.02233179410298658,
          0.021655073069562825,
          0.02097835203613907,
          0.020301631002715093,
          0.019624909969291338,
          0.01894818893586736,
          0.018271467902443606,
          0.01759474686901985,
          0.016918025835595873,
          0.01624130480217212,
          0.015564583768748363,
          0.014887862735324386,
          0.014211141701900631,
          0.013534420668476876,
          0.0128576996350529,
          0.012180978601629144,
          0.011504257568205167,
          0.010827536534781412,
          0.010150815501357657,
          0.00947409446793368,
          0.008797373434509925,
          0.008120652401085948,
          0.007443931367662193,
          0.006767210334238438,
          0.006090489300814461,
          0.005413768267390706,
          0.004737047233966951,
          0.004060326200542974,
          0.003383605167119219,
          0.002706884133695464,
          0.002030163100271487,
          0.001353442066847732,
          0.000676721033423755,
          0
         ],
         "yaxis": "y3"
        }
       ],
       "layout": {
        "annotations": [
         {
          "font": {
           "size": 16
          },
          "showarrow": false,
          "text": "H0",
          "x": 0.5,
          "xanchor": "center",
          "xref": "paper",
          "y": 1,
          "yanchor": "bottom",
          "yref": "paper"
         },
         {
          "font": {
           "size": 16
          },
          "showarrow": false,
          "text": "H1",
          "x": 0.5,
          "xanchor": "center",
          "xref": "paper",
          "y": 0.6111111111111112,
          "yanchor": "bottom",
          "yref": "paper"
         },
         {
          "font": {
           "size": 16
          },
          "showarrow": false,
          "text": "H2",
          "x": 0.5,
          "xanchor": "center",
          "xref": "paper",
          "y": 0.22222222222222224,
          "yanchor": "bottom",
          "yref": "paper"
         }
        ],
        "autosize": true,
        "plot_bgcolor": "white",
        "template": {
         "data": {
          "bar": [
           {
            "error_x": {
             "color": "#2a3f5f"
            },
            "error_y": {
             "color": "#2a3f5f"
            },
            "marker": {
             "line": {
              "color": "#E5ECF6",
              "width": 0.5
             },
             "pattern": {
              "fillmode": "overlay",
              "size": 10,
              "solidity": 0.2
             }
            },
            "type": "bar"
           }
          ],
          "barpolar": [
           {
            "marker": {
             "line": {
              "color": "#E5ECF6",
              "width": 0.5
             },
             "pattern": {
              "fillmode": "overlay",
              "size": 10,
              "solidity": 0.2
             }
            },
            "type": "barpolar"
           }
          ],
          "carpet": [
           {
            "aaxis": {
             "endlinecolor": "#2a3f5f",
             "gridcolor": "white",
             "linecolor": "white",
             "minorgridcolor": "white",
             "startlinecolor": "#2a3f5f"
            },
            "baxis": {
             "endlinecolor": "#2a3f5f",
             "gridcolor": "white",
             "linecolor": "white",
             "minorgridcolor": "white",
             "startlinecolor": "#2a3f5f"
            },
            "type": "carpet"
           }
          ],
          "choropleth": [
           {
            "colorbar": {
             "outlinewidth": 0,
             "ticks": ""
            },
            "type": "choropleth"
           }
          ],
          "contour": [
           {
            "colorbar": {
             "outlinewidth": 0,
             "ticks": ""
            },
            "colorscale": [
             [
              0,
              "#0d0887"
             ],
             [
              0.1111111111111111,
              "#46039f"
             ],
             [
              0.2222222222222222,
              "#7201a8"
             ],
             [
              0.3333333333333333,
              "#9c179e"
             ],
             [
              0.4444444444444444,
              "#bd3786"
             ],
             [
              0.5555555555555556,
              "#d8576b"
             ],
             [
              0.6666666666666666,
              "#ed7953"
             ],
             [
              0.7777777777777778,
              "#fb9f3a"
             ],
             [
              0.8888888888888888,
              "#fdca26"
             ],
             [
              1,
              "#f0f921"
             ]
            ],
            "type": "contour"
           }
          ],
          "contourcarpet": [
           {
            "colorbar": {
             "outlinewidth": 0,
             "ticks": ""
            },
            "type": "contourcarpet"
           }
          ],
          "heatmap": [
           {
            "colorbar": {
             "outlinewidth": 0,
             "ticks": ""
            },
            "colorscale": [
             [
              0,
              "#0d0887"
             ],
             [
              0.1111111111111111,
              "#46039f"
             ],
             [
              0.2222222222222222,
              "#7201a8"
             ],
             [
              0.3333333333333333,
              "#9c179e"
             ],
             [
              0.4444444444444444,
              "#bd3786"
             ],
             [
              0.5555555555555556,
              "#d8576b"
             ],
             [
              0.6666666666666666,
              "#ed7953"
             ],
             [
              0.7777777777777778,
              "#fb9f3a"
             ],
             [
              0.8888888888888888,
              "#fdca26"
             ],
             [
              1,
              "#f0f921"
             ]
            ],
            "type": "heatmap"
           }
          ],
          "heatmapgl": [
           {
            "colorbar": {
             "outlinewidth": 0,
             "ticks": ""
            },
            "colorscale": [
             [
              0,
              "#0d0887"
             ],
             [
              0.1111111111111111,
              "#46039f"
             ],
             [
              0.2222222222222222,
              "#7201a8"
             ],
             [
              0.3333333333333333,
              "#9c179e"
             ],
             [
              0.4444444444444444,
              "#bd3786"
             ],
             [
              0.5555555555555556,
              "#d8576b"
             ],
             [
              0.6666666666666666,
              "#ed7953"
             ],
             [
              0.7777777777777778,
              "#fb9f3a"
             ],
             [
              0.8888888888888888,
              "#fdca26"
             ],
             [
              1,
              "#f0f921"
             ]
            ],
            "type": "heatmapgl"
           }
          ],
          "histogram": [
           {
            "marker": {
             "pattern": {
              "fillmode": "overlay",
              "size": 10,
              "solidity": 0.2
             }
            },
            "type": "histogram"
           }
          ],
          "histogram2d": [
           {
            "colorbar": {
             "outlinewidth": 0,
             "ticks": ""
            },
            "colorscale": [
             [
              0,
              "#0d0887"
             ],
             [
              0.1111111111111111,
              "#46039f"
             ],
             [
              0.2222222222222222,
              "#7201a8"
             ],
             [
              0.3333333333333333,
              "#9c179e"
             ],
             [
              0.4444444444444444,
              "#bd3786"
             ],
             [
              0.5555555555555556,
              "#d8576b"
             ],
             [
              0.6666666666666666,
              "#ed7953"
             ],
             [
              0.7777777777777778,
              "#fb9f3a"
             ],
             [
              0.8888888888888888,
              "#fdca26"
             ],
             [
              1,
              "#f0f921"
             ]
            ],
            "type": "histogram2d"
           }
          ],
          "histogram2dcontour": [
           {
            "colorbar": {
             "outlinewidth": 0,
             "ticks": ""
            },
            "colorscale": [
             [
              0,
              "#0d0887"
             ],
             [
              0.1111111111111111,
              "#46039f"
             ],
             [
              0.2222222222222222,
              "#7201a8"
             ],
             [
              0.3333333333333333,
              "#9c179e"
             ],
             [
              0.4444444444444444,
              "#bd3786"
             ],
             [
              0.5555555555555556,
              "#d8576b"
             ],
             [
              0.6666666666666666,
              "#ed7953"
             ],
             [
              0.7777777777777778,
              "#fb9f3a"
             ],
             [
              0.8888888888888888,
              "#fdca26"
             ],
             [
              1,
              "#f0f921"
             ]
            ],
            "type": "histogram2dcontour"
           }
          ],
          "mesh3d": [
           {
            "colorbar": {
             "outlinewidth": 0,
             "ticks": ""
            },
            "type": "mesh3d"
           }
          ],
          "parcoords": [
           {
            "line": {
             "colorbar": {
              "outlinewidth": 0,
              "ticks": ""
             }
            },
            "type": "parcoords"
           }
          ],
          "pie": [
           {
            "automargin": true,
            "type": "pie"
           }
          ],
          "scatter": [
           {
            "fillpattern": {
             "fillmode": "overlay",
             "size": 10,
             "solidity": 0.2
            },
            "type": "scatter"
           }
          ],
          "scatter3d": [
           {
            "line": {
             "colorbar": {
              "outlinewidth": 0,
              "ticks": ""
             }
            },
            "marker": {
             "colorbar": {
              "outlinewidth": 0,
              "ticks": ""
             }
            },
            "type": "scatter3d"
           }
          ],
          "scattercarpet": [
           {
            "marker": {
             "colorbar": {
              "outlinewidth": 0,
              "ticks": ""
             }
            },
            "type": "scattercarpet"
           }
          ],
          "scattergeo": [
           {
            "marker": {
             "colorbar": {
              "outlinewidth": 0,
              "ticks": ""
             }
            },
            "type": "scattergeo"
           }
          ],
          "scattergl": [
           {
            "marker": {
             "colorbar": {
              "outlinewidth": 0,
              "ticks": ""
             }
            },
            "type": "scattergl"
           }
          ],
          "scattermapbox": [
           {
            "marker": {
             "colorbar": {
              "outlinewidth": 0,
              "ticks": ""
             }
            },
            "type": "scattermapbox"
           }
          ],
          "scatterpolar": [
           {
            "marker": {
             "colorbar": {
              "outlinewidth": 0,
              "ticks": ""
             }
            },
            "type": "scatterpolar"
           }
          ],
          "scatterpolargl": [
           {
            "marker": {
             "colorbar": {
              "outlinewidth": 0,
              "ticks": ""
             }
            },
            "type": "scatterpolargl"
           }
          ],
          "scatterternary": [
           {
            "marker": {
             "colorbar": {
              "outlinewidth": 0,
              "ticks": ""
             }
            },
            "type": "scatterternary"
           }
          ],
          "surface": [
           {
            "colorbar": {
             "outlinewidth": 0,
             "ticks": ""
            },
            "colorscale": [
             [
              0,
              "#0d0887"
             ],
             [
              0.1111111111111111,
              "#46039f"
             ],
             [
              0.2222222222222222,
              "#7201a8"
             ],
             [
              0.3333333333333333,
              "#9c179e"
             ],
             [
              0.4444444444444444,
              "#bd3786"
             ],
             [
              0.5555555555555556,
              "#d8576b"
             ],
             [
              0.6666666666666666,
              "#ed7953"
             ],
             [
              0.7777777777777778,
              "#fb9f3a"
             ],
             [
              0.8888888888888888,
              "#fdca26"
             ],
             [
              1,
              "#f0f921"
             ]
            ],
            "type": "surface"
           }
          ],
          "table": [
           {
            "cells": {
             "fill": {
              "color": "#EBF0F8"
             },
             "line": {
              "color": "white"
             }
            },
            "header": {
             "fill": {
              "color": "#C8D4E3"
             },
             "line": {
              "color": "white"
             }
            },
            "type": "table"
           }
          ]
         },
         "layout": {
          "annotationdefaults": {
           "arrowcolor": "#2a3f5f",
           "arrowhead": 0,
           "arrowwidth": 1
          },
          "autotypenumbers": "strict",
          "coloraxis": {
           "colorbar": {
            "outlinewidth": 0,
            "ticks": ""
           }
          },
          "colorscale": {
           "diverging": [
            [
             0,
             "#8e0152"
            ],
            [
             0.1,
             "#c51b7d"
            ],
            [
             0.2,
             "#de77ae"
            ],
            [
             0.3,
             "#f1b6da"
            ],
            [
             0.4,
             "#fde0ef"
            ],
            [
             0.5,
             "#f7f7f7"
            ],
            [
             0.6,
             "#e6f5d0"
            ],
            [
             0.7,
             "#b8e186"
            ],
            [
             0.8,
             "#7fbc41"
            ],
            [
             0.9,
             "#4d9221"
            ],
            [
             1,
             "#276419"
            ]
           ],
           "sequential": [
            [
             0,
             "#0d0887"
            ],
            [
             0.1111111111111111,
             "#46039f"
            ],
            [
             0.2222222222222222,
             "#7201a8"
            ],
            [
             0.3333333333333333,
             "#9c179e"
            ],
            [
             0.4444444444444444,
             "#bd3786"
            ],
            [
             0.5555555555555556,
             "#d8576b"
            ],
            [
             0.6666666666666666,
             "#ed7953"
            ],
            [
             0.7777777777777778,
             "#fb9f3a"
            ],
            [
             0.8888888888888888,
             "#fdca26"
            ],
            [
             1,
             "#f0f921"
            ]
           ],
           "sequentialminus": [
            [
             0,
             "#0d0887"
            ],
            [
             0.1111111111111111,
             "#46039f"
            ],
            [
             0.2222222222222222,
             "#7201a8"
            ],
            [
             0.3333333333333333,
             "#9c179e"
            ],
            [
             0.4444444444444444,
             "#bd3786"
            ],
            [
             0.5555555555555556,
             "#d8576b"
            ],
            [
             0.6666666666666666,
             "#ed7953"
            ],
            [
             0.7777777777777778,
             "#fb9f3a"
            ],
            [
             0.8888888888888888,
             "#fdca26"
            ],
            [
             1,
             "#f0f921"
            ]
           ]
          },
          "colorway": [
           "#636efa",
           "#EF553B",
           "#00cc96",
           "#ab63fa",
           "#FFA15A",
           "#19d3f3",
           "#FF6692",
           "#B6E880",
           "#FF97FF",
           "#FECB52"
          ],
          "font": {
           "color": "#2a3f5f"
          },
          "geo": {
           "bgcolor": "white",
           "lakecolor": "white",
           "landcolor": "#E5ECF6",
           "showlakes": true,
           "showland": true,
           "subunitcolor": "white"
          },
          "hoverlabel": {
           "align": "left"
          },
          "hovermode": "closest",
          "mapbox": {
           "style": "light"
          },
          "paper_bgcolor": "white",
          "plot_bgcolor": "#E5ECF6",
          "polar": {
           "angularaxis": {
            "gridcolor": "white",
            "linecolor": "white",
            "ticks": ""
           },
           "bgcolor": "#E5ECF6",
           "radialaxis": {
            "gridcolor": "white",
            "linecolor": "white",
            "ticks": ""
           }
          },
          "scene": {
           "xaxis": {
            "backgroundcolor": "#E5ECF6",
            "gridcolor": "white",
            "gridwidth": 2,
            "linecolor": "white",
            "showbackground": true,
            "ticks": "",
            "zerolinecolor": "white"
           },
           "yaxis": {
            "backgroundcolor": "#E5ECF6",
            "gridcolor": "white",
            "gridwidth": 2,
            "linecolor": "white",
            "showbackground": true,
            "ticks": "",
            "zerolinecolor": "white"
           },
           "zaxis": {
            "backgroundcolor": "#E5ECF6",
            "gridcolor": "white",
            "gridwidth": 2,
            "linecolor": "white",
            "showbackground": true,
            "ticks": "",
            "zerolinecolor": "white"
           }
          },
          "shapedefaults": {
           "line": {
            "color": "#2a3f5f"
           }
          },
          "ternary": {
           "aaxis": {
            "gridcolor": "white",
            "linecolor": "white",
            "ticks": ""
           },
           "baxis": {
            "gridcolor": "white",
            "linecolor": "white",
            "ticks": ""
           },
           "bgcolor": "#E5ECF6",
           "caxis": {
            "gridcolor": "white",
            "linecolor": "white",
            "ticks": ""
           }
          },
          "title": {
           "x": 0.05
          },
          "xaxis": {
           "automargin": true,
           "gridcolor": "white",
           "linecolor": "white",
           "ticks": "",
           "title": {
            "standoff": 15
           },
           "zerolinecolor": "white",
           "zerolinewidth": 2
          },
          "yaxis": {
           "automargin": true,
           "gridcolor": "white",
           "linecolor": "white",
           "ticks": "",
           "title": {
            "standoff": 15
           },
           "zerolinecolor": "white",
           "zerolinewidth": 2
          }
         }
        },
        "title": {
         "text": "Landscape representations of diagram 0"
        },
        "xaxis": {
         "anchor": "y",
         "autorange": true,
         "domain": [
          0,
          1
         ],
         "exponentformat": "e",
         "linecolor": "black",
         "linewidth": 1,
         "mirror": false,
         "range": [
          0,
          0.27788618206977844
         ],
         "showexponent": "all",
         "showline": true,
         "side": "bottom",
         "ticks": "outside",
         "type": "linear",
         "zeroline": true
        },
        "xaxis2": {
         "anchor": "y2",
         "autorange": true,
         "domain": [
          0,
          1
         ],
         "range": [
          0.369573712348938,
          1.7330185174942017
         ],
         "type": "linear"
        },
        "xaxis3": {
         "anchor": "y3",
         "autorange": true,
         "domain": [
          0,
          1
         ],
         "range": [
          1.7356834411621094,
          1.8026788234710693
         ],
         "type": "linear"
        },
        "yaxis": {
         "anchor": "x",
         "autorange": true,
         "domain": [
          0.7777777777777778,
          1
         ],
         "exponentformat": "e",
         "linecolor": "black",
         "linewidth": 1,
         "mirror": false,
         "range": [
          -0.00764109030382668,
          0.14518071577270691
         ],
         "showexponent": "all",
         "showline": true,
         "side": "left",
         "ticks": "outside",
         "type": "linear",
         "zeroline": true
        },
        "yaxis2": {
         "anchor": "x2",
         "autorange": true,
         "domain": [
          0.3888888888888889,
          0.6111111111111112
         ],
         "range": [
          -0.037490906538786714,
          0.7123272242369476
         ],
         "type": "linear"
        },
        "yaxis3": {
         "anchor": "x3",
         "autorange": true,
         "domain": [
          0,
          0.22222222222222224
         ],
         "range": [
          -0.0016918025835595972,
          0.032144249087632346
         ],
         "type": "linear"
        }
       }
      },
      "image/png": "[encoded data removed]",
      "text/html": [
       "<div>                            <div id=\"8f01f97e-e816-43fe-ab8b-5e2fc7826e1b\" class=\"plotly-graph-div\" style=\"height:525px; width:100%;\"></div>            <script type=\"text/javascript\">                require([\"plotly\"], function(Plotly) {                    window.PLOTLYENV=window.PLOTLYENV || {};                                    if (document.getElementById(\"8f01f97e-e816-43fe-ab8b-5e2fc7826e1b\")) {                    Plotly.newPlot(                        \"8f01f97e-e816-43fe-ab8b-5e2fc7826e1b\",                        [{\"hoverinfo\":\"none\",\"mode\":\"lines\",\"name\":\"Layer 1 (H0)\",\"showlegend\":true,\"x\":[0.0,0.002806931132017964,0.005613862264035928,0.008420793396053892,0.011227724528071857,0.014034655660089821,0.016841586792107784,0.01964851792412575,0.022455449056143714,0.025262380188161678,0.028069311320179643,0.030876242452197607,0.03368317358421557,0.03649010471623353,0.0392970358482515,0.04210396698026946,0.04491089811228743,0.04771782924430539,0.050524760376323356,0.05333169150834132,0.056138622640359286,0.05894555377237725,0.061752484904395215,0.06455941603641317,0.06736634716843114,0.0701732783004491,0.07298020943246707,0.07578714056448503,0.078594071696503,0.08140100282852096,0.08420793396053892,0.08701486509255689,0.08982179622457485,0.09262872735659282,0.09543565848861078,0.09824258962062875,0.10104952075264671,0.10385645188466468,0.10666338301668264,0.1094703141487006,0.11227724528071857,0.11508417641273654,0.1178911075447545,0.12069803867677247,0.12350496980879043,0.12631190094080838,0.12911883207282635,0.1319257632048443,0.13473269433686227,0.13753962546888024,0.1403465566008982,0.14315348773291617,0.14596041886493413,0.1487673499969521,0.15157428112897006,0.15438121226098803,0.157188143393006,0.15999507452502396,0.16280200565704192,0.16560893678905989,0.16841586792107785,0.17122279905309581,0.17402973018511378,0.17683666131713174,0.1796435924491497,0.18245052358116767,0.18525745471318564,0.1880643858452036,0.19087131697722157,0.19367824810923953,0.1964851792412575,0.19929211037327546,0.20209904150529343,0.2049059726373114,0.20771290376932935,0.21051983490134732,0.21332676603336528,0.21613369716538325,0.2189406282974012,0.22174755942941918,0.22455449056143714,0.2273614216934551,0.23016835282547307,0.23297528395749104,0.235782215089509,0.23858914622152697,0.24139607735354493,0.2442030084855629,0.24700993961758086,0.24981687074959882,0.25262380188161676,0.2554307330136347,0.2582376641456527,0.26104459527767065,0.2638515264096886,0.2666584575417066,0.26946538867372455,0.2722723198057425,0.2750792509377605,0.27788618206977844],\"y\":[0.0,0.0028069311320179646,0.005613862264035929,0.008420793396053894,0.011227724528071859,0.014034655660089823,0.016841586792107788,0.019648517924125752,0.022455449056143717,0.02526238018816168,0.028069311320179646,0.03087624245219761,0.033683173584215576,0.03649010471623354,0.039297035848251505,0.04210396698026947,0.044910898112287434,0.0477178292443054,0.05052476037632336,0.05333169150834133,0.05613862264035929,0.05894555377237726,0.06175248490439522,0.06455941603641317,0.06736634716843114,0.0701732783004491,0.07298020943246707,0.07578714056448503,0.078594071696503,0.08140100282852096,0.08420793396053892,0.08701486509255689,0.08982179622457485,0.09262872735659282,0.09543565848861078,0.09824258962062875,0.10104952075264671,0.10385645188466468,0.10666338301668264,0.1094703141487006,0.11227724528071857,0.11508417641273654,0.1178911075447545,0.12069803867677247,0.12350496980879043,0.12631190094080838,0.12911883207282635,0.1319257632048443,0.13473269433686227,0.13753962546888024,0.13753962546888024,0.13473269433686227,0.1319257632048443,0.12911883207282635,0.12631190094080838,0.12350496980879042,0.12069803867677245,0.11789110754475449,0.11508417641273652,0.11227724528071856,0.10947031414870059,0.10666338301668263,0.10385645188466466,0.1010495207526467,0.09824258962062873,0.09543565848861077,0.0926287273565928,0.08982179622457484,0.08701486509255688,0.08420793396053891,0.08140100282852095,0.07859407169650298,0.07578714056448502,0.07298020943246705,0.07017327830044909,0.06736634716843112,0.06455941603641316,0.061752484904395194,0.05894555377237723,0.056138622640359265,0.0533316915083413,0.050524760376323335,0.04771782924430537,0.044910898112287406,0.04210396698026944,0.03929703584825148,0.03649010471623351,0.03368317358421555,0.030876242452197583,0.02806931132017962,0.02526238018816168,0.022455449056143717,0.019648517924125752,0.016841586792107788,0.014034655660089823,0.011227724528071859,0.008420793396053894,0.005613862264035929,0.0028069311320179646,0.0],\"type\":\"scatter\",\"xaxis\":\"x\",\"yaxis\":\"y\"},{\"hoverinfo\":\"none\",\"mode\":\"lines\",\"name\":\"Layer 1 (H1)\",\"showlegend\":true,\"x\":[0.369573712348938,0.38334588209788006,0.3971180518468221,0.41089022159576416,0.42466239134470624,0.43843456109364826,0.45220673084259033,0.46597890059153235,0.47975107034047443,0.4935232400894165,0.5072954098383585,0.5210675795873005,0.5348397493362427,0.5486119190851847,0.5623840888341267,0.5761562585830688,0.5899284283320109,0.6037005980809529,0.617472767829895,0.631244937578837,0.6450171073277791,0.6587892770767212,0.6725614468256632,0.6863336165746052,0.7001057863235474,0.7138779560724894,0.7276501258214314,0.7414222955703735,0.7551944653193156,0.7689666350682576,0.7827388048171997,0.7965109745661417,0.8102831443150837,0.8240553140640259,0.8378274838129679,0.8515996535619099,0.865371823310852,0.8791439930597941,0.8929161628087361,0.9066883325576782,0.9204605023066202,0.9342326720555623,0.9480048418045044,0.9617770115534464,0.9755491813023884,0.9893213510513306,1.0030935208002725,1.0168656905492146,1.0306378602981567,1.0444100300470986,1.0581821997960408,1.071954369544983,1.0857265392939248,1.099498709042867,1.113270878791809,1.127043048540751,1.1408152182896931,1.1545873880386353,1.1683595577875772,1.1821317275365193,1.1959038972854614,1.2096760670344033,1.2234482367833455,1.2372204065322876,1.2509925762812295,1.2647647460301716,1.2785369157791138,1.2923090855280557,1.3060812552769978,1.31985342502594,1.3336255947748819,1.347397764523824,1.3611699342727661,1.374942104021708,1.3887142737706502,1.4024864435195923,1.4162586132685342,1.4300307830174763,1.4438029527664185,1.4575751225153604,1.4713472922643025,1.4851194620132446,1.4988916317621865,1.5126638015111287,1.5264359712600708,1.5402081410090127,1.5539803107579548,1.567752480506897,1.5815246502558389,1.595296820004781,1.6090689897537231,1.622841159502665,1.6366133292516072,1.6503854990005493,1.6641576687494912,1.6779298384984334,1.6917020082473755,1.7054741779963174,1.7192463477452595,1.7330185174942017],\"y\":[0.0,0.013772169748942131,0.02754433949788404,0.04131650924682617,0.0550886789957683,0.06886084874471021,0.08263301849365234,0.09640518824259436,0.11017735799153638,0.12394952774047852,0.13772169748942054,0.15149386723836256,0.1652660369873047,0.1790382067362467,0.19281037648518873,0.20658254623413086,0.22035471598307288,0.2341268857320149,0.24789905548095703,0.26167122522989905,0.27544339497884107,0.2892155647277832,0.3029877344767252,0.31675990422566724,0.3305320739746094,0.3443042437235514,0.3580764134724934,0.37184858322143555,0.38562075297037757,0.3993929227193196,0.4131650924682617,0.42693726221720374,0.44070943196614576,0.4544816017150879,0.4682537714640299,0.48202594121297193,0.49579811096191406,0.5095702807108561,0.5233424504597981,0.5371146202087402,0.5508867899576823,0.5646589597066243,0.5784311294555664,0.5922032992045084,0.6059754689534504,0.6197476387023926,0.6335198084513345,0.6472919782002766,0.6610641479492188,0.6748363176981607,0.6748363176981609,0.6610641479492188,0.6472919782002768,0.6335198084513347,0.6197476387023926,0.6059754689534507,0.5922032992045085,0.5784311294555664,0.5646589597066245,0.5508867899576824,0.5371146202087402,0.5233424504597983,0.5095702807108562,0.49579811096191406,0.48202594121297215,0.46825377146403,0.4544816017150879,0.440709431966146,0.42693726221720385,0.4131650924682617,0.3993929227193198,0.3856207529703777,0.37184858322143555,0.35807641347249364,0.3443042437235515,0.3305320739746094,0.31675990422566747,0.30298773447672533,0.2892155647277832,0.2754433949788413,0.26167122522989916,0.24789905548095703,0.23412688573201512,0.220354715983073,0.20658254623413086,0.19281037648518895,0.17903820673624682,0.1652660369873047,0.15149386723836278,0.13772169748942065,0.12394952774047852,0.1101773579915366,0.09640518824259448,0.08263301849365234,0.06886084874471043,0.0550886789957683,0.04131650924682617,0.027544339497884263,0.013772169748942131,0.0],\"type\":\"scatter\",\"xaxis\":\"x2\",\"yaxis\":\"y2\"},{\"hoverinfo\":\"none\",\"mode\":\"lines\",\"name\":\"Layer 1 (H2)\",\"showlegend\":true,\"x\":[1.7356834411621094,1.7363601621955331,1.737036883228957,1.7377136042623809,1.7383903252958046,1.7390670463292286,1.7397437673626523,1.7404204883960763,1.7410972094295,1.7417739304629238,1.7424506514963478,1.7431273725297716,1.7438040935631953,1.7444808145966193,1.745157535630043,1.745834256663467,1.7465109776968908,1.7471876987303145,1.7478644197637385,1.7485411407971623,1.749217861830586,1.74989458286401,1.7505713038974338,1.7512480249308577,1.7519247459642815,1.7526014669977052,1.7532781880311292,1.753954909064553,1.7546316300979767,1.7553083511314007,1.7559850721648245,1.7566617931982484,1.7573385142316722,1.758015235265096,1.75869195629852,1.7593686773319437,1.7600453983653674,1.7607221193987914,1.7613988404322152,1.7620755614656392,1.762752282499063,1.7634290035324867,1.7641057245659106,1.7647824455993344,1.7654591666327581,1.7661358876661821,1.7668126086996059,1.7674893297330299,1.7681660507664536,1.7688427717998774,1.7695194928333013,1.770196213866725,1.7708729349001489,1.7715496559335728,1.7722263769669966,1.7729030980004206,1.7735798190338443,1.774256540067268,1.774933261100692,1.7756099821341158,1.7762867031675396,1.7769634242009635,1.7776401452343873,1.7783168662678113,1.778993587301235,1.7796703083346588,1.7803470293680828,1.7810237504015065,1.7817004714349303,1.7823771924683542,1.783053913501778,1.783730634535202,1.7844073555686257,1.7850840766020495,1.7857607976354735,1.7864375186688972,1.787114239702321,1.787790960735745,1.7884676817691687,1.7891444028025925,1.7898211238360164,1.7904978448694402,1.7911745659028642,1.791851286936288,1.7925280079697117,1.7932047290031357,1.7938814500365594,1.7945581710699834,1.7952348921034071,1.795911613136831,1.7965883341702549,1.7972650552036786,1.7979417762371024,1.7986184972705264,1.7992952183039501,1.7999719393373739,1.8006486603707978,1.8013253814042216,1.8020021024376456,1.8026788234710693],\"y\":[0.0,0.000676721033423755,0.001353442066847732,0.002030163100271487,0.002706884133695242,0.003383605167119219,0.004060326200542974,0.004737047233966951,0.005413768267390706,0.006090489300814461,0.006767210334238438,0.007443931367662193,0.008120652401085948,0.008797373434509925,0.00947409446793368,0.010150815501357657,0.010827536534781412,0.011504257568205167,0.012180978601629144,0.0128576996350529,0.013534420668476654,0.014211141701900631,0.014887862735324386,0.015564583768748363,0.01624130480217212,0.016918025835595873,0.01759474686901985,0.018271467902443606,0.01894818893586736,0.019624909969291338,0.020301631002715093,0.02097835203613907,0.021655073069562825,0.02233179410298658,0.023008515136410557,0.02368523616983431,0.024361957203258067,0.025038678236682044,0.0257153992701058,0.026392120303529776,0.02706884133695353,0.027745562370377286,0.028422283403801263,0.029099004437225018,0.029775725470648773,0.03045244650407275,0.030370189686014237,0.02969346865259026,0.029016747619166505,0.02834002658574275,0.027663305552318773,0.02713598265792383,0.027812703691347584,0.02848942472477156,0.029166145758195317,0.029775725470648773,0.029099004437225018,0.028422283403801263,0.027745562370377286,0.02706884133695353,0.026392120303529776,0.0257153992701058,0.025038678236682044,0.024361957203258067,0.02368523616983431,0.023008515136410557,0.02233179410298658,0.021655073069562825,0.02097835203613907,0.020301631002715093,0.019624909969291338,0.01894818893586736,0.018271467902443606,0.01759474686901985,0.016918025835595873,0.01624130480217212,0.015564583768748363,0.014887862735324386,0.014211141701900631,0.013534420668476876,0.0128576996350529,0.012180978601629144,0.011504257568205167,0.010827536534781412,0.010150815501357657,0.00947409446793368,0.008797373434509925,0.008120652401085948,0.007443931367662193,0.006767210334238438,0.006090489300814461,0.005413768267390706,0.004737047233966951,0.004060326200542974,0.003383605167119219,0.002706884133695464,0.002030163100271487,0.001353442066847732,0.000676721033423755,0.0],\"type\":\"scatter\",\"xaxis\":\"x3\",\"yaxis\":\"y3\"}],                        {\"template\":{\"data\":{\"histogram2dcontour\":[{\"type\":\"histogram2dcontour\",\"colorbar\":{\"outlinewidth\":0,\"ticks\":\"\"},\"colorscale\":[[0.0,\"#0d0887\"],[0.1111111111111111,\"#46039f\"],[0.2222222222222222,\"#7201a8\"],[0.3333333333333333,\"#9c179e\"],[0.4444444444444444,\"#bd3786\"],[0.5555555555555556,\"#d8576b\"],[0.6666666666666666,\"#ed7953\"],[0.7777777777777778,\"#fb9f3a\"],[0.8888888888888888,\"#fdca26\"],[1.0,\"#f0f921\"]]}],\"choropleth\":[{\"type\":\"choropleth\",\"colorbar\":{\"outlinewidth\":0,\"ticks\":\"\"}}],\"histogram2d\":[{\"type\":\"histogram2d\",\"colorbar\":{\"outlinewidth\":0,\"ticks\":\"\"},\"colorscale\":[[0.0,\"#0d0887\"],[0.1111111111111111,\"#46039f\"],[0.2222222222222222,\"#7201a8\"],[0.3333333333333333,\"#9c179e\"],[0.4444444444444444,\"#bd3786\"],[0.5555555555555556,\"#d8576b\"],[0.6666666666666666,\"#ed7953\"],[0.7777777777777778,\"#fb9f3a\"],[0.8888888888888888,\"#fdca26\"],[1.0,\"#f0f921\"]]}],\"heatmap\":[{\"type\":\"heatmap\",\"colorbar\":{\"outlinewidth\":0,\"ticks\":\"\"},\"colorscale\":[[0.0,\"#0d0887\"],[0.1111111111111111,\"#46039f\"],[0.2222222222222222,\"#7201a8\"],[0.3333333333333333,\"#9c179e\"],[0.4444444444444444,\"#bd3786\"],[0.5555555555555556,\"#d8576b\"],[0.6666666666666666,\"#ed7953\"],[0.7777777777777778,\"#fb9f3a\"],[0.8888888888888888,\"#fdca26\"],[1.0,\"#f0f921\"]]}],\"heatmapgl\":[{\"type\":\"heatmapgl\",\"colorbar\":{\"outlinewidth\":0,\"ticks\":\"\"},\"colorscale\":[[0.0,\"#0d0887\"],[0.1111111111111111,\"#46039f\"],[0.2222222222222222,\"#7201a8\"],[0.3333333333333333,\"#9c179e\"],[0.4444444444444444,\"#bd3786\"],[0.5555555555555556,\"#d8576b\"],[0.6666666666666666,\"#ed7953\"],[0.7777777777777778,\"#fb9f3a\"],[0.8888888888888888,\"#fdca26\"],[1.0,\"#f0f921\"]]}],\"contourcarpet\":[{\"type\":\"contourcarpet\",\"colorbar\":{\"outlinewidth\":0,\"ticks\":\"\"}}],\"contour\":[{\"type\":\"contour\",\"colorbar\":{\"outlinewidth\":0,\"ticks\":\"\"},\"colorscale\":[[0.0,\"#0d0887\"],[0.1111111111111111,\"#46039f\"],[0.2222222222222222,\"#7201a8\"],[0.3333333333333333,\"#9c179e\"],[0.4444444444444444,\"#bd3786\"],[0.5555555555555556,\"#d8576b\"],[0.6666666666666666,\"#ed7953\"],[0.7777777777777778,\"#fb9f3a\"],[0.8888888888888888,\"#fdca26\"],[1.0,\"#f0f921\"]]}],\"surface\":[{\"type\":\"surface\",\"colorbar\":{\"outlinewidth\":0,\"ticks\":\"\"},\"colorscale\":[[0.0,\"#0d0887\"],[0.1111111111111111,\"#46039f\"],[0.2222222222222222,\"#7201a8\"],[0.3333333333333333,\"#9c179e\"],[0.4444444444444444,\"#bd3786\"],[0.5555555555555556,\"#d8576b\"],[0.6666666666666666,\"#ed7953\"],[0.7777777777777778,\"#fb9f3a\"],[0.8888888888888888,\"#fdca26\"],[1.0,\"#f0f921\"]]}],\"mesh3d\":[{\"type\":\"mesh3d\",\"colorbar\":{\"outlinewidth\":0,\"ticks\":\"\"}}],\"scatter\":[{\"fillpattern\":{\"fillmode\":\"overlay\",\"size\":10,\"solidity\":0.2},\"type\":\"scatter\"}],\"parcoords\":[{\"type\":\"parcoords\",\"line\":{\"colorbar\":{\"outlinewidth\":0,\"ticks\":\"\"}}}],\"scatterpolargl\":[{\"type\":\"scatterpolargl\",\"marker\":{\"colorbar\":{\"outlinewidth\":0,\"ticks\":\"\"}}}],\"bar\":[{\"error_x\":{\"color\":\"#2a3f5f\"},\"error_y\":{\"color\":\"#2a3f5f\"},\"marker\":{\"line\":{\"color\":\"#E5ECF6\",\"width\":0.5},\"pattern\":{\"fillmode\":\"overlay\",\"size\":10,\"solidity\":0.2}},\"type\":\"bar\"}],\"scattergeo\":[{\"type\":\"scattergeo\",\"marker\":{\"colorbar\":{\"outlinewidth\":0,\"ticks\":\"\"}}}],\"scatterpolar\":[{\"type\":\"scatterpolar\",\"marker\":{\"colorbar\":{\"outlinewidth\":0,\"ticks\":\"\"}}}],\"histogram\":[{\"marker\":{\"pattern\":{\"fillmode\":\"overlay\",\"size\":10,\"solidity\":0.2}},\"type\":\"histogram\"}],\"scattergl\":[{\"type\":\"scattergl\",\"marker\":{\"colorbar\":{\"outlinewidth\":0,\"ticks\":\"\"}}}],\"scatter3d\":[{\"type\":\"scatter3d\",\"line\":{\"colorbar\":{\"outlinewidth\":0,\"ticks\":\"\"}},\"marker\":{\"colorbar\":{\"outlinewidth\":0,\"ticks\":\"\"}}}],\"scattermapbox\":[{\"type\":\"scattermapbox\",\"marker\":{\"colorbar\":{\"outlinewidth\":0,\"ticks\":\"\"}}}],\"scatterternary\":[{\"type\":\"scatterternary\",\"marker\":{\"colorbar\":{\"outlinewidth\":0,\"ticks\":\"\"}}}],\"scattercarpet\":[{\"type\":\"scattercarpet\",\"marker\":{\"colorbar\":{\"outlinewidth\":0,\"ticks\":\"\"}}}],\"carpet\":[{\"aaxis\":{\"endlinecolor\":\"#2a3f5f\",\"gridcolor\":\"white\",\"linecolor\":\"white\",\"minorgridcolor\":\"white\",\"startlinecolor\":\"#2a3f5f\"},\"baxis\":{\"endlinecolor\":\"#2a3f5f\",\"gridcolor\":\"white\",\"linecolor\":\"white\",\"minorgridcolor\":\"white\",\"startlinecolor\":\"#2a3f5f\"},\"type\":\"carpet\"}],\"table\":[{\"cells\":{\"fill\":{\"color\":\"#EBF0F8\"},\"line\":{\"color\":\"white\"}},\"header\":{\"fill\":{\"color\":\"#C8D4E3\"},\"line\":{\"color\":\"white\"}},\"type\":\"table\"}],\"barpolar\":[{\"marker\":{\"line\":{\"color\":\"#E5ECF6\",\"width\":0.5},\"pattern\":{\"fillmode\":\"overlay\",\"size\":10,\"solidity\":0.2}},\"type\":\"barpolar\"}],\"pie\":[{\"automargin\":true,\"type\":\"pie\"}]},\"layout\":{\"autotypenumbers\":\"strict\",\"colorway\":[\"#636efa\",\"#EF553B\",\"#00cc96\",\"#ab63fa\",\"#FFA15A\",\"#19d3f3\",\"#FF6692\",\"#B6E880\",\"#FF97FF\",\"#FECB52\"],\"font\":{\"color\":\"#2a3f5f\"},\"hovermode\":\"closest\",\"hoverlabel\":{\"align\":\"left\"},\"paper_bgcolor\":\"white\",\"plot_bgcolor\":\"#E5ECF6\",\"polar\":{\"bgcolor\":\"#E5ECF6\",\"angularaxis\":{\"gridcolor\":\"white\",\"linecolor\":\"white\",\"ticks\":\"\"},\"radialaxis\":{\"gridcolor\":\"white\",\"linecolor\":\"white\",\"ticks\":\"\"}},\"ternary\":{\"bgcolor\":\"#E5ECF6\",\"aaxis\":{\"gridcolor\":\"white\",\"linecolor\":\"white\",\"ticks\":\"\"},\"baxis\":{\"gridcolor\":\"white\",\"linecolor\":\"white\",\"ticks\":\"\"},\"caxis\":{\"gridcolor\":\"white\",\"linecolor\":\"white\",\"ticks\":\"\"}},\"coloraxis\":{\"colorbar\":{\"outlinewidth\":0,\"ticks\":\"\"}},\"colorscale\":{\"sequential\":[[0.0,\"#0d0887\"],[0.1111111111111111,\"#46039f\"],[0.2222222222222222,\"#7201a8\"],[0.3333333333333333,\"#9c179e\"],[0.4444444444444444,\"#bd3786\"],[0.5555555555555556,\"#d8576b\"],[0.6666666666666666,\"#ed7953\"],[0.7777777777777778,\"#fb9f3a\"],[0.8888888888888888,\"#fdca26\"],[1.0,\"#f0f921\"]],\"sequentialminus\":[[0.0,\"#0d0887\"],[0.1111111111111111,\"#46039f\"],[0.2222222222222222,\"#7201a8\"],[0.3333333333333333,\"#9c179e\"],[0.4444444444444444,\"#bd3786\"],[0.5555555555555556,\"#d8576b\"],[0.6666666666666666,\"#ed7953\"],[0.7777777777777778,\"#fb9f3a\"],[0.8888888888888888,\"#fdca26\"],[1.0,\"#f0f921\"]],\"diverging\":[[0,\"#8e0152\"],[0.1,\"#c51b7d\"],[0.2,\"#de77ae\"],[0.3,\"#f1b6da\"],[0.4,\"#fde0ef\"],[0.5,\"#f7f7f7\"],[0.6,\"#e6f5d0\"],[0.7,\"#b8e186\"],[0.8,\"#7fbc41\"],[0.9,\"#4d9221\"],[1,\"#276419\"]]},\"xaxis\":{\"gridcolor\":\"white\",\"linecolor\":\"white\",\"ticks\":\"\",\"title\":{\"standoff\":15},\"zerolinecolor\":\"white\",\"automargin\":true,\"zerolinewidth\":2},\"yaxis\":{\"gridcolor\":\"white\",\"linecolor\":\"white\",\"ticks\":\"\",\"title\":{\"standoff\":15},\"zerolinecolor\":\"white\",\"automargin\":true,\"zerolinewidth\":2},\"scene\":{\"xaxis\":{\"backgroundcolor\":\"#E5ECF6\",\"gridcolor\":\"white\",\"linecolor\":\"white\",\"showbackground\":true,\"ticks\":\"\",\"zerolinecolor\":\"white\",\"gridwidth\":2},\"yaxis\":{\"backgroundcolor\":\"#E5ECF6\",\"gridcolor\":\"white\",\"linecolor\":\"white\",\"showbackground\":true,\"ticks\":\"\",\"zerolinecolor\":\"white\",\"gridwidth\":2},\"zaxis\":{\"backgroundcolor\":\"#E5ECF6\",\"gridcolor\":\"white\",\"linecolor\":\"white\",\"showbackground\":true,\"ticks\":\"\",\"zerolinecolor\":\"white\",\"gridwidth\":2}},\"shapedefaults\":{\"line\":{\"color\":\"#2a3f5f\"}},\"annotationdefaults\":{\"arrowcolor\":\"#2a3f5f\",\"arrowhead\":0,\"arrowwidth\":1},\"geo\":{\"bgcolor\":\"white\",\"landcolor\":\"#E5ECF6\",\"subunitcolor\":\"white\",\"showland\":true,\"showlakes\":true,\"lakecolor\":\"white\"},\"title\":{\"x\":0.05},\"mapbox\":{\"style\":\"light\"}}},\"xaxis\":{\"anchor\":\"y\",\"domain\":[0.0,1.0],\"side\":\"bottom\",\"type\":\"linear\",\"ticks\":\"outside\",\"showline\":true,\"zeroline\":true,\"linewidth\":1,\"linecolor\":\"black\",\"mirror\":false,\"showexponent\":\"all\",\"exponentformat\":\"e\"},\"yaxis\":{\"anchor\":\"x\",\"domain\":[0.7777777777777778,1.0],\"side\":\"left\",\"type\":\"linear\",\"ticks\":\"outside\",\"showline\":true,\"zeroline\":true,\"linewidth\":1,\"linecolor\":\"black\",\"mirror\":false,\"showexponent\":\"all\",\"exponentformat\":\"e\"},\"xaxis2\":{\"anchor\":\"y2\",\"domain\":[0.0,1.0]},\"yaxis2\":{\"anchor\":\"x2\",\"domain\":[0.3888888888888889,0.6111111111111112]},\"xaxis3\":{\"anchor\":\"y3\",\"domain\":[0.0,1.0]},\"yaxis3\":{\"anchor\":\"x3\",\"domain\":[0.0,0.22222222222222224]},\"annotations\":[{\"font\":{\"size\":16},\"showarrow\":false,\"text\":\"H0\",\"x\":0.5,\"xanchor\":\"center\",\"xref\":\"paper\",\"y\":1.0,\"yanchor\":\"bottom\",\"yref\":\"paper\"},{\"font\":{\"size\":16},\"showarrow\":false,\"text\":\"H1\",\"x\":0.5,\"xanchor\":\"center\",\"xref\":\"paper\",\"y\":0.6111111111111112,\"yanchor\":\"bottom\",\"yref\":\"paper\"},{\"font\":{\"size\":16},\"showarrow\":false,\"text\":\"H2\",\"x\":0.5,\"xanchor\":\"center\",\"xref\":\"paper\",\"y\":0.22222222222222224,\"yanchor\":\"bottom\",\"yref\":\"paper\"}],\"title\":{\"text\":\"Landscape representations of diagram 0\"},\"plot_bgcolor\":\"white\"},                        {\"responsive\": true}                    ).then(function(){\n",
       "                            \n",
       "var gd = document.getElementById('8f01f97e-e816-43fe-ab8b-5e2fc7826e1b');\n",
       "var x = new MutationObserver(function (mutations, observer) {{\n",
       "        var display = window.getComputedStyle(gd).display;\n",
       "        if (!display || display === 'none') {{\n",
       "            console.log([gd, 'removed!']);\n",
       "            Plotly.purge(gd);\n",
       "            observer.disconnect();\n",
       "        }}\n",
       "}});\n",
       "\n",
       "// Listen for the removal of the full notebook cells\n",
       "var notebookContainer = gd.closest('#notebook-container');\n",
       "if (notebookContainer) {{\n",
       "    x.observe(notebookContainer, {childList: true});\n",
       "}}\n",
       "\n",
       "// Listen for the clearing of the current output cell\n",
       "var outputEl = gd.closest('.output');\n",
       "if (outputEl) {{\n",
       "    x.observe(outputEl, {childList: true});\n",
       "}}\n",
       "\n",
       "                        })                };                });            </script>        </div>"
      ]
     },
     "metadata": {},
     "output_type": "display_data"
    }
   ],
   "source": [
    "persistence_landscape1 = PL.fit_transform(persistence_diagram1)\n",
    "\n",
    "PL.plot(persistence_landscape1)"
   ]
  },
  {
   "cell_type": "code",
   "execution_count": 147,
   "id": "fad68ae2-fbde-4e1c-b6da-5f1684249859",
   "metadata": {},
   "outputs": [
    {
     "data": {
      "application/vnd.plotly.v1+json": {
       "config": {
        "plotlyServerURL": "https://plot.ly"
       },
       "data": [
        {
         "hoverinfo": "none",
         "mode": "lines",
         "name": "Layer 1 (H0)",
         "showlegend": true,
         "type": "scatter",
         "x": [
          0,
          0.0023035253539229884,
          0.004607050707845977,
          0.006910576061768965,
          0.009214101415691954,
          0.011517626769614943,
          0.01382115212353793,
          0.01612467747746092,
          0.018428202831383907,
          0.020731728185306896,
          0.023035253539229885,
          0.025338778893152874,
          0.02764230424707586,
          0.029945829600998848,
          0.03224935495492184,
          0.034552880308844826,
          0.036856405662767815,
          0.039159931016690804,
          0.04146345637061379,
          0.04376698172453678,
          0.04607050707845977,
          0.04837403243238276,
          0.05067755778630575,
          0.05298108314022874,
          0.05528460849415172,
          0.05758813384807471,
          0.059891659201997696,
          0.062195184555920685,
          0.06449870990984367,
          0.06680223526376666,
          0.06910576061768965,
          0.07140928597161264,
          0.07371281132553563,
          0.07601633667945862,
          0.07831986203338161,
          0.0806233873873046,
          0.08292691274122758,
          0.08523043809515057,
          0.08753396344907356,
          0.08983748880299655,
          0.09214101415691954,
          0.09444453951084253,
          0.09674806486476552,
          0.0990515902186885,
          0.1013551155726115,
          0.10365864092653448,
          0.10596216628045747,
          0.10826569163438046,
          0.11056921698830344,
          0.11287274234222643,
          0.11517626769614941,
          0.1174797930500724,
          0.11978331840399539,
          0.12208684375791838,
          0.12439036911184137,
          0.12669389446576437,
          0.12899741981968735,
          0.13130094517361035,
          0.13360447052753333,
          0.13590799588145633,
          0.1382115212353793,
          0.1405150465893023,
          0.14281857194322528,
          0.14512209729714828,
          0.14742562265107126,
          0.14972914800499423,
          0.15203267335891724,
          0.1543361987128402,
          0.15663972406676321,
          0.1589432494206862,
          0.1612467747746092,
          0.16355030012853217,
          0.16585382548245517,
          0.16815735083637814,
          0.17046087619030115,
          0.17276440154422412,
          0.17506792689814712,
          0.1773714522520701,
          0.1796749776059931,
          0.18197850295991608,
          0.18428202831383908,
          0.18658555366776206,
          0.18888907902168506,
          0.19119260437560803,
          0.19349612972953104,
          0.195799655083454,
          0.198103180437377,
          0.2004067057913,
          0.202710231145223,
          0.20501375649914597,
          0.20731728185306897,
          0.20962080720699194,
          0.21192433256091495,
          0.21422785791483792,
          0.21653138326876092,
          0.2188349086226839,
          0.22113843397660687,
          0.22344195933052988,
          0.22574548468445285,
          0.22804901003837585
         ],
         "xaxis": "x",
         "y": [
          0,
          0.002303525353922989,
          0.004607050707845978,
          0.0069105760617689665,
          0.009214101415691955,
          0.011517626769614944,
          0.013821152123537933,
          0.016124677477460922,
          0.01842820283138391,
          0.0207317281853069,
          0.02303525353922989,
          0.025338778893152877,
          0.027642304247075866,
          0.029945829600998848,
          0.032249354954921844,
          0.034552880308844826,
          0.03685640566276782,
          0.039159931016690804,
          0.0414634563706138,
          0.04376698172453678,
          0.04607050707845978,
          0.04837403243238276,
          0.050677557786305755,
          0.05298108314022874,
          0.05528460849415172,
          0.05758813384807471,
          0.059891659201997696,
          0.062195184555920685,
          0.06449870990984367,
          0.06680223526376666,
          0.06910576061768965,
          0.07140928597161264,
          0.07371281132553563,
          0.07601633667945862,
          0.07831986203338161,
          0.0806233873873046,
          0.08292691274122758,
          0.08523043809515057,
          0.08753396344907356,
          0.08983748880299655,
          0.09214101415691954,
          0.09444453951084253,
          0.09674806486476552,
          0.0990515902186885,
          0.1013551155726115,
          0.10365864092653448,
          0.10596216628045747,
          0.10826569163438046,
          0.11056921698830344,
          0.11287274234222643,
          0.11287274234222644,
          0.11056921698830345,
          0.10826569163438046,
          0.10596216628045747,
          0.10365864092653448,
          0.10135511557261148,
          0.0990515902186885,
          0.0967480648647655,
          0.09444453951084253,
          0.09214101415691953,
          0.08983748880299655,
          0.08753396344907355,
          0.08523043809515057,
          0.08292691274122757,
          0.0806233873873046,
          0.07831986203338162,
          0.07601633667945862,
          0.07371281132553564,
          0.07140928597161264,
          0.06910576061768967,
          0.06680223526376666,
          0.06449870990984369,
          0.062195184555920685,
          0.05989165920199771,
          0.05758813384807471,
          0.05528460849415173,
          0.05298108314022873,
          0.050677557786305755,
          0.04837403243238275,
          0.04607050707845978,
          0.043766981724536774,
          0.0414634563706138,
          0.0391599310166908,
          0.03685640566276782,
          0.03455288030884482,
          0.032249354954921844,
          0.02994582960099884,
          0.027642304247075866,
          0.025338778893152863,
          0.02303525353922989,
          0.020731728185306886,
          0.01842820283138391,
          0.016124677477460908,
          0.013821152123537933,
          0.01151762676961493,
          0.009214101415691955,
          0.00691057606176898,
          0.004607050707845978,
          0.0023035253539230027,
          0
         ],
         "yaxis": "y"
        },
        {
         "hoverinfo": "none",
         "mode": "lines",
         "name": "Layer 1 (H1)",
         "showlegend": true,
         "type": "scatter",
         "x": [
          0.12482167780399323,
          0.14012079437573752,
          0.15541991094748178,
          0.17071902751922607,
          0.18601814409097037,
          0.20131726066271466,
          0.21661637723445892,
          0.23191549380620322,
          0.2472146103779475,
          0.2625137269496918,
          0.2778128435214361,
          0.29311196009318036,
          0.3084110766649246,
          0.32371019323666894,
          0.3390093098084132,
          0.35430842638015747,
          0.3696075429519018,
          0.38490665952364606,
          0.4002057760953903,
          0.41550489266713464,
          0.4308040092388789,
          0.44610312581062317,
          0.4614022423823675,
          0.47670135895411175,
          0.492000475525856,
          0.5072995920976003,
          0.5225987086693447,
          0.5378978252410889,
          0.5531969418128332,
          0.5684960583845775,
          0.5837951749563217,
          0.599094291528066,
          0.6143934080998104,
          0.6296925246715546,
          0.6449916412432989,
          0.6602907578150432,
          0.6755898743867874,
          0.6908889909585317,
          0.706188107530276,
          0.7214872241020203,
          0.7367863406737646,
          0.7520854572455089,
          0.7673845738172531,
          0.7826836903889974,
          0.7979828069607418,
          0.813281923532486,
          0.8285810401042303,
          0.8438801566759746,
          0.8591792732477188,
          0.8744783898194631,
          0.8897775063912075,
          0.9050766229629517,
          0.920375739534696,
          0.9356748561064403,
          0.9509739726781845,
          0.9662730892499288,
          0.9815722058216731,
          0.9968713223934174,
          1.0121704389651618,
          1.027469555536906,
          1.0427686721086502,
          1.0580677886803946,
          1.0733669052521388,
          1.088666021823883,
          1.1039651383956275,
          1.1192642549673717,
          1.134563371539116,
          1.1498624881108603,
          1.1651616046826045,
          1.1804607212543488,
          1.1957598378260932,
          1.2110589543978374,
          1.2263580709695816,
          1.241657187541326,
          1.2569563041130702,
          1.2722554206848145,
          1.2875545372565589,
          1.302853653828303,
          1.3181527704000473,
          1.3334518869717917,
          1.348751003543536,
          1.3640501201152802,
          1.3793492366870246,
          1.3946483532587688,
          1.409947469830513,
          1.4252465864022574,
          1.4405457029740016,
          1.4558448195457458,
          1.4711439361174903,
          1.4864430526892345,
          1.5017421692609787,
          1.5170412858327231,
          1.5323404024044673,
          1.5476395189762115,
          1.562938635547956,
          1.5782377521197002,
          1.5935368686914444,
          1.6088359852631888,
          1.624135101834933,
          1.6394342184066772
         ],
         "xaxis": "x2",
         "y": [
          0,
          0,
          0,
          0,
          0,
          0,
          0.0010738074779510498,
          0,
          0,
          0.011280059814453125,
          0.026579176386197445,
          0.041878292957941765,
          0.057177409529685974,
          0.0724765261014303,
          0.08777564267317461,
          0.10307475924491882,
          0.11837387581666314,
          0.13367299238840746,
          0.14897210896015167,
          0.164271225531896,
          0.1795703421036403,
          0.19486945867538452,
          0.21016857524712884,
          0.2254676918188731,
          0.24076680839061737,
          0.2560659249623617,
          0.271365041534106,
          0.2866641581058502,
          0.30196327467759454,
          0.31726239124933886,
          0.33256150782108307,
          0.3478606243928274,
          0.3631597409645717,
          0.3784588575363159,
          0.39375797410806024,
          0.40905709067980456,
          0.42435620725154877,
          0.4396553238232931,
          0.4549544403950374,
          0.4702535569667816,
          0.48555267353852594,
          0.5008517901102703,
          0.5161509066820145,
          0.5314500232537588,
          0.5467491398255031,
          0.5620482563972473,
          0.5773473729689916,
          0.592646489540736,
          0.6079456061124802,
          0.6232447226842245,
          0.6385438392559688,
          0.653842955827713,
          0.6691420723994573,
          0.6844411889712017,
          0.6884602457284927,
          0.6731611291567484,
          0.6578620125850041,
          0.6425628960132599,
          0.6272637794415155,
          0.6119646628697712,
          0.596665546298027,
          0.5813664297262826,
          0.5660673131545384,
          0.5507681965827942,
          0.5354690800110498,
          0.5201699634393055,
          0.5048708468675613,
          0.4895717302958169,
          0.4742726137240727,
          0.4589734971523285,
          0.44367438058058406,
          0.42837526400883985,
          0.41307614743709564,
          0.3977770308653512,
          0.382477914293607,
          0.3671787977218628,
          0.35187968115011836,
          0.33658056457837415,
          0.32128144800662994,
          0.3059823314348855,
          0.2906832148631413,
          0.2753840982913971,
          0.26008498171965266,
          0.24478586514790845,
          0.22948674857616425,
          0.21418763200441981,
          0.1988885154326756,
          0.1835893988609314,
          0.16829028228918697,
          0.15299116571744276,
          0.13769204914569855,
          0.12239293257395412,
          0.10709381600220991,
          0.0917946994304657,
          0.07649558285872127,
          0.06119646628697706,
          0.04589734971523285,
          0.030598233143488418,
          0.015299116571744209,
          0
         ],
         "yaxis": "y2"
        },
        {
         "hoverinfo": "none",
         "mode": "lines",
         "name": "Layer 1 (H2)",
         "showlegend": true,
         "type": "scatter",
         "x": [
          1.643521785736084,
          1.6444034311506484,
          1.6452850765652127,
          1.646166721979777,
          1.6470483673943415,
          1.6479300128089056,
          1.64881165822347,
          1.6496933036380343,
          1.6505749490525987,
          1.651456594467163,
          1.6523382398817275,
          1.6532198852962918,
          1.6541015307108562,
          1.6549831761254206,
          1.6558648215399847,
          1.656746466954549,
          1.6576281123691134,
          1.6585097577836778,
          1.6593914031982422,
          1.6602730486128066,
          1.661154694027371,
          1.6620363394419353,
          1.6629179848564997,
          1.6637996302710638,
          1.6646812756856282,
          1.6655629211001926,
          1.666444566514757,
          1.6673262119293213,
          1.6682078573438857,
          1.66908950275845,
          1.6699711481730144,
          1.6708527935875788,
          1.671734439002143,
          1.6726160844167073,
          1.6734977298312717,
          1.674379375245836,
          1.6752610206604004,
          1.6761426660749648,
          1.6770243114895291,
          1.6779059569040935,
          1.6787876023186579,
          1.679669247733222,
          1.6805508931477864,
          1.6814325385623508,
          1.6823141839769151,
          1.6831958293914795,
          1.6840774748060439,
          1.6849591202206082,
          1.6858407656351726,
          1.686722411049737,
          1.6876040564643011,
          1.6884857018788655,
          1.6893673472934299,
          1.6902489927079942,
          1.6911306381225586,
          1.692012283537123,
          1.6928939289516873,
          1.6937755743662517,
          1.694657219780816,
          1.6955388651953802,
          1.6964205106099446,
          1.697302156024509,
          1.6981838014390733,
          1.6990654468536377,
          1.699947092268202,
          1.7008287376827664,
          1.7017103830973308,
          1.7025920285118952,
          1.7034736739264593,
          1.7043553193410237,
          1.705236964755588,
          1.7061186101701524,
          1.7070002555847168,
          1.7078819009992812,
          1.7087635464138455,
          1.70964519182841,
          1.7105268372429743,
          1.7114084826575384,
          1.7122901280721028,
          1.7131717734866672,
          1.7140534189012315,
          1.714935064315796,
          1.7158167097303603,
          1.7166983551449246,
          1.717580000559489,
          1.7184616459740534,
          1.7193432913886175,
          1.720224936803182,
          1.7211065822177463,
          1.7219882276323106,
          1.722869873046875,
          1.7237515184614394,
          1.7246331638760037,
          1.725514809290568,
          1.7263964547051325,
          1.7272781001196966,
          1.728159745534261,
          1.7290413909488254,
          1.7299230363633897,
          1.730804681777954
         ],
         "xaxis": "x3",
         "y": [
          0,
          0.0008816454145643693,
          0.0017632908291287386,
          0.002644936243693108,
          0.003526581658257477,
          0.004408227072821624,
          0.005289872487385994,
          0.006171517901950363,
          0.007053163316514732,
          0.007934808731079102,
          0.00881645414564347,
          0.00969809956020784,
          0.01057974497477221,
          0.011461390389336579,
          0.012343035803900726,
          0.013224681218465095,
          0.014106326633029465,
          0.014987972047593834,
          0.015869617462158203,
          0.016751262876722572,
          0.01763290829128694,
          0.01851455370585131,
          0.01939619912041568,
          0.020277844534979828,
          0.021159489949544197,
          0.022041135364108566,
          0.022922780778672935,
          0.023804426193237305,
          0.024686071607801674,
          0.025567717022366043,
          0.026449362436930413,
          0.027331007851494782,
          0.02821265326605893,
          0.0290942986806233,
          0.029975944095187668,
          0.030857589509752037,
          0.031739234924316406,
          0.032620880338880776,
          0.033502525753445145,
          0.034384171168009514,
          0.03526581658257388,
          0.03614746199713803,
          0.0370291074117024,
          0.03791075282626677,
          0.03879239824083114,
          0.03967404365539551,
          0.04055568906995988,
          0.041437334484524246,
          0.042318979899088616,
          0.043200625313652985,
          0.043200625313652985,
          0.042318979899088616,
          0.041437334484524246,
          0.04055568906995988,
          0.03967404365539551,
          0.03879239824083114,
          0.03791075282626677,
          0.0370291074117024,
          0.03614746199713803,
          0.03526581658257388,
          0.034384171168009514,
          0.033502525753445145,
          0.032620880338880776,
          0.031739234924316406,
          0.030857589509752037,
          0.029975944095187668,
          0.0290942986806233,
          0.02821265326605893,
          0.027331007851494782,
          0.026449362436930413,
          0.025567717022366043,
          0.024686071607801674,
          0.023804426193237305,
          0.022922780778672935,
          0.022041135364108566,
          0.021159489949544197,
          0.020277844534979828,
          0.01939619912041568,
          0.01851455370585131,
          0.01763290829128694,
          0.016751262876722572,
          0.015869617462158203,
          0.014987972047593834,
          0.014106326633029465,
          0.013224681218465095,
          0.012343035803900726,
          0.011461390389336579,
          0.01057974497477221,
          0.00969809956020784,
          0.00881645414564347,
          0.007934808731079102,
          0.007053163316514732,
          0.006171517901950363,
          0.005289872487385994,
          0.004408227072821624,
          0.003526581658257477,
          0.002644936243693108,
          0.0017632908291287386,
          0.0008816454145643693,
          0
         ],
         "yaxis": "y3"
        }
       ],
       "layout": {
        "annotations": [
         {
          "font": {
           "size": 16
          },
          "showarrow": false,
          "text": "H0",
          "x": 0.5,
          "xanchor": "center",
          "xref": "paper",
          "y": 1,
          "yanchor": "bottom",
          "yref": "paper"
         },
         {
          "font": {
           "size": 16
          },
          "showarrow": false,
          "text": "H1",
          "x": 0.5,
          "xanchor": "center",
          "xref": "paper",
          "y": 0.6111111111111112,
          "yanchor": "bottom",
          "yref": "paper"
         },
         {
          "font": {
           "size": 16
          },
          "showarrow": false,
          "text": "H2",
          "x": 0.5,
          "xanchor": "center",
          "xref": "paper",
          "y": 0.22222222222222224,
          "yanchor": "bottom",
          "yref": "paper"
         }
        ],
        "autosize": true,
        "plot_bgcolor": "white",
        "template": {
         "data": {
          "bar": [
           {
            "error_x": {
             "color": "#2a3f5f"
            },
            "error_y": {
             "color": "#2a3f5f"
            },
            "marker": {
             "line": {
              "color": "#E5ECF6",
              "width": 0.5
             },
             "pattern": {
              "fillmode": "overlay",
              "size": 10,
              "solidity": 0.2
             }
            },
            "type": "bar"
           }
          ],
          "barpolar": [
           {
            "marker": {
             "line": {
              "color": "#E5ECF6",
              "width": 0.5
             },
             "pattern": {
              "fillmode": "overlay",
              "size": 10,
              "solidity": 0.2
             }
            },
            "type": "barpolar"
           }
          ],
          "carpet": [
           {
            "aaxis": {
             "endlinecolor": "#2a3f5f",
             "gridcolor": "white",
             "linecolor": "white",
             "minorgridcolor": "white",
             "startlinecolor": "#2a3f5f"
            },
            "baxis": {
             "endlinecolor": "#2a3f5f",
             "gridcolor": "white",
             "linecolor": "white",
             "minorgridcolor": "white",
             "startlinecolor": "#2a3f5f"
            },
            "type": "carpet"
           }
          ],
          "choropleth": [
           {
            "colorbar": {
             "outlinewidth": 0,
             "ticks": ""
            },
            "type": "choropleth"
           }
          ],
          "contour": [
           {
            "colorbar": {
             "outlinewidth": 0,
             "ticks": ""
            },
            "colorscale": [
             [
              0,
              "#0d0887"
             ],
             [
              0.1111111111111111,
              "#46039f"
             ],
             [
              0.2222222222222222,
              "#7201a8"
             ],
             [
              0.3333333333333333,
              "#9c179e"
             ],
             [
              0.4444444444444444,
              "#bd3786"
             ],
             [
              0.5555555555555556,
              "#d8576b"
             ],
             [
              0.6666666666666666,
              "#ed7953"
             ],
             [
              0.7777777777777778,
              "#fb9f3a"
             ],
             [
              0.8888888888888888,
              "#fdca26"
             ],
             [
              1,
              "#f0f921"
             ]
            ],
            "type": "contour"
           }
          ],
          "contourcarpet": [
           {
            "colorbar": {
             "outlinewidth": 0,
             "ticks": ""
            },
            "type": "contourcarpet"
           }
          ],
          "heatmap": [
           {
            "colorbar": {
             "outlinewidth": 0,
             "ticks": ""
            },
            "colorscale": [
             [
              0,
              "#0d0887"
             ],
             [
              0.1111111111111111,
              "#46039f"
             ],
             [
              0.2222222222222222,
              "#7201a8"
             ],
             [
              0.3333333333333333,
              "#9c179e"
             ],
             [
              0.4444444444444444,
              "#bd3786"
             ],
             [
              0.5555555555555556,
              "#d8576b"
             ],
             [
              0.6666666666666666,
              "#ed7953"
             ],
             [
              0.7777777777777778,
              "#fb9f3a"
             ],
             [
              0.8888888888888888,
              "#fdca26"
             ],
             [
              1,
              "#f0f921"
             ]
            ],
            "type": "heatmap"
           }
          ],
          "heatmapgl": [
           {
            "colorbar": {
             "outlinewidth": 0,
             "ticks": ""
            },
            "colorscale": [
             [
              0,
              "#0d0887"
             ],
             [
              0.1111111111111111,
              "#46039f"
             ],
             [
              0.2222222222222222,
              "#7201a8"
             ],
             [
              0.3333333333333333,
              "#9c179e"
             ],
             [
              0.4444444444444444,
              "#bd3786"
             ],
             [
              0.5555555555555556,
              "#d8576b"
             ],
             [
              0.6666666666666666,
              "#ed7953"
             ],
             [
              0.7777777777777778,
              "#fb9f3a"
             ],
             [
              0.8888888888888888,
              "#fdca26"
             ],
             [
              1,
              "#f0f921"
             ]
            ],
            "type": "heatmapgl"
           }
          ],
          "histogram": [
           {
            "marker": {
             "pattern": {
              "fillmode": "overlay",
              "size": 10,
              "solidity": 0.2
             }
            },
            "type": "histogram"
           }
          ],
          "histogram2d": [
           {
            "colorbar": {
             "outlinewidth": 0,
             "ticks": ""
            },
            "colorscale": [
             [
              0,
              "#0d0887"
             ],
             [
              0.1111111111111111,
              "#46039f"
             ],
             [
              0.2222222222222222,
              "#7201a8"
             ],
             [
              0.3333333333333333,
              "#9c179e"
             ],
             [
              0.4444444444444444,
              "#bd3786"
             ],
             [
              0.5555555555555556,
              "#d8576b"
             ],
             [
              0.6666666666666666,
              "#ed7953"
             ],
             [
              0.7777777777777778,
              "#fb9f3a"
             ],
             [
              0.8888888888888888,
              "#fdca26"
             ],
             [
              1,
              "#f0f921"
             ]
            ],
            "type": "histogram2d"
           }
          ],
          "histogram2dcontour": [
           {
            "colorbar": {
             "outlinewidth": 0,
             "ticks": ""
            },
            "colorscale": [
             [
              0,
              "#0d0887"
             ],
             [
              0.1111111111111111,
              "#46039f"
             ],
             [
              0.2222222222222222,
              "#7201a8"
             ],
             [
              0.3333333333333333,
              "#9c179e"
             ],
             [
              0.4444444444444444,
              "#bd3786"
             ],
             [
              0.5555555555555556,
              "#d8576b"
             ],
             [
              0.6666666666666666,
              "#ed7953"
             ],
             [
              0.7777777777777778,
              "#fb9f3a"
             ],
             [
              0.8888888888888888,
              "#fdca26"
             ],
             [
              1,
              "#f0f921"
             ]
            ],
            "type": "histogram2dcontour"
           }
          ],
          "mesh3d": [
           {
            "colorbar": {
             "outlinewidth": 0,
             "ticks": ""
            },
            "type": "mesh3d"
           }
          ],
          "parcoords": [
           {
            "line": {
             "colorbar": {
              "outlinewidth": 0,
              "ticks": ""
             }
            },
            "type": "parcoords"
           }
          ],
          "pie": [
           {
            "automargin": true,
            "type": "pie"
           }
          ],
          "scatter": [
           {
            "fillpattern": {
             "fillmode": "overlay",
             "size": 10,
             "solidity": 0.2
            },
            "type": "scatter"
           }
          ],
          "scatter3d": [
           {
            "line": {
             "colorbar": {
              "outlinewidth": 0,
              "ticks": ""
             }
            },
            "marker": {
             "colorbar": {
              "outlinewidth": 0,
              "ticks": ""
             }
            },
            "type": "scatter3d"
           }
          ],
          "scattercarpet": [
           {
            "marker": {
             "colorbar": {
              "outlinewidth": 0,
              "ticks": ""
             }
            },
            "type": "scattercarpet"
           }
          ],
          "scattergeo": [
           {
            "marker": {
             "colorbar": {
              "outlinewidth": 0,
              "ticks": ""
             }
            },
            "type": "scattergeo"
           }
          ],
          "scattergl": [
           {
            "marker": {
             "colorbar": {
              "outlinewidth": 0,
              "ticks": ""
             }
            },
            "type": "scattergl"
           }
          ],
          "scattermapbox": [
           {
            "marker": {
             "colorbar": {
              "outlinewidth": 0,
              "ticks": ""
             }
            },
            "type": "scattermapbox"
           }
          ],
          "scatterpolar": [
           {
            "marker": {
             "colorbar": {
              "outlinewidth": 0,
              "ticks": ""
             }
            },
            "type": "scatterpolar"
           }
          ],
          "scatterpolargl": [
           {
            "marker": {
             "colorbar": {
              "outlinewidth": 0,
              "ticks": ""
             }
            },
            "type": "scatterpolargl"
           }
          ],
          "scatterternary": [
           {
            "marker": {
             "colorbar": {
              "outlinewidth": 0,
              "ticks": ""
             }
            },
            "type": "scatterternary"
           }
          ],
          "surface": [
           {
            "colorbar": {
             "outlinewidth": 0,
             "ticks": ""
            },
            "colorscale": [
             [
              0,
              "#0d0887"
             ],
             [
              0.1111111111111111,
              "#46039f"
             ],
             [
              0.2222222222222222,
              "#7201a8"
             ],
             [
              0.3333333333333333,
              "#9c179e"
             ],
             [
              0.4444444444444444,
              "#bd3786"
             ],
             [
              0.5555555555555556,
              "#d8576b"
             ],
             [
              0.6666666666666666,
              "#ed7953"
             ],
             [
              0.7777777777777778,
              "#fb9f3a"
             ],
             [
              0.8888888888888888,
              "#fdca26"
             ],
             [
              1,
              "#f0f921"
             ]
            ],
            "type": "surface"
           }
          ],
          "table": [
           {
            "cells": {
             "fill": {
              "color": "#EBF0F8"
             },
             "line": {
              "color": "white"
             }
            },
            "header": {
             "fill": {
              "color": "#C8D4E3"
             },
             "line": {
              "color": "white"
             }
            },
            "type": "table"
           }
          ]
         },
         "layout": {
          "annotationdefaults": {
           "arrowcolor": "#2a3f5f",
           "arrowhead": 0,
           "arrowwidth": 1
          },
          "autotypenumbers": "strict",
          "coloraxis": {
           "colorbar": {
            "outlinewidth": 0,
            "ticks": ""
           }
          },
          "colorscale": {
           "diverging": [
            [
             0,
             "#8e0152"
            ],
            [
             0.1,
             "#c51b7d"
            ],
            [
             0.2,
             "#de77ae"
            ],
            [
             0.3,
             "#f1b6da"
            ],
            [
             0.4,
             "#fde0ef"
            ],
            [
             0.5,
             "#f7f7f7"
            ],
            [
             0.6,
             "#e6f5d0"
            ],
            [
             0.7,
             "#b8e186"
            ],
            [
             0.8,
             "#7fbc41"
            ],
            [
             0.9,
             "#4d9221"
            ],
            [
             1,
             "#276419"
            ]
           ],
           "sequential": [
            [
             0,
             "#0d0887"
            ],
            [
             0.1111111111111111,
             "#46039f"
            ],
            [
             0.2222222222222222,
             "#7201a8"
            ],
            [
             0.3333333333333333,
             "#9c179e"
            ],
            [
             0.4444444444444444,
             "#bd3786"
            ],
            [
             0.5555555555555556,
             "#d8576b"
            ],
            [
             0.6666666666666666,
             "#ed7953"
            ],
            [
             0.7777777777777778,
             "#fb9f3a"
            ],
            [
             0.8888888888888888,
             "#fdca26"
            ],
            [
             1,
             "#f0f921"
            ]
           ],
           "sequentialminus": [
            [
             0,
             "#0d0887"
            ],
            [
             0.1111111111111111,
             "#46039f"
            ],
            [
             0.2222222222222222,
             "#7201a8"
            ],
            [
             0.3333333333333333,
             "#9c179e"
            ],
            [
             0.4444444444444444,
             "#bd3786"
            ],
            [
             0.5555555555555556,
             "#d8576b"
            ],
            [
             0.6666666666666666,
             "#ed7953"
            ],
            [
             0.7777777777777778,
             "#fb9f3a"
            ],
            [
             0.8888888888888888,
             "#fdca26"
            ],
            [
             1,
             "#f0f921"
            ]
           ]
          },
          "colorway": [
           "#636efa",
           "#EF553B",
           "#00cc96",
           "#ab63fa",
           "#FFA15A",
           "#19d3f3",
           "#FF6692",
           "#B6E880",
           "#FF97FF",
           "#FECB52"
          ],
          "font": {
           "color": "#2a3f5f"
          },
          "geo": {
           "bgcolor": "white",
           "lakecolor": "white",
           "landcolor": "#E5ECF6",
           "showlakes": true,
           "showland": true,
           "subunitcolor": "white"
          },
          "hoverlabel": {
           "align": "left"
          },
          "hovermode": "closest",
          "mapbox": {
           "style": "light"
          },
          "paper_bgcolor": "white",
          "plot_bgcolor": "#E5ECF6",
          "polar": {
           "angularaxis": {
            "gridcolor": "white",
            "linecolor": "white",
            "ticks": ""
           },
           "bgcolor": "#E5ECF6",
           "radialaxis": {
            "gridcolor": "white",
            "linecolor": "white",
            "ticks": ""
           }
          },
          "scene": {
           "xaxis": {
            "backgroundcolor": "#E5ECF6",
            "gridcolor": "white",
            "gridwidth": 2,
            "linecolor": "white",
            "showbackground": true,
            "ticks": "",
            "zerolinecolor": "white"
           },
           "yaxis": {
            "backgroundcolor": "#E5ECF6",
            "gridcolor": "white",
            "gridwidth": 2,
            "linecolor": "white",
            "showbackground": true,
            "ticks": "",
            "zerolinecolor": "white"
           },
           "zaxis": {
            "backgroundcolor": "#E5ECF6",
            "gridcolor": "white",
            "gridwidth": 2,
            "linecolor": "white",
            "showbackground": true,
            "ticks": "",
            "zerolinecolor": "white"
           }
          },
          "shapedefaults": {
           "line": {
            "color": "#2a3f5f"
           }
          },
          "ternary": {
           "aaxis": {
            "gridcolor": "white",
            "linecolor": "white",
            "ticks": ""
           },
           "baxis": {
            "gridcolor": "white",
            "linecolor": "white",
            "ticks": ""
           },
           "bgcolor": "#E5ECF6",
           "caxis": {
            "gridcolor": "white",
            "linecolor": "white",
            "ticks": ""
           }
          },
          "title": {
           "x": 0.05
          },
          "xaxis": {
           "automargin": true,
           "gridcolor": "white",
           "linecolor": "white",
           "ticks": "",
           "title": {
            "standoff": 15
           },
           "zerolinecolor": "white",
           "zerolinewidth": 2
          },
          "yaxis": {
           "automargin": true,
           "gridcolor": "white",
           "linecolor": "white",
           "ticks": "",
           "title": {
            "standoff": 15
           },
           "zerolinecolor": "white",
           "zerolinewidth": 2
          }
         }
        },
        "title": {
         "text": "Landscape representations of diagram 0"
        },
        "xaxis": {
         "anchor": "y",
         "autorange": true,
         "domain": [
          0,
          1
         ],
         "exponentformat": "e",
         "linecolor": "black",
         "linewidth": 1,
         "mirror": false,
         "range": [
          0,
          0.22804901003837585
         ],
         "showexponent": "all",
         "showline": true,
         "side": "bottom",
         "ticks": "outside",
         "type": "linear",
         "zeroline": true
        },
        "xaxis2": {
         "anchor": "y2",
         "autorange": true,
         "domain": [
          0,
          1
         ],
         "range": [
          0.12482167780399323,
          1.6394342184066772
         ],
         "type": "linear"
        },
        "xaxis3": {
         "anchor": "y3",
         "autorange": true,
         "domain": [
          0,
          1
         ],
         "range": [
          1.643521785736084,
          1.730804681777954
         ],
         "type": "linear"
        },
        "yaxis": {
         "anchor": "x",
         "autorange": true,
         "domain": [
          0.7777777777777778,
          1
         ],
         "exponentformat": "e",
         "linecolor": "black",
         "linewidth": 1,
         "mirror": false,
         "range": [
          -0.006270707907901469,
          0.1191434502501279
         ],
         "showexponent": "all",
         "showline": true,
         "side": "left",
         "ticks": "outside",
         "type": "linear",
         "zeroline": true
        },
        "yaxis2": {
         "anchor": "x2",
         "autorange": true,
         "domain": [
          0.3888888888888889,
          0.6111111111111112
         ],
         "range": [
          -0.03824779142936071,
          0.7267080371578535
         ],
         "type": "linear"
        },
        "yaxis3": {
         "anchor": "x3",
         "autorange": true,
         "domain": [
          0,
          0.22222222222222224
         ],
         "range": [
          -0.002400034739647388,
          0.04560066005330037
         ],
         "type": "linear"
        }
       }
      },
      "image/png": "[encoded data removed]",
      "text/html": [
       "<div>                            <div id=\"a3aa0f3a-1089-42f2-beb0-fde1eb1be597\" class=\"plotly-graph-div\" style=\"height:525px; width:100%;\"></div>            <script type=\"text/javascript\">                require([\"plotly\"], function(Plotly) {                    window.PLOTLYENV=window.PLOTLYENV || {};                                    if (document.getElementById(\"a3aa0f3a-1089-42f2-beb0-fde1eb1be597\")) {                    Plotly.newPlot(                        \"a3aa0f3a-1089-42f2-beb0-fde1eb1be597\",                        [{\"hoverinfo\":\"none\",\"mode\":\"lines\",\"name\":\"Layer 1 (H0)\",\"showlegend\":true,\"x\":[0.0,0.0023035253539229884,0.004607050707845977,0.006910576061768965,0.009214101415691954,0.011517626769614943,0.01382115212353793,0.01612467747746092,0.018428202831383907,0.020731728185306896,0.023035253539229885,0.025338778893152874,0.02764230424707586,0.029945829600998848,0.03224935495492184,0.034552880308844826,0.036856405662767815,0.039159931016690804,0.04146345637061379,0.04376698172453678,0.04607050707845977,0.04837403243238276,0.05067755778630575,0.05298108314022874,0.05528460849415172,0.05758813384807471,0.059891659201997696,0.062195184555920685,0.06449870990984367,0.06680223526376666,0.06910576061768965,0.07140928597161264,0.07371281132553563,0.07601633667945862,0.07831986203338161,0.0806233873873046,0.08292691274122758,0.08523043809515057,0.08753396344907356,0.08983748880299655,0.09214101415691954,0.09444453951084253,0.09674806486476552,0.0990515902186885,0.1013551155726115,0.10365864092653448,0.10596216628045747,0.10826569163438046,0.11056921698830344,0.11287274234222643,0.11517626769614941,0.1174797930500724,0.11978331840399539,0.12208684375791838,0.12439036911184137,0.12669389446576437,0.12899741981968735,0.13130094517361035,0.13360447052753333,0.13590799588145633,0.1382115212353793,0.1405150465893023,0.14281857194322528,0.14512209729714828,0.14742562265107126,0.14972914800499423,0.15203267335891724,0.1543361987128402,0.15663972406676321,0.1589432494206862,0.1612467747746092,0.16355030012853217,0.16585382548245517,0.16815735083637814,0.17046087619030115,0.17276440154422412,0.17506792689814712,0.1773714522520701,0.1796749776059931,0.18197850295991608,0.18428202831383908,0.18658555366776206,0.18888907902168506,0.19119260437560803,0.19349612972953104,0.195799655083454,0.198103180437377,0.2004067057913,0.202710231145223,0.20501375649914597,0.20731728185306897,0.20962080720699194,0.21192433256091495,0.21422785791483792,0.21653138326876092,0.2188349086226839,0.22113843397660687,0.22344195933052988,0.22574548468445285,0.22804901003837585],\"y\":[0.0,0.002303525353922989,0.004607050707845978,0.0069105760617689665,0.009214101415691955,0.011517626769614944,0.013821152123537933,0.016124677477460922,0.01842820283138391,0.0207317281853069,0.02303525353922989,0.025338778893152877,0.027642304247075866,0.029945829600998848,0.032249354954921844,0.034552880308844826,0.03685640566276782,0.039159931016690804,0.0414634563706138,0.04376698172453678,0.04607050707845978,0.04837403243238276,0.050677557786305755,0.05298108314022874,0.05528460849415172,0.05758813384807471,0.059891659201997696,0.062195184555920685,0.06449870990984367,0.06680223526376666,0.06910576061768965,0.07140928597161264,0.07371281132553563,0.07601633667945862,0.07831986203338161,0.0806233873873046,0.08292691274122758,0.08523043809515057,0.08753396344907356,0.08983748880299655,0.09214101415691954,0.09444453951084253,0.09674806486476552,0.0990515902186885,0.1013551155726115,0.10365864092653448,0.10596216628045747,0.10826569163438046,0.11056921698830344,0.11287274234222643,0.11287274234222644,0.11056921698830345,0.10826569163438046,0.10596216628045747,0.10365864092653448,0.10135511557261148,0.0990515902186885,0.0967480648647655,0.09444453951084253,0.09214101415691953,0.08983748880299655,0.08753396344907355,0.08523043809515057,0.08292691274122757,0.0806233873873046,0.07831986203338162,0.07601633667945862,0.07371281132553564,0.07140928597161264,0.06910576061768967,0.06680223526376666,0.06449870990984369,0.062195184555920685,0.05989165920199771,0.05758813384807471,0.05528460849415173,0.05298108314022873,0.050677557786305755,0.04837403243238275,0.04607050707845978,0.043766981724536774,0.0414634563706138,0.0391599310166908,0.03685640566276782,0.03455288030884482,0.032249354954921844,0.02994582960099884,0.027642304247075866,0.025338778893152863,0.02303525353922989,0.020731728185306886,0.01842820283138391,0.016124677477460908,0.013821152123537933,0.01151762676961493,0.009214101415691955,0.00691057606176898,0.004607050707845978,0.0023035253539230027,0.0],\"type\":\"scatter\",\"xaxis\":\"x\",\"yaxis\":\"y\"},{\"hoverinfo\":\"none\",\"mode\":\"lines\",\"name\":\"Layer 1 (H1)\",\"showlegend\":true,\"x\":[0.12482167780399323,0.14012079437573752,0.15541991094748178,0.17071902751922607,0.18601814409097037,0.20131726066271466,0.21661637723445892,0.23191549380620322,0.2472146103779475,0.2625137269496918,0.2778128435214361,0.29311196009318036,0.3084110766649246,0.32371019323666894,0.3390093098084132,0.35430842638015747,0.3696075429519018,0.38490665952364606,0.4002057760953903,0.41550489266713464,0.4308040092388789,0.44610312581062317,0.4614022423823675,0.47670135895411175,0.492000475525856,0.5072995920976003,0.5225987086693447,0.5378978252410889,0.5531969418128332,0.5684960583845775,0.5837951749563217,0.599094291528066,0.6143934080998104,0.6296925246715546,0.6449916412432989,0.6602907578150432,0.6755898743867874,0.6908889909585317,0.706188107530276,0.7214872241020203,0.7367863406737646,0.7520854572455089,0.7673845738172531,0.7826836903889974,0.7979828069607418,0.813281923532486,0.8285810401042303,0.8438801566759746,0.8591792732477188,0.8744783898194631,0.8897775063912075,0.9050766229629517,0.920375739534696,0.9356748561064403,0.9509739726781845,0.9662730892499288,0.9815722058216731,0.9968713223934174,1.0121704389651618,1.027469555536906,1.0427686721086502,1.0580677886803946,1.0733669052521388,1.088666021823883,1.1039651383956275,1.1192642549673717,1.134563371539116,1.1498624881108603,1.1651616046826045,1.1804607212543488,1.1957598378260932,1.2110589543978374,1.2263580709695816,1.241657187541326,1.2569563041130702,1.2722554206848145,1.2875545372565589,1.302853653828303,1.3181527704000473,1.3334518869717917,1.348751003543536,1.3640501201152802,1.3793492366870246,1.3946483532587688,1.409947469830513,1.4252465864022574,1.4405457029740016,1.4558448195457458,1.4711439361174903,1.4864430526892345,1.5017421692609787,1.5170412858327231,1.5323404024044673,1.5476395189762115,1.562938635547956,1.5782377521197002,1.5935368686914444,1.6088359852631888,1.624135101834933,1.6394342184066772],\"y\":[0.0,0.0,0.0,0.0,0.0,0.0,0.0010738074779510498,0.0,0.0,0.011280059814453125,0.026579176386197445,0.041878292957941765,0.057177409529685974,0.0724765261014303,0.08777564267317461,0.10307475924491882,0.11837387581666314,0.13367299238840746,0.14897210896015167,0.164271225531896,0.1795703421036403,0.19486945867538452,0.21016857524712884,0.2254676918188731,0.24076680839061737,0.2560659249623617,0.271365041534106,0.2866641581058502,0.30196327467759454,0.31726239124933886,0.33256150782108307,0.3478606243928274,0.3631597409645717,0.3784588575363159,0.39375797410806024,0.40905709067980456,0.42435620725154877,0.4396553238232931,0.4549544403950374,0.4702535569667816,0.48555267353852594,0.5008517901102703,0.5161509066820145,0.5314500232537588,0.5467491398255031,0.5620482563972473,0.5773473729689916,0.592646489540736,0.6079456061124802,0.6232447226842245,0.6385438392559688,0.653842955827713,0.6691420723994573,0.6844411889712017,0.6884602457284927,0.6731611291567484,0.6578620125850041,0.6425628960132599,0.6272637794415155,0.6119646628697712,0.596665546298027,0.5813664297262826,0.5660673131545384,0.5507681965827942,0.5354690800110498,0.5201699634393055,0.5048708468675613,0.4895717302958169,0.4742726137240727,0.4589734971523285,0.44367438058058406,0.42837526400883985,0.41307614743709564,0.3977770308653512,0.382477914293607,0.3671787977218628,0.35187968115011836,0.33658056457837415,0.32128144800662994,0.3059823314348855,0.2906832148631413,0.2753840982913971,0.26008498171965266,0.24478586514790845,0.22948674857616425,0.21418763200441981,0.1988885154326756,0.1835893988609314,0.16829028228918697,0.15299116571744276,0.13769204914569855,0.12239293257395412,0.10709381600220991,0.0917946994304657,0.07649558285872127,0.06119646628697706,0.04589734971523285,0.030598233143488418,0.015299116571744209,0.0],\"type\":\"scatter\",\"xaxis\":\"x2\",\"yaxis\":\"y2\"},{\"hoverinfo\":\"none\",\"mode\":\"lines\",\"name\":\"Layer 1 (H2)\",\"showlegend\":true,\"x\":[1.643521785736084,1.6444034311506484,1.6452850765652127,1.646166721979777,1.6470483673943415,1.6479300128089056,1.64881165822347,1.6496933036380343,1.6505749490525987,1.651456594467163,1.6523382398817275,1.6532198852962918,1.6541015307108562,1.6549831761254206,1.6558648215399847,1.656746466954549,1.6576281123691134,1.6585097577836778,1.6593914031982422,1.6602730486128066,1.661154694027371,1.6620363394419353,1.6629179848564997,1.6637996302710638,1.6646812756856282,1.6655629211001926,1.666444566514757,1.6673262119293213,1.6682078573438857,1.66908950275845,1.6699711481730144,1.6708527935875788,1.671734439002143,1.6726160844167073,1.6734977298312717,1.674379375245836,1.6752610206604004,1.6761426660749648,1.6770243114895291,1.6779059569040935,1.6787876023186579,1.679669247733222,1.6805508931477864,1.6814325385623508,1.6823141839769151,1.6831958293914795,1.6840774748060439,1.6849591202206082,1.6858407656351726,1.686722411049737,1.6876040564643011,1.6884857018788655,1.6893673472934299,1.6902489927079942,1.6911306381225586,1.692012283537123,1.6928939289516873,1.6937755743662517,1.694657219780816,1.6955388651953802,1.6964205106099446,1.697302156024509,1.6981838014390733,1.6990654468536377,1.699947092268202,1.7008287376827664,1.7017103830973308,1.7025920285118952,1.7034736739264593,1.7043553193410237,1.705236964755588,1.7061186101701524,1.7070002555847168,1.7078819009992812,1.7087635464138455,1.70964519182841,1.7105268372429743,1.7114084826575384,1.7122901280721028,1.7131717734866672,1.7140534189012315,1.714935064315796,1.7158167097303603,1.7166983551449246,1.717580000559489,1.7184616459740534,1.7193432913886175,1.720224936803182,1.7211065822177463,1.7219882276323106,1.722869873046875,1.7237515184614394,1.7246331638760037,1.725514809290568,1.7263964547051325,1.7272781001196966,1.728159745534261,1.7290413909488254,1.7299230363633897,1.730804681777954],\"y\":[0.0,0.0008816454145643693,0.0017632908291287386,0.002644936243693108,0.003526581658257477,0.004408227072821624,0.005289872487385994,0.006171517901950363,0.007053163316514732,0.007934808731079102,0.00881645414564347,0.00969809956020784,0.01057974497477221,0.011461390389336579,0.012343035803900726,0.013224681218465095,0.014106326633029465,0.014987972047593834,0.015869617462158203,0.016751262876722572,0.01763290829128694,0.01851455370585131,0.01939619912041568,0.020277844534979828,0.021159489949544197,0.022041135364108566,0.022922780778672935,0.023804426193237305,0.024686071607801674,0.025567717022366043,0.026449362436930413,0.027331007851494782,0.02821265326605893,0.0290942986806233,0.029975944095187668,0.030857589509752037,0.031739234924316406,0.032620880338880776,0.033502525753445145,0.034384171168009514,0.03526581658257388,0.03614746199713803,0.0370291074117024,0.03791075282626677,0.03879239824083114,0.03967404365539551,0.04055568906995988,0.041437334484524246,0.042318979899088616,0.043200625313652985,0.043200625313652985,0.042318979899088616,0.041437334484524246,0.04055568906995988,0.03967404365539551,0.03879239824083114,0.03791075282626677,0.0370291074117024,0.03614746199713803,0.03526581658257388,0.034384171168009514,0.033502525753445145,0.032620880338880776,0.031739234924316406,0.030857589509752037,0.029975944095187668,0.0290942986806233,0.02821265326605893,0.027331007851494782,0.026449362436930413,0.025567717022366043,0.024686071607801674,0.023804426193237305,0.022922780778672935,0.022041135364108566,0.021159489949544197,0.020277844534979828,0.01939619912041568,0.01851455370585131,0.01763290829128694,0.016751262876722572,0.015869617462158203,0.014987972047593834,0.014106326633029465,0.013224681218465095,0.012343035803900726,0.011461390389336579,0.01057974497477221,0.00969809956020784,0.00881645414564347,0.007934808731079102,0.007053163316514732,0.006171517901950363,0.005289872487385994,0.004408227072821624,0.003526581658257477,0.002644936243693108,0.0017632908291287386,0.0008816454145643693,0.0],\"type\":\"scatter\",\"xaxis\":\"x3\",\"yaxis\":\"y3\"}],                        {\"template\":{\"data\":{\"histogram2dcontour\":[{\"type\":\"histogram2dcontour\",\"colorbar\":{\"outlinewidth\":0,\"ticks\":\"\"},\"colorscale\":[[0.0,\"#0d0887\"],[0.1111111111111111,\"#46039f\"],[0.2222222222222222,\"#7201a8\"],[0.3333333333333333,\"#9c179e\"],[0.4444444444444444,\"#bd3786\"],[0.5555555555555556,\"#d8576b\"],[0.6666666666666666,\"#ed7953\"],[0.7777777777777778,\"#fb9f3a\"],[0.8888888888888888,\"#fdca26\"],[1.0,\"#f0f921\"]]}],\"choropleth\":[{\"type\":\"choropleth\",\"colorbar\":{\"outlinewidth\":0,\"ticks\":\"\"}}],\"histogram2d\":[{\"type\":\"histogram2d\",\"colorbar\":{\"outlinewidth\":0,\"ticks\":\"\"},\"colorscale\":[[0.0,\"#0d0887\"],[0.1111111111111111,\"#46039f\"],[0.2222222222222222,\"#7201a8\"],[0.3333333333333333,\"#9c179e\"],[0.4444444444444444,\"#bd3786\"],[0.5555555555555556,\"#d8576b\"],[0.6666666666666666,\"#ed7953\"],[0.7777777777777778,\"#fb9f3a\"],[0.8888888888888888,\"#fdca26\"],[1.0,\"#f0f921\"]]}],\"heatmap\":[{\"type\":\"heatmap\",\"colorbar\":{\"outlinewidth\":0,\"ticks\":\"\"},\"colorscale\":[[0.0,\"#0d0887\"],[0.1111111111111111,\"#46039f\"],[0.2222222222222222,\"#7201a8\"],[0.3333333333333333,\"#9c179e\"],[0.4444444444444444,\"#bd3786\"],[0.5555555555555556,\"#d8576b\"],[0.6666666666666666,\"#ed7953\"],[0.7777777777777778,\"#fb9f3a\"],[0.8888888888888888,\"#fdca26\"],[1.0,\"#f0f921\"]]}],\"heatmapgl\":[{\"type\":\"heatmapgl\",\"colorbar\":{\"outlinewidth\":0,\"ticks\":\"\"},\"colorscale\":[[0.0,\"#0d0887\"],[0.1111111111111111,\"#46039f\"],[0.2222222222222222,\"#7201a8\"],[0.3333333333333333,\"#9c179e\"],[0.4444444444444444,\"#bd3786\"],[0.5555555555555556,\"#d8576b\"],[0.6666666666666666,\"#ed7953\"],[0.7777777777777778,\"#fb9f3a\"],[0.8888888888888888,\"#fdca26\"],[1.0,\"#f0f921\"]]}],\"contourcarpet\":[{\"type\":\"contourcarpet\",\"colorbar\":{\"outlinewidth\":0,\"ticks\":\"\"}}],\"contour\":[{\"type\":\"contour\",\"colorbar\":{\"outlinewidth\":0,\"ticks\":\"\"},\"colorscale\":[[0.0,\"#0d0887\"],[0.1111111111111111,\"#46039f\"],[0.2222222222222222,\"#7201a8\"],[0.3333333333333333,\"#9c179e\"],[0.4444444444444444,\"#bd3786\"],[0.5555555555555556,\"#d8576b\"],[0.6666666666666666,\"#ed7953\"],[0.7777777777777778,\"#fb9f3a\"],[0.8888888888888888,\"#fdca26\"],[1.0,\"#f0f921\"]]}],\"surface\":[{\"type\":\"surface\",\"colorbar\":{\"outlinewidth\":0,\"ticks\":\"\"},\"colorscale\":[[0.0,\"#0d0887\"],[0.1111111111111111,\"#46039f\"],[0.2222222222222222,\"#7201a8\"],[0.3333333333333333,\"#9c179e\"],[0.4444444444444444,\"#bd3786\"],[0.5555555555555556,\"#d8576b\"],[0.6666666666666666,\"#ed7953\"],[0.7777777777777778,\"#fb9f3a\"],[0.8888888888888888,\"#fdca26\"],[1.0,\"#f0f921\"]]}],\"mesh3d\":[{\"type\":\"mesh3d\",\"colorbar\":{\"outlinewidth\":0,\"ticks\":\"\"}}],\"scatter\":[{\"fillpattern\":{\"fillmode\":\"overlay\",\"size\":10,\"solidity\":0.2},\"type\":\"scatter\"}],\"parcoords\":[{\"type\":\"parcoords\",\"line\":{\"colorbar\":{\"outlinewidth\":0,\"ticks\":\"\"}}}],\"scatterpolargl\":[{\"type\":\"scatterpolargl\",\"marker\":{\"colorbar\":{\"outlinewidth\":0,\"ticks\":\"\"}}}],\"bar\":[{\"error_x\":{\"color\":\"#2a3f5f\"},\"error_y\":{\"color\":\"#2a3f5f\"},\"marker\":{\"line\":{\"color\":\"#E5ECF6\",\"width\":0.5},\"pattern\":{\"fillmode\":\"overlay\",\"size\":10,\"solidity\":0.2}},\"type\":\"bar\"}],\"scattergeo\":[{\"type\":\"scattergeo\",\"marker\":{\"colorbar\":{\"outlinewidth\":0,\"ticks\":\"\"}}}],\"scatterpolar\":[{\"type\":\"scatterpolar\",\"marker\":{\"colorbar\":{\"outlinewidth\":0,\"ticks\":\"\"}}}],\"histogram\":[{\"marker\":{\"pattern\":{\"fillmode\":\"overlay\",\"size\":10,\"solidity\":0.2}},\"type\":\"histogram\"}],\"scattergl\":[{\"type\":\"scattergl\",\"marker\":{\"colorbar\":{\"outlinewidth\":0,\"ticks\":\"\"}}}],\"scatter3d\":[{\"type\":\"scatter3d\",\"line\":{\"colorbar\":{\"outlinewidth\":0,\"ticks\":\"\"}},\"marker\":{\"colorbar\":{\"outlinewidth\":0,\"ticks\":\"\"}}}],\"scattermapbox\":[{\"type\":\"scattermapbox\",\"marker\":{\"colorbar\":{\"outlinewidth\":0,\"ticks\":\"\"}}}],\"scatterternary\":[{\"type\":\"scatterternary\",\"marker\":{\"colorbar\":{\"outlinewidth\":0,\"ticks\":\"\"}}}],\"scattercarpet\":[{\"type\":\"scattercarpet\",\"marker\":{\"colorbar\":{\"outlinewidth\":0,\"ticks\":\"\"}}}],\"carpet\":[{\"aaxis\":{\"endlinecolor\":\"#2a3f5f\",\"gridcolor\":\"white\",\"linecolor\":\"white\",\"minorgridcolor\":\"white\",\"startlinecolor\":\"#2a3f5f\"},\"baxis\":{\"endlinecolor\":\"#2a3f5f\",\"gridcolor\":\"white\",\"linecolor\":\"white\",\"minorgridcolor\":\"white\",\"startlinecolor\":\"#2a3f5f\"},\"type\":\"carpet\"}],\"table\":[{\"cells\":{\"fill\":{\"color\":\"#EBF0F8\"},\"line\":{\"color\":\"white\"}},\"header\":{\"fill\":{\"color\":\"#C8D4E3\"},\"line\":{\"color\":\"white\"}},\"type\":\"table\"}],\"barpolar\":[{\"marker\":{\"line\":{\"color\":\"#E5ECF6\",\"width\":0.5},\"pattern\":{\"fillmode\":\"overlay\",\"size\":10,\"solidity\":0.2}},\"type\":\"barpolar\"}],\"pie\":[{\"automargin\":true,\"type\":\"pie\"}]},\"layout\":{\"autotypenumbers\":\"strict\",\"colorway\":[\"#636efa\",\"#EF553B\",\"#00cc96\",\"#ab63fa\",\"#FFA15A\",\"#19d3f3\",\"#FF6692\",\"#B6E880\",\"#FF97FF\",\"#FECB52\"],\"font\":{\"color\":\"#2a3f5f\"},\"hovermode\":\"closest\",\"hoverlabel\":{\"align\":\"left\"},\"paper_bgcolor\":\"white\",\"plot_bgcolor\":\"#E5ECF6\",\"polar\":{\"bgcolor\":\"#E5ECF6\",\"angularaxis\":{\"gridcolor\":\"white\",\"linecolor\":\"white\",\"ticks\":\"\"},\"radialaxis\":{\"gridcolor\":\"white\",\"linecolor\":\"white\",\"ticks\":\"\"}},\"ternary\":{\"bgcolor\":\"#E5ECF6\",\"aaxis\":{\"gridcolor\":\"white\",\"linecolor\":\"white\",\"ticks\":\"\"},\"baxis\":{\"gridcolor\":\"white\",\"linecolor\":\"white\",\"ticks\":\"\"},\"caxis\":{\"gridcolor\":\"white\",\"linecolor\":\"white\",\"ticks\":\"\"}},\"coloraxis\":{\"colorbar\":{\"outlinewidth\":0,\"ticks\":\"\"}},\"colorscale\":{\"sequential\":[[0.0,\"#0d0887\"],[0.1111111111111111,\"#46039f\"],[0.2222222222222222,\"#7201a8\"],[0.3333333333333333,\"#9c179e\"],[0.4444444444444444,\"#bd3786\"],[0.5555555555555556,\"#d8576b\"],[0.6666666666666666,\"#ed7953\"],[0.7777777777777778,\"#fb9f3a\"],[0.8888888888888888,\"#fdca26\"],[1.0,\"#f0f921\"]],\"sequentialminus\":[[0.0,\"#0d0887\"],[0.1111111111111111,\"#46039f\"],[0.2222222222222222,\"#7201a8\"],[0.3333333333333333,\"#9c179e\"],[0.4444444444444444,\"#bd3786\"],[0.5555555555555556,\"#d8576b\"],[0.6666666666666666,\"#ed7953\"],[0.7777777777777778,\"#fb9f3a\"],[0.8888888888888888,\"#fdca26\"],[1.0,\"#f0f921\"]],\"diverging\":[[0,\"#8e0152\"],[0.1,\"#c51b7d\"],[0.2,\"#de77ae\"],[0.3,\"#f1b6da\"],[0.4,\"#fde0ef\"],[0.5,\"#f7f7f7\"],[0.6,\"#e6f5d0\"],[0.7,\"#b8e186\"],[0.8,\"#7fbc41\"],[0.9,\"#4d9221\"],[1,\"#276419\"]]},\"xaxis\":{\"gridcolor\":\"white\",\"linecolor\":\"white\",\"ticks\":\"\",\"title\":{\"standoff\":15},\"zerolinecolor\":\"white\",\"automargin\":true,\"zerolinewidth\":2},\"yaxis\":{\"gridcolor\":\"white\",\"linecolor\":\"white\",\"ticks\":\"\",\"title\":{\"standoff\":15},\"zerolinecolor\":\"white\",\"automargin\":true,\"zerolinewidth\":2},\"scene\":{\"xaxis\":{\"backgroundcolor\":\"#E5ECF6\",\"gridcolor\":\"white\",\"linecolor\":\"white\",\"showbackground\":true,\"ticks\":\"\",\"zerolinecolor\":\"white\",\"gridwidth\":2},\"yaxis\":{\"backgroundcolor\":\"#E5ECF6\",\"gridcolor\":\"white\",\"linecolor\":\"white\",\"showbackground\":true,\"ticks\":\"\",\"zerolinecolor\":\"white\",\"gridwidth\":2},\"zaxis\":{\"backgroundcolor\":\"#E5ECF6\",\"gridcolor\":\"white\",\"linecolor\":\"white\",\"showbackground\":true,\"ticks\":\"\",\"zerolinecolor\":\"white\",\"gridwidth\":2}},\"shapedefaults\":{\"line\":{\"color\":\"#2a3f5f\"}},\"annotationdefaults\":{\"arrowcolor\":\"#2a3f5f\",\"arrowhead\":0,\"arrowwidth\":1},\"geo\":{\"bgcolor\":\"white\",\"landcolor\":\"#E5ECF6\",\"subunitcolor\":\"white\",\"showland\":true,\"showlakes\":true,\"lakecolor\":\"white\"},\"title\":{\"x\":0.05},\"mapbox\":{\"style\":\"light\"}}},\"xaxis\":{\"anchor\":\"y\",\"domain\":[0.0,1.0],\"side\":\"bottom\",\"type\":\"linear\",\"ticks\":\"outside\",\"showline\":true,\"zeroline\":true,\"linewidth\":1,\"linecolor\":\"black\",\"mirror\":false,\"showexponent\":\"all\",\"exponentformat\":\"e\"},\"yaxis\":{\"anchor\":\"x\",\"domain\":[0.7777777777777778,1.0],\"side\":\"left\",\"type\":\"linear\",\"ticks\":\"outside\",\"showline\":true,\"zeroline\":true,\"linewidth\":1,\"linecolor\":\"black\",\"mirror\":false,\"showexponent\":\"all\",\"exponentformat\":\"e\"},\"xaxis2\":{\"anchor\":\"y2\",\"domain\":[0.0,1.0]},\"yaxis2\":{\"anchor\":\"x2\",\"domain\":[0.3888888888888889,0.6111111111111112]},\"xaxis3\":{\"anchor\":\"y3\",\"domain\":[0.0,1.0]},\"yaxis3\":{\"anchor\":\"x3\",\"domain\":[0.0,0.22222222222222224]},\"annotations\":[{\"font\":{\"size\":16},\"showarrow\":false,\"text\":\"H0\",\"x\":0.5,\"xanchor\":\"center\",\"xref\":\"paper\",\"y\":1.0,\"yanchor\":\"bottom\",\"yref\":\"paper\"},{\"font\":{\"size\":16},\"showarrow\":false,\"text\":\"H1\",\"x\":0.5,\"xanchor\":\"center\",\"xref\":\"paper\",\"y\":0.6111111111111112,\"yanchor\":\"bottom\",\"yref\":\"paper\"},{\"font\":{\"size\":16},\"showarrow\":false,\"text\":\"H2\",\"x\":0.5,\"xanchor\":\"center\",\"xref\":\"paper\",\"y\":0.22222222222222224,\"yanchor\":\"bottom\",\"yref\":\"paper\"}],\"title\":{\"text\":\"Landscape representations of diagram 0\"},\"plot_bgcolor\":\"white\"},                        {\"responsive\": true}                    ).then(function(){\n",
       "                            \n",
       "var gd = document.getElementById('a3aa0f3a-1089-42f2-beb0-fde1eb1be597');\n",
       "var x = new MutationObserver(function (mutations, observer) {{\n",
       "        var display = window.getComputedStyle(gd).display;\n",
       "        if (!display || display === 'none') {{\n",
       "            console.log([gd, 'removed!']);\n",
       "            Plotly.purge(gd);\n",
       "            observer.disconnect();\n",
       "        }}\n",
       "}});\n",
       "\n",
       "// Listen for the removal of the full notebook cells\n",
       "var notebookContainer = gd.closest('#notebook-container');\n",
       "if (notebookContainer) {{\n",
       "    x.observe(notebookContainer, {childList: true});\n",
       "}}\n",
       "\n",
       "// Listen for the clearing of the current output cell\n",
       "var outputEl = gd.closest('.output');\n",
       "if (outputEl) {{\n",
       "    x.observe(outputEl, {childList: true});\n",
       "}}\n",
       "\n",
       "                        })                };                });            </script>        </div>"
      ]
     },
     "metadata": {},
     "output_type": "display_data"
    }
   ],
   "source": [
    "persistence_landscape2 = PL.fit_transform(persistence_diagram2)\n",
    "\n",
    "PL.plot(persistence_landscape2)"
   ]
  },
  {
   "cell_type": "code",
   "execution_count": 148,
   "id": "0b312f4b-5e3f-499e-b392-725ed0e14235",
   "metadata": {},
   "outputs": [
    {
     "data": {
      "application/vnd.plotly.v1+json": {
       "config": {
        "plotlyServerURL": "https://plot.ly"
       },
       "data": [
        {
         "hoverinfo": "none",
         "mode": "lines",
         "name": "Layer 1 (H0)",
         "showlegend": true,
         "type": "scatter",
         "x": [
          0,
          0.0035086301240054045,
          0.007017260248010809,
          0.010525890372016213,
          0.014034520496021618,
          0.017543150620027023,
          0.021051780744032425,
          0.02456041086803783,
          0.028069040992043236,
          0.03157767111604864,
          0.035086301240054046,
          0.03859493136405945,
          0.04210356148806485,
          0.04561219161207026,
          0.04912082173607566,
          0.05262945186008107,
          0.05613808198408647,
          0.05964671210809187,
          0.06315534223209728,
          0.06666397235610269,
          0.07017260248010809,
          0.0736812326041135,
          0.0771898627281189,
          0.0806984928521243,
          0.0842071229761297,
          0.08771575310013512,
          0.09122438322414052,
          0.09473301334814592,
          0.09824164347215132,
          0.10175027359615672,
          0.10525890372016214,
          0.10876753384416754,
          0.11227616396817294,
          0.11578479409217834,
          0.11929342421618375,
          0.12280205434018916,
          0.12631068446419455,
          0.12981931458819995,
          0.13332794471220538,
          0.13683657483621078,
          0.14034520496021619,
          0.1438538350842216,
          0.147362465208227,
          0.1508710953322324,
          0.1543797254562378,
          0.1578883555802432,
          0.1613969857042486,
          0.164905615828254,
          0.1684142459522594,
          0.17192287607626483,
          0.17543150620027023,
          0.17894013632427563,
          0.18244876644828104,
          0.18595739657228644,
          0.18946602669629184,
          0.19297465682029724,
          0.19648328694430264,
          0.19999191706830804,
          0.20350054719231345,
          0.20700917731631888,
          0.21051780744032428,
          0.21402643756432968,
          0.21753506768833508,
          0.22104369781234048,
          0.22455232793634589,
          0.2280609580603513,
          0.2315695881843567,
          0.2350782183083621,
          0.2385868484323675,
          0.2420954785563729,
          0.24560410868037832,
          0.24911273880438373,
          0.2526213689283891,
          0.25612999905239453,
          0.2596386291763999,
          0.26314725930040533,
          0.26665588942441076,
          0.27016451954841614,
          0.27367314967242157,
          0.27718177979642694,
          0.28069040992043237,
          0.28419904004443775,
          0.2877076701684432,
          0.29121630029244855,
          0.294724930416454,
          0.29823356054045935,
          0.3017421906644648,
          0.3052508207884702,
          0.3087594509124756,
          0.312268081036481,
          0.3157767111604864,
          0.3192853412844918,
          0.3227939714084972,
          0.3263026015325026,
          0.329811231656508,
          0.3333198617805134,
          0.3368284919045188,
          0.34033712202852423,
          0.34384575215252966,
          0.34735438227653503
         ],
         "xaxis": "x",
         "y": [
          0,
          0.0035086301240054053,
          0.007017260248010811,
          0.010525890372016213,
          0.014034520496021621,
          0.017543150620027037,
          0.021051780744032425,
          0.02456041086803784,
          0.028069040992043243,
          0.031577671116048645,
          0.035086301240054046,
          0.03859493136405945,
          0.04210356148806485,
          0.04561219161207026,
          0.04912082173607566,
          0.05262945186008107,
          0.05613808198408647,
          0.05964671210809187,
          0.06315534223209728,
          0.06666397235610269,
          0.07017260248010809,
          0.0736812326041135,
          0.0771898627281189,
          0.0806984928521243,
          0.0842071229761297,
          0.08771575310013512,
          0.09122438322414052,
          0.09473301334814592,
          0.09824164347215132,
          0.10175027359615672,
          0.10525890372016214,
          0.10876753384416754,
          0.11227616396817294,
          0.11578479409217834,
          0.11929342421618375,
          0.12280205434018916,
          0.12631068446419455,
          0.12981931458819995,
          0.13332794471220538,
          0.13683657483621078,
          0.14034520496021619,
          0.1438538350842216,
          0.147362465208227,
          0.1508710953322324,
          0.1543797254562378,
          0.1578883555802432,
          0.1613969857042486,
          0.164905615828254,
          0.1684142459522594,
          0.17192287607626483,
          0.1719228760762648,
          0.1684142459522594,
          0.164905615828254,
          0.1613969857042486,
          0.1578883555802432,
          0.1543797254562378,
          0.1508710953322324,
          0.147362465208227,
          0.1438538350842216,
          0.14034520496021616,
          0.13683657483621076,
          0.13332794471220535,
          0.12981931458819995,
          0.12631068446419455,
          0.12280205434018915,
          0.11929342421618375,
          0.11578479409217834,
          0.11227616396817294,
          0.10876753384416754,
          0.10525890372016214,
          0.10175027359615671,
          0.09824164347215131,
          0.09473301334814593,
          0.0912243832241405,
          0.08771575310013513,
          0.0842071229761297,
          0.08069849285212427,
          0.0771898627281189,
          0.07368123260411347,
          0.07017260248010809,
          0.06666397235610266,
          0.06315534223209729,
          0.05964671210809186,
          0.056138081984086485,
          0.052629451860081056,
          0.04912082173607568,
          0.04561219161207025,
          0.04210356148806482,
          0.03859493136405945,
          0.03508630124005402,
          0.031577671116048645,
          0.028069040992043215,
          0.02456041086803784,
          0.02105178074403241,
          0.017543150620027037,
          0.014034520496021607,
          0.010525890372016233,
          0.007017260248010804,
          0.003508630124005374,
          0
         ],
         "yaxis": "y"
        },
        {
         "hoverinfo": "none",
         "mode": "lines",
         "name": "Layer 1 (H1)",
         "showlegend": true,
         "type": "scatter",
         "x": [
          0.10472077131271362,
          0.11724038557572798,
          0.12975999983874234,
          0.1422796141017567,
          0.15479922836477106,
          0.16731884262778543,
          0.1798384568907998,
          0.19235807115381415,
          0.2048776854168285,
          0.21739729967984286,
          0.22991691394285724,
          0.24243652820587158,
          0.254956142468886,
          0.26747575673190027,
          0.27999537099491467,
          0.292514985257929,
          0.30503459952094336,
          0.31755421378395776,
          0.3300738280469721,
          0.34259344230998645,
          0.35511305657300085,
          0.3676326708360152,
          0.38015228509902954,
          0.3926718993620439,
          0.4051915136250583,
          0.41771112788807263,
          0.430230742151087,
          0.4427503564141014,
          0.4552699706771157,
          0.46778958494013007,
          0.4803091992031444,
          0.4928288134661588,
          0.5053484277291731,
          0.5178680419921875,
          0.5303876562552019,
          0.5429072705182163,
          0.5554268847812306,
          0.5679464990442449,
          0.5804661133072593,
          0.5929857275702737,
          0.6055053418332881,
          0.6180249560963024,
          0.6305445703593168,
          0.6430641846223312,
          0.6555837988853455,
          0.6681034131483599,
          0.6806230274113741,
          0.6931426416743885,
          0.705662255937403,
          0.7181818702004172,
          0.7307014844634316,
          0.743221098726446,
          0.7557407129894603,
          0.7682603272524747,
          0.7807799415154891,
          0.7932995557785034,
          0.8058191700415178,
          0.8183387843045322,
          0.8308583985675465,
          0.8433780128305609,
          0.8558976270935752,
          0.8684172413565896,
          0.880936855619604,
          0.8934564698826183,
          0.9059760841456327,
          0.9184956984086471,
          0.9310153126716614,
          0.9435349269346758,
          0.9560545411976902,
          0.9685741554607045,
          0.9810937697237189,
          0.9936133839867332,
          1.0061329982497476,
          1.018652612512762,
          1.0311722267757761,
          1.0436918410387905,
          1.056211455301805,
          1.0687310695648193,
          1.0812506838278337,
          1.0937702980908481,
          1.1062899123538625,
          1.1188095266168767,
          1.1313291408798911,
          1.1438487551429055,
          1.15636836940592,
          1.1688879836689343,
          1.1814075979319487,
          1.193927212194963,
          1.2064468264579773,
          1.2189664407209917,
          1.231486054984006,
          1.2440056692470205,
          1.2565252835100347,
          1.269044897773049,
          1.2815645120360635,
          1.2940841262990779,
          1.3066037405620923,
          1.3191233548251067,
          1.3316429690881209,
          1.3441625833511353
         ],
         "xaxis": "x2",
         "y": [
          0,
          0.001020154492421585,
          0,
          0.0007810037244450063,
          0,
          0,
          0,
          0,
          0,
          0,
          0.01191630824045703,
          0.014134019613265991,
          0.0033638314767316935,
          0.014395776120099124,
          0.026915390383113524,
          0.025085413997823547,
          0.012565799734809202,
          0.007457324049689573,
          0.01642537658864801,
          0.003905762325633666,
          0.007458296689120236,
          0.01997791095213458,
          0.032497525215148926,
          0.04501713947816327,
          0.05753675374117767,
          0.07005636800419202,
          0.08257598226720636,
          0.09509559653022076,
          0.1076152107932351,
          0.12013482505624945,
          0.1326544393192638,
          0.1451740535822782,
          0.15769366784529248,
          0.17021328210830688,
          0.18273289637132129,
          0.19525251063433569,
          0.20777212489734997,
          0.22029173916036426,
          0.23281135342337866,
          0.24533096768639306,
          0.25785058194940746,
          0.27037019621242175,
          0.28288981047543615,
          0.29540942473845055,
          0.30792903900146484,
          0.32044865326447924,
          0.33296826752749353,
          0.34548788179050793,
          0.35800749605352233,
          0.3705271103165366,
          0.383046724579551,
          0.3955663388425654,
          0.4080859531055797,
          0.4206055673685941,
          0.4331251816316085,
          0.4456447958946228,
          0.4581644101576372,
          0.4706840244206516,
          0.4832036386836659,
          0.4957232529466803,
          0.48826495625756006,
          0.47574534199454566,
          0.46322572773153126,
          0.45070611346851697,
          0.43818649920550257,
          0.42566688494248817,
          0.4131472706794739,
          0.4006276564164595,
          0.3881080421534451,
          0.3755884278904308,
          0.3630688136274164,
          0.3505491993644021,
          0.3380295851013877,
          0.3255099708383733,
          0.3129903565753591,
          0.3004707423123447,
          0.2879511280493303,
          0.2754315137863159,
          0.2629118995233015,
          0.2503922852602871,
          0.23787267099727272,
          0.22535305673425854,
          0.21283344247124414,
          0.20031382820822974,
          0.18779421394521534,
          0.17527459968220094,
          0.16275498541918654,
          0.15023537115617236,
          0.13771575689315796,
          0.12519614263014356,
          0.11267652836712916,
          0.10015691410411476,
          0.08763729984110058,
          0.07511768557808618,
          0.06259807131507178,
          0.05007845705205738,
          0.03755884278904298,
          0.02503922852602858,
          0.0125196142630144,
          0
         ],
         "yaxis": "y2"
        },
        {
         "hoverinfo": "none",
         "mode": "lines",
         "name": "Layer 1 (H2)",
         "showlegend": true,
         "type": "scatter",
         "x": [
          0,
          0.013577399831829649,
          0.027154799663659298,
          0.040732199495488945,
          0.054309599327318596,
          0.06788699915914824,
          0.08146439899097789,
          0.09504179882280754,
          0.10861919865463719,
          0.12219659848646684,
          0.13577399831829648,
          0.14935139815012613,
          0.16292879798195578,
          0.17650619781378543,
          0.19008359764561508,
          0.20366099747744473,
          0.21723839730927438,
          0.23081579714110403,
          0.24439319697293369,
          0.2579705968047633,
          0.27154799663659296,
          0.2851253964684226,
          0.29870279630025226,
          0.3122801961320819,
          0.32585759596391156,
          0.3394349957957412,
          0.35301239562757086,
          0.3665897954594005,
          0.38016719529123016,
          0.3937445951230598,
          0.40732199495488947,
          0.4208993947867191,
          0.43447679461854877,
          0.4480541944503784,
          0.46163159428220807,
          0.4752089941140377,
          0.48878639394586737,
          0.502363793777697,
          0.5159411936095266,
          0.5295185934413563,
          0.5430959932731859,
          0.5566733931050156,
          0.5702507929368452,
          0.5838281927686749,
          0.5974055926005045,
          0.6109829924323342,
          0.6245603922641638,
          0.6381377920959935,
          0.6517151919278231,
          0.6652925917596528,
          0.6788699915914824,
          0.6924473914233121,
          0.7060247912551417,
          0.7196021910869714,
          0.733179590918801,
          0.7467569907506307,
          0.7603343905824603,
          0.77391179041429,
          0.7874891902461196,
          0.8010665900779493,
          0.8146439899097789,
          0.8282213897416086,
          0.8417987895734382,
          0.8553761894052679,
          0.8689535892370975,
          0.8825309890689271,
          0.8961083889007568,
          0.9096857887325864,
          0.9232631885644161,
          0.9368405883962457,
          0.9504179882280754,
          0.963995388059905,
          0.9775727878917347,
          0.9911501877235643,
          1.004727587555394,
          1.0183049873872236,
          1.0318823872190532,
          1.045459787050883,
          1.0590371868827126,
          1.0726145867145422,
          1.0861919865463718,
          1.0997693863782017,
          1.1133467862100312,
          1.1269241860418608,
          1.1405015858736904,
          1.1540789857055203,
          1.1676563855373499,
          1.1812337853691794,
          1.194811185201009,
          1.2083885850328389,
          1.2219659848646685,
          1.235543384696498,
          1.2491207845283276,
          1.2626981843601575,
          1.276275584191987,
          1.2898529840238167,
          1.3034303838556462,
          1.3170077836874758,
          1.3305851835193057,
          1.3441625833511353
         ],
         "xaxis": "x3",
         "y": [
          0,
          0,
          0,
          0,
          0,
          0,
          0,
          0,
          0,
          0,
          0,
          0,
          0,
          0,
          0,
          0,
          0,
          0,
          0,
          0,
          0,
          0,
          0,
          0,
          0,
          0,
          0,
          0,
          0,
          0,
          0,
          0,
          0,
          0,
          0,
          0,
          0,
          0,
          0,
          0,
          0,
          0,
          0,
          0,
          0,
          0,
          0,
          0,
          0,
          0,
          0,
          0,
          0,
          0,
          0,
          0,
          0,
          0,
          0,
          0,
          0,
          0,
          0,
          0,
          0,
          0,
          0,
          0,
          0,
          0,
          0,
          0,
          0,
          0,
          0,
          0,
          0,
          0,
          0,
          0,
          0,
          0,
          0,
          0,
          0,
          0,
          0,
          0,
          0,
          0,
          0,
          0,
          0,
          0,
          0,
          0,
          0,
          0,
          0,
          0
         ],
         "yaxis": "y3"
        }
       ],
       "layout": {
        "annotations": [
         {
          "font": {
           "size": 16
          },
          "showarrow": false,
          "text": "H0",
          "x": 0.5,
          "xanchor": "center",
          "xref": "paper",
          "y": 1,
          "yanchor": "bottom",
          "yref": "paper"
         },
         {
          "font": {
           "size": 16
          },
          "showarrow": false,
          "text": "H1",
          "x": 0.5,
          "xanchor": "center",
          "xref": "paper",
          "y": 0.6111111111111112,
          "yanchor": "bottom",
          "yref": "paper"
         },
         {
          "font": {
           "size": 16
          },
          "showarrow": false,
          "text": "H2",
          "x": 0.5,
          "xanchor": "center",
          "xref": "paper",
          "y": 0.22222222222222224,
          "yanchor": "bottom",
          "yref": "paper"
         }
        ],
        "autosize": true,
        "plot_bgcolor": "white",
        "template": {
         "data": {
          "bar": [
           {
            "error_x": {
             "color": "#2a3f5f"
            },
            "error_y": {
             "color": "#2a3f5f"
            },
            "marker": {
             "line": {
              "color": "#E5ECF6",
              "width": 0.5
             },
             "pattern": {
              "fillmode": "overlay",
              "size": 10,
              "solidity": 0.2
             }
            },
            "type": "bar"
           }
          ],
          "barpolar": [
           {
            "marker": {
             "line": {
              "color": "#E5ECF6",
              "width": 0.5
             },
             "pattern": {
              "fillmode": "overlay",
              "size": 10,
              "solidity": 0.2
             }
            },
            "type": "barpolar"
           }
          ],
          "carpet": [
           {
            "aaxis": {
             "endlinecolor": "#2a3f5f",
             "gridcolor": "white",
             "linecolor": "white",
             "minorgridcolor": "white",
             "startlinecolor": "#2a3f5f"
            },
            "baxis": {
             "endlinecolor": "#2a3f5f",
             "gridcolor": "white",
             "linecolor": "white",
             "minorgridcolor": "white",
             "startlinecolor": "#2a3f5f"
            },
            "type": "carpet"
           }
          ],
          "choropleth": [
           {
            "colorbar": {
             "outlinewidth": 0,
             "ticks": ""
            },
            "type": "choropleth"
           }
          ],
          "contour": [
           {
            "colorbar": {
             "outlinewidth": 0,
             "ticks": ""
            },
            "colorscale": [
             [
              0,
              "#0d0887"
             ],
             [
              0.1111111111111111,
              "#46039f"
             ],
             [
              0.2222222222222222,
              "#7201a8"
             ],
             [
              0.3333333333333333,
              "#9c179e"
             ],
             [
              0.4444444444444444,
              "#bd3786"
             ],
             [
              0.5555555555555556,
              "#d8576b"
             ],
             [
              0.6666666666666666,
              "#ed7953"
             ],
             [
              0.7777777777777778,
              "#fb9f3a"
             ],
             [
              0.8888888888888888,
              "#fdca26"
             ],
             [
              1,
              "#f0f921"
             ]
            ],
            "type": "contour"
           }
          ],
          "contourcarpet": [
           {
            "colorbar": {
             "outlinewidth": 0,
             "ticks": ""
            },
            "type": "contourcarpet"
           }
          ],
          "heatmap": [
           {
            "colorbar": {
             "outlinewidth": 0,
             "ticks": ""
            },
            "colorscale": [
             [
              0,
              "#0d0887"
             ],
             [
              0.1111111111111111,
              "#46039f"
             ],
             [
              0.2222222222222222,
              "#7201a8"
             ],
             [
              0.3333333333333333,
              "#9c179e"
             ],
             [
              0.4444444444444444,
              "#bd3786"
             ],
             [
              0.5555555555555556,
              "#d8576b"
             ],
             [
              0.6666666666666666,
              "#ed7953"
             ],
             [
              0.7777777777777778,
              "#fb9f3a"
             ],
             [
              0.8888888888888888,
              "#fdca26"
             ],
             [
              1,
              "#f0f921"
             ]
            ],
            "type": "heatmap"
           }
          ],
          "heatmapgl": [
           {
            "colorbar": {
             "outlinewidth": 0,
             "ticks": ""
            },
            "colorscale": [
             [
              0,
              "#0d0887"
             ],
             [
              0.1111111111111111,
              "#46039f"
             ],
             [
              0.2222222222222222,
              "#7201a8"
             ],
             [
              0.3333333333333333,
              "#9c179e"
             ],
             [
              0.4444444444444444,
              "#bd3786"
             ],
             [
              0.5555555555555556,
              "#d8576b"
             ],
             [
              0.6666666666666666,
              "#ed7953"
             ],
             [
              0.7777777777777778,
              "#fb9f3a"
             ],
             [
              0.8888888888888888,
              "#fdca26"
             ],
             [
              1,
              "#f0f921"
             ]
            ],
            "type": "heatmapgl"
           }
          ],
          "histogram": [
           {
            "marker": {
             "pattern": {
              "fillmode": "overlay",
              "size": 10,
              "solidity": 0.2
             }
            },
            "type": "histogram"
           }
          ],
          "histogram2d": [
           {
            "colorbar": {
             "outlinewidth": 0,
             "ticks": ""
            },
            "colorscale": [
             [
              0,
              "#0d0887"
             ],
             [
              0.1111111111111111,
              "#46039f"
             ],
             [
              0.2222222222222222,
              "#7201a8"
             ],
             [
              0.3333333333333333,
              "#9c179e"
             ],
             [
              0.4444444444444444,
              "#bd3786"
             ],
             [
              0.5555555555555556,
              "#d8576b"
             ],
             [
              0.6666666666666666,
              "#ed7953"
             ],
             [
              0.7777777777777778,
              "#fb9f3a"
             ],
             [
              0.8888888888888888,
              "#fdca26"
             ],
             [
              1,
              "#f0f921"
             ]
            ],
            "type": "histogram2d"
           }
          ],
          "histogram2dcontour": [
           {
            "colorbar": {
             "outlinewidth": 0,
             "ticks": ""
            },
            "colorscale": [
             [
              0,
              "#0d0887"
             ],
             [
              0.1111111111111111,
              "#46039f"
             ],
             [
              0.2222222222222222,
              "#7201a8"
             ],
             [
              0.3333333333333333,
              "#9c179e"
             ],
             [
              0.4444444444444444,
              "#bd3786"
             ],
             [
              0.5555555555555556,
              "#d8576b"
             ],
             [
              0.6666666666666666,
              "#ed7953"
             ],
             [
              0.7777777777777778,
              "#fb9f3a"
             ],
             [
              0.8888888888888888,
              "#fdca26"
             ],
             [
              1,
              "#f0f921"
             ]
            ],
            "type": "histogram2dcontour"
           }
          ],
          "mesh3d": [
           {
            "colorbar": {
             "outlinewidth": 0,
             "ticks": ""
            },
            "type": "mesh3d"
           }
          ],
          "parcoords": [
           {
            "line": {
             "colorbar": {
              "outlinewidth": 0,
              "ticks": ""
             }
            },
            "type": "parcoords"
           }
          ],
          "pie": [
           {
            "automargin": true,
            "type": "pie"
           }
          ],
          "scatter": [
           {
            "fillpattern": {
             "fillmode": "overlay",
             "size": 10,
             "solidity": 0.2
            },
            "type": "scatter"
           }
          ],
          "scatter3d": [
           {
            "line": {
             "colorbar": {
              "outlinewidth": 0,
              "ticks": ""
             }
            },
            "marker": {
             "colorbar": {
              "outlinewidth": 0,
              "ticks": ""
             }
            },
            "type": "scatter3d"
           }
          ],
          "scattercarpet": [
           {
            "marker": {
             "colorbar": {
              "outlinewidth": 0,
              "ticks": ""
             }
            },
            "type": "scattercarpet"
           }
          ],
          "scattergeo": [
           {
            "marker": {
             "colorbar": {
              "outlinewidth": 0,
              "ticks": ""
             }
            },
            "type": "scattergeo"
           }
          ],
          "scattergl": [
           {
            "marker": {
             "colorbar": {
              "outlinewidth": 0,
              "ticks": ""
             }
            },
            "type": "scattergl"
           }
          ],
          "scattermapbox": [
           {
            "marker": {
             "colorbar": {
              "outlinewidth": 0,
              "ticks": ""
             }
            },
            "type": "scattermapbox"
           }
          ],
          "scatterpolar": [
           {
            "marker": {
             "colorbar": {
              "outlinewidth": 0,
              "ticks": ""
             }
            },
            "type": "scatterpolar"
           }
          ],
          "scatterpolargl": [
           {
            "marker": {
             "colorbar": {
              "outlinewidth": 0,
              "ticks": ""
             }
            },
            "type": "scatterpolargl"
           }
          ],
          "scatterternary": [
           {
            "marker": {
             "colorbar": {
              "outlinewidth": 0,
              "ticks": ""
             }
            },
            "type": "scatterternary"
           }
          ],
          "surface": [
           {
            "colorbar": {
             "outlinewidth": 0,
             "ticks": ""
            },
            "colorscale": [
             [
              0,
              "#0d0887"
             ],
             [
              0.1111111111111111,
              "#46039f"
             ],
             [
              0.2222222222222222,
              "#7201a8"
             ],
             [
              0.3333333333333333,
              "#9c179e"
             ],
             [
              0.4444444444444444,
              "#bd3786"
             ],
             [
              0.5555555555555556,
              "#d8576b"
             ],
             [
              0.6666666666666666,
              "#ed7953"
             ],
             [
              0.7777777777777778,
              "#fb9f3a"
             ],
             [
              0.8888888888888888,
              "#fdca26"
             ],
             [
              1,
              "#f0f921"
             ]
            ],
            "type": "surface"
           }
          ],
          "table": [
           {
            "cells": {
             "fill": {
              "color": "#EBF0F8"
             },
             "line": {
              "color": "white"
             }
            },
            "header": {
             "fill": {
              "color": "#C8D4E3"
             },
             "line": {
              "color": "white"
             }
            },
            "type": "table"
           }
          ]
         },
         "layout": {
          "annotationdefaults": {
           "arrowcolor": "#2a3f5f",
           "arrowhead": 0,
           "arrowwidth": 1
          },
          "autotypenumbers": "strict",
          "coloraxis": {
           "colorbar": {
            "outlinewidth": 0,
            "ticks": ""
           }
          },
          "colorscale": {
           "diverging": [
            [
             0,
             "#8e0152"
            ],
            [
             0.1,
             "#c51b7d"
            ],
            [
             0.2,
             "#de77ae"
            ],
            [
             0.3,
             "#f1b6da"
            ],
            [
             0.4,
             "#fde0ef"
            ],
            [
             0.5,
             "#f7f7f7"
            ],
            [
             0.6,
             "#e6f5d0"
            ],
            [
             0.7,
             "#b8e186"
            ],
            [
             0.8,
             "#7fbc41"
            ],
            [
             0.9,
             "#4d9221"
            ],
            [
             1,
             "#276419"
            ]
           ],
           "sequential": [
            [
             0,
             "#0d0887"
            ],
            [
             0.1111111111111111,
             "#46039f"
            ],
            [
             0.2222222222222222,
             "#7201a8"
            ],
            [
             0.3333333333333333,
             "#9c179e"
            ],
            [
             0.4444444444444444,
             "#bd3786"
            ],
            [
             0.5555555555555556,
             "#d8576b"
            ],
            [
             0.6666666666666666,
             "#ed7953"
            ],
            [
             0.7777777777777778,
             "#fb9f3a"
            ],
            [
             0.8888888888888888,
             "#fdca26"
            ],
            [
             1,
             "#f0f921"
            ]
           ],
           "sequentialminus": [
            [
             0,
             "#0d0887"
            ],
            [
             0.1111111111111111,
             "#46039f"
            ],
            [
             0.2222222222222222,
             "#7201a8"
            ],
            [
             0.3333333333333333,
             "#9c179e"
            ],
            [
             0.4444444444444444,
             "#bd3786"
            ],
            [
             0.5555555555555556,
             "#d8576b"
            ],
            [
             0.6666666666666666,
             "#ed7953"
            ],
            [
             0.7777777777777778,
             "#fb9f3a"
            ],
            [
             0.8888888888888888,
             "#fdca26"
            ],
            [
             1,
             "#f0f921"
            ]
           ]
          },
          "colorway": [
           "#636efa",
           "#EF553B",
           "#00cc96",
           "#ab63fa",
           "#FFA15A",
           "#19d3f3",
           "#FF6692",
           "#B6E880",
           "#FF97FF",
           "#FECB52"
          ],
          "font": {
           "color": "#2a3f5f"
          },
          "geo": {
           "bgcolor": "white",
           "lakecolor": "white",
           "landcolor": "#E5ECF6",
           "showlakes": true,
           "showland": true,
           "subunitcolor": "white"
          },
          "hoverlabel": {
           "align": "left"
          },
          "hovermode": "closest",
          "mapbox": {
           "style": "light"
          },
          "paper_bgcolor": "white",
          "plot_bgcolor": "#E5ECF6",
          "polar": {
           "angularaxis": {
            "gridcolor": "white",
            "linecolor": "white",
            "ticks": ""
           },
           "bgcolor": "#E5ECF6",
           "radialaxis": {
            "gridcolor": "white",
            "linecolor": "white",
            "ticks": ""
           }
          },
          "scene": {
           "xaxis": {
            "backgroundcolor": "#E5ECF6",
            "gridcolor": "white",
            "gridwidth": 2,
            "linecolor": "white",
            "showbackground": true,
            "ticks": "",
            "zerolinecolor": "white"
           },
           "yaxis": {
            "backgroundcolor": "#E5ECF6",
            "gridcolor": "white",
            "gridwidth": 2,
            "linecolor": "white",
            "showbackground": true,
            "ticks": "",
            "zerolinecolor": "white"
           },
           "zaxis": {
            "backgroundcolor": "#E5ECF6",
            "gridcolor": "white",
            "gridwidth": 2,
            "linecolor": "white",
            "showbackground": true,
            "ticks": "",
            "zerolinecolor": "white"
           }
          },
          "shapedefaults": {
           "line": {
            "color": "#2a3f5f"
           }
          },
          "ternary": {
           "aaxis": {
            "gridcolor": "white",
            "linecolor": "white",
            "ticks": ""
           },
           "baxis": {
            "gridcolor": "white",
            "linecolor": "white",
            "ticks": ""
           },
           "bgcolor": "#E5ECF6",
           "caxis": {
            "gridcolor": "white",
            "linecolor": "white",
            "ticks": ""
           }
          },
          "title": {
           "x": 0.05
          },
          "xaxis": {
           "automargin": true,
           "gridcolor": "white",
           "linecolor": "white",
           "ticks": "",
           "title": {
            "standoff": 15
           },
           "zerolinecolor": "white",
           "zerolinewidth": 2
          },
          "yaxis": {
           "automargin": true,
           "gridcolor": "white",
           "linecolor": "white",
           "ticks": "",
           "title": {
            "standoff": 15
           },
           "zerolinecolor": "white",
           "zerolinewidth": 2
          }
         }
        },
        "title": {
         "text": "Landscape representations of diagram 0"
        },
        "xaxis": {
         "anchor": "y",
         "autorange": true,
         "domain": [
          0,
          1
         ],
         "exponentformat": "e",
         "linecolor": "black",
         "linewidth": 1,
         "mirror": false,
         "range": [
          0,
          0.34735438227653503
         ],
         "showexponent": "all",
         "showline": true,
         "side": "bottom",
         "ticks": "outside",
         "type": "linear",
         "zeroline": true
        },
        "xaxis2": {
         "anchor": "y2",
         "autorange": true,
         "domain": [
          0,
          1
         ],
         "range": [
          0.10472077131271362,
          1.3441625833511353
         ],
         "type": "linear"
        },
        "xaxis3": {
         "anchor": "y3",
         "autorange": true,
         "domain": [
          0,
          1
         ],
         "range": [
          0,
          1.3441625833511353
         ],
         "type": "linear"
        },
        "yaxis": {
         "anchor": "x",
         "autorange": true,
         "domain": [
          0.7777777777777778,
          1
         ],
         "exponentformat": "e",
         "linecolor": "black",
         "linewidth": 1,
         "mirror": false,
         "range": [
          -0.009551270893125824,
          0.18147414696939065
         ],
         "showexponent": "all",
         "showline": true,
         "side": "left",
         "ticks": "outside",
         "type": "linear",
         "zeroline": true
        },
        "yaxis2": {
         "anchor": "x2",
         "autorange": true,
         "domain": [
          0.3888888888888889,
          0.6111111111111112
         ],
         "range": [
          -0.027540180719260017,
          0.5232634336659403
         ],
         "type": "linear"
        },
        "yaxis3": {
         "anchor": "x3",
         "autorange": true,
         "domain": [
          0,
          0.22222222222222224
         ],
         "range": [
          -1,
          1
         ],
         "type": "linear"
        }
       }
      },
      "image/png": "[encoded data removed]",
      "text/html": [
       "<div>                            <div id=\"705e0f9e-c351-4417-8d01-6f110686cc74\" class=\"plotly-graph-div\" style=\"height:525px; width:100%;\"></div>            <script type=\"text/javascript\">                require([\"plotly\"], function(Plotly) {                    window.PLOTLYENV=window.PLOTLYENV || {};                                    if (document.getElementById(\"705e0f9e-c351-4417-8d01-6f110686cc74\")) {                    Plotly.newPlot(                        \"705e0f9e-c351-4417-8d01-6f110686cc74\",                        [{\"hoverinfo\":\"none\",\"mode\":\"lines\",\"name\":\"Layer 1 (H0)\",\"showlegend\":true,\"x\":[0.0,0.0035086301240054045,0.007017260248010809,0.010525890372016213,0.014034520496021618,0.017543150620027023,0.021051780744032425,0.02456041086803783,0.028069040992043236,0.03157767111604864,0.035086301240054046,0.03859493136405945,0.04210356148806485,0.04561219161207026,0.04912082173607566,0.05262945186008107,0.05613808198408647,0.05964671210809187,0.06315534223209728,0.06666397235610269,0.07017260248010809,0.0736812326041135,0.0771898627281189,0.0806984928521243,0.0842071229761297,0.08771575310013512,0.09122438322414052,0.09473301334814592,0.09824164347215132,0.10175027359615672,0.10525890372016214,0.10876753384416754,0.11227616396817294,0.11578479409217834,0.11929342421618375,0.12280205434018916,0.12631068446419455,0.12981931458819995,0.13332794471220538,0.13683657483621078,0.14034520496021619,0.1438538350842216,0.147362465208227,0.1508710953322324,0.1543797254562378,0.1578883555802432,0.1613969857042486,0.164905615828254,0.1684142459522594,0.17192287607626483,0.17543150620027023,0.17894013632427563,0.18244876644828104,0.18595739657228644,0.18946602669629184,0.19297465682029724,0.19648328694430264,0.19999191706830804,0.20350054719231345,0.20700917731631888,0.21051780744032428,0.21402643756432968,0.21753506768833508,0.22104369781234048,0.22455232793634589,0.2280609580603513,0.2315695881843567,0.2350782183083621,0.2385868484323675,0.2420954785563729,0.24560410868037832,0.24911273880438373,0.2526213689283891,0.25612999905239453,0.2596386291763999,0.26314725930040533,0.26665588942441076,0.27016451954841614,0.27367314967242157,0.27718177979642694,0.28069040992043237,0.28419904004443775,0.2877076701684432,0.29121630029244855,0.294724930416454,0.29823356054045935,0.3017421906644648,0.3052508207884702,0.3087594509124756,0.312268081036481,0.3157767111604864,0.3192853412844918,0.3227939714084972,0.3263026015325026,0.329811231656508,0.3333198617805134,0.3368284919045188,0.34033712202852423,0.34384575215252966,0.34735438227653503],\"y\":[0.0,0.0035086301240054053,0.007017260248010811,0.010525890372016213,0.014034520496021621,0.017543150620027037,0.021051780744032425,0.02456041086803784,0.028069040992043243,0.031577671116048645,0.035086301240054046,0.03859493136405945,0.04210356148806485,0.04561219161207026,0.04912082173607566,0.05262945186008107,0.05613808198408647,0.05964671210809187,0.06315534223209728,0.06666397235610269,0.07017260248010809,0.0736812326041135,0.0771898627281189,0.0806984928521243,0.0842071229761297,0.08771575310013512,0.09122438322414052,0.09473301334814592,0.09824164347215132,0.10175027359615672,0.10525890372016214,0.10876753384416754,0.11227616396817294,0.11578479409217834,0.11929342421618375,0.12280205434018916,0.12631068446419455,0.12981931458819995,0.13332794471220538,0.13683657483621078,0.14034520496021619,0.1438538350842216,0.147362465208227,0.1508710953322324,0.1543797254562378,0.1578883555802432,0.1613969857042486,0.164905615828254,0.1684142459522594,0.17192287607626483,0.1719228760762648,0.1684142459522594,0.164905615828254,0.1613969857042486,0.1578883555802432,0.1543797254562378,0.1508710953322324,0.147362465208227,0.1438538350842216,0.14034520496021616,0.13683657483621076,0.13332794471220535,0.12981931458819995,0.12631068446419455,0.12280205434018915,0.11929342421618375,0.11578479409217834,0.11227616396817294,0.10876753384416754,0.10525890372016214,0.10175027359615671,0.09824164347215131,0.09473301334814593,0.0912243832241405,0.08771575310013513,0.0842071229761297,0.08069849285212427,0.0771898627281189,0.07368123260411347,0.07017260248010809,0.06666397235610266,0.06315534223209729,0.05964671210809186,0.056138081984086485,0.052629451860081056,0.04912082173607568,0.04561219161207025,0.04210356148806482,0.03859493136405945,0.03508630124005402,0.031577671116048645,0.028069040992043215,0.02456041086803784,0.02105178074403241,0.017543150620027037,0.014034520496021607,0.010525890372016233,0.007017260248010804,0.003508630124005374,0.0],\"type\":\"scatter\",\"xaxis\":\"x\",\"yaxis\":\"y\"},{\"hoverinfo\":\"none\",\"mode\":\"lines\",\"name\":\"Layer 1 (H1)\",\"showlegend\":true,\"x\":[0.10472077131271362,0.11724038557572798,0.12975999983874234,0.1422796141017567,0.15479922836477106,0.16731884262778543,0.1798384568907998,0.19235807115381415,0.2048776854168285,0.21739729967984286,0.22991691394285724,0.24243652820587158,0.254956142468886,0.26747575673190027,0.27999537099491467,0.292514985257929,0.30503459952094336,0.31755421378395776,0.3300738280469721,0.34259344230998645,0.35511305657300085,0.3676326708360152,0.38015228509902954,0.3926718993620439,0.4051915136250583,0.41771112788807263,0.430230742151087,0.4427503564141014,0.4552699706771157,0.46778958494013007,0.4803091992031444,0.4928288134661588,0.5053484277291731,0.5178680419921875,0.5303876562552019,0.5429072705182163,0.5554268847812306,0.5679464990442449,0.5804661133072593,0.5929857275702737,0.6055053418332881,0.6180249560963024,0.6305445703593168,0.6430641846223312,0.6555837988853455,0.6681034131483599,0.6806230274113741,0.6931426416743885,0.705662255937403,0.7181818702004172,0.7307014844634316,0.743221098726446,0.7557407129894603,0.7682603272524747,0.7807799415154891,0.7932995557785034,0.8058191700415178,0.8183387843045322,0.8308583985675465,0.8433780128305609,0.8558976270935752,0.8684172413565896,0.880936855619604,0.8934564698826183,0.9059760841456327,0.9184956984086471,0.9310153126716614,0.9435349269346758,0.9560545411976902,0.9685741554607045,0.9810937697237189,0.9936133839867332,1.0061329982497476,1.018652612512762,1.0311722267757761,1.0436918410387905,1.056211455301805,1.0687310695648193,1.0812506838278337,1.0937702980908481,1.1062899123538625,1.1188095266168767,1.1313291408798911,1.1438487551429055,1.15636836940592,1.1688879836689343,1.1814075979319487,1.193927212194963,1.2064468264579773,1.2189664407209917,1.231486054984006,1.2440056692470205,1.2565252835100347,1.269044897773049,1.2815645120360635,1.2940841262990779,1.3066037405620923,1.3191233548251067,1.3316429690881209,1.3441625833511353],\"y\":[0.0,0.001020154492421585,0.0,0.0007810037244450063,0.0,0.0,0.0,0.0,0.0,0.0,0.01191630824045703,0.014134019613265991,0.0033638314767316935,0.014395776120099124,0.026915390383113524,0.025085413997823547,0.012565799734809202,0.007457324049689573,0.01642537658864801,0.003905762325633666,0.007458296689120236,0.01997791095213458,0.032497525215148926,0.04501713947816327,0.05753675374117767,0.07005636800419202,0.08257598226720636,0.09509559653022076,0.1076152107932351,0.12013482505624945,0.1326544393192638,0.1451740535822782,0.15769366784529248,0.17021328210830688,0.18273289637132129,0.19525251063433569,0.20777212489734997,0.22029173916036426,0.23281135342337866,0.24533096768639306,0.25785058194940746,0.27037019621242175,0.28288981047543615,0.29540942473845055,0.30792903900146484,0.32044865326447924,0.33296826752749353,0.34548788179050793,0.35800749605352233,0.3705271103165366,0.383046724579551,0.3955663388425654,0.4080859531055797,0.4206055673685941,0.4331251816316085,0.4456447958946228,0.4581644101576372,0.4706840244206516,0.4832036386836659,0.4957232529466803,0.48826495625756006,0.47574534199454566,0.46322572773153126,0.45070611346851697,0.43818649920550257,0.42566688494248817,0.4131472706794739,0.4006276564164595,0.3881080421534451,0.3755884278904308,0.3630688136274164,0.3505491993644021,0.3380295851013877,0.3255099708383733,0.3129903565753591,0.3004707423123447,0.2879511280493303,0.2754315137863159,0.2629118995233015,0.2503922852602871,0.23787267099727272,0.22535305673425854,0.21283344247124414,0.20031382820822974,0.18779421394521534,0.17527459968220094,0.16275498541918654,0.15023537115617236,0.13771575689315796,0.12519614263014356,0.11267652836712916,0.10015691410411476,0.08763729984110058,0.07511768557808618,0.06259807131507178,0.05007845705205738,0.03755884278904298,0.02503922852602858,0.0125196142630144,0.0],\"type\":\"scatter\",\"xaxis\":\"x2\",\"yaxis\":\"y2\"},{\"hoverinfo\":\"none\",\"mode\":\"lines\",\"name\":\"Layer 1 (H2)\",\"showlegend\":true,\"x\":[0.0,0.013577399831829649,0.027154799663659298,0.040732199495488945,0.054309599327318596,0.06788699915914824,0.08146439899097789,0.09504179882280754,0.10861919865463719,0.12219659848646684,0.13577399831829648,0.14935139815012613,0.16292879798195578,0.17650619781378543,0.19008359764561508,0.20366099747744473,0.21723839730927438,0.23081579714110403,0.24439319697293369,0.2579705968047633,0.27154799663659296,0.2851253964684226,0.29870279630025226,0.3122801961320819,0.32585759596391156,0.3394349957957412,0.35301239562757086,0.3665897954594005,0.38016719529123016,0.3937445951230598,0.40732199495488947,0.4208993947867191,0.43447679461854877,0.4480541944503784,0.46163159428220807,0.4752089941140377,0.48878639394586737,0.502363793777697,0.5159411936095266,0.5295185934413563,0.5430959932731859,0.5566733931050156,0.5702507929368452,0.5838281927686749,0.5974055926005045,0.6109829924323342,0.6245603922641638,0.6381377920959935,0.6517151919278231,0.6652925917596528,0.6788699915914824,0.6924473914233121,0.7060247912551417,0.7196021910869714,0.733179590918801,0.7467569907506307,0.7603343905824603,0.77391179041429,0.7874891902461196,0.8010665900779493,0.8146439899097789,0.8282213897416086,0.8417987895734382,0.8553761894052679,0.8689535892370975,0.8825309890689271,0.8961083889007568,0.9096857887325864,0.9232631885644161,0.9368405883962457,0.9504179882280754,0.963995388059905,0.9775727878917347,0.9911501877235643,1.004727587555394,1.0183049873872236,1.0318823872190532,1.045459787050883,1.0590371868827126,1.0726145867145422,1.0861919865463718,1.0997693863782017,1.1133467862100312,1.1269241860418608,1.1405015858736904,1.1540789857055203,1.1676563855373499,1.1812337853691794,1.194811185201009,1.2083885850328389,1.2219659848646685,1.235543384696498,1.2491207845283276,1.2626981843601575,1.276275584191987,1.2898529840238167,1.3034303838556462,1.3170077836874758,1.3305851835193057,1.3441625833511353],\"y\":[0.0,0.0,0.0,0.0,0.0,0.0,0.0,0.0,0.0,0.0,0.0,0.0,0.0,0.0,0.0,0.0,0.0,0.0,0.0,0.0,0.0,0.0,0.0,0.0,0.0,0.0,0.0,0.0,0.0,0.0,0.0,0.0,0.0,0.0,0.0,0.0,0.0,0.0,0.0,0.0,0.0,0.0,0.0,0.0,0.0,0.0,0.0,0.0,0.0,0.0,0.0,0.0,0.0,0.0,0.0,0.0,0.0,0.0,0.0,0.0,0.0,0.0,0.0,0.0,0.0,0.0,0.0,0.0,0.0,0.0,0.0,0.0,0.0,0.0,0.0,0.0,0.0,0.0,0.0,0.0,0.0,0.0,0.0,0.0,0.0,0.0,0.0,0.0,0.0,0.0,0.0,0.0,0.0,0.0,0.0,0.0,0.0,0.0,0.0,0.0],\"type\":\"scatter\",\"xaxis\":\"x3\",\"yaxis\":\"y3\"}],                        {\"template\":{\"data\":{\"histogram2dcontour\":[{\"type\":\"histogram2dcontour\",\"colorbar\":{\"outlinewidth\":0,\"ticks\":\"\"},\"colorscale\":[[0.0,\"#0d0887\"],[0.1111111111111111,\"#46039f\"],[0.2222222222222222,\"#7201a8\"],[0.3333333333333333,\"#9c179e\"],[0.4444444444444444,\"#bd3786\"],[0.5555555555555556,\"#d8576b\"],[0.6666666666666666,\"#ed7953\"],[0.7777777777777778,\"#fb9f3a\"],[0.8888888888888888,\"#fdca26\"],[1.0,\"#f0f921\"]]}],\"choropleth\":[{\"type\":\"choropleth\",\"colorbar\":{\"outlinewidth\":0,\"ticks\":\"\"}}],\"histogram2d\":[{\"type\":\"histogram2d\",\"colorbar\":{\"outlinewidth\":0,\"ticks\":\"\"},\"colorscale\":[[0.0,\"#0d0887\"],[0.1111111111111111,\"#46039f\"],[0.2222222222222222,\"#7201a8\"],[0.3333333333333333,\"#9c179e\"],[0.4444444444444444,\"#bd3786\"],[0.5555555555555556,\"#d8576b\"],[0.6666666666666666,\"#ed7953\"],[0.7777777777777778,\"#fb9f3a\"],[0.8888888888888888,\"#fdca26\"],[1.0,\"#f0f921\"]]}],\"heatmap\":[{\"type\":\"heatmap\",\"colorbar\":{\"outlinewidth\":0,\"ticks\":\"\"},\"colorscale\":[[0.0,\"#0d0887\"],[0.1111111111111111,\"#46039f\"],[0.2222222222222222,\"#7201a8\"],[0.3333333333333333,\"#9c179e\"],[0.4444444444444444,\"#bd3786\"],[0.5555555555555556,\"#d8576b\"],[0.6666666666666666,\"#ed7953\"],[0.7777777777777778,\"#fb9f3a\"],[0.8888888888888888,\"#fdca26\"],[1.0,\"#f0f921\"]]}],\"heatmapgl\":[{\"type\":\"heatmapgl\",\"colorbar\":{\"outlinewidth\":0,\"ticks\":\"\"},\"colorscale\":[[0.0,\"#0d0887\"],[0.1111111111111111,\"#46039f\"],[0.2222222222222222,\"#7201a8\"],[0.3333333333333333,\"#9c179e\"],[0.4444444444444444,\"#bd3786\"],[0.5555555555555556,\"#d8576b\"],[0.6666666666666666,\"#ed7953\"],[0.7777777777777778,\"#fb9f3a\"],[0.8888888888888888,\"#fdca26\"],[1.0,\"#f0f921\"]]}],\"contourcarpet\":[{\"type\":\"contourcarpet\",\"colorbar\":{\"outlinewidth\":0,\"ticks\":\"\"}}],\"contour\":[{\"type\":\"contour\",\"colorbar\":{\"outlinewidth\":0,\"ticks\":\"\"},\"colorscale\":[[0.0,\"#0d0887\"],[0.1111111111111111,\"#46039f\"],[0.2222222222222222,\"#7201a8\"],[0.3333333333333333,\"#9c179e\"],[0.4444444444444444,\"#bd3786\"],[0.5555555555555556,\"#d8576b\"],[0.6666666666666666,\"#ed7953\"],[0.7777777777777778,\"#fb9f3a\"],[0.8888888888888888,\"#fdca26\"],[1.0,\"#f0f921\"]]}],\"surface\":[{\"type\":\"surface\",\"colorbar\":{\"outlinewidth\":0,\"ticks\":\"\"},\"colorscale\":[[0.0,\"#0d0887\"],[0.1111111111111111,\"#46039f\"],[0.2222222222222222,\"#7201a8\"],[0.3333333333333333,\"#9c179e\"],[0.4444444444444444,\"#bd3786\"],[0.5555555555555556,\"#d8576b\"],[0.6666666666666666,\"#ed7953\"],[0.7777777777777778,\"#fb9f3a\"],[0.8888888888888888,\"#fdca26\"],[1.0,\"#f0f921\"]]}],\"mesh3d\":[{\"type\":\"mesh3d\",\"colorbar\":{\"outlinewidth\":0,\"ticks\":\"\"}}],\"scatter\":[{\"fillpattern\":{\"fillmode\":\"overlay\",\"size\":10,\"solidity\":0.2},\"type\":\"scatter\"}],\"parcoords\":[{\"type\":\"parcoords\",\"line\":{\"colorbar\":{\"outlinewidth\":0,\"ticks\":\"\"}}}],\"scatterpolargl\":[{\"type\":\"scatterpolargl\",\"marker\":{\"colorbar\":{\"outlinewidth\":0,\"ticks\":\"\"}}}],\"bar\":[{\"error_x\":{\"color\":\"#2a3f5f\"},\"error_y\":{\"color\":\"#2a3f5f\"},\"marker\":{\"line\":{\"color\":\"#E5ECF6\",\"width\":0.5},\"pattern\":{\"fillmode\":\"overlay\",\"size\":10,\"solidity\":0.2}},\"type\":\"bar\"}],\"scattergeo\":[{\"type\":\"scattergeo\",\"marker\":{\"colorbar\":{\"outlinewidth\":0,\"ticks\":\"\"}}}],\"scatterpolar\":[{\"type\":\"scatterpolar\",\"marker\":{\"colorbar\":{\"outlinewidth\":0,\"ticks\":\"\"}}}],\"histogram\":[{\"marker\":{\"pattern\":{\"fillmode\":\"overlay\",\"size\":10,\"solidity\":0.2}},\"type\":\"histogram\"}],\"scattergl\":[{\"type\":\"scattergl\",\"marker\":{\"colorbar\":{\"outlinewidth\":0,\"ticks\":\"\"}}}],\"scatter3d\":[{\"type\":\"scatter3d\",\"line\":{\"colorbar\":{\"outlinewidth\":0,\"ticks\":\"\"}},\"marker\":{\"colorbar\":{\"outlinewidth\":0,\"ticks\":\"\"}}}],\"scattermapbox\":[{\"type\":\"scattermapbox\",\"marker\":{\"colorbar\":{\"outlinewidth\":0,\"ticks\":\"\"}}}],\"scatterternary\":[{\"type\":\"scatterternary\",\"marker\":{\"colorbar\":{\"outlinewidth\":0,\"ticks\":\"\"}}}],\"scattercarpet\":[{\"type\":\"scattercarpet\",\"marker\":{\"colorbar\":{\"outlinewidth\":0,\"ticks\":\"\"}}}],\"carpet\":[{\"aaxis\":{\"endlinecolor\":\"#2a3f5f\",\"gridcolor\":\"white\",\"linecolor\":\"white\",\"minorgridcolor\":\"white\",\"startlinecolor\":\"#2a3f5f\"},\"baxis\":{\"endlinecolor\":\"#2a3f5f\",\"gridcolor\":\"white\",\"linecolor\":\"white\",\"minorgridcolor\":\"white\",\"startlinecolor\":\"#2a3f5f\"},\"type\":\"carpet\"}],\"table\":[{\"cells\":{\"fill\":{\"color\":\"#EBF0F8\"},\"line\":{\"color\":\"white\"}},\"header\":{\"fill\":{\"color\":\"#C8D4E3\"},\"line\":{\"color\":\"white\"}},\"type\":\"table\"}],\"barpolar\":[{\"marker\":{\"line\":{\"color\":\"#E5ECF6\",\"width\":0.5},\"pattern\":{\"fillmode\":\"overlay\",\"size\":10,\"solidity\":0.2}},\"type\":\"barpolar\"}],\"pie\":[{\"automargin\":true,\"type\":\"pie\"}]},\"layout\":{\"autotypenumbers\":\"strict\",\"colorway\":[\"#636efa\",\"#EF553B\",\"#00cc96\",\"#ab63fa\",\"#FFA15A\",\"#19d3f3\",\"#FF6692\",\"#B6E880\",\"#FF97FF\",\"#FECB52\"],\"font\":{\"color\":\"#2a3f5f\"},\"hovermode\":\"closest\",\"hoverlabel\":{\"align\":\"left\"},\"paper_bgcolor\":\"white\",\"plot_bgcolor\":\"#E5ECF6\",\"polar\":{\"bgcolor\":\"#E5ECF6\",\"angularaxis\":{\"gridcolor\":\"white\",\"linecolor\":\"white\",\"ticks\":\"\"},\"radialaxis\":{\"gridcolor\":\"white\",\"linecolor\":\"white\",\"ticks\":\"\"}},\"ternary\":{\"bgcolor\":\"#E5ECF6\",\"aaxis\":{\"gridcolor\":\"white\",\"linecolor\":\"white\",\"ticks\":\"\"},\"baxis\":{\"gridcolor\":\"white\",\"linecolor\":\"white\",\"ticks\":\"\"},\"caxis\":{\"gridcolor\":\"white\",\"linecolor\":\"white\",\"ticks\":\"\"}},\"coloraxis\":{\"colorbar\":{\"outlinewidth\":0,\"ticks\":\"\"}},\"colorscale\":{\"sequential\":[[0.0,\"#0d0887\"],[0.1111111111111111,\"#46039f\"],[0.2222222222222222,\"#7201a8\"],[0.3333333333333333,\"#9c179e\"],[0.4444444444444444,\"#bd3786\"],[0.5555555555555556,\"#d8576b\"],[0.6666666666666666,\"#ed7953\"],[0.7777777777777778,\"#fb9f3a\"],[0.8888888888888888,\"#fdca26\"],[1.0,\"#f0f921\"]],\"sequentialminus\":[[0.0,\"#0d0887\"],[0.1111111111111111,\"#46039f\"],[0.2222222222222222,\"#7201a8\"],[0.3333333333333333,\"#9c179e\"],[0.4444444444444444,\"#bd3786\"],[0.5555555555555556,\"#d8576b\"],[0.6666666666666666,\"#ed7953\"],[0.7777777777777778,\"#fb9f3a\"],[0.8888888888888888,\"#fdca26\"],[1.0,\"#f0f921\"]],\"diverging\":[[0,\"#8e0152\"],[0.1,\"#c51b7d\"],[0.2,\"#de77ae\"],[0.3,\"#f1b6da\"],[0.4,\"#fde0ef\"],[0.5,\"#f7f7f7\"],[0.6,\"#e6f5d0\"],[0.7,\"#b8e186\"],[0.8,\"#7fbc41\"],[0.9,\"#4d9221\"],[1,\"#276419\"]]},\"xaxis\":{\"gridcolor\":\"white\",\"linecolor\":\"white\",\"ticks\":\"\",\"title\":{\"standoff\":15},\"zerolinecolor\":\"white\",\"automargin\":true,\"zerolinewidth\":2},\"yaxis\":{\"gridcolor\":\"white\",\"linecolor\":\"white\",\"ticks\":\"\",\"title\":{\"standoff\":15},\"zerolinecolor\":\"white\",\"automargin\":true,\"zerolinewidth\":2},\"scene\":{\"xaxis\":{\"backgroundcolor\":\"#E5ECF6\",\"gridcolor\":\"white\",\"linecolor\":\"white\",\"showbackground\":true,\"ticks\":\"\",\"zerolinecolor\":\"white\",\"gridwidth\":2},\"yaxis\":{\"backgroundcolor\":\"#E5ECF6\",\"gridcolor\":\"white\",\"linecolor\":\"white\",\"showbackground\":true,\"ticks\":\"\",\"zerolinecolor\":\"white\",\"gridwidth\":2},\"zaxis\":{\"backgroundcolor\":\"#E5ECF6\",\"gridcolor\":\"white\",\"linecolor\":\"white\",\"showbackground\":true,\"ticks\":\"\",\"zerolinecolor\":\"white\",\"gridwidth\":2}},\"shapedefaults\":{\"line\":{\"color\":\"#2a3f5f\"}},\"annotationdefaults\":{\"arrowcolor\":\"#2a3f5f\",\"arrowhead\":0,\"arrowwidth\":1},\"geo\":{\"bgcolor\":\"white\",\"landcolor\":\"#E5ECF6\",\"subunitcolor\":\"white\",\"showland\":true,\"showlakes\":true,\"lakecolor\":\"white\"},\"title\":{\"x\":0.05},\"mapbox\":{\"style\":\"light\"}}},\"xaxis\":{\"anchor\":\"y\",\"domain\":[0.0,1.0],\"side\":\"bottom\",\"type\":\"linear\",\"ticks\":\"outside\",\"showline\":true,\"zeroline\":true,\"linewidth\":1,\"linecolor\":\"black\",\"mirror\":false,\"showexponent\":\"all\",\"exponentformat\":\"e\"},\"yaxis\":{\"anchor\":\"x\",\"domain\":[0.7777777777777778,1.0],\"side\":\"left\",\"type\":\"linear\",\"ticks\":\"outside\",\"showline\":true,\"zeroline\":true,\"linewidth\":1,\"linecolor\":\"black\",\"mirror\":false,\"showexponent\":\"all\",\"exponentformat\":\"e\"},\"xaxis2\":{\"anchor\":\"y2\",\"domain\":[0.0,1.0]},\"yaxis2\":{\"anchor\":\"x2\",\"domain\":[0.3888888888888889,0.6111111111111112]},\"xaxis3\":{\"anchor\":\"y3\",\"domain\":[0.0,1.0]},\"yaxis3\":{\"anchor\":\"x3\",\"domain\":[0.0,0.22222222222222224]},\"annotations\":[{\"font\":{\"size\":16},\"showarrow\":false,\"text\":\"H0\",\"x\":0.5,\"xanchor\":\"center\",\"xref\":\"paper\",\"y\":1.0,\"yanchor\":\"bottom\",\"yref\":\"paper\"},{\"font\":{\"size\":16},\"showarrow\":false,\"text\":\"H1\",\"x\":0.5,\"xanchor\":\"center\",\"xref\":\"paper\",\"y\":0.6111111111111112,\"yanchor\":\"bottom\",\"yref\":\"paper\"},{\"font\":{\"size\":16},\"showarrow\":false,\"text\":\"H2\",\"x\":0.5,\"xanchor\":\"center\",\"xref\":\"paper\",\"y\":0.22222222222222224,\"yanchor\":\"bottom\",\"yref\":\"paper\"}],\"title\":{\"text\":\"Landscape representations of diagram 0\"},\"plot_bgcolor\":\"white\"},                        {\"responsive\": true}                    ).then(function(){\n",
       "                            \n",
       "var gd = document.getElementById('705e0f9e-c351-4417-8d01-6f110686cc74');\n",
       "var x = new MutationObserver(function (mutations, observer) {{\n",
       "        var display = window.getComputedStyle(gd).display;\n",
       "        if (!display || display === 'none') {{\n",
       "            console.log([gd, 'removed!']);\n",
       "            Plotly.purge(gd);\n",
       "            observer.disconnect();\n",
       "        }}\n",
       "}});\n",
       "\n",
       "// Listen for the removal of the full notebook cells\n",
       "var notebookContainer = gd.closest('#notebook-container');\n",
       "if (notebookContainer) {{\n",
       "    x.observe(notebookContainer, {childList: true});\n",
       "}}\n",
       "\n",
       "// Listen for the clearing of the current output cell\n",
       "var outputEl = gd.closest('.output');\n",
       "if (outputEl) {{\n",
       "    x.observe(outputEl, {childList: true});\n",
       "}}\n",
       "\n",
       "                        })                };                });            </script>        </div>"
      ]
     },
     "metadata": {},
     "output_type": "display_data"
    }
   ],
   "source": [
    "persistence_landscape3 = PL.fit_transform(persistence_diagram3)\n",
    "\n",
    "PL.plot(persistence_landscape3)"
   ]
  },
  {
   "cell_type": "code",
   "execution_count": null,
   "id": "edd83d77-4d6c-4dc6-a8bb-e9501bb70c02",
   "metadata": {},
   "outputs": [],
   "source": []
  },
  {
   "cell_type": "code",
   "execution_count": null,
   "id": "248091cf-7245-4d6a-a706-316eee8c613f",
   "metadata": {},
   "outputs": [],
   "source": []
  }
 ],
 "metadata": {
  "kernelspec": {
   "display_name": "Python 3 (ipykernel)",
   "language": "python",
   "name": "python3"
  },
  "language_info": {
   "codemirror_mode": {
    "name": "ipython",
    "version": 3
   },
   "file_extension": ".py",
   "mimetype": "text/x-python",
   "name": "python",
   "nbconvert_exporter": "python",
   "pygments_lexer": "ipython3",
   "version": "3.10.12"
  }
 },
 "nbformat": 4,
 "nbformat_minor": 5
}
